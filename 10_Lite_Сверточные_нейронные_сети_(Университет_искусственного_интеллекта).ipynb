{
  "nbformat": 4,
  "nbformat_minor": 0,
  "metadata": {
    "colab": {
      "name": "10.Lite. Сверточные нейронные сети (Университет искусственного интеллекта)",
      "provenance": [],
      "collapsed_sections": [],
      "machine_shape": "hm",
      "include_colab_link": true
    },
    "kernelspec": {
      "name": "python3",
      "display_name": "Python 3"
    },
    "accelerator": "GPU"
  },
  "cells": [
    {
      "cell_type": "markdown",
      "metadata": {
        "id": "view-in-github",
        "colab_type": "text"
      },
      "source": [
        "<a href=\"https://colab.research.google.com/github/10100111/Display-of-HW1/blob/main/10_Lite_%D0%A1%D0%B2%D0%B5%D1%80%D1%82%D0%BE%D1%87%D0%BD%D1%8B%D0%B5_%D0%BD%D0%B5%D0%B9%D1%80%D0%BE%D0%BD%D0%BD%D1%8B%D0%B5_%D1%81%D0%B5%D1%82%D0%B8_(%D0%A3%D0%BD%D0%B8%D0%B2%D0%B5%D1%80%D1%81%D0%B8%D1%82%D0%B5%D1%82_%D0%B8%D1%81%D0%BA%D1%83%D1%81%D1%81%D1%82%D0%B2%D0%B5%D0%BD%D0%BD%D0%BE%D0%B3%D0%BE_%D0%B8%D0%BD%D1%82%D0%B5%D0%BB%D0%BB%D0%B5%D0%BA%D1%82%D0%B0).ipynb\" target=\"_parent\"><img src=\"https://colab.research.google.com/assets/colab-badge.svg\" alt=\"Open In Colab\"/></a>"
      ]
    },
    {
      "cell_type": "markdown",
      "metadata": {
        "id": "CbzPAqX_4syp"
      },
      "source": [
        "Задание Lite\n",
        "Макс 10 баллов\n",
        "\n",
        "Провести серию экспериментов по подбору гиперпараметров нейронной сети, созданной на занятии (можно использовать любую нейросеть с занятия, либо создать свою свёрточную сеть).\n",
        "\n",
        "Поменять количество нейронов (фильтров) в скрытом сверточном слое и обучить сеть, использовав следующие значения:\n",
        "\n",
        "○ первая сеть - скрытый слой 2 нейрона\n",
        "\n",
        "○ вторая сеть - тот же скрытый слой 4 нейрона\n",
        "\n",
        "○ третья сеть - тот же скрытый слой 16 нейронов\n",
        "\n",
        "Поменять активационную функцию в скрытых слоях с relu на linear\n",
        "Поменять размеры batch_size:\n",
        "\n",
        "○ 10\n",
        "\n",
        "○ 100\n",
        "\n",
        "○ Вся база (50000)\n",
        "\n",
        "Записать в таблицу получившиеся точности.\n",
        "Написать выводы по результатам проведенных тестов.\n",
        " "
      ]
    },
    {
      "cell_type": "code",
      "metadata": {
        "id": "Pxi7uZiX4qX_"
      },
      "source": [
        "from tensorflow.keras.datasets import mnist\n",
        "from tensorflow.keras.datasets import cifar10\n",
        "from tensorflow.keras.datasets import cifar100\n",
        "from tensorflow.keras.models import Sequential\n",
        "from tensorflow.keras.layers import Dense, Conv2D, MaxPooling2D, Flatten, Dropout, BatchNormalization\n",
        "from tensorflow.python.keras.preprocessing.image import ImageDataGenerator\n",
        "from tensorflow.keras.optimizers import Adam, Adadelta\n",
        "from tensorflow.keras import utils\n",
        "from tensorflow.keras.preprocessing import image\n",
        "from google.colab import files\n",
        "import numpy as np\n",
        "import matplotlib.pyplot as plt\n",
        "from PIL import Image\n",
        "import random\n",
        "import math\n",
        "import os\n",
        "from google.colab import drive\n",
        "\n",
        "%matplotlib inline\n",
        "\n"
      ],
      "execution_count": null,
      "outputs": []
    },
    {
      "cell_type": "code",
      "metadata": {
        "id": "92GfFwVWXB7z",
        "colab": {
          "base_uri": "https://localhost:8080/"
        },
        "outputId": "d6fdd062-a8b4-47a5-ec58-61a114e251e9"
      },
      "source": [
        "from google.colab import drive\n",
        "drive.mount('/content/drive')"
      ],
      "execution_count": null,
      "outputs": [
        {
          "output_type": "stream",
          "name": "stdout",
          "text": [
            "Mounted at /content/drive\n"
          ]
        }
      ]
    },
    {
      "cell_type": "markdown",
      "metadata": {
        "id": "7A0tdANyLCPs"
      },
      "source": [
        "# Распознавание изображений из набора данных MNIST \n"
      ]
    },
    {
      "cell_type": "code",
      "metadata": {
        "id": "1xuMgF7D8DuR",
        "colab": {
          "base_uri": "https://localhost:8080/"
        },
        "outputId": "43043b75-fb32-474e-fc1f-fff00cbec1e2"
      },
      "source": [
        "# mnist загрузка базы\n",
        "(x_train, y_train), (x_test, y_test) = mnist.load_data()"
      ],
      "execution_count": null,
      "outputs": [
        {
          "output_type": "stream",
          "name": "stdout",
          "text": [
            "Downloading data from https://storage.googleapis.com/tensorflow/tf-keras-datasets/mnist.npz\n",
            "11493376/11490434 [==============================] - 0s 0us/step\n",
            "11501568/11490434 [==============================] - 0s 0us/step\n"
          ]
        }
      ]
    },
    {
      "cell_type": "code",
      "metadata": {
        "colab": {
          "base_uri": "https://localhost:8080/"
        },
        "id": "yToLXuIF8Dra",
        "outputId": "b15001ed-d0dd-4435-a4d9-aad6c50a7614"
      },
      "source": [
        "x_train.shape"
      ],
      "execution_count": null,
      "outputs": [
        {
          "output_type": "execute_result",
          "data": {
            "text/plain": [
              "(60000, 28, 28)"
            ]
          },
          "metadata": {},
          "execution_count": 4
        }
      ]
    },
    {
      "cell_type": "code",
      "metadata": {
        "colab": {
          "base_uri": "https://localhost:8080/",
          "height": 167
        },
        "id": "KLYcrEvC8Dnu",
        "outputId": "55d46077-bf86-4ac3-c692-f4e794e36759"
      },
      "source": [
        "# Выводим картинки для каждого класса (примеры)\n",
        "fig,axs = plt.subplots(1, 10, figsize=(25, 3))    #создаем полотно из 10 графиков\n",
        "for i in range(10):\n",
        "  label_indexes = np.where(y_train==i)[0]         #получаем список из индексов положений класса i в y_train \n",
        "  index = random.choice(label_indexes)            # выбираем рандомно индекс\n",
        "  img = x_train[index]                            # выбираем картинку из x_train\n",
        "  axs[i].imshow(Image.fromarray(img), cmap='gray') #отображаем картинку i-тым\n",
        "\n",
        "plt.show()                                        #показать картинку"
      ],
      "execution_count": null,
      "outputs": [
        {
          "output_type": "display_data",
          "data": {
            "image/png": "[encoded data removed]",
            "text/plain": [
              "<Figure size 1800x216 with 10 Axes>"
            ]
          },
          "metadata": {
            "needs_background": "light"
          }
        }
      ]
    },
    {
      "cell_type": "code",
      "metadata": {
        "id": "Mjm-SeX78Dk6"
      },
      "source": [
        "# преобразуем y_train, y_test в ohe\n",
        "y_train = utils.to_categorical(y_train,10)\n",
        "y_test = utils.to_categorical(y_test, 10)\n"
      ],
      "execution_count": null,
      "outputs": []
    },
    {
      "cell_type": "code",
      "metadata": {
        "colab": {
          "base_uri": "https://localhost:8080/"
        },
        "id": "9wP_UFua8DhP",
        "outputId": "110b56a4-eec6-4abb-c80c-fad17ad8c90b"
      },
      "source": [
        "#меняем размерность, добавляем в конце 1, чтобы сверточная сеть понимала, что это черно-белые\n",
        "x_train = x_train.reshape(x_train.shape[0], 28, 28, 1)\n",
        "x_test = x_test.reshape(x_test.shape[0], 28, 28, 1)\n",
        "# проверим размерность и глянем на правильных ответах\n",
        "print(x_train.shape)\n",
        "print(x_test.shape)\n",
        "print(y_train.shape)\n",
        "print(y_test.shape)\n"
      ],
      "execution_count": null,
      "outputs": [
        {
          "output_type": "stream",
          "name": "stdout",
          "text": [
            "(60000, 28, 28, 1)\n",
            "(10000, 28, 28, 1)\n",
            "(60000, 10)\n",
            "(10000, 10)\n"
          ]
        }
      ]
    },
    {
      "cell_type": "markdown",
      "metadata": {
        "id": "ktMXeyGH3mab"
      },
      "source": [
        "# Функция создания сети + обучение в цикле :\n",
        "- 2, 4, 16 неронов\n",
        "- активация 'linear', 'relu'\n",
        "- batch_size : 1000, 100, 10 . Здесь не хватило ресурса для batch_size = 50000"
      ]
    },
    {
      "cell_type": "code",
      "metadata": {
        "id": "9UNqDNRC3s9B"
      },
      "source": [
        "# Функция создания сети\n",
        "\n",
        "def createModel(n, act):\n",
        "  model = Sequential()\n",
        "\n",
        "  #Первый сверточный слой\n",
        "  model.add(Conv2D(32, (3, 3), input_shape=(28, 28, 1), padding='same', activation= act))\n",
        "\n",
        "  #второй сверточный слой\n",
        "  model.add(Conv2D(n, (3, 3), padding = 'same', activation = act))\n",
        "\n",
        "  #Полносвязный слой для классификации\n",
        "  model.add(Dense(40, activation= act))\n",
        "\n",
        "  model.add(Flatten())\n",
        "\n",
        "  #выходной полносвязный слой\n",
        "  model.add(Dense(10, activation='softmax'))\n",
        "\n",
        "  #компилируем сеть\n",
        "  model.compile(loss = 'categorical_crossentropy', optimizer = 'adam', metrics = ['accuracy'])\n",
        "  \n",
        "  return model"
      ],
      "execution_count": null,
      "outputs": []
    },
    {
      "cell_type": "code",
      "metadata": {
        "id": "BDPYem_1ECtm"
      },
      "source": [
        "def RunModel(batch_s):                                                          #Создаем функцию обучения и обработки тестовых данных\n",
        "  \n",
        "  history= model.fit(x_train, \n",
        "                    y_train, \n",
        "                    batch_size=batch_s, \n",
        "                    epochs=15,\n",
        "                    validation_split=0.1,                                       #Делаем проверочную выборку 10% от обучающей\n",
        "                    verbose=0)\n",
        " \n",
        " # Вычисляем результаты сети на тестовом наборе\n",
        "# scores состоит из двух знанчений\n",
        "# scores[0] - loss сети на тестовой выборке\n",
        "# scores[1] - процент правильно распознанных примеров на тестовой выборке\n",
        "  scores = model.evaluate(x_test, y_test, verbose=0)\n",
        "\n",
        " # print(scores)\n",
        "  print(\"кол-во нейронов в скрытом слое: \", n)\n",
        "  print(\"activation: \", act)\n",
        "  print(\"batch_size: \", batch_s)\n",
        "  print(\"Доля верных ответов на тестовых данных, в процентах: \", round(scores[1] * 100, 4), \"%\", sep=\"\")\n",
        "\n",
        "  if round(scores[1] * 100, 4) > 95 :                                           #Просим сохранить модели НС, которые дали результат более 95%\n",
        "    model.save_weights(str(act)+'_'+str(n) + '_' + str(batch_s) + '_' + 'model_weights.h5')"
      ],
      "execution_count": null,
      "outputs": []
    },
    {
      "cell_type": "code",
      "metadata": {
        "colab": {
          "base_uri": "https://localhost:8080/"
        },
        "id": "hZt2k3EdCFV_",
        "outputId": "d6e10e1d-4351-4d97-ccd5-0932ad14696c"
      },
      "source": [
        "for n in [2, 4, 16]:                         #Запускаем в цикле создание НС , в списке указываем кол-во нейронов во внутреннем слое\n",
        "  for act in ['linear', 'relu']:             #Далее обходим список с типом активации для каждой модели\n",
        "    createModel(n, act)                      #Запускаем функцию создания модели, где обозначаем переменной n=кол-во нейронов, act=способ активации     \n",
        "    for batch_s in [1000, 100, 10]:          #Далее для обучения обходим список из 3х вариантов batch_size (первый показатель взят исходя из ресурсов colab, 50 000 - не получилось применить)\n",
        "      for number in range(3):                #Делаем три запуска, для определения лучшего результата по каждому эксперименту\n",
        "        RunModel(batch_s)                    #Запускаем функцию обучения и обработки тестовых данных\n"
      ],
      "execution_count": null,
      "outputs": [
        {
          "output_type": "stream",
          "name": "stdout",
          "text": [
            "кол-во нейронов в скрытом слое:  2\n",
            "activation:  linear\n",
            "batch_size:  1000\n",
            "Доля верных ответов на тестовых данных, в процентах: 96.71%\n",
            "кол-во нейронов в скрытом слое:  2\n",
            "activation:  linear\n",
            "batch_size:  1000\n",
            "Доля верных ответов на тестовых данных, в процентах: 96.68%\n",
            "кол-во нейронов в скрытом слое:  2\n",
            "activation:  linear\n",
            "batch_size:  1000\n",
            "Доля верных ответов на тестовых данных, в процентах: 96.67%\n",
            "кол-во нейронов в скрытом слое:  2\n",
            "activation:  linear\n",
            "batch_size:  100\n",
            "Доля верных ответов на тестовых данных, в процентах: 96.0%\n",
            "кол-во нейронов в скрытом слое:  2\n",
            "activation:  linear\n",
            "batch_size:  100\n",
            "Доля верных ответов на тестовых данных, в процентах: 96.56%\n",
            "кол-во нейронов в скрытом слое:  2\n",
            "activation:  linear\n",
            "batch_size:  100\n",
            "Доля верных ответов на тестовых данных, в процентах: 96.25%\n",
            "кол-во нейронов в скрытом слое:  2\n",
            "activation:  linear\n",
            "batch_size:  10\n",
            "Доля верных ответов на тестовых данных, в процентах: 96.15%\n",
            "кол-во нейронов в скрытом слое:  2\n",
            "activation:  linear\n",
            "batch_size:  10\n",
            "Доля верных ответов на тестовых данных, в процентах: 96.05%\n",
            "кол-во нейронов в скрытом слое:  2\n",
            "activation:  linear\n",
            "batch_size:  10\n",
            "Доля верных ответов на тестовых данных, в процентах: 96.46%\n",
            "кол-во нейронов в скрытом слое:  2\n",
            "activation:  relu\n",
            "batch_size:  1000\n",
            "Доля верных ответов на тестовых данных, в процентах: 96.47%\n",
            "кол-во нейронов в скрытом слое:  2\n",
            "activation:  relu\n",
            "batch_size:  1000\n",
            "Доля верных ответов на тестовых данных, в процентах: 96.44%\n",
            "кол-во нейронов в скрытом слое:  2\n",
            "activation:  relu\n",
            "batch_size:  1000\n",
            "Доля верных ответов на тестовых данных, в процентах: 96.44%\n",
            "кол-во нейронов в скрытом слое:  2\n",
            "activation:  relu\n",
            "batch_size:  100\n",
            "Доля верных ответов на тестовых данных, в процентах: 96.53%\n",
            "кол-во нейронов в скрытом слое:  2\n",
            "activation:  relu\n",
            "batch_size:  100\n",
            "Доля верных ответов на тестовых данных, в процентах: 96.57%\n",
            "кол-во нейронов в скрытом слое:  2\n",
            "activation:  relu\n",
            "batch_size:  100\n",
            "Доля верных ответов на тестовых данных, в процентах: 96.6%\n",
            "кол-во нейронов в скрытом слое:  2\n",
            "activation:  relu\n",
            "batch_size:  10\n",
            "Доля верных ответов на тестовых данных, в процентах: 96.36%\n",
            "кол-во нейронов в скрытом слое:  2\n",
            "activation:  relu\n",
            "batch_size:  10\n",
            "Доля верных ответов на тестовых данных, в процентах: 96.33%\n",
            "кол-во нейронов в скрытом слое:  2\n",
            "activation:  relu\n",
            "batch_size:  10\n",
            "Доля верных ответов на тестовых данных, в процентах: 95.89%\n",
            "кол-во нейронов в скрытом слое:  4\n",
            "activation:  linear\n",
            "batch_size:  1000\n",
            "Доля верных ответов на тестовых данных, в процентах: 96.39%\n",
            "кол-во нейронов в скрытом слое:  4\n",
            "activation:  linear\n",
            "batch_size:  1000\n",
            "Доля верных ответов на тестовых данных, в процентах: 96.42%\n",
            "кол-во нейронов в скрытом слое:  4\n",
            "activation:  linear\n",
            "batch_size:  1000\n",
            "Доля верных ответов на тестовых данных, в процентах: 96.41%\n",
            "кол-во нейронов в скрытом слое:  4\n",
            "activation:  linear\n",
            "batch_size:  100\n",
            "Доля верных ответов на тестовых данных, в процентах: 96.41%\n",
            "кол-во нейронов в скрытом слое:  4\n",
            "activation:  linear\n",
            "batch_size:  100\n",
            "Доля верных ответов на тестовых данных, в процентах: 96.53%\n",
            "кол-во нейронов в скрытом слое:  4\n",
            "activation:  linear\n",
            "batch_size:  100\n",
            "Доля верных ответов на тестовых данных, в процентах: 96.57%\n",
            "кол-во нейронов в скрытом слое:  4\n",
            "activation:  linear\n",
            "batch_size:  10\n",
            "Доля верных ответов на тестовых данных, в процентах: 96.31%\n",
            "кол-во нейронов в скрытом слое:  4\n",
            "activation:  linear\n",
            "batch_size:  10\n",
            "Доля верных ответов на тестовых данных, в процентах: 96.28%\n",
            "кол-во нейронов в скрытом слое:  4\n",
            "activation:  linear\n",
            "batch_size:  10\n",
            "Доля верных ответов на тестовых данных, в процентах: 96.41%\n",
            "кол-во нейронов в скрытом слое:  4\n",
            "activation:  relu\n",
            "batch_size:  1000\n",
            "Доля верных ответов на тестовых данных, в процентах: 96.52%\n",
            "кол-во нейронов в скрытом слое:  4\n",
            "activation:  relu\n",
            "batch_size:  1000\n",
            "Доля верных ответов на тестовых данных, в процентах: 96.53%\n",
            "кол-во нейронов в скрытом слое:  4\n",
            "activation:  relu\n",
            "batch_size:  1000\n",
            "Доля верных ответов на тестовых данных, в процентах: 96.53%\n",
            "кол-во нейронов в скрытом слое:  4\n",
            "activation:  relu\n",
            "batch_size:  100\n",
            "Доля верных ответов на тестовых данных, в процентах: 96.49%\n",
            "кол-во нейронов в скрытом слое:  4\n",
            "activation:  relu\n",
            "batch_size:  100\n",
            "Доля верных ответов на тестовых данных, в процентах: 96.49%\n",
            "кол-во нейронов в скрытом слое:  4\n",
            "activation:  relu\n",
            "batch_size:  100\n",
            "Доля верных ответов на тестовых данных, в процентах: 96.47%\n",
            "кол-во нейронов в скрытом слое:  4\n",
            "activation:  relu\n",
            "batch_size:  10\n",
            "Доля верных ответов на тестовых данных, в процентах: 95.9%\n",
            "кол-во нейронов в скрытом слое:  4\n",
            "activation:  relu\n",
            "batch_size:  10\n",
            "Доля верных ответов на тестовых данных, в процентах: 96.16%\n",
            "кол-во нейронов в скрытом слое:  4\n",
            "activation:  relu\n",
            "batch_size:  10\n",
            "Доля верных ответов на тестовых данных, в процентах: 95.99%\n",
            "кол-во нейронов в скрытом слое:  16\n",
            "activation:  linear\n",
            "batch_size:  1000\n",
            "Доля верных ответов на тестовых данных, в процентах: 96.28%\n",
            "кол-во нейронов в скрытом слое:  16\n",
            "activation:  linear\n",
            "batch_size:  1000\n",
            "Доля верных ответов на тестовых данных, в процентах: 96.27%\n",
            "кол-во нейронов в скрытом слое:  16\n",
            "activation:  linear\n",
            "batch_size:  1000\n",
            "Доля верных ответов на тестовых данных, в процентах: 96.27%\n",
            "кол-во нейронов в скрытом слое:  16\n",
            "activation:  linear\n",
            "batch_size:  100\n",
            "Доля верных ответов на тестовых данных, в процентах: 96.23%\n",
            "кол-во нейронов в скрытом слое:  16\n",
            "activation:  linear\n",
            "batch_size:  100\n",
            "Доля верных ответов на тестовых данных, в процентах: 96.23%\n",
            "кол-во нейронов в скрытом слое:  16\n",
            "activation:  linear\n",
            "batch_size:  100\n",
            "Доля верных ответов на тестовых данных, в процентах: 96.27%\n",
            "кол-во нейронов в скрытом слое:  16\n",
            "activation:  linear\n",
            "batch_size:  10\n",
            "Доля верных ответов на тестовых данных, в процентах: 96.19%\n",
            "кол-во нейронов в скрытом слое:  16\n",
            "activation:  linear\n",
            "batch_size:  10\n",
            "Доля верных ответов на тестовых данных, в процентах: 96.2%\n",
            "кол-во нейронов в скрытом слое:  16\n",
            "activation:  linear\n",
            "batch_size:  10\n",
            "Доля верных ответов на тестовых данных, в процентах: 96.19%\n",
            "кол-во нейронов в скрытом слое:  16\n",
            "activation:  relu\n",
            "batch_size:  1000\n",
            "Доля верных ответов на тестовых данных, в процентах: 96.17%\n",
            "кол-во нейронов в скрытом слое:  16\n",
            "activation:  relu\n",
            "batch_size:  1000\n",
            "Доля верных ответов на тестовых данных, в процентах: 96.16%\n",
            "кол-во нейронов в скрытом слое:  16\n",
            "activation:  relu\n",
            "batch_size:  1000\n",
            "Доля верных ответов на тестовых данных, в процентах: 96.17%\n",
            "кол-во нейронов в скрытом слое:  16\n",
            "activation:  relu\n",
            "batch_size:  100\n",
            "Доля верных ответов на тестовых данных, в процентах: 96.17%\n",
            "кол-во нейронов в скрытом слое:  16\n",
            "activation:  relu\n",
            "batch_size:  100\n",
            "Доля верных ответов на тестовых данных, в процентах: 96.15%\n",
            "кол-во нейронов в скрытом слое:  16\n",
            "activation:  relu\n",
            "batch_size:  100\n",
            "Доля верных ответов на тестовых данных, в процентах: 96.21%\n",
            "кол-во нейронов в скрытом слое:  16\n",
            "activation:  relu\n",
            "batch_size:  10\n",
            "Доля верных ответов на тестовых данных, в процентах: 96.33%\n",
            "кол-во нейронов в скрытом слое:  16\n",
            "activation:  relu\n",
            "batch_size:  10\n",
            "Доля верных ответов на тестовых данных, в процентах: 96.13%\n",
            "кол-во нейронов в скрытом слое:  16\n",
            "activation:  relu\n",
            "batch_size:  10\n",
            "Доля верных ответов на тестовых данных, в процентах: 96.26%\n"
          ]
        }
      ]
    },
    {
      "cell_type": "code",
      "metadata": {
        "colab": {
          "base_uri": "https://localhost:8080/",
          "height": 232
        },
        "id": "vly6CvhbEc_R",
        "outputId": "6428e05a-5ecd-42a3-883e-6a4c8728a8a4"
      },
      "source": [
        "# Таблица результатов точности на тестовой выборке , %\n",
        "import pandas as pd\n",
        "columns = ['Наименование эксперимента', '2 нейрона скрытый слой', '4 нейрона скрытый слой', '16 нейронов скрытый слой']\n",
        "data = [['activation = linear, batch_size = 1000', 96.71, 96.42, 96.28],\n",
        "        ['activation = linear, batch_size = 100', 96.56, 96.57, 96.27], \n",
        "        ['activation = linear, batch_size = 10', 96.46, 96.41, 96.19],\n",
        "       ['activation = relu, batch_size = 1000', 96.53, 96.53, 96.17],\n",
        "       ['activation = relu, batch_size = 100', 96.6, 96.49, 96.21],\n",
        "        ['activation = relu, batch_size = 10', 96.36, 96.16, 96.33]]\n",
        "df = pd.DataFrame(data, columns = columns)\n",
        "df"
      ],
      "execution_count": null,
      "outputs": [
        {
          "output_type": "execute_result",
          "data": {
            "text/html": [
              "<div>\n",
              "<style scoped>\n",
              "    .dataframe tbody tr th:only-of-type {\n",
              "        vertical-align: middle;\n",
              "    }\n",
              "\n",
              "    .dataframe tbody tr th {\n",
              "        vertical-align: top;\n",
              "    }\n",
              "\n",
              "    .dataframe thead th {\n",
              "        text-align: right;\n",
              "    }\n",
              "</style>\n",
              "<table border=\"1\" class=\"dataframe\">\n",
              "  <thead>\n",
              "    <tr style=\"text-align: right;\">\n",
              "      <th></th>\n",
              "      <th>Наименование эксперимента</th>\n",
              "      <th>2 нейрона скрытый слой</th>\n",
              "      <th>4 нейрона скрытый слой</th>\n",
              "      <th>16 нейронов скрытый слой</th>\n",
              "    </tr>\n",
              "  </thead>\n",
              "  <tbody>\n",
              "    <tr>\n",
              "      <th>0</th>\n",
              "      <td>activation = linear, batch_size = 1000</td>\n",
              "      <td>96.71</td>\n",
              "      <td>96.42</td>\n",
              "      <td>96.28</td>\n",
              "    </tr>\n",
              "    <tr>\n",
              "      <th>1</th>\n",
              "      <td>activation = linear, batch_size = 100</td>\n",
              "      <td>96.56</td>\n",
              "      <td>96.57</td>\n",
              "      <td>96.27</td>\n",
              "    </tr>\n",
              "    <tr>\n",
              "      <th>2</th>\n",
              "      <td>activation = linear, batch_size = 10</td>\n",
              "      <td>96.46</td>\n",
              "      <td>96.41</td>\n",
              "      <td>96.19</td>\n",
              "    </tr>\n",
              "    <tr>\n",
              "      <th>3</th>\n",
              "      <td>activation = relu, batch_size = 1000</td>\n",
              "      <td>96.53</td>\n",
              "      <td>96.53</td>\n",
              "      <td>96.17</td>\n",
              "    </tr>\n",
              "    <tr>\n",
              "      <th>4</th>\n",
              "      <td>activation = relu, batch_size = 100</td>\n",
              "      <td>96.60</td>\n",
              "      <td>96.49</td>\n",
              "      <td>96.21</td>\n",
              "    </tr>\n",
              "    <tr>\n",
              "      <th>5</th>\n",
              "      <td>activation = relu, batch_size = 10</td>\n",
              "      <td>96.36</td>\n",
              "      <td>96.16</td>\n",
              "      <td>96.33</td>\n",
              "    </tr>\n",
              "  </tbody>\n",
              "</table>\n",
              "</div>"
            ],
            "text/plain": [
              "                Наименование эксперимента  ...  16 нейронов скрытый слой\n",
              "0  activation = linear, batch_size = 1000  ...                     96.28\n",
              "1   activation = linear, batch_size = 100  ...                     96.27\n",
              "2    activation = linear, batch_size = 10  ...                     96.19\n",
              "3    activation = relu, batch_size = 1000  ...                     96.17\n",
              "4     activation = relu, batch_size = 100  ...                     96.21\n",
              "5      activation = relu, batch_size = 10  ...                     96.33\n",
              "\n",
              "[6 rows x 4 columns]"
            ]
          },
          "metadata": {},
          "execution_count": 3
        }
      ]
    },
    {
      "cell_type": "code",
      "metadata": {
        "colab": {
          "base_uri": "https://localhost:8080/",
          "height": 294
        },
        "id": "zEEcUFHUEckR",
        "outputId": "87bbb320-1f40-4469-9ecb-a9309c3a522e"
      },
      "source": [
        "df.describe()"
      ],
      "execution_count": null,
      "outputs": [
        {
          "output_type": "execute_result",
          "data": {
            "text/html": [
              "<div>\n",
              "<style scoped>\n",
              "    .dataframe tbody tr th:only-of-type {\n",
              "        vertical-align: middle;\n",
              "    }\n",
              "\n",
              "    .dataframe tbody tr th {\n",
              "        vertical-align: top;\n",
              "    }\n",
              "\n",
              "    .dataframe thead th {\n",
              "        text-align: right;\n",
              "    }\n",
              "</style>\n",
              "<table border=\"1\" class=\"dataframe\">\n",
              "  <thead>\n",
              "    <tr style=\"text-align: right;\">\n",
              "      <th></th>\n",
              "      <th>2 нейрона скрытый слой</th>\n",
              "      <th>4 нейрона скрытый слой</th>\n",
              "      <th>16 нейронов скрытый слой</th>\n",
              "    </tr>\n",
              "  </thead>\n",
              "  <tbody>\n",
              "    <tr>\n",
              "      <th>count</th>\n",
              "      <td>6.000000</td>\n",
              "      <td>6.000000</td>\n",
              "      <td>6.000000</td>\n",
              "    </tr>\n",
              "    <tr>\n",
              "      <th>mean</th>\n",
              "      <td>96.536667</td>\n",
              "      <td>96.430000</td>\n",
              "      <td>96.241667</td>\n",
              "    </tr>\n",
              "    <tr>\n",
              "      <th>std</th>\n",
              "      <td>0.119778</td>\n",
              "      <td>0.146014</td>\n",
              "      <td>0.061455</td>\n",
              "    </tr>\n",
              "    <tr>\n",
              "      <th>min</th>\n",
              "      <td>96.360000</td>\n",
              "      <td>96.160000</td>\n",
              "      <td>96.170000</td>\n",
              "    </tr>\n",
              "    <tr>\n",
              "      <th>25%</th>\n",
              "      <td>96.477500</td>\n",
              "      <td>96.412500</td>\n",
              "      <td>96.195000</td>\n",
              "    </tr>\n",
              "    <tr>\n",
              "      <th>50%</th>\n",
              "      <td>96.545000</td>\n",
              "      <td>96.455000</td>\n",
              "      <td>96.240000</td>\n",
              "    </tr>\n",
              "    <tr>\n",
              "      <th>75%</th>\n",
              "      <td>96.590000</td>\n",
              "      <td>96.520000</td>\n",
              "      <td>96.277500</td>\n",
              "    </tr>\n",
              "    <tr>\n",
              "      <th>max</th>\n",
              "      <td>96.710000</td>\n",
              "      <td>96.570000</td>\n",
              "      <td>96.330000</td>\n",
              "    </tr>\n",
              "  </tbody>\n",
              "</table>\n",
              "</div>"
            ],
            "text/plain": [
              "       2 нейрона скрытый слой  4 нейрона скрытый слой  16 нейронов скрытый слой\n",
              "count                6.000000                6.000000                  6.000000\n",
              "mean                96.536667               96.430000                 96.241667\n",
              "std                  0.119778                0.146014                  0.061455\n",
              "min                 96.360000               96.160000                 96.170000\n",
              "25%                 96.477500               96.412500                 96.195000\n",
              "50%                 96.545000               96.455000                 96.240000\n",
              "75%                 96.590000               96.520000                 96.277500\n",
              "max                 96.710000               96.570000                 96.330000"
            ]
          },
          "metadata": {},
          "execution_count": 4
        }
      ]
    },
    {
      "cell_type": "markdown",
      "metadata": {
        "id": "oVTpm8HXr9Tl"
      },
      "source": [
        "Вывод: Неожиданно , но лучше всех отработала нейронка со крытым слоем в 2 нейрона. Здесь самые высокие показатели точности практически во всех экспериментах. Также стоит отметить здесь дисперсия результатов точности небольшая, данные близки по значению во всех экспериментах. \n",
        "Наименьшая точность достигнута на нейронке со скрытым слоем 16 нейронов, что также удивило :)\n",
        "Резюме: начинать моделирование от простого к сложному, касательно архитектуры. На больших базах хорошо работает большой batch_size. Способ активации linear сработал немного лучше , чем relu в задаче классификации изображений.\n",
        "\n",
        "Примечание: Поскольку был выделен недостаточный ресурс в colab, код обрабатывался очень долго и не получилось взять пакет на 50000 для batch_size."
      ]
    }
  ]
}