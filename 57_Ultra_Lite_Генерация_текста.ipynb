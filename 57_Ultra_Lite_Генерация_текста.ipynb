{
  "nbformat": 4,
  "nbformat_minor": 0,
  "metadata": {
    "colab": {
      "provenance": [],
      "machine_shape": "hm",
      "collapsed_sections": [],
      "include_colab_link": true
    },
    "kernelspec": {
      "name": "python3",
      "display_name": "Python 3"
    },
    "language_info": {
      "name": "python"
    },
    "accelerator": "TPU",
    "gpuClass": "premium"
  },
  "cells": [
    {
      "cell_type": "markdown",
      "metadata": {
        "id": "view-in-github",
        "colab_type": "text"
      },
      "source": [
        "<a href=\"https://colab.research.google.com/github/10100111/Display-of-HW1/blob/main/57_Ultra_Lite_%D0%93%D0%B5%D0%BD%D0%B5%D1%80%D0%B0%D1%86%D0%B8%D1%8F_%D1%82%D0%B5%D0%BA%D1%81%D1%82%D0%B0.ipynb\" target=\"_parent\"><img src=\"https://colab.research.google.com/assets/colab-badge.svg\" alt=\"Open In Colab\"/></a>"
      ]
    },
    {
      "cell_type": "markdown",
      "source": [
        "Задание Ultra Lite\n",
        "\n",
        "Макс 10 баллов\n",
        "\n",
        "Перепишите сеть для генерации текста с нуля в новом ноутбуке. Можно подсматривать в ноутбук занятия, но крайне желательно писать код своими руками, а не копировать."
      ],
      "metadata": {
        "id": "Z3X-kKNCXRy4"
      }
    },
    {
      "cell_type": "markdown",
      "source": [
        "# Загрузка библиотек"
      ],
      "metadata": {
        "id": "PoSGDbx0XfPe"
      }
    },
    {
      "cell_type": "code",
      "source": [
        "from google.colab import files # модуль для загрузки файлов в колаб\n",
        "import numpy as np\n",
        "\n",
        "from tensorflow.keras.models import Model, load_model # подгружаем абстрактный класс базовой модели, метод загрузки предобученной модели\n",
        "from tensorflow.keras.layers import Dense, Embedding, LSTM, Input\n",
        "from tensorflow.keras.optimizers import RMSprop, Adadelta\n",
        "from tensorflow.keras.preprocessing.sequence import pad_sequences # метод ограничения последовательностей заданной длиной\n",
        "from tensorflow.keras.preprocessing.text import Tokenizer # токенизатор для обработки текста\n",
        "from tensorflow.keras import utils # утилиты кераса для OHE \n",
        "from tensorflow.keras.utils import plot_model # удобный график для визуализации архитектуры модели\n",
        "\n",
        "import yaml # модуль для удобной работы с файлами"
      ],
      "metadata": {
        "id": "5U7IesZgXVy0"
      },
      "execution_count": null,
      "outputs": []
    },
    {
      "cell_type": "code",
      "source": [
        "from google.colab import drive\n",
        "drive.mount('/content/drive')"
      ],
      "metadata": {
        "colab": {
          "base_uri": "https://localhost:8080/"
        },
        "id": "HRLgokkbaJof",
        "outputId": "37baa97d-717e-4f8e-d5a3-e40832f9ddc6"
      },
      "execution_count": null,
      "outputs": [
        {
          "output_type": "stream",
          "name": "stdout",
          "text": [
            "Drive already mounted at /content/drive; to attempt to forcibly remount, call drive.mount(\"/content/drive\", force_remount=True).\n"
          ]
        }
      ]
    },
    {
      "cell_type": "markdown",
      "source": [
        "# Парсинг данных"
      ],
      "metadata": {
        "id": "eoq31L7ZbZa5"
      }
    },
    {
      "cell_type": "code",
      "source": [
        "'''\n",
        "Открываем файл  диалогами\n",
        "'''\n",
        "corpus = open('/content/drive/MyDrive/Базы/Диалоги(рассказы)_censored.yml','r') # открываем файл с диалогами в режиме чтения\n",
        "document = yaml.safe_load(corpus) # загружаем файл *глоссарий\n",
        "conversations = document['разговоры'] # загружаем диалоги из файла из блока \"разговоры\" и заносим в conversations\n",
        "print('Количество пар вопрос-ответ: {}'.format(len(conversations)))\n",
        "print('Пример диалога : {}'.format(conversations[777]))"
      ],
      "metadata": {
        "colab": {
          "base_uri": "https://localhost:8080/"
        },
        "id": "aYVCIdqBbWiE",
        "outputId": "74a0bb65-2690-4733-f770-eca698cee738"
      },
      "execution_count": null,
      "outputs": [
        {
          "output_type": "stream",
          "name": "stdout",
          "text": [
            "Количество пар вопрос-ответ: 11893\n",
            "Пример диалога : ['Почему решили, что надо именно это?', 'Догадался.']\n"
          ]
        }
      ]
    },
    {
      "cell_type": "code",
      "source": [
        "'''\n",
        "Разбираем вопросы и ответы с проставлением тегов ответам\n",
        "'''\n",
        "# Собираем вопросы и ответы в списки \n",
        "questions = list() # здесь будет список вопросов\n",
        "answers = list() # здесь будет список ответов\n",
        "\n",
        "# В каждом диалоге берем фразу и добавляем в лист\n",
        "# Если в ответе не одна фраза, то сцепляем сколько есть\n",
        "for con in conversations:     # для каждой пары вопро-ответ\n",
        "  if len(con) > 2:            # если ответ содержит более 2 предложений (к-во реплик, к-во вариантов ответов)  \n",
        "    questions.append(con[0])  # то вопросительную реплику отправляем в список вопросов\n",
        "    replies = con[1:]         # а ответную составляем из соответствующих строк\n",
        "    ans = ''                  # здесь соберем ответ\n",
        "    for rep in replies:       # каждую реплику в ответной реплике \n",
        "      ans += ' ' + rep        \n",
        "    answers.append(ans)       # добавим в список ответов\n",
        "  elif len(con) > 1:          # если на 1 вопрос приходится 1 ответ\n",
        "    questions.append(con[0])  # то вопросительную реплику отправляем в список вопросов\n",
        "    answers.append(con[1])    # а ответную в список ответов\n",
        "\n",
        "# Очищаем строки с неопределенным типом ответов\n",
        "answerCleaned = list() \n",
        "for i in range(len(answers)):\n",
        "  if type(answers[i]) == str:\n",
        "    answerCleaned.append(answers[i]) # если тип - строка, то добавляем в ответы\n",
        "  else:\n",
        "    questions.pop(i)                 # если не строка, то ответ не добавился, и плюс убираем соответствующий вопрос\n",
        "\n",
        "# Сделаем теги-метки для начала и конца ответов\n",
        "answers = list()\n",
        "for i in range(len(answerCleaned)):\n",
        "  answers.append('<START>' + answerCleaned[i] + '<END>')\n",
        "\n",
        "# Выведем обновленные данные на экран\n",
        "print('Вопрос: {}'.format(questions[888]))\n",
        "print('Ответ: {}'.format(answers[888]))\n",
        "    "
      ],
      "metadata": {
        "colab": {
          "base_uri": "https://localhost:8080/"
        },
        "id": "5k3m2DiweZzu",
        "outputId": "db1349ad-fc72-4e2d-fdb3-00e586a3a3d7"
      },
      "execution_count": null,
      "outputs": [
        {
          "output_type": "stream",
          "name": "stdout",
          "text": [
            "Вопрос: Толя, проверь, все?\n",
            "Ответ: <START>Все, товарищ командир!<END>\n"
          ]
        }
      ]
    },
    {
      "cell_type": "code",
      "source": [
        "'''\n",
        "Подключаем керасовский токенайзер и собираем словарь индексов\n",
        "'''\n",
        "tokenizer = Tokenizer()\n",
        "tokenizer.fit_on_texts(questions + answers)          # загружаем в токенизатор список вопросов-ответов для сборки словаря частотности\n",
        "vocabularyItems = list(tokenizer.word_index.items()) # список с содержимым словаря\n",
        "vocabularySize = len(vocabularyItems)+1              # размер словаря\n",
        "print('Фрагмент словаря: {}'.format(vocabularyItems[:50]))\n",
        "print('Размер словаря: {}'.format(vocabularySize))"
      ],
      "metadata": {
        "colab": {
          "base_uri": "https://localhost:8080/"
        },
        "id": "nES2J0a7uF7A",
        "outputId": "9db09973-410e-4967-871b-55a9966688de"
      },
      "execution_count": null,
      "outputs": [
        {
          "output_type": "stream",
          "name": "stdout",
          "text": [
            "Фрагмент словаря: [('start', 1), ('end', 2), ('что', 3), ('не', 4), ('я', 5), ('а', 6), ('ты', 7), ('это', 8), ('да', 9), ('в', 10), ('нет', 11), ('как', 12), ('и', 13), ('вы', 14), ('ну', 15), ('с', 16), ('на', 17), ('же', 18), ('так', 19), ('он', 20), ('у', 21), ('кто', 22), ('где', 23), ('все', 24), ('мы', 25), ('то', 26), ('мне', 27), ('тебя', 28), ('меня', 29), ('здесь', 30), ('еще', 31), ('почему', 32), ('о', 33), ('тебе', 34), ('там', 35), ('есть', 36), ('его', 37), ('за', 38), ('куда', 39), ('вот', 40), ('ничего', 41), ('вас', 42), ('знаю', 43), ('чем', 44), ('но', 45), ('она', 46), ('они', 47), ('ли', 48), ('чего', 49), ('вам', 50)]\n",
            "Размер словаря: 15092\n"
          ]
        }
      ]
    },
    {
      "cell_type": "markdown",
      "source": [
        "# Подготовка выборки"
      ],
      "metadata": {
        "id": "fqPOyBW4v-1o"
      }
    },
    {
      "cell_type": "code",
      "source": [
        "'''\n",
        "Устанавливаем закодированные входные данные (вопросы)\n",
        "'''\n",
        "tokenizedQuestions = tokenizer.texts_to_sequences(questions) # разбиваем текст вопросов на последовательности индексов\n",
        "maxLenQuestions = max([len(x) for x in tokenizedQuestions]) # уточняем длину самого большого вопроса\n",
        "# Делаем  последовательности одной длины, заполняя нулями более короткие вопросы\n",
        "paddedQuestions = pad_sequences(tokenizedQuestions, maxlen=maxLenQuestions, padding='post')\n",
        "\n",
        "# Предподготавливаем данные для входа в сеть\n",
        "encoderForInput = paddedQuestions\n",
        "print('Пример оригинального вопроса на вход: {}'.format(questions[100]))\n",
        "print('Пример кодированного вопроса на вход: {}'.format(encoderForInput[100]))\n",
        "print('Размеры закодированного массива на вход: {}'.format(encoderForInput.shape))\n",
        "print('Установленная длина вопросов на вход: {}'.format(maxLenQuestions))"
      ],
      "metadata": {
        "colab": {
          "base_uri": "https://localhost:8080/"
        },
        "id": "O8OyiW9Kv8Pg",
        "outputId": "2e302820-c2e5-41bf-dc3c-662eb0a30071"
      },
      "execution_count": null,
      "outputs": [
        {
          "output_type": "stream",
          "name": "stdout",
          "text": [
            "Пример оригинального вопроса на вход: Какая же мораль?\n",
            "Пример кодированного вопроса на вход: [ 170   18 5703    0    0    0    0    0    0    0    0]\n",
            "Размеры закодированного массива на вход: (11888, 11)\n",
            "Установленная длина вопросов на вход: 11\n"
          ]
        }
      ]
    },
    {
      "cell_type": "code",
      "source": [
        "'''\n",
        "Устанавливаем раскодированные входные данные (ответы)\n",
        "'''\n",
        "tokenizedAnswers = tokenizer.texts_to_sequences(answers) # разбиваем текст ответов на последовательности индексов\n",
        "maxLenAnswers = max([len(x) for x in tokenizedAnswers])  # уточняем длину самого большого ответа\n",
        "# Делаем последовательности одной длины, заполняя нулями более короткие ответы\n",
        "paddedAnswers = pad_sequences(tokenizedAnswers, maxlen=maxLenAnswers, padding='post')\n",
        "\n",
        "# Предподготавливаем данные для входа в сеть\n",
        "decoderForInput = paddedAnswers # переводим в numpy массив\n",
        "print('Пример оригинального ответа на вход: {}'.format(answers[100]))\n",
        "print('Пример раскодированного ответа на вход: {}'.format(decoderForInput[100]))\n",
        "print('Размеры раскодированного массива ответов на вход: {}'.format(decoderForInput.shape))\n",
        "print('Установленная длина ответов на вход : {}'.format(maxLenAnswers))"
      ],
      "metadata": {
        "colab": {
          "base_uri": "https://localhost:8080/"
        },
        "id": "_OeyoRNhz1Kn",
        "outputId": "0bf9ed9a-5a65-4157-9e90-c6b6a73d81f1"
      },
      "execution_count": null,
      "outputs": [
        {
          "output_type": "stream",
          "name": "stdout",
          "text": [
            "Пример оригинального ответа на вход: <START>Никакой. Так просто вспомнилось.<END>\n",
            "Пример раскодированного ответа на вход: [    1   672    19    93 10547     2     0     0     0     0     0     0\n",
            "     0]\n",
            "Размеры раскодированного массива ответов на вход: (11888, 13)\n",
            "Установленная длина ответов на вход : 13\n"
          ]
        }
      ]
    },
    {
      "cell_type": "code",
      "source": [
        "'''\n",
        "Раскодированные выходные данные(ответы)\n",
        "'''\n",
        "tokenizedAnswers = tokenizer.texts_to_sequences(answers) # разбиваем текст ответов на последовательности индексов\n",
        "for i in range(len(tokenizedAnswers)):                   # для разбитых последовательностей ответов\n",
        "  tokenizedAnswers[i] = tokenizedAnswers[i][1:]          # избавляемся от тега <START>\n",
        "# Делаем последовательности одной длины, заполняя нулями более короткие ответы\n",
        "paddedAnswers = pad_sequences(tokenizedAnswers, maxlen=maxLenAnswers, padding='post')\n",
        "\n",
        "oneHotAnswers = utils.to_categorical(paddedAnswers, vocabularySize) # переводим в one hot vector\n",
        "decoderForOutput = np.array(oneHotAnswers) # и сохраняем в виде массива numpy"
      ],
      "metadata": {
        "id": "Xe5B6VNJ3Ldy"
      },
      "execution_count": null,
      "outputs": []
    },
    {
      "cell_type": "code",
      "source": [
        "print('Пример раскодированного ответа на вход: {}'.format(decoderForInput[100][:21]))\n",
        "print('Пример раскодированного ответа на выход: {}'.format(decoderForOutput[100][4][:21]))\n",
        "print('Размеры раскодрованного массива ответов на выход: {}'.format(decoderForOutput.shape))\n",
        "print('Установленная длина вопросов на выход: {}'.format(maxLenAnswers))"
      ],
      "metadata": {
        "colab": {
          "base_uri": "https://localhost:8080/"
        },
        "id": "eTFsr1uE_END",
        "outputId": "6a6be199-6ac6-4756-bd2b-2e81a9866b48"
      },
      "execution_count": null,
      "outputs": [
        {
          "output_type": "stream",
          "name": "stdout",
          "text": [
            "Пример раскодированного ответа на вход: [    1   672    19    93 10547     2     0     0     0     0     0     0\n",
            "     0]\n",
            "Пример раскодированного ответа на выход: [0. 0. 1. 0. 0. 0. 0. 0. 0. 0. 0. 0. 0. 0. 0. 0. 0. 0. 0. 0. 0.]\n",
            "Размеры раскодрованного массива ответов на выход: (11888, 13, 15092)\n",
            "Установленная длина вопросов на выход: 13\n"
          ]
        }
      ]
    },
    {
      "cell_type": "markdown",
      "source": [
        "# Параметры нейросети и модель обучения"
      ],
      "metadata": {
        "id": "asjOTBwVA0ls"
      }
    },
    {
      "cell_type": "code",
      "source": [
        "'''\n",
        "Первый входной слой, кодер, выходной слой\n",
        "'''\n",
        "encoderInputs = Input(shape=(None,)) # универсальный параметр под любой размер на вход(здесь будет encoderForOutput)\n",
        "# Эти данные проходят через слой Embedding(длина словаря, размерность)\n",
        "encoderEmbedding = Embedding(vocabularySize, 200, mask_zero=True)(encoderInputs) # mask_zero=True - значит нулевые вектора не анализируются \n",
        "# Затем выход с Embedding пойдет в LSTM слой, на выходе у которого будет два вектора состояния - state_h, state_c\n",
        "# Вектора состояния state_h, state_c зададутся в LSTM слое декодера в блоке ниже\n",
        "encoderOutputs, state_h, state_c = LSTM(200, return_state=True)(encoderEmbedding)\n",
        "encoderStates = [state_h, state_c]"
      ],
      "metadata": {
        "id": "9zCirCVGAwFU"
      },
      "execution_count": null,
      "outputs": []
    },
    {
      "cell_type": "code",
      "source": [
        "from IPython.core.pylabtools import activate_matplotlib\n",
        "'''\n",
        "Второй выходной слой, декодер, выходной слой\n",
        "'''\n",
        "decoderInputs = Input(shape=(None,)) # размеры на входе сетки(здесь будет decoderForInput)\n",
        "# Эти данные проходят через слой Embedding (длина словаря, размерность)\n",
        "# mask_zero=True - игнорировать нулевые padding при передаче в LSTM. Предотвратит вывод ответа типа: \"У меня все хорошо PAD PAD PAD PAD PAD PAD..\"\n",
        "decoderEmbedding = Embedding(vocabularySize, 200, mask_zero=True)(decoderInputs)\n",
        "# Затем выход с Embedding пойдет в LSTM слой, которому передаются вектора состояния state_h, state_c\n",
        "decoderLSTM = LSTM(200, return_state=True, return_sequences=True)\n",
        "decoderOutputs, _, _ = decoderLSTM(decoderEmbedding, initial_state=encoderStates)\n",
        "# И от LSTM'a сигнал decoderOutputs пропускаем через полносвязный слой с софтмаксом на выходе\n",
        "decoderDense = Dense(vocabularySize, activation='softmax')\n",
        "output = decoderDense(decoderOutputs)"
      ],
      "metadata": {
        "id": "gy8uOWwkDO_d"
      },
      "execution_count": null,
      "outputs": []
    },
    {
      "cell_type": "code",
      "source": [
        "'''\n",
        "Собираем тренировочную модель нейросети\n",
        "'''\n",
        "model = Model([encoderInputs, decoderInputs], output)\n",
        "model.compile(optimizer=RMSprop(), loss='categorical_crossentropy')\n",
        "print(model.summary())\n",
        "plot_model(model, to_file='model.png') # построим график модели для визуализации слоев и связей между ними"
      ],
      "metadata": {
        "colab": {
          "base_uri": "https://localhost:8080/",
          "height": 983
        },
        "id": "H2XPXAQnHD72",
        "outputId": "cc9eaf87-4601-4633-a0b3-eb3272e77344"
      },
      "execution_count": null,
      "outputs": [
        {
          "output_type": "stream",
          "name": "stdout",
          "text": [
            "Model: \"model_8\"\n",
            "__________________________________________________________________________________________________\n",
            " Layer (type)                   Output Shape         Param #     Connected to                     \n",
            "==================================================================================================\n",
            " input_11 (InputLayer)          [(None, None)]       0           []                               \n",
            "                                                                                                  \n",
            " input_12 (InputLayer)          [(None, None)]       0           []                               \n",
            "                                                                                                  \n",
            " embedding_4 (Embedding)        (None, None, 200)    3018400     ['input_11[0][0]']               \n",
            "                                                                                                  \n",
            " embedding_5 (Embedding)        (None, None, 200)    3018400     ['input_12[0][0]']               \n",
            "                                                                                                  \n",
            " lstm_4 (LSTM)                  [(None, 200),        320800      ['embedding_4[0][0]']            \n",
            "                                 (None, 200),                                                     \n",
            "                                 (None, 200)]                                                     \n",
            "                                                                                                  \n",
            " lstm_5 (LSTM)                  [(None, None, 200),  320800      ['embedding_5[0][0]',            \n",
            "                                 (None, 200),                     'lstm_4[0][1]',                 \n",
            "                                 (None, 200)]                     'lstm_4[0][2]']                 \n",
            "                                                                                                  \n",
            " dense_2 (Dense)                (None, None, 15092)  3033492     ['lstm_5[0][0]']                 \n",
            "                                                                                                  \n",
            "==================================================================================================\n",
            "Total params: 9,711,892\n",
            "Trainable params: 9,711,892\n",
            "Non-trainable params: 0\n",
            "__________________________________________________________________________________________________\n",
            "None\n"
          ]
        },
        {
          "output_type": "execute_result",
          "data": {
            "image/png": "[encoded data removed]",
            "text/plain": [
              "<IPython.core.display.Image object>"
            ]
          },
          "metadata": {},
          "execution_count": 56
        }
      ]
    },
    {
      "cell_type": "code",
      "source": [
        "# Запустим обучение и сохраним модель\n",
        "model.fit([encoderForInput, decoderForInput], decoderForOutput, batch_size=50, epochs=2)\n"
      ],
      "metadata": {
        "colab": {
          "base_uri": "https://localhost:8080/"
        },
        "id": "HVPVPulCIAWH",
        "outputId": "f71bbd63-627a-4e5e-8ddc-dc947393c42f"
      },
      "execution_count": null,
      "outputs": [
        {
          "output_type": "stream",
          "name": "stdout",
          "text": [
            "Epoch 1/2\n",
            "238/238 [==============================] - 41s 132ms/step - loss: 2.2135\n",
            "Epoch 2/2\n",
            "238/238 [==============================] - 31s 132ms/step - loss: 1.9757\n"
          ]
        },
        {
          "output_type": "execute_result",
          "data": {
            "text/plain": [
              "<keras.callbacks.History at 0x7f8c15bdcb90>"
            ]
          },
          "metadata": {},
          "execution_count": 57
        }
      ]
    },
    {
      "cell_type": "code",
      "source": [
        "# Запустим обучение и сохраним модель\n",
        "model.fit([encoderForInput, decoderForInput], decoderForOutput, batch_size=50, epochs=50 )\n",
        "model.save( '/content/drive/MyDrive/Базы/Модели и веса к ДЗ/model_50epochs(rms).h5' )"
      ],
      "metadata": {
        "colab": {
          "base_uri": "https://localhost:8080/"
        },
        "id": "_Yx6FCRFKAeG",
        "outputId": "99e4cf3d-0d70-4fc0-d8c3-3d6a2f59b87b"
      },
      "execution_count": null,
      "outputs": [
        {
          "output_type": "stream",
          "name": "stdout",
          "text": [
            "Epoch 1/50\n",
            "238/238 [==============================] - 31s 129ms/step - loss: 1.9264\n",
            "Epoch 2/50\n",
            "238/238 [==============================] - 31s 130ms/step - loss: 1.8864\n",
            "Epoch 3/50\n",
            "238/238 [==============================] - 30s 127ms/step - loss: 1.8495\n",
            "Epoch 4/50\n",
            "238/238 [==============================] - 31s 129ms/step - loss: 1.8158\n",
            "Epoch 5/50\n",
            "238/238 [==============================] - 31s 128ms/step - loss: 1.7845\n",
            "Epoch 6/50\n",
            "238/238 [==============================] - 31s 129ms/step - loss: 1.7527\n",
            "Epoch 7/50\n",
            "238/238 [==============================] - 31s 131ms/step - loss: 1.7216\n",
            "Epoch 8/50\n",
            "238/238 [==============================] - 33s 138ms/step - loss: 1.6866\n",
            "Epoch 9/50\n",
            "238/238 [==============================] - 31s 128ms/step - loss: 1.6511\n",
            "Epoch 10/50\n",
            "238/238 [==============================] - 30s 128ms/step - loss: 1.6138\n",
            "Epoch 11/50\n",
            "238/238 [==============================] - 30s 127ms/step - loss: 1.5799\n",
            "Epoch 12/50\n",
            "238/238 [==============================] - 30s 128ms/step - loss: 1.5460\n",
            "Epoch 13/50\n",
            "238/238 [==============================] - 30s 127ms/step - loss: 1.5128\n",
            "Epoch 14/50\n",
            "238/238 [==============================] - 30s 127ms/step - loss: 1.4788\n",
            "Epoch 15/50\n",
            "238/238 [==============================] - 31s 131ms/step - loss: 1.4454\n",
            "Epoch 16/50\n",
            "238/238 [==============================] - 32s 135ms/step - loss: 1.4120\n",
            "Epoch 17/50\n",
            "238/238 [==============================] - 33s 137ms/step - loss: 1.3812\n",
            "Epoch 18/50\n",
            "238/238 [==============================] - 32s 134ms/step - loss: 1.3501\n",
            "Epoch 19/50\n",
            "238/238 [==============================] - 32s 134ms/step - loss: 1.3191\n",
            "Epoch 20/50\n",
            "238/238 [==============================] - 32s 133ms/step - loss: 1.2894\n",
            "Epoch 21/50\n",
            "238/238 [==============================] - 31s 131ms/step - loss: 1.2618\n",
            "Epoch 22/50\n",
            "238/238 [==============================] - 30s 127ms/step - loss: 1.2343\n",
            "Epoch 23/50\n",
            "238/238 [==============================] - 30s 128ms/step - loss: 1.2077\n",
            "Epoch 24/50\n",
            "238/238 [==============================] - 31s 129ms/step - loss: 1.1834\n",
            "Epoch 25/50\n",
            "238/238 [==============================] - 31s 129ms/step - loss: 1.1591\n",
            "Epoch 26/50\n",
            "238/238 [==============================] - 30s 127ms/step - loss: 1.1348\n",
            "Epoch 27/50\n",
            "238/238 [==============================] - 31s 130ms/step - loss: 1.1135\n",
            "Epoch 28/50\n",
            "238/238 [==============================] - 31s 129ms/step - loss: 1.0921\n",
            "Epoch 29/50\n",
            "238/238 [==============================] - 31s 128ms/step - loss: 1.0732\n",
            "Epoch 30/50\n",
            "238/238 [==============================] - 30s 127ms/step - loss: 1.0552\n",
            "Epoch 31/50\n",
            "238/238 [==============================] - 30s 127ms/step - loss: 1.0368\n",
            "Epoch 32/50\n",
            "238/238 [==============================] - 31s 130ms/step - loss: 1.0205\n",
            "Epoch 33/50\n",
            "238/238 [==============================] - 31s 131ms/step - loss: 1.0059\n",
            "Epoch 34/50\n",
            "238/238 [==============================] - 30s 128ms/step - loss: 0.9919\n",
            "Epoch 35/50\n",
            "238/238 [==============================] - 31s 130ms/step - loss: 0.9777\n",
            "Epoch 36/50\n",
            "238/238 [==============================] - 32s 134ms/step - loss: 0.9651\n",
            "Epoch 37/50\n",
            "238/238 [==============================] - 32s 135ms/step - loss: 0.9533\n",
            "Epoch 38/50\n",
            "238/238 [==============================] - 31s 132ms/step - loss: 0.9430\n",
            "Epoch 39/50\n",
            "238/238 [==============================] - 31s 131ms/step - loss: 0.9333\n",
            "Epoch 40/50\n",
            "238/238 [==============================] - 31s 131ms/step - loss: 0.9259\n",
            "Epoch 41/50\n",
            "238/238 [==============================] - 31s 130ms/step - loss: 0.9192\n",
            "Epoch 42/50\n",
            "238/238 [==============================] - 31s 129ms/step - loss: 0.9139\n",
            "Epoch 43/50\n",
            "238/238 [==============================] - 31s 131ms/step - loss: 0.9087\n",
            "Epoch 44/50\n",
            "238/238 [==============================] - 33s 137ms/step - loss: 0.9037\n",
            "Epoch 45/50\n",
            "238/238 [==============================] - 32s 136ms/step - loss: 0.8990\n",
            "Epoch 46/50\n",
            "238/238 [==============================] - 32s 135ms/step - loss: 0.8933\n",
            "Epoch 47/50\n",
            "238/238 [==============================] - 33s 140ms/step - loss: 0.8881\n",
            "Epoch 48/50\n",
            "238/238 [==============================] - 33s 138ms/step - loss: 0.8818\n",
            "Epoch 49/50\n",
            "238/238 [==============================] - 32s 134ms/step - loss: 0.8754\n",
            "Epoch 50/50\n",
            "238/238 [==============================] - 31s 131ms/step - loss: 0.8694\n"
          ]
        }
      ]
    },
    {
      "cell_type": "code",
      "source": [
        "model.load_weights( '/content/drive/MyDrive/Базы/Модели и веса к ДЗ/model_50epochs(rms).h5' )"
      ],
      "metadata": {
        "id": "ke96KW3mXi0s"
      },
      "execution_count": null,
      "outputs": []
    },
    {
      "cell_type": "markdown",
      "source": [
        "# Подготовка и запуск рабочей нейросети с генерацией ответов"
      ],
      "metadata": {
        "id": "ZEFuh_6IrctN"
      }
    },
    {
      "cell_type": "code",
      "source": [
        "'''\n",
        "Создаем рабочую модель для вывода ответов на запросы пользователя\n",
        "'''\n",
        "def makeInferenceModels():\n",
        "  # Определим модель кодера, на входе будут закодированные вопросы(EncoderForInputs), на выходе состояния state_h, state_c\n",
        "  encoderModel = Model(encoderInputs, encoderStates)\n",
        "\n",
        "  decoderStateInput_h = Input(shape=(200,)) # обозначим размерность для входного слоя с состоянием state_h\n",
        "  decoderStateInput_c = Input(shape=(200,)) # обозначим размерность для входного слоя с состоянием state_C\n",
        "\n",
        "  decoderStatesInputs = [decoderStateInput_h, decoderStateInput_c] # оба inputs запишем в decoderStatesInputs\n",
        "\n",
        "  # Берем ответы, прошедшие через Embedding, вместе с состоянием и подаем их LSTM слою\n",
        "  decoderOutputs, state_h, state_c = decoderLSTM(decoderEmbedding, initial_state=decoderStatesInputs)\n",
        "  decoderStates = [state_h, state_c]            # LSTM даст нам новые состояния\n",
        "  decoderOutputs = decoderDense(decoderOutputs) # и ответы, которые мы пропустим через полносвязный слой с софтмаксом\n",
        "\n",
        "  # Определим модель декодера, на входе будут раскодированные ответы (decoderForInputs) и состояния\n",
        "  # на выходе предсказываемый ответ и состояния\n",
        "  decoderModel = Model([decoderInputs] + decoderStatesInputs, [decoderOutputs] + decoderStates)\n",
        "\n",
        "  return encoderModel, decoderModel\n"
      ],
      "metadata": {
        "id": "NqfJhFjPrrtq"
      },
      "execution_count": null,
      "outputs": []
    },
    {
      "cell_type": "code",
      "source": [
        "'''\n",
        "Cоздадим функцию, которая преобразует вопрос пользователя в последовательность индексов\n",
        "'''\n",
        "def strToTokens(sentence:str): # функция принимает на вход строку (предложение с вопросом)\n",
        "  words = sentence.lower().split() # приводит предложение к нижнему регистру и разбирает на слова\n",
        "  tokenList = list()               # здесь будет последовательность токенов, индексов\n",
        "  for word in words:               # для каждого слова в предложении\n",
        "    tokenList.append(tokenizer.word_index[word]) # определяем токенизатором индекс и добавляем в список\n",
        "\n",
        "    # Функция вернет вопрос в виде последовательности индексов, ограниченной длиной самого длинного вопроса из БД\n",
        "  return pad_sequences([tokenList], maxlen=maxLenQuestions, padding='post') "
      ],
      "metadata": {
        "id": "0vq1fjO8xNe2"
      },
      "execution_count": null,
      "outputs": []
    },
    {
      "cell_type": "code",
      "source": [
        "'''\n",
        "Устанавливаем окончательные настройки и запускаем модель \n",
        "'''\n",
        "encModel, decModel = makeInferenceModels() # запускаем функцию для построения модели\n",
        "\n",
        "for _ in range(3): #задаем кол-во вопросов и на каждой итерации в этом диапазоне:\n",
        "  # Получаем значения состояний, которые определит кодер в соответствии с заданным вопросом\n",
        "  statesValues = encModel.predict(strToTokens(input('Задайте вопрос: ')))\n",
        "  # Создаем пустой массив размером 1,1\n",
        "  emptyTargetSeq = np.zeros((1, 1))\n",
        "  emptyTargetSeq[0, 0] = tokenizer.word_index['start']  # положим в пустую последовательность начальное слово start в виде индекса\n",
        "\n",
        "  stopCondition = False    # зададим условие, при срабатывании которого прекратится генерация очередного слова\n",
        "  decodedTranslation = ''  # здесь будет собираться генерируемый ответ\n",
        "  while not stopCondition: # пока не сработало стоп условие\n",
        "    # В модель декодера подадим пустую последовательность со словом start и состояния предсказанные кодером по заданному вопросу\n",
        "    # декодер заменит слово start предсказанным словом и обновит состояния\n",
        "    decOutputs, h, c = decModel.predict([emptyTargetSeq] + statesValues)\n",
        "\n",
        "    # argmax побежит по вектору decOutputs'a[0, 0, 15092], найдет максимальное значение и вернет нам номер индекса под которым оно лежит в массиве\n",
        "    sampledWordIndex = np.argmax(decOutputs[0, 0, :]) # argmax возьмем от оси, в которой 15092 элемента. Получили индекс предсказанного слова.\n",
        "    sampledWord = None                                # создаем переменную, в которую положим слово.\n",
        "    for word, index in tokenizer.word_index.items():\n",
        "      if sampledWordIndex == index:                   # если индекс выбранного слова соответствует какому-то индексу из словаря\n",
        "        decodedTranslation += ' {}'.format(word)       # слово, идущее под этим индексом в словаре, добавляется в итоговый ответ\n",
        "        sampleWord = word                             # выбранное слово фиксируем в переменную sampleWord\n",
        "\n",
        "    # если выбранным словом оказывается end либо если сгенерированный ответ превышает заданную максимальную длину ответа\n",
        "    if sampleWord == 'end' or len(decodedTranslation.split()) > maxLenAnswers:\n",
        "      stopCondition = True                     # то срабатывает стоп-условие и прекращаем генерацию\n",
        "\n",
        "    emptyTargetSeq[0, 0] = sampledWordIndex    # заносим туда индекс выбранного слова\n",
        "    statesValues = [h, c]                      # и состояния, обновленные декодером\n",
        "    # и продолжаем цикл с обновленными параметрами\n",
        "\n",
        "  print(decodedTranslation[:-3]) # выводим ответ сгенерированный декодером\n",
        "\n"
      ],
      "metadata": {
        "colab": {
          "base_uri": "https://localhost:8080/"
        },
        "id": "8fbDKJc9zyqt",
        "outputId": "ecd643c8-2c7b-410a-dd3e-0347316fa0e8"
      },
      "execution_count": null,
      "outputs": [
        {
          "output_type": "stream",
          "name": "stdout",
          "text": [
            "Задайте вопрос: привет\n",
            "1/1 [==============================] - 1s 1s/step\n",
            "1/1 [==============================] - 1s 1s/step\n",
            "1/1 [==============================] - 0s 40ms/step\n",
            "1/1 [==============================] - 0s 32ms/step\n",
            "1/1 [==============================] - 0s 32ms/step\n",
            "1/1 [==============================] - 0s 32ms/step\n",
            " что ты здесь делаешь \n",
            "Задайте вопрос: как дела\n",
            "1/1 [==============================] - 0s 27ms/step\n",
            "1/1 [==============================] - 0s 29ms/step\n",
            "1/1 [==============================] - 0s 29ms/step\n",
            "1/1 [==============================] - 0s 30ms/step\n",
            "1/1 [==============================] - 0s 32ms/step\n",
            "1/1 [==============================] - 0s 33ms/step\n",
            "1/1 [==============================] - 0s 31ms/step\n",
            "1/1 [==============================] - 0s 31ms/step\n",
            " вот так почему же не надо \n",
            "Задайте вопрос: ты откуда\n",
            "1/1 [==============================] - 0s 27ms/step\n",
            "1/1 [==============================] - 0s 31ms/step\n",
            "1/1 [==============================] - 0s 31ms/step\n",
            "1/1 [==============================] - 0s 31ms/step\n",
            "1/1 [==============================] - 0s 30ms/step\n",
            " из за мной \n"
          ]
        }
      ]
    },
    {
      "cell_type": "markdown",
      "source": [
        "# Загрузка и запуск предобученной модели"
      ],
      "metadata": {
        "id": "YTzzvLhUOejf"
      }
    },
    {
      "cell_type": "code",
      "source": [
        "# Подгружаем модель из памяти и выведем ее параметры\n",
        "model = load_model( '/content/drive/MyDrive/Базы/Модели и веса к ДЗ/model_50epochs(rms).h5' )\n",
        "model.summary()"
      ],
      "metadata": {
        "colab": {
          "base_uri": "https://localhost:8080/"
        },
        "id": "xQRCqlY5OoJP",
        "outputId": "f09d42d7-a8b6-49b2-cba9-6b6edf5920f9"
      },
      "execution_count": null,
      "outputs": [
        {
          "output_type": "stream",
          "name": "stdout",
          "text": [
            "Model: \"model_8\"\n",
            "__________________________________________________________________________________________________\n",
            " Layer (type)                   Output Shape         Param #     Connected to                     \n",
            "==================================================================================================\n",
            " input_11 (InputLayer)          [(None, None)]       0           []                               \n",
            "                                                                                                  \n",
            " input_12 (InputLayer)          [(None, None)]       0           []                               \n",
            "                                                                                                  \n",
            " embedding_4 (Embedding)        (None, None, 200)    3018400     ['input_11[0][0]']               \n",
            "                                                                                                  \n",
            " embedding_5 (Embedding)        (None, None, 200)    3018400     ['input_12[0][0]']               \n",
            "                                                                                                  \n",
            " lstm_4 (LSTM)                  [(None, 200),        320800      ['embedding_4[0][0]']            \n",
            "                                 (None, 200),                                                     \n",
            "                                 (None, 200)]                                                     \n",
            "                                                                                                  \n",
            " lstm_5 (LSTM)                  [(None, None, 200),  320800      ['embedding_5[0][0]',            \n",
            "                                 (None, 200),                     'lstm_4[0][1]',                 \n",
            "                                 (None, 200)]                     'lstm_4[0][2]']                 \n",
            "                                                                                                  \n",
            " dense_2 (Dense)                (None, None, 15092)  3033492     ['lstm_5[0][0]']                 \n",
            "                                                                                                  \n",
            "==================================================================================================\n",
            "Total params: 9,711,892\n",
            "Trainable params: 9,711,892\n",
            "Non-trainable params: 0\n",
            "__________________________________________________________________________________________________\n"
          ]
        }
      ]
    },
    {
      "cell_type": "code",
      "source": [
        "'''\n",
        "Устанавливаем связи между слоями рабочей модели и предобученной\n",
        "'''\n",
        "def loadInferenceModels():\n",
        "  encoderInputs = model.input[0] # входом энкодера рабочей модели будет первый инпут предобученной модели (input_1)\n",
        "  encoderEmbedding = model.layers[2] # связываем эмбеддинг слои(model.layers[2] - это embedding_1)\n",
        "  encoderOutputs, state_h_enc, state_c_enc = model.layers[4].output # вытягиваем аутпуты из первого LSTM слоя обучающей модели и даем экодеру (lstm_1)\n",
        "  encoderStates = [state_h_enc, state_c_enc] # кладем забранные состояния в состояние энкодера\n",
        "  encoderModel = Model(encoderInputs, encoderStates) # формируем модель \n",
        "\n",
        "  decoderInputs = model.input[1] # входом декодера рабочей модели будет второй инпут предобученной модели (input_2)\n",
        "  decoderStateInput_h = Input(shape=(200 ,)) # обозначим размерность для входного слоя с состоянием state_h\n",
        "  decoderStateInput_c = Input(shape=(200 ,)) # обозначим размерность для входного слоя с состоянием state_c\n",
        "\n",
        "  decoderStatesInputs = [decoderStateInput_h, decoderStateInput_c] # возьмем оба inputs вместе  и запишем в decoderStatesInputs\n",
        "\n",
        "  decoderEmbedding = model.layers[3] # связываем эмбеддинг слои (model.layers[3] - это embedding_2)\n",
        "  decoderLSTM = model.layers[5]      # связываем LSTM слои(model.layers[5] - это lstm_2)\n",
        "  decoderOutputs, state_h, state_c = decoderLSTM(decoderEmbedding.output, initial_state = decoderStatesInputs)\n",
        "  decoderStates = [state_h, state_c] # LSTM даст нам новые состояния\n",
        "\n",
        "  decoderDense = model.layers[6] # связываем полносвязные слои (model.layers[6] - это dense_1)\n",
        "  decoderOutputs = decoderDense(decoderOutputs) # выход с LSTM мы пропустим через полносвязный слой с софтмаксом\n",
        "\n",
        "  # Определим модель декодера, на входе далее будут раскодированные ответы (decoderForInputs) и состояния\n",
        "  # на выходе предсказываемый ответ и новые состояния\n",
        "  decoderModel = Model([decoderInputs] + decoderStatesInputs, [decoderOutputs] + decoderStates)\n",
        "  return encoderModel, decoderModel"
      ],
      "metadata": {
        "id": "1K2p23aLQYdW"
      },
      "execution_count": null,
      "outputs": []
    },
    {
      "cell_type": "code",
      "source": [
        "'''\n",
        "Устанавливаем окончательные настройки и запускаем рабочую модель над предобученной\n",
        "'''\n",
        "encModel, decModel = loadInferenceModels() # запускаем функцию построения модели кодера и декодера\n",
        "\n",
        "for _ in range(6): #задаем количество вопросов, и на каждой итерации в этом диапазоне:\n",
        "  # Получаем значения состояний, которые определит кодер в соответствии с заданным вопросом\n",
        "  statesValues = encModel.predict(strToTokens(input('Задайте вопрос: ')))\n",
        "  # Создаем пустой массив (1, )\n",
        "  emptyTargetSeq = np.zeros((1, 1))\n",
        "  emptyTargetSeq[0, 0] = tokenizer.word_index['start'] # подаем в пустую последовательность тег <start>, в виде индекса\n",
        "  stopCondition = False # зададим условие, при срабатывании которого, прекратится генерация очередного слова\n",
        "  decodedTranslation = '' # здесь будет собираться генерируемый ответ\n",
        "  while not stopCondition : # пока не сработало стоп-условие\n",
        "    # В модель декодера подадим пустую последовательность со словом 'start' и состояния предсказанные кодером по заданному вопросу.\n",
        "    # декодер заменит слово 'start' предсказанным сгенерированным словом и обновит состояния\n",
        "    decOutputs , h , c = decModel.predict([emptyTargetSeq] + statesValues)\n",
        "    \n",
        "    #argmax пробежит по вектору decOutputs'а[0,0,15104], найдет макс.значение, и вернёт нам номер индекса под которым оно лежит в массиве\n",
        "    sampledWordIndex = np.argmax( decOutputs[0, 0, :]) # argmax возьмем от оси, в которой 15092 элемента. Получили индекс предсказанного слова.\n",
        "    sampledWord = None # создаем переменную, в которую положим слово, преобразованное на естественный язык\n",
        "    for word , index in tokenizer.word_index.items():\n",
        "      if sampledWordIndex == index:              # если индекс выбранного слова соответствует какому-то индексу из словаря\n",
        "        decodedTranslation += ' {}'.format(word) # слово, идущее под этим индексом в словаре, добавляется в итоговый ответ \n",
        "        sampledWord = word                       # выбранное слово фиксируем в переменную sampledWord\n",
        "    \n",
        "    # Если выбранным словом оказывается 'end' либо если сгенерированный ответ превышает заданную максимальную длину ответа\n",
        "    if sampledWord == 'end' or len(decodedTranslation.split()) > maxLenAnswers:\n",
        "      stopCondition = True # то срабатывает стоп-условие и прекращаем генерацию\n",
        "\n",
        "    emptyTargetSeq = np.zeros((1, 1))       # создаем пустой массив\n",
        "    emptyTargetSeq[0, 0] = sampledWordIndex # заносим туда индекс выбранного слова\n",
        "    statesValues = [h, c]                   # и состояния, обновленные декодером\n",
        "    # и продолжаем цикл с обновленными параметрами\n",
        "  \n",
        "  print(decodedTranslation[:-3]) # выводим ответ сгенерированный декодером\n",
        "\n"
      ],
      "metadata": {
        "colab": {
          "base_uri": "https://localhost:8080/"
        },
        "id": "l5mamrwvYbkm",
        "outputId": "e09ef671-2d10-4505-b2f4-e31751155c52"
      },
      "execution_count": null,
      "outputs": [
        {
          "output_type": "stream",
          "name": "stdout",
          "text": [
            "Задайте вопрос: привет\n",
            "1/1 [==============================] - 1s 1s/step\n",
            "1/1 [==============================] - 2s 2s/step\n",
            "1/1 [==============================] - 0s 27ms/step\n",
            "1/1 [==============================] - 0s 27ms/step\n",
            "1/1 [==============================] - 0s 27ms/step\n",
            "1/1 [==============================] - 0s 27ms/step\n",
            " что ты здесь делаешь \n",
            "Задайте вопрос: кто ты\n",
            "1/1 [==============================] - 0s 24ms/step\n",
            "1/1 [==============================] - 0s 27ms/step\n",
            "1/1 [==============================] - 0s 26ms/step\n",
            "1/1 [==============================] - 0s 25ms/step\n",
            "1/1 [==============================] - 0s 26ms/step\n",
            "1/1 [==============================] - 0s 25ms/step\n",
            " я вы к могу \n",
            "Задайте вопрос: откуда ты\n",
            "1/1 [==============================] - 0s 24ms/step\n",
            "1/1 [==============================] - 0s 31ms/step\n",
            "1/1 [==============================] - 0s 29ms/step\n",
            "1/1 [==============================] - 0s 31ms/step\n",
            "1/1 [==============================] - 0s 28ms/step\n",
            "1/1 [==============================] - 0s 29ms/step\n",
            "1/1 [==============================] - 0s 28ms/step\n",
            "1/1 [==============================] - 0s 25ms/step\n",
            "1/1 [==============================] - 0s 26ms/step\n",
            " с оно не знаю а как они \n",
            "Задайте вопрос: знаешь меня\n",
            "1/1 [==============================] - 0s 25ms/step\n",
            "1/1 [==============================] - 0s 32ms/step\n",
            "1/1 [==============================] - 0s 30ms/step\n",
            "1/1 [==============================] - 0s 28ms/step\n",
            "1/1 [==============================] - 0s 28ms/step\n",
            "1/1 [==============================] - 0s 28ms/step\n",
            "1/1 [==============================] - 0s 30ms/step\n",
            "1/1 [==============================] - 0s 28ms/step\n",
            " а ты почему бы это можно \n",
            "Задайте вопрос: как дела\n",
            "1/1 [==============================] - 0s 25ms/step\n",
            "1/1 [==============================] - 0s 27ms/step\n",
            "1/1 [==============================] - 0s 33ms/step\n",
            "1/1 [==============================] - 0s 29ms/step\n",
            "1/1 [==============================] - 0s 29ms/step\n",
            "1/1 [==============================] - 0s 29ms/step\n",
            "1/1 [==============================] - 0s 29ms/step\n",
            "1/1 [==============================] - 0s 28ms/step\n",
            " вот так почему же не надо \n",
            "Задайте вопрос: сколько тебе лет\n",
            "1/1 [==============================] - 0s 26ms/step\n",
            "1/1 [==============================] - 0s 27ms/step\n",
            "1/1 [==============================] - 0s 28ms/step\n",
            "1/1 [==============================] - 0s 34ms/step\n",
            "1/1 [==============================] - 0s 31ms/step\n",
            "1/1 [==============================] - 0s 28ms/step\n",
            "1/1 [==============================] - 0s 28ms/step\n",
            " не знаю а сколько нужно \n"
          ]
        }
      ]
    }
  ]
}