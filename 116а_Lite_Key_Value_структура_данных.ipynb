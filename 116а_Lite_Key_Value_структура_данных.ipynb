{
  "cells": [
    {
      "cell_type": "markdown",
      "metadata": {
        "id": "view-in-github",
        "colab_type": "text"
      },
      "source": [
        "<a href=\"https://colab.research.google.com/github/10100111/Display-of-HW1/blob/main/116%D0%B0_Lite_Key_Value_%D1%81%D1%82%D1%80%D1%83%D0%BA%D1%82%D1%83%D1%80%D0%B0_%D0%B4%D0%B0%D0%BD%D0%BD%D1%8B%D1%85.ipynb\" target=\"_parent\"><img src=\"https://colab.research.google.com/assets/colab-badge.svg\" alt=\"Open In Colab\"/></a>"
      ]
    },
    {
      "cell_type": "markdown",
      "metadata": {
        "id": "aYzXlLKcpn0k"
      },
      "source": [
        "Задание Lite\n",
        "\n",
        "Используя функцию с занятия (функция, которая будет добавлять новые данные в key-value storage.\n",
        "\n",
        "keys = [123]\n",
        "\n",
        "for k in keys:\n",
        "\n",
        "  num_events = np.random.randint(0,5)\n",
        "\n",
        "  new_val = np.random.uniform(low=0,high=50,size=num_events).tolist()\n",
        "\n",
        "  kv_storage[k].extend(new_val)\n",
        "\n",
        "Добавьте новые значения в key-value хранилище из Ultra-Light  для 1000 случайных ключей (из миллиона). Возьмите любой ключ, по которому были добавлены данные и выведите расчет метрик.\n",
        "\n",
        "Разбор: https://colab.research.google.com/drive/1aICDMqelbqsAiryUX1J06AElU8Ywzblx?usp=sharing\n",
        "\n",
        "Видео: https://www.youtube.com/watch?v=qOOOdIb2S9c"
      ]
    },
    {
      "cell_type": "code",
      "execution_count": 12,
      "metadata": {
        "colab": {
          "base_uri": "https://localhost:8080/"
        },
        "id": "NCxI_W_-AptV",
        "outputId": "b9521746-689a-41b0-f049-0007efc55437"
      },
      "outputs": [
        {
          "output_type": "execute_result",
          "data": {
            "text/plain": [
              "1000000"
            ]
          },
          "metadata": {},
          "execution_count": 12
        }
      ],
      "source": [
        "# Создадим Key-Value (HashTable) storage на 1 млн объектов\n",
        "# Ключем будет являтс id объекта от 0 до 1.000.000, значением будет являтся пустой массив\n",
        "kv_storage = {i:[] for i in range(1000000)}\n",
        "len(kv_storage)"
      ]
    },
    {
      "cell_type": "code",
      "execution_count": 13,
      "metadata": {
        "colab": {
          "base_uri": "https://localhost:8080/"
        },
        "id": "Oq5-Bz5pBbQE",
        "outputId": "d3be8c46-180e-41aa-d62c-237a4bc5d6f6"
      },
      "outputs": [
        {
          "output_type": "execute_result",
          "data": {
            "text/plain": [
              "[]"
            ]
          },
          "metadata": {},
          "execution_count": 13
        }
      ],
      "source": [
        "# На текущий момент наше хранилище пусто\n",
        "kv_storage[0]"
      ]
    },
    {
      "cell_type": "code",
      "execution_count": 14,
      "metadata": {
        "id": "GFymWzNaBRwL"
      },
      "outputs": [],
      "source": [
        "# Заполним наше ПУСТОЕ хранилище для каждого ключа произвольным количеством событий со случайными знаяениями:\n",
        "import numpy as np\n",
        "for k in kv_storage.keys():\n",
        "  num_events = np.random.randint(0,320)\n",
        "  new_val = np.random.uniform(low=0,high=50,size=num_events).tolist()\n",
        "  kv_storage[k].extend(new_val)"
      ]
    },
    {
      "cell_type": "code",
      "source": [
        "import random\n",
        "# Для решения задачи получения 1000 случайных ключей из словаря kv_storage\n",
        "random_keys = random.sample(kv_storage.keys(), 1000)\n",
        "# Посмотрим на номер ключа в нулевом элементе, чтобы зафиксировать его метрики\n",
        "random_keys[0]"
      ],
      "metadata": {
        "colab": {
          "base_uri": "https://localhost:8080/"
        },
        "outputId": "1c4e8d39-ab6b-40b4-f804-aa7aa34d685d",
        "id": "ni8uY-YfiOCB"
      },
      "execution_count": 15,
      "outputs": [
        {
          "output_type": "stream",
          "name": "stderr",
          "text": [
            "<ipython-input-15-b63e29f02e7f>:3: DeprecationWarning: Sampling from a set deprecated\n",
            "since Python 3.9 and will be removed in a subsequent version.\n",
            "  random_keys = random.sample(kv_storage.keys(), 1000)\n"
          ]
        },
        {
          "output_type": "execute_result",
          "data": {
            "text/plain": [
              "599373"
            ]
          },
          "metadata": {},
          "execution_count": 15
        }
      ]
    },
    {
      "cell_type": "code",
      "execution_count": 16,
      "metadata": {
        "id": "vAVmR6WiC2ow"
      },
      "outputs": [],
      "source": [
        "#Теперь напишем простенький класс для расчета KPI\n",
        "class KpiBuilder():\n",
        "  def __init__(self, key):\n",
        "        self.key = key\n",
        "\n",
        "  def get(self):\n",
        "    return kv_storage.get(self.key)\n",
        "\n",
        "  def mean_20(self):\n",
        "    return sum(self.get()[:-20])/20.\n",
        "\n",
        "  def median(self):\n",
        "    m_ = self.get()\n",
        "    return np.median(m_)\n",
        "\n",
        "  def non_zero_cnt(self):\n",
        "    v = self.get()\n",
        "    return len([x for x in v if x > 0])\n",
        "\n",
        "  def cnt_above_mean(self):\n",
        "    v = self.get()\n",
        "    m_ = kv_storage['sum_el']/ float(kv_storage['len_el'])\n",
        "\n",
        "    print (\"Mean across all elements: \",m_)\n",
        "    return len([x for x in v if x > m_])\n",
        "\n",
        "\n",
        "  # мои метрики\n",
        "\n",
        "  def count_20(self): # метрика кол-ва значений выше 20\n",
        "    return np.count_nonzero(self.get() == 20)\n",
        "\n",
        "\n",
        "  def standart_deviation(self):  # метрика стандартного отклонения значений\n",
        "    return np.std(self.get())\n",
        "\n",
        "  def min_max(self):  # метрика поиска минимума и максимума значений\n",
        "    return (min(self.get()), max(self.get()))\n",
        "\n",
        "\n"
      ]
    },
    {
      "cell_type": "code",
      "source": [
        "# Инициализируем вспомогательное значение sum_el/ len_el суммой элементов\n",
        "v_len = len([item for sublist in kv_storage.values() for item in sublist])\n",
        "v_sum = sum([item for sublist in kv_storage.values() for item in sublist])\n",
        "\n",
        "kv_storage['len_el']=v_len\n",
        "kv_storage['sum_el']=v_sum"
      ],
      "metadata": {
        "id": "e64vNhU6PVla"
      },
      "execution_count": 17,
      "outputs": []
    },
    {
      "cell_type": "code",
      "source": [
        "# Глянем длину ключа до того, как добавим в него значения еще\n",
        "len(kv_storage[599373])"
      ],
      "metadata": {
        "colab": {
          "base_uri": "https://localhost:8080/"
        },
        "id": "iEnFWjjLi5I7",
        "outputId": "af93362d-3c99-41e3-95e5-dff4300e84b9"
      },
      "execution_count": 19,
      "outputs": [
        {
          "output_type": "execute_result",
          "data": {
            "text/plain": [
              "297"
            ]
          },
          "metadata": {},
          "execution_count": 19
        }
      ]
    },
    {
      "cell_type": "code",
      "execution_count": 18,
      "metadata": {
        "id": "vtY2ldBAHCke",
        "colab": {
          "base_uri": "https://localhost:8080/"
        },
        "outputId": "4b27754b-d842-480d-da04-3c4831e181ff"
      },
      "outputs": [
        {
          "output_type": "stream",
          "name": "stdout",
          "text": [
            "Среднее значение метрк за последние 20 отчетов 332.32127831682135\n",
            "Медиана за весь период 22.47555809300725\n",
            "Количество ненулевых метрик 297\n",
            "Mean across all elements:  25.001151672496174\n",
            "Количество метрик, превышающее среднее по всем элементам 135\n",
            "\n",
            "Количество значений выше 20 = 0\n",
            "Стандартное отклонение = 14.91833512412556\n",
            "Минимальное и максимальное значения = (0.5594312844242222, 49.99045906441374)\n"
          ]
        }
      ],
      "source": [
        "key_599373 = KpiBuilder(599373)\n",
        "print(f'Среднее значение метрк за последние 20 отчетов {key_599373.mean_20()}')\n",
        "print(f'Медиана за весь период {key_599373.median()}')\n",
        "print(f'Количество ненулевых метрик {key_599373.non_zero_cnt()}')\n",
        "print(f'Количество метрик, превышающее среднее по всем элементам {key_599373.cnt_above_mean()}')\n",
        "print()\n",
        "\n",
        "print(f'Количество значений выше 20 = {key_599373.count_20()}')\n",
        "print(f'Стандартное отклонение = {key_599373.standart_deviation()}')\n",
        "print(f'Минимальное и максимальное значения = {key_599373.min_max()}')"
      ]
    },
    {
      "cell_type": "code",
      "execution_count": 20,
      "metadata": {
        "id": "l_yoKp1tCnrY"
      },
      "outputs": [],
      "source": [
        "# Функция добавления новых значений в один ключ\n",
        "def add_val_to_key(key_num):\n",
        "  keys = [key_num]\n",
        "  for k in keys:\n",
        "    num_events = np.random.randint(0,5)\n",
        "    new_val = np.random.uniform(low=0,high=50,size=num_events).tolist()\n",
        "    kv_storage[k].extend(new_val)"
      ]
    },
    {
      "cell_type": "code",
      "source": [
        "# Добавление значений для каждого ключа\n",
        "for key in random_keys:\n",
        "    add_val_to_key(key)"
      ],
      "metadata": {
        "id": "we_xdo9nMtPo"
      },
      "execution_count": 21,
      "outputs": []
    },
    {
      "cell_type": "code",
      "source": [
        "# Сколько значений в 599373 ключе после добавления данных в хранилище\n",
        "len(kv_storage[599373])"
      ],
      "metadata": {
        "colab": {
          "base_uri": "https://localhost:8080/"
        },
        "id": "hOSA3TyhTWLG",
        "outputId": "89581893-cc5e-487c-b43d-713b30d7caa0"
      },
      "execution_count": 22,
      "outputs": [
        {
          "output_type": "execute_result",
          "data": {
            "text/plain": [
              "298"
            ]
          },
          "metadata": {},
          "execution_count": 22
        }
      ]
    },
    {
      "cell_type": "code",
      "source": [
        "# Выведем на экран метрики после добавления значений в рандомные 1000 ключей\n",
        "# Мы уже ранее выбрали один ключ 599373 для просмотра метрик по нему\n",
        "key_599373 = KpiBuilder(599373)\n",
        "print(f'Среднее значение метрк за последние 20 отчетов {key_599373.mean_20()}')\n",
        "print(f'Медиана за весь период {key_599373.median()}')\n",
        "print(f'Количество ненулевых метрик {key_599373.non_zero_cnt()}')\n",
        "print(f'Количество метрик, превышающее среднее по всем элементам {key_599373.cnt_above_mean()}')\n",
        "print()\n",
        "\n",
        "print(f'Количество значений выше 20 = {key_599373.count_20()}')\n",
        "print(f'Стандартное отклонение = {key_599373.standart_deviation()}')\n",
        "print(f'Минимальное и максимальное значения = {key_599373.min_max()}')"
      ],
      "metadata": {
        "colab": {
          "base_uri": "https://localhost:8080/"
        },
        "id": "Qe0_j-aUNAPy",
        "outputId": "352b4601-9ba1-4b44-aa5e-367f191ac438"
      },
      "execution_count": 24,
      "outputs": [
        {
          "output_type": "stream",
          "name": "stdout",
          "text": [
            "Среднее значение метрк за последние 20 отчетов 333.7572889875284\n",
            "Медиана за весь период 22.513585388847112\n",
            "Количество ненулевых метрик 298\n",
            "Mean across all elements:  25.001151672496174\n",
            "Количество метрик, превышающее среднее по всем элементам 136\n",
            "\n",
            "Количество значений выше 20 = 0\n",
            "Стандартное отклонение = 14.931987408896074\n",
            "Минимальное и максимальное значения = (0.5594312844242222, 49.99045906441374)\n"
          ]
        }
      ]
    }
  ],
  "metadata": {
    "colab": {
      "provenance": [],
      "include_colab_link": true
    },
    "kernelspec": {
      "display_name": "Python 2",
      "name": "python2"
    }
  },
  "nbformat": 4,
  "nbformat_minor": 0
}