{
  "nbformat": 4,
  "nbformat_minor": 0,
  "metadata": {
    "colab": {
      "provenance": [],
      "toc_visible": true,
      "include_colab_link": true
    },
    "kernelspec": {
      "name": "python3",
      "display_name": "Python 3"
    },
    "language_info": {
      "name": "python"
    }
  },
  "cells": [
    {
      "cell_type": "markdown",
      "metadata": {
        "id": "view-in-github",
        "colab_type": "text"
      },
      "source": [
        "<a href=\"https://colab.research.google.com/github/10100111/Display-of-HW1/blob/main/91_Pro.ipynb\" target=\"_parent\"><img src=\"https://colab.research.google.com/assets/colab-badge.svg\" alt=\"Open In Colab\"/></a>"
      ]
    },
    {
      "cell_type": "markdown",
      "source": [
        "Задание Pro\n",
        "\n",
        "Макс 10 баллов\n",
        "\n",
        "1) Постройте график функции sin(x) - x * 0.5 для x от -5 до 5.\n",
        "\n",
        "2) Отобразите первые 5 шагов Momentum для начальной точки x = -4.\n",
        "\n",
        "3) Модифицируйте Momentum таким образом, чтобы при подсчёте новых параметров к скорости добавлялась не производная в текущей точке x, а производная в точке x_ahead, которая находится как сумма текущей точки x и произведения текущей скорости с коэффициентом замедления. Более ничего менять не стоит. Полученный оптимизатор называется Nesterov momentum и, в отличие от обычного, использует информацию о позиции, где его фактически ещё не было, чтобы планировать своё дальнейшее перемещение.\n",
        "\n",
        "4) Отобразите первые 5 шагов NesterovMomentum для начальной точки x = -4.\n",
        "\n",
        "5) Сравните результаты для Momentum и NesterovMomentum, напишите свои выводы."
      ],
      "metadata": {
        "id": "uaGZe6kAioiH"
      }
    },
    {
      "cell_type": "code",
      "source": [
        "import numpy as np\n",
        "from matplotlib import pyplot as plt"
      ],
      "metadata": {
        "id": "Ya89jTOJjIzg"
      },
      "execution_count": 1,
      "outputs": []
    },
    {
      "cell_type": "markdown",
      "source": [
        "# 1) Постройте график функции sin(x) - x * 0.5 для x от -5 до 5."
      ],
      "metadata": {
        "id": "P5b2XiY-jB7Y"
      }
    },
    {
      "cell_type": "code",
      "execution_count": 2,
      "metadata": {
        "id": "u8BjylnQidRx"
      },
      "outputs": [],
      "source": [
        "x = np.linspace(-5, 5, 1000) # задаем точки х от -5 до 5\n",
        "\n",
        "# Задаем функцию \n",
        "def loss_func(x):\n",
        "  return np.sin(x) - x * 0.5"
      ]
    },
    {
      "cell_type": "code",
      "source": [
        "plt.plot(loss_func(x))\n",
        "plt.xlabel(\"Значение точки\")\n",
        "plt.plot(\"Количество точек\")\n",
        "plt.show()"
      ],
      "metadata": {
        "colab": {
          "base_uri": "https://localhost:8080/",
          "height": 279
        },
        "id": "QM64Lp_TjtS8",
        "outputId": "a3e92174-c636-492a-f827-d7883b97fc65"
      },
      "execution_count": 3,
      "outputs": [
        {
          "output_type": "display_data",
          "data": {
            "text/plain": [
              "<Figure size 432x288 with 1 Axes>"
            ],
            "image/png": "[encoded data removed]"
          },
          "metadata": {
            "needs_background": "light"
          }
        }
      ]
    },
    {
      "cell_type": "markdown",
      "source": [
        "# 2) Отобразите первые 5 шагов Momentum для начальной точки x = -4."
      ],
      "metadata": {
        "id": "72bvWKbDkTcq"
      }
    },
    {
      "cell_type": "code",
      "source": [
        "# Объявляем класс Моментум\n",
        "class Momentum:\n",
        "  def __init__(self, slowdown_rate = 0.9): # инициализируем переменные\n",
        "    self.v = 0              # скорость точки\n",
        "    self.sd = slowdown_rate # коэффициент замедления\n",
        "\n",
        "  def apply_grad(self, x, dx, learning_rate):\n",
        "    self.v = self.v * self.sd - learning_rate * dx # скорость сначала уменьшется, а затем растет за счет градиента в данной точке\n",
        "    return x + self.v"
      ],
      "metadata": {
        "id": "HyijdYkQkIc5"
      },
      "execution_count": 4,
      "outputs": []
    },
    {
      "cell_type": "code",
      "source": [
        "# Точка старта\n",
        "initial_estimator = -4 \n",
        "\n",
        "# Функция расчета производной\n",
        "def derivative(func, value, step = 1):\n",
        "  return (func(value + step) - func(value - step)) / (2 * step)"
      ],
      "metadata": {
        "id": "xOhkgmbNtGWC"
      },
      "execution_count": 5,
      "outputs": []
    },
    {
      "cell_type": "code",
      "source": [
        "momentum_optimizer = Momentum() # создаем экземпляр класса\n",
        "\n",
        "current_estimator = initial_estimator\n",
        "estim_log = [current_estimator]\n",
        "values_log = [loss_func(current_estimator)]\n",
        "\n",
        "learning_steps = 5\n",
        "learning_rate = 0.9\n",
        "\n",
        "for i in range(learning_steps):\n",
        "  derivative_val = derivative(loss_func, current_estimator)\n",
        "  current_estimator = momentum_optimizer.apply_grad(current_estimator,\n",
        "                                                    derivative_val,\n",
        "                                                    learning_rate)\n",
        "  estim_log.append(current_estimator)\n",
        "  values_log.append(loss_func(current_estimator))\n"
      ],
      "metadata": {
        "id": "tuUYfUodln0j"
      },
      "execution_count": 6,
      "outputs": []
    },
    {
      "cell_type": "code",
      "source": [
        "# Визуализация траектории\n",
        "def draw_trajectory(x_values, y_values, estim_log, values_log):\n",
        "  plt.plot(x_values, y_values) # изображаем кривую ошибки\n",
        "  plt.plot(estim_log, values_log, marker=\"o\") # изображаем значения, через которые прошел оптимизатор\n",
        "  plt.legend([\"Функция ошибки\", \" Путь оптимизатора\"])\n",
        "  plt.xlabel(\"Значение точки\")\n",
        "  plt.ylabel(\"Значение ошибки\")\n",
        "  plt.show()"
      ],
      "metadata": {
        "id": "f9dd5ZgUAJDR"
      },
      "execution_count": 7,
      "outputs": []
    },
    {
      "cell_type": "code",
      "source": [
        "draw_trajectory(x, loss_func(x), estim_log, values_log)"
      ],
      "metadata": {
        "colab": {
          "base_uri": "https://localhost:8080/",
          "height": 279
        },
        "id": "XtRejtPuBwnP",
        "outputId": "d62842da-31f3-424a-8073-4074251c9458"
      },
      "execution_count": 8,
      "outputs": [
        {
          "output_type": "display_data",
          "data": {
            "text/plain": [
              "<Figure size 432x288 with 1 Axes>"
            ],
            "image/png": "[encoded data removed]"
          },
          "metadata": {
            "needs_background": "light"
          }
        }
      ]
    },
    {
      "cell_type": "markdown",
      "source": [
        "# 3) Модифицируйте Momentum"
      ],
      "metadata": {
        "id": "EWKImdTjCZtc"
      }
    },
    {
      "cell_type": "markdown",
      "source": [
        "Здесь при расчете скорости используется будущая точка , расчитываем ее. А после считаем производную этой будущей точки, т.к. она участвует в расчете скорости!!!"
      ],
      "metadata": {
        "id": "eD2XEJ4iK6rk"
      }
    },
    {
      "cell_type": "code",
      "source": [
        "# Объявляем класс Моментум Нестерова\n",
        "class Momentum_nesterov:\n",
        "  def __init__(self, slowdown_rate = 0.9): # инициализируем переменные\n",
        "    self.v = 0              # скорость точки\n",
        "    self.sd = slowdown_rate # коэффициент замедления\n",
        "\n",
        "  def apply_grad(self, x, dx, learning_rate):\n",
        "    x_ahead = x + self.v * self.sd # расчитываем будущую точку, как описано в задании\n",
        "    self.v = self.v * self.sd - learning_rate * derivative(loss_func, x_ahead) # берем градиент в будущей точке\n",
        "    return x + self.v"
      ],
      "metadata": {
        "id": "MovT9RWOCbB4"
      },
      "execution_count": 13,
      "outputs": []
    },
    {
      "cell_type": "code",
      "source": [
        "momentum_optimizer = Momentum_nesterov() # создаем экземпляр класса\n",
        "\n",
        "current_estimator = initial_estimator\n",
        "estim_log = [current_estimator]\n",
        "values_log = [loss_func(current_estimator)]\n",
        "\n",
        "learning_steps = 5\n",
        "learning_rate = 0.9\n",
        "\n",
        "for i in range(learning_steps):\n",
        "  derivative_val = derivative(loss_func, current_estimator)\n",
        "  current_estimator = momentum_optimizer.apply_grad(current_estimator,\n",
        "                                                    derivative_val,\n",
        "                                                    learning_rate)\n",
        "  estim_log.append(current_estimator)\n",
        "  values_log.append(loss_func(current_estimator))"
      ],
      "metadata": {
        "id": "k75JG97XFMp4"
      },
      "execution_count": 14,
      "outputs": []
    },
    {
      "cell_type": "markdown",
      "source": [
        "# 4) Отобразите первые 5 шагов NesterovMomentum для начальной точки x = -4."
      ],
      "metadata": {
        "id": "kXgVZeJWHkyT"
      }
    },
    {
      "cell_type": "code",
      "source": [
        "draw_trajectory(x, loss_func(x), estim_log, values_log)"
      ],
      "metadata": {
        "colab": {
          "base_uri": "https://localhost:8080/",
          "height": 279
        },
        "id": "dy90YTVdFSe6",
        "outputId": "7043aab1-47ba-4f50-e074-a95de1cdee05"
      },
      "execution_count": 15,
      "outputs": [
        {
          "output_type": "display_data",
          "data": {
            "text/plain": [
              "<Figure size 432x288 with 1 Axes>"
            ],
            "image/png": "[encoded data removed]"
          },
          "metadata": {
            "needs_background": "light"
          }
        }
      ]
    },
    {
      "cell_type": "markdown",
      "source": [
        "# Выводы"
      ],
      "metadata": {
        "id": "p8OG1d6DHnPO"
      }
    },
    {
      "cell_type": "markdown",
      "source": [
        "Нестеров моментум траектория проходит ближе к графику лосс функции, это значит он работает более точно. В локальном минимуме размер шага поменьше, а дальше на спуске вилдим снова длинный шаг, это говорит о большей эффективности данного подхода. \n"
      ],
      "metadata": {
        "id": "q5GKWlq7HzGU"
      }
    },
    {
      "cell_type": "code",
      "source": [],
      "metadata": {
        "id": "eu4o0K-pH_Nd"
      },
      "execution_count": null,
      "outputs": []
    }
  ]
}