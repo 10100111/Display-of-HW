{
  "nbformat": 4,
  "nbformat_minor": 0,
  "metadata": {
    "colab": {
      "provenance": [],
      "include_colab_link": true
    },
    "kernelspec": {
      "name": "python2",
      "display_name": "Python 2"
    }
  },
  "cells": [
    {
      "cell_type": "markdown",
      "metadata": {
        "id": "view-in-github",
        "colab_type": "text"
      },
      "source": [
        "<a href=\"https://colab.research.google.com/github/10100111/Display-of-HW1/blob/main/117_Pro_Key_Value_%D1%81%D1%82%D1%80%D1%83%D0%BA%D1%82%D1%83%D1%80%D0%B0_%D0%B4%D0%B0%D0%BD%D0%BD%D1%8B%D1%85.ipynb\" target=\"_parent\"><img src=\"https://colab.research.google.com/assets/colab-badge.svg\" alt=\"Open In Colab\"/></a>"
      ]
    },
    {
      "cell_type": "markdown",
      "metadata": {
        "id": "aYzXlLKcpn0k"
      },
      "source": [
        "Задание Pro\n",
        "\n",
        "Модифицируйте функцию с занятия: # Функция, которая будет добавлять новые данные в key-value storage\n",
        "\n",
        "Модифицировать необходимо таким образом, чтобы при добавления любого нового значения ключи:\n",
        "\n",
        "kv_storage['len_el'] # Количество всех значений в хранилище\n",
        "\n",
        "kv_storage['sum_el'] # Сумма всех значений в хранилище\n",
        "\n",
        "\n",
        "\n",
        "обновляли свои значения таким образом, чтобы, используя эти 2 ключа, можно было посчитать средние значения по всем values в хранилище. Сравните свой результат с*\n",
        "\n",
        "v_len = len([item for sublist in kv_storage.values() for item in sublist])\n",
        "\n",
        "v_sum = sum([item for sublist in kv_storage.values() for item in sublist])\n",
        "\n",
        "*- Постарайтесь придумать альтернативный способ обновления ключей kv_storage['len_el'] и kv_storage['sum_el'] без необходимости проходить по всем значениям в хранилище.\n",
        "\n",
        "Разбор: https://colab.research.google.com/drive/1E_ZwnIqODTgCQBt2NHl-QK0_4JpFJxU3?usp=sharing"
      ]
    },
    {
      "cell_type": "code",
      "metadata": {
        "id": "NCxI_W_-AptV",
        "colab": {
          "base_uri": "https://localhost:8080/"
        },
        "outputId": "3cf447f6-ed6f-4fdc-f260-67b373024df0"
      },
      "source": [
        "# Создадим Key-Value (HashTable) storage на 1 млн объектов\n",
        "# Ключем будет являтс id объекта от 0 до 1.000.000, значением будет являтся пустой массив\n",
        "kv_storage = {i:[] for i in range(1000000)}\n",
        "len(kv_storage)"
      ],
      "execution_count": null,
      "outputs": [
        {
          "output_type": "execute_result",
          "data": {
            "text/plain": [
              "1000000"
            ]
          },
          "metadata": {},
          "execution_count": 30
        }
      ]
    },
    {
      "cell_type": "code",
      "metadata": {
        "id": "Oq5-Bz5pBbQE",
        "colab": {
          "base_uri": "https://localhost:8080/"
        },
        "outputId": "fa04c38a-d1c9-4d29-b7ee-86d6d247c8ed"
      },
      "source": [
        "# На текущий момент наше хранилище пусто\n",
        "kv_storage[0]"
      ],
      "execution_count": null,
      "outputs": [
        {
          "output_type": "execute_result",
          "data": {
            "text/plain": [
              "[]"
            ]
          },
          "metadata": {},
          "execution_count": 31
        }
      ]
    },
    {
      "cell_type": "code",
      "metadata": {
        "id": "GFymWzNaBRwL"
      },
      "source": [
        "# Заполним наше ПУСТОЕ хранилище для каждого ключа произвольным количеством событий со случайными знаяениями:\n",
        "import numpy as np\n",
        "for k in kv_storage.keys():\n",
        "  num_events = np.random.randint(0,320)\n",
        "  new_val = np.random.uniform(low=0,high=50,size=num_events).tolist()\n",
        "  kv_storage[k].extend(new_val)"
      ],
      "execution_count": null,
      "outputs": []
    },
    {
      "cell_type": "code",
      "metadata": {
        "id": "7WN3-VWmDC1_",
        "colab": {
          "base_uri": "https://localhost:8080/"
        },
        "outputId": "75eac887-46b3-4b7a-bc97-69970026c2bd"
      },
      "source": [
        "# Теперь у нас есть данные вхранилище\n",
        "kv_storage[0]"
      ],
      "execution_count": null,
      "outputs": [
        {
          "output_type": "execute_result",
          "data": {
            "text/plain": [
              "[34.63241072522845,\n",
              " 2.4494575518712427,\n",
              " 7.320185960794018,\n",
              " 2.138756563567268,\n",
              " 5.999205885980335,\n",
              " 21.161602894486855,\n",
              " 42.05437307042092,\n",
              " 43.2645006762719,\n",
              " 8.169422655323821,\n",
              " 16.615234390685462,\n",
              " 23.889544529711017,\n",
              " 23.086210472958648,\n",
              " 27.52902440575363,\n",
              " 47.960772495519734]"
            ]
          },
          "metadata": {},
          "execution_count": 33
        }
      ]
    },
    {
      "cell_type": "code",
      "metadata": {
        "id": "QUSk2nLmL_2L"
      },
      "source": [
        "# Инициализируем вспомогательное значение sum_el/ len_el суммой элементов\n",
        "v_len = len([item for sublist in kv_storage.values() for item in sublist])\n",
        "v_sum = sum([item for sublist in kv_storage.values() for item in sublist])\n",
        "\n",
        "kv_storage['len_el']=v_len\n",
        "kv_storage['sum_el']=v_sum\n"
      ],
      "execution_count": null,
      "outputs": []
    },
    {
      "cell_type": "code",
      "source": [
        "print(f'Количество элементов =  {v_len}')\n",
        "print(f'Сумма элементов = {v_sum}')"
      ],
      "metadata": {
        "colab": {
          "base_uri": "https://localhost:8080/"
        },
        "id": "ASBV9iGV16Ij",
        "outputId": "893cff2d-1859-4bff-d5bc-2fb0d59c27d8"
      },
      "execution_count": null,
      "outputs": [
        {
          "output_type": "stream",
          "name": "stdout",
          "text": [
            "Количество элементов =  159563881\n",
            "Сумма элементов = 3989326095.97683\n"
          ]
        }
      ]
    },
    {
      "cell_type": "code",
      "source": [
        "# Переменные для хранения суммы и длины массива\n",
        "sum_of_elements = v_sum\n",
        "array_length = v_len"
      ],
      "metadata": {
        "id": "zcrgH2-r0zv3"
      },
      "execution_count": null,
      "outputs": []
    },
    {
      "cell_type": "code",
      "source": [
        "# Функция для добавления новых элементов\n",
        "def add_element(key, value):\n",
        "    global sum_of_elements, array_length\n",
        "\n",
        "    # Добавляем новый элемент в массив\n",
        "    kv_storage[key] = value\n",
        "\n",
        "    # Обновляем сумму и длину массива\n",
        "    sum_of_elements += value\n",
        "    array_length += 1\n"
      ],
      "metadata": {
        "id": "uyu-PwjC0zsN"
      },
      "execution_count": null,
      "outputs": []
    },
    {
      "cell_type": "code",
      "source": [
        "import random\n",
        "# Функция для добавления случайных значений\n",
        "def add_random_elements(keys):\n",
        "    for key in keys:\n",
        "        value = random.randint(1, 100)  # Пример генерации случайного значения от 1 до 100\n",
        "        add_element(key, value)"
      ],
      "metadata": {
        "id": "Re_ck8KL0zfr"
      },
      "execution_count": null,
      "outputs": []
    },
    {
      "cell_type": "code",
      "source": [
        "# Берем 1000 рандомных ключей, которые будем добавлять\n",
        "random_keys = random.sample(kv_storage.keys(), 1000)"
      ],
      "metadata": {
        "colab": {
          "base_uri": "https://localhost:8080/"
        },
        "id": "7IqA-sBD3yzU",
        "outputId": "626c7a91-025b-4d3f-a8f4-450b61b7517d"
      },
      "execution_count": null,
      "outputs": [
        {
          "output_type": "stream",
          "name": "stderr",
          "text": [
            "<ipython-input-40-636912803e31>:2: DeprecationWarning: Sampling from a set deprecated\n",
            "since Python 3.9 and will be removed in a subsequent version.\n",
            "  random_keys = random.sample(kv_storage.keys(), 1000)\n"
          ]
        }
      ]
    },
    {
      "cell_type": "code",
      "source": [
        "# Вызываем функцию добавления рандомных ключей\n",
        "add_random_elements(random_keys)"
      ],
      "metadata": {
        "id": "ewFhnfaC3ypx"
      },
      "execution_count": null,
      "outputs": []
    },
    {
      "cell_type": "code",
      "source": [
        "# Просмотр текущих значений суммы и длины массива, после добавления элементов\n",
        "print(\"Длина массива:\", array_length)\n",
        "print(\"Сумма элементов:\", sum_of_elements)"
      ],
      "metadata": {
        "colab": {
          "base_uri": "https://localhost:8080/"
        },
        "id": "UIvtC_Bt0zdE",
        "outputId": "83c6761d-e6e6-4105-b2f3-ab524c918a2e"
      },
      "execution_count": null,
      "outputs": [
        {
          "output_type": "stream",
          "name": "stdout",
          "text": [
            "Длина массива: 159564881\n",
            "Сумма элементов: 3989376673.97683\n"
          ]
        }
      ]
    },
    {
      "cell_type": "code",
      "source": [
        "\n",
        "print('Длина массива увеличилась на' , (array_length - v_len))\n",
        "print('Сумма элементов увеличилась на' , (sum_of_elements - v_sum))"
      ],
      "metadata": {
        "colab": {
          "base_uri": "https://localhost:8080/"
        },
        "id": "czVRWCVP0zZj",
        "outputId": "61c28a3b-c5f5-4b6b-b2c7-3d768dc59baa"
      },
      "execution_count": null,
      "outputs": [
        {
          "output_type": "stream",
          "name": "stdout",
          "text": [
            "Длина массива увеличилась на 1000\n",
            "Сумма элементов увеличилась на 50578.0\n"
          ]
        }
      ]
    },
    {
      "cell_type": "code",
      "source": [
        "kv_storage['new_len_el']=array_length\n",
        "kv_storage['new_sum_el']=sum_of_elements"
      ],
      "metadata": {
        "id": "EgXhTcTT6KiV"
      },
      "execution_count": null,
      "outputs": []
    },
    {
      "cell_type": "code",
      "source": [
        "#Теперь напишем простенький класс для расчета KPI\n",
        "class KpiBuilder():\n",
        "  def __init__(self, key):\n",
        "        self.key = key\n",
        "\n",
        "  def get(self):\n",
        "    return kv_storage.get(self.key)\n",
        "\n",
        "  def mean_20(self):\n",
        "    return sum(self.get()[:-20])/20.\n",
        "\n",
        "  def median(self):\n",
        "    m_ = self.get()\n",
        "    m_.sort()\n",
        "    if len(m_)%2==1:\n",
        "      return m_[(len(m_)/2)]\n",
        "    else:\n",
        "      return sum(m_[(len(m_)/2)-1:(len(m_)/2)+1])/2.\n",
        "\n",
        "  def non_zero_cnt(self):\n",
        "    v = self.get()\n",
        "    return len([x for x in v if x > 0])\n",
        "\n",
        "  def cnt_above_mean(self):\n",
        "    v = self.get()\n",
        "    # m_ = kv_storage['sum_el']/ float(kv_storage['len_el'])\n",
        "    m_ = kv_storage['sum_el']/ float(kv_storage['len_el'])\n",
        "\n",
        "    print (\"Mean across all elements: \",m_)\n",
        "    return len([x for x in v if x > m_])\n"
      ],
      "metadata": {
        "id": "9d_qkcb56DpA"
      },
      "execution_count": null,
      "outputs": []
    },
    {
      "cell_type": "code",
      "source": [
        "# Проверим расчет метрики на ключе 599373\n",
        "key_599373 = KpiBuilder(599373)\n",
        "print(f'Количество метрик, превышающее среднее по всем элементам {key_599373.cnt_above_mean()}')"
      ],
      "metadata": {
        "colab": {
          "base_uri": "https://localhost:8080/"
        },
        "id": "-REP_JHg6h1u",
        "outputId": "1c8ebd88-4b56-4353-a0c4-678e42aceaaa"
      },
      "execution_count": null,
      "outputs": [
        {
          "output_type": "stream",
          "name": "stdout",
          "text": [
            "Mean across all elements:  25.001435606701182\n",
            "Количество метрик, превышающее среднее по всем элементам 49\n"
          ]
        }
      ]
    }
  ]
}