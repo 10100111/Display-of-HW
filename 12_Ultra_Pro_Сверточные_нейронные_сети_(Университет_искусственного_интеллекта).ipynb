{
  "nbformat": 4,
  "nbformat_minor": 0,
  "metadata": {
    "colab": {
      "name": "12. Ultra Pro. Сверточные нейронные сети (Университет искусственного интеллекта)",
      "provenance": [],
      "include_colab_link": true
    },
    "kernelspec": {
      "name": "python3",
      "display_name": "Python 3"
    },
    "accelerator": "GPU"
  },
  "cells": [
    {
      "cell_type": "markdown",
      "metadata": {
        "id": "view-in-github",
        "colab_type": "text"
      },
      "source": [
        "<a href=\"https://colab.research.google.com/github/10100111/Display-of-HW1/blob/main/12_Ultra_Pro_%D0%A1%D0%B2%D0%B5%D1%80%D1%82%D0%BE%D1%87%D0%BD%D1%8B%D0%B5_%D0%BD%D0%B5%D0%B9%D1%80%D0%BE%D0%BD%D0%BD%D1%8B%D0%B5_%D1%81%D0%B5%D1%82%D0%B8_(%D0%A3%D0%BD%D0%B8%D0%B2%D0%B5%D1%80%D1%81%D0%B8%D1%82%D0%B5%D1%82_%D0%B8%D1%81%D0%BA%D1%83%D1%81%D1%81%D1%82%D0%B2%D0%B5%D0%BD%D0%BD%D0%BE%D0%B3%D0%BE_%D0%B8%D0%BD%D1%82%D0%B5%D0%BB%D0%BB%D0%B5%D0%BA%D1%82%D0%B0).ipynb\" target=\"_parent\"><img src=\"https://colab.research.google.com/assets/colab-badge.svg\" alt=\"Open In Colab\"/></a>"
      ]
    },
    {
      "cell_type": "code",
      "metadata": {
        "id": "KX2kuQ6rFRG8"
      },
      "source": [
        "import tensorflow.keras\n",
        "from tensorflow.keras.models import Sequential, Model  # Сеть прямого распространения\n",
        "from tensorflow.keras.layers import Dense, Dropout, Conv2D, MaxPooling2D, BatchNormalization, GlobalMaxPooling2D, \\\n",
        "    GlobalAveragePooling2D, AveragePooling2D, Flatten, ZeroPadding2D, Activation\n",
        "\n",
        "from tensorflow.keras import utils  # Используем дял to_categoricall\n",
        "from tensorflow.keras.preprocessing import image  # Для отрисовки изображений\n",
        "from tensorflow.python.keras.preprocessing.image import ImageDataGenerator\n",
        "import numpy as np  # Библиотека работы с массивами\n",
        "import matplotlib.pyplot as plt  # Для отрисовки графиков\n",
        "from PIL import Image  # Для отрисовки изображений\n",
        "from tensorflow.keras.optimizers import Adam"
      ],
      "execution_count": null,
      "outputs": []
    },
    {
      "cell_type": "code",
      "metadata": {
        "id": "WZpzC4qWFz_F",
        "colab": {
          "base_uri": "https://localhost:8080/"
        },
        "outputId": "d116a96e-49d7-46de-cfdc-e0f155e08aa0"
      },
      "source": [
        "from google.colab import drive\n",
        "drive.mount('/content/drive')"
      ],
      "execution_count": null,
      "outputs": [
        {
          "output_type": "stream",
          "name": "stdout",
          "text": [
            "Mounted at /content/drive\n"
          ]
        }
      ]
    },
    {
      "cell_type": "code",
      "metadata": {
        "colab": {
          "base_uri": "https://localhost:8080/",
          "height": 35
        },
        "id": "B9n3sIXFVTkD",
        "outputId": "dd707f30-7861-402f-a92f-d417931da279"
      },
      "source": [
        "import gdown\n",
        "# Загрузка zip-архива с датасетом из облака на диск виртуальной машины colab\n",
        "gdown.download('https://storage.googleapis.com/datasets_ai/Base/5_Conv/middle_fmr.zip', None, quiet=True)"
      ],
      "execution_count": null,
      "outputs": [
        {
          "output_type": "execute_result",
          "data": {
            "application/vnd.google.colaboratory.intrinsic+json": {
              "type": "string"
            },
            "text/plain": [
              "'middle_fmr.zip'"
            ]
          },
          "metadata": {},
          "execution_count": 9
        }
      ]
    },
    {
      "cell_type": "code",
      "metadata": {
        "id": "7-PR41tAF0aB"
      },
      "source": [
        "!unzip -q \"middle_fmr.zip\" -d /content/cars #Указываем путь к базе в Google Drive"
      ],
      "execution_count": null,
      "outputs": []
    },
    {
      "cell_type": "code",
      "metadata": {
        "id": "c4vqBKAUGNHx"
      },
      "source": [
        "train_path = '/content/cars' #Папка с папками картинок, рассортированных по категориям\n",
        "batch_size = 80 #Размер выборки\n",
        "img_width = 96 #Ширина изображения\n",
        "img_height = 54 #Высота изображения"
      ],
      "execution_count": null,
      "outputs": []
    },
    {
      "cell_type": "code",
      "metadata": {
        "id": "RIzeg2MlGU0J",
        "colab": {
          "base_uri": "https://localhost:8080/"
        },
        "outputId": "676ceacb-fa69-4af3-d4e8-262cbdebd278"
      },
      "source": [
        "#Генератор изображений для обучения\n",
        "train_datagen = ImageDataGenerator(\n",
        "    rescale=1. / 255, #Значения цвета меняем на дробные показания\n",
        "    rotation_range=4,  #Поворачиваем изображения при генерации выборки в диапазоне на 4 градуса\n",
        "    width_shift_range=0.04, #Диапазон сдвига по ширине 0.04 (можно от -1 до 1)\n",
        "    height_shift_range=0.04, #Диапазон сдвига по высоте в долях от общей высоты 0.04 (можно от -1 до 1)\n",
        "    zoom_range=[0.8, 1.0], #Диапазон случайного увеличения (зумирование)\n",
        "    shear_range=0.04, #Угол сдвига против часовой стрелки в градусах\n",
        "    brightness_range=[0.3, 1.0], #яркость_диапазона   \n",
        "    validation_split=0.2\n",
        ")\n",
        "# обучающая выборка\n",
        "train_generator = train_datagen.flow_from_directory(\n",
        "    train_path,\n",
        "    target_size=(img_width, img_height),\n",
        "    batch_size=batch_size,\n",
        "    class_mode='categorical'\n",
        ")\n",
        "\n",
        "validation_datagen = ImageDataGenerator(\n",
        "    rescale=1. / 255, #Значения цвета меняем на дробные показания\n",
        "    validation_split=0.2 #Указываем размер валидационной выборки\n",
        ")\n",
        "\n",
        "# Проверочная выборка\n",
        "validation_generator = validation_datagen.flow_from_directory(\n",
        "    train_path,\n",
        "    target_size=(img_width, img_height),\n",
        "    batch_size=batch_size,\n",
        "    class_mode='categorical',\n",
        "    subset='validation'\n",
        ")"
      ],
      "execution_count": null,
      "outputs": [
        {
          "output_type": "stream",
          "name": "stdout",
          "text": [
            "Found 3427 images belonging to 3 classes.\n",
            "Found 684 images belonging to 3 classes.\n"
          ]
        }
      ]
    },
    {
      "cell_type": "code",
      "metadata": {
        "id": "VOK-QdKrGkWp",
        "colab": {
          "base_uri": "https://localhost:8080/"
        },
        "outputId": "948631a0-b8c2-4d80-ba75-3a19f2777e18"
      },
      "source": [
        "model = Sequential()\n",
        "\n",
        "model.add(Conv2D(32, (3, 3), padding='same', activation='relu', input_shape=(img_width, img_height, 3)))\n",
        "model.add(Conv2D(32, (3, 3), padding='same', activation='relu'))\n",
        "model.add(MaxPooling2D(pool_size=(2, 2)))\n",
        "model.add(Dropout(0.2))\n",
        "model.add(Conv2D(64, (3, 3), padding='same', activation='relu'))\n",
        "model.add(MaxPooling2D(pool_size=(2, 2)))\n",
        "model.add(Conv2D(64, (3, 3), padding='same', activation='relu'))\n",
        "model.add(MaxPooling2D(pool_size=(2, 2)))\n",
        "model.add(Conv2D(128, (3, 3), padding='same', activation='relu'))\n",
        "model.add(MaxPooling2D(pool_size=(2, 2)))\n",
        "model.add(Conv2D(128, (3, 3), padding='same', activation='relu'))\n",
        "model.add(MaxPooling2D(pool_size=(2, 2)))\n",
        "model.add(Flatten())\n",
        "model.add(Dense(128, activation='relu'))\n",
        "model.add(Dense(len(train_generator.class_indices), activation='softmax'))\n",
        "\n",
        "model.compile(loss='categorical_crossentropy', optimizer='adam', metrics=['accuracy'])\n",
        "\n",
        "model.summary()"
      ],
      "execution_count": null,
      "outputs": [
        {
          "output_type": "stream",
          "name": "stdout",
          "text": [
            "Model: \"sequential\"\n",
            "_________________________________________________________________\n",
            "Layer (type)                 Output Shape              Param #   \n",
            "=================================================================\n",
            "conv2d (Conv2D)              (None, 96, 54, 32)        896       \n",
            "_________________________________________________________________\n",
            "conv2d_1 (Conv2D)            (None, 96, 54, 32)        9248      \n",
            "_________________________________________________________________\n",
            "max_pooling2d (MaxPooling2D) (None, 48, 27, 32)        0         \n",
            "_________________________________________________________________\n",
            "dropout (Dropout)            (None, 48, 27, 32)        0         \n",
            "_________________________________________________________________\n",
            "conv2d_2 (Conv2D)            (None, 48, 27, 64)        18496     \n",
            "_________________________________________________________________\n",
            "max_pooling2d_1 (MaxPooling2 (None, 24, 13, 64)        0         \n",
            "_________________________________________________________________\n",
            "conv2d_3 (Conv2D)            (None, 24, 13, 64)        36928     \n",
            "_________________________________________________________________\n",
            "max_pooling2d_2 (MaxPooling2 (None, 12, 6, 64)         0         \n",
            "_________________________________________________________________\n",
            "conv2d_4 (Conv2D)            (None, 12, 6, 128)        73856     \n",
            "_________________________________________________________________\n",
            "max_pooling2d_3 (MaxPooling2 (None, 6, 3, 128)         0         \n",
            "_________________________________________________________________\n",
            "conv2d_5 (Conv2D)            (None, 6, 3, 128)         147584    \n",
            "_________________________________________________________________\n",
            "max_pooling2d_4 (MaxPooling2 (None, 3, 1, 128)         0         \n",
            "_________________________________________________________________\n",
            "flatten (Flatten)            (None, 384)               0         \n",
            "_________________________________________________________________\n",
            "dense (Dense)                (None, 128)               49280     \n",
            "_________________________________________________________________\n",
            "dense_1 (Dense)              (None, 3)                 387       \n",
            "=================================================================\n",
            "Total params: 336,675\n",
            "Trainable params: 336,675\n",
            "Non-trainable params: 0\n",
            "_________________________________________________________________\n"
          ]
        }
      ]
    },
    {
      "cell_type": "code",
      "metadata": {
        "id": "I6i3W_RBG_cV"
      },
      "source": [
        "epochs = 40 "
      ],
      "execution_count": null,
      "outputs": []
    },
    {
      "cell_type": "code",
      "metadata": {
        "id": "jwkYMZerGwMx",
        "colab": {
          "base_uri": "https://localhost:8080/"
        },
        "outputId": "b774fb3f-0089-4952-a7b2-abcf8d019c80"
      },
      "source": [
        "model.fit_generator(\n",
        "    train_generator,\n",
        "    steps_per_epoch=train_generator.samples // batch_size,\n",
        "    validation_data=validation_generator,\n",
        "    validation_steps=validation_generator.samples // batch_size,\n",
        "    epochs=epochs,\n",
        "    verbose=1\n",
        ")"
      ],
      "execution_count": null,
      "outputs": [
        {
          "output_type": "stream",
          "name": "stderr",
          "text": [
            "/usr/local/lib/python3.7/dist-packages/keras/engine/training.py:1972: UserWarning: `Model.fit_generator` is deprecated and will be removed in a future version. Please use `Model.fit`, which supports generators.\n",
            "  warnings.warn('`Model.fit_generator` is deprecated and '\n"
          ]
        },
        {
          "output_type": "stream",
          "name": "stdout",
          "text": [
            "Epoch 1/40\n",
            "42/42 [==============================] - 41s 308ms/step - loss: 0.9953 - accuracy: 0.4798 - val_loss: 0.9405 - val_accuracy: 0.5359\n",
            "Epoch 2/40\n",
            "42/42 [==============================] - 12s 296ms/step - loss: 0.9125 - accuracy: 0.5369 - val_loss: 0.9613 - val_accuracy: 0.5016\n",
            "Epoch 3/40\n",
            "42/42 [==============================] - 12s 296ms/step - loss: 0.9088 - accuracy: 0.5596 - val_loss: 0.9662 - val_accuracy: 0.5250\n",
            "Epoch 4/40\n",
            "42/42 [==============================] - 13s 298ms/step - loss: 0.8777 - accuracy: 0.5919 - val_loss: 0.8919 - val_accuracy: 0.5750\n",
            "Epoch 5/40\n",
            "42/42 [==============================] - 12s 291ms/step - loss: 0.8671 - accuracy: 0.5937 - val_loss: 0.8779 - val_accuracy: 0.5828\n",
            "Epoch 6/40\n",
            "42/42 [==============================] - 12s 290ms/step - loss: 0.8631 - accuracy: 0.6005 - val_loss: 0.8694 - val_accuracy: 0.6047\n",
            "Epoch 7/40\n",
            "42/42 [==============================] - 12s 290ms/step - loss: 0.8166 - accuracy: 0.6256 - val_loss: 0.8544 - val_accuracy: 0.6391\n",
            "Epoch 8/40\n",
            "42/42 [==============================] - 12s 291ms/step - loss: 0.7898 - accuracy: 0.6498 - val_loss: 0.8386 - val_accuracy: 0.6375\n",
            "Epoch 9/40\n",
            "42/42 [==============================] - 12s 292ms/step - loss: 0.7501 - accuracy: 0.6702 - val_loss: 0.9574 - val_accuracy: 0.6109\n",
            "Epoch 10/40\n",
            "42/42 [==============================] - 12s 289ms/step - loss: 0.7501 - accuracy: 0.6782 - val_loss: 0.7594 - val_accuracy: 0.6703\n",
            "Epoch 11/40\n",
            "42/42 [==============================] - 13s 299ms/step - loss: 0.6859 - accuracy: 0.7030 - val_loss: 0.6651 - val_accuracy: 0.7094\n",
            "Epoch 12/40\n",
            "42/42 [==============================] - 12s 291ms/step - loss: 0.6709 - accuracy: 0.7147 - val_loss: 0.7715 - val_accuracy: 0.6828\n",
            "Epoch 13/40\n",
            "42/42 [==============================] - 12s 292ms/step - loss: 0.6260 - accuracy: 0.7320 - val_loss: 0.6730 - val_accuracy: 0.7281\n",
            "Epoch 14/40\n",
            "42/42 [==============================] - 12s 291ms/step - loss: 0.5928 - accuracy: 0.7437 - val_loss: 0.5508 - val_accuracy: 0.7719\n",
            "Epoch 15/40\n",
            "42/42 [==============================] - 12s 295ms/step - loss: 0.5706 - accuracy: 0.7601 - val_loss: 0.5667 - val_accuracy: 0.7453\n",
            "Epoch 16/40\n",
            "42/42 [==============================] - 12s 290ms/step - loss: 0.5080 - accuracy: 0.7950 - val_loss: 0.5476 - val_accuracy: 0.7781\n",
            "Epoch 17/40\n",
            "42/42 [==============================] - 12s 292ms/step - loss: 0.4830 - accuracy: 0.7953 - val_loss: 0.5617 - val_accuracy: 0.7625\n",
            "Epoch 18/40\n",
            "42/42 [==============================] - 12s 291ms/step - loss: 0.4494 - accuracy: 0.8228 - val_loss: 0.4296 - val_accuracy: 0.8344\n",
            "Epoch 19/40\n",
            "42/42 [==============================] - 12s 294ms/step - loss: 0.4298 - accuracy: 0.8291 - val_loss: 0.3877 - val_accuracy: 0.8500\n",
            "Epoch 20/40\n",
            "42/42 [==============================] - 12s 294ms/step - loss: 0.3900 - accuracy: 0.8476 - val_loss: 0.3175 - val_accuracy: 0.8672\n",
            "Epoch 21/40\n",
            "42/42 [==============================] - 12s 292ms/step - loss: 0.3907 - accuracy: 0.8405 - val_loss: 0.4740 - val_accuracy: 0.8156\n",
            "Epoch 22/40\n",
            "42/42 [==============================] - 12s 292ms/step - loss: 0.3409 - accuracy: 0.8629 - val_loss: 0.3579 - val_accuracy: 0.8641\n",
            "Epoch 23/40\n",
            "42/42 [==============================] - 12s 296ms/step - loss: 0.3077 - accuracy: 0.8826 - val_loss: 0.2970 - val_accuracy: 0.8766\n",
            "Epoch 24/40\n",
            "42/42 [==============================] - 12s 292ms/step - loss: 0.2948 - accuracy: 0.8850 - val_loss: 0.3308 - val_accuracy: 0.8719\n",
            "Epoch 25/40\n",
            "42/42 [==============================] - 12s 291ms/step - loss: 0.2695 - accuracy: 0.8969 - val_loss: 0.2443 - val_accuracy: 0.8953\n",
            "Epoch 26/40\n",
            "42/42 [==============================] - 12s 291ms/step - loss: 0.2509 - accuracy: 0.9008 - val_loss: 0.3472 - val_accuracy: 0.8734\n",
            "Epoch 27/40\n",
            "42/42 [==============================] - 12s 290ms/step - loss: 0.2314 - accuracy: 0.9131 - val_loss: 0.2286 - val_accuracy: 0.9250\n",
            "Epoch 28/40\n",
            "42/42 [==============================] - 12s 290ms/step - loss: 0.2261 - accuracy: 0.9128 - val_loss: 0.1636 - val_accuracy: 0.9234\n",
            "Epoch 29/40\n",
            "42/42 [==============================] - 12s 291ms/step - loss: 0.2157 - accuracy: 0.9202 - val_loss: 0.2192 - val_accuracy: 0.9141\n",
            "Epoch 30/40\n",
            "42/42 [==============================] - 12s 293ms/step - loss: 0.1869 - accuracy: 0.9277 - val_loss: 0.1771 - val_accuracy: 0.9344\n",
            "Epoch 31/40\n",
            "42/42 [==============================] - 12s 292ms/step - loss: 0.1890 - accuracy: 0.9283 - val_loss: 0.2072 - val_accuracy: 0.9187\n",
            "Epoch 32/40\n",
            "42/42 [==============================] - 12s 290ms/step - loss: 0.1646 - accuracy: 0.9376 - val_loss: 0.1689 - val_accuracy: 0.9359\n",
            "Epoch 33/40\n",
            "42/42 [==============================] - 12s 289ms/step - loss: 0.1372 - accuracy: 0.9444 - val_loss: 0.1214 - val_accuracy: 0.9516\n",
            "Epoch 34/40\n",
            "42/42 [==============================] - 12s 292ms/step - loss: 0.1244 - accuracy: 0.9567 - val_loss: 0.1102 - val_accuracy: 0.9625\n",
            "Epoch 35/40\n",
            "42/42 [==============================] - 12s 293ms/step - loss: 0.1373 - accuracy: 0.9543 - val_loss: 0.1164 - val_accuracy: 0.9594\n",
            "Epoch 36/40\n",
            "42/42 [==============================] - 12s 292ms/step - loss: 0.1567 - accuracy: 0.9411 - val_loss: 0.1323 - val_accuracy: 0.9594\n",
            "Epoch 37/40\n",
            "42/42 [==============================] - 12s 291ms/step - loss: 0.1454 - accuracy: 0.9492 - val_loss: 0.1047 - val_accuracy: 0.9656\n",
            "Epoch 38/40\n",
            "42/42 [==============================] - 12s 293ms/step - loss: 0.0983 - accuracy: 0.9653 - val_loss: 0.3146 - val_accuracy: 0.9172\n",
            "Epoch 39/40\n",
            "42/42 [==============================] - 12s 294ms/step - loss: 0.1227 - accuracy: 0.9570 - val_loss: 0.2417 - val_accuracy: 0.9187\n",
            "Epoch 40/40\n",
            "42/42 [==============================] - 12s 294ms/step - loss: 0.1297 - accuracy: 0.9516 - val_loss: 0.1282 - val_accuracy: 0.9563\n"
          ]
        },
        {
          "output_type": "execute_result",
          "data": {
            "text/plain": [
              "<keras.callbacks.History at 0x7fbce54be850>"
            ]
          },
          "metadata": {},
          "execution_count": 15
        }
      ]
    },
    {
      "cell_type": "code",
      "metadata": {
        "id": "LBIfipZ-TIxp"
      },
      "source": [
        "model.save('cars.h5')"
      ],
      "execution_count": null,
      "outputs": []
    },
    {
      "cell_type": "code",
      "metadata": {
        "id": "eAHwxJJWIrm-"
      },
      "source": [
        ""
      ],
      "execution_count": null,
      "outputs": []
    }
  ]
}