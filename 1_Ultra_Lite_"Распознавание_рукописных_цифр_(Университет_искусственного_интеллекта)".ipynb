{
  "nbformat": 4,
  "nbformat_minor": 0,
  "metadata": {
    "colab": {
      "name": "1.Ultra Lite. \"Распознавание рукописных цифр (Университет искусственного интеллекта)\"",
      "provenance": [],
      "collapsed_sections": [
        "jjqH_JaURnnK",
        "c4pg0HUQCdFk",
        "MMkWv4VhC2ti",
        "iD7hR5hXNLUe",
        "rrWmNM6jKBrc",
        "rstrtRs2O1so",
        "5BUXluCMWpMB",
        "dntk9WK6TbA-",
        "6tP0Iq2NX9qK",
        "c3-PovDMb2TU",
        "n3UgLD14-l72",
        "qLX9aj3eFCPB",
        "Pa2_uq889QCz"
      ],
      "include_colab_link": true
    },
    "kernelspec": {
      "name": "python3",
      "display_name": "Python 3"
    },
    "accelerator": "GPU"
  },
  "cells": [
    {
      "cell_type": "markdown",
      "metadata": {
        "id": "view-in-github",
        "colab_type": "text"
      },
      "source": [
        "<a href=\"https://colab.research.google.com/github/10100111/Display-of-HW1/blob/main/1_Ultra_Lite_%22%D0%A0%D0%B0%D1%81%D0%BF%D0%BE%D0%B7%D0%BD%D0%B0%D0%B2%D0%B0%D0%BD%D0%B8%D0%B5_%D1%80%D1%83%D0%BA%D0%BE%D0%BF%D0%B8%D1%81%D0%BD%D1%8B%D1%85_%D1%86%D0%B8%D1%84%D1%80_(%D0%A3%D0%BD%D0%B8%D0%B2%D0%B5%D1%80%D1%81%D0%B8%D1%82%D0%B5%D1%82_%D0%B8%D1%81%D0%BA%D1%83%D1%81%D1%81%D1%82%D0%B2%D0%B5%D0%BD%D0%BD%D0%BE%D0%B3%D0%BE_%D0%B8%D0%BD%D1%82%D0%B5%D0%BB%D0%BB%D0%B5%D0%BA%D1%82%D0%B0)%22.ipynb\" target=\"_parent\"><img src=\"https://colab.research.google.com/assets/colab-badge.svg\" alt=\"Open In Colab\"/></a>"
      ]
    },
    {
      "cell_type": "markdown",
      "metadata": {
        "id": "Z4M2Jz0wo6sT"
      },
      "source": [
        "Задание Ultra Lite\n"
      ]
    },
    {
      "cell_type": "code",
      "metadata": {
        "id": "OAMphP-JpAxs"
      },
      "source": [
        "# 1. Импорт библиотек\n",
        "from tensorflow.keras.datasets import mnist\n",
        "from tensorflow.keras.models import Sequential\n",
        "from tensorflow.keras.layers import Dense\n",
        "from tensorflow.keras.optimizers import Adam\n",
        "from tensorflow.keras import utils\n",
        "from tensorflow.keras.preprocessing import image\n",
        "import numpy as np\n",
        "import pylab\n",
        "from mpl_toolkits.mplot3d import Axes3D\n",
        "import matplotlib.pyplot as plt\n",
        "from PIL import Image\n",
        "%matplotlib inline"
      ],
      "execution_count": null,
      "outputs": []
    },
    {
      "cell_type": "code",
      "metadata": {
        "id": "jpfvZWJqgXQq"
      },
      "source": [
        "# 2. Загрузка базы mnist\n",
        "(x_train_org, y_train_org), (x_test_org, y_test_org) = mnist.load_data()"
      ],
      "execution_count": null,
      "outputs": []
    },
    {
      "cell_type": "code",
      "metadata": {
        "id": "Wq2nCNw5gnWi"
      },
      "source": [
        "# 3. Нормирование и преобразование x_train и y_train.\n",
        "x_train = x_train_org.reshape(60000, 784)\n",
        "x_test = x_test_org.reshape(10000, 784)\n",
        "x_train = x_train.astype('float32')\n",
        "x_train = x_train/255\n",
        "x_test = x_test.astype('float32')\n",
        "x_test = x_test/255\n",
        "y_train = utils.to_categorical(y_train_org,10)\n",
        "Y_test = utils.to_categorical(y_test_org,10)"
      ],
      "execution_count": null,
      "outputs": []
    },
    {
      "cell_type": "code",
      "metadata": {
        "colab": {
          "base_uri": "https://localhost:8080/"
        },
        "id": "Mh9SmfH_leXp",
        "outputId": "0a37749c-7768-4ab1-c75c-e63b03c739c5"
      },
      "source": [
        "# 4. Создание нейронной сети\n",
        "model = Sequential()\n",
        "model.add(Dense(800, input_dim = 784, activation = 'relu'))\n",
        "model.add(Dense(400, activation = 'relu'))\n",
        "model.add(Dense(10, activation = 'softmax'))\n",
        "\n",
        "model.compile(loss = 'categorical_crossentropy', optimizer = 'adam', metrics = 'accuracy')\n",
        "print(model.summary())"
      ],
      "execution_count": null,
      "outputs": [
        {
          "output_type": "stream",
          "text": [
            "Model: \"sequential_3\"\n",
            "_________________________________________________________________\n",
            "Layer (type)                 Output Shape              Param #   \n",
            "=================================================================\n",
            "dense_3 (Dense)              (None, 800)               628000    \n",
            "_________________________________________________________________\n",
            "dense_4 (Dense)              (None, 400)               320400    \n",
            "_________________________________________________________________\n",
            "dense_5 (Dense)              (None, 10)                4010      \n",
            "=================================================================\n",
            "Total params: 952,410\n",
            "Trainable params: 952,410\n",
            "Non-trainable params: 0\n",
            "_________________________________________________________________\n",
            "None\n"
          ],
          "name": "stdout"
        }
      ]
    },
    {
      "cell_type": "code",
      "metadata": {
        "colab": {
          "base_uri": "https://localhost:8080/"
        },
        "id": "07jnuuLgm7u-",
        "outputId": "8299a937-0cc6-49a6-8865-dbf045a77cdf"
      },
      "source": [
        "# 5. Обучение нейронной сети.\n",
        "model.fit(x_train, y_train, batch_size = 128, epochs = 15, verbose = 1)\n"
      ],
      "execution_count": null,
      "outputs": [
        {
          "output_type": "stream",
          "text": [
            "Epoch 1/15\n",
            "469/469 [==============================] - 5s 4ms/step - loss: 0.2045 - accuracy: 0.9382\n",
            "Epoch 2/15\n",
            "469/469 [==============================] - 2s 4ms/step - loss: 0.0755 - accuracy: 0.9769\n",
            "Epoch 3/15\n",
            "469/469 [==============================] - 2s 4ms/step - loss: 0.0470 - accuracy: 0.9850\n",
            "Epoch 4/15\n",
            "469/469 [==============================] - 2s 4ms/step - loss: 0.0329 - accuracy: 0.9893\n",
            "Epoch 5/15\n",
            "469/469 [==============================] - 2s 4ms/step - loss: 0.0256 - accuracy: 0.9917\n",
            "Epoch 6/15\n",
            "469/469 [==============================] - 2s 4ms/step - loss: 0.0211 - accuracy: 0.9930\n",
            "Epoch 7/15\n",
            "469/469 [==============================] - 2s 4ms/step - loss: 0.0178 - accuracy: 0.9943\n",
            "Epoch 8/15\n",
            "469/469 [==============================] - 2s 4ms/step - loss: 0.0175 - accuracy: 0.9944\n",
            "Epoch 9/15\n",
            "469/469 [==============================] - 2s 4ms/step - loss: 0.0153 - accuracy: 0.9949\n",
            "Epoch 10/15\n",
            "469/469 [==============================] - 2s 4ms/step - loss: 0.0119 - accuracy: 0.9961\n",
            "Epoch 11/15\n",
            "469/469 [==============================] - 2s 4ms/step - loss: 0.0144 - accuracy: 0.9954\n",
            "Epoch 12/15\n",
            "469/469 [==============================] - 2s 4ms/step - loss: 0.0096 - accuracy: 0.9968\n",
            "Epoch 13/15\n",
            "469/469 [==============================] - 2s 4ms/step - loss: 0.0095 - accuracy: 0.9967\n",
            "Epoch 14/15\n",
            "469/469 [==============================] - 2s 4ms/step - loss: 0.0088 - accuracy: 0.9973\n",
            "Epoch 15/15\n",
            "469/469 [==============================] - 2s 4ms/step - loss: 0.0083 - accuracy: 0.9973\n"
          ],
          "name": "stdout"
        },
        {
          "output_type": "execute_result",
          "data": {
            "text/plain": [
              "<keras.callbacks.History at 0x7f1bf00df9d0>"
            ]
          },
          "metadata": {},
          "execution_count": 31
        }
      ]
    }
  ]
}