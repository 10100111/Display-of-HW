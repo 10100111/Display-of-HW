{
  "nbformat": 4,
  "nbformat_minor": 0,
  "metadata": {
    "colab": {
      "name": "35. Pro. Автокодировщики (Университет искусственного интеллекта)\"",
      "provenance": [],
      "collapsed_sections": [
        "QP1JVMsTum5s"
      ],
      "toc_visible": true,
      "include_colab_link": true
    },
    "kernelspec": {
      "name": "python3",
      "display_name": "Python 3"
    },
    "accelerator": "GPU"
  },
  "cells": [
    {
      "cell_type": "markdown",
      "metadata": {
        "id": "view-in-github",
        "colab_type": "text"
      },
      "source": [
        "<a href=\"https://colab.research.google.com/github/10100111/Display-of-HW1/blob/main/35_Pro_%D0%90%D0%B2%D1%82%D0%BE%D0%BA%D0%BE%D0%B4%D0%B8%D1%80%D0%BE%D0%B2%D1%89%D0%B8%D0%BA%D0%B8_(%D0%A3%D0%BD%D0%B8%D0%B2%D0%B5%D1%80%D1%81%D0%B8%D1%82%D0%B5%D1%82_%D0%B8%D1%81%D0%BA%D1%83%D1%81%D1%81%D1%82%D0%B2%D0%B5%D0%BD%D0%BD%D0%BE%D0%B3%D0%BE_%D0%B8%D0%BD%D1%82%D0%B5%D0%BB%D0%BB%D0%B5%D0%BA%D1%82%D0%B0)%22.ipynb\" target=\"_parent\"><img src=\"https://colab.research.google.com/assets/colab-badge.svg\" alt=\"Open In Colab\"/></a>"
      ]
    },
    {
      "cell_type": "markdown",
      "source": [
        "Задание Pro\n",
        "\n",
        "Макс 10 баллов\n",
        "\n",
        "Добейтесь средней точности 91-92% в задаче поиска мошеннических операций. Для этого попробуйте сделать более мощный автокодировщик и гибкую настройку порога (bias), по которому мы определяем, мошенническая транзакция или нет\n",
        "\n",
        "Постройте на одном графике 2 гистограммы (density=True) для нормальных и мошеннических транзакций. По графику определите 3 порога:\n",
        "\n",
        "1) при котором все мошеннические транзакции будут пойманы\n",
        "\n",
        "2) “оптимальный порог” - на пересечении распределений\n",
        "\n",
        "3) при котором ни одна нормальная транзакция не будет распознана, как мошенническая"
      ],
      "metadata": {
        "id": "upzxRIsPFcsH"
      }
    },
    {
      "cell_type": "markdown",
      "metadata": {
        "id": "qc7BJnQF8zam"
      },
      "source": [
        "# Загрузка данных\n"
      ]
    },
    {
      "cell_type": "code",
      "metadata": {
        "id": "0hyWYiPqLdez"
      },
      "source": [
        "from tensorflow.keras.models import Model, Sequential # загружаем абстрактный класс базовой модели сети от кераса и последовательную модель\n",
        "# Из кераса загружаем необходимые слои для нейросети\n",
        "from tensorflow.keras.layers import Dense, Flatten, Reshape, Input, Conv2DTranspose, concatenate, Activation, MaxPooling2D, Conv2D, BatchNormalization\n",
        "from tensorflow.keras import backend as K # подтягиваем базовые керасовские функции\n",
        "from tensorflow.keras.optimizers import Adam # загружаем выбранный оптимизатор\n",
        "from tensorflow.keras import utils # загружаем утилиты кераса\n",
        "from tensorflow.keras.datasets import mnist, fashion_mnist # загружаем готовые базы mnist\n",
        "from tensorflow.keras.callbacks import LambdaCallback\n",
        "\n",
        "import matplotlib.pyplot as plt # из библиотеки для визуализации данных возьмём интерфейс для построения графиков простых функций\n",
        "from tensorflow.keras.preprocessing import image # модуль для отрисовки изображения\n",
        "import numpy as np # библиотека для работы с массивами данных\n",
        "import pandas as pd # библиотека для анализа и обработки данных\n",
        "from PIL import Image # модуль для отрисовки изображения\n",
        "from sklearn.model_selection import train_test_split # модуль для разбивки выборки на тренировочную/тестовую\n",
        "from sklearn.preprocessing import StandardScaler # модуль для стандартизации данных\n",
        "\n",
        "import os #\n",
        "from google.colab import drive #модуль для работы с google диском \n",
        "import time, random\n",
        "import seaborn as sns\n",
        "sns.set_style('darkgrid')"
      ],
      "execution_count": null,
      "outputs": []
    },
    {
      "cell_type": "code",
      "metadata": {
        "id": "A0z0yyCJEs0v",
        "colab": {
          "base_uri": "https://localhost:8080/"
        },
        "outputId": "d8c35639-d8a3-48f1-ca6f-fee70fe34bf9"
      },
      "source": [
        "drive.mount('/content/drive/') # монтируем google диск"
      ],
      "execution_count": null,
      "outputs": [
        {
          "output_type": "stream",
          "name": "stdout",
          "text": [
            "Mounted at /content/drive/\n"
          ]
        }
      ]
    },
    {
      "cell_type": "code",
      "metadata": {
        "id": "rMpOvVyhoCOC"
      },
      "source": [
        "# Функция для расчета mse\n",
        "def getMSE(x1, x2): # создадим функцию среднеквадратичной ошибки\n",
        "  x1 = x1.flatten() # сплющиваем в одномерный вектор\n",
        "  x2 = x2.flatten() # сплющиваем в одномерный вектор\n",
        "  delta = x1 - x2 # находим разницу\n",
        "  return sum(delta ** 2) / len(delta) # и возвращаем сумму квадратов разницы, делённую на длину разницы"
      ],
      "execution_count": null,
      "outputs": []
    },
    {
      "cell_type": "code",
      "metadata": {
        "id": "CU-DVDjpqKUz",
        "colab": {
          "base_uri": "https://localhost:8080/"
        },
        "outputId": "60733abc-623b-4aa8-c172-15b9209813c6"
      },
      "source": [
        "# Зададим пару массивов и проверим работу функции\n",
        "x1 = np.array([1, 1, 1]) # создаем первый массив\n",
        "x2 = np.array([1, 1, 1]) # создаем второй массив\n",
        "print(getMSE(x1,x2)) # выведем ошибку полученную нашей функцией"
      ],
      "execution_count": null,
      "outputs": [
        {
          "output_type": "stream",
          "name": "stdout",
          "text": [
            "0.0\n"
          ]
        }
      ]
    },
    {
      "cell_type": "code",
      "metadata": {
        "colab": {
          "base_uri": "https://localhost:8080/"
        },
        "id": "tK_GrC-etduZ",
        "outputId": "b9fe4985-73b7-4f41-c307-4d0110ac1098"
      },
      "source": [
        "# Зададим пару массивов и проверим работу функции\n",
        "x1 = np.array([1, 1, 1, 1]) # создаем первый массив\n",
        "x2 = np.array([1, 1, 0, 0]) # создаем второй массив\n",
        "print(getMSE(x1,x2)) # выведем ошибку полученную нашей функцией"
      ],
      "execution_count": null,
      "outputs": [
        {
          "output_type": "stream",
          "name": "stdout",
          "text": [
            "0.5\n"
          ]
        }
      ]
    },
    {
      "cell_type": "code",
      "metadata": {
        "id": "89p7GynPQM4F"
      },
      "source": [
        "df = pd.read_csv('/content/drive/MyDrive/Colab Notebooks/Базы/creditcard.csv') # читаем базу"
      ],
      "execution_count": null,
      "outputs": []
    },
    {
      "cell_type": "code",
      "metadata": {
        "id": "wZ6_P099QNn9",
        "colab": {
          "base_uri": "https://localhost:8080/",
          "height": 270
        },
        "outputId": "e2add98a-1315-4736-f88f-f4efa5df8de9"
      },
      "source": [
        "df.head() # выводим первые пять строк"
      ],
      "execution_count": null,
      "outputs": [
        {
          "output_type": "execute_result",
          "data": {
            "text/html": [
              "\n",
              "  <div id=\"df-96735246-1154-4b97-ba61-d7763154600b\">\n",
              "    <div class=\"colab-df-container\">\n",
              "      <div>\n",
              "<style scoped>\n",
              "    .dataframe tbody tr th:only-of-type {\n",
              "        vertical-align: middle;\n",
              "    }\n",
              "\n",
              "    .dataframe tbody tr th {\n",
              "        vertical-align: top;\n",
              "    }\n",
              "\n",
              "    .dataframe thead th {\n",
              "        text-align: right;\n",
              "    }\n",
              "</style>\n",
              "<table border=\"1\" class=\"dataframe\">\n",
              "  <thead>\n",
              "    <tr style=\"text-align: right;\">\n",
              "      <th></th>\n",
              "      <th>Time</th>\n",
              "      <th>V1</th>\n",
              "      <th>V2</th>\n",
              "      <th>V3</th>\n",
              "      <th>V4</th>\n",
              "      <th>V5</th>\n",
              "      <th>V6</th>\n",
              "      <th>V7</th>\n",
              "      <th>V8</th>\n",
              "      <th>V9</th>\n",
              "      <th>V10</th>\n",
              "      <th>V11</th>\n",
              "      <th>V12</th>\n",
              "      <th>V13</th>\n",
              "      <th>V14</th>\n",
              "      <th>V15</th>\n",
              "      <th>V16</th>\n",
              "      <th>V17</th>\n",
              "      <th>V18</th>\n",
              "      <th>V19</th>\n",
              "      <th>V20</th>\n",
              "      <th>V21</th>\n",
              "      <th>V22</th>\n",
              "      <th>V23</th>\n",
              "      <th>V24</th>\n",
              "      <th>V25</th>\n",
              "      <th>V26</th>\n",
              "      <th>V27</th>\n",
              "      <th>V28</th>\n",
              "      <th>Amount</th>\n",
              "      <th>Class</th>\n",
              "    </tr>\n",
              "  </thead>\n",
              "  <tbody>\n",
              "    <tr>\n",
              "      <th>0</th>\n",
              "      <td>0.0</td>\n",
              "      <td>-1.359807</td>\n",
              "      <td>-0.072781</td>\n",
              "      <td>2.536347</td>\n",
              "      <td>1.378155</td>\n",
              "      <td>-0.338321</td>\n",
              "      <td>0.462388</td>\n",
              "      <td>0.239599</td>\n",
              "      <td>0.098698</td>\n",
              "      <td>0.363787</td>\n",
              "      <td>0.090794</td>\n",
              "      <td>-0.551600</td>\n",
              "      <td>-0.617801</td>\n",
              "      <td>-0.991390</td>\n",
              "      <td>-0.311169</td>\n",
              "      <td>1.468177</td>\n",
              "      <td>-0.470401</td>\n",
              "      <td>0.207971</td>\n",
              "      <td>0.025791</td>\n",
              "      <td>0.403993</td>\n",
              "      <td>0.251412</td>\n",
              "      <td>-0.018307</td>\n",
              "      <td>0.277838</td>\n",
              "      <td>-0.110474</td>\n",
              "      <td>0.066928</td>\n",
              "      <td>0.128539</td>\n",
              "      <td>-0.189115</td>\n",
              "      <td>0.133558</td>\n",
              "      <td>-0.021053</td>\n",
              "      <td>149.62</td>\n",
              "      <td>0</td>\n",
              "    </tr>\n",
              "    <tr>\n",
              "      <th>1</th>\n",
              "      <td>0.0</td>\n",
              "      <td>1.191857</td>\n",
              "      <td>0.266151</td>\n",
              "      <td>0.166480</td>\n",
              "      <td>0.448154</td>\n",
              "      <td>0.060018</td>\n",
              "      <td>-0.082361</td>\n",
              "      <td>-0.078803</td>\n",
              "      <td>0.085102</td>\n",
              "      <td>-0.255425</td>\n",
              "      <td>-0.166974</td>\n",
              "      <td>1.612727</td>\n",
              "      <td>1.065235</td>\n",
              "      <td>0.489095</td>\n",
              "      <td>-0.143772</td>\n",
              "      <td>0.635558</td>\n",
              "      <td>0.463917</td>\n",
              "      <td>-0.114805</td>\n",
              "      <td>-0.183361</td>\n",
              "      <td>-0.145783</td>\n",
              "      <td>-0.069083</td>\n",
              "      <td>-0.225775</td>\n",
              "      <td>-0.638672</td>\n",
              "      <td>0.101288</td>\n",
              "      <td>-0.339846</td>\n",
              "      <td>0.167170</td>\n",
              "      <td>0.125895</td>\n",
              "      <td>-0.008983</td>\n",
              "      <td>0.014724</td>\n",
              "      <td>2.69</td>\n",
              "      <td>0</td>\n",
              "    </tr>\n",
              "    <tr>\n",
              "      <th>2</th>\n",
              "      <td>1.0</td>\n",
              "      <td>-1.358354</td>\n",
              "      <td>-1.340163</td>\n",
              "      <td>1.773209</td>\n",
              "      <td>0.379780</td>\n",
              "      <td>-0.503198</td>\n",
              "      <td>1.800499</td>\n",
              "      <td>0.791461</td>\n",
              "      <td>0.247676</td>\n",
              "      <td>-1.514654</td>\n",
              "      <td>0.207643</td>\n",
              "      <td>0.624501</td>\n",
              "      <td>0.066084</td>\n",
              "      <td>0.717293</td>\n",
              "      <td>-0.165946</td>\n",
              "      <td>2.345865</td>\n",
              "      <td>-2.890083</td>\n",
              "      <td>1.109969</td>\n",
              "      <td>-0.121359</td>\n",
              "      <td>-2.261857</td>\n",
              "      <td>0.524980</td>\n",
              "      <td>0.247998</td>\n",
              "      <td>0.771679</td>\n",
              "      <td>0.909412</td>\n",
              "      <td>-0.689281</td>\n",
              "      <td>-0.327642</td>\n",
              "      <td>-0.139097</td>\n",
              "      <td>-0.055353</td>\n",
              "      <td>-0.059752</td>\n",
              "      <td>378.66</td>\n",
              "      <td>0</td>\n",
              "    </tr>\n",
              "    <tr>\n",
              "      <th>3</th>\n",
              "      <td>1.0</td>\n",
              "      <td>-0.966272</td>\n",
              "      <td>-0.185226</td>\n",
              "      <td>1.792993</td>\n",
              "      <td>-0.863291</td>\n",
              "      <td>-0.010309</td>\n",
              "      <td>1.247203</td>\n",
              "      <td>0.237609</td>\n",
              "      <td>0.377436</td>\n",
              "      <td>-1.387024</td>\n",
              "      <td>-0.054952</td>\n",
              "      <td>-0.226487</td>\n",
              "      <td>0.178228</td>\n",
              "      <td>0.507757</td>\n",
              "      <td>-0.287924</td>\n",
              "      <td>-0.631418</td>\n",
              "      <td>-1.059647</td>\n",
              "      <td>-0.684093</td>\n",
              "      <td>1.965775</td>\n",
              "      <td>-1.232622</td>\n",
              "      <td>-0.208038</td>\n",
              "      <td>-0.108300</td>\n",
              "      <td>0.005274</td>\n",
              "      <td>-0.190321</td>\n",
              "      <td>-1.175575</td>\n",
              "      <td>0.647376</td>\n",
              "      <td>-0.221929</td>\n",
              "      <td>0.062723</td>\n",
              "      <td>0.061458</td>\n",
              "      <td>123.50</td>\n",
              "      <td>0</td>\n",
              "    </tr>\n",
              "    <tr>\n",
              "      <th>4</th>\n",
              "      <td>2.0</td>\n",
              "      <td>-1.158233</td>\n",
              "      <td>0.877737</td>\n",
              "      <td>1.548718</td>\n",
              "      <td>0.403034</td>\n",
              "      <td>-0.407193</td>\n",
              "      <td>0.095921</td>\n",
              "      <td>0.592941</td>\n",
              "      <td>-0.270533</td>\n",
              "      <td>0.817739</td>\n",
              "      <td>0.753074</td>\n",
              "      <td>-0.822843</td>\n",
              "      <td>0.538196</td>\n",
              "      <td>1.345852</td>\n",
              "      <td>-1.119670</td>\n",
              "      <td>0.175121</td>\n",
              "      <td>-0.451449</td>\n",
              "      <td>-0.237033</td>\n",
              "      <td>-0.038195</td>\n",
              "      <td>0.803487</td>\n",
              "      <td>0.408542</td>\n",
              "      <td>-0.009431</td>\n",
              "      <td>0.798278</td>\n",
              "      <td>-0.137458</td>\n",
              "      <td>0.141267</td>\n",
              "      <td>-0.206010</td>\n",
              "      <td>0.502292</td>\n",
              "      <td>0.219422</td>\n",
              "      <td>0.215153</td>\n",
              "      <td>69.99</td>\n",
              "      <td>0</td>\n",
              "    </tr>\n",
              "  </tbody>\n",
              "</table>\n",
              "</div>\n",
              "      <button class=\"colab-df-convert\" onclick=\"convertToInteractive('df-96735246-1154-4b97-ba61-d7763154600b')\"\n",
              "              title=\"Convert this dataframe to an interactive table.\"\n",
              "              style=\"display:none;\">\n",
              "        \n",
              "  <svg xmlns=\"http://www.w3.org/2000/svg\" height=\"24px\"viewBox=\"0 0 24 24\"\n",
              "       width=\"24px\">\n",
              "    <path d=\"M0 0h24v24H0V0z\" fill=\"none\"/>\n",
              "    <path d=\"M18.56 5.44l.94 2.06.94-2.06 2.06-.94-2.06-.94-.94-2.06-.94 2.06-2.06.94zm-11 1L8.5 8.5l.94-2.06 2.06-.94-2.06-.94L8.5 2.5l-.94 2.06-2.06.94zm10 10l.94 2.06.94-2.06 2.06-.94-2.06-.94-.94-2.06-.94 2.06-2.06.94z\"/><path d=\"M17.41 7.96l-1.37-1.37c-.4-.4-.92-.59-1.43-.59-.52 0-1.04.2-1.43.59L10.3 9.45l-7.72 7.72c-.78.78-.78 2.05 0 2.83L4 21.41c.39.39.9.59 1.41.59.51 0 1.02-.2 1.41-.59l7.78-7.78 2.81-2.81c.8-.78.8-2.07 0-2.86zM5.41 20L4 18.59l7.72-7.72 1.47 1.35L5.41 20z\"/>\n",
              "  </svg>\n",
              "      </button>\n",
              "      \n",
              "  <style>\n",
              "    .colab-df-container {\n",
              "      display:flex;\n",
              "      flex-wrap:wrap;\n",
              "      gap: 12px;\n",
              "    }\n",
              "\n",
              "    .colab-df-convert {\n",
              "      background-color: #E8F0FE;\n",
              "      border: none;\n",
              "      border-radius: 50%;\n",
              "      cursor: pointer;\n",
              "      display: none;\n",
              "      fill: #1967D2;\n",
              "      height: 32px;\n",
              "      padding: 0 0 0 0;\n",
              "      width: 32px;\n",
              "    }\n",
              "\n",
              "    .colab-df-convert:hover {\n",
              "      background-color: #E2EBFA;\n",
              "      box-shadow: 0px 1px 2px rgba(60, 64, 67, 0.3), 0px 1px 3px 1px rgba(60, 64, 67, 0.15);\n",
              "      fill: #174EA6;\n",
              "    }\n",
              "\n",
              "    [theme=dark] .colab-df-convert {\n",
              "      background-color: #3B4455;\n",
              "      fill: #D2E3FC;\n",
              "    }\n",
              "\n",
              "    [theme=dark] .colab-df-convert:hover {\n",
              "      background-color: #434B5C;\n",
              "      box-shadow: 0px 1px 3px 1px rgba(0, 0, 0, 0.15);\n",
              "      filter: drop-shadow(0px 1px 2px rgba(0, 0, 0, 0.3));\n",
              "      fill: #FFFFFF;\n",
              "    }\n",
              "  </style>\n",
              "\n",
              "      <script>\n",
              "        const buttonEl =\n",
              "          document.querySelector('#df-96735246-1154-4b97-ba61-d7763154600b button.colab-df-convert');\n",
              "        buttonEl.style.display =\n",
              "          google.colab.kernel.accessAllowed ? 'block' : 'none';\n",
              "\n",
              "        async function convertToInteractive(key) {\n",
              "          const element = document.querySelector('#df-96735246-1154-4b97-ba61-d7763154600b');\n",
              "          const dataTable =\n",
              "            await google.colab.kernel.invokeFunction('convertToInteractive',\n",
              "                                                     [key], {});\n",
              "          if (!dataTable) return;\n",
              "\n",
              "          const docLinkHtml = 'Like what you see? Visit the ' +\n",
              "            '<a target=\"_blank\" href=https://colab.research.google.com/notebooks/data_table.ipynb>data table notebook</a>'\n",
              "            + ' to learn more about interactive tables.';\n",
              "          element.innerHTML = '';\n",
              "          dataTable['output_type'] = 'display_data';\n",
              "          await google.colab.output.renderOutput(dataTable, element);\n",
              "          const docLink = document.createElement('div');\n",
              "          docLink.innerHTML = docLinkHtml;\n",
              "          element.appendChild(docLink);\n",
              "        }\n",
              "      </script>\n",
              "    </div>\n",
              "  </div>\n",
              "  "
            ],
            "text/plain": [
              "   Time        V1        V2        V3  ...       V27       V28  Amount  Class\n",
              "0   0.0 -1.359807 -0.072781  2.536347  ...  0.133558 -0.021053  149.62      0\n",
              "1   0.0  1.191857  0.266151  0.166480  ... -0.008983  0.014724    2.69      0\n",
              "2   1.0 -1.358354 -1.340163  1.773209  ... -0.055353 -0.059752  378.66      0\n",
              "3   1.0 -0.966272 -0.185226  1.792993  ...  0.062723  0.061458  123.50      0\n",
              "4   2.0 -1.158233  0.877737  1.548718  ...  0.219422  0.215153   69.99      0\n",
              "\n",
              "[5 rows x 31 columns]"
            ]
          },
          "metadata": {},
          "execution_count": 177
        }
      ]
    },
    {
      "cell_type": "code",
      "metadata": {
        "id": "lA__wmw-SIBP"
      },
      "source": [
        "# Удаляем столбец со временем\n",
        "data = df.drop(['Time'], axis=1)\n",
        "# Нормализуем столбец с суммой транзакции\n",
        "data['Amount'] = StandardScaler().fit_transform(data['Amount'].values.reshape(-1, 1))\n",
        "\n",
        "frauds = data[data.Class == 1] # записываем мошеннические операции\n",
        "normal = data[data.Class == 0] # записываем нормальные операции"
      ],
      "execution_count": null,
      "outputs": []
    },
    {
      "cell_type": "code",
      "metadata": {
        "id": "QG2ZvcTcSPSS",
        "colab": {
          "base_uri": "https://localhost:8080/"
        },
        "outputId": "64745919-b29c-4d82-d9fc-291c8456435d"
      },
      "source": [
        "frauds.shape # смотрим какие размеры у мошеннических операций"
      ],
      "execution_count": null,
      "outputs": [
        {
          "output_type": "execute_result",
          "data": {
            "text/plain": [
              "(492, 30)"
            ]
          },
          "metadata": {},
          "execution_count": 179
        }
      ]
    },
    {
      "cell_type": "code",
      "metadata": {
        "id": "iyJSn49ESMb4",
        "colab": {
          "base_uri": "https://localhost:8080/"
        },
        "outputId": "0823a6fe-a7db-4873-a6c4-774e6a0f91cd"
      },
      "source": [
        "normal.shape # смотрим какие размеры у нормальных операций"
      ],
      "execution_count": null,
      "outputs": [
        {
          "output_type": "execute_result",
          "data": {
            "text/plain": [
              "(284315, 30)"
            ]
          },
          "metadata": {},
          "execution_count": 180
        }
      ]
    },
    {
      "cell_type": "code",
      "metadata": {
        "id": "8zFrSDquSTFq"
      },
      "source": [
        "RANDOM_SEED = 42 # задаем случайное значение\n",
        "# берём нормальные операции и разбиваем на train_test(только 'X')\n",
        "X_train, X_test = train_test_split(normal, test_size=0.2, random_state=RANDOM_SEED)"
      ],
      "execution_count": null,
      "outputs": []
    },
    {
      "cell_type": "code",
      "metadata": {
        "id": "GvRIAqvDSUon"
      },
      "source": [
        "# Удаляем класс в обучающем наборе данных\n",
        "X_train = X_train.drop(['Class'], axis=1)\n",
        "# Добавляем все мошеннические транзакции в тестовый набор данных\n",
        "X_test = pd.concat([X_test, frauds])\n",
        "# Делаем метки для тестового набора данных\n",
        "y_test = X_test['Class']\n",
        "# Удаляем класс у тестового набора данных\n",
        "X_test = X_test.drop(['Class'], axis=1)\n",
        "# Преобразуем данные в массивы numpy\n",
        "X_train = X_train.values\n",
        "X_test = X_test.values"
      ],
      "execution_count": null,
      "outputs": []
    },
    {
      "cell_type": "code",
      "metadata": {
        "id": "WqflqXicbX7b",
        "colab": {
          "base_uri": "https://localhost:8080/"
        },
        "outputId": "615b68d1-05b0-4c6e-876e-96c49b6b2d85"
      },
      "source": [
        "print(X_train.shape) # взглянем на размеры обучающих данных"
      ],
      "execution_count": null,
      "outputs": [
        {
          "output_type": "stream",
          "name": "stdout",
          "text": [
            "(227452, 29)\n"
          ]
        }
      ]
    },
    {
      "cell_type": "markdown",
      "source": [
        "# Иссл.1"
      ],
      "metadata": {
        "id": "bT76FoOe8V9o"
      }
    },
    {
      "cell_type": "code",
      "source": [
        "def creditcardAutoencoder():\n",
        "   \n",
        "  dataSize = X_train.shape[1] \n",
        "   \n",
        "  dataInput = Input(shape=(dataSize, )) \n",
        "\n",
        "  x = Dense(dataSize, activation='relu')(dataInput) \n",
        "  x = BatchNormalization()(x) \n",
        "  x = Dense(15, activation='relu')(x) \n",
        "  x = BatchNormalization()(x) \n",
        "  x = Dense(10, activation='relu')(x) \n",
        "  x = BatchNormalization()(x) \n",
        "  x = Dense(15, activation='relu')(x) \n",
        "  x = BatchNormalization()(x) \n",
        "  x = Dense(dataSize, activation='linear')(x) \n",
        "    \n",
        "  autoencoder = Model(inputs=dataInput, outputs=x) \n",
        "    \n",
        "  autoencoder.compile(optimizer=Adam(0.001), loss='mse') \n",
        "  \n",
        "  return autoencoder"
      ],
      "metadata": {
        "id": "C0M4sWDpHp3m"
      },
      "execution_count": null,
      "outputs": []
    },
    {
      "cell_type": "code",
      "metadata": {
        "id": "rPcOmHQY2itw"
      },
      "source": [
        "model_0 = creditcardAutoencoder()"
      ],
      "execution_count": null,
      "outputs": []
    },
    {
      "cell_type": "code",
      "source": [
        "utils.plot_model(model_0, show_shapes=True, dpi=70)"
      ],
      "metadata": {
        "colab": {
          "base_uri": "https://localhost:8080/",
          "height": 797
        },
        "id": "yr8-yo9HuFbF",
        "outputId": "a8531895-74a2-4bca-de60-a4041da21280"
      },
      "execution_count": null,
      "outputs": [
        {
          "output_type": "execute_result",
          "data": {
            "image/png": "[encoded data removed]",
            "text/plain": [
              "<IPython.core.display.Image object>"
            ]
          },
          "metadata": {},
          "execution_count": 208
        }
      ]
    },
    {
      "cell_type": "code",
      "source": [
        "epochs = 50\n",
        "dataSize = X_train.shape[1] \n",
        "batchsize = dataSize\n",
        "history = model_0.fit(X_train, X_train,\n",
        "                    epochs=epochs,\n",
        "                    batch_size=batchsize*100)"
      ],
      "metadata": {
        "colab": {
          "base_uri": "https://localhost:8080/"
        },
        "id": "1_qXAsOUIOVh",
        "outputId": "1bc033a3-916e-4672-9966-e7bf87acb8ef"
      },
      "execution_count": null,
      "outputs": [
        {
          "output_type": "stream",
          "name": "stdout",
          "text": [
            "Epoch 1/50\n",
            "79/79 [==============================] - 0s 5ms/step - loss: 0.4298\n",
            "Epoch 2/50\n",
            "79/79 [==============================] - 0s 5ms/step - loss: 0.3944\n",
            "Epoch 3/50\n",
            "79/79 [==============================] - 0s 5ms/step - loss: 0.3671\n",
            "Epoch 4/50\n",
            "79/79 [==============================] - 0s 5ms/step - loss: 0.3468\n",
            "Epoch 5/50\n",
            "79/79 [==============================] - 0s 5ms/step - loss: 0.3316\n",
            "Epoch 6/50\n",
            "79/79 [==============================] - 0s 5ms/step - loss: 0.3216\n",
            "Epoch 7/50\n",
            "79/79 [==============================] - 0s 5ms/step - loss: 0.3127\n",
            "Epoch 8/50\n",
            "79/79 [==============================] - 0s 5ms/step - loss: 0.3046\n",
            "Epoch 9/50\n",
            "79/79 [==============================] - 0s 5ms/step - loss: 0.2993\n",
            "Epoch 10/50\n",
            "79/79 [==============================] - 0s 5ms/step - loss: 0.2941\n",
            "Epoch 11/50\n",
            "79/79 [==============================] - 0s 5ms/step - loss: 0.2877\n",
            "Epoch 12/50\n",
            "79/79 [==============================] - 0s 5ms/step - loss: 0.2852\n",
            "Epoch 13/50\n",
            "79/79 [==============================] - 0s 5ms/step - loss: 0.2795\n",
            "Epoch 14/50\n",
            "79/79 [==============================] - 0s 5ms/step - loss: 0.2755\n",
            "Epoch 15/50\n",
            "79/79 [==============================] - 0s 5ms/step - loss: 0.2716\n",
            "Epoch 16/50\n",
            "79/79 [==============================] - 0s 5ms/step - loss: 0.2675\n",
            "Epoch 17/50\n",
            "79/79 [==============================] - 0s 5ms/step - loss: 0.2648\n",
            "Epoch 18/50\n",
            "79/79 [==============================] - 0s 5ms/step - loss: 0.2607\n",
            "Epoch 19/50\n",
            "79/79 [==============================] - 0s 5ms/step - loss: 0.2583\n",
            "Epoch 20/50\n",
            "79/79 [==============================] - 0s 5ms/step - loss: 0.2566\n",
            "Epoch 21/50\n",
            "79/79 [==============================] - 0s 5ms/step - loss: 0.2570\n",
            "Epoch 22/50\n",
            "79/79 [==============================] - 0s 5ms/step - loss: 0.2545\n",
            "Epoch 23/50\n",
            "79/79 [==============================] - 0s 5ms/step - loss: 0.2524\n",
            "Epoch 24/50\n",
            "79/79 [==============================] - 0s 5ms/step - loss: 0.2510\n",
            "Epoch 25/50\n",
            "79/79 [==============================] - 0s 5ms/step - loss: 0.2505\n",
            "Epoch 26/50\n",
            "79/79 [==============================] - 0s 5ms/step - loss: 0.2499\n",
            "Epoch 27/50\n",
            "79/79 [==============================] - 0s 5ms/step - loss: 0.2502\n",
            "Epoch 28/50\n",
            "79/79 [==============================] - 0s 5ms/step - loss: 0.2490\n",
            "Epoch 29/50\n",
            "79/79 [==============================] - 0s 5ms/step - loss: 0.2478\n",
            "Epoch 30/50\n",
            "79/79 [==============================] - 0s 5ms/step - loss: 0.2481\n",
            "Epoch 31/50\n",
            "79/79 [==============================] - 0s 5ms/step - loss: 0.2472\n",
            "Epoch 32/50\n",
            "79/79 [==============================] - 0s 5ms/step - loss: 0.2477\n",
            "Epoch 33/50\n",
            "79/79 [==============================] - 0s 5ms/step - loss: 0.2460\n",
            "Epoch 34/50\n",
            "79/79 [==============================] - 0s 5ms/step - loss: 0.2465\n",
            "Epoch 35/50\n",
            "79/79 [==============================] - 0s 5ms/step - loss: 0.2448\n",
            "Epoch 36/50\n",
            "79/79 [==============================] - 0s 5ms/step - loss: 0.2457\n",
            "Epoch 37/50\n",
            "79/79 [==============================] - 0s 5ms/step - loss: 0.2445\n",
            "Epoch 38/50\n",
            "79/79 [==============================] - 0s 5ms/step - loss: 0.2445\n",
            "Epoch 39/50\n",
            "79/79 [==============================] - 0s 5ms/step - loss: 0.2438\n",
            "Epoch 40/50\n",
            "79/79 [==============================] - 0s 5ms/step - loss: 0.2441\n",
            "Epoch 41/50\n",
            "79/79 [==============================] - 0s 5ms/step - loss: 0.2446\n",
            "Epoch 42/50\n",
            "79/79 [==============================] - 0s 5ms/step - loss: 0.2430\n",
            "Epoch 43/50\n",
            "79/79 [==============================] - 0s 5ms/step - loss: 0.2433\n",
            "Epoch 44/50\n",
            "79/79 [==============================] - 0s 5ms/step - loss: 0.2420\n",
            "Epoch 45/50\n",
            "79/79 [==============================] - 0s 5ms/step - loss: 0.2425\n",
            "Epoch 46/50\n",
            "79/79 [==============================] - 0s 5ms/step - loss: 0.2428\n",
            "Epoch 47/50\n",
            "79/79 [==============================] - 0s 5ms/step - loss: 0.2417\n",
            "Epoch 48/50\n",
            "79/79 [==============================] - 0s 5ms/step - loss: 0.2412\n",
            "Epoch 49/50\n",
            "79/79 [==============================] - 0s 5ms/step - loss: 0.2409\n",
            "Epoch 50/50\n",
            "79/79 [==============================] - 0s 5ms/step - loss: 0.2401\n"
          ]
        }
      ]
    },
    {
      "cell_type": "code",
      "source": [
        "model_0.save_weights('/content/drive/MyDrive/Colab Notebooks/Базы/modelCredit.h5') # Сохраняем модель\n",
        "model_0.load_weights('/content/drive/MyDrive/Colab Notebooks/Базы/modelCredit.h5') # Загружаем модель"
      ],
      "metadata": {
        "id": "_ANvT7TxfwyV"
      },
      "execution_count": null,
      "outputs": []
    },
    {
      "cell_type": "code",
      "metadata": {
        "id": "kQ3TVd5J5hOu",
        "colab": {
          "base_uri": "https://localhost:8080/",
          "height": 432
        },
        "outputId": "229992cf-0fd0-41ae-9ced-036e62b9c238"
      },
      "source": [
        "#Выводим графики\n",
        "plt.figure(figsize=(14,7))\n",
        "plt.plot(history.history['loss'][10:], \n",
        "         label='Ошибка на обучающем наборе')\n",
        "plt.ylabel('Средняя ошибка')\n",
        "plt.legend()\n",
        "plt.show()"
      ],
      "execution_count": null,
      "outputs": [
        {
          "output_type": "display_data",
          "data": {
            "image/png": "[encoded data removed]",
            "text/plain": [
              "<Figure size 1008x504 with 1 Axes>"
            ]
          },
          "metadata": {}
        }
      ]
    },
    {
      "cell_type": "code",
      "metadata": {
        "id": "g_a2nEGcdSLg"
      },
      "source": [
        "predictions = model_0.predict(X_test) # делаем предсказание по X_test"
      ],
      "execution_count": null,
      "outputs": []
    },
    {
      "cell_type": "code",
      "metadata": {
        "id": "hjMqaIY8dVKX"
      },
      "source": [
        "mse = np.mean(np.power(X_test - predictions, 2), axis=1) # определяем среднеквадратичную ошибку по X_test и предсказанием по X_test"
      ],
      "execution_count": null,
      "outputs": []
    },
    {
      "cell_type": "code",
      "source": [
        "mse.shape"
      ],
      "metadata": {
        "colab": {
          "base_uri": "https://localhost:8080/"
        },
        "id": "v87oVkRSOCQ9",
        "outputId": "36800865-4f89-4902-ac1f-2d440f47ac03"
      },
      "execution_count": null,
      "outputs": [
        {
          "output_type": "execute_result",
          "data": {
            "text/plain": [
              "(57355,)"
            ]
          },
          "metadata": {},
          "execution_count": 215
        }
      ]
    },
    {
      "cell_type": "code",
      "metadata": {
        "id": "t9L_kEtfeel2"
      },
      "source": [
        "mse_normal = mse[y_test.values == 0] # среднеквадратичная ошибка на нормальных операциях\n",
        "mse_frauds = mse[y_test.values == 1] # среднеквадратичная ошибка на мошеннических операциях"
      ],
      "execution_count": null,
      "outputs": []
    },
    {
      "cell_type": "code",
      "source": [
        "print(type(mse_normal), len(mse_normal))\n",
        "print(type(mse_frauds), len(mse_frauds))"
      ],
      "metadata": {
        "colab": {
          "base_uri": "https://localhost:8080/"
        },
        "id": "zIyg62KoOJI5",
        "outputId": "bbe0bb6a-46ec-4286-af7c-a9656634c4b1"
      },
      "execution_count": null,
      "outputs": [
        {
          "output_type": "stream",
          "name": "stdout",
          "text": [
            "<class 'numpy.ndarray'> 56863\n",
            "<class 'numpy.ndarray'> 492\n"
          ]
        }
      ]
    },
    {
      "cell_type": "code",
      "metadata": {
        "id": "OzI7K95qeux7",
        "colab": {
          "base_uri": "https://localhost:8080/"
        },
        "outputId": "3c96996a-3ceb-46dd-82f0-f1974767a581"
      },
      "source": [
        "print(\"Минимальная ошибка нормальных транзакций:\", round(min(mse_normal),4)) #найдем минимальную среднеквадратичную ошибку на нормальных операциях\n",
        "print(\"Максимальная ошибка нормальных транзакций:\", round(max(mse_normal),4)) #найдем максимальную среднеквадратичную ошибку на нормальных операциях\n",
        "print(\"Средняя ошибка нормальных транзакций:\", round(sum(mse_normal) / len(mse_normal),4)) # среднюю ошибку"
      ],
      "execution_count": null,
      "outputs": [
        {
          "output_type": "stream",
          "name": "stdout",
          "text": [
            "Минимальная ошибка нормальных транзакций: 0.0103\n",
            "Максимальная ошибка нормальных транзакций: 116.2127\n",
            "Средняя ошибка нормальных транзакций: 0.236\n"
          ]
        }
      ]
    },
    {
      "cell_type": "code",
      "metadata": {
        "id": "eDcJ_CX7e4SN",
        "colab": {
          "base_uri": "https://localhost:8080/"
        },
        "outputId": "d5af73b0-4092-4add-d019-a437c707a90d"
      },
      "source": [
        "print(\"Минимальная ошибка мошеннических транзакций:\", round(min(mse_frauds),4)) #найдем минимальную среднеквадратичную ошибку на мошеннических операциях\n",
        "print(\"Максимальная ошибка мошеннических транзакций:\", round(max(mse_frauds),4)) #найдем максимальную среднеквадратичную ошибку на мошеннических операциях\n",
        "print(\"Средняя ошибка мошеннических транзакций:\", round(sum(mse_frauds) / len(mse_frauds),4)) # среднюю ошибку"
      ],
      "execution_count": null,
      "outputs": [
        {
          "output_type": "stream",
          "name": "stdout",
          "text": [
            "Минимальная ошибка мошеннических транзакций: 0.0919\n",
            "Максимальная ошибка мошеннических транзакций: 76.305\n",
            "Средняя ошибка мошеннических транзакций: 18.6383\n"
          ]
        }
      ]
    },
    {
      "cell_type": "code",
      "metadata": {
        "id": "NOwSVExle9Bm"
      },
      "source": [
        "def getAccByBias(bias): # функция будет принимать какое то пороговое значение\n",
        "  isNormal = mse_normal < bias # если ошибка меньше порога - то транзакция нормальная\n",
        "  isFrauds = mse_frauds > bias # если ошибка больше порога - то транзакция мошенническая\n",
        "\n",
        "  accNormal = sum(isNormal) / len(isNormal) # вычисляем процент нормальных операций\n",
        "  accFrauds = sum(isFrauds) / len(isFrauds) # вычисляем процент мошеннических операций\n",
        "\n",
        "  print(\"Распознано нормальных транзакций: \", round(100*accNormal), \"%\", sep=\"\")\n",
        "  print(\"Распознано мошеннических транзакций: \", round(100*accFrauds), \"%\", sep=\"\")\n",
        "  print(\"Средняя точность распознавания: \", round(50*(accNormal + accFrauds)), \"%\", sep=\"\")\n",
        "\n",
        "  "
      ],
      "execution_count": null,
      "outputs": []
    },
    {
      "cell_type": "code",
      "metadata": {
        "id": "iRCIhNkafrhf",
        "colab": {
          "base_uri": "https://localhost:8080/"
        },
        "outputId": "f4d9064e-ebf1-4feb-b9fa-b2f57c1549f9"
      },
      "source": [
        "getAccByBias(1.4) # методом подстановки получаем 92% - средняя точность распознавания"
      ],
      "execution_count": null,
      "outputs": [
        {
          "output_type": "stream",
          "name": "stdout",
          "text": [
            "Распознано нормальных транзакций: 99%\n",
            "Распознано мошеннических транзакций: 85%\n",
            "Средняя точность распознавания: 92%\n"
          ]
        }
      ]
    },
    {
      "cell_type": "code",
      "source": [
        "# Определение значения bias для распознавания 100% мошеннических операций\n",
        "from numpy import arange  #модуль позволяет работать с float значениями , т.е. мы можем передать аргументы типа float (с плавающей запятой) в ​​качестве параметров этой функции\n",
        "for bias in arange(0,2,0.01): \n",
        "\n",
        "  isNormal = mse_normal < bias # если ошибка меньше порога - то транзакция нормальная\n",
        "  isFrauds = mse_frauds > bias # если ошибка больше порога - то транзакция мошенническая\n",
        "\n",
        "  accNormal = sum(isNormal) / len(isNormal) # вычисляем процент нормальных операций\n",
        "  accFrauds = sum(isFrauds) / len(isFrauds) # вычисляем процент мошеннических операций\n",
        "  # if accNormal == 0:\n",
        "  #   bias_Norm = round(bias, 4)\n",
        "  #   print('Bias для определения 100% нормальных транзакций = ', bias_Norm)\n",
        "  if accFrauds == 1:\n",
        "    bias_Frauds = round(bias, 4)\n",
        "    print('Bias для определения 100% мошеннических транзакций =  ', bias_Frauds)\n",
        "  \n"
      ],
      "metadata": {
        "colab": {
          "base_uri": "https://localhost:8080/"
        },
        "id": "oCf0-uILiz0j",
        "outputId": "0816c09d-2646-4a9a-cf99-759cbee26460"
      },
      "execution_count": null,
      "outputs": [
        {
          "output_type": "stream",
          "name": "stdout",
          "text": [
            "Bias для определения 100% мошеннических транзакций =   0.0\n",
            "Bias для определения 100% мошеннических транзакций =   0.01\n",
            "Bias для определения 100% мошеннических транзакций =   0.02\n",
            "Bias для определения 100% мошеннических транзакций =   0.03\n",
            "Bias для определения 100% мошеннических транзакций =   0.04\n",
            "Bias для определения 100% мошеннических транзакций =   0.05\n",
            "Bias для определения 100% мошеннических транзакций =   0.06\n",
            "Bias для определения 100% мошеннических транзакций =   0.07\n",
            "Bias для определения 100% мошеннических транзакций =   0.08\n",
            "Bias для определения 100% мошеннических транзакций =   0.09\n"
          ]
        }
      ]
    },
    {
      "cell_type": "code",
      "source": [
        "getAccByBias(0.06)"
      ],
      "metadata": {
        "colab": {
          "base_uri": "https://localhost:8080/"
        },
        "id": "aDeIsCxAiyxU",
        "outputId": "8c2fb739-9e9a-4b26-f704-7312370d7f17"
      },
      "execution_count": null,
      "outputs": [
        {
          "output_type": "stream",
          "name": "stdout",
          "text": [
            "Распознано нормальных транзакций: 5%\n",
            "Распознано мошеннических транзакций: 100%\n",
            "Средняя точность распознавания: 53%\n"
          ]
        }
      ]
    },
    {
      "cell_type": "code",
      "source": [
        "#????? График построила , но не поняла что требовалось понять из него... \n",
        "x1 = np.arange(len(mse_normal[:500]))\n",
        "x2 = np.arange(len(mse_frauds))\n",
        "\n",
        "y1 = mse_normal\n",
        "y2 = mse_frauds\n",
        "\n",
        "plt.hist([x2 ,y2] , label='mse_frauds', density=True)\n",
        "plt.hist([x1 ,y1] , label='mse_normal', density=True)\n",
        "# plt.bar(x2 - (width/2),y2 , label='mse_fraud', width=width)\n",
        "plt.legend(loc='upper right')\n",
        "plt.show()\n"
      ],
      "metadata": {
        "colab": {
          "base_uri": "https://localhost:8080/",
          "height": 322
        },
        "id": "5Ov-LNF8K7Kb",
        "outputId": "e586fcc1-8cc5-49f8-f590-43a5c1408c38"
      },
      "execution_count": null,
      "outputs": [
        {
          "output_type": "stream",
          "name": "stderr",
          "text": [
            "/usr/local/lib/python3.7/dist-packages/numpy/core/_asarray.py:83: VisibleDeprecationWarning: Creating an ndarray from ragged nested sequences (which is a list-or-tuple of lists-or-tuples-or ndarrays with different lengths or shapes) is deprecated. If you meant to do this, you must specify 'dtype=object' when creating the ndarray\n",
            "  return array(a, dtype, copy=False, order=order)\n"
          ]
        },
        {
          "output_type": "display_data",
          "data": {
            "image/png": "[encoded data removed]",
            "text/plain": [
              "<Figure size 432x288 with 1 Axes>"
            ]
          },
          "metadata": {}
        }
      ]
    },
    {
      "cell_type": "markdown",
      "source": [
        "# Иссл.2"
      ],
      "metadata": {
        "id": "_z5fzHPZ8eFN"
      }
    },
    {
      "cell_type": "code",
      "metadata": {
        "id": "IQIS2_evFkNO"
      },
      "source": [
        "df = pd.read_csv('/content/drive/MyDrive/Colab Notebooks/Базы/creditcard.csv') # читаем базу"
      ],
      "execution_count": null,
      "outputs": []
    },
    {
      "cell_type": "code",
      "metadata": {
        "colab": {
          "base_uri": "https://localhost:8080/",
          "height": 270
        },
        "outputId": "21b07b70-b59d-4460-b1d6-619e7cdf1a23",
        "id": "ShjKWkNtFkNO"
      },
      "source": [
        "df.head() # выводим первые пять строк"
      ],
      "execution_count": null,
      "outputs": [
        {
          "output_type": "execute_result",
          "data": {
            "text/html": [
              "\n",
              "  <div id=\"df-2199e5de-4b86-4757-b03b-550e50d50bc3\">\n",
              "    <div class=\"colab-df-container\">\n",
              "      <div>\n",
              "<style scoped>\n",
              "    .dataframe tbody tr th:only-of-type {\n",
              "        vertical-align: middle;\n",
              "    }\n",
              "\n",
              "    .dataframe tbody tr th {\n",
              "        vertical-align: top;\n",
              "    }\n",
              "\n",
              "    .dataframe thead th {\n",
              "        text-align: right;\n",
              "    }\n",
              "</style>\n",
              "<table border=\"1\" class=\"dataframe\">\n",
              "  <thead>\n",
              "    <tr style=\"text-align: right;\">\n",
              "      <th></th>\n",
              "      <th>Time</th>\n",
              "      <th>V1</th>\n",
              "      <th>V2</th>\n",
              "      <th>V3</th>\n",
              "      <th>V4</th>\n",
              "      <th>V5</th>\n",
              "      <th>V6</th>\n",
              "      <th>V7</th>\n",
              "      <th>V8</th>\n",
              "      <th>V9</th>\n",
              "      <th>V10</th>\n",
              "      <th>V11</th>\n",
              "      <th>V12</th>\n",
              "      <th>V13</th>\n",
              "      <th>V14</th>\n",
              "      <th>V15</th>\n",
              "      <th>V16</th>\n",
              "      <th>V17</th>\n",
              "      <th>V18</th>\n",
              "      <th>V19</th>\n",
              "      <th>V20</th>\n",
              "      <th>V21</th>\n",
              "      <th>V22</th>\n",
              "      <th>V23</th>\n",
              "      <th>V24</th>\n",
              "      <th>V25</th>\n",
              "      <th>V26</th>\n",
              "      <th>V27</th>\n",
              "      <th>V28</th>\n",
              "      <th>Amount</th>\n",
              "      <th>Class</th>\n",
              "    </tr>\n",
              "  </thead>\n",
              "  <tbody>\n",
              "    <tr>\n",
              "      <th>0</th>\n",
              "      <td>0.0</td>\n",
              "      <td>-1.359807</td>\n",
              "      <td>-0.072781</td>\n",
              "      <td>2.536347</td>\n",
              "      <td>1.378155</td>\n",
              "      <td>-0.338321</td>\n",
              "      <td>0.462388</td>\n",
              "      <td>0.239599</td>\n",
              "      <td>0.098698</td>\n",
              "      <td>0.363787</td>\n",
              "      <td>0.090794</td>\n",
              "      <td>-0.551600</td>\n",
              "      <td>-0.617801</td>\n",
              "      <td>-0.991390</td>\n",
              "      <td>-0.311169</td>\n",
              "      <td>1.468177</td>\n",
              "      <td>-0.470401</td>\n",
              "      <td>0.207971</td>\n",
              "      <td>0.025791</td>\n",
              "      <td>0.403993</td>\n",
              "      <td>0.251412</td>\n",
              "      <td>-0.018307</td>\n",
              "      <td>0.277838</td>\n",
              "      <td>-0.110474</td>\n",
              "      <td>0.066928</td>\n",
              "      <td>0.128539</td>\n",
              "      <td>-0.189115</td>\n",
              "      <td>0.133558</td>\n",
              "      <td>-0.021053</td>\n",
              "      <td>149.62</td>\n",
              "      <td>0</td>\n",
              "    </tr>\n",
              "    <tr>\n",
              "      <th>1</th>\n",
              "      <td>0.0</td>\n",
              "      <td>1.191857</td>\n",
              "      <td>0.266151</td>\n",
              "      <td>0.166480</td>\n",
              "      <td>0.448154</td>\n",
              "      <td>0.060018</td>\n",
              "      <td>-0.082361</td>\n",
              "      <td>-0.078803</td>\n",
              "      <td>0.085102</td>\n",
              "      <td>-0.255425</td>\n",
              "      <td>-0.166974</td>\n",
              "      <td>1.612727</td>\n",
              "      <td>1.065235</td>\n",
              "      <td>0.489095</td>\n",
              "      <td>-0.143772</td>\n",
              "      <td>0.635558</td>\n",
              "      <td>0.463917</td>\n",
              "      <td>-0.114805</td>\n",
              "      <td>-0.183361</td>\n",
              "      <td>-0.145783</td>\n",
              "      <td>-0.069083</td>\n",
              "      <td>-0.225775</td>\n",
              "      <td>-0.638672</td>\n",
              "      <td>0.101288</td>\n",
              "      <td>-0.339846</td>\n",
              "      <td>0.167170</td>\n",
              "      <td>0.125895</td>\n",
              "      <td>-0.008983</td>\n",
              "      <td>0.014724</td>\n",
              "      <td>2.69</td>\n",
              "      <td>0</td>\n",
              "    </tr>\n",
              "    <tr>\n",
              "      <th>2</th>\n",
              "      <td>1.0</td>\n",
              "      <td>-1.358354</td>\n",
              "      <td>-1.340163</td>\n",
              "      <td>1.773209</td>\n",
              "      <td>0.379780</td>\n",
              "      <td>-0.503198</td>\n",
              "      <td>1.800499</td>\n",
              "      <td>0.791461</td>\n",
              "      <td>0.247676</td>\n",
              "      <td>-1.514654</td>\n",
              "      <td>0.207643</td>\n",
              "      <td>0.624501</td>\n",
              "      <td>0.066084</td>\n",
              "      <td>0.717293</td>\n",
              "      <td>-0.165946</td>\n",
              "      <td>2.345865</td>\n",
              "      <td>-2.890083</td>\n",
              "      <td>1.109969</td>\n",
              "      <td>-0.121359</td>\n",
              "      <td>-2.261857</td>\n",
              "      <td>0.524980</td>\n",
              "      <td>0.247998</td>\n",
              "      <td>0.771679</td>\n",
              "      <td>0.909412</td>\n",
              "      <td>-0.689281</td>\n",
              "      <td>-0.327642</td>\n",
              "      <td>-0.139097</td>\n",
              "      <td>-0.055353</td>\n",
              "      <td>-0.059752</td>\n",
              "      <td>378.66</td>\n",
              "      <td>0</td>\n",
              "    </tr>\n",
              "    <tr>\n",
              "      <th>3</th>\n",
              "      <td>1.0</td>\n",
              "      <td>-0.966272</td>\n",
              "      <td>-0.185226</td>\n",
              "      <td>1.792993</td>\n",
              "      <td>-0.863291</td>\n",
              "      <td>-0.010309</td>\n",
              "      <td>1.247203</td>\n",
              "      <td>0.237609</td>\n",
              "      <td>0.377436</td>\n",
              "      <td>-1.387024</td>\n",
              "      <td>-0.054952</td>\n",
              "      <td>-0.226487</td>\n",
              "      <td>0.178228</td>\n",
              "      <td>0.507757</td>\n",
              "      <td>-0.287924</td>\n",
              "      <td>-0.631418</td>\n",
              "      <td>-1.059647</td>\n",
              "      <td>-0.684093</td>\n",
              "      <td>1.965775</td>\n",
              "      <td>-1.232622</td>\n",
              "      <td>-0.208038</td>\n",
              "      <td>-0.108300</td>\n",
              "      <td>0.005274</td>\n",
              "      <td>-0.190321</td>\n",
              "      <td>-1.175575</td>\n",
              "      <td>0.647376</td>\n",
              "      <td>-0.221929</td>\n",
              "      <td>0.062723</td>\n",
              "      <td>0.061458</td>\n",
              "      <td>123.50</td>\n",
              "      <td>0</td>\n",
              "    </tr>\n",
              "    <tr>\n",
              "      <th>4</th>\n",
              "      <td>2.0</td>\n",
              "      <td>-1.158233</td>\n",
              "      <td>0.877737</td>\n",
              "      <td>1.548718</td>\n",
              "      <td>0.403034</td>\n",
              "      <td>-0.407193</td>\n",
              "      <td>0.095921</td>\n",
              "      <td>0.592941</td>\n",
              "      <td>-0.270533</td>\n",
              "      <td>0.817739</td>\n",
              "      <td>0.753074</td>\n",
              "      <td>-0.822843</td>\n",
              "      <td>0.538196</td>\n",
              "      <td>1.345852</td>\n",
              "      <td>-1.119670</td>\n",
              "      <td>0.175121</td>\n",
              "      <td>-0.451449</td>\n",
              "      <td>-0.237033</td>\n",
              "      <td>-0.038195</td>\n",
              "      <td>0.803487</td>\n",
              "      <td>0.408542</td>\n",
              "      <td>-0.009431</td>\n",
              "      <td>0.798278</td>\n",
              "      <td>-0.137458</td>\n",
              "      <td>0.141267</td>\n",
              "      <td>-0.206010</td>\n",
              "      <td>0.502292</td>\n",
              "      <td>0.219422</td>\n",
              "      <td>0.215153</td>\n",
              "      <td>69.99</td>\n",
              "      <td>0</td>\n",
              "    </tr>\n",
              "  </tbody>\n",
              "</table>\n",
              "</div>\n",
              "      <button class=\"colab-df-convert\" onclick=\"convertToInteractive('df-2199e5de-4b86-4757-b03b-550e50d50bc3')\"\n",
              "              title=\"Convert this dataframe to an interactive table.\"\n",
              "              style=\"display:none;\">\n",
              "        \n",
              "  <svg xmlns=\"http://www.w3.org/2000/svg\" height=\"24px\"viewBox=\"0 0 24 24\"\n",
              "       width=\"24px\">\n",
              "    <path d=\"M0 0h24v24H0V0z\" fill=\"none\"/>\n",
              "    <path d=\"M18.56 5.44l.94 2.06.94-2.06 2.06-.94-2.06-.94-.94-2.06-.94 2.06-2.06.94zm-11 1L8.5 8.5l.94-2.06 2.06-.94-2.06-.94L8.5 2.5l-.94 2.06-2.06.94zm10 10l.94 2.06.94-2.06 2.06-.94-2.06-.94-.94-2.06-.94 2.06-2.06.94z\"/><path d=\"M17.41 7.96l-1.37-1.37c-.4-.4-.92-.59-1.43-.59-.52 0-1.04.2-1.43.59L10.3 9.45l-7.72 7.72c-.78.78-.78 2.05 0 2.83L4 21.41c.39.39.9.59 1.41.59.51 0 1.02-.2 1.41-.59l7.78-7.78 2.81-2.81c.8-.78.8-2.07 0-2.86zM5.41 20L4 18.59l7.72-7.72 1.47 1.35L5.41 20z\"/>\n",
              "  </svg>\n",
              "      </button>\n",
              "      \n",
              "  <style>\n",
              "    .colab-df-container {\n",
              "      display:flex;\n",
              "      flex-wrap:wrap;\n",
              "      gap: 12px;\n",
              "    }\n",
              "\n",
              "    .colab-df-convert {\n",
              "      background-color: #E8F0FE;\n",
              "      border: none;\n",
              "      border-radius: 50%;\n",
              "      cursor: pointer;\n",
              "      display: none;\n",
              "      fill: #1967D2;\n",
              "      height: 32px;\n",
              "      padding: 0 0 0 0;\n",
              "      width: 32px;\n",
              "    }\n",
              "\n",
              "    .colab-df-convert:hover {\n",
              "      background-color: #E2EBFA;\n",
              "      box-shadow: 0px 1px 2px rgba(60, 64, 67, 0.3), 0px 1px 3px 1px rgba(60, 64, 67, 0.15);\n",
              "      fill: #174EA6;\n",
              "    }\n",
              "\n",
              "    [theme=dark] .colab-df-convert {\n",
              "      background-color: #3B4455;\n",
              "      fill: #D2E3FC;\n",
              "    }\n",
              "\n",
              "    [theme=dark] .colab-df-convert:hover {\n",
              "      background-color: #434B5C;\n",
              "      box-shadow: 0px 1px 3px 1px rgba(0, 0, 0, 0.15);\n",
              "      filter: drop-shadow(0px 1px 2px rgba(0, 0, 0, 0.3));\n",
              "      fill: #FFFFFF;\n",
              "    }\n",
              "  </style>\n",
              "\n",
              "      <script>\n",
              "        const buttonEl =\n",
              "          document.querySelector('#df-2199e5de-4b86-4757-b03b-550e50d50bc3 button.colab-df-convert');\n",
              "        buttonEl.style.display =\n",
              "          google.colab.kernel.accessAllowed ? 'block' : 'none';\n",
              "\n",
              "        async function convertToInteractive(key) {\n",
              "          const element = document.querySelector('#df-2199e5de-4b86-4757-b03b-550e50d50bc3');\n",
              "          const dataTable =\n",
              "            await google.colab.kernel.invokeFunction('convertToInteractive',\n",
              "                                                     [key], {});\n",
              "          if (!dataTable) return;\n",
              "\n",
              "          const docLinkHtml = 'Like what you see? Visit the ' +\n",
              "            '<a target=\"_blank\" href=https://colab.research.google.com/notebooks/data_table.ipynb>data table notebook</a>'\n",
              "            + ' to learn more about interactive tables.';\n",
              "          element.innerHTML = '';\n",
              "          dataTable['output_type'] = 'display_data';\n",
              "          await google.colab.output.renderOutput(dataTable, element);\n",
              "          const docLink = document.createElement('div');\n",
              "          docLink.innerHTML = docLinkHtml;\n",
              "          element.appendChild(docLink);\n",
              "        }\n",
              "      </script>\n",
              "    </div>\n",
              "  </div>\n",
              "  "
            ],
            "text/plain": [
              "   Time        V1        V2        V3  ...       V27       V28  Amount  Class\n",
              "0   0.0 -1.359807 -0.072781  2.536347  ...  0.133558 -0.021053  149.62      0\n",
              "1   0.0  1.191857  0.266151  0.166480  ... -0.008983  0.014724    2.69      0\n",
              "2   1.0 -1.358354 -1.340163  1.773209  ... -0.055353 -0.059752  378.66      0\n",
              "3   1.0 -0.966272 -0.185226  1.792993  ...  0.062723  0.061458  123.50      0\n",
              "4   2.0 -1.158233  0.877737  1.548718  ...  0.219422  0.215153   69.99      0\n",
              "\n",
              "[5 rows x 31 columns]"
            ]
          },
          "metadata": {},
          "execution_count": 171
        }
      ]
    },
    {
      "cell_type": "code",
      "metadata": {
        "id": "S0Pvr5YMFkNP"
      },
      "source": [
        "# Удаляем столбец со временем\n",
        "data = df.drop(['Time'], axis=1)\n",
        "# Нормализуем столбец с суммой транзакции\n",
        "data['Amount'] = StandardScaler().fit_transform(data['Amount'].values.reshape(-1, 1))\n",
        "\n",
        "frauds = data[data.Class == 1] # записываем мошеннические операции\n",
        "normal = data[data.Class == 0] # записываем нормальные операции"
      ],
      "execution_count": null,
      "outputs": []
    },
    {
      "cell_type": "code",
      "metadata": {
        "id": "zeiTB_lsWY-x"
      },
      "source": [
        "from tensorflow.keras.callbacks import LambdaCallback # подключаем колбэки"
      ],
      "execution_count": null,
      "outputs": []
    },
    {
      "cell_type": "code",
      "metadata": {
        "id": "P-HDYfXTVcgp"
      },
      "source": [
        "def on_epoch_end(epoch, logs):\n",
        "  predictions = model_1.predict(X_test) # делаем предсказание по X_test\n",
        "  mse = np.mean(np.power(X_test - predictions, 2), axis=1) # определяем среднеквадратичную ошибку по X_test и предсказанием по X_test\n",
        "  mse_normal = mse[y_test.values == 0] # среднеквадратичная ошибка на нормальных операциях\n",
        "  mse_frauds = mse[y_test.values == 1] # среднеквадратичная ошибка на мошеннических операциях\n",
        "\n",
        "  bias = 0.0\n",
        "  isNormal = mse_normal < bias # если ошибка меньше порога - то транзакция нормальная\n",
        "  isFrauds = mse_frauds > bias # если ошибка больше порога - то транзакция мошенническая\n",
        "\n",
        "  accNormal = sum(isNormal) / len(isNormal) # вычисляем процент нормальных операций\n",
        "  accFaruds = sum(isFrauds) / len(isFrauds) # вычисляем процент мошеннических операций\n",
        "  n = round(50*(accNormal + accFaruds),1)\n",
        "\n",
        "  for i in range(50):  \n",
        "    if n <= round(50*(accNormal + accFaruds),1):\n",
        "      n = round(50*(accNormal + accFaruds),1)\n",
        "      bias = round(bias + 0.1, 1)\n",
        "      isNormal = mse_normal < bias \n",
        "      isFrauds = mse_frauds > bias \n",
        "      accNormal = sum(isNormal) / len(isNormal) # вычисляем процент нормальных операций\n",
        "      accFaruds = sum(isFrauds) / len(isFrauds) # вычисляем процент мошеннических операций  \n",
        "\n",
        "\n",
        "  print()    \n",
        "  print(\"Эпоха:\", epoch+1, \"/\", epochs, \" | \", \"bias: \", bias)\n",
        "  print(\"Распознано нормальных трансакций: \", round(100*accNormal,1), \"%\", sep=\"\")\n",
        "  print(\"Распознано мошеннических трансакций: \", round(100*accFaruds,1), \"%\", sep=\"\")\n",
        "  print(\"Средняя точность распознавания: \", n, \"%\", sep=\"\")\n",
        "\n",
        "  print(\"======================\")\n",
        "  print()\n",
        "\n",
        "pltMae = LambdaCallback(on_epoch_end=on_epoch_end)"
      ],
      "execution_count": null,
      "outputs": []
    },
    {
      "cell_type": "code",
      "metadata": {
        "id": "m6N8CPu9agY2",
        "colab": {
          "base_uri": "https://localhost:8080/"
        },
        "outputId": "63710587-2bf2-46f6-8722-a874531fa790"
      },
      "source": [
        "epochs = 5\n",
        "dataSize = X_train.shape[1] \n",
        "batchsize = dataSize\n",
        "dataInput = Input(shape=(dataSize, )) \n",
        "\n",
        "x = Dense(dataSize, activation='relu')(dataInput) \n",
        "x = BatchNormalization()(x) \n",
        "x = Dense(15, activation='relu')(x) \n",
        "x = BatchNormalization()(x) \n",
        "x = Dense(10, activation='relu')(x) \n",
        "x = BatchNormalization()(x) \n",
        "x = Dense(15, activation='relu')(x) \n",
        "x = BatchNormalization()(x) \n",
        "x = Dense(dataSize, activation='linear')(x) \n",
        "  \n",
        "model_1 = Model(inputs=dataInput, outputs=x) \n",
        "  \n",
        "model_1.compile(optimizer=Adam(0.001), loss='mse') \n",
        "\n",
        "history = model_1.fit(X_train, X_train,\n",
        "                    epochs=epochs,\n",
        "                    batch_size=batchsize*100,\n",
        "                    verbose=0,\n",
        "                    callbacks=[pltMae])"
      ],
      "execution_count": null,
      "outputs": [
        {
          "output_type": "stream",
          "name": "stdout",
          "text": [
            "\n",
            "Эпоха: 1 / 5  |  bias:  1.6\n",
            "Распознано нормальных трансакций: 93.2%\n",
            "Распознано мошеннических трансакций: 89.0%\n",
            "Средняя точность распознавания: 91.3%\n",
            "======================\n",
            "\n",
            "\n",
            "Эпоха: 2 / 5  |  bias:  1.8\n",
            "Распознано нормальных трансакций: 96.1%\n",
            "Распознано мошеннических трансакций: 87.4%\n",
            "Средняя точность распознавания: 91.8%\n",
            "======================\n",
            "\n",
            "\n",
            "Эпоха: 3 / 5  |  bias:  1.7\n",
            "Распознано нормальных трансакций: 96.5%\n",
            "Распознано мошеннических трансакций: 87.2%\n",
            "Средняя точность распознавания: 92.1%\n",
            "======================\n",
            "\n",
            "\n",
            "Эпоха: 4 / 5  |  bias:  1.5\n",
            "Распознано нормальных трансакций: 96.3%\n",
            "Распознано мошеннических трансакций: 87.8%\n",
            "Средняя точность распознавания: 92.1%\n",
            "======================\n",
            "\n",
            "\n",
            "Эпоха: 5 / 5  |  bias:  1.4\n",
            "Распознано нормальных трансакций: 96.5%\n",
            "Распознано мошеннических трансакций: 87.4%\n",
            "Средняя точность распознавания: 92.2%\n",
            "======================\n",
            "\n"
          ]
        }
      ]
    },
    {
      "cell_type": "code",
      "source": [
        "model.save_weights('/content/drive/MyDrive/Colab Notebooks/Базы/model_1_Credit.h5') # Сохраняем модель\n",
        "model.load_weights('/content/drive/MyDrive/Colab Notebooks/Базы/model_1_Credit.h5') # Загружаем модель"
      ],
      "metadata": {
        "id": "Ez5ncvLm9XJJ"
      },
      "execution_count": null,
      "outputs": []
    }
  ]
}