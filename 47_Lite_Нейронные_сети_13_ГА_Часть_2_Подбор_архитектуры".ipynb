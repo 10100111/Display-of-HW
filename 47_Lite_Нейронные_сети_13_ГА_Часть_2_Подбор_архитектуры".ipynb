{
  "nbformat": 4,
  "nbformat_minor": 0,
  "metadata": {
    "colab": {
      "provenance": [],
      "collapsed_sections": [],
      "machine_shape": "hm",
      "include_colab_link": true
    },
    "kernelspec": {
      "name": "python3",
      "display_name": "Python 3"
    },
    "accelerator": "GPU"
  },
  "cells": [
    {
      "cell_type": "markdown",
      "metadata": {
        "id": "view-in-github",
        "colab_type": "text"
      },
      "source": [
        "<a href=\"https://colab.research.google.com/github/10100111/Display-of-HW1/blob/main/47_Lite_%D0%9D%D0%B5%D0%B9%D1%80%D0%BE%D0%BD%D0%BD%D1%8B%D0%B5_%D1%81%D0%B5%D1%82%D0%B8_13_%D0%93%D0%90_%D0%A7%D0%B0%D1%81%D1%82%D1%8C_2_%D0%9F%D0%BE%D0%B4%D0%B1%D0%BE%D1%80_%D0%B0%D1%80%D1%85%D0%B8%D1%82%D0%B5%D0%BA%D1%82%D1%83%D1%80%D1%8B%22.ipynb\" target=\"_parent\"><img src=\"https://colab.research.google.com/assets/colab-badge.svg\" alt=\"Open In Colab\"/></a>"
      ]
    },
    {
      "cell_type": "markdown",
      "metadata": {
        "id": "5yYVLIrw4BV4"
      },
      "source": [
        "# Инфо по выделенным ресурсам\n"
      ]
    },
    {
      "cell_type": "code",
      "metadata": {
        "id": "m-p5hOrO4Akf",
        "colab": {
          "base_uri": "https://localhost:8080/"
        },
        "outputId": "079062db-e7af-4a92-c8c8-1f8d92451912"
      },
      "source": [
        "!ln -sf /opt/bin/nvidia-smi /usr/bin/nvidia-smi\n",
        "!pip install -q gputil\n",
        "!pip install -q psutil\n",
        "!pip install -q humanize\n",
        "import psutil\n",
        "import humanize\n",
        "import os\n",
        "import GPUtil as GPU\n",
        "GPUs = GPU.getGPUs()\n",
        "# XXX: only one GPU on Colab and isn’t guaranteed\n",
        "gpu = GPUs[0]\n",
        "process = psutil.Process(os.getpid())\n",
        "print(\"Gen RAM Free: \" + humanize.naturalsize( psutil.virtual_memory().available ), \" | Proc size: \" + humanize.naturalsize( process.memory_info().rss))\n",
        "print(\"GPU RAM Free: {0:.0f}MB | Used: {1:.0f}MB | Util {2:3.0f}% | Total {3:.0f}MB\".format(gpu.memoryFree, gpu.memoryUsed, gpu.memoryUtil*100, gpu.memoryTotal))\n",
        "print(\"GPU Model: \", gpu.name)"
      ],
      "execution_count": null,
      "outputs": [
        {
          "output_type": "stream",
          "name": "stdout",
          "text": [
            "Gen RAM Free: 24.5 GB  | Proc size: 3.0 GB\n",
            "GPU RAM Free: 15561MB | Used: 719MB | Util   4% | Total 16280MB\n",
            "GPU Model:  Tesla P100-PCIE-16GB\n"
          ]
        }
      ]
    },
    {
      "cell_type": "markdown",
      "metadata": {
        "id": "yTUCQWbziZ_w"
      },
      "source": [
        "# Генетические алгоритмы для обучения нейронных сетей\n",
        "\n",
        "*Разбор данного раздела:* https://youtu.be/njAH6ASF0H0?t=389\n",
        "\n",
        "Чтобы запускать и редактировать код, сохраните копию этого ноутбука себе (File->Save a copy in Drive...). Свою копию вы сможете изменять и запускать."
      ]
    },
    {
      "cell_type": "code",
      "metadata": {
        "id": "o5cUNcyPiZ_7"
      },
      "source": [
        "#Загружаем библиотеки\n",
        "\n",
        "import pandas as pd # Пандас\n",
        "import matplotlib.pyplot as plt # Отрисовка графиков\n",
        "from tensorflow.keras import utils # Для to_categorical\n",
        "import numpy as np # Numpy\n",
        "from tensorflow.keras.optimizers import Adam # Оптимизатор\n",
        "from tensorflow.keras.models import Sequential, Model # Два варианты моделей\n",
        "from tensorflow.keras.layers import concatenate,Reshape, Input,Conv2DTranspose, Lambda, Dense, Dropout, BatchNormalization, Flatten, Conv1D, Conv2D, LSTM, MaxPooling1D, Activation, GlobalMaxPooling1D, UpSampling1D#Стандартные слои\n",
        "from tensorflow.keras.losses import MAE\n",
        "from google.colab import files # Загрузка файлов\n",
        "from sklearn.preprocessing import StandardScaler, MinMaxScaler # Нормировщики\n",
        "from tensorflow.keras.preprocessing.sequence import TimeseriesGenerator # Для генерации выборки временных рядов\n",
        "import tensorflow.keras.backend as K\n",
        "import random as random # Импортируем модель randim\n",
        "import numpy as np # Импортируем библиотеку numpy\n",
        "import matplotlib.pyplot as plt # Импортируем модуль pyplot библиотеки matplotlib для построения графиков\n",
        "from PIL import Image # Импортируем одель Image для обработки изображений\n",
        "import time\n",
        "from tensorflow.keras.utils import plot_model\n",
        "# Статический вывод графики (графики отображаются в той ячейке, в которой используется plt.show())\n",
        "%matplotlib inline"
      ],
      "execution_count": null,
      "outputs": []
    },
    {
      "cell_type": "code",
      "metadata": {
        "id": "EAIiI8fVhfkT",
        "colab": {
          "base_uri": "https://localhost:8080/"
        },
        "outputId": "9cb414e9-300f-49bf-da6f-a3a69eb1caac"
      },
      "source": [
        "from google.colab import drive\n",
        "drive.mount('/content/drive')"
      ],
      "execution_count": null,
      "outputs": [
        {
          "output_type": "stream",
          "name": "stdout",
          "text": [
            "Drive already mounted at /content/drive; to attempt to forcibly remount, call drive.mount(\"/content/drive\", force_remount=True).\n"
          ]
        }
      ]
    },
    {
      "cell_type": "markdown",
      "metadata": {
        "id": "ZzrszKDtiaCG"
      },
      "source": [
        "#Подбор архитектуры свёрточной сети"
      ]
    },
    {
      "cell_type": "markdown",
      "metadata": {
        "id": "qzS2YPQ8jgfa"
      },
      "source": [
        "#Прогнозирование трафика\n",
        "\n",
        "*Разбор данного раздела:* https://youtu.be/njAH6ASF0H0?t=542"
      ]
    },
    {
      "cell_type": "code",
      "metadata": {
        "id": "GRBmV8K31JrC"
      },
      "source": [
        "# Считываем данные с помощью pandas\n",
        "base_data = pd.read_csv(\"/content/drive/MyDrive/Базы/traff.csv\", header=None)"
      ],
      "execution_count": null,
      "outputs": []
    },
    {
      "cell_type": "code",
      "metadata": {
        "id": "bTeD9BAhOx2Z",
        "colab": {
          "base_uri": "https://localhost:8080/",
          "height": 424
        },
        "outputId": "1492e90f-a874-4c73-906d-ddac15efad1d"
      },
      "source": [
        "# Выводим пять первых строк\n",
        "base_data"
      ],
      "execution_count": null,
      "outputs": [
        {
          "output_type": "execute_result",
          "data": {
            "text/plain": [
              "               0          1\n",
              "0       1/1/2017  22,226.00\n",
              "1       1/2/2017  29,593.00\n",
              "2       1/3/2017  31,726.00\n",
              "3       1/4/2017  32,684.00\n",
              "4       1/5/2017  31,820.00\n",
              "...          ...        ...\n",
              "1090  12/27/2019  29,801.00\n",
              "1091  12/28/2019  34,913.00\n",
              "1092  12/29/2019  37,665.00\n",
              "1093  12/30/2019  32,643.00\n",
              "1094  12/31/2019  28,212.00\n",
              "\n",
              "[1095 rows x 2 columns]"
            ],
            "text/html": [
              "\n",
              "  <div id=\"df-491cb53a-7cf6-41d1-9fad-4ed557b7dc04\">\n",
              "    <div class=\"colab-df-container\">\n",
              "      <div>\n",
              "<style scoped>\n",
              "    .dataframe tbody tr th:only-of-type {\n",
              "        vertical-align: middle;\n",
              "    }\n",
              "\n",
              "    .dataframe tbody tr th {\n",
              "        vertical-align: top;\n",
              "    }\n",
              "\n",
              "    .dataframe thead th {\n",
              "        text-align: right;\n",
              "    }\n",
              "</style>\n",
              "<table border=\"1\" class=\"dataframe\">\n",
              "  <thead>\n",
              "    <tr style=\"text-align: right;\">\n",
              "      <th></th>\n",
              "      <th>0</th>\n",
              "      <th>1</th>\n",
              "    </tr>\n",
              "  </thead>\n",
              "  <tbody>\n",
              "    <tr>\n",
              "      <th>0</th>\n",
              "      <td>1/1/2017</td>\n",
              "      <td>22,226.00</td>\n",
              "    </tr>\n",
              "    <tr>\n",
              "      <th>1</th>\n",
              "      <td>1/2/2017</td>\n",
              "      <td>29,593.00</td>\n",
              "    </tr>\n",
              "    <tr>\n",
              "      <th>2</th>\n",
              "      <td>1/3/2017</td>\n",
              "      <td>31,726.00</td>\n",
              "    </tr>\n",
              "    <tr>\n",
              "      <th>3</th>\n",
              "      <td>1/4/2017</td>\n",
              "      <td>32,684.00</td>\n",
              "    </tr>\n",
              "    <tr>\n",
              "      <th>4</th>\n",
              "      <td>1/5/2017</td>\n",
              "      <td>31,820.00</td>\n",
              "    </tr>\n",
              "    <tr>\n",
              "      <th>...</th>\n",
              "      <td>...</td>\n",
              "      <td>...</td>\n",
              "    </tr>\n",
              "    <tr>\n",
              "      <th>1090</th>\n",
              "      <td>12/27/2019</td>\n",
              "      <td>29,801.00</td>\n",
              "    </tr>\n",
              "    <tr>\n",
              "      <th>1091</th>\n",
              "      <td>12/28/2019</td>\n",
              "      <td>34,913.00</td>\n",
              "    </tr>\n",
              "    <tr>\n",
              "      <th>1092</th>\n",
              "      <td>12/29/2019</td>\n",
              "      <td>37,665.00</td>\n",
              "    </tr>\n",
              "    <tr>\n",
              "      <th>1093</th>\n",
              "      <td>12/30/2019</td>\n",
              "      <td>32,643.00</td>\n",
              "    </tr>\n",
              "    <tr>\n",
              "      <th>1094</th>\n",
              "      <td>12/31/2019</td>\n",
              "      <td>28,212.00</td>\n",
              "    </tr>\n",
              "  </tbody>\n",
              "</table>\n",
              "<p>1095 rows × 2 columns</p>\n",
              "</div>\n",
              "      <button class=\"colab-df-convert\" onclick=\"convertToInteractive('df-491cb53a-7cf6-41d1-9fad-4ed557b7dc04')\"\n",
              "              title=\"Convert this dataframe to an interactive table.\"\n",
              "              style=\"display:none;\">\n",
              "        \n",
              "  <svg xmlns=\"http://www.w3.org/2000/svg\" height=\"24px\"viewBox=\"0 0 24 24\"\n",
              "       width=\"24px\">\n",
              "    <path d=\"M0 0h24v24H0V0z\" fill=\"none\"/>\n",
              "    <path d=\"M18.56 5.44l.94 2.06.94-2.06 2.06-.94-2.06-.94-.94-2.06-.94 2.06-2.06.94zm-11 1L8.5 8.5l.94-2.06 2.06-.94-2.06-.94L8.5 2.5l-.94 2.06-2.06.94zm10 10l.94 2.06.94-2.06 2.06-.94-2.06-.94-.94-2.06-.94 2.06-2.06.94z\"/><path d=\"M17.41 7.96l-1.37-1.37c-.4-.4-.92-.59-1.43-.59-.52 0-1.04.2-1.43.59L10.3 9.45l-7.72 7.72c-.78.78-.78 2.05 0 2.83L4 21.41c.39.39.9.59 1.41.59.51 0 1.02-.2 1.41-.59l7.78-7.78 2.81-2.81c.8-.78.8-2.07 0-2.86zM5.41 20L4 18.59l7.72-7.72 1.47 1.35L5.41 20z\"/>\n",
              "  </svg>\n",
              "      </button>\n",
              "      \n",
              "  <style>\n",
              "    .colab-df-container {\n",
              "      display:flex;\n",
              "      flex-wrap:wrap;\n",
              "      gap: 12px;\n",
              "    }\n",
              "\n",
              "    .colab-df-convert {\n",
              "      background-color: #E8F0FE;\n",
              "      border: none;\n",
              "      border-radius: 50%;\n",
              "      cursor: pointer;\n",
              "      display: none;\n",
              "      fill: #1967D2;\n",
              "      height: 32px;\n",
              "      padding: 0 0 0 0;\n",
              "      width: 32px;\n",
              "    }\n",
              "\n",
              "    .colab-df-convert:hover {\n",
              "      background-color: #E2EBFA;\n",
              "      box-shadow: 0px 1px 2px rgba(60, 64, 67, 0.3), 0px 1px 3px 1px rgba(60, 64, 67, 0.15);\n",
              "      fill: #174EA6;\n",
              "    }\n",
              "\n",
              "    [theme=dark] .colab-df-convert {\n",
              "      background-color: #3B4455;\n",
              "      fill: #D2E3FC;\n",
              "    }\n",
              "\n",
              "    [theme=dark] .colab-df-convert:hover {\n",
              "      background-color: #434B5C;\n",
              "      box-shadow: 0px 1px 3px 1px rgba(0, 0, 0, 0.15);\n",
              "      filter: drop-shadow(0px 1px 2px rgba(0, 0, 0, 0.3));\n",
              "      fill: #FFFFFF;\n",
              "    }\n",
              "  </style>\n",
              "\n",
              "      <script>\n",
              "        const buttonEl =\n",
              "          document.querySelector('#df-491cb53a-7cf6-41d1-9fad-4ed557b7dc04 button.colab-df-convert');\n",
              "        buttonEl.style.display =\n",
              "          google.colab.kernel.accessAllowed ? 'block' : 'none';\n",
              "\n",
              "        async function convertToInteractive(key) {\n",
              "          const element = document.querySelector('#df-491cb53a-7cf6-41d1-9fad-4ed557b7dc04');\n",
              "          const dataTable =\n",
              "            await google.colab.kernel.invokeFunction('convertToInteractive',\n",
              "                                                     [key], {});\n",
              "          if (!dataTable) return;\n",
              "\n",
              "          const docLinkHtml = 'Like what you see? Visit the ' +\n",
              "            '<a target=\"_blank\" href=https://colab.research.google.com/notebooks/data_table.ipynb>data table notebook</a>'\n",
              "            + ' to learn more about interactive tables.';\n",
              "          element.innerHTML = '';\n",
              "          dataTable['output_type'] = 'display_data';\n",
              "          await google.colab.output.renderOutput(dataTable, element);\n",
              "          const docLink = document.createElement('div');\n",
              "          docLink.innerHTML = docLinkHtml;\n",
              "          element.appendChild(docLink);\n",
              "        }\n",
              "      </script>\n",
              "    </div>\n",
              "  </div>\n",
              "  "
            ]
          },
          "metadata": {},
          "execution_count": 38
        }
      ]
    },
    {
      "cell_type": "code",
      "metadata": {
        "id": "NMIu5EJZ9VWn"
      },
      "source": [
        "data = base_data.iloc[:,1]"
      ],
      "execution_count": null,
      "outputs": []
    },
    {
      "cell_type": "code",
      "metadata": {
        "id": "Mrj_7kT2RHd3",
        "colab": {
          "base_uri": "https://localhost:8080/"
        },
        "outputId": "bbd16a0b-ad3b-4102-9cdc-f9fca2e927f7"
      },
      "source": [
        "# Выводим параметры одного фала\n",
        "d = data\n",
        "print(len(d))         # Сколько есть записей\n",
        "print(len(d.iloc[0])) # Длинна одной строки данных\n",
        "print(d.iloc[0])      # Пример первой строки данных"
      ],
      "execution_count": null,
      "outputs": [
        {
          "output_type": "stream",
          "name": "stdout",
          "text": [
            "1095\n",
            "9\n",
            "22,226.00\n"
          ]
        }
      ]
    },
    {
      "cell_type": "code",
      "metadata": {
        "id": "ArMT_0EUUeKX"
      },
      "source": [
        "data = np.array(data) #Превращаем в numpy массив\n",
        "for i in range(len(data)):\n",
        "  data[i] = float(data[i].replace(',',''))"
      ],
      "execution_count": null,
      "outputs": []
    },
    {
      "cell_type": "markdown",
      "metadata": {
        "id": "CKpTtma9Vw8W"
      },
      "source": [
        "**Функция загрузки данных**"
      ]
    },
    {
      "cell_type": "code",
      "metadata": {
        "id": "kQ4it_i3KSLU"
      },
      "source": [
        "#Формируем параметры загрузки данных\n",
        "xLen = 60     # Анализируем по 300 прошедшим точкам \n",
        "valLen = 300  # Используем 300 записей для проверки\n",
        "\n",
        "trainLen = data.shape[0]-valLen # Размер тренировочной выборки\n",
        "\n",
        "# Делим данные на тренировочную и тестовую выборки \n",
        "Train,Test = np.reshape(data[:trainLen],(-1,1)), np.reshape(data[trainLen+xLen+2:],(-1,1))\n",
        "\n",
        "# Масштабируем данные (отдельно для X и Y), чтобы их легче было скормить сетке\n",
        "Scaler = MinMaxScaler()\n",
        "Scaler.fit(Train)\n",
        "Train = Scaler.transform(Train)\n",
        "Test = Scaler.transform(Test)\n",
        "\n",
        "\n",
        "# Создаем генератор для обучения\n",
        "trainDataGen = TimeseriesGenerator(Train, Train,             # в качестве параметров наши выборки\n",
        "                               length=xLen, sampling_rate=1, # для каждой точки\n",
        "                               batch_size=20)                # размер batch, который будем скармливать модели\n",
        "\n",
        "# Создаем аналогичный генератор для валидации при обучении\n",
        "testDataGen = TimeseriesGenerator(Test, Test,\n",
        "                               length=xLen, sampling_rate=1,\n",
        "                               batch_size=20)"
      ],
      "execution_count": null,
      "outputs": []
    },
    {
      "cell_type": "markdown",
      "metadata": {
        "id": "FdQykrM7oBM0"
      },
      "source": [
        "**Функции для отображения результатов**"
      ]
    },
    {
      "cell_type": "code",
      "metadata": {
        "id": "dkTikA68tszK"
      },
      "source": [
        "# Функция рассчитываем результаты прогнозирования сети\n",
        "# В аргументы принимает сеть (currModel) и проверочную выборку\n",
        "# Выдаёт результаты предсказания predVal\n",
        "# И правильные ответы в исходной размерности yValUnscaled (какими они были до нормирования)\n",
        "def getPred(currModel, xVal, yVal, yScaler):\n",
        "  # Предсказываем ответ сети по проверочной выборке\n",
        "  # И возвращаем исходны масштаб данных, до нормализации\n",
        "  predVal = yScaler.inverse_transform(currModel.predict(xVal))\n",
        "  yValUnscaled = yScaler.inverse_transform(yVal)\n",
        "  \n",
        "  return (predVal, yValUnscaled)\n",
        "\n",
        "# Функция визуализирует графики, что предсказала сеть и какие были правильные ответы\n",
        "# start - точка с которой начинаем отрисовку графика\n",
        "# step - длина графика, которую отрисовываем\n",
        "# channel - какой канал отрисовываем\n",
        "def showPredict(start, step, channel, predVal, yValUnscaled):\n",
        "  plt.plot(predVal[start:start+step, channel], \n",
        "           label='Прогноз')\n",
        "  plt.plot(yValUnscaled[start:start+step, channel], \n",
        "           label='Базовый ряд')\n",
        "  plt.xlabel('Время')\n",
        "  plt.ylabel('Значение Close')\n",
        "  plt.legend()\n",
        "  plt.show()\n",
        "  \n",
        "# Функция расёта корреляции дух одномерных векторов\n",
        "def correlate(a, b):\n",
        "  # Рассчитываем основные показатели\n",
        "  ma = a.mean() # Среднее значение первого вектора\n",
        "  mb = b.mean() # Среднее значение второго вектора\n",
        "  mab = (a*b).mean() # Среднее значение произведения векторов\n",
        "  sa = a.std() # Среднеквадратичное отклонение первого вектора\n",
        "  sb = b.std() # Среднеквадратичное отклонение второго вектора\n",
        "  \n",
        "  #Рассчитываем корреляцию\n",
        "  val = 0\n",
        "  if ((sa>0) & (sb>0)):\n",
        "    val = (mab-ma*mb)/(sa*sb)\n",
        "  return val\n",
        "\n",
        "# Функция рисуем корреляцию прогнозированного сигнала с правильным\n",
        "# Смещая на различное количество шагов назад\n",
        "# Для проверки появления эффекта автокорреляции\n",
        "# channels - по каким каналам отображать корреляцию\n",
        "# corrSteps - на какое количество шагов смещать сигнал назад для рассчёта корреляции\n",
        "# showGraf - показываем график или нет\n",
        "# returnData - возвращаем массивы автокорреляции или нет\n",
        "def autoCorr(channels, corrSteps, predVal, yValUnscaled, showGraf = True, returnData = False):\n",
        "  # Проходим по всем каналам\n",
        "  for ch in channels:\n",
        "    corr = [] # Создаём пустой лист, в нём будут корреляции при смезении на i рагов обратно\n",
        "    yLen = yValUnscaled.shape[0] # Запоминаем размер проверочной выборки\n",
        "\n",
        "      # Постепенно увеличикаем шаг, насколько смещаем сигнал для проверки автокорреляции\n",
        "    for i in range(corrSteps):\n",
        "      # Получаем сигнал, смещённый на i шагов назад\n",
        "      # predVal[i:, ch]\n",
        "      # Сравниваем его с верными ответами, без смещения назад\n",
        "      # yValUnscaled[:yLen-i,ch]\n",
        "      # Рассчитываем их корреляцию и добавляем в лист\n",
        "      corr.append(correlate(yValUnscaled[:yLen-i,ch], predVal[i:, ch]))\n",
        "\n",
        "    own_corr = [] # Создаём пустой лист, в нём будут корреляции при смезении на i рагов обратно\n",
        "\n",
        "      # Постепенно увеличикаем шаг, насколько смещаем сигнал для проверки автокорреляции\n",
        "    for i in range(corrSteps):\n",
        "      # Получаем сигнал, смещённый на i шагов назад\n",
        "      # predVal[i:, ch]\n",
        "      # Сравниваем его с верными ответами, без смещения назад\n",
        "      # yValUnscaled[:yLen-i,ch]\n",
        "      # Рассчитываем их корреляцию и добавляем в лист\n",
        "      own_corr.append(correlate(yValUnscaled[:yLen-i,ch], yValUnscaled[i:, ch]))\n",
        "\n",
        "    # Отображаем график коррелций для данного шага\n",
        "    if showGraf: #Если нужно показать график\n",
        "      plt.plot(corr, label='предсказание на ' + str(ch+1) + ' шаг')\n",
        "      plt.plot(own_corr, label='Эталон')\n",
        "\n",
        "  if showGraf: #Если нужно показать график\n",
        "    plt.xlabel('Время')\n",
        "    plt.ylabel('Значение')\n",
        "    plt.legend()\n",
        "    plt.show()\n",
        "\n",
        "  if returnData: #Если нужно вернуть массивы автокорреляции\n",
        "    return corr, own_corr"
      ],
      "execution_count": null,
      "outputs": []
    },
    {
      "cell_type": "markdown",
      "metadata": {
        "id": "QZGoiO7UoGn7"
      },
      "source": [
        "**Генерируем проверочную выборку**"
      ]
    },
    {
      "cell_type": "code",
      "metadata": {
        "id": "BksmBEFrtwSZ"
      },
      "source": [
        "# Создадим генератор проверочной выборки, из которой потом вытащим xVal, yVal для проверки\n",
        "DataGen = TimeseriesGenerator(Test, Test,\n",
        "                               length=xLen, sampling_rate=1,\n",
        "                               batch_size=len(Test)) # Размер batch будет равен длине нашей выборки\n",
        "\n",
        "xVal = []\n",
        "yVal = []\n",
        "for i in DataGen:\n",
        "  xVal.append(i[0])\n",
        "  yVal.append(i[1])\n",
        "\n",
        "xVal = np.array(xVal)\n",
        "yVal = np.array(yVal)"
      ],
      "execution_count": null,
      "outputs": []
    },
    {
      "cell_type": "markdown",
      "metadata": {
        "id": "8H4ZmGWaYwjx"
      },
      "source": [
        "# Подбор линейной архитектуры\n",
        "\n",
        "*Разбор данного раздела:* https://youtu.be/njAH6ASF0H0?t=706"
      ]
    },
    {
      "cell_type": "code",
      "source": [
        "#Создаём сеть (net - список параметров) !Изменено\n",
        "def createConvNet(net):\n",
        "\n",
        "  model = Sequential()             # Создаем моель Sequential\n",
        "\n",
        "  blocksNumber = net[0]  # Делаем ли нормализацию в начале\n",
        "\n",
        "\n",
        "  activation_list = ['linear','relu','tanh','softmax','sigmoid']\n",
        "  index_net = 1\n",
        "\n",
        "  for block in range(blocksNumber): \n",
        "    extent = net[index_net]\n",
        "    ConvSize = 2 ** extent      # Размер первого вёрточного слоя\n",
        "    print(index_net, net[index_net], ConvSize, 'ConvSize')\n",
        "\n",
        "    index_net += 1  \n",
        "    ConvKernel = net[index_net]         # Ядро первого свёрточного слоя\n",
        "    print(index_net, net[index_net], ConvKernel, 'ConvKernel')\n",
        "    \n",
        "    index_net += 1\n",
        "    activation = net[index_net]             # Функция активации входного слоя\n",
        "    print(index_net, net[index_net], activation, 'activation')\n",
        "    \n",
        "    index_net += 1\n",
        "    makeMaxPooling = net[index_net]         # Делаем ли maxpooling для нулевого слоя\n",
        "    print(index_net, net[index_net], makeMaxPooling, 'makeMaxPooling')\n",
        "\n",
        "    index_net += 1\n",
        "    maxPoolingSize = net[index_net]         # Размер MaxPooling\n",
        "    print(index_net, net[index_net], maxPoolingSize, 'maxPoolingSize')\n",
        "    \n",
        "    index_net += 1\n",
        "    \n",
        "    if block == 0:\n",
        "      model.add(Conv1D(ConvSize, ConvKernel, input_shape=(xLen, 1), activation=activation_list[activation], padding='same'))\n",
        "    else:\n",
        "      model.add(Conv1D(ConvSize, ConvKernel, activation=activation_list[activation], padding='same'))\n",
        "    if (makeMaxPooling):           # Если делаем MaxPooling\n",
        "      # Добавляем слой MaxPooling1D с размером (maxPoolingSize)\n",
        "      model.add(MaxPooling1D(pool_size=maxPoolingSize))\n",
        "\n",
        "\n",
        "\n",
        "  activation3 = net[index_net]            # Функция активации для   \n",
        "  print(index_net, net[index_net], activation3, 'activation3')\n",
        "\n",
        "  index_net += 1\n",
        "  activation4 = net[index_net]            # Функция активации для последнего слоя\n",
        "  print(index_net, net[index_net], activation4, 'activation4', type(index_net))\n",
        "\n",
        "  denseSize = 2 ** net[index_net]          # Размер полносвязного слоя\n",
        "\n",
        "  model.add(Flatten())              # Добавляем слой Flatten\n",
        "\n",
        "  model.add(Dense(denseSize, activation=activation_list[activation3])) # Добавляем слой Dense с denseSize нейронами\n",
        "  model.add(Dense(1, activation=activation_list[activation4]))         # Добавляем Dense-слой с softmax-активацией и 10 нейронами\n",
        "\n",
        "  return model                      # Возвращаем модель\n",
        "\n",
        "  \"\"\"\n",
        "Функция вычисления результата работы сети\n",
        "  \"\"\"\n",
        "\n",
        "def evaluateNet(net, ep, verb):\n",
        "  val = 0\n",
        "  time.time()\n",
        "  model = createConvNet(net) # создаем модель \n",
        "\n",
        "  # Компилируем модель\n",
        "  model.compile(optimizer=Adam(learning_rate=1e-4),\n",
        "                loss=\"mse\")\n",
        "  \n",
        "  history = model.fit_generator(trainDataGen, \n",
        "                                epochs=ep, #???! тут должно быть epochs=ep\n",
        "                                verbose=verb,\n",
        "                                validation_data=testDataGen)\n",
        "  \n",
        "  val = history.history[\"val_loss\"][-1] # возвращаем точность на проверочной выборке с последней эпохи\n",
        "\n",
        "  return val, model # возвращаем точность\n",
        "\n",
        "'''\n",
        "  Функция создания списка случайных параметров  \n",
        "'''\n",
        "def createRandomNet(): #!Изменено\n",
        "   \n",
        "  net = []\n",
        "  net.append(random.randint(1,5)) # Сколько делаем слоев\n",
        "\n",
        "  blocks = net[0]\n",
        "  for block in range(blocks):\n",
        "    net.append(random.randint(3,6)) # свёрточный слой от 8 до 64 нейронов\n",
        "    net.append(random.randint(3,7)) # Ядро свёрточного слоя от 3 до 7\n",
        "    net.append(random.randint(0,4)) # Функция активации слоя\n",
        "    net.append(random.randint(0,1)) #Делаем ли MaxPooling\n",
        "    net.append(random.randint(2,3)) #Размер MaxPoolin\n",
        "\n",
        "  net.append(random.randint(0,4)) # Функция активации предпоследнего dense слоя\n",
        "  net.append(random.randint(0,2)) # Функция активации последнего слоя\n",
        "\n",
        "  net.append(random.randint(3,6)) # Размер полносвязного слоя от 8 до 64\n",
        "\n",
        "  if len(net) < 29:\n",
        "    delta = l - len(net) # !Изменено\n",
        "    for j in range(delta):\n",
        "      net.append(0)\n",
        "    \n",
        "  return net     "
      ],
      "metadata": {
        "id": "M8DUDmuc2n2V"
      },
      "execution_count": null,
      "outputs": []
    },
    {
      "cell_type": "markdown",
      "source": [
        "## Проверка кода - ошибка "
      ],
      "metadata": {
        "id": "AOPrZ3mA58Ve"
      }
    },
    {
      "cell_type": "code",
      "source": [
        "# Код из функции createRandomNet() отрабатывает\n",
        "   \n",
        "net = []\n",
        "net.append(random.randint(1,5)) # Сколько делаем слоев\n",
        "\n",
        "blocks = net[0]\n",
        "for block in range(blocks):\n",
        "  net.append(random.randint(3,6)) # свёрточный слой от 8 до 64 нейронов\n",
        "  net.append(random.randint(3,7)) # Ядро свёрточного слоя от 3 до 7\n",
        "  net.append(random.randint(0,4)) # Функция активации слоя\n",
        "  net.append(random.randint(0,1)) #Делаем ли MaxPooling\n",
        "  net.append(random.randint(2,3)) #Размер MaxPoolin\n",
        "\n",
        "net.append(random.randint(0,4)) # Функция активации предпоследнего dense слоя\n",
        "net.append(random.randint(0,2)) # Функция активации последнего слоя\n",
        "\n",
        "net.append(random.randint(3,6)) # Размер полносвязного слоя от 8 до 64\n",
        "\n",
        "if len(net) < 29:\n",
        "  delta = l - len(net) # !Изменено\n",
        "  for j in range(delta):\n",
        "    net.append(0)\n",
        "    \n",
        " "
      ],
      "metadata": {
        "id": "R6AKoARJ57n6"
      },
      "execution_count": null,
      "outputs": []
    },
    {
      "cell_type": "code",
      "source": [
        "print(net, '\\n', len(net), '\\n', net[0], '\\n',type(net[0]))"
      ],
      "metadata": {
        "colab": {
          "base_uri": "https://localhost:8080/"
        },
        "id": "YAqlWVU86VQU",
        "outputId": "bffe400f-0f1a-48b3-db35-d2b3cc117f19"
      },
      "execution_count": null,
      "outputs": [
        {
          "output_type": "stream",
          "name": "stdout",
          "text": [
            "[5, 5, 5, 2, 0, 3, 5, 5, 2, 1, 3, 4, 5, 1, 0, 3, 5, 4, 1, 0, 3, 3, 4, 4, 0, 3, 2, 1, 6] \n",
            " 29 \n",
            " 5 \n",
            " <class 'int'>\n"
          ]
        }
      ]
    },
    {
      "cell_type": "code",
      "source": [
        "# проверяю код из функции createConvNet(net), распечатываю сформированные слои \n",
        "\n",
        "model = Sequential()             # Создаем моель Sequential\n",
        "\n",
        "blocksNumber = net[0]  # Делаем ли нормализацию в начале\n",
        "\n",
        "\n",
        "activation_list = ['linear','relu','tanh','softmax','sigmoid']\n",
        "index_net = 1\n",
        "\n",
        "for block in range(blocksNumber): \n",
        "  extent = net[index_net]\n",
        "  ConvSize = 2 ** extent      # Размер первого вёрточного слоя\n",
        "  print(index_net, net[index_net], ConvSize, 'ConvSize')\n",
        "\n",
        "  index_net += 1  \n",
        "  ConvKernel = net[index_net]         # Ядро первого свёрточного слоя\n",
        "  print(index_net, net[index_net], ConvKernel, 'ConvKernel')\n",
        "  \n",
        "  index_net += 1\n",
        "  activation = net[index_net]             # Функция активации входного слоя\n",
        "  print(index_net, net[index_net], activation, 'activation')\n",
        "  \n",
        "  index_net += 1\n",
        "  makeMaxPooling = net[index_net]         # Делаем ли maxpooling для нулевого слоя\n",
        "  print(index_net, net[index_net], makeMaxPooling, 'makeMaxPooling')\n",
        "\n",
        "  index_net += 1\n",
        "  maxPoolingSize = net[index_net]         # Размер MaxPooling\n",
        "  print(index_net, net[index_net], maxPoolingSize, 'maxPoolingSize')\n",
        "  \n",
        "  index_net += 1\n",
        "  \n",
        "  if block == 0:\n",
        "    model.add(Conv1D(ConvSize, ConvKernel, input_shape=(xLen, 1), activation=activation_list[activation], padding='same'))\n",
        "  else:\n",
        "    model.add(Conv1D(ConvSize, ConvKernel, activation=activation_list[activation], padding='same'))\n",
        "  if (makeMaxPooling):           # Если делаем MaxPooling\n",
        "    # Добавляем слой MaxPooling1D с размером (maxPoolingSize)\n",
        "    model.add(MaxPooling1D(pool_size=maxPoolingSize))\n",
        "\n",
        "\n",
        "\n",
        "activation3 = net[index_net]            # Функция активации для   \n",
        "print(index_net, net[index_net], activation3, 'activation3')\n",
        "\n",
        "index_net += 1\n",
        "activation4 = net[index_net]            # Функция активации для последнего слоя\n",
        "print(index_net, net[index_net], activation4, 'activation4', type(index_net))\n",
        "\n",
        "denseSize = 2 ** net[index_net]          # Размер полносвязного слоя\n",
        "\n",
        "model.add(Flatten())              # Добавляем слой Flatten\n",
        "\n",
        "model.add(Dense(denseSize, activation=activation_list[activation3])) # Добавляем слой Dense с denseSize нейронами\n",
        "model.add(Dense(1, activation=activation_list[activation4]))         # Добавляем Dense-слой с softmax-активацией и 10 нейронами\n",
        "\n",
        "\n"
      ],
      "metadata": {
        "colab": {
          "base_uri": "https://localhost:8080/"
        },
        "id": "pfty5kOE7LZJ",
        "outputId": "5926de77-7f10-4878-cb69-3ff9ddd34174"
      },
      "execution_count": null,
      "outputs": [
        {
          "output_type": "stream",
          "name": "stdout",
          "text": [
            "1 5 32 ConvSize\n",
            "2 5 5 ConvKernel\n",
            "3 2 2 activation\n",
            "4 0 0 makeMaxPooling\n",
            "5 3 3 maxPoolingSize\n",
            "6 5 32 ConvSize\n",
            "7 5 5 ConvKernel\n",
            "8 2 2 activation\n",
            "9 1 1 makeMaxPooling\n",
            "10 3 3 maxPoolingSize\n",
            "11 4 16 ConvSize\n",
            "12 5 5 ConvKernel\n",
            "13 1 1 activation\n",
            "14 0 0 makeMaxPooling\n",
            "15 3 3 maxPoolingSize\n",
            "16 5 32 ConvSize\n",
            "17 4 4 ConvKernel\n",
            "18 1 1 activation\n",
            "19 0 0 makeMaxPooling\n",
            "20 3 3 maxPoolingSize\n",
            "21 3 8 ConvSize\n",
            "22 4 4 ConvKernel\n",
            "23 4 4 activation\n",
            "24 0 0 makeMaxPooling\n",
            "25 3 3 maxPoolingSize\n",
            "26 2 2 activation3\n",
            "27 1 1 activation4 <class 'int'>\n"
          ]
        }
      ]
    },
    {
      "cell_type": "code",
      "source": [
        "model.compile(optimizer=Adam(learning_rate=1e-4),\n",
        "                loss='mse')\n",
        "model.summary()"
      ],
      "metadata": {
        "colab": {
          "base_uri": "https://localhost:8080/"
        },
        "id": "ounhnmyE7yqB",
        "outputId": "29027f8d-6c4c-4403-aedf-b3ab20076553"
      },
      "execution_count": null,
      "outputs": [
        {
          "output_type": "stream",
          "name": "stdout",
          "text": [
            "Model: \"sequential_6\"\n",
            "_________________________________________________________________\n",
            " Layer (type)                Output Shape              Param #   \n",
            "=================================================================\n",
            " conv1d_2 (Conv1D)           (None, 60, 32)            192       \n",
            "                                                                 \n",
            " conv1d_3 (Conv1D)           (None, 60, 32)            5152      \n",
            "                                                                 \n",
            " max_pooling1d_1 (MaxPooling  (None, 20, 32)           0         \n",
            " 1D)                                                             \n",
            "                                                                 \n",
            " conv1d_4 (Conv1D)           (None, 20, 16)            2576      \n",
            "                                                                 \n",
            " conv1d_5 (Conv1D)           (None, 20, 32)            2080      \n",
            "                                                                 \n",
            " conv1d_6 (Conv1D)           (None, 20, 8)             1032      \n",
            "                                                                 \n",
            " flatten_2 (Flatten)         (None, 160)               0         \n",
            "                                                                 \n",
            " dense_4 (Dense)             (None, 2)                 322       \n",
            "                                                                 \n",
            " dense_5 (Dense)             (None, 1)                 3         \n",
            "                                                                 \n",
            "=================================================================\n",
            "Total params: 11,357\n",
            "Trainable params: 11,357\n",
            "Non-trainable params: 0\n",
            "_________________________________________________________________\n"
          ]
        }
      ]
    },
    {
      "cell_type": "markdown",
      "source": [
        "Примечание: Код из функции по сборке нейронки работает , можно задать любое количество слоев. Но что-то пошло пошло не так с общим пайплайном, прошу при снижении оценки внести исправление в мой код так, чтобы пайплайн заработал, буду благодарна. Мне очень нужно разобраться, в разборе вариант видела, списывать не буду, хочу понять как могло бы сработать в моем случае."
      ],
      "metadata": {
        "id": "8MD0cyyK8G9r"
      }
    },
    {
      "cell_type": "code",
      "source": [
        "n = 20 # общее число ботов\n",
        "nsurv = 10 # к-во выживших\n",
        "nnew = n - nsurv # к-во новых ботов\n",
        "l = 29 # размер бота !Изменено закомментировано\n",
        " \n",
        "epochs = 10 \n",
        "\n",
        "mut = 0.09\n",
        "\n",
        "popul = [] # массив популяции\n",
        "val = [] # одномерный массив значений этих ботов\n",
        "\n",
        "# Создаем случайных ботов\n",
        "for i in range(n): # пробегаемся по всем ботам , их 20\n",
        "  popul.append(createRandomNet()) # генерим случайные значения в векторе каждого бота и добавляем бота в массив\n",
        "  delta = l - len(popul) # !Изменено\n",
        "  for j in range(delta):\n",
        "    popul.append(0)\n",
        "    \n",
        "for it in range(epochs): # пробегаем по всем эпохам\n",
        "  val = []               # обнуляем значение бота\n",
        "  curr_time = time.time()# засекаем время\n",
        "  for i in range(n):     # пробегаем в цикле по всем ботам\n",
        "    bot = popul[i]       # берем очередного бота\n",
        "    f, model_sum = evaluateNet(bot, 3, 0) # вычисляем точность текущего бота на 3х эпохах, скрыть вывод данных verbose \n",
        "    val.append(f)        # добавляем полученное значение к списку val\n",
        "\n",
        "  sval = sorted(val, reverse=0) # сортируем val\n",
        "  # Выводим 5 лучших ботов\n",
        "  print(it, time.time() - curr_time, \" \", sval[0:5],popul[:5])\n",
        "\n",
        "  newpopul = []         # создаем пустой спиок под новую популяцию\n",
        "  for i in range(nsurv):# пробегаем по всем выжившим ботам\n",
        "    index = val.index(sval[i]) # получаем индекс лучшего бота из списка лучших в списке val\n",
        "    newpopul.append(popul[index]) # добавляем в новую популяцию бота из popul c индексом index\n",
        "\n",
        "  for i in range(nnew): # проходимся в цикле nnew раз - сколько нам надо сделать ботов\n",
        "    indexp1 = random.randint(0, nsurv-1) # случайный индекс 1го родителя в диапазоне от 0 до nsurv-1\n",
        "    indexp2 = random.randint(0, nsurv-1) # случайный индекс 2го родителя в диапазоне от 0 до nsurv-1\n",
        "    botp1 = newpopul[indexp1] # 1й родитель бота\n",
        "    botp2 = newpopul[indexp2] # 2й родитель бота\n",
        "    newbot = []               # создаем пустой список под значения нового бота\n",
        "    net4Mut = createRandomNet() # создаем случайную сеть для мутаций !Изменено\n",
        "    for j in range(l):        # пробегаемся по всей длине бота\n",
        "      x = 0\n",
        "      pindex = random.random() # получаем случайное число от 0 до 1\n",
        "      # если pindex меньше 0.5, то берем значения от первого бота, иначе от второго\n",
        "      if pindex < 0.5:\n",
        "        x = botp1[j]\n",
        "      else:\n",
        "        x = botp2[j]\n",
        "\n",
        "      # c вероятностью mut устанавливаем значение бота из net4Mut\n",
        "      if (random.random() < mut):\n",
        "        x = net4Mut[j]\n",
        "\n",
        "      newbot.append(x)       # добавляем очередное значение в бота\n",
        "    newpopul.append(newbot)  # добавляем бота в новую популяцию\n",
        "    delta = l - len(newpopul) # !Изменено\n",
        "    for j in range(delta):\n",
        "      popul.append(0)\n",
        "  popul = newpopul           # записываем в popul новую посчитанную популяцию\n",
        "  \n",
        "\n"
      ],
      "metadata": {
        "colab": {
          "base_uri": "https://localhost:8080/",
          "height": 556
        },
        "id": "gHbVYAtFlnvS",
        "outputId": "3a327b07-c990-4788-e87a-f7141aebb56d"
      },
      "execution_count": null,
      "outputs": [
        {
          "output_type": "stream",
          "name": "stdout",
          "text": [
            "1 3 8 ConvSize\n",
            "2 4 4 ConvKernel\n",
            "3 4 4 activation\n",
            "4 0 0 makeMaxPooling\n",
            "5 2 2 maxPoolingSize\n",
            "6 4 4 activation3\n",
            "7 1 1 activation4 <class 'int'>\n"
          ]
        },
        {
          "output_type": "stream",
          "name": "stderr",
          "text": [
            "/usr/local/lib/python3.7/dist-packages/ipykernel_launcher.py:77: UserWarning: `Model.fit_generator` is deprecated and will be removed in a future version. Please use `Model.fit`, which supports generators.\n"
          ]
        },
        {
          "output_type": "error",
          "ename": "TypeError",
          "evalue": "ignored",
          "traceback": [
            "\u001b[0;31m---------------------------------------------------------------------------\u001b[0m",
            "\u001b[0;31mTypeError\u001b[0m                                 Traceback (most recent call last)",
            "\u001b[0;32m<ipython-input-29-eb21052e38eb>\u001b[0m in \u001b[0;36m<module>\u001b[0;34m\u001b[0m\n\u001b[1;32m     23\u001b[0m   \u001b[0;32mfor\u001b[0m \u001b[0mi\u001b[0m \u001b[0;32min\u001b[0m \u001b[0mrange\u001b[0m\u001b[0;34m(\u001b[0m\u001b[0mn\u001b[0m\u001b[0;34m)\u001b[0m\u001b[0;34m:\u001b[0m     \u001b[0;31m# пробегаем в цикле по всем ботам\u001b[0m\u001b[0;34m\u001b[0m\u001b[0;34m\u001b[0m\u001b[0m\n\u001b[1;32m     24\u001b[0m     \u001b[0mbot\u001b[0m \u001b[0;34m=\u001b[0m \u001b[0mpopul\u001b[0m\u001b[0;34m[\u001b[0m\u001b[0mi\u001b[0m\u001b[0;34m]\u001b[0m       \u001b[0;31m# берем очередного бота\u001b[0m\u001b[0;34m\u001b[0m\u001b[0;34m\u001b[0m\u001b[0m\n\u001b[0;32m---> 25\u001b[0;31m     \u001b[0mf\u001b[0m\u001b[0;34m,\u001b[0m \u001b[0mmodel_sum\u001b[0m \u001b[0;34m=\u001b[0m \u001b[0mevaluateNet\u001b[0m\u001b[0;34m(\u001b[0m\u001b[0mbot\u001b[0m\u001b[0;34m,\u001b[0m \u001b[0;36m3\u001b[0m\u001b[0;34m,\u001b[0m \u001b[0;36m0\u001b[0m\u001b[0;34m)\u001b[0m \u001b[0;31m# вычисляем точность текущего бота на 3х эпохах, скрыть вывод данных verbose\u001b[0m\u001b[0;34m\u001b[0m\u001b[0;34m\u001b[0m\u001b[0m\n\u001b[0m\u001b[1;32m     26\u001b[0m     \u001b[0mval\u001b[0m\u001b[0;34m.\u001b[0m\u001b[0mappend\u001b[0m\u001b[0;34m(\u001b[0m\u001b[0mf\u001b[0m\u001b[0;34m)\u001b[0m        \u001b[0;31m# добавляем полученное значение к списку val\u001b[0m\u001b[0;34m\u001b[0m\u001b[0;34m\u001b[0m\u001b[0m\n\u001b[1;32m     27\u001b[0m \u001b[0;34m\u001b[0m\u001b[0m\n",
            "\u001b[0;32m<ipython-input-28-6e8bb1791c9f>\u001b[0m in \u001b[0;36mevaluateNet\u001b[0;34m(net, ep, verb)\u001b[0m\n\u001b[1;32m     66\u001b[0m   \u001b[0mval\u001b[0m \u001b[0;34m=\u001b[0m \u001b[0;36m0\u001b[0m\u001b[0;34m\u001b[0m\u001b[0;34m\u001b[0m\u001b[0m\n\u001b[1;32m     67\u001b[0m   \u001b[0mtime\u001b[0m\u001b[0;34m.\u001b[0m\u001b[0mtime\u001b[0m\u001b[0;34m(\u001b[0m\u001b[0;34m)\u001b[0m\u001b[0;34m\u001b[0m\u001b[0;34m\u001b[0m\u001b[0m\n\u001b[0;32m---> 68\u001b[0;31m   \u001b[0mmodel\u001b[0m \u001b[0;34m=\u001b[0m \u001b[0mcreateConvNet\u001b[0m\u001b[0;34m(\u001b[0m\u001b[0mnet\u001b[0m\u001b[0;34m)\u001b[0m \u001b[0;31m# создаем модель\u001b[0m\u001b[0;34m\u001b[0m\u001b[0;34m\u001b[0m\u001b[0m\n\u001b[0m\u001b[1;32m     69\u001b[0m \u001b[0;34m\u001b[0m\u001b[0m\n\u001b[1;32m     70\u001b[0m   \u001b[0;31m# Компилируем модель\u001b[0m\u001b[0;34m\u001b[0m\u001b[0;34m\u001b[0m\u001b[0;34m\u001b[0m\u001b[0m\n",
            "\u001b[0;32m<ipython-input-28-6e8bb1791c9f>\u001b[0m in \u001b[0;36mcreateConvNet\u001b[0;34m(net)\u001b[0m\n\u001b[1;32m      4\u001b[0m   \u001b[0mmodel\u001b[0m \u001b[0;34m=\u001b[0m \u001b[0mSequential\u001b[0m\u001b[0;34m(\u001b[0m\u001b[0;34m)\u001b[0m             \u001b[0;31m# Создаем моель Sequential\u001b[0m\u001b[0;34m\u001b[0m\u001b[0;34m\u001b[0m\u001b[0m\n\u001b[1;32m      5\u001b[0m \u001b[0;34m\u001b[0m\u001b[0m\n\u001b[0;32m----> 6\u001b[0;31m   \u001b[0mblocksNumber\u001b[0m \u001b[0;34m=\u001b[0m \u001b[0mnet\u001b[0m\u001b[0;34m[\u001b[0m\u001b[0;36m0\u001b[0m\u001b[0;34m]\u001b[0m  \u001b[0;31m# Делаем ли нормализацию в начале\u001b[0m\u001b[0;34m\u001b[0m\u001b[0;34m\u001b[0m\u001b[0m\n\u001b[0m\u001b[1;32m      7\u001b[0m \u001b[0;34m\u001b[0m\u001b[0m\n\u001b[1;32m      8\u001b[0m \u001b[0;34m\u001b[0m\u001b[0m\n",
            "\u001b[0;31mTypeError\u001b[0m: 'int' object is not subscriptable"
          ]
        }
      ]
    },
    {
      "cell_type": "code",
      "source": [
        "print(popul) #Геномы лучших ботов по эпохам"
      ],
      "metadata": {
        "id": "jnmh2YMwwHE_"
      },
      "execution_count": null,
      "outputs": []
    },
    {
      "cell_type": "code",
      "source": [
        "model = createConvNet(popul[0])\n",
        "# model.summary()"
      ],
      "metadata": {
        "id": "CGPg0HQQwHmm"
      },
      "execution_count": null,
      "outputs": []
    },
    {
      "cell_type": "code",
      "source": [
        "#Комипилируем и обучаем\n",
        "model.compile(optimizer=Adam(lr=1e-4),\n",
        "                loss='mse')\n",
        "\n",
        "history = model.fit_generator(trainDataGen,\n",
        "                    epochs=50, \n",
        "                    validation_data=testDataGen)"
      ],
      "metadata": {
        "id": "LM0VBMcWwW9U"
      },
      "execution_count": null,
      "outputs": []
    },
    {
      "cell_type": "code",
      "source": [
        "model.summary()"
      ],
      "metadata": {
        "id": "dQqOYP58leAB"
      },
      "execution_count": null,
      "outputs": []
    },
    {
      "cell_type": "code",
      "source": [
        "plt.plot(history.history['loss'], \n",
        "         label='Средняя абсолютная ошибка на обучающем наборе')\n",
        "plt.plot(history.history['val_loss'], \n",
        "         label='Средняя абсолютная ошибка на проверочном наборе')\n",
        "plt.ylabel('Средняя ошибка')\n",
        "plt.legend()\n",
        "plt.show()"
      ],
      "metadata": {
        "id": "uc9JG-n6wZc9"
      },
      "execution_count": null,
      "outputs": []
    },
    {
      "cell_type": "code",
      "source": [
        "# Прогнозируем данные текущей сетью\n",
        "currModel = model #Выбираем текущую модель\n",
        "(predVal, yValUnscaled) = getPred(currModel, xVal[0], yVal[0], Scaler) #Прогнозируем данные\n",
        "\n",
        "# Отображаем графики\n",
        "showPredict(0, 400, 0, predVal, yValUnscaled)"
      ],
      "metadata": {
        "id": "Fbs0C4k_wewB"
      },
      "execution_count": null,
      "outputs": []
    },
    {
      "cell_type": "code",
      "source": [
        "# Отображаем корреляцию\n",
        "# Используем выходной канал - только open\n",
        "# Проверяем корреляцию на глубину 60 шагов\n",
        "autoCorr([0], 20, predVal, yValUnscaled)"
      ],
      "metadata": {
        "id": "7HGoXhSRwj0l"
      },
      "execution_count": null,
      "outputs": []
    }
  ]
}