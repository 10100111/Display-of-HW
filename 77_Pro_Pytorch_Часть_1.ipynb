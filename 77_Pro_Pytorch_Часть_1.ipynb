{
  "nbformat": 4,
  "nbformat_minor": 0,
  "metadata": {
    "colab": {
      "provenance": [],
      "include_colab_link": true
    },
    "kernelspec": {
      "name": "python3",
      "display_name": "Python 3"
    },
    "accelerator": "GPU"
  },
  "cells": [
    {
      "cell_type": "markdown",
      "metadata": {
        "id": "view-in-github",
        "colab_type": "text"
      },
      "source": [
        "<a href=\"https://colab.research.google.com/github/10100111/Display-of-HW1/blob/main/77_Pro_Pytorch_%D0%A7%D0%B0%D1%81%D1%82%D1%8C_1.ipynb\" target=\"_parent\"><img src=\"https://colab.research.google.com/assets/colab-badge.svg\" alt=\"Open In Colab\"/></a>"
      ]
    },
    {
      "cell_type": "markdown",
      "source": [
        "Задание Pro\n",
        "\n",
        "Макс 10 баллов\n",
        "\n",
        "Напишите модель автокодировщика для любой из баз, представленных в torchvision."
      ],
      "metadata": {
        "id": "rWE7ho3M_Ieu"
      }
    },
    {
      "cell_type": "code",
      "metadata": {
        "id": "7AowGFGi8Oah"
      },
      "source": [
        "# Этим блоком будем визуализировать\n",
        "import numpy as np\n",
        "import matplotlib.pyplot as plt\n",
        "import matplotlib.colors as mcolors\n",
        "%matplotlib inline\n",
        "from PIL import Image\n",
        "import scipy\n",
        "\n",
        "# Библиотеки Pytorch\n",
        "import torch \n",
        "import torchvision # здесь лежат mnist, cifar и много других датасетов и трансформаций для картинок\n",
        "import torch.nn as nn # здесь лежат все слои\n",
        "import torch.nn.functional as F\n",
        "import torch.utils.data as data # работа с загрузчиком данных\n",
        "import torchvision.transforms as transforms # библиотека для преобразования изображений\n",
        "import torchvision.datasets as dsets # работа с классом Датасет\n",
        "from torch.utils.data import SubsetRandomSampler\n",
        "# Вывод информации о модели\n",
        "from torchsummary import summary\n",
        "\n",
        "# Визуализации графа\n",
        "from torch.utils.tensorboard import SummaryWriter \n",
        "import datetime, os\n",
        "import time"
      ],
      "execution_count": null,
      "outputs": []
    },
    {
      "cell_type": "code",
      "metadata": {
        "id": "hRGETiVsiI5b",
        "colab": {
          "base_uri": "https://localhost:8080/"
        },
        "outputId": "59175822-2e81-47c4-d4f2-2f9316d50c5e"
      },
      "source": [
        "from google.colab import drive\n",
        "drive.mount('/content/drive')"
      ],
      "execution_count": null,
      "outputs": [
        {
          "output_type": "stream",
          "name": "stdout",
          "text": [
            "Drive already mounted at /content/drive; to attempt to forcibly remount, call drive.mount(\"/content/drive\", force_remount=True).\n"
          ]
        }
      ]
    },
    {
      "cell_type": "markdown",
      "metadata": {
        "id": "x9vbolfh8T0F"
      },
      "source": [
        "# **Загрузка MNIST**\n",
        "\n"
      ]
    },
    {
      "cell_type": "markdown",
      "metadata": {
        "id": "FQ-M3IiR8T0b"
      },
      "source": [
        "Задаем параметры"
      ]
    },
    {
      "cell_type": "code",
      "metadata": {
        "id": "_I_TTnEc8T0x"
      },
      "source": [
        "numEpochs = 30       # Количество эпох\n",
        "learningRate = 0.001 # Скорость обучения"
      ],
      "execution_count": null,
      "outputs": []
    },
    {
      "cell_type": "markdown",
      "metadata": {
        "id": "Ba2SL_ub8T04"
      },
      "source": [
        "Загружаем данные "
      ]
    },
    {
      "cell_type": "code",
      "source": [
        "batchSize = 32"
      ],
      "metadata": {
        "id": "TBxBIAxtJWJc"
      },
      "execution_count": null,
      "outputs": []
    },
    {
      "cell_type": "code",
      "source": [
        "def get_dataloaders_mnist(batch_size, num_workers=0,\n",
        "                          validation_fraction=None,\n",
        "                          train_transforms=None, test_transforms=None):\n",
        "\n",
        "    if train_transforms is None:                                 # если не выбрана трансформация на обучающем датасете\n",
        "        train_transforms = transforms.ToTensor()                 # По умолчанию ToTensor() \n",
        "\n",
        "    if test_transforms is None:                                  # если не выбрана трансформация на тестовом датасете\n",
        "        test_transforms = transforms.ToTensor()                  # По умолчанию ToTensor()\n",
        "\n",
        "    train_dataset = dsets.MNIST(root='data',                     # Загружаем данные обучающей выборки\n",
        "                                   train=True,\n",
        "                                   transform=train_transforms,\n",
        "                                   download=True)\n",
        "\n",
        "    valid_dataset = dsets.MNIST(root='data',                     # Загружаем данные валидационной выборки выборки\n",
        "                                   train=True,\n",
        "                                   transform=test_transforms)\n",
        "\n",
        "    test_dataset = dsets.MNIST(root='data',                      # Загружаем данные тестовой выборки\n",
        "                                  train=False,\n",
        "                                  transform=test_transforms)\n",
        "\n",
        "    if validation_fraction is not None:                          # Если валидационный набор нужен\n",
        "        num = int(validation_fraction * 60000)                   # В переменную num сохраняем кол-во примеров, а в функции укажем долю (например 0.2) * 60 000\n",
        "        train_indices = torch.arange(0, 60000 - num)             # В обучающий забор запишем первые примеры до значения num\n",
        "        valid_indices = torch.arange(60000 - num, 60000)         # В валидационный набор запишем примеры идущие после значения num\n",
        "\n",
        "        train_sampler = SubsetRandomSampler(train_indices)       # Семплируем/сплитуем элементы в одинаковой последовательности обучающего набора данных\n",
        "        valid_sampler = SubsetRandomSampler(valid_indices)       # Семплируем/сплитуем примеры в одинаковой последовательности валидвционного набора данных\n",
        "\n",
        "        valid_loader = torch.utils.data.DataLoader(dataset=valid_dataset, # Dataset Loader (подготовка валидационных данных для сети)\n",
        "                                  batch_size=batch_size,\n",
        "                                  num_workers=num_workers,\n",
        "                                  sampler=valid_sampler)\n",
        "\n",
        "        train_loader = torch.utils.data.DataLoader(dataset=train_dataset, # Dataset Loader (подготовка обучающих данных для сети)\n",
        "                                  batch_size=batch_size,\n",
        "                                  num_workers=num_workers,\n",
        "                                  drop_last=True,\n",
        "                                  sampler=train_sampler)\n",
        "    else:                                                                 # В противном случае делим набор на обучающий и тестовый\n",
        "        train_loader = torch.utils.data.DataLoader(dataset=train_dataset,\n",
        "                                  batch_size=batch_size,\n",
        "                                  num_workers=num_workers,\n",
        "                                  shuffle=True)\n",
        "\n",
        "    test_loader = torch.utils.data.DataLoader(dataset=test_dataset,\n",
        "                             batch_size=batch_size,\n",
        "                             num_workers=num_workers,\n",
        "                             shuffle=False)\n",
        "\n",
        "    if validation_fraction is None:                       # Если валидационный набор не нужен \n",
        "        return train_loader, test_loader                  # Возвращаем обучающий и тестовый наборы данных\n",
        "    else:                                                 # В противном случае возвращаем обучающий, валидационный и тестовый наборы\n",
        "        return train_loader, valid_loader, test_loader"
      ],
      "metadata": {
        "id": "9pazh7skI8ua"
      },
      "execution_count": null,
      "outputs": []
    },
    {
      "cell_type": "code",
      "source": [
        "##########################\n",
        "### Dataset\n",
        "##########################\n",
        "\n",
        "train_loader, valid_loader, test_loader = get_dataloaders_mnist(   # загружаем три набора: train_loader, valid_loader, test_loader\n",
        "    batch_size=batchSize,  \n",
        "    num_workers=2, \n",
        "    validation_fraction=0.)"
      ],
      "metadata": {
        "id": "t8jpiK3aI8zl"
      },
      "execution_count": null,
      "outputs": []
    },
    {
      "cell_type": "code",
      "source": [
        "# Checking the dataset\n",
        "print('Training Set:\\n')\n",
        "for images, labels in train_loader:                  # Пробегаемся по примерам в батчах и меткам в обучающем генераторе\n",
        "    print('Image batch dimensions:', images.size())  # Выводим размер батча примеров\n",
        "    print('Image label dimensions:', labels.size())  # Выводим размер батча меток\n",
        "    print(labels[:10])\n",
        "    break\n",
        "    \n",
        "# Checking the dataset\n",
        "print('\\nValidation Set:')\n",
        "for images, labels in valid_loader:  \n",
        "    print('Image batch dimensions:', images.size())\n",
        "    print('Image label dimensions:', labels.size())\n",
        "    print(labels[:10])\n",
        "    break\n",
        "\n",
        "# Checking the dataset\n",
        "print('\\nTesting Set:')\n",
        "for images, labels in test_loader:  \n",
        "    print('Image batch dimensions:', images.size())\n",
        "    print('Image label dimensions:', labels.size())\n",
        "    print(labels[:10])\n",
        "    break"
      ],
      "metadata": {
        "colab": {
          "base_uri": "https://localhost:8080/"
        },
        "id": "E6jaJhpvJC6A",
        "outputId": "677a218e-b628-4f2d-cfcb-fe9d9c305a24"
      },
      "execution_count": null,
      "outputs": [
        {
          "output_type": "stream",
          "name": "stdout",
          "text": [
            "Training Set:\n",
            "\n",
            "Image batch dimensions: torch.Size([32, 1, 28, 28])\n",
            "Image label dimensions: torch.Size([32])\n",
            "tensor([8, 4, 0, 5, 4, 1, 8, 9, 8, 4])\n",
            "\n",
            "Validation Set:\n",
            "\n",
            "Testing Set:\n",
            "Image batch dimensions: torch.Size([32, 1, 28, 28])\n",
            "Image label dimensions: torch.Size([32])\n",
            "tensor([7, 2, 1, 0, 4, 1, 4, 9, 5, 9])\n"
          ]
        }
      ]
    },
    {
      "cell_type": "markdown",
      "metadata": {
        "id": "ZA1GCTJRwRST"
      },
      "source": [
        "# Сверточная сеть\n",
        "\n",
        "\n"
      ]
    },
    {
      "cell_type": "code",
      "source": [
        "# Создадим переменную, в которой будет храниться тип устройства (GPU или CPU)\n",
        "device = 'cuda' if torch.cuda.is_available() else 'cpu'\n",
        "device"
      ],
      "metadata": {
        "colab": {
          "base_uri": "https://localhost:8080/",
          "height": 36
        },
        "id": "OgjKMClCXXXD",
        "outputId": "d4e71674-ef53-4469-f55b-1dfff07e8b6b"
      },
      "execution_count": null,
      "outputs": [
        {
          "output_type": "execute_result",
          "data": {
            "text/plain": [
              "'cuda'"
            ],
            "application/vnd.google.colaboratory.intrinsic+json": {
              "type": "string"
            }
          },
          "metadata": {},
          "execution_count": 96
        }
      ]
    },
    {
      "cell_type": "code",
      "source": [
        "##########################\n",
        "### MODEL\n",
        "##########################\n",
        "\n",
        "\n",
        "class Reshape(nn.Module):        # Создадим слой Reshape объект класса Module \n",
        "    def __init__(self, *args):\n",
        "        super().__init__()\n",
        "        self.shape = args\n",
        "\n",
        "    def forward(self, x):\n",
        "        return x.view(self.shape)\n",
        "\n",
        "\n",
        "class Trim(nn.Module):           # Создадим слой для изменения размерности выхода на размерность (:, :, :28, :28)\n",
        "    def __init__(self, *args):\n",
        "        super().__init__()\n",
        "\n",
        "    def forward(self, x):\n",
        "        return x[:, :, :28, :28]\n",
        "\n",
        "\n",
        "class AutoEncoder(nn.Module):   # Создаем слои автоэнкодера из 2х блоков\n",
        "    def __init__(self):\n",
        "        super().__init__()\n",
        "        \n",
        "        self.encoder = nn.Sequential( #784\n",
        "                nn.Conv2d(1, 32, stride=(1, 1), kernel_size=(3, 3), padding=1),\n",
        "                nn.LeakyReLU(0.01),\n",
        "                nn.Conv2d(32, 64, stride=(2, 2), kernel_size=(3, 3), padding=1),\n",
        "                nn.LeakyReLU(0.01),\n",
        "                nn.Conv2d(64, 64, stride=(2, 2), kernel_size=(3, 3), padding=1),\n",
        "                nn.LeakyReLU(0.01),\n",
        "                nn.Conv2d(64, 64, stride=(1, 1), kernel_size=(3, 3), padding=1),\n",
        "                nn.Flatten(),\n",
        "                nn.Linear(3136, 2)\n",
        "        )\n",
        "        self.decoder = nn.Sequential(\n",
        "                torch.nn.Linear(2, 3136),\n",
        "                Reshape(-1, 64, 7, 7),\n",
        "                nn.ConvTranspose2d(64, 64, stride=(1, 1), kernel_size=(3, 3), padding=1),\n",
        "                nn.LeakyReLU(0.01),\n",
        "                nn.ConvTranspose2d(64, 64, stride=(2, 2), kernel_size=(3, 3), padding=1),                \n",
        "                nn.LeakyReLU(0.01),\n",
        "                nn.ConvTranspose2d(64, 32, stride=(2, 2), kernel_size=(3, 3), padding=0),                \n",
        "                nn.LeakyReLU(0.01),\n",
        "                nn.ConvTranspose2d(32, 1, stride=(1, 1), kernel_size=(3, 3), padding=0), \n",
        "                Trim(),  # 1x29x29 -> 1x28x28\n",
        "                nn.Sigmoid()\n",
        "                )\n",
        "\n",
        "    def forward(self, x):\n",
        "        x = self.encoder(x)\n",
        "        x = self.decoder(x)\n",
        "        return x"
      ],
      "metadata": {
        "id": "TA2zbflC_k5G"
      },
      "execution_count": null,
      "outputs": []
    },
    {
      "cell_type": "code",
      "source": [
        "model = AutoEncoder()  # Инициируем модель\n",
        "model.to(device)       # Передаем модель на GPU  "
      ],
      "metadata": {
        "colab": {
          "base_uri": "https://localhost:8080/"
        },
        "id": "fIM6cyvg_zo3",
        "outputId": "1aea8343-93ca-44be-dff6-c35b5a8a6185"
      },
      "execution_count": null,
      "outputs": [
        {
          "output_type": "execute_result",
          "data": {
            "text/plain": [
              "AutoEncoder(\n",
              "  (encoder): Sequential(\n",
              "    (0): Conv2d(1, 32, kernel_size=(3, 3), stride=(1, 1), padding=(1, 1))\n",
              "    (1): LeakyReLU(negative_slope=0.01)\n",
              "    (2): Conv2d(32, 64, kernel_size=(3, 3), stride=(2, 2), padding=(1, 1))\n",
              "    (3): LeakyReLU(negative_slope=0.01)\n",
              "    (4): Conv2d(64, 64, kernel_size=(3, 3), stride=(2, 2), padding=(1, 1))\n",
              "    (5): LeakyReLU(negative_slope=0.01)\n",
              "    (6): Conv2d(64, 64, kernel_size=(3, 3), stride=(1, 1), padding=(1, 1))\n",
              "    (7): Flatten(start_dim=1, end_dim=-1)\n",
              "    (8): Linear(in_features=3136, out_features=2, bias=True)\n",
              "  )\n",
              "  (decoder): Sequential(\n",
              "    (0): Linear(in_features=2, out_features=3136, bias=True)\n",
              "    (1): Reshape()\n",
              "    (2): ConvTranspose2d(64, 64, kernel_size=(3, 3), stride=(1, 1), padding=(1, 1))\n",
              "    (3): LeakyReLU(negative_slope=0.01)\n",
              "    (4): ConvTranspose2d(64, 64, kernel_size=(3, 3), stride=(2, 2), padding=(1, 1))\n",
              "    (5): LeakyReLU(negative_slope=0.01)\n",
              "    (6): ConvTranspose2d(64, 32, kernel_size=(3, 3), stride=(2, 2))\n",
              "    (7): LeakyReLU(negative_slope=0.01)\n",
              "    (8): ConvTranspose2d(32, 1, kernel_size=(3, 3), stride=(1, 1))\n",
              "    (9): Trim()\n",
              "    (10): Sigmoid()\n",
              "  )\n",
              ")"
            ]
          },
          "metadata": {},
          "execution_count": 98
        }
      ]
    },
    {
      "cell_type": "code",
      "metadata": {
        "colab": {
          "base_uri": "https://localhost:8080/"
        },
        "id": "40uJ3bpb2SDQ",
        "outputId": "1636a038-9b29-47c9-83e5-b941467c4c83"
      },
      "source": [
        "summary(model, (1,28,28))  # Посмотрим схему автоэнкодера"
      ],
      "execution_count": null,
      "outputs": [
        {
          "output_type": "stream",
          "name": "stdout",
          "text": [
            "----------------------------------------------------------------\n",
            "        Layer (type)               Output Shape         Param #\n",
            "================================================================\n",
            "            Conv2d-1           [-1, 32, 28, 28]             320\n",
            "         LeakyReLU-2           [-1, 32, 28, 28]               0\n",
            "            Conv2d-3           [-1, 64, 14, 14]          18,496\n",
            "         LeakyReLU-4           [-1, 64, 14, 14]               0\n",
            "            Conv2d-5             [-1, 64, 7, 7]          36,928\n",
            "         LeakyReLU-6             [-1, 64, 7, 7]               0\n",
            "            Conv2d-7             [-1, 64, 7, 7]          36,928\n",
            "           Flatten-8                 [-1, 3136]               0\n",
            "            Linear-9                    [-1, 2]           6,274\n",
            "           Linear-10                 [-1, 3136]           9,408\n",
            "          Reshape-11             [-1, 64, 7, 7]               0\n",
            "  ConvTranspose2d-12             [-1, 64, 7, 7]          36,928\n",
            "        LeakyReLU-13             [-1, 64, 7, 7]               0\n",
            "  ConvTranspose2d-14           [-1, 64, 13, 13]          36,928\n",
            "        LeakyReLU-15           [-1, 64, 13, 13]               0\n",
            "  ConvTranspose2d-16           [-1, 32, 27, 27]          18,464\n",
            "        LeakyReLU-17           [-1, 32, 27, 27]               0\n",
            "  ConvTranspose2d-18            [-1, 1, 29, 29]             289\n",
            "             Trim-19            [-1, 1, 28, 28]               0\n",
            "          Sigmoid-20            [-1, 1, 28, 28]               0\n",
            "================================================================\n",
            "Total params: 200,963\n",
            "Trainable params: 200,963\n",
            "Non-trainable params: 0\n",
            "----------------------------------------------------------------\n",
            "Input size (MB): 0.00\n",
            "Forward/backward pass size (MB): 1.31\n",
            "Params size (MB): 0.77\n",
            "Estimated Total Size (MB): 2.07\n",
            "----------------------------------------------------------------\n"
          ]
        }
      ]
    },
    {
      "cell_type": "code",
      "metadata": {
        "id": "vBMWvFt8wVOU"
      },
      "source": [
        "# Оптимизатор\n",
        "optimizer = torch.optim.Adam(model.parameters(), lr=learningRate)  "
      ],
      "execution_count": null,
      "outputs": []
    },
    {
      "cell_type": "markdown",
      "source": [
        "# Обучение"
      ],
      "metadata": {
        "id": "GIrz2EhQB1WA"
      }
    },
    {
      "cell_type": "code",
      "source": [
        "# Функция для оценки потерь на эпохе, принимает на вход модель, генератор загрузки данных (train_loader, valid_loader, test_loader), loss функцию, device\n",
        "def compute_epoch_loss_autoencoder(model, data_loader, loss_fn, device):\n",
        "    model.eval()                                                # Переводим модель в тестовый режим\n",
        "    curr_loss, num_examples = 0., 0                             # Стартовые значения текущего loss'a, кол-во примеров \n",
        "    with torch.no_grad():                                       # Отключаем расчет градиентов\n",
        "        for features, _ in data_loader:                         # Пробегаемся по батчам датасета \n",
        "            features = features.to(device)                      # Передаем данные из датасета на device\n",
        "            logits = model(features)                            # Записываем в перменную logits наше предсказание на батче\n",
        "            loss = loss_fn(logits, features, reduction='sum')   # Считаем ошибку \n",
        "            num_examples += features.size(0)                    # Увеличиваем кол-во примеров на батч\n",
        "            curr_loss += loss                                   # Добавляем значение ошибки на батче к общему\n",
        "\n",
        "        curr_loss = curr_loss / num_examples                    # Считаем loss на эпохе\n",
        "        return curr_loss                                        # Возвращает loss на эпохе\n"
      ],
      "metadata": {
        "id": "ZAJJArtzGieG"
      },
      "execution_count": null,
      "outputs": []
    },
    {
      "cell_type": "code",
      "source": [
        "# Функция обучения автоэнкодера принимает на вход num_epochs - к-во эпох, model - модель, optimizer - оптимизатор, device, train_loader - обучающий набор данных,\n",
        "#  loss_fn=None лосс функцию, logging_interval=100 интервал через который выводим инфо по результатам обучения, skip_epoch_stats=False нужно ли выводить доп инфо, save_model=None нужно ли созранить модель\n",
        "def train_autoencoder_v1(num_epochs, model, optimizer, device, \n",
        "                         train_loader, loss_fn=None,\n",
        "                         logging_interval=100, \n",
        "                         skip_epoch_stats=False,\n",
        "                         save_model=None):\n",
        "    \n",
        "    log_dict = {'train_loss_per_batch': [],                         # Объявим словарь данных по ошибкам на батче и на эпохе\n",
        "                'train_loss_per_epoch': []}\n",
        "    \n",
        "    if loss_fn is None:                                             # Если лосс функция не задана, по умолчанию MSE\n",
        "        loss_fn = F.mse_loss                      \n",
        "\n",
        "    start_time = time.time()                                        # Засекаем время\n",
        "    for epoch in range(num_epochs):                                 # Пробегаемся по всем эпохам\n",
        "\n",
        "        model.train()                                               # Переводим модель в режим обучения\n",
        "        for batch_idx, (features, _) in enumerate(train_loader):    # Проходимся по всем данным в batch\n",
        "\n",
        "            features = features.to(device)                          # Отправляем примеры на используемое устройство\n",
        "\n",
        "            # FORWARD AND BACK PROP\n",
        "            logits = model(features)                                # Делаем предсказание на батче\n",
        "            loss = loss_fn(logits, features)                        # Считаем лосс\n",
        "            optimizer.zero_grad()                                   # Обнуляем градиенты\n",
        "\n",
        "            loss.backward()                                         # Делаем обратный проход\n",
        "\n",
        "            # UPDATE MODEL PARAMETERS\n",
        "            optimizer.step()                                        #  Изменяем значения весов\n",
        "\n",
        "            # LOGGING\n",
        "            log_dict['train_loss_per_batch'].append(loss.item())    # Добавляем в словарь значение ошибки на батче \n",
        "            \n",
        "            if not batch_idx % logging_interval:                    # Если пройден интервал = 100\n",
        "                print('Epoch: %03d/%03d | Batch %04d/%04d | Loss: %.4f' # Выводим инфо по результатам обучения\n",
        "                      % (epoch+1, num_epochs, batch_idx,\n",
        "                          len(train_loader), loss))\n",
        "\n",
        "        if not skip_epoch_stats:                 # Если skip_epoch_stats = True          \n",
        "            model.eval()                         # Переводим модель в тестовый режим \n",
        "            \n",
        "            with torch.set_grad_enabled(False):  # save memory during inference / отключаем расчет градиентов\n",
        "                \n",
        "                train_loss = compute_epoch_loss_autoencoder(                    # Записываем в переменную train_loss значение ошибки на обучении\n",
        "                    model, train_loader, loss_fn, device)\n",
        "                print('***Epoch: %03d/%03d | Loss: %.3f' % (                    # Выводим на экран номер эпохи/ из к-ва эпох, лосс на обучении\n",
        "                      epoch+1, num_epochs, train_loss))\n",
        "                log_dict['train_loss_per_epoch'].append(train_loss.item())      # Добавляем в словарь значение лосса на эпохе\n",
        "\n",
        "        print('Time elapsed: %.2f min' % ((time.time() - start_time)/60))       # Выводим инфо о времени обучения на эпохе\n",
        "\n",
        "    print('Total Training Time: %.2f min' % ((time.time() - start_time)/60))    # Выводим общее время обучения \n",
        "    if save_model is not None:                                                  # Если нужно сохранить модель \n",
        "        torch.save(model.state_dict(), save_model)                              # Сохраняем только параметры модели (в целях безопасности)\n",
        "    \n",
        "    return log_dict # Функция возвращает словарь с loss'ами                                                              \n"
      ],
      "metadata": {
        "id": "2grDFFZQ8p53"
      },
      "execution_count": null,
      "outputs": []
    },
    {
      "cell_type": "code",
      "source": [
        "log_dict = train_autoencoder_v1(num_epochs=numEpochs, model=model, \n",
        "                                optimizer=optimizer, device=device, \n",
        "                                train_loader=train_loader,\n",
        "                                skip_epoch_stats=True,\n",
        "                                logging_interval=250)"
      ],
      "metadata": {
        "colab": {
          "base_uri": "https://localhost:8080/"
        },
        "id": "O5fsFVJ78ssW",
        "outputId": "5cf4e536-fe94-471b-b3e2-4667cbe6d2e0"
      },
      "execution_count": null,
      "outputs": [
        {
          "output_type": "stream",
          "name": "stdout",
          "text": [
            "Epoch: 001/030 | Batch 0000/1875 | Loss: 0.1890\n",
            "Epoch: 001/030 | Batch 0250/1875 | Loss: 0.0523\n",
            "Epoch: 001/030 | Batch 0500/1875 | Loss: 0.0517\n",
            "Epoch: 001/030 | Batch 0750/1875 | Loss: 0.0522\n",
            "Epoch: 001/030 | Batch 1000/1875 | Loss: 0.0461\n",
            "Epoch: 001/030 | Batch 1250/1875 | Loss: 0.0494\n",
            "Epoch: 001/030 | Batch 1500/1875 | Loss: 0.0447\n",
            "Epoch: 001/030 | Batch 1750/1875 | Loss: 0.0419\n",
            "Time elapsed: 0.79 min\n",
            "Epoch: 002/030 | Batch 0000/1875 | Loss: 0.0455\n",
            "Epoch: 002/030 | Batch 0250/1875 | Loss: 0.0405\n",
            "Epoch: 002/030 | Batch 0500/1875 | Loss: 0.0400\n",
            "Epoch: 002/030 | Batch 0750/1875 | Loss: 0.0398\n",
            "Epoch: 002/030 | Batch 1000/1875 | Loss: 0.0442\n",
            "Epoch: 002/030 | Batch 1250/1875 | Loss: 0.0486\n",
            "Epoch: 002/030 | Batch 1500/1875 | Loss: 0.0436\n",
            "Epoch: 002/030 | Batch 1750/1875 | Loss: 0.0327\n",
            "Time elapsed: 1.65 min\n",
            "Epoch: 003/030 | Batch 0000/1875 | Loss: 0.0413\n",
            "Epoch: 003/030 | Batch 0250/1875 | Loss: 0.0384\n",
            "Epoch: 003/030 | Batch 0500/1875 | Loss: 0.0402\n",
            "Epoch: 003/030 | Batch 0750/1875 | Loss: 0.0429\n",
            "Epoch: 003/030 | Batch 1000/1875 | Loss: 0.0407\n",
            "Epoch: 003/030 | Batch 1250/1875 | Loss: 0.0440\n",
            "Epoch: 003/030 | Batch 1500/1875 | Loss: 0.0439\n",
            "Epoch: 003/030 | Batch 1750/1875 | Loss: 0.0484\n",
            "Time elapsed: 2.43 min\n",
            "Epoch: 004/030 | Batch 0000/1875 | Loss: 0.0402\n",
            "Epoch: 004/030 | Batch 0250/1875 | Loss: 0.0399\n",
            "Epoch: 004/030 | Batch 0500/1875 | Loss: 0.0402\n",
            "Epoch: 004/030 | Batch 0750/1875 | Loss: 0.0382\n",
            "Epoch: 004/030 | Batch 1000/1875 | Loss: 0.0368\n",
            "Epoch: 004/030 | Batch 1250/1875 | Loss: 0.0430\n",
            "Epoch: 004/030 | Batch 1500/1875 | Loss: 0.0431\n",
            "Epoch: 004/030 | Batch 1750/1875 | Loss: 0.0385\n",
            "Time elapsed: 3.26 min\n",
            "Epoch: 005/030 | Batch 0000/1875 | Loss: 0.0407\n",
            "Epoch: 005/030 | Batch 0250/1875 | Loss: 0.0371\n",
            "Epoch: 005/030 | Batch 0500/1875 | Loss: 0.0495\n",
            "Epoch: 005/030 | Batch 0750/1875 | Loss: 0.0383\n",
            "Epoch: 005/030 | Batch 1000/1875 | Loss: 0.0434\n",
            "Epoch: 005/030 | Batch 1250/1875 | Loss: 0.0374\n",
            "Epoch: 005/030 | Batch 1500/1875 | Loss: 0.0413\n",
            "Epoch: 005/030 | Batch 1750/1875 | Loss: 0.0353\n",
            "Time elapsed: 4.05 min\n",
            "Epoch: 006/030 | Batch 0000/1875 | Loss: 0.0449\n",
            "Epoch: 006/030 | Batch 0250/1875 | Loss: 0.0366\n",
            "Epoch: 006/030 | Batch 0500/1875 | Loss: 0.0405\n",
            "Epoch: 006/030 | Batch 0750/1875 | Loss: 0.0460\n",
            "Epoch: 006/030 | Batch 1000/1875 | Loss: 0.0406\n",
            "Epoch: 006/030 | Batch 1250/1875 | Loss: 0.0403\n",
            "Epoch: 006/030 | Batch 1500/1875 | Loss: 0.0404\n",
            "Epoch: 006/030 | Batch 1750/1875 | Loss: 0.0344\n",
            "Time elapsed: 4.83 min\n",
            "Epoch: 007/030 | Batch 0000/1875 | Loss: 0.0436\n",
            "Epoch: 007/030 | Batch 0250/1875 | Loss: 0.0421\n",
            "Epoch: 007/030 | Batch 0500/1875 | Loss: 0.0407\n",
            "Epoch: 007/030 | Batch 0750/1875 | Loss: 0.0491\n",
            "Epoch: 007/030 | Batch 1000/1875 | Loss: 0.0372\n",
            "Epoch: 007/030 | Batch 1250/1875 | Loss: 0.0383\n",
            "Epoch: 007/030 | Batch 1500/1875 | Loss: 0.0434\n",
            "Epoch: 007/030 | Batch 1750/1875 | Loss: 0.0430\n",
            "Time elapsed: 5.60 min\n",
            "Epoch: 008/030 | Batch 0000/1875 | Loss: 0.0377\n",
            "Epoch: 008/030 | Batch 0250/1875 | Loss: 0.0410\n",
            "Epoch: 008/030 | Batch 0500/1875 | Loss: 0.0417\n",
            "Epoch: 008/030 | Batch 0750/1875 | Loss: 0.0462\n",
            "Epoch: 008/030 | Batch 1000/1875 | Loss: 0.0388\n",
            "Epoch: 008/030 | Batch 1250/1875 | Loss: 0.0406\n",
            "Epoch: 008/030 | Batch 1500/1875 | Loss: 0.0461\n",
            "Epoch: 008/030 | Batch 1750/1875 | Loss: 0.0407\n",
            "Time elapsed: 6.36 min\n",
            "Epoch: 009/030 | Batch 0000/1875 | Loss: 0.0427\n",
            "Epoch: 009/030 | Batch 0250/1875 | Loss: 0.0390\n",
            "Epoch: 009/030 | Batch 0500/1875 | Loss: 0.0424\n",
            "Epoch: 009/030 | Batch 0750/1875 | Loss: 0.0457\n",
            "Epoch: 009/030 | Batch 1000/1875 | Loss: 0.0375\n",
            "Epoch: 009/030 | Batch 1250/1875 | Loss: 0.0328\n",
            "Epoch: 009/030 | Batch 1500/1875 | Loss: 0.0446\n",
            "Epoch: 009/030 | Batch 1750/1875 | Loss: 0.0422\n",
            "Time elapsed: 7.14 min\n",
            "Epoch: 010/030 | Batch 0000/1875 | Loss: 0.0426\n",
            "Epoch: 010/030 | Batch 0250/1875 | Loss: 0.0397\n",
            "Epoch: 010/030 | Batch 0500/1875 | Loss: 0.0419\n",
            "Epoch: 010/030 | Batch 0750/1875 | Loss: 0.0464\n",
            "Epoch: 010/030 | Batch 1000/1875 | Loss: 0.0380\n",
            "Epoch: 010/030 | Batch 1250/1875 | Loss: 0.0391\n",
            "Epoch: 010/030 | Batch 1500/1875 | Loss: 0.0399\n",
            "Epoch: 010/030 | Batch 1750/1875 | Loss: 0.0420\n",
            "Time elapsed: 7.91 min\n",
            "Epoch: 011/030 | Batch 0000/1875 | Loss: 0.0420\n",
            "Epoch: 011/030 | Batch 0250/1875 | Loss: 0.0411\n",
            "Epoch: 011/030 | Batch 0500/1875 | Loss: 0.0429\n",
            "Epoch: 011/030 | Batch 0750/1875 | Loss: 0.0439\n",
            "Epoch: 011/030 | Batch 1000/1875 | Loss: 0.0370\n",
            "Epoch: 011/030 | Batch 1250/1875 | Loss: 0.0352\n",
            "Epoch: 011/030 | Batch 1500/1875 | Loss: 0.0348\n",
            "Epoch: 011/030 | Batch 1750/1875 | Loss: 0.0431\n",
            "Time elapsed: 8.68 min\n",
            "Epoch: 012/030 | Batch 0000/1875 | Loss: 0.0383\n",
            "Epoch: 012/030 | Batch 0250/1875 | Loss: 0.0382\n",
            "Epoch: 012/030 | Batch 0500/1875 | Loss: 0.0401\n",
            "Epoch: 012/030 | Batch 0750/1875 | Loss: 0.0424\n",
            "Epoch: 012/030 | Batch 1000/1875 | Loss: 0.0456\n",
            "Epoch: 012/030 | Batch 1250/1875 | Loss: 0.0424\n",
            "Epoch: 012/030 | Batch 1500/1875 | Loss: 0.0395\n",
            "Epoch: 012/030 | Batch 1750/1875 | Loss: 0.0439\n",
            "Time elapsed: 9.44 min\n",
            "Epoch: 013/030 | Batch 0000/1875 | Loss: 0.0379\n",
            "Epoch: 013/030 | Batch 0250/1875 | Loss: 0.0390\n",
            "Epoch: 013/030 | Batch 0500/1875 | Loss: 0.0331\n",
            "Epoch: 013/030 | Batch 0750/1875 | Loss: 0.0413\n",
            "Epoch: 013/030 | Batch 1000/1875 | Loss: 0.0384\n",
            "Epoch: 013/030 | Batch 1250/1875 | Loss: 0.0386\n",
            "Epoch: 013/030 | Batch 1500/1875 | Loss: 0.0360\n",
            "Epoch: 013/030 | Batch 1750/1875 | Loss: 0.0385\n",
            "Time elapsed: 10.23 min\n",
            "Epoch: 014/030 | Batch 0000/1875 | Loss: 0.0442\n",
            "Epoch: 014/030 | Batch 0250/1875 | Loss: 0.0404\n",
            "Epoch: 014/030 | Batch 0500/1875 | Loss: 0.0384\n",
            "Epoch: 014/030 | Batch 0750/1875 | Loss: 0.0391\n",
            "Epoch: 014/030 | Batch 1000/1875 | Loss: 0.0412\n",
            "Epoch: 014/030 | Batch 1250/1875 | Loss: 0.0419\n",
            "Epoch: 014/030 | Batch 1500/1875 | Loss: 0.0407\n",
            "Epoch: 014/030 | Batch 1750/1875 | Loss: 0.0391\n",
            "Time elapsed: 10.99 min\n",
            "Epoch: 015/030 | Batch 0000/1875 | Loss: 0.0399\n",
            "Epoch: 015/030 | Batch 0250/1875 | Loss: 0.0396\n",
            "Epoch: 015/030 | Batch 0500/1875 | Loss: 0.0435\n",
            "Epoch: 015/030 | Batch 0750/1875 | Loss: 0.0402\n",
            "Epoch: 015/030 | Batch 1000/1875 | Loss: 0.0416\n",
            "Epoch: 015/030 | Batch 1250/1875 | Loss: 0.0399\n",
            "Epoch: 015/030 | Batch 1500/1875 | Loss: 0.0417\n",
            "Epoch: 015/030 | Batch 1750/1875 | Loss: 0.0358\n",
            "Time elapsed: 11.75 min\n",
            "Epoch: 016/030 | Batch 0000/1875 | Loss: 0.0410\n",
            "Epoch: 016/030 | Batch 0250/1875 | Loss: 0.0397\n",
            "Epoch: 016/030 | Batch 0500/1875 | Loss: 0.0369\n",
            "Epoch: 016/030 | Batch 0750/1875 | Loss: 0.0479\n",
            "Epoch: 016/030 | Batch 1000/1875 | Loss: 0.0364\n",
            "Epoch: 016/030 | Batch 1250/1875 | Loss: 0.0385\n",
            "Epoch: 016/030 | Batch 1500/1875 | Loss: 0.0348\n",
            "Epoch: 016/030 | Batch 1750/1875 | Loss: 0.0408\n",
            "Time elapsed: 12.54 min\n",
            "Epoch: 017/030 | Batch 0000/1875 | Loss: 0.0369\n",
            "Epoch: 017/030 | Batch 0250/1875 | Loss: 0.0330\n",
            "Epoch: 017/030 | Batch 0500/1875 | Loss: 0.0375\n",
            "Epoch: 017/030 | Batch 0750/1875 | Loss: 0.0370\n",
            "Epoch: 017/030 | Batch 1000/1875 | Loss: 0.0370\n",
            "Epoch: 017/030 | Batch 1250/1875 | Loss: 0.0348\n",
            "Epoch: 017/030 | Batch 1500/1875 | Loss: 0.0345\n",
            "Epoch: 017/030 | Batch 1750/1875 | Loss: 0.0392\n",
            "Time elapsed: 13.30 min\n",
            "Epoch: 018/030 | Batch 0000/1875 | Loss: 0.0406\n",
            "Epoch: 018/030 | Batch 0250/1875 | Loss: 0.0394\n",
            "Epoch: 018/030 | Batch 0500/1875 | Loss: 0.0474\n",
            "Epoch: 018/030 | Batch 0750/1875 | Loss: 0.0354\n",
            "Epoch: 018/030 | Batch 1000/1875 | Loss: 0.0407\n",
            "Epoch: 018/030 | Batch 1250/1875 | Loss: 0.0353\n",
            "Epoch: 018/030 | Batch 1500/1875 | Loss: 0.0369\n",
            "Epoch: 018/030 | Batch 1750/1875 | Loss: 0.0368\n",
            "Time elapsed: 14.06 min\n",
            "Epoch: 019/030 | Batch 0000/1875 | Loss: 0.0389\n",
            "Epoch: 019/030 | Batch 0250/1875 | Loss: 0.0372\n",
            "Epoch: 019/030 | Batch 0500/1875 | Loss: 0.0428\n",
            "Epoch: 019/030 | Batch 0750/1875 | Loss: 0.0376\n",
            "Epoch: 019/030 | Batch 1000/1875 | Loss: 0.0401\n",
            "Epoch: 019/030 | Batch 1250/1875 | Loss: 0.0433\n",
            "Epoch: 019/030 | Batch 1500/1875 | Loss: 0.0367\n",
            "Epoch: 019/030 | Batch 1750/1875 | Loss: 0.0385\n",
            "Time elapsed: 14.84 min\n",
            "Epoch: 020/030 | Batch 0000/1875 | Loss: 0.0336\n",
            "Epoch: 020/030 | Batch 0250/1875 | Loss: 0.0420\n",
            "Epoch: 020/030 | Batch 0500/1875 | Loss: 0.0422\n",
            "Epoch: 020/030 | Batch 0750/1875 | Loss: 0.0413\n",
            "Epoch: 020/030 | Batch 1000/1875 | Loss: 0.0338\n",
            "Epoch: 020/030 | Batch 1250/1875 | Loss: 0.0384\n",
            "Epoch: 020/030 | Batch 1500/1875 | Loss: 0.0400\n",
            "Epoch: 020/030 | Batch 1750/1875 | Loss: 0.0390\n",
            "Time elapsed: 15.61 min\n",
            "Epoch: 021/030 | Batch 0000/1875 | Loss: 0.0419\n",
            "Epoch: 021/030 | Batch 0250/1875 | Loss: 0.0423\n",
            "Epoch: 021/030 | Batch 0500/1875 | Loss: 0.0352\n",
            "Epoch: 021/030 | Batch 0750/1875 | Loss: 0.0444\n",
            "Epoch: 021/030 | Batch 1000/1875 | Loss: 0.0398\n",
            "Epoch: 021/030 | Batch 1250/1875 | Loss: 0.0406\n",
            "Epoch: 021/030 | Batch 1500/1875 | Loss: 0.0353\n",
            "Epoch: 021/030 | Batch 1750/1875 | Loss: 0.0285\n",
            "Time elapsed: 16.38 min\n",
            "Epoch: 022/030 | Batch 0000/1875 | Loss: 0.0353\n",
            "Epoch: 022/030 | Batch 0250/1875 | Loss: 0.0426\n",
            "Epoch: 022/030 | Batch 0500/1875 | Loss: 0.0410\n",
            "Epoch: 022/030 | Batch 0750/1875 | Loss: 0.0353\n",
            "Epoch: 022/030 | Batch 1000/1875 | Loss: 0.0347\n",
            "Epoch: 022/030 | Batch 1250/1875 | Loss: 0.0352\n",
            "Epoch: 022/030 | Batch 1500/1875 | Loss: 0.0340\n",
            "Epoch: 022/030 | Batch 1750/1875 | Loss: 0.0415\n",
            "Time elapsed: 17.13 min\n",
            "Epoch: 023/030 | Batch 0000/1875 | Loss: 0.0377\n",
            "Epoch: 023/030 | Batch 0250/1875 | Loss: 0.0381\n",
            "Epoch: 023/030 | Batch 0500/1875 | Loss: 0.0366\n",
            "Epoch: 023/030 | Batch 0750/1875 | Loss: 0.0392\n",
            "Epoch: 023/030 | Batch 1000/1875 | Loss: 0.0466\n",
            "Epoch: 023/030 | Batch 1250/1875 | Loss: 0.0379\n",
            "Epoch: 023/030 | Batch 1500/1875 | Loss: 0.0394\n",
            "Epoch: 023/030 | Batch 1750/1875 | Loss: 0.0332\n",
            "Time elapsed: 17.89 min\n",
            "Epoch: 024/030 | Batch 0000/1875 | Loss: 0.0377\n",
            "Epoch: 024/030 | Batch 0250/1875 | Loss: 0.0362\n",
            "Epoch: 024/030 | Batch 0500/1875 | Loss: 0.0374\n",
            "Epoch: 024/030 | Batch 0750/1875 | Loss: 0.0377\n",
            "Epoch: 024/030 | Batch 1000/1875 | Loss: 0.0395\n",
            "Epoch: 024/030 | Batch 1250/1875 | Loss: 0.0365\n",
            "Epoch: 024/030 | Batch 1500/1875 | Loss: 0.0422\n",
            "Epoch: 024/030 | Batch 1750/1875 | Loss: 0.0396\n",
            "Time elapsed: 18.66 min\n",
            "Epoch: 025/030 | Batch 0000/1875 | Loss: 0.0423\n",
            "Epoch: 025/030 | Batch 0250/1875 | Loss: 0.0389\n",
            "Epoch: 025/030 | Batch 0500/1875 | Loss: 0.0337\n",
            "Epoch: 025/030 | Batch 0750/1875 | Loss: 0.0374\n",
            "Epoch: 025/030 | Batch 1000/1875 | Loss: 0.0375\n",
            "Epoch: 025/030 | Batch 1250/1875 | Loss: 0.0385\n",
            "Epoch: 025/030 | Batch 1500/1875 | Loss: 0.0449\n",
            "Epoch: 025/030 | Batch 1750/1875 | Loss: 0.0365\n",
            "Time elapsed: 19.42 min\n",
            "Epoch: 026/030 | Batch 0000/1875 | Loss: 0.0389\n",
            "Epoch: 026/030 | Batch 0250/1875 | Loss: 0.0370\n",
            "Epoch: 026/030 | Batch 0500/1875 | Loss: 0.0351\n",
            "Epoch: 026/030 | Batch 0750/1875 | Loss: 0.0401\n",
            "Epoch: 026/030 | Batch 1000/1875 | Loss: 0.0336\n",
            "Epoch: 026/030 | Batch 1250/1875 | Loss: 0.0411\n",
            "Epoch: 026/030 | Batch 1500/1875 | Loss: 0.0371\n",
            "Epoch: 026/030 | Batch 1750/1875 | Loss: 0.0353\n",
            "Time elapsed: 20.19 min\n",
            "Epoch: 027/030 | Batch 0000/1875 | Loss: 0.0476\n",
            "Epoch: 027/030 | Batch 0250/1875 | Loss: 0.0427\n",
            "Epoch: 027/030 | Batch 0500/1875 | Loss: 0.0399\n",
            "Epoch: 027/030 | Batch 0750/1875 | Loss: 0.0387\n",
            "Epoch: 027/030 | Batch 1000/1875 | Loss: 0.0419\n",
            "Epoch: 027/030 | Batch 1250/1875 | Loss: 0.0396\n",
            "Epoch: 027/030 | Batch 1500/1875 | Loss: 0.0356\n",
            "Epoch: 027/030 | Batch 1750/1875 | Loss: 0.0376\n",
            "Time elapsed: 20.97 min\n",
            "Epoch: 028/030 | Batch 0000/1875 | Loss: 0.0412\n",
            "Epoch: 028/030 | Batch 0250/1875 | Loss: 0.0411\n",
            "Epoch: 028/030 | Batch 0500/1875 | Loss: 0.0402\n",
            "Epoch: 028/030 | Batch 0750/1875 | Loss: 0.0357\n",
            "Epoch: 028/030 | Batch 1000/1875 | Loss: 0.0443\n",
            "Epoch: 028/030 | Batch 1250/1875 | Loss: 0.0355\n",
            "Epoch: 028/030 | Batch 1500/1875 | Loss: 0.0346\n",
            "Epoch: 028/030 | Batch 1750/1875 | Loss: 0.0341\n",
            "Time elapsed: 21.94 min\n",
            "Epoch: 029/030 | Batch 0000/1875 | Loss: 0.0325\n",
            "Epoch: 029/030 | Batch 0250/1875 | Loss: 0.0360\n",
            "Epoch: 029/030 | Batch 0500/1875 | Loss: 0.0423\n",
            "Epoch: 029/030 | Batch 0750/1875 | Loss: 0.0403\n",
            "Epoch: 029/030 | Batch 1000/1875 | Loss: 0.0390\n",
            "Epoch: 029/030 | Batch 1250/1875 | Loss: 0.0341\n",
            "Epoch: 029/030 | Batch 1500/1875 | Loss: 0.0391\n",
            "Epoch: 029/030 | Batch 1750/1875 | Loss: 0.0376\n",
            "Time elapsed: 22.83 min\n",
            "Epoch: 030/030 | Batch 0000/1875 | Loss: 0.0403\n",
            "Epoch: 030/030 | Batch 0250/1875 | Loss: 0.0399\n",
            "Epoch: 030/030 | Batch 0500/1875 | Loss: 0.0404\n",
            "Epoch: 030/030 | Batch 0750/1875 | Loss: 0.0343\n",
            "Epoch: 030/030 | Batch 1000/1875 | Loss: 0.0426\n",
            "Epoch: 030/030 | Batch 1250/1875 | Loss: 0.0395\n",
            "Epoch: 030/030 | Batch 1500/1875 | Loss: 0.0428\n",
            "Epoch: 030/030 | Batch 1750/1875 | Loss: 0.0315\n",
            "Time elapsed: 23.63 min\n",
            "Total Training Time: 23.63 min\n"
          ]
        }
      ]
    },
    {
      "cell_type": "markdown",
      "source": [
        "# Вывод результатов обучения"
      ],
      "metadata": {
        "id": "6SKWueCvFN8z"
      }
    },
    {
      "cell_type": "code",
      "source": [
        "# Функция вывода графика обучения\n",
        "def plot_training_loss(minibatch_losses, num_epochs, averaging_iterations=100, custom_label=''):\n",
        "\n",
        "    iter_per_epoch = len(minibatch_losses) // num_epochs\n",
        "\n",
        "    plt.figure()\n",
        "    ax1 = plt.subplot(1, 1, 1)\n",
        "    ax1.plot(range(len(minibatch_losses)),\n",
        "             (minibatch_losses), label=f'Minibatch Loss{custom_label}')\n",
        "    ax1.set_xlabel('Iterations')\n",
        "    ax1.set_ylabel('Loss')\n",
        "\n",
        "    if len(minibatch_losses) < 1000:\n",
        "        num_losses = len(minibatch_losses) // 2\n",
        "    else:\n",
        "        num_losses = 1000\n",
        "\n",
        "    ax1.set_ylim([\n",
        "        0, np.max(minibatch_losses[num_losses:])*1.5\n",
        "        ])\n",
        "\n",
        "    ax1.plot(np.convolve(minibatch_losses,\n",
        "                         np.ones(averaging_iterations,)/averaging_iterations,\n",
        "                         mode='valid'),\n",
        "             label=f'Running Average{custom_label}')\n",
        "    ax1.legend()\n",
        "\n",
        "    ###################\n",
        "    # Set scond x-axis\n",
        "    ax2 = ax1.twiny()\n",
        "    newlabel = list(range(num_epochs+1))\n",
        "\n",
        "    newpos = [e*iter_per_epoch for e in newlabel]\n",
        "\n",
        "    ax2.set_xticks(newpos[::10])\n",
        "    ax2.set_xticklabels(newlabel[::10])\n",
        "\n",
        "    ax2.xaxis.set_ticks_position('bottom')\n",
        "    ax2.xaxis.set_label_position('bottom')\n",
        "    ax2.spines['bottom'].set_position(('outward', 45))\n",
        "    ax2.set_xlabel('Epochs')\n",
        "    ax2.set_xlim(ax1.get_xlim())\n",
        "    ###################\n",
        "\n",
        "    plt.tight_layout()\n",
        "    "
      ],
      "metadata": {
        "id": "rQ2-mGLnA8Qw"
      },
      "execution_count": null,
      "outputs": []
    },
    {
      "cell_type": "code",
      "source": [
        "plot_training_loss(log_dict['train_loss_per_batch'], numEpochs)\n",
        "plt.show()"
      ],
      "metadata": {
        "colab": {
          "base_uri": "https://localhost:8080/",
          "height": 297
        },
        "id": "keYl9Y0uA7tS",
        "outputId": "17e539d5-53c9-44be-ab38-beda1179e714"
      },
      "execution_count": null,
      "outputs": [
        {
          "output_type": "display_data",
          "data": {
            "text/plain": [
              "<Figure size 432x288 with 2 Axes>"
            ],
            "image/png": "[encoded data removed]"
          },
          "metadata": {
            "needs_background": "light"
          }
        }
      ]
    },
    {
      "cell_type": "code",
      "source": [
        "# Функция вывода исходных картинок и выходов автоэнкодера\n",
        "def plot_generated_images(data_loader, model, device, \n",
        "                          unnormalizer=None,\n",
        "                          figsize=(20, 2.5), n_images=15, modeltype='autoencoder'):\n",
        "\n",
        "    fig, axes = plt.subplots(nrows=2, ncols=n_images, \n",
        "                             sharex=True, sharey=True, figsize=figsize)\n",
        "    \n",
        "    for batch_idx, (features, _) in enumerate(data_loader):\n",
        "        \n",
        "        features = features.to(device)\n",
        "\n",
        "        color_channels = features.shape[1]\n",
        "        image_height = features.shape[2]\n",
        "        image_width = features.shape[3]\n",
        "        \n",
        "        with torch.no_grad():\n",
        "            if modeltype == 'autoencoder':\n",
        "                decoded_images = model(features)[:n_images]\n",
        "            elif modeltype == 'VAE':\n",
        "                encoded, z_mean, z_log_var, decoded_images = model(features)[:n_images]\n",
        "            else:\n",
        "                raise ValueError('`modeltype` not supported')\n",
        "\n",
        "        orig_images = features[:n_images]\n",
        "        break\n",
        "\n",
        "    for i in range(n_images):\n",
        "        for ax, img in zip(axes, [orig_images, decoded_images]):\n",
        "            curr_img = img[i].detach().to(torch.device('cpu'))        \n",
        "            if unnormalizer is not None:\n",
        "                curr_img = unnormalizer(curr_img)\n",
        "\n",
        "            if color_channels > 1:\n",
        "                curr_img = np.transpose(curr_img, (1, 2, 0))\n",
        "                ax[i].imshow(curr_img)\n",
        "            else:\n",
        "                ax[i].imshow(curr_img.view((image_height, image_width)), cmap='binary')\n",
        "                \n",
        "                \n",
        "def plot_latent_space_with_labels(num_classes, data_loader, model, device):\n",
        "    d = {i:[] for i in range(num_classes)}\n",
        "\n",
        "    model.eval()\n",
        "    with torch.no_grad():\n",
        "        for i, (features, targets) in enumerate(data_loader):\n",
        "\n",
        "            features = features.to(device)\n",
        "            targets = targets.to(device)\n",
        "            \n",
        "            embedding = model.encoder(features)\n",
        "\n",
        "            for i in range(num_classes):\n",
        "                if i in targets:\n",
        "                    mask = targets == i\n",
        "                    d[i].append(embedding[mask].to('cpu').numpy())\n",
        "\n",
        "    colors = list(mcolors.TABLEAU_COLORS.items())\n",
        "    for i in range(num_classes):\n",
        "        d[i] = np.concatenate(d[i])\n",
        "        plt.scatter(\n",
        "            d[i][:, 0], d[i][:, 1],\n",
        "            color=colors[i][1],\n",
        "            label=f'{i}',\n",
        "            alpha=0.5)\n",
        "\n",
        "    plt.legend()"
      ],
      "metadata": {
        "id": "YbjQhNZxKoNm"
      },
      "execution_count": null,
      "outputs": []
    },
    {
      "cell_type": "code",
      "source": [
        "plot_generated_images(data_loader=train_loader, model=model, device=device)   "
      ],
      "metadata": {
        "colab": {
          "base_uri": "https://localhost:8080/",
          "height": 187
        },
        "id": "5bmSMahTKoID",
        "outputId": "3e2dfaa4-2ec7-4b4c-fd15-fdc7343ea404"
      },
      "execution_count": null,
      "outputs": [
        {
          "output_type": "display_data",
          "data": {
            "text/plain": [
              "<Figure size 1440x180 with 30 Axes>"
            ],
            "image/png": "[encoded data removed]"
          },
          "metadata": {
            "needs_background": "light"
          }
        }
      ]
    },
    {
      "cell_type": "markdown",
      "source": [
        "Решение найдено по ссылке https://www.youtube.com/watch?v=345wRyqKkQ0&t=483s"
      ],
      "metadata": {
        "id": "huy7oQOYCpqs"
      }
    },
    {
      "cell_type": "markdown",
      "metadata": {
        "id": "GpLaEJpoKAHP"
      },
      "source": [
        "# **Глоссарий**\n",
        "*   **train dataset** - объект, включающий в себя ваш набор данных. На выходе такого объекта всегда должен быть тензор.\n",
        "*   **train loader** - объект, в который вы подгружаете ваш train dataset, и который используете при обучении нейронной сети для итерирования по всему набору данных. \n",
        "*   **optimizer.zero_grad()** - обнуляет результат дифференциирования.\n",
        "*   **loss.backward()** - считает градиент для обратного распространения ошибки. \n",
        "*   **optimizer.step()** - принимает (автоматически) посчитанные градиенты и делает шаг оптимизации.\n",
        "*   **nn.Module** - базовый класс нейронной сети, на котором строится собственная нейронная сеть.\n",
        "*   **def forward(self,x)** - функция-движитель. Связывает инициализированные слои. На вход принимается х (batch) и передается дальше по всем слоям.\n",
        "*   **data.Dataset** -  базовый класс дата сета, на котором строится собственный датасет.\n",
        "*   **.view()** - функция, интерпретирующая размер объекта для данной итерации в том виде, который указан в качестве параметра.\n",
        "*   **.data** - получить исключительно статичные данные из тензора.\n",
        "*   **.detach()** - открепить тензор от вычислительного графа.\n",
        "*   **model.train()** - перевести объект нейронки в обучающи режим.\n",
        "*   **model.eval()** - перевести объект нейронки в режим оценки."
      ]
    },
    {
      "cell_type": "markdown",
      "metadata": {
        "id": "_DX1J6qXM3mR"
      },
      "source": [
        "# **Обратите внимание**\n",
        "\n",
        "*   В параметрах тензора вы можете вручную прописать поддержку дифференциирования\n",
        "*   Для удобства всегда создавайте DataLoader. Для DataLoader необходим Dataset\n",
        "*   Dataset всегда можно прописать \"вручную\"\n",
        "*   Прописываете архитектуру модели через отдельный класс\n",
        "*   Выбирая функцию ошибки, смотрите, какой формат должен подаваться на вход\n",
        "*   Во время обучения не забывайте о последовательности .zero_grad -> .backward -> .step\n",
        "*   Режимы тренировочный и оценочный являются *разными* для Pytorch. Не забывайте указывать это в начале.    \n",
        "\n",
        "\n"
      ]
    }
  ]
}