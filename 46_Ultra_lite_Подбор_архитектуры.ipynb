{
  "nbformat": 4,
  "nbformat_minor": 0,
  "metadata": {
    "colab": {
      "provenance": [],
      "collapsed_sections": [],
      "include_colab_link": true
    },
    "kernelspec": {
      "name": "python3",
      "display_name": "Python 3"
    },
    "language_info": {
      "name": "python"
    },
    "accelerator": "GPU"
  },
  "cells": [
    {
      "cell_type": "markdown",
      "metadata": {
        "id": "view-in-github",
        "colab_type": "text"
      },
      "source": [
        "<a href=\"https://colab.research.google.com/github/10100111/Display-of-HW1/blob/main/46_Ultra_lite_%D0%9F%D0%BE%D0%B4%D0%B1%D0%BE%D1%80_%D0%B0%D1%80%D1%85%D0%B8%D1%82%D0%B5%D0%BA%D1%82%D1%83%D1%80%D1%8B.ipynb\" target=\"_parent\"><img src=\"https://colab.research.google.com/assets/colab-badge.svg\" alt=\"Open In Colab\"/></a>"
      ]
    },
    {
      "cell_type": "markdown",
      "source": [
        "Задание Ultra Lite\n",
        "\n",
        "Макс 10 баллов\n",
        "\n",
        "1. Перепишите создание свёрточной сети с помощью ГА полностью самостоятельно.\n",
        "\n",
        "2. Можно взять готовыми лишь некоторые сложные функции.\n",
        "\n",
        "3. Можно сделать другой формат свёрточной сети, не такой, как в ноутбуке.\n",
        "\n",
        "4. Можно подсматривать в базовый ноутбук, но не копировать код напрямую."
      ],
      "metadata": {
        "id": "nWjjK8AlsaDW"
      }
    },
    {
      "cell_type": "code",
      "source": [
        "from google.colab import drive\n",
        "drive.mount('/content/drive')"
      ],
      "metadata": {
        "colab": {
          "base_uri": "https://localhost:8080/"
        },
        "id": "wMgapedGHnTW",
        "outputId": "7013e238-b5b3-42c1-859c-a9229fac5f66"
      },
      "execution_count": null,
      "outputs": [
        {
          "output_type": "stream",
          "name": "stdout",
          "text": [
            "Drive already mounted at /content/drive; to attempt to forcibly remount, call drive.mount(\"/content/drive\", force_remount=True).\n"
          ]
        }
      ]
    },
    {
      "cell_type": "markdown",
      "source": [
        "# Загрузка библиотек + код для просмотра инфо по выделенным ресурсам"
      ],
      "metadata": {
        "id": "4NJxQiovnGf6"
      }
    },
    {
      "cell_type": "code",
      "source": [
        "!ln -sf /opt/bin/invidia-smi /usr/bin/nvidia-smi\n",
        "!pip install -q gputil\n",
        "!pip install -q psutil\n",
        "!pip install -q humanize\n",
        "\n",
        "import psutil\n",
        "import humanize\n",
        "import os\n",
        "import GPUtil as GPU\n",
        "GPUs = GPU.getGPUs()\n",
        "\n",
        "# XXX: only one GPU on Colab and isn't guaranteed\n",
        "# Далее код cработает если переключить Colab на GPU !!!\n",
        "gpu = GPUs[0] \n",
        "process = psutil.Process(os.getpid())\n",
        "gpu = GPUs[0]\n",
        "process = psutil.Process(os.getpid())\n",
        "print(\"Gen RAM Free: \" + humanize.naturalsize( psutil.virtual_memory().available ), \" | Proc size: \" + humanize.naturalsize( process.memory_info().rss))\n",
        "print(\"GPU RAM Free: {0:.0f}MB | Used: {1:.0f}MB | Util {2:3.0f}% | Total {3:.0f}MB\".format(gpu.memoryFree, gpu.memoryUsed, gpu.memoryUtil*100, gpu.memoryTotal))\n",
        "print(\"GPU Model: \", gpu.name)\n"
      ],
      "metadata": {
        "id": "e6gclM4enSV9",
        "colab": {
          "base_uri": "https://localhost:8080/"
        },
        "outputId": "2710c3a1-19ad-40ae-8a87-c6112e3ab5b4"
      },
      "execution_count": null,
      "outputs": [
        {
          "output_type": "stream",
          "name": "stdout",
          "text": [
            "Gen RAM Free: 10.9 GB  | Proc size: 3.4 GB\n",
            "GPU RAM Free: 14537MB | Used: 1743MB | Util  11% | Total 16280MB\n",
            "GPU Model:  Tesla P100-PCIE-16GB\n"
          ]
        }
      ]
    },
    {
      "cell_type": "code",
      "source": [
        "import pandas as pd\n",
        "import numpy as np\n",
        "import random as random\n",
        "import time\n",
        "import matplotlib.pyplot as plt\n",
        "\n",
        "import tensorflow.keras.backend as K\n",
        "from tensorflow.keras import utils # для to_categorical\n",
        "from tensorflow.keras.utils import plot_model\n",
        "from tensorflow.keras.optimizers import Adam\n",
        "from tensorflow.keras.models import Sequential, Model\n",
        "from tensorflow.keras.layers import concatenate, Reshape, Input, Conv1D, Dense, Flatten, MaxPool1D, MaxPooling1D, BatchNormalization, Activation\n",
        "from tensorflow.keras.losses import MAE\n",
        "from tensorflow.keras.preprocessing.sequence import TimeseriesGenerator\n",
        "\n",
        "from google.colab import files # загрузка файлов\n",
        "from sklearn.preprocessing import StandardScaler, MinMaxScaler\n",
        "\n",
        "from PIL import Image\n",
        "\n",
        "# Статический вывод графики, отображаются в той ячейке, в которой используется plt.show()\n",
        "%matplotlib inline"
      ],
      "metadata": {
        "id": "A6kHQ5xSsSNr"
      },
      "execution_count": null,
      "outputs": []
    },
    {
      "cell_type": "code",
      "source": [
        "from google.colab import drive\n",
        "drive.mount(\"/content/drive\")"
      ],
      "metadata": {
        "colab": {
          "base_uri": "https://localhost:8080/"
        },
        "id": "wI5pcMrrzusO",
        "outputId": "6ffdb28b-a7e6-45e0-8b36-2a914b6034f3"
      },
      "execution_count": null,
      "outputs": [
        {
          "output_type": "stream",
          "name": "stdout",
          "text": [
            "Drive already mounted at /content/drive; to attempt to forcibly remount, call drive.mount(\"/content/drive\", force_remount=True).\n"
          ]
        }
      ]
    },
    {
      "cell_type": "markdown",
      "source": [
        "# Загрузка данных"
      ],
      "metadata": {
        "id": "WxevyvatJVEX"
      }
    },
    {
      "cell_type": "code",
      "source": [
        "# Считываем данные с помощью pandas\n",
        "base_data = pd.read_csv(\"/content/drive/MyDrive/Базы/traff.csv\", header=None)\n",
        "base_data"
      ],
      "metadata": {
        "colab": {
          "base_uri": "https://localhost:8080/",
          "height": 423
        },
        "id": "dZjmFWpN0I_d",
        "outputId": "133f6ab6-d18d-409e-e9a4-ba1a7e0102f2"
      },
      "execution_count": null,
      "outputs": [
        {
          "output_type": "execute_result",
          "data": {
            "text/plain": [
              "               0          1\n",
              "0       1/1/2017  22,226.00\n",
              "1       1/2/2017  29,593.00\n",
              "2       1/3/2017  31,726.00\n",
              "3       1/4/2017  32,684.00\n",
              "4       1/5/2017  31,820.00\n",
              "...          ...        ...\n",
              "1090  12/27/2019  29,801.00\n",
              "1091  12/28/2019  34,913.00\n",
              "1092  12/29/2019  37,665.00\n",
              "1093  12/30/2019  32,643.00\n",
              "1094  12/31/2019  28,212.00\n",
              "\n",
              "[1095 rows x 2 columns]"
            ],
            "text/html": [
              "\n",
              "  <div id=\"df-3b5ff215-58bb-4d43-b71e-c6e7b8f92cb9\">\n",
              "    <div class=\"colab-df-container\">\n",
              "      <div>\n",
              "<style scoped>\n",
              "    .dataframe tbody tr th:only-of-type {\n",
              "        vertical-align: middle;\n",
              "    }\n",
              "\n",
              "    .dataframe tbody tr th {\n",
              "        vertical-align: top;\n",
              "    }\n",
              "\n",
              "    .dataframe thead th {\n",
              "        text-align: right;\n",
              "    }\n",
              "</style>\n",
              "<table border=\"1\" class=\"dataframe\">\n",
              "  <thead>\n",
              "    <tr style=\"text-align: right;\">\n",
              "      <th></th>\n",
              "      <th>0</th>\n",
              "      <th>1</th>\n",
              "    </tr>\n",
              "  </thead>\n",
              "  <tbody>\n",
              "    <tr>\n",
              "      <th>0</th>\n",
              "      <td>1/1/2017</td>\n",
              "      <td>22,226.00</td>\n",
              "    </tr>\n",
              "    <tr>\n",
              "      <th>1</th>\n",
              "      <td>1/2/2017</td>\n",
              "      <td>29,593.00</td>\n",
              "    </tr>\n",
              "    <tr>\n",
              "      <th>2</th>\n",
              "      <td>1/3/2017</td>\n",
              "      <td>31,726.00</td>\n",
              "    </tr>\n",
              "    <tr>\n",
              "      <th>3</th>\n",
              "      <td>1/4/2017</td>\n",
              "      <td>32,684.00</td>\n",
              "    </tr>\n",
              "    <tr>\n",
              "      <th>4</th>\n",
              "      <td>1/5/2017</td>\n",
              "      <td>31,820.00</td>\n",
              "    </tr>\n",
              "    <tr>\n",
              "      <th>...</th>\n",
              "      <td>...</td>\n",
              "      <td>...</td>\n",
              "    </tr>\n",
              "    <tr>\n",
              "      <th>1090</th>\n",
              "      <td>12/27/2019</td>\n",
              "      <td>29,801.00</td>\n",
              "    </tr>\n",
              "    <tr>\n",
              "      <th>1091</th>\n",
              "      <td>12/28/2019</td>\n",
              "      <td>34,913.00</td>\n",
              "    </tr>\n",
              "    <tr>\n",
              "      <th>1092</th>\n",
              "      <td>12/29/2019</td>\n",
              "      <td>37,665.00</td>\n",
              "    </tr>\n",
              "    <tr>\n",
              "      <th>1093</th>\n",
              "      <td>12/30/2019</td>\n",
              "      <td>32,643.00</td>\n",
              "    </tr>\n",
              "    <tr>\n",
              "      <th>1094</th>\n",
              "      <td>12/31/2019</td>\n",
              "      <td>28,212.00</td>\n",
              "    </tr>\n",
              "  </tbody>\n",
              "</table>\n",
              "<p>1095 rows × 2 columns</p>\n",
              "</div>\n",
              "      <button class=\"colab-df-convert\" onclick=\"convertToInteractive('df-3b5ff215-58bb-4d43-b71e-c6e7b8f92cb9')\"\n",
              "              title=\"Convert this dataframe to an interactive table.\"\n",
              "              style=\"display:none;\">\n",
              "        \n",
              "  <svg xmlns=\"http://www.w3.org/2000/svg\" height=\"24px\"viewBox=\"0 0 24 24\"\n",
              "       width=\"24px\">\n",
              "    <path d=\"M0 0h24v24H0V0z\" fill=\"none\"/>\n",
              "    <path d=\"M18.56 5.44l.94 2.06.94-2.06 2.06-.94-2.06-.94-.94-2.06-.94 2.06-2.06.94zm-11 1L8.5 8.5l.94-2.06 2.06-.94-2.06-.94L8.5 2.5l-.94 2.06-2.06.94zm10 10l.94 2.06.94-2.06 2.06-.94-2.06-.94-.94-2.06-.94 2.06-2.06.94z\"/><path d=\"M17.41 7.96l-1.37-1.37c-.4-.4-.92-.59-1.43-.59-.52 0-1.04.2-1.43.59L10.3 9.45l-7.72 7.72c-.78.78-.78 2.05 0 2.83L4 21.41c.39.39.9.59 1.41.59.51 0 1.02-.2 1.41-.59l7.78-7.78 2.81-2.81c.8-.78.8-2.07 0-2.86zM5.41 20L4 18.59l7.72-7.72 1.47 1.35L5.41 20z\"/>\n",
              "  </svg>\n",
              "      </button>\n",
              "      \n",
              "  <style>\n",
              "    .colab-df-container {\n",
              "      display:flex;\n",
              "      flex-wrap:wrap;\n",
              "      gap: 12px;\n",
              "    }\n",
              "\n",
              "    .colab-df-convert {\n",
              "      background-color: #E8F0FE;\n",
              "      border: none;\n",
              "      border-radius: 50%;\n",
              "      cursor: pointer;\n",
              "      display: none;\n",
              "      fill: #1967D2;\n",
              "      height: 32px;\n",
              "      padding: 0 0 0 0;\n",
              "      width: 32px;\n",
              "    }\n",
              "\n",
              "    .colab-df-convert:hover {\n",
              "      background-color: #E2EBFA;\n",
              "      box-shadow: 0px 1px 2px rgba(60, 64, 67, 0.3), 0px 1px 3px 1px rgba(60, 64, 67, 0.15);\n",
              "      fill: #174EA6;\n",
              "    }\n",
              "\n",
              "    [theme=dark] .colab-df-convert {\n",
              "      background-color: #3B4455;\n",
              "      fill: #D2E3FC;\n",
              "    }\n",
              "\n",
              "    [theme=dark] .colab-df-convert:hover {\n",
              "      background-color: #434B5C;\n",
              "      box-shadow: 0px 1px 3px 1px rgba(0, 0, 0, 0.15);\n",
              "      filter: drop-shadow(0px 1px 2px rgba(0, 0, 0, 0.3));\n",
              "      fill: #FFFFFF;\n",
              "    }\n",
              "  </style>\n",
              "\n",
              "      <script>\n",
              "        const buttonEl =\n",
              "          document.querySelector('#df-3b5ff215-58bb-4d43-b71e-c6e7b8f92cb9 button.colab-df-convert');\n",
              "        buttonEl.style.display =\n",
              "          google.colab.kernel.accessAllowed ? 'block' : 'none';\n",
              "\n",
              "        async function convertToInteractive(key) {\n",
              "          const element = document.querySelector('#df-3b5ff215-58bb-4d43-b71e-c6e7b8f92cb9');\n",
              "          const dataTable =\n",
              "            await google.colab.kernel.invokeFunction('convertToInteractive',\n",
              "                                                     [key], {});\n",
              "          if (!dataTable) return;\n",
              "\n",
              "          const docLinkHtml = 'Like what you see? Visit the ' +\n",
              "            '<a target=\"_blank\" href=https://colab.research.google.com/notebooks/data_table.ipynb>data table notebook</a>'\n",
              "            + ' to learn more about interactive tables.';\n",
              "          element.innerHTML = '';\n",
              "          dataTable['output_type'] = 'display_data';\n",
              "          await google.colab.output.renderOutput(dataTable, element);\n",
              "          const docLink = document.createElement('div');\n",
              "          docLink.innerHTML = docLinkHtml;\n",
              "          element.appendChild(docLink);\n",
              "        }\n",
              "      </script>\n",
              "    </div>\n",
              "  </div>\n",
              "  "
            ]
          },
          "metadata": {},
          "execution_count": 109
        }
      ]
    },
    {
      "cell_type": "code",
      "source": [
        "data = base_data.iloc[:,1]\n",
        "data.head()"
      ],
      "metadata": {
        "colab": {
          "base_uri": "https://localhost:8080/"
        },
        "id": "PaDmeF8Z5SG2",
        "outputId": "b46d4af2-a17b-4b56-b5b8-9e34a82e1a0c"
      },
      "execution_count": null,
      "outputs": [
        {
          "output_type": "execute_result",
          "data": {
            "text/plain": [
              "0    22,226.00\n",
              "1    29,593.00\n",
              "2    31,726.00\n",
              "3    32,684.00\n",
              "4    31,820.00\n",
              "Name: 1, dtype: object"
            ]
          },
          "metadata": {},
          "execution_count": 110
        }
      ]
    },
    {
      "cell_type": "code",
      "source": [
        "# Выводим параметры одного файла\n",
        "d = data\n",
        "print(len(d))         # к-во записей\n",
        "print(len(d.iloc[0])) # Длина строки\n",
        "print(d.iloc[0])      # Пример строки"
      ],
      "metadata": {
        "colab": {
          "base_uri": "https://localhost:8080/"
        },
        "id": "l6QEHKuK5owI",
        "outputId": "16cdb0a4-827b-43b1-cce3-b35b6046e5e2"
      },
      "execution_count": null,
      "outputs": [
        {
          "output_type": "stream",
          "name": "stdout",
          "text": [
            "1095\n",
            "9\n",
            "22,226.00\n"
          ]
        }
      ]
    },
    {
      "cell_type": "code",
      "source": [
        "# Превращаем в numpy массив\n",
        "data = np.array(data)\n",
        "for i in range(len(data)):\n",
        "  data[i] = float(data[i].replace(\",\",\"\"))"
      ],
      "metadata": {
        "id": "PGx_OjLQ6I6U"
      },
      "execution_count": null,
      "outputs": []
    },
    {
      "cell_type": "code",
      "source": [
        "# Загружаем данные\n",
        "# Формируем параметры загрузки\n",
        "xLen = 60    # Анализируем по прошедшим точкам\n",
        "valLen = 300 # Используем 300 записей для проверки\n",
        "\n",
        "trainLen = data.shape[0]-valLen # 1095 - 300 = 795\n",
        "\n",
        "# Делим данные на тренировочную и тестовую выборки\n",
        "Train,Test = np.reshape(data[:trainLen],(-1,1)), np.reshape(data[trainLen+xLen+2:],(-1,1))\n",
        "\n",
        "\n",
        "# Масштабируем данные отдельно X и Y, чтобы их было легче скормить сетке\n",
        "Scaler = MinMaxScaler() # Выбор нормализации\n",
        "Scaler.fit(Train)       # Обучили на train\n",
        "Train = Scaler.transform(Train) \n",
        "Test = Scaler.transform(Test)\n",
        "\n",
        "# Создаем генератор для обучения\n",
        "trainDataGen = TimeseriesGenerator(Train, Train,                  # наши выборки\n",
        "                                   length=xLen, sampling_rate=1,  # для каждой точки \n",
        "                                   batch_size=20)\n",
        "\n",
        "# Создаем аналогичный генератор для валидации при обучении\n",
        "testDataGen = TimeseriesGenerator(Test, Test,\n",
        "                               length=xLen, sampling_rate=1,\n",
        "                               batch_size=20)"
      ],
      "metadata": {
        "id": "gNAadCZf6-Xq"
      },
      "execution_count": null,
      "outputs": []
    },
    {
      "cell_type": "code",
      "source": [
        "data.shape[0]"
      ],
      "metadata": {
        "colab": {
          "base_uri": "https://localhost:8080/"
        },
        "id": "P75Z95HB7-V1",
        "outputId": "a5897321-29b7-4cc3-a898-df411ae610dc"
      },
      "execution_count": null,
      "outputs": [
        {
          "output_type": "execute_result",
          "data": {
            "text/plain": [
              "1095"
            ]
          },
          "metadata": {},
          "execution_count": 114
        }
      ]
    },
    {
      "cell_type": "code",
      "source": [],
      "metadata": {
        "id": "t-XFy9836MRF"
      },
      "execution_count": null,
      "outputs": []
    },
    {
      "cell_type": "markdown",
      "source": [
        "# Функции для отображения результатов"
      ],
      "metadata": {
        "id": "x6pzxT-eJbha"
      }
    },
    {
      "cell_type": "code",
      "source": [
        "from ssl import CHANNEL_BINDING_TYPES\n",
        "# Функция расчитывает результаты прогнозирования сети\n",
        "# В аргументы принимает текущую сеть (currModel) и проверочную выборку\n",
        "# Выдает результаты предсказания predVal\n",
        "# И правильные ответы в исходной размерности\n",
        "def getPred(currModel, xVal, yVal, yScaler):\n",
        "  # Предсказываем ответ сети по проверочной выборке\n",
        "  # И возвращаем исходный масштаб данных\n",
        "  predVal = yScaler.inverse_transform(currModel.predict(xVal))\n",
        "  yValUnscaled = yScaler.inverse_transform(yVal)\n",
        "\n",
        "  return(predVal, yValUnscaled)\n",
        "\n",
        "# Функция визуализирует графики, что предсказала сеть и какие были правильные ответы\n",
        "# start - точка с которой начинаем отрисовку отчета\n",
        "# step - длина графика, которую отрисовываем\n",
        "# channel - какой канал отрисовываем\n",
        "def showPredict(start, step, channel, predVal, yValUnscaled):\n",
        "  plt.plot(\n",
        "      predVal[start:start+step, channel],\n",
        "      label=\"Прогноз\"\n",
        "  )\n",
        "  plt.plot(\n",
        "      yValUnscaled[start:start+step, channel],\n",
        "      label=\"Базовый ряд\"\n",
        "  )\n",
        "  plt.xlabel(\"Время\")\n",
        "  plt.ylabel(\"Значение close\")\n",
        "  plt.legend()\n",
        "  plt.show()\n",
        "\n",
        "# Функция расчета корреляции двух одномерных векторов\n",
        "def correlate(a, b):\n",
        "  # Расчитываем основные показатели\n",
        "  ma = a.mean() # Cреднее значение первого вектора\n",
        "  mb = b.mean() # Cреднее значение второго вектора\n",
        "  mab = (a*b).mean() # Cреднее значение произведения векторов\n",
        "  sa = a.std() # Среднеквадратичное отклонение певого вектора\n",
        "  sb = b.std() # Среднеквадратичное отклонение второго вектора\n",
        "\n",
        "  # Рассчитываем корреляцию\n",
        "  val = 0\n",
        "  if ((sa>0) & (sb>0)):\n",
        "    val = (mab-ma*mb)/(sa*sb)\n",
        "  return val\n",
        "\n",
        "# Функция отрисовки корреляции прогноза сигнала и правильного сигнала\n",
        "# Смещая на различное количество шагов назад\n",
        "# Для проверки появления эффекта автокорреляции\n",
        "# channels - по каким каналам отображать корреляцию\n",
        "# corrSteps - на какое количество шагов смещать сигнал назад для расчета корреляции\n",
        "# showGraf - показываем график или нет\n",
        "# returnData - возвращаем массивы автокорреляции или нет\n",
        "def autoCorr(channels, corrSteps, predVal, yValUnscaled, showGraf = True, returnData = False):\n",
        "  # Проходим по всем каналам\n",
        "  for ch in channels:\n",
        "    corr = [] # создаем пустой лист,в нем будут корреляции при смещени на i шагов обратно\n",
        "    yLen = yValUnscaled.shape[0] # запоминаем размер проверочной выборки\n",
        "\n",
        "    # Постепенно увеличиваем шаг, на сколько смещаем сигнал для проверки автокорреляции\n",
        "    for i in range(corrSteps):\n",
        "      # Получаем сигнал, смещенный на i шагов назад\n",
        "      # predVal[i:, ch]\n",
        "      # Сравниваем его с верными ответами, без смещения назад\n",
        "      # yValUnscaled\n",
        "      # Рассчитываем их корреляцию и добавляем в лист\n",
        "      corr.append(correlate(yValUnscaled[:yLen-i,ch], predVal[i:, ch]))\n",
        "\n",
        "    own_corr = [] #создаем пустой лист в нем будут корреляции при смещении на i шагов обратно\n",
        "\n",
        "    # Постепенно увеличиваем шаг, на сколько смещаем сигнал для проверки автокорреляции\n",
        "    for i in range(corrSteps):\n",
        "      # Получаем сигнал, смещенный на i шагов назад\n",
        "      # predVal[i:, ch]\n",
        "      # Сравниваем его с верными ответами, без смещения назад\n",
        "      # yCalUnscaled[:yLen-i, ch]\n",
        "      # Рассчитываем их корреляцию и добавляем в лист\n",
        "      own_corr.append(correlate(yValUnscaled[:yLen-i, ch], yValUnscaled[i:, ch]))\n",
        "\n",
        "    # Отображаем график корреляций для данного шага\n",
        "    if showGraf: # если нужно показать график\n",
        "      plt.plot(corr, label=\"предсказание на \" + str(ch+1) + \"шаг\")\n",
        "      plt.plot(own_corr, label=\"Эталон\")\n",
        "\n",
        "  if showGraf: # если нужно показать график\n",
        "    plt.xlabel(\"Время\")\n",
        "    plt.ylabel(\"Значение\")\n",
        "    plt.legend()\n",
        "    plt.show()\n",
        "\n",
        "  if returnData: # если нужно показать массивы\n",
        "    return corr, own_corr"
      ],
      "metadata": {
        "id": "3dEoEOLOJIj-"
      },
      "execution_count": null,
      "outputs": []
    },
    {
      "cell_type": "markdown",
      "source": [
        "# Генерируем проверочную выборку"
      ],
      "metadata": {
        "id": "96TUuFel0PSG"
      }
    },
    {
      "cell_type": "code",
      "source": [
        "# Создадим генератор проверочной выборки\n",
        "DataGen = TimeseriesGenerator(Test, Test,\n",
        "                              length=xLen,\n",
        "                              sampling_rate=1,\n",
        "                              batch_size=len(Test))\n",
        "xVal = []\n",
        "yVal = []\n",
        "for i in DataGen:\n",
        "  xVal.append(i[0])\n",
        "  yVal.append(i[1])\n",
        "\n",
        "xVal = np.array(xVal)\n",
        "yVal = np.array(yVal)"
      ],
      "metadata": {
        "id": "AEHyEb7q0Nk5"
      },
      "execution_count": null,
      "outputs": []
    },
    {
      "cell_type": "markdown",
      "source": [
        "# Подбор линейной архитектуры"
      ],
      "metadata": {
        "id": "KRStNx832o0i"
      }
    },
    {
      "cell_type": "markdown",
      "source": [
        "\n",
        "1.   Входной слой \n",
        "\n",
        "*   0 - делаем ли BN?\n",
        "*   1 - размер первого Conv1D\n",
        "*   2 - ядро первого Conv1D\n",
        "*   3 - функция активации первого слоя\n",
        "*   4 - делаем ли MaxPooling0?\n",
        "*   5 - размер MaxPooling0\n",
        "\n",
        "2.   Первый скрытый слой\n",
        "*   6 - делаем ли второй Conv1D?\n",
        "*   7 - размер второго Conv1D\n",
        "*   8 - ядро второго Conv1D\n",
        "*   9 - делаем ли MaxPooling1\n",
        "*   10 - размер делаем ли MaxPooling1?\n",
        "*   11 - функция активации\n",
        "\n",
        "3.   Второй скрытый слой\n",
        "*   12 - делаем ли третий Conv1D?\n",
        "*   13 - размер третьего Conv1D\n",
        "*   14 - ядро третьего Conv1D\n",
        "*   15 - делаем ли MaxPooling2?\n",
        "*   16 - размер MaxPooling2?\n",
        "*   17 - функция активации\n",
        "----------------------------------------------\n",
        "*   18 - функция активации предпоследнего слоя\n",
        "*   19 - функция активации выходного слоя\n",
        "----------------------------------------------\n",
        "\n",
        "4.   Третий скрытый слой\n",
        "*   20 - делаем ли BN?\n",
        "*   21 -размер Dense слоя"
      ],
      "metadata": {
        "id": "AFMoZQ3x27-6"
      }
    },
    {
      "cell_type": "code",
      "source": [
        "# Создаем сеть (net - список параметров)\n",
        "def createConvNet(net):  \n",
        "\n",
        "  model = Sequential()             # Создаем моель Sequential\n",
        "\n",
        "  makeFirstNormalization = net[0] # делаем ли нормализацию в начале\n",
        "  firstConvSize = 2 ** net[1]     # размер первого сверточного слоя\n",
        "  firstConvKernel = net[2]        # размер ядра первого сверточного слоя\n",
        "  activation0 = net[3]            # функция активации входного слоя\n",
        "  makeMaxPooling0 = net[4]        # делаем ли макспулинг для нулевого слоя\n",
        "  maxpoolingSize0 = net[5]        # размер макспулинг\n",
        "\n",
        "  makeSecondConv = net[6]         # делаем ли второй сверточный слой\n",
        "  secondConvSize = 2 ** net[7]    # размер второго сверточного слоя\n",
        "  secondConvKernel = net[8]       # ядро второго сверточного слоя\n",
        "  makeMaxPooling1 = net[9]        # делаем ли макспулинг\n",
        "  MaxPoolingSize1 = net[10]       # размер макспулинга\n",
        "  activation1 = net[11]           # функция активации\n",
        "\n",
        "  makeThirdConv = net[12]         # делаем ли третий сверточный слой\n",
        "  thirdConvSize = 2 ** net[13]    # размер третьего сверточного слоя\n",
        "  thirdConvKernel = net[14]       # размер ядра третьего сверточного слоя\n",
        "  makeMaxPooling2 = net[15]       # делаем ли макспуллинг\n",
        "  MaxPoolingSize2 = net[16]       # размер сверточного слоя макспуллинга\n",
        "  activation2 = net[17]           # функция активации\n",
        "\n",
        "  activation3 = net[18]           # функция активации на третьес слое\n",
        "  activation4 = net[19]           # функция активации на четвертом слое\n",
        "\n",
        "  makeSecondNormalization = net[20] # делаем ли финальную нормализацию \n",
        "  denseSize = 2 ** net[21]          # размер полносвязного слоя\n",
        "\n",
        "  activation_list = [\"linear\", \"relu\", \"tanh\", \"softmax\", \"sigmoid\"]\n",
        "\n",
        "  if (makeFirstNormalization): # Если делаем нормализацию в начале\n",
        "\n",
        "    # Добавляем слой BN\n",
        "    model.add(BatchNormalization(input_shape=(xLen,1)))\n",
        "\n",
        "    #Добавляем Conv1D слой с firstConvSize нейронами и firstConvKernel размером ядра\n",
        "    model.add(Conv1D(firstConvSize, firstConvKernel, activation=activation_list[activation0], padding=\"same\"))\n",
        "  else:\n",
        "\n",
        "    # Добавляем Conv1D слой с firstConvSize нейронами и firstConvKernel размером ядра\n",
        "    model.add(Conv1D(firstConvSize, firstConvKernel, activation=activation_list[activation0], padding=\"same\"))\n",
        "  \n",
        "  if makeMaxPooling0: # если делаем макспулинг\n",
        "    model.add(MaxPooling1D(maxpoolingSize0))\n",
        "\n",
        "  if (makeSecondConv):\n",
        "    #Добавляем слой Conv1D с secondConvSize нейронами и secondConvKernel размером ядра \n",
        "    model.add(Conv1D(secondConvSize, secondConvKernel, activation=activation_list[activation1], padding=\"same\"))\n",
        "\n",
        "    if (makeMaxPooling1): # если делаем макспулинг\n",
        "      model.add(MaxPooling1D(pool_size=MaxPoolingSize1))\n",
        "\n",
        "  if (makeThirdConv):\n",
        "    #Добавляем слой Conv1D c thirdConvSize нейронами и thirdConvKernel размером ядра \n",
        "    model.add(Conv1D(thirdConvSize, thirdConvKernel, activation=activation_list[activation2], padding=\"same\"))\n",
        "      \n",
        "    if (makeMaxPooling2): # если делаем макспулинг\n",
        "      model.add(MaxPooling1D(pool_size=MaxPoolingSize2))\n",
        "\n",
        "  if (makeSecondNormalization): # если делаем финальную нормализацию\n",
        "    model.add(BatchNormalization()) # добавляем слой BatchNormalization\n",
        "\n",
        "  model.add(Flatten())\n",
        "  \n",
        "  model.add(Dense(denseSize, activation=activation_list[activation3]))\n",
        "  model.add(Dense(1, activation=activation_list[activation4]))\n",
        "\n",
        "\n",
        "  return model\n",
        "\n",
        "  \"\"\"\n",
        "Функция вычисления результата работы сети\n",
        "  \"\"\"\n",
        "\n",
        "def evaluateNet(net, ep, verb):\n",
        "  val = 0\n",
        "  time.time()\n",
        "  model = createConvNet(net) # создаем модель \n",
        "\n",
        "  # Компилируем модель\n",
        "  model.compile(optimizer=Adam(learning_rate=1e-4),\n",
        "                loss=\"mse\")\n",
        "  \n",
        "  history = model.fit_generator(trainDataGen, \n",
        "                                epochs=ep, #???! тут должно быть epochs=ep\n",
        "                                verbose=verb,\n",
        "                                validation_data=testDataGen)\n",
        "  \n",
        "  val = history.history[\"val_loss\"][-1] # возвращаем точность на проверочной выборке с последней эпохи\n",
        "\n",
        "  return val, model # возвращаем точность\n",
        "\n",
        "\"\"\"\n",
        "Функция создания списка случайных параметров\n",
        "\"\"\"\n",
        "def createRandomNet():\n",
        "  net = []\n",
        "  net.append(random.randint(0,1)) # делаем или нет нормализацию\n",
        "  net.append(random.randint(3,6)) # первый сверточный слой от 8 до 64 нейронов\n",
        "  net.append(random.randint(3,7)) # ядро первого сверточного слоя от 3 до 7\n",
        "  net.append(random.randint(0,4)) # функция активации первого сверточного слоя\n",
        "  net.append(random.randint(0,1)) # делаем ли макспулинг \n",
        "  net.append(random.randint(2,3)) # размер максплинга\n",
        "\n",
        "  net.append(random.randint(0,1)) # делаем ли второй сверточный слой\n",
        "  net.append(random.randint(3,6)) # делаем ли второй сверточный слой от 8 до 64 нейронов\n",
        "  net.append(random.randint(3,7)) # ядро второго сверточного слоя\n",
        "  net.append(random.randint(0,1)) # делаем ли макспулинг\n",
        "  net.append(random.randint(2,3)) # размер макспулинг\n",
        "  net.append(random.randint(0,4)) # функция активации второго слоя\n",
        "\n",
        "  net.append(random.randint(0,1)) # делаем ли третий сверточный слой\n",
        "  net.append(random.randint(3,6)) # размер третьего сверточного слоя от 8 до 64 нейронов\n",
        "  net.append(random.randint(3,7)) # ядро третьего сверточного слоя\n",
        "  net.append(random.randint(0,1)) # делаем ли макспулинг\n",
        "  net.append(random.randint(2,3)) # размер макспулинг\n",
        "  net.append(random.randint(0,4)) # функция активации третьего сверточого слоя\n",
        "\n",
        "  net.append(random.randint(0,4)) # функция активации предпоследнего полносвязного слоя\n",
        "  net.append(random.randint(0,2)) # функция активации последнего полносвязного слоя \n",
        "\n",
        "  net.append(random.randint(0,1)) # делаем ли финальную нормализацию \n",
        "  net.append(random.randint(3,6)) # размер полносвязного слоя от 8 до 64 нейронов\n",
        "\n",
        "  return net"
      ],
      "metadata": {
        "id": "M8DUDmuc2n2V"
      },
      "execution_count": null,
      "outputs": []
    },
    {
      "cell_type": "code",
      "source": [
        "n = 20 # общее число ботов\n",
        "nsurv = 10 # к-во выживших\n",
        "nnew = n - nsurv # к-во новых ботов\n",
        "l = 22 # размер бота\n",
        "epochs = 10 \n",
        "\n",
        "mut = 0.09\n",
        "\n",
        "popul = [] # массив популяции\n",
        "val = [] # одномерный массив значений этих ботов\n",
        "\n",
        "# Создаем случайных ботов\n",
        "for i in range(n): # пробегаемся по всем ботам , их 20\n",
        "  popul.append(createRandomNet()) # генерим случайные значения в векторе каждого бота и добавляем бота в массив\n",
        "\n",
        "for it in range(epochs): # пробегаем по всем эпохам\n",
        "  val = []               # обнуляем значение бота\n",
        "  curr_time = time.time()# засекаем время\n",
        "  for i in range(n):     # пробегаем в цикле по всем ботам\n",
        "    bot = popul[i]       # берем очередного бота\n",
        "    f, model_sum = evaluateNet(bot, 3, 0) # вычисляем точность текущего бота на 3х эпохах, скрыть вывод данных verbose \n",
        "    val.append(f)        # добавляем полученное значение к списку val\n",
        "\n",
        "  sval = sorted(val, reverse=0) # сортируем val\n",
        "  # Выводим 5 лучших ботов\n",
        "  print(it, time.time() - curr_time, \" \", sval[0:5],popul[:5])\n",
        "\n",
        "  newpopul = []         # создаем пустой спиок под новую популяцию\n",
        "  for i in range(nsurv):# пробегаем по всем выжившим ботам\n",
        "    index = val.index(sval[i]) # получаем индекс лучшего бота из списка лучших в списке val\n",
        "    newpopul.append(popul[index]) # добавляем в новую популяцию бота из popul c индексом index\n",
        "\n",
        "  for i in range(nnew): # проходимся в цикле nnew раз - сколько нам надо сделать ботов\n",
        "    indexp1 = random.randint(0, nsurv-1) # случайный индекс 1го родителя в диапазоне от 0 до nsurv-1\n",
        "    indexp2 = random.randint(0, nsurv-1) # случайный индекс 2го родителя в диапазоне от 0 до nsurv-1\n",
        "    botp1 = newpopul[indexp1] # 1й родитель бота\n",
        "    botp2 = newpopul[indexp2] # 2й родитель бота\n",
        "    newbot = []               # создаем пустой список под значения нового бота\n",
        "    net4Mut = createRandomNet() # создаем случайную сеть для мутаций\n",
        "    for j in range(l):        # пробегаемся по всей длине бота\n",
        "      x = 0\n",
        "      pindex = random.random() # получаем случайное число от 0 до 1\n",
        "      # если pindex меньше 0.5, то берем значения от первого бота, иначе от второго\n",
        "      if pindex < 0.5:\n",
        "        x = botp1[j]\n",
        "      else:\n",
        "        x = botp2[j]\n",
        "\n",
        "      # c вероятностью mut устанавливаем значение бота из net4Mut\n",
        "      if (random.random() < mut):\n",
        "        x = net4Mut[j]\n",
        "\n",
        "      newbot.append(x)       # добавляем очередное значение в бота\n",
        "    newpopul.append(newbot)  # добавляем бота в новую популяцию\n",
        "  popul = newpopul           # записываем в popul новую посчитанную популяцию\n",
        "\n",
        "\n"
      ],
      "metadata": {
        "colab": {
          "base_uri": "https://localhost:8080/"
        },
        "id": "gHbVYAtFlnvS",
        "outputId": "2c7bc666-8620-4c8d-965f-56d9d08b616d"
      },
      "execution_count": null,
      "outputs": [
        {
          "output_type": "stream",
          "name": "stderr",
          "text": [
            "/usr/local/lib/python3.7/dist-packages/ipykernel_launcher.py:91: UserWarning: `Model.fit_generator` is deprecated and will be removed in a future version. Please use `Model.fit`, which supports generators.\n"
          ]
        },
        {
          "output_type": "stream",
          "name": "stdout",
          "text": [
            "0 46.73432183265686   [0.05239403247833252, 0.06105053424835205, 0.075424425303936, 0.11118101328611374, 0.17315173149108887] [[0, 4, 4, 0, 1, 2, 1, 4, 3, 0, 3, 3, 0, 4, 5, 0, 3, 1, 3, 1, 1, 5], [1, 3, 3, 0, 0, 2, 1, 5, 5, 0, 3, 3, 1, 6, 3, 0, 3, 0, 4, 2, 0, 3], [0, 3, 6, 0, 1, 2, 1, 6, 3, 0, 3, 4, 0, 5, 5, 0, 2, 3, 3, 0, 1, 4], [1, 4, 3, 4, 1, 2, 0, 5, 5, 1, 2, 1, 0, 3, 5, 1, 3, 4, 1, 0, 1, 4], [0, 6, 3, 1, 1, 3, 1, 4, 7, 0, 2, 2, 0, 4, 7, 1, 3, 2, 3, 1, 0, 5]]\n",
            "1 30.03705406188965   [0.049591872841119766, 0.061420686542987823, 0.0755753293633461, 0.08321404457092285, 0.09883906692266464] [[1, 4, 3, 4, 1, 2, 0, 5, 5, 1, 2, 1, 0, 3, 5, 1, 3, 4, 1, 0, 1, 4], [0, 4, 5, 1, 1, 2, 1, 4, 4, 0, 2, 4, 0, 5, 4, 0, 2, 4, 0, 2, 0, 6], [1, 3, 3, 0, 0, 2, 1, 5, 5, 0, 3, 3, 1, 6, 3, 0, 3, 0, 4, 2, 0, 3], [0, 4, 3, 3, 0, 3, 1, 4, 6, 0, 3, 3, 1, 5, 6, 0, 3, 0, 2, 1, 0, 5], [1, 6, 7, 0, 1, 2, 1, 4, 6, 0, 3, 4, 0, 5, 4, 1, 3, 0, 3, 2, 0, 6]]\n",
            "2 29.566603422164917   [0.034305498003959656, 0.045496683567762375, 0.074583999812603, 0.07514619082212448, 0.08225638419389725] [[0, 4, 5, 1, 1, 2, 1, 4, 4, 0, 2, 4, 0, 5, 4, 0, 2, 4, 0, 2, 0, 6], [0, 4, 7, 0, 0, 3, 0, 4, 4, 0, 3, 3, 1, 5, 6, 0, 3, 0, 3, 0, 0, 4], [1, 3, 3, 3, 0, 3, 1, 4, 6, 0, 3, 3, 1, 6, 3, 0, 3, 0, 4, 2, 0, 3], [1, 3, 3, 0, 0, 2, 1, 5, 5, 0, 3, 3, 1, 6, 3, 0, 3, 0, 4, 2, 0, 3], [1, 6, 6, 4, 1, 2, 1, 4, 6, 1, 3, 1, 1, 5, 6, 1, 3, 2, 3, 2, 0, 3]]\n",
            "3 31.614596366882324   [0.026362944394350052, 0.05337957292795181, 0.05902043357491493, 0.059061210602521896, 0.0656188353896141] [[0, 4, 3, 0, 0, 3, 0, 5, 7, 0, 3, 0, 1, 6, 3, 0, 3, 2, 4, 2, 0, 3], [0, 4, 7, 0, 0, 3, 0, 4, 4, 0, 3, 3, 1, 5, 6, 0, 3, 0, 3, 0, 0, 4], [0, 3, 6, 0, 0, 2, 0, 3, 7, 0, 3, 4, 1, 5, 3, 1, 2, 0, 4, 1, 0, 5], [1, 4, 3, 4, 0, 2, 1, 4, 3, 0, 3, 1, 1, 5, 6, 0, 3, 2, 3, 2, 0, 3], [1, 3, 3, 3, 0, 3, 1, 4, 6, 0, 3, 3, 1, 6, 3, 0, 3, 0, 4, 2, 0, 3]]\n",
            "4 27.56677532196045   [0.02694205939769745, 0.028697069734334946, 0.04724429175257683, 0.05729931220412254, 0.0587289035320282] [[0, 4, 3, 0, 0, 3, 0, 5, 7, 0, 3, 0, 1, 6, 3, 0, 3, 2, 4, 2, 0, 3], [0, 4, 7, 0, 0, 3, 0, 4, 4, 0, 3, 3, 1, 5, 6, 0, 3, 0, 3, 0, 0, 4], [0, 3, 5, 0, 0, 2, 1, 4, 3, 0, 2, 2, 1, 5, 3, 1, 2, 0, 4, 2, 0, 3], [0, 4, 7, 4, 0, 3, 0, 4, 4, 0, 3, 3, 0, 6, 3, 0, 3, 0, 4, 2, 0, 4], [0, 3, 3, 3, 1, 3, 1, 5, 7, 0, 3, 0, 1, 6, 3, 0, 3, 2, 4, 2, 0, 3]]\n",
            "5 26.995182514190674   [0.026150086894631386, 0.05609823018312454, 0.05727464705705643, 0.0578995943069458, 0.06386223435401917] [[0, 4, 3, 0, 0, 3, 0, 5, 7, 0, 3, 0, 1, 6, 3, 0, 3, 2, 4, 2, 0, 3], [0, 3, 5, 0, 0, 2, 1, 4, 3, 0, 3, 2, 1, 5, 3, 0, 2, 0, 4, 2, 0, 3], [0, 4, 3, 3, 1, 3, 0, 4, 4, 0, 3, 3, 1, 5, 3, 1, 3, 0, 4, 2, 0, 3], [1, 5, 6, 0, 0, 2, 1, 4, 7, 0, 3, 4, 1, 5, 3, 0, 3, 0, 4, 2, 0, 6], [1, 3, 6, 3, 0, 2, 1, 4, 3, 0, 3, 3, 1, 6, 7, 0, 3, 0, 4, 2, 0, 6]]\n",
            "6 27.09372305870056   [0.028103534132242203, 0.03102022595703602, 0.0330238901078701, 0.053597573190927505, 0.05524580180644989] [[0, 5, 6, 0, 0, 3, 0, 3, 7, 0, 3, 3, 0, 5, 3, 0, 3, 2, 4, 2, 0, 4], [0, 4, 7, 0, 0, 3, 0, 4, 4, 0, 3, 3, 1, 5, 6, 0, 3, 0, 3, 0, 0, 4], [0, 4, 3, 0, 0, 3, 0, 5, 7, 0, 3, 0, 1, 6, 3, 0, 3, 2, 4, 2, 0, 3], [0, 3, 5, 0, 0, 2, 1, 4, 3, 0, 3, 2, 1, 5, 3, 0, 2, 0, 4, 2, 0, 3], [0, 4, 7, 4, 0, 3, 0, 4, 4, 0, 3, 3, 0, 6, 3, 0, 3, 0, 4, 2, 0, 4]]\n",
            "7 23.63849139213562   [0.017643636092543602, 0.020142175257205963, 0.02784002013504505, 0.035542573779821396, 0.03743031620979309] [[0, 4, 7, 0, 0, 3, 0, 5, 4, 0, 3, 0, 1, 5, 3, 0, 3, 0, 4, 2, 0, 4], [0, 5, 6, 0, 0, 3, 0, 3, 7, 0, 3, 3, 0, 5, 3, 0, 3, 2, 4, 2, 0, 4], [0, 5, 6, 0, 0, 3, 0, 4, 4, 0, 3, 3, 0, 6, 3, 0, 3, 0, 4, 2, 0, 4], [0, 4, 3, 3, 1, 3, 0, 4, 4, 0, 3, 3, 1, 5, 3, 1, 3, 0, 4, 2, 0, 3], [0, 4, 3, 3, 0, 3, 0, 5, 7, 0, 3, 0, 1, 5, 3, 1, 3, 2, 4, 2, 0, 3]]\n",
            "8 23.226043224334717   [0.014331069774925709, 0.016001107171177864, 0.01980677619576454, 0.02289101853966713, 0.023475971072912216] [[0, 5, 6, 0, 0, 3, 0, 4, 4, 0, 3, 0, 0, 5, 3, 0, 3, 0, 0, 2, 0, 4], [0, 4, 7, 0, 0, 3, 0, 5, 7, 0, 3, 0, 1, 6, 3, 0, 2, 0, 4, 2, 0, 4], [0, 5, 6, 0, 0, 3, 0, 3, 7, 0, 3, 3, 0, 5, 3, 0, 3, 2, 4, 2, 0, 4], [0, 5, 6, 0, 0, 3, 0, 4, 4, 0, 3, 3, 0, 6, 3, 0, 3, 0, 4, 2, 0, 4], [0, 5, 6, 0, 0, 3, 0, 3, 4, 0, 3, 3, 0, 5, 3, 1, 3, 2, 4, 2, 0, 3]]\n",
            "9 22.660545349121094   [0.014642130583524704, 0.01507545355707407, 0.018335171043872833, 0.019020218402147293, 0.021784011274576187] [[0, 5, 6, 0, 0, 3, 0, 4, 4, 0, 3, 0, 0, 5, 3, 0, 3, 0, 0, 2, 0, 4], [0, 4, 7, 0, 0, 3, 0, 5, 4, 0, 3, 0, 1, 5, 3, 0, 3, 0, 4, 2, 0, 4], [0, 4, 7, 0, 0, 3, 0, 5, 7, 0, 3, 0, 1, 6, 3, 0, 2, 0, 4, 2, 0, 4], [0, 5, 6, 0, 0, 3, 0, 3, 7, 0, 3, 3, 0, 3, 3, 1, 3, 2, 4, 2, 0, 3], [0, 5, 6, 0, 0, 3, 0, 3, 7, 0, 3, 3, 0, 5, 3, 0, 3, 2, 4, 2, 0, 4]]\n"
          ]
        }
      ]
    },
    {
      "cell_type": "code",
      "source": [
        "print(popul) #Геномы лучших ботов по эпохам"
      ],
      "metadata": {
        "colab": {
          "base_uri": "https://localhost:8080/"
        },
        "id": "jnmh2YMwwHE_",
        "outputId": "4033d6a5-3049-494e-e500-6b9843966a1b"
      },
      "execution_count": null,
      "outputs": [
        {
          "output_type": "stream",
          "name": "stdout",
          "text": [
            "[[0, 5, 6, 0, 0, 3, 0, 4, 4, 0, 3, 0, 0, 5, 3, 0, 3, 0, 0, 2, 0, 4], [0, 5, 6, 0, 0, 3, 0, 5, 4, 0, 3, 0, 1, 5, 3, 0, 3, 0, 4, 2, 0, 4], [0, 4, 6, 0, 1, 3, 0, 3, 4, 0, 3, 0, 0, 5, 3, 0, 3, 2, 0, 2, 0, 4], [0, 5, 6, 0, 0, 3, 0, 4, 4, 0, 3, 0, 0, 5, 3, 0, 3, 0, 0, 2, 0, 4], [0, 5, 6, 0, 0, 3, 0, 4, 4, 0, 3, 3, 0, 6, 3, 0, 3, 0, 4, 2, 0, 4], [0, 5, 6, 0, 0, 3, 0, 4, 4, 0, 3, 3, 0, 3, 3, 0, 3, 2, 4, 2, 0, 4], [0, 5, 6, 0, 0, 3, 0, 4, 7, 0, 3, 3, 0, 3, 3, 0, 3, 0, 4, 2, 0, 4], [0, 5, 6, 0, 0, 3, 0, 3, 7, 0, 3, 3, 0, 3, 3, 1, 3, 2, 4, 2, 0, 3], [0, 5, 6, 0, 0, 3, 0, 3, 7, 0, 3, 3, 0, 5, 3, 0, 3, 2, 4, 2, 0, 4], [0, 4, 6, 0, 0, 3, 0, 5, 7, 0, 3, 3, 0, 6, 3, 1, 3, 2, 4, 2, 0, 4], [1, 4, 6, 0, 0, 3, 0, 3, 4, 1, 3, 3, 0, 4, 4, 0, 3, 2, 2, 2, 0, 4], [0, 5, 6, 0, 0, 3, 0, 4, 4, 0, 3, 0, 0, 5, 3, 0, 3, 0, 0, 2, 0, 4], [0, 5, 6, 0, 0, 2, 0, 3, 4, 0, 3, 0, 0, 3, 3, 1, 3, 0, 4, 2, 0, 3], [0, 5, 6, 0, 1, 3, 0, 3, 4, 0, 3, 0, 0, 5, 3, 0, 3, 2, 0, 2, 0, 4], [0, 5, 6, 0, 0, 3, 0, 4, 6, 0, 3, 3, 0, 5, 3, 0, 3, 0, 4, 2, 0, 4], [0, 4, 6, 0, 0, 3, 0, 4, 7, 0, 3, 3, 0, 6, 3, 1, 3, 2, 4, 2, 0, 4], [0, 5, 6, 0, 0, 3, 0, 4, 4, 0, 2, 3, 1, 4, 3, 0, 3, 0, 4, 2, 0, 4], [0, 5, 6, 0, 0, 3, 0, 4, 7, 0, 3, 2, 0, 3, 3, 0, 3, 2, 4, 2, 0, 4], [0, 5, 6, 0, 0, 3, 0, 3, 7, 0, 3, 3, 0, 3, 3, 0, 2, 2, 4, 2, 0, 3], [0, 5, 6, 0, 0, 3, 0, 4, 7, 0, 3, 3, 0, 6, 3, 0, 3, 0, 4, 2, 0, 4]]\n"
          ]
        }
      ]
    },
    {
      "cell_type": "code",
      "source": [
        "model = createConvNet(popul[0])\n",
        "# model.summary()"
      ],
      "metadata": {
        "id": "CGPg0HQQwHmm"
      },
      "execution_count": null,
      "outputs": []
    },
    {
      "cell_type": "code",
      "source": [
        "#Комипилируем и обучаем\n",
        "model.compile(optimizer=Adam(lr=1e-4),\n",
        "                loss='mse')\n",
        "\n",
        "history = model.fit_generator(trainDataGen,\n",
        "                    epochs=50, \n",
        "                    validation_data=testDataGen)"
      ],
      "metadata": {
        "colab": {
          "base_uri": "https://localhost:8080/"
        },
        "id": "LM0VBMcWwW9U",
        "outputId": "49fb42ca-6dad-4fab-898b-e4cc10671ce6"
      },
      "execution_count": null,
      "outputs": [
        {
          "output_type": "stream",
          "name": "stdout",
          "text": [
            "Epoch 1/50\n"
          ]
        },
        {
          "output_type": "stream",
          "name": "stderr",
          "text": [
            "/usr/local/lib/python3.7/dist-packages/keras/optimizer_v2/adam.py:105: UserWarning: The `lr` argument is deprecated, use `learning_rate` instead.\n",
            "  super(Adam, self).__init__(name, **kwargs)\n",
            "/usr/local/lib/python3.7/dist-packages/ipykernel_launcher.py:7: UserWarning: `Model.fit_generator` is deprecated and will be removed in a future version. Please use `Model.fit`, which supports generators.\n",
            "  import sys\n"
          ]
        },
        {
          "output_type": "stream",
          "name": "stdout",
          "text": [
            "37/37 [==============================] - 1s 7ms/step - loss: 0.0994 - val_loss: 0.0149\n",
            "Epoch 2/50\n",
            "37/37 [==============================] - 0s 5ms/step - loss: 0.0144 - val_loss: 0.0306\n",
            "Epoch 3/50\n",
            "37/37 [==============================] - 0s 5ms/step - loss: 0.0118 - val_loss: 0.0260\n",
            "Epoch 4/50\n",
            "37/37 [==============================] - 0s 5ms/step - loss: 0.0108 - val_loss: 0.0210\n",
            "Epoch 5/50\n",
            "37/37 [==============================] - 0s 5ms/step - loss: 0.0102 - val_loss: 0.0213\n",
            "Epoch 6/50\n",
            "37/37 [==============================] - 0s 5ms/step - loss: 0.0096 - val_loss: 0.0231\n",
            "Epoch 7/50\n",
            "37/37 [==============================] - 0s 5ms/step - loss: 0.0094 - val_loss: 0.0235\n",
            "Epoch 8/50\n",
            "37/37 [==============================] - 0s 6ms/step - loss: 0.0085 - val_loss: 0.0148\n",
            "Epoch 9/50\n",
            "37/37 [==============================] - 0s 5ms/step - loss: 0.0082 - val_loss: 0.0154\n",
            "Epoch 10/50\n",
            "37/37 [==============================] - 0s 5ms/step - loss: 0.0074 - val_loss: 0.0151\n",
            "Epoch 11/50\n",
            "37/37 [==============================] - 0s 5ms/step - loss: 0.0067 - val_loss: 0.0185\n",
            "Epoch 12/50\n",
            "37/37 [==============================] - 0s 5ms/step - loss: 0.0066 - val_loss: 0.0143\n",
            "Epoch 13/50\n",
            "37/37 [==============================] - 0s 5ms/step - loss: 0.0065 - val_loss: 0.0137\n",
            "Epoch 14/50\n",
            "37/37 [==============================] - 0s 5ms/step - loss: 0.0060 - val_loss: 0.0132\n",
            "Epoch 15/50\n",
            "37/37 [==============================] - 0s 5ms/step - loss: 0.0056 - val_loss: 0.0133\n",
            "Epoch 16/50\n",
            "37/37 [==============================] - 0s 5ms/step - loss: 0.0057 - val_loss: 0.0128\n",
            "Epoch 17/50\n",
            "37/37 [==============================] - 0s 5ms/step - loss: 0.0053 - val_loss: 0.0112\n",
            "Epoch 18/50\n",
            "37/37 [==============================] - 0s 5ms/step - loss: 0.0053 - val_loss: 0.0101\n",
            "Epoch 19/50\n",
            "37/37 [==============================] - 0s 5ms/step - loss: 0.0051 - val_loss: 0.0098\n",
            "Epoch 20/50\n",
            "37/37 [==============================] - 0s 5ms/step - loss: 0.0049 - val_loss: 0.0102\n",
            "Epoch 21/50\n",
            "37/37 [==============================] - 0s 5ms/step - loss: 0.0047 - val_loss: 0.0094\n",
            "Epoch 22/50\n",
            "37/37 [==============================] - 0s 5ms/step - loss: 0.0046 - val_loss: 0.0111\n",
            "Epoch 23/50\n",
            "37/37 [==============================] - 0s 5ms/step - loss: 0.0046 - val_loss: 0.0102\n",
            "Epoch 24/50\n",
            "37/37 [==============================] - 0s 5ms/step - loss: 0.0045 - val_loss: 0.0096\n",
            "Epoch 25/50\n",
            "37/37 [==============================] - 0s 5ms/step - loss: 0.0045 - val_loss: 0.0107\n",
            "Epoch 26/50\n",
            "37/37 [==============================] - 0s 5ms/step - loss: 0.0044 - val_loss: 0.0095\n",
            "Epoch 27/50\n",
            "37/37 [==============================] - 0s 5ms/step - loss: 0.0042 - val_loss: 0.0092\n",
            "Epoch 28/50\n",
            "37/37 [==============================] - 0s 5ms/step - loss: 0.0043 - val_loss: 0.0105\n",
            "Epoch 29/50\n",
            "37/37 [==============================] - 0s 5ms/step - loss: 0.0041 - val_loss: 0.0104\n",
            "Epoch 30/50\n",
            "37/37 [==============================] - 0s 5ms/step - loss: 0.0041 - val_loss: 0.0090\n",
            "Epoch 31/50\n",
            "37/37 [==============================] - 0s 5ms/step - loss: 0.0039 - val_loss: 0.0082\n",
            "Epoch 32/50\n",
            "37/37 [==============================] - 0s 5ms/step - loss: 0.0041 - val_loss: 0.0097\n",
            "Epoch 33/50\n",
            "37/37 [==============================] - 0s 5ms/step - loss: 0.0039 - val_loss: 0.0089\n",
            "Epoch 34/50\n",
            "37/37 [==============================] - 0s 5ms/step - loss: 0.0039 - val_loss: 0.0083\n",
            "Epoch 35/50\n",
            "37/37 [==============================] - 0s 5ms/step - loss: 0.0038 - val_loss: 0.0092\n",
            "Epoch 36/50\n",
            "37/37 [==============================] - 0s 5ms/step - loss: 0.0035 - val_loss: 0.0081\n",
            "Epoch 37/50\n",
            "37/37 [==============================] - 0s 5ms/step - loss: 0.0036 - val_loss: 0.0087\n",
            "Epoch 38/50\n",
            "37/37 [==============================] - 0s 5ms/step - loss: 0.0036 - val_loss: 0.0084\n",
            "Epoch 39/50\n",
            "37/37 [==============================] - 0s 5ms/step - loss: 0.0036 - val_loss: 0.0094\n",
            "Epoch 40/50\n",
            "37/37 [==============================] - 0s 6ms/step - loss: 0.0035 - val_loss: 0.0086\n",
            "Epoch 41/50\n",
            "37/37 [==============================] - 0s 6ms/step - loss: 0.0034 - val_loss: 0.0083\n",
            "Epoch 42/50\n",
            "37/37 [==============================] - 0s 5ms/step - loss: 0.0034 - val_loss: 0.0108\n",
            "Epoch 43/50\n",
            "37/37 [==============================] - 0s 11ms/step - loss: 0.0036 - val_loss: 0.0078\n",
            "Epoch 44/50\n",
            "37/37 [==============================] - 0s 7ms/step - loss: 0.0035 - val_loss: 0.0080\n",
            "Epoch 45/50\n",
            "37/37 [==============================] - 0s 5ms/step - loss: 0.0033 - val_loss: 0.0084\n",
            "Epoch 46/50\n",
            "37/37 [==============================] - 0s 6ms/step - loss: 0.0034 - val_loss: 0.0080\n",
            "Epoch 47/50\n",
            "37/37 [==============================] - 0s 5ms/step - loss: 0.0033 - val_loss: 0.0076\n",
            "Epoch 48/50\n",
            "37/37 [==============================] - 0s 5ms/step - loss: 0.0033 - val_loss: 0.0079\n",
            "Epoch 49/50\n",
            "37/37 [==============================] - 0s 5ms/step - loss: 0.0038 - val_loss: 0.0074\n",
            "Epoch 50/50\n",
            "37/37 [==============================] - 0s 5ms/step - loss: 0.0033 - val_loss: 0.0079\n"
          ]
        }
      ]
    },
    {
      "cell_type": "code",
      "source": [
        "model.summary()"
      ],
      "metadata": {
        "colab": {
          "base_uri": "https://localhost:8080/"
        },
        "id": "dQqOYP58leAB",
        "outputId": "67c19018-b011-4607-f8ed-a47eb3c54719"
      },
      "execution_count": null,
      "outputs": [
        {
          "output_type": "stream",
          "name": "stdout",
          "text": [
            "Model: \"sequential_466\"\n",
            "_________________________________________________________________\n",
            " Layer (type)                Output Shape              Param #   \n",
            "=================================================================\n",
            " conv1d_958 (Conv1D)         (None, None, 32)          224       \n",
            "                                                                 \n",
            " flatten_468 (Flatten)       (None, None)              0         \n",
            "                                                                 \n",
            " dense_936 (Dense)           (None, 16)                30736     \n",
            "                                                                 \n",
            " dense_937 (Dense)           (None, 1)                 17        \n",
            "                                                                 \n",
            "=================================================================\n",
            "Total params: 30,977\n",
            "Trainable params: 30,977\n",
            "Non-trainable params: 0\n",
            "_________________________________________________________________\n"
          ]
        }
      ]
    },
    {
      "cell_type": "code",
      "source": [
        "plt.plot(history.history['loss'], \n",
        "         label='Средняя абсолютная ошибка на обучающем наборе')\n",
        "plt.plot(history.history['val_loss'], \n",
        "         label='Средняя абсолютная ошибка на проверочном наборе')\n",
        "plt.ylabel('Средняя ошибка')\n",
        "plt.legend()\n",
        "plt.show()"
      ],
      "metadata": {
        "colab": {
          "base_uri": "https://localhost:8080/",
          "height": 265
        },
        "id": "uc9JG-n6wZc9",
        "outputId": "f5ac738e-46c1-4273-a580-787be101fb77"
      },
      "execution_count": null,
      "outputs": [
        {
          "output_type": "display_data",
          "data": {
            "text/plain": [
              "<Figure size 432x288 with 1 Axes>"
            ],
            "image/png": "[encoded data removed]"
          },
          "metadata": {
            "needs_background": "light"
          }
        }
      ]
    },
    {
      "cell_type": "code",
      "source": [
        "# Прогнозируем данные текущей сетью\n",
        "currModel = model #Выбираем текущую модель\n",
        "(predVal, yValUnscaled) = getPred(currModel, xVal[0], yVal[0], Scaler) #Прогнозируем данные\n",
        "\n",
        "# Отображаем графики\n",
        "showPredict(0, 400, 0, predVal, yValUnscaled)"
      ],
      "metadata": {
        "colab": {
          "base_uri": "https://localhost:8080/",
          "height": 279
        },
        "id": "Fbs0C4k_wewB",
        "outputId": "fe78ee3f-7602-4fdb-8727-716d37d7eabe"
      },
      "execution_count": null,
      "outputs": [
        {
          "output_type": "display_data",
          "data": {
            "text/plain": [
              "<Figure size 432x288 with 1 Axes>"
            ],
            "image/png": "[encoded data removed]"
          },
          "metadata": {
            "needs_background": "light"
          }
        }
      ]
    },
    {
      "cell_type": "code",
      "source": [
        "# Отображаем корреляцию\n",
        "# Используем выходной канал - только open\n",
        "# Проверяем корреляцию на глубину 60 шагов\n",
        "autoCorr([0], 20, predVal, yValUnscaled)"
      ],
      "metadata": {
        "colab": {
          "base_uri": "https://localhost:8080/",
          "height": 279
        },
        "id": "7HGoXhSRwj0l",
        "outputId": "76af5508-8d0e-4375-c7bb-8206126421d9"
      },
      "execution_count": null,
      "outputs": [
        {
          "output_type": "display_data",
          "data": {
            "text/plain": [
              "<Figure size 432x288 with 1 Axes>"
            ],
            "image/png": "[encoded data removed]"
          },
          "metadata": {
            "needs_background": "light"
          }
        }
      ]
    }
  ]
}