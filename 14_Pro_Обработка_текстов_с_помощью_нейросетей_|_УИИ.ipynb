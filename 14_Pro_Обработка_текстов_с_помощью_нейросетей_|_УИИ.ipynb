{
  "nbformat": 4,
  "nbformat_minor": 0,
  "metadata": {
    "accelerator": "GPU",
    "colab": {
      "name": "14. Pro. Обработка текстов с помощью нейросетей  | УИИ.ipynb",
      "provenance": [],
      "collapsed_sections": [
        "09nWwiysrelH",
        "RIQP00Emvuq-",
        "TbBmfdAwK47A",
        "Av4rG5bgXTYz",
        "v3Od6TfHU7J4"
      ],
      "machine_shape": "hm",
      "include_colab_link": true
    },
    "kernelspec": {
      "display_name": "Python 3",
      "name": "python3"
    },
    "language_info": {
      "name": "python"
    }
  },
  "cells": [
    {
      "cell_type": "markdown",
      "metadata": {
        "id": "view-in-github",
        "colab_type": "text"
      },
      "source": [
        "<a href=\"https://colab.research.google.com/github/10100111/Display-of-HW1/blob/main/14_Pro_%D0%9E%D0%B1%D1%80%D0%B0%D0%B1%D0%BE%D1%82%D0%BA%D0%B0_%D1%82%D0%B5%D0%BA%D1%81%D1%82%D0%BE%D0%B2_%D1%81_%D0%BF%D0%BE%D0%BC%D0%BE%D1%89%D1%8C%D1%8E_%D0%BD%D0%B5%D0%B9%D1%80%D0%BE%D1%81%D0%B5%D1%82%D0%B5%D0%B9_%7C_%D0%A3%D0%98%D0%98.ipynb\" target=\"_parent\"><img src=\"https://colab.research.google.com/assets/colab-badge.svg\" alt=\"Open In Colab\"/></a>"
      ]
    },
    {
      "cell_type": "markdown",
      "metadata": {
        "id": "bE_BoxLurFnC"
      },
      "source": [
        "Задание Pro\n",
        "\n",
        "Макс 10 баллов\n",
        "\n",
        "Добейтесь точности распознавания 97% и верно распознанных всех писателей с помощью любой нейронной сети. \n",
        "\n",
        "Подсказка: Попробуйте менять размер окна и шаг."
      ]
    },
    {
      "cell_type": "code",
      "metadata": {
        "colab": {
          "base_uri": "https://localhost:8080/"
        },
        "id": "xIm4n7soSDoh",
        "outputId": "1afb7edd-ab56-475a-f3b1-de3d57d79de0"
      },
      "source": [
        "gpu_info = !nvidia-smi\n",
        "gpu_info = '\\n'.join(gpu_info)\n",
        "if gpu_info.find('failed') >= 0:\n",
        "  print('Not connected to a GPU')\n",
        "else:\n",
        "  print(gpu_info)"
      ],
      "execution_count": null,
      "outputs": [
        {
          "name": "stdout",
          "output_type": "stream",
          "text": [
            "Mon Sep 27 04:31:32 2021       \n",
            "+-----------------------------------------------------------------------------+\n",
            "| NVIDIA-SMI 470.63.01    Driver Version: 460.32.03    CUDA Version: 11.2     |\n",
            "|-------------------------------+----------------------+----------------------+\n",
            "| GPU  Name        Persistence-M| Bus-Id        Disp.A | Volatile Uncorr. ECC |\n",
            "| Fan  Temp  Perf  Pwr:Usage/Cap|         Memory-Usage | GPU-Util  Compute M. |\n",
            "|                               |                      |               MIG M. |\n",
            "|===============================+======================+======================|\n",
            "|   0  Tesla P100-PCIE...  Off  | 00000000:00:04.0 Off |                    0 |\n",
            "| N/A   50C    P0    29W / 250W |      0MiB / 16280MiB |      0%      Default |\n",
            "|                               |                      |                  N/A |\n",
            "+-------------------------------+----------------------+----------------------+\n",
            "                                                                               \n",
            "+-----------------------------------------------------------------------------+\n",
            "| Processes:                                                                  |\n",
            "|  GPU   GI   CI        PID   Type   Process name                  GPU Memory |\n",
            "|        ID   ID                                                   Usage      |\n",
            "|=============================================================================|\n",
            "|  No running processes found                                                 |\n",
            "+-----------------------------------------------------------------------------+\n"
          ]
        }
      ]
    },
    {
      "cell_type": "markdown",
      "metadata": {
        "id": "09nWwiysrelH"
      },
      "source": [
        "# Import of libraries"
      ]
    },
    {
      "cell_type": "code",
      "metadata": {
        "id": "4jvQL4Y7sDvo"
      },
      "source": [
        "from google.colab import files\n",
        "import numpy as np\n",
        "import pandas as pd\n",
        "import matplotlib.pyplot as plt\n",
        "import os\n",
        "%matplotlib inline\n",
        "\n",
        "from tensorflow.keras import utils\n",
        "from tensorflow.keras.models import Sequential\n",
        "from tensorflow.keras.optimizers import Adam\n",
        "from tensorflow.keras.layers import Dense, Dropout, SpatialDropout1D, BatchNormalization, Flatten, Activation\n",
        "from tensorflow.keras.preprocessing.text import Tokenizer  #Метод для работы с текстами и преобразования их в последовательности\n",
        "from tensorflow.keras.preprocessing.sequence import pad_sequences #Метод для работы с последовательностями\n",
        "\n",
        "from sklearn.preprocessing import LabelEncoder #Метод кодирования тестовых лейблов\n",
        "from sklearn.model_selection import train_test_split #Метод для разделения выборки на обучающую и тестовую\n",
        "\n",
        "from google.colab import drive\n",
        "import time #Импортируем библеиотеку time"
      ],
      "execution_count": null,
      "outputs": []
    },
    {
      "cell_type": "code",
      "metadata": {
        "colab": {
          "base_uri": "https://localhost:8080/"
        },
        "id": "RBoXlfkAvYwH",
        "outputId": "0622fda2-4478-4b7b-df8c-f4052974600e"
      },
      "source": [
        "drive.mount('/content/drive')"
      ],
      "execution_count": null,
      "outputs": [
        {
          "output_type": "stream",
          "name": "stdout",
          "text": [
            "Drive already mounted at /content/drive; to attempt to forcibly remount, call drive.mount(\"/content/drive\", force_remount=True).\n"
          ]
        }
      ]
    },
    {
      "cell_type": "markdown",
      "metadata": {
        "id": "RIQP00Emvuq-"
      },
      "source": [
        "# Classification of writter's texts"
      ]
    },
    {
      "cell_type": "markdown",
      "metadata": {
        "id": "TJjxZ0kdwBZb"
      },
      "source": [
        "Loading data"
      ]
    },
    {
      "cell_type": "code",
      "metadata": {
        "id": "TH4mG_fMys1k"
      },
      "source": [
        "#Собираем данные через функцию, которая читает данные\n",
        "#На вход подаем путь к файлу, открываем файл в режиме чтения\n",
        "# переносы строки меняем на пробелы\n",
        "# возвращаем текст файла\n",
        "def readText(fileName):\n",
        "  f = open(fileName, 'r')\n",
        "  text = f.read()\n",
        "  text = text.replace('\\n', ' ')\n",
        "\n",
        "  return text\n",
        "\n",
        "# Объявляем классы и считаем кол-во классов\n",
        "className = ['О. Генри', 'Стругацкие', 'Булгаков', ' Саймак', 'Фрай', 'Брэдберри']\n",
        "nClasses = len(className)\n",
        "\n",
        "# Итак, мы растянули весь текст в одну строку"
      ],
      "execution_count": null,
      "outputs": []
    },
    {
      "cell_type": "code",
      "metadata": {
        "colab": {
          "base_uri": "https://localhost:8080/"
        },
        "id": "zzmdH4RKxMAj",
        "outputId": "cdcf2a3b-f018-455e-ecc9-691e43e727ab"
      },
      "source": [
        "#Загружаем обучающие тексты\n",
        "\n",
        "trainText = []\n",
        "testText = []\n",
        "\n",
        "#Создаем выборку по условию:\n",
        "#Класс каждого i-го элемента в обучающей выборке должен соответствовать\n",
        "#классу каждого i-го элемента тестовой выборки\n",
        "\n",
        "# Обходим классы\n",
        "for i in className:\n",
        "  # пробегаемся по всем документам в папке 'texts'\n",
        "  for j in os.listdir('texts/'):\n",
        "    # смотрим содержится ли в названии имя класса, если да , то работаем дальше\n",
        "    if i in j:\n",
        "      # Дальше проверяем обучающий это файл или тестовый и добавляем текст в выборку\n",
        "      if 'Обучающая' in j:\n",
        "        trainText.append(readText('texts/' + j))\n",
        "        print(j, 'добавлен в обучающую выборку')\n",
        "      if 'Тестовая' in j:\n",
        "        testText.append(readText('texts/' + j))\n",
        "        print(j, 'добвлен в тестовую выборку')\n",
        "print()\n",
        "\n",
        "      "
      ],
      "execution_count": null,
      "outputs": [
        {
          "output_type": "stream",
          "name": "stdout",
          "text": [
            "(О. Генри) Тестовая_20 вместе.txt добвлен в тестовую выборку\n",
            "(О. Генри) Обучающая_50 вместе.txt добавлен в обучающую выборку\n",
            "(Стругацкие) Обучающая_5 вместе.txt добавлен в обучающую выборку\n",
            "(Стругацкие) Тестовая_2 вместе.txt добвлен в тестовую выборку\n",
            "(Булгаков) Тестовая_2 вместе.txt добвлен в тестовую выборку\n",
            "(Булгаков) Обучающая_5 вместе.txt добавлен в обучающую выборку\n",
            "(Клиффорд Саймак) Обучающая_5 вместе.txt добавлен в обучающую выборку\n",
            "(Клиффорд Саймак) Тестовая_2 вместе.txt добвлен в тестовую выборку\n",
            "(Макс Фрай) Обучающая_5 вместе.txt добавлен в обучающую выборку\n",
            "(Макс Фрай) Тестовая_2 вместе.txt добвлен в тестовую выборку\n",
            "(Рэй Брэдберри) Обучающая_22 вместе.txt добавлен в обучающую выборку\n",
            "(Рэй Брэдберри) Тестовая_8 вместе.txt добвлен в тестовую выборку\n",
            "\n"
          ]
        }
      ]
    },
    {
      "cell_type": "code",
      "metadata": {
        "colab": {
          "base_uri": "https://localhost:8080/"
        },
        "id": "5_StTM1rJ-1A",
        "outputId": "64a1161e-1d27-4a3e-e341-a82ceb298639"
      },
      "source": [
        "# Посмотрим кол-во элементов в trainText и в первом элементе \n",
        "print(len(trainText))\n",
        "print(len(trainText[0]))"
      ],
      "execution_count": null,
      "outputs": [
        {
          "output_type": "stream",
          "name": "stdout",
          "text": [
            "6\n",
            "1049517\n"
          ]
        }
      ]
    },
    {
      "cell_type": "code",
      "metadata": {
        "colab": {
          "base_uri": "https://localhost:8080/"
        },
        "id": "S2Lu6NNUfSK7",
        "outputId": "e559e07c-9942-4b20-bae7-ed221131438e"
      },
      "source": [
        "# Посмотрим кол-во элементов в testText и в первом элементе \n",
        "print(len(testText))\n",
        "print(len(testText[0]))"
      ],
      "execution_count": null,
      "outputs": [
        {
          "output_type": "stream",
          "name": "stdout",
          "text": [
            "6\n",
            "349662\n"
          ]
        }
      ]
    },
    {
      "cell_type": "markdown",
      "metadata": {
        "id": "yZfC4lT3-Efc"
      },
      "source": [
        "# maxWordsCount , xLen, step"
      ]
    },
    {
      "cell_type": "code",
      "metadata": {
        "id": "2k9YnBsG-Qyc"
      },
      "source": [
        "maxWordsCount = 40000\n",
        "xLen = 3000 \n",
        "step = 170 "
      ],
      "execution_count": null,
      "outputs": []
    },
    {
      "cell_type": "markdown",
      "metadata": {
        "id": "TbBmfdAwK47A"
      },
      "source": [
        "# Data processing. Converting textual data to numeric and vector for neural network training"
      ]
    },
    {
      "cell_type": "code",
      "metadata": {
        "id": "xTiAbRIVLEBy"
      },
      "source": [
        "#Tokenizer - функция Keras , которая поможет разделить текст и преобразовать его в матрицу числовых значений\n",
        "# засекаем время\n",
        "# cur_time = time.time()\n",
        "#Для русского языка часто используется параметр 20 000 - кол-во слов/индексов при обучении текста\n",
        "# maxWordsCount = 10000\n",
        "#Избавимся от ненужных символов, приводим слова к нижнему регистру и char_level = False - токенизируем по словам\n",
        "tokenizer = Tokenizer(num_words=maxWordsCount, filters = '!\"#$%&()*+,-–—./…:;<=>?@[\\\\]^_`{|}~«»\\t\\n\\xa0\\ufeff', lower = True, split=' ', oov_token='unknown', char_level = False)\n",
        "\n",
        "# Подаем тексты в обработку\n",
        "tokenizer.fit_on_texts(trainText)\n",
        "#Выводим интексы слов для просмотра\n",
        "items = list(tokenizer.word_index.items())\n",
        "# print('Время обработки: ', round(time.time()-cur_time, 2), 'c', sep='')\n",
        "\n",
        "\n",
        "\n"
      ],
      "execution_count": null,
      "outputs": []
    },
    {
      "cell_type": "code",
      "metadata": {
        "id": "RUDDjCA5Qa9g"
      },
      "source": [
        "# заменяем слова на индексы - преобразуем текст к числовым значениям\n",
        "trainWordIndexes = tokenizer.texts_to_sequences(trainText)\n",
        "testWordIndexes = tokenizer.texts_to_sequences(testText)\n",
        "\n",
        "# print('Взглянем на фрагмент обучающего текста: ')\n",
        "# print('В виде оригинального текста:                ', trainText[1][:87])\n",
        "# print('Он же в виде последовательности индексов:   ', trainWordIndexes[1][:20], '\\n')"
      ],
      "execution_count": null,
      "outputs": []
    },
    {
      "cell_type": "code",
      "metadata": {
        "id": "-Uk_1uQXRy5s"
      },
      "source": [
        "# print('Статистика по обучающим текстам  :')\n",
        "\n",
        "# #Посчитаем слова и символы, для этого объявим переменные\n",
        "# symbolsTrainText = 0\n",
        "# wordsTrainTexts = 0\n",
        "\n",
        "# #обходим все классы, печатаем сколько символов в примере и сколько слов\n",
        "# for i in range(nClasses):\n",
        "#   print(className[i], ' '*(10-len(className[i])), len(trainText[i]), 'символов, ',len(trainWordIndexes[i]), 'слов')\n",
        "#   symbolsTrainText += len(trainText[i])\n",
        "#   wordsTrainTexts += len(trainWordIndexes[i])\n",
        "\n",
        "# print('----')\n",
        "# print('В сумме ', symbolsTrainText, 'символов', wordsTrainTexts, 'слов \\n')\n",
        "# print()\n",
        "# print(\"Статистика по тестовым текстам: \")\n",
        "\n",
        "# symbolsTestText = 0\n",
        "# wordsTestText = 0 \n",
        "\n",
        "# for i in range(nClasses):\n",
        "#   print(className[i], ' '*(10-len(className[i])), len(testText[i]), 'символов, ', len(testWordIndexes[i]), 'слов')\n",
        "#   symbolsTestText += len(testText[i])\n",
        "#   wordsTestText += len(testWordIndexes[i])\n",
        "# print('----')\n",
        "# print('В сумме ', symbolsTestText, 'символов, ', wordsTestText, 'слов')\n",
        "\n"
      ],
      "execution_count": null,
      "outputs": []
    },
    {
      "cell_type": "markdown",
      "metadata": {
        "id": "Av4rG5bgXTYz"
      },
      "source": [
        "# Creation of training and validation samples"
      ]
    },
    {
      "cell_type": "code",
      "metadata": {
        "id": "3ityn-egXXE6"
      },
      "source": [
        "# Напишем функцию, которая получает последовательность индексов, шаг и ширину.\n",
        "# В xSample заносим примеры\n",
        "# В wordsLen считаем кол-во символов\n",
        "# В цикле while будем \"откусывать\" кусочки из wordIndexes длиной xLen\n",
        "# По списку индексов слов разделяем на короткие векторы.\n",
        "def getSetFromIndexes(wordIndexes, xLen, step):\n",
        "  xSample = []\n",
        "  wordsLen = len(wordIndexes)\n",
        "  index = 0\n",
        "\n",
        "  while (index + xLen <= wordsLen):\n",
        "    xSample.append(wordIndexes[index:index+xLen])\n",
        "    index += step\n",
        "\n",
        "  return xSample\n",
        "\n",
        "# Это функция для одного писателя , а у нас их 6\n"
      ],
      "execution_count": null,
      "outputs": []
    },
    {
      "cell_type": "code",
      "metadata": {
        "id": "APsbCYpuoBQ-"
      },
      "source": [
        "# Для этого создаем функцию createSetsMultyClasses, на вход подаем последовательность индексов, размер окна, шаг окна\n",
        "def createSetsMultiClasses(wordIndexes, xLen, step):\n",
        "  #Для каждого из 6 классов создаем обучающую и проверочную выборки\n",
        "  nClasses = len(wordIndexes)\n",
        "  classesXSamples = []\n",
        "  # Для каждого текста из последовательности выборки\n",
        "  for wI in wordIndexes:\n",
        "    #добавляем в список очередной текст индексов разбиный на (кол-во окон * длину окна)\n",
        "    classesXSamples.append(getSetFromIndexes(wI, xLen, step))\n",
        "\n",
        "  #Создаем один общий xSamples \n",
        "  # список размером \"суммарное кол-во окон во всех текстах*длину окна (например, 15779*1000)\"\n",
        "  xSamples = []\n",
        "  # список размером \"суммарное кол-во окон во всех текстах*вектор длиной 6\"\n",
        "  ySamples = []\n",
        "\n",
        "  #В диапазоне кол-ва классов (6)\n",
        "  for t in range (nClasses):\n",
        "    # Берем очередной текст вида \"кол-во окон в тексте*длину окна\"(например, 1341*1000)\n",
        "    xT = classesXSamples[t]\n",
        "    # И каждое его окно добавляем в общий список выборки\n",
        "    for i in range(len(xT)):\n",
        "      xSamples.append(xT[i])\n",
        "      # Добавляем соответствующий вектор класса\n",
        "      ySamples.append(utils.to_categorical(t, nClasses))\n",
        "\n",
        "  # переводим в массив для подачи в нейронку\n",
        "  xSamples = np.array(xSamples)\n",
        "  ySamples = np.array(ySamples)\n",
        "  \n",
        "  #Функция возвращает выборку и соответствующие векторы классов\n",
        "  return (xSamples, ySamples)\n",
        "\n"
      ],
      "execution_count": null,
      "outputs": []
    },
    {
      "cell_type": "code",
      "metadata": {
        "id": "AB3aFFDx4TEa"
      },
      "source": [
        "# #Задаем параметры переменным \n",
        "# #Длина отрезка текста, по которой анализируем, в словах\n",
        "# xLen = 300 \n",
        "# #Шаг разбиения исходного текста на обучающие векторы\n",
        "# step = 30 "
      ],
      "execution_count": null,
      "outputs": []
    },
    {
      "cell_type": "code",
      "metadata": {
        "colab": {
          "base_uri": "https://localhost:8080/"
        },
        "id": "n7UrbqIh4jru",
        "outputId": "e3653d94-8add-4091-def9-f0034e488f4d"
      },
      "source": [
        "#Засекаем текущее время\n",
        "# cur_time = time.time()\n",
        "#извлекаем обучающую и тестовую выборки\n",
        "xTrain, yTrain = createSetsMultiClasses(trainWordIndexes, xLen, step)\n",
        "xTest, yTest = createSetsMultiClasses(testWordIndexes, xLen, step)\n",
        "\n",
        "print(xTrain.shape)\n",
        "print(yTrain.shape)\n",
        "print(xTest.shape)\n",
        "print(yTest.shape)\n",
        "# print('Время обработки : ', round(time.time() - cur_time, 2), 'c', sep='')\n",
        "#Получили тестовый набор, для Embedding этого достаточно. А для bag of words нужно xTrain и xTest преобразовать в векторы из 0 и 1\n"
      ],
      "execution_count": null,
      "outputs": [
        {
          "output_type": "stream",
          "name": "stdout",
          "text": [
            "(10306, 3000)\n",
            "(10306, 6)\n",
            "(3863, 3000)\n",
            "(3863, 6)\n"
          ]
        }
      ]
    },
    {
      "cell_type": "code",
      "metadata": {
        "colab": {
          "base_uri": "https://localhost:8080/"
        },
        "id": "cWltHY8o73Hu",
        "outputId": "378e9ee2-4f7a-4753-d6b0-ec18d6b290ea"
      },
      "source": [
        "# Функция sequences_to_matrix переведет наши данные в векторы со значениями 0 и 1\n",
        "#Засекаем время \n",
        "# cur_time = time.time()\n",
        "#в виде списка, чтобы метод успешно сработал\n",
        "xTrain01 = tokenizer.sequences_to_matrix(xTrain.tolist())\n",
        "xTest01 = tokenizer.sequences_to_matrix(xTest.tolist())\n",
        "\n",
        "print(xTrain01.shape)\n",
        "print(xTrain01[0][0:100])\n",
        "# print('Время обработки: ', round(time.time() - cur_time,2), 'c', sep='')\n"
      ],
      "execution_count": null,
      "outputs": [
        {
          "output_type": "stream",
          "name": "stdout",
          "text": [
            "(10306, 40000)\n",
            "[0. 1. 1. 1. 1. 1. 1. 1. 1. 1. 1. 1. 1. 1. 1. 1. 1. 1. 1. 1. 1. 1. 1. 1.\n",
            " 1. 0. 1. 1. 1. 1. 1. 1. 1. 1. 1. 1. 1. 1. 1. 1. 1. 1. 1. 1. 1. 1. 1. 1.\n",
            " 1. 1. 1. 1. 0. 1. 1. 1. 1. 1. 1. 1. 1. 1. 1. 1. 1. 1. 1. 1. 1. 1. 1. 0.\n",
            " 1. 1. 0. 1. 1. 1. 1. 1. 1. 0. 1. 1. 1. 1. 1. 1. 1. 1. 1. 1. 1. 0. 1. 1.\n",
            " 1. 1. 1. 1.]\n"
          ]
        }
      ]
    },
    {
      "cell_type": "markdown",
      "metadata": {
        "id": "VjmYBb5ODw61"
      },
      "source": [
        "# Creation and training of a neural network"
      ]
    },
    {
      "cell_type": "markdown",
      "metadata": {
        "id": "v3Od6TfHU7J4"
      },
      "source": [
        "## relu + softmax "
      ]
    },
    {
      "cell_type": "code",
      "metadata": {
        "colab": {
          "base_uri": "https://localhost:8080/"
        },
        "id": "DFB3uXPYDjSx",
        "outputId": "e6c32fda-3672-4bad-d4a7-56d86c1ec755"
      },
      "source": [
        "#Создаём полносвязную сеть\n",
        "model = Sequential()\n",
        "#Первый полносвязный слой на вход подаем максимальное кол-во слов \n",
        "model.add(Dense(64, input_dim=maxWordsCount, activation=\"relu\"))\n",
        "#Слой регуляризации Dropout\n",
        "model.add(Dropout(0.25))\n",
        "#Слой пакетной нормализации\n",
        "model.add(BatchNormalization())\n",
        "\n",
        "model.add(Dense(64, activation=\"relu\"))\n",
        "#Слой регуляризации Dropout\n",
        "model.add(Dropout(0.25))\n",
        "model.add(BatchNormalization())\n",
        "\n",
        "# model.add(Dense(32, activation=\"relu\"))\n",
        "# #Слой регуляризации Dropout\n",
        "# model.add(Dropout(0.25))\n",
        "# model.add(BatchNormalization())\n",
        "\n",
        "#Выходной полносвязный слой\n",
        "model.add(Dense(6, activation='softmax'))\n",
        "\n",
        "model.compile(optimizer='adam', \n",
        "              loss='categorical_crossentropy', \n",
        "              metrics=['accuracy'])\n",
        "\n",
        "model.summary()\n",
        "\n",
        "#Обучаем сеть на выборке, сформированной по bag of words - xTrain01\n",
        "history = model.fit(xTrain01, \n",
        "                      yTrain, \n",
        "                      epochs=20,\n",
        "                      batch_size=128,\n",
        "                      validation_data=(xTest01, yTest))"
      ],
      "execution_count": null,
      "outputs": [
        {
          "output_type": "stream",
          "name": "stdout",
          "text": [
            "Model: \"sequential_14\"\n",
            "_________________________________________________________________\n",
            "Layer (type)                 Output Shape              Param #   \n",
            "=================================================================\n",
            "dense_42 (Dense)             (None, 64)                2560064   \n",
            "_________________________________________________________________\n",
            "dropout_28 (Dropout)         (None, 64)                0         \n",
            "_________________________________________________________________\n",
            "batch_normalization_28 (Batc (None, 64)                256       \n",
            "_________________________________________________________________\n",
            "dense_43 (Dense)             (None, 64)                4160      \n",
            "_________________________________________________________________\n",
            "dropout_29 (Dropout)         (None, 64)                0         \n",
            "_________________________________________________________________\n",
            "batch_normalization_29 (Batc (None, 64)                256       \n",
            "_________________________________________________________________\n",
            "dense_44 (Dense)             (None, 6)                 390       \n",
            "=================================================================\n",
            "Total params: 2,565,126\n",
            "Trainable params: 2,564,870\n",
            "Non-trainable params: 256\n",
            "_________________________________________________________________\n",
            "Epoch 1/20\n",
            "81/81 [==============================] - 3s 22ms/step - loss: 0.2019 - accuracy: 0.9550 - val_loss: 0.3546 - val_accuracy: 0.9381\n",
            "Epoch 2/20\n",
            "81/81 [==============================] - 1s 13ms/step - loss: 0.0228 - accuracy: 0.9992 - val_loss: 0.2772 - val_accuracy: 0.9542\n",
            "Epoch 3/20\n",
            "81/81 [==============================] - 1s 13ms/step - loss: 0.0118 - accuracy: 0.9996 - val_loss: 0.2451 - val_accuracy: 0.9635\n",
            "Epoch 4/20\n",
            "81/81 [==============================] - 1s 13ms/step - loss: 0.0075 - accuracy: 0.9998 - val_loss: 0.2507 - val_accuracy: 0.9534\n",
            "Epoch 5/20\n",
            "81/81 [==============================] - 1s 13ms/step - loss: 0.0053 - accuracy: 0.9999 - val_loss: 0.2326 - val_accuracy: 0.9583\n",
            "Epoch 6/20\n",
            "81/81 [==============================] - 1s 13ms/step - loss: 0.0039 - accuracy: 0.9999 - val_loss: 0.2304 - val_accuracy: 0.9537\n",
            "Epoch 7/20\n",
            "81/81 [==============================] - 1s 13ms/step - loss: 0.0034 - accuracy: 0.9999 - val_loss: 0.2085 - val_accuracy: 0.9594\n",
            "Epoch 8/20\n",
            "81/81 [==============================] - 1s 13ms/step - loss: 0.0027 - accuracy: 0.9999 - val_loss: 0.2080 - val_accuracy: 0.9596\n",
            "Epoch 9/20\n",
            "81/81 [==============================] - 1s 13ms/step - loss: 0.0022 - accuracy: 0.9999 - val_loss: 0.2001 - val_accuracy: 0.9568\n",
            "Epoch 10/20\n",
            "81/81 [==============================] - 1s 13ms/step - loss: 0.0018 - accuracy: 0.9999 - val_loss: 0.1762 - val_accuracy: 0.9625\n",
            "Epoch 11/20\n",
            "81/81 [==============================] - 1s 13ms/step - loss: 0.0017 - accuracy: 0.9999 - val_loss: 0.1674 - val_accuracy: 0.9596\n",
            "Epoch 12/20\n",
            "81/81 [==============================] - 1s 13ms/step - loss: 0.0013 - accuracy: 1.0000 - val_loss: 0.1709 - val_accuracy: 0.9555\n",
            "Epoch 13/20\n",
            "81/81 [==============================] - 1s 13ms/step - loss: 0.0011 - accuracy: 1.0000 - val_loss: 0.1558 - val_accuracy: 0.9619\n",
            "Epoch 14/20\n",
            "81/81 [==============================] - 1s 13ms/step - loss: 0.0010 - accuracy: 0.9999 - val_loss: 0.1582 - val_accuracy: 0.9614\n",
            "Epoch 15/20\n",
            "81/81 [==============================] - 1s 13ms/step - loss: 9.7001e-04 - accuracy: 0.9999 - val_loss: 0.1460 - val_accuracy: 0.9663\n",
            "Epoch 16/20\n",
            "81/81 [==============================] - 1s 13ms/step - loss: 8.7755e-04 - accuracy: 0.9999 - val_loss: 0.1313 - val_accuracy: 0.9710\n",
            "Epoch 17/20\n",
            "81/81 [==============================] - 1s 13ms/step - loss: 7.4371e-04 - accuracy: 1.0000 - val_loss: 0.1393 - val_accuracy: 0.9684\n",
            "Epoch 18/20\n",
            "81/81 [==============================] - 1s 13ms/step - loss: 6.2752e-04 - accuracy: 1.0000 - val_loss: 0.1389 - val_accuracy: 0.9656\n",
            "Epoch 19/20\n",
            "81/81 [==============================] - 1s 14ms/step - loss: 5.4909e-04 - accuracy: 1.0000 - val_loss: 0.1608 - val_accuracy: 0.9640\n",
            "Epoch 20/20\n",
            "81/81 [==============================] - 1s 13ms/step - loss: 6.8687e-04 - accuracy: 0.9999 - val_loss: 0.1487 - val_accuracy: 0.9676\n"
          ]
        }
      ]
    },
    {
      "cell_type": "code",
      "metadata": {
        "colab": {
          "base_uri": "https://localhost:8080/",
          "height": 442
        },
        "id": "Cmm-XULQEEXf",
        "outputId": "f40ddeec-83f4-44cd-f2a7-d5506f1826b2"
      },
      "source": [
        "# Выводим график обучения\n",
        "plt.figure(figsize=(14,7))\n",
        "plt.plot(history.history['accuracy'], \n",
        "         label='Доля верных ответов на обучающем наборе')\n",
        "plt.plot(history.history['val_accuracy'], \n",
        "         label='Доля верных ответов на проверочном наборе')\n",
        "plt.xlabel('Эпоха обучения')\n",
        "plt.ylabel('Доля верных ответов')\n",
        "plt.legend()\n",
        "plt.show()"
      ],
      "execution_count": null,
      "outputs": [
        {
          "output_type": "display_data",
          "data": {
            "image/png": "[encoded data removed]",
            "text/plain": [
              "<Figure size 1008x504 with 1 Axes>"
            ]
          },
          "metadata": {
            "needs_background": "light"
          }
        }
      ]
    },
    {
      "cell_type": "code",
      "metadata": {
        "id": "41XzT_3FC6Zp"
      },
      "source": [
        "model.save('9676.h5')"
      ],
      "execution_count": null,
      "outputs": []
    },
    {
      "cell_type": "markdown",
      "metadata": {
        "id": "oPjOwQ2N4e-N"
      },
      "source": [
        "На 16 эпохе достигнута точность 97,10 % за счет увеличения словаря до 40 000 слов,длины окна до 3000 , шага до 170 (хотя и на 150 были хорошие результаты). Можно доработать еще , дальше провести эксперименты с длиной окна и размером словаря + уменьшить lr на дообучении, но решила идти дальше по программе. Важно отметить , здесь лучше сработала простая модель сети с 2мя слоями Dense + Dropout+BatchNormalization. \n",
        "\n",
        "Я бы хотела уточнить , а возможно обучить нейронку до 97% на параметрах длины окна менее 1000 и на шаге =- 100? Какие варианты по работе с настройками при обучении НС порекомендуете?\n",
        "\n",
        "Мне потребовалось перейти на платную версию Colab, чтобы получить необходимый ресурс ОЗУ и сэкономить время."
      ]
    }
  ]
}