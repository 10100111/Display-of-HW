{
  "nbformat": 4,
  "nbformat_minor": 0,
  "metadata": {
    "colab": {
      "name": "2.Lite. \"Распознавание рукописных цифр (Университет искусственного интеллекта)",
      "provenance": [],
      "collapsed_sections": [
        "jjqH_JaURnnK",
        "c4pg0HUQCdFk",
        "MMkWv4VhC2ti",
        "iD7hR5hXNLUe",
        "rrWmNM6jKBrc",
        "rstrtRs2O1so",
        "5BUXluCMWpMB",
        "dntk9WK6TbA-",
        "6tP0Iq2NX9qK",
        "c3-PovDMb2TU",
        "n3UgLD14-l72",
        "qLX9aj3eFCPB",
        "Pa2_uq889QCz"
      ],
      "include_colab_link": true
    },
    "kernelspec": {
      "name": "python3",
      "display_name": "Python 3"
    },
    "accelerator": "GPU"
  },
  "cells": [
    {
      "cell_type": "markdown",
      "metadata": {
        "id": "view-in-github",
        "colab_type": "text"
      },
      "source": [
        "<a href=\"https://colab.research.google.com/github/10100111/Display-of-HW1/blob/main/2_Lite_%22%D0%A0%D0%B0%D1%81%D0%BF%D0%BE%D0%B7%D0%BD%D0%B0%D0%B2%D0%B0%D0%BD%D0%B8%D0%B5_%D1%80%D1%83%D0%BA%D0%BE%D0%BF%D0%B8%D1%81%D0%BD%D1%8B%D1%85_%D1%86%D0%B8%D1%84%D1%80_(%D0%A3%D0%BD%D0%B8%D0%B2%D0%B5%D1%80%D1%81%D0%B8%D1%82%D0%B5%D1%82_%D0%B8%D1%81%D0%BA%D1%83%D1%81%D1%81%D1%82%D0%B2%D0%B5%D0%BD%D0%BD%D0%BE%D0%B3%D0%BE_%D0%B8%D0%BD%D1%82%D0%B5%D0%BB%D0%BB%D0%B5%D0%BA%D1%82%D0%B0).ipynb\" target=\"_parent\"><img src=\"https://colab.research.google.com/assets/colab-badge.svg\" alt=\"Open In Colab\"/></a>"
      ]
    },
    {
      "cell_type": "markdown",
      "metadata": {
        "id": "Z4M2Jz0wo6sT"
      },
      "source": [
        "Задание Lite.\n",
        "\n",
        "Проведите серию экспериментов по перебору гиперпараметров нейронной сети, созданной на занятии.\n",
        "\n",
        "Поменяйте количество нейронов в первом скрытом слое сети, используя следующие значения:\n",
        "один слой 10 нейронов\n",
        "один слой 100 нейронов\n",
        "один слой 5000 нейронов\n",
        "Поменяйте активационную функцию во всех скрытых слоях с relu на linear.\n",
        "Поменяйте размеры batch_size:\n",
        "1\n",
        "10\n",
        "100\n",
        "вся база (60000)\n",
        "Запишите в таблицу получившиеся точности.\n",
        "Напишите выводы по результатам проведенных тестов.\n",
        " \n"
      ]
    },
    {
      "cell_type": "code",
      "metadata": {
        "id": "OAMphP-JpAxs"
      },
      "source": [
        "# 1. Импорт библиотек\n",
        "from tensorflow.keras.datasets import mnist\n",
        "from tensorflow.keras.models import Sequential\n",
        "from tensorflow.keras.layers import Dense\n",
        "from tensorflow.keras.optimizers import Adam\n",
        "from tensorflow.keras import utils\n",
        "from tensorflow.keras.preprocessing import image\n",
        "import numpy as np\n",
        "import pylab\n",
        "from mpl_toolkits.mplot3d import Axes3D\n",
        "import matplotlib.pyplot as plt\n",
        "from PIL import Image\n",
        "%matplotlib inline"
      ],
      "execution_count": null,
      "outputs": []
    },
    {
      "cell_type": "code",
      "metadata": {
        "id": "jpfvZWJqgXQq",
        "colab": {
          "base_uri": "https://localhost:8080/"
        },
        "outputId": "280f89b9-5b15-4778-bcd9-8f9ec2a3a6cf"
      },
      "source": [
        "# 2. Загрузка базы mnist\n",
        "(x_train_org, y_train_org), (x_test_org, y_test_org) = mnist.load_data()"
      ],
      "execution_count": null,
      "outputs": [
        {
          "output_type": "stream",
          "text": [
            "Downloading data from https://storage.googleapis.com/tensorflow/tf-keras-datasets/mnist.npz\n",
            "11493376/11490434 [==============================] - 0s 0us/step\n",
            "11501568/11490434 [==============================] - 0s 0us/step\n"
          ],
          "name": "stdout"
        }
      ]
    },
    {
      "cell_type": "code",
      "metadata": {
        "id": "Wq2nCNw5gnWi"
      },
      "source": [
        "# 3. Нормирование и преобразование x_train и y_train.\n",
        "x_train = x_train_org.reshape(60000, 784)\n",
        "x_test = x_test_org.reshape(10000, 784)\n",
        "x_train = x_train.astype('float32')\n",
        "x_train = x_train/255\n",
        "x_test = x_test.astype('float32')\n",
        "x_test = x_test/255\n",
        "y_train = utils.to_categorical(y_train_org,10)\n",
        "Y_test = utils.to_categorical(y_test_org,10)"
      ],
      "execution_count": null,
      "outputs": []
    },
    {
      "cell_type": "code",
      "metadata": {
        "colab": {
          "base_uri": "https://localhost:8080/"
        },
        "id": "Mh9SmfH_leXp",
        "outputId": "cda1e867-36ea-4aa7-dd22-69265fe94621"
      },
      "source": [
        "# 4.1. Создание нейронной сети скрытый слой 10 нейронов\n",
        "model_10 = Sequential()\n",
        "model_10.add(Dense(800, input_dim = 784, activation = 'relu'))\n",
        "model_10.add(Dense(10, activation = 'relu'))\n",
        "model_10.add(Dense(10, activation = 'softmax'))\n",
        "\n",
        "model_10.compile(loss = 'categorical_crossentropy', optimizer = 'adam', metrics = 'accuracy')\n",
        "print(model_10.summary())"
      ],
      "execution_count": null,
      "outputs": [
        {
          "output_type": "stream",
          "text": [
            "Model: \"sequential_2\"\n",
            "_________________________________________________________________\n",
            "Layer (type)                 Output Shape              Param #   \n",
            "=================================================================\n",
            "dense_6 (Dense)              (None, 800)               628000    \n",
            "_________________________________________________________________\n",
            "dense_7 (Dense)              (None, 10)                8010      \n",
            "_________________________________________________________________\n",
            "dense_8 (Dense)              (None, 10)                110       \n",
            "=================================================================\n",
            "Total params: 636,120\n",
            "Trainable params: 636,120\n",
            "Non-trainable params: 0\n",
            "_________________________________________________________________\n",
            "None\n"
          ],
          "name": "stdout"
        }
      ]
    },
    {
      "cell_type": "code",
      "metadata": {
        "colab": {
          "base_uri": "https://localhost:8080/"
        },
        "id": "07jnuuLgm7u-",
        "outputId": "a0b6e9e0-14be-478f-9e85-94a29acae2b3"
      },
      "source": [
        "# Обучение нейронной сети.\n",
        "model_10.fit(x_train, y_train, batch_size = 128, epochs = 15, verbose = 1)\n"
      ],
      "execution_count": null,
      "outputs": [
        {
          "output_type": "stream",
          "text": [
            "Epoch 1/15\n",
            "469/469 [==============================] - 2s 4ms/step - loss: 0.3221 - accuracy: 0.9074\n",
            "Epoch 2/15\n",
            "469/469 [==============================] - 2s 4ms/step - loss: 0.1125 - accuracy: 0.9673\n",
            "Epoch 3/15\n",
            "469/469 [==============================] - 2s 4ms/step - loss: 0.0719 - accuracy: 0.9789\n",
            "Epoch 4/15\n",
            "469/469 [==============================] - 2s 4ms/step - loss: 0.0509 - accuracy: 0.9844\n",
            "Epoch 5/15\n",
            "469/469 [==============================] - 2s 4ms/step - loss: 0.0344 - accuracy: 0.9899\n",
            "Epoch 6/15\n",
            "469/469 [==============================] - 2s 4ms/step - loss: 0.0259 - accuracy: 0.9922\n",
            "Epoch 7/15\n",
            "469/469 [==============================] - 2s 4ms/step - loss: 0.0199 - accuracy: 0.9938\n",
            "Epoch 8/15\n",
            "469/469 [==============================] - 2s 4ms/step - loss: 0.0154 - accuracy: 0.9955\n",
            "Epoch 9/15\n",
            "469/469 [==============================] - 2s 4ms/step - loss: 0.0150 - accuracy: 0.9952\n",
            "Epoch 10/15\n",
            "469/469 [==============================] - 2s 4ms/step - loss: 0.0120 - accuracy: 0.9963\n",
            "Epoch 11/15\n",
            "469/469 [==============================] - 2s 4ms/step - loss: 0.0091 - accuracy: 0.9972\n",
            "Epoch 12/15\n",
            "469/469 [==============================] - 2s 4ms/step - loss: 0.0092 - accuracy: 0.9970\n",
            "Epoch 13/15\n",
            "469/469 [==============================] - 2s 4ms/step - loss: 0.0083 - accuracy: 0.9974\n",
            "Epoch 14/15\n",
            "469/469 [==============================] - 2s 4ms/step - loss: 0.0057 - accuracy: 0.9983\n",
            "Epoch 15/15\n",
            "469/469 [==============================] - 2s 4ms/step - loss: 0.0063 - accuracy: 0.9980\n"
          ],
          "name": "stdout"
        },
        {
          "output_type": "execute_result",
          "data": {
            "text/plain": [
              "<keras.callbacks.History at 0x7f3f30217a50>"
            ]
          },
          "metadata": {},
          "execution_count": 9
        }
      ]
    },
    {
      "cell_type": "code",
      "metadata": {
        "colab": {
          "base_uri": "https://localhost:8080/"
        },
        "id": "J3vlZLHpweF5",
        "outputId": "d8f88c5f-477a-431a-b24f-cddea5df0ffc"
      },
      "source": [
        "# 4.2. Создание нейронной сети скрытый слой 100 нейронов\n",
        "model_100 = Sequential()\n",
        "model_100.add(Dense(800, input_dim = 784, activation = 'relu'))\n",
        "model_100.add(Dense(100, activation = 'relu'))\n",
        "model_100.add(Dense(10, activation = 'softmax'))\n",
        "\n",
        "model_100.compile(loss = 'categorical_crossentropy', optimizer = 'adam', metrics = 'accuracy')\n",
        "print(model_100.summary())"
      ],
      "execution_count": null,
      "outputs": [
        {
          "output_type": "stream",
          "text": [
            "Model: \"sequential_3\"\n",
            "_________________________________________________________________\n",
            "Layer (type)                 Output Shape              Param #   \n",
            "=================================================================\n",
            "dense_9 (Dense)              (None, 800)               628000    \n",
            "_________________________________________________________________\n",
            "dense_10 (Dense)             (None, 100)               80100     \n",
            "_________________________________________________________________\n",
            "dense_11 (Dense)             (None, 10)                1010      \n",
            "=================================================================\n",
            "Total params: 709,110\n",
            "Trainable params: 709,110\n",
            "Non-trainable params: 0\n",
            "_________________________________________________________________\n",
            "None\n"
          ],
          "name": "stdout"
        }
      ]
    },
    {
      "cell_type": "code",
      "metadata": {
        "colab": {
          "base_uri": "https://localhost:8080/"
        },
        "id": "Uju88CQTxOyj",
        "outputId": "456318ac-baf2-43e8-ec7e-6e9ef281ffcb"
      },
      "source": [
        "# Обучение нейронной сети.\n",
        "model_100.fit(x_train, y_train, batch_size = 128, epochs = 15, verbose = 1)"
      ],
      "execution_count": null,
      "outputs": [
        {
          "output_type": "stream",
          "text": [
            "Epoch 1/15\n",
            "469/469 [==============================] - 2s 4ms/step - loss: 0.2201 - accuracy: 0.9351\n",
            "Epoch 2/15\n",
            "469/469 [==============================] - 2s 4ms/step - loss: 0.0809 - accuracy: 0.9757\n",
            "Epoch 3/15\n",
            "469/469 [==============================] - 2s 4ms/step - loss: 0.0507 - accuracy: 0.9839\n",
            "Epoch 4/15\n",
            "469/469 [==============================] - 2s 4ms/step - loss: 0.0340 - accuracy: 0.9891\n",
            "Epoch 5/15\n",
            "469/469 [==============================] - 2s 4ms/step - loss: 0.0255 - accuracy: 0.9917\n",
            "Epoch 6/15\n",
            "469/469 [==============================] - 2s 4ms/step - loss: 0.0202 - accuracy: 0.9936\n",
            "Epoch 7/15\n",
            "469/469 [==============================] - 2s 4ms/step - loss: 0.0169 - accuracy: 0.9944\n",
            "Epoch 8/15\n",
            "469/469 [==============================] - 2s 4ms/step - loss: 0.0150 - accuracy: 0.9954\n",
            "Epoch 9/15\n",
            "469/469 [==============================] - 2s 4ms/step - loss: 0.0141 - accuracy: 0.9954\n",
            "Epoch 10/15\n",
            "469/469 [==============================] - 2s 4ms/step - loss: 0.0107 - accuracy: 0.9964\n",
            "Epoch 11/15\n",
            "469/469 [==============================] - 2s 4ms/step - loss: 0.0127 - accuracy: 0.9956\n",
            "Epoch 12/15\n",
            "469/469 [==============================] - 2s 5ms/step - loss: 0.0097 - accuracy: 0.9968\n",
            "Epoch 13/15\n",
            "469/469 [==============================] - 2s 4ms/step - loss: 0.0098 - accuracy: 0.9967\n",
            "Epoch 14/15\n",
            "469/469 [==============================] - 2s 4ms/step - loss: 0.0105 - accuracy: 0.9966\n",
            "Epoch 15/15\n",
            "469/469 [==============================] - 2s 4ms/step - loss: 0.0060 - accuracy: 0.9982\n"
          ],
          "name": "stdout"
        },
        {
          "output_type": "execute_result",
          "data": {
            "text/plain": [
              "<keras.callbacks.History at 0x7f3f300cc810>"
            ]
          },
          "metadata": {},
          "execution_count": 11
        }
      ]
    },
    {
      "cell_type": "code",
      "metadata": {
        "colab": {
          "base_uri": "https://localhost:8080/"
        },
        "id": "DZyaIfKdxTrZ",
        "outputId": "b57eaf79-6fba-4c0e-e7b3-e14c317edcd5"
      },
      "source": [
        "# 4.3. Создание нейронной сети скрытый слой 100 нейронов\n",
        "model_5000 = Sequential()\n",
        "model_5000.add(Dense(800, input_dim = 784, activation = 'relu'))\n",
        "model_5000.add(Dense(5000, activation = 'relu'))\n",
        "model_5000.add(Dense(10, activation = 'softmax'))\n",
        "\n",
        "model_5000.compile(loss = 'categorical_crossentropy', optimizer = 'adam', metrics = 'accuracy')\n",
        "print(model_5000.summary())"
      ],
      "execution_count": null,
      "outputs": [
        {
          "output_type": "stream",
          "text": [
            "Model: \"sequential_4\"\n",
            "_________________________________________________________________\n",
            "Layer (type)                 Output Shape              Param #   \n",
            "=================================================================\n",
            "dense_12 (Dense)             (None, 800)               628000    \n",
            "_________________________________________________________________\n",
            "dense_13 (Dense)             (None, 5000)              4005000   \n",
            "_________________________________________________________________\n",
            "dense_14 (Dense)             (None, 10)                50010     \n",
            "=================================================================\n",
            "Total params: 4,683,010\n",
            "Trainable params: 4,683,010\n",
            "Non-trainable params: 0\n",
            "_________________________________________________________________\n",
            "None\n"
          ],
          "name": "stdout"
        }
      ]
    },
    {
      "cell_type": "code",
      "metadata": {
        "colab": {
          "base_uri": "https://localhost:8080/"
        },
        "id": "XBs1x96txiFM",
        "outputId": "157b2782-e057-4c9c-ef30-556bca6133fb"
      },
      "source": [
        "# Обучение нейронной сети.\n",
        "model_5000.fit(x_train, y_train, batch_size = 128, epochs = 15, verbose = 1)"
      ],
      "execution_count": null,
      "outputs": [
        {
          "output_type": "stream",
          "text": [
            "Epoch 1/15\n",
            "469/469 [==============================] - 4s 7ms/step - loss: 0.1833 - accuracy: 0.9436\n",
            "Epoch 2/15\n",
            "469/469 [==============================] - 3s 6ms/step - loss: 0.0733 - accuracy: 0.9772\n",
            "Epoch 3/15\n",
            "469/469 [==============================] - 3s 6ms/step - loss: 0.0539 - accuracy: 0.9827\n",
            "Epoch 4/15\n",
            "469/469 [==============================] - 3s 6ms/step - loss: 0.0367 - accuracy: 0.9881\n",
            "Epoch 5/15\n",
            "469/469 [==============================] - 3s 6ms/step - loss: 0.0315 - accuracy: 0.9895\n",
            "Epoch 6/15\n",
            "469/469 [==============================] - 3s 6ms/step - loss: 0.0273 - accuracy: 0.9915\n",
            "Epoch 7/15\n",
            "469/469 [==============================] - 3s 6ms/step - loss: 0.0192 - accuracy: 0.9938\n",
            "Epoch 8/15\n",
            "469/469 [==============================] - 3s 7ms/step - loss: 0.0238 - accuracy: 0.9927\n",
            "Epoch 9/15\n",
            "469/469 [==============================] - 3s 6ms/step - loss: 0.0201 - accuracy: 0.9939\n",
            "Epoch 10/15\n",
            "469/469 [==============================] - 3s 6ms/step - loss: 0.0149 - accuracy: 0.9952\n",
            "Epoch 11/15\n",
            "469/469 [==============================] - 3s 6ms/step - loss: 0.0204 - accuracy: 0.9937\n",
            "Epoch 12/15\n",
            "469/469 [==============================] - 3s 7ms/step - loss: 0.0119 - accuracy: 0.9962\n",
            "Epoch 13/15\n",
            "469/469 [==============================] - 3s 7ms/step - loss: 0.0178 - accuracy: 0.9946\n",
            "Epoch 14/15\n",
            "469/469 [==============================] - 3s 7ms/step - loss: 0.0139 - accuracy: 0.9962\n",
            "Epoch 15/15\n",
            "469/469 [==============================] - 3s 7ms/step - loss: 0.0123 - accuracy: 0.9965\n"
          ],
          "name": "stdout"
        },
        {
          "output_type": "execute_result",
          "data": {
            "text/plain": [
              "<keras.callbacks.History at 0x7f3eed961d50>"
            ]
          },
          "metadata": {},
          "execution_count": 13
        }
      ]
    },
    {
      "cell_type": "code",
      "metadata": {
        "colab": {
          "base_uri": "https://localhost:8080/"
        },
        "id": "dgCE1Ud2x1AG",
        "outputId": "0cdfdda8-168f-4492-96e0-6c9ee05c9dd3"
      },
      "source": [
        "# 4.4. Создание нейронной сети скрытый слой 10 нейронов, активационная функцию во всех скрытых слоях linear\n",
        "model_10_linear = Sequential()\n",
        "model_10_linear.add(Dense(800, input_dim = 784, activation = 'relu'))\n",
        "model_10_linear.add(Dense(10, activation = 'linear'))\n",
        "model_10_linear.add(Dense(10, activation = 'softmax'))\n",
        "\n",
        "model_10_linear.compile(loss = 'categorical_crossentropy', optimizer = 'adam', metrics = 'accuracy')\n",
        "\n",
        "# Обучение нейронной сети.\n",
        "model_10_linear.fit(x_train, y_train, batch_size = 128, epochs = 15, verbose = 1)"
      ],
      "execution_count": null,
      "outputs": [
        {
          "output_type": "stream",
          "text": [
            "Epoch 1/15\n",
            "469/469 [==============================] - 2s 4ms/step - loss: 0.2746 - accuracy: 0.9206\n",
            "Epoch 2/15\n",
            "469/469 [==============================] - 2s 4ms/step - loss: 0.1033 - accuracy: 0.9694\n",
            "Epoch 3/15\n",
            "469/469 [==============================] - 2s 4ms/step - loss: 0.0661 - accuracy: 0.9805\n",
            "Epoch 4/15\n",
            "469/469 [==============================] - 2s 4ms/step - loss: 0.0467 - accuracy: 0.9862\n",
            "Epoch 5/15\n",
            "469/469 [==============================] - 2s 4ms/step - loss: 0.0329 - accuracy: 0.9902\n",
            "Epoch 6/15\n",
            "469/469 [==============================] - 2s 4ms/step - loss: 0.0252 - accuracy: 0.9924\n",
            "Epoch 7/15\n",
            "469/469 [==============================] - 2s 4ms/step - loss: 0.0177 - accuracy: 0.9945\n",
            "Epoch 8/15\n",
            "469/469 [==============================] - 2s 4ms/step - loss: 0.0131 - accuracy: 0.9963\n",
            "Epoch 9/15\n",
            "469/469 [==============================] - 2s 4ms/step - loss: 0.0134 - accuracy: 0.9958\n",
            "Epoch 10/15\n",
            "469/469 [==============================] - 2s 4ms/step - loss: 0.0103 - accuracy: 0.9967\n",
            "Epoch 11/15\n",
            "469/469 [==============================] - 2s 4ms/step - loss: 0.0110 - accuracy: 0.9966\n",
            "Epoch 12/15\n",
            "469/469 [==============================] - 2s 4ms/step - loss: 0.0076 - accuracy: 0.9976\n",
            "Epoch 13/15\n",
            "469/469 [==============================] - 2s 4ms/step - loss: 0.0071 - accuracy: 0.9977\n",
            "Epoch 14/15\n",
            "469/469 [==============================] - 2s 4ms/step - loss: 0.0064 - accuracy: 0.9978\n",
            "Epoch 15/15\n",
            "469/469 [==============================] - 2s 4ms/step - loss: 0.0067 - accuracy: 0.9977\n"
          ],
          "name": "stdout"
        },
        {
          "output_type": "execute_result",
          "data": {
            "text/plain": [
              "<keras.callbacks.History at 0x7f3eed631710>"
            ]
          },
          "metadata": {},
          "execution_count": 17
        }
      ]
    },
    {
      "cell_type": "code",
      "metadata": {
        "colab": {
          "base_uri": "https://localhost:8080/"
        },
        "id": "Th3Rq4S7zAmc",
        "outputId": "c232eedf-fc38-4eaf-9954-3b4523fa3fbc"
      },
      "source": [
        "# 4.5. Создание нейронной сети скрытый слой 100 нейронов, активационная функцию во всех скрытых слоях linear\n",
        "model_100_linear = Sequential()\n",
        "model_100_linear.add(Dense(800, input_dim = 784, activation = 'relu'))\n",
        "model_100_linear.add(Dense(100, activation = 'linear'))\n",
        "model_100_linear.add(Dense(10, activation = 'softmax'))\n",
        "\n",
        "model_100_linear.compile(loss = 'categorical_crossentropy', optimizer = 'adam', metrics = 'accuracy')\n",
        "\n",
        "# Обучение нейронной сети.\n",
        "model_100_linear.fit(x_train, y_train, batch_size = 128, epochs = 15, verbose = 1)"
      ],
      "execution_count": null,
      "outputs": [
        {
          "output_type": "stream",
          "text": [
            "Epoch 1/15\n",
            "469/469 [==============================] - 2s 4ms/step - loss: 0.2120 - accuracy: 0.9371\n",
            "Epoch 2/15\n",
            "469/469 [==============================] - 2s 4ms/step - loss: 0.0783 - accuracy: 0.9754\n",
            "Epoch 3/15\n",
            "469/469 [==============================] - 2s 4ms/step - loss: 0.0498 - accuracy: 0.9840\n",
            "Epoch 4/15\n",
            "469/469 [==============================] - 2s 4ms/step - loss: 0.0346 - accuracy: 0.9884\n",
            "Epoch 5/15\n",
            "469/469 [==============================] - 2s 4ms/step - loss: 0.0237 - accuracy: 0.9925\n",
            "Epoch 6/15\n",
            "469/469 [==============================] - 2s 4ms/step - loss: 0.0199 - accuracy: 0.9934\n",
            "Epoch 7/15\n",
            "469/469 [==============================] - 2s 4ms/step - loss: 0.0210 - accuracy: 0.9931\n",
            "Epoch 8/15\n",
            "469/469 [==============================] - 2s 4ms/step - loss: 0.0182 - accuracy: 0.9937\n",
            "Epoch 9/15\n",
            "469/469 [==============================] - 2s 4ms/step - loss: 0.0145 - accuracy: 0.9948\n",
            "Epoch 10/15\n",
            "469/469 [==============================] - 2s 4ms/step - loss: 0.0152 - accuracy: 0.9948\n",
            "Epoch 11/15\n",
            "469/469 [==============================] - 2s 4ms/step - loss: 0.0087 - accuracy: 0.9970\n",
            "Epoch 12/15\n",
            "469/469 [==============================] - 2s 4ms/step - loss: 0.0131 - accuracy: 0.9959\n",
            "Epoch 13/15\n",
            "469/469 [==============================] - 2s 4ms/step - loss: 0.0119 - accuracy: 0.9959\n",
            "Epoch 14/15\n",
            "469/469 [==============================] - 2s 4ms/step - loss: 0.0096 - accuracy: 0.9970\n",
            "Epoch 15/15\n",
            "469/469 [==============================] - 2s 4ms/step - loss: 0.0120 - accuracy: 0.9962\n"
          ],
          "name": "stdout"
        },
        {
          "output_type": "execute_result",
          "data": {
            "text/plain": [
              "<keras.callbacks.History at 0x7f3eed35f350>"
            ]
          },
          "metadata": {},
          "execution_count": 20
        }
      ]
    },
    {
      "cell_type": "code",
      "metadata": {
        "colab": {
          "base_uri": "https://localhost:8080/"
        },
        "id": "3i9mh4PuzOgO",
        "outputId": "bcbd3ccf-3395-47c8-d847-4f029eb3bd18"
      },
      "source": [
        "# 4.6. Создание нейронной сети скрытый слой 5000 нейронов, активационная функцию во всех скрытых слоях linear\n",
        "model_5000_linear = Sequential()\n",
        "model_5000_linear.add(Dense(800, input_dim = 784, activation = 'relu'))\n",
        "model_5000_linear.add(Dense(5000, activation = 'linear'))\n",
        "model_5000_linear.add(Dense(10, activation = 'softmax'))\n",
        "\n",
        "model_5000_linear.compile(loss = 'categorical_crossentropy', optimizer = 'adam', metrics = 'accuracy')\n",
        "\n",
        "# Обучение нейронной сети.\n",
        "model_5000_linear.fit(x_train, y_train, batch_size = 128, epochs = 15, verbose = 1)"
      ],
      "execution_count": null,
      "outputs": [
        {
          "output_type": "stream",
          "text": [
            "Epoch 1/15\n",
            "469/469 [==============================] - 4s 8ms/step - loss: 0.1966 - accuracy: 0.9396\n",
            "Epoch 2/15\n",
            "469/469 [==============================] - 4s 8ms/step - loss: 0.0847 - accuracy: 0.9741\n",
            "Epoch 3/15\n",
            "469/469 [==============================] - 4s 8ms/step - loss: 0.0649 - accuracy: 0.9798\n",
            "Epoch 4/15\n",
            "469/469 [==============================] - 4s 8ms/step - loss: 0.0496 - accuracy: 0.9850\n",
            "Epoch 5/15\n",
            "469/469 [==============================] - 4s 7ms/step - loss: 0.0478 - accuracy: 0.9856\n",
            "Epoch 6/15\n",
            "469/469 [==============================] - 3s 7ms/step - loss: 0.0394 - accuracy: 0.9879\n",
            "Epoch 7/15\n",
            "469/469 [==============================] - 3s 7ms/step - loss: 0.0416 - accuracy: 0.9874\n",
            "Epoch 8/15\n",
            "469/469 [==============================] - 3s 7ms/step - loss: 0.0332 - accuracy: 0.9905\n",
            "Epoch 9/15\n",
            "469/469 [==============================] - 3s 7ms/step - loss: 0.0351 - accuracy: 0.9906\n",
            "Epoch 10/15\n",
            "469/469 [==============================] - 3s 7ms/step - loss: 0.0310 - accuracy: 0.9913\n",
            "Epoch 11/15\n",
            "469/469 [==============================] - 3s 7ms/step - loss: 0.0283 - accuracy: 0.9921\n",
            "Epoch 12/15\n",
            "469/469 [==============================] - 3s 7ms/step - loss: 0.0291 - accuracy: 0.9927\n",
            "Epoch 13/15\n",
            "469/469 [==============================] - 3s 7ms/step - loss: 0.0270 - accuracy: 0.9924\n",
            "Epoch 14/15\n",
            "469/469 [==============================] - 3s 7ms/step - loss: 0.0249 - accuracy: 0.9929\n",
            "Epoch 15/15\n",
            "469/469 [==============================] - 3s 7ms/step - loss: 0.0284 - accuracy: 0.9927\n"
          ],
          "name": "stdout"
        },
        {
          "output_type": "execute_result",
          "data": {
            "text/plain": [
              "<keras.callbacks.History at 0x7f3eed211890>"
            ]
          },
          "metadata": {},
          "execution_count": 21
        }
      ]
    },
    {
      "cell_type": "code",
      "metadata": {
        "colab": {
          "base_uri": "https://localhost:8080/"
        },
        "id": "H2s5ZGah0Nuk",
        "outputId": "018d41cb-0f9a-43e5-e5dc-78afc988b99a"
      },
      "source": [
        "# 4.7.1.Поменяли размеры batch_size = 1\n",
        "\n",
        "model_10_bs1 = Sequential()\n",
        "model_10_bs1.add(Dense(800, input_dim = 784, activation = 'relu'))\n",
        "model_10_bs1.add(Dense(10, activation = 'relu'))\n",
        "model_10_bs1.add(Dense(10, activation = 'softmax'))\n",
        "\n",
        "model_10_bs1.compile(loss = 'categorical_crossentropy', optimizer = 'adam', metrics = 'accuracy')\n",
        "# Обучение нейронной сети.\n",
        "model_10_bs1.fit(x_train, y_train, batch_size = 1, epochs = 15, verbose = 1)\n",
        "\n"
      ],
      "execution_count": null,
      "outputs": [
        {
          "output_type": "stream",
          "text": [
            "Epoch 1/15\n",
            "60000/60000 [==============================] - 162s 3ms/step - loss: 0.3305 - accuracy: 0.9105\n",
            "Epoch 2/15\n",
            "60000/60000 [==============================] - 163s 3ms/step - loss: 0.1507 - accuracy: 0.9622\n",
            "Epoch 3/15\n",
            "60000/60000 [==============================] - 162s 3ms/step - loss: 0.1228 - accuracy: 0.9708\n",
            "Epoch 4/15\n",
            "60000/60000 [==============================] - 164s 3ms/step - loss: 0.1083 - accuracy: 0.9755\n",
            "Epoch 5/15\n",
            "60000/60000 [==============================] - 165s 3ms/step - loss: 0.1002 - accuracy: 0.9777\n",
            "Epoch 6/15\n",
            "60000/60000 [==============================] - 164s 3ms/step - loss: 0.0897 - accuracy: 0.9805\n",
            "Epoch 7/15\n",
            "60000/60000 [==============================] - 163s 3ms/step - loss: 0.0846 - accuracy: 0.9822\n",
            "Epoch 8/15\n",
            "60000/60000 [==============================] - 159s 3ms/step - loss: 0.0851 - accuracy: 0.9831\n",
            "Epoch 9/15\n",
            "60000/60000 [==============================] - 163s 3ms/step - loss: 0.0778 - accuracy: 0.9850\n",
            "Epoch 10/15\n",
            "60000/60000 [==============================] - 162s 3ms/step - loss: 0.0810 - accuracy: 0.9857\n",
            "Epoch 11/15\n",
            "60000/60000 [==============================] - 166s 3ms/step - loss: 0.0757 - accuracy: 0.9862\n",
            "Epoch 12/15\n",
            "60000/60000 [==============================] - 164s 3ms/step - loss: 0.0750 - accuracy: 0.9872\n",
            "Epoch 13/15\n",
            "60000/60000 [==============================] - 169s 3ms/step - loss: 0.0840 - accuracy: 0.9862\n",
            "Epoch 14/15\n",
            "60000/60000 [==============================] - 160s 3ms/step - loss: 0.0756 - accuracy: 0.9875\n",
            "Epoch 15/15\n",
            "60000/60000 [==============================] - 161s 3ms/step - loss: 0.0825 - accuracy: 0.9865\n"
          ],
          "name": "stdout"
        },
        {
          "output_type": "execute_result",
          "data": {
            "text/plain": [
              "<keras.callbacks.History at 0x7f3ee5f53bd0>"
            ]
          },
          "metadata": {},
          "execution_count": 24
        }
      ]
    },
    {
      "cell_type": "code",
      "metadata": {
        "colab": {
          "base_uri": "https://localhost:8080/"
        },
        "id": "X1383bCp5dIz",
        "outputId": "ad93363f-43e3-4d74-ed15-811b927b1d03"
      },
      "source": [
        "model_100_bs1 = Sequential()\n",
        "model_100_bs1.add(Dense(800, input_dim = 784, activation = 'relu'))\n",
        "model_100_bs1.add(Dense(100, activation = 'relu'))\n",
        "model_100_bs1.add(Dense(10, activation = 'softmax'))\n",
        "\n",
        "model_100_bs1.compile(loss = 'categorical_crossentropy', optimizer = 'adam', metrics = 'accuracy')\n",
        "# Обучение нейронной сети.\n",
        "model_100_bs1.fit(x_train, y_train, batch_size = 1, epochs = 15, verbose = 1)\n"
      ],
      "execution_count": null,
      "outputs": [
        {
          "output_type": "stream",
          "text": [
            "Epoch 1/15\n",
            "60000/60000 [==============================] - 163s 3ms/step - loss: 0.2546 - accuracy: 0.9306\n",
            "Epoch 2/15\n",
            "60000/60000 [==============================] - 163s 3ms/step - loss: 0.1829 - accuracy: 0.9576\n",
            "Epoch 3/15\n",
            "60000/60000 [==============================] - 163s 3ms/step - loss: 0.1652 - accuracy: 0.9639\n",
            "Epoch 4/15\n",
            "60000/60000 [==============================] - 163s 3ms/step - loss: 0.1467 - accuracy: 0.9686\n",
            "Epoch 5/15\n",
            "60000/60000 [==============================] - 161s 3ms/step - loss: 0.1403 - accuracy: 0.9729\n",
            "Epoch 6/15\n",
            "60000/60000 [==============================] - 162s 3ms/step - loss: 0.1350 - accuracy: 0.9735\n",
            "Epoch 7/15\n",
            "60000/60000 [==============================] - 167s 3ms/step - loss: 0.1410 - accuracy: 0.9754\n",
            "Epoch 8/15\n",
            "60000/60000 [==============================] - 168s 3ms/step - loss: 0.1313 - accuracy: 0.9762\n",
            "Epoch 9/15\n",
            "60000/60000 [==============================] - 164s 3ms/step - loss: 0.1463 - accuracy: 0.9755\n",
            "Epoch 10/15\n",
            "60000/60000 [==============================] - 162s 3ms/step - loss: 0.1461 - accuracy: 0.9764\n",
            "Epoch 11/15\n",
            "60000/60000 [==============================] - 165s 3ms/step - loss: 0.1380 - accuracy: 0.9769\n",
            "Epoch 12/15\n",
            "60000/60000 [==============================] - 167s 3ms/step - loss: 0.1607 - accuracy: 0.9761\n",
            "Epoch 13/15\n",
            "60000/60000 [==============================] - 169s 3ms/step - loss: 0.1536 - accuracy: 0.9757\n",
            "Epoch 14/15\n",
            "60000/60000 [==============================] - 164s 3ms/step - loss: 0.1435 - accuracy: 0.9766\n",
            "Epoch 15/15\n",
            "60000/60000 [==============================] - 160s 3ms/step - loss: 0.1661 - accuracy: 0.9768\n"
          ],
          "name": "stdout"
        },
        {
          "output_type": "execute_result",
          "data": {
            "text/plain": [
              "<keras.callbacks.History at 0x7f3ee5e1be50>"
            ]
          },
          "metadata": {},
          "execution_count": 25
        }
      ]
    },
    {
      "cell_type": "code",
      "metadata": {
        "colab": {
          "base_uri": "https://localhost:8080/"
        },
        "id": "fZMotCbc6NJs",
        "outputId": "5c7d31c8-4966-43c2-e236-f57df671d8b9"
      },
      "source": [
        "model_5000_bs1 = Sequential()\n",
        "model_5000_bs1.add(Dense(800, input_dim = 784, activation = 'relu'))\n",
        "model_5000_bs1.add(Dense(5000, activation = 'relu'))\n",
        "model_5000_bs1.add(Dense(10, activation = 'softmax'))\n",
        "\n",
        "model_5000_bs1.compile(loss = 'categorical_crossentropy', optimizer = 'adam', metrics = 'accuracy')\n",
        "# Обучение нейронной сети.\n",
        "model_5000_bs1.fit(x_train, y_train, batch_size = 1, epochs = 15, verbose = 1)\n"
      ],
      "execution_count": null,
      "outputs": [
        {
          "output_type": "stream",
          "text": [
            "Epoch 1/15\n",
            "60000/60000 [==============================] - 272s 5ms/step - loss: 0.3265 - accuracy: 0.9184\n",
            "Epoch 2/15\n",
            "60000/60000 [==============================] - 273s 5ms/step - loss: 0.2068 - accuracy: 0.9552\n",
            "Epoch 3/15\n",
            "60000/60000 [==============================] - 270s 5ms/step - loss: 0.1766 - accuracy: 0.9628\n",
            "Epoch 4/15\n",
            "60000/60000 [==============================] - 269s 4ms/step - loss: 0.1643 - accuracy: 0.9668\n",
            "Epoch 5/15\n",
            "60000/60000 [==============================] - 268s 4ms/step - loss: 0.1513 - accuracy: 0.9705\n",
            "Epoch 6/15\n",
            "60000/60000 [==============================] - 272s 5ms/step - loss: 0.1385 - accuracy: 0.9712\n",
            "Epoch 7/15\n",
            "60000/60000 [==============================] - 275s 5ms/step - loss: 0.1446 - accuracy: 0.9728\n",
            "Epoch 8/15\n",
            "60000/60000 [==============================] - 275s 5ms/step - loss: 0.1365 - accuracy: 0.9752\n",
            "Epoch 9/15\n",
            "60000/60000 [==============================] - 270s 4ms/step - loss: 0.1351 - accuracy: 0.9769\n",
            "Epoch 10/15\n",
            "60000/60000 [==============================] - 270s 4ms/step - loss: 0.1353 - accuracy: 0.9765\n",
            "Epoch 11/15\n",
            "60000/60000 [==============================] - 272s 5ms/step - loss: 0.1389 - accuracy: 0.9771\n",
            "Epoch 12/15\n",
            "60000/60000 [==============================] - 272s 5ms/step - loss: 0.1348 - accuracy: 0.9768\n",
            "Epoch 13/15\n",
            "60000/60000 [==============================] - 273s 5ms/step - loss: 0.1301 - accuracy: 0.9786\n",
            "Epoch 14/15\n",
            "60000/60000 [==============================] - 276s 5ms/step - loss: 0.1262 - accuracy: 0.9784\n",
            "Epoch 15/15\n",
            "60000/60000 [==============================] - 279s 5ms/step - loss: 0.1333 - accuracy: 0.9786\n"
          ],
          "name": "stdout"
        },
        {
          "output_type": "execute_result",
          "data": {
            "text/plain": [
              "<keras.callbacks.History at 0x7f3ee5cd17d0>"
            ]
          },
          "metadata": {},
          "execution_count": 26
        }
      ]
    },
    {
      "cell_type": "code",
      "metadata": {
        "colab": {
          "base_uri": "https://localhost:8080/"
        },
        "id": "zbnW4fF86-LA",
        "outputId": "bc0dfa92-e4d7-4dc0-d8d5-f03d1aba75a3"
      },
      "source": [
        "# 4.7.2.Поменяли размеры batch_size = 10\n",
        "\n",
        "model_10_bs10 = Sequential()\n",
        "model_10_bs10.add(Dense(800, input_dim = 784, activation = 'relu'))\n",
        "model_10_bs10.add(Dense(10, activation = 'relu'))\n",
        "model_10_bs10.add(Dense(10, activation = 'softmax'))\n",
        "\n",
        "model_10_bs10.compile(loss = 'categorical_crossentropy', optimizer = 'adam', metrics = 'accuracy')\n",
        "# Обучение нейронной сети.\n",
        "model_10_bs10.fit(x_train, y_train, batch_size = 10, epochs = 15, verbose = 1)"
      ],
      "execution_count": null,
      "outputs": [
        {
          "output_type": "stream",
          "text": [
            "Epoch 1/15\n",
            "6000/6000 [==============================] - 20s 3ms/step - loss: 0.2214 - accuracy: 0.9346\n",
            "Epoch 2/15\n",
            "6000/6000 [==============================] - 20s 3ms/step - loss: 0.0930 - accuracy: 0.9714\n",
            "Epoch 3/15\n",
            "6000/6000 [==============================] - 20s 3ms/step - loss: 0.0633 - accuracy: 0.9811\n",
            "Epoch 4/15\n",
            "6000/6000 [==============================] - 20s 3ms/step - loss: 0.0506 - accuracy: 0.9842\n",
            "Epoch 5/15\n",
            "6000/6000 [==============================] - 20s 3ms/step - loss: 0.0401 - accuracy: 0.9882\n",
            "Epoch 6/15\n",
            "6000/6000 [==============================] - 20s 3ms/step - loss: 0.0324 - accuracy: 0.9901\n",
            "Epoch 7/15\n",
            "6000/6000 [==============================] - 20s 3ms/step - loss: 0.0273 - accuracy: 0.9916\n",
            "Epoch 8/15\n",
            "6000/6000 [==============================] - 20s 3ms/step - loss: 0.0251 - accuracy: 0.9925\n",
            "Epoch 9/15\n",
            "6000/6000 [==============================] - 20s 3ms/step - loss: 0.0226 - accuracy: 0.9930\n",
            "Epoch 10/15\n",
            "6000/6000 [==============================] - 20s 3ms/step - loss: 0.0211 - accuracy: 0.9937\n",
            "Epoch 11/15\n",
            "6000/6000 [==============================] - 20s 3ms/step - loss: 0.0194 - accuracy: 0.9943\n",
            "Epoch 12/15\n",
            "6000/6000 [==============================] - 20s 3ms/step - loss: 0.0165 - accuracy: 0.9953\n",
            "Epoch 13/15\n",
            "6000/6000 [==============================] - 20s 3ms/step - loss: 0.0161 - accuracy: 0.9952\n",
            "Epoch 14/15\n",
            "6000/6000 [==============================] - 20s 3ms/step - loss: 0.0148 - accuracy: 0.9953\n",
            "Epoch 15/15\n",
            "6000/6000 [==============================] - 20s 3ms/step - loss: 0.0144 - accuracy: 0.9960\n"
          ],
          "name": "stdout"
        },
        {
          "output_type": "execute_result",
          "data": {
            "text/plain": [
              "<keras.callbacks.History at 0x7f3ee5cc4250>"
            ]
          },
          "metadata": {},
          "execution_count": 27
        }
      ]
    },
    {
      "cell_type": "code",
      "metadata": {
        "colab": {
          "base_uri": "https://localhost:8080/"
        },
        "id": "WPYQg8Pk7KEE",
        "outputId": "45569fda-336d-42c2-d5d5-3e1fbbe792f8"
      },
      "source": [
        "model_100_bs10 = Sequential()\n",
        "model_100_bs10.add(Dense(800, input_dim = 784, activation = 'relu'))\n",
        "model_100_bs10.add(Dense(100, activation = 'relu'))\n",
        "model_100_bs10.add(Dense(10, activation = 'softmax'))\n",
        "\n",
        "model_100_bs10.compile(loss = 'categorical_crossentropy', optimizer = 'adam', metrics = 'accuracy')\n",
        "# Обучение нейронной сети.\n",
        "model_100_bs10.fit(x_train, y_train, batch_size = 10, epochs = 15, verbose = 1)"
      ],
      "execution_count": null,
      "outputs": [
        {
          "output_type": "stream",
          "text": [
            "Epoch 1/15\n",
            "6000/6000 [==============================] - 21s 3ms/step - loss: 0.1838 - accuracy: 0.9440\n",
            "Epoch 2/15\n",
            "6000/6000 [==============================] - 21s 3ms/step - loss: 0.0893 - accuracy: 0.9725\n",
            "Epoch 3/15\n",
            "6000/6000 [==============================] - 21s 3ms/step - loss: 0.0641 - accuracy: 0.9812\n",
            "Epoch 4/15\n",
            "6000/6000 [==============================] - 21s 3ms/step - loss: 0.0500 - accuracy: 0.9846\n",
            "Epoch 5/15\n",
            "6000/6000 [==============================] - 21s 3ms/step - loss: 0.0433 - accuracy: 0.9867\n",
            "Epoch 6/15\n",
            "6000/6000 [==============================] - 20s 3ms/step - loss: 0.0368 - accuracy: 0.9887\n",
            "Epoch 7/15\n",
            "6000/6000 [==============================] - 20s 3ms/step - loss: 0.0310 - accuracy: 0.9911\n",
            "Epoch 8/15\n",
            "6000/6000 [==============================] - 20s 3ms/step - loss: 0.0304 - accuracy: 0.9914\n",
            "Epoch 9/15\n",
            "6000/6000 [==============================] - 20s 3ms/step - loss: 0.0260 - accuracy: 0.9926\n",
            "Epoch 10/15\n",
            "6000/6000 [==============================] - 20s 3ms/step - loss: 0.0247 - accuracy: 0.9931\n",
            "Epoch 11/15\n",
            "6000/6000 [==============================] - 21s 3ms/step - loss: 0.0254 - accuracy: 0.9938\n",
            "Epoch 12/15\n",
            "6000/6000 [==============================] - 21s 3ms/step - loss: 0.0246 - accuracy: 0.9941\n",
            "Epoch 13/15\n",
            "6000/6000 [==============================] - 21s 3ms/step - loss: 0.0251 - accuracy: 0.9936\n",
            "Epoch 14/15\n",
            "6000/6000 [==============================] - 21s 3ms/step - loss: 0.0194 - accuracy: 0.9950\n",
            "Epoch 15/15\n",
            "6000/6000 [==============================] - 20s 3ms/step - loss: 0.0224 - accuracy: 0.9951\n"
          ],
          "name": "stdout"
        },
        {
          "output_type": "execute_result",
          "data": {
            "text/plain": [
              "<keras.callbacks.History at 0x7f3ee5cc4e10>"
            ]
          },
          "metadata": {},
          "execution_count": 28
        }
      ]
    },
    {
      "cell_type": "code",
      "metadata": {
        "colab": {
          "base_uri": "https://localhost:8080/"
        },
        "id": "_TSUd7zP7RnH",
        "outputId": "77bf987b-ea9d-473b-fbd6-8ffc15e8f102"
      },
      "source": [
        "model_5000_bs10 = Sequential()\n",
        "model_5000_bs10.add(Dense(800, input_dim = 784, activation = 'relu'))\n",
        "model_5000_bs10.add(Dense(5000, activation = 'relu'))\n",
        "model_5000_bs10.add(Dense(10, activation = 'softmax'))\n",
        "\n",
        "model_5000_bs10.compile(loss = 'categorical_crossentropy', optimizer = 'adam', metrics = 'accuracy')\n",
        "# Обучение нейронной сети.\n",
        "model_5000_bs10.fit(x_train, y_train, batch_size = 10, epochs = 15, verbose = 1)\n"
      ],
      "execution_count": null,
      "outputs": [
        {
          "output_type": "stream",
          "text": [
            "Epoch 1/15\n",
            "6000/6000 [==============================] - 36s 6ms/step - loss: 0.2206 - accuracy: 0.9364\n",
            "Epoch 2/15\n",
            "6000/6000 [==============================] - 35s 6ms/step - loss: 0.1172 - accuracy: 0.9671\n",
            "Epoch 3/15\n",
            "6000/6000 [==============================] - 35s 6ms/step - loss: 0.0936 - accuracy: 0.9751\n",
            "Epoch 4/15\n",
            "6000/6000 [==============================] - 34s 6ms/step - loss: 0.0793 - accuracy: 0.9794\n",
            "Epoch 5/15\n",
            "6000/6000 [==============================] - 34s 6ms/step - loss: 0.0705 - accuracy: 0.9820\n",
            "Epoch 6/15\n",
            "6000/6000 [==============================] - 34s 6ms/step - loss: 0.0610 - accuracy: 0.9852\n",
            "Epoch 7/15\n",
            "6000/6000 [==============================] - 34s 6ms/step - loss: 0.0568 - accuracy: 0.9862\n",
            "Epoch 8/15\n",
            "6000/6000 [==============================] - 34s 6ms/step - loss: 0.0522 - accuracy: 0.9880\n",
            "Epoch 9/15\n",
            "6000/6000 [==============================] - 35s 6ms/step - loss: 0.0549 - accuracy: 0.9885\n",
            "Epoch 10/15\n",
            "6000/6000 [==============================] - 35s 6ms/step - loss: 0.0520 - accuracy: 0.9894\n",
            "Epoch 11/15\n",
            "6000/6000 [==============================] - 34s 6ms/step - loss: 0.0456 - accuracy: 0.9909\n",
            "Epoch 12/15\n",
            "6000/6000 [==============================] - 34s 6ms/step - loss: 0.0484 - accuracy: 0.9910\n",
            "Epoch 13/15\n",
            "6000/6000 [==============================] - 34s 6ms/step - loss: 0.0438 - accuracy: 0.9914\n",
            "Epoch 14/15\n",
            "6000/6000 [==============================] - 34s 6ms/step - loss: 0.0461 - accuracy: 0.9925\n",
            "Epoch 15/15\n",
            "6000/6000 [==============================] - 34s 6ms/step - loss: 0.0419 - accuracy: 0.9924\n"
          ],
          "name": "stdout"
        },
        {
          "output_type": "execute_result",
          "data": {
            "text/plain": [
              "<keras.callbacks.History at 0x7f3ee5ce6290>"
            ]
          },
          "metadata": {},
          "execution_count": 29
        }
      ]
    },
    {
      "cell_type": "code",
      "metadata": {
        "colab": {
          "base_uri": "https://localhost:8080/"
        },
        "id": "iJAPTJMZ7Vjq",
        "outputId": "42e921f9-d11c-4c30-fc61-42781a60bcd4"
      },
      "source": [
        "# 4.7.3.Поменяли размеры batch_size = 100\n",
        "\n",
        "model_10_bs100 = Sequential()\n",
        "model_10_bs100.add(Dense(800, input_dim = 784, activation = 'relu'))\n",
        "model_10_bs100.add(Dense(10, activation = 'relu'))\n",
        "model_10_bs100.add(Dense(10, activation = 'softmax'))\n",
        "\n",
        "model_10_bs100.compile(loss = 'categorical_crossentropy', optimizer = 'adam', metrics = 'accuracy')\n",
        "# Обучение нейронной сети.\n",
        "model_10_bs100.fit(x_train, y_train, batch_size = 100, epochs = 15, verbose = 1)"
      ],
      "execution_count": null,
      "outputs": [
        {
          "output_type": "stream",
          "text": [
            "Epoch 1/15\n",
            "600/600 [==============================] - 3s 4ms/step - loss: 0.3192 - accuracy: 0.9060\n",
            "Epoch 2/15\n",
            "600/600 [==============================] - 2s 4ms/step - loss: 0.1095 - accuracy: 0.9679\n",
            "Epoch 3/15\n",
            "600/600 [==============================] - 2s 4ms/step - loss: 0.0709 - accuracy: 0.9791\n",
            "Epoch 4/15\n",
            "600/600 [==============================] - 2s 4ms/step - loss: 0.0499 - accuracy: 0.9854\n",
            "Epoch 5/15\n",
            "600/600 [==============================] - 2s 4ms/step - loss: 0.0360 - accuracy: 0.9892\n",
            "Epoch 6/15\n",
            "600/600 [==============================] - 2s 4ms/step - loss: 0.0265 - accuracy: 0.9919\n",
            "Epoch 7/15\n",
            "600/600 [==============================] - 2s 4ms/step - loss: 0.0194 - accuracy: 0.9945\n",
            "Epoch 8/15\n",
            "600/600 [==============================] - 2s 4ms/step - loss: 0.0161 - accuracy: 0.9948\n",
            "Epoch 9/15\n",
            "600/600 [==============================] - 2s 4ms/step - loss: 0.0142 - accuracy: 0.9955\n",
            "Epoch 10/15\n",
            "600/600 [==============================] - 2s 4ms/step - loss: 0.0115 - accuracy: 0.9963\n",
            "Epoch 11/15\n",
            "600/600 [==============================] - 2s 4ms/step - loss: 0.0117 - accuracy: 0.9962\n",
            "Epoch 12/15\n",
            "600/600 [==============================] - 2s 4ms/step - loss: 0.0101 - accuracy: 0.9968\n",
            "Epoch 13/15\n",
            "600/600 [==============================] - 2s 4ms/step - loss: 0.0081 - accuracy: 0.9977\n",
            "Epoch 14/15\n",
            "600/600 [==============================] - 2s 4ms/step - loss: 0.0038 - accuracy: 0.9991\n",
            "Epoch 15/15\n",
            "600/600 [==============================] - 2s 4ms/step - loss: 0.0108 - accuracy: 0.9963\n"
          ],
          "name": "stdout"
        },
        {
          "output_type": "execute_result",
          "data": {
            "text/plain": [
              "<keras.callbacks.History at 0x7f3ee5df2a50>"
            ]
          },
          "metadata": {},
          "execution_count": 30
        }
      ]
    },
    {
      "cell_type": "code",
      "metadata": {
        "colab": {
          "base_uri": "https://localhost:8080/"
        },
        "id": "o71-QCJR7g18",
        "outputId": "04380d83-55ab-4db9-b3d5-fa09a3e0a4de"
      },
      "source": [
        "model_100_bs100 = Sequential()\n",
        "model_100_bs100.add(Dense(800, input_dim = 784, activation = 'relu'))\n",
        "model_100_bs100.add(Dense(100, activation = 'relu'))\n",
        "model_100_bs100.add(Dense(10, activation = 'softmax'))\n",
        "\n",
        "model_100_bs100.compile(loss = 'categorical_crossentropy', optimizer = 'adam', metrics = 'accuracy')\n",
        "# Обучение нейронной сети.\n",
        "model_100_bs100.fit(x_train, y_train, batch_size = 100, epochs = 15, verbose = 1)"
      ],
      "execution_count": null,
      "outputs": [
        {
          "output_type": "stream",
          "text": [
            "Epoch 1/15\n",
            "600/600 [==============================] - 3s 4ms/step - loss: 0.2119 - accuracy: 0.9387\n",
            "Epoch 2/15\n",
            "600/600 [==============================] - 2s 4ms/step - loss: 0.0800 - accuracy: 0.9754\n",
            "Epoch 3/15\n",
            "600/600 [==============================] - 2s 4ms/step - loss: 0.0499 - accuracy: 0.9841\n",
            "Epoch 4/15\n",
            "600/600 [==============================] - 2s 4ms/step - loss: 0.0352 - accuracy: 0.9892\n",
            "Epoch 5/15\n",
            "600/600 [==============================] - 2s 4ms/step - loss: 0.0269 - accuracy: 0.9911\n",
            "Epoch 6/15\n",
            "600/600 [==============================] - 2s 4ms/step - loss: 0.0211 - accuracy: 0.9930\n",
            "Epoch 7/15\n",
            "600/600 [==============================] - 2s 4ms/step - loss: 0.0178 - accuracy: 0.9941\n",
            "Epoch 8/15\n",
            "600/600 [==============================] - 2s 4ms/step - loss: 0.0150 - accuracy: 0.9949\n",
            "Epoch 9/15\n",
            "600/600 [==============================] - 2s 4ms/step - loss: 0.0146 - accuracy: 0.9949\n",
            "Epoch 10/15\n",
            "600/600 [==============================] - 2s 4ms/step - loss: 0.0115 - accuracy: 0.9961\n",
            "Epoch 11/15\n",
            "600/600 [==============================] - 2s 4ms/step - loss: 0.0109 - accuracy: 0.9965\n",
            "Epoch 12/15\n",
            "600/600 [==============================] - 2s 4ms/step - loss: 0.0133 - accuracy: 0.9956\n",
            "Epoch 13/15\n",
            "600/600 [==============================] - 2s 4ms/step - loss: 0.0099 - accuracy: 0.9966\n",
            "Epoch 14/15\n",
            "600/600 [==============================] - 2s 4ms/step - loss: 0.0084 - accuracy: 0.9972\n",
            "Epoch 15/15\n",
            "600/600 [==============================] - 2s 4ms/step - loss: 0.0074 - accuracy: 0.9975\n"
          ],
          "name": "stdout"
        },
        {
          "output_type": "execute_result",
          "data": {
            "text/plain": [
              "<keras.callbacks.History at 0x7f3edcf1ff90>"
            ]
          },
          "metadata": {},
          "execution_count": 31
        }
      ]
    },
    {
      "cell_type": "code",
      "metadata": {
        "colab": {
          "base_uri": "https://localhost:8080/"
        },
        "id": "ZC_n-GQ77mid",
        "outputId": "0fdccc99-4e44-4a19-c704-5568be81fc75"
      },
      "source": [
        "model_5000_bs100 = Sequential()\n",
        "model_5000_bs100.add(Dense(800, input_dim = 784, activation = 'relu'))\n",
        "model_5000_bs100.add(Dense(5000, activation = 'relu'))\n",
        "model_5000_bs100.add(Dense(10, activation = 'softmax'))\n",
        "\n",
        "model_5000_bs100.compile(loss = 'categorical_crossentropy', optimizer = 'adam', metrics = 'accuracy')\n",
        "# Обучение нейронной сети.\n",
        "model_5000_bs100.fit(x_train, y_train, batch_size = 100, epochs = 15, verbose = 1)\n"
      ],
      "execution_count": null,
      "outputs": [
        {
          "output_type": "stream",
          "text": [
            "Epoch 1/15\n",
            "600/600 [==============================] - 4s 7ms/step - loss: 0.1798 - accuracy: 0.9444\n",
            "Epoch 2/15\n",
            "600/600 [==============================] - 4s 6ms/step - loss: 0.0762 - accuracy: 0.9765\n",
            "Epoch 3/15\n",
            "600/600 [==============================] - 4s 6ms/step - loss: 0.0539 - accuracy: 0.9832\n",
            "Epoch 4/15\n",
            "600/600 [==============================] - 4s 6ms/step - loss: 0.0421 - accuracy: 0.9868\n",
            "Epoch 5/15\n",
            "600/600 [==============================] - 4s 6ms/step - loss: 0.0309 - accuracy: 0.9899\n",
            "Epoch 6/15\n",
            "600/600 [==============================] - 4s 6ms/step - loss: 0.0296 - accuracy: 0.9906\n",
            "Epoch 7/15\n",
            "600/600 [==============================] - 4s 6ms/step - loss: 0.0273 - accuracy: 0.9912\n",
            "Epoch 8/15\n",
            "600/600 [==============================] - 4s 6ms/step - loss: 0.0220 - accuracy: 0.9933\n",
            "Epoch 9/15\n",
            "600/600 [==============================] - 4s 7ms/step - loss: 0.0192 - accuracy: 0.9938\n",
            "Epoch 10/15\n",
            "600/600 [==============================] - 4s 6ms/step - loss: 0.0188 - accuracy: 0.9942\n",
            "Epoch 11/15\n",
            "600/600 [==============================] - 4s 7ms/step - loss: 0.0154 - accuracy: 0.9952\n",
            "Epoch 12/15\n",
            "600/600 [==============================] - 4s 7ms/step - loss: 0.0213 - accuracy: 0.9942\n",
            "Epoch 13/15\n",
            "600/600 [==============================] - 4s 6ms/step - loss: 0.0154 - accuracy: 0.9953\n",
            "Epoch 14/15\n",
            "600/600 [==============================] - 4s 6ms/step - loss: 0.0172 - accuracy: 0.9952\n",
            "Epoch 15/15\n",
            "600/600 [==============================] - 4s 7ms/step - loss: 0.0138 - accuracy: 0.9961\n"
          ],
          "name": "stdout"
        },
        {
          "output_type": "execute_result",
          "data": {
            "text/plain": [
              "<keras.callbacks.History at 0x7f3edcdd8810>"
            ]
          },
          "metadata": {},
          "execution_count": 32
        }
      ]
    },
    {
      "cell_type": "code",
      "metadata": {
        "colab": {
          "base_uri": "https://localhost:8080/"
        },
        "id": "Rkx3I4Kk7s95",
        "outputId": "eec4c699-0695-4ec7-d961-41f88dd2ee72"
      },
      "source": [
        "# 4.7.4.Поменяли размеры batch_size = 60000\n",
        "\n",
        "model_10_bs60000 = Sequential()\n",
        "model_10_bs60000.add(Dense(800, input_dim = 784, activation = 'relu'))\n",
        "model_10_bs60000.add(Dense(10, activation = 'relu'))\n",
        "model_10_bs60000.add(Dense(10, activation = 'softmax'))\n",
        "\n",
        "model_10_bs60000.compile(loss = 'categorical_crossentropy', optimizer = 'adam', metrics = 'accuracy')\n",
        "# Обучение нейронной сети.\n",
        "model_10_bs60000.fit(x_train, y_train, batch_size = 60000, epochs = 15, verbose = 1)"
      ],
      "execution_count": null,
      "outputs": [
        {
          "output_type": "stream",
          "text": [
            "Epoch 1/15\n",
            "1/1 [==============================] - 36s 36s/step - loss: 2.3409 - accuracy: 0.0787\n",
            "Epoch 2/15\n",
            "1/1 [==============================] - 0s 154ms/step - loss: 2.2448 - accuracy: 0.2222\n",
            "Epoch 3/15\n",
            "1/1 [==============================] - 0s 153ms/step - loss: 2.0921 - accuracy: 0.3258\n",
            "Epoch 4/15\n",
            "1/1 [==============================] - 0s 155ms/step - loss: 1.9336 - accuracy: 0.3438\n",
            "Epoch 5/15\n",
            "1/1 [==============================] - 0s 145ms/step - loss: 1.8296 - accuracy: 0.3557\n",
            "Epoch 6/15\n",
            "1/1 [==============================] - 0s 137ms/step - loss: 1.7486 - accuracy: 0.3856\n",
            "Epoch 7/15\n",
            "1/1 [==============================] - 0s 146ms/step - loss: 1.6503 - accuracy: 0.4199\n",
            "Epoch 8/15\n",
            "1/1 [==============================] - 0s 140ms/step - loss: 1.5562 - accuracy: 0.4437\n",
            "Epoch 9/15\n",
            "1/1 [==============================] - 0s 142ms/step - loss: 1.4759 - accuracy: 0.4720\n",
            "Epoch 10/15\n",
            "1/1 [==============================] - 0s 144ms/step - loss: 1.4060 - accuracy: 0.5021\n",
            "Epoch 11/15\n",
            "1/1 [==============================] - 0s 133ms/step - loss: 1.3488 - accuracy: 0.5260\n",
            "Epoch 12/15\n",
            "1/1 [==============================] - 0s 141ms/step - loss: 1.2969 - accuracy: 0.5404\n",
            "Epoch 13/15\n",
            "1/1 [==============================] - 0s 148ms/step - loss: 1.2487 - accuracy: 0.5493\n",
            "Epoch 14/15\n",
            "1/1 [==============================] - 0s 116ms/step - loss: 1.2070 - accuracy: 0.5567\n",
            "Epoch 15/15\n",
            "1/1 [==============================] - 0s 109ms/step - loss: 1.1697 - accuracy: 0.5648\n"
          ],
          "name": "stdout"
        },
        {
          "output_type": "execute_result",
          "data": {
            "text/plain": [
              "<keras.callbacks.History at 0x7f3edcd02f90>"
            ]
          },
          "metadata": {},
          "execution_count": 33
        }
      ]
    },
    {
      "cell_type": "code",
      "metadata": {
        "colab": {
          "base_uri": "https://localhost:8080/"
        },
        "id": "wDqA8gUU73oJ",
        "outputId": "d1340ff4-9949-4397-8024-bda6e394e326"
      },
      "source": [
        "model_100_bs60000 = Sequential()\n",
        "model_100_bs60000.add(Dense(800, input_dim = 784, activation = 'relu'))\n",
        "model_100_bs60000.add(Dense(100, activation = 'relu'))\n",
        "model_100_bs60000.add(Dense(10, activation = 'softmax'))\n",
        "\n",
        "model_100_bs60000.compile(loss = 'categorical_crossentropy', optimizer = 'adam', metrics = 'accuracy')\n",
        "# Обучение нейронной сети.\n",
        "model_100_bs100.fit(x_train, y_train, batch_size = 60000, epochs = 15, verbose = 1)"
      ],
      "execution_count": null,
      "outputs": [
        {
          "output_type": "stream",
          "text": [
            "Epoch 1/15\n",
            "1/1 [==============================] - 1s 520ms/step - loss: 0.0037 - accuracy: 0.9989\n",
            "Epoch 2/15\n",
            "1/1 [==============================] - 0s 184ms/step - loss: 0.0036 - accuracy: 0.9989\n",
            "Epoch 3/15\n",
            "1/1 [==============================] - 0s 174ms/step - loss: 0.0035 - accuracy: 0.9989\n",
            "Epoch 4/15\n",
            "1/1 [==============================] - 0s 171ms/step - loss: 0.0035 - accuracy: 0.9989\n",
            "Epoch 5/15\n",
            "1/1 [==============================] - 0s 178ms/step - loss: 0.0034 - accuracy: 0.9989\n",
            "Epoch 6/15\n",
            "1/1 [==============================] - 0s 153ms/step - loss: 0.0033 - accuracy: 0.9989\n",
            "Epoch 7/15\n",
            "1/1 [==============================] - 0s 145ms/step - loss: 0.0032 - accuracy: 0.9989\n",
            "Epoch 8/15\n",
            "1/1 [==============================] - 0s 154ms/step - loss: 0.0031 - accuracy: 0.9990\n",
            "Epoch 9/15\n",
            "1/1 [==============================] - 0s 151ms/step - loss: 0.0030 - accuracy: 0.9990\n",
            "Epoch 10/15\n",
            "1/1 [==============================] - 0s 172ms/step - loss: 0.0029 - accuracy: 0.9991\n",
            "Epoch 11/15\n",
            "1/1 [==============================] - 0s 139ms/step - loss: 0.0028 - accuracy: 0.9991\n",
            "Epoch 12/15\n",
            "1/1 [==============================] - 0s 145ms/step - loss: 0.0027 - accuracy: 0.9992\n",
            "Epoch 13/15\n",
            "1/1 [==============================] - 0s 155ms/step - loss: 0.0026 - accuracy: 0.9992\n",
            "Epoch 14/15\n",
            "1/1 [==============================] - 0s 125ms/step - loss: 0.0025 - accuracy: 0.9992\n",
            "Epoch 15/15\n",
            "1/1 [==============================] - 0s 125ms/step - loss: 0.0024 - accuracy: 0.9993\n"
          ],
          "name": "stdout"
        },
        {
          "output_type": "execute_result",
          "data": {
            "text/plain": [
              "<keras.callbacks.History at 0x7f3ee5dac250>"
            ]
          },
          "metadata": {},
          "execution_count": 34
        }
      ]
    },
    {
      "cell_type": "code",
      "metadata": {
        "colab": {
          "base_uri": "https://localhost:8080/"
        },
        "id": "i1L1v10a8J19",
        "outputId": "bb31c1f9-1a5e-4af5-ef7b-e7667124f151"
      },
      "source": [
        "model_5000_bs60000 = Sequential()\n",
        "model_5000_bs60000.add(Dense(800, input_dim = 784, activation = 'relu'))\n",
        "model_5000_bs60000.add(Dense(5000, activation = 'relu'))\n",
        "model_5000_bs60000.add(Dense(10, activation = 'softmax'))\n",
        "\n",
        "model_5000_bs60000.compile(loss = 'categorical_crossentropy', optimizer = 'adam', metrics = 'accuracy')\n",
        "# Обучение нейронной сети.\n",
        "model_5000_bs60000.fit(x_train, y_train, batch_size = 60000, epochs = 15, verbose = 1)\n"
      ],
      "execution_count": null,
      "outputs": [
        {
          "output_type": "stream",
          "text": [
            "Epoch 1/15\n",
            "1/1 [==============================] - 2s 2s/step - loss: 2.3133 - accuracy: 0.0840\n",
            "Epoch 2/15\n",
            "1/1 [==============================] - 1s 932ms/step - loss: 1.6487 - accuracy: 0.6138\n",
            "Epoch 3/15\n",
            "1/1 [==============================] - 1s 909ms/step - loss: 1.1307 - accuracy: 0.7764\n",
            "Epoch 4/15\n",
            "1/1 [==============================] - 1s 899ms/step - loss: 0.7830 - accuracy: 0.8048\n",
            "Epoch 5/15\n",
            "1/1 [==============================] - 1s 901ms/step - loss: 0.5829 - accuracy: 0.8193\n",
            "Epoch 6/15\n",
            "1/1 [==============================] - 1s 908ms/step - loss: 0.5053 - accuracy: 0.8455\n",
            "Epoch 7/15\n",
            "1/1 [==============================] - 1s 920ms/step - loss: 0.4508 - accuracy: 0.8609\n",
            "Epoch 8/15\n",
            "1/1 [==============================] - 1s 926ms/step - loss: 0.3971 - accuracy: 0.8834\n",
            "Epoch 9/15\n",
            "1/1 [==============================] - 1s 906ms/step - loss: 0.4012 - accuracy: 0.8806\n",
            "Epoch 10/15\n",
            "1/1 [==============================] - 1s 904ms/step - loss: 0.3524 - accuracy: 0.9004\n",
            "Epoch 11/15\n",
            "1/1 [==============================] - 1s 918ms/step - loss: 0.3497 - accuracy: 0.9034\n",
            "Epoch 12/15\n",
            "1/1 [==============================] - 1s 910ms/step - loss: 0.3255 - accuracy: 0.9115\n",
            "Epoch 13/15\n",
            "1/1 [==============================] - 1s 923ms/step - loss: 0.3177 - accuracy: 0.9122\n",
            "Epoch 14/15\n",
            "1/1 [==============================] - 1s 906ms/step - loss: 0.2883 - accuracy: 0.9210\n",
            "Epoch 15/15\n",
            "1/1 [==============================] - 1s 909ms/step - loss: 0.2801 - accuracy: 0.9228\n"
          ],
          "name": "stdout"
        },
        {
          "output_type": "execute_result",
          "data": {
            "text/plain": [
              "<keras.callbacks.History at 0x7f3edd893410>"
            ]
          },
          "metadata": {},
          "execution_count": 35
        }
      ]
    },
    {
      "cell_type": "code",
      "metadata": {
        "colab": {
          "base_uri": "https://localhost:8080/",
          "height": 236
        },
        "id": "T9jlxK_hiTjq",
        "outputId": "07867870-a9d9-4a9c-9f16-92234d4ecd8a"
      },
      "source": [
        "# Таблица результатов\n",
        "import pandas as pd\n",
        "columns = ['Наименование эксперимента', 'НС на 10 нейронов', 'НС на 100 нейронов1', 'НС на 5000 нейронов']\n",
        "data = [['activation = relu', 0.9983, 0.9982, 0.9965],\n",
        "        ['activation = linear', 0.9978, 0.9970, 0.9929], \n",
        "        ['batch_size = 1', 0.9875, 0.9768, 0.9786],\n",
        "       ['batch_size = 10', 0.9960, 0.9951, 0.9925],\n",
        "       ['batch_size = 100', 0.9991, 0.9975, 0.9961],\n",
        "        ['batch_size = 60000', 0.5648, 0.9993, 0.9228]]\n",
        "df = pd.DataFrame(data, columns = columns)\n",
        "df"
      ],
      "execution_count": null,
      "outputs": [
        {
          "output_type": "execute_result",
          "data": {
            "text/html": [
              "<div>\n",
              "<style scoped>\n",
              "    .dataframe tbody tr th:only-of-type {\n",
              "        vertical-align: middle;\n",
              "    }\n",
              "\n",
              "    .dataframe tbody tr th {\n",
              "        vertical-align: top;\n",
              "    }\n",
              "\n",
              "    .dataframe thead th {\n",
              "        text-align: right;\n",
              "    }\n",
              "</style>\n",
              "<table border=\"1\" class=\"dataframe\">\n",
              "  <thead>\n",
              "    <tr style=\"text-align: right;\">\n",
              "      <th></th>\n",
              "      <th>Наименование эксперимента</th>\n",
              "      <th>НС на 10 нейронов</th>\n",
              "      <th>НС на 100 нейронов1</th>\n",
              "      <th>НС на 5000 нейронов</th>\n",
              "    </tr>\n",
              "  </thead>\n",
              "  <tbody>\n",
              "    <tr>\n",
              "      <th>0</th>\n",
              "      <td>activation = relu</td>\n",
              "      <td>0.9983</td>\n",
              "      <td>0.9982</td>\n",
              "      <td>0.9965</td>\n",
              "    </tr>\n",
              "    <tr>\n",
              "      <th>1</th>\n",
              "      <td>activation = linear</td>\n",
              "      <td>0.9978</td>\n",
              "      <td>0.9970</td>\n",
              "      <td>0.9929</td>\n",
              "    </tr>\n",
              "    <tr>\n",
              "      <th>2</th>\n",
              "      <td>batch_size = 1</td>\n",
              "      <td>0.9875</td>\n",
              "      <td>0.9768</td>\n",
              "      <td>0.9786</td>\n",
              "    </tr>\n",
              "    <tr>\n",
              "      <th>3</th>\n",
              "      <td>batch_size = 10</td>\n",
              "      <td>0.9960</td>\n",
              "      <td>0.9951</td>\n",
              "      <td>0.9925</td>\n",
              "    </tr>\n",
              "    <tr>\n",
              "      <th>4</th>\n",
              "      <td>batch_size = 100</td>\n",
              "      <td>0.9991</td>\n",
              "      <td>0.9975</td>\n",
              "      <td>0.9961</td>\n",
              "    </tr>\n",
              "    <tr>\n",
              "      <th>5</th>\n",
              "      <td>batch_size = 60000</td>\n",
              "      <td>0.5648</td>\n",
              "      <td>0.9993</td>\n",
              "      <td>0.9228</td>\n",
              "    </tr>\n",
              "  </tbody>\n",
              "</table>\n",
              "</div>"
            ],
            "text/plain": [
              "  Наименование эксперимента  ...  НС на 5000 нейронов\n",
              "0         activation = relu  ...               0.9965\n",
              "1       activation = linear  ...               0.9929\n",
              "2            batch_size = 1  ...               0.9786\n",
              "3           batch_size = 10  ...               0.9925\n",
              "4          batch_size = 100  ...               0.9961\n",
              "5        batch_size = 60000  ...               0.9228\n",
              "\n",
              "[6 rows x 4 columns]"
            ]
          },
          "metadata": {},
          "execution_count": 40
        }
      ]
    },
    {
      "cell_type": "code",
      "metadata": {
        "colab": {
          "base_uri": "https://localhost:8080/",
          "height": 299
        },
        "id": "8mG-nsuolW3y",
        "outputId": "ed5c87d0-e05f-47e9-cf35-d527c0162f0f"
      },
      "source": [
        "df.describe()"
      ],
      "execution_count": null,
      "outputs": [
        {
          "output_type": "execute_result",
          "data": {
            "text/html": [
              "<div>\n",
              "<style scoped>\n",
              "    .dataframe tbody tr th:only-of-type {\n",
              "        vertical-align: middle;\n",
              "    }\n",
              "\n",
              "    .dataframe tbody tr th {\n",
              "        vertical-align: top;\n",
              "    }\n",
              "\n",
              "    .dataframe thead th {\n",
              "        text-align: right;\n",
              "    }\n",
              "</style>\n",
              "<table border=\"1\" class=\"dataframe\">\n",
              "  <thead>\n",
              "    <tr style=\"text-align: right;\">\n",
              "      <th></th>\n",
              "      <th>НС на 10 нейронов</th>\n",
              "      <th>НС на 100 нейронов1</th>\n",
              "      <th>НС на 5000 нейронов</th>\n",
              "    </tr>\n",
              "  </thead>\n",
              "  <tbody>\n",
              "    <tr>\n",
              "      <th>count</th>\n",
              "      <td>6.000000</td>\n",
              "      <td>6.000000</td>\n",
              "      <td>6.000000</td>\n",
              "    </tr>\n",
              "    <tr>\n",
              "      <th>mean</th>\n",
              "      <td>0.923917</td>\n",
              "      <td>0.993983</td>\n",
              "      <td>0.979900</td>\n",
              "    </tr>\n",
              "    <tr>\n",
              "      <th>std</th>\n",
              "      <td>0.175982</td>\n",
              "      <td>0.008533</td>\n",
              "      <td>0.028733</td>\n",
              "    </tr>\n",
              "    <tr>\n",
              "      <th>min</th>\n",
              "      <td>0.564800</td>\n",
              "      <td>0.976800</td>\n",
              "      <td>0.922800</td>\n",
              "    </tr>\n",
              "    <tr>\n",
              "      <th>25%</th>\n",
              "      <td>0.989625</td>\n",
              "      <td>0.995575</td>\n",
              "      <td>0.982075</td>\n",
              "    </tr>\n",
              "    <tr>\n",
              "      <th>50%</th>\n",
              "      <td>0.996900</td>\n",
              "      <td>0.997250</td>\n",
              "      <td>0.992700</td>\n",
              "    </tr>\n",
              "    <tr>\n",
              "      <th>75%</th>\n",
              "      <td>0.998175</td>\n",
              "      <td>0.998025</td>\n",
              "      <td>0.995300</td>\n",
              "    </tr>\n",
              "    <tr>\n",
              "      <th>max</th>\n",
              "      <td>0.999100</td>\n",
              "      <td>0.999300</td>\n",
              "      <td>0.996500</td>\n",
              "    </tr>\n",
              "  </tbody>\n",
              "</table>\n",
              "</div>"
            ],
            "text/plain": [
              "       НС на 10 нейронов  НС на 100 нейронов1  НС на 5000 нейронов\n",
              "count           6.000000             6.000000             6.000000\n",
              "mean            0.923917             0.993983             0.979900\n",
              "std             0.175982             0.008533             0.028733\n",
              "min             0.564800             0.976800             0.922800\n",
              "25%             0.989625             0.995575             0.982075\n",
              "50%             0.996900             0.997250             0.992700\n",
              "75%             0.998175             0.998025             0.995300\n",
              "max             0.999100             0.999300             0.996500"
            ]
          },
          "metadata": {},
          "execution_count": 43
        }
      ]
    },
    {
      "cell_type": "markdown",
      "metadata": {
        "id": "w-vm5R5noAy4"
      },
      "source": [
        "Выводы:\n",
        "Нейросеть на 100 нейронов показала самые стабильные и высокие значения точности во всех экспериментах. Дисперсия значений результатов несущественная, а среднее значение точности = 0,99. \n",
        "Касательно методов активации, чуть лучше показал себя \"relu\" по сравнению с \"linear\". \n",
        "batch_size = 100 самый лучший в соотношенении точности к временным затратам.\n",
        "\n",
        "Резюме: Оптимальный вараинт НС = 100 нейронов в скрытом слое + \"relu\" + \"batch_size = 100\". Не стоит выбирать batch_size маленькие значения, т.к. существенно увеличивается время обучения НС. Большое количество нейронов в скрытом слое не дает преимущество в обучении НС.\n",
        "\n"
      ]
    }
  ]
}