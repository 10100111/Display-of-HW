{
  "nbformat": 4,
  "nbformat_minor": 0,
  "metadata": {
    "colab": {
      "name": "22b. Light.Решение задачи регрессии (Университет искусственного интеллекта)",
      "provenance": [],
      "collapsed_sections": [
        "DQqa8snjeA7p",
        "t6Qo4UKqldyH"
      ],
      "machine_shape": "hm",
      "include_colab_link": true
    },
    "kernelspec": {
      "name": "python3",
      "display_name": "Python 3"
    },
    "accelerator": "GPU"
  },
  "cells": [
    {
      "cell_type": "markdown",
      "metadata": {
        "id": "view-in-github",
        "colab_type": "text"
      },
      "source": [
        "<a href=\"https://colab.research.google.com/github/10100111/Display-of-HW1/blob/main/22b_Light_%D0%A0%D0%B5%D1%88%D0%B5%D0%BD%D0%B8%D0%B5_%D0%B7%D0%B0%D0%B4%D0%B0%D1%87%D0%B8_%D1%80%D0%B5%D0%B3%D1%80%D0%B5%D1%81%D1%81%D0%B8%D0%B8_(%D0%A3%D0%BD%D0%B8%D0%B2%D0%B5%D1%80%D1%81%D0%B8%D1%82%D0%B5%D1%82_%D0%B8%D1%81%D0%BA%D1%83%D1%81%D1%81%D1%82%D0%B2%D0%B5%D0%BD%D0%BD%D0%BE%D0%B3%D0%BE_%D0%B8%D0%BD%D1%82%D0%B5%D0%BB%D0%BB%D0%B5%D0%BA%D1%82%D0%B0).ipynb\" target=\"_parent\"><img src=\"https://colab.research.google.com/assets/colab-badge.svg\" alt=\"Open In Colab\"/></a>"
      ]
    },
    {
      "cell_type": "markdown",
      "metadata": {
        "id": "Eqc5u6MlBg55"
      },
      "source": [
        "Задание Lite\n",
        "\n",
        "Макс 10 баллов\n",
        "\n",
        "Используя шаблон ноутбука, используйте базу квартир чтобы осуществить следующее следующее:\n",
        "\n",
        "Загрузить xTrain на числовых данных.\n",
        "Загрузить xTrainС из Примечаний (тексты).\n",
        "Создать словарь.\n",
        "\n",
        "Превратить xTrainC в формат bag of words (2000 самых популярных слов).\n",
        "\n",
        "Сделать нормирование данных.\n",
        "Написать нейронную сеть.\n",
        " "
      ]
    },
    {
      "cell_type": "markdown",
      "metadata": {
        "id": "nAFHEMhfOfVp"
      },
      "source": [
        "# Загрузка данных"
      ]
    },
    {
      "cell_type": "code",
      "metadata": {
        "id": "qmqdcngoBnNX"
      },
      "source": [
        "import numpy as np\n",
        "import pandas as pd\n",
        "\n",
        "from tensorflow.keras.models import Sequential, Model\n",
        "from tensorflow.keras.layers import concatenate, Input, LSTM, Conv1D, Conv2D, Dense, Dropout, BatchNormalization, Flatten\n",
        "from tensorflow.keras import utils\n",
        "from tensorflow.keras.optimizers import Adam, Adadelta, SGD, Adagrad, RMSprop\n",
        "from tensorflow.keras.preprocessing.text import Tokenizer, text_to_word_sequence\n",
        "from tensorflow.keras.preprocessing.sequence import pad_sequences\n",
        "from tensorflow.keras.callbacks import LambdaCallback\n",
        "\n",
        "from sklearn.preprocessing import StandardScaler\n",
        "from sklearn.model_selection import train_test_split\n",
        "from sklearn.metrics import mean_squared_error, mean_absolute_error\n",
        "\n",
        "import random \n",
        "import math\n",
        "\n",
        "import re \n",
        "import matplotlib.pyplot as plt\n",
        "%matplotlib inline\n",
        "\n",
        "from IPython.display import clear_output\n",
        "\n"
      ],
      "execution_count": null,
      "outputs": []
    },
    {
      "cell_type": "code",
      "metadata": {
        "colab": {
          "base_uri": "https://localhost:8080/"
        },
        "id": "8gs2wrchBnF4",
        "outputId": "f36b7a5d-f277-4466-ab9c-775f5d6b1b8f"
      },
      "source": [
        "from google.colab import drive\n",
        "drive.mount('/content/drive')"
      ],
      "execution_count": null,
      "outputs": [
        {
          "output_type": "stream",
          "name": "stdout",
          "text": [
            "Mounted at /content/drive\n"
          ]
        }
      ]
    },
    {
      "cell_type": "code",
      "metadata": {
        "id": "2Zla9GMBFhZ1"
      },
      "source": [
        "df = pd.read_csv('/content/drive/MyDrive/Colab Notebooks/Базы/moscow.csv', sep = ';')"
      ],
      "execution_count": null,
      "outputs": []
    },
    {
      "cell_type": "code",
      "metadata": {
        "colab": {
          "base_uri": "https://localhost:8080/",
          "height": 472
        },
        "id": "winiffZuMxYX",
        "outputId": "dcb198f3-96ae-4608-9493-af0fc7942d36"
      },
      "source": [
        "df.head(5)"
      ],
      "execution_count": null,
      "outputs": [
        {
          "output_type": "execute_result",
          "data": {
            "text/html": [
              "<div>\n",
              "<style scoped>\n",
              "    .dataframe tbody tr th:only-of-type {\n",
              "        vertical-align: middle;\n",
              "    }\n",
              "\n",
              "    .dataframe tbody tr th {\n",
              "        vertical-align: top;\n",
              "    }\n",
              "\n",
              "    .dataframe thead th {\n",
              "        text-align: right;\n",
              "    }\n",
              "</style>\n",
              "<table border=\"1\" class=\"dataframe\">\n",
              "  <thead>\n",
              "    <tr style=\"text-align: right;\">\n",
              "      <th></th>\n",
              "      <th>Комнат</th>\n",
              "      <th>Метро / ЖД станции</th>\n",
              "      <th>От станции</th>\n",
              "      <th>Дом</th>\n",
              "      <th>Балкон</th>\n",
              "      <th>Санузел</th>\n",
              "      <th>Площадь</th>\n",
              "      <th>Цена, руб.</th>\n",
              "      <th>ГРМ</th>\n",
              "      <th>Бонус агенту</th>\n",
              "      <th>Дата</th>\n",
              "      <th>Кол-во дней в экспозиции</th>\n",
              "      <th>Источник</th>\n",
              "      <th>Примечание</th>\n",
              "    </tr>\n",
              "  </thead>\n",
              "  <tbody>\n",
              "    <tr>\n",
              "      <th>0</th>\n",
              "      <td>1</td>\n",
              "      <td>Шелепиха м.</td>\n",
              "      <td>12п</td>\n",
              "      <td>35/37 М</td>\n",
              "      <td>NaN</td>\n",
              "      <td>2</td>\n",
              "      <td>64.1/23/20</td>\n",
              "      <td>19500000.0</td>\n",
              "      <td>NaN</td>\n",
              "      <td>NaN</td>\n",
              "      <td>25.07.2019</td>\n",
              "      <td>1.0</td>\n",
              "      <td>Привлекательные</td>\n",
              "      <td>Собственность оформлена! Ключи на руках! Опера...</td>\n",
              "    </tr>\n",
              "    <tr>\n",
              "      <th>1</th>\n",
              "      <td>Для заметок:</td>\n",
              "      <td>NaN</td>\n",
              "      <td>NaN</td>\n",
              "      <td>NaN</td>\n",
              "      <td>NaN</td>\n",
              "      <td>NaN</td>\n",
              "      <td>NaN</td>\n",
              "      <td>NaN</td>\n",
              "      <td>NaN</td>\n",
              "      <td>NaN</td>\n",
              "      <td>NaN</td>\n",
              "      <td>NaN</td>\n",
              "      <td>NaN</td>\n",
              "      <td>NaN</td>\n",
              "    </tr>\n",
              "    <tr>\n",
              "      <th>2</th>\n",
              "      <td>1</td>\n",
              "      <td>Пятницкое шоссе м.</td>\n",
              "      <td>30т</td>\n",
              "      <td>11/14 П</td>\n",
              "      <td>Л</td>\n",
              "      <td>Р</td>\n",
              "      <td>38.4/17/9</td>\n",
              "      <td>4800000.0</td>\n",
              "      <td>NaN</td>\n",
              "      <td>NaN</td>\n",
              "      <td>25.07.2019</td>\n",
              "      <td>2.0</td>\n",
              "      <td>Привлекательные</td>\n",
              "      <td>Зеленоград к.1820 однокомнатная квартира общ.3...</td>\n",
              "    </tr>\n",
              "    <tr>\n",
              "      <th>3</th>\n",
              "      <td>Для заметок:</td>\n",
              "      <td>NaN</td>\n",
              "      <td>NaN</td>\n",
              "      <td>NaN</td>\n",
              "      <td>NaN</td>\n",
              "      <td>NaN</td>\n",
              "      <td>NaN</td>\n",
              "      <td>NaN</td>\n",
              "      <td>NaN</td>\n",
              "      <td>NaN</td>\n",
              "      <td>NaN</td>\n",
              "      <td>NaN</td>\n",
              "      <td>NaN</td>\n",
              "      <td>NaN</td>\n",
              "    </tr>\n",
              "    <tr>\n",
              "      <th>4</th>\n",
              "      <td>1</td>\n",
              "      <td>Планерная м.</td>\n",
              "      <td>5т</td>\n",
              "      <td>11/22 П</td>\n",
              "      <td>Б</td>\n",
              "      <td>С</td>\n",
              "      <td>38.2/19.9/9.9</td>\n",
              "      <td>7990000.0</td>\n",
              "      <td>NaN</td>\n",
              "      <td>NaN</td>\n",
              "      <td>25.07.2019</td>\n",
              "      <td>4.0</td>\n",
              "      <td>Привлекательные</td>\n",
              "      <td>Уютная, светлая квартира, застекленный балкон ...</td>\n",
              "    </tr>\n",
              "  </tbody>\n",
              "</table>\n",
              "</div>"
            ],
            "text/plain": [
              "         Комнат  ...                                         Примечание\n",
              "0             1  ...  Собственность оформлена! Ключи на руках! Опера...\n",
              "1  Для заметок:  ...                                                NaN\n",
              "2             1  ...  Зеленоград к.1820 однокомнатная квартира общ.3...\n",
              "3  Для заметок:  ...                                                NaN\n",
              "4             1  ...  Уютная, светлая квартира, застекленный балкон ...\n",
              "\n",
              "[5 rows x 14 columns]"
            ]
          },
          "metadata": {},
          "execution_count": 5
        }
      ]
    },
    {
      "cell_type": "code",
      "metadata": {
        "id": "UwclkH5zFhDu"
      },
      "source": [
        "df = df.iloc[::2,:] #выбираем нечетные строки, т.к. в четных строки для комментариев\n",
        "data = df.values # добавляем значения в numpy array\n"
      ],
      "execution_count": null,
      "outputs": []
    },
    {
      "cell_type": "code",
      "metadata": {
        "colab": {
          "base_uri": "https://localhost:8080/",
          "height": 555
        },
        "id": "_hOsuCqgFgyb",
        "outputId": "3ad94bfb-85ff-473f-9097-a91a0df3eebd"
      },
      "source": [
        "df.head(5)"
      ],
      "execution_count": null,
      "outputs": [
        {
          "output_type": "execute_result",
          "data": {
            "text/html": [
              "<div>\n",
              "<style scoped>\n",
              "    .dataframe tbody tr th:only-of-type {\n",
              "        vertical-align: middle;\n",
              "    }\n",
              "\n",
              "    .dataframe tbody tr th {\n",
              "        vertical-align: top;\n",
              "    }\n",
              "\n",
              "    .dataframe thead th {\n",
              "        text-align: right;\n",
              "    }\n",
              "</style>\n",
              "<table border=\"1\" class=\"dataframe\">\n",
              "  <thead>\n",
              "    <tr style=\"text-align: right;\">\n",
              "      <th></th>\n",
              "      <th>Комнат</th>\n",
              "      <th>Метро / ЖД станции</th>\n",
              "      <th>От станции</th>\n",
              "      <th>Дом</th>\n",
              "      <th>Балкон</th>\n",
              "      <th>Санузел</th>\n",
              "      <th>Площадь</th>\n",
              "      <th>Цена, руб.</th>\n",
              "      <th>ГРМ</th>\n",
              "      <th>Бонус агенту</th>\n",
              "      <th>Дата</th>\n",
              "      <th>Кол-во дней в экспозиции</th>\n",
              "      <th>Источник</th>\n",
              "      <th>Примечание</th>\n",
              "    </tr>\n",
              "  </thead>\n",
              "  <tbody>\n",
              "    <tr>\n",
              "      <th>0</th>\n",
              "      <td>1</td>\n",
              "      <td>Шелепиха м.</td>\n",
              "      <td>12п</td>\n",
              "      <td>35/37 М</td>\n",
              "      <td>NaN</td>\n",
              "      <td>2</td>\n",
              "      <td>64.1/23/20</td>\n",
              "      <td>19500000.0</td>\n",
              "      <td>NaN</td>\n",
              "      <td>NaN</td>\n",
              "      <td>25.07.2019</td>\n",
              "      <td>1.0</td>\n",
              "      <td>Привлекательные</td>\n",
              "      <td>Собственность оформлена! Ключи на руках! Опера...</td>\n",
              "    </tr>\n",
              "    <tr>\n",
              "      <th>2</th>\n",
              "      <td>1</td>\n",
              "      <td>Пятницкое шоссе м.</td>\n",
              "      <td>30т</td>\n",
              "      <td>11/14 П</td>\n",
              "      <td>Л</td>\n",
              "      <td>Р</td>\n",
              "      <td>38.4/17/9</td>\n",
              "      <td>4800000.0</td>\n",
              "      <td>NaN</td>\n",
              "      <td>NaN</td>\n",
              "      <td>25.07.2019</td>\n",
              "      <td>2.0</td>\n",
              "      <td>Привлекательные</td>\n",
              "      <td>Зеленоград к.1820 однокомнатная квартира общ.3...</td>\n",
              "    </tr>\n",
              "    <tr>\n",
              "      <th>4</th>\n",
              "      <td>1</td>\n",
              "      <td>Планерная м.</td>\n",
              "      <td>5т</td>\n",
              "      <td>11/22 П</td>\n",
              "      <td>Б</td>\n",
              "      <td>С</td>\n",
              "      <td>38.2/19.9/9.9</td>\n",
              "      <td>7990000.0</td>\n",
              "      <td>NaN</td>\n",
              "      <td>NaN</td>\n",
              "      <td>25.07.2019</td>\n",
              "      <td>4.0</td>\n",
              "      <td>Привлекательные</td>\n",
              "      <td>Уютная, светлая квартира, застекленный балкон ...</td>\n",
              "    </tr>\n",
              "    <tr>\n",
              "      <th>6</th>\n",
              "      <td>1</td>\n",
              "      <td>Шаболовская м.</td>\n",
              "      <td>12п</td>\n",
              "      <td>8/12 ?</td>\n",
              "      <td>Б</td>\n",
              "      <td>Р</td>\n",
              "      <td>38/15/7</td>\n",
              "      <td>11200000.0</td>\n",
              "      <td>NaN</td>\n",
              "      <td>NaN</td>\n",
              "      <td>25.07.2019</td>\n",
              "      <td>7.0</td>\n",
              "      <td>Привлекательные</td>\n",
              "      <td>Предлагаю 1- комн квартиру, в шаговой доступно...</td>\n",
              "    </tr>\n",
              "    <tr>\n",
              "      <th>8</th>\n",
              "      <td>1</td>\n",
              "      <td>Бабушкинская м.</td>\n",
              "      <td>15п</td>\n",
              "      <td>4/14 П</td>\n",
              "      <td>NaN</td>\n",
              "      <td>С</td>\n",
              "      <td>34/17/8</td>\n",
              "      <td>6250000.0</td>\n",
              "      <td>NaN</td>\n",
              "      <td>NaN</td>\n",
              "      <td>25.07.2019</td>\n",
              "      <td>11.0</td>\n",
              "      <td>Привлекательные</td>\n",
              "      <td>Продается хорошая 1 комнатная квартира. 1 взро...</td>\n",
              "    </tr>\n",
              "  </tbody>\n",
              "</table>\n",
              "</div>"
            ],
            "text/plain": [
              "  Комнат  ...                                         Примечание\n",
              "0      1  ...  Собственность оформлена! Ключи на руках! Опера...\n",
              "2      1  ...  Зеленоград к.1820 однокомнатная квартира общ.3...\n",
              "4      1  ...  Уютная, светлая квартира, застекленный балкон ...\n",
              "6      1  ...  Предлагаю 1- комн квартиру, в шаговой доступно...\n",
              "8      1  ...  Продается хорошая 1 комнатная квартира. 1 взро...\n",
              "\n",
              "[5 rows x 14 columns]"
            ]
          },
          "metadata": {},
          "execution_count": 7
        }
      ]
    },
    {
      "cell_type": "code",
      "metadata": {
        "colab": {
          "base_uri": "https://localhost:8080/"
        },
        "id": "NgAnSGtsFgh-",
        "outputId": "2d717c36-f279-4f1a-818b-c33782b468b0"
      },
      "source": [
        "print(df.columns) #смотрим имена колонок данных\n",
        "#Мы будем использовать\n",
        "\n",
        "#В xTrain - база числовых значени\n",
        "#Комнат\n",
        "#Метро / ЖД станции\n",
        "#От станции\n",
        "#Дом\n",
        "#Балкон\n",
        "#Санузел\n",
        "#Площадь\n",
        "\n",
        "#В xTrainC - база текстов о квартирах\n",
        "#Примечание\n",
        "\n",
        "#В yTrain\n",
        "#Цена, руб.\n",
        "\n",
        "#Остальные колонки игнорируем"
      ],
      "execution_count": null,
      "outputs": [
        {
          "output_type": "stream",
          "name": "stdout",
          "text": [
            "Index(['Комнат', 'Метро / ЖД станции', 'От станции', 'Дом', 'Балкон',\n",
            "       'Санузел', 'Площадь', 'Цена, руб.', 'ГРМ', 'Бонус агенту', 'Дата',\n",
            "       'Кол-во дней в экспозиции', 'Источник', 'Примечание'],\n",
            "      dtype='object')\n"
          ]
        }
      ]
    },
    {
      "cell_type": "markdown",
      "metadata": {
        "id": "QeV6Fue1Na_6"
      },
      "source": [
        "#Функции парсинга\n",
        "\n",
        "*Разбор данного раздела:* https://youtu.be/h8cOCvlYmN8?t=2126"
      ]
    },
    {
      "cell_type": "code",
      "metadata": {
        "id": "g2iLAtdxNbAS"
      },
      "source": [
        "#Во всех функция дальше\n",
        "#d - описание квартиры, одна строка из data1\n",
        "\n",
        "#Вычисляем количество комнат\n",
        "#maxRoomCount - максимальное число комнат в квартире\n",
        "def getRoomsCount(d, maxRoomCount):\n",
        "  roomsCountStr = d[0] #Получаем строку с числом комнат\n",
        "\n",
        "  roomsCount = 0\n",
        "  try:\n",
        "    roomsCount = int(roomsCountStr) #Пробуем превратить строку в число\n",
        "    if (roomsCount > maxRoomCount): \n",
        "      roomsCount = maxRoomCount #Если число комнат больше максимального, то присваиваем максимальное\n",
        "  except: #Если не получается превратить строку в число\n",
        "    if (roomsCountStr == roomsCountStr): #Проверяем строку на nan (сравнение с самим собой)\n",
        "      if (\"Ст\" in roomsCountStr): #Еcть строка = \"Ст\", значит это Студия\n",
        "        roomsCount = maxRoomCount + 1\n",
        "\n",
        "  return roomsCount\n",
        "\n",
        "#Превращаем число комнат в категорию\n",
        "def getRoomsCountCategory(d, maxRoomCount):\n",
        "  roomsCount = getRoomsCount(d, maxRoomCount) #Получаем число комнат\n",
        "  roomsCount = utils.to_categorical(roomsCount, maxRoomCount+2) #Превращаем в категорию\n",
        "  #maxRoomCount+2 потому что 0 зарезервирован на неопознаное число комнат, а maxRoomCount+1 на \"Студию\"\n",
        "  return roomsCount\n",
        "\n",
        "#Получаем индекс станции метро\n",
        "#allMetroNames - все уникальные названия метро в базе\n",
        "def getMetro(d, allMetroNames):\n",
        "  metroStr = d[1] #Получаем строку метро\n",
        "  metro = 0\n",
        "  \n",
        "  if (metroStr in allMetroNames): #Если находим метро во всех названиях\n",
        "    metro = allMetroNames.index(metroStr)+1 #Присваиваем индекс\n",
        "    #+1 так как 0 зарезервирован на неопознанное метро\n",
        "    \n",
        "  return metro\n",
        "\n",
        "#Получаем тип метро\n",
        "#0 - внутри кольца\n",
        "#1 - кольцо\n",
        "#2 - 1-3 станции от конца\n",
        "#3 - 4-8 станций от кольца\n",
        "#4 - больше 8 станций от кольца\n",
        "def getMetroType(d):\n",
        "  metroTypeStr = d[1] #Получаем строку метро\n",
        "  metroTypeClasses = 5 #Число классов метро\n",
        "  metroType = metroTypeClasses - 1 #Изначально считаем последний класс\n",
        "  \n",
        "  #Метро внутри кольца\n",
        "  metroNamesInsideCircle = [\"Площадь Революции\", \"Арбатская\", \"Смоленская\", \"Красные Ворота\", \"Чистые пруды\", \"Лубянка\", \"Охотный Ряд\", \"Библиотека имени Ленина\", \"Кропоткинская\", \"Сухаревская\", \"Тургеневская\", \"Китай-город\", \"Третьяковская\", \"Трубная\", \"Сретенский бульвар\", \"Цветной бульвар\", \"Чеховская\", \"Боровицкая\", \"Полянка\", \"Маяковская\", \"Тверская\", \"Театральная\", \"Новокузнецкая\", \"Пушкинская\", \"Кузнецкий Мост\", \"Китай-город\", \"Александровский сад\"]\n",
        "  #Метро на кольце\n",
        "  metroNamesCircle = [\"Киевская\", \"Парк Культуры\", \"Октябрьская\", \"Добрынинская\", \"Павелецкая\", \"Таганская\", \"Курская\", \"Комсомольская\", \"Проспект Мира\", \"Новослободская\", \"Белорусская\", \"Краснопресненская\"]\n",
        "  #Метро 1-3 станции от кольца\n",
        "  metroNames13FromCircle = [\"Бауманская\", \"Электрозаводская\", \"Семёновская\", \"Площадь Ильича\", \"Авиамоторная\", \"Шоссе Энтузиастов\", \"Римская\", \"Крестьянская Застава\", \"Дубровка\", \"Пролетарская\", \"Волгоградский проспект\", \"Текстильщики\", \"Автозаводская\", \"Технопарк\", \"Коломенская\", \"Тульская\", \"Нагатинская\", \"Нагорная\", \"Шаболовская\", \"Ленинский проспект\", \"Академическая\", \"Фрунзенская\", \"Спортивная\", \"Воробьёвы горы\", \"Студенческая\", \"Кутузовская\", \"Фили\", \"Парк Победы\", \"Выставочная\", \"Международная\", \"Улица 1905 года\", \"Беговая\", \"Полежаевская\", \"Динамо\", \"Аэропорт\", \"Сокол\", \"Деловой центр\", \"Шелепиха\", \"Хорошёвская\", \"ЦСКА\", \"Петровский парк\", \"Савёловская\", \"Дмитровская\", \"Тимирязевская\", \"Достоевская\", \"Марьина Роща\", \"Бутырская\", \"Фонвизинская\", \"Рижская\", \"Алексеевская\", \"ВДНХ\", \"Красносельская\", \"Сокольники\", \"Преображенская площадь\"]\n",
        "  #Метро 4-8 станций от кольа\n",
        "  metroNames48FromCircle = [\"Партизанская\", \"Измайловская\", \"Первомайская\", \"Щёлковская\", \"Новокосино\", \"Новогиреево\", \"Перово\", \"Кузьминки\", \"Рязанский проспект\", \"Выхино\", \"Лермонтовский проспект\", \"Жулебино\", \"Партизанская\", \"Измайловская\", \"Первомайская\", \"Щёлковская\", \"Новокосино\", \"Новогиреево\", \"Перово\", \"Кузьминки\", \"Рязанский проспект\", \"Выхино\", \"Лермонтовский проспект\", \"Жулебино\", \"Улица Дмитриевского\", \"Кожуховская\", \"Печатники\", \"Волжская\", \"Люблино\", \"Братиславская\", \"Коломенская\", \"Каширская\", \"Кантемировская\", \"Царицыно\", \"Орехово\", \"Севастопольская\", \"Чертановская\", \"Южная\", \"Пражская\", \"Варшавская\", \"Профсоюзная\", \"Новые Черёмушки\", \"Калужская\", \"Беляево\", \"Коньково\", \"Университет\", \"Багратионовская\", \"Филёвский парк\", \"Пионерская\", \"Кунцевская\", \"Молодёжная\", \"Октябрьское Поле\", \"Щукинская\", \"Спартак\", \"Тушинская\", \"Сходненская\", \"Войковская\", \"Водный стадион\", \"Речной вокзал\", \"Беломорская\", \"Ховрино\", \"Петровско-Разумовская\", \"Владыкино\", \"Отрадное\", \"Бибирево\", \"Алтуфьево\", \"Фонвизинская\", \"Окружная\", \"Верхние Лихоборы\", \"Селигерская\", \"ВДНХ\", \"Ботанический сад\", \"Свиблово\", \"Бабушкинская\", \"Медведково\", \"Преображенская площадь\", \"Черкизовская\", \"Бульвар Рокоссовского\"]\n",
        "  \n",
        "  #Проверяем, в какую категорию попадает наша станция\n",
        "  if (metroTypeStr in metroNamesInsideCircle):\n",
        "    metroType = 0\n",
        "  if (metroTypeStr in metroNamesCircle):\n",
        "    metroType = 1\n",
        "  if (metroTypeStr in metroNames13FromCircle):\n",
        "    metroType = 2\n",
        "  if (metroTypeStr in metroNames48FromCircle):\n",
        "    metroType = 3\n",
        "  \n",
        "  #Превращаем результат в категорию\n",
        "  metroType = utils.to_categorical(metroType, metroTypeClasses)\n",
        "  return metroType\n",
        "\n",
        "\n",
        "#Вычисляем растояние до метро\n",
        "def getMetroDistance(d):\n",
        "  metroDistanceStr = d[2] #Получаем строку\n",
        "  \n",
        "  metroDistance = 0 #Расстояние до метро\n",
        "  metroDistanceType = 0 #Тип расстояния - пешком или на транспорте\n",
        "  \n",
        "  #ЕСли строка не равна nan  \n",
        "  if (metroDistanceStr == metroDistanceStr):\n",
        "    if (len(metroDistanceStr) > 0):\n",
        "      #Определяем тип расстояния\n",
        "      if (metroDistanceStr[-1] == \"п\"):\n",
        "        metroDistanceType = 1 #Пешком\n",
        "      elif (metroDistanceStr[-1] == \"т\"):\n",
        "        metroDistanceType = 2 #На транспорте\n",
        "\n",
        "      #Выбрасываем последний символ, чтобы осталось только число\n",
        "      metroDistanceStr = metroDistanceStr[:-1]\n",
        "      try:\n",
        "        #Разделяем дистанции на категории\n",
        "        metroDistance = int(metroDistanceStr)\n",
        "        if (metroDistance < 3):\n",
        "          metroDistance = 1\n",
        "        elif (metroDistance < 6):\n",
        "          metroDistance = 2\n",
        "        elif (metroDistance < 10):\n",
        "          metroDistance = 3\n",
        "        elif (metroDistance < 15):\n",
        "          metroDistance = 4\n",
        "        elif (metroDistance < 20):\n",
        "          metroDistance = 5\n",
        "        else:\n",
        "          metroDistance = 6\n",
        "      except: #Если в строке не число, то категория 0\n",
        "        metroDistance = 0\n",
        "  \n",
        "  #Число классов дистанции\n",
        "  metroDistanceClasses = 7\n",
        "  \n",
        "  #У нас 7 категорий дистанции по расстоянию\n",
        "  #И 3 типа дистанции - неопознанный, пешком и транспортом\n",
        "  #Мы создадим вектор длины 3*7 = 21\n",
        "  #Будем преобразовывать индекс расстояния 0-6 в 0-20\n",
        "  #Для типа \"Пешком\" - ничего не меняем\n",
        "  if (metroDistanceType == 2):\n",
        "    metroDistance += metroDistanceClasses #Для типа \"Транспортом\" добавляем 7\n",
        "  if (metroDistanceType == 0):\n",
        "    metroDistance += 2*metroDistanceClasses #Для неопознанного типа добавляем 14\n",
        "    \n",
        "  #Превращаем в категории\n",
        "  metroDistance = utils.to_categorical(metroDistance, 3*metroDistanceClasses)\n",
        "  return metroDistance\n",
        "\n",
        "#Получаем 4 данных\n",
        "#- этаж квартиры\n",
        "#- этажность дома\n",
        "#- индикатор, что последний этаж\n",
        "#- тип дома\n",
        "def getHouseTypeAndFloor(d):\n",
        "  try:\n",
        "    houseStr = d[3] #Получаем строку типа дома и этажей\n",
        "  except:\n",
        "    houseStr = \"\"\n",
        "  \n",
        "  houseType = 0 #Тип дома\n",
        "  floor = 0 #Этаж квартиры\n",
        "  floors = 0 #Этажность дома\n",
        "  isLastFloor = 0 #Индикатор последнего этажа\n",
        "  \n",
        "  #Проверяем строку на nan\n",
        "  if (houseStr == houseStr):\n",
        "    if (len(houseStr) > 1):\n",
        "    \n",
        "      try:\n",
        "        slashIndex = houseStr.index(\"/\") #Ищем разделитель /\n",
        "      except:\n",
        "        print(houseStr)\n",
        "\n",
        "      try:\n",
        "        spaceIndex = houseStr.index(\" \") #Ищем разделитель \" \"\n",
        "      except:\n",
        "        print(houseStr)\n",
        "\n",
        "      #Вытаскиваем строки\n",
        "      floorStr = houseStr[:slashIndex] #Строка этажа\n",
        "      floorsStr = houseStr[slashIndex+1:spaceIndex] #Строка этажнгости дома\n",
        "      houseTypeStr = houseStr[spaceIndex+1:] #Строка типа дома\n",
        "\n",
        "      #Выбираем категорию этажа\n",
        "      try:\n",
        "        floor = int(floorStr) #Превращаем строку в число\n",
        "        floorSave = floor\n",
        "        if (floorSave < 5):\n",
        "          floor = 2\n",
        "        if (floorSave < 10):\n",
        "          floor = 3\n",
        "        if (floorSave < 20):\n",
        "          floor = 4\n",
        "        if (floorSave >= 20):\n",
        "          floor = 5\n",
        "        if (floorSave == 1): #Первый этаж выделяем в отдельную категорию\n",
        "          floor = 1 \n",
        "\n",
        "        if (int(floorStr) == int(floorsStr)): #Если этаж последний, включаем индикатор последнего этажа\n",
        "          isLastFloor = 1 \n",
        "      except:\n",
        "        floor = 0 #Если строка не парсится в число, то категория этажа = 0 (отдельная)\n",
        "\n",
        "      #Выбираем категорию этажности дома\n",
        "      try:\n",
        "        floors = int(floorsStr) #Превращаем строку в число\n",
        "        floorsSave = floors\n",
        "        if (floorsSave < 5):\n",
        "          floors = 1\n",
        "        if (floorsSave < 10):\n",
        "          floors = 2\n",
        "        if (floorsSave < 20):\n",
        "          floors = 3\n",
        "        if (floorsSave >= 20):\n",
        "          floors = 4\n",
        "      except:\n",
        "        floors = 0 #Если строка не парсится в число, то категория этажности = 0 (отдельная)\n",
        "\n",
        "      #Определяем категорию типа дома\n",
        "      if (len(houseTypeStr) > 0):\n",
        "        if (\"М\" in houseTypeStr): \n",
        "          houseType = 1\n",
        "        if (\"К\" in houseTypeStr): \n",
        "          houseType = 2\n",
        "        if (\"П\" in houseTypeStr): \n",
        "          houseType = 3\n",
        "        if (\"Б\" in houseTypeStr): \n",
        "          houseType = 4\n",
        "        if (\"?\" in houseTypeStr): \n",
        "          houseType = 5\n",
        "        if (\"-\" in houseTypeStr): \n",
        "          houseType = 6\n",
        "    \n",
        "    #Превращаем все категории в one hot encoding\n",
        "    floor = utils.to_categorical(floor, 6)\n",
        "    floors = utils.to_categorical(floors, 5)\n",
        "    houseType = utils.to_categorical(houseType, 7)\n",
        "    \n",
        "    \n",
        "  return floor, floors, isLastFloor, houseType\n",
        "\n",
        "\n",
        "#Вычисляем тип балкона\n",
        "def getBalcony(d):\n",
        "  balconyStr = d[4] #Полуаем строку\n",
        "  #Выписываем все варианты балконов в базе\n",
        "  balconyVariants = ['Л', 'Б', '2Б', '-', '2Б2Л', 'БЛ', '3Б', '2Л', 'Эрк', 'Б2Л', 'ЭркЛ', '3Л', '4Л', '*Л', '*Б']\n",
        "  #Проверяем на nan\n",
        "  if (balconyStr == balconyStr):\n",
        "    balcony = balconyVariants.index(balconyStr)+1 #Находим индекс строки балкона во всех строках\n",
        "  else:\n",
        "    balcony = 0 #Индекс 0 выделяем на строку nan\n",
        "  \n",
        "  #Превращаем в one hot encoding\n",
        "  balcony = utils.to_categorical(balcony, 16)\n",
        "  \n",
        "  return balcony\n",
        "\n",
        "#Определяем тип санузла\n",
        "def getWC(d):\n",
        "  wcStr = d[5] #Получаем строку\n",
        "  #Выписываем все варианты санузлов в базе\n",
        "  wcVariants = ['2', 'Р', 'С', '-', '2С', '+', '4Р', '2Р', '3С', '4С', '4', '3', '3Р']\n",
        "  #Проверяем на nan\n",
        "  if (wcStr == wcStr):\n",
        "    wc = wcVariants.index(wcStr)+1 #Находим индекс строки санузла во всех строках\n",
        "  else:\n",
        "    wc = 0 #Индекс 0 выделяем на строку nan\n",
        "  \n",
        "  #Превращаем в one hot encoding\n",
        "  wc = utils.to_categorical(wc, 14)\n",
        "  \n",
        "  return wc\n",
        "\n",
        "#Определяем площадь\n",
        "def getArea(d):\n",
        "  areaStr = d[6] #Поулачем строку площади\n",
        "  \n",
        "  if (\"/\" in areaStr):\n",
        "    slashIndex = areaStr.index(\"/\") #Находим разделитель /\n",
        "    try:\n",
        "      area = float(areaStr[:slashIndex]) #Берём число до разделителя и превращаем в число\n",
        "    except:\n",
        "      area = 0 #Если не получается, возвращаем 0\n",
        "  else:\n",
        "    area = 0 #Или если нет разделителя, возвращаем 0\n",
        "    \n",
        "  return area\n",
        "\n",
        "#Получаем цену\n",
        "def getCost(d):\n",
        "  costStr = d[7] #Загружаем строку\n",
        "  \n",
        "  try:\n",
        "    cost = float(costStr) #Пробуем превратить в число\n",
        "  except:\n",
        "    cost = 0 #Если не получается, возвращаем 0\n",
        "  \n",
        "  return cost\n",
        "\n",
        "#Получаем комментарий\n",
        "def getComment(d):\n",
        "  commentStr = d[-1] #Возвращаем данные из последней колонки\n",
        "  \n",
        "  return commentStr\n",
        "\n",
        "#Объединяем все числовые параметры вместе\n",
        "def getAllParameters(d, allMetroNames):\n",
        "  #Загружаем все данные по отдельности\n",
        "  roomsCountType = getRoomsCountCategory(d, 30)\n",
        "  metro = getMetro(d, allMetroNames)\n",
        "  metroType = getMetroType(d)\n",
        "  metroDistance = getMetroDistance(d)\n",
        "  floor, floors, isLastFloor, houseType = getHouseTypeAndFloor(d)\n",
        "  balcony = getBalcony(d)\n",
        "  wc = getWC(d)\n",
        "  area = getArea(d)\n",
        "\n",
        "  #Объединяем в один лист\n",
        "  out = list(roomsCountType)\n",
        "  out.append(metro)\n",
        "  out.extend(metroType)\n",
        "  out.extend(metroDistance)\n",
        "  out.extend(floor)\n",
        "  out.extend(floors)\n",
        "  out.append(isLastFloor)\n",
        "  out.extend(houseType)\n",
        "  out.extend(balcony)\n",
        "  out.extend(wc)\n",
        "  out.append(area)\n",
        "  \n",
        "  return out\n",
        "\n",
        "#Генерируем обучающаюу выборку - xTrain\n",
        "def getXTrain(data):\n",
        "  \n",
        "  #Получаем строку во всеми вариантами метро\n",
        "  allMertroNames = list(df[\"Метро / ЖД станции\"].unique())\n",
        "  \n",
        "  #Всевращаем все строки в data1 в векторы параметров и записываем в xTrain\n",
        "  xTrain = [getAllParameters(d, allMertroNames) for d in data]\n",
        "  xTrain = np.array(xTrain)\n",
        "  \n",
        "  return xTrain\n",
        "\n",
        "#Генерируем обучающую выборку - yTrain\n",
        "def getYTrain(data):\n",
        "  \n",
        "  #Зашружаем лист всех цен квартир по всем строкам data1\n",
        "  costList = [getCost(d) for d in data] \n",
        "  yTrain = np.array(costList)\n",
        "  \n",
        "  return yTrain"
      ],
      "execution_count": null,
      "outputs": []
    },
    {
      "cell_type": "markdown",
      "metadata": {
        "id": "Wat8ivO6OFTU"
      },
      "source": [
        "# Создание выборки\n"
      ]
    },
    {
      "cell_type": "code",
      "metadata": {
        "colab": {
          "base_uri": "https://localhost:8080/"
        },
        "id": "sB126DFQORnU",
        "outputId": "a25bacf7-c48f-4432-a45a-8bc149652393"
      },
      "source": [
        "oneRoomMask = [getRoomsCount(d, 30) == 1 for d in data] #Делаем маску однокомнатных квартир, принцип (getRoomsCount(d, 30) == 1)\n",
        "data1 = data[oneRoomMask] #В data1 оставляем только однокомнатные квартиры\n",
        "print(data.shape)\n",
        "print(data1.shape)"
      ],
      "execution_count": null,
      "outputs": [
        {
          "output_type": "stream",
          "name": "stdout",
          "text": [
            "(126268, 14)\n",
            "(62504, 14)\n"
          ]
        }
      ]
    },
    {
      "cell_type": "code",
      "metadata": {
        "colab": {
          "base_uri": "https://localhost:8080/"
        },
        "id": "pz8ZiUIZ0xmj",
        "outputId": "550500b9-3841-4e27-83fe-d28c60edb6c4"
      },
      "source": [
        "xTrain = getXTrain(data1)\n",
        "yTrain = getYTrain(data1)\n",
        "print(xTrain.shape)"
      ],
      "execution_count": null,
      "outputs": [
        {
          "output_type": "stream",
          "name": "stdout",
          "text": [
            "(62504, 109)\n"
          ]
        }
      ]
    },
    {
      "cell_type": "code",
      "metadata": {
        "colab": {
          "base_uri": "https://localhost:8080/"
        },
        "id": "M0XVpRifPYvF",
        "outputId": "c6fe3b1b-f932-462a-8adf-97cbb741a115"
      },
      "source": [
        "print(xTrain[0][-1])"
      ],
      "execution_count": null,
      "outputs": [
        {
          "output_type": "stream",
          "name": "stdout",
          "text": [
            "64.1\n"
          ]
        }
      ]
    },
    {
      "cell_type": "code",
      "metadata": {
        "id": "NKgJttlIPYqM"
      },
      "source": [
        "###########################\n",
        "# Формируем обучающую выборку из примечаний к квартирам\n",
        "# Пока в виде слов\n",
        "##########################\n",
        "def getXTrainComments(data):\n",
        "  xTrainComments = [] #Тут будет обучающая выборка\n",
        "  allTextComments = \"\" #Тут будуте все тексты вместе для словаря\n",
        "  \n",
        "  #Идём по всем строкам квартир в базе\n",
        "  for d in data:\n",
        "    currText = getComment(d) #Вытаскиваем примечание к квартире\n",
        "    try: \n",
        "      if (currText == currText): #Проверяем на nan\n",
        "        allTextComments += currText + \" \" #Добавляем текст в общий текст для словаря\n",
        "    except:\n",
        "      currText = \"Нет комментария\" #Если не получается, то делаем стандартный текст \"Нет комментария\"\n",
        "    xTrainComments.append(currText) #Добавляем примечание новой строкой в обучающую выборку\n",
        "  \n",
        "  xTrainComments = np.array(xTrainComments)\n",
        "  \n",
        "  return (xTrainComments, allTextComments)"
      ],
      "execution_count": null,
      "outputs": []
    },
    {
      "cell_type": "code",
      "metadata": {
        "id": "7KX0cOJ31bsH"
      },
      "source": [
        ""
      ],
      "execution_count": null,
      "outputs": []
    },
    {
      "cell_type": "markdown",
      "metadata": {
        "id": "6mV3qzZP1kmd"
      },
      "source": [
        "# Создание xTrain (cобираем по текстам)"
      ]
    },
    {
      "cell_type": "code",
      "metadata": {
        "id": "01dL3Umt1xDX"
      },
      "source": [
        "xTrainC, allTextComments = getXTrainComments (data1)  #создали обучающую выборку по текстам и полную для словаря\n"
      ],
      "execution_count": null,
      "outputs": []
    },
    {
      "cell_type": "code",
      "metadata": {
        "colab": {
          "base_uri": "https://localhost:8080/"
        },
        "id": "iOPmq_QjUiWE",
        "outputId": "db136298-2109-45f6-a971-221f8e3742f5"
      },
      "source": [
        "print(xTrainC[0])\n",
        "print(allTextComments[:30])"
      ],
      "execution_count": null,
      "outputs": [
        {
          "output_type": "stream",
          "name": "stdout",
          "text": [
            "Собственность оформлена! Ключи на руках! Оперативный показ и выход на сделку! Свободная продажа! Предлагаем приобрести апартаменты премиального уровня в ЖК «Сердце столицы» с шикарными видовыми характеристиками (смотрите фото), таких предложений в данном ЖК - нет! Реальные живые фото, из личного архива! Закрытая территория, уютные и безопасные дворы без автомобилей, подземный паркинг с автомойками, имеется м/м за отдельную плату, круглосуточная охрана. Собственная инфраструктура включает фитнес-центр, стадион, беговые и велосипедные дорожки, скейт-парк, йога-центры, летний театр, 500-метровая набережная с пляжной зоной и причалом, на территории будет располагаться собственная школа и детский сад и т.д. В шаговой доступности метро: Шелепиха, Международная, Деловой центр, Выставочная, Фили. Удобная транспортная доступность. Звоните! Может именно это предложение Вы уже давно ищете!\n",
            "Собственность оформлена! Ключи\n"
          ]
        }
      ]
    },
    {
      "cell_type": "code",
      "metadata": {
        "id": "xuInV77nU2j8"
      },
      "source": [
        "maxWordsCount = 2000\n",
        "tokenizer = Tokenizer(num_words = maxWordsCount, filters = '–—!\"#$%&()*+,-./:;<=>?@[\\\\]^_`{|}~\\t\\n\\xa0–\\ufeff', lower = True, split = ' ', char_level = False, oov_token = 'unknown')\n",
        "tokenizer.fit_on_texts(xTrainC)\n",
        "items = list(tokenizer.word_index.items()) #вытаскиваем индексы слов для просмотра"
      ],
      "execution_count": null,
      "outputs": []
    },
    {
      "cell_type": "code",
      "metadata": {
        "colab": {
          "base_uri": "https://localhost:8080/"
        },
        "id": "RugjOHsvU2bL",
        "outputId": "19338f87-7f94-4f87-acd6-dd6e3e0d2b05"
      },
      "source": [
        "print(items[:30])"
      ],
      "execution_count": null,
      "outputs": [
        {
          "output_type": "stream",
          "name": "stdout",
          "text": [
            "[('unknown', 1), ('в', 2), ('и', 3), ('на', 4), ('с', 5), ('от', 6), ('м', 7), ('квартира', 8), ('1', 9), ('кв', 10), ('для', 11), ('метро', 12), ('по', 13), ('до', 14), ('дома', 15), ('жк', 16), ('2', 17), ('продается', 18), ('комплекс', 19), ('5', 20), ('3', 21), ('парк', 22), ('доступности', 23), ('рядом', 24), ('москвы', 25), ('этаже', 26), ('из', 27), ('без', 28), ('жилой', 29), ('комплекса', 30)]\n"
          ]
        }
      ]
    },
    {
      "cell_type": "code",
      "metadata": {
        "id": "QzLIewr2WuuE"
      },
      "source": [
        "# преобразовываем текст в последовательность индексов согласно частотному словарю\n",
        "trainWordIndexes = tokenizer.texts_to_sequences(xTrainC) # обучающие тексты в индексы"
      ],
      "execution_count": null,
      "outputs": []
    },
    {
      "cell_type": "code",
      "metadata": {
        "colab": {
          "base_uri": "https://localhost:8080/"
        },
        "id": "4KCg2sYrWuXJ",
        "outputId": "80701434-d4d6-4a35-ab7a-b0abef16ac25"
      },
      "source": [
        "print(trainWordIndexes[:30])"
      ],
      "execution_count": null,
      "outputs": [
        {
          "output_type": "stream",
          "name": "stdout",
          "text": [
            "[[422, 1, 449, 4, 1550, 306, 243, 3, 229, 4, 259, 77, 55, 1804, 1932, 197, 1, 1326, 2, 16, 1, 1, 5, 1, 1, 1, 1, 1253, 1, 1, 2, 1, 16, 367, 1, 1, 1253, 27, 1, 1, 453, 104, 641, 3, 1748, 288, 28, 227, 96, 67, 5, 1, 670, 7, 7, 172, 1, 1, 570, 381, 500, 36, 370, 126, 60, 689, 1, 3, 1490, 965, 1, 22, 1, 110, 709, 1033, 1627, 1, 767, 5, 1, 642, 3, 1, 4, 56, 107, 1, 500, 41, 3, 69, 39, 3, 622, 201, 2, 57, 23, 12, 1280, 1, 991, 60, 1, 831, 380, 182, 145, 154, 1583, 1321, 71, 456, 335, 261, 1, 1], [1, 53, 1, 91, 8, 938, 485, 45, 174, 105, 103, 5, 586, 605, 818, 10, 7, 31, 43, 24, 101, 1, 1, 143, 1895, 161, 1895, 15, 224, 149, 1154, 1125, 418, 77, 55, 243, 2, 868, 217, 449, 4, 1550], [232, 233, 8, 1371, 228, 4, 597, 558, 81, 5, 166, 115, 33, 34, 92, 44, 136, 24, 22, 1, 1414, 1, 1, 1, 503, 3, 839, 2, 1, 717, 6, 15], [1, 9, 66, 140, 2, 57, 23, 6, 45, 242, 610, 12, 233, 2, 793, 416, 173, 155, 450, 228, 5, 1282, 27, 283, 3, 284, 1, 269, 1425, 970, 114, 1, 332, 1, 1, 1078, 418, 141, 210, 170, 116, 377, 88, 21, 242, 144, 2, 209, 309, 106], [18, 694, 9, 122, 8, 9, 139, 64, 2, 209, 88, 21, 242, 144, 1438, 4, 140, 367, 779, 133, 600, 77, 55, 1, 1, 8, 49, 1418, 243, 13, 1037], [9, 66, 8, 2, 16, 863, 271, 4, 105, 26, 31, 509, 449, 1, 103, 37, 729, 78, 10, 7, 256, 161, 68, 10, 7, 75, 883, 187, 17, 10, 7, 234, 141, 238, 21, 111, 7, 8, 250, 728, 53, 1065, 3, 807, 733, 114, 1, 673, 42, 1665, 1, 1, 5, 695, 1127, 160, 337, 1, 1, 510, 48, 5, 805, 877, 3, 576, 4, 1137, 3, 95, 1735, 669, 1247, 31, 171, 559, 129, 4, 26, 59, 165, 2, 320, 45, 869, 3, 17, 891, 377, 305, 1, 31, 509, 2, 57, 23, 117, 58, 12, 1280, 1, 7, 1370, 9, 68, 80, 831, 9, 68, 80, 803, 9, 68, 80, 2, 320, 538, 1, 113, 151, 512, 1010, 1, 263, 29, 19, 863, 271, 43, 4, 445, 95, 225, 609, 937, 314, 5, 1680, 3, 1, 2, 1342, 30, 1472, 78, 142, 134, 590, 41, 3, 69, 39, 385, 19, 5, 1482, 1854, 3, 1, 825, 96, 67, 5, 1, 1, 859, 37, 11, 1, 3, 530, 1, 709, 1033, 1, 1, 1367, 1388, 273, 229, 4, 259, 285], [1, 1077, 1174, 140, 5, 1, 740, 224, 155, 5, 1713, 1, 75, 418, 141, 539, 155, 31, 1506, 153, 795, 2, 12, 248, 1, 77, 55, 62, 139, 64, 361, 49, 554, 383, 584, 53, 1009, 106, 1773, 28, 770, 113, 1, 1, 211, 210, 170, 74, 175, 69, 39, 3, 41, 285, 780], [945, 233, 8, 5, 1, 1, 2, 17, 242, 40, 99, 6, 12, 62, 139, 64, 88, 59, 260, 144, 1, 367, 383, 584, 53, 1009], [18, 9, 66, 8, 52, 485, 105, 222, 2, 32, 90, 38, 6, 7, 1, 1267, 32, 59, 90, 38, 14, 7, 1, 32, 90, 852, 14, 7, 1, 81, 193, 1, 1267, 780, 673, 879, 5, 1380, 1, 1, 256, 37, 111, 105, 222, 75, 78, 20, 10, 7, 1, 113, 4, 597, 3, 2, 344, 82, 319, 1623, 4, 495, 1, 1, 17, 48, 330, 74, 47, 5, 153, 418, 1, 643, 1, 8, 701, 4, 68, 26, 161, 51, 952, 15, 176, 204, 17, 1, 7, 1, 1, 1, 1], [399, 232, 8, 2, 16, 181, 61, 742, 281, 484, 5, 807, 98, 133, 1040, 13, 601, 290, 2, 1474, 14, 1, 1, 3, 1, 755, 584, 764, 155, 250, 1281, 103, 37, 42, 186, 105, 286, 173, 155, 1067, 59, 286, 5, 78, 20, 1, 695, 934, 1, 706, 261, 5, 1192, 219, 94, 892, 1, 4, 17, 1, 383, 584, 11, 1, 1, 4, 259, 1, 13, 862, 1723, 406, 42, 4, 32, 7, 26, 2, 1, 621, 1208, 15, 2, 1, 282, 9, 168, 17, 627, 48, 330, 74, 47, 875, 538, 2, 479, 1, 5, 1380, 1453, 634, 86, 1, 5, 1051, 3, 1, 1, 1, 3, 1904, 11, 564, 519, 3, 617, 11, 1372, 17, 1, 888, 96, 3, 1805, 1, 3, 1514, 180, 81, 5, 166, 115, 3, 753, 1245, 4, 445, 225, 480, 1, 5, 1, 3, 1, 1, 642, 2, 93, 23, 117, 3, 1028, 205, 1, 625, 1, 1, 1, 94, 625, 1, 1, 41, 3, 17, 72, 121, 4, 939, 30, 1, 3, 1, 47, 28, 128, 11, 322, 1, 512, 620, 65, 1, 27, 462, 1, 3, 1, 1, 11, 650, 1731, 152, 70, 150, 762, 1, 1, 132, 3, 313, 14, 12, 1076, 146, 20, 35, 4, 1055, 658, 671, 2, 57, 23, 53, 1, 94, 781, 1, 342, 2, 93, 23, 14, 32, 35, 1, 1], [53, 459, 399, 8, 2, 1, 416, 2, 931, 1, 3, 1, 46, 25, 220, 1, 346, 170, 1, 6, 1, 441, 113, 469, 133, 333, 54, 878, 512, 3, 1856, 8, 1281, 1008, 463, 4, 597, 3, 1008, 544, 387, 2, 85, 1397, 558, 1, 776, 1, 1220, 2, 135, 42, 8, 700, 3, 966, 552, 1, 425, 2, 1550, 1465, 1946, 106, 1773, 285, 1], [384, 1697, 47, 1799, 31, 1, 1, 94, 936, 210, 170, 690, 1, 1437, 4, 45, 42, 8, 1418, 373, 28, 1056, 62, 1, 77, 55, 1, 407, 13, 1, 212, 154], [1951, 1952, 1, 217, 1, 1, 13, 1011, 1, 1, 2, 932, 536, 1738, 1, 353, 54, 1, 18, 9, 66, 8, 2, 16, 1412, 4, 111, 26, 103, 37, 326, 20, 10, 7, 256, 251, 78, 10, 7, 37, 521, 284, 231, 21, 10, 7, 2, 85, 62, 228, 62, 234, 141, 176, 204, 21, 768, 7, 2, 85, 118, 151, 477, 280, 5, 805, 1524, 3, 877, 946, 54, 755, 151, 1645, 887, 335, 1, 1, 1603, 1, 1, 2, 1, 1, 613, 15, 2, 85, 1070, 507, 1, 48, 171, 17, 17, 20, 659, 3, 1, 14, 17, 21, 659, 1, 1890, 1, 3, 1, 1, 8, 2, 561, 562, 107, 1, 332, 1, 5, 98, 1557, 1575, 409, 1, 706, 2, 320, 49, 107, 1, 1, 3, 1, 4, 1, 335, 1172, 1, 1187, 156, 1052, 849, 1204, 1, 1236, 566, 168, 541, 590, 1, 11, 156, 1, 1, 1856, 878, 512, 263, 910, 2, 170, 28, 478, 1, 346, 1848, 1, 49, 275, 11, 571, 411, 3, 11, 574, 31, 368, 1247, 171, 186, 129, 4, 26, 231, 165, 2, 320, 17, 869, 3, 45, 891, 377, 967, 214, 17, 76, 893, 94, 436, 127, 13, 496, 749, 739, 2, 57, 23, 6, 102, 30, 117, 58, 12, 1466, 1101, 7, 1304, 1318, 7, 1, 9, 9, 80, 1, 1, 202, 1084, 1725, 570, 381, 4, 120, 108, 1, 132, 1, 1, 33, 3, 1028, 245, 1937, 1794, 3, 1094, 269, 3, 349, 1, 47, 641, 152, 70, 5, 1, 620, 65, 11, 322, 1, 1237, 1, 745, 325, 570, 381, 619, 1, 979, 3, 894, 24, 5, 277, 1244, 572, 337, 682, 12, 146, 2, 648, 1005, 717, 167, 1466, 1, 1724, 1368, 3, 167, 1304, 1, 1368, 2, 17, 20, 80, 6, 30, 450, 230, 4, 179, 5, 1817, 84, 1148, 2, 809, 189, 1, 1113, 1, 470, 486, 470, 1, 486, 1182, 486, 470, 905, 3, 530, 1], [1951, 1952, 1, 217, 1, 1, 13, 1011, 1, 154, 2, 932, 536, 1738, 1, 353, 54, 1, 18, 9, 66, 8, 5, 98, 1557, 1575, 2, 16, 1412, 4, 163, 26, 103, 37, 326, 20, 10, 7, 256, 251, 78, 10, 7, 37, 521, 284, 231, 21, 10, 7, 2, 85, 62, 228, 62, 234, 141, 176, 204, 21, 768, 7, 8, 107, 1, 5, 98, 1557, 1575, 255, 54, 1, 1714, 4, 495, 1, 514, 1, 3, 1, 151, 394, 477, 280, 5, 805, 1524, 3, 877, 3, 1645, 887, 484, 1149, 1, 946, 54, 755, 472, 297, 213, 2, 1, 1, 335, 1, 872, 3, 28, 1, 1, 1, 577, 494, 124, 1, 156, 1557, 1575, 1, 1212, 3, 1, 215, 776, 1, 13, 733, 42, 335, 1172, 1, 2, 600, 1, 789, 4, 1, 1, 1405, 673, 156, 2, 85, 1070, 507, 1, 48, 171, 17, 17, 20, 659, 3, 1, 14, 17, 21, 659, 1, 1890, 1, 3, 1, 1, 8, 2, 561, 562, 107, 1, 332, 1, 5, 98, 1557, 1575, 409, 1, 706, 2, 320, 49, 107, 1, 1, 3, 1, 4, 1, 335, 1172, 1, 1187, 156, 1052, 849, 1204, 1, 1236, 566, 168, 541, 590, 1, 11, 156, 1, 1, 1856, 878, 512, 263, 910, 2, 170, 28, 478, 1, 346, 1848, 1, 49, 275, 11, 571, 411, 3, 11, 574, 31, 368, 1247, 171, 186, 129, 4, 26, 231, 165, 2, 320, 17, 869, 3, 45, 891, 377, 967, 214, 17, 76, 893, 94, 436, 127, 13, 496, 749, 739, 2, 57, 23, 6, 102, 30, 117, 58, 12, 1466, 1101, 7, 1304, 1318, 7, 1, 9, 9, 80, 1, 1, 202, 1084, 1725, 570, 381, 4, 120, 108, 1, 132, 1, 1, 33, 3, 1028, 245, 1937, 1794, 3, 1094, 269, 3, 349, 1, 47, 641, 152, 70, 5, 1, 620, 65, 11, 322, 1, 1237, 1, 745, 325, 570, 381, 619, 1, 979, 3, 894, 24, 5, 277, 1244, 572, 337, 682, 12, 146, 2, 648, 1005, 717, 167, 1466, 1, 1724, 1368, 3, 167, 1304, 1, 1368, 2, 17, 20, 80, 6, 30, 450, 230, 4, 179, 5, 1817, 84, 1148, 2, 809, 189, 1, 1113, 1, 470, 486, 470, 1, 486, 1182, 486, 470, 905, 3, 530, 1], [1951, 1952, 1, 4, 1324, 42, 6, 1131, 1, 536, 613, 130, 1324, 341, 13, 1011, 1, 1, 2, 932, 536, 668, 353, 54, 1, 1, 91, 8, 2, 16, 1412, 4, 177, 26, 103, 37, 326, 105, 10, 7, 256, 251, 78, 10, 7, 37, 521, 284, 231, 21, 10, 7, 2, 85, 62, 234, 141, 176, 204, 21, 768, 7, 2, 85, 118, 151, 477, 280, 5, 805, 1524, 3, 877, 946, 54, 755, 151, 1645, 887, 335, 1, 1, 1603, 1, 1, 2, 1, 1, 613, 15, 1, 536, 613, 130, 16, 1412, 168, 43, 4, 1098, 208, 1, 225, 1, 27, 247, 1, 165, 1178, 1, 1, 1, 1, 25, 2, 459, 1503, 42, 1, 1103, 2, 738, 846, 1, 5, 1051, 1, 1, 762, 165, 304, 21, 222, 1086, 9, 222, 16, 1412, 308, 124, 181, 61, 2, 21, 90, 6, 7, 1304, 31, 368, 1247, 171, 186, 129, 4, 26, 251, 165, 2, 320, 17, 869, 3, 45, 891, 377, 967, 214, 9, 76, 893, 94, 436, 127, 13, 496, 749, 739, 2, 57, 23, 6, 102, 30, 117, 58, 12, 1466, 1101, 7, 1304, 1318, 7, 1, 9, 9, 80, 1, 1, 202, 1084, 1725, 570, 381, 4, 120, 108, 1, 132, 1, 1, 33, 3, 1028, 245, 1937, 1794, 3, 1094, 269, 3, 349, 1, 47, 641, 152, 70, 5, 1, 620, 65, 11, 322, 1, 1237, 1, 745, 325, 570, 381, 619, 1, 979, 3, 894, 24, 5, 277, 1244, 572, 337, 682, 12, 146, 2, 648, 1005, 717, 167, 1466, 1, 1724, 1368, 3, 167, 1304, 1, 1368, 2, 17, 20, 80, 6, 30, 450, 230, 4, 179, 5, 1817, 84, 1148, 2, 809, 189, 1, 1113, 1, 470, 486, 470, 1, 486, 1182, 486, 470, 905, 3, 530, 1], [1214, 1, 1, 1, 1268, 49, 1, 1, 1, 1, 135, 42, 28, 1511, 254, 68, 1, 1114, 1, 1, 1, 1, 1, 1, 1, 1, 536, 613, 249, 1, 1, 1268, 6, 1, 1864, 222, 1951, 1952, 1, 4, 1324, 42, 6, 1131, 13, 1011, 1, 1, 2, 932, 536, 668, 353, 54, 1, 1, 173, 91, 8, 2, 16, 1829, 4, 9, 26, 103, 37, 578, 20, 10, 7, 256, 163, 10, 7, 37, 521, 284, 32, 45, 10, 7, 2, 85, 62, 234, 141, 176, 204, 21, 17, 7, 135, 42, 101, 1953, 73, 287, 648, 1, 1, 592, 1478, 477, 300, 4, 1, 95, 252, 612, 269, 1631, 47, 1566, 4, 1869, 123, 2, 447, 1, 4, 1098, 5, 1288, 941, 22, 1327, 563, 63, 2, 1373, 23, 810, 21, 58, 12, 96, 67, 11, 227, 381, 11, 1672, 574, 3, 1309, 60, 11, 322, 31, 368, 1, 226, 183, 6, 32, 14, 111, 129, 8, 79, 2, 9, 595, 621, 171, 32, 129, 4, 26, 105, 165, 2, 320, 17, 869, 3, 9, 636, 663, 934, 214, 17, 76, 219, 94, 967, 214, 45, 76, 315, 94, 436, 127, 13, 496, 749, 739, 2, 57, 23, 6, 102, 30, 117, 58, 12, 1335, 9, 17, 80, 37, 1, 9, 17, 80, 1, 9, 21, 80, 267, 131, 1829, 1, 1, 1, 662, 1, 408, 1, 1, 3, 1, 1, 1, 11, 25, 494, 3, 1, 1, 1563, 1014, 1940, 3, 1, 53, 1, 1, 19, 43, 2, 1213, 46, 4, 1098, 1, 1507, 20, 80, 14, 853, 9, 20, 80, 14, 1139, 1004, 9, 1, 14, 58, 12, 37, 1, 4, 56, 16, 223, 44, 147, 1, 72, 293, 1, 1, 22, 1327, 563, 1, 17, 1, 11, 1362, 1372, 760, 96, 923, 67, 8, 18, 961, 1479, 1131, 215, 1406, 353, 633, 1085, 341, 127, 3, 1407, 1233, 327, 1148, 2, 809, 696, 527, 486, 1182, 486, 470, 905, 189, 470, 1002, 1, 1160, 1113, 1, 3, 530, 1], [1, 536, 613, 130, 1324, 341, 1951, 1952, 146, 272, 1, 672, 1, 1077, 101, 1953, 407, 13, 212, 668, 353, 54, 1, 1, 18, 9, 66, 8, 2, 16, 1412, 4, 17, 26, 103, 37, 818, 9, 10, 7, 256, 251, 78, 10, 7, 37, 521, 284, 231, 105, 10, 7, 2, 85, 62, 234, 141, 176, 204, 21, 768, 7, 2, 85, 118, 151, 477, 280, 5, 805, 1524, 3, 877, 946, 54, 755, 151, 1645, 887, 335, 1, 1, 1603, 1, 1, 2, 1, 1, 613, 15, 1, 536, 613, 130, 16, 1412, 168, 43, 4, 1098, 208, 1, 225, 1, 27, 247, 1, 165, 1178, 1, 1, 1, 1, 25, 2, 459, 1503, 42, 1, 1103, 2, 738, 846, 1, 5, 1051, 1, 1, 762, 165, 304, 21, 222, 1086, 9, 222, 16, 1412, 308, 124, 181, 61, 2, 21, 90, 6, 7, 1304, 31, 368, 1247, 171, 186, 129, 4, 26, 251, 165, 2, 320, 17, 869, 3, 45, 891, 377, 967, 214, 9, 76, 893, 94, 436, 127, 13, 496, 749, 739, 2, 57, 23, 6, 102, 30, 117, 58, 12, 1466, 1101, 7, 1304, 1318, 7, 1, 9, 9, 80, 1, 1, 202, 1084, 1725, 570, 381, 4, 120, 108, 1, 132, 1, 1, 33, 3, 1028, 245, 1937, 1794, 3, 1094, 269, 3, 349, 1, 47, 641, 152, 70, 5, 1, 620, 65, 11, 322, 1, 1237, 1, 745, 325, 570, 381, 619, 1, 979, 3, 894, 24, 5, 277, 1244, 572, 337, 682, 12, 146, 2, 648, 1005, 717, 167, 1466, 1, 1724, 1368, 3, 167, 1304, 1, 1368, 2, 17, 20, 80, 6, 30, 450, 230, 4, 179, 5, 1817, 84, 1148, 2, 809, 189, 1, 1113, 1, 470, 486, 470, 1, 486, 1182, 486, 470, 905, 3, 530, 1], [1951, 1952, 1, 4, 1324, 42, 6, 1131, 180, 168, 2, 459, 16, 1, 407, 13, 212, 1738, 1, 353, 54, 1, 9, 66, 8, 2, 16, 1412, 4, 17, 26, 103, 37, 818, 17, 10, 7, 256, 251, 78, 10, 7, 37, 521, 284, 231, 105, 10, 7, 2, 85, 62, 234, 141, 176, 204, 21, 768, 7, 2, 85, 118, 151, 477, 280, 5, 805, 1524, 3, 877, 946, 54, 755, 151, 1645, 887, 335, 1, 1, 1603, 1, 1, 2, 1, 1, 613, 15, 1, 536, 613, 130, 16, 1412, 168, 43, 4, 1098, 208, 1, 225, 1, 27, 247, 1, 165, 1178, 1, 1, 1, 1, 25, 2, 459, 1503, 42, 1, 1103, 2, 738, 846, 1, 5, 1051, 1, 1, 762, 165, 304, 21, 222, 1086, 9, 222, 16, 1412, 308, 124, 181, 61, 2, 21, 90, 6, 7, 1304, 31, 368, 1247, 171, 186, 129, 4, 26, 251, 165, 2, 320, 17, 869, 3, 45, 891, 377, 967, 214, 9, 76, 893, 94, 436, 127, 13, 496, 749, 739, 2, 57, 23, 6, 102, 30, 117, 58, 12, 1466, 1101, 7, 1304, 1318, 7, 1, 9, 9, 80, 1, 1, 202, 1084, 1725, 570, 381, 4, 120, 108, 1, 132, 1, 1, 33, 3, 1028, 245, 1937, 1794, 3, 1094, 269, 3, 349, 1, 47, 641, 152, 70, 5, 1, 620, 65, 11, 322, 1, 1237, 1, 745, 325, 570, 381, 619, 1, 979, 3, 894, 24, 5, 277, 1244, 572, 337, 682, 12, 146, 2, 648, 1005, 717, 167, 1466, 1, 1724, 1368, 3, 167, 1304, 1, 1368, 2, 17, 20, 80, 6, 30, 450, 230, 4, 179, 5, 1817, 84, 1148, 2, 809, 189, 1, 1113, 1, 470, 486, 470, 1, 486, 1182, 486, 470, 905, 3, 530, 1], [1, 536, 1082, 134, 6, 1, 1114, 474, 172, 222, 1536, 341, 1951, 1952, 275, 5, 758, 13, 778, 1293, 154, 668, 353, 54, 1, 1, 91, 8, 6, 192, 2, 16, 1829, 4, 78, 26, 103, 37, 1197, 78, 10, 7, 256, 105, 73, 10, 7, 37, 521, 284, 354, 21, 10, 7, 2, 85, 62, 228, 116, 1, 1954, 176, 204, 21, 17, 7, 1478, 477, 300, 4, 1, 95, 252, 612, 269, 1631, 47, 1566, 4, 1869, 123, 2, 447, 1, 4, 1098, 5, 1288, 941, 22, 1327, 563, 63, 2, 1373, 23, 810, 21, 58, 12, 96, 67, 11, 227, 381, 11, 1672, 574, 3, 1309, 60, 11, 322, 31, 368, 1247, 171, 778, 129, 4, 26, 105, 165, 2, 320, 17, 869, 3, 9, 636, 663, 934, 214, 17, 76, 219, 94, 967, 214, 45, 76, 315, 94, 436, 127, 13, 496, 749, 739, 2, 57, 23, 6, 102, 30, 117, 58, 12, 1335, 9, 17, 80, 37, 1, 9, 17, 80, 1, 9, 21, 80, 267, 131, 1829, 1, 1, 1, 662, 1, 408, 1, 1, 3, 1, 1, 1, 11, 25, 494, 3, 1, 1, 1563, 1014, 1940, 3, 1, 53, 1, 1, 19, 43, 2, 1213, 46, 4, 1098, 1, 1507, 20, 80, 14, 853, 9, 20, 80, 14, 1139, 1004, 9, 1, 14, 58, 12, 37, 1, 4, 56, 16, 223, 44, 147, 1, 72, 293, 1, 1, 22, 1327, 563, 1, 17, 1, 11, 1362, 1372, 760, 96, 923, 67, 8, 18, 961, 1479, 1131, 215, 1406, 353, 633, 1085, 341, 127, 3, 1407, 1233, 327, 1148, 2, 809, 696, 527, 486, 1182, 486, 470, 905, 189, 470, 1002, 1, 1160, 1113, 1, 3, 530, 1], [1951, 1952, 1, 4, 1324, 42, 6, 1131, 1, 536, 613, 249, 1, 1, 1268, 6, 1, 1864, 222, 407, 13, 212, 1738, 1, 353, 54, 1, 9, 66, 8, 6, 192, 2, 16, 1829, 4, 32, 26, 103, 37, 559, 73, 10, 7, 256, 143, 21, 10, 7, 37, 521, 284, 163, 68, 10, 7, 2, 85, 62, 228, 62, 234, 141, 176, 204, 21, 17, 7, 1478, 477, 300, 4, 1, 95, 252, 612, 269, 1631, 47, 1566, 4, 1869, 123, 2, 447, 1, 4, 1098, 5, 1288, 941, 22, 1327, 563, 63, 2, 1373, 23, 810, 21, 58, 12, 96, 67, 11, 227, 381, 11, 1672, 574, 3, 1309, 60, 11, 322, 31, 368, 1247, 171, 778, 129, 4, 26, 105, 165, 2, 320, 17, 869, 3, 9, 636, 663, 934, 214, 17, 76, 219, 94, 967, 214, 45, 76, 315, 94, 436, 127, 13, 496, 749, 739, 2, 57, 23, 6, 102, 30, 117, 58, 12, 1335, 9, 17, 80, 37, 1, 9, 17, 80, 1, 9, 21, 80, 267, 131, 1829, 1, 1, 1, 662, 1, 408, 1, 1, 3, 1, 1, 1, 11, 25, 494, 3, 1, 1, 1563, 1014, 1940, 3, 1, 53, 1, 1, 19, 43, 2, 1213, 46, 4, 1098, 1, 1507, 20, 80, 14, 853, 9, 20, 80, 14, 1139, 1004, 9, 1, 14, 58, 12, 37, 1, 4, 56, 16, 223, 44, 147, 1, 72, 293, 1, 1, 22, 1327, 563, 1, 17, 1, 11, 1362, 1372, 760, 96, 923, 67, 8, 18, 961, 1479, 1131, 215, 1406, 353, 633, 1085, 341, 127, 3, 1407, 1233, 327, 1148, 2, 809, 696, 527, 486, 1182, 486, 470, 905, 189, 470, 1002, 1, 1160, 1113, 1, 3, 530, 1], [1, 1, 1, 4, 1, 1, 1, 1, 1, 135, 42, 28, 1511, 254, 68, 1, 1318, 1, 1, 1, 1, 1, 1, 1, 1, 536, 1082, 134, 6, 1, 1114, 474, 172, 222, 1536, 341, 1951, 1952, 146, 272, 1, 672, 1, 1077, 101, 1953, 407, 13, 212, 1738, 1, 353, 54, 1, 91, 8, 6, 192, 2, 16, 1829, 4, 17, 26, 103, 37, 737, 45, 10, 7, 256, 32, 10, 7, 37, 521, 284, 32, 45, 10, 7, 2, 85, 62, 228, 62, 234, 141, 176, 204, 21, 17, 7, 135, 42, 101, 1953, 73, 287, 648, 1, 1, 592, 1478, 477, 300, 4, 1, 95, 252, 612, 269, 1631, 47, 1566, 4, 1869, 123, 2, 447, 1, 4, 1098, 5, 1288, 941, 22, 1327, 563, 63, 2, 1373, 23, 810, 21, 58, 12, 96, 67, 11, 227, 381, 11, 1672, 574, 3, 1309, 60, 11, 322, 31, 368, 1, 226, 183, 6, 32, 14, 111, 129, 8, 79, 2, 9, 595, 621, 171, 32, 129, 4, 26, 105, 165, 2, 320, 17, 869, 3, 9, 636, 663, 934, 214, 17, 76, 219, 94, 967, 214, 45, 76, 315, 94, 436, 127, 13, 496, 749, 739, 2, 57, 23, 6, 102, 30, 117, 58, 12, 1335, 9, 17, 80, 37, 1, 9, 17, 80, 1, 9, 21, 80, 16, 1829, 79, 2, 1, 1419, 6, 1139, 1004, 2, 1373, 23, 58, 12, 37, 1, 1, 1335, 763, 4, 56, 102, 30, 1044, 223, 44, 31, 1577, 3, 1, 265, 3, 836, 147, 288, 28, 128, 1, 72, 293, 112, 1, 1, 22, 1327, 563, 1, 17, 1, 11, 1362, 1372, 760, 96, 923, 67, 8, 18, 961, 1479, 1131, 215, 1406, 353, 633, 1085, 341, 127, 3, 1407, 1233, 327, 1148, 2, 809, 696, 527, 486, 1182, 486, 470, 905, 189, 470, 1002, 1, 1160, 1113, 1, 3, 530, 1], [1, 1, 1, 1, 1268, 49, 1, 244, 1, 1, 135, 42, 28, 1511, 254, 68, 1, 648, 1, 1, 1, 1, 1, 1, 1, 1951, 1952, 275, 5, 758, 13, 778, 1293, 1, 536, 165, 2, 1082, 1660, 76, 1, 6, 1, 1114, 474, 222, 154, 1738, 1, 353, 54, 1, 18, 9, 66, 8, 2, 16, 1829, 4, 17, 26, 103, 37, 737, 9, 10, 7, 256, 32, 10, 7, 37, 521, 284, 32, 45, 10, 7, 2, 85, 62, 228, 62, 234, 141, 176, 204, 21, 17, 7, 135, 42, 101, 1953, 73, 287, 648, 1, 1, 592, 1478, 477, 300, 4, 1, 95, 252, 612, 269, 1631, 47, 1566, 4, 1869, 123, 2, 447, 1, 4, 1098, 5, 1288, 941, 22, 1327, 563, 63, 2, 1373, 23, 810, 21, 58, 12, 96, 67, 11, 227, 381, 11, 1672, 574, 3, 1309, 60, 11, 322, 31, 368, 1, 226, 183, 6, 32, 14, 111, 129, 8, 79, 2, 9, 595, 621, 171, 32, 129, 4, 26, 105, 165, 2, 320, 17, 869, 3, 9, 636, 663, 934, 214, 17, 76, 219, 94, 967, 214, 45, 76, 315, 94, 436, 127, 13, 496, 749, 739, 2, 57, 23, 6, 102, 30, 117, 58, 12, 1335, 9, 17, 80, 37, 1, 9, 17, 80, 1, 9, 21, 80, 16, 1829, 79, 2, 1, 1419, 6, 1139, 1004, 2, 1373, 23, 58, 12, 37, 1, 1, 1335, 763, 4, 56, 102, 30, 1044, 223, 44, 31, 1577, 3, 1, 265, 3, 836, 147, 288, 28, 128, 1, 72, 293, 112, 1, 1, 22, 1327, 563, 1, 17, 1, 11, 1362, 1372, 760, 96, 923, 67, 8, 18, 961, 1479, 1131, 215, 1406, 353, 633, 1085, 341, 127, 3, 1407, 1233, 327, 1148, 2, 809, 696, 527, 486, 1182, 486, 470, 905, 189, 470, 1002, 1, 1160, 1113, 1, 3, 530, 1], [1951, 1952, 275, 5, 758, 13, 778, 1293, 1, 536, 165, 2, 1082, 1660, 76, 1, 6, 1, 1114, 474, 222, 13, 1011, 1, 154, 2, 932, 536, 1738, 1, 353, 54, 1, 173, 9, 66, 8, 2, 16, 1829, 4, 111, 26, 103, 37, 559, 20, 10, 7, 256, 163, 17, 10, 7, 37, 521, 284, 251, 68, 10, 7, 2, 85, 62, 228, 62, 234, 141, 176, 204, 21, 17, 7, 1478, 477, 300, 4, 1, 95, 252, 612, 269, 1631, 47, 1566, 4, 1869, 123, 2, 447, 1, 4, 1098, 5, 1288, 941, 22, 1327, 563, 63, 2, 1373, 23, 810, 21, 58, 12, 96, 67, 11, 227, 381, 11, 1672, 574, 3, 1309, 60, 11, 322, 31, 368, 1247, 171, 778, 129, 4, 26, 143, 165, 2, 320, 17, 869, 3, 9, 636, 663, 934, 214, 17, 76, 219, 94, 967, 214, 45, 76, 315, 94, 436, 127, 13, 496, 749, 739, 2, 57, 23, 6, 102, 30, 117, 58, 12, 1335, 9, 17, 80, 37, 1, 9, 17, 80, 1, 9, 21, 80, 16, 1829, 79, 2, 1, 1419, 6, 1139, 1004, 2, 1373, 23, 58, 12, 37, 1, 1, 1335, 763, 4, 56, 102, 30, 1044, 223, 44, 31, 1577, 3, 1, 265, 3, 836, 147, 288, 28, 128, 1, 72, 293, 112, 1, 1, 22, 1327, 563, 1, 17, 1, 11, 1362, 1372, 760, 96, 923, 67, 8, 18, 961, 1479, 1131, 215, 1406, 353, 633, 1085, 341, 127, 3, 1407, 1233, 327, 1148, 2, 809, 696, 527, 486, 1182, 486, 470, 905, 189, 470, 1002, 1, 1160, 1113, 1, 3, 530, 1], [180, 168, 2, 459, 16, 1, 1951, 1952, 1, 217, 1, 1, 13, 1011, 1, 154, 2, 932, 536, 1738, 1, 353, 54, 1, 173, 9, 66, 8, 2, 16, 1412, 4, 251, 26, 103, 37, 818, 9, 10, 7, 256, 251, 78, 10, 7, 37, 521, 284, 231, 105, 10, 7, 2, 85, 62, 234, 141, 176, 204, 21, 768, 7, 2, 85, 118, 151, 477, 280, 5, 805, 1524, 3, 877, 946, 54, 755, 151, 1645, 887, 335, 1, 1, 1603, 1, 1, 2, 1, 1, 613, 15, 1, 536, 613, 130, 16, 1412, 168, 43, 4, 1098, 208, 1, 225, 1, 27, 247, 1, 165, 1178, 1, 1, 1, 1, 25, 2, 459, 1503, 42, 1, 1103, 2, 738, 846, 1, 5, 1051, 1, 1, 762, 165, 304, 21, 222, 1086, 9, 222, 16, 1412, 308, 124, 181, 61, 2, 21, 90, 6, 7, 1304, 31, 368, 1247, 171, 186, 129, 4, 26, 251, 165, 2, 320, 17, 869, 3, 45, 891, 377, 967, 214, 9, 76, 893, 94, 436, 127, 13, 496, 749, 739, 2, 57, 23, 6, 102, 30, 117, 58, 12, 1466, 1101, 7, 1304, 1318, 7, 1, 9, 9, 80, 1, 1, 202, 1084, 1725, 570, 381, 4, 120, 108, 1, 132, 1, 1, 33, 3, 1028, 245, 1937, 1794, 3, 1094, 269, 3, 349, 1, 47, 641, 152, 70, 5, 1, 620, 65, 11, 322, 1, 1237, 1, 745, 325, 570, 381, 619, 1, 979, 3, 894, 24, 5, 277, 1244, 572, 337, 682, 12, 146, 2, 648, 1005, 717, 167, 1466, 1, 1724, 1368, 3, 167, 1304, 1, 1368, 2, 17, 20, 80, 6, 30, 450, 230, 4, 179, 5, 1817, 84, 1148, 2, 809, 189, 1, 1113, 1, 470, 486, 470, 1, 486, 1182, 486, 470, 905, 3, 530, 1], [1951, 1952, 146, 272, 1, 672, 1, 1077, 101, 1953, 154, 1738, 1, 353, 54, 1, 9, 66, 8, 6, 192, 2, 16, 1829, 4, 45, 26, 103, 37, 1, 45, 10, 7, 256, 187, 17, 10, 7, 37, 521, 284, 59, 73, 10, 7, 2, 85, 1128, 149, 62, 234, 141, 176, 204, 21, 111, 7, 8, 1690, 53, 1065, 946, 54, 755, 1, 1, 13, 85, 484, 1, 1, 1, 151, 280, 5, 805, 877, 3, 297, 213, 20, 90, 38, 6, 12, 532, 1, 1, 31, 5, 1, 3, 1590, 1245, 9, 242, 1176, 10, 1, 45, 240, 269, 695, 1, 59, 73, 10, 7, 5, 1, 1150, 17, 73, 10, 7, 155, 187, 17, 10, 936, 5, 1125, 73, 10, 7, 537, 114, 1, 936, 1117, 2, 1141, 114, 1, 1, 1, 1537, 176, 204, 21, 17, 659, 48, 4, 1, 2, 83, 472, 1, 1, 1, 11, 1, 42, 49, 1581, 1, 48, 106, 6, 161, 382, 430, 6, 192, 14, 20, 144, 31, 440, 669, 1, 226, 183, 6, 78, 14, 163, 129, 8, 79, 2, 21, 595, 621, 171, 78, 129, 4, 26, 68, 165, 2, 320, 9, 647, 3, 9, 636, 663, 934, 214, 45, 76, 1624, 94, 967, 214, 45, 76, 219, 94, 436, 127, 13, 496, 749, 739, 2, 57, 23, 6, 102, 30, 117, 58, 12, 1335, 9, 17, 80, 37, 1, 9, 17, 80, 1, 9, 21, 80, 16, 1829, 79, 2, 1, 1419, 6, 1139, 1004, 2, 1373, 23, 58, 12, 37, 1, 1, 1335, 763, 4, 56, 102, 30, 1044, 223, 44, 31, 1577, 3, 1, 265, 3, 836, 147, 288, 28, 128, 1, 72, 293, 112, 1, 1, 22, 1327, 563, 1, 17, 1, 11, 1362, 1372, 760, 96, 923, 67, 8, 18, 961, 1479, 1131, 215, 1406, 353, 633, 1085, 341, 127, 3, 1407, 1233, 327, 1148, 2, 809, 696, 527, 486, 1182, 486, 470, 905, 189, 470, 1002, 1, 1160, 1113, 1, 3, 530, 1], [1951, 1952, 275, 5, 758, 13, 778, 1293, 1, 536, 1082, 134, 6, 1, 1114, 474, 172, 222, 1536, 341, 154, 1738, 1, 353, 54, 1, 91, 8, 6, 192, 2, 16, 1829, 4, 68, 26, 103, 37, 578, 73, 10, 7, 256, 163, 73, 10, 7, 37, 521, 284, 32, 73, 10, 7, 2, 85, 62, 228, 62, 234, 141, 176, 204, 21, 17, 7, 1478, 477, 300, 4, 1, 95, 252, 612, 269, 1631, 47, 1566, 4, 1869, 123, 2, 447, 1, 4, 1098, 5, 1288, 941, 22, 1327, 563, 63, 2, 1373, 23, 810, 21, 58, 12, 96, 67, 11, 227, 381, 11, 1672, 574, 3, 1309, 60, 11, 322, 31, 368, 1247, 171, 778, 129, 4, 26, 105, 165, 2, 320, 17, 869, 3, 9, 636, 663, 934, 214, 17, 76, 219, 94, 967, 214, 45, 76, 315, 94, 436, 127, 13, 496, 749, 739, 2, 57, 23, 6, 102, 30, 117, 58, 12, 1335, 9, 17, 80, 37, 1, 9, 17, 80, 1, 9, 21, 80, 267, 131, 1829, 1, 1, 1, 662, 1, 408, 1, 1, 3, 1, 1, 1, 11, 25, 494, 3, 1, 1, 1563, 1014, 1940, 3, 1, 53, 1, 1, 19, 43, 2, 1213, 46, 4, 1098, 1, 1507, 20, 80, 14, 853, 9, 20, 80, 14, 1139, 1004, 9, 1, 14, 58, 12, 37, 1, 4, 56, 16, 223, 44, 147, 1, 72, 293, 1, 1, 22, 1327, 563, 1, 17, 1, 11, 1362, 1372, 760, 96, 923, 67, 8, 18, 961, 1479, 1131, 215, 1406, 353, 633, 1085, 341, 127, 3, 1407, 1233, 327, 1148, 2, 809, 696, 527, 486, 1182, 486, 470, 905, 189, 470, 1002, 1, 1160, 1113, 1, 3, 530, 1], [1, 536, 165, 2, 1082, 1660, 76, 1, 6, 1, 1114, 474, 222, 1951, 1952, 1, 217, 1, 1, 13, 1011, 1, 1, 2, 932, 536, 668, 353, 54, 1, 1, 173, 9, 66, 8, 2, 16, 1829, 4, 68, 26, 103, 37, 578, 20, 10, 7, 256, 143, 73, 10, 7, 37, 521, 284, 32, 9, 10, 7, 2, 85, 62, 228, 62, 234, 141, 176, 204, 21, 17, 7, 1478, 477, 300, 4, 1, 95, 252, 612, 269, 1631, 47, 1566, 4, 1869, 123, 2, 447, 1, 4, 1098, 5, 1288, 941, 22, 1327, 563, 63, 2, 1373, 23, 810, 21, 58, 12, 96, 67, 11, 227, 381, 11, 1672, 574, 3, 1309, 60, 11, 322, 31, 368, 1247, 171, 778, 129, 4, 26, 105, 165, 2, 320, 17, 869, 3, 9, 636, 663, 934, 214, 17, 76, 219, 94, 967, 214, 45, 76, 315, 94, 436, 127, 13, 496, 749, 739, 2, 57, 23, 6, 102, 30, 117, 58, 12, 1335, 9, 17, 80, 37, 1, 9, 17, 80, 1, 9, 21, 80, 16, 1829, 79, 2, 1, 1419, 6, 1139, 1004, 2, 1373, 23, 58, 12, 37, 1, 1, 1335, 763, 4, 56, 102, 30, 1044, 223, 44, 31, 1577, 3, 1, 265, 3, 836, 147, 288, 28, 128, 1, 72, 293, 112, 1, 1, 22, 1327, 563, 1, 17, 1, 11, 1362, 1372, 760, 96, 923, 67, 8, 18, 961, 1479, 1131, 215, 1406, 353, 633, 1085, 341, 127, 3, 1407, 1233, 327, 1148, 2, 809, 696, 527, 486, 1182, 486, 470, 905, 189, 470, 1002, 1, 1160, 1113, 1, 3, 530, 1], [1951, 1952, 1, 4, 1324, 42, 6, 1131, 407, 13, 212, 668, 353, 54, 1, 1, 18, 9, 66, 8, 6, 192, 5, 98, 2, 16, 1412, 4, 20, 26, 103, 37, 326, 73, 10, 7, 256, 251, 9, 10, 7, 37, 521, 284, 231, 21, 10, 7, 2, 85, 62, 228, 62, 234, 141, 176, 204, 21, 768, 7, 2, 85, 107, 484, 298, 195, 1458, 1779, 514, 1, 5, 1668, 1, 1, 2, 577, 1, 4, 495, 448, 3, 1649, 371, 2, 1, 1, 652, 340, 2, 433, 3, 4, 597, 1736, 238, 5, 1, 1, 3, 5, 1, 133, 1, 1, 1, 284, 472, 1649, 606, 1, 319, 3, 1, 2, 1, 3, 1, 85, 1, 4, 1, 332, 1, 1405, 673, 156, 2, 85, 1070, 507, 1, 48, 171, 17, 17, 20, 659, 3, 1, 14, 17, 21, 659, 1, 1890, 1, 3, 1, 1, 8, 2, 561, 562, 107, 1, 332, 1, 5, 98, 1557, 1575, 409, 1, 706, 2, 320, 49, 107, 1, 1, 3, 1, 4, 1, 335, 1172, 1, 1187, 156, 1052, 849, 1204, 1, 1236, 566, 168, 541, 590, 1, 11, 156, 1, 1, 1856, 878, 512, 263, 910, 2, 170, 28, 478, 1, 346, 1848, 1, 49, 275, 11, 571, 411, 3, 11, 574, 31, 368, 1247, 171, 186, 129, 4, 26, 231, 165, 2, 320, 17, 869, 3, 45, 891, 377, 967, 214, 17, 76, 893, 94, 436, 127, 13, 496, 749, 739, 2, 57, 23, 6, 102, 30, 117, 58, 12, 1466, 1101, 7, 1304, 1318, 7, 1, 9, 9, 80, 1, 1, 202, 1084, 1725, 570, 381, 4, 120, 108, 1, 132, 1, 1, 33, 3, 1028, 245, 1937, 1794, 3, 1094, 269, 3, 349, 1, 47, 641, 152, 70, 5, 1, 620, 65, 11, 322, 1, 1237, 1, 745, 325, 570, 381, 619, 1, 979, 3, 894, 24, 5, 277, 1244, 572, 337, 682, 12, 146, 2, 648, 1005, 717, 167, 1466, 1, 1724, 1368, 3, 167, 1304, 1, 1368, 2, 17, 20, 80, 6, 30, 450, 230, 4, 179, 5, 1817, 84, 1148, 2, 809, 189, 1, 1113, 1, 470, 486, 470, 1, 486, 1182, 486, 470, 905, 3, 530, 1], [1951, 1952, 1, 217, 1, 1, 1, 598, 2, 375, 562, 1, 4, 1019, 1, 13, 1011, 1, 154, 2, 932, 536, 668, 353, 54, 1, 1, 18, 91, 8, 2, 16, 1412, 4, 68, 26, 103, 37, 326, 21, 10, 7, 256, 251, 45, 10, 7, 37, 521, 284, 231, 21, 10, 7, 2, 85, 62, 234, 141, 176, 204, 21, 768, 7, 2, 85, 118, 151, 477, 280, 5, 805, 1524, 3, 877, 946, 54, 755, 151, 1645, 887, 335, 1, 1, 1603, 1, 1, 2, 1, 1, 613, 15, 1, 536, 613, 130, 16, 1412, 168, 43, 4, 1098, 208, 1, 225, 1, 27, 247, 1, 165, 1178, 1, 1, 1, 1, 25, 2, 459, 1503, 42, 1, 1103, 2, 738, 846, 1, 5, 1051, 1, 1, 762, 165, 304, 21, 222, 1086, 9, 222, 16, 1412, 308, 124, 181, 61, 2, 21, 90, 6, 7, 1304, 31, 368, 1247, 171, 186, 129, 4, 26, 251, 165, 2, 320, 17, 869, 3, 45, 891, 377, 967, 214, 9, 76, 893, 94, 436, 127, 13, 496, 749, 739, 2, 57, 23, 6, 102, 30, 117, 58, 12, 1466, 1101, 7, 1304, 1318, 7, 1, 9, 9, 80, 1, 1, 202, 1084, 1725, 570, 381, 4, 120, 108, 1, 132, 1, 1, 33, 3, 1028, 245, 1937, 1794, 3, 1094, 269, 3, 349, 1, 47, 641, 152, 70, 5, 1, 620, 65, 11, 322, 1, 1237, 1, 745, 325, 570, 381, 619, 1, 979, 3, 894, 24, 5, 277, 1244, 572, 337, 682, 12, 146, 2, 648, 1005, 717, 167, 1466, 1, 1724, 1368, 3, 167, 1304, 1, 1368, 2, 17, 20, 80, 6, 30, 450, 230, 4, 179, 5, 1817, 84, 1148, 2, 809, 189, 1, 1113, 1, 470, 486, 470, 1, 486, 1182, 486, 470, 905, 3, 530, 1], [19, 312, 1462, 1, 1224, 102, 30, 400, 5, 1066, 497, 96, 67, 2, 788, 562, 5, 889, 454, 197, 4, 120, 108, 5, 1, 1, 4, 1, 500, 1084, 1, 722, 3, 667, 104, 34, 620, 65, 65, 11, 711, 5, 1, 3, 1, 1138, 1, 152, 11, 1910, 1, 70, 1415, 152, 5, 1258, 787, 3, 1, 1, 1, 1542, 1, 3, 1, 687, 1015, 47, 1, 6, 1, 1, 1, 406, 1167, 1, 1, 474, 1202, 489, 1, 248, 1, 758, 9, 80, 6, 179, 13, 1, 84, 14, 1, 1, 12, 1, 444, 22, 1, 229, 53, 1, 84, 1, 1314, 3, 1, 1, 542, 1, 14, 1, 797, 1, 1, 907, 42, 71, 1, 3, 1, 1, 1, 1, 27, 120, 1, 28, 1, 3, 28, 1, 1, 154, 676, 710, 1738, 1, 5, 1, 1, 4, 1, 977, 1, 1]]\n"
          ]
        }
      ]
    },
    {
      "cell_type": "code",
      "metadata": {
        "id": "gFx6U3kvWuT3"
      },
      "source": [
        "#BOW\n",
        "xTrainC01 = tokenizer.sequences_to_matrix(trainWordIndexes)"
      ],
      "execution_count": null,
      "outputs": []
    },
    {
      "cell_type": "code",
      "metadata": {
        "colab": {
          "base_uri": "https://localhost:8080/"
        },
        "id": "uE5chPh1WuQe",
        "outputId": "3b9b484f-c212-4b50-f6bd-ccb39ff2d19e"
      },
      "source": [
        "# выводим размеры обучающей выборки\n",
        "#Чтобы проверить, что мы всё правильно собрали\n",
        "print(xTrain.shape)\n",
        "print(xTrainC01.shape)\n",
        "print(yTrain.shape)"
      ],
      "execution_count": null,
      "outputs": [
        {
          "output_type": "stream",
          "name": "stdout",
          "text": [
            "(62504, 109)\n",
            "(62504, 2000)\n",
            "(62504,)\n"
          ]
        }
      ]
    },
    {
      "cell_type": "code",
      "metadata": {
        "id": "yxvdGg2TE1TE"
      },
      "source": [
        "#Нормируем размер квартиры в xTrain\n",
        "xScaler = StandardScaler() #Создаём нормировщик нормальным распределением\n",
        "xScaler.fit(xTrain[:,-1].reshape(-1, 1)) #Обучаем его на площадях квартир (последня колонка в xTrain)\n",
        "xTrainScaled = xTrain.copy()\n",
        "xTrainScaled[:,-1] = xScaler.transform(xTrain[:,-1].reshape(-1, 1)).flatten() #Нормируем данные нормировщиком\n"
      ],
      "execution_count": null,
      "outputs": []
    },
    {
      "cell_type": "code",
      "metadata": {
        "colab": {
          "base_uri": "https://localhost:8080/"
        },
        "id": "OZbY_jhHCRIV",
        "outputId": "0cee1125-9f03-4b98-c7d1-6dcc79c4eacc"
      },
      "source": [
        "#Выводим размер и два примера для сравнения\n",
        "#Не нормированных данных и нормированных\n",
        "print(xTrainScaled.shape)\n",
        "print(xTrain[0])\n",
        "print(xTrainScaled[0])"
      ],
      "execution_count": null,
      "outputs": [
        {
          "output_type": "stream",
          "name": "stdout",
          "text": [
            "(62504, 109)\n",
            "[ 0.   1.   0.   0.   0.   0.   0.   0.   0.   0.   0.   0.   0.   0.\n",
            "  0.   0.   0.   0.   0.   0.   0.   0.   0.   0.   0.   0.   0.   0.\n",
            "  0.   0.   0.   0.   1.   0.   0.   0.   0.   1.   0.   0.   0.   0.\n",
            "  1.   0.   0.   0.   0.   0.   0.   0.   0.   0.   0.   0.   0.   0.\n",
            "  0.   0.   0.   0.   0.   0.   0.   0.   1.   0.   0.   0.   0.   1.\n",
            "  0.   0.   1.   0.   0.   0.   0.   0.   1.   0.   0.   0.   0.   0.\n",
            "  0.   0.   0.   0.   0.   0.   0.   0.   0.   0.   0.   1.   0.   0.\n",
            "  0.   0.   0.   0.   0.   0.   0.   0.   0.   0.  64.1]\n",
            "[0.         1.         0.         0.         0.         0.\n",
            " 0.         0.         0.         0.         0.         0.\n",
            " 0.         0.         0.         0.         0.         0.\n",
            " 0.         0.         0.         0.         0.         0.\n",
            " 0.         0.         0.         0.         0.         0.\n",
            " 0.         0.         1.         0.         0.         0.\n",
            " 0.         1.         0.         0.         0.         0.\n",
            " 1.         0.         0.         0.         0.         0.\n",
            " 0.         0.         0.         0.         0.         0.\n",
            " 0.         0.         0.         0.         0.         0.\n",
            " 0.         0.         0.         0.         1.         0.\n",
            " 0.         0.         0.         1.         0.         0.\n",
            " 1.         0.         0.         0.         0.         0.\n",
            " 1.         0.         0.         0.         0.         0.\n",
            " 0.         0.         0.         0.         0.         0.\n",
            " 0.         0.         0.         0.         0.         1.\n",
            " 0.         0.         0.         0.         0.         0.\n",
            " 0.         0.         0.         0.         0.         0.\n",
            " 1.28438086]\n"
          ]
        }
      ]
    },
    {
      "cell_type": "code",
      "metadata": {
        "id": "uxWZj7NXCRCx"
      },
      "source": [
        "# Нормируем цену квартиры\n",
        "yScaler = StandardScaler()  # Делаем нормировщик \n",
        "yScaler.fit(yTrain.reshape(-1, 1)) #Нормируем цены квартир\n",
        "yTrainScaled = yScaler.transform(yTrain.reshape(-1, 1))\n"
      ],
      "execution_count": null,
      "outputs": []
    },
    {
      "cell_type": "code",
      "metadata": {
        "colab": {
          "base_uri": "https://localhost:8080/"
        },
        "id": "3XVNQUgbWuNM",
        "outputId": "12b0ebc2-19a1-4dd8-dd5b-5578e8d5794f"
      },
      "source": [
        "# выводим два примера нормированных и ненормированных данных для сравнения\n",
        "print(yTrainScaled.shape)\n",
        "print(yTrain[0])\n",
        "print(yTrainScaled[0])"
      ],
      "execution_count": null,
      "outputs": [
        {
          "output_type": "stream",
          "name": "stdout",
          "text": [
            "(62504, 1)\n",
            "19500000.0\n",
            "[0.45013]\n"
          ]
        }
      ]
    },
    {
      "cell_type": "code",
      "metadata": {
        "colab": {
          "base_uri": "https://localhost:8080/"
        },
        "id": "7kT33iKMBCIu",
        "outputId": "b534001a-b490-43ff-9f0c-e393cd380b3b"
      },
      "source": [
        "print(min(yTrain), max(yTrain))\n",
        "print(min(yTrainScaled), max(yTrainScaled))"
      ],
      "execution_count": null,
      "outputs": [
        {
          "output_type": "stream",
          "name": "stdout",
          "text": [
            "1500000.0 3000000015.0\n",
            "[-0.3458729] [132.25494456]\n"
          ]
        }
      ]
    },
    {
      "cell_type": "code",
      "metadata": {
        "id": "XX0pbVaxHtwA"
      },
      "source": [
        "splitVal = 0.2 #Процент, который выделяем в проверочную выборку\n",
        "valMask = np.random.sample(xTrainScaled.shape[0]) < splitVal"
      ],
      "execution_count": null,
      "outputs": []
    },
    {
      "cell_type": "code",
      "metadata": {
        "id": "rgqkF_0EFJx8"
      },
      "source": [
        "np.save('/content/drive/MyDrive/Colab Notebooks/Базы/xTrainScaled', xTrainScaled)\n",
        "np.save('/content/drive/MyDrive/Colab Notebooks/Базы/xTrainC01', xTrainC01)\n",
        "np.save('/content/drive/MyDrive/Colab Notebooks/Базы/yTrainScaled', yTrainScaled)"
      ],
      "execution_count": null,
      "outputs": []
    },
    {
      "cell_type": "markdown",
      "metadata": {
        "id": "uRGm7RKcG5nw"
      },
      "source": [
        "# Нейросеть"
      ]
    },
    {
      "cell_type": "code",
      "metadata": {
        "id": "tL11Z7btG_ey"
      },
      "source": [
        "def on_epoch_end(epoch, logs):\n",
        "  pred = model.predict([xTrainScaled[valMask], xTrainC01[valMask]]) #Полуаем выход сети на проверочно выборке\n",
        "  predUnscaled = yScaler.inverse_transform(pred).flatten() #Делаем обратное нормирование выхода к изначальным величинам цен квартир\n",
        "  yTrainUnscaled = yScaler.inverse_transform(yTrainScaled[valMask]).flatten() #Делаем такое же обратное нормирование yTrain к базовым ценам\n",
        "  delta = predUnscaled - yTrainUnscaled #Считаем разность предсказания и правильных цен\n",
        "  absDelta = abs(delta) #Берём модуль отклонения\n",
        "  print(\"Эпоха\", epoch, \"модуль ошибки\", round(sum(absDelta) / (1e+6 * len(absDelta)),3)) #Выводим усреднённую ошибку в миллионах рублей\n",
        "\n",
        "# Коллбэки\n",
        "pltMae = LambdaCallback(on_epoch_end=on_epoch_end)"
      ],
      "execution_count": null,
      "outputs": []
    },
    {
      "cell_type": "code",
      "metadata": {
        "colab": {
          "base_uri": "https://localhost:8080/"
        },
        "id": "4bAWNdYUKS_1",
        "outputId": "a5997abf-526b-4f75-f808-595d625b8259"
      },
      "source": [
        "print(type(xTrainScaled))\n",
        "print(type(xTrainC01))\n",
        "print(type(yTrainScaled))"
      ],
      "execution_count": null,
      "outputs": [
        {
          "output_type": "stream",
          "name": "stdout",
          "text": [
            "<class 'numpy.ndarray'>\n",
            "<class 'numpy.ndarray'>\n",
            "<class 'numpy.ndarray'>\n"
          ]
        }
      ]
    },
    {
      "cell_type": "code",
      "metadata": {
        "colab": {
          "base_uri": "https://localhost:8080/",
          "height": 1000
        },
        "id": "6LkQV6cFKg9n",
        "outputId": "6b34cf46-51e8-4b00-d7a4-41c5a7443315"
      },
      "source": [
        "# Простая Dense cеть\n",
        "\n",
        "input1 = Input((xTrainScaled.shape[1],))\n",
        "input2 = Input((xTrainC01.shape[1],))\n",
        "\n",
        "x1 = Dense(64, activation=\"relu\")(input1)\n",
        "x1 = Dropout(0.3)(x1)\n",
        "x1 = Dense(32, activation=\"relu\")(x1)\n",
        "\n",
        "x2 = Dense(256, activation=\"relu\")(input2)\n",
        "x2 = Dropout(0.25)(x2)\n",
        "x2 = Dense(64, activation=\"relu\")(x2)\n",
        "\n",
        "x = concatenate([x1, x2])\n",
        "\n",
        "x = Dense(100, activation='relu')(x)\n",
        "x = Dense(10, activation='relu')(x)\n",
        "x = Dense(1, activation='linear')(x)\n",
        "\n",
        "model = Model((input1, input2), x)\n",
        "\n",
        "model.compile(optimizer=Adam(learning_rate=1e-3), loss = 'mse')\n",
        "\n",
        "history = model.fit([xTrainScaled[~valMask], xTrainC01[~valMask]],\n",
        "                    yTrainScaled[~valMask],\n",
        "                    epochs = 40,\n",
        "                    validation_data = ([xTrainScaled[valMask], xTrainC01[valMask]],\n",
        "                    yTrainScaled[valMask]),\n",
        "                    verbose = 0,\n",
        "                    callbacks=[pltMae])\n",
        "\n",
        "print()\n",
        "print('Меняем шаг обучения на 1е-4')\n",
        "model.compile(optimizer=Adam(learning_rate=1e-4), loss = 'mse')\n",
        "history = model.fit([xTrainScaled[~valMask], xTrainC01[~valMask]],\n",
        "                    yTrainScaled[~valMask],\n",
        "                    epochs = 40,\n",
        "                    validation_data = ([xTrainScaled[valMask], xTrainC01[valMask]],\n",
        "                    yTrainScaled[valMask]),\n",
        "                    verbose = 0,\n",
        "                    callbacks=[pltMae])\n",
        "\n",
        "print()\n",
        "print('Меняем шаг обучения на 1е-5')\n",
        "model.compile(optimizer = Adam(learning_rate=1e-5), loss='mse')\n",
        "history = model.fit([xTrainScaled[~valMask], xTrainC01[~valMask]],\n",
        "                    yTrainScaled[~valMask],\n",
        "                    epochs = 200,\n",
        "                    validation_data = ([xTrainScaled[valMask], xTrainC01[valMask]],\n",
        "                    yTrainScaled[valMask]),\n",
        "                    verbose = 0,\n",
        "                    callbacks=[pltMae])\n",
        "\n",
        "                    \n",
        "#Проверяем результаты\n",
        "pred = model.predict([xTrainScaled[valMask], xTrainC01[valMask]]) # Получаем выход сети на проверочной выборке\n",
        "predUnscaled = yScaler.inverse_transform(pred).flatten() #Делаем обратное нормирование выхода к изначальным величинам цен квартир\n",
        "yTrainUnscaled = yScaler.inverse_transform(yTrainScaled[valMask]).flatten() #Делаем такое же обратное нормирование yTrain к базовым ценам\n",
        "delta = predUnscaled - yTrainUnscaled #Считаем разность предсказания и правильных цен\n",
        "absDelta = abs(delta) #Берём модуль отклонения\n",
        "print(\"Модуль ошибки\", sum(absDelta) / (1e+6 * len(absDelta))) #Выводим усреднённую ошибку в миллионах рублей\n",
        "\n",
        "#ВЫводим графики ошибки\n",
        "plt.plot(history.history['loss'], \n",
        "         label='Средняя абсолютная ошибка на обучающем наборе')\n",
        "plt.plot(history.history['val_loss'], \n",
        "         label='Средняя абсолютная ошибка на проверочном наборе')\n",
        "plt.xlabel('Эпоха обучения')\n",
        "plt.ylabel('Средняя абсолютная ошибка')\n",
        "plt.legend()\n",
        "plt.show()\n",
        "    \n"
      ],
      "execution_count": null,
      "outputs": [
        {
          "output_type": "stream",
          "name": "stdout",
          "text": [
            "Эпоха 0 модуль ошибки 2.08\n",
            "Эпоха 1 модуль ошибки 2.057\n",
            "Эпоха 2 модуль ошибки 1.829\n",
            "Эпоха 3 модуль ошибки 1.624\n",
            "Эпоха 4 модуль ошибки 1.566\n",
            "Эпоха 5 модуль ошибки 1.537\n",
            "Эпоха 6 модуль ошибки 1.541\n",
            "Эпоха 7 модуль ошибки 1.44\n",
            "Эпоха 8 модуль ошибки 1.392\n",
            "Эпоха 9 модуль ошибки 1.417\n",
            "Эпоха 10 модуль ошибки 1.582\n",
            "Эпоха 11 модуль ошибки 1.313\n",
            "Эпоха 12 модуль ошибки 1.548\n",
            "Эпоха 13 модуль ошибки 1.298\n",
            "Эпоха 14 модуль ошибки 1.341\n",
            "Эпоха 15 модуль ошибки 1.486\n",
            "Эпоха 16 модуль ошибки 1.663\n",
            "Эпоха 17 модуль ошибки 1.313\n",
            "Эпоха 18 модуль ошибки 1.512\n",
            "Эпоха 19 модуль ошибки 1.259\n",
            "Эпоха 20 модуль ошибки 1.481\n",
            "Эпоха 21 модуль ошибки 1.27\n",
            "Эпоха 22 модуль ошибки 1.628\n",
            "Эпоха 23 модуль ошибки 1.218\n",
            "Эпоха 24 модуль ошибки 1.506\n",
            "Эпоха 25 модуль ошибки 1.202\n",
            "Эпоха 26 модуль ошибки 1.173\n",
            "Эпоха 27 модуль ошибки 1.12\n",
            "Эпоха 28 модуль ошибки 1.336\n",
            "Эпоха 29 модуль ошибки 1.152\n",
            "Эпоха 30 модуль ошибки 1.347\n",
            "Эпоха 31 модуль ошибки 1.358\n",
            "Эпоха 32 модуль ошибки 1.111\n",
            "Эпоха 33 модуль ошибки 1.111\n",
            "Эпоха 34 модуль ошибки 1.276\n",
            "Эпоха 35 модуль ошибки 1.312\n",
            "Эпоха 36 модуль ошибки 1.147\n",
            "Эпоха 37 модуль ошибки 1.11\n",
            "Эпоха 38 модуль ошибки 1.199\n",
            "Эпоха 39 модуль ошибки 1.113\n",
            "\n",
            "Меняем шаг обучения на 1е-4\n",
            "Эпоха 0 модуль ошибки 1.131\n",
            "Эпоха 1 модуль ошибки 1.046\n",
            "Эпоха 2 модуль ошибки 1.062\n",
            "Эпоха 3 модуль ошибки 1.063\n",
            "Эпоха 4 модуль ошибки 1.114\n",
            "Эпоха 5 модуль ошибки 1.026\n",
            "Эпоха 6 модуль ошибки 1.057\n",
            "Эпоха 7 модуль ошибки 1.034\n",
            "Эпоха 8 модуль ошибки 1.074\n",
            "Эпоха 9 модуль ошибки 1.021\n",
            "Эпоха 10 модуль ошибки 1.016\n",
            "Эпоха 11 модуль ошибки 1.003\n",
            "Эпоха 12 модуль ошибки 1.014\n",
            "Эпоха 13 модуль ошибки 1.017\n",
            "Эпоха 14 модуль ошибки 1.022\n",
            "Эпоха 15 модуль ошибки 1.022\n",
            "Эпоха 16 модуль ошибки 1.021\n",
            "Эпоха 17 модуль ошибки 0.996\n",
            "Эпоха 18 модуль ошибки 1.005\n",
            "Эпоха 19 модуль ошибки 0.986\n",
            "Эпоха 20 модуль ошибки 1.052\n",
            "Эпоха 21 модуль ошибки 0.982\n",
            "Эпоха 22 модуль ошибки 1.039\n",
            "Эпоха 23 модуль ошибки 1.004\n",
            "Эпоха 24 модуль ошибки 1.023\n",
            "Эпоха 25 модуль ошибки 1.029\n",
            "Эпоха 26 модуль ошибки 1.006\n",
            "Эпоха 27 модуль ошибки 1.016\n",
            "Эпоха 28 модуль ошибки 0.997\n",
            "Эпоха 29 модуль ошибки 1.002\n",
            "Эпоха 30 модуль ошибки 0.98\n",
            "Эпоха 31 модуль ошибки 0.976\n",
            "Эпоха 32 модуль ошибки 0.975\n",
            "Эпоха 33 модуль ошибки 1.01\n",
            "Эпоха 34 модуль ошибки 0.967\n",
            "Эпоха 35 модуль ошибки 0.995\n",
            "Эпоха 36 модуль ошибки 0.954\n",
            "Эпоха 37 модуль ошибки 0.986\n",
            "Эпоха 38 модуль ошибки 1.038\n",
            "Эпоха 39 модуль ошибки 0.994\n",
            "\n",
            "Меняем шаг обучения на 1е-5\n",
            "Эпоха 0 модуль ошибки 0.979\n",
            "Эпоха 1 модуль ошибки 0.973\n",
            "Эпоха 2 модуль ошибки 0.976\n",
            "Эпоха 3 модуль ошибки 0.981\n",
            "Эпоха 4 модуль ошибки 0.983\n",
            "Эпоха 5 модуль ошибки 0.983\n",
            "Эпоха 6 модуль ошибки 0.975\n",
            "Эпоха 7 модуль ошибки 0.971\n",
            "Эпоха 8 модуль ошибки 0.972\n",
            "Эпоха 9 модуль ошибки 0.984\n",
            "Эпоха 10 модуль ошибки 0.972\n",
            "Эпоха 11 модуль ошибки 0.985\n",
            "Эпоха 12 модуль ошибки 0.978\n",
            "Эпоха 13 модуль ошибки 1.008\n",
            "Эпоха 14 модуль ошибки 0.974\n",
            "Эпоха 15 модуль ошибки 0.969\n",
            "Эпоха 16 модуль ошибки 0.971\n",
            "Эпоха 17 модуль ошибки 0.99\n",
            "Эпоха 18 модуль ошибки 0.992\n",
            "Эпоха 19 модуль ошибки 0.965\n",
            "Эпоха 20 модуль ошибки 0.972\n",
            "Эпоха 21 модуль ошибки 0.988\n",
            "Эпоха 22 модуль ошибки 0.974\n",
            "Эпоха 23 модуль ошибки 0.971\n",
            "Эпоха 24 модуль ошибки 0.991\n",
            "Эпоха 25 модуль ошибки 0.973\n",
            "Эпоха 26 модуль ошибки 0.976\n",
            "Эпоха 27 модуль ошибки 0.982\n",
            "Эпоха 28 модуль ошибки 0.96\n",
            "Эпоха 29 модуль ошибки 0.975\n",
            "Эпоха 30 модуль ошибки 0.978\n",
            "Эпоха 31 модуль ошибки 0.976\n",
            "Эпоха 32 модуль ошибки 0.981\n",
            "Эпоха 33 модуль ошибки 0.977\n",
            "Эпоха 34 модуль ошибки 0.975\n",
            "Эпоха 35 модуль ошибки 0.972\n",
            "Эпоха 36 модуль ошибки 0.964\n",
            "Эпоха 37 модуль ошибки 0.98\n",
            "Эпоха 38 модуль ошибки 0.961\n",
            "Эпоха 39 модуль ошибки 0.979\n",
            "Эпоха 40 модуль ошибки 0.976\n",
            "Эпоха 41 модуль ошибки 0.971\n",
            "Эпоха 42 модуль ошибки 0.972\n",
            "Эпоха 43 модуль ошибки 0.97\n",
            "Эпоха 44 модуль ошибки 0.969\n",
            "Эпоха 45 модуль ошибки 0.966\n",
            "Эпоха 46 модуль ошибки 0.962\n",
            "Эпоха 47 модуль ошибки 0.987\n",
            "Эпоха 48 модуль ошибки 0.968\n",
            "Эпоха 49 модуль ошибки 0.958\n",
            "Эпоха 50 модуль ошибки 0.966\n",
            "Эпоха 51 модуль ошибки 0.968\n",
            "Эпоха 52 модуль ошибки 0.968\n",
            "Эпоха 53 модуль ошибки 0.984\n",
            "Эпоха 54 модуль ошибки 0.966\n",
            "Эпоха 55 модуль ошибки 0.984\n",
            "Эпоха 56 модуль ошибки 0.985\n",
            "Эпоха 57 модуль ошибки 0.967\n",
            "Эпоха 58 модуль ошибки 0.969\n",
            "Эпоха 59 модуль ошибки 0.98\n",
            "Эпоха 60 модуль ошибки 0.96\n",
            "Эпоха 61 модуль ошибки 0.969\n",
            "Эпоха 62 модуль ошибки 0.974\n",
            "Эпоха 63 модуль ошибки 0.97\n",
            "Эпоха 64 модуль ошибки 0.972\n",
            "Эпоха 65 модуль ошибки 0.982\n",
            "Эпоха 66 модуль ошибки 0.965\n",
            "Эпоха 67 модуль ошибки 0.965\n",
            "Эпоха 68 модуль ошибки 0.979\n",
            "Эпоха 69 модуль ошибки 0.969\n",
            "Эпоха 70 модуль ошибки 0.968\n",
            "Эпоха 71 модуль ошибки 0.979\n",
            "Эпоха 72 модуль ошибки 0.969\n",
            "Эпоха 73 модуль ошибки 0.96\n",
            "Эпоха 74 модуль ошибки 0.987\n",
            "Эпоха 75 модуль ошибки 0.959\n",
            "Эпоха 76 модуль ошибки 0.965\n",
            "Эпоха 77 модуль ошибки 0.971\n",
            "Эпоха 78 модуль ошибки 0.979\n",
            "Эпоха 79 модуль ошибки 0.959\n",
            "Эпоха 80 модуль ошибки 0.95\n",
            "Эпоха 81 модуль ошибки 0.959\n",
            "Эпоха 82 модуль ошибки 0.967\n",
            "Эпоха 83 модуль ошибки 0.964\n",
            "Эпоха 84 модуль ошибки 0.959\n",
            "Эпоха 85 модуль ошибки 0.97\n",
            "Эпоха 86 модуль ошибки 0.966\n",
            "Эпоха 87 модуль ошибки 0.957\n",
            "Эпоха 88 модуль ошибки 0.952\n",
            "Эпоха 89 модуль ошибки 0.967\n",
            "Эпоха 90 модуль ошибки 0.981\n",
            "Эпоха 91 модуль ошибки 0.969\n",
            "Эпоха 92 модуль ошибки 0.967\n",
            "Эпоха 93 модуль ошибки 0.96\n",
            "Эпоха 94 модуль ошибки 0.967\n",
            "Эпоха 95 модуль ошибки 0.976\n",
            "Эпоха 96 модуль ошибки 0.962\n",
            "Эпоха 97 модуль ошибки 0.966\n",
            "Эпоха 98 модуль ошибки 0.972\n",
            "Эпоха 99 модуль ошибки 0.969\n",
            "Эпоха 100 модуль ошибки 0.983\n",
            "Эпоха 101 модуль ошибки 0.981\n",
            "Эпоха 102 модуль ошибки 1.014\n",
            "Эпоха 103 модуль ошибки 0.963\n",
            "Эпоха 104 модуль ошибки 0.956\n",
            "Эпоха 105 модуль ошибки 0.961\n",
            "Эпоха 106 модуль ошибки 0.977\n",
            "Эпоха 107 модуль ошибки 0.949\n",
            "Эпоха 108 модуль ошибки 0.962\n",
            "Эпоха 109 модуль ошибки 0.984\n",
            "Эпоха 110 модуль ошибки 0.952\n",
            "Эпоха 111 модуль ошибки 0.956\n",
            "Эпоха 112 модуль ошибки 0.974\n",
            "Эпоха 113 модуль ошибки 0.954\n",
            "Эпоха 114 модуль ошибки 0.953\n",
            "Эпоха 115 модуль ошибки 0.973\n",
            "Эпоха 116 модуль ошибки 0.954\n",
            "Эпоха 117 модуль ошибки 0.969\n",
            "Эпоха 118 модуль ошибки 0.966\n",
            "Эпоха 119 модуль ошибки 0.946\n",
            "Эпоха 120 модуль ошибки 0.968\n",
            "Эпоха 121 модуль ошибки 0.986\n",
            "Эпоха 122 модуль ошибки 0.969\n",
            "Эпоха 123 модуль ошибки 0.966\n",
            "Эпоха 124 модуль ошибки 0.974\n",
            "Эпоха 125 модуль ошибки 0.961\n",
            "Эпоха 126 модуль ошибки 0.959\n",
            "Эпоха 127 модуль ошибки 0.974\n",
            "Эпоха 128 модуль ошибки 0.95\n",
            "Эпоха 129 модуль ошибки 0.965\n",
            "Эпоха 130 модуль ошибки 0.951\n",
            "Эпоха 131 модуль ошибки 0.958\n",
            "Эпоха 132 модуль ошибки 0.968\n",
            "Эпоха 133 модуль ошибки 0.961\n",
            "Эпоха 134 модуль ошибки 0.965\n",
            "Эпоха 135 модуль ошибки 0.952\n",
            "Эпоха 136 модуль ошибки 0.96\n",
            "Эпоха 137 модуль ошибки 0.947\n",
            "Эпоха 138 модуль ошибки 0.959\n",
            "Эпоха 139 модуль ошибки 0.953\n",
            "Эпоха 140 модуль ошибки 0.954\n",
            "Эпоха 141 модуль ошибки 0.961\n",
            "Эпоха 142 модуль ошибки 0.955\n",
            "Эпоха 143 модуль ошибки 0.949\n",
            "Эпоха 144 модуль ошибки 0.963\n",
            "Эпоха 145 модуль ошибки 0.951\n",
            "Эпоха 146 модуль ошибки 0.961\n",
            "Эпоха 147 модуль ошибки 0.969\n",
            "Эпоха 148 модуль ошибки 0.97\n",
            "Эпоха 149 модуль ошибки 0.95\n",
            "Эпоха 150 модуль ошибки 0.961\n",
            "Эпоха 151 модуль ошибки 0.983\n",
            "Эпоха 152 модуль ошибки 0.958\n",
            "Эпоха 153 модуль ошибки 0.949\n",
            "Эпоха 154 модуль ошибки 0.956\n",
            "Эпоха 155 модуль ошибки 0.971\n",
            "Эпоха 156 модуль ошибки 0.976\n",
            "Эпоха 157 модуль ошибки 0.975\n",
            "Эпоха 158 модуль ошибки 0.954\n",
            "Эпоха 159 модуль ошибки 0.96\n",
            "Эпоха 160 модуль ошибки 0.946\n",
            "Эпоха 161 модуль ошибки 0.953\n",
            "Эпоха 162 модуль ошибки 0.952\n",
            "Эпоха 163 модуль ошибки 0.963\n",
            "Эпоха 164 модуль ошибки 0.956\n",
            "Эпоха 165 модуль ошибки 0.953\n",
            "Эпоха 166 модуль ошибки 0.95\n",
            "Эпоха 167 модуль ошибки 0.965\n",
            "Эпоха 168 модуль ошибки 0.96\n",
            "Эпоха 169 модуль ошибки 0.95\n",
            "Эпоха 170 модуль ошибки 0.967\n",
            "Эпоха 171 модуль ошибки 0.947\n",
            "Эпоха 172 модуль ошибки 0.949\n",
            "Эпоха 173 модуль ошибки 0.988\n",
            "Эпоха 174 модуль ошибки 0.948\n",
            "Эпоха 175 модуль ошибки 0.949\n",
            "Эпоха 176 модуль ошибки 0.944\n",
            "Эпоха 177 модуль ошибки 0.952\n",
            "Эпоха 178 модуль ошибки 0.958\n",
            "Эпоха 179 модуль ошибки 0.958\n",
            "Эпоха 180 модуль ошибки 0.972\n",
            "Эпоха 181 модуль ошибки 0.955\n",
            "Эпоха 182 модуль ошибки 0.961\n",
            "Эпоха 183 модуль ошибки 0.961\n",
            "Эпоха 184 модуль ошибки 0.965\n",
            "Эпоха 185 модуль ошибки 0.947\n",
            "Эпоха 186 модуль ошибки 0.962\n",
            "Эпоха 187 модуль ошибки 0.954\n",
            "Эпоха 188 модуль ошибки 0.957\n",
            "Эпоха 189 модуль ошибки 0.961\n",
            "Эпоха 190 модуль ошибки 0.95\n",
            "Эпоха 191 модуль ошибки 0.948\n",
            "Эпоха 192 модуль ошибки 0.955\n",
            "Эпоха 193 модуль ошибки 0.963\n",
            "Эпоха 194 модуль ошибки 0.962\n",
            "Эпоха 195 модуль ошибки 0.947\n",
            "Эпоха 196 модуль ошибки 0.96\n",
            "Эпоха 197 модуль ошибки 0.942\n",
            "Эпоха 198 модуль ошибки 0.961\n",
            "Эпоха 199 модуль ошибки 0.953\n",
            "Модуль ошибки 0.9532796889925373\n"
          ]
        },
        {
          "output_type": "display_data",
          "data": {
            "image/png": "[encoded data removed]",
            "text/plain": [
              "<Figure size 432x288 with 1 Axes>"
            ]
          },
          "metadata": {
            "needs_background": "light"
          }
        }
      ]
    }
  ]
}