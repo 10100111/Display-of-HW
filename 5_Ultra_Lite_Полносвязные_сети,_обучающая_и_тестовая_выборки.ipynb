{
  "nbformat": 4,
  "nbformat_minor": 0,
  "metadata": {
    "colab": {
      "name": "5.Ultra Lite. Полносвязные сети, обучающая и тестовая выборки",
      "provenance": [],
      "collapsed_sections": [],
      "include_colab_link": true
    },
    "kernelspec": {
      "name": "python3",
      "display_name": "Python 3"
    },
    "accelerator": "GPU"
  },
  "cells": [
    {
      "cell_type": "markdown",
      "metadata": {
        "id": "view-in-github",
        "colab_type": "text"
      },
      "source": [
        "<a href=\"https://colab.research.google.com/github/10100111/Display-of-HW1/blob/main/5_Ultra_Lite_%D0%9F%D0%BE%D0%BB%D0%BD%D0%BE%D1%81%D0%B2%D1%8F%D0%B7%D0%BD%D1%8B%D0%B5_%D1%81%D0%B5%D1%82%D0%B8%2C_%D0%BE%D0%B1%D1%83%D1%87%D0%B0%D1%8E%D1%89%D0%B0%D1%8F_%D0%B8_%D1%82%D0%B5%D1%81%D1%82%D0%BE%D0%B2%D0%B0%D1%8F_%D0%B2%D1%8B%D0%B1%D0%BE%D1%80%D0%BA%D0%B8.ipynb\" target=\"_parent\"><img src=\"https://colab.research.google.com/assets/colab-badge.svg\" alt=\"Open In Colab\"/></a>"
      ]
    },
    {
      "cell_type": "markdown",
      "metadata": {
        "id": "Z4M2Jz0wo6sT"
      },
      "source": [
        "Задание Ultra Lite\n",
        "\n",
        "Создайте модель для распознавания рукописных цифр из набора MNIST (можно воспользоваться ноутбуком 1-го занятия) и проведите ряд тестов:\n",
        "\n",
        "Запустите сеть с различными размерами обучающей и проверочной выборок:\n",
        "\n",
        "Размер test_size=0.1\n",
        "\n",
        "Размер test_size=0.5\n",
        "\n",
        "Размер test_size=0.9\n",
        "\n",
        "Напишите выводы, как изменение test_size влияет на точность сети.\n"
      ]
    },
    {
      "cell_type": "code",
      "metadata": {
        "id": "OAMphP-JpAxs"
      },
      "source": [
        "# 1. Импорт библиотек\n",
        "from tensorflow.keras.datasets import mnist\n",
        "from tensorflow.keras.models import Sequential\n",
        "from tensorflow.keras.layers import Dense\n",
        "from tensorflow.keras.optimizers import Adam\n",
        "from tensorflow.keras import utils\n",
        "from tensorflow.keras.preprocessing import image\n",
        "import numpy as np\n",
        "import pylab\n",
        "from mpl_toolkits.mplot3d import Axes3D\n",
        "import matplotlib.pyplot as plt\n",
        "from PIL import Image\n",
        "%matplotlib inline"
      ],
      "execution_count": null,
      "outputs": []
    },
    {
      "cell_type": "code",
      "metadata": {
        "id": "jpfvZWJqgXQq",
        "colab": {
          "base_uri": "https://localhost:8080/"
        },
        "outputId": "daa43151-7982-464a-c093-712b00075fcc"
      },
      "source": [
        "# 2. Загрузка базы mnist\n",
        "(x_train_org, y_train_org), (x_test_org, y_test_org) = mnist.load_data()\n"
      ],
      "execution_count": null,
      "outputs": [
        {
          "output_type": "stream",
          "name": "stdout",
          "text": [
            "Downloading data from https://storage.googleapis.com/tensorflow/tf-keras-datasets/mnist.npz\n",
            "11493376/11490434 [==============================] - 0s 0us/step\n",
            "11501568/11490434 [==============================] - 0s 0us/step\n"
          ]
        }
      ]
    },
    {
      "cell_type": "code",
      "metadata": {
        "id": "Wq2nCNw5gnWi"
      },
      "source": [
        "# 3. Нормирование и преобразование x_train и y_train.\n",
        "x_train = x_train_org.reshape(60000, 784)\n",
        "x_test = x_test_org.reshape(10000, 784)\n",
        "x_train = x_train.astype('float32')\n",
        "x_train = x_train/255\n",
        "x_test = x_test.astype('float32')\n",
        "x_test = x_test/255\n",
        "y_train = utils.to_categorical(y_train_org,10)\n",
        "Y_test = utils.to_categorical(y_test_org,10)"
      ],
      "execution_count": null,
      "outputs": []
    },
    {
      "cell_type": "code",
      "metadata": {
        "colab": {
          "base_uri": "https://localhost:8080/"
        },
        "id": "Mh9SmfH_leXp",
        "outputId": "95cbceae-b6dc-4e70-90d8-64df62091482"
      },
      "source": [
        "# 4. Создание нейронной сети\n",
        "model = Sequential()\n",
        "model.add(Dense(800, input_dim = 784, activation = 'relu'))\n",
        "model.add(Dense(400, activation = 'relu'))\n",
        "model.add(Dense(10, activation = 'softmax'))\n",
        "\n",
        "model.compile(loss = 'categorical_crossentropy', optimizer = 'adam', metrics = 'accuracy')\n",
        "print(model.summary())"
      ],
      "execution_count": null,
      "outputs": [
        {
          "output_type": "stream",
          "name": "stdout",
          "text": [
            "Model: \"sequential\"\n",
            "_________________________________________________________________\n",
            "Layer (type)                 Output Shape              Param #   \n",
            "=================================================================\n",
            "dense (Dense)                (None, 800)               628000    \n",
            "_________________________________________________________________\n",
            "dense_1 (Dense)              (None, 400)               320400    \n",
            "_________________________________________________________________\n",
            "dense_2 (Dense)              (None, 10)                4010      \n",
            "=================================================================\n",
            "Total params: 952,410\n",
            "Trainable params: 952,410\n",
            "Non-trainable params: 0\n",
            "_________________________________________________________________\n",
            "None\n"
          ]
        }
      ]
    },
    {
      "cell_type": "code",
      "metadata": {
        "colab": {
          "base_uri": "https://localhost:8080/"
        },
        "id": "07jnuuLgm7u-",
        "outputId": "a8b5cb00-23f2-41bf-cd2c-dc1b41c13e55"
      },
      "source": [
        "# 5.1. Обучение нейронной сети. Размер test_size=0.1\n",
        "model.fit(x_train, \n",
        "          y_train, \n",
        "          batch_size = 128, \n",
        "          validation_split=0.1, # Указываем 10% примеров для проверочной выборки\n",
        "          epochs = 15, \n",
        "          verbose = 1)\n",
        "\n"
      ],
      "execution_count": null,
      "outputs": [
        {
          "output_type": "stream",
          "name": "stdout",
          "text": [
            "Epoch 1/15\n",
            "422/422 [==============================] - 5s 5ms/step - loss: 0.2187 - accuracy: 0.9339 - val_loss: 0.0930 - val_accuracy: 0.9722\n",
            "Epoch 2/15\n",
            "422/422 [==============================] - 2s 5ms/step - loss: 0.0813 - accuracy: 0.9747 - val_loss: 0.0798 - val_accuracy: 0.9757\n",
            "Epoch 3/15\n",
            "422/422 [==============================] - 2s 5ms/step - loss: 0.0483 - accuracy: 0.9848 - val_loss: 0.0655 - val_accuracy: 0.9823\n",
            "Epoch 4/15\n",
            "422/422 [==============================] - 2s 5ms/step - loss: 0.0357 - accuracy: 0.9883 - val_loss: 0.0823 - val_accuracy: 0.9783\n",
            "Epoch 5/15\n",
            "422/422 [==============================] - 2s 5ms/step - loss: 0.0276 - accuracy: 0.9907 - val_loss: 0.0670 - val_accuracy: 0.9825\n",
            "Epoch 6/15\n",
            "422/422 [==============================] - 2s 5ms/step - loss: 0.0222 - accuracy: 0.9925 - val_loss: 0.0728 - val_accuracy: 0.9843\n",
            "Epoch 7/15\n",
            "422/422 [==============================] - 2s 5ms/step - loss: 0.0161 - accuracy: 0.9946 - val_loss: 0.0893 - val_accuracy: 0.9795\n",
            "Epoch 8/15\n",
            "422/422 [==============================] - 2s 5ms/step - loss: 0.0197 - accuracy: 0.9936 - val_loss: 0.0793 - val_accuracy: 0.9817\n",
            "Epoch 9/15\n",
            "422/422 [==============================] - 2s 5ms/step - loss: 0.0147 - accuracy: 0.9950 - val_loss: 0.0702 - val_accuracy: 0.9853\n",
            "Epoch 10/15\n",
            "422/422 [==============================] - 2s 5ms/step - loss: 0.0123 - accuracy: 0.9958 - val_loss: 0.0924 - val_accuracy: 0.9807\n",
            "Epoch 11/15\n",
            "422/422 [==============================] - 2s 5ms/step - loss: 0.0143 - accuracy: 0.9950 - val_loss: 0.0924 - val_accuracy: 0.9798\n",
            "Epoch 12/15\n",
            "422/422 [==============================] - 2s 5ms/step - loss: 0.0090 - accuracy: 0.9969 - val_loss: 0.0984 - val_accuracy: 0.9807\n",
            "Epoch 13/15\n",
            "422/422 [==============================] - 2s 5ms/step - loss: 0.0121 - accuracy: 0.9964 - val_loss: 0.0877 - val_accuracy: 0.9835\n",
            "Epoch 14/15\n",
            "422/422 [==============================] - 2s 5ms/step - loss: 0.0080 - accuracy: 0.9972 - val_loss: 0.0948 - val_accuracy: 0.9838\n",
            "Epoch 15/15\n",
            "422/422 [==============================] - 2s 5ms/step - loss: 0.0097 - accuracy: 0.9967 - val_loss: 0.1184 - val_accuracy: 0.9790\n"
          ]
        },
        {
          "output_type": "execute_result",
          "data": {
            "text/plain": [
              "<keras.callbacks.History at 0x7f5ce2144f10>"
            ]
          },
          "metadata": {},
          "execution_count": 5
        }
      ]
    },
    {
      "cell_type": "code",
      "metadata": {
        "colab": {
          "base_uri": "https://localhost:8080/"
        },
        "id": "A25bpggk2Y7G",
        "outputId": "e431df3b-1df2-4008-cd53-10921f1f2199"
      },
      "source": [
        "# 5.2. Обучение нейронной сети. Размер test_size=0.5\n",
        "model.fit(x_train, \n",
        "          y_train, \n",
        "          batch_size = 128, \n",
        "          validation_split=0.5,   # Указываем 50% примеров для проверочной выборки\n",
        "          epochs = 15, \n",
        "          verbose = 1)"
      ],
      "execution_count": null,
      "outputs": [
        {
          "output_type": "stream",
          "name": "stdout",
          "text": [
            "Epoch 1/15\n",
            "235/235 [==============================] - 1s 5ms/step - loss: 0.0041 - accuracy: 0.9986 - val_loss: 0.0980 - val_accuracy: 0.9828\n",
            "Epoch 2/15\n",
            "235/235 [==============================] - 1s 5ms/step - loss: 0.0069 - accuracy: 0.9980 - val_loss: 0.0985 - val_accuracy: 0.9850\n",
            "Epoch 3/15\n",
            "235/235 [==============================] - 1s 5ms/step - loss: 0.0093 - accuracy: 0.9970 - val_loss: 0.1132 - val_accuracy: 0.9810\n",
            "Epoch 4/15\n",
            "235/235 [==============================] - 1s 5ms/step - loss: 0.0054 - accuracy: 0.9985 - val_loss: 0.1014 - val_accuracy: 0.9812\n",
            "Epoch 5/15\n",
            "235/235 [==============================] - 1s 5ms/step - loss: 0.0040 - accuracy: 0.9989 - val_loss: 0.1107 - val_accuracy: 0.9818\n",
            "Epoch 6/15\n",
            "235/235 [==============================] - 1s 5ms/step - loss: 0.0087 - accuracy: 0.9970 - val_loss: 0.1072 - val_accuracy: 0.9810\n",
            "Epoch 7/15\n",
            "235/235 [==============================] - 1s 5ms/step - loss: 0.0057 - accuracy: 0.9979 - val_loss: 0.1177 - val_accuracy: 0.9822\n",
            "Epoch 8/15\n",
            "235/235 [==============================] - 1s 5ms/step - loss: 0.0055 - accuracy: 0.9986 - val_loss: 0.1350 - val_accuracy: 0.9822\n",
            "Epoch 9/15\n",
            "235/235 [==============================] - 1s 5ms/step - loss: 0.0030 - accuracy: 0.9990 - val_loss: 0.0995 - val_accuracy: 0.9852\n",
            "Epoch 10/15\n",
            "235/235 [==============================] - 1s 5ms/step - loss: 0.0046 - accuracy: 0.9985 - val_loss: 0.1186 - val_accuracy: 0.9820\n",
            "Epoch 11/15\n",
            "235/235 [==============================] - 1s 5ms/step - loss: 0.0028 - accuracy: 0.9989 - val_loss: 0.1113 - val_accuracy: 0.9847\n",
            "Epoch 12/15\n",
            "235/235 [==============================] - 1s 5ms/step - loss: 0.0046 - accuracy: 0.9990 - val_loss: 0.1107 - val_accuracy: 0.9827\n",
            "Epoch 13/15\n",
            "235/235 [==============================] - 1s 5ms/step - loss: 0.0052 - accuracy: 0.9984 - val_loss: 0.1169 - val_accuracy: 0.9822\n",
            "Epoch 14/15\n",
            "235/235 [==============================] - 1s 5ms/step - loss: 0.0058 - accuracy: 0.9982 - val_loss: 0.1100 - val_accuracy: 0.9827\n",
            "Epoch 15/15\n",
            "235/235 [==============================] - 1s 5ms/step - loss: 0.0029 - accuracy: 0.9991 - val_loss: 0.1216 - val_accuracy: 0.9827\n"
          ]
        },
        {
          "output_type": "execute_result",
          "data": {
            "text/plain": [
              "<keras.callbacks.History at 0x7f5ce1ece950>"
            ]
          },
          "metadata": {},
          "execution_count": 8
        }
      ]
    },
    {
      "cell_type": "code",
      "metadata": {
        "colab": {
          "base_uri": "https://localhost:8080/"
        },
        "id": "RJ8iD9WR2lbL",
        "outputId": "af9a0404-2e85-4ef4-affe-8915fb74cc47"
      },
      "source": [
        "# 5.3. Обучение нейронной сети. Размер test_size=0.9\n",
        "model.fit(x_train, \n",
        "          y_train, \n",
        "          batch_size = 128, \n",
        "          validation_split=0.9,   # Указываем 90% примеров для проверочной выборки\n",
        "          epochs = 15, \n",
        "          verbose = 1)"
      ],
      "execution_count": null,
      "outputs": [
        {
          "output_type": "stream",
          "name": "stdout",
          "text": [
            "Epoch 1/15\n",
            "47/47 [==============================] - 2s 34ms/step - loss: 0.0105 - accuracy: 0.9977 - val_loss: 0.0318 - val_accuracy: 0.9932\n",
            "Epoch 2/15\n",
            "47/47 [==============================] - 1s 32ms/step - loss: 0.0035 - accuracy: 0.9992 - val_loss: 0.0325 - val_accuracy: 0.9936\n",
            "Epoch 3/15\n",
            "47/47 [==============================] - 1s 32ms/step - loss: 0.0020 - accuracy: 0.9992 - val_loss: 0.0311 - val_accuracy: 0.9939\n",
            "Epoch 4/15\n",
            "47/47 [==============================] - 1s 32ms/step - loss: 3.8794e-04 - accuracy: 1.0000 - val_loss: 0.0279 - val_accuracy: 0.9944\n",
            "Epoch 5/15\n",
            "47/47 [==============================] - 1s 32ms/step - loss: 2.4622e-05 - accuracy: 1.0000 - val_loss: 0.0274 - val_accuracy: 0.9945\n",
            "Epoch 6/15\n",
            "47/47 [==============================] - 1s 27ms/step - loss: 1.5754e-05 - accuracy: 1.0000 - val_loss: 0.0272 - val_accuracy: 0.9946\n",
            "Epoch 7/15\n",
            "47/47 [==============================] - 1s 32ms/step - loss: 1.3296e-05 - accuracy: 1.0000 - val_loss: 0.0271 - val_accuracy: 0.9946\n",
            "Epoch 8/15\n",
            "47/47 [==============================] - 1s 32ms/step - loss: 1.1933e-05 - accuracy: 1.0000 - val_loss: 0.0270 - val_accuracy: 0.9946\n",
            "Epoch 9/15\n",
            "47/47 [==============================] - 1s 32ms/step - loss: 1.0843e-05 - accuracy: 1.0000 - val_loss: 0.0269 - val_accuracy: 0.9946\n",
            "Epoch 10/15\n",
            "47/47 [==============================] - 1s 32ms/step - loss: 1.0037e-05 - accuracy: 1.0000 - val_loss: 0.0268 - val_accuracy: 0.9946\n",
            "Epoch 11/15\n",
            "47/47 [==============================] - 1s 27ms/step - loss: 9.3926e-06 - accuracy: 1.0000 - val_loss: 0.0268 - val_accuracy: 0.9946\n",
            "Epoch 12/15\n",
            "47/47 [==============================] - 1s 32ms/step - loss: 8.8304e-06 - accuracy: 1.0000 - val_loss: 0.0267 - val_accuracy: 0.9946\n",
            "Epoch 13/15\n",
            "47/47 [==============================] - 1s 32ms/step - loss: 8.3505e-06 - accuracy: 1.0000 - val_loss: 0.0267 - val_accuracy: 0.9947\n",
            "Epoch 14/15\n",
            "47/47 [==============================] - 1s 27ms/step - loss: 7.9378e-06 - accuracy: 1.0000 - val_loss: 0.0266 - val_accuracy: 0.9947\n",
            "Epoch 15/15\n",
            "47/47 [==============================] - 1s 28ms/step - loss: 7.5491e-06 - accuracy: 1.0000 - val_loss: 0.0266 - val_accuracy: 0.9947\n"
          ]
        },
        {
          "output_type": "execute_result",
          "data": {
            "text/plain": [
              "<keras.callbacks.History at 0x7f5ce1ece890>"
            ]
          },
          "metadata": {},
          "execution_count": 9
        }
      ]
    },
    {
      "cell_type": "code",
      "metadata": {
        "id": "ubxuNIGzfNqa"
      },
      "source": [
        "# Сравнительная таблица экспериментов\n"
      ],
      "execution_count": null,
      "outputs": []
    },
    {
      "cell_type": "markdown",
      "metadata": {
        "id": "EfrgCg-_3fj_"
      },
      "source": [
        "Вывод: \n",
        "Уменьшение обучающего набора данных привело к снижению ошибки и увеличению точности нейронки. \n",
        "Возможно потому, что база большая и хорошо собрана мы получили повышение качества обучения нейронки."
      ]
    }
  ]
}