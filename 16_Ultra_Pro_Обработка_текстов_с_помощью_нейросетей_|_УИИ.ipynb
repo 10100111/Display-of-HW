{
  "nbformat": 4,
  "nbformat_minor": 0,
  "metadata": {
    "colab": {
      "name": "16. Ultra Pro. Обработка текстов с помощью нейросетей  | УИИ.ipynb",
      "provenance": [],
      "toc_visible": true,
      "mount_file_id": "1qPZPYdiHJdaMK2Fs85tC2Tva5sokroH4",
      "authorship_tag": "ABX9TyOia/N59qq0fAgArnThw1kI",
      "include_colab_link": true
    },
    "kernelspec": {
      "name": "python3",
      "display_name": "Python 3"
    },
    "language_info": {
      "name": "python"
    }
  },
  "cells": [
    {
      "cell_type": "markdown",
      "metadata": {
        "id": "view-in-github",
        "colab_type": "text"
      },
      "source": [
        "<a href=\"https://colab.research.google.com/github/10100111/Display-of-HW1/blob/main/16_Ultra_Pro_%D0%9E%D0%B1%D1%80%D0%B0%D0%B1%D0%BE%D1%82%D0%BA%D0%B0_%D1%82%D0%B5%D0%BA%D1%81%D1%82%D0%BE%D0%B2_%D1%81_%D0%BF%D0%BE%D0%BC%D0%BE%D1%89%D1%8C%D1%8E_%D0%BD%D0%B5%D0%B9%D1%80%D0%BE%D1%81%D0%B5%D1%82%D0%B5%D0%B9_%7C_%D0%A3%D0%98%D0%98.ipynb\" target=\"_parent\"><img src=\"https://colab.research.google.com/assets/colab-badge.svg\" alt=\"Open In Colab\"/></a>"
      ]
    },
    {
      "cell_type": "markdown",
      "metadata": {
        "id": "hQ0hV-GHBvOW"
      },
      "source": [
        "Задание Ultra pro\n",
        "\n",
        "Макс 10 баллов\n",
        "\n",
        "Загрузите таблицу смс-спама по ссылке:\n",
        "\n",
        "https://drive.google.com/file/d/1qzc4X5lfwpftVK5yaMdPb2xy7dK5jKs5/view?usp=sharing\n",
        "\n",
        "Загрузить данные  в пандас, чтобы избежать ошибки, следует таким образом: pd.read_csv (open(path, errors = ‘replace’)), где path = директория до файла.\n",
        "\n",
        "Загрузите базу смс-сообщений, разделенных по категориям спам и не спам.\n",
        "\n",
        "Создайте обучающую, проверочную выборки. Создайте и обучите модель, определяющую тип сообщения. Классифицируйте каждое сообщение. Чтобы было легче, каждое сообщение переделайте в последовательность токенов,и ограничьте или добейте нулями до определённой длины - 15.\n",
        "\n",
        "Возьмите 10 случайных примеров из всей базы, сделайте предсказание нейронкой и выведите результат в читаемом виде:\n",
        "\n",
        "“текст сообщения” - “категория сообщения, определенная нейронкой”.\n",
        "\n",
        "Постройте диаграмму частотности распределения слов(plt.stem()) в нормальных сообщениях и сообщениях со спамом."
      ]
    },
    {
      "cell_type": "markdown",
      "metadata": {
        "id": "e61zLg7BJt09"
      },
      "source": [
        "#Загрузка данных"
      ]
    },
    {
      "cell_type": "code",
      "metadata": {
        "id": "XDSN7lEWBeUO"
      },
      "source": [
        "from google.colab import files # Для работы с файлами \n",
        "import numpy as np # Для работы с данными \n",
        "import pandas as pd # Для работы с таблицами\n",
        "import matplotlib.pyplot as plt # Для вывода графиков\n",
        "import os # Для работы с файлами\n",
        "%matplotlib inline\n",
        "\n",
        "from tensorflow.keras import utils # Для работы с категориальными данными\n",
        "from tensorflow.keras.models import Sequential # Полносвязная модель\n",
        "from tensorflow.keras.optimizers import Adam\n",
        "from tensorflow.keras.layers import Dense, Dropout, SpatialDropout1D, BatchNormalization, Embedding, Flatten, Activation # Слои для сети\n",
        "from tensorflow.keras.preprocessing.text import Tokenizer # Методы для работы с текстами и преобразования их в последовательности\n",
        "from tensorflow.keras.preprocessing.sequence import pad_sequences # Метод для работы с последовательностями\n",
        "\n",
        "from sklearn.preprocessing import LabelEncoder # Метод кодирования тестовых лейблов\n",
        "from sklearn.model_selection import train_test_split # Для разделения выборки на тестовую и обучающую\n",
        "from google.colab import drive # Для работы с Google Drive\n",
        "import time # Импортируем библиотеку time"
      ],
      "execution_count": null,
      "outputs": []
    },
    {
      "cell_type": "code",
      "metadata": {
        "id": "7gzuN38krngD",
        "colab": {
          "base_uri": "https://localhost:8080/"
        },
        "outputId": "909506ad-b005-4fdd-844b-cc035339b086"
      },
      "source": [
        "drive.mount('/content/drive')"
      ],
      "execution_count": null,
      "outputs": [
        {
          "output_type": "stream",
          "name": "stdout",
          "text": [
            "Drive already mounted at /content/drive; to attempt to forcibly remount, call drive.mount(\"/content/drive\", force_remount=True).\n"
          ]
        }
      ]
    },
    {
      "cell_type": "code",
      "metadata": {
        "colab": {
          "base_uri": "https://localhost:8080/",
          "height": 423
        },
        "id": "zjPnQb_QC6wG",
        "outputId": "ad983969-d84b-46b0-d80e-68ec1aa50cd6"
      },
      "source": [
        "df = pd.read_csv (open('/content/drive/MyDrive/Colab Notebooks/Базы/psy.csv', errors = 'replace')) #, где path = директория до файла\n",
        "df"
      ],
      "execution_count": null,
      "outputs": [
        {
          "output_type": "execute_result",
          "data": {
            "text/html": [
              "<div>\n",
              "<style scoped>\n",
              "    .dataframe tbody tr th:only-of-type {\n",
              "        vertical-align: middle;\n",
              "    }\n",
              "\n",
              "    .dataframe tbody tr th {\n",
              "        vertical-align: top;\n",
              "    }\n",
              "\n",
              "    .dataframe thead th {\n",
              "        text-align: right;\n",
              "    }\n",
              "</style>\n",
              "<table border=\"1\" class=\"dataframe\">\n",
              "  <thead>\n",
              "    <tr style=\"text-align: right;\">\n",
              "      <th></th>\n",
              "      <th>comment_id</th>\n",
              "      <th>author</th>\n",
              "      <th>date</th>\n",
              "      <th>content</th>\n",
              "      <th>class</th>\n",
              "    </tr>\n",
              "  </thead>\n",
              "  <tbody>\n",
              "    <tr>\n",
              "      <th>0</th>\n",
              "      <td>LZQPQhLyRh80UYxNuaDWhIGQYNQ96IuCg-AYWqNPjpU</td>\n",
              "      <td>Julius NM</td>\n",
              "      <td>2013-11-07T06:20:48</td>\n",
              "      <td>Huh, anyway check out this you[tube] channel: ...</td>\n",
              "      <td>True</td>\n",
              "    </tr>\n",
              "    <tr>\n",
              "      <th>1</th>\n",
              "      <td>LZQPQhLyRh_C2cTtd9MvFRJedxydaVW-2sNg5Diuo4A</td>\n",
              "      <td>adam riyati</td>\n",
              "      <td>2013-11-07T12:37:15</td>\n",
              "      <td>Hey guys check out my new channel and our firs...</td>\n",
              "      <td>True</td>\n",
              "    </tr>\n",
              "    <tr>\n",
              "      <th>2</th>\n",
              "      <td>LZQPQhLyRh9MSZYnf8djyk0gEF9BHDPYrrK-qCczIY8</td>\n",
              "      <td>Evgeny Murashkin</td>\n",
              "      <td>2013-11-08T17:34:21</td>\n",
              "      <td>just for test I have to say murdev.com</td>\n",
              "      <td>True</td>\n",
              "    </tr>\n",
              "    <tr>\n",
              "      <th>3</th>\n",
              "      <td>z13jhp0bxqncu512g22wvzkasxmvvzjaz04</td>\n",
              "      <td>ElNino Melendez</td>\n",
              "      <td>2013-11-09T08:28:43</td>\n",
              "      <td>me shaking my sexy ass on my channel enjoy ^_^ ﻿</td>\n",
              "      <td>True</td>\n",
              "    </tr>\n",
              "    <tr>\n",
              "      <th>4</th>\n",
              "      <td>z13fwbwp1oujthgqj04chlngpvzmtt3r3dw</td>\n",
              "      <td>GsMega</td>\n",
              "      <td>2013-11-10T16:05:38</td>\n",
              "      <td>watch?v=vtaRGgvGtWQ   Check this out .﻿</td>\n",
              "      <td>True</td>\n",
              "    </tr>\n",
              "    <tr>\n",
              "      <th>...</th>\n",
              "      <td>...</td>\n",
              "      <td>...</td>\n",
              "      <td>...</td>\n",
              "      <td>...</td>\n",
              "      <td>...</td>\n",
              "    </tr>\n",
              "    <tr>\n",
              "      <th>345</th>\n",
              "      <td>z13th1q4yzihf1bll23qxzpjeujterydj</td>\n",
              "      <td>Carmen Racasanu</td>\n",
              "      <td>2014-11-14T13:27:52</td>\n",
              "      <td>How can this have 2 billion views when there's...</td>\n",
              "      <td>False</td>\n",
              "    </tr>\n",
              "    <tr>\n",
              "      <th>346</th>\n",
              "      <td>z13fcn1wfpb5e51xe04chdxakpzgchyaxzo0k</td>\n",
              "      <td>diego mogrovejo</td>\n",
              "      <td>2014-11-14T13:28:08</td>\n",
              "      <td>I don't now why I'm watching this in 2014﻿</td>\n",
              "      <td>False</td>\n",
              "    </tr>\n",
              "    <tr>\n",
              "      <th>347</th>\n",
              "      <td>z130zd5b3titudkoe04ccbeohojxuzppvbg</td>\n",
              "      <td>BlueYetiPlayz -Call Of Duty and More</td>\n",
              "      <td>2015-05-23T13:04:32</td>\n",
              "      <td>subscribe to me for call of duty vids and give...</td>\n",
              "      <td>True</td>\n",
              "    </tr>\n",
              "    <tr>\n",
              "      <th>348</th>\n",
              "      <td>z12he50arvrkivl5u04cctawgxzkjfsjcc4</td>\n",
              "      <td>Photo Editor</td>\n",
              "      <td>2015-06-05T14:14:48</td>\n",
              "      <td>hi guys please my android photo editor downloa...</td>\n",
              "      <td>True</td>\n",
              "    </tr>\n",
              "    <tr>\n",
              "      <th>349</th>\n",
              "      <td>z13vhvu54u3ewpp5h04ccb4zuoardrmjlyk0k</td>\n",
              "      <td>Ray Benich</td>\n",
              "      <td>2015-06-05T18:05:16</td>\n",
              "      <td>The first billion viewed this because they tho...</td>\n",
              "      <td>False</td>\n",
              "    </tr>\n",
              "  </tbody>\n",
              "</table>\n",
              "<p>350 rows × 5 columns</p>\n",
              "</div>"
            ],
            "text/plain": [
              "                                      comment_id  ...  class\n",
              "0    LZQPQhLyRh80UYxNuaDWhIGQYNQ96IuCg-AYWqNPjpU  ...   True\n",
              "1    LZQPQhLyRh_C2cTtd9MvFRJedxydaVW-2sNg5Diuo4A  ...   True\n",
              "2    LZQPQhLyRh9MSZYnf8djyk0gEF9BHDPYrrK-qCczIY8  ...   True\n",
              "3            z13jhp0bxqncu512g22wvzkasxmvvzjaz04  ...   True\n",
              "4            z13fwbwp1oujthgqj04chlngpvzmtt3r3dw  ...   True\n",
              "..                                           ...  ...    ...\n",
              "345            z13th1q4yzihf1bll23qxzpjeujterydj  ...  False\n",
              "346        z13fcn1wfpb5e51xe04chdxakpzgchyaxzo0k  ...  False\n",
              "347          z130zd5b3titudkoe04ccbeohojxuzppvbg  ...   True\n",
              "348          z12he50arvrkivl5u04cctawgxzkjfsjcc4  ...   True\n",
              "349        z13vhvu54u3ewpp5h04ccb4zuoardrmjlyk0k  ...  False\n",
              "\n",
              "[350 rows x 5 columns]"
            ]
          },
          "metadata": {},
          "execution_count": 48
        }
      ]
    },
    {
      "cell_type": "markdown",
      "metadata": {
        "id": "cexD5FWeKop9"
      },
      "source": [
        "# Обработка данных"
      ]
    },
    {
      "cell_type": "code",
      "metadata": {
        "colab": {
          "base_uri": "https://localhost:8080/",
          "height": 363
        },
        "id": "hbkI2imDkgvK",
        "outputId": "01cd17a5-16b4-409a-a789-7dd6f92679b5"
      },
      "source": [
        "#извлечём тексты обращений и соответствующие им категории\n",
        "df = df[['content','class']]\n",
        "df.head(10)"
      ],
      "execution_count": null,
      "outputs": [
        {
          "output_type": "execute_result",
          "data": {
            "text/html": [
              "<div>\n",
              "<style scoped>\n",
              "    .dataframe tbody tr th:only-of-type {\n",
              "        vertical-align: middle;\n",
              "    }\n",
              "\n",
              "    .dataframe tbody tr th {\n",
              "        vertical-align: top;\n",
              "    }\n",
              "\n",
              "    .dataframe thead th {\n",
              "        text-align: right;\n",
              "    }\n",
              "</style>\n",
              "<table border=\"1\" class=\"dataframe\">\n",
              "  <thead>\n",
              "    <tr style=\"text-align: right;\">\n",
              "      <th></th>\n",
              "      <th>content</th>\n",
              "      <th>class</th>\n",
              "    </tr>\n",
              "  </thead>\n",
              "  <tbody>\n",
              "    <tr>\n",
              "      <th>0</th>\n",
              "      <td>Huh, anyway check out this you[tube] channel: ...</td>\n",
              "      <td>True</td>\n",
              "    </tr>\n",
              "    <tr>\n",
              "      <th>1</th>\n",
              "      <td>Hey guys check out my new channel and our firs...</td>\n",
              "      <td>True</td>\n",
              "    </tr>\n",
              "    <tr>\n",
              "      <th>2</th>\n",
              "      <td>just for test I have to say murdev.com</td>\n",
              "      <td>True</td>\n",
              "    </tr>\n",
              "    <tr>\n",
              "      <th>3</th>\n",
              "      <td>me shaking my sexy ass on my channel enjoy ^_^ ﻿</td>\n",
              "      <td>True</td>\n",
              "    </tr>\n",
              "    <tr>\n",
              "      <th>4</th>\n",
              "      <td>watch?v=vtaRGgvGtWQ   Check this out .﻿</td>\n",
              "      <td>True</td>\n",
              "    </tr>\n",
              "    <tr>\n",
              "      <th>5</th>\n",
              "      <td>Hey, check out my new website!! This site is a...</td>\n",
              "      <td>True</td>\n",
              "    </tr>\n",
              "    <tr>\n",
              "      <th>6</th>\n",
              "      <td>Subscribe to my channel ﻿</td>\n",
              "      <td>True</td>\n",
              "    </tr>\n",
              "    <tr>\n",
              "      <th>7</th>\n",
              "      <td>i turned it on mute as soon is i came on i jus...</td>\n",
              "      <td>False</td>\n",
              "    </tr>\n",
              "    <tr>\n",
              "      <th>8</th>\n",
              "      <td>You should check my channel for Funny VIDEOS!!﻿</td>\n",
              "      <td>True</td>\n",
              "    </tr>\n",
              "    <tr>\n",
              "      <th>9</th>\n",
              "      <td>and u should.d check my channel and tell me wh...</td>\n",
              "      <td>True</td>\n",
              "    </tr>\n",
              "  </tbody>\n",
              "</table>\n",
              "</div>"
            ],
            "text/plain": [
              "                                             content  class\n",
              "0  Huh, anyway check out this you[tube] channel: ...   True\n",
              "1  Hey guys check out my new channel and our firs...   True\n",
              "2             just for test I have to say murdev.com   True\n",
              "3   me shaking my sexy ass on my channel enjoy ^_^ ﻿   True\n",
              "4            watch?v=vtaRGgvGtWQ   Check this out .﻿   True\n",
              "5  Hey, check out my new website!! This site is a...   True\n",
              "6                          Subscribe to my channel ﻿   True\n",
              "7  i turned it on mute as soon is i came on i jus...  False\n",
              "8    You should check my channel for Funny VIDEOS!!﻿   True\n",
              "9  and u should.d check my channel and tell me wh...   True"
            ]
          },
          "metadata": {},
          "execution_count": 49
        }
      ]
    },
    {
      "cell_type": "code",
      "metadata": {
        "colab": {
          "base_uri": "https://localhost:8080/"
        },
        "id": "uCKIpM8sk8lP",
        "outputId": "9a95f7b4-dbd7-48b3-b019-4560c4cdf8d0"
      },
      "source": [
        "#Посмотрим размер датафрейма\n",
        "df.shape"
      ],
      "execution_count": null,
      "outputs": [
        {
          "output_type": "execute_result",
          "data": {
            "text/plain": [
              "(350, 2)"
            ]
          },
          "metadata": {},
          "execution_count": 50
        }
      ]
    },
    {
      "cell_type": "code",
      "metadata": {
        "colab": {
          "base_uri": "https://localhost:8080/"
        },
        "id": "SACOch3yp9OH",
        "outputId": "23886523-0268-4739-d200-a04eb604275a"
      },
      "source": [
        "#Выведем 5 примеров из таблицы \n",
        "df.values[0:5]"
      ],
      "execution_count": null,
      "outputs": [
        {
          "output_type": "execute_result",
          "data": {
            "text/plain": [
              "array([['Huh, anyway check out this you[tube] channel: kobyoshi02', True],\n",
              "       [\"Hey guys check out my new channel and our first vid THIS IS US THE  MONKEYS!!! I'm the monkey in the white shirt,please leave a like comment  and please subscribe!!!!\",\n",
              "        True],\n",
              "       ['just for test I have to say murdev.com', True],\n",
              "       ['me shaking my sexy ass on my channel enjoy ^_^ \\ufeff', True],\n",
              "       ['watch?v=vtaRGgvGtWQ   Check this out .\\ufeff', True]],\n",
              "      dtype=object)"
            ]
          },
          "metadata": {},
          "execution_count": 51
        }
      ]
    },
    {
      "cell_type": "code",
      "metadata": {
        "colab": {
          "base_uri": "https://localhost:8080/"
        },
        "id": "5r8ndnQyq_Qw",
        "outputId": "c0275e4c-1b16-40fe-bbf0-440d1cc642ae"
      },
      "source": [
        "# Извлекаем данные всех текстов из столбца \"сontent\"\n",
        "texts = df['content']\n",
        "print(texts[0])\n",
        "# Извлекаем , соответствующие им значения классов (лейблов) столбца \"сontent\"\n",
        "classes = list(df['class'].values)\n",
        "print(classes[0])\n",
        "#Задаем кол-во классов\n",
        "nClasses = df['class'].nunique()\n",
        "print(nClasses)"
      ],
      "execution_count": null,
      "outputs": [
        {
          "output_type": "stream",
          "name": "stdout",
          "text": [
            "Huh, anyway check out this you[tube] channel: kobyoshi02\n",
            "True\n",
            "2\n"
          ]
        }
      ]
    },
    {
      "cell_type": "code",
      "metadata": {
        "colab": {
          "base_uri": "https://localhost:8080/"
        },
        "id": "laJTGlaTjZ8L",
        "outputId": "ce2b203e-fd0a-477e-be0c-3eb8f63e5b26"
      },
      "source": [
        "#Преобразовываем категории в векторы\n",
        "encoder = LabelEncoder() # Вызываем метод кодирования тестовых лейблов из библиотеки sklearn\n",
        "encoder.fit(classes) # Подгружаем в него категории из нашей базы\n",
        "classesEncoded = encoder.transform(classes) # Кодируем категории\n",
        "print(encoder.classes_)\n",
        "print(classesEncoded.shape)\n",
        "print(classesEncoded[:10])"
      ],
      "execution_count": null,
      "outputs": [
        {
          "output_type": "stream",
          "name": "stdout",
          "text": [
            "[False  True]\n",
            "(350,)\n",
            "[1 1 1 1 1 1 1 0 1 1]\n"
          ]
        }
      ]
    },
    {
      "cell_type": "code",
      "metadata": {
        "colab": {
          "base_uri": "https://localhost:8080/"
        },
        "id": "dGunyjmexZdD",
        "outputId": "1d3d3cef-032a-462a-b016-d4d1d4372b09"
      },
      "source": [
        "# Выводим каждый лейбл в виде вектора длиной 2 с 1кой в позиции соответствующего класса. Можно было бы просто обозначить 0 = True, 1=False. \n",
        "yAll = utils.to_categorical(classesEncoded, nClasses)\n",
        "print(yAll.shape)\n",
        "print(yAll[:8])"
      ],
      "execution_count": null,
      "outputs": [
        {
          "output_type": "stream",
          "name": "stdout",
          "text": [
            "(350, 2)\n",
            "[[0. 1.]\n",
            " [0. 1.]\n",
            " [0. 1.]\n",
            " [0. 1.]\n",
            " [0. 1.]\n",
            " [0. 1.]\n",
            " [0. 1.]\n",
            " [1. 0.]]\n"
          ]
        }
      ]
    },
    {
      "cell_type": "code",
      "metadata": {
        "id": "KqzSJJyEGeEP"
      },
      "source": [
        "#создание наборов данных \n",
        "maxWordsCount = 10000\n",
        "#Преобразовываем текстовые данные в числовые/векторные для обучения нейросетью\n",
        "#Для этого воспользуемся встроенной в Keras функцией Tokenizer для разбиения текста и превращения в матрицу числовых значений\n",
        "#num_words=maxWordsCount - определяем макс.кол-во слов/индексов, учитываемое при обучении текстов\n",
        "#filters='!\"#$%&()*+,-./:;<=>?@[\\\\]^_`{|}~\\t\\n' - избавляемся от ненужных символов\n",
        "#lower=True - приводим слова к нижнему регистру\n",
        "#split=' ' - разделяем слова по пробелу\n",
        "#char_level=False - просим токенайзер не удалять однобуквенные слова\n",
        "tokenizer = Tokenizer(num_words=maxWordsCount, filters='!\"#$%&()*+,-–—./…:;<=>?@[\\\\]^_`{|}~«»\\t\\n\\xa0\\ufeff', lower=True, split=' ', oov_token='unknown', char_level=False)\n",
        "#Подаем в обрботку наши тексты для создания словаря частотности\n",
        "#Каждое слово из текста нашло свой индекс в векторе длиной maxWordsCount и отметилось в нем единичкой \n",
        "tokenizer.fit_on_texts(texts)\n",
        "#Вытаскиваем индексы слов для просмотра\n",
        "items = list(tokenizer.word_index.items())  \n"
      ],
      "execution_count": null,
      "outputs": []
    },
    {
      "cell_type": "code",
      "metadata": {
        "colab": {
          "base_uri": "https://localhost:8080/"
        },
        "id": "aLlHYIsdGrgp",
        "outputId": "98637776-4bb4-4f90-d23b-17e335e084b3"
      },
      "source": [
        "# Формируем матрицу bag of words\n",
        "xAll = tokenizer.texts_to_matrix(texts)\n",
        "print(xAll.shape)\n",
        "print(xAll[0,:20])"
      ],
      "execution_count": null,
      "outputs": [
        {
          "output_type": "stream",
          "name": "stdout",
          "text": [
            "(350, 10000)\n",
            "[0. 0. 0. 0. 0. 0. 1. 0. 1. 0. 0. 0. 1. 0. 0. 0. 0. 0. 1. 0.]\n"
          ]
        }
      ]
    },
    {
      "cell_type": "code",
      "metadata": {
        "colab": {
          "base_uri": "https://localhost:8080/"
        },
        "id": "1-unXKYwzBcI",
        "outputId": "bda2fbfa-9e11-440f-f714-8175d88e6e95"
      },
      "source": [
        "#Глянем индексы слов для просмотра и размер словаря\n",
        "print(tokenizer.word_index.items())\n",
        "print('Размер словаря:', len(tokenizer.word_index.items()))\n"
      ],
      "execution_count": null,
      "outputs": [
        {
          "output_type": "stream",
          "name": "stdout",
          "text": [
            "dict_items([('unknown', 1), ('the', 2), ('to', 3), ('i', 4), ('and', 5), ('this', 6), ('my', 7), ('you', 8), ('http', 9), ('a', 10), ('views', 11), ('check', 12), ('is', 13), ('com', 14), ('2', 15), ('www', 16), ('of', 17), ('out', 18), ('subscribe', 19), ('on', 20), ('me', 21), ('it', 22), ('channel', 23), ('please', 24), ('video', 25), ('like', 26), ('for', 27), ('billion', 28), ('so', 29), ('in', 30), ('if', 31), ('have', 32), ('https', 33), ('just', 34), ('song', 35), ('youtube', 36), ('get', 37), ('can', 38), ('are', 39), ('be', 40), ('people', 41), ('here', 42), ('how', 43), ('d', 44), ('that', 45), ('amp', 46), ('music', 47), ('1', 48), ('image2you', 49), ('ru', 50), ('48051', 51), ('not', 52), ('guys', 53), ('only', 54), ('new', 55), ('videos', 56), ('what', 57), ('we', 58), ('at', 59), ('psy', 60), ('will', 61), ('they', 62), ('there', 63), ('do', 64), ('3', 65), ('has', 66), ('hey', 67), ('but', 68), ('facebook', 69), ('your', 70), ('money', 71), ('even', 72), ('thanks', 73), ('000', 74), (\"don't\", 75), ('now', 76), ('more', 77), ('everyone', 78), ('why', 79), ('was', 80), ('see', 81), (\"i'm\", 82), ('comment', 83), ('funny', 84), ('free', 85), ('with', 86), ('world', 87), ('plz', 88), ('lol', 89), ('our', 90), ('v', 91), ('one', 92), ('much', 93), ('think', 94), ('go', 95), ('7', 96), ('when', 97), ('he', 98), ('still', 99), ('style', 100), ('about', 101), ('u', 102), ('follow', 103), ('come', 104), ('from', 105), ('dont', 106), ('back', 107), ('its', 108), ('most', 109), ('know', 110), ('gangnam', 111), ('us', 112), ('all', 113), ('im', 114), ('would', 115), ('sub', 116), ('does', 117), ('by', 118), ('because', 119), ('over', 120), ('comments', 121), ('co', 122), ('first', 123), ('watch', 124), ('came', 125), ('also', 126), ('or', 127), ('some', 128), ('really', 129), ('up', 130), ('subscribers', 131), ('m', 132), ('gift', 133), ('million', 134), ('shit', 135), ('day', 136), ('want', 137), ('twitter', 138), ('got', 139), ('any', 140), ('old', 141), ('no', 142), ('time', 143), ('help', 144), ('watching', 145), ('viewed', 146), ('omg', 147), ('e', 148), ('many', 149), ('tsu', 150), ('am', 151), ('8', 152), ('years', 153), ('earth', 154), ('ermail', 155), ('pl', 156), ('dolacz', 157), ('v3veygin', 158), ('as', 159), ('soon', 160), ('korean', 161), ('best', 162), ('p', 163), ('hate', 164), ('ref', 165), ('2014', 166), ('share', 167), ('great', 168), ('thing', 169), (\"it's\", 170), ('강남스타일', 171), ('xd', 172), ('wow', 173), ('cards', 174), ('name', 175), ('started', 176), ('100', 177), ('who', 178), ('earn', 179), ('made', 180), ('4', 181), ('buy', 182), ('awesome', 183), ('minecraft', 184), ('twitch', 185), ('org', 186), ('reach', 187), ('play', 188), ('hi', 189), ('while', 190), ('gt', 191), ('lt', 192), ('before', 193), ('google', 194), ('too', 195), ('dance', 196), ('guy', 197), ('than', 198), ('little', 199), ('say', 200), ('enjoy', 201), ('wanted', 202), ('should', 203), ('tell', 204), ('right', 205), ('checking', 206), ('an', 207), ('company', 208), ('real', 209), ('make', 210), ('apps', 211), ('takes', 212), ('could', 213), ('give', 214), ('projects', 215), (\"i'll\", 216), ('tv', 217), ('chance', 218), ('friend', 219), ('popular', 220), ('gets', 221), ('fuck', 222), ('gofundme', 223), ('2billion', 224), ('saying', 225), ('need', 226), ('likes', 227), ('5', 228), ('getting', 229), ('such', 230), ('❤️', 231), ('ago', 232), ('where', 233), ('again', 234), ('posts', 235), ('him', 236), ('months', 237), ('tumor', 238), (\"there's\", 239), ('6', 240), ('did', 241), ('hits', 242), ('la', 243), ('leave', 244), ('sexy', 245), ('site', 246), (\"you're\", 247), ('alive', 248), ('hello', 249), ('gaming', 250), ('ebay', 251), ('news', 252), ('game', 253), ('8bit', 254), ('checked', 255), ('remix', 256), ('mean', 257), ('ever', 258), ('suscribe', 259), ('raw', 260), ('x', 261), ('pls', 262), ('baby', 263), ('change', 264), ('every', 265), ('been', 266), ('quite', 267), ('beautiful', 268), ('hackfbaccountlive', 269), ('covers', 270), ('type', 271), ('appreciate', 272), ('youtu', 273), ('9bzkp7q19f0', 274), ('use', 275), ('amazon', 276), ('itunes', 277), ('other', 278), ('then', 279), (\"you'll\", 280), ('half', 281), ('them', 282), ('deserve', 283), ('keep', 284), ('understand', 285), ('youtuber', 286), ('miss', 287), ('click', 288), ('never', 289), ('love', 290), ('0', 291), ('korea', 292), ('justin', 293), ('epic', 294), ('stupid', 295), ('oppa', 296), ('register', 297), ('face', 298), ('watched', 299), ('nice', 300), ('network', 301), ('fb', 302), ('paid', 303), ('going', 304), ('subs', 305), ('dick', 306), ('left', 307), ('good', 308), ('girls', 309), ('fucking', 310), ('sad', 311), ('very', 312), ('brain', 313), ('live', 314), ('were', 315), ('away', 316), ('self', 317), ('school', 318), ('clothes', 319), ('these', 320), ('anyway', 321), ('ass', 322), ('next', 323), ('reading', 324), ('entire', 325), ('family', 326), ('stay', 327), ('lyrics', 328), (\"we've\", 329), ('hope', 330), ('cover', 331), ('itm', 332), ('sspagename', 333), ('strk', 334), ('meselx', 335), ('trksid', 336), ('p3984', 337), ('m1555', 338), ('l2649', 339), ('tops', 340), ('shirts', 341), ('visit', 342), ('millions', 343), ('show', 344), ('teespring', 345), ('marketglory', 346), ('strategygame', 347), ('rap', 348), ('yeah', 349), ('anymore', 350), ('android', 351), ('games', 352), ('newest', 353), ('memories', 354), ('took', 355), ('coming', 356), ('support', 357), ('last', 358), ('listen', 359), ('10', 360), ('ill', 361), ('improve', 362), ('win', 363), ('after', 364), ('web', 365), ('eugenekalinin', 366), ('talent', 367), ('straight', 368), ('view', 369), ('count', 370), ('9', 371), ('hit', 372), ('pages', 373), ('page', 374), ('gwar', 375), ('2015', 376), ('football', 377), ('super', 378), ('history', 379), ('dislikes', 380), ('dislike', 381), (\"isn't\", 382), ('actually', 383), ('fablife', 384), ('welcome', 385), ('his', 386), ('absolutely', 387), ('promise', 388), ('suck', 389), ('group', 390), ('myself', 391), ('feedback', 392), ('top', 393), ('auditioning', 394), ('read', 395), ('section', 396), ('active', 397), ('ching', 398), ('sty', 399), ('indiegogo', 400), ('anyone', 401), ('card', 402), ('code', 403), ('asian', 404), ('try', 405), ('asia', 406), ('l', 407), ('anybody', 408), ('viewer', 409), ('chinese', 410), ('english', 411), ('hoppa', 412), ('lot', 413), ('pictures', 414), ('plus', 415), ('post', 416), ('china', 417), ('had', 418), ('holy', 419), ('person', 420), ('zombie', 421), ('uk', 422), ('juno', 423), ('wallet', 424), ('task', 425), ('join', 426), ('bieber', 427), ('well', 428), ('least', 429), ('aspx', 430), ('put', 431), ('gun', 432), ('add', 433), ('pay', 434), ('soundcloud', 435), ('ready', 436), ('▬▬▬▬▬▬▬▬▬▬ஜ۩۞۩ஜ▬▬▬▬▬▬▬▬', 437), ('look', 438), ('mind', 439), ('vids', 440), ('sr', 441), ('qid', 442), ('1415297812', 443), ('refurbished', 444), ('christmas', 445), ('vidios', 446), ('spam', 447), (\"c'mon\", 448), ('social', 449), ('worldwide', 450), ('sharing', 451), ('multiple', 452), ('expensive', 453), ('126', 454), ('population', 455), ('c', 456), ('o', 457), ('book', 458), ('care', 459), ('whatever', 460), ('piece', 461), ('having', 462), ('whole', 463), ('stuck', 464), ('smart', 465), ('knows', 466), ('pray', 467), ('head', 468), ('sucks', 469), ('december', 470), ('dumb', 471), ('mom', 472), ('her', 473), ('mine', 474), ('hard', 475), ('child', 476), ('dancing', 477), ('suffering', 478), ('praying', 479), ('5million', 480), ('hacked', 481), ('cool', 482), ('loved', 483), ('girl', 484), ('mabey', 485), ('those', 486), ('michael', 487), ('jackson', 488), ('laugh', 489), ('posting', 490), ('part', 491), ('smh', 492), ('content', 493), ('127', 494), ('almost', 495), ('planet', 496), ('joking', 497), ('college', 498), ('photos', 499), ('theater', 500), ('alone', 501), ('pretty', 502), ('she', 503), ('done', 504), ('salon', 505), ('goal', 506), (\"let's\", 507), ('fuego', 508), ('hyperurl', 509), ('k6a5xt', 510), ('salt', 511), ('ur', 512), ('montages', 513), ('id', 514), ('bing', 515), ('rewards', 516), ('link', 517), ('download', 518), ('photo', 519), ('editor', 520), ('huh', 521), ('tube', 522), ('kobyoshi02', 523), ('vid', 524), ('monkeys', 525), ('monkey', 526), ('white', 527), ('shirt', 528), ('test', 529), ('murdev', 530), ('shaking', 531), ('vtarggvgtwq', 532), ('website', 533), ('kids', 534), ('stuff', 535), ('kidsmediausa', 536), ('turned', 537), ('mute', 538), ('once', 539), ('stop', 540), ('within', 541), ('die', 542), ('gbphotographygb', 543), ('premium', 544), ('easypromosapp', 545), ('voteme', 546), ('19924', 547), ('616375350', 548), ('art', 549), ('scientific', 550), ('experiments', 551), ('tutorials', 552), ('able', 553), ('expectations', 554), ('far', 555), ('171183229277', 556), ('ubuntuone', 557), ('40beuutvu2zkxk4utgpz8k', 558), ('edm', 559), ('apparel', 560), ('dedicated', 561), ('bringing', 562), ('inspired', 563), ('designs', 564), ('clothing', 565), ('perfect', 566), ('rave', 567), ('festival', 568), ('neon', 569), ('crop', 570), ('tank', 571), ('t', 572), ('necks', 573), ('accessories', 574), ('instagraml', 575), ('giveaways', 576), ('oncueapparel', 577), ('auburn', 578), ('pride', 579), ('tigermeathoodie', 580), ('andrijamatf', 581), ('12', 582), ('yr', 583), ('producer', 584), ('chiptunes', 585), ('wonderful', 586), ('remixes', 587), ('gangnamstyle', 588), ('kyle', 589), ('martin', 590), ('luther', 591), ('king', 592), ('jr', 593), ('goodbye', 594), ('reason', 595), ('dubstep', 596), ('fireball', 597), ('fruity', 598), ('loops', 599), ('teloa6rio8o', 600), ('dafuq', 601), ('big', 602), ('usa', 603), ('koreans', 604), ('bomb', 605), ('succesfull', 606), ('pplease', 607), ('seconds', 608), ('yt', 609), ('grateful', 610), ('peoples', 611), ('clip', 612), ('bf4', 613), ('advice', 614), ('sure', 615), ('haters', 616), ('effects', 617), ('foto', 618), ('sites', 619), ('another', 620), ('find', 621), ('audiojungle', 622), ('net', 623), ('user', 624), ('portfolio', 625), ('codytolleson', 626), ('roblox', 627), ('warcraft', 628), ('gta5', 629), ('mario', 630), ('must', 631), ('czfcxsn0jnq', 632), ('jaroadc', 633), ('stream', 634), ('hip', 635), ('hop', 636), ('sound', 637), ('dizzy', 638), ('juice', 639), ('prod', 640), ('drugs', 641), ('model', 642), ('citizen', 643), ('lazy', 644), ('prophetz', 645), ('884', 646), ('034', 647), ('783', 648), ('hour', 649), ('avaaz', 650), ('po', 651), ('petition', 652), ('corporation', 653), ('fox', 654), ('broadcasting', 655), ('anular', 656), ('os', 657), ('strikes', 658), ('canal', 659), ('nostalgia', 660), ('cxpzpgb', 661), ('thumbs', 662), ('hw', 663), ('xx', 664), ('often', 665), ('2x10', 666), ('avoid', 667), ('yet', 668), ('brew', 669), ('crew', 670), ('134470083389909', 671), ('iphone', 672), ('5s', 673), ('superbowl', 674), ('petitions', 675), ('national', 676), ('league', 677), ('allow', 678), ('perform', 679), ('bowl', 680), ('halftime', 681), ('sevadus', 682), ('tankionline', 683), ('cd92db3f4', 684), ('chuck', 685), ('norrus', 686), ('ovbiously', 687), ('behold', 688), ('gonna', 689), ('969', 690), ('210', 691), ('themselves', 692), ('oldspice', 693), ('spraytan', 694), ('party', 695), ('commercial', 696), ('sitting', 697), ('billions', 698), ('diys', 699), ('challenges', 700), ('thx', 701), ('131338190916', 702), ('guardalo', 703), ('cats', 704), ('gatti', 705), ('pazzi', 706), ('divertenti', 707), ('2013', 708), ('5287', 709), ('100000415527985', 710), ('drones', 711), ('kamal', 712), ('tayara', 713), ('drone', 714), ('4604617', 715), ('whats', 716), ('trying', 717), ('showcase', 718), ('3000', 719), ('spread', 720), ('around', 721), ('lucas', 722), ('trigo', 723), ('php', 724), ('10200253113705769', 725), ('set', 726), ('vb', 727), ('201470069872822', 728), ('permpage', 729), ('leader', 730), ('angel', 731), ('rookie', 732), ('pop', 733), ('four', 734), ('members', 735), ('chanicka', 736), ('julie', 737), ('stephanie', 738), ('leah', 739), ('feel', 740), ('criticism', 741), (\"we're\", 742), ('notch', 743), ('singers', 744), ('constructive', 745), ('management', 746), ('plan', 747), ('jyp', 748), ('bighit', 749), ('jellyfish', 750), ('yg', 751), ('sm', 752), ('thank', 753), ('taking', 754), ('woobox', 755), ('33gxrf', 756), ('brt0u5', 757), ('cs', 758), ('admit', 759), ('number', 760), ('viewers', 761), ('viewing', 762), ('apparently', 763), ('bad', 764), ('5277478', 765), ('79', 766), ('binbox', 767), ('io', 768), ('1firo', 769), ('123', 770), ('ling', 771), ('long', 772), ('ding', 773), ('ring', 774), ('yaaaaaa', 775), ('ganga', 776), ('cleaning', 777), ('pan', 778), ('halp', 779), ('project', 780), ('brother', 781), ('psn', 782), ('happy', 783), ('codes', 784), ('amazing', 785), ('50', 786), ('xxbb5tczhm39hvzd', 787), ('things', 788), ('non', 789), ('countries', 790), ('jelly', 791), ('learn', 792), ('looking', 793), ('plizz', 794), ('withing', 795), ('unique', 796), ('angry', 797), ('littlebrother', 798), ('subscribes', 799), ('thepiratebay', 800), ('se', 801), ('torrent', 802), ('6381501', 803), ('timothy', 804), ('sykes', 805), ('collection', 806), ('way', 807), ('decent', 808), ('said', 809), ('visiting', 810), ('itz', 811), ('recaps', 812), ('above', 813), ('diddle', 814), ('screw', 815), ('crap', 816), ('speaking', 817), ('emerson', 818), ('zanol', 819), ('visuelgamingznl', 820), ('gangam', 821), ('weird', 822), ('ehi', 823), ('lexis', 824), ('band', 825), ('uploading', 826), ('their', 827), ('own', 828), ('songs', 829), ('grwmps', 830), ('funnytortspics', 831), ('112720997191206369631', 832), ('2012bitches', 833), ('milions', 834), ('comentars', 835), ('bilion', 836), ('zero', 837), ('mix', 838), ('124', 839), ('821', 840), ('694', 841), ('apocalypse', 842), ('greetings', 843), ('spoderman', 844), ('124923004', 845), ('wiews', 846), ('grow', 847), ('crazy', 848), ('republic', 849), ('discover', 850), ('young', 851), ('moroccan', 852), ('linkbucks', 853), ('acn2g', 854), ('spending', 855), ('cash', 856), ('nike', 857), ('gamestop', 858), ('etc', 859), ('easy', 860), ('doing', 861), ('simple', 862), ('downloading', 863), ('inviting', 864), ('friends', 865), ('signup', 866), ('sign', 867), ('today', 868), ('promo', 869), ('bd3721315', 870), ('somebody', 871), ('wake', 872), ('lots', 873), ('gay', 874), ('gotta', 875), ('worth', 876), ('clicked', 877), ('everything', 878), ('went', 879), ('uphill', 880), (\"jb's\", 881), ('❤️❤️❤️❤️', 882), ('ahhh', 883), ('reverbnation', 884), ('msmarilynmiles', 885), ('starlitnightsky', 886), ('kodysman', 887), ('doesnt', 888), ('visits', 889), ('thousands', 890), ('gcmforex', 891), ('partners', 892), ('aw', 893), ('joint2', 894), ('affiliateid', 895), ('9107', 896), ('men', 897), ('allot', 898), ('effort', 899), ('into', 900), ('unfortunatly', 901), ('www10', 902), ('vakinha', 903), ('br', 904), ('vaquinhae', 905), ('313327', 906), ('vip', 907), ('cross', 908), ('fire', 909), ('al', 910), ('tlouxmusic', 911), ('singing', 912), ('place', 913), ('promote', 914), ('channels', 915), ('pal', 916), ('pivot', 917), ('animations', 918), ('ig', 919), ('killuminati94', 920), ('sunfrogshirts', 921), ('sunglass', 922), ('html', 923), ('24398', 924), ('teelalala', 925), ('zxlightsoutxz', 926), ('reminds', 927), ('popaegis', 928), ('wrenn', 929), ('almond', 930), ('eyes', 931), ('swagbucks', 932), ('rb', 933), ('13017194', 934), ('search', 935), ('chubbz', 936), ('dinero', 937), ('mscalifornia95', 938), ('😫😓😏😪😔😖😌😭😎😚😘😙😗😋😝😜😛😍😒😞😷😶😵😳😲😱😟😰😩😨😧😦😥😤😣😮😴😢😡😠😬😕😑😐😯😉😈😇😆😅😄😃😂😁😀😊☺', 939), ('single', 940), ('types', 941), ('ｄａｍｎ', 942), ('ｔｈｉｓ', 943), ('ｃｏｍｍｅｎｔ', 944), ('ｉｓ', 945), ('ｆａｎｃy', 946), (\"'static'\", 947), ('incmedia', 948), ('truth', 949), ('meets', 950), ('pe', 951), ('lets', 952), ('found', 953), ('bubblews', 954), ('9277547', 955), ('peace', 956), ('brotherhood', 957), ('wouldnt', 958), ('chacking', 959), ('il', 960), ('giver', 961), ('gp', 962), ('offer', 963), ('listing', 964), ('b00ecvf93g', 965), ('olp', 966), ('tab', 967), ('ie', 968), ('utf8', 969), ('condition', 970), ('psy’s', 971), ('“gangnam', 972), ('style”', 973), ('flipagram', 974), ('f', 975), ('luka1qmrhf', 976), ('gvr7xg', 977), ('censor', 978), ('julien', 979), ('blanc', 980), ('jackal', 981), ('james', 982), ('wrap', 983), ('night', 984), ('surveymonkey', 985), ('s', 986), ('cvhmklt', 987), (\"won't\", 988), ('disappointed', 989), ('viral', 990), ('true', 991), ('700', 992), ('bots', 993), ('bs', 994), ('awesomeness', 995), ('aaaaaaa', 996), ('lada😂', 997), ('dear', 998), ('loving', 999), ('tried', 1000), ('special', 1001), (\"to'll\", 1002), ('registr', 1003), ('life', 1004), ('yellow', 1005), ('suit', 1006), ('kinda', 1007), ('looks', 1008), ('jae', 1009), ('suk', 1010), ('difference', 1011), ('commenting', 1012), ('liking', 1013), ('waste', 1014), ('being', 1015), ('everyday', 1016), ('slema13', 1017), ('wellcome', 1018), ('theres', 1019), ('accounts', 1020), ('1111', 1021), ('wat', 1022), ('da', 1023), ('tareko100', 1024), ('enter', 1025), ('keyword', 1026), ('5800', 1027), ('winning', 1028), ('csgo', 1029), ('sell', 1030), ('steam', 1031), ('market', 1032), ('492', 1033), ('636', 1034), ('aseris', 1035), ('fantastic', 1036), ('521', 1037), ('750', 1038), ('23', 1039), ('min', 1040), ('repass', 1041), ('4shared', 1042), ('preview', 1043), ('pdf', 1044), ('cjfoftxeba', 1045), ('liked', 1046), ('later', 1047), ('kind', 1048), ('making', 1049), ('launchpad', 1050), (\"video's\", 1051), ('spot', 1052), ('easily', 1053), ('bother', 1054), ('dunno', 1055), ('joke', 1056), ('r', 1057), ('y', 1058), ('k', 1059), ('n', 1060), ('g', 1061), ('gangman', 1062), ('drop', 1063), ('bass', 1064), ('rapper', 1065), ('songwriter', 1066), ('29', 1067), ('24', 1068), ('elevator', 1069), ('excuse', 1070), ('prehistoric', 1071), ('headbutt', 1072), ('ex', 1073), ('enimen', 1074), ('loool', 1075), ('understands', 1076), ('♡', 1077), (\"''little\", 1078), ('instagram', 1079), ('chris', 1080), ('cz', 1081), ('relevant', 1082), ('completely', 1083), ('job', 1084), ('02', 1085), ('camera', 1086), ('man', 1087), ('glasses', 1088), ('wrong', 1089), ('singer', 1090), ('koean', 1091), ('chainise', 1092), ('ana', 1093), ('05', 1094), ('hahahahah', 1095), ('equals', 1096), ('smartie', 1097), ('pants', 1098), ('point', 1099), ('listening', 1100), ('stfu', 1101), ('2009', 1102), ('america', 1103), ('jap', 1104), ('worthless', 1105), ('fish', 1106), ('untanlted', 1107), ('gook', 1108), ('isnt', 1109), ('fucken', 1110), ('fucked', 1111), ('remember', 1112), ('obsessed', 1113), ('😗', 1114), ('remove', 1115), ('wank', 1116), ('ithat', 1117), ('actor', 1118), ('hwang', 1119), ('minoo', 1120), ('month', 1121), ('believe', 1122), ('future', 1123), ('superstar', 1124), ('stronglittlepsy', 1125), ('fighting', 1126), ('ygunited', 1127), ('11', 1128), ('08', 1129), ('keeps', 1130), ('updated', 1131), ('minutes', 1132), ('279', 1133), ('898', 1134), ('users', 1135), ('fake', 1136), ('account', 1137), ('saw', 1138), ('yeat', 1139), ('words', 1140), ('hole', 1141), ('voyage', 1142), ('😢', 1143), ('problem', 1144), ('phenomena', 1145), ('behind', 1146), ('random', 1147), ('slut', 1148), ('bitch', 1149), ('hyuna', 1150), (\"'33\", 1151), ('kollektivet', 1152), (\"slappin'\", 1153), ('penis', 1154), ('credit', 1155), ('receive', 1156), ('fun', 1157), ('reviews', 1158), ('flute', 1159), ('dealing', 1160), ('theories', 1161), (\"could've\", 1162), ('gotten', 1163), ('realy', 1164), ('access', 1165), ('internet', 1166), ('including', 1167), ('numbers', 1168), ('rising', 1169), ('2017', 1170), ('populatoin', 1171), ('connected', 1172), ('hackers', 1173), ('may', 1174), ('rised', 1175), ('featured', 1176), ('mp3s', 1177), ('seen', 1178), ('concerts', 1179), ('eve', 1180), ('event', 1181), ('2012', 1182), ('seeing', 1183), ('adding', 1184), ('complaining', 1185), ('heck', 1186), ('2b', 1187), ('chanel', 1188), ('queen', 1189), ('pause', 1190), ('39', 1191), ('millisecond', 1192), ('chick', 1193), ('few', 1194), ('tries', 1195), ('year', 1196), ('olds', 1197), (\"'how\", 1198), (\"world'\", 1199), ('annoying', 1200), ('mathster', 1201), ('wp', 1202), ('1495323920744243', 1203), ('hl', 1204), ('millioon', 1205), ('dislikesssssssssssssssssssssssssssssssss', 1206), ('lucks', 1207), ('kidz', 1208), ('billon', 1209), ('millon', 1210), ('facts', 1211), ('humanity', 1212), ('called', 1213), ('odowd', 1214), ('crowd', 1215), ('movie', 1216), ('translate', 1217), ('second', 1218), ('comes', 1219), ('tsū', 1220), ('publishing', 1221), ('platform', 1222), ('markusmairhofer', 1223), ('315', 1224), ('950', 1225), ('daaaaaaaaaaannng', 1226), ('dominate', 1227), ('322', 1228), ('484', 1229), ('officialpsy', 1230), ('fail', 1231), ('fanboys', 1232), ('knew', 1233), ('funnier', 1234), ('bit', 1235), ('end', 1236), ('spoken', 1237), ('rapidly', 1238), ('enough', 1239), ('two', 1240), ('summon', 1241), ('freddy', 1242), (\"mercury's\", 1243), ('ghost', 1244), ('whipe', 1245), ('direction', 1246), ('miley', 1247), ('cirus', 1248), ('round', 1249), ('public', 1250), ('pouring', 1251), ('bucket', 1252), ('ice', 1253), ('water', 1254), ('running', 1255), ('acting', 1256), (\"wasn't\", 1257), ('shares', 1258), ('dylan', 1259), ('irl', 1260), ('1030', 1261), ('300', 1262), ('tomorrow', 1263), ('hunger', 1264), ('follower', 1265), ('lists', 1266), ('161620527267482', 1267), ('beibs', 1268), (\"doesn't\", 1269), ('capitalized', 1270), ('tazz', 1271), ('bottom', 1272), ('heart', 1273), ('19', 1274), ('9082175', 1275), ('schoolgeniusnits', 1276), ('ms', 1277), ('ejw9kvkoxdamqm808h5z', 1278), ('4snjqp', 1279), ('thqbeum69aqup1ih', 1280), ('fphgk5zllsvdqv0zuf0mb', 1281), ('lnuj', 1282), ('ufth4yokfrxyts2zvrrp6qgtw67y', 1283), ('l551h', 1284), ('f7', 1285), ('vlczzrg8vgctlpsd9ongewhj8', 1286), ('gibu', 1287), ('s3lzmvy', 1288), ('iq2', 1289), ('twsfzz9whn7jusvhufpglqrzczl05fnphagevb3x8ydmc6x', 1290), ('jtcjnmho', 1291), ('vfxwcjzyvwobihrngx2ocjng2pg1evhxzyjd', 1292), ('o3h', 1293), ('ry6f57sprnd2xv', 1294), ('bzszz', 1295), ('bps', 1296), ('390875584405933', 1297), ('391725794320912', 1298), ('sucscribe', 1299), ('vaahidmustafic', 1300), ('4436607', 1301), ('offıcal', 1302), ('nicushorbboy', 1303), ('mee', 1304), ('sorry', 1305), ('jenny', 1306), ('high', 1307), ('dresses', 1308), ('fashionable', 1309), ('cute', 1310), ('low', 1311), ('esteem', 1312), ('dad', 1313), ('passed', 1314), ('mother', 1315), ('figure', 1316), ('brothers', 1317), ('older', 1318), ('since', 1319), ('boys', 1320), ('attention', 1321), ('wear', 1322), ('boyfriend', 1323), (\"can't\", 1324), ('shy', 1325), ('confidence', 1326), ('talk', 1327), ('someone', 1328), ('caroline', 1329), ('moved', 1330), ('donate', 1331), ('brand', 1332), ('shop', 1333), ('walmart', 1334), ('wanna', 1335), ('nails', 1336), ('alot', 1337), ('french', 1338), ('tips', 1339), ('nail', 1340), ('hair', 1341), ('curled', 1342), ('dressprettyonce', 1343), ('throw', 1344), ('fly', 1345), ('burned', 1346), ('chhanel', 1347), ('daily', 1348), ('hav', 1349), ('idea', 1350), (\"he's\", 1351), ('language', 1352), ('wonder', 1353), ('illuminati', 1354), ('confirmed', 1355), ('craft', 1356), ('shoot', 1357), ('20', 1358), ('lordviperas', 1359), ('shitty', 1360), ('government', 1361), (\"didn't\", 1362), ('block', 1363), (\"there'd\", 1364), ('close', 1365), ('record', 1366), ('drunk', 1367), ('during', 1368), ('limit', 1369), ('sun', 1370), ('exposure', 1371), ('driving', 1372), ('eliminate', 1373), ('hassle', 1374), ('swing', 1375), ('car', 1376), ('visor', 1377), ('between', 1378), ('windshield', 1379), ('window', 1380), ('kickstarter', 1381), ('733634264', 1382), ('visortwin', 1383), ('hahah', 1384), ('juyk', 1385), ('allways', 1386), ('57', 1387), ('5242575', 1388), ('dances', 1389), ('00', 1390), ('58', 1391), ('fudairyqueen', 1392), ('pnref', 1393), ('story', 1394), ('haha', 1395), ('westerners', 1396), ('goes', 1397), ('thewaxedhatco', 1398), ('imagine', 1399), ('adsense', 1400), ('morgage', 1401), ('let', 1402), ('forget', 1403), ('train', 1404), ('outfit', 1405), ('huge', 1406), ('turn', 1407), ('off', 1408), ('lacked', 1409), ('eyebrows', 1410), ('difficult', 1411), ('1340524', 1412), ('1340523', 1413), ('1340522', 1414), ('1340521', 1415), ('1340520', 1416), ('1340519', 1417), ('1340518', 1418), ('1340517', 1419), ('1340504', 1420), ('1340503', 1421), ('1340502', 1422), ('1340500', 1423), ('1340499', 1424), ('1340494', 1425), ('1340493', 1426), ('1340492', 1427), ('1340491', 1428), ('1340490', 1429), ('1340489', 1430), ('1340488', 1431), ('entertaining', 1432), ('shotgun', 1433), ('ninja', 1434), ('defuse', 1435), ('trolling', 1436), ('certain', 1437), ('amount', 1438), ('tofikmiedzynb', 1439), ('1496273723978022', 1440), ('1073741828', 1441), ('1496241863981208', 1442), ('1498561870415874', 1443), ('eeccon', 1444), ('733949243353321', 1445), ('734237113324534', 1446), ('offset', 1447), ('total', 1448), ('74', 1449), ('frigea', 1450), ('marius', 1451), ('gabriel', 1452), ('explore', 1453), ('publ', 1454), ('referafriend', 1455), ('crea', 1456), ('rrid', 1457), ('0f9fa8aa', 1458), ('243a', 1459), ('5c2f', 1460), ('c349', 1461), ('ede05ea397ca', 1462), ('cant', 1463), ('virus', 1464), ('blue', 1465), ('4th', 1466), ('sold', 1467), ('treechristmas', 1468), ('1m', 1469), ('crdits', 1470), ('app', 1471), ('·', 1472), ('freemyapps', 1473), ('url', 1474), ('5af506e1', 1475), ('something', 1476), ('everyones', 1477), ('lool', 1478), ('hear', 1479), ('call', 1480), ('duty', 1481), ('aways', 1482), ('store', 1483), ('details', 1484), ('butalabs', 1485), ('thought', 1486)])\n",
            "Размер словаря: 1486\n"
          ]
        }
      ]
    },
    {
      "cell_type": "code",
      "metadata": {
        "colab": {
          "base_uri": "https://localhost:8080/"
        },
        "id": "bCja3EyYlrD0",
        "outputId": "9b0f0a85-5993-483c-a236-454405059289"
      },
      "source": [
        "# Преобразовываем текст в последовательность индексов согласно частотному словарю\n",
        "trainWordIndexes = tokenizer.texts_to_sequences(texts) # Обучающие тесты в индексы\n",
        "\n",
        "\n",
        "print(\"Взглянем на фрагмент обучающего текста:\")\n",
        "print(\"В виде оригинального текста:              \", texts[0][:87], classes[0], yAll[0]) #classes = True = СПАМ; classes = False = НЕ СПАМ\n",
        "print(\"Он же в виде последовательности индексов: \", trainWordIndexes[0][:20], '\\n')\n",
        "\n",
        "print(\"В виде оригинального текста:              \", texts[7][:87], classes[7],yAll[89],) #classes = True = СПАМ; classes = False = НЕ СПАМ\n",
        "print(\"Он же в виде последовательности индексов: \", trainWordIndexes[7][:20], '\\n')"
      ],
      "execution_count": null,
      "outputs": [
        {
          "output_type": "stream",
          "name": "stdout",
          "text": [
            "Взглянем на фрагмент обучающего текста:\n",
            "В виде оригинального текста:               Huh, anyway check out this you[tube] channel: kobyoshi02 True [0. 1.]\n",
            "Он же в виде последовательности индексов:  [521, 321, 12, 18, 6, 8, 522, 23, 523] \n",
            "\n",
            "В виде оригинального текста:               i turned it on mute as soon is i came on i just wanted to check the  views...﻿ False [1. 0.]\n",
            "Он же в виде последовательности индексов:  [4, 537, 22, 20, 538, 159, 160, 13, 4, 125, 20, 4, 34, 202, 3, 12, 2, 11] \n",
            "\n"
          ]
        }
      ]
    },
    {
      "cell_type": "code",
      "metadata": {
        "colab": {
          "base_uri": "https://localhost:8080/"
        },
        "id": "BbImemJXLAPN",
        "outputId": "6e2ef73f-c083-44ae-c317-f0bc259aa703"
      },
      "source": [
        "# Разбиваем все данные на обучающую и тестовую выборки с использованием метода train_test_split\n",
        "xTrain, xVal, yTrain, yVal = train_test_split(xAll, yAll, test_size = 0.2, shuffle = True)\n",
        "print(xTrain.shape)\n",
        "print(yTrain.shape)\n",
        "print(xVal.shape)\n",
        "print(yVal.shape)"
      ],
      "execution_count": null,
      "outputs": [
        {
          "output_type": "stream",
          "name": "stdout",
          "text": [
            "(280, 10000)\n",
            "(280, 2)\n",
            "(70, 10000)\n",
            "(70, 2)\n"
          ]
        }
      ]
    },
    {
      "cell_type": "markdown",
      "metadata": {
        "id": "u2hHgh90KyeU"
      },
      "source": [
        "# Графики"
      ]
    },
    {
      "cell_type": "code",
      "metadata": {
        "colab": {
          "base_uri": "https://localhost:8080/"
        },
        "id": "C4G3pD9YKNdc",
        "outputId": "3956e017-6534-4fd5-cda4-3ce55d10508b"
      },
      "source": [
        "arr = np.column_stack((texts, classes))\n",
        "arr\n",
        "list_of_true = []\n",
        "list_of_false = []\n",
        "\n",
        "for cl in arr:\n",
        "  if cl[1] == True:\n",
        "    list_of_true.append(cl[0])\n",
        "  else:\n",
        "    list_of_false.append(cl[0])\n",
        "\n",
        "print(list_of_true[0], type(list_of_true))\n",
        "print(list_of_false[0], type(list_of_false))\n",
        "\n",
        "# print(texts.shape)\n",
        "# print(len(classes))\n",
        "\n"
      ],
      "execution_count": null,
      "outputs": [
        {
          "output_type": "stream",
          "name": "stdout",
          "text": [
            "Huh, anyway check out this you[tube] channel: kobyoshi02 <class 'list'>\n",
            "i turned it on mute as soon is i came on i just wanted to check the  views...﻿ <class 'list'>\n"
          ]
        }
      ]
    },
    {
      "cell_type": "code",
      "metadata": {
        "colab": {
          "base_uri": "https://localhost:8080/"
        },
        "id": "fjnpMXH3YOKS",
        "outputId": "c8b507a2-dbad-49c2-ddde-b3f9be61a553"
      },
      "source": [
        "tokenizer = Tokenizer(num_words=maxWordsCount, filters='!\"#$%&()*+,-–—./…:;<=>?@[\\\\]^_`{|}~«»\\t\\n\\xa0\\ufeff', lower=True, split=' ', oov_token='unknown', char_level=False)\n",
        "\n",
        "tokenizer.fit_on_texts(list_of_true)\n",
        "true_items = dict(tokenizer.word_index.items())\n",
        "\n",
        "  \n",
        "\n",
        "print(type(true_items),true_items)\n",
        "\n",
        "tokenizer.fit_on_texts(list_of_false)\n",
        "false_items = dict(tokenizer.word_index.items())\n",
        "print(type(false_items),false_items) \n",
        "print(type(false_items.items))\n"
      ],
      "execution_count": null,
      "outputs": [
        {
          "output_type": "stream",
          "name": "stdout",
          "text": [
            "<class 'dict'> {'unknown': 1, 'my': 2, 'and': 3, 'i': 4, 'to': 5, 'http': 6, 'com': 7, 'www': 8, 'you': 9, 'check': 10, 'subscribe': 11, 'channel': 12, 'out': 13, 'please': 14, 'me': 15, 'the': 16, 'a': 17, 'like': 18, 'for': 19, 'https': 20, 'if': 21, 'on': 22, 'of': 23, 'amp': 24, 'image2you': 25, 'ru': 26, '48051': 27, 'have': 28, 'guys': 29, 'it': 30, 'videos': 31, 'so': 32, 'can': 33, 'get': 34, 'new': 35, 'be': 36, 'do': 37, 'facebook': 38, 'thanks': 39, 'this': 40, 'hey': 41, 'is': 42, 'music': 43, 'will': 44, 'free': 45, 'plz': 46, 'our': 47, 'here': 48, 'money': 49, 'in': 50, 'follow': 51, 'everyone': 52, 'not': 53, 'at': 54, 'your': 55, 'sub': 56, 'youtube': 57, 'go': 58, 'co': 59, \"don't\": 60, 'just': 61, 'that': 62, 'we': 63, 'video': 64, 'gift': 65, 'comment': 66, 'about': 67, 'd': 68, 'what': 69, 'one': 70, 'twitter': 71, 'but': 72, 'would': 73, 'some': 74, 'come': 75, 'song': 76, 'really': 77, 'back': 78, 'subscribers': 79, 'tsu': 80, 'ermail': 81, 'pl': 82, 'dolacz': 83, 'v3veygin': 84, 'us': 85, \"i'm\": 86, 'want': 87, 'more': 88, 'also': 89, 'from': 90, 'im': 91, 'ref': 92, 'share': 93, 'cards': 94, 'help': 95, 'they': 96, 'watch': 97, 'u': 98, 'are': 99, 'or': 100, 'people': 101, 'earn': 102, 'with': 103, 'time': 104, 'see': 105, 'minecraft': 106, 'twitch': 107, 'think': 108, 'dont': 109, '1': 110, 'org': 111, 'play': 112, 'hi': 113, 'gt': 114, 'as': 115, 'first': 116, 'v': 117, 'started': 118, 'much': 119, 'soon': 120, 'all': 121, 'company': 122, 'any': 123, 'apps': 124, 'give': 125, 'hate': 126, 'projects': 127, 'buy': 128, \"i'll\": 129, 'tv': 130, 'by': 131, 'chance': 132, 'friend': 133, '3': 134, 'know': 135, 'before': 136, '2': 137, 'google': 138, 'gofundme': 139, 'am': 140, 'posts': 141, '100': 142, 'la': 143, 'leave': 144, 'enjoy': 145, 'site': 146, 'should': 147, 'funny': 148, 'tell': 149, 'day': 150, 'now': 151, 'gaming': 152, 'got': 153, 'ebay': 154, 'an': 155, 'news': 156, 'make': 157, '8bit': 158, 'even': 159, 'remix': 160, 'no': 161, 'p': 162, '4': 163, 'only': 164, 'takes': 165, 'could': 166, 'how': 167, 'awesome': 168, 'world': 169, 'suscribe': 170, 'raw': 171, 'hackfbaccountlive': 172, 'up': 173, 'covers': 174, 'type': 175, 'lt': 176, 'appreciate': 177, 'amazon': 178, 'itunes': 179, 'then': 180, \"you'll\": 181, 'need': 182, 'click': 183, 'has': 184, 'psy': 185, 'register': 186, 'where': 187, '8': 188, 'network': 189, 'fb': 190, 'paid': 191, 'him': 192, 'subs': 193, 'comments': 194, '6': 195, 'away': 196, 'name': 197, 'self': 198, 'school': 199, 'because': 200, 'clothes': 201, 'ass': 202, 'stay': 203, 'alive': 204, 'right': 205, 'hello': 206, 'lyrics': 207, \"we've\": 208, 'cover': 209, 'itm': 210, 'sspagename': 211, 'strk': 212, 'meselx': 213, 'trksid': 214, 'p3984': 215, 'm1555': 216, 'l2649': 217, 'tops': 218, 'shirts': 219, 'visit': 220, 'show': 221, 'teespring': 222, 'marketglory': 223, 'strategygame': 224, 'real': 225, 'game': 226, 'rap': 227, 'android': 228, 'games': 229, 'newest': 230, 'made': 231, 'best': 232, '10': 233, 'ill': 234, 'was': 235, 'improve': 236, 'win': 237, 'web': 238, 'eugenekalinin': 239, 'talent': 240, 'x': 241, 'pages': 242, '2014': 243, 'page': 244, 'gwar': 245, '2015': 246, 'change': 247, 'football': 248, 'pls': 249, 'great': 250, 'fablife': 251, 'welcome': 252, 'e': 253, 'beautiful': 254, 'over': 255, 'promise': 256, 'there': 257, 'group': 258, 'korean': 259, 'myself': 260, 'feedback': 261, 'auditioning': 262, 'read': 263, 'lol': 264, 'indiegogo': 265, 'does': 266, 'anyone': 267, 'use': 268, 'card': 269, 'code': 270, 'who': 271, 'them': 272, 'youtuber': 273, 'hoppa': 274, 'miss': 275, 'too': 276, 'many': 277, 'pictures': 278, 'plus': 279, 'post': 280, 'getting': 281, 'juno': 282, 'wallet': 283, 'its': 284, 'task': 285, 'join': 286, 'dance': 287, 'epic': 288, 'aspx': 289, 'gun': 290, 'add': 291, 'soundcloud': 292, 'look': 293, 'vids': 294, 'sr': 295, 'qid': 296, '1415297812': 297, 'refurbished': 298, 'christmas': 299, 'nice': 300, 'vidios': 301, 'social': 302, 'worldwide': 303, 'sharing': 304, 'expensive': 305, 'book': 306, 'going': 307, 'care': 308, 'hard': 309, 'little': 310, 'child': 311, 'very': 312, 'brain': 313, 'tumor': 314, 'left': 315, 'praying': 316, 'live': 317, 'than': 318, 'content': 319, 'reach': 320, 'college': 321, 'photos': 322, 'theater': 323, 'while': 324, 'alone': 325, 'pretty': 326, 'girls': 327, 'did': 328, 'done': 329, 'salon': 330, 'these': 331, 'fuego': 332, 'hyperurl': 333, 'k6a5xt': 334, 'montages': 335, 'id': 336, 'bing': 337, 'rewards': 338, 'link': 339, 'download': 340, 'photo': 341, 'editor': 342, 'huh': 343, 'anyway': 344, 'tube': 345, 'kobyoshi02': 346, 'vid': 347, 'monkeys': 348, 'monkey': 349, 'white': 350, 'shirt': 351, 'test': 352, 'say': 353, 'murdev': 354, 'shaking': 355, 'sexy': 356, 'vtarggvgtwq': 357, 'website': 358, 'kids': 359, 'stuff': 360, 'kidsmediausa': 361, 'next': 362, 'once': 363, 'reading': 364, 'stop': 365, 'within': 366, \"you're\": 367, 'entire': 368, 'family': 369, 'die': 370, 'gbphotographygb': 371, 'premium': 372, 'easypromosapp': 373, 'voteme': 374, '19924': 375, '616375350': 376, 'art': 377, 'scientific': 378, 'experiments': 379, 'tutorials': 380, 'hope': 381, 'able': 382, 'expectations': 383, 'far': 384, '171183229277': 385, 'ubuntuone': 386, '40beuutvu2zkxk4utgpz8k': 387, 'edm': 388, 'apparel': 389, 'dedicated': 390, 'bringing': 391, 'inspired': 392, 'designs': 393, 'clothing': 394, 'perfect': 395, 'rave': 396, 'festival': 397, 'neon': 398, 'crop': 399, 'tank': 400, 't': 401, 'necks': 402, 'accessories': 403, 'instagraml': 404, 'giveaways': 405, 'oncueapparel': 406, 'auburn': 407, 'pride': 408, 'tigermeathoodie': 409, 'andrijamatf': 410, '12': 411, 'yr': 412, 'old': 413, 'producer': 414, 'chiptunes': 415, 'wonderful': 416, 'checked': 417, 'remixes': 418, 'gangnamstyle': 419, 'kyle': 420, 'yeah': 421, 'memories': 422, 'martin': 423, 'luther': 424, 'king': 425, 'jr': 426, 'reason': 427, 'dubstep': 428, 'fireball': 429, 'fruity': 430, 'loops': 431, 'took': 432, 'teloa6rio8o': 433, 'listen': 434, 'ever': 435, 'succesfull': 436, 'pplease': 437, 'seconds': 438, 'yt': 439, 'grateful': 440, 'peoples': 441, 'clip': 442, 'bf4': 443, 'advice': 444, 'sure': 445, 'haters': 446, 'after': 447, 'effects': 448, 'foto': 449, 'sites': 450, 'another': 451, 'find': 452, 'audiojungle': 453, 'net': 454, 'user': 455, 'portfolio': 456, 'codytolleson': 457, 'roblox': 458, 'warcraft': 459, 'gta5': 460, 'mario': 461, 'must': 462, 'czfcxsn0jnq': 463, 'jaroadc': 464, 'stream': 465, 'straight': 466, 'hip': 467, 'hop': 468, 'sound': 469, 'dizzy': 470, 'juice': 471, 'prod': 472, 'drugs': 473, 'model': 474, 'citizen': 475, 'lazy': 476, '7': 477, 'prophetz': 478, 'avaaz': 479, 'po': 480, 'petition': 481, 'corporation': 482, 'fox': 483, 'broadcasting': 484, 'anular': 485, 'os': 486, 'strikes': 487, 'canal': 488, 'nostalgia': 489, 'cxpzpgb': 490, 'xx': 491, 'brew': 492, 'crew': 493, '134470083389909': 494, 'iphone': 495, '5s': 496, 'superbowl': 497, 'petitions': 498, 'national': 499, 'league': 500, 'allow': 501, 'perform': 502, 'super': 503, 'bowl': 504, 'halftime': 505, 'sevadus': 506, 'tankionline': 507, 'cd92db3f4': 508, 'diys': 509, 'challenges': 510, 'thx': 511, '131338190916': 512, 'guardalo': 513, 'cats': 514, 'gatti': 515, 'pazzi': 516, 'divertenti': 517, '2013': 518, '5287': 519, '100000415527985': 520, 'drones': 521, 'kamal': 522, 'tayara': 523, 'he': 524, 'his': 525, 'drone': 526, 'absolutely': 527, '4604617': 528, 'whats': 529, 'trying': 530, 'showcase': 531, '3000': 532, 'suck': 533, 'spread': 534, 'around': 535, 'support': 536, 'lucas': 537, 'trigo': 538, 'php': 539, '10200253113705769': 540, 'set': 541, 'vb': 542, '201470069872822': 543, 'permpage': 544, 'leader': 545, 'angel': 546, 'rookie': 547, 'pop': 548, 'four': 549, 'members': 550, 'chanicka': 551, 'julie': 552, 'stephanie': 553, 'leah': 554, 'feel': 555, 'criticism': 556, \"we're\": 557, 'top': 558, 'notch': 559, 'singers': 560, 'constructive': 561, 'management': 562, 'plan': 563, 'jyp': 564, 'bighit': 565, 'jellyfish': 566, 'yg': 567, 'sm': 568, 'thank': 569, 'taking': 570, 'woobox': 571, '33gxrf': 572, 'brt0u5': 573, 'cs': 574, 'xd': 575, 'binbox': 576, 'io': 577, '1firo': 578, '123': 579, 'cleaning': 580, 'pan': 581, 'halp': 582, 'project': 583, 'brother': 584, 'psn': 585, 'other': 586, 'happy': 587, 'codes': 588, 'amazing': 589, '50': 590, 'xxbb5tczhm39hvzd': 591, 'plizz': 592, 'withing': 593, 'unique': 594, 'l': 595, 'angry': 596, 'littlebrother': 597, 'anybody': 598, 'subscribes': 599, 'thepiratebay': 600, 'se': 601, 'torrent': 602, '6381501': 603, 'timothy': 604, 'sykes': 605, 'collection': 606, 'half': 607, 'way': 608, 'decent': 609, 'itz': 610, 'recaps': 611, 'above': 612, 'diddle': 613, 'emerson': 614, 'zanol': 615, 'visuelgamingznl': 616, 'gangam': 617, 'style': 618, 'ehi': 619, 'why': 620, 'lexis': 621, 'band': 622, 'uploading': 623, 'their': 624, 'own': 625, 'songs': 626, 'lot': 627, 'grwmps': 628, 'funnytortspics': 629, '112720997191206369631': 630, 'grow': 631, 'discover': 632, 'young': 633, 'moroccan': 634, 'linkbucks': 635, 'acn2g': 636, 'spending': 637, 'cash': 638, 'try': 639, 'such': 640, 'nike': 641, 'gamestop': 642, 'etc': 643, 'easy': 644, 'doing': 645, 'simple': 646, 'watching': 647, 'downloading': 648, 'inviting': 649, 'friends': 650, 'signup': 651, 'sign': 652, 'today': 653, 'promo': 654, 'bd3721315': 655, 'reverbnation': 656, 'msmarilynmiles': 657, 'starlitnightsky': 658, 'kodysman': 659, 'gcmforex': 660, 'partners': 661, 'aw': 662, 'joint2': 663, 'affiliateid': 664, '9107': 665, 'men': 666, 'put': 667, 'allot': 668, 'effort': 669, 'into': 670, 'unfortunatly': 671, 'www10': 672, 'vakinha': 673, 'br': 674, 'vaquinhae': 675, '313327': 676, 'vip': 677, 'cross': 678, 'fire': 679, 'al': 680, 'tlouxmusic': 681, 'singing': 682, 'pay': 683, 'pal': 684, 'pivot': 685, 'animations': 686, 'ig': 687, 'killuminati94': 688, 'sunfrogshirts': 689, 'sunglass': 690, 'html': 691, '24398': 692, 'teelalala': 693, 'zxlightsoutxz': 694, 'reminds': 695, 'popaegis': 696, 'wrenn': 697, 'almond': 698, 'eyes': 699, 'swagbucks': 700, 'rb': 701, '13017194': 702, 'search': 703, 'chubbz': 704, 'dinero': 705, 'ready': 706, 'mscalifornia95': 707, \"'static'\": 708, 'love': 709, 'incmedia': 710, 'truth': 711, 'meets': 712, 'pe': 713, 'lets': 714, 'bubblews': 715, '9277547': 716, 'peace': 717, 'brotherhood': 718, 'again': 719, 'wouldnt': 720, 'mind': 721, 'chacking': 722, 'il': 723, 'giver': 724, 'uk': 725, 'gp': 726, 'offer': 727, 'listing': 728, 'b00ecvf93g': 729, 'olp': 730, 'tab': 731, 'ie': 732, 'utf8': 733, 'condition': 734, 'flipagram': 735, 'f': 736, 'luka1qmrhf': 737, 'gvr7xg': 738, 'censor': 739, 'julien': 740, 'blanc': 741, 'jackal': 742, 'james': 743, 'wrap': 744, 'night': 745, 'surveymonkey': 746, 's': 747, 'cvhmklt': 748, \"won't\": 749, 'disappointed': 750, 'tried': 751, 'special': 752, 'thing': 753, 'well': 754, \"to'll\": 755, 'registr': 756, 'life': 757, 'difference': 758, 'commenting': 759, 'liking': 760, 'waste': 761, 'being': 762, 'everyday': 763, 'slema13': 764, 'wellcome': 765, 'tareko100': 766, 'enter': 767, 'keyword': 768, '5800': 769, 'winning': 770, 'csgo': 771, 'sell': 772, 'steam': 773, 'market': 774, 'aseris': 775, 'repass': 776, '4shared': 777, 'preview': 778, 'pdf': 779, 'cjfoftxeba': 780, 'kind': 781, 'making': 782, 'launchpad': 783, \"video's\": 784, 'spot': 785, 'easily': 786, 'bother': 787, 'rapper': 788, 'songwriter': 789, 'instagram': 790, 'chris': 791, 'cz': 792, \"it's\": 793, 'sad': 794, 'ithat': 795, 'actor': 796, 'hwang': 797, 'minoo': 798, 'dancing': 799, 'active': 800, 'suffering': 801, 'month': 802, 'believe': 803, 'keep': 804, 'future': 805, 'superstar': 806, 'stronglittlepsy': 807, 'fighting': 808, 'ygunited': 809, '11': 810, '08': 811, 'months': 812, 'kollektivet': 813, \"slappin'\": 814, 'penis': 815, 'deserve': 816, 'credit': 817, 'receive': 818, 'reviews': 819, 'flute': 820, 'chanel': 821, 'mathster': 822, 'wp': 823, '1495323920744243': 824, 'hl': 825, 'called': 826, 'odowd': 827, 'crowd': 828, 'zombie': 829, 'movie': 830, 'part': 831, 'tsū': 832, 'publishing': 833, 'platform': 834, 'markusmairhofer': 835, 'summon': 836, 'freddy': 837, \"mercury's\": 838, 'ghost': 839, 'whipe': 840, 'face': 841, 'earth': 842, 'direction': 843, 'miley': 844, 'cirus': 845, 'round': 846, 'public': 847, 'pouring': 848, 'bucket': 849, 'ice': 850, 'water': 851, 'running': 852, 'acting': 853, \"wasn't\": 854, 'dylan': 855, 'irl': 856, '1030': 857, '300': 858, 'tomorrow': 859, 'hunger': 860, 'follower': 861, 'lists': 862, '161620527267482': 863, 'tazz': 864, 'bottom': 865, 'heart': 866, '19': 867, '9082175': 868, 'schoolgeniusnits': 869, 'ms': 870, 'c': 871, 'ejw9kvkoxdamqm808h5z': 872, '4snjqp': 873, 'thqbeum69aqup1ih': 874, 'fphgk5zllsvdqv0zuf0mb': 875, 'lnuj': 876, 'ufth4yokfrxyts2zvrrp6qgtw67y': 877, 'l551h': 878, 'f7': 879, 'vlczzrg8vgctlpsd9ongewhj8': 880, 'gibu': 881, 's3lzmvy': 882, 'iq2': 883, 'twsfzz9whn7jusvhufpglqrzczl05fnphagevb3x8ydmc6x': 884, 'jtcjnmho': 885, 'vfxwcjzyvwobihrngx2ocjng2pg1evhxzyjd': 886, 'o3h': 887, 'ry6f57sprnd2xv': 888, 'bzszz': 889, 'bps': 890, '390875584405933': 891, '391725794320912': 892, 'smart': 893, 'sucscribe': 894, 'vaahidmustafic': 895, '4436607': 896, 'offıcal': 897, 'nicushorbboy': 898, 'mee': 899, 'sorry': 900, 'spam': 901, 'jenny': 902, 'high': 903, 'dresses': 904, 'fashionable': 905, 'cute': 906, 'low': 907, 'esteem': 908, 'dad': 909, 'mom': 910, 'passed': 911, 'when': 912, 'mother': 913, 'figure': 914, 'brothers': 915, 'older': 916, 'since': 917, 'boys': 918, 'attention': 919, 'wear': 920, 'boyfriend': 921, \"can't\": 922, 'quite': 923, 'shy': 924, 'confidence': 925, 'talk': 926, 'someone': 927, 'caroline': 928, 'she': 929, 'moved': 930, 'donate': 931, 'brand': 932, 'shop': 933, 'walmart': 934, 'wanna': 935, 'nails': 936, 'alot': 937, 'french': 938, 'tips': 939, 'never': 940, 'had': 941, 'nail': 942, 'hair': 943, 'curled': 944, 'dressprettyonce': 945, 'omg': 946, 'throw': 947, 'fly': 948, 'burned': 949, 'chhanel': 950, 'posting': 951, 'daily': 952, 'mine': 953, 'craft': 954, \"let's\": 955, 'shoot': 956, '20': 957, 'lordviperas': 958, 'limit': 959, 'sun': 960, 'exposure': 961, 'driving': 962, 'eliminate': 963, 'hassle': 964, 'having': 965, 'swing': 966, 'car': 967, 'visor': 968, 'between': 969, 'windshield': 970, 'window': 971, 'kickstarter': 972, '733634264': 973, 'visortwin': 974, '5242575': 975, 'fudairyqueen': 976, 'pnref': 977, 'story': 978, 'thewaxedhatco': 979, 'were': 980, 'let': 981, 'forget': 982, 'difficult': 983, '1340524': 984, '1340523': 985, '1340522': 986, '1340521': 987, '1340520': 988, '1340519': 989, '1340518': 990, '1340517': 991, '1340504': 992, '1340503': 993, '1340502': 994, '1340500': 995, '1340499': 996, '1340494': 997, '1340493': 998, '1340492': 999, '1340491': 1000, '1340490': 1001, '1340489': 1002, '1340488': 1003, 'entertaining': 1004, 'shotgun': 1005, 'ninja': 1006, 'defuse': 1007, 'trolling': 1008, 'good': 1009, 'tofikmiedzynb': 1010, '1496273723978022': 1011, '1073741828': 1012, '1496241863981208': 1013, '1498561870415874': 1014, 'eeccon': 1015, '733949243353321': 1016, '734237113324534': 1017, 'offset': 1018, '0': 1019, 'total': 1020, '74': 1021, 'frigea': 1022, 'marius': 1023, 'gabriel': 1024, 'explore': 1025, 'publ': 1026, 'referafriend': 1027, 'crea': 1028, 'rrid': 1029, '0f9fa8aa': 1030, '243a': 1031, '5c2f': 1032, 'c349': 1033, 'ede05ea397ca': 1034, 'cant': 1035, 'ur': 1036, 'virus': 1037, 'blue': 1038, 'december': 1039, '4th': 1040, 'sold': 1041, 'treechristmas': 1042, '1m': 1043, 'crdits': 1044, 'app': 1045, '·': 1046, 'm': 1047, 'freemyapps': 1048, 'url': 1049, '5af506e1': 1050, 'call': 1051, 'duty': 1052, 'aways': 1053, 'goal': 1054, 'store': 1055, 'details': 1056, 'butalabs': 1057}\n",
            "<class 'dict'> {'unknown': 1, 'the': 2, 'to': 3, 'i': 4, 'and': 5, 'this': 6, 'my': 7, 'you': 8, 'http': 9, 'a': 10, 'views': 11, 'check': 12, 'is': 13, 'com': 14, '2': 15, 'www': 16, 'of': 17, 'out': 18, 'subscribe': 19, 'on': 20, 'me': 21, 'it': 22, 'channel': 23, 'please': 24, 'video': 25, 'like': 26, 'for': 27, 'billion': 28, 'so': 29, 'in': 30, 'if': 31, 'have': 32, 'https': 33, 'just': 34, 'song': 35, 'youtube': 36, 'get': 37, 'can': 38, 'are': 39, 'be': 40, 'people': 41, 'here': 42, 'how': 43, 'd': 44, 'that': 45, 'amp': 46, 'music': 47, '1': 48, 'image2you': 49, 'ru': 50, '48051': 51, 'not': 52, 'guys': 53, 'only': 54, 'new': 55, 'videos': 56, 'what': 57, 'we': 58, 'at': 59, 'psy': 60, 'will': 61, 'there': 62, 'they': 63, 'do': 64, '3': 65, 'has': 66, 'hey': 67, 'but': 68, 'facebook': 69, 'your': 70, 'money': 71, 'even': 72, 'thanks': 73, \"don't\": 74, '000': 75, 'now': 76, 'more': 77, 'everyone': 78, 'was': 79, 'see': 80, 'why': 81, \"i'm\": 82, 'comment': 83, 'funny': 84, 'free': 85, 'with': 86, 'world': 87, 'plz': 88, 'lol': 89, 'our': 90, 'v': 91, 'one': 92, 'much': 93, 'go': 94, 'think': 95, '7': 96, 'he': 97, 'style': 98, 'when': 99, 'still': 100, 'about': 101, 'u': 102, 'follow': 103, 'from': 104, 'come': 105, 'back': 106, 'dont': 107, 'know': 108, 'its': 109, 'most': 110, 'gangnam': 111, 'us': 112, 'all': 113, 'im': 114, 'would': 115, 'sub': 116, 'by': 117, 'over': 118, 'does': 119, 'co': 120, 'comments': 121, 'because': 122, 'first': 123, 'watch': 124, 'also': 125, 'or': 126, 'some': 127, 'really': 128, 'up': 129, 'subscribers': 130, 'gift': 131, 'm': 132, 'came': 133, 'million': 134, 'shit': 135, 'day': 136, 'want': 137, 'twitter': 138, 'got': 139, 'any': 140, 'old': 141, 'no': 142, 'time': 143, 'e': 144, 'help': 145, 'tsu': 146, 'am': 147, 'many': 148, 'watching': 149, '8': 150, 'ermail': 151, 'pl': 152, 'dolacz': 153, 'v3veygin': 154, 'earth': 155, 'omg': 156, 'viewed': 157, 'years': 158, 'soon': 159, 'best': 160, 'p': 161, 'hate': 162, 'ref': 163, '2014': 164, 'share': 165, 'great': 166, 'korean': 167, 'as': 168, 'xd': 169, 'cards': 170, 'thing': 171, \"it's\": 172, 'name': 173, '강남스타일': 174, 'wow': 175, 'started': 176, 'earn': 177, 'made': 178, '4': 179, 'buy': 180, 'awesome': 181, 'minecraft': 182, 'twitch': 183, 'org': 184, 'play': 185, 'hi': 186, 'gt': 187, 'lt': 188, 'before': 189, 'google': 190, 'who': 191, 'too': 192, 'dance': 193, 'little': 194, 'than': 195, '100': 196, 'reach': 197, 'while': 198, 'guy': 199, 'say': 200, 'enjoy': 201, 'should': 202, 'tell': 203, 'right': 204, 'an': 205, 'company': 206, 'real': 207, 'make': 208, 'apps': 209, 'takes': 210, 'could': 211, 'give': 212, 'projects': 213, \"i'll\": 214, 'tv': 215, 'chance': 216, 'friend': 217, 'gofundme': 218, 'need': 219, 'getting': 220, 'such': 221, 'where': 222, 'again': 223, 'posts': 224, 'him': 225, 'tumor': 226, '6': 227, 'months': 228, 'did': 229, 'la': 230, 'wanted': 231, 'checking': 232, 'popular': 233, 'gets': 234, 'fuck': 235, '2billion': 236, 'saying': 237, 'likes': 238, '5': 239, '❤️': 240, 'ago': 241, \"there's\": 242, 'hits': 243, 'leave': 244, 'sexy': 245, 'site': 246, \"you're\": 247, 'alive': 248, 'hello': 249, 'gaming': 250, 'ebay': 251, 'news': 252, 'game': 253, '8bit': 254, 'checked': 255, 'remix': 256, 'ever': 257, 'suscribe': 258, 'raw': 259, 'x': 260, 'change': 261, 'pls': 262, 'beautiful': 263, 'hackfbaccountlive': 264, 'covers': 265, 'type': 266, 'appreciate': 267, 'use': 268, 'amazon': 269, 'itunes': 270, 'other': 271, 'then': 272, \"you'll\": 273, 'half': 274, 'them': 275, 'youtuber': 276, 'miss': 277, 'click': 278, 'epic': 279, 'register': 280, 'love': 281, 'nice': 282, 'network': 283, 'fb': 284, 'paid': 285, 'going': 286, 'subs': 287, 'sad': 288, 'very': 289, 'brain': 290, 'left': 291, 'keep': 292, 'live': 293, 'deserve': 294, 'face': 295, 'away': 296, 'self': 297, 'school': 298, 'clothes': 299, 'girls': 300, 'quite': 301, 'these': 302, 'never': 303, 'were': 304, 'good': 305, '0': 306, 'mean': 307, 'baby': 308, 'every': 309, 'been': 310, 'youtu': 311, '9bzkp7q19f0': 312, 'understand': 313, 'korea': 314, 'justin': 315, 'stupid': 316, 'oppa': 317, 'watched': 318, 'dick': 319, 'fucking': 320, 'anyway': 321, 'ass': 322, 'next': 323, 'reading': 324, 'entire': 325, 'family': 326, 'stay': 327, 'lyrics': 328, \"we've\": 329, 'hope': 330, 'cover': 331, 'itm': 332, 'sspagename': 333, 'strk': 334, 'meselx': 335, 'trksid': 336, 'p3984': 337, 'm1555': 338, 'l2649': 339, 'tops': 340, 'shirts': 341, 'visit': 342, 'show': 343, 'teespring': 344, 'marketglory': 345, 'strategygame': 346, 'rap': 347, 'yeah': 348, 'android': 349, 'games': 350, 'newest': 351, 'memories': 352, 'took': 353, 'listen': 354, '10': 355, 'ill': 356, 'improve': 357, 'win': 358, 'after': 359, 'web': 360, 'eugenekalinin': 361, 'talent': 362, 'straight': 363, 'pages': 364, 'page': 365, 'gwar': 366, '2015': 367, 'football': 368, 'super': 369, 'fablife': 370, 'welcome': 371, 'his': 372, 'absolutely': 373, 'promise': 374, 'suck': 375, 'support': 376, 'group': 377, 'myself': 378, 'feedback': 379, 'top': 380, 'auditioning': 381, 'read': 382, 'indiegogo': 383, 'anyone': 384, 'card': 385, 'code': 386, 'l': 387, 'anybody': 388, 'hoppa': 389, 'lot': 390, 'pictures': 391, 'plus': 392, 'post': 393, 'try': 394, 'juno': 395, 'wallet': 396, 'task': 397, 'join': 398, 'aspx': 399, 'put': 400, 'gun': 401, 'add': 402, 'pay': 403, 'soundcloud': 404, 'ready': 405, 'look': 406, 'mind': 407, 'vids': 408, 'uk': 409, 'sr': 410, 'qid': 411, '1415297812': 412, 'refurbished': 413, 'christmas': 414, 'vidios': 415, 'social': 416, 'well': 417, 'worldwide': 418, 'sharing': 419, 'expensive': 420, 'book': 421, 'care': 422, 'hard': 423, 'child': 424, 'dancing': 425, 'active': 426, 'suffering': 427, 'praying': 428, 'zombie': 429, 'part': 430, 'content': 431, 'college': 432, 'photos': 433, 'c': 434, 'theater': 435, 'smart': 436, 'spam': 437, 'mom': 438, 'alone': 439, 'pretty': 440, 'she': 441, 'done': 442, 'salon': 443, 'had': 444, 'posting': 445, 'mine': 446, \"let's\": 447, 'fuego': 448, 'hyperurl': 449, 'k6a5xt': 450, 'having': 451, 'montages': 452, 'id': 453, 'bing': 454, 'rewards': 455, 'ur': 456, 'december': 457, 'link': 458, 'download': 459, 'goal': 460, 'photo': 461, 'editor': 462, 'millions': 463, 'anymore': 464, 'coming': 465, 'last': 466, 'view': 467, 'count': 468, '9': 469, 'hit': 470, 'history': 471, 'dislikes': 472, 'dislike': 473, \"isn't\": 474, 'actually': 475, 'section': 476, 'ching': 477, 'sty': 478, 'asian': 479, 'asia': 480, 'viewer': 481, 'chinese': 482, 'english': 483, 'china': 484, 'holy': 485, 'person': 486, 'bieber': 487, 'least': 488, '▬▬▬▬▬▬▬▬▬▬ஜ۩۞۩ஜ▬▬▬▬▬▬▬▬': 489, \"c'mon\": 490, 'multiple': 491, '126': 492, 'population': 493, 'o': 494, 'whatever': 495, 'piece': 496, 'whole': 497, 'stuck': 498, 'knows': 499, 'pray': 500, 'head': 501, 'sucks': 502, 'dumb': 503, 'her': 504, '5million': 505, 'hacked': 506, 'cool': 507, 'loved': 508, 'girl': 509, 'mabey': 510, 'those': 511, 'michael': 512, 'jackson': 513, 'laugh': 514, 'smh': 515, '127': 516, 'almost': 517, 'planet': 518, 'joking': 519, 'salt': 520, 'huh': 521, 'tube': 522, 'kobyoshi02': 523, 'vid': 524, 'monkeys': 525, 'monkey': 526, 'white': 527, 'shirt': 528, 'test': 529, 'murdev': 530, 'shaking': 531, 'vtarggvgtwq': 532, 'website': 533, 'kids': 534, 'stuff': 535, 'kidsmediausa': 536, 'once': 537, 'stop': 538, 'within': 539, 'die': 540, 'gbphotographygb': 541, 'premium': 542, 'easypromosapp': 543, 'voteme': 544, '19924': 545, '616375350': 546, 'art': 547, 'scientific': 548, 'experiments': 549, 'tutorials': 550, 'able': 551, 'expectations': 552, 'far': 553, '171183229277': 554, 'ubuntuone': 555, '40beuutvu2zkxk4utgpz8k': 556, 'edm': 557, 'apparel': 558, 'dedicated': 559, 'bringing': 560, 'inspired': 561, 'designs': 562, 'clothing': 563, 'perfect': 564, 'rave': 565, 'festival': 566, 'neon': 567, 'crop': 568, 'tank': 569, 't': 570, 'necks': 571, 'accessories': 572, 'instagraml': 573, 'giveaways': 574, 'oncueapparel': 575, 'auburn': 576, 'pride': 577, 'tigermeathoodie': 578, 'andrijamatf': 579, '12': 580, 'yr': 581, 'producer': 582, 'chiptunes': 583, 'wonderful': 584, 'remixes': 585, 'gangnamstyle': 586, 'kyle': 587, 'martin': 588, 'luther': 589, 'king': 590, 'jr': 591, 'reason': 592, 'dubstep': 593, 'fireball': 594, 'fruity': 595, 'loops': 596, 'teloa6rio8o': 597, 'succesfull': 598, 'pplease': 599, 'seconds': 600, 'yt': 601, 'grateful': 602, 'peoples': 603, 'clip': 604, 'bf4': 605, 'advice': 606, 'sure': 607, 'haters': 608, 'effects': 609, 'foto': 610, 'sites': 611, 'another': 612, 'find': 613, 'audiojungle': 614, 'net': 615, 'user': 616, 'portfolio': 617, 'codytolleson': 618, 'roblox': 619, 'warcraft': 620, 'gta5': 621, 'mario': 622, 'must': 623, 'czfcxsn0jnq': 624, 'jaroadc': 625, 'stream': 626, 'hip': 627, 'hop': 628, 'sound': 629, 'dizzy': 630, 'juice': 631, 'prod': 632, 'drugs': 633, 'model': 634, 'citizen': 635, 'lazy': 636, 'prophetz': 637, 'avaaz': 638, 'po': 639, 'petition': 640, 'corporation': 641, 'fox': 642, 'broadcasting': 643, 'anular': 644, 'os': 645, 'strikes': 646, 'canal': 647, 'nostalgia': 648, 'cxpzpgb': 649, 'xx': 650, 'brew': 651, 'crew': 652, '134470083389909': 653, 'iphone': 654, '5s': 655, 'superbowl': 656, 'petitions': 657, 'national': 658, 'league': 659, 'allow': 660, 'perform': 661, 'bowl': 662, 'halftime': 663, 'sevadus': 664, 'tankionline': 665, 'cd92db3f4': 666, 'diys': 667, 'challenges': 668, 'thx': 669, '131338190916': 670, 'guardalo': 671, 'cats': 672, 'gatti': 673, 'pazzi': 674, 'divertenti': 675, '2013': 676, '5287': 677, '100000415527985': 678, 'drones': 679, 'kamal': 680, 'tayara': 681, 'drone': 682, '4604617': 683, 'whats': 684, 'trying': 685, 'showcase': 686, '3000': 687, 'spread': 688, 'around': 689, 'lucas': 690, 'trigo': 691, 'php': 692, '10200253113705769': 693, 'set': 694, 'vb': 695, '201470069872822': 696, 'permpage': 697, 'leader': 698, 'angel': 699, 'rookie': 700, 'pop': 701, 'four': 702, 'members': 703, 'chanicka': 704, 'julie': 705, 'stephanie': 706, 'leah': 707, 'feel': 708, 'criticism': 709, \"we're\": 710, 'notch': 711, 'singers': 712, 'constructive': 713, 'management': 714, 'plan': 715, 'jyp': 716, 'bighit': 717, 'jellyfish': 718, 'yg': 719, 'sm': 720, 'thank': 721, 'taking': 722, 'woobox': 723, '33gxrf': 724, 'brt0u5': 725, 'cs': 726, 'binbox': 727, 'io': 728, '1firo': 729, '123': 730, 'cleaning': 731, 'pan': 732, 'halp': 733, 'project': 734, 'brother': 735, 'psn': 736, 'happy': 737, 'codes': 738, 'amazing': 739, '50': 740, 'xxbb5tczhm39hvzd': 741, 'plizz': 742, 'withing': 743, 'unique': 744, 'angry': 745, 'littlebrother': 746, 'subscribes': 747, 'thepiratebay': 748, 'se': 749, 'torrent': 750, '6381501': 751, 'timothy': 752, 'sykes': 753, 'collection': 754, 'way': 755, 'decent': 756, 'itz': 757, 'recaps': 758, 'above': 759, 'diddle': 760, 'emerson': 761, 'zanol': 762, 'visuelgamingznl': 763, 'gangam': 764, 'ehi': 765, 'lexis': 766, 'band': 767, 'uploading': 768, 'their': 769, 'own': 770, 'songs': 771, 'grwmps': 772, 'funnytortspics': 773, '112720997191206369631': 774, 'grow': 775, 'discover': 776, 'young': 777, 'moroccan': 778, 'linkbucks': 779, 'acn2g': 780, 'spending': 781, 'cash': 782, 'nike': 783, 'gamestop': 784, 'etc': 785, 'easy': 786, 'doing': 787, 'simple': 788, 'downloading': 789, 'inviting': 790, 'friends': 791, 'signup': 792, 'sign': 793, 'today': 794, 'promo': 795, 'bd3721315': 796, 'reverbnation': 797, 'msmarilynmiles': 798, 'starlitnightsky': 799, 'kodysman': 800, 'gcmforex': 801, 'partners': 802, 'aw': 803, 'joint2': 804, 'affiliateid': 805, '9107': 806, 'men': 807, 'allot': 808, 'effort': 809, 'into': 810, 'unfortunatly': 811, 'www10': 812, 'vakinha': 813, 'br': 814, 'vaquinhae': 815, '313327': 816, 'vip': 817, 'cross': 818, 'fire': 819, 'al': 820, 'tlouxmusic': 821, 'singing': 822, 'pal': 823, 'pivot': 824, 'animations': 825, 'ig': 826, 'killuminati94': 827, 'sunfrogshirts': 828, 'sunglass': 829, 'html': 830, '24398': 831, 'teelalala': 832, 'zxlightsoutxz': 833, 'reminds': 834, 'popaegis': 835, 'wrenn': 836, 'almond': 837, 'eyes': 838, 'swagbucks': 839, 'rb': 840, '13017194': 841, 'search': 842, 'chubbz': 843, 'dinero': 844, 'mscalifornia95': 845, \"'static'\": 846, 'incmedia': 847, 'truth': 848, 'meets': 849, 'pe': 850, 'lets': 851, 'bubblews': 852, '9277547': 853, 'peace': 854, 'brotherhood': 855, 'wouldnt': 856, 'chacking': 857, 'il': 858, 'giver': 859, 'gp': 860, 'offer': 861, 'listing': 862, 'b00ecvf93g': 863, 'olp': 864, 'tab': 865, 'ie': 866, 'utf8': 867, 'condition': 868, 'flipagram': 869, 'f': 870, 'luka1qmrhf': 871, 'gvr7xg': 872, 'censor': 873, 'julien': 874, 'blanc': 875, 'jackal': 876, 'james': 877, 'wrap': 878, 'night': 879, 'surveymonkey': 880, 's': 881, 'cvhmklt': 882, \"won't\": 883, 'disappointed': 884, 'tried': 885, 'special': 886, \"to'll\": 887, 'registr': 888, 'life': 889, 'difference': 890, 'commenting': 891, 'liking': 892, 'waste': 893, 'being': 894, 'everyday': 895, 'slema13': 896, 'wellcome': 897, 'tareko100': 898, 'enter': 899, 'keyword': 900, '5800': 901, 'winning': 902, 'csgo': 903, 'sell': 904, 'steam': 905, 'market': 906, 'aseris': 907, 'repass': 908, '4shared': 909, 'preview': 910, 'pdf': 911, 'cjfoftxeba': 912, 'kind': 913, 'making': 914, 'launchpad': 915, \"video's\": 916, 'spot': 917, 'easily': 918, 'bother': 919, 'rapper': 920, 'songwriter': 921, 'instagram': 922, 'chris': 923, 'cz': 924, 'ithat': 925, 'actor': 926, 'hwang': 927, 'minoo': 928, 'month': 929, 'believe': 930, 'future': 931, 'superstar': 932, 'stronglittlepsy': 933, 'fighting': 934, 'ygunited': 935, '11': 936, '08': 937, 'kollektivet': 938, \"slappin'\": 939, 'penis': 940, 'credit': 941, 'receive': 942, 'reviews': 943, 'flute': 944, 'chanel': 945, 'mathster': 946, 'wp': 947, '1495323920744243': 948, 'hl': 949, 'called': 950, 'odowd': 951, 'crowd': 952, 'movie': 953, 'tsū': 954, 'publishing': 955, 'platform': 956, 'markusmairhofer': 957, 'summon': 958, 'freddy': 959, \"mercury's\": 960, 'ghost': 961, 'whipe': 962, 'direction': 963, 'miley': 964, 'cirus': 965, 'round': 966, 'public': 967, 'pouring': 968, 'bucket': 969, 'ice': 970, 'water': 971, 'running': 972, 'acting': 973, \"wasn't\": 974, 'dylan': 975, 'irl': 976, '1030': 977, '300': 978, 'tomorrow': 979, 'hunger': 980, 'follower': 981, 'lists': 982, '161620527267482': 983, 'tazz': 984, 'bottom': 985, 'heart': 986, '19': 987, '9082175': 988, 'schoolgeniusnits': 989, 'ms': 990, 'ejw9kvkoxdamqm808h5z': 991, '4snjqp': 992, 'thqbeum69aqup1ih': 993, 'fphgk5zllsvdqv0zuf0mb': 994, 'lnuj': 995, 'ufth4yokfrxyts2zvrrp6qgtw67y': 996, 'l551h': 997, 'f7': 998, 'vlczzrg8vgctlpsd9ongewhj8': 999, 'gibu': 1000, 's3lzmvy': 1001, 'iq2': 1002, 'twsfzz9whn7jusvhufpglqrzczl05fnphagevb3x8ydmc6x': 1003, 'jtcjnmho': 1004, 'vfxwcjzyvwobihrngx2ocjng2pg1evhxzyjd': 1005, 'o3h': 1006, 'ry6f57sprnd2xv': 1007, 'bzszz': 1008, 'bps': 1009, '390875584405933': 1010, '391725794320912': 1011, 'sucscribe': 1012, 'vaahidmustafic': 1013, '4436607': 1014, 'offıcal': 1015, 'nicushorbboy': 1016, 'mee': 1017, 'sorry': 1018, 'jenny': 1019, 'high': 1020, 'dresses': 1021, 'fashionable': 1022, 'cute': 1023, 'low': 1024, 'esteem': 1025, 'dad': 1026, 'passed': 1027, 'mother': 1028, 'figure': 1029, 'brothers': 1030, 'older': 1031, 'since': 1032, 'boys': 1033, 'attention': 1034, 'wear': 1035, 'boyfriend': 1036, \"can't\": 1037, 'shy': 1038, 'confidence': 1039, 'talk': 1040, 'someone': 1041, 'caroline': 1042, 'moved': 1043, 'donate': 1044, 'brand': 1045, 'shop': 1046, 'walmart': 1047, 'wanna': 1048, 'nails': 1049, 'alot': 1050, 'french': 1051, 'tips': 1052, 'nail': 1053, 'hair': 1054, 'curled': 1055, 'dressprettyonce': 1056, 'throw': 1057, 'fly': 1058, 'burned': 1059, 'chhanel': 1060, 'daily': 1061, 'craft': 1062, 'shoot': 1063, '20': 1064, 'lordviperas': 1065, 'limit': 1066, 'sun': 1067, 'exposure': 1068, 'driving': 1069, 'eliminate': 1070, 'hassle': 1071, 'swing': 1072, 'car': 1073, 'visor': 1074, 'between': 1075, 'windshield': 1076, 'window': 1077, 'kickstarter': 1078, '733634264': 1079, 'visortwin': 1080, '5242575': 1081, 'fudairyqueen': 1082, 'pnref': 1083, 'story': 1084, 'thewaxedhatco': 1085, 'let': 1086, 'forget': 1087, 'difficult': 1088, '1340524': 1089, '1340523': 1090, '1340522': 1091, '1340521': 1092, '1340520': 1093, '1340519': 1094, '1340518': 1095, '1340517': 1096, '1340504': 1097, '1340503': 1098, '1340502': 1099, '1340500': 1100, '1340499': 1101, '1340494': 1102, '1340493': 1103, '1340492': 1104, '1340491': 1105, '1340490': 1106, '1340489': 1107, '1340488': 1108, 'entertaining': 1109, 'shotgun': 1110, 'ninja': 1111, 'defuse': 1112, 'trolling': 1113, 'tofikmiedzynb': 1114, '1496273723978022': 1115, '1073741828': 1116, '1496241863981208': 1117, '1498561870415874': 1118, 'eeccon': 1119, '733949243353321': 1120, '734237113324534': 1121, 'offset': 1122, 'total': 1123, '74': 1124, 'frigea': 1125, 'marius': 1126, 'gabriel': 1127, 'explore': 1128, 'publ': 1129, 'referafriend': 1130, 'crea': 1131, 'rrid': 1132, '0f9fa8aa': 1133, '243a': 1134, '5c2f': 1135, 'c349': 1136, 'ede05ea397ca': 1137, 'cant': 1138, 'virus': 1139, 'blue': 1140, '4th': 1141, 'sold': 1142, 'treechristmas': 1143, '1m': 1144, 'crdits': 1145, 'app': 1146, '·': 1147, 'freemyapps': 1148, 'url': 1149, '5af506e1': 1150, 'call': 1151, 'duty': 1152, 'aways': 1153, 'store': 1154, 'details': 1155, 'butalabs': 1156, 'turned': 1157, 'mute': 1158, 'goodbye': 1159, 'dafuq': 1160, 'big': 1161, 'usa': 1162, 'koreans': 1163, 'bomb': 1164, '884': 1165, '034': 1166, '783': 1167, 'hour': 1168, 'thumbs': 1169, 'hw': 1170, 'often': 1171, '2x10': 1172, 'avoid': 1173, 'yet': 1174, 'chuck': 1175, 'norrus': 1176, 'ovbiously': 1177, 'behold': 1178, 'gonna': 1179, '969': 1180, '210': 1181, 'themselves': 1182, 'oldspice': 1183, 'spraytan': 1184, 'party': 1185, 'commercial': 1186, 'sitting': 1187, 'billions': 1188, 'admit': 1189, 'number': 1190, 'viewers': 1191, 'viewing': 1192, 'apparently': 1193, 'bad': 1194, '5277478': 1195, '79': 1196, 'ling': 1197, 'long': 1198, 'ding': 1199, 'ring': 1200, 'yaaaaaa': 1201, 'ganga': 1202, 'things': 1203, 'non': 1204, 'countries': 1205, 'jelly': 1206, 'learn': 1207, 'looking': 1208, 'said': 1209, 'visiting': 1210, 'screw': 1211, 'crap': 1212, 'speaking': 1213, 'weird': 1214, '2012bitches': 1215, 'milions': 1216, 'comentars': 1217, 'bilion': 1218, 'zero': 1219, 'mix': 1220, '124': 1221, '821': 1222, '694': 1223, 'apocalypse': 1224, 'greetings': 1225, 'spoderman': 1226, '124923004': 1227, 'wiews': 1228, 'crazy': 1229, 'republic': 1230, 'somebody': 1231, 'wake': 1232, 'lots': 1233, 'gay': 1234, 'gotta': 1235, 'worth': 1236, 'clicked': 1237, 'everything': 1238, 'went': 1239, 'uphill': 1240, \"jb's\": 1241, '❤️❤️❤️❤️': 1242, 'ahhh': 1243, 'doesnt': 1244, 'visits': 1245, 'thousands': 1246, 'place': 1247, 'promote': 1248, 'channels': 1249, '😫😓😏😪😔😖😌😭😎😚😘😙😗😋😝😜😛😍😒😞😷😶😵😳😲😱😟😰😩😨😧😦😥😤😣😮😴😢😡😠😬😕😑😐😯😉😈😇😆😅😄😃😂😁😀😊☺': 1250, 'single': 1251, 'types': 1252, 'ｄａｍｎ': 1253, 'ｔｈｉｓ': 1254, 'ｃｏｍｍｅｎｔ': 1255, 'ｉｓ': 1256, 'ｆａｎｃy': 1257, 'found': 1258, 'psy’s': 1259, '“gangnam': 1260, 'style”': 1261, 'viral': 1262, 'true': 1263, '700': 1264, 'bots': 1265, 'bs': 1266, 'awesomeness': 1267, 'aaaaaaa': 1268, 'lada😂': 1269, 'dear': 1270, 'loving': 1271, 'yellow': 1272, 'suit': 1273, 'kinda': 1274, 'looks': 1275, 'jae': 1276, 'suk': 1277, 'theres': 1278, 'accounts': 1279, '1111': 1280, 'wat': 1281, 'da': 1282, '492': 1283, '636': 1284, 'fantastic': 1285, '521': 1286, '750': 1287, '23': 1288, 'min': 1289, 'liked': 1290, 'later': 1291, 'dunno': 1292, 'joke': 1293, 'r': 1294, 'y': 1295, 'k': 1296, 'n': 1297, 'g': 1298, 'gangman': 1299, 'drop': 1300, 'bass': 1301, '29': 1302, '24': 1303, 'elevator': 1304, 'excuse': 1305, 'prehistoric': 1306, 'headbutt': 1307, 'ex': 1308, 'enimen': 1309, 'loool': 1310, 'understands': 1311, '♡': 1312, \"''little\": 1313, 'relevant': 1314, 'completely': 1315, 'job': 1316, '02': 1317, 'camera': 1318, 'man': 1319, 'glasses': 1320, 'wrong': 1321, 'singer': 1322, 'koean': 1323, 'chainise': 1324, 'ana': 1325, '05': 1326, 'hahahahah': 1327, 'equals': 1328, 'smartie': 1329, 'pants': 1330, 'point': 1331, 'listening': 1332, 'stfu': 1333, '2009': 1334, 'america': 1335, 'jap': 1336, 'worthless': 1337, 'fish': 1338, 'untanlted': 1339, 'gook': 1340, 'isnt': 1341, 'fucken': 1342, 'fucked': 1343, 'remember': 1344, 'obsessed': 1345, '😗': 1346, 'remove': 1347, 'wank': 1348, 'keeps': 1349, 'updated': 1350, 'minutes': 1351, '279': 1352, '898': 1353, 'users': 1354, 'fake': 1355, 'account': 1356, 'saw': 1357, 'yeat': 1358, 'words': 1359, 'hole': 1360, 'voyage': 1361, '😢': 1362, 'problem': 1363, 'phenomena': 1364, 'behind': 1365, 'random': 1366, 'slut': 1367, 'bitch': 1368, 'hyuna': 1369, \"'33\": 1370, 'fun': 1371, 'dealing': 1372, 'theories': 1373, \"could've\": 1374, 'gotten': 1375, 'realy': 1376, 'access': 1377, 'internet': 1378, 'including': 1379, 'numbers': 1380, 'rising': 1381, '2017': 1382, 'populatoin': 1383, 'connected': 1384, 'hackers': 1385, 'may': 1386, 'rised': 1387, 'featured': 1388, 'mp3s': 1389, 'seen': 1390, 'concerts': 1391, 'eve': 1392, 'event': 1393, '2012': 1394, 'seeing': 1395, 'adding': 1396, 'complaining': 1397, 'heck': 1398, '2b': 1399, 'queen': 1400, 'pause': 1401, '39': 1402, 'millisecond': 1403, 'chick': 1404, 'few': 1405, 'tries': 1406, 'year': 1407, 'olds': 1408, \"'how\": 1409, \"world'\": 1410, 'annoying': 1411, 'millioon': 1412, 'dislikesssssssssssssssssssssssssssssssss': 1413, 'lucks': 1414, 'kidz': 1415, 'billon': 1416, 'millon': 1417, 'facts': 1418, 'humanity': 1419, 'translate': 1420, 'second': 1421, 'comes': 1422, '315': 1423, '950': 1424, 'daaaaaaaaaaannng': 1425, 'dominate': 1426, '322': 1427, '484': 1428, 'officialpsy': 1429, 'fail': 1430, 'fanboys': 1431, 'knew': 1432, 'funnier': 1433, 'bit': 1434, 'end': 1435, 'spoken': 1436, 'rapidly': 1437, 'enough': 1438, 'two': 1439, 'shares': 1440, 'beibs': 1441, \"doesn't\": 1442, 'capitalized': 1443, 'hav': 1444, 'idea': 1445, \"he's\": 1446, 'language': 1447, 'wonder': 1448, 'illuminati': 1449, 'confirmed': 1450, 'shitty': 1451, 'government': 1452, \"didn't\": 1453, 'block': 1454, \"there'd\": 1455, 'close': 1456, 'record': 1457, 'drunk': 1458, 'during': 1459, 'hahah': 1460, 'juyk': 1461, 'allways': 1462, '57': 1463, 'dances': 1464, '00': 1465, '58': 1466, 'haha': 1467, 'westerners': 1468, 'goes': 1469, 'imagine': 1470, 'adsense': 1471, 'morgage': 1472, 'train': 1473, 'outfit': 1474, 'huge': 1475, 'turn': 1476, 'off': 1477, 'lacked': 1478, 'eyebrows': 1479, 'certain': 1480, 'amount': 1481, 'something': 1482, 'everyones': 1483, 'lool': 1484, 'hear': 1485, 'thought': 1486}\n",
            "<class 'builtin_function_or_method'>\n"
          ]
        }
      ]
    },
    {
      "cell_type": "code",
      "metadata": {
        "colab": {
          "base_uri": "https://localhost:8080/"
        },
        "id": "sle5bgBzdkdZ",
        "outputId": "cbc1652e-7553-42fe-b6bd-4650ffdd9f32"
      },
      "source": [
        "\n",
        "df_true = pd.DataFrame([true_items])\n",
        "df_true = df_true.iloc[:,0:50]\n",
        "print(df_true)\n",
        "\n",
        "df_false = pd.DataFrame([false_items])\n",
        "df_false = df_false.iloc[:,0:50]\n",
        "print(df_false)"
      ],
      "execution_count": null,
      "outputs": [
        {
          "output_type": "stream",
          "name": "stdout",
          "text": [
            "   unknown  my  and  i  to  http  com  ...  will  free  plz  our  here  money  in\n",
            "0        1   2    3  4   5     6    7  ...    44    45   46   47    48     49  50\n",
            "\n",
            "[1 rows x 50 columns]\n",
            "   unknown  the  to  i  and  this  my  ...   d  that  amp  music   1  image2you  ru\n",
            "0        1    2   3  4    5     6   7  ...  44    45   46     47  48         49  50\n",
            "\n",
            "[1 rows x 50 columns]\n"
          ]
        }
      ]
    },
    {
      "cell_type": "markdown",
      "metadata": {
        "id": "VBXBukqeJo99"
      },
      "source": [
        "Диаграмма для СПАМ сообщений (True=СПАМ). Для нагрядности отражаю первые 50, т.к. весь словарь очень большой, теряется смысл."
      ]
    },
    {
      "cell_type": "code",
      "metadata": {
        "colab": {
          "base_uri": "https://localhost:8080/",
          "height": 531
        },
        "id": "agbe03mmAwbs",
        "outputId": "6e27a6a4-e0f8-476c-e158-52def3e0d146"
      },
      "source": [
        "\n",
        "x = df_true.columns\n",
        "y = df_true.loc[0]\n",
        "plt.figure(figsize=(16,7))\n",
        "plt.xticks(rotation=90)\n",
        "plt.stem(x, y)\n",
        "plt.show()\n",
        "\n"
      ],
      "execution_count": null,
      "outputs": [
        {
          "output_type": "stream",
          "name": "stderr",
          "text": [
            "/usr/local/lib/python3.7/dist-packages/ipykernel_launcher.py:6: UserWarning: In Matplotlib 3.3 individual lines on a stem plot will be added as a LineCollection instead of individual lines. This significantly improves the performance of a stem plot. To remove this warning and switch to the new behaviour, set the \"use_line_collection\" keyword argument to True.\n",
            "  \n"
          ]
        },
        {
          "output_type": "display_data",
          "data": {
            "image/png": "[encoded data removed]",
            "text/plain": [
              "<Figure size 1152x504 with 1 Axes>"
            ]
          },
          "metadata": {
            "needs_background": "light"
          }
        }
      ]
    },
    {
      "cell_type": "markdown",
      "metadata": {
        "id": "ZioWAFMHKOiO"
      },
      "source": [
        "Диаграмма для НЕ СПАМ сообщений (False=не СПАМ). Для нагрядности отражаю первые 50, т.к. весь словарь очень большой, теряется смысл."
      ]
    },
    {
      "cell_type": "code",
      "metadata": {
        "colab": {
          "base_uri": "https://localhost:8080/",
          "height": 531
        },
        "id": "hE2J6uoaAwXb",
        "outputId": "dc834983-dcf7-4121-96e0-2349f5dbd945"
      },
      "source": [
        "x = df_false.columns\n",
        "y = df_false.loc[0]\n",
        "plt.figure(figsize=(16,7))\n",
        "plt.xticks(rotation=90)\n",
        "plt.stem(x, y)\n",
        "plt.show()\n"
      ],
      "execution_count": null,
      "outputs": [
        {
          "output_type": "stream",
          "name": "stderr",
          "text": [
            "/usr/local/lib/python3.7/dist-packages/ipykernel_launcher.py:5: UserWarning: In Matplotlib 3.3 individual lines on a stem plot will be added as a LineCollection instead of individual lines. This significantly improves the performance of a stem plot. To remove this warning and switch to the new behaviour, set the \"use_line_collection\" keyword argument to True.\n",
            "  \"\"\"\n"
          ]
        },
        {
          "output_type": "display_data",
          "data": {
            "image/png": "[encoded data removed]",
            "text/plain": [
              "<Figure size 1152x504 with 1 Axes>"
            ]
          },
          "metadata": {
            "needs_background": "light"
          }
        }
      ]
    },
    {
      "cell_type": "markdown",
      "metadata": {
        "id": "wED1TGnHLJLF"
      },
      "source": [
        "# Создание нейронки + обучение + тестирование на случайной выборке"
      ]
    },
    {
      "cell_type": "code",
      "metadata": {
        "colab": {
          "base_uri": "https://localhost:8080/",
          "height": 1000
        },
        "id": "buX0HfBF-TzE",
        "outputId": "9b33e742-42f4-473c-9819-289d51873b8b"
      },
      "source": [
        "#Создаём полносвязную сеть\n",
        "model01 = Sequential()\n",
        "#Входной полносвязный слой\n",
        "model01.add(Dense(32, input_dim=maxWordsCount, activation=\"relu\"))\n",
        "#Слой регуляризации Dropout\n",
        "model01.add(Dropout(0.3))\n",
        "\n",
        "#Второй полносвязный слой\n",
        "model01.add(Dense(32, activation='relu'))\n",
        "#Слой регуляризации Dropout\n",
        "model01.add(Dropout(0.3))\n",
        "\n",
        "#Выходной полносвязный слой\n",
        "model01.add(Dense(nClasses, activation='softmax'))\n",
        "\n",
        "\n",
        "model01.compile(optimizer='adam', \n",
        "              loss='categorical_crossentropy', \n",
        "              metrics=['accuracy'])\n",
        "\n",
        "#Обучаем сеть на выборке\n",
        "history = model01.fit(xTrain, \n",
        "                    yTrain, \n",
        "                    epochs=20,\n",
        "                    batch_size=128,\n",
        "                    validation_data=(xVal, yVal))\n",
        "\n",
        "plt.plot(history.history['accuracy'], \n",
        "         label='Доля верных ответов на обучающем наборе')\n",
        "plt.plot(history.history['val_accuracy'], \n",
        "         label='Доля верных ответов на проверочном наборе')\n",
        "plt.xlabel('Эпоха обучения')\n",
        "plt.ylabel('Доля верных ответов')\n",
        "plt.legend()\n",
        "plt.show()"
      ],
      "execution_count": null,
      "outputs": [
        {
          "output_type": "stream",
          "name": "stdout",
          "text": [
            "Epoch 1/20\n",
            "3/3 [==============================] - 1s 91ms/step - loss: 0.6926 - accuracy: 0.5286 - val_loss: 0.6805 - val_accuracy: 0.6571\n",
            "Epoch 2/20\n",
            "3/3 [==============================] - 0s 23ms/step - loss: 0.6731 - accuracy: 0.6643 - val_loss: 0.6699 - val_accuracy: 0.7857\n",
            "Epoch 3/20\n",
            "3/3 [==============================] - 0s 21ms/step - loss: 0.6519 - accuracy: 0.8143 - val_loss: 0.6564 - val_accuracy: 0.9000\n",
            "Epoch 4/20\n",
            "3/3 [==============================] - 0s 18ms/step - loss: 0.6312 - accuracy: 0.8750 - val_loss: 0.6389 - val_accuracy: 0.9286\n",
            "Epoch 5/20\n",
            "3/3 [==============================] - 0s 18ms/step - loss: 0.6057 - accuracy: 0.9071 - val_loss: 0.6172 - val_accuracy: 0.9714\n",
            "Epoch 6/20\n",
            "3/3 [==============================] - 0s 19ms/step - loss: 0.5730 - accuracy: 0.9536 - val_loss: 0.5925 - val_accuracy: 0.9714\n",
            "Epoch 7/20\n",
            "3/3 [==============================] - 0s 20ms/step - loss: 0.5341 - accuracy: 0.9536 - val_loss: 0.5656 - val_accuracy: 0.9714\n",
            "Epoch 8/20\n",
            "3/3 [==============================] - 0s 18ms/step - loss: 0.5081 - accuracy: 0.9571 - val_loss: 0.5372 - val_accuracy: 0.9714\n",
            "Epoch 9/20\n",
            "3/3 [==============================] - 0s 18ms/step - loss: 0.4573 - accuracy: 0.9786 - val_loss: 0.5081 - val_accuracy: 0.9571\n",
            "Epoch 10/20\n",
            "3/3 [==============================] - 0s 17ms/step - loss: 0.4138 - accuracy: 0.9857 - val_loss: 0.4784 - val_accuracy: 0.9571\n",
            "Epoch 11/20\n",
            "3/3 [==============================] - 0s 17ms/step - loss: 0.3785 - accuracy: 0.9750 - val_loss: 0.4487 - val_accuracy: 0.9571\n",
            "Epoch 12/20\n",
            "3/3 [==============================] - 0s 18ms/step - loss: 0.3345 - accuracy: 0.9857 - val_loss: 0.4193 - val_accuracy: 0.9571\n",
            "Epoch 13/20\n",
            "3/3 [==============================] - 0s 17ms/step - loss: 0.2978 - accuracy: 0.9857 - val_loss: 0.3908 - val_accuracy: 0.9571\n",
            "Epoch 14/20\n",
            "3/3 [==============================] - 0s 18ms/step - loss: 0.2669 - accuracy: 0.9929 - val_loss: 0.3640 - val_accuracy: 0.9714\n",
            "Epoch 15/20\n",
            "3/3 [==============================] - 0s 17ms/step - loss: 0.2339 - accuracy: 0.9857 - val_loss: 0.3394 - val_accuracy: 0.9714\n",
            "Epoch 16/20\n",
            "3/3 [==============================] - 0s 18ms/step - loss: 0.2051 - accuracy: 1.0000 - val_loss: 0.3169 - val_accuracy: 0.9714\n",
            "Epoch 17/20\n",
            "3/3 [==============================] - 0s 16ms/step - loss: 0.1703 - accuracy: 1.0000 - val_loss: 0.2960 - val_accuracy: 0.9714\n",
            "Epoch 18/20\n",
            "3/3 [==============================] - 0s 17ms/step - loss: 0.1537 - accuracy: 0.9929 - val_loss: 0.2772 - val_accuracy: 0.9714\n",
            "Epoch 19/20\n",
            "3/3 [==============================] - 0s 18ms/step - loss: 0.1367 - accuracy: 1.0000 - val_loss: 0.2605 - val_accuracy: 0.9714\n",
            "Epoch 20/20\n",
            "3/3 [==============================] - 0s 17ms/step - loss: 0.1219 - accuracy: 1.0000 - val_loss: 0.2457 - val_accuracy: 0.9714\n"
          ]
        },
        {
          "output_type": "display_data",
          "data": {
            "image/png": "[encoded data removed]",
            "text/plain": [
              "<Figure size 432x288 with 1 Axes>"
            ]
          },
          "metadata": {
            "needs_background": "light"
          }
        }
      ]
    },
    {
      "cell_type": "code",
      "metadata": {
        "id": "UGAIAV80_eAZ"
      },
      "source": [
        "model01.save('9714_2.h5')"
      ],
      "execution_count": null,
      "outputs": []
    },
    {
      "cell_type": "code",
      "metadata": {
        "id": "DmdDf8b5_wQJ"
      },
      "source": [
        "from tensorflow.keras.models import load_model\n",
        " \n",
        "model01 = load_model('9714_2.h5')"
      ],
      "execution_count": null,
      "outputs": []
    },
    {
      "cell_type": "code",
      "metadata": {
        "colab": {
          "base_uri": "https://localhost:8080/"
        },
        "id": "Id-nzHts919x",
        "outputId": "b2f237a6-180a-45f5-c2e5-7eecd77d58c2"
      },
      "source": [
        "#Дообучаем модель, может перспектива есть\n",
        "model01.compile(optimizer= Adam(0.00001), \n",
        "              loss='categorical_crossentropy', \n",
        "              metrics=['accuracy'])\n",
        "\n",
        "model01.history = model01.fit(xTrain, \n",
        "                    yTrain, \n",
        "                    epochs=20,\n",
        "                    batch_size=64,\n",
        "                    validation_data=(xVal, yVal))\n"
      ],
      "execution_count": null,
      "outputs": [
        {
          "output_type": "stream",
          "name": "stdout",
          "text": [
            "Epoch 1/20\n",
            "5/5 [==============================] - 1s 46ms/step - loss: 0.1261 - accuracy: 1.0000 - val_loss: 0.2297 - val_accuracy: 0.9714\n",
            "Epoch 2/20\n",
            "5/5 [==============================] - 0s 13ms/step - loss: 0.1421 - accuracy: 0.9964 - val_loss: 0.2294 - val_accuracy: 0.9714\n",
            "Epoch 3/20\n",
            "5/5 [==============================] - 0s 12ms/step - loss: 0.1251 - accuracy: 1.0000 - val_loss: 0.2291 - val_accuracy: 0.9714\n",
            "Epoch 4/20\n",
            "5/5 [==============================] - 0s 12ms/step - loss: 0.1312 - accuracy: 1.0000 - val_loss: 0.2288 - val_accuracy: 0.9714\n",
            "Epoch 5/20\n",
            "5/5 [==============================] - 0s 13ms/step - loss: 0.1287 - accuracy: 0.9929 - val_loss: 0.2285 - val_accuracy: 0.9714\n",
            "Epoch 6/20\n",
            "5/5 [==============================] - 0s 13ms/step - loss: 0.1332 - accuracy: 1.0000 - val_loss: 0.2282 - val_accuracy: 0.9714\n",
            "Epoch 7/20\n",
            "5/5 [==============================] - 0s 14ms/step - loss: 0.1243 - accuracy: 0.9929 - val_loss: 0.2279 - val_accuracy: 0.9714\n",
            "Epoch 8/20\n",
            "5/5 [==============================] - 0s 15ms/step - loss: 0.1328 - accuracy: 1.0000 - val_loss: 0.2276 - val_accuracy: 0.9714\n",
            "Epoch 9/20\n",
            "5/5 [==============================] - 0s 12ms/step - loss: 0.1308 - accuracy: 0.9929 - val_loss: 0.2273 - val_accuracy: 0.9714\n",
            "Epoch 10/20\n",
            "5/5 [==============================] - 0s 13ms/step - loss: 0.1270 - accuracy: 0.9929 - val_loss: 0.2270 - val_accuracy: 0.9714\n",
            "Epoch 11/20\n",
            "5/5 [==============================] - 0s 13ms/step - loss: 0.1317 - accuracy: 1.0000 - val_loss: 0.2268 - val_accuracy: 0.9714\n",
            "Epoch 12/20\n",
            "5/5 [==============================] - 0s 12ms/step - loss: 0.1240 - accuracy: 1.0000 - val_loss: 0.2265 - val_accuracy: 0.9714\n",
            "Epoch 13/20\n",
            "5/5 [==============================] - 0s 13ms/step - loss: 0.1268 - accuracy: 1.0000 - val_loss: 0.2262 - val_accuracy: 0.9714\n",
            "Epoch 14/20\n",
            "5/5 [==============================] - 0s 16ms/step - loss: 0.1263 - accuracy: 1.0000 - val_loss: 0.2259 - val_accuracy: 0.9714\n",
            "Epoch 15/20\n",
            "5/5 [==============================] - 0s 12ms/step - loss: 0.1371 - accuracy: 0.9929 - val_loss: 0.2256 - val_accuracy: 0.9714\n",
            "Epoch 16/20\n",
            "5/5 [==============================] - 0s 12ms/step - loss: 0.1279 - accuracy: 0.9929 - val_loss: 0.2253 - val_accuracy: 0.9714\n",
            "Epoch 17/20\n",
            "5/5 [==============================] - 0s 12ms/step - loss: 0.1153 - accuracy: 1.0000 - val_loss: 0.2251 - val_accuracy: 0.9714\n",
            "Epoch 18/20\n",
            "5/5 [==============================] - 0s 14ms/step - loss: 0.1265 - accuracy: 1.0000 - val_loss: 0.2248 - val_accuracy: 0.9714\n",
            "Epoch 19/20\n",
            "5/5 [==============================] - 0s 13ms/step - loss: 0.1303 - accuracy: 0.9964 - val_loss: 0.2245 - val_accuracy: 0.9714\n",
            "Epoch 20/20\n",
            "5/5 [==============================] - 0s 13ms/step - loss: 0.1316 - accuracy: 1.0000 - val_loss: 0.2242 - val_accuracy: 0.9714\n"
          ]
        }
      ]
    },
    {
      "cell_type": "code",
      "metadata": {
        "id": "fms6etCMCPsX"
      },
      "source": [
        "model01.save_weights('9714_w.h5')"
      ],
      "execution_count": null,
      "outputs": []
    },
    {
      "cell_type": "code",
      "metadata": {
        "id": "0YEvHTqo30Uc"
      },
      "source": [
        "from tensorflow.keras.models import load_model\n",
        " \n",
        "model01 = load_model('9714_2.h5')"
      ],
      "execution_count": null,
      "outputs": []
    },
    {
      "cell_type": "code",
      "metadata": {
        "colab": {
          "base_uri": "https://localhost:8080/",
          "height": 363
        },
        "id": "B37QXCdnr0CZ",
        "outputId": "c51d7d0d-1723-4f04-833f-9c26bf4f4f29"
      },
      "source": [
        "data = df[['content','class']]\n",
        "data = data.sample(10)\n",
        "data\n",
        "\n",
        "# DataFrame.sample(n=None, frac=None, replace=False, weights=None, random_state=None, axis=None, ignore_index=False)"
      ],
      "execution_count": null,
      "outputs": [
        {
          "output_type": "execute_result",
          "data": {
            "text/html": [
              "<div>\n",
              "<style scoped>\n",
              "    .dataframe tbody tr th:only-of-type {\n",
              "        vertical-align: middle;\n",
              "    }\n",
              "\n",
              "    .dataframe tbody tr th {\n",
              "        vertical-align: top;\n",
              "    }\n",
              "\n",
              "    .dataframe thead th {\n",
              "        text-align: right;\n",
              "    }\n",
              "</style>\n",
              "<table border=\"1\" class=\"dataframe\">\n",
              "  <thead>\n",
              "    <tr style=\"text-align: right;\">\n",
              "      <th></th>\n",
              "      <th>content</th>\n",
              "      <th>class</th>\n",
              "    </tr>\n",
              "  </thead>\n",
              "  <tbody>\n",
              "    <tr>\n",
              "      <th>141</th>\n",
              "      <td>check men out i put allot of effort into my mu...</td>\n",
              "      <td>True</td>\n",
              "    </tr>\n",
              "    <tr>\n",
              "      <th>18</th>\n",
              "      <td>http://ubuntuone.com/40beUutVu2ZKxK4uTgPZ8K﻿</td>\n",
              "      <td>True</td>\n",
              "    </tr>\n",
              "    <tr>\n",
              "      <th>112</th>\n",
              "      <td>This song never gets old love it.﻿</td>\n",
              "      <td>False</td>\n",
              "    </tr>\n",
              "    <tr>\n",
              "      <th>332</th>\n",
              "      <td>The girl in the train who was dancing, her out...</td>\n",
              "      <td>False</td>\n",
              "    </tr>\n",
              "    <tr>\n",
              "      <th>95</th>\n",
              "      <td>Plizz withing my channel ﻿</td>\n",
              "      <td>True</td>\n",
              "    </tr>\n",
              "    <tr>\n",
              "      <th>10</th>\n",
              "      <td>Hey subscribe to me﻿</td>\n",
              "      <td>True</td>\n",
              "    </tr>\n",
              "    <tr>\n",
              "      <th>131</th>\n",
              "      <td>PSY GOT LOTS  OF MONEY FROM YOUTUBE THAT HE GO...</td>\n",
              "      <td>False</td>\n",
              "    </tr>\n",
              "    <tr>\n",
              "      <th>96</th>\n",
              "      <td>I made a gaming channel (Unique right?) :L Ang...</td>\n",
              "      <td>True</td>\n",
              "    </tr>\n",
              "    <tr>\n",
              "      <th>249</th>\n",
              "      <td>MANY MEMORIES...........﻿</td>\n",
              "      <td>False</td>\n",
              "    </tr>\n",
              "    <tr>\n",
              "      <th>292</th>\n",
              "      <td>Hi guys my name is Dylan and I do IRL football...</td>\n",
              "      <td>True</td>\n",
              "    </tr>\n",
              "  </tbody>\n",
              "</table>\n",
              "</div>"
            ],
            "text/plain": [
              "                                               content  class\n",
              "141  check men out i put allot of effort into my mu...   True\n",
              "18        http://ubuntuone.com/40beUutVu2ZKxK4uTgPZ8K﻿   True\n",
              "112                 This song never gets old love it.﻿  False\n",
              "332  The girl in the train who was dancing, her out...  False\n",
              "95                          Plizz withing my channel ﻿   True\n",
              "10                                Hey subscribe to me﻿   True\n",
              "131  PSY GOT LOTS  OF MONEY FROM YOUTUBE THAT HE GO...  False\n",
              "96   I made a gaming channel (Unique right?) :L Ang...   True\n",
              "249                          MANY MEMORIES...........﻿  False\n",
              "292  Hi guys my name is Dylan and I do IRL football...   True"
            ]
          },
          "metadata": {},
          "execution_count": 25
        }
      ]
    },
    {
      "cell_type": "code",
      "metadata": {
        "colab": {
          "base_uri": "https://localhost:8080/"
        },
        "id": "Yk7sIddquqEt",
        "outputId": "3e466080-09c2-4031-f223-e612d5ae8e48"
      },
      "source": [
        "testTexts = []\n",
        "for text in data['content']:\n",
        "  testTexts.append(text)\n",
        "print(testTexts)\n"
      ],
      "execution_count": null,
      "outputs": [
        {
          "output_type": "stream",
          "name": "stdout",
          "text": [
            "['check men out i put allot of effort into my music but unfortunatly not many  watch it\\ufeff', 'http://ubuntuone.com/40beUutVu2ZKxK4uTgPZ8K\\ufeff', 'This song never gets old love it.\\ufeff', 'The girl in the train who was dancing, her outfit was so fucking sexy, but  the huge turn-off was she lacked eyebrows D:\\ufeff', 'Plizz withing my channel \\ufeff', 'Hey subscribe to me\\ufeff', 'PSY GOT LOTS  OF MONEY FROM YOUTUBE THAT HE GOT FROM 2 BILLION VIEWS THIS  IS THE MOST VIEWS IN THE WORLD :D\\ufeff', 'I made a gaming channel (Unique right?) :L Angry Minecraft!\\ufeff', 'MANY MEMORIES...........\\ufeff', 'Hi guys my name is Dylan and I do IRL football videos I have 1030  subscribers and I think you guys would like my content so come check it out  and if you do subscribe!\\ufeff']\n"
          ]
        }
      ]
    },
    {
      "cell_type": "code",
      "metadata": {
        "colab": {
          "base_uri": "https://localhost:8080/"
        },
        "id": "3GRihc8q4q4w",
        "outputId": "d0633c7c-a08e-4839-e7dc-6576f3c42c5b"
      },
      "source": [
        "for testText in testTexts:  \n",
        "  testWordIndexes = tokenizer.texts_to_sequences(testText) #Обучающие тексты в индексы\n",
        "  testWordIndexes = pad_sequences(testWordIndexes,maxlen=15)\n",
        "  testWordIndexes01 = tokenizer.sequences_to_matrix(testWordIndexes.tolist())\n",
        "  out = model01.predict([testWordIndexes01])\n",
        "  if np.argmax(out[0]) == 1:\n",
        "    print (testText  , 'Категория сообщения определенная нейронкой \"НЕ СПАМ\"',sep='\\n')\n",
        "    print('***')\n",
        "  else:\n",
        "    print (testText  , 'Категория сообщения определенная нейронкой \"СПАМ\"',sep='\\n')\n",
        "    print('***')\n"
      ],
      "execution_count": null,
      "outputs": [
        {
          "output_type": "stream",
          "name": "stdout",
          "text": [
            "check men out i put allot of effort into my music but unfortunatly not many  watch it﻿\n",
            "Категория сообщения определенная нейронкой \"СПАМ\"\n",
            "***\n",
            "http://ubuntuone.com/40beUutVu2ZKxK4uTgPZ8K﻿\n",
            "Категория сообщения определенная нейронкой \"СПАМ\"\n",
            "***\n",
            "This song never gets old love it.﻿\n",
            "Категория сообщения определенная нейронкой \"НЕ СПАМ\"\n",
            "***\n",
            "The girl in the train who was dancing, her outfit was so fucking sexy, but  the huge turn-off was she lacked eyebrows D:﻿\n",
            "Категория сообщения определенная нейронкой \"НЕ СПАМ\"\n",
            "***\n",
            "Plizz withing my channel ﻿\n",
            "Категория сообщения определенная нейронкой \"СПАМ\"\n",
            "***\n",
            "Hey subscribe to me﻿\n",
            "Категория сообщения определенная нейронкой \"СПАМ\"\n",
            "***\n",
            "PSY GOT LOTS  OF MONEY FROM YOUTUBE THAT HE GOT FROM 2 BILLION VIEWS THIS  IS THE MOST VIEWS IN THE WORLD :D﻿\n",
            "Категория сообщения определенная нейронкой \"СПАМ\"\n",
            "***\n",
            "I made a gaming channel (Unique right?) :L Angry Minecraft!﻿\n",
            "Категория сообщения определенная нейронкой \"СПАМ\"\n",
            "***\n",
            "MANY MEMORIES...........﻿\n",
            "Категория сообщения определенная нейронкой \"СПАМ\"\n",
            "***\n",
            "Hi guys my name is Dylan and I do IRL football videos I have 1030  subscribers and I think you guys would like my content so come check it out  and if you do subscribe!﻿\n",
            "Категория сообщения определенная нейронкой \"СПАМ\"\n",
            "***\n"
          ]
        }
      ]
    },
    {
      "cell_type": "markdown",
      "metadata": {
        "id": "vf4CEOcfGUB2"
      },
      "source": [
        "## maxWordsCount = 5000, , создание наборов данных + обучение + тестирование на случайной выборке\n",
        "Точность = 100%"
      ]
    },
    {
      "cell_type": "code",
      "metadata": {
        "id": "kbA2ii_bGVAP"
      },
      "source": [
        "maxWordsCount = 5000\n",
        "#Преобразовываем текстовые данные в числовые/векторные для обучения нейросетью\n",
        "#Для этого воспользуемся встроенной в Keras функцией Tokenizer для разбиения текста и превращения в матрицу числовых значений\n",
        "#num_words=maxWordsCount - определяем макс.кол-во слов/индексов, учитываемое при обучении текстов\n",
        "#filters='!\"#$%&()*+,-./:;<=>?@[\\\\]^_`{|}~\\t\\n' - избавляемся от ненужных символов\n",
        "#lower=True - приводим слова к нижнему регистру\n",
        "#split=' ' - разделяем слова по пробелу\n",
        "#char_level=False - просим токенайзер не удалять однобуквенные слова\n",
        "tokenizer = Tokenizer(num_words=maxWordsCount, filters='!\"#$%&()*+,-./:;<=>?@[\\\\]^_`{|}~\\t\\n', lower=True, split=' ', oov_token='unknown', char_level=False)\n",
        "#Подаем в обрботку наши тексты для создания словаря частотности\n",
        "#Каждое слово из текста нашло свой индекс в векторе длиной maxWordsCount и отметилось в нем единичкой \n",
        "tokenizer.fit_on_texts(texts)\n",
        "\n"
      ],
      "execution_count": null,
      "outputs": []
    },
    {
      "cell_type": "code",
      "metadata": {
        "colab": {
          "base_uri": "https://localhost:8080/"
        },
        "id": "jyd9dMmiGVAQ",
        "outputId": "d5fbfde5-bffb-4e41-baef-e6161e9a88ff"
      },
      "source": [
        "# Формируем матрицу bag of words\n",
        "xAll = tokenizer.texts_to_matrix(texts)\n",
        "print(xAll.shape)\n",
        "print(xAll[0,:20])"
      ],
      "execution_count": null,
      "outputs": [
        {
          "output_type": "stream",
          "name": "stdout",
          "text": [
            "(350, 5000)\n",
            "[0. 0. 0. 0. 0. 0. 0. 1. 0. 1. 0. 0. 1. 0. 0. 0. 0. 0. 0. 0.]\n"
          ]
        }
      ]
    },
    {
      "cell_type": "code",
      "metadata": {
        "colab": {
          "base_uri": "https://localhost:8080/"
        },
        "id": "R0PHt1H5GVAQ",
        "outputId": "3a175edc-d388-4f73-e4ee-05721cbae13d"
      },
      "source": [
        "#Глянем индексы слов для просмотра и размер словаря\n",
        "print(tokenizer.word_index.items())\n",
        "print('Размер словаря:', len(tokenizer.word_index.items()))\n"
      ],
      "execution_count": null,
      "outputs": [
        {
          "output_type": "stream",
          "name": "stdout",
          "text": [
            "dict_items([('unknown', 1), ('\\ufeff', 2), ('the', 3), ('to', 4), ('i', 5), ('and', 6), ('this', 7), ('my', 8), ('you', 9), ('http', 10), ('a', 11), ('check', 12), ('is', 13), ('views', 14), ('com', 15), ('2', 16), ('www', 17), ('of', 18), ('subscribe', 19), ('on', 20), ('out', 21), ('me', 22), ('it', 23), ('video', 24), ('please', 25), ('channel', 26), ('for', 27), ('like', 28), ('so', 29), ('billion', 30), ('in', 31), ('if', 32), ('have', 33), ('https', 34), ('just', 35), ('get', 36), ('can', 37), ('youtube', 38), ('song', 39), ('are', 40), ('be', 41), ('people', 42), ('here', 43), ('how', 44), ('that', 45), ('amp', 46), ('music', 47), ('1', 48), ('image2you', 49), ('ru', 50), ('48051', 51), ('not', 52), ('only', 53), ('new', 54), ('what', 55), ('we', 56), ('at', 57), ('psy', 58), ('guys', 59), ('videos', 60), ('will', 61), ('they', 62), ('there', 63), ('do', 64), ('hey', 65), ('d', 66), ('but', 67), ('facebook', 68), ('your', 69), ('money', 70), ('even', 71), ('has', 72), ('000', 73), (\"don't\", 74), ('more', 75), ('thanks', 76), ('everyone', 77), ('why', 78), ('was', 79), ('see', 80), (\"i'm\", 81), ('funny', 82), ('now', 83), ('free', 84), ('with', 85), ('plz', 86), ('our', 87), ('comment', 88), ('one', 89), ('much', 90), ('think', 91), ('go', 92), ('world', 93), ('7', 94), ('when', 95), ('he', 96), ('3', 97), ('still', 98), ('about', 99), ('u', 100), ('follow', 101), ('come', 102), ('from', 103), ('dont', 104), ('its', 105), ('most', 106), ('know', 107), ('gangnam', 108), ('us', 109), ('v', 110), ('all', 111), ('im', 112), ('would', 113), ('sub', 114), ('does', 115), ('back', 116), ('by', 117), ('because', 118), ('over', 119), ('style', 120), ('comments', 121), ('co', 122), ('first', 123), ('watch', 124), ('came', 125), ('also', 126), ('or', 127), ('some', 128), ('really', 129), ('up', 130), ('m', 131), ('gift', 132), ('million', 133), ('want', 134), ('twitter', 135), ('any', 136), ('d\\ufeff', 137), ('no', 138), ('time', 139), ('help', 140), ('watching', 141), ('viewed', 142), ('e', 143), ('subscribers', 144), ('many', 145), ('tsu', 146), ('am', 147), ('8', 148), ('shit', 149), ('years', 150), ('ermail', 151), ('pl', 152), ('dolacz', 153), ('as', 154), ('day', 155), ('got', 156), ('old', 157), ('best', 158), ('hate', 159), ('ref', 160), ('share', 161), ('great', 162), ('omg', 163), ('thing', 164), (\"it's\", 165), ('강남스타일', 166), ('lol\\ufeff', 167), ('cards', 168), ('lol', 169), ('v3veygin', 170), ('earth', 171), ('soon', 172), ('started', 173), ('views\\ufeff', 174), ('100', 175), ('who', 176), ('earn', 177), ('made', 178), ('korean', 179), ('4', 180), ('buy', 181), ('awesome', 182), ('minecraft', 183), ('channel\\ufeff', 184), ('twitch', 185), ('org', 186), ('reach', 187), ('play', 188), ('hi', 189), ('while', 190), ('gt', 191), ('lt', 192), ('before', 193), ('google', 194), ('too', 195), ('dance', 196), ('name', 197), ('than', 198), ('little', 199), ('say', 200), ('enjoy', 201), ('wanted', 202), ('should', 203), ('tell', 204), ('right', 205), ('checking', 206), ('an', 207), ('company', 208), ('real', 209), ('make', 210), ('apps', 211), ('takes', 212), ('could', 213), ('give', 214), ('projects', 215), (\"i'll\", 216), ('tv', 217), ('3\\ufeff', 218), ('2014', 219), ('chance', 220), ('popular', 221), ('gets', 222), ('wow', 223), ('fuck', 224), ('gofundme', 225), ('2billion', 226), ('saying', 227), ('need', 228), ('likes', 229), ('xd\\ufeff', 230), ('5', 231), ('getting', 232), ('such', 233), ('❤️', 234), ('where', 235), ('again', 236), ('posts', 237), ('guy', 238), ('him', 239), ('months', 240), ('tumor', 241), (\"there's\", 242), ('6', 243), ('did', 244), ('hits', 245), ('la', 246), ('leave', 247), ('sexy', 248), ('site', 249), (\"you're\", 250), ('hello', 251), ('gaming', 252), ('ebay', 253), ('news', 254), ('game', 255), ('8bit', 256), ('checked', 257), ('remix', 258), ('mean', 259), ('p\\ufeff', 260), ('suscribe', 261), ('raw', 262), ('x', 263), ('pls', 264), ('change', 265), ('friend', 266), ('every', 267), ('quite', 268), ('beautiful', 269), ('hackfbaccountlive', 270), ('type', 271), ('appreciate', 272), ('youtu', 273), ('9bzkp7q19f0\\ufeff', 274), ('use', 275), ('amazon', 276), ('itunes', 277), ('other', 278), ('then', 279), (\"you'll\", 280), ('half', 281), ('them', 282), ('deserve', 283), ('keep', 284), ('understand', 285), ('youtuber', 286), ('miss', 287), ('click', 288), ('never', 289), ('love', 290), ('0', 291), ('korea', 292), ('justin', 293), ('ago', 294), ('epic', 295), ('stupid', 296), ('oppa', 297), ('p', 298), ('register', 299), ('face', 300), ('watched', 301), ('nice', 302), ('network', 303), ('fb', 304), ('paid', 305), ('going', 306), ('dick', 307), ('left', 308), ('good', 309), ('girls', 310), ('fucking', 311), ('sad', 312), ('very', 313), ('brain', 314), ('live', 315), ('were', 316), ('away', 317), ('self', 318), ('school', 319), ('clothes', 320), ('these', 321), ('ass', 322), ('next', 323), ('me\\ufeff', 324), ('reading', 325), ('entire', 326), ('family', 327), ('stay', 328), ('alive', 329), ('lyrics', 330), (\"we've\", 331), ('hope', 332), ('cover', 333), ('itm', 334), ('sspagename', 335), ('strk', 336), ('meselx', 337), ('trksid', 338), ('p3984', 339), ('m1555', 340), ('l2649', 341), ('tops', 342), ('shirts', 343), ('visit', 344), ('show', 345), ('teespring', 346), ('marketglory', 347), ('strategygame', 348), ('rap', 349), ('yeah', 350), ('anymore', 351), ('android', 352), ('games', 353), ('newest', 354), ('memories', 355), ('took', 356), ('coming', 357), ('support', 358), ('last', 359), ('listen', 360), ('ever', 361), ('10', 362), ('ill', 363), ('improve', 364), ('after', 365), ('web', 366), ('talent', 367), ('straight', 368), ('view', 369), ('9', 370), ('hit', 371), ('pages', 372), ('page', 373), ('gwar', 374), ('2015', 375), ('football', 376), ('super', 377), ('history', 378), ('dislikes', 379), ('dislike', 380), (\"isn't\", 381), ('actually', 382), ('been', 383), ('fablife', 384), ('welcome', 385), ('his', 386), ('absolutely', 387), ('promise', 388), ('suck', 389), ('covers', 390), ('group', 391), ('myself', 392), ('feedback', 393), ('top', 394), ('auditioning', 395), ('read', 396), ('xd', 397), ('section', 398), ('active', 399), ('ching', 400), ('sty', 401), ('indiegogo', 402), ('anyone', 403), ('card', 404), ('code', 405), ('asian', 406), ('try', 407), ('l', 408), ('anybody', 409), ('viewer', 410), ('chinese', 411), ('english', 412), ('hoppa', 413), ('style\\ufeff', 414), ('song\\ufeff', 415), ('lot', 416), ('pictures', 417), ('plus', 418), ('china', 419), ('v\\ufeff', 420), ('had', 421), ('holy', 422), ('person', 423), ('zombie', 424), ('wow\\ufeff', 425), ('guys\\ufeff', 426), ('uk', 427), ('juno', 428), ('wallet', 429), ('task', 430), ('join', 431), ('bieber', 432), ('well', 433), ('least', 434), ('aspx', 435), ('put', 436), ('it\\ufeff', 437), ('gun', 438), ('add', 439), ('pay', 440), ('soundcloud', 441), ('ready', 442), ('look', 443), ('mind', 444), ('vids', 445), ('sr', 446), ('qid', 447), ('1415297812', 448), ('refurbished', 449), ('christmas', 450), ('spam', 451), (\"c'mon\", 452), ('social', 453), ('worldwide', 454), ('sharing', 455), ('multiple', 456), ('expensive', 457), ('126', 458), ('population', 459), ('c', 460), ('o', 461), ('book', 462), ('care', 463), ('whatever', 464), ('piece', 465), ('having', 466), ('whole', 467), ('stuck', 468), ('smart', 469), ('knows', 470), ('pray', 471), ('head', 472), ('sucks', 473), ('december', 474), ('dumb', 475), ('mom', 476), ('her', 477), ('mine', 478), ('hard', 479), ('child', 480), ('dancing', 481), ('suffering', 482), ('praying', 483), ('5million', 484), ('hacked', 485), ('cool', 486), ('loved', 487), ('girl', 488), ('mabey', 489), ('those', 490), ('michael', 491), ('jackson', 492), ('laugh', 493), ('posting', 494), ('part', 495), ('baby', 496), ('content', 497), ('127', 498), ('2014\\ufeff', 499), ('almost', 500), ('planet', 501), ('joking', 502), ('college', 503), ('photos', 504), ('theater', 505), ('alone', 506), ('pretty', 507), ('she', 508), ('done', 509), ('salon', 510), ('goal', 511), (\"let's\", 512), ('subs\\ufeff', 513), ('fuego', 514), ('hyperurl', 515), ('k6a5xt\\ufeff', 516), ('salt', 517), ('ur', 518), ('montages', 519), ('id', 520), ('bing', 521), ('rewards', 522), ('link', 523), ('download', 524), ('photo', 525), ('huh', 526), ('anyway', 527), ('tube', 528), ('kobyoshi02', 529), ('vid', 530), ('monkeys', 531), ('monkey', 532), ('white', 533), ('shirt', 534), ('test', 535), ('murdev', 536), ('shaking', 537), ('vtarggvgtwq', 538), ('website', 539), ('kids', 540), ('stuff', 541), ('kidsmediausa', 542), ('turned', 543), ('mute', 544), ('once', 545), ('stop', 546), ('within', 547), ('die', 548), ('gbphotographygb\\ufeff', 549), ('comment\\ufeff', 550), ('premium', 551), ('easypromosapp', 552), ('voteme', 553), ('19924', 554), ('616375350\\ufeff', 555), ('art', 556), ('scientific', 557), ('experiments', 558), ('tutorials', 559), ('able', 560), ('expectations', 561), ('far', 562), ('171183229277', 563), ('ubuntuone', 564), ('40beuutvu2zkxk4utgpz8k\\ufeff', 565), ('edm', 566), ('apparel', 567), ('dedicated', 568), ('bringing', 569), ('inspired', 570), ('designs', 571), ('clothing', 572), ('perfect', 573), ('rave', 574), ('festival', 575), ('neon', 576), ('crop', 577), ('tank', 578), ('t', 579), ('necks', 580), ('accessories', 581), ('instagraml', 582), ('giveaways', 583), ('oncueapparel\\ufeff', 584), ('millions', 585), ('auburn', 586), ('pride', 587), ('tigermeathoodie\\ufeff', 588), ('andrijamatf', 589), ('12', 590), ('yr', 591), ('producer', 592), ('chiptunes', 593), ('wonderful', 594), ('remixes', 595), ('gangnamstyle', 596), ('kyle', 597), ('not\\ufeff', 598), ('martin', 599), ('luther', 600), ('king', 601), ('jr', 602), ('goodbye', 603), ('reason', 604), ('dubstep', 605), ('fireball', 606), ('fruity', 607), ('loops', 608), ('teloa6rio8o\\ufeff', 609), ('soon\\ufeff', 610), ('dafuq', 611), ('big', 612), ('usa', 613), ('koreans', 614), ('bomb', 615), ('succesfull', 616), ('pplease', 617), ('seconds', 618), ('thanks\\ufeff', 619), ('yt', 620), ('grateful', 621), ('peoples', 622), ('clip', 623), ('bf4', 624), ('advice', 625), ('sure', 626), ('haters', 627), ('win\\ufeff', 628), ('effects', 629), ('foto', 630), ('sites', 631), ('another', 632), ('find', 633), ('audiojungle', 634), ('net', 635), ('user', 636), ('eugenekalinin', 637), ('portfolio', 638), ('eugenekalinin\\ufeff', 639), ('codytolleson', 640), ('roblox', 641), ('warcraft', 642), ('gta5', 643), ('mario', 644), ('must', 645), ('czfcxsn0jnq', 646), ('jaroadc', 647), ('stream', 648), ('hip', 649), ('hop', 650), ('sound', 651), ('dizzy', 652), ('juice', 653), ('prod', 654), ('drugs', 655), ('model', 656), ('citizen', 657), ('lazy', 658), ('prophetz\\ufeff', 659), ('884', 660), ('034', 661), ('783', 662), ('count', 663), ('hour', 664), ('avaaz', 665), ('po', 666), ('petition', 667), ('corporation', 668), ('fox', 669), ('broadcasting', 670), ('anular', 671), ('os', 672), ('strikes', 673), ('canal', 674), ('nostalgia', 675), ('cxpzpgb', 676), ('thumbs', 677), ('hw', 678), ('got\\ufeff', 679), ('xx\\ufeff', 680), ('often', 681), ('2x10', 682), ('avoid', 683), ('baby\\ufeff', 684), ('yet', 685), ('brew', 686), ('crew', 687), ('134470083389909', 688), ('win', 689), ('iphone', 690), ('5s', 691), ('superbowl', 692), ('petitions', 693), ('national', 694), ('league', 695), ('allow', 696), ('perform', 697), ('bowl', 698), ('halftime', 699), ('sevadus\\ufeff', 700), ('tankionline', 701), ('cd92db3f4', 702), ('has\\ufeff', 703), ('chuck', 704), ('norrus', 705), ('ovbiously', 706), ('behold', 707), ('ever\\ufeff', 708), ('gonna', 709), ('969', 710), ('210', 711), ('themselves\\ufeff', 712), ('korean\\ufeff', 713), ('oldspice', 714), ('spraytan', 715), ('party', 716), ('commercial', 717), ('sitting', 718), ('billions', 719), ('diys', 720), ('challenges', 721), ('thx', 722), ('131338190916', 723), ('guardalo', 724), ('cats', 725), ('gatti', 726), ('pazzi', 727), ('divertenti', 728), ('2013', 729), ('5287', 730), ('100000415527985', 731), ('drones', 732), ('kamal', 733), ('tayara', 734), ('drone', 735), ('4604617\\ufeff', 736), ('whats', 737), ('trying', 738), ('showcase', 739), ('3000', 740), ('spread', 741), ('around', 742), ('lucas', 743), ('trigo', 744), ('php', 745), ('10200253113705769', 746), ('set', 747), ('vb', 748), ('201470069872822', 749), ('permpage', 750), ('leader', 751), ('angel', 752), ('rookie', 753), ('pop', 754), ('four', 755), ('members', 756), ('chanicka', 757), ('julie', 758), ('stephanie', 759), ('leah', 760), ('feel', 761), ('criticism', 762), (\"we're\", 763), ('notch', 764), ('singers', 765), ('constructive', 766), ('management', 767), ('plan', 768), ('jyp', 769), ('bighit', 770), ('jellyfish', 771), ('yg', 772), ('sm', 773), ('thank', 774), ('taking', 775), ('woobox', 776), ('33gxrf', 777), ('brt0u5', 778), ('cs', 779), ('admit', 780), ('number', 781), ('viewers', 782), ('viewing', 783), ('apparently', 784), ('out\\ufeff', 785), ('bad', 786), ('5277478', 787), ('79', 788), ('binbox', 789), ('io', 790), ('1firo', 791), ('123\\ufeff', 792), ('ling', 793), ('long', 794), ('ding', 795), ('ring', 796), ('yaaaaaa', 797), ('ganga', 798), ('cleaning', 799), ('pan', 800), ('halp', 801), ('project\\ufeff', 802), ('brother', 803), ('psn', 804), ('happy', 805), ('codes', 806), ('amazing', 807), ('50', 808), ('xxbb5tczhm39hvzd\\ufeff', 809), ('things', 810), ('non', 811), ('countries', 812), ('jelly', 813), ('learn', 814), ('asia', 815), ('looking', 816), ('plizz', 817), ('withing', 818), ('unique', 819), ('angry', 820), ('littlebrother\\ufeff', 821), ('subscribes', 822), ('subscribers\\ufeff', 823), ('thepiratebay', 824), ('se', 825), ('torrent', 826), ('6381501', 827), ('timothy', 828), ('sykes', 829), ('collection\\ufeff', 830), ('way', 831), ('decent', 832), ('said', 833), ('visiting', 834), ('itz', 835), ('recaps', 836), ('above', 837), ('diddle\\ufeff', 838), ('screw', 839), ('crap', 840), ('speaking', 841), ('emerson', 842), ('zanol\\ufeff', 843), ('visuelgamingznl', 844), ('back\\ufeff', 845), ('gangam', 846), ('weird', 847), ('ehi', 848), ('lexis', 849), ('band', 850), ('uploading', 851), ('their', 852), ('own', 853), ('songs', 854), ('grwmps\\ufeff', 855), ('funnytortspics', 856), ('112720997191206369631', 857), ('post\\ufeff', 858), ('2012bitches\\ufeff', 859), ('milions', 860), ('comentars', 861), ('bilion', 862), ('zero\\ufeff', 863), ('mix', 864), ('124', 865), ('821', 866), ('694', 867), ('apocalypse', 868), ('greetings', 869), ('spoderman', 870), ('please\\ufeff', 871), ('124923004', 872), ('wiews', 873), ('grow', 874), ('anyway\\ufeff', 875), ('crazy', 876), ('republic', 877), ('asia\\ufeff', 878), ('discover', 879), ('young', 880), ('moroccan', 881), ('linkbucks', 882), ('acn2g\\ufeff', 883), ('spending', 884), ('cash', 885), ('nike', 886), ('gamestop', 887), ('etc', 888), ('easy', 889), ('doing', 890), ('simple', 891), ('downloading', 892), ('inviting', 893), ('friends', 894), ('signup', 895), ('sign', 896), ('today', 897), ('promo', 898), ('bd3721315\\ufeff', 899), ('somebody', 900), ('wake', 901), ('lots', 902), ('gay', 903), ('gotta', 904), ('worth', 905), ('clicked', 906), ('everything', 907), ('went', 908), ('uphill', 909), (\"jb's\", 910), ('❤️❤️❤️❤️\\ufeff', 911), ('ahhh', 912), ('reverbnation', 913), ('msmarilynmiles\\ufeff', 914), ('starlitnightsky', 915), ('videos\\ufeff', 916), ('kodysman', 917), ('doesnt', 918), ('visits', 919), ('thousands', 920), ('millions\\ufeff', 921), ('gcmforex', 922), ('partners', 923), ('aw', 924), ('joint2', 925), ('affiliateid', 926), ('9107\\ufeff', 927), ('men', 928), ('allot', 929), ('effort', 930), ('into', 931), ('unfortunatly', 932), ('www10', 933), ('vakinha', 934), ('br', 935), ('vaquinhae', 936), ('313327', 937), ('vip', 938), ('cross', 939), ('fire', 940), ('al\\ufeff', 941), ('tlouxmusic\\ufeff', 942), ('singing', 943), ('covers\\ufeff', 944), ('place', 945), ('promote', 946), ('channels', 947), ('pal', 948), ('pivot', 949), ('animations', 950), ('ig', 951), ('killuminati94\\ufeff', 952), ('sunfrogshirts', 953), ('sunglass', 954), ('html', 955), ('24398\\ufeff', 956), ('teelalala\\ufeff', 957), ('zxlightsoutxz\\ufeff', 958), ('reminds', 959), ('popaegis', 960), ('wrenn', 961), ('almond', 962), ('eyes\\ufeff', 963), ('swagbucks', 964), ('rb', 965), ('13017194\\ufeff', 966), ('search', 967), ('chubbz', 968), ('dinero', 969), ('mscalifornia95\\ufeff', 970), ('😫😓😏😪😔😖😌😭😎😚😘😙😗😋😝😜😛😍😒😞😷😶😵😳😲😱😟😰😩😨😧😦😥😤😣😮😴😢😡😠😬😕😑😐😯😉😈😇😆😅😄😃😂😁😀😊☺', 971), ('single', 972), ('types', 973), ('earth\\ufeff', 974), ('▬▬▬▬▬▬▬▬▬▬ஜ۩۞۩ஜ▬▬▬▬▬▬▬▬', 975), ('ｄａｍｎ', 976), ('ｔｈｉｓ', 977), ('ｃｏｍｍｅｎｔ', 978), ('ｉｓ', 979), ('ｆａｎｃy', 980), ('▬▬▬▬▬▬▬▬▬▬ஜ۩۞۩ஜ▬▬▬▬▬▬▬▬\\ufeff', 981), (\"'static'\", 982), ('incmedia', 983), ('truth', 984), ('meets', 985), ('pe', 986), ('lets', 987), ('found', 988), ('now\\ufeff', 989), ('bubblews', 990), ('9277547', 991), ('peace', 992), ('brotherhood\\ufeff', 993), ('wouldnt', 994), ('chacking', 995), ('il', 996), ('giver', 997), ('like\\ufeff', 998), ('gp', 999), ('offer', 1000), ('listing', 1001), ('b00ecvf93g', 1002), ('olp', 1003), ('tab', 1004), ('ie', 1005), ('utf8', 1006), ('condition', 1007), ('psy’s', 1008), ('“gangnam', 1009), ('style”', 1010), ('flipagram', 1011), ('f', 1012), ('luka1qmrhf\\ufeff', 1013), ('gvr7xg\\ufeff', 1014), ('censor', 1015), ('julien', 1016), ('blanc', 1017), ('jackal', 1018), ('james', 1019), ('wrap', 1020), ('night\\ufeff', 1021), ('surveymonkey', 1022), ('s', 1023), ('cvhmklt\\ufeff', 1024), (\"won't\", 1025), ('disappointed', 1026), ('viral', 1027), ('true\\ufeff', 1028), ('vidios\\ufeff', 1029), ('700', 1030), ('bots', 1031), ('bs', 1032), ('awesomeness', 1033), ('aaaaaaa', 1034), ('lada😂\\ufeff', 1035), ('world\\ufeff', 1036), ('shit\\ufeff', 1037), ('dear', 1038), ('loving', 1039), ('day\\ufeff', 1040), ('v3veygin\\ufeff', 1041), ('tried', 1042), ('special', 1043), (\"to'll\", 1044), ('registr', 1045), ('life\\ufeff', 1046), ('yellow', 1047), ('suit', 1048), ('kinda', 1049), ('looks', 1050), ('jae', 1051), ('suk', 1052), ('difference', 1053), ('commenting', 1054), ('liking', 1055), ('waste', 1056), ('being', 1057), ('everyday', 1058), ('slema13', 1059), ('wellcome', 1060), ('theres', 1061), ('accounts', 1062), ('1111\\ufeff', 1063), ('wat', 1064), ('da', 1065), ('this\\ufeff', 1066), ('tareko100', 1067), ('enter', 1068), ('keyword', 1069), ('5800', 1070), ('winning', 1071), ('csgo', 1072), ('sell', 1073), ('steam', 1074), ('market\\ufeff', 1075), ('492', 1076), ('636', 1077), ('aseris', 1078), ('fantastic', 1079), ('billion\\ufeff', 1080), ('521', 1081), ('750', 1082), ('23', 1083), ('min', 1084), ('ago\\ufeff', 1085), ('repass', 1086), ('4shared', 1087), ('preview', 1088), ('pdf', 1089), ('cjfoftxeba', 1090), ('liked', 1091), ('later', 1092), ('kind', 1093), ('making', 1094), ('launchpad', 1095), (\"video's\", 1096), ('subs', 1097), ('spot', 1098), ('easily', 1099), ('bother', 1100), ('dunno', 1101), ('joke', 1102), ('r', 1103), ('y', 1104), ('k', 1105), ('n', 1106), ('g', 1107), ('gangman', 1108), ('drop', 1109), ('bass', 1110), ('rapper', 1111), ('songwriter', 1112), ('29', 1113), ('24', 1114), ('elevator', 1115), ('excuse', 1116), ('prehistoric', 1117), ('been\\ufeff', 1118), ('headbutt', 1119), ('ex', 1120), ('enimen', 1121), ('loool', 1122), ('understands', 1123), ('♡\\ufeff', 1124), (\"''little\", 1125), ('instagram', 1126), ('chris', 1127), ('cz', 1128), ('relevant', 1129), ('old\\ufeff', 1130), ('completely', 1131), ('job', 1132), ('02', 1133), ('camera', 1134), ('man', 1135), ('glasses', 1136), ('wrong\\ufeff', 1137), ('singer', 1138), ('koean', 1139), ('chainise', 1140), ('ana', 1141), ('05', 1142), ('hahahahah', 1143), ('equals', 1144), ('smartie', 1145), ('pants\\ufeff', 1146), ('point', 1147), ('listening', 1148), ('stfu', 1149), ('2009', 1150), ('america', 1151), ('jap', 1152), ('worthless', 1153), ('fish', 1154), ('untanlted', 1155), ('gook', 1156), ('isnt', 1157), ('fucken', 1158), ('fucked', 1159), ('remember', 1160), ('obsessed', 1161), ('😗\\ufeff', 1162), ('remove', 1163), ('wank\\ufeff', 1164), ('ithat', 1165), ('actor', 1166), ('hwang', 1167), ('minoo', 1168), ('month', 1169), ('believe', 1170), ('future', 1171), ('superstar', 1172), ('stronglittlepsy', 1173), ('fighting', 1174), ('ygunited', 1175), ('11', 1176), ('08', 1177), ('keeps', 1178), ('updated', 1179), ('minutes', 1180), ('279', 1181), ('898', 1182), ('users', 1183), ('fake', 1184), ('account', 1185), ('youtube\\ufeff', 1186), ('saw', 1187), ('yeat', 1188), ('words', 1189), ('hole', 1190), ('voyage', 1191), ('😢\\ufeff', 1192), ('problem', 1193), ('phenomena', 1194), ('behind', 1195), ('random', 1196), ('slut', 1197), ('bitch', 1198), ('hyuna', 1199), (\"'33\\ufeff\", 1200), ('kollektivet', 1201), (\"slappin'\", 1202), ('penis', 1203), ('credit', 1204), ('receive', 1205), ('fun', 1206), ('post', 1207), ('reviews', 1208), ('flute', 1209), ('dealing', 1210), ('theories', 1211), (\"could've\", 1212), ('gotten', 1213), ('realy', 1214), ('access', 1215), ('internet', 1216), ('including', 1217), ('numbers', 1218), ('rising', 1219), ('2017', 1220), ('populatoin', 1221), ('connected', 1222), ('hackers', 1223), ('may', 1224), ('rised', 1225), ('featured', 1226), ('mp3s', 1227), ('seen', 1228), ('concerts', 1229), ('eve', 1230), ('event', 1231), ('2012', 1232), ('seeing', 1233), ('adding', 1234), ('complaining', 1235), ('heck', 1236), ('2b', 1237), ('chanel\\ufeff', 1238), ('queen', 1239), ('omg\\ufeff', 1240), ('pause', 1241), ('39', 1242), ('millisecond', 1243), ('chick', 1244), ('few', 1245), ('tries', 1246), ('year', 1247), ('olds', 1248), (\"'how\", 1249), (\"world'\\ufeff\", 1250), ('guy\\ufeff', 1251), ('annoying\\ufeff', 1252), ('mathster', 1253), ('wp', 1254), ('1495323920744243', 1255), ('hl\\ufeff', 1256), ('millioon', 1257), ('dislikesssssssssssssssssssssssssssssssss', 1258), ('lucks', 1259), ('kidz', 1260), ('billon', 1261), ('millon', 1262), ('facts', 1263), ('humanity', 1264), ('is\\ufeff', 1265), ('called', 1266), ('odowd', 1267), ('crowd', 1268), ('movie', 1269), ('translate', 1270), ('second', 1271), ('comes', 1272), ('smh', 1273), ('to\\ufeff', 1274), ('tsū', 1275), ('publishing', 1276), ('platform', 1277), ('markusmairhofer\\ufeff', 1278), ('315', 1279), ('950', 1280), ('daaaaaaaaaaannng', 1281), ('dominate', 1282), ('322', 1283), ('484', 1284), ('officialpsy', 1285), ('fail', 1286), ('fanboys', 1287), ('knew', 1288), ('funnier', 1289), ('bit', 1290), ('end', 1291), ('spoken', 1292), ('rapidly', 1293), ('enough', 1294), ('two', 1295), ('summon', 1296), ('freddy', 1297), (\"mercury's\", 1298), ('ghost', 1299), ('whipe', 1300), ('direction', 1301), ('miley', 1302), ('cirus', 1303), ('round', 1304), ('public', 1305), ('pouring', 1306), ('bucket', 1307), ('ice', 1308), ('water', 1309), ('running', 1310), ('acting', 1311), (\"wasn't\", 1312), ('shares\\ufeff', 1313), ('dylan', 1314), ('irl', 1315), ('1030', 1316), ('300', 1317), ('tomorrow', 1318), ('hunger', 1319), ('follower', 1320), ('lists', 1321), ('161620527267482\\ufeff', 1322), ('beibs', 1323), (\"doesn't\", 1324), ('capitalized', 1325), ('name\\ufeff', 1326), ('tazz', 1327), ('friend\\ufeff', 1328), ('bottom', 1329), ('heart', 1330), ('19', 1331), ('9082175\\ufeff', 1332), ('schoolgeniusnits', 1333), ('ms', 1334), ('ejw9kvkoxdamqm808h5z', 1335), ('4snjqp', 1336), ('thqbeum69aqup1ih', 1337), ('fphgk5zllsvdqv0zuf0mb', 1338), ('lnuj', 1339), ('ufth4yokfrxyts2zvrrp6qgtw67y', 1340), ('l551h', 1341), ('f7', 1342), ('vlczzrg8vgctlpsd9ongewhj8', 1343), ('gibu', 1344), ('s3lzmvy', 1345), ('iq2', 1346), ('twsfzz9whn7jusvhufpglqrzczl05fnphagevb3x8ydmc6x', 1347), ('jtcjnmho', 1348), ('vfxwcjzyvwobihrngx2ocjng2pg1evhxzyjd', 1349), ('o3h', 1350), ('ry6f57sprnd2xv', 1351), ('bzszz', 1352), ('bps', 1353), ('390875584405933', 1354), ('391725794320912', 1355), ('sucscribe', 1356), ('vaahidmustafic', 1357), ('4436607', 1358), ('offıcal', 1359), ('nicushorbboy', 1360), ('mee', 1361), ('sorry', 1362), ('jenny', 1363), ('high', 1364), ('dresses', 1365), ('fashionable', 1366), ('cute', 1367), ('low', 1368), ('esteem', 1369), ('dad', 1370), ('passed', 1371), ('mother', 1372), ('figure', 1373), ('brothers', 1374), ('older', 1375), ('since', 1376), ('boys', 1377), ('attention', 1378), ('wear', 1379), ('boyfriend', 1380), (\"can't\", 1381), ('shy', 1382), ('confidence', 1383), ('talk', 1384), ('someone', 1385), ('caroline', 1386), ('moved', 1387), ('donate', 1388), ('brand', 1389), ('shop', 1390), ('walmart', 1391), ('wanna', 1392), ('nails', 1393), ('alot', 1394), ('french', 1395), ('tips', 1396), ('nail', 1397), ('hair', 1398), ('curled', 1399), ('dressprettyonce', 1400), ('throw', 1401), ('fly', 1402), ('burned', 1403), ('alive\\ufeff', 1404), ('chhanel', 1405), ('daily', 1406), ('hav', 1407), ('idea', 1408), (\"he's\", 1409), ('language', 1410), ('vidios', 1411), ('wonder', 1412), ('illuminati', 1413), ('confirmed', 1414), ('craft', 1415), ('shoot', 1416), ('20', 1417), ('count\\ufeff', 1418), ('lordviperas\\ufeff', 1419), ('shitty', 1420), ('government', 1421), (\"didn't\", 1422), ('block', 1423), (\"there'd\", 1424), ('close', 1425), ('record', 1426), ('drunk', 1427), ('during', 1428), ('limit', 1429), ('sun', 1430), ('exposure', 1431), ('driving', 1432), ('eliminate', 1433), ('hassle', 1434), ('swing', 1435), ('car', 1436), ('visor', 1437), ('between', 1438), ('windshield', 1439), ('window', 1440), ('kickstarter', 1441), ('733634264', 1442), ('visortwin\\ufeff', 1443), ('hahah', 1444), ('juyk', 1445), ('allways', 1446), ('57', 1447), ('5242575\\ufeff', 1448), ('dances', 1449), ('00', 1450), ('58', 1451), ('fudairyqueen', 1452), ('pnref', 1453), ('story\\ufeff', 1454), ('haha', 1455), ('westerners', 1456), ('goes', 1457), ('thewaxedhatco\\ufeff', 1458), ('imagine', 1459), ('adsense', 1460), ('morgage\\ufeff', 1461), ('let', 1462), ('forget', 1463), ('train', 1464), ('outfit', 1465), ('huge', 1466), ('turn', 1467), ('off', 1468), ('lacked', 1469), ('eyebrows', 1470), ('difficult', 1471), ('1340524', 1472), ('1340523', 1473), ('1340522', 1474), ('1340521', 1475), ('1340520', 1476), ('1340519', 1477), ('1340518', 1478), ('1340517', 1479), ('1340504', 1480), ('1340503', 1481), ('1340502', 1482), ('1340500', 1483), ('1340499', 1484), ('1340494', 1485), ('1340493', 1486), ('1340492', 1487), ('1340491', 1488), ('1340490', 1489), ('1340489', 1490), ('1340488', 1491), ('entertaining', 1492), ('shotgun', 1493), ('ninja', 1494), ('defuse', 1495), ('trolling', 1496), ('certain', 1497), ('amount', 1498), ('tofikmiedzynb', 1499), ('1496273723978022', 1500), ('1073741828', 1501), ('1496241863981208', 1502), ('1498561870415874', 1503), ('eeccon', 1504), ('733949243353321', 1505), ('734237113324534', 1506), ('offset', 1507), ('total', 1508), ('74', 1509), ('frigea', 1510), ('marius', 1511), ('gabriel', 1512), ('explore', 1513), ('publ', 1514), ('referafriend', 1515), ('crea', 1516), ('rrid', 1517), ('0f9fa8aa', 1518), ('243a', 1519), ('5c2f', 1520), ('c349', 1521), ('ede05ea397ca', 1522), ('cant', 1523), ('virus', 1524), ('blue', 1525), ('4th', 1526), ('sold', 1527), ('treechristmas\\ufeff', 1528), ('1m', 1529), ('crdits', 1530), ('app', 1531), ('·', 1532), ('freemyapps', 1533), ('url', 1534), ('5af506e1\\ufeff', 1535), ('smh\\ufeff', 1536), ('something', 1537), ('everyones', 1538), ('lool', 1539), ('hear', 1540), ('call', 1541), ('duty', 1542), ('aways', 1543), ('editor', 1544), ('store', 1545), ('details', 1546), ('butalabs', 1547), ('editor\\ufeff', 1548), ('thought', 1549)])\n",
            "Размер словаря: 1549\n"
          ]
        }
      ]
    },
    {
      "cell_type": "code",
      "metadata": {
        "colab": {
          "base_uri": "https://localhost:8080/"
        },
        "id": "4B_mySowGVAR",
        "outputId": "01a3028b-3ddb-401e-c7fb-70b9695d1913"
      },
      "source": [
        "# Преобразовываем категории в векторы. Вызываем метод кодирования тестовых лейблов из библиотеки skylearn\n",
        "encoder = LabelEncoder()\n",
        "#Подгружаем в него категории из нашей базы\n",
        "encoder.fit(classes)\n",
        "#Кодируем категории\n",
        "classesEncoded = encoder.transform(classes)\n",
        "\n",
        "print(encoder.classes_)\n",
        "print(classesEncoded.shape)\n",
        "print(classesEncoded[:10])"
      ],
      "execution_count": null,
      "outputs": [
        {
          "output_type": "stream",
          "name": "stdout",
          "text": [
            "[False  True]\n",
            "(350,)\n",
            "[1 1 1 1 1 1 1 0 1 1]\n"
          ]
        }
      ]
    },
    {
      "cell_type": "code",
      "metadata": {
        "colab": {
          "base_uri": "https://localhost:8080/"
        },
        "id": "LEmwsJDUGVAR",
        "outputId": "6d3c15a9-f2b8-455c-edac-9edc89102879"
      },
      "source": [
        "# Выводим каждый лейбл в виде вектора длиной 2 с 1кой в позиции соответствующего класса. Можно было бы просто обозначить 0 = True, 1=False. \n",
        "yAll = utils.to_categorical(classesEncoded, nClasses)\n",
        "print(yAll.shape)\n",
        "print(yAll[0])"
      ],
      "execution_count": null,
      "outputs": [
        {
          "output_type": "stream",
          "name": "stdout",
          "text": [
            "(350, 2)\n",
            "[0. 1.]\n"
          ]
        }
      ]
    },
    {
      "cell_type": "code",
      "metadata": {
        "colab": {
          "base_uri": "https://localhost:8080/"
        },
        "id": "zAUXZ8r7GVAR",
        "outputId": "add504b0-b5d9-405c-dd54-b21d7d9c5242"
      },
      "source": [
        "# Разбиваем все данные на обучающую и тестовую выборки с использованием метода train_test_split\n",
        "xTrain, xVal, yTrain, yVal = train_test_split(xAll, yAll, test_size = 0.2, shuffle = True)\n",
        "print(xTrain.shape)\n",
        "print(yTrain.shape)\n",
        "print(xVal.shape)\n",
        "print(yVal.shape)\n"
      ],
      "execution_count": null,
      "outputs": [
        {
          "output_type": "stream",
          "name": "stdout",
          "text": [
            "(280, 5000)\n",
            "(280, 2)\n",
            "(70, 5000)\n",
            "(70, 2)\n"
          ]
        }
      ]
    },
    {
      "cell_type": "code",
      "metadata": {
        "colab": {
          "base_uri": "https://localhost:8080/",
          "height": 990
        },
        "id": "QRHheTGlGVAS",
        "outputId": "54037959-30de-4b24-ff94-bad9dbe3fec9"
      },
      "source": [
        "#Создаём полносвязную сеть\n",
        "model02 = Sequential()\n",
        "#Входной полносвязный слой\n",
        "model02.add(Dense(32, input_dim=maxWordsCount, activation=\"linear\"))\n",
        "#Слой регуляризации Dropout\n",
        "model02.add(Dropout(0.2))\n",
        "#Второй полносвязный слой\n",
        "model02.add(Dense(32, activation='linear'))\n",
        "#Слой регуляризации Dropout\n",
        "model02.add(Dropout(0.2))\n",
        "# #Третий полносвязный слой\n",
        "# model01.add(Dense(100, activation='relu'))\n",
        "# #Слой регуляризации Dropout\n",
        "# model01.add(Dropout(0.4))\n",
        "# #Выходной полносвязный слой\n",
        "model02.add(Dense(nClasses, activation='softmax'))\n",
        "\n",
        "\n",
        "model02.compile(optimizer='adam', \n",
        "              loss='categorical_crossentropy', \n",
        "              metrics=['accuracy'])\n",
        "\n",
        "#Обучаем сеть на выборке\n",
        "history = model02.fit(xTrain, \n",
        "                    yTrain, \n",
        "                    epochs=20,\n",
        "                    batch_size=128,\n",
        "                    validation_data=(xVal, yVal))\n",
        "\n",
        "plt.plot(history.history['accuracy'], \n",
        "         label='Доля верных ответов на обучающем наборе')\n",
        "plt.plot(history.history['val_accuracy'], \n",
        "         label='Доля верных ответов на проверочном наборе')\n",
        "plt.xlabel('Эпоха обучения')\n",
        "plt.ylabel('Доля верных ответов')\n",
        "plt.legend()\n",
        "plt.show()"
      ],
      "execution_count": null,
      "outputs": [
        {
          "output_type": "stream",
          "name": "stdout",
          "text": [
            "Epoch 1/20\n",
            "3/3 [==============================] - 1s 83ms/step - loss: 0.7012 - accuracy: 0.5250 - val_loss: 0.6682 - val_accuracy: 0.6286\n",
            "Epoch 2/20\n",
            "3/3 [==============================] - 0s 19ms/step - loss: 0.6362 - accuracy: 0.7464 - val_loss: 0.6339 - val_accuracy: 0.8571\n",
            "Epoch 3/20\n",
            "3/3 [==============================] - 0s 16ms/step - loss: 0.5864 - accuracy: 0.8786 - val_loss: 0.5961 - val_accuracy: 0.8857\n",
            "Epoch 4/20\n",
            "3/3 [==============================] - 0s 15ms/step - loss: 0.5217 - accuracy: 0.9357 - val_loss: 0.5556 - val_accuracy: 0.9286\n",
            "Epoch 5/20\n",
            "3/3 [==============================] - 0s 17ms/step - loss: 0.4637 - accuracy: 0.9929 - val_loss: 0.5132 - val_accuracy: 0.9571\n",
            "Epoch 6/20\n",
            "3/3 [==============================] - 0s 16ms/step - loss: 0.4059 - accuracy: 0.9893 - val_loss: 0.4690 - val_accuracy: 0.9714\n",
            "Epoch 7/20\n",
            "3/3 [==============================] - 0s 18ms/step - loss: 0.3531 - accuracy: 0.9857 - val_loss: 0.4245 - val_accuracy: 0.9857\n",
            "Epoch 8/20\n",
            "3/3 [==============================] - 0s 17ms/step - loss: 0.2994 - accuracy: 0.9964 - val_loss: 0.3810 - val_accuracy: 0.9857\n",
            "Epoch 9/20\n",
            "3/3 [==============================] - 0s 17ms/step - loss: 0.2536 - accuracy: 0.9964 - val_loss: 0.3402 - val_accuracy: 0.9857\n",
            "Epoch 10/20\n",
            "3/3 [==============================] - 0s 19ms/step - loss: 0.2113 - accuracy: 0.9964 - val_loss: 0.3036 - val_accuracy: 0.9857\n",
            "Epoch 11/20\n",
            "3/3 [==============================] - 0s 24ms/step - loss: 0.1762 - accuracy: 1.0000 - val_loss: 0.2714 - val_accuracy: 1.0000\n",
            "Epoch 12/20\n",
            "3/3 [==============================] - 0s 16ms/step - loss: 0.1467 - accuracy: 0.9929 - val_loss: 0.2434 - val_accuracy: 1.0000\n",
            "Epoch 13/20\n",
            "3/3 [==============================] - 0s 18ms/step - loss: 0.1220 - accuracy: 0.9964 - val_loss: 0.2194 - val_accuracy: 1.0000\n",
            "Epoch 14/20\n",
            "3/3 [==============================] - 0s 20ms/step - loss: 0.1019 - accuracy: 1.0000 - val_loss: 0.1990 - val_accuracy: 1.0000\n",
            "Epoch 15/20\n",
            "3/3 [==============================] - 0s 18ms/step - loss: 0.0860 - accuracy: 1.0000 - val_loss: 0.1818 - val_accuracy: 1.0000\n",
            "Epoch 16/20\n",
            "3/3 [==============================] - 0s 24ms/step - loss: 0.0684 - accuracy: 1.0000 - val_loss: 0.1673 - val_accuracy: 1.0000\n",
            "Epoch 17/20\n",
            "3/3 [==============================] - 0s 16ms/step - loss: 0.0612 - accuracy: 1.0000 - val_loss: 0.1548 - val_accuracy: 1.0000\n",
            "Epoch 18/20\n",
            "3/3 [==============================] - 0s 16ms/step - loss: 0.0500 - accuracy: 1.0000 - val_loss: 0.1440 - val_accuracy: 1.0000\n",
            "Epoch 19/20\n",
            "3/3 [==============================] - 0s 16ms/step - loss: 0.0449 - accuracy: 1.0000 - val_loss: 0.1348 - val_accuracy: 1.0000\n",
            "Epoch 20/20\n",
            "3/3 [==============================] - 0s 16ms/step - loss: 0.0390 - accuracy: 1.0000 - val_loss: 0.1271 - val_accuracy: 1.0000\n"
          ]
        },
        {
          "output_type": "display_data",
          "data": {
            "image/png": "[encoded data removed]",
            "text/plain": [
              "<Figure size 432x288 with 1 Axes>"
            ]
          },
          "metadata": {
            "needs_background": "light"
          }
        }
      ]
    },
    {
      "cell_type": "code",
      "metadata": {
        "id": "GMMyeB5rG1F1"
      },
      "source": [
        "model02.save('100.h5')\n"
      ],
      "execution_count": null,
      "outputs": []
    },
    {
      "cell_type": "code",
      "metadata": {
        "id": "e0lv8mIWXwjr"
      },
      "source": [
        "model02.save_weights('100_w.h5')"
      ],
      "execution_count": null,
      "outputs": []
    },
    {
      "cell_type": "code",
      "metadata": {
        "id": "lO99GoQzHoAO"
      },
      "source": [
        "from tensorflow.keras.models import load_model\n",
        " \n",
        "model02 = load_model('100.h5')"
      ],
      "execution_count": null,
      "outputs": []
    },
    {
      "cell_type": "code",
      "metadata": {
        "colab": {
          "base_uri": "https://localhost:8080/",
          "height": 355
        },
        "id": "IdGiVpsTGIgG",
        "outputId": "48c5cc1f-b5e3-43d8-853d-ad54cd655fd9"
      },
      "source": [
        "data = df[['content','class']]\n",
        "data = data.sample(10)\n",
        "data\n",
        "\n",
        "# DataFrame.sample(n=None, frac=None, replace=False, weights=None, random_state=None, axis=None, ignore_index=False)"
      ],
      "execution_count": null,
      "outputs": [
        {
          "output_type": "execute_result",
          "data": {
            "text/html": [
              "<div>\n",
              "<style scoped>\n",
              "    .dataframe tbody tr th:only-of-type {\n",
              "        vertical-align: middle;\n",
              "    }\n",
              "\n",
              "    .dataframe tbody tr th {\n",
              "        vertical-align: top;\n",
              "    }\n",
              "\n",
              "    .dataframe thead th {\n",
              "        text-align: right;\n",
              "    }\n",
              "</style>\n",
              "<table border=\"1\" class=\"dataframe\">\n",
              "  <thead>\n",
              "    <tr style=\"text-align: right;\">\n",
              "      <th></th>\n",
              "      <th>content</th>\n",
              "      <th>class</th>\n",
              "    </tr>\n",
              "  </thead>\n",
              "  <tbody>\n",
              "    <tr>\n",
              "      <th>137</th>\n",
              "      <td>check out \"starlitnightsky\" channel to see epi...</td>\n",
              "      <td>True</td>\n",
              "    </tr>\n",
              "    <tr>\n",
              "      <th>194</th>\n",
              "      <td>WAT DA FUCK THIS THE MOST VIEWED VIDEO IN YOUT...</td>\n",
              "      <td>False</td>\n",
              "    </tr>\n",
              "    <tr>\n",
              "      <th>132</th>\n",
              "      <td>Justin bieber = gay ﻿</td>\n",
              "      <td>False</td>\n",
              "    </tr>\n",
              "    <tr>\n",
              "      <th>138</th>\n",
              "      <td>https://www.tsu.co/KodysMan plz ^^﻿</td>\n",
              "      <td>True</td>\n",
              "    </tr>\n",
              "    <tr>\n",
              "      <th>140</th>\n",
              "      <td>http://www.gcmforex.com/partners/aw.aspx?Task=...</td>\n",
              "      <td>True</td>\n",
              "    </tr>\n",
              "    <tr>\n",
              "      <th>178</th>\n",
              "      <td>Please give us a chance and check out the new ...</td>\n",
              "      <td>True</td>\n",
              "    </tr>\n",
              "    <tr>\n",
              "      <th>190</th>\n",
              "      <td>Have you tried a new social network TSU? This ...</td>\n",
              "      <td>True</td>\n",
              "    </tr>\n",
              "    <tr>\n",
              "      <th>25</th>\n",
              "      <td>marketglory . com/strategygame/andrijamatf ear...</td>\n",
              "      <td>True</td>\n",
              "    </tr>\n",
              "    <tr>\n",
              "      <th>160</th>\n",
              "      <td>CHECK MY CHANNEL FOR MY NEW SONG 'STATIC'!! YO...</td>\n",
              "      <td>True</td>\n",
              "    </tr>\n",
              "    <tr>\n",
              "      <th>243</th>\n",
              "      <td>why I dont see any comments but mine?:/﻿</td>\n",
              "      <td>False</td>\n",
              "    </tr>\n",
              "  </tbody>\n",
              "</table>\n",
              "</div>"
            ],
            "text/plain": [
              "                                               content  class\n",
              "137  check out \"starlitnightsky\" channel to see epi...   True\n",
              "194  WAT DA FUCK THIS THE MOST VIEWED VIDEO IN YOUT...  False\n",
              "132                              Justin bieber = gay ﻿  False\n",
              "138                https://www.tsu.co/KodysMan plz ^^﻿   True\n",
              "140  http://www.gcmforex.com/partners/aw.aspx?Task=...   True\n",
              "178  Please give us a chance and check out the new ...   True\n",
              "190  Have you tried a new social network TSU? This ...   True\n",
              "25   marketglory . com/strategygame/andrijamatf ear...   True\n",
              "160  CHECK MY CHANNEL FOR MY NEW SONG 'STATIC'!! YO...   True\n",
              "243           why I dont see any comments but mine?:/﻿  False"
            ]
          },
          "metadata": {},
          "execution_count": 318
        }
      ]
    },
    {
      "cell_type": "code",
      "metadata": {
        "colab": {
          "base_uri": "https://localhost:8080/"
        },
        "id": "6Z35iVlVGIgV",
        "outputId": "4cfdb2cb-ed4b-4497-df1a-48d2de6985b0"
      },
      "source": [
        "testTexts = []\n",
        "for text in data['content']:\n",
        "  testTexts.append(text)\n",
        "print(testTexts)\n"
      ],
      "execution_count": null,
      "outputs": [
        {
          "output_type": "stream",
          "name": "stdout",
          "text": [
            "['check out \"starlitnightsky\" channel to see epic videos\\ufeff', 'WAT DA FUCK THIS THE MOST VIEWED VIDEO IN YOUTUBE!\\ufeff', 'Justin bieber = gay \\ufeff', 'https://www.tsu.co/KodysMan plz ^^\\ufeff', 'http://www.gcmforex.com/partners/aw.aspx?Task=JoinT2&amp;AffiliateID=9107\\ufeff', \"Please give us a chance and check out the new music video on our channel!  You won't be disappointed.\\ufeff\", \"Have you tried a new social network TSU? This new social network has a  special thing.You can share the posts as well as on fb and twitter and even  to'll get paid You can registr here:  https://www.tsu.co/WORLDWIDE_LIFE\\ufeff\", 'marketglory . com/strategygame/andrijamatf earn real money from game', \"CHECK MY CHANNEL FOR MY NEW SONG 'STATIC'!! YOU'LL LOVE IT!!\\ufeff\", 'why I dont see any comments but mine?:/\\ufeff']\n"
          ]
        }
      ]
    },
    {
      "cell_type": "code",
      "metadata": {
        "colab": {
          "base_uri": "https://localhost:8080/"
        },
        "id": "DvdndRI8GIgW",
        "outputId": "108f7b0f-5f9a-4d5b-9b28-3147f5b5e22f"
      },
      "source": [
        "for testText in testTexts:  \n",
        "  testWordIndexes = tokenizer.texts_to_sequences(testText) #Обучающие тексты в индексы\n",
        "  testWordIndexes = pad_sequences(testWordIndexes,maxlen=15)\n",
        "  testWordIndexes02 = tokenizer.sequences_to_matrix(testWordIndexes.tolist())\n",
        "  out = model02.predict([testWordIndexes02])\n",
        "  if np.argmax(out[0]) == 1:\n",
        "    print (testText  , 'Категория сообщения определенная нейронкой \"НЕ СПАМ\"',sep='\\n')\n",
        "    print('***')\n",
        "  else:\n",
        "    print (testText  , 'Категория сообщения определенная нейронкой \"СПАМ\"',sep='\\n')\n",
        "    print('***')\n"
      ],
      "execution_count": null,
      "outputs": [
        {
          "output_type": "stream",
          "name": "stdout",
          "text": [
            "check out \"starlitnightsky\" channel to see epic videos﻿\n",
            "Категория сообщения определенная нейронкой \"СПАМ\"\n",
            "***\n",
            "WAT DA FUCK THIS THE MOST VIEWED VIDEO IN YOUTUBE!﻿\n",
            "Категория сообщения определенная нейронкой \"СПАМ\"\n",
            "***\n",
            "Justin bieber = gay ﻿\n",
            "Категория сообщения определенная нейронкой \"СПАМ\"\n",
            "***\n",
            "https://www.tsu.co/KodysMan plz ^^﻿\n",
            "Категория сообщения определенная нейронкой \"СПАМ\"\n",
            "***\n",
            "http://www.gcmforex.com/partners/aw.aspx?Task=JoinT2&amp;AffiliateID=9107﻿\n",
            "Категория сообщения определенная нейронкой \"СПАМ\"\n",
            "***\n",
            "Please give us a chance and check out the new music video on our channel!  You won't be disappointed.﻿\n",
            "Категория сообщения определенная нейронкой \"СПАМ\"\n",
            "***\n",
            "Have you tried a new social network TSU? This new social network has a  special thing.You can share the posts as well as on fb and twitter and even  to'll get paid You can registr here:  https://www.tsu.co/WORLDWIDE_LIFE﻿\n",
            "Категория сообщения определенная нейронкой \"СПАМ\"\n",
            "***\n",
            "marketglory . com/strategygame/andrijamatf earn real money from game\n",
            "Категория сообщения определенная нейронкой \"СПАМ\"\n",
            "***\n",
            "CHECK MY CHANNEL FOR MY NEW SONG 'STATIC'!! YOU'LL LOVE IT!!﻿\n",
            "Категория сообщения определенная нейронкой \"СПАМ\"\n",
            "***\n",
            "why I dont see any comments but mine?:/﻿\n",
            "Категория сообщения определенная нейронкой \"СПАМ\"\n",
            "***\n"
          ]
        }
      ]
    },
    {
      "cell_type": "markdown",
      "metadata": {
        "id": "yP-Z2irSJYlK"
      },
      "source": [
        ""
      ]
    },
    {
      "cell_type": "markdown",
      "metadata": {
        "id": "xWJIfeUKJewD"
      },
      "source": [
        "# Выводы. "
      ]
    },
    {
      "cell_type": "markdown",
      "metadata": {
        "id": "jiQYbnawJyB4"
      },
      "source": [
        "Я отметила , что база очень маленькая, нейронка запомнила данные, буду благодарна за рекомендации. Повышала Dropout, экспериментировала с maxWordCount, слоями и количеством нейронов - не помогло."
      ]
    }
  ]
}