{
  "nbformat": 4,
  "nbformat_minor": 0,
  "metadata": {
    "colab": {
      "name": "29. Ultra light. Нейронные сети для обработки аудио. Параметризация аудио (Университет искусственного интеллекта).ipynb",
      "provenance": [],
      "authorship_tag": "ABX9TyMwsXjYYEZywv0hBKpKpn71",
      "include_colab_link": true
    },
    "kernelspec": {
      "name": "python3",
      "display_name": "Python 3"
    },
    "language_info": {
      "name": "python"
    }
  },
  "cells": [
    {
      "cell_type": "markdown",
      "metadata": {
        "id": "view-in-github",
        "colab_type": "text"
      },
      "source": [
        "<a href=\"https://colab.research.google.com/github/10100111/Display-of-HW1/blob/main/29_Ultra_light_%D0%9D%D0%B5%D0%B9%D1%80%D0%BE%D0%BD%D0%BD%D1%8B%D0%B5_%D1%81%D0%B5%D1%82%D0%B8_%D0%B4%D0%BB%D1%8F_%D0%BE%D0%B1%D1%80%D0%B0%D0%B1%D0%BE%D1%82%D0%BA%D0%B8_%D0%B0%D1%83%D0%B4%D0%B8%D0%BE_%D0%9F%D0%B0%D1%80%D0%B0%D0%BC%D0%B5%D1%82%D1%80%D0%B8%D0%B7%D0%B0%D1%86%D0%B8%D1%8F_%D0%B0%D1%83%D0%B4%D0%B8%D0%BE_(%D0%A3%D0%BD%D0%B8%D0%B2%D0%B5%D1%80%D1%81%D0%B8%D1%82%D0%B5%D1%82_%D0%B8%D1%81%D0%BA%D1%83%D1%81%D1%81%D1%82%D0%B2%D0%B5%D0%BD%D0%BD%D0%BE%D0%B3%D0%BE_%D0%B8%D0%BD%D1%82%D0%B5%D0%BB%D0%BB%D0%B5%D0%BA%D1%82%D0%B0).ipynb\" target=\"_parent\"><img src=\"https://colab.research.google.com/assets/colab-badge.svg\" alt=\"Open In Colab\"/></a>"
      ]
    },
    {
      "cell_type": "markdown",
      "source": [
        "Задание Ultra Lite\n",
        "\n",
        "Макс 10 баллов\n",
        "\n",
        "Используя шаблон ноутбука, напишите загрузку данных и распознавание стилей музыки с помощью Dense сети. \n",
        "\n",
        "Можно подсматривать в исходный ноутбук с занятия, но желательно писать код своими руками"
      ],
      "metadata": {
        "id": "xY2oVGfNgka4"
      }
    },
    {
      "cell_type": "code",
      "source": [
        "import librosa # Для параметризации аудио\n",
        "import librosa.display # Для отображения аудиосигнала\n",
        "import matplotlib.pyplot as plt\n",
        "from google.colab import files # Для загрузки файлов \n",
        "import IPython.display as ipd # Для проигрывания аудио\n",
        "import os\n",
        "import numpy as np\n",
        "\n",
        "from tensorflow.keras.optimizers import Adam, RMSprop \n",
        "from tensorflow.keras.models import Sequential, Model\n",
        "from tensorflow.keras.layers import concatenate, Input,  Dense, Dropout, BatchNormalization, Flatten, Conv1D, Conv2D, LSTM\n",
        "from tensorflow.keras.utils import to_categorical #Для представления в формате one_hot_encoding\n",
        "\n",
        "from sklearn.model_selection import train_test_split\n",
        "from sklearn.preprocessing import LabelEncoder, StandardScaler"
      ],
      "metadata": {
        "id": "IQDFkwl5gnjE"
      },
      "execution_count": null,
      "outputs": []
    },
    {
      "cell_type": "code",
      "source": [
        "from google.colab import drive\n",
        "drive.mount('/content/drive')"
      ],
      "metadata": {
        "colab": {
          "base_uri": "https://localhost:8080/"
        },
        "id": "KNYUSABQhYc3",
        "outputId": "d1033c39-9fba-4e84-cf0e-c4e05ecd1a55"
      },
      "execution_count": null,
      "outputs": [
        {
          "output_type": "stream",
          "name": "stdout",
          "text": [
            "Drive already mounted at /content/drive; to attempt to forcibly remount, call drive.mount(\"/content/drive\", force_remount=True).\n"
          ]
        }
      ]
    },
    {
      "cell_type": "code",
      "source": [
        "!unzip -q '/content/drive/MyDrive/Colab Notebooks/Базы/genres.zip'\n",
        "\n"
      ],
      "metadata": {
        "id": "uqeUwkzolApg",
        "colab": {
          "base_uri": "https://localhost:8080/"
        },
        "outputId": "cc668f59-9832-464d-814d-c73a289bc5e2"
      },
      "execution_count": null,
      "outputs": [
        {
          "output_type": "stream",
          "name": "stdout",
          "text": [
            "replace genres/blues/blues.00000.au? [y]es, [n]o, [A]ll, [N]one, [r]ename: n\n",
            "replace genres/blues/blues.00001.au? [y]es, [n]o, [A]ll, [N]one, [r]ename: N\n"
          ]
        }
      ]
    },
    {
      "cell_type": "code",
      "source": [
        "\n",
        "genres = os.listdir('genres') # получаем список папок в распакованной папке\n",
        "\n",
        "#Проверяем выгруженные папки\n",
        "!ls genres \n",
        "#И одну из папок\n",
        "!ls genres/blues"
      ],
      "metadata": {
        "colab": {
          "base_uri": "https://localhost:8080/"
        },
        "id": "9WNskTvSlAff",
        "outputId": "69833dc4-ddb7-461f-ccbb-6fe4b9c3862e"
      },
      "execution_count": null,
      "outputs": [
        {
          "output_type": "stream",
          "name": "stdout",
          "text": [
            "blues  classical  country  disco  hiphop  jazz\tmetal  pop  reggae  rock\n",
            "blues.00000.au\tblues.00020.au\tblues.00040.au\tblues.00060.au\tblues.00080.au\n",
            "blues.00001.au\tblues.00021.au\tblues.00041.au\tblues.00061.au\tblues.00081.au\n",
            "blues.00002.au\tblues.00022.au\tblues.00042.au\tblues.00062.au\tblues.00082.au\n",
            "blues.00003.au\tblues.00023.au\tblues.00043.au\tblues.00063.au\tblues.00083.au\n",
            "blues.00004.au\tblues.00024.au\tblues.00044.au\tblues.00064.au\tblues.00084.au\n",
            "blues.00005.au\tblues.00025.au\tblues.00045.au\tblues.00065.au\tblues.00085.au\n",
            "blues.00006.au\tblues.00026.au\tblues.00046.au\tblues.00066.au\tblues.00086.au\n",
            "blues.00007.au\tblues.00027.au\tblues.00047.au\tblues.00067.au\tblues.00087.au\n",
            "blues.00008.au\tblues.00028.au\tblues.00048.au\tblues.00068.au\tblues.00088.au\n",
            "blues.00009.au\tblues.00029.au\tblues.00049.au\tblues.00069.au\tblues.00089.au\n",
            "blues.00010.au\tblues.00030.au\tblues.00050.au\tblues.00070.au\tblues.00090.au\n",
            "blues.00011.au\tblues.00031.au\tblues.00051.au\tblues.00071.au\tblues.00091.au\n",
            "blues.00012.au\tblues.00032.au\tblues.00052.au\tblues.00072.au\tblues.00092.au\n",
            "blues.00013.au\tblues.00033.au\tblues.00053.au\tblues.00073.au\tblues.00093.au\n",
            "blues.00014.au\tblues.00034.au\tblues.00054.au\tblues.00074.au\tblues.00094.au\n",
            "blues.00015.au\tblues.00035.au\tblues.00055.au\tblues.00075.au\tblues.00095.au\n",
            "blues.00016.au\tblues.00036.au\tblues.00056.au\tblues.00076.au\tblues.00096.au\n",
            "blues.00017.au\tblues.00037.au\tblues.00057.au\tblues.00077.au\tblues.00097.au\n",
            "blues.00018.au\tblues.00038.au\tblues.00058.au\tblues.00078.au\tblues.00098.au\n",
            "blues.00019.au\tblues.00039.au\tblues.00059.au\tblues.00079.au\tblues.00099.au\n"
          ]
        }
      ]
    },
    {
      "cell_type": "code",
      "source": [
        "from librosa.feature.spectral import mfcc\n",
        "#Функция параметризации аудио\n",
        "def get_features(y,sr):\n",
        "  #Получаем различные параметры аудио\n",
        "  chroma_stft = librosa.feature.chroma_stft(y=y, sr=sr) #Частота цветности (по усолчанию 12 баков цветности)\n",
        "  mfcc = librosa.feature.mfcc(y=y, sr=sr) # Мел кепстральные коэффициенты (по усолчанию 20)\n",
        "\n",
        "  rmse = np.mean(librosa.feature.mfcc(y=y)) #Среднеквадратичная амплитуда\n",
        "  spec_cent = np.mean(librosa.feature.spectral_centroid(y=y, sr=sr)) # Среднее спектрального центроида\n",
        "  spec_bw = np.mean(librosa.feature.spectral_bandwidth(y=y, sr=sr)) # Среднее ширины полосы частот\n",
        "  rolloff = np.mean(librosa.feature.spectral_rolloff(y=y, sr=sr)) #Среднее спектрального спада частоты\n",
        "  zcr = np.mean(librosa.feature.zero_crossing_rate(y)) # Cредняя частота пересечения нуля звукового временного ряда\n",
        "\n",
        "  # Добавляем все параметры в дин список\n",
        "  out = [] # создаем пустой список\n",
        "  out.append(rmse) # добавляе среднеквадратиную амплитуду\n",
        "  out.append(spec_cent) # добавляем спектральный центроид\n",
        "  out.append(spec_bw) # добавляем ширину полосы частот\n",
        "  out.append(rolloff) # добавляем спектральный спад частоты\n",
        "  out.append(zcr) # добавляем пересечение нуля \n",
        "\n",
        "  # Дбавляем среднее всех мел кепстральных коэффициентов (20 значений)\n",
        "  for e in mfcc:\n",
        "    out.append(np.mean(e))\n",
        "\n",
        "  # Добавляем среднее всех частот цветности (12 значений)\n",
        "  for e in chroma_stft:\n",
        "    out.append(np.mean(e))\n",
        "  \n",
        "  #Возвращаем получившийся список размерностью (37,)\n",
        "  return out"
      ],
      "metadata": {
        "id": "UcckDtITlASV"
      },
      "execution_count": null,
      "outputs": []
    },
    {
      "cell_type": "code",
      "source": [
        "import time # подкючаем модуль time для подсчета времени на обработку одного жанра\n",
        "\n",
        "# Формируем обучающую Выборку\n",
        "# Создаем пустые листы\n",
        "X_train = []\n",
        "Y_train = []\n",
        "\n",
        "#Запоминаем время старта формирования выборки\n",
        "curr_time = time.time()\n",
        "\n",
        "#Проходим по всем жанрам\n",
        "for i in range(len(genres)):\n",
        "  g = genres[i] # берем текущий жанр\n",
        "  # Проходим по файлам папки текущего жанра\n",
        "  for filename in os.listdir(f'./genres/{g}'):\n",
        "    # получаем имя песни\n",
        "    songname = f'./genres/{g}/{filename}'\n",
        "    # загружаем в аудиосигнал\n",
        "    # используем первые 30 секунд аудио\n",
        "    y, sr = librosa.load(songname, mono = True, duration = 30) # y - массив данных временного ряда аудио, sr - частота дискретизации\n",
        "    # Превращаем сигнал в параметризованные данные\n",
        "    out = get_features(y,sr)\n",
        "\n",
        "    # добавляем строку в X_train\n",
        "    X_train.append(out)\n",
        "    # добавляем в Y_train номер жанра в OHE\n",
        "    Y_train.append(to_categorical(i, len(genres)))\n",
        "\n",
        "  # Выводим инфо о готовности обработки базы\n",
        "  print('Жанр ', g, ' готов  -->', round(time.time() - curr_time), 'c', sep='')\n",
        "  curr_time = time.time()\n",
        "\n",
        "# Превращаем обучающую выборку в numpy массивы\n",
        "X_train = np.array(X_train)\n",
        "Y_train = np.array(Y_train)\n",
        "\n",
        "\n",
        "\n"
      ],
      "metadata": {
        "id": "ePeXDgt6t0F6",
        "colab": {
          "base_uri": "https://localhost:8080/"
        },
        "outputId": "5045b2bf-712b-4a0d-fda4-177363daeb32"
      },
      "execution_count": null,
      "outputs": [
        {
          "output_type": "stream",
          "name": "stdout",
          "text": [
            "Жанр disco готов  -->53c\n",
            "Жанр classical готов  -->53c\n",
            "Жанр metal готов  -->53c\n",
            "Жанр hiphop готов  -->57c\n",
            "Жанр rock готов  -->60c\n",
            "Жанр blues готов  -->62c\n",
            "Жанр jazz готов  -->53c\n",
            "Жанр country готов  -->57c\n",
            "Жанр reggae готов  -->60c\n",
            "Жанр pop готов  -->63c\n"
          ]
        }
      ]
    },
    {
      "cell_type": "code",
      "source": [
        "# Создаем back up обучающей выборки \n",
        "X_train_backup = X_train.copy()\n",
        "Y_train_backup = Y_train.copy()"
      ],
      "metadata": {
        "id": "gIJ9meQvh0p8"
      },
      "execution_count": null,
      "outputs": []
    },
    {
      "cell_type": "code",
      "source": [
        "# Выводим номера классов , чтобы проверить, что все правильно заполнилось\n",
        "# И номера классов идут последовательно крупными блоками\n",
        "y_train_class = np.argmax(Y_train, axis=1)\n",
        "print(y_train_class)"
      ],
      "metadata": {
        "colab": {
          "base_uri": "https://localhost:8080/"
        },
        "id": "t29Q1b24Q0mR",
        "outputId": "7a80886c-db3b-4728-9c80-6abdd0f5cfdc"
      },
      "execution_count": null,
      "outputs": [
        {
          "output_type": "stream",
          "name": "stdout",
          "text": [
            "[0 0 0 0 0 0 0 0 0 0 0 0 0 0 0 0 0 0 0 0 0 0 0 0 0 0 0 0 0 0 0 0 0 0 0 0 0\n",
            " 0 0 0 0 0 0 0 0 0 0 0 0 0 0 0 0 0 0 0 0 0 0 0 0 0 0 0 0 0 0 0 0 0 0 0 0 0\n",
            " 0 0 0 0 0 0 0 0 0 0 0 0 0 0 0 0 0 0 0 0 0 0 0 0 0 0 1 1 1 1 1 1 1 1 1 1 1\n",
            " 1 1 1 1 1 1 1 1 1 1 1 1 1 1 1 1 1 1 1 1 1 1 1 1 1 1 1 1 1 1 1 1 1 1 1 1 1\n",
            " 1 1 1 1 1 1 1 1 1 1 1 1 1 1 1 1 1 1 1 1 1 1 1 1 1 1 1 1 1 1 1 1 1 1 1 1 1\n",
            " 1 1 1 1 1 1 1 1 1 1 1 1 1 1 1 2 2 2 2 2 2 2 2 2 2 2 2 2 2 2 2 2 2 2 2 2 2\n",
            " 2 2 2 2 2 2 2 2 2 2 2 2 2 2 2 2 2 2 2 2 2 2 2 2 2 2 2 2 2 2 2 2 2 2 2 2 2\n",
            " 2 2 2 2 2 2 2 2 2 2 2 2 2 2 2 2 2 2 2 2 2 2 2 2 2 2 2 2 2 2 2 2 2 2 2 2 2\n",
            " 2 2 2 2 3 3 3 3 3 3 3 3 3 3 3 3 3 3 3 3 3 3 3 3 3 3 3 3 3 3 3 3 3 3 3 3 3\n",
            " 3 3 3 3 3 3 3 3 3 3 3 3 3 3 3 3 3 3 3 3 3 3 3 3 3 3 3 3 3 3 3 3 3 3 3 3 3\n",
            " 3 3 3 3 3 3 3 3 3 3 3 3 3 3 3 3 3 3 3 3 3 3 3 3 3 3 3 3 3 3 4 4 4 4 4 4 4\n",
            " 4 4 4 4 4 4 4 4 4 4 4 4 4 4 4 4 4 4 4 4 4 4 4 4 4 4 4 4 4 4 4 4 4 4 4 4 4\n",
            " 4 4 4 4 4 4 4 4 4 4 4 4 4 4 4 4 4 4 4 4 4 4 4 4 4 4 4 4 4 4 4 4 4 4 4 4 4\n",
            " 4 4 4 4 4 4 4 4 4 4 4 4 4 4 4 4 4 4 4 5 5 5 5 5 5 5 5 5 5 5 5 5 5 5 5 5 5\n",
            " 5 5 5 5 5 5 5 5 5 5 5 5 5 5 5 5 5 5 5 5 5 5 5 5 5 5 5 5 5 5 5 5 5 5 5 5 5\n",
            " 5 5 5 5 5 5 5 5 5 5 5 5 5 5 5 5 5 5 5 5 5 5 5 5 5 5 5 5 5 5 5 5 5 5 5 5 5\n",
            " 5 5 5 5 5 5 5 5 6 6 6 6 6 6 6 6 6 6 6 6 6 6 6 6 6 6 6 6 6 6 6 6 6 6 6 6 6\n",
            " 6 6 6 6 6 6 6 6 6 6 6 6 6 6 6 6 6 6 6 6 6 6 6 6 6 6 6 6 6 6 6 6 6 6 6 6 6\n",
            " 6 6 6 6 6 6 6 6 6 6 6 6 6 6 6 6 6 6 6 6 6 6 6 6 6 6 6 6 6 6 6 6 6 6 7 7 7\n",
            " 7 7 7 7 7 7 7 7 7 7 7 7 7 7 7 7 7 7 7 7 7 7 7 7 7 7 7 7 7 7 7 7 7 7 7 7 7\n",
            " 7 7 7 7 7 7 7 7 7 7 7 7 7 7 7 7 7 7 7 7 7 7 7 7 7 7 7 7 7 7 7 7 7 7 7 7 7\n",
            " 7 7 7 7 7 7 7 7 7 7 7 7 7 7 7 7 7 7 7 7 7 7 7 8 8 8 8 8 8 8 8 8 8 8 8 8 8\n",
            " 8 8 8 8 8 8 8 8 8 8 8 8 8 8 8 8 8 8 8 8 8 8 8 8 8 8 8 8 8 8 8 8 8 8 8 8 8\n",
            " 8 8 8 8 8 8 8 8 8 8 8 8 8 8 8 8 8 8 8 8 8 8 8 8 8 8 8 8 8 8 8 8 8 8 8 8 8\n",
            " 8 8 8 8 8 8 8 8 8 8 8 8 9 9 9 9 9 9 9 9 9 9 9 9 9 9 9 9 9 9 9 9 9 9 9 9 9\n",
            " 9 9 9 9 9 9 9 9 9 9 9 9 9 9 9 9 9 9 9 9 9 9 9 9 9 9 9 9 9 9 9 9 9 9 9 9 9\n",
            " 9 9 9 9 9 9 9 9 9 9 9 9 9 9 9 9 9 9 9 9 9 9 9 9 9 9 9 9 9 9 9 9 9 9 9 9 9\n",
            " 9]\n"
          ]
        }
      ]
    },
    {
      "cell_type": "code",
      "source": [
        "# Выводим размеры обучающей выборки\n",
        "print(X_train.shape)\n",
        "print(Y_train.shape)\n",
        "print(y_train_class.shape)"
      ],
      "metadata": {
        "colab": {
          "base_uri": "https://localhost:8080/"
        },
        "id": "SWIYGSTBRUQH",
        "outputId": "48a86406-85b5-49a0-9fa6-d912b6011233"
      },
      "execution_count": null,
      "outputs": [
        {
          "output_type": "stream",
          "name": "stdout",
          "text": [
            "(1000, 37)\n",
            "(1000, 10)\n",
            "(1000,)\n"
          ]
        }
      ]
    },
    {
      "cell_type": "code",
      "source": [
        "# Создаем scaler экземпляр класса StandardScaler() для нормировки данных\n",
        "scaler = StandardScaler()\n",
        "# Нормируем X_train\n",
        "X_train = scaler.fit_transform(X_train)\n"
      ],
      "metadata": {
        "id": "aNCZVCnCVgdR"
      },
      "execution_count": null,
      "outputs": []
    },
    {
      "cell_type": "code",
      "source": [
        "# Проверяем , что X_train нормировался\n",
        "print(X_train[0])\n"
      ],
      "metadata": {
        "id": "LXBFWvf4WH-P"
      },
      "execution_count": null,
      "outputs": []
    },
    {
      "cell_type": "code",
      "source": [
        "# Разделяем выборку на обучающую и проверочную (90% и 10%)\n",
        "X_train, X_test, y_train, y_test = train_test_split(X_train, y_train_class, test_size=0.1)"
      ],
      "metadata": {
        "id": "jd4tLydwWYF-"
      },
      "execution_count": null,
      "outputs": []
    },
    {
      "cell_type": "code",
      "source": [
        "# Выводим размеры обучающей и проверочной выборки, для проверки\n",
        "print(X_train.shape)\n",
        "print(y_train.shape)\n",
        "print(X_test.shape)\n",
        "print(y_test.shape)\n"
      ],
      "metadata": {
        "colab": {
          "base_uri": "https://localhost:8080/"
        },
        "id": "WnOby1ZLXBQX",
        "outputId": "d873ffe3-2dcf-4436-f502-07f8576558e7"
      },
      "execution_count": null,
      "outputs": [
        {
          "output_type": "stream",
          "name": "stdout",
          "text": [
            "(900, 37)\n",
            "(900,)\n",
            "(100, 37)\n",
            "(100,)\n"
          ]
        }
      ]
    },
    {
      "cell_type": "code",
      "source": [
        "from tensorflow.keras import optimizers\n",
        "# Создаем нейронку\n",
        "# Указываем , какие индексы данных во входящих векторах брать для обучения\n",
        "# Это нужно для эксперимента , будем обучат на части колонок\n",
        "# У нас в векторе 5 значений - признаки, 20 значений - кепстральные коэф-ты, 12 значений - частоты цветности\n",
        "indexes = range(0,37)\n",
        "\n",
        "# Cоздаем полносвязную сеть\n",
        "model = Sequential()\n",
        "model.add(Dense(256, activation='elu', input_shape = (len(indexes),)))\n",
        "model.add(Dense(128, activation='elu'))\n",
        "model.add(Dense(64, activation='elu'))\n",
        "model.add(Dense(32, activation='elu'))\n",
        "# В конце количество нейронов равно количеству классов и softmax\n",
        "model.add(Dense(10, activation='softmax'))\n",
        "\n",
        "#Компилируем сеть \n",
        "model.compile(optimizer=RMSprop(learning_rate=1e-4),\n",
        "              loss = 'sparse_categorical_crossentropy',\n",
        "              metrics=['accuracy'])\n",
        "\n",
        "# Обучаем\n",
        "history = model.fit(X_train[:,indexes],\n",
        "                    y_train,\n",
        "                    epochs=200,\n",
        "                    batch_size=20,\n",
        "                    validation_data = (X_test[:, indexes], y_test))"
      ],
      "metadata": {
        "colab": {
          "base_uri": "https://localhost:8080/"
        },
        "id": "5rCj4kGdYSri",
        "outputId": "2349717e-d78d-4868-cdaf-fddf38ccf466"
      },
      "execution_count": null,
      "outputs": [
        {
          "output_type": "stream",
          "name": "stdout",
          "text": [
            "Epoch 1/200\n",
            "45/45 [==============================] - 3s 19ms/step - loss: 2.0527 - accuracy: 0.2511 - val_loss: 1.8381 - val_accuracy: 0.3600\n",
            "Epoch 2/200\n",
            "45/45 [==============================] - 0s 7ms/step - loss: 1.7267 - accuracy: 0.3933 - val_loss: 1.6449 - val_accuracy: 0.4400\n",
            "Epoch 3/200\n",
            "45/45 [==============================] - 0s 6ms/step - loss: 1.5698 - accuracy: 0.4556 - val_loss: 1.5509 - val_accuracy: 0.4700\n",
            "Epoch 4/200\n",
            "45/45 [==============================] - 0s 5ms/step - loss: 1.4679 - accuracy: 0.4900 - val_loss: 1.4790 - val_accuracy: 0.5000\n",
            "Epoch 5/200\n",
            "45/45 [==============================] - 0s 5ms/step - loss: 1.3887 - accuracy: 0.5356 - val_loss: 1.4210 - val_accuracy: 0.5400\n",
            "Epoch 6/200\n",
            "45/45 [==============================] - 0s 4ms/step - loss: 1.3260 - accuracy: 0.5700 - val_loss: 1.3731 - val_accuracy: 0.5300\n",
            "Epoch 7/200\n",
            "45/45 [==============================] - 0s 8ms/step - loss: 1.2743 - accuracy: 0.5933 - val_loss: 1.3218 - val_accuracy: 0.5500\n",
            "Epoch 8/200\n",
            "45/45 [==============================] - 0s 5ms/step - loss: 1.2288 - accuracy: 0.6067 - val_loss: 1.2838 - val_accuracy: 0.5700\n",
            "Epoch 9/200\n",
            "45/45 [==============================] - 0s 4ms/step - loss: 1.1898 - accuracy: 0.6167 - val_loss: 1.2565 - val_accuracy: 0.5700\n",
            "Epoch 10/200\n",
            "45/45 [==============================] - 0s 7ms/step - loss: 1.1527 - accuracy: 0.6256 - val_loss: 1.2311 - val_accuracy: 0.5500\n",
            "Epoch 11/200\n",
            "45/45 [==============================] - 0s 6ms/step - loss: 1.1226 - accuracy: 0.6411 - val_loss: 1.2062 - val_accuracy: 0.5700\n",
            "Epoch 12/200\n",
            "45/45 [==============================] - 0s 6ms/step - loss: 1.0946 - accuracy: 0.6500 - val_loss: 1.1833 - val_accuracy: 0.5600\n",
            "Epoch 13/200\n",
            "45/45 [==============================] - 0s 5ms/step - loss: 1.0681 - accuracy: 0.6578 - val_loss: 1.1646 - val_accuracy: 0.5500\n",
            "Epoch 14/200\n",
            "45/45 [==============================] - 0s 7ms/step - loss: 1.0441 - accuracy: 0.6644 - val_loss: 1.1501 - val_accuracy: 0.5600\n",
            "Epoch 15/200\n",
            "45/45 [==============================] - 0s 8ms/step - loss: 1.0228 - accuracy: 0.6678 - val_loss: 1.1353 - val_accuracy: 0.5600\n",
            "Epoch 16/200\n",
            "45/45 [==============================] - 0s 7ms/step - loss: 1.0035 - accuracy: 0.6800 - val_loss: 1.1117 - val_accuracy: 0.5600\n",
            "Epoch 17/200\n",
            "45/45 [==============================] - 0s 9ms/step - loss: 0.9838 - accuracy: 0.6722 - val_loss: 1.1152 - val_accuracy: 0.5600\n",
            "Epoch 18/200\n",
            "45/45 [==============================] - 0s 10ms/step - loss: 0.9668 - accuracy: 0.6889 - val_loss: 1.0991 - val_accuracy: 0.5600\n",
            "Epoch 19/200\n",
            "45/45 [==============================] - 0s 5ms/step - loss: 0.9482 - accuracy: 0.6867 - val_loss: 1.0913 - val_accuracy: 0.5400\n",
            "Epoch 20/200\n",
            "45/45 [==============================] - 0s 6ms/step - loss: 0.9344 - accuracy: 0.6911 - val_loss: 1.0822 - val_accuracy: 0.5600\n",
            "Epoch 21/200\n",
            "45/45 [==============================] - 0s 5ms/step - loss: 0.9202 - accuracy: 0.6989 - val_loss: 1.0605 - val_accuracy: 0.5500\n",
            "Epoch 22/200\n",
            "45/45 [==============================] - 0s 5ms/step - loss: 0.9056 - accuracy: 0.7000 - val_loss: 1.0582 - val_accuracy: 0.5500\n",
            "Epoch 23/200\n",
            "45/45 [==============================] - 0s 7ms/step - loss: 0.8901 - accuracy: 0.7056 - val_loss: 1.0461 - val_accuracy: 0.5500\n",
            "Epoch 24/200\n",
            "45/45 [==============================] - 0s 6ms/step - loss: 0.8801 - accuracy: 0.7078 - val_loss: 1.0485 - val_accuracy: 0.5400\n",
            "Epoch 25/200\n",
            "45/45 [==============================] - 0s 5ms/step - loss: 0.8682 - accuracy: 0.7211 - val_loss: 1.0375 - val_accuracy: 0.5500\n",
            "Epoch 26/200\n",
            "45/45 [==============================] - 0s 7ms/step - loss: 0.8550 - accuracy: 0.7233 - val_loss: 1.0324 - val_accuracy: 0.5700\n",
            "Epoch 27/200\n",
            "45/45 [==============================] - 0s 6ms/step - loss: 0.8444 - accuracy: 0.7267 - val_loss: 1.0186 - val_accuracy: 0.5600\n",
            "Epoch 28/200\n",
            "45/45 [==============================] - 0s 4ms/step - loss: 0.8318 - accuracy: 0.7333 - val_loss: 1.0160 - val_accuracy: 0.5700\n",
            "Epoch 29/200\n",
            "45/45 [==============================] - 0s 6ms/step - loss: 0.8208 - accuracy: 0.7322 - val_loss: 1.0060 - val_accuracy: 0.5900\n",
            "Epoch 30/200\n",
            "45/45 [==============================] - 0s 6ms/step - loss: 0.8100 - accuracy: 0.7411 - val_loss: 1.0152 - val_accuracy: 0.5900\n",
            "Epoch 31/200\n",
            "45/45 [==============================] - 0s 5ms/step - loss: 0.8036 - accuracy: 0.7344 - val_loss: 1.0128 - val_accuracy: 0.5900\n",
            "Epoch 32/200\n",
            "45/45 [==============================] - 0s 5ms/step - loss: 0.7917 - accuracy: 0.7456 - val_loss: 0.9887 - val_accuracy: 0.5900\n",
            "Epoch 33/200\n",
            "45/45 [==============================] - 0s 7ms/step - loss: 0.7809 - accuracy: 0.7489 - val_loss: 0.9959 - val_accuracy: 0.5900\n",
            "Epoch 34/200\n",
            "45/45 [==============================] - 0s 6ms/step - loss: 0.7742 - accuracy: 0.7500 - val_loss: 0.9933 - val_accuracy: 0.5900\n",
            "Epoch 35/200\n",
            "45/45 [==============================] - 0s 8ms/step - loss: 0.7634 - accuracy: 0.7578 - val_loss: 0.9902 - val_accuracy: 0.6000\n",
            "Epoch 36/200\n",
            "45/45 [==============================] - 0s 5ms/step - loss: 0.7549 - accuracy: 0.7600 - val_loss: 0.9849 - val_accuracy: 0.6000\n",
            "Epoch 37/200\n",
            "45/45 [==============================] - 0s 5ms/step - loss: 0.7454 - accuracy: 0.7611 - val_loss: 0.9807 - val_accuracy: 0.6100\n",
            "Epoch 38/200\n",
            "45/45 [==============================] - 0s 5ms/step - loss: 0.7391 - accuracy: 0.7633 - val_loss: 0.9785 - val_accuracy: 0.6300\n",
            "Epoch 39/200\n",
            "45/45 [==============================] - 0s 4ms/step - loss: 0.7311 - accuracy: 0.7600 - val_loss: 0.9751 - val_accuracy: 0.6300\n",
            "Epoch 40/200\n",
            "45/45 [==============================] - 0s 4ms/step - loss: 0.7209 - accuracy: 0.7644 - val_loss: 0.9893 - val_accuracy: 0.6200\n",
            "Epoch 41/200\n",
            "45/45 [==============================] - 0s 7ms/step - loss: 0.7142 - accuracy: 0.7678 - val_loss: 0.9701 - val_accuracy: 0.6200\n",
            "Epoch 42/200\n",
            "45/45 [==============================] - 0s 5ms/step - loss: 0.7050 - accuracy: 0.7767 - val_loss: 0.9815 - val_accuracy: 0.6300\n",
            "Epoch 43/200\n",
            "45/45 [==============================] - 0s 6ms/step - loss: 0.6988 - accuracy: 0.7700 - val_loss: 0.9641 - val_accuracy: 0.6300\n",
            "Epoch 44/200\n",
            "45/45 [==============================] - 0s 4ms/step - loss: 0.6895 - accuracy: 0.7711 - val_loss: 0.9766 - val_accuracy: 0.6300\n",
            "Epoch 45/200\n",
            "45/45 [==============================] - 0s 5ms/step - loss: 0.6837 - accuracy: 0.7733 - val_loss: 0.9738 - val_accuracy: 0.6300\n",
            "Epoch 46/200\n",
            "45/45 [==============================] - 0s 6ms/step - loss: 0.6762 - accuracy: 0.7800 - val_loss: 0.9713 - val_accuracy: 0.6400\n",
            "Epoch 47/200\n",
            "45/45 [==============================] - 0s 5ms/step - loss: 0.6686 - accuracy: 0.7789 - val_loss: 0.9623 - val_accuracy: 0.6300\n",
            "Epoch 48/200\n",
            "45/45 [==============================] - 0s 8ms/step - loss: 0.6630 - accuracy: 0.7811 - val_loss: 0.9524 - val_accuracy: 0.6500\n",
            "Epoch 49/200\n",
            "45/45 [==============================] - 0s 7ms/step - loss: 0.6531 - accuracy: 0.7822 - val_loss: 0.9457 - val_accuracy: 0.6500\n",
            "Epoch 50/200\n",
            "45/45 [==============================] - 0s 6ms/step - loss: 0.6480 - accuracy: 0.7867 - val_loss: 0.9658 - val_accuracy: 0.6400\n",
            "Epoch 51/200\n",
            "45/45 [==============================] - 0s 5ms/step - loss: 0.6398 - accuracy: 0.7878 - val_loss: 0.9534 - val_accuracy: 0.6800\n",
            "Epoch 52/200\n",
            "45/45 [==============================] - 0s 6ms/step - loss: 0.6325 - accuracy: 0.7978 - val_loss: 0.9615 - val_accuracy: 0.6300\n",
            "Epoch 53/200\n",
            "45/45 [==============================] - 0s 7ms/step - loss: 0.6263 - accuracy: 0.7978 - val_loss: 0.9599 - val_accuracy: 0.6400\n",
            "Epoch 54/200\n",
            "45/45 [==============================] - 0s 6ms/step - loss: 0.6192 - accuracy: 0.8078 - val_loss: 0.9673 - val_accuracy: 0.6600\n",
            "Epoch 55/200\n",
            "45/45 [==============================] - 0s 8ms/step - loss: 0.6118 - accuracy: 0.8033 - val_loss: 0.9621 - val_accuracy: 0.6200\n",
            "Epoch 56/200\n",
            "45/45 [==============================] - 0s 5ms/step - loss: 0.6086 - accuracy: 0.8156 - val_loss: 0.9481 - val_accuracy: 0.6500\n",
            "Epoch 57/200\n",
            "45/45 [==============================] - 0s 5ms/step - loss: 0.6012 - accuracy: 0.8056 - val_loss: 0.9485 - val_accuracy: 0.6600\n",
            "Epoch 58/200\n",
            "45/45 [==============================] - 0s 5ms/step - loss: 0.5941 - accuracy: 0.8078 - val_loss: 0.9434 - val_accuracy: 0.6500\n",
            "Epoch 59/200\n",
            "45/45 [==============================] - 0s 5ms/step - loss: 0.5883 - accuracy: 0.8133 - val_loss: 0.9316 - val_accuracy: 0.6800\n",
            "Epoch 60/200\n",
            "45/45 [==============================] - 0s 5ms/step - loss: 0.5827 - accuracy: 0.8100 - val_loss: 0.9469 - val_accuracy: 0.6600\n",
            "Epoch 61/200\n",
            "45/45 [==============================] - 0s 5ms/step - loss: 0.5718 - accuracy: 0.8233 - val_loss: 0.9593 - val_accuracy: 0.6500\n",
            "Epoch 62/200\n",
            "45/45 [==============================] - 0s 6ms/step - loss: 0.5695 - accuracy: 0.8156 - val_loss: 0.9496 - val_accuracy: 0.6800\n",
            "Epoch 63/200\n",
            "45/45 [==============================] - 0s 5ms/step - loss: 0.5610 - accuracy: 0.8267 - val_loss: 0.9454 - val_accuracy: 0.6500\n",
            "Epoch 64/200\n",
            "45/45 [==============================] - 0s 6ms/step - loss: 0.5577 - accuracy: 0.8222 - val_loss: 0.9417 - val_accuracy: 0.6500\n",
            "Epoch 65/200\n",
            "45/45 [==============================] - 0s 5ms/step - loss: 0.5475 - accuracy: 0.8244 - val_loss: 0.9713 - val_accuracy: 0.6500\n",
            "Epoch 66/200\n",
            "45/45 [==============================] - 0s 5ms/step - loss: 0.5439 - accuracy: 0.8300 - val_loss: 0.9543 - val_accuracy: 0.6700\n",
            "Epoch 67/200\n",
            "45/45 [==============================] - 0s 5ms/step - loss: 0.5393 - accuracy: 0.8300 - val_loss: 0.9646 - val_accuracy: 0.6600\n",
            "Epoch 68/200\n",
            "45/45 [==============================] - 0s 5ms/step - loss: 0.5328 - accuracy: 0.8278 - val_loss: 0.9409 - val_accuracy: 0.6800\n",
            "Epoch 69/200\n",
            "45/45 [==============================] - 0s 6ms/step - loss: 0.5270 - accuracy: 0.8311 - val_loss: 0.9442 - val_accuracy: 0.6600\n",
            "Epoch 70/200\n",
            "45/45 [==============================] - 0s 5ms/step - loss: 0.5192 - accuracy: 0.8333 - val_loss: 0.9626 - val_accuracy: 0.6400\n",
            "Epoch 71/200\n",
            "45/45 [==============================] - 0s 4ms/step - loss: 0.5146 - accuracy: 0.8311 - val_loss: 0.9671 - val_accuracy: 0.6500\n",
            "Epoch 72/200\n",
            "45/45 [==============================] - 0s 5ms/step - loss: 0.5102 - accuracy: 0.8389 - val_loss: 0.9484 - val_accuracy: 0.6500\n",
            "Epoch 73/200\n",
            "45/45 [==============================] - 0s 7ms/step - loss: 0.5031 - accuracy: 0.8444 - val_loss: 0.9586 - val_accuracy: 0.6600\n",
            "Epoch 74/200\n",
            "45/45 [==============================] - 0s 5ms/step - loss: 0.4971 - accuracy: 0.8422 - val_loss: 0.9593 - val_accuracy: 0.6300\n",
            "Epoch 75/200\n",
            "45/45 [==============================] - 0s 6ms/step - loss: 0.4931 - accuracy: 0.8389 - val_loss: 0.9601 - val_accuracy: 0.6500\n",
            "Epoch 76/200\n",
            "45/45 [==============================] - 0s 4ms/step - loss: 0.4874 - accuracy: 0.8444 - val_loss: 0.9655 - val_accuracy: 0.6500\n",
            "Epoch 77/200\n",
            "45/45 [==============================] - 0s 5ms/step - loss: 0.4818 - accuracy: 0.8433 - val_loss: 0.9640 - val_accuracy: 0.6700\n",
            "Epoch 78/200\n",
            "45/45 [==============================] - 0s 6ms/step - loss: 0.4743 - accuracy: 0.8467 - val_loss: 0.9424 - val_accuracy: 0.6700\n",
            "Epoch 79/200\n",
            "45/45 [==============================] - 0s 5ms/step - loss: 0.4703 - accuracy: 0.8456 - val_loss: 0.9721 - val_accuracy: 0.6600\n",
            "Epoch 80/200\n",
            "45/45 [==============================] - 0s 3ms/step - loss: 0.4655 - accuracy: 0.8489 - val_loss: 0.9696 - val_accuracy: 0.6500\n",
            "Epoch 81/200\n",
            "45/45 [==============================] - 0s 3ms/step - loss: 0.4588 - accuracy: 0.8478 - val_loss: 0.9638 - val_accuracy: 0.6500\n",
            "Epoch 82/200\n",
            "45/45 [==============================] - 0s 4ms/step - loss: 0.4531 - accuracy: 0.8544 - val_loss: 0.9543 - val_accuracy: 0.6700\n",
            "Epoch 83/200\n",
            "45/45 [==============================] - 0s 3ms/step - loss: 0.4505 - accuracy: 0.8533 - val_loss: 0.9518 - val_accuracy: 0.6600\n",
            "Epoch 84/200\n",
            "45/45 [==============================] - 0s 3ms/step - loss: 0.4398 - accuracy: 0.8678 - val_loss: 0.9549 - val_accuracy: 0.6700\n",
            "Epoch 85/200\n",
            "45/45 [==============================] - 0s 3ms/step - loss: 0.4378 - accuracy: 0.8600 - val_loss: 0.9756 - val_accuracy: 0.6400\n",
            "Epoch 86/200\n",
            "45/45 [==============================] - 0s 3ms/step - loss: 0.4327 - accuracy: 0.8611 - val_loss: 0.9693 - val_accuracy: 0.6300\n",
            "Epoch 87/200\n",
            "45/45 [==============================] - 0s 3ms/step - loss: 0.4273 - accuracy: 0.8667 - val_loss: 0.9722 - val_accuracy: 0.6400\n",
            "Epoch 88/200\n",
            "45/45 [==============================] - 0s 3ms/step - loss: 0.4217 - accuracy: 0.8667 - val_loss: 0.9792 - val_accuracy: 0.6700\n",
            "Epoch 89/200\n",
            "45/45 [==============================] - 0s 3ms/step - loss: 0.4166 - accuracy: 0.8711 - val_loss: 0.9875 - val_accuracy: 0.6400\n",
            "Epoch 90/200\n",
            "45/45 [==============================] - 0s 3ms/step - loss: 0.4106 - accuracy: 0.8644 - val_loss: 0.9532 - val_accuracy: 0.6500\n",
            "Epoch 91/200\n",
            "45/45 [==============================] - 0s 3ms/step - loss: 0.4069 - accuracy: 0.8700 - val_loss: 0.9781 - val_accuracy: 0.6700\n",
            "Epoch 92/200\n",
            "45/45 [==============================] - 0s 3ms/step - loss: 0.3971 - accuracy: 0.8700 - val_loss: 0.9794 - val_accuracy: 0.6500\n",
            "Epoch 93/200\n",
            "45/45 [==============================] - 0s 3ms/step - loss: 0.3962 - accuracy: 0.8756 - val_loss: 0.9863 - val_accuracy: 0.6600\n",
            "Epoch 94/200\n",
            "45/45 [==============================] - 0s 3ms/step - loss: 0.3917 - accuracy: 0.8778 - val_loss: 0.9895 - val_accuracy: 0.6700\n",
            "Epoch 95/200\n",
            "45/45 [==============================] - 0s 3ms/step - loss: 0.3838 - accuracy: 0.8822 - val_loss: 0.9812 - val_accuracy: 0.6500\n",
            "Epoch 96/200\n",
            "45/45 [==============================] - 0s 4ms/step - loss: 0.3793 - accuracy: 0.8878 - val_loss: 1.0036 - val_accuracy: 0.6500\n",
            "Epoch 97/200\n",
            "45/45 [==============================] - 0s 3ms/step - loss: 0.3761 - accuracy: 0.8922 - val_loss: 0.9893 - val_accuracy: 0.6800\n",
            "Epoch 98/200\n",
            "45/45 [==============================] - 0s 3ms/step - loss: 0.3705 - accuracy: 0.8878 - val_loss: 0.9873 - val_accuracy: 0.6500\n",
            "Epoch 99/200\n",
            "45/45 [==============================] - 0s 3ms/step - loss: 0.3651 - accuracy: 0.8900 - val_loss: 0.9880 - val_accuracy: 0.6600\n",
            "Epoch 100/200\n",
            "45/45 [==============================] - 0s 3ms/step - loss: 0.3619 - accuracy: 0.8956 - val_loss: 1.0076 - val_accuracy: 0.6800\n",
            "Epoch 101/200\n",
            "45/45 [==============================] - 0s 3ms/step - loss: 0.3561 - accuracy: 0.8933 - val_loss: 1.0030 - val_accuracy: 0.6700\n",
            "Epoch 102/200\n",
            "45/45 [==============================] - 0s 3ms/step - loss: 0.3519 - accuracy: 0.8922 - val_loss: 1.0097 - val_accuracy: 0.6700\n",
            "Epoch 103/200\n",
            "45/45 [==============================] - 0s 3ms/step - loss: 0.3458 - accuracy: 0.8956 - val_loss: 1.0156 - val_accuracy: 0.6500\n",
            "Epoch 104/200\n",
            "45/45 [==============================] - 0s 3ms/step - loss: 0.3422 - accuracy: 0.9011 - val_loss: 1.0249 - val_accuracy: 0.6500\n",
            "Epoch 105/200\n",
            "45/45 [==============================] - 0s 3ms/step - loss: 0.3372 - accuracy: 0.8956 - val_loss: 1.0047 - val_accuracy: 0.6700\n",
            "Epoch 106/200\n",
            "45/45 [==============================] - 0s 3ms/step - loss: 0.3339 - accuracy: 0.9011 - val_loss: 1.0037 - val_accuracy: 0.6600\n",
            "Epoch 107/200\n",
            "45/45 [==============================] - 0s 3ms/step - loss: 0.3270 - accuracy: 0.9044 - val_loss: 1.0223 - val_accuracy: 0.6900\n",
            "Epoch 108/200\n",
            "45/45 [==============================] - 0s 3ms/step - loss: 0.3233 - accuracy: 0.9100 - val_loss: 0.9898 - val_accuracy: 0.6500\n",
            "Epoch 109/200\n",
            "45/45 [==============================] - 0s 3ms/step - loss: 0.3181 - accuracy: 0.9111 - val_loss: 1.0172 - val_accuracy: 0.6700\n",
            "Epoch 110/200\n",
            "45/45 [==============================] - 0s 3ms/step - loss: 0.3153 - accuracy: 0.9067 - val_loss: 1.0147 - val_accuracy: 0.6600\n",
            "Epoch 111/200\n",
            "45/45 [==============================] - 0s 3ms/step - loss: 0.3108 - accuracy: 0.9100 - val_loss: 1.0253 - val_accuracy: 0.6500\n",
            "Epoch 112/200\n",
            "45/45 [==============================] - 0s 3ms/step - loss: 0.3053 - accuracy: 0.9133 - val_loss: 1.0245 - val_accuracy: 0.6700\n",
            "Epoch 113/200\n",
            "45/45 [==============================] - 0s 5ms/step - loss: 0.2980 - accuracy: 0.9144 - val_loss: 1.0414 - val_accuracy: 0.6600\n",
            "Epoch 114/200\n",
            "45/45 [==============================] - 0s 6ms/step - loss: 0.2983 - accuracy: 0.9156 - val_loss: 1.0321 - val_accuracy: 0.6500\n",
            "Epoch 115/200\n",
            "45/45 [==============================] - 0s 5ms/step - loss: 0.2916 - accuracy: 0.9244 - val_loss: 1.0456 - val_accuracy: 0.6900\n",
            "Epoch 116/200\n",
            "45/45 [==============================] - 0s 6ms/step - loss: 0.2867 - accuracy: 0.9222 - val_loss: 1.0204 - val_accuracy: 0.6700\n",
            "Epoch 117/200\n",
            "45/45 [==============================] - 0s 8ms/step - loss: 0.2820 - accuracy: 0.9278 - val_loss: 1.0331 - val_accuracy: 0.6800\n",
            "Epoch 118/200\n",
            "45/45 [==============================] - 1s 11ms/step - loss: 0.2795 - accuracy: 0.9244 - val_loss: 1.0309 - val_accuracy: 0.6700\n",
            "Epoch 119/200\n",
            "45/45 [==============================] - 0s 9ms/step - loss: 0.2730 - accuracy: 0.9311 - val_loss: 1.0548 - val_accuracy: 0.6700\n",
            "Epoch 120/200\n",
            "45/45 [==============================] - 0s 8ms/step - loss: 0.2699 - accuracy: 0.9322 - val_loss: 1.0566 - val_accuracy: 0.6500\n",
            "Epoch 121/200\n",
            "45/45 [==============================] - 0s 5ms/step - loss: 0.2678 - accuracy: 0.9300 - val_loss: 1.0491 - val_accuracy: 0.6800\n",
            "Epoch 122/200\n",
            "45/45 [==============================] - 0s 5ms/step - loss: 0.2608 - accuracy: 0.9322 - val_loss: 1.0289 - val_accuracy: 0.6800\n",
            "Epoch 123/200\n",
            "45/45 [==============================] - 0s 4ms/step - loss: 0.2552 - accuracy: 0.9322 - val_loss: 1.0493 - val_accuracy: 0.6800\n",
            "Epoch 124/200\n",
            "45/45 [==============================] - 0s 6ms/step - loss: 0.2542 - accuracy: 0.9422 - val_loss: 1.0624 - val_accuracy: 0.6900\n",
            "Epoch 125/200\n",
            "45/45 [==============================] - 0s 5ms/step - loss: 0.2529 - accuracy: 0.9378 - val_loss: 1.0793 - val_accuracy: 0.6600\n",
            "Epoch 126/200\n",
            "45/45 [==============================] - 0s 4ms/step - loss: 0.2447 - accuracy: 0.9389 - val_loss: 1.0858 - val_accuracy: 0.6400\n",
            "Epoch 127/200\n",
            "45/45 [==============================] - 0s 4ms/step - loss: 0.2432 - accuracy: 0.9356 - val_loss: 1.0689 - val_accuracy: 0.6400\n",
            "Epoch 128/200\n",
            "45/45 [==============================] - 0s 6ms/step - loss: 0.2385 - accuracy: 0.9478 - val_loss: 1.0860 - val_accuracy: 0.6900\n",
            "Epoch 129/200\n",
            "45/45 [==============================] - 0s 5ms/step - loss: 0.2346 - accuracy: 0.9444 - val_loss: 1.0823 - val_accuracy: 0.6500\n",
            "Epoch 130/200\n",
            "45/45 [==============================] - 0s 5ms/step - loss: 0.2301 - accuracy: 0.9500 - val_loss: 1.0891 - val_accuracy: 0.6900\n",
            "Epoch 131/200\n",
            "45/45 [==============================] - 0s 3ms/step - loss: 0.2260 - accuracy: 0.9511 - val_loss: 1.0987 - val_accuracy: 0.6700\n",
            "Epoch 132/200\n",
            "45/45 [==============================] - 0s 4ms/step - loss: 0.2230 - accuracy: 0.9500 - val_loss: 1.0896 - val_accuracy: 0.6600\n",
            "Epoch 133/200\n",
            "45/45 [==============================] - 0s 4ms/step - loss: 0.2183 - accuracy: 0.9556 - val_loss: 1.1132 - val_accuracy: 0.6900\n",
            "Epoch 134/200\n",
            "45/45 [==============================] - 0s 3ms/step - loss: 0.2145 - accuracy: 0.9556 - val_loss: 1.1149 - val_accuracy: 0.6600\n",
            "Epoch 135/200\n",
            "45/45 [==============================] - 0s 5ms/step - loss: 0.2116 - accuracy: 0.9578 - val_loss: 1.0997 - val_accuracy: 0.6600\n",
            "Epoch 136/200\n",
            "45/45 [==============================] - 0s 3ms/step - loss: 0.2071 - accuracy: 0.9489 - val_loss: 1.1039 - val_accuracy: 0.7000\n",
            "Epoch 137/200\n",
            "45/45 [==============================] - 0s 7ms/step - loss: 0.2035 - accuracy: 0.9600 - val_loss: 1.1109 - val_accuracy: 0.7000\n",
            "Epoch 138/200\n",
            "45/45 [==============================] - 0s 4ms/step - loss: 0.1976 - accuracy: 0.9600 - val_loss: 1.1247 - val_accuracy: 0.6600\n",
            "Epoch 139/200\n",
            "45/45 [==============================] - 0s 3ms/step - loss: 0.1961 - accuracy: 0.9567 - val_loss: 1.1125 - val_accuracy: 0.6900\n",
            "Epoch 140/200\n",
            "45/45 [==============================] - 0s 4ms/step - loss: 0.1925 - accuracy: 0.9578 - val_loss: 1.1165 - val_accuracy: 0.6800\n",
            "Epoch 141/200\n",
            "45/45 [==============================] - 0s 4ms/step - loss: 0.1886 - accuracy: 0.9656 - val_loss: 1.1450 - val_accuracy: 0.6900\n",
            "Epoch 142/200\n",
            "45/45 [==============================] - 0s 3ms/step - loss: 0.1862 - accuracy: 0.9656 - val_loss: 1.1492 - val_accuracy: 0.6800\n",
            "Epoch 143/200\n",
            "45/45 [==============================] - 0s 5ms/step - loss: 0.1815 - accuracy: 0.9689 - val_loss: 1.1276 - val_accuracy: 0.6600\n",
            "Epoch 144/200\n",
            "45/45 [==============================] - 0s 3ms/step - loss: 0.1794 - accuracy: 0.9678 - val_loss: 1.1604 - val_accuracy: 0.6700\n",
            "Epoch 145/200\n",
            "45/45 [==============================] - 0s 5ms/step - loss: 0.1749 - accuracy: 0.9733 - val_loss: 1.1308 - val_accuracy: 0.6800\n",
            "Epoch 146/200\n",
            "45/45 [==============================] - 0s 6ms/step - loss: 0.1725 - accuracy: 0.9744 - val_loss: 1.1554 - val_accuracy: 0.6800\n",
            "Epoch 147/200\n",
            "45/45 [==============================] - 0s 5ms/step - loss: 0.1693 - accuracy: 0.9700 - val_loss: 1.1427 - val_accuracy: 0.6800\n",
            "Epoch 148/200\n",
            "45/45 [==============================] - 0s 5ms/step - loss: 0.1657 - accuracy: 0.9722 - val_loss: 1.1666 - val_accuracy: 0.7100\n",
            "Epoch 149/200\n",
            "45/45 [==============================] - 0s 5ms/step - loss: 0.1629 - accuracy: 0.9700 - val_loss: 1.1552 - val_accuracy: 0.7100\n",
            "Epoch 150/200\n",
            "45/45 [==============================] - 0s 5ms/step - loss: 0.1577 - accuracy: 0.9767 - val_loss: 1.1849 - val_accuracy: 0.7000\n",
            "Epoch 151/200\n",
            "45/45 [==============================] - 0s 5ms/step - loss: 0.1574 - accuracy: 0.9722 - val_loss: 1.1697 - val_accuracy: 0.7000\n",
            "Epoch 152/200\n",
            "45/45 [==============================] - 0s 5ms/step - loss: 0.1553 - accuracy: 0.9722 - val_loss: 1.1492 - val_accuracy: 0.6900\n",
            "Epoch 153/200\n",
            "45/45 [==============================] - 0s 5ms/step - loss: 0.1484 - accuracy: 0.9789 - val_loss: 1.1745 - val_accuracy: 0.6700\n",
            "Epoch 154/200\n",
            "45/45 [==============================] - 0s 4ms/step - loss: 0.1485 - accuracy: 0.9744 - val_loss: 1.1943 - val_accuracy: 0.6900\n",
            "Epoch 155/200\n",
            "45/45 [==============================] - 0s 5ms/step - loss: 0.1433 - accuracy: 0.9778 - val_loss: 1.2143 - val_accuracy: 0.6900\n",
            "Epoch 156/200\n",
            "45/45 [==============================] - 0s 4ms/step - loss: 0.1421 - accuracy: 0.9744 - val_loss: 1.2179 - val_accuracy: 0.6800\n",
            "Epoch 157/200\n",
            "45/45 [==============================] - 0s 5ms/step - loss: 0.1396 - accuracy: 0.9800 - val_loss: 1.2162 - val_accuracy: 0.6900\n",
            "Epoch 158/200\n",
            "45/45 [==============================] - 0s 5ms/step - loss: 0.1360 - accuracy: 0.9778 - val_loss: 1.2451 - val_accuracy: 0.6800\n",
            "Epoch 159/200\n",
            "45/45 [==============================] - 0s 5ms/step - loss: 0.1327 - accuracy: 0.9822 - val_loss: 1.2071 - val_accuracy: 0.6800\n",
            "Epoch 160/200\n",
            "45/45 [==============================] - 0s 5ms/step - loss: 0.1317 - accuracy: 0.9778 - val_loss: 1.2137 - val_accuracy: 0.6900\n",
            "Epoch 161/200\n",
            "45/45 [==============================] - 0s 4ms/step - loss: 0.1285 - accuracy: 0.9811 - val_loss: 1.2307 - val_accuracy: 0.6900\n",
            "Epoch 162/200\n",
            "45/45 [==============================] - 0s 5ms/step - loss: 0.1240 - accuracy: 0.9833 - val_loss: 1.2279 - val_accuracy: 0.6900\n",
            "Epoch 163/200\n",
            "45/45 [==============================] - 0s 4ms/step - loss: 0.1221 - accuracy: 0.9833 - val_loss: 1.2258 - val_accuracy: 0.6800\n",
            "Epoch 164/200\n",
            "45/45 [==============================] - 0s 5ms/step - loss: 0.1183 - accuracy: 0.9878 - val_loss: 1.2339 - val_accuracy: 0.6900\n",
            "Epoch 165/200\n",
            "45/45 [==============================] - 0s 3ms/step - loss: 0.1168 - accuracy: 0.9833 - val_loss: 1.2417 - val_accuracy: 0.6900\n",
            "Epoch 166/200\n",
            "45/45 [==============================] - 0s 5ms/step - loss: 0.1152 - accuracy: 0.9822 - val_loss: 1.2327 - val_accuracy: 0.6900\n",
            "Epoch 167/200\n",
            "45/45 [==============================] - 0s 5ms/step - loss: 0.1111 - accuracy: 0.9900 - val_loss: 1.2401 - val_accuracy: 0.6700\n",
            "Epoch 168/200\n",
            "45/45 [==============================] - 0s 3ms/step - loss: 0.1089 - accuracy: 0.9811 - val_loss: 1.2571 - val_accuracy: 0.6800\n",
            "Epoch 169/200\n",
            "45/45 [==============================] - 0s 5ms/step - loss: 0.1068 - accuracy: 0.9900 - val_loss: 1.2812 - val_accuracy: 0.6800\n",
            "Epoch 170/200\n",
            "45/45 [==============================] - 0s 4ms/step - loss: 0.1044 - accuracy: 0.9900 - val_loss: 1.2991 - val_accuracy: 0.7000\n",
            "Epoch 171/200\n",
            "45/45 [==============================] - 0s 4ms/step - loss: 0.1022 - accuracy: 0.9900 - val_loss: 1.3002 - val_accuracy: 0.6900\n",
            "Epoch 172/200\n",
            "45/45 [==============================] - 0s 4ms/step - loss: 0.0999 - accuracy: 0.9900 - val_loss: 1.2646 - val_accuracy: 0.6800\n",
            "Epoch 173/200\n",
            "45/45 [==============================] - 0s 3ms/step - loss: 0.0966 - accuracy: 0.9867 - val_loss: 1.3044 - val_accuracy: 0.6700\n",
            "Epoch 174/200\n",
            "45/45 [==============================] - 0s 4ms/step - loss: 0.0939 - accuracy: 0.9933 - val_loss: 1.3094 - val_accuracy: 0.6900\n",
            "Epoch 175/200\n",
            "45/45 [==============================] - 0s 4ms/step - loss: 0.0924 - accuracy: 0.9933 - val_loss: 1.2853 - val_accuracy: 0.6900\n",
            "Epoch 176/200\n",
            "45/45 [==============================] - 0s 4ms/step - loss: 0.0889 - accuracy: 0.9922 - val_loss: 1.3321 - val_accuracy: 0.6700\n",
            "Epoch 177/200\n",
            "45/45 [==============================] - 0s 3ms/step - loss: 0.0885 - accuracy: 0.9933 - val_loss: 1.3356 - val_accuracy: 0.6700\n",
            "Epoch 178/200\n",
            "45/45 [==============================] - 0s 5ms/step - loss: 0.0837 - accuracy: 0.9933 - val_loss: 1.3173 - val_accuracy: 0.6800\n",
            "Epoch 179/200\n",
            "45/45 [==============================] - 0s 3ms/step - loss: 0.0825 - accuracy: 0.9922 - val_loss: 1.2856 - val_accuracy: 0.6800\n",
            "Epoch 180/200\n",
            "45/45 [==============================] - 0s 4ms/step - loss: 0.0814 - accuracy: 0.9922 - val_loss: 1.3208 - val_accuracy: 0.7000\n",
            "Epoch 181/200\n",
            "45/45 [==============================] - 0s 4ms/step - loss: 0.0790 - accuracy: 0.9933 - val_loss: 1.3396 - val_accuracy: 0.6800\n",
            "Epoch 182/200\n",
            "45/45 [==============================] - 0s 3ms/step - loss: 0.0790 - accuracy: 0.9944 - val_loss: 1.3445 - val_accuracy: 0.6700\n",
            "Epoch 183/200\n",
            "45/45 [==============================] - 0s 4ms/step - loss: 0.0741 - accuracy: 0.9956 - val_loss: 1.3699 - val_accuracy: 0.6800\n",
            "Epoch 184/200\n",
            "45/45 [==============================] - 0s 3ms/step - loss: 0.0741 - accuracy: 0.9944 - val_loss: 1.3456 - val_accuracy: 0.6800\n",
            "Epoch 185/200\n",
            "45/45 [==============================] - 0s 4ms/step - loss: 0.0730 - accuracy: 0.9956 - val_loss: 1.3624 - val_accuracy: 0.6800\n",
            "Epoch 186/200\n",
            "45/45 [==============================] - 0s 4ms/step - loss: 0.0699 - accuracy: 0.9956 - val_loss: 1.4020 - val_accuracy: 0.6800\n",
            "Epoch 187/200\n",
            "45/45 [==============================] - 0s 4ms/step - loss: 0.0685 - accuracy: 0.9956 - val_loss: 1.3468 - val_accuracy: 0.6800\n",
            "Epoch 188/200\n",
            "45/45 [==============================] - 0s 5ms/step - loss: 0.0640 - accuracy: 0.9967 - val_loss: 1.3975 - val_accuracy: 0.6800\n",
            "Epoch 189/200\n",
            "45/45 [==============================] - 0s 3ms/step - loss: 0.0667 - accuracy: 0.9944 - val_loss: 1.4372 - val_accuracy: 0.6700\n",
            "Epoch 190/200\n",
            "45/45 [==============================] - 0s 4ms/step - loss: 0.0628 - accuracy: 0.9933 - val_loss: 1.4016 - val_accuracy: 0.6800\n",
            "Epoch 191/200\n",
            "45/45 [==============================] - 0s 3ms/step - loss: 0.0610 - accuracy: 0.9956 - val_loss: 1.3965 - val_accuracy: 0.6800\n",
            "Epoch 192/200\n",
            "45/45 [==============================] - 0s 3ms/step - loss: 0.0600 - accuracy: 0.9933 - val_loss: 1.4076 - val_accuracy: 0.6800\n",
            "Epoch 193/200\n",
            "45/45 [==============================] - 0s 5ms/step - loss: 0.0572 - accuracy: 0.9967 - val_loss: 1.4123 - val_accuracy: 0.6800\n",
            "Epoch 194/200\n",
            "45/45 [==============================] - 0s 3ms/step - loss: 0.0545 - accuracy: 0.9956 - val_loss: 1.4519 - val_accuracy: 0.6700\n",
            "Epoch 195/200\n",
            "45/45 [==============================] - 0s 4ms/step - loss: 0.0552 - accuracy: 0.9967 - val_loss: 1.4456 - val_accuracy: 0.6700\n",
            "Epoch 196/200\n",
            "45/45 [==============================] - 0s 3ms/step - loss: 0.0533 - accuracy: 0.9944 - val_loss: 1.4519 - val_accuracy: 0.6700\n",
            "Epoch 197/200\n",
            "45/45 [==============================] - 0s 4ms/step - loss: 0.0513 - accuracy: 0.9978 - val_loss: 1.4960 - val_accuracy: 0.6700\n",
            "Epoch 198/200\n",
            "45/45 [==============================] - 0s 4ms/step - loss: 0.0503 - accuracy: 0.9967 - val_loss: 1.4956 - val_accuracy: 0.6700\n",
            "Epoch 199/200\n",
            "45/45 [==============================] - 0s 3ms/step - loss: 0.0482 - accuracy: 0.9967 - val_loss: 1.4641 - val_accuracy: 0.6800\n",
            "Epoch 200/200\n",
            "45/45 [==============================] - 0s 4ms/step - loss: 0.0476 - accuracy: 0.9967 - val_loss: 1.4784 - val_accuracy: 0.6700\n"
          ]
        }
      ]
    },
    {
      "cell_type": "code",
      "source": [
        "# Выводим график точности распознования на обучающей и проверочной выборке\n",
        "plt.plot(history.history['accuracy'])\n",
        "plt.plot(history.history['val_accuracy'])\n",
        "plt.show()"
      ],
      "metadata": {
        "colab": {
          "base_uri": "https://localhost:8080/",
          "height": 264
        },
        "id": "Vgce8P0AnBzl",
        "outputId": "a710558c-4686-469e-da27-b6d23b527462"
      },
      "execution_count": null,
      "outputs": [
        {
          "output_type": "display_data",
          "data": {
            "image/png": "[encoded data removed]",
            "text/plain": [
              "<Figure size 432x288 with 1 Axes>"
            ]
          },
          "metadata": {
            "needs_background": "light"
          }
        }
      ]
    }
  ]
}