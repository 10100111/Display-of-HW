{
  "nbformat": 4,
  "nbformat_minor": 0,
  "metadata": {
    "colab": {
      "name": "3.Pro. Распознавание рукописных цифр (Университет искусственного интеллекта)",
      "provenance": [],
      "collapsed_sections": [
        "jjqH_JaURnnK",
        "c4pg0HUQCdFk",
        "MMkWv4VhC2ti",
        "iD7hR5hXNLUe",
        "rrWmNM6jKBrc",
        "rstrtRs2O1so",
        "5BUXluCMWpMB",
        "dntk9WK6TbA-",
        "6tP0Iq2NX9qK",
        "c3-PovDMb2TU",
        "n3UgLD14-l72",
        "qLX9aj3eFCPB",
        "Pa2_uq889QCz"
      ],
      "include_colab_link": true
    },
    "kernelspec": {
      "name": "python3",
      "display_name": "Python 3"
    },
    "accelerator": "GPU"
  },
  "cells": [
    {
      "cell_type": "markdown",
      "metadata": {
        "id": "view-in-github",
        "colab_type": "text"
      },
      "source": [
        "<a href=\"https://colab.research.google.com/github/10100111/Display-of-HW1/blob/main/3_Pro_%D0%A0%D0%B0%D1%81%D0%BF%D0%BE%D0%B7%D0%BD%D0%B0%D0%B2%D0%B0%D0%BD%D0%B8%D0%B5_%D1%80%D1%83%D0%BA%D0%BE%D0%BF%D0%B8%D1%81%D0%BD%D1%8B%D1%85_%D1%86%D0%B8%D1%84%D1%80_(%D0%A3%D0%BD%D0%B8%D0%B2%D0%B5%D1%80%D1%81%D0%B8%D1%82%D0%B5%D1%82_%D0%B8%D1%81%D0%BA%D1%83%D1%81%D1%81%D1%82%D0%B2%D0%B5%D0%BD%D0%BD%D0%BE%D0%B3%D0%BE_%D0%B8%D0%BD%D1%82%D0%B5%D0%BB%D0%BB%D0%B5%D0%BA%D1%82%D0%B0).ipynb\" target=\"_parent\"><img src=\"https://colab.research.google.com/assets/colab-badge.svg\" alt=\"Open In Colab\"/></a>"
      ]
    },
    {
      "cell_type": "markdown",
      "metadata": {
        "id": "Z4M2Jz0wo6sT"
      },
      "source": [
        "Задание Pro\n",
        "Задание Pro\n",
        "Макс 10 баллов\n",
        "Распознайте рукописную цифру, созданную вами с помощью графического редактора (например, Paint).\n",
        "\n",
        "Последовательность шагов:\n",
        "1. В графическом редакторе рисуем произвольную цифру.\n",
        "2. Сохраняем документ и загружаем его в Colaboratory.\n",
        "3. С помощью функции image.load_img(path, target_size=(28, 28), color_mode = ‘grayscale’) загружаем картинку в переменную.\n",
        "4. С помощью функции image.img_to_array(img) преобразуем изображение в numpy-массив.\n",
        "5. Выполняем инверсию цветов, нормирование и решейп массива.\n",
        "6. Выполняем распознавание собственной рукописной цифры.\n"
      ]
    },
    {
      "cell_type": "code",
      "metadata": {
        "colab": {
          "base_uri": "https://localhost:8080/"
        },
        "id": "yBWGKtEztnQp",
        "outputId": "499d7514-15e2-4756-ba71-708797ac5929"
      },
      "source": [
        "from google.colab import drive\n",
        "drive.mount('/content/drive')"
      ],
      "execution_count": null,
      "outputs": [
        {
          "output_type": "stream",
          "text": [
            "Mounted at /content/drive\n"
          ],
          "name": "stdout"
        }
      ]
    },
    {
      "cell_type": "code",
      "metadata": {
        "id": "hI0_IsdX3691"
      },
      "source": [
        "# Импорт библиотек\n",
        "from tensorflow.keras.datasets import mnist\n",
        "from tensorflow.keras.models import Sequential\n",
        "from tensorflow.keras.layers import Dense\n",
        "from tensorflow.keras.optimizers import Adam\n",
        "from tensorflow.keras import utils\n",
        "from tensorflow.keras.preprocessing import image\n",
        "import numpy as np\n",
        "import pylab\n",
        "from mpl_toolkits.mplot3d import Axes3D\n",
        "import matplotlib.pyplot as plt\n",
        "from PIL import Image\n",
        "%matplotlib inline"
      ],
      "execution_count": null,
      "outputs": []
    },
    {
      "cell_type": "code",
      "metadata": {
        "colab": {
          "base_uri": "https://localhost:8080/"
        },
        "id": "zC0cSArYwUUI",
        "outputId": "f389bec5-7c01-4b39-b454-94ab4217531d"
      },
      "source": [
        "# С помощью функции image.load_img(path, target_size=(28, 28), color_mode = ‘grayscale’) загружаем картинку в переменную.\n",
        "path = '0.png'\n",
        "x = image.load_img(path, target_size=(28, 28), color_mode = 'grayscale')\n",
        "# С помощью функции image.img_to_array(img) преобразуем изображение в numpy-массив.\n",
        "x = image.img_to_array(x)\n",
        "# Выполняем инверсию цветов, нормирование и решейп массива.\n",
        "x = x.reshape(1,784)\n",
        "print(x.shape)\n",
        "x = x.astype('float32')\n",
        "x = x/255\n",
        "\n"
      ],
      "execution_count": null,
      "outputs": [
        {
          "output_type": "stream",
          "name": "stdout",
          "text": [
            "(1, 784)\n"
          ]
        }
      ]
    },
    {
      "cell_type": "code",
      "metadata": {
        "id": "jpfvZWJqgXQq"
      },
      "source": [
        "# Загрузка базы mnist\n",
        "(x_train_org, y_train_org), (x_test_org, y_test_org) = mnist.load_data()"
      ],
      "execution_count": null,
      "outputs": []
    },
    {
      "cell_type": "code",
      "metadata": {
        "id": "Wq2nCNw5gnWi"
      },
      "source": [
        "# 3. Нормирование и преобразование x_train и y_train.\n",
        "x_train = x_train_org.reshape(60000, 784)\n",
        "x_test = x_test_org.reshape(10000, 784)\n",
        "x_train = x_train.astype('float32')\n",
        "x_train = x_train/255\n",
        "x_test = x_test.astype('float32')\n",
        "x_test = x_test/255\n",
        "y_train = utils.to_categorical(y_train_org,10)\n",
        "Y_test = utils.to_categorical(y_test_org,10)\n",
        "# Преобразуем ответы в формат one_hot_encoding\n",
        "y_train = utils.to_categorical(y_train_org, 10)\n",
        "y_test = utils.to_categorical(y_test_org, 10)"
      ],
      "execution_count": null,
      "outputs": []
    },
    {
      "cell_type": "code",
      "metadata": {
        "colab": {
          "base_uri": "https://localhost:8080/"
        },
        "id": "Mh9SmfH_leXp",
        "outputId": "5bbebe21-7141-48e4-9443-39be5511cea0"
      },
      "source": [
        "# Создание нейронной сети\n",
        "model = Sequential()\n",
        "model.add(Dense(800, input_dim = 784, activation = 'relu'))\n",
        "model.add(Dense(100, activation = 'relu'))\n",
        "model.add(Dense(10, activation = 'softmax'))\n",
        "\n",
        "model.compile(loss = 'categorical_crossentropy', optimizer = 'adam', metrics = 'accuracy')\n",
        "print(model.summary())"
      ],
      "execution_count": null,
      "outputs": [
        {
          "output_type": "stream",
          "name": "stdout",
          "text": [
            "Model: \"sequential_3\"\n",
            "_________________________________________________________________\n",
            "Layer (type)                 Output Shape              Param #   \n",
            "=================================================================\n",
            "dense_9 (Dense)              (None, 800)               628000    \n",
            "_________________________________________________________________\n",
            "dense_10 (Dense)             (None, 100)               80100     \n",
            "_________________________________________________________________\n",
            "dense_11 (Dense)             (None, 10)                1010      \n",
            "=================================================================\n",
            "Total params: 709,110\n",
            "Trainable params: 709,110\n",
            "Non-trainable params: 0\n",
            "_________________________________________________________________\n",
            "None\n"
          ]
        }
      ]
    },
    {
      "cell_type": "code",
      "metadata": {
        "colab": {
          "base_uri": "https://localhost:8080/"
        },
        "id": "07jnuuLgm7u-",
        "outputId": "cafa9eee-890d-4cc0-fda9-d7d459d1e020"
      },
      "source": [
        "# Обучение нейронной сети.\n",
        "model.fit(x_train, y_train, batch_size = 100, epochs = 15, verbose = 1)\n"
      ],
      "execution_count": null,
      "outputs": [
        {
          "output_type": "stream",
          "name": "stdout",
          "text": [
            "Epoch 1/15\n",
            "600/600 [==============================] - 7s 11ms/step - loss: 0.2112 - accuracy: 0.9374\n",
            "Epoch 2/15\n",
            "600/600 [==============================] - 6s 10ms/step - loss: 0.0781 - accuracy: 0.9762\n",
            "Epoch 3/15\n",
            "600/600 [==============================] - 7s 11ms/step - loss: 0.0523 - accuracy: 0.9842\n",
            "Epoch 4/15\n",
            "600/600 [==============================] - 7s 12ms/step - loss: 0.0346 - accuracy: 0.9888\n",
            "Epoch 5/15\n",
            "600/600 [==============================] - 7s 11ms/step - loss: 0.0256 - accuracy: 0.9919\n",
            "Epoch 6/15\n",
            "600/600 [==============================] - 7s 11ms/step - loss: 0.0205 - accuracy: 0.9931\n",
            "Epoch 7/15\n",
            "600/600 [==============================] - 6s 10ms/step - loss: 0.0175 - accuracy: 0.9942\n",
            "Epoch 8/15\n",
            "600/600 [==============================] - 6s 11ms/step - loss: 0.0146 - accuracy: 0.9951\n",
            "Epoch 9/15\n",
            "600/600 [==============================] - 7s 11ms/step - loss: 0.0157 - accuracy: 0.9947\n",
            "Epoch 10/15\n",
            "600/600 [==============================] - 7s 11ms/step - loss: 0.0123 - accuracy: 0.9960\n",
            "Epoch 11/15\n",
            "600/600 [==============================] - 6s 11ms/step - loss: 0.0105 - accuracy: 0.9966\n",
            "Epoch 12/15\n",
            "600/600 [==============================] - 7s 11ms/step - loss: 0.0086 - accuracy: 0.9970\n",
            "Epoch 13/15\n",
            "600/600 [==============================] - 7s 11ms/step - loss: 0.0122 - accuracy: 0.9959\n",
            "Epoch 14/15\n",
            "600/600 [==============================] - 7s 11ms/step - loss: 0.0095 - accuracy: 0.9970\n",
            "Epoch 15/15\n",
            "600/600 [==============================] - 7s 12ms/step - loss: 0.0061 - accuracy: 0.9984\n"
          ]
        },
        {
          "output_type": "execute_result",
          "data": {
            "text/plain": [
              "<keras.callbacks.History at 0x7f38d72b8a10>"
            ]
          },
          "metadata": {},
          "execution_count": 59
        }
      ]
    },
    {
      "cell_type": "code",
      "metadata": {
        "colab": {
          "base_uri": "https://localhost:8080/",
          "height": 48
        },
        "id": "Yt0RagQR6Skg",
        "outputId": "08d4416c-f506-4eda-f695-98707fe70fb5"
      },
      "source": [
        "from IPython.display import Image\n",
        "Image('0.png')\n"
      ],
      "execution_count": null,
      "outputs": [
        {
          "output_type": "execute_result",
          "data": {
            "image/png": "[encoded data removed]",
            "text/plain": [
              "<IPython.core.display.Image object>"
            ]
          },
          "metadata": {},
          "execution_count": 60
        }
      ]
    },
    {
      "cell_type": "code",
      "metadata": {
        "id": "i9Dp7P_d5WcO"
      },
      "source": [
        "prediction = model.predict(x) #Распознаём наш пример"
      ],
      "execution_count": null,
      "outputs": []
    },
    {
      "cell_type": "code",
      "metadata": {
        "colab": {
          "base_uri": "https://localhost:8080/"
        },
        "id": "3KA5MqnA5b4E",
        "outputId": "c6411fd7-308b-4a04-e46a-ac81ccf7e41d"
      },
      "source": [
        "print(prediction) #Выводим результат, это 10 цифр"
      ],
      "execution_count": null,
      "outputs": [
        {
          "output_type": "stream",
          "name": "stdout",
          "text": [
            "[[9.8561597e-01 6.4055479e-05 6.5256287e-03 1.5531583e-05 5.2278414e-05\n",
            "  3.7025629e-06 7.5665852e-03 5.2903735e-05 1.0013829e-05 9.3336879e-05]]\n"
          ]
        }
      ]
    },
    {
      "cell_type": "code",
      "metadata": {
        "colab": {
          "base_uri": "https://localhost:8080/"
        },
        "id": "10rHdiRk5nC6",
        "outputId": "afd13588-c0f5-4a2f-bffe-4edf75004925"
      },
      "source": [
        "sum(prediction[0])"
      ],
      "execution_count": null,
      "outputs": [
        {
          "output_type": "execute_result",
          "data": {
            "text/plain": [
              "1.0000000051259121"
            ]
          },
          "metadata": {},
          "execution_count": 63
        }
      ]
    },
    {
      "cell_type": "code",
      "metadata": {
        "colab": {
          "base_uri": "https://localhost:8080/"
        },
        "id": "IYDTo45k5utV",
        "outputId": "c5bbce23-c0ce-4c80-927b-3ed21a84e8ad"
      },
      "source": [
        "pred = np.argmax(prediction) # Получаем индекс самого большого элемента (это итоговая цифра, которую распознала сеть)\n",
        "print(pred)"
      ],
      "execution_count": null,
      "outputs": [
        {
          "output_type": "stream",
          "name": "stdout",
          "text": [
            "0\n"
          ]
        }
      ]
    }
  ]
}