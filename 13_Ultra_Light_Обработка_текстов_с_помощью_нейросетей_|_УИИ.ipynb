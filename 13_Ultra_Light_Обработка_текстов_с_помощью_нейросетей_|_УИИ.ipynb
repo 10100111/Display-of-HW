{
  "nbformat": 4,
  "nbformat_minor": 0,
  "metadata": {
    "colab": {
      "name": "13. Ultra Light. Обработка текстов с помощью нейросетей  | УИИ.ipynb",
      "provenance": [],
      "toc_visible": true,
      "authorship_tag": "ABX9TyOAKS9grtqC3cnKZN1/D2U+",
      "include_colab_link": true
    },
    "kernelspec": {
      "name": "python3",
      "display_name": "Python 3"
    },
    "language_info": {
      "name": "python"
    }
  },
  "cells": [
    {
      "cell_type": "markdown",
      "metadata": {
        "id": "view-in-github",
        "colab_type": "text"
      },
      "source": [
        "<a href=\"https://colab.research.google.com/github/10100111/Display-of-HW1/blob/main/13_Ultra_Light_%D0%9E%D0%B1%D1%80%D0%B0%D0%B1%D0%BE%D1%82%D0%BA%D0%B0_%D1%82%D0%B5%D0%BA%D1%81%D1%82%D0%BE%D0%B2_%D1%81_%D0%BF%D0%BE%D0%BC%D0%BE%D1%89%D1%8C%D1%8E_%D0%BD%D0%B5%D0%B9%D1%80%D0%BE%D1%81%D0%B5%D1%82%D0%B5%D0%B9_%7C_%D0%A3%D0%98%D0%98.ipynb\" target=\"_parent\"><img src=\"https://colab.research.google.com/assets/colab-badge.svg\" alt=\"Open In Colab\"/></a>"
      ]
    },
    {
      "cell_type": "markdown",
      "metadata": {
        "id": "bE_BoxLurFnC"
      },
      "source": [
        "Задание Ultra Lite\n",
        "\n",
        "Макс 10 баллов\n",
        "\n",
        "Самостоятельно обучите нейросеть по классификации текстов писателей. \n",
        "\n",
        "Для этого нужно предварительно написать обработку данных, разделение датасета «скользящим окном», саму нейросеть. Можно подглядывать в ноутбук занятия, однако код следует писать самому - без копирования."
      ]
    },
    {
      "cell_type": "markdown",
      "metadata": {
        "id": "09nWwiysrelH"
      },
      "source": [
        "# Import of libraries"
      ]
    },
    {
      "cell_type": "code",
      "metadata": {
        "id": "4jvQL4Y7sDvo"
      },
      "source": [
        "from google.colab import files\n",
        "import numpy as np\n",
        "import pandas as pd\n",
        "import matplotlib.pyplot as plt\n",
        "import os\n",
        "%matplotlib inline\n",
        "\n",
        "from tensorflow.keras import utils\n",
        "from tensorflow.keras.models import Sequential\n",
        "from tensorflow.keras.optimizers import Adam\n",
        "from tensorflow.keras.layers import Dense, Dropout, SpatialDropout1D, BatchNormalization, Flatten, Activation\n",
        "from tensorflow.keras.preprocessing.text import Tokenizer  #Метод для работы с текстами и преобразования их в последовательности\n",
        "from tensorflow.keras.preprocessing.sequence import pad_sequences #Метод для работы с последовательностями\n",
        "\n",
        "from sklearn.preprocessing import LabelEncoder #Метод кодирования тестовых лейблов\n",
        "from sklearn.model_selection import train_test_split #Метод для разделения выборки на обучающую и тестовую\n",
        "\n",
        "from google.colab import drive\n",
        "import time #Импортируем библеиотеку time"
      ],
      "execution_count": null,
      "outputs": []
    },
    {
      "cell_type": "code",
      "metadata": {
        "colab": {
          "base_uri": "https://localhost:8080/"
        },
        "id": "RBoXlfkAvYwH",
        "outputId": "6180fc50-0c15-436e-f552-f5f86c74479b"
      },
      "source": [
        "drive.mount('/content/drive')"
      ],
      "execution_count": null,
      "outputs": [
        {
          "output_type": "stream",
          "name": "stdout",
          "text": [
            "Drive already mounted at /content/drive; to attempt to forcibly remount, call drive.mount(\"/content/drive\", force_remount=True).\n"
          ]
        }
      ]
    },
    {
      "cell_type": "markdown",
      "metadata": {
        "id": "RIQP00Emvuq-"
      },
      "source": [
        "# Classification of writter's texts"
      ]
    },
    {
      "cell_type": "markdown",
      "metadata": {
        "id": "TJjxZ0kdwBZb"
      },
      "source": [
        "Loading data"
      ]
    },
    {
      "cell_type": "code",
      "metadata": {
        "colab": {
          "base_uri": "https://localhost:8080/"
        },
        "id": "217TH0v4v555",
        "outputId": "4ac04f14-038f-4b33-f444-54e0ebbce966"
      },
      "source": [
        "#Проверяем папку с текстами , если она есть , удаляем\n",
        "!rm - R '/content/texts' "
      ],
      "execution_count": null,
      "outputs": [
        {
          "output_type": "stream",
          "name": "stdout",
          "text": [
            "rm: cannot remove '-': No such file or directory\n",
            "rm: cannot remove 'R': No such file or directory\n",
            "rm: cannot remove '/content/texts': No such file or directory\n"
          ]
        }
      ]
    },
    {
      "cell_type": "code",
      "metadata": {
        "id": "85OC-LMowbcg"
      },
      "source": [
        "#Указываем путь к базе в гугл диск и создаем папку texts и извлекаем туда базу\n",
        "!unzip -q '/content/texts.zip' -d '/content/texts' #метод не сработал, ссылка была на незазипованную базу\n",
        "# загрузила вручную"
      ],
      "execution_count": null,
      "outputs": []
    },
    {
      "cell_type": "code",
      "metadata": {
        "id": "TH4mG_fMys1k"
      },
      "source": [
        "#Собираем данные через функцию, которая читает данные\n",
        "#На вход подаем путь к файлу, открываем файл в режиме чтения\n",
        "# переносы строки меняем на пробелы\n",
        "# возвращаем текст файла\n",
        "def readText(fileName):\n",
        "  f = open(fileName, 'r')\n",
        "  text = f.read()\n",
        "  text = text.replace('\\n', ' ')\n",
        "\n",
        "  return text\n",
        "\n",
        "# Объявляем классы и считаем кол-во классов\n",
        "className = ['О. Генри', 'Стругацкие', 'Булгаков', ' Саймак', 'Фрай', 'Брэдберри']\n",
        "nClasses = len(className)\n",
        "\n",
        "# Итак, мы растянули весь текст в одну строку"
      ],
      "execution_count": null,
      "outputs": []
    },
    {
      "cell_type": "code",
      "metadata": {
        "colab": {
          "base_uri": "https://localhost:8080/"
        },
        "id": "zzmdH4RKxMAj",
        "outputId": "ce8b892f-998b-4c51-9767-b3824a687aa5"
      },
      "source": [
        "#Загружаем обучающие тексты\n",
        "\n",
        "trainText = []\n",
        "testText = []\n",
        "\n",
        "#Создаем выборку по условию:\n",
        "#Класс каждого i-го элемента в обучающей выборке должен соответствовать\n",
        "#классу каждого i-го элемента тестовой выборки\n",
        "\n",
        "# Обходим классы\n",
        "for i in className:\n",
        "  # пробегаемся по всем документам в папке 'texts'\n",
        "  for j in os.listdir('texts/'):\n",
        "    # смотрим содержится ли в названии имя класса, если да , то работаем дальше\n",
        "    if i in j:\n",
        "      # Дальше проверяем обучающий это файл или тестовый и добавляем текст в выборку\n",
        "      if 'Обучающая' in j:\n",
        "        trainText.append(readText('texts/' + j))\n",
        "        print(j, 'добавлен в обучающую выборку')\n",
        "      if 'Тестовая' in j:\n",
        "        testText.append(readText('texts/' + j))\n",
        "        print(j, 'добвлен в тестовую выборку')\n",
        "print()\n",
        "\n",
        "      "
      ],
      "execution_count": null,
      "outputs": [
        {
          "output_type": "stream",
          "name": "stdout",
          "text": [
            "(О. Генри) Обучающая_50 вместе.txt добавлен в обучающую выборку\n",
            "(О. Генри) Тестовая_20 вместе.txt добвлен в тестовую выборку\n",
            "(Стругацкие) Обучающая_5 вместе.txt добавлен в обучающую выборку\n",
            "(Стругацкие) Тестовая_2 вместе.txt добвлен в тестовую выборку\n",
            "(Булгаков) Тестовая_2 вместе.txt добвлен в тестовую выборку\n",
            "(Булгаков) Обучающая_5 вместе.txt добавлен в обучающую выборку\n",
            "(Клиффорд Саймак) Обучающая_5 вместе.txt добавлен в обучающую выборку\n",
            "(Клиффорд Саймак) Тестовая_2 вместе.txt добвлен в тестовую выборку\n",
            "(Макс Фрай) Обучающая_5 вместе.txt добавлен в обучающую выборку\n",
            "(Макс Фрай) Тестовая_2 вместе.txt добвлен в тестовую выборку\n",
            "(Рэй Брэдберри) Тестовая_8 вместе.txt добвлен в тестовую выборку\n",
            "(Рэй Брэдберри) Обучающая_22 вместе.txt добавлен в обучающую выборку\n",
            "\n"
          ]
        }
      ]
    },
    {
      "cell_type": "code",
      "metadata": {
        "colab": {
          "base_uri": "https://localhost:8080/"
        },
        "id": "5_StTM1rJ-1A",
        "outputId": "5b2f5976-08c4-4a0b-de1b-aec0b9be1720"
      },
      "source": [
        "# Посмотрим кол-во элементов в trainText и в первом элементе \n",
        "print(len(trainText))\n",
        "print(len(trainText[0]))"
      ],
      "execution_count": null,
      "outputs": [
        {
          "output_type": "stream",
          "name": "stdout",
          "text": [
            "6\n",
            "1049517\n"
          ]
        }
      ]
    },
    {
      "cell_type": "code",
      "metadata": {
        "colab": {
          "base_uri": "https://localhost:8080/"
        },
        "id": "S2Lu6NNUfSK7",
        "outputId": "5984c532-d4d6-42dd-e745-c916bf6a917d"
      },
      "source": [
        "# Посмотрим кол-во элементов в testText и в первом элементе \n",
        "print(len(testText))\n",
        "print(len(testText[0]))"
      ],
      "execution_count": null,
      "outputs": [
        {
          "output_type": "stream",
          "name": "stdout",
          "text": [
            "6\n",
            "349662\n"
          ]
        }
      ]
    },
    {
      "cell_type": "markdown",
      "metadata": {
        "id": "TbBmfdAwK47A"
      },
      "source": [
        "# Data processing. Converting textual data to numeric and vector for neural network training"
      ]
    },
    {
      "cell_type": "code",
      "metadata": {
        "colab": {
          "base_uri": "https://localhost:8080/"
        },
        "id": "xTiAbRIVLEBy",
        "outputId": "a7ffb36a-3291-496c-b80c-e016886f362f"
      },
      "source": [
        "#Tokenizer - функция Keras , которая поможет разделить текст и преобразовать его в матрицу числовых значений\n",
        "# засекаем время\n",
        "cur_time = time.time()\n",
        "#Для русского языка часто используется параметр 20 000 - кол-во слов/индексов при обучении текста\n",
        "maxWordsCount = 20000\n",
        "#Избавимся от ненужных символов, приводим слова к нижнему регистру и char_level = False - токенизируем по словам\n",
        "tokenizer = Tokenizer(num_words=maxWordsCount, filters = '!\"#$%&()*+,-–—./…:;<=>?@[\\\\]^_`{|}~«»\\t\\n\\xa0\\ufeff', lower = True, split=' ', oov_token='unknown', char_level = False)\n",
        "\n",
        "# Подаем тексты в обработку\n",
        "tokenizer.fit_on_texts(trainText)\n",
        "#Выводим интексы слов для просмотра\n",
        "items = list(tokenizer.word_index.items())\n",
        "print('Время обработки: ', round(time.time()-cur_time, 2), 'c', sep='')\n",
        "\n",
        "\n",
        "\n"
      ],
      "execution_count": null,
      "outputs": [
        {
          "output_type": "stream",
          "name": "stdout",
          "text": [
            "Время обработки: 3.35c\n"
          ]
        }
      ]
    },
    {
      "cell_type": "code",
      "metadata": {
        "colab": {
          "base_uri": "https://localhost:8080/"
        },
        "id": "glSpiPPsPM2O",
        "outputId": "17a853b0-4f09-4202-d542-62a5945ccff7"
      },
      "source": [
        "# посмотрим первые 120 часто встречающихся слов\n",
        "print(items[:120])\n",
        "print('Размер словаря: ', len(items))"
      ],
      "execution_count": null,
      "outputs": [
        {
          "output_type": "stream",
          "name": "stdout",
          "text": [
            "[('unknown', 1), ('и', 2), ('в', 3), ('не', 4), ('я', 5), ('что', 6), ('на', 7), ('с', 8), ('он', 9), ('а', 10), ('как', 11), ('то', 12), ('это', 13), ('но', 14), ('все', 15), ('у', 16), ('по', 17), ('его', 18), ('к', 19), ('так', 20), ('мне', 21), ('из', 22), ('за', 23), ('меня', 24), ('ты', 25), ('же', 26), ('бы', 27), ('сказал', 28), ('вы', 29), ('было', 30), ('от', 31), ('они', 32), ('мы', 33), ('только', 34), ('да', 35), ('еще', 36), ('она', 37), ('о', 38), ('вот', 39), ('когда', 40), ('если', 41), ('уже', 42), ('был', 43), ('нет', 44), ('ни', 45), ('их', 46), ('ну', 47), ('чтобы', 48), ('до', 49), ('для', 50), ('ему', 51), ('ничего', 52), ('может', 53), ('или', 54), ('даже', 55), ('там', 56), ('очень', 57), ('кто', 58), ('ее', 59), ('тут', 60), ('потом', 61), ('просто', 62), ('чем', 63), ('него', 64), ('быть', 65), ('теперь', 66), ('под', 67), ('где', 68), ('нас', 69), ('есть', 70), ('тебя', 71), ('ли', 72), ('время', 73), ('тебе', 74), ('вас', 75), ('со', 76), ('нибудь', 77), ('во', 78), ('раз', 79), ('этот', 80), ('сейчас', 81), ('вам', 82), ('себя', 83), ('здесь', 84), ('себе', 85), ('этого', 86), ('уж', 87), ('надо', 88), ('будет', 89), ('том', 90), ('можно', 91), ('сам', 92), ('нам', 93), ('были', 94), ('была', 95), ('тоже', 96), ('того', 97), ('один', 98), ('без', 99), ('спросил', 100), ('больше', 101), ('них', 102), ('через', 103), ('ведь', 104), ('человек', 105), ('знаю', 106), ('этом', 107), ('конечно', 108), ('какой', 109), ('почему', 110), ('дело', 111), ('пока', 112), ('глаза', 113), ('андрей', 114), ('потому', 115), ('чего', 116), ('им', 117), ('несколько', 118), ('при', 119), ('совершенно', 120)]\n",
            "Размер словаря:  133070\n"
          ]
        }
      ]
    },
    {
      "cell_type": "code",
      "metadata": {
        "colab": {
          "base_uri": "https://localhost:8080/"
        },
        "id": "F24hxLCuPobe",
        "outputId": "3d07a1f1-d4f8-481f-c7c6-ff732f7965ea"
      },
      "source": [
        "# протестируем словарь частотности\n",
        "print('Интересующее слово имет индекс: ', tokenizer.word_index[input('Уточните слово: ')])"
      ],
      "execution_count": null,
      "outputs": [
        {
          "output_type": "stream",
          "name": "stdout",
          "text": [
            "Уточните слово: и\n",
            "Интересующее слово имет индекс:  2\n"
          ]
        }
      ]
    },
    {
      "cell_type": "code",
      "metadata": {
        "colab": {
          "base_uri": "https://localhost:8080/"
        },
        "id": "RUDDjCA5Qa9g",
        "outputId": "05f19587-9724-4b45-af94-6529a4e888f8"
      },
      "source": [
        "# заменяем слова на индексы - преобразуем текст к числовым значениям\n",
        "trainWordIndexes = tokenizer.texts_to_sequences(trainText)\n",
        "testWordIndexes = tokenizer.texts_to_sequences(testText)\n",
        "\n",
        "print('Взглянем на фрагмент обучающего текста: ')\n",
        "print('В виде оригинального текста:                ', trainText[1][:87])\n",
        "print('Он же в виде последовательности индексов:   ', trainWordIndexes[1][:20], '\\n')"
      ],
      "execution_count": null,
      "outputs": [
        {
          "output_type": "stream",
          "name": "stdout",
          "text": [
            "Взглянем на фрагмент обучающего текста: \n",
            "В виде оригинального текста:                 Парень из преисподней     1     Ну и деревня! Сроду я таких деревень не видел и не знал\n",
            "Он же в виде последовательности индексов:    [473, 22, 1, 1508, 47, 2, 12834, 7800, 5, 415, 1, 4, 251, 2, 4, 249, 55, 6, 240, 9472] \n",
            "\n"
          ]
        }
      ]
    },
    {
      "cell_type": "code",
      "metadata": {
        "colab": {
          "base_uri": "https://localhost:8080/"
        },
        "id": "-Uk_1uQXRy5s",
        "outputId": "7ec29346-2d61-4211-af1a-f9f08ba9c1f6"
      },
      "source": [
        "print('Статистика по обучающим текстам  :')\n",
        "\n",
        "#Посчитаем слова и символы, для этого объявим переменные\n",
        "symbolsTrainText = 0\n",
        "wordsTrainTexts = 0\n",
        "\n",
        "#обходим все классы, печатаем сколько символов в примере и сколько слов\n",
        "for i in range(nClasses):\n",
        "  print(className[i], ' '*(10-len(className[i])), len(trainText[i]), 'символов, ',len(trainWordIndexes[i]), 'слов')\n",
        "  symbolsTrainText += len(trainText[i])\n",
        "  wordsTrainTexts += len(trainWordIndexes[i])\n",
        "\n",
        "print('----')\n",
        "print('В сумме ', symbolsTrainText, 'символов', wordsTrainTexts, 'слов \\n')\n",
        "print()\n",
        "print(\"Статистика по тестовым текстам: \")\n",
        "\n",
        "symbolsTestText = 0\n",
        "wordsTestText = 0 \n",
        "\n",
        "for i in range(nClasses):\n",
        "  print(className[i], ' '*(10-len(className[i])), len(testText[i]), 'символов, ', len(testWordIndexes[i]), 'слов')\n",
        "  symbolsTestText += len(testText[i])\n",
        "  wordsTestText += len(testWordIndexes[i])\n",
        "print('----')\n",
        "print('В сумме ', symbolsTestText, 'символов, ', wordsTestText, 'слов')\n",
        "\n"
      ],
      "execution_count": null,
      "outputs": [
        {
          "output_type": "stream",
          "name": "stdout",
          "text": [
            "Статистика по обучающим текстам  :\n",
            "О. Генри    1049517 символов,  160607 слов\n",
            "Стругацкие  2042469 символов,  313012 слов\n",
            "Булгаков    1765648 символов,  261465 слов\n",
            " Саймак     1609507 символов,  251502 слов\n",
            "Фрай        3700010 символов,  568533 слов\n",
            "Брэдберри   1386454 символов,  214454 слов\n",
            "----\n",
            "В сумме  11553605 символов 1769573 слов \n",
            "\n",
            "\n",
            "Статистика по тестовым текстам: \n",
            "О. Генри    349662 символов,  53238 слов\n",
            "Стругацкие  704846 символов,  108621 слов\n",
            "Булгаков    875042 символов,  132730 слов\n",
            " Саймак     318811 символов,  50360 слов\n",
            "Фрай        1278191 символов,  196731 слов\n",
            "Брэдберри   868673 символов,  132524 слов\n",
            "----\n",
            "В сумме  4395225 символов,  674204 слов\n"
          ]
        }
      ]
    },
    {
      "cell_type": "markdown",
      "metadata": {
        "id": "Av4rG5bgXTYz"
      },
      "source": [
        "# Creation of training and validation samples"
      ]
    },
    {
      "cell_type": "code",
      "metadata": {
        "id": "3ityn-egXXE6"
      },
      "source": [
        "# Напишем функцию, которая получает последовательность индексов, шаг и ширину.\n",
        "# В xSample заносим примеры\n",
        "# В wordsLen считаем кол-во символов\n",
        "# В цикле while будем \"откусывать\" кусочки из wordIndexes длиной xLen\n",
        "# По списку индексов слов разделяем на короткие векторы.\n",
        "def getSetFromIndexes(wordIndexes, xLen, step):\n",
        "  xSample = []\n",
        "  wordsLen = len(wordIndexes)\n",
        "  index = 0\n",
        "\n",
        "  while (index + xLen <= wordsLen):\n",
        "    xSample.append(wordIndexes[index:index+xLen])\n",
        "    index += step\n",
        "\n",
        "  return xSample\n",
        "\n",
        "# Это функция для одного писателя , а у нас их 6\n"
      ],
      "execution_count": null,
      "outputs": []
    },
    {
      "cell_type": "code",
      "metadata": {
        "id": "APsbCYpuoBQ-"
      },
      "source": [
        "# Для этого создаем функцию createSetsMultyClasses, на вход подаем последовательность индексов, размер окна, шаг окна\n",
        "def createSetsMultiClasses(wordIndexes, xLen, step):\n",
        "  #Для каждого из 6 классов создаем обучающую и проверочную выборки\n",
        "  nClasses = len(wordIndexes)\n",
        "  classesXSamples = []\n",
        "  # Для каждого текста из последовательности выборки\n",
        "  for wI in wordIndexes:\n",
        "    #добавляем в список очередной текст индексов разбиный на (кол-во окон * длину окна)\n",
        "    classesXSamples.append(getSetFromIndexes(wI, xLen, step))\n",
        "\n",
        "  #Создаем один общий xSamples \n",
        "  # список размером \"суммарное кол-во окон во всех текстах*длину окна (например, 15779*1000)\"\n",
        "  xSamples = []\n",
        "  # список размером \"суммарное кол-во окон во всех текстах*вектор длиной 6\"\n",
        "  ySamples = []\n",
        "\n",
        "  #В диапазоне кол-ва классов (6)\n",
        "  for t in range (nClasses):\n",
        "    # Берем очередной текст вида \"кол-во окон в тексте*длину окна\"(например, 1341*1000)\n",
        "    xT = classesXSamples[t]\n",
        "    # И каждое его окно добавляем в общий список выборки\n",
        "    for i in range(len(xT)):\n",
        "      xSamples.append(xT[i])\n",
        "      # Добавляем соответствующий вектор класса\n",
        "      ySamples.append(utils.to_categorical(t, nClasses))\n",
        "\n",
        "  # переводим в массив для подачи в нейронку\n",
        "  xSamples = np.array(xSamples)\n",
        "  ySamples = np.array(ySamples)\n",
        "  \n",
        "  #Функция возвращает выборку и соответствующие векторы классов\n",
        "  return (xSamples, ySamples)\n",
        "\n"
      ],
      "execution_count": null,
      "outputs": []
    },
    {
      "cell_type": "code",
      "metadata": {
        "id": "AB3aFFDx4TEa"
      },
      "source": [
        "#Задаем параметры переменным \n",
        "#Длина отрезка текста, по которой анализируем, в словах\n",
        "xLen = 1000 \n",
        "#Шаг разбиения исходного текста на обучающие векторы\n",
        "step = 100 "
      ],
      "execution_count": null,
      "outputs": []
    },
    {
      "cell_type": "code",
      "metadata": {
        "colab": {
          "base_uri": "https://localhost:8080/"
        },
        "id": "n7UrbqIh4jru",
        "outputId": "2d05ff81-fc19-4f15-e92b-9f406295f8a6"
      },
      "source": [
        "#Засекаем текущее время\n",
        "cur_time = time.time()\n",
        "#извлекаем обучающую и тестовую выборки\n",
        "xTrain, yTrain = createSetsMultiClasses(trainWordIndexes, xLen, step)\n",
        "xTest, yTest = createSetsMultiClasses(testWordIndexes, xLen, step)\n",
        "\n",
        "print(xTrain.shape)\n",
        "print(yTrain.shape)\n",
        "print(xTest.shape)\n",
        "print(yTest.shape)\n",
        "print('Время обработки : ', round(time.time() - cur_time, 2), 'c', sep='')\n",
        "#Получили тестовый набор, для Embedding этого достаточно. А для bag of words нужно xTrain и xTest преобразовать в векторы из 0 и 1\n"
      ],
      "execution_count": null,
      "outputs": [
        {
          "output_type": "stream",
          "name": "stdout",
          "text": [
            "(17640, 1000)\n",
            "(17640, 6)\n",
            "(6686, 1000)\n",
            "(6686, 6)\n",
            "Время обработки : 4.03c\n"
          ]
        }
      ]
    },
    {
      "cell_type": "code",
      "metadata": {
        "colab": {
          "base_uri": "https://localhost:8080/"
        },
        "id": "bdPAwyd67pNG",
        "outputId": "6d6f5861-e2de-413c-8acc-96148ecb6d13"
      },
      "source": [
        "print(xTrain[0])"
      ],
      "execution_count": null,
      "outputs": [
        {
          "output_type": "stream",
          "name": "stdout",
          "text": [
            "[ 4725     7  2449  1757     1     3     1     1    11     1  7581     3\n",
            "  3274     1     1   272  1057    16   259  2150     7     1     1   644\n",
            "     9  2552     1     1     3  1652  7931  9662   952    11    27    55\n",
            "     1   133   130     1   122  1409  3211     1   907     1  1158 15510\n",
            "     1    36   193     1    63     1  2609  4726     1   953     1  1891\n",
            "     1  2927     3     1 10220     2     1 17013     1   221     1     1\n",
            "    11 15511     1   145   721     1     1     1   593   272     1     2\n",
            "     1  1934     1  6737    17     1     1   371 14307    78    15  1460\n",
            "     1  7932 10855  1200     7     1     1     1     1  7932     1  8682\n",
            "  7582    50    64     1 14308  2656   246   272  4242    80  2414 11508\n",
            "     4   743  3362     3  1757  4243  4727     8  8288     1     1  1310\n",
            "  6255  2121     1   917   281     1  7010   336  7011   221 12294    17\n",
            "     1   144 11508   886     8  6738  9134  5561  4861    31  4591     1\n",
            "     2     1  1217     1 13217  3824     7  7267     2 15512     1     2\n",
            "  2553     1     1     1 10855  1200     1   294  1855 11509     1     1\n",
            "     1   138    43     1     1  5383     2  3212     6  1200     7   960\n",
            "     1     8     1   961     1     2  4862     3   179     1 18830  4244\n",
            "     1  1829     6  1855  1200   324    12  3506   880 10856 14309    95\n",
            "     3  1291 17014    40     3  1636  2342 10221 15513   703  1520   105\n",
            "     2  4343     7   537   133  1244    95 10222     8  5197  1935     2\n",
            "  4592   160     1   613    72  5562     7   144     1  7583   105 10223\n",
            "     3  1636    43  1280  1935     1  1830     2     1    23  7012     1\n",
            "     1     1  2150     1     2 12295    39   976   707  1935     2  4592\n",
            "     1     3    12    73   134     1  1891  3363    16  1637    94     1\n",
            "   392  1594 13218     1     1    46  3095  1935   275     7   984 18831\n",
            " 18832    38     1    18     1     1   174     1 12296  3825    19     1\n",
            "     1     2 10224     7   371    40     9   199     3    63   111     9\n",
            "  5988   209   266  3665     2   836   930 10857   326     1   448     6\n",
            "    15  3275 18833    94     1     2 12297     3  5384  2610   628     7\n",
            "   521   960   652     6  2060    19  5385  3437     1  7933  3666  2657\n",
            "    22    86    12   182 12298  1200  6256     1     1    15    13    73\n",
            "     9  4863   579   311     8     1  3592     1  3666  2657     7  5989\n",
            "  3096 18834   331 17015     1  5990     3   480   399   836  1935     3\n",
            "   480     2    20    87  9663    22    23 11508   331  1382     7   684\n",
            "   499     4 12299  1461  9664   123  1758    88    26  5991     8     1\n",
            " 15514     3    98  1726   169    29  9135     1     1     1     1    10\n",
            "     3  1831    22    23    86  5765  5766  1200  2263    17   371     2\n",
            "     1  5992     8     1     1   886     1     7    64     8     1  6739\n",
            "   686     9    43    22   521  7934   331    50  1476     1  5198  4344\n",
            "  9136     3     1     1  3826     3     1  2875  2656    22     1  3827\n",
            "     9    43   985     1    18     1     1    27  1441    41    27    59\n",
            "     4     1     1  2298    40 14308    95   155     1    51    10  1934\n",
            "  7584   179     1  3593  1141     8  2000  1783    67     1     1   769\n",
            "   254     1    59  3438   886    19   177     1     7     1     1     1\n",
            "    67     1  1936    54    19     1     1  6257     2     1  2692  1511\n",
            "    19   276     1     2     1    23  5036  1477     3     1  1200  2299\n",
            "     7  9665   774  1935     2  3035 10856    37    95    31 11510     1\n",
            "     1   138  1328     3  1937     1  2989 11511     3     1  4864    31\n",
            "  1891     1    43     1     1     1     2   139  2782  3828    12     6\n",
            "     9    43   782     1     2  8289  1159 14310     1 14308   441   880\n",
            "    31    64  1200 14308    95  1521     1 10225     2   115    59   288\n",
            "    30  1111    45    17     1    45    17  8290   686     1     1     3\n",
            " 11511     4     1 18835     2  4728  3906     1 12300   250    23   584\n",
            "    14     1    43 18836 14311    98  1058     1    19  1095    91    30\n",
            " 15515     8  7013     6    18     4 15516     1    13  7935     2   813\n",
            "     1 11512     1  1021     1     1    20     6   245    45     1    85\n",
            "   180   133   220     1 13219     1     1     1 14308     1    49  7582\n",
            " 12301     4     1    39    59  2554    18     1     1    17     1   655\n",
            "    76   629     1     3     1     2     1     1    31   321     9    99\n",
            "   709  3364   639  5386     7 18837     1   852  8683     1    14    99\n",
            "     1  5037     1    46    23  4245  2450   311     8     1     1  5387\n",
            "  4593     7  6258    29   346     6   252  3155    50  7582   198     1\n",
            "     4     1   338     1     9    43   318     1    22   124 12302     1\n",
            "     1  1830     1     3     1     2     4   824    16    64  3365 11513\n",
            "  1401     2   252  6482     9   613    72  7268    27   577     1     1\n",
            "     2     1     1 15517    95    50    64     1  1522  2025   647  3667\n",
            "  7014     9 17016  7015     7     1     1  2025   276     1     9  2300\n",
            "     3   434     1     1 17017     3  1831   141 17018     1  7585     2\n",
            "  1200   141   659    43  5038   184   686   127  1609  4246    59     1\n",
            "     1  1784 13220     2    66 17018     1  7585     1     1  1329 17019\n",
            "    41  5039     1  5993  1200  9666     1     7   758   594     1  2301\n",
            "     1     1   810  1892   602     1  8291  1329 17019     1    18     7\n",
            "   735     6  2343     1    36   375    63  5765  8292  5766     2    66\n",
            " 14308     1     1    18 10226     1 14308   441    20     2     4     1\n",
            "     1     1  5563     1     1    19   230   221  2738 17020  3594     2\n",
            "     1 15518 18838 14312  6740  1077    37     1    18     6   625  5994\n",
            "  9137    22  3507   311     8     1    51     1     1  1080     6  1329\n",
            "     1     3   682     1     1 18839     1     1    22     1  1912   441\n",
            "   625     1    39    42  1081  1311     1     3   177  2989    20  1785\n",
            "     6   824  1610     1    32     2    12   456    27     1     1     1\n",
            "  1478     1  1682  7936     1     1    17   327   832   246 17021   175\n",
            "     1     2  1757  4143    38 14313   331   639   657     7 18837     1\n",
            "   364     1     7 10227  1875     1 11514   754    30    49     1   364\n",
            "     6  5383     1    19]\n"
          ]
        }
      ]
    },
    {
      "cell_type": "code",
      "metadata": {
        "colab": {
          "base_uri": "https://localhost:8080/"
        },
        "id": "cWltHY8o73Hu",
        "outputId": "8e163440-0923-4f1e-e27f-357850c24943"
      },
      "source": [
        "# Функция sequences_to_matrix переведет наши данные в векторы со значениями 0 и 1\n",
        "#Засекаем время \n",
        "cur_time = time.time()\n",
        "#в виде списка, чтобы метод успешно сработал\n",
        "xTrain01 = tokenizer.sequences_to_matrix(xTrain.tolist())\n",
        "xTest01 = tokenizer.sequences_to_matrix(xTest.tolist())\n",
        "\n",
        "print(xTrain01.shape)\n",
        "print(xTrain01[0][0:100])\n",
        "print('Время обработки: ', round(time.time() - cur_time,2), 'c', sep='')\n"
      ],
      "execution_count": null,
      "outputs": [
        {
          "output_type": "stream",
          "name": "stdout",
          "text": [
            "(17640, 20000)\n",
            "[0. 1. 1. 1. 1. 0. 1. 1. 1. 1. 1. 1. 1. 1. 1. 1. 1. 1. 1. 1. 1. 0. 1. 1.\n",
            " 0. 0. 1. 1. 0. 1. 1. 1. 1. 0. 0. 0. 1. 1. 1. 1. 1. 1. 1. 1. 0. 1. 1. 0.\n",
            " 0. 1. 1. 1. 0. 0. 1. 1. 0. 0. 0. 1. 0. 0. 0. 1. 1. 0. 1. 1. 0. 0. 0. 0.\n",
            " 1. 1. 0. 0. 1. 0. 1. 0. 1. 0. 0. 0. 0. 1. 1. 1. 1. 0. 0. 1. 0. 0. 1. 1.\n",
            " 0. 0. 1. 1.]\n",
            "Время обработки: 15.1c\n"
          ]
        }
      ]
    },
    {
      "cell_type": "markdown",
      "metadata": {
        "id": "VjmYBb5ODw61"
      },
      "source": [
        "# Creation and training of a neural network"
      ]
    },
    {
      "cell_type": "code",
      "metadata": {
        "colab": {
          "base_uri": "https://localhost:8080/"
        },
        "id": "DFB3uXPYDjSx",
        "outputId": "80da549a-44e1-4f58-e6dc-aad27e0a7ab9"
      },
      "source": [
        "#Создаём полносвязную сеть\n",
        "model = Sequential()\n",
        "#Первый полносвязный слой на вход подаем максимальное кол-во слов = 20 000\n",
        "model.add(Dense(200, input_dim=maxWordsCount, activation=\"relu\"))\n",
        "#Слой регуляризации Dropout\n",
        "model.add(Dropout(0.25))\n",
        "#Слой пакетной нормализации\n",
        "model.add(BatchNormalization())\n",
        "#Выходной полносвязный слой\n",
        "model.add(Dense(6, activation='softmax'))\n",
        "\n",
        "model.compile(optimizer='adam', \n",
        "              loss='categorical_crossentropy', \n",
        "              metrics=['accuracy'])\n",
        "\n",
        "model.summary()\n",
        "\n",
        "#Обучаем сеть на выборке, сформированной по bag of words - xTrain01\n",
        "history = model.fit(xTrain01, \n",
        "                      yTrain, \n",
        "                      epochs=10,\n",
        "                      batch_size=128,\n",
        "                      validation_data=(xTest01, yTest))"
      ],
      "execution_count": null,
      "outputs": [
        {
          "output_type": "stream",
          "name": "stdout",
          "text": [
            "Model: \"sequential_1\"\n",
            "_________________________________________________________________\n",
            "Layer (type)                 Output Shape              Param #   \n",
            "=================================================================\n",
            "dense_2 (Dense)              (None, 200)               4000200   \n",
            "_________________________________________________________________\n",
            "dropout_1 (Dropout)          (None, 200)               0         \n",
            "_________________________________________________________________\n",
            "batch_normalization_1 (Batch (None, 200)               800       \n",
            "_________________________________________________________________\n",
            "dense_3 (Dense)              (None, 6)                 1206      \n",
            "=================================================================\n",
            "Total params: 4,002,206\n",
            "Trainable params: 4,001,806\n",
            "Non-trainable params: 400\n",
            "_________________________________________________________________\n",
            "Epoch 1/10\n",
            "138/138 [==============================] - 12s 75ms/step - loss: 0.0448 - accuracy: 0.9865 - val_loss: 0.3922 - val_accuracy: 0.8839\n",
            "Epoch 2/10\n",
            "138/138 [==============================] - 10s 72ms/step - loss: 3.0593e-04 - accuracy: 1.0000 - val_loss: 0.3396 - val_accuracy: 0.8907\n",
            "Epoch 3/10\n",
            "138/138 [==============================] - 10s 71ms/step - loss: 1.4311e-04 - accuracy: 1.0000 - val_loss: 0.3308 - val_accuracy: 0.8896\n",
            "Epoch 4/10\n",
            "138/138 [==============================] - 10s 71ms/step - loss: 8.9815e-05 - accuracy: 1.0000 - val_loss: 0.3311 - val_accuracy: 0.8896\n",
            "Epoch 5/10\n",
            "138/138 [==============================] - 10s 71ms/step - loss: 6.6693e-05 - accuracy: 1.0000 - val_loss: 0.3271 - val_accuracy: 0.8901\n",
            "Epoch 6/10\n",
            "138/138 [==============================] - 10s 71ms/step - loss: 5.4273e-05 - accuracy: 1.0000 - val_loss: 0.3273 - val_accuracy: 0.8883\n",
            "Epoch 7/10\n",
            "138/138 [==============================] - 10s 71ms/step - loss: 4.2513e-05 - accuracy: 1.0000 - val_loss: 0.3247 - val_accuracy: 0.8892\n",
            "Epoch 8/10\n",
            "138/138 [==============================] - 10s 72ms/step - loss: 3.4503e-05 - accuracy: 1.0000 - val_loss: 0.3236 - val_accuracy: 0.8904\n",
            "Epoch 9/10\n",
            "138/138 [==============================] - 10s 72ms/step - loss: 2.9568e-05 - accuracy: 1.0000 - val_loss: 0.3266 - val_accuracy: 0.8884\n",
            "Epoch 10/10\n",
            "138/138 [==============================] - 10s 71ms/step - loss: 2.5307e-05 - accuracy: 1.0000 - val_loss: 0.3238 - val_accuracy: 0.8889\n"
          ]
        }
      ]
    },
    {
      "cell_type": "code",
      "metadata": {
        "colab": {
          "base_uri": "https://localhost:8080/"
        },
        "id": "Cmm-XULQEEXf",
        "outputId": "8257bb10-c204-4f05-ce07-365d9e581d6c"
      },
      "source": [
        "# Выводим график обучения\n",
        "plt.figure(figsize=(14,7))\n",
        "plt.plot(history.history['accuracy'], \n",
        "         label='Доля верных ответов на обучающем наборе')\n",
        "plt.plot(history.history['val_accuracy'], \n",
        "         label='Доля верных ответов на проверочном наборе')\n",
        "plt.xlabel('Эпоха обучения')\n",
        "plt.ylabel('Доля верных ответов')\n",
        "plt.legend()\n",
        "plt.show()"
      ],
      "execution_count": null,
      "outputs": [
        {
          "output_type": "display_data",
          "data": {
            "image/png": "[encoded data removed]",
            "text/plain": [
              "<Figure size 1008x504 with 1 Axes>"
            ]
          },
          "metadata": {
            "needs_background": "light"
          }
        }
      ]
    }
  ]
}