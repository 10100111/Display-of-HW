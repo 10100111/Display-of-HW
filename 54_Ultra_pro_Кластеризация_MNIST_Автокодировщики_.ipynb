{
  "nbformat": 4,
  "nbformat_minor": 0,
  "metadata": {
    "colab": {
      "provenance": [],
      "collapsed_sections": [],
      "include_colab_link": true
    },
    "kernelspec": {
      "name": "python3",
      "display_name": "Python 3"
    },
    "accelerator": "GPU"
  },
  "cells": [
    {
      "cell_type": "markdown",
      "metadata": {
        "id": "view-in-github",
        "colab_type": "text"
      },
      "source": [
        "<a href=\"https://colab.research.google.com/github/10100111/Display-of-HW1/blob/main/54_Ultra_pro_%D0%9A%D0%BB%D0%B0%D1%81%D1%82%D0%B5%D1%80%D0%B8%D0%B7%D0%B0%D1%86%D0%B8%D1%8F_MNIST_%D0%90%D0%B2%D1%82%D0%BE%D0%BA%D0%BE%D0%B4%D0%B8%D1%80%D0%BE%D0%B2%D1%89%D0%B8%D0%BA%D0%B8_.ipynb\" target=\"_parent\"><img src=\"https://colab.research.google.com/assets/colab-badge.svg\" alt=\"Open In Colab\"/></a>"
      ]
    },
    {
      "cell_type": "markdown",
      "metadata": {
        "id": "VMjt-slyavQS"
      },
      "source": [
        "Задание Ultra pro\n",
        "\n",
        "Макс 10 баллов\n",
        "\n",
        "Сделайте классификацию цифр mnist, используя только Xtrain (без Ytrain). \n",
        "\n",
        "Предобучите автокодировщик. Возьмите предобученный encoder.\n",
        "\n",
        "Нужно кластеризовать скрытое пространство, полученное из encoder (т. е. кластеризовать изображения, так как при подаче изображения на вход encoder’у получится скрытое пространство).\n",
        " \n"
      ]
    },
    {
      "cell_type": "code",
      "metadata": {
        "id": "cQMQN5TVsxfh"
      },
      "source": [
        "from tensorflow.keras.models import Sequential, Model\n",
        "from tensorflow.keras.datasets import mnist,fashion_mnist\n",
        "from tensorflow.keras.layers import Dense, Flatten, Reshape, Input, Conv2DTranspose, concatenate, Activation,MaxPooling2D, Conv2D, BatchNormalization\n",
        "from tensorflow.keras import backend as K\n",
        "from tensorflow.keras.optimizers import Adam\n",
        "from tensorflow.keras import utils\n",
        "from google.colab import files\n",
        "from tensorflow.keras.preprocessing import image\n",
        "from PIL import Image\n",
        "from sklearn.model_selection import train_test_split\n",
        "from sklearn.preprocessing import StandardScaler\n",
        "\n",
        "import matplotlib.pyplot as plt\n",
        "import numpy as np\n",
        "import pandas as pd"
      ],
      "execution_count": null,
      "outputs": []
    },
    {
      "cell_type": "code",
      "source": [
        "from sklearn.preprocessing import StandardScaler, LabelEncoder # Импортируем библиотеку StandardScaler и LabelEncoder\n",
        "from sklearn.preprocessing import StandardScaler # Импортируем библиотеку StandardScaler для получения стандартного распределения набора данных\n",
        "from sklearn.cluster import KMeans # Импортируем библиотуке KMeans для кластеризации\n",
        "import time"
      ],
      "metadata": {
        "id": "IyjqWOkAtgdO"
      },
      "execution_count": null,
      "outputs": []
    },
    {
      "cell_type": "code",
      "source": [
        "from google.colab import drive\n",
        "drive.mount('/content/drive')"
      ],
      "metadata": {
        "colab": {
          "base_uri": "https://localhost:8080/"
        },
        "id": "HP_uy475MU-h",
        "outputId": "02948be9-508e-4fd7-9462-64d6bf31b644"
      },
      "execution_count": null,
      "outputs": [
        {
          "output_type": "stream",
          "name": "stdout",
          "text": [
            "Mounted at /content/drive\n"
          ]
        }
      ]
    },
    {
      "cell_type": "markdown",
      "metadata": {
        "id": "N7r2530z092z"
      },
      "source": [
        "Автокодировщик"
      ]
    },
    {
      "cell_type": "code",
      "metadata": {
        "id": "uJtRO5sg0_wI"
      },
      "source": [
        "latent_dim = 10\n",
        "\n",
        "def baseAutoencoder():\n",
        "    models = {} # задаем словарь моделей\n",
        "\n",
        "    img_input = Input((28,28,1))\n",
        "\n",
        "    x = Conv2D(32, (3,3), padding='same', activation='relu')(img_input)\n",
        "    x = BatchNormalization()(x)\n",
        "    x = Conv2D(32, (3,3), padding='same', activation='relu')(x)\n",
        "    x = BatchNormalization()(x)\n",
        "    x = MaxPooling2D()(x)\n",
        "\n",
        "    x = Conv2D(64, (3,3), padding='same',activation='relu')(x)\n",
        "    x = BatchNormalization()(x)\n",
        "    x = Conv2D(64, (3,3), padding='same',activation='relu')(x)\n",
        "    x = BatchNormalization()(x)\n",
        "    x = MaxPooling2D()(x)\n",
        "\n",
        "    x = Flatten()(x) # расплющиваем данные\n",
        "\n",
        "    l = Dense(latent_dim)(x) # последний слой энкодера\n",
        "\n",
        "    z = Input((latent_dim,)) # вход декодеру\n",
        "\n",
        "    x = Dense(7*7*64, activation='relu')(z)\n",
        "    x = Reshape((7, 7, 64))(x)\n",
        "\n",
        "    x = Conv2DTranspose(64,(2,2), strides=(2,2), padding='same',activation='relu')(x)\n",
        "    x = BatchNormalization()(x)\n",
        "\n",
        "    x = Conv2D(64,(3,3),padding='same',activation='relu')(x)\n",
        "    x = BatchNormalization()(x)\n",
        "    x = Conv2D(64,(3,3),padding='same',activation='relu')(x)\n",
        "    x = BatchNormalization()(x)\n",
        "\n",
        "    x = Conv2DTranspose(32,(3,3),strides=(2,2),padding='same',activation='relu')(x)\n",
        "    x = BatchNormalization()(x)\n",
        "    x = Conv2D(32,(3,3),padding='same',activation='relu')(x)\n",
        "    x = BatchNormalization()(x)\n",
        "    x = Conv2D(32,(3,3),padding='same',activation='relu')(x)\n",
        "    x = BatchNormalization()(x)\n",
        "\n",
        "    #Финальный слой\n",
        "    out = Conv2D(1,(3,3),activation='sigmoid', padding='same')(x)\n",
        "\n",
        "    models['encoder'] = Model(img_input, l)         # 1-я модель словаря с моделями, энкодер до скрытого пространства\n",
        "    models['decoder'] = Model(z,out)               # 2-я модель словаря с моделями , декодер\n",
        "    models['autencoder'] = Model(img_input, models['decoder'](models['encoder'](img_input)))    # 3-я модель словаря с моделями, полный автоэнкодер\n",
        "    \n",
        "    return models\n",
        "\n",
        "models = baseAutoencoder() # создаем модель\n",
        "autencoder = models['autencoder'] # присваиваем модели от Input до out имя autencoder\n",
        "autencoder.compile(optimizer=Adam(), loss='mean_squared_error') # Компилируем нашу модель"
      ],
      "execution_count": null,
      "outputs": []
    },
    {
      "cell_type": "code",
      "metadata": {
        "id": "fpUHTFI1-6Ku",
        "colab": {
          "base_uri": "https://localhost:8080/",
          "height": 312
        },
        "outputId": "d80828bb-a545-48d6-acda-1331081e558b"
      },
      "source": [
        "utils.plot_model(autencoder, show_shapes=True)"
      ],
      "execution_count": null,
      "outputs": [
        {
          "output_type": "execute_result",
          "data": {
            "image/png": "[encoded data removed]",
            "text/plain": [
              "<IPython.core.display.Image object>"
            ]
          },
          "metadata": {},
          "execution_count": 5
        }
      ]
    },
    {
      "cell_type": "code",
      "metadata": {
        "id": "PAcXIm_-69Fg",
        "colab": {
          "base_uri": "https://localhost:8080/"
        },
        "outputId": "d328b1c1-b8c1-4a4d-d0d5-6983d05cbf97"
      },
      "source": [
        "(xTrainMnist, yTrainMnist), (xTestMnist, yTestMnist) = mnist.load_data()\n",
        "xTrainMnist = xTrainMnist.astype('float32')/255\n",
        "xTrainMnist = xTrainMnist.reshape(xTrainMnist.shape[0],28,28,1)"
      ],
      "execution_count": null,
      "outputs": [
        {
          "output_type": "stream",
          "name": "stdout",
          "text": [
            "Downloading data from https://storage.googleapis.com/tensorflow/tf-keras-datasets/mnist.npz\n",
            "11490434/11490434 [==============================] - 0s 0us/step\n"
          ]
        }
      ]
    },
    {
      "cell_type": "code",
      "metadata": {
        "id": "g15ujEvR8L4g",
        "colab": {
          "base_uri": "https://localhost:8080/"
        },
        "outputId": "ad9fa50d-b768-4825-8fcf-53321d07e95e"
      },
      "source": [
        "autencoder.fit(xTrainMnist[:10000], xTrainMnist[:10000], epochs = 100, batch_size=100, validation_data = (xTrainMnist[10000:12000],xTrainMnist[10000:12000]))"
      ],
      "execution_count": null,
      "outputs": [
        {
          "output_type": "stream",
          "name": "stdout",
          "text": [
            "Epoch 1/100\n",
            "100/100 [==============================] - 11s 28ms/step - loss: 0.0740 - val_loss: 0.1096\n",
            "Epoch 2/100\n",
            "100/100 [==============================] - 2s 22ms/step - loss: 0.0280 - val_loss: 0.1137\n",
            "Epoch 3/100\n",
            "100/100 [==============================] - 2s 22ms/step - loss: 0.0205 - val_loss: 0.0803\n",
            "Epoch 4/100\n",
            "100/100 [==============================] - 2s 23ms/step - loss: 0.0173 - val_loss: 0.0356\n",
            "Epoch 5/100\n",
            "100/100 [==============================] - 2s 21ms/step - loss: 0.0158 - val_loss: 0.0224\n",
            "Epoch 6/100\n",
            "100/100 [==============================] - 2s 22ms/step - loss: 0.0147 - val_loss: 0.0153\n",
            "Epoch 7/100\n",
            "100/100 [==============================] - 2s 22ms/step - loss: 0.0139 - val_loss: 0.0144\n",
            "Epoch 8/100\n",
            "100/100 [==============================] - 2s 22ms/step - loss: 0.0134 - val_loss: 0.0146\n",
            "Epoch 9/100\n",
            "100/100 [==============================] - 3s 28ms/step - loss: 0.0129 - val_loss: 0.0142\n",
            "Epoch 10/100\n",
            "100/100 [==============================] - 2s 23ms/step - loss: 0.0125 - val_loss: 0.0148\n",
            "Epoch 11/100\n",
            "100/100 [==============================] - 2s 22ms/step - loss: 0.0121 - val_loss: 0.0144\n",
            "Epoch 12/100\n",
            "100/100 [==============================] - 2s 22ms/step - loss: 0.0119 - val_loss: 0.0136\n",
            "Epoch 13/100\n",
            "100/100 [==============================] - 2s 22ms/step - loss: 0.0115 - val_loss: 0.0134\n",
            "Epoch 14/100\n",
            "100/100 [==============================] - 2s 22ms/step - loss: 0.0112 - val_loss: 0.0134\n",
            "Epoch 15/100\n",
            "100/100 [==============================] - 2s 25ms/step - loss: 0.0110 - val_loss: 0.0136\n",
            "Epoch 16/100\n",
            "100/100 [==============================] - 2s 22ms/step - loss: 0.0109 - val_loss: 0.0140\n",
            "Epoch 17/100\n",
            "100/100 [==============================] - 2s 22ms/step - loss: 0.0107 - val_loss: 0.0134\n",
            "Epoch 18/100\n",
            "100/100 [==============================] - 3s 31ms/step - loss: 0.0104 - val_loss: 0.0128\n",
            "Epoch 19/100\n",
            "100/100 [==============================] - 2s 23ms/step - loss: 0.0102 - val_loss: 0.0130\n",
            "Epoch 20/100\n",
            "100/100 [==============================] - 3s 26ms/step - loss: 0.0101 - val_loss: 0.0131\n",
            "Epoch 21/100\n",
            "100/100 [==============================] - 3s 25ms/step - loss: 0.0098 - val_loss: 0.0131\n",
            "Epoch 22/100\n",
            "100/100 [==============================] - 2s 22ms/step - loss: 0.0098 - val_loss: 0.0133\n",
            "Epoch 23/100\n",
            "100/100 [==============================] - 2s 22ms/step - loss: 0.0095 - val_loss: 0.0129\n",
            "Epoch 24/100\n",
            "100/100 [==============================] - 2s 22ms/step - loss: 0.0097 - val_loss: 0.0136\n",
            "Epoch 25/100\n",
            "100/100 [==============================] - 2s 22ms/step - loss: 0.0094 - val_loss: 0.0132\n",
            "Epoch 26/100\n",
            "100/100 [==============================] - 2s 22ms/step - loss: 0.0092 - val_loss: 0.0131\n",
            "Epoch 27/100\n",
            "100/100 [==============================] - 2s 22ms/step - loss: 0.0091 - val_loss: 0.0130\n",
            "Epoch 28/100\n",
            "100/100 [==============================] - 2s 22ms/step - loss: 0.0090 - val_loss: 0.0127\n",
            "Epoch 29/100\n",
            "100/100 [==============================] - 2s 22ms/step - loss: 0.0089 - val_loss: 0.0131\n",
            "Epoch 30/100\n",
            "100/100 [==============================] - 2s 22ms/step - loss: 0.0090 - val_loss: 0.0131\n",
            "Epoch 31/100\n",
            "100/100 [==============================] - 2s 22ms/step - loss: 0.0087 - val_loss: 0.0129\n",
            "Epoch 32/100\n",
            "100/100 [==============================] - 2s 22ms/step - loss: 0.0086 - val_loss: 0.0130\n",
            "Epoch 33/100\n",
            "100/100 [==============================] - 2s 22ms/step - loss: 0.0087 - val_loss: 0.0135\n",
            "Epoch 34/100\n",
            "100/100 [==============================] - 2s 22ms/step - loss: 0.0085 - val_loss: 0.0127\n",
            "Epoch 35/100\n",
            "100/100 [==============================] - 2s 25ms/step - loss: 0.0083 - val_loss: 0.0131\n",
            "Epoch 36/100\n",
            "100/100 [==============================] - 2s 22ms/step - loss: 0.0083 - val_loss: 0.0130\n",
            "Epoch 37/100\n",
            "100/100 [==============================] - 2s 22ms/step - loss: 0.0082 - val_loss: 0.0131\n",
            "Epoch 38/100\n",
            "100/100 [==============================] - 2s 22ms/step - loss: 0.0082 - val_loss: 0.0129\n",
            "Epoch 39/100\n",
            "100/100 [==============================] - 2s 22ms/step - loss: 0.0081 - val_loss: 0.0133\n",
            "Epoch 40/100\n",
            "100/100 [==============================] - 2s 24ms/step - loss: 0.0079 - val_loss: 0.0126\n",
            "Epoch 41/100\n",
            "100/100 [==============================] - 2s 23ms/step - loss: 0.0079 - val_loss: 0.0128\n",
            "Epoch 42/100\n",
            "100/100 [==============================] - 2s 22ms/step - loss: 0.0079 - val_loss: 0.0132\n",
            "Epoch 43/100\n",
            "100/100 [==============================] - 2s 22ms/step - loss: 0.0078 - val_loss: 0.0127\n",
            "Epoch 44/100\n",
            "100/100 [==============================] - 2s 22ms/step - loss: 0.0077 - val_loss: 0.0126\n",
            "Epoch 45/100\n",
            "100/100 [==============================] - 2s 22ms/step - loss: 0.0077 - val_loss: 0.0134\n",
            "Epoch 46/100\n",
            "100/100 [==============================] - 2s 22ms/step - loss: 0.0077 - val_loss: 0.0128\n",
            "Epoch 47/100\n",
            "100/100 [==============================] - 2s 22ms/step - loss: 0.0074 - val_loss: 0.0131\n",
            "Epoch 48/100\n",
            "100/100 [==============================] - 2s 22ms/step - loss: 0.0076 - val_loss: 0.0135\n",
            "Epoch 49/100\n",
            "100/100 [==============================] - 2s 22ms/step - loss: 0.0075 - val_loss: 0.0127\n",
            "Epoch 50/100\n",
            "100/100 [==============================] - 2s 23ms/step - loss: 0.0075 - val_loss: 0.0132\n",
            "Epoch 51/100\n",
            "100/100 [==============================] - 2s 22ms/step - loss: 0.0073 - val_loss: 0.0129\n",
            "Epoch 52/100\n",
            "100/100 [==============================] - 2s 22ms/step - loss: 0.0072 - val_loss: 0.0129\n",
            "Epoch 53/100\n",
            "100/100 [==============================] - 2s 22ms/step - loss: 0.0072 - val_loss: 0.0127\n",
            "Epoch 54/100\n",
            "100/100 [==============================] - 2s 22ms/step - loss: 0.0071 - val_loss: 0.0127\n",
            "Epoch 55/100\n",
            "100/100 [==============================] - 2s 22ms/step - loss: 0.0071 - val_loss: 0.0127\n",
            "Epoch 56/100\n",
            "100/100 [==============================] - 2s 22ms/step - loss: 0.0070 - val_loss: 0.0134\n",
            "Epoch 57/100\n",
            "100/100 [==============================] - 2s 22ms/step - loss: 0.0070 - val_loss: 0.0130\n",
            "Epoch 58/100\n",
            "100/100 [==============================] - 2s 22ms/step - loss: 0.0070 - val_loss: 0.0133\n",
            "Epoch 59/100\n",
            "100/100 [==============================] - 2s 22ms/step - loss: 0.0071 - val_loss: 0.0133\n",
            "Epoch 60/100\n",
            "100/100 [==============================] - 2s 22ms/step - loss: 0.0069 - val_loss: 0.0133\n",
            "Epoch 61/100\n",
            "100/100 [==============================] - 2s 22ms/step - loss: 0.0068 - val_loss: 0.0131\n",
            "Epoch 62/100\n",
            "100/100 [==============================] - 2s 22ms/step - loss: 0.0067 - val_loss: 0.0133\n",
            "Epoch 63/100\n",
            "100/100 [==============================] - 2s 22ms/step - loss: 0.0068 - val_loss: 0.0128\n",
            "Epoch 64/100\n",
            "100/100 [==============================] - 2s 22ms/step - loss: 0.0067 - val_loss: 0.0131\n",
            "Epoch 65/100\n",
            "100/100 [==============================] - 2s 23ms/step - loss: 0.0068 - val_loss: 0.0132\n",
            "Epoch 66/100\n",
            "100/100 [==============================] - 2s 23ms/step - loss: 0.0066 - val_loss: 0.0133\n",
            "Epoch 67/100\n",
            "100/100 [==============================] - 2s 22ms/step - loss: 0.0066 - val_loss: 0.0130\n",
            "Epoch 68/100\n",
            "100/100 [==============================] - 2s 22ms/step - loss: 0.0066 - val_loss: 0.0129\n",
            "Epoch 69/100\n",
            "100/100 [==============================] - 2s 22ms/step - loss: 0.0066 - val_loss: 0.0131\n",
            "Epoch 70/100\n",
            "100/100 [==============================] - 2s 25ms/step - loss: 0.0066 - val_loss: 0.0140\n",
            "Epoch 71/100\n",
            "100/100 [==============================] - 2s 22ms/step - loss: 0.0066 - val_loss: 0.0130\n",
            "Epoch 72/100\n",
            "100/100 [==============================] - 2s 22ms/step - loss: 0.0065 - val_loss: 0.0130\n",
            "Epoch 73/100\n",
            "100/100 [==============================] - 2s 22ms/step - loss: 0.0066 - val_loss: 0.0141\n",
            "Epoch 74/100\n",
            "100/100 [==============================] - 2s 22ms/step - loss: 0.0064 - val_loss: 0.0136\n",
            "Epoch 75/100\n",
            "100/100 [==============================] - 2s 22ms/step - loss: 0.0063 - val_loss: 0.0131\n",
            "Epoch 76/100\n",
            "100/100 [==============================] - 2s 22ms/step - loss: 0.0064 - val_loss: 0.0138\n",
            "Epoch 77/100\n",
            "100/100 [==============================] - 2s 22ms/step - loss: 0.0062 - val_loss: 0.0129\n",
            "Epoch 78/100\n",
            "100/100 [==============================] - 2s 22ms/step - loss: 0.0062 - val_loss: 0.0131\n",
            "Epoch 79/100\n",
            "100/100 [==============================] - 2s 22ms/step - loss: 0.0062 - val_loss: 0.0138\n",
            "Epoch 80/100\n",
            "100/100 [==============================] - 2s 22ms/step - loss: 0.0062 - val_loss: 0.0146\n",
            "Epoch 81/100\n",
            "100/100 [==============================] - 2s 22ms/step - loss: 0.0063 - val_loss: 0.0134\n",
            "Epoch 82/100\n",
            "100/100 [==============================] - 2s 22ms/step - loss: 0.0062 - val_loss: 0.0130\n",
            "Epoch 83/100\n",
            "100/100 [==============================] - 2s 22ms/step - loss: 0.0061 - val_loss: 0.0131\n",
            "Epoch 84/100\n",
            "100/100 [==============================] - 2s 22ms/step - loss: 0.0061 - val_loss: 0.0138\n",
            "Epoch 85/100\n",
            "100/100 [==============================] - 2s 22ms/step - loss: 0.0060 - val_loss: 0.0137\n",
            "Epoch 86/100\n",
            "100/100 [==============================] - 2s 22ms/step - loss: 0.0059 - val_loss: 0.0130\n",
            "Epoch 87/100\n",
            "100/100 [==============================] - 2s 22ms/step - loss: 0.0059 - val_loss: 0.0134\n",
            "Epoch 88/100\n",
            "100/100 [==============================] - 2s 22ms/step - loss: 0.0060 - val_loss: 0.0131\n",
            "Epoch 89/100\n",
            "100/100 [==============================] - 2s 22ms/step - loss: 0.0059 - val_loss: 0.0136\n",
            "Epoch 90/100\n",
            "100/100 [==============================] - 2s 22ms/step - loss: 0.0059 - val_loss: 0.0134\n",
            "Epoch 91/100\n",
            "100/100 [==============================] - 2s 22ms/step - loss: 0.0059 - val_loss: 0.0131\n",
            "Epoch 92/100\n",
            "100/100 [==============================] - 2s 22ms/step - loss: 0.0058 - val_loss: 0.0139\n",
            "Epoch 93/100\n",
            "100/100 [==============================] - 2s 22ms/step - loss: 0.0059 - val_loss: 0.0132\n",
            "Epoch 94/100\n",
            "100/100 [==============================] - 2s 22ms/step - loss: 0.0057 - val_loss: 0.0135\n",
            "Epoch 95/100\n",
            "100/100 [==============================] - 2s 22ms/step - loss: 0.0059 - val_loss: 0.0142\n",
            "Epoch 96/100\n",
            "100/100 [==============================] - 2s 22ms/step - loss: 0.0059 - val_loss: 0.0133\n",
            "Epoch 97/100\n",
            "100/100 [==============================] - 2s 22ms/step - loss: 0.0058 - val_loss: 0.0134\n",
            "Epoch 98/100\n",
            "100/100 [==============================] - 2s 22ms/step - loss: 0.0057 - val_loss: 0.0140\n",
            "Epoch 99/100\n",
            "100/100 [==============================] - 2s 22ms/step - loss: 0.0056 - val_loss: 0.0133\n",
            "Epoch 100/100\n",
            "100/100 [==============================] - 2s 22ms/step - loss: 0.0057 - val_loss: 0.0134\n"
          ]
        },
        {
          "output_type": "execute_result",
          "data": {
            "text/plain": [
              "<keras.callbacks.History at 0x7f399a702bd0>"
            ]
          },
          "metadata": {},
          "execution_count": 7
        }
      ]
    },
    {
      "cell_type": "code",
      "source": [
        "autencoder.save_weights('/content/drive/MyDrive/Базы/Модели и веса к ДЗ/autencoder.h5')"
      ],
      "metadata": {
        "id": "2hBe5dkBLBuq"
      },
      "execution_count": null,
      "outputs": []
    },
    {
      "cell_type": "code",
      "metadata": {
        "id": "ePAAuo2Q9ryW",
        "colab": {
          "base_uri": "https://localhost:8080/"
        },
        "outputId": "150005b9-843f-4da9-c77c-78adfca7c18c"
      },
      "source": [
        "predMnist = autencoder.predict(xTrainMnist[:12000])\n",
        "predMnist = predMnist*255\n",
        "predMnist = predMnist.astype('uint8')"
      ],
      "execution_count": null,
      "outputs": [
        {
          "output_type": "stream",
          "name": "stdout",
          "text": [
            "375/375 [==============================] - 2s 3ms/step\n"
          ]
        }
      ]
    },
    {
      "cell_type": "code",
      "metadata": {
        "id": "EQttrrK-_-L6"
      },
      "source": [
        "def plotImages(startIndex, xTrain, pred):\n",
        "    n = 10\n",
        "    plt.figure(figsize=(10,4))\n",
        "    for i in range(n):\n",
        "      index = i + startIndex\n",
        "      ax = plt.subplot(2,n,i+1)\n",
        "      plt.imshow(xTrain[index].reshape(28,28))\n",
        "      plt.gray()\n",
        "      ax.get_xaxis().set_visible(False)\n",
        "      ax.get_yaxis().set_visible(False)\n",
        "\n",
        "      ax = plt.subplot(2,n,i+1+n)\n",
        "      plt.imshow(pred[index].reshape(28,28))\n",
        "      plt.gray()\n",
        "      ax.get_xaxis().set_visible(False)\n",
        "      ax.get_yaxis().set_visible(False)\n",
        "    plt.show()"
      ],
      "execution_count": null,
      "outputs": []
    },
    {
      "cell_type": "code",
      "metadata": {
        "id": "7HoT9r0OPCrc",
        "colab": {
          "base_uri": "https://localhost:8080/",
          "height": 200
        },
        "outputId": "1c0bc539-a6c6-4bc3-b1ed-1b0a014453e4"
      },
      "source": [
        "plotImages(10000,xTrainMnist,predMnist)"
      ],
      "execution_count": null,
      "outputs": [
        {
          "output_type": "display_data",
          "data": {
            "text/plain": [
              "<Figure size 720x288 with 20 Axes>"
            ],
            "image/png": "[encoded data removed]"
          },
          "metadata": {
            "needs_background": "light"
          }
        }
      ]
    },
    {
      "cell_type": "code",
      "metadata": {
        "id": "X1Cq59VFRK6W"
      },
      "source": [
        "def getMSE(x1,x2):\n",
        "    x1 = x1.flatten()\n",
        "    x2 = x2.flatten()\n",
        "    delta = x1 - x2\n",
        "    return sum(delta**2)/len(delta)"
      ],
      "execution_count": null,
      "outputs": []
    },
    {
      "cell_type": "code",
      "metadata": {
        "id": "19ltTwyRR3Oa",
        "colab": {
          "base_uri": "https://localhost:8080/"
        },
        "outputId": "a276750e-4cfd-4d78-f2bc-1f24f2451f70"
      },
      "source": [
        "err = [getMSE(xTrainMnist[i],predMnist[i]/255) for i in range(len(predMnist))]\n",
        "n = 1000\n",
        "print(sum(err[0:n])/n)\n",
        "print(sum(err[10000:10000+n])/n)"
      ],
      "execution_count": null,
      "outputs": [
        {
          "output_type": "stream",
          "name": "stdout",
          "text": [
            "0.005285889956052567\n",
            "0.0132052768509295\n"
          ]
        }
      ]
    },
    {
      "cell_type": "code",
      "source": [
        "models = baseAutoencoder() # создаем модель\n",
        "encoder = models['encoder'] # присваиваем модели от Input до out имя autencoder\n",
        "encoder.compile(optimizer=Adam(), loss='mean_squared_error') # Компилируем нашу модель"
      ],
      "metadata": {
        "id": "g_BLExQB6qHV"
      },
      "execution_count": null,
      "outputs": []
    },
    {
      "cell_type": "code",
      "source": [
        "latentDimSpace = encoder.predict(xTrainMnist)"
      ],
      "metadata": {
        "colab": {
          "base_uri": "https://localhost:8080/"
        },
        "id": "ERdymACON3Bp",
        "outputId": "e02ec9ad-b7d0-4caa-f334-64ede33afdc0"
      },
      "execution_count": null,
      "outputs": [
        {
          "output_type": "stream",
          "name": "stdout",
          "text": [
            "1875/1875 [==============================] - 4s 2ms/step\n"
          ]
        }
      ]
    },
    {
      "cell_type": "code",
      "source": [
        "# # Применим веса обученной модели к нашему энкодеру\n",
        "# encoder.layers[0] = autencoder.layers[0]\n",
        "# encoder.layers[1] = autencoder.layers[1]\n",
        "# encoder.layers[2] = autencoder.layers[2]\n",
        "# encoder.layers[3] = autencoder.layers[3]\n",
        "# encoder.layers[4] = autencoder.layers[4]\n",
        "# encoder.layers[5] = autencoder.layers[5]\n",
        "# encoder.layers[6] = autencoder.layers[6]\n",
        "# encoder.layers[7] = autencoder.layers[7]\n",
        "# encoder.layers[8] = autencoder.layers[8]\n",
        "# encoder.layers[9] = autencoder.layers[9]\n"
      ],
      "metadata": {
        "id": "OggOtHa7OBKb"
      },
      "execution_count": null,
      "outputs": []
    },
    {
      "cell_type": "code",
      "source": [
        "print(latentDimSpace.shape, latentDimSpace, sep='\\n')"
      ],
      "metadata": {
        "colab": {
          "base_uri": "https://localhost:8080/"
        },
        "id": "dJNf-Hjet-p6",
        "outputId": "d8c2fad0-826b-4f91-dc38-b7e993bb51a0"
      },
      "execution_count": null,
      "outputs": [
        {
          "output_type": "stream",
          "name": "stdout",
          "text": [
            "(60000, 10)\n",
            "[[-0.00288498 -0.00925001  0.03595943 ...  0.03222076  0.01594138\n",
            "  -0.01293244]\n",
            " [ 0.00437464 -0.04383068  0.07991409 ...  0.01271828 -0.01938927\n",
            "   0.00149599]\n",
            " [-0.00542409 -0.02350504  0.06167304 ...  0.01143705  0.01331402\n",
            "  -0.01436941]\n",
            " ...\n",
            " [-0.00470767 -0.01382014  0.07048731 ...  0.0098617  -0.00219008\n",
            "  -0.02763706]\n",
            " [-0.00333314 -0.03677838  0.05550602 ...  0.01274298 -0.00813759\n",
            "  -0.00037378]\n",
            " [ 0.02735201 -0.04458892  0.04089028 ...  0.01801972 -0.00041111\n",
            "   0.00115586]]\n"
          ]
        }
      ]
    },
    {
      "cell_type": "code",
      "source": [
        "#Кластеризация\n",
        "cur_time = time.time()\n",
        "clustersCount = 10                                   # Указываем количество кластеров\n",
        "kmean = KMeans(clustersCount)                        # Создаем объект KMeans\n",
        "kmean.fit(latentDimSpace)                            # Производим кластеризацию латентного пространства\n",
        "labels = kmean.labels_                               # Сохраняем метки в переменную labels\n",
        "\n",
        "nplatentDimSpace = np.array(latentDimSpace)                            # Преобразуем список элементов латентного пространства в numpy\n",
        "print('Время обработки: ', round(time.time() - cur_time,2),'c')"
      ],
      "metadata": {
        "colab": {
          "base_uri": "https://localhost:8080/"
        },
        "id": "TCNz-mocsnRP",
        "outputId": "81c3315f-81f6-462b-b695-728a114a3299"
      },
      "execution_count": null,
      "outputs": [
        {
          "output_type": "stream",
          "name": "stdout",
          "text": [
            "Время обработки:  4.14 c\n"
          ]
        }
      ]
    },
    {
      "cell_type": "code",
      "source": [
        "print(labels)                                                   # Отображаем метки кластеров\n",
        "clusterSize = [sum(labels==i) for i in range(0, clustersCount)] # Создадим список размеров каждого кластера\n",
        "\n",
        "# Выведем номер кластера и его размер\n",
        "for i, s in enumerate(clusterSize):\n",
        "  print(i, s)\n"
      ],
      "metadata": {
        "colab": {
          "base_uri": "https://localhost:8080/"
        },
        "id": "AevSphcloSsM",
        "outputId": "ec6122e2-c6ee-4b2b-d416-32defb190eb5"
      },
      "execution_count": null,
      "outputs": [
        {
          "output_type": "stream",
          "name": "stdout",
          "text": [
            "[2 5 7 ... 1 3 0]\n",
            "0 5598\n",
            "1 5593\n",
            "2 6590\n",
            "3 7411\n",
            "4 6495\n",
            "5 4898\n",
            "6 4658\n",
            "7 6120\n",
            "8 5325\n",
            "9 7312\n"
          ]
        }
      ]
    },
    {
      "cell_type": "code",
      "source": [
        "print(xTrainMnist[labels].shape)"
      ],
      "metadata": {
        "colab": {
          "base_uri": "https://localhost:8080/"
        },
        "id": "C4PrAqhP7IrU",
        "outputId": "2c4392f6-2288-4fdd-bcb6-e8bcb68131fe"
      },
      "execution_count": null,
      "outputs": [
        {
          "output_type": "stream",
          "name": "stdout",
          "text": [
            "(60000, 28, 28, 1)\n"
          ]
        }
      ]
    },
    {
      "cell_type": "code",
      "source": [],
      "metadata": {
        "id": "VrTSppMb9ZlX"
      },
      "execution_count": null,
      "outputs": []
    },
    {
      "cell_type": "code",
      "source": [
        "def plt_cluster_img(clusterNbr): # отобразим картинки в кластере, на вход подаем метку кластера\n",
        "  labels == clusterNbr\n",
        "  elements = xTrainMnist[labels]    \n",
        "  n = 20\n",
        "  plt.figure(figsize=(10,4))\n",
        "  for i in range(n):\n",
        "    clusterElement = np.random.randint(0, len(elements))\n",
        "\n",
        "    ax = plt.subplot(2,n,i+1)\n",
        "    plt.imshow(elements[clusterElement].reshape(28,28))\n",
        "    plt.gray()\n",
        "    ax.get_xaxis().set_visible(False)\n",
        "    ax.get_yaxis().set_visible(False)"
      ],
      "metadata": {
        "id": "_RwtWjzvolky"
      },
      "execution_count": null,
      "outputs": []
    },
    {
      "cell_type": "code",
      "source": [
        "# Выведем на экран по 20 рандомных элементов в каждом кластере\n",
        "for i in range(10):\n",
        "  plt_cluster_img(i)"
      ],
      "metadata": {
        "colab": {
          "base_uri": "https://localhost:8080/",
          "height": 387
        },
        "id": "J7zeQr0pt3Ar",
        "outputId": "18065189-7216-4836-f780-b1f6dc35a2cd"
      },
      "execution_count": null,
      "outputs": [
        {
          "output_type": "display_data",
          "data": {
            "text/plain": [
              "<Figure size 720x288 with 20 Axes>"
            ],
            "image/png": "[encoded data removed]"
          },
          "metadata": {}
        },
        {
          "output_type": "display_data",
          "data": {
            "text/plain": [
              "<Figure size 720x288 with 20 Axes>"
            ],
            "image/png": "[encoded data removed]"
          },
          "metadata": {}
        },
        {
          "output_type": "display_data",
          "data": {
            "text/plain": [
              "<Figure size 720x288 with 20 Axes>"
            ],
            "image/png": "[encoded data removed]"
          },
          "metadata": {}
        },
        {
          "output_type": "display_data",
          "data": {
            "text/plain": [
              "<Figure size 720x288 with 20 Axes>"
            ],
            "image/png": "[encoded data removed]"
          },
          "metadata": {}
        },
        {
          "output_type": "display_data",
          "data": {
            "text/plain": [
              "<Figure size 720x288 with 20 Axes>"
            ],
            "image/png": "[encoded data removed]"
          },
          "metadata": {}
        },
        {
          "output_type": "display_data",
          "data": {
            "text/plain": [
              "<Figure size 720x288 with 20 Axes>"
            ],
            "image/png": "[encoded data removed]"
          },
          "metadata": {}
        },
        {
          "output_type": "display_data",
          "data": {
            "text/plain": [
              "<Figure size 720x288 with 20 Axes>"
            ],
            "image/png": "[encoded data removed]"
          },
          "metadata": {}
        },
        {
          "output_type": "display_data",
          "data": {
            "text/plain": [
              "<Figure size 720x288 with 20 Axes>"
            ],
            "image/png": "[encoded data removed]"
          },
          "metadata": {}
        },
        {
          "output_type": "display_data",
          "data": {
            "text/plain": [
              "<Figure size 720x288 with 20 Axes>"
            ],
            "image/png": "[encoded data removed]"
          },
          "metadata": {}
        },
        {
          "output_type": "display_data",
          "data": {
            "text/plain": [
              "<Figure size 720x288 with 20 Axes>"
            ],
            "image/png": "[encoded data removed]"
          },
          "metadata": {}
        }
      ]
    },
    {
      "cell_type": "code",
      "source": [
        "# Общая гистограмма кластеров\n",
        "plt.hist(labels) \n",
        "plt.title(\"Размеры кластеров\") \n",
        "plt.show()"
      ],
      "metadata": {
        "colab": {
          "base_uri": "https://localhost:8080/",
          "height": 284
        },
        "id": "pO2TRTKH7Ra_",
        "outputId": "ab3ee8f2-7db2-42f7-8d62-cce5899d3ee3"
      },
      "execution_count": null,
      "outputs": [
        {
          "output_type": "display_data",
          "data": {
            "text/plain": [
              "<Figure size 432x288 with 1 Axes>"
            ],
            "image/png": "[encoded data removed]"
          },
          "metadata": {}
        }
      ]
    }
  ]
}