{
  "nbformat": 4,
  "nbformat_minor": 0,
  "metadata": {
    "colab": {
      "provenance": [],
      "authorship_tag": "ABX9TyMxK7M/QigdKSa2lFEFRsGq",
      "include_colab_link": true
    },
    "kernelspec": {
      "name": "python3",
      "display_name": "Python 3"
    },
    "language_info": {
      "name": "python"
    },
    "accelerator": "GPU",
    "gpuClass": "standard"
  },
  "cells": [
    {
      "cell_type": "markdown",
      "metadata": {
        "id": "view-in-github",
        "colab_type": "text"
      },
      "source": [
        "<a href=\"https://colab.research.google.com/github/10100111/Display-of-HW1/blob/main/69_Ultra_Lite_TensorFlow_1.ipynb\" target=\"_parent\"><img src=\"https://colab.research.google.com/assets/colab-badge.svg\" alt=\"Open In Colab\"/></a>"
      ]
    },
    {
      "cell_type": "markdown",
      "source": [
        "Задание Ultra Lite\n",
        "\n",
        "Макс 10 баллов\n",
        "\n",
        "1. Создайте трехмерный тензор из массива случайных чисел.\n",
        "\n",
        "2. Создайте два тензора: один 2х3, второй 3х4. Умножьте их с помощью функции, затем с помощью оператора матричного умножения, сравните результаты.\n",
        "\n",
        "3. Создайте ragged тензор. Выведите, на каком устройстве он располагается."
      ],
      "metadata": {
        "id": "OyfUAzxAXNJp"
      }
    },
    {
      "cell_type": "code",
      "source": [
        "# Загрузка бблиотек\n",
        "import tensorflow as tf # импортируем модуль tensorflow"
      ],
      "metadata": {
        "id": "QmEdVdXxYZrA"
      },
      "execution_count": 9,
      "outputs": []
    },
    {
      "cell_type": "code",
      "execution_count": 10,
      "metadata": {
        "colab": {
          "base_uri": "https://localhost:8080/"
        },
        "id": "pTtfhFc5XLao",
        "outputId": "2c2f23b2-2eea-4b4b-9b1f-497160487a52"
      },
      "outputs": [
        {
          "output_type": "execute_result",
          "data": {
            "text/plain": [
              "<tf.Tensor: shape=(3, 3, 3), dtype=float32, numpy=\n",
              "array([[[9.58584309e-01, 9.66389775e-01, 7.17539787e-02],\n",
              "        [9.19598699e-01, 9.15038586e-03, 8.91460657e-01],\n",
              "        [3.45587730e-04, 9.37341332e-01, 8.22578907e-01]],\n",
              "\n",
              "       [[5.28843164e-01, 3.19306970e-01, 3.73931766e-01],\n",
              "        [8.88266444e-01, 1.05351806e-01, 3.23573709e-01],\n",
              "        [4.27358985e-01, 4.80396628e-01, 3.87683034e-01]],\n",
              "\n",
              "       [[5.59172153e-01, 4.76481557e-01, 2.97854900e-01],\n",
              "        [1.81133270e-01, 5.01070857e-01, 7.98372030e-02],\n",
              "        [4.43899512e-01, 1.86643124e-01, 3.84238958e-01]]], dtype=float32)>"
            ]
          },
          "metadata": {},
          "execution_count": 10
        }
      ],
      "source": [
        "# Создание трезмерного тензора\n",
        "tensor3d = tf.random.uniform([3, 3, 3])\n",
        "tensor3d"
      ]
    },
    {
      "cell_type": "code",
      "source": [
        "# Создание тензоров: один 2х3, второй 3х4\n",
        "tensor2x3 = tf.random.normal([2, 3])\n",
        "tensor3x4 = tf.random.normal([3, 4])\n",
        "print(tensor2x3)\n",
        "print()\n",
        "print(tensor3x4)"
      ],
      "metadata": {
        "colab": {
          "base_uri": "https://localhost:8080/"
        },
        "id": "P1B4liMLZKqT",
        "outputId": "af136e0e-6403-4f0b-db04-3ca1233bd7b9"
      },
      "execution_count": 11,
      "outputs": [
        {
          "output_type": "stream",
          "name": "stdout",
          "text": [
            "tf.Tensor(\n",
            "[[-1.7561916   0.40790635  0.09731789]\n",
            " [-0.05743969 -1.2366548  -0.4065547 ]], shape=(2, 3), dtype=float32)\n",
            "\n",
            "tf.Tensor(\n",
            "[[ 0.26737195 -0.9796032  -0.23088    -0.8376535 ]\n",
            " [ 2.6825826   1.63271    -0.95461106  0.06001246]\n",
            " [ 0.1549044   0.48523396 -0.99304616  0.8258599 ]], shape=(3, 4), dtype=float32)\n"
          ]
        }
      ]
    },
    {
      "cell_type": "code",
      "source": [
        "# Перемножение с помощью функции\n",
        "tensorMatmul = tf.matmul(tensor2x3, tensor3x4)\n",
        "print(tensorMatmul)"
      ],
      "metadata": {
        "colab": {
          "base_uri": "https://localhost:8080/"
        },
        "id": "YKVAMAmmaSY0",
        "outputId": "764062f9-f5b3-4a65-c83a-a2adcaf4c684"
      },
      "execution_count": 12,
      "outputs": [
        {
          "output_type": "stream",
          "name": "stdout",
          "text": [
            "tf.Tensor(\n",
            "[[ 0.63976103  2.4335856  -0.08056355  1.5759305 ]\n",
            " [-3.3957634  -2.1601045   1.5975137  -0.36185735]], shape=(2, 4), dtype=float32)\n"
          ]
        }
      ]
    },
    {
      "cell_type": "code",
      "source": [
        "# Перемножение с помощью оператора\n",
        "tensorOperator = tensor2x3 @ tensor3x4\n",
        "print(tensorOperator)\n"
      ],
      "metadata": {
        "colab": {
          "base_uri": "https://localhost:8080/"
        },
        "id": "EXIxJpqVilAA",
        "outputId": "e01bc9bd-ff28-4094-bc34-e7e1bd77185f"
      },
      "execution_count": 13,
      "outputs": [
        {
          "output_type": "stream",
          "name": "stdout",
          "text": [
            "tf.Tensor(\n",
            "[[ 0.63976103  2.4335856  -0.08056355  1.5759305 ]\n",
            " [-3.3957634  -2.1601045   1.5975137  -0.36185735]], shape=(2, 4), dtype=float32)\n"
          ]
        }
      ]
    },
    {
      "cell_type": "code",
      "source": [
        "# Создание ragged тензора\n",
        "xRagged = tf.RaggedTensor.from_row_lengths(values=[23, 15 ,14, 16, 17, 99, 85, 13, 58, 75, 100],\n",
        "                                                row_lengths=[2, 1, 3, 5, 0, 0])\n",
        "print(xRagged)"
      ],
      "metadata": {
        "colab": {
          "base_uri": "https://localhost:8080/"
        },
        "id": "MNHdct6oja5d",
        "outputId": "97d24293-914e-4479-a133-5172fb2492d6"
      },
      "execution_count": 14,
      "outputs": [
        {
          "output_type": "stream",
          "name": "stdout",
          "text": [
            "<tf.RaggedTensor [[23, 15], [14], [16, 17, 99], [85, 13, 58, 75, 100], [], []]>\n"
          ]
        }
      ]
    },
    {
      "cell_type": "code",
      "source": [
        "# Выведем список устройств \n",
        "print(tf.config.experimental.list_physical_devices())"
      ],
      "metadata": {
        "colab": {
          "base_uri": "https://localhost:8080/"
        },
        "id": "tSNEsZPPmDcp",
        "outputId": "cf139527-91e1-48ee-e4c5-c15b231e7975"
      },
      "execution_count": 15,
      "outputs": [
        {
          "output_type": "stream",
          "name": "stdout",
          "text": [
            "[PhysicalDevice(name='/physical_device:CPU:0', device_type='CPU'), PhysicalDevice(name='/physical_device:GPU:0', device_type='GPU')]\n"
          ]
        }
      ]
    },
    {
      "cell_type": "code",
      "source": [
        "# Вывод, на каком устройстве он располагается\n",
        "print(xRagged.values.device.endswith('GPU:0'))"
      ],
      "metadata": {
        "colab": {
          "base_uri": "https://localhost:8080/"
        },
        "id": "lqrsASyOjg8r",
        "outputId": "4e3779d0-e7eb-4e78-fa64-6dc48b26b7e6"
      },
      "execution_count": 16,
      "outputs": [
        {
          "output_type": "stream",
          "name": "stdout",
          "text": [
            "True\n"
          ]
        }
      ]
    },
    {
      "cell_type": "code",
      "source": [
        "# Без метода .values не работает метод .devicе для рваных тензоров\n",
        "xRagged.values"
      ],
      "metadata": {
        "colab": {
          "base_uri": "https://localhost:8080/"
        },
        "id": "ZY3iDMwZCXay",
        "outputId": "6903d52d-dcfc-4ba1-aae5-29af1d7e5d62"
      },
      "execution_count": 21,
      "outputs": [
        {
          "output_type": "execute_result",
          "data": {
            "text/plain": [
              "<tf.Tensor: shape=(11,), dtype=int32, numpy=array([ 23,  15,  14,  16,  17,  99,  85,  13,  58,  75, 100], dtype=int32)>"
            ]
          },
          "metadata": {},
          "execution_count": 21
        }
      ]
    },
    {
      "cell_type": "markdown",
      "source": [
        ".values вывел все значения в виде одного списка из рваного тензора"
      ],
      "metadata": {
        "id": "_hI-xwlFFA7D"
      }
    },
    {
      "cell_type": "code",
      "source": [
        "# Посмотрим какие вообще доступны методы для рваного тензора\n",
        "dir(xRagged)"
      ],
      "metadata": {
        "colab": {
          "base_uri": "https://localhost:8080/"
        },
        "id": "-xSB6p2qEiN3",
        "outputId": "68d19d2a-68f2-4819-8981-0eca91ee6337"
      },
      "execution_count": 22,
      "outputs": [
        {
          "output_type": "execute_result",
          "data": {
            "text/plain": [
              "['__abs__',\n",
              " '__abstractmethods__',\n",
              " '__add__',\n",
              " '__and__',\n",
              " '__bool__',\n",
              " '__class__',\n",
              " '__composite_gradient__',\n",
              " '__delattr__',\n",
              " '__dict__',\n",
              " '__dir__',\n",
              " '__div__',\n",
              " '__doc__',\n",
              " '__eq__',\n",
              " '__floordiv__',\n",
              " '__format__',\n",
              " '__ge__',\n",
              " '__getattribute__',\n",
              " '__getitem__',\n",
              " '__gt__',\n",
              " '__hash__',\n",
              " '__init__',\n",
              " '__init_subclass__',\n",
              " '__invert__',\n",
              " '__le__',\n",
              " '__lt__',\n",
              " '__mod__',\n",
              " '__module__',\n",
              " '__mul__',\n",
              " '__ne__',\n",
              " '__neg__',\n",
              " '__new__',\n",
              " '__nonzero__',\n",
              " '__or__',\n",
              " '__pow__',\n",
              " '__radd__',\n",
              " '__rand__',\n",
              " '__rdiv__',\n",
              " '__reduce__',\n",
              " '__reduce_ex__',\n",
              " '__repr__',\n",
              " '__rfloordiv__',\n",
              " '__rmod__',\n",
              " '__rmul__',\n",
              " '__ror__',\n",
              " '__rpow__',\n",
              " '__rsub__',\n",
              " '__rtruediv__',\n",
              " '__rxor__',\n",
              " '__setattr__',\n",
              " '__sizeof__',\n",
              " '__str__',\n",
              " '__sub__',\n",
              " '__subclasshook__',\n",
              " '__tf_tracing_type__',\n",
              " '__truediv__',\n",
              " '__weakref__',\n",
              " '__xor__',\n",
              " '_abc_impl',\n",
              " '_as_graph_element',\n",
              " '_consumers',\n",
              " '_convert_values_and_partition',\n",
              " '_eager_value',\n",
              " '_from_nested_row_partitions',\n",
              " '_from_row_partition',\n",
              " '_from_variant',\n",
              " '_is_eager',\n",
              " '_nested_row_partitions',\n",
              " '_row_partition',\n",
              " '_set_shape',\n",
              " '_shape_invariant_to_type_spec',\n",
              " '_tf_api_names',\n",
              " '_tf_api_names_v1',\n",
              " '_to_variant',\n",
              " '_type_spec',\n",
              " '_values',\n",
              " 'bounding_shape',\n",
              " 'consumers',\n",
              " 'dtype',\n",
              " 'flat_values',\n",
              " 'from_nested_row_lengths',\n",
              " 'from_nested_row_splits',\n",
              " 'from_nested_value_rowids',\n",
              " 'from_row_lengths',\n",
              " 'from_row_limits',\n",
              " 'from_row_splits',\n",
              " 'from_row_starts',\n",
              " 'from_sparse',\n",
              " 'from_tensor',\n",
              " 'from_uniform_row_length',\n",
              " 'from_value_rowids',\n",
              " 'get_shape',\n",
              " 'merge_dims',\n",
              " 'nested_row_lengths',\n",
              " 'nested_row_splits',\n",
              " 'nested_value_rowids',\n",
              " 'nrows',\n",
              " 'numpy',\n",
              " 'ragged_rank',\n",
              " 'row_lengths',\n",
              " 'row_limits',\n",
              " 'row_splits',\n",
              " 'row_starts',\n",
              " 'shape',\n",
              " 'to_list',\n",
              " 'to_sparse',\n",
              " 'to_tensor',\n",
              " 'uniform_row_length',\n",
              " 'value_rowids',\n",
              " 'values',\n",
              " 'with_flat_values',\n",
              " 'with_row_splits_dtype',\n",
              " 'with_values']"
            ]
          },
          "metadata": {},
          "execution_count": 22
        }
      ]
    }
  ]
}