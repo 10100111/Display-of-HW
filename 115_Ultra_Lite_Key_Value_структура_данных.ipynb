{
  "nbformat": 4,
  "nbformat_minor": 0,
  "metadata": {
    "colab": {
      "provenance": [],
      "include_colab_link": true
    },
    "kernelspec": {
      "name": "python2",
      "display_name": "Python 2"
    }
  },
  "cells": [
    {
      "cell_type": "markdown",
      "metadata": {
        "id": "view-in-github",
        "colab_type": "text"
      },
      "source": [
        "<a href=\"https://colab.research.google.com/github/10100111/Display-of-HW1/blob/main/115_Ultra_Lite_Key_Value_%D1%81%D1%82%D1%80%D1%83%D0%BA%D1%82%D1%83%D1%80%D0%B0_%D0%B4%D0%B0%D0%BD%D0%BD%D1%8B%D1%85.ipynb\" target=\"_parent\"><img src=\"https://colab.research.google.com/assets/colab-badge.svg\" alt=\"Open In Colab\"/></a>"
      ]
    },
    {
      "cell_type": "markdown",
      "metadata": {
        "id": "aYzXlLKcpn0k"
      },
      "source": [
        "Задание Ultra Lite\n",
        "\n",
        "Макс 10 баллов\n",
        "\n",
        "\n",
        "1. Используя код с занятия, создайте key-value storage на 1 миллион ключей.\n",
        "\n",
        "2. Заполните его случайными значениями;\n",
        "\n",
        "3. Придумайте 3 любые метрики по аналогии с метриками с урока;\n",
        "\n",
        "4. Допишите в класс Kpi Builder функции, которые будут считать эти метрики.\n",
        "\n",
        "Продемонстрируйте расчет.\n",
        "\n",
        "Разбор:  https://colab.research.google.com/drive/1aN4tyyA3yuGEhIevza3HaZaVpq2EqqYA?usp=sharing"
      ]
    },
    {
      "cell_type": "code",
      "metadata": {
        "id": "NCxI_W_-AptV",
        "colab": {
          "base_uri": "https://localhost:8080/"
        },
        "outputId": "d73a24cd-a8e6-48d7-d375-4c3f9dd0016c"
      },
      "source": [
        "# Создадим Key-Value (HashTable) storage на 1 млн объектов\n",
        "# Ключем будет являтс id объекта от 0 до 1.000.000, значением будет являтся пустой массив\n",
        "kv_storage = {i:[] for i in range(1000000)}\n",
        "len(kv_storage)"
      ],
      "execution_count": 1,
      "outputs": [
        {
          "output_type": "execute_result",
          "data": {
            "text/plain": [
              "1000000"
            ]
          },
          "metadata": {},
          "execution_count": 1
        }
      ]
    },
    {
      "cell_type": "code",
      "metadata": {
        "id": "Oq5-Bz5pBbQE",
        "colab": {
          "base_uri": "https://localhost:8080/"
        },
        "outputId": "dd83a5a2-d99b-4ce0-d346-a2c78f0d16ad"
      },
      "source": [
        "# На текущий момент наше хранилище пусто\n",
        "kv_storage[0]"
      ],
      "execution_count": 2,
      "outputs": [
        {
          "output_type": "execute_result",
          "data": {
            "text/plain": [
              "[]"
            ]
          },
          "metadata": {},
          "execution_count": 2
        }
      ]
    },
    {
      "cell_type": "code",
      "metadata": {
        "id": "GFymWzNaBRwL"
      },
      "source": [
        "# Заполним наше ПУСТОЕ хранилище для каждого ключа произвольным количеством событий со случайными знаяениями:\n",
        "import numpy as np\n",
        "for k in kv_storage.keys():\n",
        "  num_events = np.random.randint(0,320)\n",
        "  new_val = np.random.uniform(low=0,high=50,size=num_events).tolist()\n",
        "  kv_storage[k].extend(new_val)"
      ],
      "execution_count": 3,
      "outputs": []
    },
    {
      "cell_type": "code",
      "metadata": {
        "id": "7WN3-VWmDC1_",
        "colab": {
          "base_uri": "https://localhost:8080/"
        },
        "outputId": "8da67886-e5e8-45cc-e699-be6af39fe7e0"
      },
      "source": [
        "# Теперь у нас есть данные вхранилище\n",
        "kv_storage[0]"
      ],
      "execution_count": 4,
      "outputs": [
        {
          "output_type": "execute_result",
          "data": {
            "text/plain": [
              "[12.724371896458003,\n",
              " 26.69889834164822,\n",
              " 33.65343539405742,\n",
              " 30.694754172616967,\n",
              " 0.605296420588064,\n",
              " 49.51046911924295,\n",
              " 31.109146545661137,\n",
              " 49.92637192666135,\n",
              " 6.692484083276473,\n",
              " 28.442323509916818,\n",
              " 28.858483976803516,\n",
              " 31.51296183593823,\n",
              " 4.6832252663032925,\n",
              " 39.419011996019734,\n",
              " 12.642580103805102,\n",
              " 37.062464824157324,\n",
              " 25.45593810905919,\n",
              " 21.10866883772114,\n",
              " 2.4747120698775102,\n",
              " 39.64471871922785,\n",
              " 48.00100159578156,\n",
              " 1.314002275827425,\n",
              " 32.523087833420526,\n",
              " 29.42027279331349,\n",
              " 43.195594286277846,\n",
              " 30.00348682810025,\n",
              " 30.489629351024572,\n",
              " 10.084648543280128,\n",
              " 5.552616495970275,\n",
              " 48.54358050568733,\n",
              " 49.25856188397567,\n",
              " 18.515079971417713,\n",
              " 32.30785048685153,\n",
              " 6.59948106353469,\n",
              " 34.65742370383132,\n",
              " 16.693578600892227,\n",
              " 1.744073937958912,\n",
              " 26.797036954279303,\n",
              " 19.787055765606187,\n",
              " 10.53357592863724,\n",
              " 29.45890359581993,\n",
              " 41.16899472773715,\n",
              " 32.283185926888244,\n",
              " 33.8265800358872,\n",
              " 49.71649051840351,\n",
              " 23.493583684012464,\n",
              " 9.04876048640234,\n",
              " 8.940026406210267,\n",
              " 18.33911849223083,\n",
              " 7.289801572349253,\n",
              " 36.10216080820101,\n",
              " 17.468638409119098,\n",
              " 35.62189200499743,\n",
              " 10.693413191644686,\n",
              " 28.188391818369652,\n",
              " 30.988741880109327,\n",
              " 47.10323609306396,\n",
              " 7.321764187882512,\n",
              " 37.46633148621996,\n",
              " 15.257121206106683,\n",
              " 37.45291731450545,\n",
              " 14.649929555763542,\n",
              " 26.552533159658136,\n",
              " 28.263141654553138,\n",
              " 30.246527514765358,\n",
              " 41.846608954231264,\n",
              " 46.75593761321399,\n",
              " 7.915776891854937,\n",
              " 45.01537148671019,\n",
              " 27.26849826892741,\n",
              " 45.89050214791879,\n",
              " 29.348401218611166,\n",
              " 29.00023230886187,\n",
              " 31.64117857567638,\n",
              " 25.291798383401115,\n",
              " 37.26756100154868,\n",
              " 48.72530333325918,\n",
              " 11.185760541300976,\n",
              " 7.720290854294626,\n",
              " 41.25751772280882,\n",
              " 14.971784312682834,\n",
              " 25.867269580784402,\n",
              " 21.798743054357132,\n",
              " 11.419908854983507,\n",
              " 45.92329930476419,\n",
              " 28.28249093725082,\n",
              " 30.76340708322612,\n",
              " 23.42541938282971,\n",
              " 22.463034031824154,\n",
              " 3.15808566560003,\n",
              " 38.14447364469411,\n",
              " 39.03984396503227,\n",
              " 28.573447437411808,\n",
              " 20.726003014533497,\n",
              " 36.099519654637376,\n",
              " 43.449951692456985,\n",
              " 25.090181093897378,\n",
              " 40.10480991955823,\n",
              " 1.665836886681299,\n",
              " 39.267602033264296,\n",
              " 36.51142359293485,\n",
              " 32.434008053262716,\n",
              " 43.93867565415901,\n",
              " 9.416298509351295,\n",
              " 45.04800557952156,\n",
              " 26.174115770719407,\n",
              " 26.75271353424368,\n",
              " 34.09469175807854,\n",
              " 22.78473270383912,\n",
              " 21.975245340192313,\n",
              " 2.887535680568548,\n",
              " 28.839122852019905,\n",
              " 24.756821215144797,\n",
              " 8.35695425763095,\n",
              " 24.015924008353533,\n",
              " 28.26191467421633,\n",
              " 20.835499872542663,\n",
              " 43.20937238384155,\n",
              " 2.6361146321178808,\n",
              " 38.88659675358214,\n",
              " 7.153158300213692,\n",
              " 40.54189082084694,\n",
              " 28.483386873152217,\n",
              " 7.355127157168018,\n",
              " 24.358828847889047,\n",
              " 18.86405726772815,\n",
              " 9.277591161114707,\n",
              " 7.677826919004849,\n",
              " 11.717839803515313,\n",
              " 24.761486504113545,\n",
              " 3.1032715598683036,\n",
              " 9.670009369389032,\n",
              " 29.281177844899002,\n",
              " 35.00485051376747,\n",
              " 48.07920097207787,\n",
              " 49.96880685995792,\n",
              " 8.576932958766854,\n",
              " 40.40523398024649,\n",
              " 31.52859826979928,\n",
              " 30.105103352803248]"
            ]
          },
          "metadata": {},
          "execution_count": 4
        }
      ]
    },
    {
      "cell_type": "code",
      "metadata": {
        "id": "oPi2CJgcDI0A",
        "colab": {
          "base_uri": "https://localhost:8080/"
        },
        "outputId": "1ec0d0d2-da52-4f29-fde5-af75aa4dda98"
      },
      "source": [
        "#Проверим скорость доступа к случайному ключу\n",
        "%%timeit\n",
        "kv_storage[np.random.randint(0,1000000)]"
      ],
      "execution_count": 5,
      "outputs": [
        {
          "output_type": "stream",
          "name": "stdout",
          "text": [
            "3.86 µs ± 70.3 ns per loop (mean ± std. dev. of 7 runs, 100000 loops each)\n"
          ]
        }
      ]
    },
    {
      "cell_type": "code",
      "metadata": {
        "id": "vAVmR6WiC2ow"
      },
      "source": [
        "#Теперь напишем простенький класс для расчета KPI\n",
        "class KpiBuilder():\n",
        "  def __init__(self, key):\n",
        "        self.key = key\n",
        "\n",
        "  def get(self):\n",
        "    return kv_storage.get(self.key)\n",
        "\n",
        "  def count_20(self): # метрика кол-ва значений выше 20\n",
        "    return np.count_nonzero(self.get() == 20)\n",
        "\n",
        "  def standart_deviation(self):  # метрика стандартного отклонения значений\n",
        "    return np.std(self.get())\n",
        "\n",
        "  def min_max(self):  # метрика поиска минимума и максимума значений\n",
        "    return (min(self.get()), max(self.get()))\n",
        "\n",
        "\n"
      ],
      "execution_count": 35,
      "outputs": []
    },
    {
      "cell_type": "code",
      "metadata": {
        "id": "vtY2ldBAHCke"
      },
      "source": [
        "key_123 = KpiBuilder(123)"
      ],
      "execution_count": 36,
      "outputs": []
    },
    {
      "cell_type": "code",
      "metadata": {
        "id": "z9nh5ulSHdSP",
        "colab": {
          "base_uri": "https://localhost:8080/"
        },
        "outputId": "f6721eb0-14ba-468e-993d-b71511d54d8a"
      },
      "source": [
        "key_123.count_20()"
      ],
      "execution_count": 38,
      "outputs": [
        {
          "output_type": "execute_result",
          "data": {
            "text/plain": [
              "0"
            ]
          },
          "metadata": {},
          "execution_count": 38
        }
      ]
    },
    {
      "cell_type": "code",
      "metadata": {
        "id": "AZLh26LkKNs2",
        "colab": {
          "base_uri": "https://localhost:8080/"
        },
        "outputId": "20af4659-ed4d-4d00-f356-cd924dc19c5b"
      },
      "source": [
        "key_123.standart_deviation()"
      ],
      "execution_count": 39,
      "outputs": [
        {
          "output_type": "execute_result",
          "data": {
            "text/plain": [
              "14.459167381117805"
            ]
          },
          "metadata": {},
          "execution_count": 39
        }
      ]
    },
    {
      "cell_type": "code",
      "metadata": {
        "id": "7nZqpRgKKgaj",
        "colab": {
          "base_uri": "https://localhost:8080/"
        },
        "outputId": "69b7315c-3f75-42da-d51d-583cd896010f"
      },
      "source": [
        "key_123.min_max()"
      ],
      "execution_count": 40,
      "outputs": [
        {
          "output_type": "execute_result",
          "data": {
            "text/plain": [
              "(0.4332342881280149, 49.81634574479851)"
            ]
          },
          "metadata": {},
          "execution_count": 40
        }
      ]
    }
  ]
}