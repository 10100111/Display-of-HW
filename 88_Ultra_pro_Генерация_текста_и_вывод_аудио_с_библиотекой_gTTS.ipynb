{
  "nbformat": 4,
  "nbformat_minor": 0,
  "metadata": {
    "colab": {
      "provenance": [],
      "machine_shape": "hm",
      "toc_visible": true,
      "include_colab_link": true
    },
    "kernelspec": {
      "name": "python3",
      "display_name": "Python 3"
    },
    "accelerator": "TPU",
    "gpuClass": "standard"
  },
  "cells": [
    {
      "cell_type": "markdown",
      "metadata": {
        "id": "view-in-github",
        "colab_type": "text"
      },
      "source": [
        "<a href=\"https://colab.research.google.com/github/10100111/Display-of-HW1/blob/main/88_Ultra_pro_%D0%93%D0%B5%D0%BD%D0%B5%D1%80%D0%B0%D1%86%D0%B8%D1%8F_%D1%82%D0%B5%D0%BA%D1%81%D1%82%D0%B0_%D0%B8_%D0%B2%D1%8B%D0%B2%D0%BE%D0%B4_%D0%B0%D1%83%D0%B4%D0%B8%D0%BE_%D1%81_%D0%B1%D0%B8%D0%B1%D0%BB%D0%B8%D0%BE%D1%82%D0%B5%D0%BA%D0%BE%D0%B9_gTTS.ipynb\" target=\"_parent\"><img src=\"https://colab.research.google.com/assets/colab-badge.svg\" alt=\"Open In Colab\"/></a>"
      ]
    },
    {
      "cell_type": "markdown",
      "source": [
        "Задание Ultra pro\n",
        "\n",
        "Макс 10 баллов\n",
        "\n",
        "В нейронку по созданию чат-бота из занятия «Генерация текста» и добавьте в неё синтез речи, когда бот отвечает на вопрос (чтобы он делал это не текстом, а голосом)."
      ],
      "metadata": {
        "id": "pz_IA8f6Yy4g"
      }
    },
    {
      "cell_type": "markdown",
      "metadata": {
        "id": "1g-tBeFP38Rp"
      },
      "source": [
        "# **Import библиотек**\n",
        "https://www.youtube.com/watch?v=JSPbJ9CNZ9w&t=10s\n"
      ]
    },
    {
      "cell_type": "code",
      "metadata": {
        "id": "3j1Wpkvc3Q2s"
      },
      "source": [
        "from google.colab import files # модуль для загрузки файлов в colab\n",
        "import numpy as np # библиотека для работы с массивами данных\n",
        "\n",
        "from tensorflow.keras.models import Model, load_model # из кераса подгружаем абстрактный класс базовой модели, метод загрузки предобученной модели\n",
        "from tensorflow.keras.layers import Dense, Embedding, LSTM, Input # из кераса загружаем необходимые слои для нейросети\n",
        "from tensorflow.keras.optimizers import RMSprop, Adadelta # из кераса загружаем выбранный оптимизатор\n",
        "from tensorflow.keras.preprocessing.sequence import pad_sequences # загружаем метод ограничения последовательности заданной длиной\n",
        "from tensorflow.keras.preprocessing.text import Tokenizer # загружаем токенизатор кераса для обработки текста\n",
        "from tensorflow.keras import utils # загружаем утилиты кераса для one hot кодировки\n",
        "from tensorflow.keras.utils import plot_model # удобный график для визуализации архитектуры модели\n",
        "\n",
        "import yaml # импортируем модуль для удобной работы с файлами"
      ],
      "execution_count": null,
      "outputs": []
    },
    {
      "cell_type": "code",
      "source": [
        "pip install gTTS"
      ],
      "metadata": {
        "colab": {
          "base_uri": "https://localhost:8080/",
          "height": 420
        },
        "id": "D3itKcBMZehC",
        "outputId": "094a238b-f3f6-411a-e0ca-8abf0aa33027"
      },
      "execution_count": null,
      "outputs": [
        {
          "output_type": "stream",
          "name": "stdout",
          "text": [
            "Looking in indexes: https://pypi.org/simple, https://us-python.pkg.dev/colab-wheels/public/simple/\n",
            "Collecting gTTS\n",
            "  Downloading gTTS-2.3.1-py3-none-any.whl (28 kB)\n",
            "Requirement already satisfied: click<8.2,>=7.1 in /usr/local/lib/python3.8/dist-packages (from gTTS) (7.1.2)\n",
            "Collecting requests<3,>=2.27\n",
            "  Downloading requests-2.28.2-py3-none-any.whl (62 kB)\n",
            "\u001b[2K     \u001b[90m━━━━━━━━━━━━━━━━━━━━━━━━━━━━━━━━━━━━━━━━\u001b[0m \u001b[32m62.8/62.8 KB\u001b[0m \u001b[31m4.6 MB/s\u001b[0m eta \u001b[36m0:00:00\u001b[0m\n",
            "\u001b[?25hRequirement already satisfied: certifi>=2017.4.17 in /usr/local/lib/python3.8/dist-packages (from requests<3,>=2.27->gTTS) (2022.12.7)\n",
            "Requirement already satisfied: charset-normalizer<4,>=2 in /usr/local/lib/python3.8/dist-packages (from requests<3,>=2.27->gTTS) (2.1.1)\n",
            "Requirement already satisfied: idna<4,>=2.5 in /usr/local/lib/python3.8/dist-packages (from requests<3,>=2.27->gTTS) (2.10)\n",
            "Requirement already satisfied: urllib3<1.27,>=1.21.1 in /usr/local/lib/python3.8/dist-packages (from requests<3,>=2.27->gTTS) (1.24.3)\n",
            "Installing collected packages: requests, gTTS\n",
            "  Attempting uninstall: requests\n",
            "    Found existing installation: requests 2.25.1\n",
            "    Uninstalling requests-2.25.1:\n",
            "      Successfully uninstalled requests-2.25.1\n",
            "Successfully installed gTTS-2.3.1 requests-2.28.2\n"
          ]
        },
        {
          "output_type": "display_data",
          "data": {
            "application/vnd.colab-display-data+json": {
              "pip_warning": {
                "packages": [
                  "requests"
                ]
              }
            }
          },
          "metadata": {}
        }
      ]
    },
    {
      "cell_type": "code",
      "source": [
        "import gtts\n",
        "from gtts import gTTS\n",
        "from io import BytesIO\n",
        "from IPython.display import Audio"
      ],
      "metadata": {
        "id": "8zK4I3J2YZnL"
      },
      "execution_count": null,
      "outputs": []
    },
    {
      "cell_type": "code",
      "metadata": {
        "id": "200dSPOYZE7N",
        "colab": {
          "base_uri": "https://localhost:8080/"
        },
        "outputId": "0ad582b6-e7e5-482a-affb-110dec380f09"
      },
      "source": [
        "from google.colab import drive\n",
        "drive.mount('/content/drive')"
      ],
      "execution_count": null,
      "outputs": [
        {
          "output_type": "stream",
          "name": "stdout",
          "text": [
            "Mounted at /content/drive\n"
          ]
        }
      ]
    },
    {
      "cell_type": "markdown",
      "metadata": {
        "id": "Wxdi0Fqeg1LH"
      },
      "source": [
        "# **Парсинг данных**\n",
        "https://www.youtube.com/watch?v=JSPbJ9CNZ9w&t=87s"
      ]
    },
    {
      "cell_type": "code",
      "metadata": {
        "id": "tEA8TR_oerov",
        "colab": {
          "base_uri": "https://localhost:8080/"
        },
        "outputId": "71090aa4-530b-4086-e032-5fdf46892f05"
      },
      "source": [
        "######################\n",
        "# Открываем файл с диалогами\n",
        "######################\n",
        "corpus = open('/content/drive/MyDrive/Базы/Диалоги(рассказы)_censored.yml', 'r') # открываем файл с диалогами в режиме чтения\n",
        "document = yaml.safe_load(corpus) # загружаем файл *глоссарий\n",
        "conversations = document['разговоры'] # загружаем диалоги из файла и заносим в conversations \n",
        "print('Количество пар вопрос-ответ : {}'.format(len(conversations)))\n",
        "print('Пример диалога : {}'.format(conversations[123]))\n",
        "corpus.close()"
      ],
      "execution_count": null,
      "outputs": [
        {
          "output_type": "stream",
          "name": "stdout",
          "text": [
            "Количество пар вопрос-ответ : 11893\n",
            "Пример диалога : ['Перезалил?', 'Да вроде бы нет...']\n"
          ]
        }
      ]
    },
    {
      "cell_type": "code",
      "metadata": {
        "id": "EYg8z8Vj76bu",
        "colab": {
          "base_uri": "https://localhost:8080/"
        },
        "outputId": "c6d806c2-25af-4646-be55-156dcec5b112"
      },
      "source": [
        "######################\n",
        "# Разбираем вопросы-ответы с проставлением тегов ответам\n",
        "######################\n",
        "# Собираем вопросы и ответы в списки\n",
        "questions = list() # здесь будет список вопросов\n",
        "answers = list() # здесь будет список ответов\n",
        "\n",
        "# В каждом диалоге берем фразу и добавляем в лист\n",
        "# Если в ответе не одна фраза - то сцепляем сколько есть\n",
        "for con in conversations: # для каждой пары вопрос-ответ\n",
        "  if len(con) > 2 : # если ответ содержит более двух предложений (кол-во реплик, кол-во вариантов ответа)\n",
        "    questions.append(con[0]) # то вопросительную реплику отправляем в список вопросов\n",
        "    replies = con[1:] # а ответную составляем из последующих строк\n",
        "    ans = '' # здесь соберем ответ\n",
        "    for rep in replies: # каждую реплику в ответной реплике\n",
        "      ans += ' ' + rep \n",
        "    answers.append(ans) #добавим в список ответов\n",
        "  elif len(con)> 1: # если на 1 вопрос приходится 1 ответ\n",
        "    questions.append(con[0]) # то вопросительную реплику отправляем в список вопросов\n",
        "    answers.append(con[1]) # а ответную в список ответов\n",
        "\n",
        "# Очищаем строки с неопределенным типом ответов\n",
        "answersCleaned = list()\n",
        "for i in range(len(answers)):\n",
        "  if type(answers[i]) == str:\n",
        "    answersCleaned.append(answers[i]) #если тип - строка, то добавляем в ответы\n",
        "  else:\n",
        "    questions.pop(i) # если не строка, то ответ не добавился, и плюс убираем соответствующий вопрос\n",
        "\n",
        "# Сделаем теги-метки для начала и конца ответов\n",
        "answers = list()\n",
        "for i in range(len(answersCleaned)):\n",
        "  answers.append( '<START> ' + answersCleaned[i] + ' <END>' )\n",
        "\n",
        "# Выведем обновленные данные на экран\n",
        "print('Вопрос : {}'.format(questions[200]))\n",
        "print('Ответ : {}'.format(answers[200]))"
      ],
      "execution_count": null,
      "outputs": [
        {
          "output_type": "stream",
          "name": "stdout",
          "text": [
            "Вопрос : Около сотни...\n",
            "Ответ : <START> Точнее! <END>\n"
          ]
        }
      ]
    },
    {
      "cell_type": "code",
      "metadata": {
        "id": "mvn1jvRd9tep",
        "colab": {
          "base_uri": "https://localhost:8080/"
        },
        "outputId": "819c35ff-6996-4635-ee85-df891b5ceee6"
      },
      "source": [
        "######################\n",
        "# Подключаем керасовский токенизатор и собираем словарь индексов\n",
        "######################\n",
        "tokenizer = Tokenizer()\n",
        "tokenizer.fit_on_texts(questions + answers) # загружаем в токенизатор список вопросов-ответов для сборки словаря частотности\n",
        "vocabularyItems = list(tokenizer.word_index.items()) # список с cодержимым словаря\n",
        "vocabularySize = len(vocabularyItems)+1 # размер словаря\n",
        "print( 'Фрагмент словаря : {}'.format(vocabularyItems[:50]))\n",
        "print( 'Размер словаря : {}'.format(vocabularySize))"
      ],
      "execution_count": null,
      "outputs": [
        {
          "output_type": "stream",
          "name": "stdout",
          "text": [
            "Фрагмент словаря : [('start', 1), ('end', 2), ('что', 3), ('не', 4), ('я', 5), ('а', 6), ('ты', 7), ('это', 8), ('да', 9), ('в', 10), ('нет', 11), ('как', 12), ('и', 13), ('вы', 14), ('ну', 15), ('с', 16), ('на', 17), ('же', 18), ('так', 19), ('он', 20), ('у', 21), ('кто', 22), ('где', 23), ('все', 24), ('мы', 25), ('то', 26), ('мне', 27), ('тебя', 28), ('меня', 29), ('здесь', 30), ('еще', 31), ('почему', 32), ('о', 33), ('тебе', 34), ('там', 35), ('есть', 36), ('его', 37), ('за', 38), ('куда', 39), ('вот', 40), ('ничего', 41), ('вас', 42), ('знаю', 43), ('чем', 44), ('но', 45), ('она', 46), ('они', 47), ('ли', 48), ('чего', 49), ('вам', 50)]\n",
            "Размер словаря : 15092\n"
          ]
        }
      ]
    },
    {
      "cell_type": "markdown",
      "metadata": {
        "id": "fsUqzEBXg9Mu"
      },
      "source": [
        "# **Подготовка выборки**\n",
        "https://www.youtube.com/watch?v=JSPbJ9CNZ9w&t=305s"
      ]
    },
    {
      "cell_type": "code",
      "metadata": {
        "id": "p4nNBJUQgebF",
        "colab": {
          "base_uri": "https://localhost:8080/"
        },
        "outputId": "5d16fb19-0945-41b5-8cec-154bd7bcbd36"
      },
      "source": [
        "######################\n",
        "# Устанавливаем закодированные входные данные(вопросы) https://www.youtube.com/watch?v=JSPbJ9CNZ9w&t=310s\n",
        "######################\n",
        "tokenizedQuestions = tokenizer.texts_to_sequences(questions) # разбиваем текст вопросов на последовательности индексов\n",
        "maxLenQuestions = max([ len(x) for x in tokenizedQuestions]) # уточняем длину самого большого вопроса\n",
        "# Делаем последовательности одной длины, заполняя нулями более короткие вопросы\n",
        "paddedQuestions = pad_sequences(tokenizedQuestions, maxlen=maxLenQuestions, padding='post')\n",
        "\n",
        "# Предподготавливаем данные для входа в сеть\n",
        "encoderForInput = paddedQuestions\n",
        "print('Пример оригинального вопроса на вход : {}'.format(questions[100])) \n",
        "print('Пример кодированного вопроса на вход : {}'.format(encoderForInput[100])) \n",
        "print('Размеры закодированного массива вопросов на вход : {}'.format(encoderForInput.shape)) \n",
        "print('Установленная длина вопросов на вход : {}'.format(maxLenQuestions)) \n"
      ],
      "execution_count": null,
      "outputs": [
        {
          "output_type": "stream",
          "name": "stdout",
          "text": [
            "Пример оригинального вопроса на вход : Какая же мораль?\n",
            "Пример кодированного вопроса на вход : [ 170   18 5703    0    0    0    0    0    0    0    0]\n",
            "Размеры закодированного массива вопросов на вход : (11888, 11)\n",
            "Установленная длина вопросов на вход : 11\n"
          ]
        }
      ]
    },
    {
      "cell_type": "code",
      "metadata": {
        "id": "-tjvhMuzqFJD",
        "colab": {
          "base_uri": "https://localhost:8080/"
        },
        "outputId": "13aed43a-ec09-4b2b-8e74-5010f3ab303f"
      },
      "source": [
        "######################\n",
        "# Устанавливаем раскодированные входные данные(ответы) https://www.youtube.com/watch?v=JSPbJ9CNZ9w&t=375s\n",
        "######################\n",
        "tokenizedAnswers = tokenizer.texts_to_sequences(answers) # разбиваем текст ответов на последовательности индексов\n",
        "maxLenAnswers = max([len(x) for x in tokenizedAnswers]) # уточняем длину самого большого ответа\n",
        "# Делаем последовательности одной длины, заполняя нулями более короткие ответы\n",
        "paddedAnswers = pad_sequences(tokenizedAnswers, maxlen=maxLenAnswers, padding='post')\n",
        "\n",
        "# Предподготавливаем данные для входа в сеть\n",
        "decoderForInput = paddedAnswers # переводим в numpy массив\n",
        "print('Пример оригинального ответа на вход: {}'.format(answers[100])) \n",
        "print('Пример раскодированного ответа на вход : {}'.format(decoderForInput[200])) \n",
        "print('Размеры раскодированного массива ответов на вход : {}'.format(decoderForInput.shape)) \n",
        "print('Установленная длина ответов на вход : {}'.format(maxLenAnswers)) "
      ],
      "execution_count": null,
      "outputs": [
        {
          "output_type": "stream",
          "name": "stdout",
          "text": [
            "Пример оригинального ответа на вход: <START> Никакой. Так просто вспомнилось. <END>\n",
            "Пример раскодированного ответа на вход : [   1 1743    2    0    0    0    0    0    0    0    0    0    0]\n",
            "Размеры раскодированного массива ответов на вход : (11888, 13)\n",
            "Установленная длина ответов на вход : 13\n"
          ]
        }
      ]
    },
    {
      "cell_type": "code",
      "metadata": {
        "id": "MwsKk9dzNeqI"
      },
      "source": [
        "######################\n",
        "# Раскодированные выходные данные(ответы)\n",
        "######################\n",
        "tokenizedAnswers = tokenizer.texts_to_sequences(answers) # разбиваем текст ответов на последовательности индексов\n",
        "for i in range(len(tokenizedAnswers)) : # для разбитых на последовательности ответов\n",
        "  tokenizedAnswers[i] = tokenizedAnswers[i][1:] # избавляемся от тега <START>\n",
        "# Делаем последовательности одной длины, заполняя нулями более короткие ответы\n",
        "paddedAnswers = pad_sequences(tokenizedAnswers, maxlen=maxLenAnswers , padding='post')\n",
        "\n",
        "oneHotAnswers = utils.to_categorical(paddedAnswers, vocabularySize) # переводим в one hot vector\n",
        "decoderForOutput = np.array(oneHotAnswers) # и сохраняем в виде массива numpy"
      ],
      "execution_count": null,
      "outputs": []
    },
    {
      "cell_type": "code",
      "metadata": {
        "id": "fRl1k7SVaA6w",
        "colab": {
          "base_uri": "https://localhost:8080/"
        },
        "outputId": "c3543d1d-5b66-428d-cfe9-b4ed22cf149b"
      },
      "source": [
        "print('Пример раскодированного ответа на вход : {}'.format(decoderForInput[100][:21]))  \n",
        "print('Пример раскодированного ответа на выход : {}'.format(decoderForOutput[100][4][:21])) \n",
        "print('Размеры раскодированного массива ответов на выход : {}'.format(decoderForOutput.shape))\n",
        "print('Установленная длина вопросов на выход : {}'.format(maxLenAnswers)) "
      ],
      "execution_count": null,
      "outputs": [
        {
          "output_type": "stream",
          "name": "stdout",
          "text": [
            "Пример раскодированного ответа на вход : [    1   672    19    93 10547     2     0     0     0     0     0     0\n",
            "     0]\n",
            "Пример раскодированного ответа на выход : [0. 0. 1. 0. 0. 0. 0. 0. 0. 0. 0. 0. 0. 0. 0. 0. 0. 0. 0. 0. 0.]\n",
            "Размеры раскодированного массива ответов на выход : (11888, 13, 15092)\n",
            "Установленная длина вопросов на выход : 13\n"
          ]
        }
      ]
    },
    {
      "cell_type": "markdown",
      "metadata": {
        "id": "r0KR6Mh_hp1f"
      },
      "source": [
        "# **Параметры нейросети и модель обучения**\n",
        "https://www.youtube.com/watch?v=JSPbJ9CNZ9w&t=915s"
      ]
    },
    {
      "cell_type": "code",
      "metadata": {
        "id": "1rRKDr4rhXcZ"
      },
      "source": [
        "######################\n",
        "# Первый входной слой, кодер, выходной слой https://www.youtube.com/watch?v=JSPbJ9CNZ9w&t=915s\n",
        "######################\n",
        "encoderInputs = Input(shape=(None , )) # размеры на входе сетки (здесь будет encoderForInput)\n",
        "# Эти данные проходят через слой Embedding (длина словаря, размерность) \n",
        "encoderEmbedding = Embedding(vocabularySize, 200 , mask_zero=True) (encoderInputs)\n",
        "# Затем выход с Embedding пойдёт в LSTM слой, на выходе у которого будет два вектора состояния - state_h , state_c\n",
        "# Вектора состояния - state_h , state_c зададутся в LSTM слое декодера в блоке ниже\n",
        "encoderOutputs, state_h , state_c = LSTM(200, return_state=True)(encoderEmbedding)\n",
        "encoderStates = [state_h, state_c]"
      ],
      "execution_count": null,
      "outputs": []
    },
    {
      "cell_type": "code",
      "metadata": {
        "id": "K_yv8Y6QWX2D"
      },
      "source": [
        "######################\n",
        "# Второй входной слой, декодер, выходной слой https://www.youtube.com/watch?v=JSPbJ9CNZ9w&t=1048s\n",
        "######################\n",
        "decoderInputs = Input(shape=(None, )) # размеры на входе сетки (здесь будет decoderForInput)\n",
        "# Эти данные проходят через слой Embedding (длина словаря, размерность) \n",
        "# mask_zero=True - игнорировать нулевые padding при передаче в LSTM. Предотвратит вывод ответа типа: \"У меня все хорошо PAD PAD PAD PAD PAD PAD..\"\n",
        "decoderEmbedding = Embedding(vocabularySize, 200, mask_zero=True) (decoderInputs) \n",
        "# Затем выход с Embedding пойдёт в LSTM слой, которому передаются вектора состояния - state_h , state_c\n",
        "decoderLSTM = LSTM(200, return_state=True, return_sequences=True)\n",
        "decoderOutputs , _ , _ = decoderLSTM (decoderEmbedding, initial_state=encoderStates)\n",
        "# И от LSTM'а сигнал decoderOutputs пропускаем через полносвязный слой с софтмаксом на выходе\n",
        "decoderDense = Dense(vocabularySize, activation='softmax') \n",
        "output = decoderDense (decoderOutputs)"
      ],
      "execution_count": null,
      "outputs": []
    },
    {
      "cell_type": "code",
      "metadata": {
        "id": "KYnTen_UWc5F",
        "colab": {
          "base_uri": "https://localhost:8080/",
          "height": 983
        },
        "outputId": "7c77a076-f057-4d47-cab2-266590b1264b"
      },
      "source": [
        "######################\n",
        "# Собираем тренировочную модель нейросети https://www.youtube.com/watch?v=JSPbJ9CNZ9w&t=1220s\n",
        "######################\n",
        "model = Model([encoderInputs, decoderInputs], output)\n",
        "model.compile(optimizer=RMSprop(), loss='categorical_crossentropy')\n",
        "\n",
        "print(model.summary()) # выведем на экран информацию о построенной модели нейросети\n",
        "plot_model(model, to_file='model.png') # и построим график для визуализации слоев и связей между ними"
      ],
      "execution_count": null,
      "outputs": [
        {
          "output_type": "stream",
          "name": "stdout",
          "text": [
            "Model: \"model\"\n",
            "__________________________________________________________________________________________________\n",
            " Layer (type)                   Output Shape         Param #     Connected to                     \n",
            "==================================================================================================\n",
            " input_1 (InputLayer)           [(None, None)]       0           []                               \n",
            "                                                                                                  \n",
            " input_2 (InputLayer)           [(None, None)]       0           []                               \n",
            "                                                                                                  \n",
            " embedding (Embedding)          (None, None, 200)    3018400     ['input_1[0][0]']                \n",
            "                                                                                                  \n",
            " embedding_1 (Embedding)        (None, None, 200)    3018400     ['input_2[0][0]']                \n",
            "                                                                                                  \n",
            " lstm (LSTM)                    [(None, 200),        320800      ['embedding[0][0]']              \n",
            "                                 (None, 200),                                                     \n",
            "                                 (None, 200)]                                                     \n",
            "                                                                                                  \n",
            " lstm_1 (LSTM)                  [(None, None, 200),  320800      ['embedding_1[0][0]',            \n",
            "                                 (None, 200),                     'lstm[0][1]',                   \n",
            "                                 (None, 200)]                     'lstm[0][2]']                   \n",
            "                                                                                                  \n",
            " dense (Dense)                  (None, None, 15092)  3033492     ['lstm_1[0][0]']                 \n",
            "                                                                                                  \n",
            "==================================================================================================\n",
            "Total params: 9,711,892\n",
            "Trainable params: 9,711,892\n",
            "Non-trainable params: 0\n",
            "__________________________________________________________________________________________________\n",
            "None\n"
          ]
        },
        {
          "output_type": "execute_result",
          "data": {
            "image/png": "[encoded data removed]",
            "text/plain": [
              "<IPython.core.display.Image object>"
            ]
          },
          "metadata": {},
          "execution_count": 14
        }
      ]
    },
    {
      "cell_type": "code",
      "metadata": {
        "id": "VbelEm0zhadD",
        "colab": {
          "base_uri": "https://localhost:8080/"
        },
        "outputId": "4459165a-a83b-4760-9c51-72103e5af228"
      },
      "source": [
        "# Запустим обучение и сохраним модель https://www.youtube.com/watch?v=JSPbJ9CNZ9w&t=1348s\n",
        "model.fit([encoderForInput , decoderForInput], decoderForOutput, batch_size=50, epochs=100) \n",
        "model.save( '/content/drive/My Drive/Предобученные сети/model_100epochs(rms).h5' )"
      ],
      "execution_count": null,
      "outputs": [
        {
          "output_type": "stream",
          "name": "stdout",
          "text": [
            "Epoch 1/100\n",
            "238/238 [==============================] - 26s 60ms/step - loss: 5.8767\n",
            "Epoch 2/100\n",
            "238/238 [==============================] - 7s 30ms/step - loss: 4.9204\n",
            "Epoch 3/100\n",
            "238/238 [==============================] - 7s 30ms/step - loss: 4.8438\n",
            "Epoch 4/100\n",
            "238/238 [==============================] - 8s 34ms/step - loss: 4.8002\n",
            "Epoch 5/100\n",
            "238/238 [==============================] - 7s 29ms/step - loss: 4.7651\n",
            "Epoch 6/100\n",
            "238/238 [==============================] - 7s 30ms/step - loss: 4.7304\n",
            "Epoch 7/100\n",
            "238/238 [==============================] - 6s 27ms/step - loss: 4.6985\n",
            "Epoch 8/100\n",
            "238/238 [==============================] - 7s 29ms/step - loss: 4.6692\n",
            "Epoch 9/100\n",
            "238/238 [==============================] - 7s 28ms/step - loss: 4.6471\n",
            "Epoch 10/100\n",
            "238/238 [==============================] - 7s 30ms/step - loss: 4.6258\n",
            "Epoch 11/100\n",
            "238/238 [==============================] - 7s 28ms/step - loss: 4.6075\n",
            "Epoch 12/100\n",
            "238/238 [==============================] - 7s 30ms/step - loss: 4.5905\n",
            "Epoch 13/100\n",
            "238/238 [==============================] - 7s 27ms/step - loss: 4.5743\n",
            "Epoch 14/100\n",
            "238/238 [==============================] - 7s 29ms/step - loss: 4.5577\n",
            "Epoch 15/100\n",
            "238/238 [==============================] - 7s 28ms/step - loss: 4.5434\n",
            "Epoch 16/100\n",
            "238/238 [==============================] - 7s 28ms/step - loss: 4.5306\n",
            "Epoch 17/100\n",
            "238/238 [==============================] - 7s 29ms/step - loss: 4.5163\n",
            "Epoch 18/100\n",
            "238/238 [==============================] - 6s 27ms/step - loss: 4.5025\n",
            "Epoch 19/100\n",
            "238/238 [==============================] - 7s 31ms/step - loss: 4.4894\n",
            "Epoch 20/100\n",
            "238/238 [==============================] - 6s 27ms/step - loss: 4.4790\n",
            "Epoch 21/100\n",
            "238/238 [==============================] - 7s 29ms/step - loss: 4.4636\n",
            "Epoch 22/100\n",
            "238/238 [==============================] - 7s 29ms/step - loss: 4.4490\n",
            "Epoch 23/100\n",
            "238/238 [==============================] - 7s 30ms/step - loss: 4.4379\n",
            "Epoch 24/100\n",
            "238/238 [==============================] - 6s 27ms/step - loss: 4.4256\n",
            "Epoch 25/100\n",
            "238/238 [==============================] - 7s 29ms/step - loss: 4.4135\n",
            "Epoch 26/100\n",
            "238/238 [==============================] - 6s 27ms/step - loss: 4.4005\n",
            "Epoch 27/100\n",
            "238/238 [==============================] - 7s 29ms/step - loss: 4.3892\n",
            "Epoch 28/100\n",
            "238/238 [==============================] - 6s 27ms/step - loss: 4.3754\n",
            "Epoch 29/100\n",
            "238/238 [==============================] - 7s 29ms/step - loss: 4.3638\n",
            "Epoch 30/100\n",
            "238/238 [==============================] - 7s 29ms/step - loss: 4.3506\n",
            "Epoch 31/100\n",
            "238/238 [==============================] - 7s 30ms/step - loss: 4.3379\n",
            "Epoch 32/100\n",
            "238/238 [==============================] - 7s 28ms/step - loss: 4.3239\n",
            "Epoch 33/100\n",
            "238/238 [==============================] - 7s 28ms/step - loss: 4.3090\n",
            "Epoch 34/100\n",
            "238/238 [==============================] - 7s 28ms/step - loss: 4.2945\n",
            "Epoch 35/100\n",
            "238/238 [==============================] - 7s 28ms/step - loss: 4.2761\n",
            "Epoch 36/100\n",
            "238/238 [==============================] - 7s 28ms/step - loss: 4.2621\n",
            "Epoch 37/100\n",
            "238/238 [==============================] - 7s 28ms/step - loss: 4.2433\n",
            "Epoch 38/100\n",
            "238/238 [==============================] - 7s 28ms/step - loss: 4.2296\n",
            "Epoch 39/100\n",
            "238/238 [==============================] - 7s 28ms/step - loss: 4.2120\n",
            "Epoch 40/100\n",
            "238/238 [==============================] - 7s 28ms/step - loss: 4.1967\n",
            "Epoch 41/100\n",
            "238/238 [==============================] - 7s 28ms/step - loss: 4.1811\n",
            "Epoch 42/100\n",
            "238/238 [==============================] - 7s 29ms/step - loss: 4.1658\n",
            "Epoch 43/100\n",
            "238/238 [==============================] - 7s 28ms/step - loss: 4.1503\n",
            "Epoch 44/100\n",
            "238/238 [==============================] - 7s 29ms/step - loss: 4.1356\n",
            "Epoch 45/100\n",
            "238/238 [==============================] - 6s 27ms/step - loss: 4.1179\n",
            "Epoch 46/100\n",
            "238/238 [==============================] - 7s 30ms/step - loss: 4.1033\n",
            "Epoch 47/100\n",
            "238/238 [==============================] - 6s 27ms/step - loss: 4.0880\n",
            "Epoch 48/100\n",
            "238/238 [==============================] - 7s 29ms/step - loss: 4.0728\n",
            "Epoch 49/100\n",
            "238/238 [==============================] - 6s 27ms/step - loss: 4.0558\n",
            "Epoch 50/100\n",
            "238/238 [==============================] - 7s 29ms/step - loss: 4.0407\n",
            "Epoch 51/100\n",
            "238/238 [==============================] - 7s 29ms/step - loss: 4.0221\n",
            "Epoch 52/100\n",
            "238/238 [==============================] - 7s 30ms/step - loss: 4.0088\n",
            "Epoch 53/100\n",
            "238/238 [==============================] - 7s 27ms/step - loss: 3.9915\n",
            "Epoch 54/100\n",
            "238/238 [==============================] - 7s 29ms/step - loss: 3.9747\n",
            "Epoch 55/100\n",
            "238/238 [==============================] - 6s 27ms/step - loss: 3.9564\n",
            "Epoch 56/100\n",
            "238/238 [==============================] - 7s 29ms/step - loss: 3.9396\n",
            "Epoch 57/100\n",
            "238/238 [==============================] - 7s 28ms/step - loss: 3.9230\n",
            "Epoch 58/100\n",
            "238/238 [==============================] - 7s 29ms/step - loss: 3.9055\n",
            "Epoch 59/100\n",
            "238/238 [==============================] - 7s 28ms/step - loss: 3.8885\n",
            "Epoch 60/100\n",
            "238/238 [==============================] - 7s 28ms/step - loss: 3.8703\n",
            "Epoch 61/100\n",
            "238/238 [==============================] - 7s 28ms/step - loss: 3.8514\n",
            "Epoch 62/100\n",
            "238/238 [==============================] - 7s 28ms/step - loss: 3.8369\n",
            "Epoch 63/100\n",
            "238/238 [==============================] - 7s 28ms/step - loss: 3.8190\n",
            "Epoch 64/100\n",
            "238/238 [==============================] - 7s 28ms/step - loss: 3.7993\n",
            "Epoch 65/100\n",
            "238/238 [==============================] - 7s 29ms/step - loss: 3.7822\n",
            "Epoch 66/100\n",
            "238/238 [==============================] - 7s 28ms/step - loss: 3.7642\n",
            "Epoch 67/100\n",
            "238/238 [==============================] - 7s 29ms/step - loss: 3.7480\n",
            "Epoch 68/100\n",
            "238/238 [==============================] - 6s 27ms/step - loss: 3.7281\n",
            "Epoch 69/100\n",
            "238/238 [==============================] - 7s 29ms/step - loss: 3.7097\n",
            "Epoch 70/100\n",
            "238/238 [==============================] - 6s 27ms/step - loss: 3.6926\n",
            "Epoch 71/100\n",
            "238/238 [==============================] - 7s 29ms/step - loss: 3.6739\n",
            "Epoch 72/100\n",
            "238/238 [==============================] - 6s 27ms/step - loss: 3.6551\n",
            "Epoch 73/100\n",
            "238/238 [==============================] - 7s 29ms/step - loss: 3.6352\n",
            "Epoch 74/100\n",
            "238/238 [==============================] - 6s 27ms/step - loss: 3.6172\n",
            "Epoch 75/100\n",
            "238/238 [==============================] - 7s 29ms/step - loss: 3.5972\n",
            "Epoch 76/100\n",
            "238/238 [==============================] - 6s 27ms/step - loss: 3.5767\n",
            "Epoch 77/100\n",
            "238/238 [==============================] - 7s 29ms/step - loss: 3.5583\n",
            "Epoch 78/100\n",
            "238/238 [==============================] - 6s 27ms/step - loss: 3.5378\n",
            "Epoch 79/100\n",
            "238/238 [==============================] - 7s 29ms/step - loss: 3.5162\n",
            "Epoch 80/100\n",
            "238/238 [==============================] - 6s 27ms/step - loss: 3.4964\n",
            "Epoch 81/100\n",
            "238/238 [==============================] - 7s 29ms/step - loss: 3.4741\n",
            "Epoch 82/100\n",
            "238/238 [==============================] - 6s 27ms/step - loss: 3.4513\n",
            "Epoch 83/100\n",
            "238/238 [==============================] - 7s 29ms/step - loss: 3.4309\n",
            "Epoch 84/100\n",
            "238/238 [==============================] - 7s 29ms/step - loss: 3.4067\n",
            "Epoch 85/100\n",
            "238/238 [==============================] - 7s 29ms/step - loss: 3.3856\n",
            "Epoch 86/100\n",
            "238/238 [==============================] - 7s 28ms/step - loss: 3.3644\n",
            "Epoch 87/100\n",
            "238/238 [==============================] - 7s 28ms/step - loss: 3.3400\n",
            "Epoch 88/100\n",
            "238/238 [==============================] - 7s 28ms/step - loss: 3.3172\n",
            "Epoch 89/100\n",
            "238/238 [==============================] - 7s 28ms/step - loss: 3.2959\n",
            "Epoch 90/100\n",
            "238/238 [==============================] - 7s 29ms/step - loss: 3.2708\n",
            "Epoch 91/100\n",
            "238/238 [==============================] - 7s 28ms/step - loss: 3.2504\n",
            "Epoch 92/100\n",
            "238/238 [==============================] - 7s 29ms/step - loss: 3.2270\n",
            "Epoch 93/100\n",
            "238/238 [==============================] - 7s 27ms/step - loss: 3.2036\n",
            "Epoch 94/100\n",
            "238/238 [==============================] - 7s 29ms/step - loss: 3.1820\n",
            "Epoch 95/100\n",
            "238/238 [==============================] - 7s 28ms/step - loss: 3.1574\n",
            "Epoch 96/100\n",
            "238/238 [==============================] - 7s 29ms/step - loss: 3.1351\n",
            "Epoch 97/100\n",
            "238/238 [==============================] - 6s 27ms/step - loss: 3.1125\n",
            "Epoch 98/100\n",
            "238/238 [==============================] - 7s 29ms/step - loss: 3.0891\n",
            "Epoch 99/100\n",
            "238/238 [==============================] - 6s 27ms/step - loss: 3.0655\n",
            "Epoch 100/100\n",
            "238/238 [==============================] - 7s 29ms/step - loss: 3.0437\n"
          ]
        }
      ]
    },
    {
      "cell_type": "code",
      "metadata": {
        "id": "iEHzJjlRYK5-"
      },
      "source": [
        "# model.compile(optimizer=Adadelta(), loss='categorical_crossentropy')"
      ],
      "execution_count": null,
      "outputs": []
    },
    {
      "cell_type": "code",
      "metadata": {
        "id": "_rPD8f5tY4up"
      },
      "source": [
        "# # Запустим обучение и сохраним модель\n",
        "# model.fit([encoderForInput , decoderForInput], decoderForOutput, batch_size=50, epochs=2) \n",
        "# # model.save( '/content/drive/My Drive/Предобученные сети/model_100epochs(rms) + 50(ada).h5' )"
      ],
      "execution_count": null,
      "outputs": []
    },
    {
      "cell_type": "code",
      "metadata": {
        "id": "6jrhHhh02_uO"
      },
      "source": [
        "model.load_weights('/content/drive/MyDrive/Предобученные сети/model_100epochs(rms).h5')"
      ],
      "execution_count": null,
      "outputs": []
    },
    {
      "cell_type": "markdown",
      "metadata": {
        "id": "8_U_rY8UiRL2"
      },
      "source": [
        "# **Подготовка и запуск рабочей нейросети с генерацией ответов**\n",
        "https://www.youtube.com/watch?v=JSPbJ9CNZ9w&t=1428s\n"
      ]
    },
    {
      "cell_type": "code",
      "metadata": {
        "id": "Kv9utvcjh2co"
      },
      "source": [
        "######################\n",
        "# Создаем рабочую модель для вывода ответов на запросы пользователя https://www.youtube.com/watch?v=JSPbJ9CNZ9w&t=1455s\n",
        "######################\n",
        "def makeInferenceModels():\n",
        "  # Определим модель кодера, на входе далее будут закодированные вопросы(encoderForInputs), на выходе состояния state_h, state_c\n",
        "  encoderModel = Model(encoderInputs, encoderStates) \n",
        "\n",
        "  decoderStateInput_h = Input(shape=(200 ,)) # обозначим размерность для входного слоя с состоянием state_h\n",
        "  decoderStateInput_c = Input(shape=(200 ,)) # обозначим размерность для входного слоя с состоянием state_c\n",
        "\n",
        "  decoderStatesInputs = [decoderStateInput_h, decoderStateInput_c] # возьмем оба inputs вместе и запишем в decoderStatesInputs\n",
        "\n",
        "  # Берём ответы, прошедшие через эмбединг, вместе с состояниями и подаём LSTM cлою\n",
        "  decoderOutputs, state_h, state_c = decoderLSTM(decoderEmbedding, initial_state=decoderStatesInputs)\n",
        "  decoderStates = [state_h, state_c] # LSTM даст нам новые состояния\n",
        "  decoderOutputs = decoderDense(decoderOutputs) # и ответы, которые мы пропустим через полносвязный слой с софтмаксом\n",
        "\n",
        "  # Определим модель декодера, на входе далее будут раскодированные ответы (decoderForInputs) и состояния\n",
        "  # на выходе предсказываемый ответ и новые состояния\n",
        "  decoderModel = Model([decoderInputs] + decoderStatesInputs, [decoderOutputs] + decoderStates)\n",
        "\n",
        "  return encoderModel , decoderModel"
      ],
      "execution_count": null,
      "outputs": []
    },
    {
      "cell_type": "code",
      "metadata": {
        "id": "dSSOhZpgh9LI"
      },
      "source": [
        "######################\n",
        "# Создадим функцию, которая преобразует вопрос пользователя в последовательность индексов https://www.youtube.com/watch?v=JSPbJ9CNZ9w&t=1593s\n",
        "######################\n",
        "def strToTokens(sentence: str): # функция принимает строку на вход (предложение с вопросом)\n",
        "  words = sentence.lower().split() # приводит предложение к нижнему регистру и разбирает на слова\n",
        "  tokensList = list() # здесь будет последовательность токенов/индексов\n",
        "  for word in words: # для каждого слова в предложении\n",
        "    tokensList.append(tokenizer.word_index[word]) # определяем токенизатором индекс и добавляем в список\n",
        "\n",
        "    # Функция вернёт вопрос в виде последовательности индексов, ограниченной длиной самого длинного вопроса из нашей базы вопросов\n",
        "  return pad_sequences([tokensList], maxlen=maxLenQuestions , padding='post')"
      ],
      "execution_count": null,
      "outputs": []
    },
    {
      "cell_type": "code",
      "metadata": {
        "id": "kJ0Dxd1eiEid",
        "colab": {
          "base_uri": "https://localhost:8080/",
          "height": 224
        },
        "outputId": "d0ad6ef3-5223-453a-a3bb-f58def51b08e"
      },
      "source": [
        "######################\n",
        "# Устанавливаем окончательные настройки и запускаем модель https://www.youtube.com/watch?v=JSPbJ9CNZ9w&t=1645s\n",
        "######################\n",
        "\n",
        "encModel , decModel = makeInferenceModels() # запускаем функцию для построения модели кодера и декодера\n",
        "\n",
        "# for _ in range(3): # задаем количество вопросов, и на каждой итерации в этом диапазоне:\n",
        "# Получаем значения состояний, которые определит кодер в соответствии с заданным вопросом\n",
        "statesValues = encModel.predict(strToTokens(input( 'Задайте вопрос : ' )))\n",
        "# Создаём пустой массив размером (1, 1)\n",
        "emptyTargetSeq = np.zeros((1, 1))    \n",
        "emptyTargetSeq[0, 0] = tokenizer.word_index['start'] # положим в пустую последовательность начальное слово 'start' в виде индекса\n",
        "\n",
        "stopCondition = False # зададим условие, при срабатывании которого, прекратится генерация очередного слова\n",
        "decodedTranslation = '' # здесь будет собираться генерируемый ответ\n",
        "while not stopCondition : # пока не сработало стоп-условие\n",
        "  # В модель декодера подадим пустую последовательность со словом 'start' и состояния предсказанные кодером по заданному вопросу.\n",
        "  # декодер заменит слово 'start' предсказанным сгенерированным словом и обновит состояния\n",
        "  decOutputs , h , c = decModel.predict([emptyTargetSeq] + statesValues)\n",
        "  \n",
        "  #argmax пробежит по вектору decOutputs'а[0,0,15104], найдет макс.значение, и вернёт нам номер индекса под которым оно лежит в массиве\n",
        "  sampledWordIndex = np.argmax( decOutputs[0, 0, :]) # argmax возьмем от оси, в которой 15104 элементов. Получили индекс предсказанного слова.\n",
        "  sampledWord = None # создаем переменную, в которую положим слово, преобразованное на естественный язык\n",
        "  for word , index in tokenizer.word_index.items():\n",
        "    if sampledWordIndex == index: # если индекс выбранного слова соответствует какому-то индексу из словаря\n",
        "      decodedTranslation += ' {}'.format(word) # слово, идущее под этим индексом в словаре, добавляется в итоговый ответ \n",
        "      sampledWord = word # выбранное слово фиксируем в переменную sampledWord\n",
        "  \n",
        "  # Если выбранным словом оказывается 'end' либо если сгенерированный ответ превышает заданную максимальную длину ответа\n",
        "  if sampledWord == 'end' or len(decodedTranslation.split()) > maxLenAnswers:\n",
        "    stopCondition = True # то срабатывает стоп-условие и прекращаем генерацию\n",
        "\n",
        "\n",
        "  emptyTargetSeq[0, 0] = sampledWordIndex # заносим туда индекс выбранного слова\n",
        "  statesValues = [h, c] # и состояния, обновленные декодером\n",
        "  # и продолжаем цикл с обновленными параметрами\n",
        "\n",
        "print(decodedTranslation[:-3]) # выводим ответ сгенерированный декодером\n",
        "  \n",
        "text = decodedTranslation[:-3] # сохраняем ответ в переменную text\n",
        "  \n",
        "tts_ru = gTTS(str(text), lang='ru')  # переводим ответ в аудио\n",
        "with open('answer.mp3', 'wb') as f:  # записываем в файл и открываем\n",
        "  tts_ru.write_to_fp(f)\n",
        "Audio('answer.mp3', autoplay=True)                  # выводим запись для прослушивания\n"
      ],
      "execution_count": null,
      "outputs": [
        {
          "output_type": "stream",
          "name": "stdout",
          "text": [
            "Задайте вопрос : привет\n",
            "1/1 [==============================] - 2s 2s/step\n",
            "1/1 [==============================] - 1s 1s/step\n",
            "1/1 [==============================] - 0s 29ms/step\n",
            "1/1 [==============================] - 0s 29ms/step\n",
            "1/1 [==============================] - 0s 28ms/step\n",
            "1/1 [==============================] - 0s 28ms/step\n",
            " что вы не знает \n"
          ]
        },
        {
          "output_type": "execute_result",
          "data": {
            "text/plain": [
              "<IPython.lib.display.Audio object>"
            ],
            "text/html": [
              "\n",
              "                <audio  controls=\"controls\" autoplay=\"autoplay\">\n",
              "                    <source src=\"data:audio/mpeg;base64,//NExAAAAANIAUAAAP9Qdr5HJZ//F6WRxv/huXwFDnFiuecS89GMFxMViL9p6TyAaEs78/MyRA8fPM/v9jrA8IL/6v/MRknKSP//Pmnig4o3+X/rXNOjVQWh80V4oXTE//NExFMSkd5QAZg4AIjw5Zdwk8VCfzSi+Zk4VCQeQrISeJa46cvZ1f92Hp6hgshYOEcpDyWKN2ePNxhEmNDsewDqjArqmUI8z1izuvAeLxzHe95WNwH8v5y9WxScprcc//NExFsg6taEAchgAc9+zfNxzH6de8zSj97zS79FloY+nbzi9/5vA5ssU7bzdu7mBFYPM/UiE/rPz/+/0YmZxM4s4mAIkIuw9FMcoozOggIAcByAR8WHhxeyIS0EOElH//NExCodCvakAAlYuYvnR0hl8+vKV1sf073khn6c9d/HlFnLzlOu/eaQxa+48eHZ/Lk7B3zApmlL2nJ74J2OKn9ab5Dk85Ns6kVb7nUrZvspN5xypqr+1f//PlNWcw/6//NExAgTWlbAAABQuTrRAkHIQZZCh6J0cVqR41BYeo8oG51CyOEYvTwejtQwYQp8DbWK7lhzbt3F1rPfVN8aV2YgA4hFjpfZ9v+cy3EHet+wZmr//P//f/n86cs/v1s1//NExA0UavbAAAhMuRxvorTnokRN04GOJpfeHGulY9cFRHxDW21/nlrvUq1PPK+25LINtn3evrtrXJbR/jfv04e2/bN24aG2IP5e+saj2vAsrVEP/1b/J///MJo1/J////NExA4VGw6wABBGuT/+rGPUmbVQx8XUmPCgIZmjH0KwY4BGqgLgKsBMa7M8FWBgIKJEqoVVWHMUBDqtCoaClCkawVGP6TUmZtuqsFVVVQQoKBTqEkCEHEPNVB0mWzt+//NExAwSanZoAGhKuWv/6f///n/qUv+9SlZkNL9S6ftyl9TB5yzPzDRz0OAo0cHnZHYwkcgGEWUpTCIqX/Jif75I7FUm7fxRpJ+NNMCKKOD2w27deHae5HM5LL6+drLP//NExBUSkGJEAVgYAHczr9EU8CYu5lySATYDszYkoJhWwpYSsaHUOtuOtFyR2LC6mnknWz15bC6WUqFfVr71Wviq1S6mcRHcOZrKo8BB4558CWIU4/PPA8LIjtzSdzAv//NExB0Y0yqYAZBQAE45PmMeeeAeLbCqJ/57mPlShGIQfmfz/ZyhWXaQ/+zpRMmYVDyQmPd//zK2mN3jwsREgtuapxIb//9rv/bnM0w40+aw8I0V+zjrLs0K/b5hvxqL//NExAwUIdasAdhoAFK1Qwvga9jS59UbY/nji6KAXsxSSUiSYDHAR5dHiXnMWMS1f0L+plfv6kiaU/qX+Ym/0Ss/V1qX6nNO0yv///9nZ3RhNUF9A+ABQech5ZPIOUwE//NExA4SOZqwAJUKlKoOYX1mBacTyMsdepjMLUhy5bRWeOjki0Gn1oN9P5m+gsT4wNv4kr/DxH3hQOQ4/xf////8VEGaJ1IW/MAH4D3yHklpDpDUQNcAGwYFw/I0G8op//NExBgQyZqwAJ0ElANXToC0hbAG8ZE26Bse/WT9v9/1XygIws5+iL6GdjnZQYaBj//////FaPVVZezmofEA17J0iydZMjsAw6kaBwdxsioaoEDI9rM0HcWcGNg7Z5NP//NExCcRaY6oAKUKlKRb/u36/7f291MFPXlGd9hphb0v7+3///9/JahNtJovv2JsIBoAVIUitI8mwYvANQyZuO1NIboBtDCQxScMCZMZUELDJKQW9bo/ZLbf//78jmM7//NExDQSWaqgAKRElPUymfU6KUyqDOgUZ2l1Vf///+L1fTWdz5h+YqKDYiINTnhEvVtcVDTOXgugOVQq2BjCQQ1XOUP0iSXxvGrUh8ToEiy0kXUx/p5bbQtEkSZ0obZ///NExD0QyLqgAMveTP//9t32CyqpnzOkj6Ko+YawPDnsYBGi6faIYwPMTOnyc585yYYq5lU3vpYBCJaQotKNLOha++0MC5Q+wECCFIPyG+c2U96i+V5nizjilS7GpJXm//NExEwSqMKcANLWTL/z6vA580R2RU3RaJ4cLf1p0pg1F0sbz7IYk1tsp9Yi3AhNh4RnhCKGnqQylLGlxOyisAQRDx8mCT9l7G2n////9d8XQGpdKt/v/qWxF8jXH7Nj//NExFQSGJ6cAMseTA1VCeQvqHUJkSFaqSQhEiXVtTTHULIJxCuswb9f53+Zt1sjfVj+jhRfo5Rb8+/P6w/////2VQQqRVP0EwtSCPhZ50wRVHJHc1bUw+ln1yh9FAkT//NExF4Q6aKsAMQElFRWpCTB/Nm6Bgn+x/1gnfRXMzfCfyP1YxDft+5Xrqqf////////autSwfKtqqDn/ljGjAwKw4JgvvP2JK+vcPpq3ytlff9ZJEl6KBga9BoIx3mE//NExG0RiwKwAJNEuQ9He44Igk/MGj+xhhJPRiRyFFH89bPf///83qPLSELHnO3qNtTV6EKHQWhM6u3wGhtrcXg1F+iBcE3qPzv2N+7lZ+oSAIVZ5kEhY1JxAGQPHfMI//NExHkRMaasAMtOlP2Fvohyt4qIl/Jf///b+t0WKqqQUdy7HFOxUUGzImVgaADCYBc+LDE8cp8/cxVhXRsaziGK+cPzMUTgGHt4ilup5UCz4jdiHg671t57jXPV//////NExIcRobqgANKKlNSLaOuOw1XGrdjEXUsKoZPuoQaM5dcFABrhZIADVBxiSHCVD460cXY5qHvVA6CbH8h8IKL/RHUXT/KiTlizcpzmvrbmHWBr////1Mf9Nar32syp//NExJMRmNqMAOPOcMEQgIw0Iz9DCMOAdnwsJU1YaoQKH35uV1LJsGpg9jDRQHyJoijQUdIcW62WgRxjrrWl01OUUWZ0SbHGRQ674uDSZ+XFzz4QdYoNC5DsKA+GwgW4//NExJ8RyPKIAORWcCwbn2ONcsG4eIRFf0ZTzHz9cljB2n/P/x1f//X19/Wk9bvaS0ReeMHVvIpMv5FB9alLclcQZ+OsBtFKjs6hQNqcyG2WckV7qVEHQBjnk+YkH6zM//NExKohmxaEAOSQuf9U6r6m+qYMpNhdB0CUGpueTTJw5DSpEzMhGwsR4PDQNCFC/LjqmBciEFsflGONEoQJOeSGkoUIVBYMU+cfR5ys9tUW//////Y+tFqrvnM5OerF//NExHYfEx6UANtUvAgVZjoaXVW7hrmVKMhRwLokBMJqT29p7RvW9MTYCSIFuol3+cPfp/kmb9zcbg5hcRSWSI4SATPR0HhSEBacePhUHg/dhGEYkXLM0bDYfKHscNhs//NExEwaWv6gANtOuUxIVydDUU/RP231b//////mT3Wk8wxs5ialyiyzat571u4m+ZLalzaafOX6rtkRfWHJ4Gsjfj4n6jA1fZlnlqVW49SOmaqmI4RLTyt1qLztXWeH//NExDUXIxqkANNKvYpIOecgx1TsK/UaLZanAY5yrnv6v6+n////X+/XX2ldq6nFk2QYMUpJW5oBUwAeFTL5LNKAjwZpP40FYUW/yCTf9CqpuEdJi6Waab/6v///rpWX//NExCsQiu6wAJIEuff/++1lb//////b//v/J/Rp4JlIIj0t1UN0T4IJhypoo+dUQcnb5AFKOVeZ9UVbnRqSojv9f2/X/6Kif//+mrf7H06e/bK9U0Va1Id0b//q7Idb//NExDsSaxqwAJlKvai7MLINVDh8UHC4fBxQinbWHtgHotoVrKT//f/zRzNVKf////+qf/+n6fb9l/uexuyPracymIxpg1Ly6Gn53mzlU1jTM088+TKGHjcaCo8IhaIw//NExEQSaxqwAIhOvWywljQhJVr0QnYs7yiWn+/eU/n5I5f//f//P7fRv///b91mZh1aTnVtWvNS6LIzB2Zae7orOjLPNMQohijqliJ5opJmDooBwTA4dB6QEQgY1zHV//NExE0SeyKoAJBOvNKvU15Zb7Va3vDf7rfvkjX9f/////3vb////9u9/q1LPQ1rJUxZrM6Zusij195qopqnbniodMOceNHjTCIORGEosJQ4N2h1uz1WYdMgPThyOAof//NExFYSWxqkAMBOvY3QpGiQfey5Xf0CwyhGSIugjje8hIC552PDPIG6r/7/+iv0V//////////+lqG5fU3p6tpKy38wEwY4mWUGZBST8sXeYwFx0sFQZF4jBhhgaCRW//NExF8SgwaUANqEuYZ5WATAkv1lgC0Rt1y1HBb/3MOHNq2WeLbXwxitpAXSheQjXad+c5SFQTEwzDGzZ/oj1XalbtMxFQgZUohpMSJCx65BJiMpHg7xvJYtfVh2HLEv//NExGgR0U6IAOPKlPAwGXWMkAsANvYkAgFtqB8HjruA4Fa+CF+4ON/Q34pDeIDIsAMo+zQqZjPSyB0NDj8gIYEr3cvDAYa0Tg8HObKLm/tMJFu2Y1yTzXrYNgltRWFz//NExHMSCTaMAOPQcGdFyTDyarqJiPL45zVszKS9Rg/WfR6ZkHC5x1Gz/0VVSMSmJFQCmFI+nQgoud8guEDMoPSWVBT1EEgKAr+np1HCaCuJmN07DFYoRT1LplICOxzx//NExH0SKUKQANvacETRZV9uhiz94gLu+Pptn/1WBH8VVDbbnCjm8u+2IAQD4o6N6XCu00yVQh0pgkjeyBqBlhNYUpkF+2WOHMs2/ccR4M9B5NqlfBS8eNCMpZGENK1///NExIcWAQKQAOYecHXaPB6igTEE5zSF4z49LOzky9QX3+uKrTKAg5KQCIHEQbeKuip8WM/Yr///+tWdpsuPmd0ezq5jSgUCPEYewxWDBZSl3Ml5mnSDgYOyqCIBxqe9//NExIIXENKYANYecKhiAYrdyqQ7bod3Y2rTOT0xThcTJdSOi1LueYr/v/6v5dknuOOCL+ReL3LaagZROgi2h0f5e7////Uqmr12ICtwAx+6W2sg4FdX6rRB4il2cpgM//NExHgXybqgANZQlCuS10X3EkHGT2t3YDdqLd/UAT34yuXMRkP0kSkG8f5y5vX61C3InK3q5EedwgVsqh9wp6GIcg+FHqcbJ+3pXLBUhFDX6qtvKqI4w5m9clYgSfq1//NExGsXMe6kAMYGmbmBEZ1pHfeBOEFKg+xgjIyaNZRCE54+wSCqNIFyElgQGROhXJHuphSp/ZrVKmh+slMbkUBncGKM0VEdAFErf///9w8t7NXC1yfAELjztyVhg9ju//NExGEUyPKoAM4ScQthnN7cqJFJrUd5mChra5U7OLeXZuLinIBcVNIigoRQmKDwWIieyaNpLpSlODUjJ2LGhEdCwSJiMwGyRcRkzL3hVF/9qsuqoOfdCvoGx1mhd+2o//NExGAUyP6oAM4ScP+JdsFsDppk3wGpRQ5D1ZY22Nsn5s+XVw4XqZWHpjOksJno6N/+47s3pWZr/2Y215frOpawDOGNeAzaRu76XaSF7zN4DgmQdxGQwNz8lx67eBae//NExF8TKTaoAMPYcFNFtQWtt5Jq/at+uu64+HPP8K1MtZSmGBJjnEyuZxWs06DEnExLVPbt06KtBQVEFjrvcae58iq9+MNEZ73XrazaXvm4Q6mBshEQoMEM617qVL5///NExGUSGZaoAMPKlEtb4er6Cf8RVbEVGsOwrUjYWqXqJ5XrlhSVNTbHJiwdKnSgUA5Bxf9iqtbrJ/iIlPlij1WzmgZhjQ37eCttWIQGa1mpVfw430oM+JG0XQ3EQx5w//NExG8RUS6kAMvQcOjRcJjyEVveooJILHVkox5yTrw1Cqjj3e0TjJdRmq/Mn4FyZB2OJW2/fEBuNzIxGPHakonBYnWsiWoq6m7toXU2qGnESuxQ8YSFSrEmaQtgsWEo//NExHwRoS6kAMPKcHxMQESL76UrcJbGrQnDBg+MD9hI1cb2ZIYabht8Gn7poBAnBq5iNjWOUbVFBK5m2l1Ly//XGhQ8wiJOVhrgGZDjyD1PvurVoehpyZ9L49pY423///NExIgSaTKkAMwKcP/61bGFUqRM51Xlw8djtDoByCXETAjXaO1s6i6z1c62r/6OlLtVzOIjRSkyHNixgk4IPFRr3/8tFQR0OuYEYBeARKbbb///vTRNKo3j5LIEVwuu//NExJEQEQqkAMSKcL7XdP0pCQLRwrE2BGu0hlFZV3Dmd9/9x1/WyE1GmS72OUdr8/S04g4Cjf////9/6e/sVpTClYBWf//6mvZcugoK2yNhn6H60RHLtbig65z0AEwD//NExKMRyTaYAMzKcNIYpqRY6gyZFT1Eus60UaSRnU0tS8qG1YM+hlL5v8KAmiL//lkZXna/q///4i9VCwuDgELFBoNcbuBDwy0kCAawsDKllj/O1LruFnHeq3O9v9EI//NExK4RoiqUAMrEmBXhYGgG3OtWNZfYSRceEV6pPUjWru6aEOHWHa1P1LtZ/6mkHjdKOOdjpyk3AzMcRh5LNOESYKX4r5cSfMVgRxZDGIZnBFCidiCLigiIMDtRFBuY//NExLoQqSp8AMyEcOgNCyEKOWECWKHMeKzTyMzp0HljGRFgV5NEoxtB20WVPKUm49jZ64jSmOiFSu7/7G1Pbc2pKRbEKNe6hPGFwjJ85NOMiVtqOrsf6joYh3q4a5/J//NExMoSaG5IAVsYAL4JktMRlgUZ1GHuyjs52WmVr8VvalVykNu9IkH0gdMyZZOOMqxsJBxwEg2EAb/+aEwn8kwnhoCSPb+48+vy+zdAySZX/X7z5zzQ2e4nlVHfv/9b//NExNMhcwo4AZtAAbZX1vPE+T5iO8nmX//X/H8Pt8zrNpkycN2k9SSyf9n/8f+5ksplstd1fdmyCxoVl5mOwmGoDsf6cMo5iLTSsgRGZiOVzUDXAUMVhCCCA4FiymGl//NExKAhIypoAZhYAEWJEs8w1b3FA0wnDIVJHC4hHCGHkHvFVAhY2UDrofY9YeNVMGVFX+dKtPxE9xWTZMqi1VQWrJC7cys2U1WYo9c4hVIND2hhFTCpUHEqlwN1IUeN//NExG4gKyqUAY9AADZO+3VubdxxRgNY9V51NljNRqUIegmK38EYcI/fyEIFGn9+JiKcDc1Fia4s0ZIXQpVJEpI+MoFtwRmF9A/UoiOR0kgMt8liqbkYamyNKl/Mi6Xy//NExEAhsq54AY+QAHjI8qlRRV/mhwmTpVLY7jQk0kqKKJMkV/8uk0T5mPgvEYRcbRgWzaYrRUiiXTE1Mf/5kUTYmjY6XS4TJVFdMCDE71CU6DRVCWJbNPUVPO0UFHlE//NExAwUePoEAcYwAXOl5Kue2Xn2UTXRiyOcF5vlt/VkyzbKTsaDuv3jFFjL6eDivom9sWUNxp3UNOQ2Yigu+wv13L0Pm8m/t/N+/nOxf////+IUl6/cjE5OdgxhThqq//NExA0SWZHcADDGlJMakGFfVVgomecFBhSl1SDKx7MYUTqqlsx8Y1LXqox81aqXkwqB2sJFXFnqeCtTg7WEw1ng6u08p/ds8lVMQU1FMy4xMDBVVVVVVVVVTEFNRTMu//NExBYAAANIAAAAADEwMFVVVVVVVVVVVVVVVVVVVVVVVVVVVVVVVVVVVVVVVVVVVVVVVVVVVVVVVVVVVVVVVVVVVVVVVVVVVVVVVVVVVVVVVVVVVVVVVVVVTEFNRTMu//NExGkAAANIAAAAADEwMFVVVVVVVVVVVVVVVVVVVVVVVVVVVVVVVVVVVVVVVVVVVVVVVVVVVVVVVVVVVVVVVVVVVVVVVVVVVVVVVVVVVVVVVVVVVVVVVVVVTEFNRTMu//NExKwAAANIAAAAADEwMFVVVVVVVVVVVVVVVVVVVVVVVVVVVVVVVVVVVVVVVVVVVVVVVVVVVVVVVVVVVVVVVVVVVVVVVVVVVVVVVVVVVVVVVVVVVVVVVVVVTEFNRTMu//NExKwAAANIAAAAADEwMFVVVVVVVVVVVVVVVVVVVVVVVVVVVVVVVVVVVVVVVVVVVVVVVVVVVVVVVVVVVVVVVVVVVVVVVVVVVVVVVVVVVVVVVVVVVVVVVVVVTEFNRTMu//NExKwAAANIAAAAADEwMFVVVVVVVVVVVVVVVVVVVVVVVVVVVVVVVVVVVVVVVVVVVVVVVVVVVVVVVVVVVVVVVVVVVVVVVVVVVVVVVVVVVVVVVVVVVVVVVVVVVVVVVVVV//NExKwAAANIAAAAAFVVVVVVVVVVVVVVVVVVVVVVVVVVVVVVVVVVVVVVVVVVVVVVVVVVVVVVVVVVVVVVVVVVVVVVVVVVVVVVVVVVVVVVVVVVVVVVVVVVVVVVVVVVVVVV//NExKwAAANIAAAAAFVVVVVVVVVVVVVVVVVVVVVVVVVVVVVVVVVVVVVVVVVVVVVVVVVVVVVVVVVVVVVVVVVVVVVVVVVVVVVVVVVVVVVVVVVVVVVVVVVVVVVVVVVVVVVV\" type=\"audio/mpeg\" />\n",
              "                    Your browser does not support the audio element.\n",
              "                </audio>\n",
              "              "
            ]
          },
          "metadata": {},
          "execution_count": 19
        }
      ]
    },
    {
      "cell_type": "markdown",
      "metadata": {
        "id": "98O0XcM9yCbm"
      },
      "source": [
        "# **Глоссарий**\n",
        "-  Seq2Seq - sequence-to-sequence модель, состоит из двух рекуррентных нейронных сетей (RNN): \n",
        "\n",
        "encoder (кодер), которая обрабатывает входные данные,\n",
        "\n",
        "decoder (декодер), которая генерирует данные вывода.\n",
        "- Yaml - удобный текстовый формат, позволяющий хранить структурированные данные в иерархии. https://ru.bmstu.wiki/YAML\n",
        "yaml.safe_load - безопасный метод загрузки данных из файлов, предотвращающий возможность запуска произвольного кода для файлов из ненадежных источников\n",
        "\n",
        "\n",
        "\n",
        "\n",
        "\n"
      ]
    },
    {
      "cell_type": "code",
      "metadata": {
        "id": "tqJ3CgG6jJMq"
      },
      "source": [],
      "execution_count": null,
      "outputs": []
    }
  ]
}