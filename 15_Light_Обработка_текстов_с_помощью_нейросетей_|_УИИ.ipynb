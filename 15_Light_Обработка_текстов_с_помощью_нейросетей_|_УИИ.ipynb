{
  "nbformat": 4,
  "nbformat_minor": 0,
  "metadata": {
    "colab": {
      "name": "15. Light. Обработка текстов с помощью нейросетей  | УИИ.ipynb",
      "provenance": [],
      "collapsed_sections": [
        "09nWwiysrelH",
        "RIQP00Emvuq-",
        "TbBmfdAwK47A",
        "Av4rG5bgXTYz",
        "v3Od6TfHU7J4"
      ],
      "machine_shape": "hm",
      "include_colab_link": true
    },
    "kernelspec": {
      "display_name": "Python 3",
      "name": "python3"
    },
    "language_info": {
      "name": "python"
    },
    "accelerator": "GPU"
  },
  "cells": [
    {
      "cell_type": "markdown",
      "metadata": {
        "id": "view-in-github",
        "colab_type": "text"
      },
      "source": [
        "<a href=\"https://colab.research.google.com/github/10100111/Display-of-HW1/blob/main/15_Light_%D0%9E%D0%B1%D1%80%D0%B0%D0%B1%D0%BE%D1%82%D0%BA%D0%B0_%D1%82%D0%B5%D0%BA%D1%81%D1%82%D0%BE%D0%B2_%D1%81_%D0%BF%D0%BE%D0%BC%D0%BE%D1%89%D1%8C%D1%8E_%D0%BD%D0%B5%D0%B9%D1%80%D0%BE%D1%81%D0%B5%D1%82%D0%B5%D0%B9_%7C_%D0%A3%D0%98%D0%98.ipynb\" target=\"_parent\"><img src=\"https://colab.research.google.com/assets/colab-badge.svg\" alt=\"Open In Colab\"/></a>"
      ]
    },
    {
      "cell_type": "markdown",
      "metadata": {
        "id": "bE_BoxLurFnC"
      },
      "source": [
        "Задание Lite\n",
        "\n",
        "Макс 10 баллов\n",
        "\n",
        "Выполните задания, по каждому варианту напишите точность распознавания на проверочной выборке и сделайте выводы (тексты писателей).\n",
        "\n",
        "А. Запустите нейронку c bag of words (01) при разных maxWordsCount\n",
        "\n",
        "1. 100\n",
        "\n",
        "2. 1000\n",
        "\n",
        "3. 10000\n",
        "\n",
        "4. 50000\n",
        "\n",
        "*Если у Вас будет переполнение ОЗУ, можно написать “не хватает памяти” в ноутбуке\n",
        "\n",
        "Б. Запустите нейронку c bag of words (01) при maxWordsCount = 10000 и разных архитектурах\n",
        "\n",
        "1. Поменяйте количество нейронов в слоях\n",
        "\n",
        "2. Поменяйте количество слоев\n",
        "\n",
        "3. Поменяйте активационные функции слоев\n",
        "\n",
        "В. Запустите нейронку c Embbedding при maxWordsCount = 10000, поменяйте размер Embedding пространства\n",
        "\n",
        "1. 10\n",
        "\n",
        "2. 50\n",
        "\n",
        "3. 200"
      ]
    },
    {
      "cell_type": "markdown",
      "metadata": {
        "id": "09nWwiysrelH"
      },
      "source": [
        "# Импорт библиотек"
      ]
    },
    {
      "cell_type": "code",
      "metadata": {
        "id": "4jvQL4Y7sDvo"
      },
      "source": [
        "from google.colab import files\n",
        "import numpy as np\n",
        "import pandas as pd\n",
        "import matplotlib.pyplot as plt\n",
        "import os\n",
        "%matplotlib inline\n",
        "\n",
        "from tensorflow.keras import utils\n",
        "from tensorflow.keras.models import Sequential\n",
        "from tensorflow.keras.optimizers import Adam\n",
        "from tensorflow.keras.layers import Dense, Dropout, SpatialDropout1D, BatchNormalization, Flatten, Activation, Embedding\n",
        "from tensorflow.keras.preprocessing.text import Tokenizer  #Метод для работы с текстами и преобразования их в последовательности\n",
        "from tensorflow.keras.preprocessing.sequence import pad_sequences #Метод для работы с последовательностями\n",
        "\n",
        "from sklearn.preprocessing import LabelEncoder #Метод кодирования тестовых лейблов\n",
        "from sklearn.model_selection import train_test_split #Метод для разделения выборки на обучающую и тестовую\n",
        "\n",
        "from google.colab import drive\n",
        "import time #Импортируем библеиотеку time"
      ],
      "execution_count": null,
      "outputs": []
    },
    {
      "cell_type": "code",
      "metadata": {
        "colab": {
          "base_uri": "https://localhost:8080/"
        },
        "id": "RBoXlfkAvYwH",
        "outputId": "dffe6461-0475-40c6-f433-2ee7d67fd1ac"
      },
      "source": [
        "drive.mount('/content/drive')"
      ],
      "execution_count": null,
      "outputs": [
        {
          "output_type": "stream",
          "name": "stdout",
          "text": [
            "Mounted at /content/drive\n"
          ]
        }
      ]
    },
    {
      "cell_type": "markdown",
      "metadata": {
        "id": "RIQP00Emvuq-"
      },
      "source": [
        "# Функции"
      ]
    },
    {
      "cell_type": "code",
      "metadata": {
        "id": "TH4mG_fMys1k"
      },
      "source": [
        "#Собираем данные через функцию, которая читает данные\n",
        "#На вход подаем путь к файлу, открываем файл в режиме чтения\n",
        "# переносы строки меняем на пробелы\n",
        "# возвращаем текст файла\n",
        "def readText(fileName):\n",
        "  f = open(fileName, 'r')\n",
        "  text = f.read()\n",
        "  text = text.replace('\\n', ' ')\n",
        "\n",
        "  return text\n",
        "\n",
        "def readText(fileName): \n",
        "  f = open(fileName, 'r')        \n",
        "  text = f.read()           \n",
        "  text = text.replace(\"\\n\", \" \") \n",
        "  \n",
        "  return text                    \n",
        "\n",
        "# Формирование обучающей и проверочной выборки\n",
        "# Из двух листов индексов от двух классов\n",
        "def createSetsMultiClasses(wordIndexes, xLen, step): # Функция принимает последовательность индексов, размер окна, шаг окна\n",
        "\n",
        "  # Для каждого из 6 классов\n",
        "  # Создаём обучающую/проверочную выборку из индексов\n",
        "  nClasses = len(wordIndexes) # Задаем количество классов выборки\n",
        "  classesXSamples = []        # Здесь будет список размером \"кол-во классов*кол-во окон в тексте*длину окна (например, 6 по 1341*1000)\"\n",
        "  for wI in wordIndexes:      # Для каждого текста выборки из последовательности индексов\n",
        "    classesXSamples.append(getSetFromIndexes(wI, xLen, step)) # Добавляем в список очередной текст индексов, разбитый на \"кол-во окон*длину окна\" \n",
        "\n",
        "  # Формируем один общий xSamples\n",
        "  xSamples = [] # Здесь будет список размером \"суммарное кол-во окон во всех текстах*длину окна (например, 15779*1000)\"\n",
        "  ySamples = [] # Здесь будет список размером \"суммарное кол-во окон во всех текстах*вектор длиной 6\"\n",
        "  \n",
        "  for t in range(nClasses): # В диапазоне кол-ва классов(6)\n",
        "    xT = classesXSamples[t] # Берем очередной текст вида \"кол-во окон в тексте*длину окна\"(например, 1341*1000)\n",
        "    for i in range(len(xT)): # И каждое его окно\n",
        "      xSamples.append(xT[i]) # Добавляем в общий список выборки\n",
        "      ySamples.append(utils.to_categorical(t, nClasses)) # Добавляем соответствующий вектор класса\n",
        "\n",
        "  xSamples = np.array(xSamples) # Переводим в массив numpy для подачи в нейронку\n",
        "  ySamples = np.array(ySamples) # Переводим в массив numpy для подачи в нейронку\n",
        "\n",
        "  \n",
        "  return (xSamples, ySamples) #Функция возвращает выборку и соответствующие векторы классов  \n",
        "\n",
        "# Формирование обучающей выборки по листу индексов слов\n",
        "# (разделение на короткие векторы)\n",
        "def getSetFromIndexes(wordIndexes, xLen, step): # функция принимает последовательность индексов, размер окна, шаг окна\n",
        "  xSample = [] # Объявляем переменную для векторов\n",
        "  wordsLen = len(wordIndexes) # Считаем количество слов\n",
        "  index = 0 # Задаем начальный индекс \n",
        "\n",
        "  while (index + xLen <= wordsLen):# Идём по всей длине вектора индексов\n",
        "    xSample.append(wordIndexes[index:index+xLen]) # \"Откусываем\" векторы длины xLen\n",
        "    index += step # Смещаеммся вперёд на step\n",
        "    \n",
        "  return xSample  \n",
        "\n",
        "def plot_show():\n",
        "    plt.plot(history.history['accuracy'], \n",
        "         label='Доля верных ответов на обучающем наборе')\n",
        "    plt.plot(history.history['val_accuracy'], \n",
        "         label='Доля верных ответов на проверочном наборе')\n",
        "    plt.xlabel('Эпоха обучения')\n",
        "    plt.ylabel('Доля верных ответов')\n",
        "    plt.legend()\n",
        "    plt.show()\n"
      ],
      "execution_count": null,
      "outputs": []
    },
    {
      "cell_type": "markdown",
      "metadata": {
        "id": "LKOFWtjA8EYv"
      },
      "source": [
        "# Обработка текстов"
      ]
    },
    {
      "cell_type": "code",
      "metadata": {
        "colab": {
          "base_uri": "https://localhost:8080/"
        },
        "id": "b-G46lpY5_0S",
        "outputId": "fdeedd2f-36cc-4495-a4e7-ca8fc9327223"
      },
      "source": [
        "\n",
        "# Объявляем классы и считаем кол-во классов\n",
        "className = ['О. Генри', 'Стругацкие', 'Булгаков', ' Саймак', 'Фрай', 'Брэдберри']\n",
        "nClasses = len(className)\n",
        "\n",
        "#Загружаем обучающие тексты\n",
        "\n",
        "trainText = []\n",
        "testText = []\n",
        "\n",
        "#Создаем выборку по условию:\n",
        "#Класс каждого i-го элемента в обучающей выборке должен соответствовать\n",
        "#классу каждого i-го элемента тестовой выборки\n",
        "\n",
        "# Обходим классы\n",
        "for i in className:\n",
        "  # пробегаемся по всем документам в папке 'texts'\n",
        "  for j in os.listdir('texts/'):\n",
        "    # смотрим содержится ли в названии имя класса, если да , то работаем дальше\n",
        "    if i in j:\n",
        "      # Дальше проверяем обучающий это файл или тестовый и добавляем текст в выборку\n",
        "      if 'Обучающая' in j:\n",
        "        trainText.append(readText('texts/' + j))\n",
        "        print(j, 'добавлен в обучающую выборку')\n",
        "      if 'Тестовая' in j:\n",
        "        testText.append(readText('texts/' + j))\n",
        "        print(j, 'добвлен в тестовую выборку')\n",
        "print()\n"
      ],
      "execution_count": null,
      "outputs": [
        {
          "output_type": "stream",
          "name": "stdout",
          "text": [
            "(О. Генри) Тестовая_20 вместе.txt добвлен в тестовую выборку\n",
            "(О. Генри) Обучающая_50 вместе.txt добавлен в обучающую выборку\n",
            "(Стругацкие) Обучающая_5 вместе.txt добавлен в обучающую выборку\n",
            "(Стругацкие) Тестовая_2 вместе.txt добвлен в тестовую выборку\n",
            "(Булгаков) Обучающая_5 вместе.txt добавлен в обучающую выборку\n",
            "(Булгаков) Тестовая_2 вместе.txt добвлен в тестовую выборку\n",
            "(Клиффорд Саймак) Тестовая_2 вместе.txt добвлен в тестовую выборку\n",
            "(Клиффорд Саймак) Обучающая_5 вместе.txt добавлен в обучающую выборку\n",
            "(Макс Фрай) Обучающая_5 вместе.txt добавлен в обучающую выборку\n",
            "(Макс Фрай) Тестовая_2 вместе.txt добвлен в тестовую выборку\n",
            "(Рэй Брэдберри) Обучающая_22 вместе.txt добавлен в обучающую выборку\n",
            "(Рэй Брэдберри) Тестовая_8 вместе.txt добвлен в тестовую выборку\n",
            "\n"
          ]
        }
      ]
    },
    {
      "cell_type": "code",
      "metadata": {
        "colab": {
          "base_uri": "https://localhost:8080/"
        },
        "id": "5_StTM1rJ-1A",
        "outputId": "fd2bb491-1386-4870-c439-032bc5a973b8"
      },
      "source": [
        "# Посмотрим кол-во элементов в trainText и в первом элементе \n",
        "print(len(trainText))\n",
        "print(len(trainText[0]))\n",
        "\n",
        "# Посмотрим кол-во элементов в testText и в первом элементе \n",
        "print(len(testText))\n",
        "print(len(testText[0]))"
      ],
      "execution_count": null,
      "outputs": [
        {
          "output_type": "stream",
          "name": "stdout",
          "text": [
            "6\n",
            "1049517\n",
            "6\n",
            "349662\n"
          ]
        }
      ]
    },
    {
      "cell_type": "markdown",
      "metadata": {
        "id": "rpq2-Vcp70oG"
      },
      "source": [
        "# maxWordsCount = 50000\n",
        "Лучший результат = 89,10 %"
      ]
    },
    {
      "cell_type": "code",
      "metadata": {
        "colab": {
          "base_uri": "https://localhost:8080/"
        },
        "id": "CzFyifbi6q3_",
        "outputId": "3b01be88-eeb9-40fb-b6ba-bc3a92b8defb"
      },
      "source": [
        "maxWordsCount = 50000 # Определяем максимальное количество слов/индексов, учитываемое при обучении текстов\n",
        "\n",
        "# Воспользуемся встроенной в Keras функцией Tokenizer для разбиения текста и превращения в матрицу числовых значений\n",
        "# num_words=maxWordsCount - определяем максимальное количество слов/индексов, учитываемое при обучении текстов\n",
        "# filters='!\"#$%&()*+,-./:;<=>?@[\\\\]^_`{|}~\\t\\n' - избавляемся от ненужных символов\n",
        "# lower=True - приводим слова к нижнему регистру\n",
        "# split=' ' - разделяем слова по пробелу\n",
        "# char_level=False - просим токенайзер не удалять однобуквенные слова\n",
        "tokenizer = Tokenizer(num_words=maxWordsCount, filters='!\"#$%&()*+,-–—./…:;<=>?@[\\\\]^_`{|}~«»\\t\\n\\xa0', lower=True, split=' ', oov_token='unknown', char_level=False)\n",
        "\n",
        "tokenizer.fit_on_texts(trainText) # \"Скармливаем\" наши тексты, т.е. даём в обработку методу, который соберет словарь частотности\n",
        "\n",
        "# Преобразовываем текст в последовательность индексов согласно частотному словарю\n",
        "trainWordIndexes = tokenizer.texts_to_sequences(trainText) # Обучающие тесты в индексы\n",
        "testWordIndexes = tokenizer.texts_to_sequences(testText)  # Проверочные тесты в индексы\n",
        "\n",
        "#Задаём базовые параметры\n",
        "xLen = 1000 #Длина отрезка текста, по которой анализируем, в словах\n",
        "step = 100 #Шаг разбиения исходного текста на обучающие векторы\n",
        "\n",
        "cur_time = time.time() # Засекаем текущее время\n",
        "#Формируем обучающую и тестовую выборку\n",
        "xTrain, yTrain = createSetsMultiClasses(trainWordIndexes, xLen, step) #извлекаем обучающую выборку\n",
        "xTest, yTest = createSetsMultiClasses(testWordIndexes, xLen, step)    #извлекаем тестовую выборку\n",
        "print(xTrain.shape)\n",
        "print(yTrain.shape)\n",
        "print(xTest.shape)\n",
        "print(yTest.shape)\n",
        "#получили обучающий/тестовый набор, достаточный для запуска Embedding, но для Bag of Words нужно xTrain и xTest представить в виде векторов из 0 и 1\n",
        "print('Время обработки: ', round(time.time() - cur_time, 2), 'c', sep='')"
      ],
      "execution_count": null,
      "outputs": [
        {
          "output_type": "stream",
          "name": "stdout",
          "text": [
            "(17640, 1000)\n",
            "(17640, 6)\n",
            "(6686, 1000)\n",
            "(6686, 6)\n",
            "Время обработки: 2.17c\n"
          ]
        }
      ]
    },
    {
      "cell_type": "code",
      "metadata": {
        "id": "xqIzaP4h68rE"
      },
      "source": [
        "# Преобразовываем полученные выборки из последовательности индексов в матрицы нулей и единиц по принципу Bag of Words\n",
        "xTrain01 = tokenizer.sequences_to_matrix(xTrain.tolist()) #Подаем xTrain в виде списка, чтобы метод успешно сработал\n",
        "xTest01 = tokenizer.sequences_to_matrix(xTest.tolist()) # Подаем xTest в виде списка, чтобы метод успешно сработал"
      ],
      "execution_count": null,
      "outputs": []
    },
    {
      "cell_type": "code",
      "metadata": {
        "colab": {
          "base_uri": "https://localhost:8080/"
        },
        "id": "WHxYPAt3-E9R",
        "outputId": "adc15e3b-9993-47dd-fc08-acb39dd1d623"
      },
      "source": [
        "print(xTrain01.shape)       # Размер обучающей выборки, сформированной по Bag of Words\n",
        "print(xTrain01[0][0:100]) # Фрагмент набора слов в виде Bag of Words"
      ],
      "execution_count": null,
      "outputs": [
        {
          "output_type": "stream",
          "name": "stdout",
          "text": [
            "(17640, 50000)\n",
            "[0. 1. 1. 1. 1. 0. 1. 1. 1. 1. 1. 1. 1. 1. 1. 1. 1. 1. 1. 1. 1. 0. 1. 1.\n",
            " 0. 0. 1. 1. 0. 1. 1. 1. 1. 0. 0. 0. 1. 1. 1. 1. 1. 1. 1. 1. 0. 1. 1. 0.\n",
            " 0. 1. 1. 1. 0. 0. 1. 1. 0. 0. 0. 1. 0. 0. 0. 1. 1. 0. 1. 1. 0. 0. 0. 0.\n",
            " 1. 1. 0. 0. 1. 0. 1. 0. 1. 0. 0. 0. 0. 1. 1. 1. 1. 0. 0. 1. 0. 0. 1. 1.\n",
            " 0. 0. 1. 1.]\n"
          ]
        }
      ]
    },
    {
      "cell_type": "code",
      "metadata": {
        "colab": {
          "base_uri": "https://localhost:8080/"
        },
        "id": "DFB3uXPYDjSx",
        "outputId": "6779abfe-5bba-4116-ce05-263e02f3364f"
      },
      "source": [
        "\n",
        "#Создаём полносвязную сеть\n",
        "model = Sequential()\n",
        "#Первый полносвязный слой на вход подаем максимальное кол-во слов \n",
        "model.add(Dense(64, input_dim=maxWordsCount, activation=\"relu\"))\n",
        "#Слой регуляризации Dropout\n",
        "model.add(Dropout(0.25))\n",
        "#Слой пакетной нормализации\n",
        "model.add(BatchNormalization())\n",
        "\n",
        "model.add(Dense(64, activation=\"relu\"))\n",
        "#Слой регуляризации Dropout\n",
        "model.add(Dropout(0.25))\n",
        "model.add(BatchNormalization())\n",
        "\n",
        "#Выходной полносвязный слой\n",
        "model.add(Dense(6, activation='softmax'))\n",
        "\n",
        "model.compile(optimizer='adam', \n",
        "              loss='categorical_crossentropy', \n",
        "              metrics=['accuracy'])\n",
        "\n",
        "model.summary()\n",
        "\n",
        "#Обучаем сеть на выборке, сформированной по bag of words - xTrain01\n",
        "history = model.fit(xTrain01, \n",
        "                      yTrain, \n",
        "                      epochs=10,\n",
        "                      batch_size=128,\n",
        "                      validation_data=(xTest01, yTest))\n",
        "                       \n",
        "# # Выводим график обучения\n",
        "# plot_show()"
      ],
      "execution_count": null,
      "outputs": [
        {
          "output_type": "stream",
          "name": "stdout",
          "text": [
            "Model: \"sequential_7\"\n",
            "_________________________________________________________________\n",
            "Layer (type)                 Output Shape              Param #   \n",
            "=================================================================\n",
            "dense_21 (Dense)             (None, 64)                3200064   \n",
            "_________________________________________________________________\n",
            "dropout_14 (Dropout)         (None, 64)                0         \n",
            "_________________________________________________________________\n",
            "batch_normalization_14 (Batc (None, 64)                256       \n",
            "_________________________________________________________________\n",
            "dense_22 (Dense)             (None, 64)                4160      \n",
            "_________________________________________________________________\n",
            "dropout_15 (Dropout)         (None, 64)                0         \n",
            "_________________________________________________________________\n",
            "batch_normalization_15 (Batc (None, 64)                256       \n",
            "_________________________________________________________________\n",
            "dense_23 (Dense)             (None, 6)                 390       \n",
            "=================================================================\n",
            "Total params: 3,205,126\n",
            "Trainable params: 3,204,870\n",
            "Non-trainable params: 256\n",
            "_________________________________________________________________\n",
            "Epoch 1/10\n",
            "138/138 [==============================] - 5s 31ms/step - loss: 0.1669 - accuracy: 0.9618 - val_loss: 0.4537 - val_accuracy: 0.8910\n",
            "Epoch 2/10\n",
            "138/138 [==============================] - 2s 14ms/step - loss: 0.0141 - accuracy: 0.9994 - val_loss: 0.3765 - val_accuracy: 0.8824\n",
            "Epoch 3/10\n",
            "138/138 [==============================] - 2s 14ms/step - loss: 0.0066 - accuracy: 0.9996 - val_loss: 0.3859 - val_accuracy: 0.8663\n",
            "Epoch 4/10\n",
            "138/138 [==============================] - 2s 14ms/step - loss: 0.0039 - accuracy: 1.0000 - val_loss: 0.3663 - val_accuracy: 0.8735\n",
            "Epoch 5/10\n",
            "138/138 [==============================] - 2s 14ms/step - loss: 0.0029 - accuracy: 1.0000 - val_loss: 0.3751 - val_accuracy: 0.8679\n",
            "Epoch 6/10\n",
            "138/138 [==============================] - 2s 15ms/step - loss: 0.0021 - accuracy: 1.0000 - val_loss: 0.3559 - val_accuracy: 0.8777\n",
            "Epoch 7/10\n",
            "138/138 [==============================] - 2s 14ms/step - loss: 0.0017 - accuracy: 0.9999 - val_loss: 0.3532 - val_accuracy: 0.8741\n",
            "Epoch 8/10\n",
            "138/138 [==============================] - 2s 14ms/step - loss: 0.0013 - accuracy: 0.9999 - val_loss: 0.3313 - val_accuracy: 0.8826\n",
            "Epoch 9/10\n",
            "138/138 [==============================] - 2s 15ms/step - loss: 0.0011 - accuracy: 0.9999 - val_loss: 0.3295 - val_accuracy: 0.8838\n",
            "Epoch 10/10\n",
            "138/138 [==============================] - 2s 14ms/step - loss: 8.2163e-04 - accuracy: 0.9999 - val_loss: 0.3473 - val_accuracy: 0.8753\n"
          ]
        }
      ]
    },
    {
      "cell_type": "markdown",
      "metadata": {
        "id": "u1Eyzrmf-z4p"
      },
      "source": [
        "# maxWordsCount = 10 000\n",
        "Лучший результат = 89,95%"
      ]
    },
    {
      "cell_type": "code",
      "metadata": {
        "colab": {
          "base_uri": "https://localhost:8080/"
        },
        "id": "qHgS-2Cb-Z3I",
        "outputId": "741864f2-4d83-48bc-a9d7-3c9ee76f5ab9"
      },
      "source": [
        "maxWordsCount =10000 # Определяем максимальное количество слов/индексов, учитываемое при обучении текстов\n",
        "\n",
        "# Воспользуемся встроенной в Keras функцией Tokenizer для разбиения текста и превращения в матрицу числовых значений\n",
        "# num_words=maxWordsCount - определяем максимальное количество слов/индексов, учитываемое при обучении текстов\n",
        "# filters='!\"#$%&()*+,-./:;<=>?@[\\\\]^_`{|}~\\t\\n' - избавляемся от ненужных символов\n",
        "# lower=True - приводим слова к нижнему регистру\n",
        "# split=' ' - разделяем слова по пробелу\n",
        "# char_level=False - просим токенайзер не удалять однобуквенные слова\n",
        "tokenizer = Tokenizer(num_words=maxWordsCount, filters='!\"#$%&()*+,-–—./…:;<=>?@[\\\\]^_`{|}~«»\\t\\n\\xa0', lower=True, split=' ', oov_token='unknown', char_level=False)\n",
        "\n",
        "tokenizer.fit_on_texts(trainText) # \"Скармливаем\" наши тексты, т.е. даём в обработку методу, который соберет словарь частотности\n",
        "\n",
        "# Преобразовываем текст в последовательность индексов согласно частотному словарю\n",
        "trainWordIndexes = tokenizer.texts_to_sequences(trainText) # Обучающие тесты в индексы\n",
        "testWordIndexes = tokenizer.texts_to_sequences(testText)  # Проверочные тесты в индексы\n",
        "\n",
        "#Задаём базовые параметры\n",
        "xLen = 1000 #Длина отрезка текста, по которой анализируем, в словах\n",
        "step = 100 #Шаг разбиения исходного текста на обучающие векторы\n",
        "\n",
        "cur_time = time.time() # Засекаем текущее время\n",
        "#Формируем обучающую и тестовую выборку\n",
        "xTrain, yTrain = createSetsMultiClasses(trainWordIndexes, xLen, step) #извлекаем обучающую выборку\n",
        "xTest, yTest = createSetsMultiClasses(testWordIndexes, xLen, step)    #извлекаем тестовую выборку\n",
        "print(xTrain.shape)\n",
        "print(yTrain.shape)\n",
        "print(xTest.shape)\n",
        "print(yTest.shape)\n",
        "#получили обучающий/тестовый набор, достаточный для запуска Embedding, но для Bag of Words нужно xTrain и xTest представить в виде векторов из 0 и 1\n",
        "print('Время обработки: ', round(time.time() - cur_time, 2), 'c', sep='')"
      ],
      "execution_count": null,
      "outputs": [
        {
          "output_type": "stream",
          "name": "stdout",
          "text": [
            "(17640, 1000)\n",
            "(17640, 6)\n",
            "(6686, 1000)\n",
            "(6686, 6)\n",
            "Время обработки: 2.22c\n"
          ]
        }
      ]
    },
    {
      "cell_type": "code",
      "metadata": {
        "id": "RKsKySIZ-ZzU"
      },
      "source": [
        "# Преобразовываем полученные выборки из последовательности индексов в матрицы нулей и единиц по принципу Bag of Words\n",
        "xTrain01 = tokenizer.sequences_to_matrix(xTrain.tolist()) #Подаем xTrain в виде списка, чтобы метод успешно сработал\n",
        "xTest01 = tokenizer.sequences_to_matrix(xTest.tolist()) # Подаем xTest в виде списка, чтобы метод успешно сработал"
      ],
      "execution_count": null,
      "outputs": []
    },
    {
      "cell_type": "code",
      "metadata": {
        "colab": {
          "base_uri": "https://localhost:8080/",
          "height": 1000
        },
        "id": "YfTiYWc8-ZwO",
        "outputId": "e6fd4d8b-8627-4313-ecba-db2ca89497f8"
      },
      "source": [
        "\n",
        "#Создаём полносвязную сеть\n",
        "model = Sequential()\n",
        "#Первый полносвязный слой на вход подаем максимальное кол-во слов \n",
        "model.add(Dense(64, input_dim=maxWordsCount, activation=\"relu\"))\n",
        "#Слой регуляризации Dropout\n",
        "model.add(Dropout(0.25))\n",
        "#Слой пакетной нормализации\n",
        "model.add(BatchNormalization())\n",
        "\n",
        "model.add(Dense(64, activation=\"relu\"))\n",
        "#Слой регуляризации Dropout\n",
        "model.add(Dropout(0.25))\n",
        "model.add(BatchNormalization())\n",
        "\n",
        "#Выходной полносвязный слой\n",
        "model.add(Dense(6, activation='softmax'))\n",
        "\n",
        "model.compile(optimizer='adam', \n",
        "              loss='categorical_crossentropy', \n",
        "              metrics=['accuracy'])\n",
        "\n",
        "model.summary()\n",
        "\n",
        "#Обучаем сеть на выборке, сформированной по bag of words - xTrain01\n",
        "history = model.fit(xTrain01, \n",
        "                      yTrain, \n",
        "                      epochs=10,\n",
        "                      batch_size=128,\n",
        "                      validation_data=(xTest01, yTest))\n",
        "                       \n",
        "# # Выводим график обучения\n",
        "plot_show()"
      ],
      "execution_count": null,
      "outputs": [
        {
          "output_type": "stream",
          "name": "stdout",
          "text": [
            "Model: \"sequential_8\"\n",
            "_________________________________________________________________\n",
            "Layer (type)                 Output Shape              Param #   \n",
            "=================================================================\n",
            "dense_24 (Dense)             (None, 64)                640064    \n",
            "_________________________________________________________________\n",
            "dropout_16 (Dropout)         (None, 64)                0         \n",
            "_________________________________________________________________\n",
            "batch_normalization_16 (Batc (None, 64)                256       \n",
            "_________________________________________________________________\n",
            "dense_25 (Dense)             (None, 64)                4160      \n",
            "_________________________________________________________________\n",
            "dropout_17 (Dropout)         (None, 64)                0         \n",
            "_________________________________________________________________\n",
            "batch_normalization_17 (Batc (None, 64)                256       \n",
            "_________________________________________________________________\n",
            "dense_26 (Dense)             (None, 6)                 390       \n",
            "=================================================================\n",
            "Total params: 645,126\n",
            "Trainable params: 644,870\n",
            "Non-trainable params: 256\n",
            "_________________________________________________________________\n",
            "Epoch 1/10\n",
            "138/138 [==============================] - 2s 8ms/step - loss: 0.2271 - accuracy: 0.9368 - val_loss: 0.4807 - val_accuracy: 0.8793\n",
            "Epoch 2/10\n",
            "138/138 [==============================] - 1s 6ms/step - loss: 0.0168 - accuracy: 0.9990 - val_loss: 0.3586 - val_accuracy: 0.8817\n",
            "Epoch 3/10\n",
            "138/138 [==============================] - 1s 6ms/step - loss: 0.0077 - accuracy: 0.9998 - val_loss: 0.3614 - val_accuracy: 0.8733\n",
            "Epoch 4/10\n",
            "138/138 [==============================] - 1s 6ms/step - loss: 0.0049 - accuracy: 0.9997 - val_loss: 0.3526 - val_accuracy: 0.8708\n",
            "Epoch 5/10\n",
            "138/138 [==============================] - 1s 6ms/step - loss: 0.0035 - accuracy: 0.9998 - val_loss: 0.3701 - val_accuracy: 0.8717\n",
            "Epoch 6/10\n",
            "138/138 [==============================] - 1s 6ms/step - loss: 0.0025 - accuracy: 0.9999 - val_loss: 0.3194 - val_accuracy: 0.8862\n",
            "Epoch 7/10\n",
            "138/138 [==============================] - 1s 6ms/step - loss: 0.0017 - accuracy: 1.0000 - val_loss: 0.3131 - val_accuracy: 0.8898\n",
            "Epoch 8/10\n",
            "138/138 [==============================] - 1s 6ms/step - loss: 0.0016 - accuracy: 0.9999 - val_loss: 0.3383 - val_accuracy: 0.8823\n",
            "Epoch 9/10\n",
            "138/138 [==============================] - 1s 6ms/step - loss: 0.0013 - accuracy: 0.9999 - val_loss: 0.3191 - val_accuracy: 0.8899\n",
            "Epoch 10/10\n",
            "138/138 [==============================] - 1s 6ms/step - loss: 0.0010 - accuracy: 1.0000 - val_loss: 0.3058 - val_accuracy: 0.8995\n"
          ]
        },
        {
          "output_type": "display_data",
          "data": {
            "image/png": "[encoded data removed]",
            "text/plain": [
              "<Figure size 432x288 with 1 Axes>"
            ]
          },
          "metadata": {
            "needs_background": "light"
          }
        }
      ]
    },
    {
      "cell_type": "markdown",
      "metadata": {
        "id": "d7RZxtnd_mfc"
      },
      "source": [
        "# maxWordsCount = 1000\n",
        "Лучший результат = 89,64%"
      ]
    },
    {
      "cell_type": "code",
      "metadata": {
        "colab": {
          "base_uri": "https://localhost:8080/"
        },
        "id": "tbVpkbPM_wJe",
        "outputId": "6ee75850-43e3-4711-fc7a-a57cce5fdbd1"
      },
      "source": [
        "maxWordsCount =10000 # Определяем максимальное количество слов/индексов, учитываемое при обучении текстов\n",
        "\n",
        "# Воспользуемся встроенной в Keras функцией Tokenizer для разбиения текста и превращения в матрицу числовых значений\n",
        "# num_words=maxWordsCount - определяем максимальное количество слов/индексов, учитываемое при обучении текстов\n",
        "# filters='!\"#$%&()*+,-./:;<=>?@[\\\\]^_`{|}~\\t\\n' - избавляемся от ненужных символов\n",
        "# lower=True - приводим слова к нижнему регистру\n",
        "# split=' ' - разделяем слова по пробелу\n",
        "# char_level=False - просим токенайзер не удалять однобуквенные слова\n",
        "tokenizer = Tokenizer(num_words=maxWordsCount, filters='!\"#$%&()*+,-–—./…:;<=>?@[\\\\]^_`{|}~«»\\t\\n\\xa0', lower=True, split=' ', oov_token='unknown', char_level=False)\n",
        "\n",
        "tokenizer.fit_on_texts(trainText) # \"Скармливаем\" наши тексты, т.е. даём в обработку методу, который соберет словарь частотности\n",
        "\n",
        "# Преобразовываем текст в последовательность индексов согласно частотному словарю\n",
        "trainWordIndexes = tokenizer.texts_to_sequences(trainText) # Обучающие тесты в индексы\n",
        "testWordIndexes = tokenizer.texts_to_sequences(testText)  # Проверочные тесты в индексы\n",
        "\n",
        "#Задаём базовые параметры\n",
        "xLen = 1000 #Длина отрезка текста, по которой анализируем, в словах\n",
        "step = 100 #Шаг разбиения исходного текста на обучающие векторы\n",
        "\n",
        "cur_time = time.time() # Засекаем текущее время\n",
        "#Формируем обучающую и тестовую выборку\n",
        "xTrain, yTrain = createSetsMultiClasses(trainWordIndexes, xLen, step) #извлекаем обучающую выборку\n",
        "xTest, yTest = createSetsMultiClasses(testWordIndexes, xLen, step)    #извлекаем тестовую выборку\n",
        "print(xTrain.shape)\n",
        "print(yTrain.shape)\n",
        "print(xTest.shape)\n",
        "print(yTest.shape)\n",
        "#получили обучающий/тестовый набор, достаточный для запуска Embedding, но для Bag of Words нужно xTrain и xTest представить в виде векторов из 0 и 1\n",
        "print('Время обработки: ', round(time.time() - cur_time, 2), 'c', sep='')"
      ],
      "execution_count": null,
      "outputs": [
        {
          "output_type": "stream",
          "name": "stdout",
          "text": [
            "(17640, 1000)\n",
            "(17640, 6)\n",
            "(6686, 1000)\n",
            "(6686, 6)\n",
            "Время обработки: 2.13c\n"
          ]
        }
      ]
    },
    {
      "cell_type": "code",
      "metadata": {
        "id": "eY3F-DIW_0Mr"
      },
      "source": [
        "# Преобразовываем полученные выборки из последовательности индексов в матрицы нулей и единиц по принципу Bag of Words\n",
        "xTrain01 = tokenizer.sequences_to_matrix(xTrain.tolist()) #Подаем xTrain в виде списка, чтобы метод успешно сработал\n",
        "xTest01 = tokenizer.sequences_to_matrix(xTest.tolist()) # Подаем xTest в виде списка, чтобы метод успешно сработал"
      ],
      "execution_count": null,
      "outputs": []
    },
    {
      "cell_type": "code",
      "metadata": {
        "colab": {
          "base_uri": "https://localhost:8080/",
          "height": 1000
        },
        "id": "FZiwb4Yq_8Ox",
        "outputId": "68cdeb55-c790-4a6e-a683-57329c2da5a0"
      },
      "source": [
        "\n",
        "#Создаём полносвязную сеть\n",
        "model = Sequential()\n",
        "#Первый полносвязный слой на вход подаем максимальное кол-во слов \n",
        "model.add(Dense(64, input_dim=maxWordsCount, activation=\"relu\"))\n",
        "#Слой регуляризации Dropout\n",
        "model.add(Dropout(0.25))\n",
        "#Слой пакетной нормализации\n",
        "model.add(BatchNormalization())\n",
        "\n",
        "model.add(Dense(64, activation=\"relu\"))\n",
        "#Слой регуляризации Dropout\n",
        "model.add(Dropout(0.25))\n",
        "model.add(BatchNormalization())\n",
        "\n",
        "#Выходной полносвязный слой\n",
        "model.add(Dense(6, activation='softmax'))\n",
        "\n",
        "model.compile(optimizer='adam', \n",
        "              loss='categorical_crossentropy', \n",
        "              metrics=['accuracy'])\n",
        "\n",
        "model.summary()\n",
        "\n",
        "#Обучаем сеть на выборке, сформированной по bag of words - xTrain01\n",
        "history = model.fit(xTrain01, \n",
        "                      yTrain, \n",
        "                      epochs=10,\n",
        "                      batch_size=128,\n",
        "                      validation_data=(xTest01, yTest))\n",
        "                       \n",
        "# # Выводим график обучения\n",
        "plot_show()"
      ],
      "execution_count": null,
      "outputs": [
        {
          "output_type": "stream",
          "name": "stdout",
          "text": [
            "Model: \"sequential_9\"\n",
            "_________________________________________________________________\n",
            "Layer (type)                 Output Shape              Param #   \n",
            "=================================================================\n",
            "dense_27 (Dense)             (None, 64)                640064    \n",
            "_________________________________________________________________\n",
            "dropout_18 (Dropout)         (None, 64)                0         \n",
            "_________________________________________________________________\n",
            "batch_normalization_18 (Batc (None, 64)                256       \n",
            "_________________________________________________________________\n",
            "dense_28 (Dense)             (None, 64)                4160      \n",
            "_________________________________________________________________\n",
            "dropout_19 (Dropout)         (None, 64)                0         \n",
            "_________________________________________________________________\n",
            "batch_normalization_19 (Batc (None, 64)                256       \n",
            "_________________________________________________________________\n",
            "dense_29 (Dense)             (None, 6)                 390       \n",
            "=================================================================\n",
            "Total params: 645,126\n",
            "Trainable params: 644,870\n",
            "Non-trainable params: 256\n",
            "_________________________________________________________________\n",
            "Epoch 1/10\n",
            "138/138 [==============================] - 2s 8ms/step - loss: 0.2243 - accuracy: 0.9396 - val_loss: 0.5043 - val_accuracy: 0.8634\n",
            "Epoch 2/10\n",
            "138/138 [==============================] - 1s 6ms/step - loss: 0.0160 - accuracy: 0.9992 - val_loss: 0.3658 - val_accuracy: 0.8777\n",
            "Epoch 3/10\n",
            "138/138 [==============================] - 1s 6ms/step - loss: 0.0076 - accuracy: 0.9997 - val_loss: 0.3444 - val_accuracy: 0.8777\n",
            "Epoch 4/10\n",
            "138/138 [==============================] - 1s 6ms/step - loss: 0.0048 - accuracy: 0.9997 - val_loss: 0.3187 - val_accuracy: 0.8859\n",
            "Epoch 5/10\n",
            "138/138 [==============================] - 1s 6ms/step - loss: 0.0032 - accuracy: 0.9999 - val_loss: 0.3492 - val_accuracy: 0.8760\n",
            "Epoch 6/10\n",
            "138/138 [==============================] - 1s 6ms/step - loss: 0.0027 - accuracy: 0.9998 - val_loss: 0.3371 - val_accuracy: 0.8760\n",
            "Epoch 7/10\n",
            "138/138 [==============================] - 1s 6ms/step - loss: 0.0018 - accuracy: 1.0000 - val_loss: 0.3140 - val_accuracy: 0.8859\n",
            "Epoch 8/10\n",
            "138/138 [==============================] - 1s 6ms/step - loss: 0.0014 - accuracy: 1.0000 - val_loss: 0.3138 - val_accuracy: 0.8866\n",
            "Epoch 9/10\n",
            "138/138 [==============================] - 1s 6ms/step - loss: 0.0011 - accuracy: 1.0000 - val_loss: 0.3169 - val_accuracy: 0.8892\n",
            "Epoch 10/10\n",
            "138/138 [==============================] - 1s 6ms/step - loss: 9.6216e-04 - accuracy: 1.0000 - val_loss: 0.2990 - val_accuracy: 0.8964\n"
          ]
        },
        {
          "output_type": "display_data",
          "data": {
            "image/png": "[encoded data removed]",
            "text/plain": [
              "<Figure size 432x288 with 1 Axes>"
            ]
          },
          "metadata": {
            "needs_background": "light"
          }
        }
      ]
    },
    {
      "cell_type": "markdown",
      "metadata": {
        "id": "6Q0n8JrjAWSa"
      },
      "source": [
        "# maxWordsCount = 100\n",
        "Лучший результат = 89,81%"
      ]
    },
    {
      "cell_type": "code",
      "metadata": {
        "colab": {
          "base_uri": "https://localhost:8080/"
        },
        "id": "_eNk3GefAdAW",
        "outputId": "63f55db3-9bec-4607-c6f5-26e590bb9464"
      },
      "source": [
        "maxWordsCount =10000 # Определяем максимальное количество слов/индексов, учитываемое при обучении текстов\n",
        "\n",
        "# Воспользуемся встроенной в Keras функцией Tokenizer для разбиения текста и превращения в матрицу числовых значений\n",
        "# num_words=maxWordsCount - определяем максимальное количество слов/индексов, учитываемое при обучении текстов\n",
        "# filters='!\"#$%&()*+,-./:;<=>?@[\\\\]^_`{|}~\\t\\n' - избавляемся от ненужных символов\n",
        "# lower=True - приводим слова к нижнему регистру\n",
        "# split=' ' - разделяем слова по пробелу\n",
        "# char_level=False - просим токенайзер не удалять однобуквенные слова\n",
        "tokenizer = Tokenizer(num_words=maxWordsCount, filters='!\"#$%&()*+,-–—./…:;<=>?@[\\\\]^_`{|}~«»\\t\\n\\xa0', lower=True, split=' ', oov_token='unknown', char_level=False)\n",
        "\n",
        "tokenizer.fit_on_texts(trainText) # \"Скармливаем\" наши тексты, т.е. даём в обработку методу, который соберет словарь частотности\n",
        "\n",
        "# Преобразовываем текст в последовательность индексов согласно частотному словарю\n",
        "trainWordIndexes = tokenizer.texts_to_sequences(trainText) # Обучающие тесты в индексы\n",
        "testWordIndexes = tokenizer.texts_to_sequences(testText)  # Проверочные тесты в индексы\n",
        "\n",
        "#Задаём базовые параметры\n",
        "xLen = 1000 #Длина отрезка текста, по которой анализируем, в словах\n",
        "step = 100 #Шаг разбиения исходного текста на обучающие векторы\n",
        "\n",
        "cur_time = time.time() # Засекаем текущее время\n",
        "#Формируем обучающую и тестовую выборку\n",
        "xTrain, yTrain = createSetsMultiClasses(trainWordIndexes, xLen, step) #извлекаем обучающую выборку\n",
        "xTest, yTest = createSetsMultiClasses(testWordIndexes, xLen, step)    #извлекаем тестовую выборку\n",
        "print(xTrain.shape)\n",
        "print(yTrain.shape)\n",
        "print(xTest.shape)\n",
        "print(yTest.shape)\n",
        "#получили обучающий/тестовый набор, достаточный для запуска Embedding, но для Bag of Words нужно xTrain и xTest представить в виде векторов из 0 и 1\n",
        "print('Время обработки: ', round(time.time() - cur_time, 2), 'c', sep='')"
      ],
      "execution_count": null,
      "outputs": [
        {
          "output_type": "stream",
          "name": "stdout",
          "text": [
            "(17640, 1000)\n",
            "(17640, 6)\n",
            "(6686, 1000)\n",
            "(6686, 6)\n",
            "Время обработки: 2.11c\n"
          ]
        }
      ]
    },
    {
      "cell_type": "code",
      "metadata": {
        "id": "Dpz07aBrAg4g"
      },
      "source": [
        "# Преобразовываем полученные выборки из последовательности индексов в матрицы нулей и единиц по принципу Bag of Words\n",
        "xTrain01 = tokenizer.sequences_to_matrix(xTrain.tolist()) #Подаем xTrain в виде списка, чтобы метод успешно сработал\n",
        "xTest01 = tokenizer.sequences_to_matrix(xTest.tolist()) # Подаем xTest в виде списка, чтобы метод успешно сработал"
      ],
      "execution_count": null,
      "outputs": []
    },
    {
      "cell_type": "code",
      "metadata": {
        "colab": {
          "base_uri": "https://localhost:8080/",
          "height": 1000
        },
        "id": "AC8wfFjfAnYV",
        "outputId": "00a188be-ce80-416e-8f47-5f5e623ee297"
      },
      "source": [
        "\n",
        "#Создаём полносвязную сеть\n",
        "model = Sequential()\n",
        "#Первый полносвязный слой на вход подаем максимальное кол-во слов \n",
        "model.add(Dense(64, input_dim=maxWordsCount, activation=\"relu\"))\n",
        "#Слой регуляризации Dropout\n",
        "model.add(Dropout(0.25))\n",
        "#Слой пакетной нормализации\n",
        "model.add(BatchNormalization())\n",
        "\n",
        "model.add(Dense(64, activation=\"relu\"))\n",
        "#Слой регуляризации Dropout\n",
        "model.add(Dropout(0.25))\n",
        "model.add(BatchNormalization())\n",
        "\n",
        "#Выходной полносвязный слой\n",
        "model.add(Dense(6, activation='softmax'))\n",
        "\n",
        "model.compile(optimizer='adam', \n",
        "              loss='categorical_crossentropy', \n",
        "              metrics=['accuracy'])\n",
        "\n",
        "model.summary()\n",
        "\n",
        "#Обучаем сеть на выборке, сформированной по bag of words - xTrain01\n",
        "history = model.fit(xTrain01, \n",
        "                      yTrain, \n",
        "                      epochs=10,\n",
        "                      batch_size=128,\n",
        "                      validation_data=(xTest01, yTest))\n",
        "                       \n",
        "# # Выводим график обучения\n",
        "plot_show()"
      ],
      "execution_count": null,
      "outputs": [
        {
          "output_type": "stream",
          "name": "stdout",
          "text": [
            "Model: \"sequential_10\"\n",
            "_________________________________________________________________\n",
            "Layer (type)                 Output Shape              Param #   \n",
            "=================================================================\n",
            "dense_30 (Dense)             (None, 64)                640064    \n",
            "_________________________________________________________________\n",
            "dropout_20 (Dropout)         (None, 64)                0         \n",
            "_________________________________________________________________\n",
            "batch_normalization_20 (Batc (None, 64)                256       \n",
            "_________________________________________________________________\n",
            "dense_31 (Dense)             (None, 64)                4160      \n",
            "_________________________________________________________________\n",
            "dropout_21 (Dropout)         (None, 64)                0         \n",
            "_________________________________________________________________\n",
            "batch_normalization_21 (Batc (None, 64)                256       \n",
            "_________________________________________________________________\n",
            "dense_32 (Dense)             (None, 6)                 390       \n",
            "=================================================================\n",
            "Total params: 645,126\n",
            "Trainable params: 644,870\n",
            "Non-trainable params: 256\n",
            "_________________________________________________________________\n",
            "Epoch 1/10\n",
            "138/138 [==============================] - 2s 8ms/step - loss: 0.2309 - accuracy: 0.9389 - val_loss: 0.5061 - val_accuracy: 0.8621\n",
            "Epoch 2/10\n",
            "138/138 [==============================] - 1s 6ms/step - loss: 0.0164 - accuracy: 0.9997 - val_loss: 0.3776 - val_accuracy: 0.8765\n",
            "Epoch 3/10\n",
            "138/138 [==============================] - 1s 6ms/step - loss: 0.0075 - accuracy: 0.9998 - val_loss: 0.3316 - val_accuracy: 0.8866\n",
            "Epoch 4/10\n",
            "138/138 [==============================] - 1s 6ms/step - loss: 0.0045 - accuracy: 1.0000 - val_loss: 0.3329 - val_accuracy: 0.8803\n",
            "Epoch 5/10\n",
            "138/138 [==============================] - 1s 6ms/step - loss: 0.0031 - accuracy: 0.9999 - val_loss: 0.3363 - val_accuracy: 0.8794\n",
            "Epoch 6/10\n",
            "138/138 [==============================] - 1s 6ms/step - loss: 0.0022 - accuracy: 1.0000 - val_loss: 0.3202 - val_accuracy: 0.8848\n",
            "Epoch 7/10\n",
            "138/138 [==============================] - 1s 6ms/step - loss: 0.0017 - accuracy: 1.0000 - val_loss: 0.3095 - val_accuracy: 0.8893\n",
            "Epoch 8/10\n",
            "138/138 [==============================] - 1s 6ms/step - loss: 0.0014 - accuracy: 0.9999 - val_loss: 0.3193 - val_accuracy: 0.8856\n",
            "Epoch 9/10\n",
            "138/138 [==============================] - 1s 6ms/step - loss: 0.0012 - accuracy: 0.9999 - val_loss: 0.2979 - val_accuracy: 0.8952\n",
            "Epoch 10/10\n",
            "138/138 [==============================] - 1s 6ms/step - loss: 9.0925e-04 - accuracy: 1.0000 - val_loss: 0.2860 - val_accuracy: 0.8981\n"
          ]
        },
        {
          "output_type": "display_data",
          "data": {
            "image/png": "[encoded data removed]",
            "text/plain": [
              "<Figure size 432x288 with 1 Axes>"
            ]
          },
          "metadata": {
            "needs_background": "light"
          }
        }
      ]
    },
    {
      "cell_type": "markdown",
      "metadata": {
        "id": "Q1qBXjsxBm7w"
      },
      "source": [
        "# Bag of words (01) при maxWordsCount = 10000 "
      ]
    },
    {
      "cell_type": "code",
      "metadata": {
        "colab": {
          "base_uri": "https://localhost:8080/"
        },
        "id": "t_y6MwdVCbzW",
        "outputId": "098fe3be-7b84-4e55-fe36-3c8fb7a078f9"
      },
      "source": [
        "maxWordsCount =10000 # Определяем максимальное количество слов/индексов, учитываемое при обучении текстов\n",
        "\n",
        "# Воспользуемся встроенной в Keras функцией Tokenizer для разбиения текста и превращения в матрицу числовых значений\n",
        "# num_words=maxWordsCount - определяем максимальное количество слов/индексов, учитываемое при обучении текстов\n",
        "# filters='!\"#$%&()*+,-./:;<=>?@[\\\\]^_`{|}~\\t\\n' - избавляемся от ненужных символов\n",
        "# lower=True - приводим слова к нижнему регистру\n",
        "# split=' ' - разделяем слова по пробелу\n",
        "# char_level=False - просим токенайзер не удалять однобуквенные слова\n",
        "tokenizer = Tokenizer(num_words=maxWordsCount, filters='!\"#$%&()*+,-–—./…:;<=>?@[\\\\]^_`{|}~«»\\t\\n\\xa0', lower=True, split=' ', oov_token='unknown', char_level=False)\n",
        "\n",
        "tokenizer.fit_on_texts(trainText) # \"Скармливаем\" наши тексты, т.е. даём в обработку методу, который соберет словарь частотности\n",
        "\n",
        "# Преобразовываем текст в последовательность индексов согласно частотному словарю\n",
        "trainWordIndexes = tokenizer.texts_to_sequences(trainText) # Обучающие тесты в индексы\n",
        "testWordIndexes = tokenizer.texts_to_sequences(testText)  # Проверочные тесты в индексы\n",
        "\n",
        "#Задаём базовые параметры\n",
        "xLen = 1000 #Длина отрезка текста, по которой анализируем, в словах\n",
        "step = 100 #Шаг разбиения исходного текста на обучающие векторы\n",
        "\n",
        "cur_time = time.time() # Засекаем текущее время\n",
        "#Формируем обучающую и тестовую выборку\n",
        "xTrain, yTrain = createSetsMultiClasses(trainWordIndexes, xLen, step) #извлекаем обучающую выборку\n",
        "xTest, yTest = createSetsMultiClasses(testWordIndexes, xLen, step)    #извлекаем тестовую выборку\n",
        "print(xTrain.shape)\n",
        "print(yTrain.shape)\n",
        "print(xTest.shape)\n",
        "print(yTest.shape)\n",
        "#получили обучающий/тестовый набор, достаточный для запуска Embedding, но для Bag of Words нужно xTrain и xTest представить в виде векторов из 0 и 1\n",
        "print('Время обработки: ', round(time.time() - cur_time, 2), 'c', sep='')"
      ],
      "execution_count": null,
      "outputs": [
        {
          "output_type": "stream",
          "name": "stdout",
          "text": [
            "(17640, 1000)\n",
            "(17640, 6)\n",
            "(6686, 1000)\n",
            "(6686, 6)\n",
            "Время обработки: 2.03c\n"
          ]
        }
      ]
    },
    {
      "cell_type": "code",
      "metadata": {
        "id": "VO6dxfeJCgeQ"
      },
      "source": [
        "# Преобразовываем полученные выборки из последовательности индексов в матрицы нулей и единиц по принципу Bag of Words\n",
        "xTrain01 = tokenizer.sequences_to_matrix(xTrain.tolist()) #Подаем xTrain в виде списка, чтобы метод успешно сработал\n",
        "xTest01 = tokenizer.sequences_to_matrix(xTest.tolist()) # Подаем xTest в виде списка, чтобы метод успешно сработал"
      ],
      "execution_count": null,
      "outputs": []
    },
    {
      "cell_type": "markdown",
      "metadata": {
        "id": "a0pQSY6yBxFb"
      },
      "source": [
        "## 32 нейрона 2 слоя\n",
        "Лучший результат = 88,08%"
      ]
    },
    {
      "cell_type": "code",
      "metadata": {
        "colab": {
          "base_uri": "https://localhost:8080/",
          "height": 1000
        },
        "id": "eQEuboKRCP9o",
        "outputId": "8e817be4-4b7a-4126-824f-316ee37fff57"
      },
      "source": [
        "#Создаём полносвязную сеть на 32 нейрона 2 слоя\n",
        "model = Sequential()\n",
        "#Первый полносвязный слой на вход подаем максимальное кол-во слов \n",
        "model.add(Dense(32, input_dim=maxWordsCount, activation=\"relu\"))\n",
        "#Слой регуляризации Dropout\n",
        "model.add(Dropout(0.25))\n",
        "#Слой пакетной нормализации\n",
        "model.add(BatchNormalization())\n",
        "\n",
        "model.add(Dense(32, activation=\"relu\"))\n",
        "#Слой регуляризации Dropout\n",
        "model.add(Dropout(0.25))\n",
        "model.add(BatchNormalization())\n",
        "\n",
        "#Выходной полносвязный слой\n",
        "model.add(Dense(6, activation='softmax'))\n",
        "\n",
        "model.compile(optimizer='adam', \n",
        "              loss='categorical_crossentropy', \n",
        "              metrics=['accuracy'])\n",
        "\n",
        "model.summary()\n",
        "\n",
        "#Обучаем сеть на выборке, сформированной по bag of words - xTrain01\n",
        "history = model.fit(xTrain01, \n",
        "                      yTrain, \n",
        "                      epochs=10,\n",
        "                      batch_size=128,\n",
        "                      validation_data=(xTest01, yTest))\n",
        "                       \n",
        "# # Выводим график обучения\n",
        "plot_show()"
      ],
      "execution_count": null,
      "outputs": [
        {
          "output_type": "stream",
          "name": "stdout",
          "text": [
            "Model: \"sequential_11\"\n",
            "_________________________________________________________________\n",
            "Layer (type)                 Output Shape              Param #   \n",
            "=================================================================\n",
            "dense_33 (Dense)             (None, 32)                320032    \n",
            "_________________________________________________________________\n",
            "dropout_22 (Dropout)         (None, 32)                0         \n",
            "_________________________________________________________________\n",
            "batch_normalization_22 (Batc (None, 32)                128       \n",
            "_________________________________________________________________\n",
            "dense_34 (Dense)             (None, 32)                1056      \n",
            "_________________________________________________________________\n",
            "dropout_23 (Dropout)         (None, 32)                0         \n",
            "_________________________________________________________________\n",
            "batch_normalization_23 (Batc (None, 32)                128       \n",
            "_________________________________________________________________\n",
            "dense_35 (Dense)             (None, 6)                 198       \n",
            "=================================================================\n",
            "Total params: 321,542\n",
            "Trainable params: 321,414\n",
            "Non-trainable params: 128\n",
            "_________________________________________________________________\n",
            "Epoch 1/10\n",
            "138/138 [==============================] - 2s 9ms/step - loss: 0.3877 - accuracy: 0.9003 - val_loss: 0.5849 - val_accuracy: 0.8492\n",
            "Epoch 2/10\n",
            "138/138 [==============================] - 1s 6ms/step - loss: 0.0702 - accuracy: 0.9925 - val_loss: 0.4701 - val_accuracy: 0.8548\n",
            "Epoch 3/10\n",
            "138/138 [==============================] - 1s 6ms/step - loss: 0.0339 - accuracy: 0.9968 - val_loss: 0.4160 - val_accuracy: 0.8643\n",
            "Epoch 4/10\n",
            "138/138 [==============================] - 1s 6ms/step - loss: 0.0236 - accuracy: 0.9972 - val_loss: 0.4039 - val_accuracy: 0.8708\n",
            "Epoch 5/10\n",
            "138/138 [==============================] - 1s 6ms/step - loss: 0.0172 - accuracy: 0.9980 - val_loss: 0.4220 - val_accuracy: 0.8576\n",
            "Epoch 6/10\n",
            "138/138 [==============================] - 1s 6ms/step - loss: 0.0118 - accuracy: 0.9987 - val_loss: 0.4211 - val_accuracy: 0.8593\n",
            "Epoch 7/10\n",
            "138/138 [==============================] - 1s 6ms/step - loss: 0.0104 - accuracy: 0.9989 - val_loss: 0.3564 - val_accuracy: 0.8794\n",
            "Epoch 8/10\n",
            "138/138 [==============================] - 1s 6ms/step - loss: 0.0091 - accuracy: 0.9984 - val_loss: 0.3854 - val_accuracy: 0.8721\n",
            "Epoch 9/10\n",
            "138/138 [==============================] - 1s 6ms/step - loss: 0.0078 - accuracy: 0.9988 - val_loss: 0.4436 - val_accuracy: 0.8433\n",
            "Epoch 10/10\n",
            "138/138 [==============================] - 1s 6ms/step - loss: 0.0057 - accuracy: 0.9996 - val_loss: 0.3596 - val_accuracy: 0.8808\n"
          ]
        },
        {
          "output_type": "display_data",
          "data": {
            "image/png": "[encoded data removed]",
            "text/plain": [
              "<Figure size 432x288 with 1 Axes>"
            ]
          },
          "metadata": {
            "needs_background": "light"
          }
        }
      ]
    },
    {
      "cell_type": "markdown",
      "metadata": {
        "id": "t1HqZrUPDOnA"
      },
      "source": [
        "## 64 нейрона 2 слоя\n",
        "Лучший результат = 88,21%"
      ]
    },
    {
      "cell_type": "code",
      "metadata": {
        "colab": {
          "base_uri": "https://localhost:8080/",
          "height": 1000
        },
        "id": "IMXy6MzjDPY1",
        "outputId": "09a5e1fd-662c-4734-c0f8-359f05efad0c"
      },
      "source": [
        "#Создаём полносвязную сеть на 32 нейрона 2 слоя\n",
        "model = Sequential()\n",
        "#Первый полносвязный слой на вход подаем максимальное кол-во слов \n",
        "model.add(Dense(64, input_dim=maxWordsCount, activation=\"relu\"))\n",
        "#Слой регуляризации Dropout\n",
        "model.add(Dropout(0.25))\n",
        "#Слой пакетной нормализации\n",
        "model.add(BatchNormalization())\n",
        "\n",
        "model.add(Dense(64, activation=\"relu\"))\n",
        "#Слой регуляризации Dropout\n",
        "model.add(Dropout(0.25))\n",
        "model.add(BatchNormalization())\n",
        "\n",
        "#Выходной полносвязный слой\n",
        "model.add(Dense(6, activation='softmax'))\n",
        "\n",
        "model.compile(optimizer='adam', \n",
        "              loss='categorical_crossentropy', \n",
        "              metrics=['accuracy'])\n",
        "\n",
        "model.summary()\n",
        "\n",
        "#Обучаем сеть на выборке, сформированной по bag of words - xTrain01\n",
        "history = model.fit(xTrain01, \n",
        "                      yTrain, \n",
        "                      epochs=10,\n",
        "                      batch_size=128,\n",
        "                      validation_data=(xTest01, yTest))\n",
        "                       \n",
        "# # Выводим график обучения\n",
        "plot_show()"
      ],
      "execution_count": null,
      "outputs": [
        {
          "output_type": "stream",
          "name": "stdout",
          "text": [
            "Model: \"sequential_12\"\n",
            "_________________________________________________________________\n",
            "Layer (type)                 Output Shape              Param #   \n",
            "=================================================================\n",
            "dense_36 (Dense)             (None, 64)                640064    \n",
            "_________________________________________________________________\n",
            "dropout_24 (Dropout)         (None, 64)                0         \n",
            "_________________________________________________________________\n",
            "batch_normalization_24 (Batc (None, 64)                256       \n",
            "_________________________________________________________________\n",
            "dense_37 (Dense)             (None, 64)                4160      \n",
            "_________________________________________________________________\n",
            "dropout_25 (Dropout)         (None, 64)                0         \n",
            "_________________________________________________________________\n",
            "batch_normalization_25 (Batc (None, 64)                256       \n",
            "_________________________________________________________________\n",
            "dense_38 (Dense)             (None, 6)                 390       \n",
            "=================================================================\n",
            "Total params: 645,126\n",
            "Trainable params: 644,870\n",
            "Non-trainable params: 256\n",
            "_________________________________________________________________\n",
            "Epoch 1/10\n",
            "138/138 [==============================] - 2s 8ms/step - loss: 0.2423 - accuracy: 0.9359 - val_loss: 0.5493 - val_accuracy: 0.8599\n",
            "Epoch 2/10\n",
            "138/138 [==============================] - 1s 6ms/step - loss: 0.0176 - accuracy: 0.9992 - val_loss: 0.4299 - val_accuracy: 0.8634\n",
            "Epoch 3/10\n",
            "138/138 [==============================] - 1s 6ms/step - loss: 0.0080 - accuracy: 0.9998 - val_loss: 0.4236 - val_accuracy: 0.8534\n",
            "Epoch 4/10\n",
            "138/138 [==============================] - 1s 6ms/step - loss: 0.0051 - accuracy: 0.9997 - val_loss: 0.4064 - val_accuracy: 0.8602\n",
            "Epoch 5/10\n",
            "138/138 [==============================] - 1s 6ms/step - loss: 0.0034 - accuracy: 0.9999 - val_loss: 0.3916 - val_accuracy: 0.8642\n",
            "Epoch 6/10\n",
            "138/138 [==============================] - 1s 6ms/step - loss: 0.0024 - accuracy: 0.9999 - val_loss: 0.3963 - val_accuracy: 0.8618\n",
            "Epoch 7/10\n",
            "138/138 [==============================] - 1s 6ms/step - loss: 0.0020 - accuracy: 0.9999 - val_loss: 0.3714 - val_accuracy: 0.8748\n",
            "Epoch 8/10\n",
            "138/138 [==============================] - 1s 6ms/step - loss: 0.0014 - accuracy: 1.0000 - val_loss: 0.3743 - val_accuracy: 0.8765\n",
            "Epoch 9/10\n",
            "138/138 [==============================] - 1s 6ms/step - loss: 0.0012 - accuracy: 1.0000 - val_loss: 0.3688 - val_accuracy: 0.8780\n",
            "Epoch 10/10\n",
            "138/138 [==============================] - 1s 6ms/step - loss: 0.0012 - accuracy: 0.9999 - val_loss: 0.3579 - val_accuracy: 0.8821\n"
          ]
        },
        {
          "output_type": "display_data",
          "data": {
            "image/png": "[encoded data removed]",
            "text/plain": [
              "<Figure size 432x288 with 1 Axes>"
            ]
          },
          "metadata": {
            "needs_background": "light"
          }
        }
      ]
    },
    {
      "cell_type": "markdown",
      "metadata": {
        "id": "WvXTY5KDDlI-"
      },
      "source": [
        "## 128 нейронов 2 слоя\n",
        "Лучший результат = 89,01%"
      ]
    },
    {
      "cell_type": "code",
      "metadata": {
        "colab": {
          "base_uri": "https://localhost:8080/",
          "height": 1000
        },
        "id": "01PWpyacDv5r",
        "outputId": "2bb38c45-ddf0-4239-bd97-31f21beb3013"
      },
      "source": [
        "#Создаём полносвязную сеть на 32 нейрона 2 слоя\n",
        "model = Sequential()\n",
        "#Первый полносвязный слой на вход подаем максимальное кол-во слов \n",
        "model.add(Dense(128, input_dim=maxWordsCount, activation=\"relu\"))\n",
        "#Слой регуляризации Dropout\n",
        "model.add(Dropout(0.25))\n",
        "#Слой пакетной нормализации\n",
        "model.add(BatchNormalization())\n",
        "\n",
        "model.add(Dense(128, activation=\"relu\"))\n",
        "#Слой регуляризации Dropout\n",
        "model.add(Dropout(0.25))\n",
        "model.add(BatchNormalization())\n",
        "\n",
        "#Выходной полносвязный слой\n",
        "model.add(Dense(6, activation='softmax'))\n",
        "\n",
        "model.compile(optimizer='adam', \n",
        "              loss='categorical_crossentropy', \n",
        "              metrics=['accuracy'])\n",
        "\n",
        "model.summary()\n",
        "\n",
        "#Обучаем сеть на выборке, сформированной по bag of words - xTrain01\n",
        "history = model.fit(xTrain01, \n",
        "                      yTrain, \n",
        "                      epochs=10,\n",
        "                      batch_size=128,\n",
        "                      validation_data=(xTest01, yTest))\n",
        "                       \n",
        "# # Выводим график обучения\n",
        "plot_show()"
      ],
      "execution_count": null,
      "outputs": [
        {
          "output_type": "stream",
          "name": "stdout",
          "text": [
            "Model: \"sequential_13\"\n",
            "_________________________________________________________________\n",
            "Layer (type)                 Output Shape              Param #   \n",
            "=================================================================\n",
            "dense_39 (Dense)             (None, 128)               1280128   \n",
            "_________________________________________________________________\n",
            "dropout_26 (Dropout)         (None, 128)               0         \n",
            "_________________________________________________________________\n",
            "batch_normalization_26 (Batc (None, 128)               512       \n",
            "_________________________________________________________________\n",
            "dense_40 (Dense)             (None, 128)               16512     \n",
            "_________________________________________________________________\n",
            "dropout_27 (Dropout)         (None, 128)               0         \n",
            "_________________________________________________________________\n",
            "batch_normalization_27 (Batc (None, 128)               512       \n",
            "_________________________________________________________________\n",
            "dense_41 (Dense)             (None, 6)                 774       \n",
            "=================================================================\n",
            "Total params: 1,298,438\n",
            "Trainable params: 1,297,926\n",
            "Non-trainable params: 512\n",
            "_________________________________________________________________\n",
            "Epoch 1/10\n",
            "138/138 [==============================] - 2s 8ms/step - loss: 0.1407 - accuracy: 0.9601 - val_loss: 0.4286 - val_accuracy: 0.8765\n",
            "Epoch 2/10\n",
            "138/138 [==============================] - 1s 6ms/step - loss: 0.0042 - accuracy: 1.0000 - val_loss: 0.3436 - val_accuracy: 0.8806\n",
            "Epoch 3/10\n",
            "138/138 [==============================] - 1s 6ms/step - loss: 0.0020 - accuracy: 1.0000 - val_loss: 0.3185 - val_accuracy: 0.8857\n",
            "Epoch 4/10\n",
            "138/138 [==============================] - 1s 6ms/step - loss: 0.0011 - accuracy: 1.0000 - val_loss: 0.3069 - val_accuracy: 0.8871\n",
            "Epoch 5/10\n",
            "138/138 [==============================] - 1s 6ms/step - loss: 8.2875e-04 - accuracy: 1.0000 - val_loss: 0.2988 - val_accuracy: 0.8892\n",
            "Epoch 6/10\n",
            "138/138 [==============================] - 1s 6ms/step - loss: 5.9669e-04 - accuracy: 1.0000 - val_loss: 0.2970 - val_accuracy: 0.8893\n",
            "Epoch 7/10\n",
            "138/138 [==============================] - 1s 6ms/step - loss: 5.0447e-04 - accuracy: 1.0000 - val_loss: 0.2975 - val_accuracy: 0.8883\n",
            "Epoch 8/10\n",
            "138/138 [==============================] - 1s 6ms/step - loss: 3.5537e-04 - accuracy: 1.0000 - val_loss: 0.2993 - val_accuracy: 0.8893\n",
            "Epoch 9/10\n",
            "138/138 [==============================] - 1s 6ms/step - loss: 2.9081e-04 - accuracy: 1.0000 - val_loss: 0.2944 - val_accuracy: 0.8901\n",
            "Epoch 10/10\n",
            "138/138 [==============================] - 1s 6ms/step - loss: 2.2709e-04 - accuracy: 1.0000 - val_loss: 0.3026 - val_accuracy: 0.8872\n"
          ]
        },
        {
          "output_type": "display_data",
          "data": {
            "image/png": "[encoded data removed]",
            "text/plain": [
              "<Figure size 432x288 with 1 Axes>"
            ]
          },
          "metadata": {
            "needs_background": "light"
          }
        }
      ]
    },
    {
      "cell_type": "markdown",
      "metadata": {
        "id": "IeQi9H9AD-hq"
      },
      "source": [
        "## 256 нейронов 2 слоя\n",
        "Лучший результат = 88,96%"
      ]
    },
    {
      "cell_type": "code",
      "metadata": {
        "colab": {
          "base_uri": "https://localhost:8080/",
          "height": 1000
        },
        "id": "RHDAXAdhEFhb",
        "outputId": "492ddecd-f0bd-4cf0-b0d7-95689bdee402"
      },
      "source": [
        "#Создаём полносвязную сеть на 32 нейрона 2 слоя\n",
        "model = Sequential()\n",
        "#Первый полносвязный слой на вход подаем максимальное кол-во слов \n",
        "model.add(Dense(256, input_dim=maxWordsCount, activation=\"relu\"))\n",
        "#Слой регуляризации Dropout\n",
        "model.add(Dropout(0.25))\n",
        "#Слой пакетной нормализации\n",
        "model.add(BatchNormalization())\n",
        "\n",
        "model.add(Dense(256, activation=\"relu\"))\n",
        "#Слой регуляризации Dropout\n",
        "model.add(Dropout(0.25))\n",
        "model.add(BatchNormalization())\n",
        "\n",
        "#Выходной полносвязный слой\n",
        "model.add(Dense(6, activation='softmax'))\n",
        "\n",
        "model.compile(optimizer='adam', \n",
        "              loss='categorical_crossentropy', \n",
        "              metrics=['accuracy'])\n",
        "\n",
        "model.summary()\n",
        "\n",
        "#Обучаем сеть на выборке, сформированной по bag of words - xTrain01\n",
        "history = model.fit(xTrain01, \n",
        "                      yTrain, \n",
        "                      epochs=10,\n",
        "                      batch_size=128,\n",
        "                      validation_data=(xTest01, yTest))\n",
        "                       \n",
        "# # Выводим график обучения\n",
        "plot_show()"
      ],
      "execution_count": null,
      "outputs": [
        {
          "output_type": "stream",
          "name": "stdout",
          "text": [
            "Model: \"sequential_14\"\n",
            "_________________________________________________________________\n",
            "Layer (type)                 Output Shape              Param #   \n",
            "=================================================================\n",
            "dense_42 (Dense)             (None, 256)               2560256   \n",
            "_________________________________________________________________\n",
            "dropout_28 (Dropout)         (None, 256)               0         \n",
            "_________________________________________________________________\n",
            "batch_normalization_28 (Batc (None, 256)               1024      \n",
            "_________________________________________________________________\n",
            "dense_43 (Dense)             (None, 256)               65792     \n",
            "_________________________________________________________________\n",
            "dropout_29 (Dropout)         (None, 256)               0         \n",
            "_________________________________________________________________\n",
            "batch_normalization_29 (Batc (None, 256)               1024      \n",
            "_________________________________________________________________\n",
            "dense_44 (Dense)             (None, 6)                 1542      \n",
            "=================================================================\n",
            "Total params: 2,629,638\n",
            "Trainable params: 2,628,614\n",
            "Non-trainable params: 1,024\n",
            "_________________________________________________________________\n",
            "Epoch 1/10\n",
            "138/138 [==============================] - 2s 8ms/step - loss: 0.0850 - accuracy: 0.9731 - val_loss: 0.4569 - val_accuracy: 0.8597\n",
            "Epoch 2/10\n",
            "138/138 [==============================] - 1s 6ms/step - loss: 0.0011 - accuracy: 1.0000 - val_loss: 0.3437 - val_accuracy: 0.8853\n",
            "Epoch 3/10\n",
            "138/138 [==============================] - 1s 6ms/step - loss: 5.0221e-04 - accuracy: 1.0000 - val_loss: 0.3206 - val_accuracy: 0.8893\n",
            "Epoch 4/10\n",
            "138/138 [==============================] - 1s 6ms/step - loss: 3.3055e-04 - accuracy: 1.0000 - val_loss: 0.3242 - val_accuracy: 0.8869\n",
            "Epoch 5/10\n",
            "138/138 [==============================] - 1s 6ms/step - loss: 2.1935e-04 - accuracy: 1.0000 - val_loss: 0.3109 - val_accuracy: 0.8932\n",
            "Epoch 6/10\n",
            "138/138 [==============================] - 1s 6ms/step - loss: 1.7088e-04 - accuracy: 1.0000 - val_loss: 0.3230 - val_accuracy: 0.8895\n",
            "Epoch 7/10\n",
            "138/138 [==============================] - 1s 6ms/step - loss: 1.4565e-04 - accuracy: 1.0000 - val_loss: 0.3247 - val_accuracy: 0.8871\n",
            "Epoch 8/10\n",
            "138/138 [==============================] - 1s 6ms/step - loss: 1.0153e-04 - accuracy: 1.0000 - val_loss: 0.3207 - val_accuracy: 0.8896\n",
            "Epoch 9/10\n",
            "138/138 [==============================] - 1s 6ms/step - loss: 9.5825e-05 - accuracy: 1.0000 - val_loss: 0.3222 - val_accuracy: 0.8890\n",
            "Epoch 10/10\n",
            "138/138 [==============================] - 1s 6ms/step - loss: 6.6743e-05 - accuracy: 1.0000 - val_loss: 0.3233 - val_accuracy: 0.8889\n"
          ]
        },
        {
          "output_type": "display_data",
          "data": {
            "image/png": "[encoded data removed]",
            "text/plain": [
              "<Figure size 432x288 with 1 Axes>"
            ]
          },
          "metadata": {
            "needs_background": "light"
          }
        }
      ]
    },
    {
      "cell_type": "markdown",
      "metadata": {
        "id": "s_PX8_XfEU5x"
      },
      "source": [
        "## 512 нейронов 2 слоя\n",
        "Лучший результат = 86, 59%"
      ]
    },
    {
      "cell_type": "code",
      "metadata": {
        "colab": {
          "base_uri": "https://localhost:8080/",
          "height": 1000
        },
        "id": "k25LK3oLEboi",
        "outputId": "219a614b-9949-4ce8-b201-3c3214ed0f5e"
      },
      "source": [
        "#Создаём полносвязную сеть на 32 нейрона 2 слоя\n",
        "model = Sequential()\n",
        "#Первый полносвязный слой на вход подаем максимальное кол-во слов \n",
        "model.add(Dense(512, input_dim=maxWordsCount, activation=\"relu\"))\n",
        "#Слой регуляризации Dropout\n",
        "model.add(Dropout(0.25))\n",
        "#Слой пакетной нормализации\n",
        "model.add(BatchNormalization())\n",
        "\n",
        "model.add(Dense(512, activation=\"relu\"))\n",
        "#Слой регуляризации Dropout\n",
        "model.add(Dropout(0.25))\n",
        "model.add(BatchNormalization())\n",
        "\n",
        "#Выходной полносвязный слой\n",
        "model.add(Dense(6, activation='softmax'))\n",
        "\n",
        "model.compile(optimizer='adam', \n",
        "              loss='categorical_crossentropy', \n",
        "              metrics=['accuracy'])\n",
        "\n",
        "model.summary()\n",
        "\n",
        "#Обучаем сеть на выборке, сформированной по bag of words - xTrain01\n",
        "history = model.fit(xTrain01, \n",
        "                      yTrain, \n",
        "                      epochs=10,\n",
        "                      batch_size=128,\n",
        "                      validation_data=(xTest01, yTest))\n",
        "                       \n",
        "# # Выводим график обучения\n",
        "plot_show()"
      ],
      "execution_count": null,
      "outputs": [
        {
          "output_type": "stream",
          "name": "stdout",
          "text": [
            "Model: \"sequential_16\"\n",
            "_________________________________________________________________\n",
            "Layer (type)                 Output Shape              Param #   \n",
            "=================================================================\n",
            "dense_48 (Dense)             (None, 512)               5120512   \n",
            "_________________________________________________________________\n",
            "dropout_32 (Dropout)         (None, 512)               0         \n",
            "_________________________________________________________________\n",
            "batch_normalization_32 (Batc (None, 512)               2048      \n",
            "_________________________________________________________________\n",
            "dense_49 (Dense)             (None, 512)               262656    \n",
            "_________________________________________________________________\n",
            "dropout_33 (Dropout)         (None, 512)               0         \n",
            "_________________________________________________________________\n",
            "batch_normalization_33 (Batc (None, 512)               2048      \n",
            "_________________________________________________________________\n",
            "dense_50 (Dense)             (None, 6)                 3078      \n",
            "=================================================================\n",
            "Total params: 5,390,342\n",
            "Trainable params: 5,388,294\n",
            "Non-trainable params: 2,048\n",
            "_________________________________________________________________\n",
            "Epoch 1/10\n",
            "138/138 [==============================] - 2s 9ms/step - loss: 0.0630 - accuracy: 0.9802 - val_loss: 0.4682 - val_accuracy: 0.8398\n",
            "Epoch 2/10\n",
            "138/138 [==============================] - 1s 6ms/step - loss: 3.3996e-04 - accuracy: 1.0000 - val_loss: 0.3807 - val_accuracy: 0.8642\n",
            "Epoch 3/10\n",
            "138/138 [==============================] - 1s 6ms/step - loss: 1.4978e-04 - accuracy: 1.0000 - val_loss: 0.3709 - val_accuracy: 0.8688\n",
            "Epoch 4/10\n",
            "138/138 [==============================] - 1s 6ms/step - loss: 1.0501e-04 - accuracy: 1.0000 - val_loss: 0.3663 - val_accuracy: 0.8727\n",
            "Epoch 5/10\n",
            "138/138 [==============================] - 1s 6ms/step - loss: 6.1937e-05 - accuracy: 1.0000 - val_loss: 0.3697 - val_accuracy: 0.8726\n",
            "Epoch 6/10\n",
            "138/138 [==============================] - 1s 6ms/step - loss: 5.1597e-05 - accuracy: 1.0000 - val_loss: 0.3677 - val_accuracy: 0.8735\n",
            "Epoch 7/10\n",
            "138/138 [==============================] - 1s 6ms/step - loss: 4.2543e-05 - accuracy: 1.0000 - val_loss: 0.3677 - val_accuracy: 0.8742\n",
            "Epoch 8/10\n",
            "138/138 [==============================] - 1s 6ms/step - loss: 3.2991e-05 - accuracy: 1.0000 - val_loss: 0.3646 - val_accuracy: 0.8765\n",
            "Epoch 9/10\n",
            "138/138 [==============================] - 1s 6ms/step - loss: 3.2715e-05 - accuracy: 1.0000 - val_loss: 0.3636 - val_accuracy: 0.8768\n",
            "Epoch 10/10\n",
            "138/138 [==============================] - 1s 6ms/step - loss: 2.2739e-05 - accuracy: 1.0000 - val_loss: 0.3646 - val_accuracy: 0.8769\n"
          ]
        },
        {
          "output_type": "display_data",
          "data": {
            "image/png": "[encoded data removed]",
            "text/plain": [
              "<Figure size 432x288 with 1 Axes>"
            ]
          },
          "metadata": {
            "needs_background": "light"
          }
        }
      ]
    },
    {
      "cell_type": "markdown",
      "metadata": {
        "id": "jojD5L2QEujp"
      },
      "source": [
        "## 1024 нейрона 2 слоя\n",
        "Лучший результат = 82,71%"
      ]
    },
    {
      "cell_type": "code",
      "metadata": {
        "colab": {
          "base_uri": "https://localhost:8080/",
          "height": 1000
        },
        "id": "8zlhxbiOE5aQ",
        "outputId": "34c1871a-3410-4df3-debc-949e2b92d42c"
      },
      "source": [
        "#Создаём полносвязную сеть на 32 нейрона 2 слоя\n",
        "model = Sequential()\n",
        "#Первый полносвязный слой на вход подаем максимальное кол-во слов \n",
        "model.add(Dense(1024, input_dim=maxWordsCount, activation=\"relu\"))\n",
        "#Слой регуляризации Dropout\n",
        "model.add(Dropout(0.25))\n",
        "#Слой пакетной нормализации\n",
        "model.add(BatchNormalization())\n",
        "\n",
        "model.add(Dense(10242, activation=\"relu\"))\n",
        "#Слой регуляризации Dropout\n",
        "model.add(Dropout(0.25))\n",
        "model.add(BatchNormalization())\n",
        "\n",
        "#Выходной полносвязный слой\n",
        "model.add(Dense(6, activation='softmax'))\n",
        "\n",
        "model.compile(optimizer='adam', \n",
        "              loss='categorical_crossentropy', \n",
        "              metrics=['accuracy'])\n",
        "\n",
        "model.summary()\n",
        "\n",
        "#Обучаем сеть на выборке, сформированной по bag of words - xTrain01\n",
        "history = model.fit(xTrain01, \n",
        "                      yTrain, \n",
        "                      epochs=10,\n",
        "                      batch_size=128,\n",
        "                      validation_data=(xTest01, yTest))\n",
        "                       \n",
        "# # Выводим график обучения\n",
        "plot_show()"
      ],
      "execution_count": null,
      "outputs": [
        {
          "output_type": "stream",
          "name": "stdout",
          "text": [
            "Model: \"sequential_18\"\n",
            "_________________________________________________________________\n",
            "Layer (type)                 Output Shape              Param #   \n",
            "=================================================================\n",
            "dense_54 (Dense)             (None, 1024)              10241024  \n",
            "_________________________________________________________________\n",
            "dropout_36 (Dropout)         (None, 1024)              0         \n",
            "_________________________________________________________________\n",
            "batch_normalization_36 (Batc (None, 1024)              4096      \n",
            "_________________________________________________________________\n",
            "dense_55 (Dense)             (None, 10242)             10498050  \n",
            "_________________________________________________________________\n",
            "dropout_37 (Dropout)         (None, 10242)             0         \n",
            "_________________________________________________________________\n",
            "batch_normalization_37 (Batc (None, 10242)             40968     \n",
            "_________________________________________________________________\n",
            "dense_56 (Dense)             (None, 6)                 61458     \n",
            "=================================================================\n",
            "Total params: 20,845,596\n",
            "Trainable params: 20,823,064\n",
            "Non-trainable params: 22,532\n",
            "_________________________________________________________________\n",
            "Epoch 1/10\n",
            "138/138 [==============================] - 2s 12ms/step - loss: 0.0951 - accuracy: 0.9793 - val_loss: 1.0418 - val_accuracy: 0.8271\n",
            "Epoch 2/10\n",
            "138/138 [==============================] - 1s 9ms/step - loss: 0.0127 - accuracy: 0.9977 - val_loss: 2.0458 - val_accuracy: 0.8071\n",
            "Epoch 3/10\n",
            "138/138 [==============================] - 1s 9ms/step - loss: 0.0110 - accuracy: 0.9981 - val_loss: 2.7568 - val_accuracy: 0.7834\n",
            "Epoch 4/10\n",
            "138/138 [==============================] - 1s 9ms/step - loss: 0.0117 - accuracy: 0.9981 - val_loss: 2.4666 - val_accuracy: 0.8213\n",
            "Epoch 5/10\n",
            "138/138 [==============================] - 1s 9ms/step - loss: 0.0106 - accuracy: 0.9983 - val_loss: 2.4401 - val_accuracy: 0.8192\n",
            "Epoch 6/10\n",
            "138/138 [==============================] - 1s 9ms/step - loss: 0.0090 - accuracy: 0.9984 - val_loss: 4.5048 - val_accuracy: 0.7531\n",
            "Epoch 7/10\n",
            "138/138 [==============================] - 1s 9ms/step - loss: 0.0065 - accuracy: 0.9989 - val_loss: 2.6105 - val_accuracy: 0.8240\n",
            "Epoch 8/10\n",
            "138/138 [==============================] - 1s 9ms/step - loss: 0.0058 - accuracy: 0.9991 - val_loss: 3.3821 - val_accuracy: 0.7902\n",
            "Epoch 9/10\n",
            "138/138 [==============================] - 1s 9ms/step - loss: 0.0043 - accuracy: 0.9994 - val_loss: 3.0498 - val_accuracy: 0.8009\n",
            "Epoch 10/10\n",
            "138/138 [==============================] - 1s 9ms/step - loss: 0.0093 - accuracy: 0.9990 - val_loss: 2.8908 - val_accuracy: 0.8207\n"
          ]
        },
        {
          "output_type": "display_data",
          "data": {
            "image/png": "[encoded data removed]",
            "text/plain": [
              "<Figure size 432x288 with 1 Axes>"
            ]
          },
          "metadata": {
            "needs_background": "light"
          }
        }
      ]
    },
    {
      "cell_type": "markdown",
      "metadata": {
        "id": "iYYyjhp6FXkv"
      },
      "source": [
        "## 1 слой 32 нейрона\n",
        "Лучший результат = 87,21%"
      ]
    },
    {
      "cell_type": "code",
      "metadata": {
        "colab": {
          "base_uri": "https://localhost:8080/",
          "height": 847
        },
        "id": "GkoAb78-Fd0A",
        "outputId": "e5e5df72-d5eb-4e58-886d-bfc9818cceee"
      },
      "source": [
        "#Создаём полносвязную сеть на 32 нейрона 2 слоя\n",
        "model = Sequential()\n",
        "\n",
        "#Первый полносвязный слой на вход подаем максимальное кол-во слов \n",
        "model.add(Dense(512, input_dim=maxWordsCount, activation=\"relu\"))\n",
        "\n",
        "#Выходной полносвязный слой\n",
        "model.add(Dense(6, activation='softmax'))\n",
        "\n",
        "model.compile(optimizer='adam', \n",
        "              loss='categorical_crossentropy', \n",
        "              metrics=['accuracy'])\n",
        "\n",
        "model.summary()\n",
        "\n",
        "#Обучаем сеть на выборке, сформированной по bag of words - xTrain01\n",
        "history = model.fit(xTrain01, \n",
        "                      yTrain, \n",
        "                      epochs=10,\n",
        "                      batch_size=128,\n",
        "                      validation_data=(xTest01, yTest))\n",
        "                       \n",
        "# # Выводим график обучения\n",
        "plot_show()"
      ],
      "execution_count": null,
      "outputs": [
        {
          "output_type": "stream",
          "name": "stdout",
          "text": [
            "Model: \"sequential_19\"\n",
            "_________________________________________________________________\n",
            "Layer (type)                 Output Shape              Param #   \n",
            "=================================================================\n",
            "dense_57 (Dense)             (None, 512)               5120512   \n",
            "_________________________________________________________________\n",
            "dense_58 (Dense)             (None, 6)                 3078      \n",
            "=================================================================\n",
            "Total params: 5,123,590\n",
            "Trainable params: 5,123,590\n",
            "Non-trainable params: 0\n",
            "_________________________________________________________________\n",
            "Epoch 1/10\n",
            "138/138 [==============================] - 1s 8ms/step - loss: 0.0703 - accuracy: 0.9788 - val_loss: 0.3794 - val_accuracy: 0.8630\n",
            "Epoch 2/10\n",
            "138/138 [==============================] - 1s 5ms/step - loss: 9.6397e-05 - accuracy: 1.0000 - val_loss: 0.3736 - val_accuracy: 0.8642\n",
            "Epoch 3/10\n",
            "138/138 [==============================] - 1s 5ms/step - loss: 5.7453e-05 - accuracy: 1.0000 - val_loss: 0.3668 - val_accuracy: 0.8661\n",
            "Epoch 4/10\n",
            "138/138 [==============================] - 1s 5ms/step - loss: 3.7949e-05 - accuracy: 1.0000 - val_loss: 0.3637 - val_accuracy: 0.8670\n",
            "Epoch 5/10\n",
            "138/138 [==============================] - 1s 5ms/step - loss: 2.6844e-05 - accuracy: 1.0000 - val_loss: 0.3611 - val_accuracy: 0.8676\n",
            "Epoch 6/10\n",
            "138/138 [==============================] - 1s 5ms/step - loss: 1.9894e-05 - accuracy: 1.0000 - val_loss: 0.3568 - val_accuracy: 0.8693\n",
            "Epoch 7/10\n",
            "138/138 [==============================] - 1s 5ms/step - loss: 1.5260e-05 - accuracy: 1.0000 - val_loss: 0.3542 - val_accuracy: 0.8697\n",
            "Epoch 8/10\n",
            "138/138 [==============================] - 1s 5ms/step - loss: 1.2022e-05 - accuracy: 1.0000 - val_loss: 0.3517 - val_accuracy: 0.8708\n",
            "Epoch 9/10\n",
            "138/138 [==============================] - 1s 6ms/step - loss: 9.6880e-06 - accuracy: 1.0000 - val_loss: 0.3506 - val_accuracy: 0.8708\n",
            "Epoch 10/10\n",
            "138/138 [==============================] - 1s 5ms/step - loss: 7.9571e-06 - accuracy: 1.0000 - val_loss: 0.3484 - val_accuracy: 0.8721\n"
          ]
        },
        {
          "output_type": "display_data",
          "data": {
            "image/png": "[encoded data removed]",
            "text/plain": [
              "<Figure size 432x288 with 1 Axes>"
            ]
          },
          "metadata": {
            "needs_background": "light"
          }
        }
      ]
    },
    {
      "cell_type": "markdown",
      "metadata": {
        "id": "frbzw-3oFyze"
      },
      "source": [
        "## 2 слоя 32 нейрона\n",
        "Лучший результат = 85.49%"
      ]
    },
    {
      "cell_type": "code",
      "metadata": {
        "colab": {
          "base_uri": "https://localhost:8080/",
          "height": 883
        },
        "id": "h7JUxDAHF4-f",
        "outputId": "d7b48f8f-6e8f-43c0-c331-4deb304ac246"
      },
      "source": [
        "#Создаём полносвязную сеть на 32 нейрона 2 слоя\n",
        "model = Sequential()\n",
        "\n",
        "#Первый полносвязный слой на вход подаем максимальное кол-во слов \n",
        "model.add(Dense(32, input_dim=maxWordsCount, activation=\"relu\"))\n",
        "\n",
        "model.add(Dense(32, activation=\"relu\"))\n",
        "\n",
        "\n",
        "\n",
        "#Выходной полносвязный слой\n",
        "model.add(Dense(6, activation='softmax'))\n",
        "\n",
        "model.compile(optimizer='adam', \n",
        "              loss='categorical_crossentropy', \n",
        "              metrics=['accuracy'])\n",
        "\n",
        "model.summary()\n",
        "\n",
        "#Обучаем сеть на выборке, сформированной по bag of words - xTrain01\n",
        "history = model.fit(xTrain01, \n",
        "                      yTrain, \n",
        "                      epochs=10,\n",
        "                      batch_size=128,\n",
        "                      validation_data=(xTest01, yTest))\n",
        "                       \n",
        "# # Выводим график обучения\n",
        "plot_show()"
      ],
      "execution_count": null,
      "outputs": [
        {
          "output_type": "stream",
          "name": "stdout",
          "text": [
            "Model: \"sequential_22\"\n",
            "_________________________________________________________________\n",
            "Layer (type)                 Output Shape              Param #   \n",
            "=================================================================\n",
            "dense_66 (Dense)             (None, 32)                320032    \n",
            "_________________________________________________________________\n",
            "dense_67 (Dense)             (None, 32)                1056      \n",
            "_________________________________________________________________\n",
            "dense_68 (Dense)             (None, 6)                 198       \n",
            "=================================================================\n",
            "Total params: 321,286\n",
            "Trainable params: 321,286\n",
            "Non-trainable params: 0\n",
            "_________________________________________________________________\n",
            "Epoch 1/10\n",
            "138/138 [==============================] - 1s 7ms/step - loss: 0.2002 - accuracy: 0.9457 - val_loss: 0.5002 - val_accuracy: 0.8337\n",
            "Epoch 2/10\n",
            "138/138 [==============================] - 1s 5ms/step - loss: 0.0012 - accuracy: 1.0000 - val_loss: 0.4674 - val_accuracy: 0.8364\n",
            "Epoch 3/10\n",
            "138/138 [==============================] - 1s 5ms/step - loss: 3.3071e-04 - accuracy: 1.0000 - val_loss: 0.4470 - val_accuracy: 0.8462\n",
            "Epoch 4/10\n",
            "138/138 [==============================] - 1s 5ms/step - loss: 1.5105e-04 - accuracy: 1.0000 - val_loss: 0.4362 - val_accuracy: 0.8506\n",
            "Epoch 5/10\n",
            "138/138 [==============================] - 1s 5ms/step - loss: 8.6654e-05 - accuracy: 1.0000 - val_loss: 0.4282 - val_accuracy: 0.8539\n",
            "Epoch 6/10\n",
            "138/138 [==============================] - 1s 5ms/step - loss: 5.6400e-05 - accuracy: 1.0000 - val_loss: 0.4289 - val_accuracy: 0.8542\n",
            "Epoch 7/10\n",
            "138/138 [==============================] - 1s 5ms/step - loss: 3.9838e-05 - accuracy: 1.0000 - val_loss: 0.4261 - val_accuracy: 0.8549\n",
            "Epoch 8/10\n",
            "138/138 [==============================] - 1s 5ms/step - loss: 2.9711e-05 - accuracy: 1.0000 - val_loss: 0.4296 - val_accuracy: 0.8543\n",
            "Epoch 9/10\n",
            "138/138 [==============================] - 1s 5ms/step - loss: 2.2998e-05 - accuracy: 1.0000 - val_loss: 0.4314 - val_accuracy: 0.8528\n",
            "Epoch 10/10\n",
            "138/138 [==============================] - 1s 5ms/step - loss: 1.8292e-05 - accuracy: 1.0000 - val_loss: 0.4326 - val_accuracy: 0.8530\n"
          ]
        },
        {
          "output_type": "display_data",
          "data": {
            "image/png": "[encoded data removed]",
            "text/plain": [
              "<Figure size 432x288 with 1 Axes>"
            ]
          },
          "metadata": {
            "needs_background": "light"
          }
        }
      ]
    },
    {
      "cell_type": "markdown",
      "metadata": {
        "id": "dBv3Bvi4GKSj"
      },
      "source": [
        "## 3 слоя 32 нейрона\n",
        "Лучший результат = 89,65%"
      ]
    },
    {
      "cell_type": "code",
      "metadata": {
        "colab": {
          "base_uri": "https://localhost:8080/",
          "height": 918
        },
        "id": "GluQq_VTGbA_",
        "outputId": "d8a02c45-f881-4ac1-ce07-c4c0d1d19a56"
      },
      "source": [
        "# Создаём полносвязную сеть на 32 нейрона 2 слоя\n",
        "model = Sequential()\n",
        "\n",
        "#Первый полносвязный слой на вход подаем максимальное кол-во слов \n",
        "model.add(Dense(32, input_dim=maxWordsCount, activation=\"relu\"))\n",
        "\n",
        "model.add(Dense(32, activation=\"relu\"))\n",
        "\n",
        "model.add(Dense(32, activation=\"relu\"))\n",
        "\n",
        "#Выходной полносвязный слой\n",
        "model.add(Dense(6, activation='softmax'))\n",
        "\n",
        "model.compile(optimizer='adam', \n",
        "              loss='categorical_crossentropy', \n",
        "              metrics=['accuracy'])\n",
        "\n",
        "model.summary()\n",
        "\n",
        "#Обучаем сеть на выборке, сформированной по bag of words - xTrain01\n",
        "history = model.fit(xTrain01, \n",
        "                      yTrain, \n",
        "                      epochs=10,\n",
        "                      batch_size=128,\n",
        "                      validation_data=(xTest01, yTest))\n",
        "                       \n",
        "# # Выводим график обучения\n",
        "plot_show()"
      ],
      "execution_count": null,
      "outputs": [
        {
          "output_type": "stream",
          "name": "stdout",
          "text": [
            "Model: \"sequential_21\"\n",
            "_________________________________________________________________\n",
            "Layer (type)                 Output Shape              Param #   \n",
            "=================================================================\n",
            "dense_62 (Dense)             (None, 32)                320032    \n",
            "_________________________________________________________________\n",
            "dense_63 (Dense)             (None, 32)                1056      \n",
            "_________________________________________________________________\n",
            "dense_64 (Dense)             (None, 32)                1056      \n",
            "_________________________________________________________________\n",
            "dense_65 (Dense)             (None, 6)                 198       \n",
            "=================================================================\n",
            "Total params: 322,342\n",
            "Trainable params: 322,342\n",
            "Non-trainable params: 0\n",
            "_________________________________________________________________\n",
            "Epoch 1/10\n",
            "138/138 [==============================] - 1s 7ms/step - loss: 0.1789 - accuracy: 0.9478 - val_loss: 0.3958 - val_accuracy: 0.8702\n",
            "Epoch 2/10\n",
            "138/138 [==============================] - 1s 5ms/step - loss: 4.8679e-04 - accuracy: 1.0000 - val_loss: 0.3513 - val_accuracy: 0.8842\n",
            "Epoch 3/10\n",
            "138/138 [==============================] - 1s 5ms/step - loss: 2.0949e-04 - accuracy: 1.0000 - val_loss: 0.3374 - val_accuracy: 0.8865\n",
            "Epoch 4/10\n",
            "138/138 [==============================] - 1s 5ms/step - loss: 1.1772e-04 - accuracy: 1.0000 - val_loss: 0.3255 - val_accuracy: 0.8895\n",
            "Epoch 5/10\n",
            "138/138 [==============================] - 1s 5ms/step - loss: 7.5551e-05 - accuracy: 1.0000 - val_loss: 0.3184 - val_accuracy: 0.8913\n",
            "Epoch 6/10\n",
            "138/138 [==============================] - 1s 5ms/step - loss: 5.2648e-05 - accuracy: 1.0000 - val_loss: 0.3119 - val_accuracy: 0.8931\n",
            "Epoch 7/10\n",
            "138/138 [==============================] - 1s 5ms/step - loss: 3.8745e-05 - accuracy: 1.0000 - val_loss: 0.3058 - val_accuracy: 0.8950\n",
            "Epoch 8/10\n",
            "138/138 [==============================] - 1s 5ms/step - loss: 2.9606e-05 - accuracy: 1.0000 - val_loss: 0.3023 - val_accuracy: 0.8950\n",
            "Epoch 9/10\n",
            "138/138 [==============================] - 1s 5ms/step - loss: 2.3312e-05 - accuracy: 1.0000 - val_loss: 0.2990 - val_accuracy: 0.8956\n",
            "Epoch 10/10\n",
            "138/138 [==============================] - 1s 5ms/step - loss: 1.8771e-05 - accuracy: 1.0000 - val_loss: 0.2960 - val_accuracy: 0.8965\n"
          ]
        },
        {
          "output_type": "display_data",
          "data": {
            "image/png": "[encoded data removed]",
            "text/plain": [
              "<Figure size 432x288 with 1 Axes>"
            ]
          },
          "metadata": {
            "needs_background": "light"
          }
        }
      ]
    },
    {
      "cell_type": "markdown",
      "metadata": {
        "id": "dmHXF1ajHDy7"
      },
      "source": [
        "## 4 слоя 32 нейрона\n",
        "Лучший результат = 84,43%"
      ]
    },
    {
      "cell_type": "code",
      "metadata": {
        "colab": {
          "base_uri": "https://localhost:8080/",
          "height": 954
        },
        "id": "K_oCD7LZHKYu",
        "outputId": "6da3e684-9855-4838-9638-205ce2aa5df2"
      },
      "source": [
        "# Создаём полносвязную сеть на 32 нейрона 2 слоя\n",
        "model = Sequential()\n",
        "\n",
        "#Первый полносвязный слой на вход подаем максимальное кол-во слов \n",
        "model.add(Dense(32, input_dim=maxWordsCount, activation=\"relu\"))\n",
        "\n",
        "model.add(Dense(32, activation=\"relu\"))\n",
        "\n",
        "model.add(Dense(32, activation=\"relu\"))\n",
        "\n",
        "model.add(Dense(32, activation=\"relu\"))\n",
        "\n",
        "#Выходной полносвязный слой\n",
        "model.add(Dense(6, activation='softmax'))\n",
        "\n",
        "model.compile(optimizer='adam', \n",
        "              loss='categorical_crossentropy', \n",
        "              metrics=['accuracy'])\n",
        "\n",
        "model.summary()\n",
        "\n",
        "#Обучаем сеть на выборке, сформированной по bag of words - xTrain01\n",
        "history = model.fit(xTrain01, \n",
        "                      yTrain, \n",
        "                      epochs=10,\n",
        "                      batch_size=128,\n",
        "                      validation_data=(xTest01, yTest))\n",
        "                       \n",
        "# # Выводим график обучения\n",
        "plot_show()"
      ],
      "execution_count": null,
      "outputs": [
        {
          "output_type": "stream",
          "name": "stdout",
          "text": [
            "Model: \"sequential_24\"\n",
            "_________________________________________________________________\n",
            "Layer (type)                 Output Shape              Param #   \n",
            "=================================================================\n",
            "dense_74 (Dense)             (None, 32)                320032    \n",
            "_________________________________________________________________\n",
            "dense_75 (Dense)             (None, 32)                1056      \n",
            "_________________________________________________________________\n",
            "dense_76 (Dense)             (None, 32)                1056      \n",
            "_________________________________________________________________\n",
            "dense_77 (Dense)             (None, 32)                1056      \n",
            "_________________________________________________________________\n",
            "dense_78 (Dense)             (None, 6)                 198       \n",
            "=================================================================\n",
            "Total params: 323,398\n",
            "Trainable params: 323,398\n",
            "Non-trainable params: 0\n",
            "_________________________________________________________________\n",
            "Epoch 1/10\n",
            "138/138 [==============================] - 1s 7ms/step - loss: 0.2800 - accuracy: 0.9163 - val_loss: 0.5648 - val_accuracy: 0.7933\n",
            "Epoch 2/10\n",
            "138/138 [==============================] - 1s 5ms/step - loss: 4.8166e-04 - accuracy: 1.0000 - val_loss: 0.5195 - val_accuracy: 0.8111\n",
            "Epoch 3/10\n",
            "138/138 [==============================] - 1s 5ms/step - loss: 1.7143e-04 - accuracy: 1.0000 - val_loss: 0.4924 - val_accuracy: 0.8228\n",
            "Epoch 4/10\n",
            "138/138 [==============================] - 1s 5ms/step - loss: 7.9176e-05 - accuracy: 1.0000 - val_loss: 0.4758 - val_accuracy: 0.8311\n",
            "Epoch 5/10\n",
            "138/138 [==============================] - 1s 5ms/step - loss: 4.5366e-05 - accuracy: 1.0000 - val_loss: 0.4695 - val_accuracy: 0.8329\n",
            "Epoch 6/10\n",
            "138/138 [==============================] - 1s 5ms/step - loss: 2.9439e-05 - accuracy: 1.0000 - val_loss: 0.4643 - val_accuracy: 0.8359\n",
            "Epoch 7/10\n",
            "138/138 [==============================] - 1s 5ms/step - loss: 2.0677e-05 - accuracy: 1.0000 - val_loss: 0.4584 - val_accuracy: 0.8383\n",
            "Epoch 8/10\n",
            "138/138 [==============================] - 1s 5ms/step - loss: 1.5301e-05 - accuracy: 1.0000 - val_loss: 0.4571 - val_accuracy: 0.8404\n",
            "Epoch 9/10\n",
            "138/138 [==============================] - 1s 5ms/step - loss: 1.1764e-05 - accuracy: 1.0000 - val_loss: 0.4529 - val_accuracy: 0.8415\n",
            "Epoch 10/10\n",
            "138/138 [==============================] - 1s 5ms/step - loss: 9.3093e-06 - accuracy: 1.0000 - val_loss: 0.4495 - val_accuracy: 0.8443\n"
          ]
        },
        {
          "output_type": "display_data",
          "data": {
            "image/png": "[encoded data removed]",
            "text/plain": [
              "<Figure size 432x288 with 1 Axes>"
            ]
          },
          "metadata": {
            "needs_background": "light"
          }
        }
      ]
    },
    {
      "cell_type": "markdown",
      "metadata": {
        "id": "ydoBF6IJHcrW"
      },
      "source": [
        "## 5 слоев 32 нейрона\n",
        "Лучший результат = 85,78%"
      ]
    },
    {
      "cell_type": "code",
      "metadata": {
        "colab": {
          "base_uri": "https://localhost:8080/",
          "height": 990
        },
        "id": "T0h5rCJFHnsg",
        "outputId": "33e41d8f-0ae0-4197-80d0-c56752728ffd"
      },
      "source": [
        "# Создаём полносвязную сеть на 32 нейрона 2 слоя\n",
        "model = Sequential()\n",
        "\n",
        "#Первый полносвязный слой на вход подаем максимальное кол-во слов \n",
        "model.add(Dense(32, input_dim=maxWordsCount, activation=\"relu\"))\n",
        "\n",
        "model.add(Dense(32, activation=\"relu\"))\n",
        "\n",
        "model.add(Dense(32, activation=\"relu\"))\n",
        "\n",
        "model.add(Dense(32, activation=\"relu\"))\n",
        "\n",
        "model.add(Dense(32, activation=\"relu\"))\n",
        "\n",
        "#Выходной полносвязный слой\n",
        "model.add(Dense(6, activation='softmax'))\n",
        "\n",
        "model.compile(optimizer='adam', \n",
        "              loss='categorical_crossentropy', \n",
        "              metrics=['accuracy'])\n",
        "\n",
        "model.summary()\n",
        "\n",
        "#Обучаем сеть на выборке, сформированной по bag of words - xTrain01\n",
        "history = model.fit(xTrain01, \n",
        "                      yTrain, \n",
        "                      epochs=10,\n",
        "                      batch_size=128,\n",
        "                      validation_data=(xTest01, yTest))\n",
        "                       \n",
        "# # Выводим график обучения\n",
        "plot_show()"
      ],
      "execution_count": null,
      "outputs": [
        {
          "output_type": "stream",
          "name": "stdout",
          "text": [
            "Model: \"sequential_25\"\n",
            "_________________________________________________________________\n",
            "Layer (type)                 Output Shape              Param #   \n",
            "=================================================================\n",
            "dense_79 (Dense)             (None, 32)                320032    \n",
            "_________________________________________________________________\n",
            "dense_80 (Dense)             (None, 32)                1056      \n",
            "_________________________________________________________________\n",
            "dense_81 (Dense)             (None, 32)                1056      \n",
            "_________________________________________________________________\n",
            "dense_82 (Dense)             (None, 32)                1056      \n",
            "_________________________________________________________________\n",
            "dense_83 (Dense)             (None, 32)                1056      \n",
            "_________________________________________________________________\n",
            "dense_84 (Dense)             (None, 6)                 198       \n",
            "=================================================================\n",
            "Total params: 324,454\n",
            "Trainable params: 324,454\n",
            "Non-trainable params: 0\n",
            "_________________________________________________________________\n",
            "Epoch 1/10\n",
            "138/138 [==============================] - 1s 7ms/step - loss: 0.3507 - accuracy: 0.8879 - val_loss: 0.4116 - val_accuracy: 0.8614\n",
            "Epoch 2/10\n",
            "138/138 [==============================] - 1s 5ms/step - loss: 2.7407e-04 - accuracy: 1.0000 - val_loss: 0.4014 - val_accuracy: 0.8614\n",
            "Epoch 3/10\n",
            "138/138 [==============================] - 1s 5ms/step - loss: 9.9769e-05 - accuracy: 1.0000 - val_loss: 0.3966 - val_accuracy: 0.8614\n",
            "Epoch 4/10\n",
            "138/138 [==============================] - 1s 5ms/step - loss: 5.1043e-05 - accuracy: 1.0000 - val_loss: 0.3942 - val_accuracy: 0.8609\n",
            "Epoch 5/10\n",
            "138/138 [==============================] - 1s 5ms/step - loss: 2.7699e-05 - accuracy: 1.0000 - val_loss: 0.4013 - val_accuracy: 0.8578\n",
            "Epoch 6/10\n",
            "138/138 [==============================] - 1s 5ms/step - loss: 1.7754e-05 - accuracy: 1.0000 - val_loss: 0.4045 - val_accuracy: 0.8549\n",
            "Epoch 7/10\n",
            "138/138 [==============================] - 1s 5ms/step - loss: 1.2325e-05 - accuracy: 1.0000 - val_loss: 0.4089 - val_accuracy: 0.8528\n",
            "Epoch 8/10\n",
            "138/138 [==============================] - 1s 5ms/step - loss: 9.0326e-06 - accuracy: 1.0000 - val_loss: 0.4166 - val_accuracy: 0.8492\n",
            "Epoch 9/10\n",
            "138/138 [==============================] - 1s 5ms/step - loss: 6.8930e-06 - accuracy: 1.0000 - val_loss: 0.4215 - val_accuracy: 0.8461\n",
            "Epoch 10/10\n",
            "138/138 [==============================] - 1s 5ms/step - loss: 5.4181e-06 - accuracy: 1.0000 - val_loss: 0.4258 - val_accuracy: 0.8442\n"
          ]
        },
        {
          "output_type": "display_data",
          "data": {
            "image/png": "[encoded data removed]",
            "text/plain": [
              "<Figure size 432x288 with 1 Axes>"
            ]
          },
          "metadata": {
            "needs_background": "light"
          }
        }
      ]
    },
    {
      "cell_type": "markdown",
      "metadata": {
        "id": "JXTokUYeH_6M"
      },
      "source": [
        "## ELU + Sigmoid\n",
        "Лучший результат = 90,52%"
      ]
    },
    {
      "cell_type": "code",
      "metadata": {
        "colab": {
          "base_uri": "https://localhost:8080/",
          "height": 1000
        },
        "id": "bjqO092jITr2",
        "outputId": "d3855822-1501-4738-b604-f7c522020269"
      },
      "source": [
        "#Создаём полносвязную сеть на 32 нейрона 2 слоя\n",
        "model = Sequential()\n",
        "#Первый полносвязный слой на вход подаем максимальное кол-во слов \n",
        "model.add(Dense(32, input_dim=maxWordsCount, activation=\"elu\"))\n",
        "#Слой регуляризации Dropout\n",
        "model.add(Dropout(0.25))\n",
        "#Слой пакетной нормализации\n",
        "model.add(BatchNormalization())\n",
        "\n",
        "model.add(Dense(32, activation=\"elu\"))\n",
        "#Слой регуляризации Dropout\n",
        "model.add(Dropout(0.25))\n",
        "model.add(BatchNormalization())\n",
        "\n",
        "#Выходной полносвязный слой\n",
        "model.add(Dense(6, activation='sigmoid'))\n",
        "\n",
        "model.compile(optimizer='adam', \n",
        "              loss='categorical_crossentropy', \n",
        "              metrics=['accuracy'])\n",
        "\n",
        "model.summary()\n",
        "\n",
        "#Обучаем сеть на выборке, сформированной по bag of words - xTrain01\n",
        "history = model.fit(xTrain01, \n",
        "                      yTrain, \n",
        "                      epochs=10,\n",
        "                      batch_size=128,\n",
        "                      validation_data=(xTest01, yTest))\n",
        "                       \n",
        "# # Выводим график обучения\n",
        "plot_show()"
      ],
      "execution_count": null,
      "outputs": [
        {
          "output_type": "stream",
          "name": "stdout",
          "text": [
            "Model: \"sequential_26\"\n",
            "_________________________________________________________________\n",
            "Layer (type)                 Output Shape              Param #   \n",
            "=================================================================\n",
            "dense_85 (Dense)             (None, 32)                320032    \n",
            "_________________________________________________________________\n",
            "dropout_38 (Dropout)         (None, 32)                0         \n",
            "_________________________________________________________________\n",
            "batch_normalization_39 (Batc (None, 32)                128       \n",
            "_________________________________________________________________\n",
            "dense_86 (Dense)             (None, 32)                1056      \n",
            "_________________________________________________________________\n",
            "dropout_39 (Dropout)         (None, 32)                0         \n",
            "_________________________________________________________________\n",
            "batch_normalization_40 (Batc (None, 32)                128       \n",
            "_________________________________________________________________\n",
            "dense_87 (Dense)             (None, 6)                 198       \n",
            "=================================================================\n",
            "Total params: 321,542\n",
            "Trainable params: 321,414\n",
            "Non-trainable params: 128\n",
            "_________________________________________________________________\n",
            "Epoch 1/10\n",
            "138/138 [==============================] - 2s 8ms/step - loss: 0.2228 - accuracy: 0.9547 - val_loss: 0.4715 - val_accuracy: 0.8941\n",
            "Epoch 2/10\n",
            "138/138 [==============================] - 1s 6ms/step - loss: 0.0253 - accuracy: 0.9997 - val_loss: 0.3605 - val_accuracy: 0.8974\n",
            "Epoch 3/10\n",
            "138/138 [==============================] - 1s 6ms/step - loss: 0.0110 - accuracy: 1.0000 - val_loss: 0.3604 - val_accuracy: 0.8817\n",
            "Epoch 4/10\n",
            "138/138 [==============================] - 1s 6ms/step - loss: 0.0070 - accuracy: 0.9999 - val_loss: 0.3039 - val_accuracy: 0.9047\n",
            "Epoch 5/10\n",
            "138/138 [==============================] - 1s 6ms/step - loss: 0.0047 - accuracy: 1.0000 - val_loss: 0.3320 - val_accuracy: 0.8875\n",
            "Epoch 6/10\n",
            "138/138 [==============================] - 1s 6ms/step - loss: 0.0034 - accuracy: 1.0000 - val_loss: 0.3132 - val_accuracy: 0.8907\n",
            "Epoch 7/10\n",
            "138/138 [==============================] - 1s 6ms/step - loss: 0.0027 - accuracy: 1.0000 - val_loss: 0.2786 - val_accuracy: 0.9052\n",
            "Epoch 8/10\n",
            "138/138 [==============================] - 1s 6ms/step - loss: 0.0022 - accuracy: 1.0000 - val_loss: 0.2874 - val_accuracy: 0.8984\n",
            "Epoch 9/10\n",
            "138/138 [==============================] - 1s 6ms/step - loss: 0.0017 - accuracy: 1.0000 - val_loss: 0.2830 - val_accuracy: 0.9037\n",
            "Epoch 10/10\n",
            "138/138 [==============================] - 1s 6ms/step - loss: 0.0015 - accuracy: 0.9999 - val_loss: 0.3561 - val_accuracy: 0.8751\n"
          ]
        },
        {
          "output_type": "display_data",
          "data": {
            "image/png": "[encoded data removed]",
            "text/plain": [
              "<Figure size 432x288 with 1 Axes>"
            ]
          },
          "metadata": {
            "needs_background": "light"
          }
        }
      ]
    },
    {
      "cell_type": "markdown",
      "metadata": {
        "id": "TJRqDsO5Iro1"
      },
      "source": [
        "## TANH + Sigmoid\n",
        "Лучший результат = 88,99%"
      ]
    },
    {
      "cell_type": "code",
      "metadata": {
        "colab": {
          "base_uri": "https://localhost:8080/",
          "height": 1000
        },
        "id": "PpbzF37DI1aL",
        "outputId": "f158f6c5-24da-4b7c-ae12-094d7ea8cc96"
      },
      "source": [
        "#Создаём полносвязную сеть на 32 нейрона 2 слоя\n",
        "model = Sequential()\n",
        "#Первый полносвязный слой на вход подаем максимальное кол-во слов \n",
        "model.add(Dense(32, input_dim=maxWordsCount, activation=\"tanh\"))\n",
        "#Слой регуляризации Dropout\n",
        "model.add(Dropout(0.25))\n",
        "#Слой пакетной нормализации\n",
        "model.add(BatchNormalization())\n",
        "\n",
        "model.add(Dense(32, activation=\"tanh\"))\n",
        "#Слой регуляризации Dropout\n",
        "model.add(Dropout(0.25))\n",
        "model.add(BatchNormalization())\n",
        "\n",
        "#Выходной полносвязный слой\n",
        "model.add(Dense(6, activation='sigmoid'))\n",
        "\n",
        "model.compile(optimizer='adam', \n",
        "              loss='categorical_crossentropy', \n",
        "              metrics=['accuracy'])\n",
        "\n",
        "model.summary()\n",
        "\n",
        "#Обучаем сеть на выборке, сформированной по bag of words - xTrain01\n",
        "history = model.fit(xTrain01, \n",
        "                      yTrain, \n",
        "                      epochs=10,\n",
        "                      batch_size=128,\n",
        "                      validation_data=(xTest01, yTest))\n",
        "                       \n",
        "# # Выводим график обучения\n",
        "plot_show()"
      ],
      "execution_count": null,
      "outputs": [
        {
          "output_type": "stream",
          "name": "stdout",
          "text": [
            "Model: \"sequential_27\"\n",
            "_________________________________________________________________\n",
            "Layer (type)                 Output Shape              Param #   \n",
            "=================================================================\n",
            "dense_88 (Dense)             (None, 32)                320032    \n",
            "_________________________________________________________________\n",
            "dropout_40 (Dropout)         (None, 32)                0         \n",
            "_________________________________________________________________\n",
            "batch_normalization_41 (Batc (None, 32)                128       \n",
            "_________________________________________________________________\n",
            "dense_89 (Dense)             (None, 32)                1056      \n",
            "_________________________________________________________________\n",
            "dropout_41 (Dropout)         (None, 32)                0         \n",
            "_________________________________________________________________\n",
            "batch_normalization_42 (Batc (None, 32)                128       \n",
            "_________________________________________________________________\n",
            "dense_90 (Dense)             (None, 6)                 198       \n",
            "=================================================================\n",
            "Total params: 321,542\n",
            "Trainable params: 321,414\n",
            "Non-trainable params: 128\n",
            "_________________________________________________________________\n",
            "Epoch 1/10\n",
            "138/138 [==============================] - 2s 8ms/step - loss: 0.1732 - accuracy: 0.9582 - val_loss: 0.4074 - val_accuracy: 0.8796\n",
            "Epoch 2/10\n",
            "138/138 [==============================] - 1s 6ms/step - loss: 0.0155 - accuracy: 0.9999 - val_loss: 0.3479 - val_accuracy: 0.8850\n",
            "Epoch 3/10\n",
            "138/138 [==============================] - 1s 6ms/step - loss: 0.0074 - accuracy: 1.0000 - val_loss: 0.3514 - val_accuracy: 0.8772\n",
            "Epoch 4/10\n",
            "138/138 [==============================] - 1s 6ms/step - loss: 0.0045 - accuracy: 1.0000 - val_loss: 0.3415 - val_accuracy: 0.8850\n",
            "Epoch 5/10\n",
            "138/138 [==============================] - 1s 6ms/step - loss: 0.0032 - accuracy: 1.0000 - val_loss: 0.3003 - val_accuracy: 0.8947\n",
            "Epoch 6/10\n",
            "138/138 [==============================] - 1s 6ms/step - loss: 0.0023 - accuracy: 1.0000 - val_loss: 0.3245 - val_accuracy: 0.8899\n",
            "Epoch 7/10\n",
            "138/138 [==============================] - 1s 6ms/step - loss: 0.0018 - accuracy: 1.0000 - val_loss: 0.3402 - val_accuracy: 0.8836\n",
            "Epoch 8/10\n",
            "138/138 [==============================] - 1s 6ms/step - loss: 0.0014 - accuracy: 1.0000 - val_loss: 0.3391 - val_accuracy: 0.8844\n",
            "Epoch 9/10\n",
            "138/138 [==============================] - 1s 6ms/step - loss: 0.0011 - accuracy: 0.9999 - val_loss: 0.3505 - val_accuracy: 0.8821\n",
            "Epoch 10/10\n",
            "138/138 [==============================] - 1s 6ms/step - loss: 9.8748e-04 - accuracy: 1.0000 - val_loss: 0.3622 - val_accuracy: 0.8766\n"
          ]
        },
        {
          "output_type": "display_data",
          "data": {
            "image/png": "[encoded data removed]",
            "text/plain": [
              "<Figure size 432x288 with 1 Axes>"
            ]
          },
          "metadata": {
            "needs_background": "light"
          }
        }
      ]
    },
    {
      "cell_type": "markdown",
      "metadata": {
        "id": "zjKPzxQ5JP5u"
      },
      "source": [
        "##RELU + Softmax\n",
        "Лучший результат = 90,13%"
      ]
    },
    {
      "cell_type": "code",
      "metadata": {
        "colab": {
          "base_uri": "https://localhost:8080/",
          "height": 1000
        },
        "id": "rQfjMTK1JcVm",
        "outputId": "bcb179e9-b1a2-4073-a340-83f0170a8a07"
      },
      "source": [
        "#Создаём полносвязную сеть на 32 нейрона 2 слоя\n",
        "model = Sequential()\n",
        "#Первый полносвязный слой на вход подаем максимальное кол-во слов \n",
        "model.add(Dense(32, input_dim=maxWordsCount, activation=\"relu\"))\n",
        "#Слой регуляризации Dropout\n",
        "model.add(Dropout(0.25))\n",
        "#Слой пакетной нормализации\n",
        "model.add(BatchNormalization())\n",
        "\n",
        "model.add(Dense(32, activation=\"relu\"))\n",
        "#Слой регуляризации Dropout\n",
        "model.add(Dropout(0.25))\n",
        "model.add(BatchNormalization())\n",
        "\n",
        "#Выходной полносвязный слой\n",
        "model.add(Dense(6, activation='softmax'))\n",
        "\n",
        "model.compile(optimizer='adam', \n",
        "              loss='categorical_crossentropy', \n",
        "              metrics=['accuracy'])\n",
        "\n",
        "model.summary()\n",
        "\n",
        "#Обучаем сеть на выборке, сформированной по bag of words - xTrain01\n",
        "history = model.fit(xTrain01, \n",
        "                      yTrain, \n",
        "                      epochs=10,\n",
        "                      batch_size=128,\n",
        "                      validation_data=(xTest01, yTest))\n",
        "                       \n",
        "# # Выводим график обучения\n",
        "plot_show()"
      ],
      "execution_count": null,
      "outputs": [
        {
          "output_type": "stream",
          "name": "stdout",
          "text": [
            "Model: \"sequential_28\"\n",
            "_________________________________________________________________\n",
            "Layer (type)                 Output Shape              Param #   \n",
            "=================================================================\n",
            "dense_91 (Dense)             (None, 32)                320032    \n",
            "_________________________________________________________________\n",
            "dropout_42 (Dropout)         (None, 32)                0         \n",
            "_________________________________________________________________\n",
            "batch_normalization_43 (Batc (None, 32)                128       \n",
            "_________________________________________________________________\n",
            "dense_92 (Dense)             (None, 32)                1056      \n",
            "_________________________________________________________________\n",
            "dropout_43 (Dropout)         (None, 32)                0         \n",
            "_________________________________________________________________\n",
            "batch_normalization_44 (Batc (None, 32)                128       \n",
            "_________________________________________________________________\n",
            "dense_93 (Dense)             (None, 6)                 198       \n",
            "=================================================================\n",
            "Total params: 321,542\n",
            "Trainable params: 321,414\n",
            "Non-trainable params: 128\n",
            "_________________________________________________________________\n",
            "Epoch 1/10\n",
            "138/138 [==============================] - 2s 8ms/step - loss: 0.4579 - accuracy: 0.8772 - val_loss: 0.6407 - val_accuracy: 0.8593\n",
            "Epoch 2/10\n",
            "138/138 [==============================] - 1s 6ms/step - loss: 0.0879 - accuracy: 0.9894 - val_loss: 0.4339 - val_accuracy: 0.8765\n",
            "Epoch 3/10\n",
            "138/138 [==============================] - 1s 6ms/step - loss: 0.0467 - accuracy: 0.9940 - val_loss: 0.3678 - val_accuracy: 0.8905\n",
            "Epoch 4/10\n",
            "138/138 [==============================] - 1s 6ms/step - loss: 0.0319 - accuracy: 0.9949 - val_loss: 0.3745 - val_accuracy: 0.8835\n",
            "Epoch 5/10\n",
            "138/138 [==============================] - 1s 6ms/step - loss: 0.0225 - accuracy: 0.9963 - val_loss: 0.3195 - val_accuracy: 0.8986\n",
            "Epoch 6/10\n",
            "138/138 [==============================] - 1s 6ms/step - loss: 0.0164 - accuracy: 0.9976 - val_loss: 0.3083 - val_accuracy: 0.8980\n",
            "Epoch 7/10\n",
            "138/138 [==============================] - 1s 6ms/step - loss: 0.0141 - accuracy: 0.9977 - val_loss: 0.3255 - val_accuracy: 0.8943\n",
            "Epoch 8/10\n",
            "138/138 [==============================] - 1s 6ms/step - loss: 0.0107 - accuracy: 0.9985 - val_loss: 0.2926 - val_accuracy: 0.9011\n",
            "Epoch 9/10\n",
            "138/138 [==============================] - 1s 6ms/step - loss: 0.0103 - accuracy: 0.9983 - val_loss: 0.3092 - val_accuracy: 0.8995\n",
            "Epoch 10/10\n",
            "138/138 [==============================] - 1s 6ms/step - loss: 0.0097 - accuracy: 0.9980 - val_loss: 0.3059 - val_accuracy: 0.9013\n"
          ]
        },
        {
          "output_type": "display_data",
          "data": {
            "image/png": "[encoded data removed]",
            "text/plain": [
              "<Figure size 432x288 with 1 Axes>"
            ]
          },
          "metadata": {
            "needs_background": "light"
          }
        }
      ]
    },
    {
      "cell_type": "markdown",
      "metadata": {
        "id": "YhQq6pg0JuMF"
      },
      "source": [
        "##LINEAR + Softmax\n",
        "Лучший результат = 90,67%"
      ]
    },
    {
      "cell_type": "code",
      "metadata": {
        "colab": {
          "base_uri": "https://localhost:8080/",
          "height": 1000
        },
        "id": "vkhNW1LmJ-4I",
        "outputId": "fa24850e-da59-4ea4-fc71-b73e462e61e4"
      },
      "source": [
        "#Создаём полносвязную сеть на 32 нейрона 2 слоя\n",
        "model = Sequential()\n",
        "#Первый полносвязный слой на вход подаем максимальное кол-во слов \n",
        "model.add(Dense(32, input_dim=maxWordsCount, activation=\"linear\"))\n",
        "#Слой регуляризации Dropout\n",
        "model.add(Dropout(0.25))\n",
        "#Слой пакетной нормализации\n",
        "model.add(BatchNormalization())\n",
        "\n",
        "model.add(Dense(32, activation=\"linear\"))\n",
        "#Слой регуляризации Dropout\n",
        "model.add(Dropout(0.25))\n",
        "model.add(BatchNormalization())\n",
        "\n",
        "#Выходной полносвязный слой\n",
        "model.add(Dense(6, activation='softmax'))\n",
        "\n",
        "model.compile(optimizer='adam', \n",
        "              loss='categorical_crossentropy', \n",
        "              metrics=['accuracy'])\n",
        "\n",
        "model.summary()\n",
        "\n",
        "#Обучаем сеть на выборке, сформированной по bag of words - xTrain01\n",
        "history = model.fit(xTrain01, \n",
        "                      yTrain, \n",
        "                      epochs=10,\n",
        "                      batch_size=128,\n",
        "                      validation_data=(xTest01, yTest))\n",
        "                       \n",
        "# # Выводим график обучения\n",
        "plot_show()"
      ],
      "execution_count": null,
      "outputs": [
        {
          "output_type": "stream",
          "name": "stdout",
          "text": [
            "Model: \"sequential_29\"\n",
            "_________________________________________________________________\n",
            "Layer (type)                 Output Shape              Param #   \n",
            "=================================================================\n",
            "dense_94 (Dense)             (None, 32)                320032    \n",
            "_________________________________________________________________\n",
            "dropout_44 (Dropout)         (None, 32)                0         \n",
            "_________________________________________________________________\n",
            "batch_normalization_45 (Batc (None, 32)                128       \n",
            "_________________________________________________________________\n",
            "dense_95 (Dense)             (None, 32)                1056      \n",
            "_________________________________________________________________\n",
            "dropout_45 (Dropout)         (None, 32)                0         \n",
            "_________________________________________________________________\n",
            "batch_normalization_46 (Batc (None, 32)                128       \n",
            "_________________________________________________________________\n",
            "dense_96 (Dense)             (None, 6)                 198       \n",
            "=================================================================\n",
            "Total params: 321,542\n",
            "Trainable params: 321,414\n",
            "Non-trainable params: 128\n",
            "_________________________________________________________________\n",
            "Epoch 1/10\n",
            "138/138 [==============================] - 2s 8ms/step - loss: 0.2032 - accuracy: 0.9587 - val_loss: 0.4797 - val_accuracy: 0.8723\n",
            "Epoch 2/10\n",
            "138/138 [==============================] - 1s 6ms/step - loss: 0.0213 - accuracy: 0.9998 - val_loss: 0.4418 - val_accuracy: 0.8646\n",
            "Epoch 3/10\n",
            "138/138 [==============================] - 1s 6ms/step - loss: 0.0104 - accuracy: 1.0000 - val_loss: 0.3831 - val_accuracy: 0.8890\n",
            "Epoch 4/10\n",
            "138/138 [==============================] - 1s 6ms/step - loss: 0.0063 - accuracy: 1.0000 - val_loss: 0.3743 - val_accuracy: 0.8811\n",
            "Epoch 5/10\n",
            "138/138 [==============================] - 1s 6ms/step - loss: 0.0044 - accuracy: 0.9999 - val_loss: 0.3498 - val_accuracy: 0.8910\n",
            "Epoch 6/10\n",
            "138/138 [==============================] - 1s 6ms/step - loss: 0.0035 - accuracy: 0.9999 - val_loss: 0.3358 - val_accuracy: 0.8999\n",
            "Epoch 7/10\n",
            "138/138 [==============================] - 1s 6ms/step - loss: 0.0027 - accuracy: 1.0000 - val_loss: 0.3542 - val_accuracy: 0.8832\n",
            "Epoch 8/10\n",
            "138/138 [==============================] - 1s 6ms/step - loss: 0.0021 - accuracy: 0.9999 - val_loss: 0.4299 - val_accuracy: 0.8436\n",
            "Epoch 9/10\n",
            "138/138 [==============================] - 1s 6ms/step - loss: 0.0016 - accuracy: 1.0000 - val_loss: 0.2979 - val_accuracy: 0.9067\n",
            "Epoch 10/10\n",
            "138/138 [==============================] - 1s 6ms/step - loss: 0.0015 - accuracy: 1.0000 - val_loss: 0.3082 - val_accuracy: 0.9011\n"
          ]
        },
        {
          "output_type": "display_data",
          "data": {
            "image/png": "[encoded data removed]",
            "text/plain": [
              "<Figure size 432x288 with 1 Axes>"
            ]
          },
          "metadata": {
            "needs_background": "light"
          }
        }
      ]
    },
    {
      "cell_type": "markdown",
      "metadata": {
        "id": "edS1LTffKi6p"
      },
      "source": [
        "## LINEAR + Sigmoid\n",
        "Лучший результат = 90,14%"
      ]
    },
    {
      "cell_type": "code",
      "metadata": {
        "colab": {
          "base_uri": "https://localhost:8080/",
          "height": 1000
        },
        "id": "JvDYun7ZKpd7",
        "outputId": "c43be01e-b007-4e87-f465-80c6bd3d8fdb"
      },
      "source": [
        "#Создаём полносвязную сеть на 32 нейрона 2 слоя\n",
        "model = Sequential()\n",
        "#Первый полносвязный слой на вход подаем максимальное кол-во слов \n",
        "model.add(Dense(32, input_dim=maxWordsCount, activation=\"linear\"))\n",
        "#Слой регуляризации Dropout\n",
        "model.add(Dropout(0.25))\n",
        "#Слой пакетной нормализации\n",
        "model.add(BatchNormalization())\n",
        "\n",
        "model.add(Dense(32, activation=\"linear\"))\n",
        "#Слой регуляризации Dropout\n",
        "model.add(Dropout(0.25))\n",
        "model.add(BatchNormalization())\n",
        "\n",
        "#Выходной полносвязный слой\n",
        "model.add(Dense(6, activation='sigmoid'))\n",
        "\n",
        "model.compile(optimizer='adam', \n",
        "              loss='categorical_crossentropy', \n",
        "              metrics=['accuracy'])\n",
        "\n",
        "model.summary()\n",
        "\n",
        "#Обучаем сеть на выборке, сформированной по bag of words - xTrain01\n",
        "history = model.fit(xTrain01, \n",
        "                      yTrain, \n",
        "                      epochs=10,\n",
        "                      batch_size=128,\n",
        "                      validation_data=(xTest01, yTest))\n",
        "                       \n",
        "# # Выводим график обучения\n",
        "plot_show()"
      ],
      "execution_count": null,
      "outputs": [
        {
          "output_type": "stream",
          "name": "stdout",
          "text": [
            "Model: \"sequential_30\"\n",
            "_________________________________________________________________\n",
            "Layer (type)                 Output Shape              Param #   \n",
            "=================================================================\n",
            "dense_97 (Dense)             (None, 32)                320032    \n",
            "_________________________________________________________________\n",
            "dropout_46 (Dropout)         (None, 32)                0         \n",
            "_________________________________________________________________\n",
            "batch_normalization_47 (Batc (None, 32)                128       \n",
            "_________________________________________________________________\n",
            "dense_98 (Dense)             (None, 32)                1056      \n",
            "_________________________________________________________________\n",
            "dropout_47 (Dropout)         (None, 32)                0         \n",
            "_________________________________________________________________\n",
            "batch_normalization_48 (Batc (None, 32)                128       \n",
            "_________________________________________________________________\n",
            "dense_99 (Dense)             (None, 6)                 198       \n",
            "=================================================================\n",
            "Total params: 321,542\n",
            "Trainable params: 321,414\n",
            "Non-trainable params: 128\n",
            "_________________________________________________________________\n",
            "Epoch 1/10\n",
            "138/138 [==============================] - 2s 8ms/step - loss: 0.1920 - accuracy: 0.9612 - val_loss: 0.4910 - val_accuracy: 0.8796\n",
            "Epoch 2/10\n",
            "138/138 [==============================] - 1s 6ms/step - loss: 0.0203 - accuracy: 0.9998 - val_loss: 0.4314 - val_accuracy: 0.8799\n",
            "Epoch 3/10\n",
            "138/138 [==============================] - 1s 6ms/step - loss: 0.0103 - accuracy: 0.9999 - val_loss: 0.3825 - val_accuracy: 0.8865\n",
            "Epoch 4/10\n",
            "138/138 [==============================] - 1s 6ms/step - loss: 0.0060 - accuracy: 1.0000 - val_loss: 0.3841 - val_accuracy: 0.8835\n",
            "Epoch 5/10\n",
            "138/138 [==============================] - 1s 6ms/step - loss: 0.0040 - accuracy: 1.0000 - val_loss: 0.3431 - val_accuracy: 0.9014\n",
            "Epoch 6/10\n",
            "138/138 [==============================] - 1s 6ms/step - loss: 0.0030 - accuracy: 1.0000 - val_loss: 0.3524 - val_accuracy: 0.8880\n",
            "Epoch 7/10\n",
            "138/138 [==============================] - 1s 6ms/step - loss: 0.0024 - accuracy: 1.0000 - val_loss: 0.3267 - val_accuracy: 0.8983\n",
            "Epoch 8/10\n",
            "138/138 [==============================] - 1s 6ms/step - loss: 0.0020 - accuracy: 1.0000 - val_loss: 0.3362 - val_accuracy: 0.8904\n",
            "Epoch 9/10\n",
            "138/138 [==============================] - 1s 6ms/step - loss: 0.0015 - accuracy: 1.0000 - val_loss: 0.3324 - val_accuracy: 0.8925\n",
            "Epoch 10/10\n",
            "138/138 [==============================] - 1s 6ms/step - loss: 0.0013 - accuracy: 1.0000 - val_loss: 0.3221 - val_accuracy: 0.8984\n"
          ]
        },
        {
          "output_type": "display_data",
          "data": {
            "image/png": "[encoded data removed]",
            "text/plain": [
              "<Figure size 432x288 with 1 Axes>"
            ]
          },
          "metadata": {
            "needs_background": "light"
          }
        }
      ]
    },
    {
      "cell_type": "markdown",
      "metadata": {
        "id": "eEwl_c7HLXc7"
      },
      "source": [
        "# Нейронка c Embbedding при maxWordsCount = 10000"
      ]
    },
    {
      "cell_type": "code",
      "metadata": {
        "colab": {
          "base_uri": "https://localhost:8080/"
        },
        "id": "kkBcyauzLccO",
        "outputId": "a422d1fe-912a-4396-d236-15af4051add5"
      },
      "source": [
        "maxWordsCount =10000 # Определяем максимальное количество слов/индексов, учитываемое при обучении текстов\n",
        "\n",
        "# Воспользуемся встроенной в Keras функцией Tokenizer для разбиения текста и превращения в матрицу числовых значений\n",
        "# num_words=maxWordsCount - определяем максимальное количество слов/индексов, учитываемое при обучении текстов\n",
        "# filters='!\"#$%&()*+,-./:;<=>?@[\\\\]^_`{|}~\\t\\n' - избавляемся от ненужных символов\n",
        "# lower=True - приводим слова к нижнему регистру\n",
        "# split=' ' - разделяем слова по пробелу\n",
        "# char_level=False - просим токенайзер не удалять однобуквенные слова\n",
        "tokenizer = Tokenizer(num_words=maxWordsCount, filters='!\"#$%&()*+,-–—./…:;<=>?@[\\\\]^_`{|}~«»\\t\\n\\xa0', lower=True, split=' ', oov_token='unknown', char_level=False)\n",
        "\n",
        "tokenizer.fit_on_texts(trainText) # \"Скармливаем\" наши тексты, т.е. даём в обработку методу, который соберет словарь частотности\n",
        "\n",
        "# Преобразовываем текст в последовательность индексов согласно частотному словарю\n",
        "trainWordIndexes = tokenizer.texts_to_sequences(trainText) # Обучающие тесты в индексы\n",
        "testWordIndexes = tokenizer.texts_to_sequences(testText)  # Проверочные тесты в индексы\n",
        "\n",
        "#Задаём базовые параметры\n",
        "xLen = 1000 #Длина отрезка текста, по которой анализируем, в словах\n",
        "step = 100 #Шаг разбиения исходного текста на обучающие векторы\n",
        "\n",
        "cur_time = time.time() # Засекаем текущее время\n",
        "#Формируем обучающую и тестовую выборку\n",
        "xTrain, yTrain = createSetsMultiClasses(trainWordIndexes, xLen, step) #извлекаем обучающую выборку\n",
        "xTest, yTest = createSetsMultiClasses(testWordIndexes, xLen, step)    #извлекаем тестовую выборку\n",
        "print(xTrain.shape)\n",
        "print(yTrain.shape)\n",
        "print(xTest.shape)\n",
        "print(yTest.shape)\n",
        "#получили обучающий/тестовый набор, достаточный для запуска Embedding, но для Bag of Words нужно xTrain и xTest представить в виде векторов из 0 и 1\n",
        "print('Время обработки: ', round(time.time() - cur_time, 2), 'c', sep='')"
      ],
      "execution_count": null,
      "outputs": [
        {
          "output_type": "stream",
          "name": "stdout",
          "text": [
            "(17640, 1000)\n",
            "(17640, 6)\n",
            "(6686, 1000)\n",
            "(6686, 6)\n",
            "Время обработки: 2.24c\n"
          ]
        }
      ]
    },
    {
      "cell_type": "markdown",
      "metadata": {
        "id": "105kWiL6LsWx"
      },
      "source": [
        "## Размер Embedding пространства = 10\n",
        "Лучший результат = 78.52%"
      ]
    },
    {
      "cell_type": "code",
      "metadata": {
        "colab": {
          "base_uri": "https://localhost:8080/",
          "height": 1000
        },
        "id": "2Ev1YyJDPGqi",
        "outputId": "9ac6d50d-4616-4582-8513-f31a197628a5"
      },
      "source": [
        "#Создаём полносвязную сеть на 32 нейрона 2 слоя\n",
        "model = Sequential()\n",
        "model.add(Embedding(maxWordsCount, 10, input_length=xLen))\n",
        "model.add(Flatten())\n",
        "#Первый полносвязный слой на вход подаем максимальное кол-во слов \n",
        "model.add(Dense(32, input_dim=maxWordsCount, activation=\"linear\"))\n",
        "#Слой регуляризации Dropout\n",
        "model.add(Dropout(0.25))\n",
        "#Слой пакетной нормализации\n",
        "model.add(BatchNormalization())\n",
        "\n",
        "model.add(Dense(32, activation=\"linear\"))\n",
        "#Слой регуляризации Dropout\n",
        "model.add(Dropout(0.25))\n",
        "model.add(BatchNormalization())\n",
        "\n",
        "#Выходной полносвязный слой\n",
        "model.add(Dense(6, activation='softmax'))\n",
        "\n",
        "model.compile(optimizer='adam', \n",
        "              loss='categorical_crossentropy', \n",
        "              metrics=['accuracy'])\n",
        "\n",
        "model.summary()\n",
        "\n",
        "#Обучаем сеть \n",
        "history = model.fit(xTrain, \n",
        "                      yTrain, \n",
        "                      epochs=10,\n",
        "                      batch_size=128,\n",
        "                      validation_data=(xTest, yTest))\n",
        "                       \n",
        "# # Выводим график обучения\n",
        "plot_show()"
      ],
      "execution_count": null,
      "outputs": [
        {
          "output_type": "stream",
          "name": "stdout",
          "text": [
            "Model: \"sequential_41\"\n",
            "_________________________________________________________________\n",
            "Layer (type)                 Output Shape              Param #   \n",
            "=================================================================\n",
            "embedding_9 (Embedding)      (None, 1000, 10)          100000    \n",
            "_________________________________________________________________\n",
            "flatten_5 (Flatten)          (None, 10000)             0         \n",
            "_________________________________________________________________\n",
            "dense_125 (Dense)            (None, 32)                320032    \n",
            "_________________________________________________________________\n",
            "dropout_64 (Dropout)         (None, 32)                0         \n",
            "_________________________________________________________________\n",
            "batch_normalization_67 (Batc (None, 32)                128       \n",
            "_________________________________________________________________\n",
            "dense_126 (Dense)            (None, 32)                1056      \n",
            "_________________________________________________________________\n",
            "dropout_65 (Dropout)         (None, 32)                0         \n",
            "_________________________________________________________________\n",
            "batch_normalization_68 (Batc (None, 32)                128       \n",
            "_________________________________________________________________\n",
            "dense_127 (Dense)            (None, 6)                 198       \n",
            "=================================================================\n",
            "Total params: 421,542\n",
            "Trainable params: 421,414\n",
            "Non-trainable params: 128\n",
            "_________________________________________________________________\n",
            "Epoch 1/10\n",
            "138/138 [==============================] - 2s 6ms/step - loss: 1.0115 - accuracy: 0.6312 - val_loss: 1.4458 - val_accuracy: 0.4780\n",
            "Epoch 2/10\n",
            "138/138 [==============================] - 1s 5ms/step - loss: 0.1167 - accuracy: 0.9935 - val_loss: 1.1089 - val_accuracy: 0.6277\n",
            "Epoch 3/10\n",
            "138/138 [==============================] - 1s 5ms/step - loss: 0.0354 - accuracy: 0.9995 - val_loss: 0.8203 - val_accuracy: 0.7466\n",
            "Epoch 4/10\n",
            "138/138 [==============================] - 1s 5ms/step - loss: 0.0200 - accuracy: 0.9997 - val_loss: 0.7270 - val_accuracy: 0.7697\n",
            "Epoch 5/10\n",
            "138/138 [==============================] - 1s 5ms/step - loss: 0.0124 - accuracy: 0.9999 - val_loss: 0.7066 - val_accuracy: 0.7745\n",
            "Epoch 6/10\n",
            "138/138 [==============================] - 1s 5ms/step - loss: 0.0085 - accuracy: 0.9999 - val_loss: 0.7078 - val_accuracy: 0.7665\n",
            "Epoch 7/10\n",
            "138/138 [==============================] - 1s 5ms/step - loss: 0.0062 - accuracy: 0.9999 - val_loss: 0.7108 - val_accuracy: 0.7759\n",
            "Epoch 8/10\n",
            "138/138 [==============================] - 1s 5ms/step - loss: 0.0053 - accuracy: 0.9999 - val_loss: 0.7507 - val_accuracy: 0.7574\n",
            "Epoch 9/10\n",
            "138/138 [==============================] - 1s 5ms/step - loss: 0.0040 - accuracy: 1.0000 - val_loss: 0.8022 - val_accuracy: 0.7360\n",
            "Epoch 10/10\n",
            "138/138 [==============================] - 1s 5ms/step - loss: 0.0031 - accuracy: 1.0000 - val_loss: 0.7363 - val_accuracy: 0.7596\n"
          ]
        },
        {
          "output_type": "display_data",
          "data": {
            "image/png": "[encoded data removed]",
            "text/plain": [
              "<Figure size 432x288 with 1 Axes>"
            ]
          },
          "metadata": {
            "needs_background": "light"
          }
        }
      ]
    },
    {
      "cell_type": "markdown",
      "metadata": {
        "id": "UnVuuqixOXEE"
      },
      "source": [
        "## Размер Embedding пространства = 50\n",
        "Лучший результат = 81,44%"
      ]
    },
    {
      "cell_type": "code",
      "metadata": {
        "colab": {
          "base_uri": "https://localhost:8080/",
          "height": 1000
        },
        "id": "MNnSW1czL7AE",
        "outputId": "150358f8-4a87-4565-8475-bba660629afd"
      },
      "source": [
        "#Создаём полносвязную сеть на 32 нейрона 2 слоя\n",
        "model = Sequential()\n",
        "model.add(Embedding(maxWordsCount, 50, input_length=xLen))\n",
        "model.add(Flatten())\n",
        "#Первый полносвязный слой на вход подаем максимальное кол-во слов \n",
        "model.add(Dense(32, input_dim=maxWordsCount, activation=\"linear\"))\n",
        "#Слой регуляризации Dropout\n",
        "model.add(Dropout(0.25))\n",
        "#Слой пакетной нормализации\n",
        "model.add(BatchNormalization())\n",
        "\n",
        "model.add(Dense(32, activation=\"linear\"))\n",
        "#Слой регуляризации Dropout\n",
        "model.add(Dropout(0.25))\n",
        "model.add(BatchNormalization())\n",
        "\n",
        "#Выходной полносвязный слой\n",
        "model.add(Dense(6, activation='softmax'))\n",
        "\n",
        "model.compile(optimizer='adam', \n",
        "              loss='categorical_crossentropy', \n",
        "              metrics=['accuracy'])\n",
        "\n",
        "model.summary()\n",
        "\n",
        "#Обучаем сеть \n",
        "history = model.fit(xTrain, \n",
        "                      yTrain, \n",
        "                      epochs=10,\n",
        "                      batch_size=128,\n",
        "                      validation_data=(xTest, yTest))\n",
        "                       \n",
        "# # Выводим график обучения\n",
        "plot_show()"
      ],
      "execution_count": null,
      "outputs": [
        {
          "output_type": "stream",
          "name": "stdout",
          "text": [
            "Model: \"sequential_39\"\n",
            "_________________________________________________________________\n",
            "Layer (type)                 Output Shape              Param #   \n",
            "=================================================================\n",
            "embedding_7 (Embedding)      (None, 1000, 50)          500000    \n",
            "_________________________________________________________________\n",
            "flatten_3 (Flatten)          (None, 50000)             0         \n",
            "_________________________________________________________________\n",
            "dense_119 (Dense)            (None, 32)                1600032   \n",
            "_________________________________________________________________\n",
            "dropout_60 (Dropout)         (None, 32)                0         \n",
            "_________________________________________________________________\n",
            "batch_normalization_63 (Batc (None, 32)                128       \n",
            "_________________________________________________________________\n",
            "dense_120 (Dense)            (None, 32)                1056      \n",
            "_________________________________________________________________\n",
            "dropout_61 (Dropout)         (None, 32)                0         \n",
            "_________________________________________________________________\n",
            "batch_normalization_64 (Batc (None, 32)                128       \n",
            "_________________________________________________________________\n",
            "dense_121 (Dense)            (None, 6)                 198       \n",
            "=================================================================\n",
            "Total params: 2,101,542\n",
            "Trainable params: 2,101,414\n",
            "Non-trainable params: 128\n",
            "_________________________________________________________________\n",
            "Epoch 1/10\n",
            "138/138 [==============================] - 2s 7ms/step - loss: 0.7514 - accuracy: 0.7535 - val_loss: 1.1818 - val_accuracy: 0.6901\n",
            "Epoch 2/10\n",
            "138/138 [==============================] - 1s 6ms/step - loss: 0.0534 - accuracy: 0.9993 - val_loss: 0.8565 - val_accuracy: 0.7519\n",
            "Epoch 3/10\n",
            "138/138 [==============================] - 1s 6ms/step - loss: 0.0214 - accuracy: 0.9999 - val_loss: 0.7195 - val_accuracy: 0.7754\n",
            "Epoch 4/10\n",
            "138/138 [==============================] - 1s 6ms/step - loss: 0.0122 - accuracy: 1.0000 - val_loss: 0.6645 - val_accuracy: 0.7957\n",
            "Epoch 5/10\n",
            "138/138 [==============================] - 1s 6ms/step - loss: 0.0082 - accuracy: 1.0000 - val_loss: 0.6898 - val_accuracy: 0.7737\n",
            "Epoch 6/10\n",
            "138/138 [==============================] - 1s 6ms/step - loss: 0.0061 - accuracy: 1.0000 - val_loss: 0.6845 - val_accuracy: 0.7801\n",
            "Epoch 7/10\n",
            "138/138 [==============================] - 1s 6ms/step - loss: 0.0045 - accuracy: 0.9999 - val_loss: 0.5912 - val_accuracy: 0.8114\n",
            "Epoch 8/10\n",
            "138/138 [==============================] - 1s 6ms/step - loss: 0.0038 - accuracy: 1.0000 - val_loss: 0.5901 - val_accuracy: 0.8144\n",
            "Epoch 9/10\n",
            "138/138 [==============================] - 1s 6ms/step - loss: 0.0030 - accuracy: 1.0000 - val_loss: 0.6087 - val_accuracy: 0.8030\n",
            "Epoch 10/10\n",
            "138/138 [==============================] - 1s 6ms/step - loss: 0.0025 - accuracy: 1.0000 - val_loss: 0.6259 - val_accuracy: 0.8002\n"
          ]
        },
        {
          "output_type": "display_data",
          "data": {
            "image/png": "[encoded data removed]",
            "text/plain": [
              "<Figure size 432x288 with 1 Axes>"
            ]
          },
          "metadata": {
            "needs_background": "light"
          }
        }
      ]
    },
    {
      "cell_type": "markdown",
      "metadata": {
        "id": "m6Nq4M8XOnts"
      },
      "source": [
        "## Размер Embedding пространства = 200\n",
        "Лучший результат = 82,78% "
      ]
    },
    {
      "cell_type": "code",
      "metadata": {
        "colab": {
          "base_uri": "https://localhost:8080/",
          "height": 1000
        },
        "id": "N1KQjr7jOumJ",
        "outputId": "b72eb32c-cf71-407d-e11b-07c151af778f"
      },
      "source": [
        "#Создаём полносвязную сеть на 32 нейрона 2 слоя\n",
        "model = Sequential()\n",
        "model.add(Embedding(maxWordsCount, 200, input_length=xLen))\n",
        "model.add(Flatten())\n",
        "#Первый полносвязный слой на вход подаем максимальное кол-во слов \n",
        "model.add(Dense(32, input_dim=maxWordsCount, activation=\"linear\"))\n",
        "#Слой регуляризации Dropout\n",
        "model.add(Dropout(0.25))\n",
        "#Слой пакетной нормализации\n",
        "model.add(BatchNormalization())\n",
        "\n",
        "model.add(Dense(32, activation=\"linear\"))\n",
        "#Слой регуляризации Dropout\n",
        "model.add(Dropout(0.25))\n",
        "model.add(BatchNormalization())\n",
        "\n",
        "#Выходной полносвязный слой\n",
        "model.add(Dense(6, activation='softmax'))\n",
        "\n",
        "model.compile(optimizer='adam', \n",
        "              loss='categorical_crossentropy', \n",
        "              metrics=['accuracy'])\n",
        "\n",
        "model.summary()\n",
        "\n",
        "#Обучаем сеть \n",
        "history = model.fit(xTrain, \n",
        "                      yTrain, \n",
        "                      epochs=10,\n",
        "                      batch_size=128,\n",
        "                      validation_data=(xTest, yTest))\n",
        "                       \n",
        "# # Выводим график обучения\n",
        "plot_show()"
      ],
      "execution_count": null,
      "outputs": [
        {
          "output_type": "stream",
          "name": "stdout",
          "text": [
            "Model: \"sequential_40\"\n",
            "_________________________________________________________________\n",
            "Layer (type)                 Output Shape              Param #   \n",
            "=================================================================\n",
            "embedding_8 (Embedding)      (None, 1000, 200)         2000000   \n",
            "_________________________________________________________________\n",
            "flatten_4 (Flatten)          (None, 200000)            0         \n",
            "_________________________________________________________________\n",
            "dense_122 (Dense)            (None, 32)                6400032   \n",
            "_________________________________________________________________\n",
            "dropout_62 (Dropout)         (None, 32)                0         \n",
            "_________________________________________________________________\n",
            "batch_normalization_65 (Batc (None, 32)                128       \n",
            "_________________________________________________________________\n",
            "dense_123 (Dense)            (None, 32)                1056      \n",
            "_________________________________________________________________\n",
            "dropout_63 (Dropout)         (None, 32)                0         \n",
            "_________________________________________________________________\n",
            "batch_normalization_66 (Batc (None, 32)                128       \n",
            "_________________________________________________________________\n",
            "dense_124 (Dense)            (None, 6)                 198       \n",
            "=================================================================\n",
            "Total params: 8,401,542\n",
            "Trainable params: 8,401,414\n",
            "Non-trainable params: 128\n",
            "_________________________________________________________________\n",
            "Epoch 1/10\n",
            "138/138 [==============================] - 2s 11ms/step - loss: 0.6275 - accuracy: 0.8026 - val_loss: 0.8646 - val_accuracy: 0.7587\n",
            "Epoch 2/10\n",
            "138/138 [==============================] - 1s 10ms/step - loss: 0.0536 - accuracy: 0.9991 - val_loss: 0.6949 - val_accuracy: 0.7846\n",
            "Epoch 3/10\n",
            "138/138 [==============================] - 1s 10ms/step - loss: 0.0201 - accuracy: 0.9999 - val_loss: 0.6329 - val_accuracy: 0.8086\n",
            "Epoch 4/10\n",
            "138/138 [==============================] - 1s 10ms/step - loss: 0.0120 - accuracy: 0.9999 - val_loss: 0.6722 - val_accuracy: 0.7827\n",
            "Epoch 5/10\n",
            "138/138 [==============================] - 1s 10ms/step - loss: 0.0080 - accuracy: 0.9999 - val_loss: 0.6001 - val_accuracy: 0.8157\n",
            "Epoch 6/10\n",
            "138/138 [==============================] - 1s 10ms/step - loss: 0.0058 - accuracy: 1.0000 - val_loss: 0.6435 - val_accuracy: 0.7834\n",
            "Epoch 7/10\n",
            "138/138 [==============================] - 1s 10ms/step - loss: 0.0044 - accuracy: 0.9999 - val_loss: 0.5956 - val_accuracy: 0.8089\n",
            "Epoch 8/10\n",
            "138/138 [==============================] - 1s 10ms/step - loss: 0.0035 - accuracy: 0.9999 - val_loss: 0.6050 - val_accuracy: 0.7955\n",
            "Epoch 9/10\n",
            "138/138 [==============================] - 1s 10ms/step - loss: 0.0030 - accuracy: 0.9999 - val_loss: 0.5715 - val_accuracy: 0.8123\n",
            "Epoch 10/10\n",
            "138/138 [==============================] - 1s 10ms/step - loss: 0.0026 - accuracy: 0.9998 - val_loss: 0.5350 - val_accuracy: 0.8278\n"
          ]
        },
        {
          "output_type": "display_data",
          "data": {
            "image/png": "[encoded data removed]",
            "text/plain": [
              "<Figure size 432x288 with 1 Axes>"
            ]
          },
          "metadata": {
            "needs_background": "light"
          }
        }
      ]
    },
    {
      "cell_type": "markdown",
      "metadata": {
        "id": "jG5y0SnhPypi"
      },
      "source": [
        ""
      ]
    },
    {
      "cell_type": "markdown",
      "metadata": {
        "id": "BhIPloLTP2bt"
      },
      "source": [
        ""
      ]
    },
    {
      "cell_type": "markdown",
      "metadata": {
        "id": "yGJcPZsQP4t-"
      },
      "source": [
        "# Выводы"
      ]
    },
    {
      "cell_type": "markdown",
      "metadata": {
        "id": "NWcOkNMPP9BJ"
      },
      "source": [
        "1.Увеличение количеств нейронов возможно до определенного предела , после которого результат точности падает. На небольших количествах нейронов можно получить вполне достойный результат (64, 128 нейронов в слое) 89,01%.\n",
        "2.Тоже самое можно сказать и про количество слоев , успешными  вариантами были варианты с  1 и 3 Dense слоями, лучшая точность 89,65%.\n",
        "3.В экспериментах  с функциями активации хорошо показали себя 2 варианта : ELU+Sigmoid = точность 90,52% и LINEAR+Softmax = точность 90,67%.\n",
        "4.Обучение нейронки с помощью слоя Embedding не дал высоких результатов , но показал тенденцию увеличения точности на 1% при увеличении внутреннего слоя в 4 раза.\n",
        "5.Оптимальным значением maxWordsCount оказалось 10 000. Размер словаря для данной задачи может быть небольшим, что позволит быстрее обучать нейронку и потребует меньше ресурсов colab. \n",
        "\n",
        "Резюме : всегда начинать с простых вариантов, большое преимущество дает метод bag of words , а также 1-2 % точности могут добавить эксперименты с функциями активации.\n",
        "\n"
      ]
    }
  ]
}