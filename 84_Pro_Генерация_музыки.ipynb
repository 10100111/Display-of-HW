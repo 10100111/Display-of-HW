{
  "nbformat": 4,
  "nbformat_minor": 0,
  "metadata": {
    "accelerator": "GPU",
    "colab": {
      "provenance": [],
      "toc_visible": true,
      "include_colab_link": true
    },
    "kernelspec": {
      "display_name": "Python 3",
      "name": "python3"
    }
  },
  "cells": [
    {
      "cell_type": "markdown",
      "metadata": {
        "id": "view-in-github",
        "colab_type": "text"
      },
      "source": [
        "<a href=\"https://colab.research.google.com/github/10100111/Display-of-HW1/blob/main/84_Pro_%D0%93%D0%B5%D0%BD%D0%B5%D1%80%D0%B0%D1%86%D0%B8%D1%8F_%D0%BC%D1%83%D0%B7%D1%8B%D0%BA%D0%B8.ipynb\" target=\"_parent\"><img src=\"https://colab.research.google.com/assets/colab-badge.svg\" alt=\"Open In Colab\"/></a>"
      ]
    },
    {
      "cell_type": "markdown",
      "source": [
        "Задание Pro\n",
        "\n",
        "Макс 10 баллов\n",
        "\n",
        "Сравните результаты созданной в ходе занятия нейронной сети и:\n",
        "\n",
        "Сети с одним LSTM слоем\n",
        "\n",
        "Сети с двумя LSTM слоями\n",
        "\n",
        "Сети с bi-directional LSTM вместо обычных LSTM\n",
        "\n",
        "Проанализируйте результаты моделей и напишите результаты анализа в текстовой ячейке в конце Вашего блокнота. Обучайте каждую модель не менее пяти эпох."
      ],
      "metadata": {
        "id": "9HZ1xsM_VfnN"
      }
    },
    {
      "cell_type": "markdown",
      "source": [
        "Статья про Bidirectional https://proproprogs.ru/neural_network/bidirectional-rekurrentnye-neyronnye-seti"
      ],
      "metadata": {
        "id": "Yt9lqAXAYO-Y"
      }
    },
    {
      "cell_type": "markdown",
      "metadata": {
        "id": "y9VhIFBNcyLi"
      },
      "source": [
        "*Разбор данного раздела:* https://youtu.be/VS6DHal1xYw?t=467"
      ]
    },
    {
      "cell_type": "code",
      "metadata": {
        "id": "eVe8Rw8EuFuD"
      },
      "source": [
        "import pandas as pd\n",
        "import numpy as np\n",
        "import keras\n",
        "from keras import Sequential\n",
        "from keras.layers import LSTM, Dropout, Dense, Activation, Flatten\n",
        "from keras.callbacks import ModelCheckpoint\n",
        "from google.colab import files, drive\n",
        "from matplotlib import pyplot as plt\n",
        "from music21 import *\n",
        "import glob\n",
        "import pickle\n",
        "from IPython.display import clear_output\n",
        "from IPython.display import Audio"
      ],
      "execution_count": null,
      "outputs": []
    },
    {
      "cell_type": "code",
      "metadata": {
        "colab": {
          "base_uri": "https://localhost:8080/"
        },
        "id": "VjUTXq7nuKzR",
        "outputId": "a5a145ee-db25-4e4e-c096-af26a89b4781"
      },
      "source": [
        "drive.mount('/content/drive') # Монтируем гугл диск"
      ],
      "execution_count": null,
      "outputs": [
        {
          "output_type": "stream",
          "name": "stdout",
          "text": [
            "Mounted at /content/drive\n"
          ]
        }
      ]
    },
    {
      "cell_type": "markdown",
      "metadata": {
        "id": "2LjZ63rnMVUL"
      },
      "source": [
        "# Как устроен midi файл\n",
        "\n",
        "*Разбор данного раздела:* https://youtu.be/VS6DHal1xYw?t=581"
      ]
    },
    {
      "cell_type": "code",
      "metadata": {
        "id": "9L9kprh2qw3O"
      },
      "source": [
        "!unzip '/content/drive/MyDrive/Базы/Генерация_музыки/class.zip' -d './data/'\n",
        "clear_output()"
      ],
      "execution_count": null,
      "outputs": []
    },
    {
      "cell_type": "code",
      "metadata": {
        "colab": {
          "base_uri": "https://localhost:8080/"
        },
        "id": "_0gRV2Rn-Qfk",
        "outputId": "7206b471-58f3-4247-e25f-65e6aa33b315"
      },
      "source": [
        "midi = converter.parse('/content/data/alb_esp1.mid') # Функция парсит MIDI файл в удобный для работы формат\n",
        "midi"
      ],
      "execution_count": null,
      "outputs": [
        {
          "output_type": "execute_result",
          "data": {
            "text/plain": [
              "<music21.stream.Score 0x7f2bcec78be0>"
            ]
          },
          "metadata": {},
          "execution_count": 7
        }
      ]
    },
    {
      "cell_type": "code",
      "metadata": {
        "id": "x5kweFn1_c79",
        "colab": {
          "base_uri": "https://localhost:8080/"
        },
        "outputId": "b4047295-43b8-42cf-91a0-5eed7513b089"
      },
      "source": [
        "notes_to_parse = midi.flat.notes  # Функция, позволяющая получить список нот и аккордов в файле\n",
        "for element in notes_to_parse[0:40]:\n",
        "  print(element, element.offset) # Оффсет(смещение) позволяет проигрывать ноты в разное время"
      ],
      "execution_count": null,
      "outputs": [
        {
          "output_type": "stream",
          "name": "stdout",
          "text": [
            "<music21.note.Note A> 0.5\n",
            "<music21.note.Note A> 0.5\n",
            "<music21.note.Note E> 1.0\n",
            "<music21.note.Note E> 1.0\n",
            "<music21.note.Note D> 4.25\n",
            "<music21.note.Note D> 4.25\n",
            "<music21.note.Note E> 13/3\n",
            "<music21.note.Note E> 13/3\n",
            "<music21.note.Note D> 4.5\n",
            "<music21.note.Note D> 4.5\n",
            "<music21.note.Note C> 5.0\n",
            "<music21.note.Note C> 5.0\n",
            "<music21.note.Note D> 5.5\n",
            "<music21.note.Note D> 5.5\n",
            "<music21.note.Note E> 6.0\n",
            "<music21.note.Note E> 6.0\n",
            "<music21.note.Note F> 6.5\n",
            "<music21.note.Note F> 6.5\n",
            "<music21.note.Note G> 7.0\n",
            "<music21.note.Note G> 7.0\n",
            "<music21.note.Note E> 7.5\n",
            "<music21.note.Note E> 7.5\n",
            "<music21.note.Note F> 8.0\n",
            "<music21.note.Note F> 8.0\n",
            "<music21.note.Note E> 8.5\n",
            "<music21.note.Note E> 8.5\n",
            "<music21.note.Note D> 8.75\n",
            "<music21.note.Note E> 8.75\n",
            "<music21.note.Note D> 8.75\n",
            "<music21.note.Note E> 8.75\n",
            "<music21.note.Note D> 9.0\n",
            "<music21.note.Note D> 9.0\n",
            "<music21.note.Note C> 10.0\n",
            "<music21.note.Note C> 10.0\n",
            "<music21.note.Note B-> 11.0\n",
            "<music21.note.Note B-> 11.0\n",
            "<music21.note.Note A> 12.0\n",
            "<music21.note.Note A> 12.5\n",
            "<music21.note.Note E> 12.5\n",
            "<music21.note.Note C#> 13.0\n"
          ]
        }
      ]
    },
    {
      "cell_type": "code",
      "metadata": {
        "colab": {
          "base_uri": "https://localhost:8080/"
        },
        "id": "oZoACrR2Cy4I",
        "outputId": "b4c3078f-bc99-48dd-c568-2d4ddecdb07f"
      },
      "source": [
        "s2 = instrument.partitionByInstrument(midi) # Если в файле есть несколько инструментов\n",
        "s2.parts[0] # Берем только часть с пианино"
      ],
      "execution_count": null,
      "outputs": [
        {
          "output_type": "execute_result",
          "data": {
            "text/plain": [
              "<music21.stream.Part Piano>"
            ]
          },
          "metadata": {},
          "execution_count": 9
        }
      ]
    },
    {
      "cell_type": "markdown",
      "metadata": {
        "id": "9tBCSvfUMm5n"
      },
      "source": [
        "## Собираем список нот\n",
        "\n",
        "*Разбор данного раздела:* https://youtu.be/VS6DHal1xYw?t=858"
      ]
    },
    {
      "cell_type": "code",
      "metadata": {
        "colab": {
          "base_uri": "https://localhost:8080/"
        },
        "id": "Dz5vYd8bFy83",
        "outputId": "e7f076b2-a532-411b-99ab-de8d12b33d0b"
      },
      "source": [
        "notes = [] # Здесь будут храниться все ноты из всех файлов\n",
        "for i, file in enumerate(glob.glob(\"/content/data/*.mid\")):\n",
        "  midi = converter.parse(file) \n",
        "  print('\\r', 'Обрабатывается файл', i, \" \",file, end='')\n",
        "  notes_to_parse = None\n",
        "  try: # Если в файле нет разных иструментов \n",
        "    notes_to_parse = midi.flat.notes\n",
        "  except: # Если есть разные инструменты\n",
        "    s2 = instrument.partitionByInstrument(midi)\n",
        "    notes_to_parse = s2.parts[0].recurse() # Итератор\n",
        "\n",
        "\n",
        "  for element in notes_to_parse: # Добавляем в список ноту или аккорд\n",
        "    if isinstance(element, note.Note): # Если нота, просто добавляем ее\n",
        "      notes.append(str(element.pitch)) \n",
        "    elif isinstance(element, chord.Chord): # Если аккорд, то записываем числовой вариант всех нот через точку\n",
        "      notes.append('.'.join(str(n) for n in element.normalOrder))"
      ],
      "execution_count": null,
      "outputs": [
        {
          "output_type": "stream",
          "name": "stdout",
          "text": [
            " Обрабатывается файл 80   /content/data/chpn-p6.mid"
          ]
        }
      ]
    },
    {
      "cell_type": "code",
      "metadata": {
        "id": "ET-nWijjbsr8"
      },
      "source": [
        "notes_ = []\n",
        "midi = converter.parse('/content/data/alb_esp1.mid') \n",
        "s2 = instrument.partitionByInstrument(midi)\n",
        "notes_to_parse = s2.parts[0].recurse() # Итератор\n",
        "for element in notes_to_parse: # Добавляем в список ноту или аккорд\n",
        "    # if isinstance(element, note.Note): # Если нота, просто добавляем ее\n",
        "    #     notes_.append(str(element.pitch)) \n",
        "    if isinstance(element, chord.Chord): # Если аккорд, то записываем числовой вариант всех нот через точку\n",
        "        notes_.append('.'.join(str(n) for n in element.normalOrder))"
      ],
      "execution_count": null,
      "outputs": []
    },
    {
      "cell_type": "code",
      "metadata": {
        "colab": {
          "base_uri": "https://localhost:8080/"
        },
        "id": "TNiC8DLUa5_c",
        "outputId": "6c5275ef-93e1-4983-b206-09e2e6ce64cb"
      },
      "source": [
        "notes_[:10]"
      ],
      "execution_count": null,
      "outputs": [
        {
          "output_type": "execute_result",
          "data": {
            "text/plain": [
              "['1.4', '10.2.4', '1.4', '10.2.4', '4.10', '2.8', '4.9', '9.1.4']"
            ]
          },
          "metadata": {
            "tags": []
          },
          "execution_count": 19
        }
      ]
    },
    {
      "cell_type": "markdown",
      "metadata": {
        "id": "YBmFq3JDlW8Y"
      },
      "source": [
        "## Сохраняем полученный список на диск и загружаем\n",
        "\n",
        "*Разбор данного раздела:* https://youtu.be/VS6DHal1xYw?t=1200\n",
        "\n",
        "\n"
      ]
    },
    {
      "cell_type": "markdown",
      "metadata": {
        "id": "JVK7EOyplpz_"
      },
      "source": [
        "Сохранение"
      ]
    },
    {
      "cell_type": "code",
      "metadata": {
        "id": "enBKo7JwJo5V"
      },
      "source": [
        "with open('notes', 'wb') as filepath:\n",
        "  pickle.dump(notes, filepath)"
      ],
      "execution_count": null,
      "outputs": []
    },
    {
      "cell_type": "markdown",
      "metadata": {
        "id": "mnDgeFV-l2FT"
      },
      "source": [
        "Загрузка"
      ]
    },
    {
      "cell_type": "code",
      "metadata": {
        "id": "YQvDcg_illjy"
      },
      "source": [
        "with open ('/content/notes', 'rb') as file:\n",
        "  notes = pickle.load(file)"
      ],
      "execution_count": null,
      "outputs": []
    },
    {
      "cell_type": "markdown",
      "metadata": {
        "id": "XaJiOPdRlgGA"
      },
      "source": [
        "# Подготовка данных"
      ]
    },
    {
      "cell_type": "code",
      "metadata": {
        "colab": {
          "base_uri": "https://localhost:8080/"
        },
        "id": "bBPGdbY5YPTn",
        "outputId": "ed9270c8-85ee-45ca-83ff-9ea5fea40f01"
      },
      "source": [
        "notes[510:520]"
      ],
      "execution_count": null,
      "outputs": [
        {
          "output_type": "execute_result",
          "data": {
            "text/plain": [
              "['6.9', '6.9', '6.9', '3.9', '6.9.0', '6.9.0', '4', '7.11', '7.11', '7.11']"
            ]
          },
          "metadata": {},
          "execution_count": 14
        }
      ]
    },
    {
      "cell_type": "code",
      "metadata": {
        "colab": {
          "base_uri": "https://localhost:8080/"
        },
        "id": "rtcFhb99Yhb_",
        "outputId": "405c74f9-c1a3-44c7-e32e-e7eb86bc8723"
      },
      "source": [
        "len(notes)"
      ],
      "execution_count": null,
      "outputs": [
        {
          "output_type": "execute_result",
          "data": {
            "text/plain": [
              "139269"
            ]
          },
          "metadata": {},
          "execution_count": 15
        }
      ]
    },
    {
      "cell_type": "code",
      "metadata": {
        "colab": {
          "base_uri": "https://localhost:8080/"
        },
        "id": "10A_xfLtNAFz",
        "outputId": "9838145f-dff9-44c4-80ac-7a0077f35c6c"
      },
      "source": [
        "n_list = set(notes) # Уникальные ноты и аккорды\n",
        "len(n_list) # Их количество"
      ],
      "execution_count": null,
      "outputs": [
        {
          "output_type": "execute_result",
          "data": {
            "text/plain": [
              "351"
            ]
          },
          "metadata": {},
          "execution_count": 16
        }
      ]
    },
    {
      "cell_type": "code",
      "metadata": {
        "id": "oSF7rgV-Nhtj"
      },
      "source": [
        "sequence_length = 100 # длина последовательности нот/аккордов, по которой сеть будет делать предсказания\n",
        "\n",
        "# Получаем отсортированный список всех уникальных нот и аккордов\n",
        "pitchnames = sorted(n_list)\n",
        "\n",
        "# Создаем словарь, сопоставляющий ноту/аккорд числу(int)\n",
        "note_to_int = dict((note, number) for number, note in enumerate(pitchnames)) \n",
        "\n",
        "network_input = [] # Список со всеми последовательностями\n",
        "network_output = [] # Список со всеми элементами, идущими после последовательности\n",
        "\n",
        "# Создаем обучающую выборку\n",
        "for i in range(0, len(notes) - sequence_length, 1):\n",
        "  sequence_in = notes[i:i + sequence_length] # Выбираем последовательность длины sequence_length\n",
        "  sequence_out = notes[i + sequence_length]  # Следующий за последовательностью элемент\n",
        "  network_input.append([note_to_int[char] for char in sequence_in]) # Добавляем в список последовательность, предварительно переведя все ноты/аккорды в числа\n",
        "  network_output.append(note_to_int[sequence_out]) # Добавляем в список следующий за последовательностью элемент, переведя его в число\n",
        "\n",
        "n_patterns = len(network_input) # Количество полученных последовательностей\n",
        "\n",
        "# Делаем решейп, чтобы сеть могла обучаться\n",
        "network_input = np.reshape(network_input, (n_patterns, sequence_length, 1))\n",
        "# Нормализируем входные данные\n",
        "network_input = network_input / float(len(n_list))\n",
        "# Выходые данные преобразуем в one-hot encoding\n",
        "network_output = np.array(network_output)\n",
        "# network_output = keras.utils.to_categorical(network_output)"
      ],
      "execution_count": null,
      "outputs": []
    },
    {
      "cell_type": "code",
      "metadata": {
        "colab": {
          "base_uri": "https://localhost:8080/"
        },
        "id": "oo3yxV9GUCbg",
        "outputId": "a64785a3-feda-4f52-b573-b98c9e10f302"
      },
      "source": [
        "network_input.shape"
      ],
      "execution_count": null,
      "outputs": [
        {
          "output_type": "execute_result",
          "data": {
            "text/plain": [
              "(139169, 100, 1)"
            ]
          },
          "metadata": {},
          "execution_count": 18
        }
      ]
    },
    {
      "cell_type": "markdown",
      "metadata": {
        "id": "fChlLNWmbRsj"
      },
      "source": [
        "# Архитектура сети\n",
        "\n",
        "*Разбор данного раздела:* https://youtu.be/VS6DHal1xYw?t=1557"
      ]
    },
    {
      "cell_type": "code",
      "metadata": {
        "id": "1d1pQ2vqLkCc"
      },
      "source": [
        "def create_network(network_input, n_list, dropout=0.3):\n",
        "\n",
        "    model = Sequential()\n",
        "    model.add(LSTM(\n",
        "                        256,\n",
        "                        input_shape=(network_input.shape[1], network_input.shape[2]),\n",
        "                        return_sequences=True \n",
        "                        ))\n",
        "    model.add(Dropout(dropout))\n",
        "    model.add(LSTM(256, return_sequences=True))\n",
        "    model.add(Dropout(dropout))\n",
        "    model.add(LSTM(256))\n",
        "    model.add(Dense(128))\n",
        "    model.add(Dropout(dropout))\n",
        "    model.add(Dense(len(n_list)))\n",
        "    model.add(Activation('softmax'))\n",
        "    model.compile(loss='sparse_categorical_crossentropy', optimizer='rmsprop', metrics=['accuracy'])\n",
        "\n",
        "    return model"
      ],
      "execution_count": null,
      "outputs": []
    },
    {
      "cell_type": "code",
      "metadata": {
        "colab": {
          "base_uri": "https://localhost:8080/"
        },
        "id": "XvWJBRxoCQic",
        "outputId": "be3507dc-d8b8-4ae9-b686-50b776e6b081"
      },
      "source": [
        "model = create_network(network_input, n_list)\n",
        "model.summary()"
      ],
      "execution_count": null,
      "outputs": [
        {
          "output_type": "stream",
          "name": "stdout",
          "text": [
            "Model: \"sequential\"\n",
            "_________________________________________________________________\n",
            " Layer (type)                Output Shape              Param #   \n",
            "=================================================================\n",
            " lstm (LSTM)                 (None, 100, 256)          264192    \n",
            "                                                                 \n",
            " dropout (Dropout)           (None, 100, 256)          0         \n",
            "                                                                 \n",
            " lstm_1 (LSTM)               (None, 100, 256)          525312    \n",
            "                                                                 \n",
            " dropout_1 (Dropout)         (None, 100, 256)          0         \n",
            "                                                                 \n",
            " lstm_2 (LSTM)               (None, 256)               525312    \n",
            "                                                                 \n",
            " dense (Dense)               (None, 128)               32896     \n",
            "                                                                 \n",
            " dropout_2 (Dropout)         (None, 128)               0         \n",
            "                                                                 \n",
            " dense_1 (Dense)             (None, 351)               45279     \n",
            "                                                                 \n",
            " activation (Activation)     (None, 351)               0         \n",
            "                                                                 \n",
            "=================================================================\n",
            "Total params: 1,392,991\n",
            "Trainable params: 1,392,991\n",
            "Non-trainable params: 0\n",
            "_________________________________________________________________\n"
          ]
        }
      ]
    },
    {
      "cell_type": "markdown",
      "metadata": {
        "id": "_OwUG51Jb47Y"
      },
      "source": [
        "Для обучения сети использовался ModelCheckpoint, позволяющий сохранять веса в процессе обучения"
      ]
    },
    {
      "cell_type": "code",
      "metadata": {
        "colab": {
          "base_uri": "https://localhost:8080/"
        },
        "id": "AcaSjOqO3KId",
        "outputId": "61edb2cd-0feb-4263-afd9-181e45ae325a"
      },
      "source": [
        "filepath = \"/content/drive/MyDrive/Базы/Генерация_музыки/weights-improvement-{epoch:02d}-{loss:.4f}.hdf5\"    # Где и с каким именем сохраняются веса\n",
        "checkpoint = ModelCheckpoint(filepath,\n",
        "                            monitor='loss',\n",
        "                            verbose=0,\n",
        "                            save_weights_only = True, # Сохраняем только веса   \n",
        "                            save_best_only=True,      # Сохраняем только при уменьшении ошибки\n",
        "                            mode='min',\n",
        "                            )    \n",
        "callbacks_list = [checkpoint]   \n",
        "\n",
        "model.fit(network_input, network_output, epochs=20, \n",
        "          batch_size=128, callbacks=callbacks_list)"
      ],
      "execution_count": null,
      "outputs": [
        {
          "output_type": "stream",
          "name": "stdout",
          "text": [
            "Epoch 1/20\n",
            "1088/1088 [==============================] - 60s 55ms/step - loss: 4.5451 - accuracy: 0.0298\n",
            "Epoch 2/20\n",
            "1088/1088 [==============================] - 55s 51ms/step - loss: 4.5228 - accuracy: 0.0317\n",
            "Epoch 3/20\n",
            "1088/1088 [==============================] - 58s 53ms/step - loss: 4.4894 - accuracy: 0.0365\n",
            "Epoch 4/20\n",
            "1088/1088 [==============================] - 57s 52ms/step - loss: 4.4539 - accuracy: 0.0407\n",
            "Epoch 5/20\n",
            "1088/1088 [==============================] - 57s 52ms/step - loss: 4.4175 - accuracy: 0.0450\n",
            "Epoch 6/20\n",
            "1088/1088 [==============================] - 59s 54ms/step - loss: 4.3734 - accuracy: 0.0502\n",
            "Epoch 7/20\n",
            "1088/1088 [==============================] - 55s 51ms/step - loss: 4.3211 - accuracy: 0.0581\n",
            "Epoch 8/20\n",
            "1088/1088 [==============================] - 55s 50ms/step - loss: 4.2510 - accuracy: 0.0679\n",
            "Epoch 9/20\n",
            "1088/1088 [==============================] - 56s 51ms/step - loss: 4.1752 - accuracy: 0.0782\n",
            "Epoch 10/20\n",
            "1088/1088 [==============================] - 57s 52ms/step - loss: 4.0899 - accuracy: 0.0890\n",
            "Epoch 11/20\n",
            "1088/1088 [==============================] - 55s 51ms/step - loss: 4.0052 - accuracy: 0.1003\n",
            "Epoch 12/20\n",
            "1088/1088 [==============================] - 58s 53ms/step - loss: 3.9180 - accuracy: 0.1107\n",
            "Epoch 13/20\n",
            "1088/1088 [==============================] - 57s 53ms/step - loss: 3.8375 - accuracy: 0.1211\n",
            "Epoch 14/20\n",
            "1088/1088 [==============================] - 56s 52ms/step - loss: 3.7565 - accuracy: 0.1312\n",
            "Epoch 15/20\n",
            "1088/1088 [==============================] - 57s 52ms/step - loss: 3.6897 - accuracy: 0.1396\n",
            "Epoch 16/20\n",
            "1088/1088 [==============================] - 58s 53ms/step - loss: 3.6282 - accuracy: 0.1497\n",
            "Epoch 17/20\n",
            "1088/1088 [==============================] - 56s 52ms/step - loss: 3.5739 - accuracy: 0.1566\n",
            "Epoch 18/20\n",
            "1088/1088 [==============================] - 56s 51ms/step - loss: 3.5178 - accuracy: 0.1659\n",
            "Epoch 19/20\n",
            "1088/1088 [==============================] - 57s 52ms/step - loss: 3.4710 - accuracy: 0.1729\n",
            "Epoch 20/20\n",
            "1088/1088 [==============================] - 55s 50ms/step - loss: 3.4240 - accuracy: 0.1807\n"
          ]
        },
        {
          "output_type": "execute_result",
          "data": {
            "text/plain": [
              "<keras.callbacks.History at 0x7f2bc7741b80>"
            ]
          },
          "metadata": {},
          "execution_count": 22
        }
      ]
    },
    {
      "cell_type": "markdown",
      "source": [
        "# Иссл.№1. Сеть с одним LSTM слоем\n"
      ],
      "metadata": {
        "id": "5w6_XIHCecSv"
      }
    },
    {
      "cell_type": "code",
      "metadata": {
        "id": "ohyli57ve4FD"
      },
      "source": [
        "def create_network_LSTM_1(network_input, n_list, dropout=0.3):\n",
        "\n",
        "    model = Sequential()\n",
        "    model.add(LSTM(\n",
        "                        256,\n",
        "                        input_shape=(network_input.shape[1], network_input.shape[2]),\n",
        "                        return_sequences=True \n",
        "                        ))\n",
        "    model.add(Dropout(dropout))    \n",
        "    model.add(Dense(128))\n",
        "    model.add(Dropout(dropout))\n",
        "    model.add(Flatten())\n",
        "    model.add(Dense(len(n_list)))\n",
        "    model.add(Activation('softmax'))\n",
        "    model.compile(loss='sparse_categorical_crossentropy', optimizer='rmsprop', metrics=['accuracy'])\n",
        "\n",
        "    return model"
      ],
      "execution_count": null,
      "outputs": []
    },
    {
      "cell_type": "code",
      "metadata": {
        "colab": {
          "base_uri": "https://localhost:8080/"
        },
        "outputId": "c2415eaa-920a-4525-d49f-015f0bde2461",
        "id": "ybrOdL2He4FE"
      },
      "source": [
        "model_LSTM_1 = create_network_LSTM_1(network_input, n_list)\n",
        "model_LSTM_1.summary()"
      ],
      "execution_count": null,
      "outputs": [
        {
          "output_type": "stream",
          "name": "stdout",
          "text": [
            "Model: \"sequential_3\"\n",
            "_________________________________________________________________\n",
            " Layer (type)                Output Shape              Param #   \n",
            "=================================================================\n",
            " lstm_7 (LSTM)               (None, 100, 256)          264192    \n",
            "                                                                 \n",
            " dropout_8 (Dropout)         (None, 100, 256)          0         \n",
            "                                                                 \n",
            " dense_6 (Dense)             (None, 100, 128)          32896     \n",
            "                                                                 \n",
            " dropout_9 (Dropout)         (None, 100, 128)          0         \n",
            "                                                                 \n",
            " flatten (Flatten)           (None, 12800)             0         \n",
            "                                                                 \n",
            " dense_7 (Dense)             (None, 351)               4493151   \n",
            "                                                                 \n",
            " activation_3 (Activation)   (None, 351)               0         \n",
            "                                                                 \n",
            "=================================================================\n",
            "Total params: 4,790,239\n",
            "Trainable params: 4,790,239\n",
            "Non-trainable params: 0\n",
            "_________________________________________________________________\n"
          ]
        }
      ]
    },
    {
      "cell_type": "markdown",
      "metadata": {
        "id": "09VBwrf5e4FG"
      },
      "source": [
        "Для обучения сети использовался ModelCheckpoint, позволяющий сохранять веса в процессе обучения"
      ]
    },
    {
      "cell_type": "code",
      "metadata": {
        "colab": {
          "base_uri": "https://localhost:8080/"
        },
        "outputId": "4f668781-6b67-4def-f799-ed2266195c01",
        "id": "FhcXD_25e4FH"
      },
      "source": [
        "filepath = \"/content/drive/MyDrive/Базы/Генерация_музыки/weights-improvement-LSTM_1-{epoch:02d}-{loss:.4f}.hdf5\"    # Где и с каким именем сохраняются веса\n",
        "checkpoint = ModelCheckpoint(filepath,\n",
        "                            monitor='loss',\n",
        "                            verbose=0,\n",
        "                            save_weights_only = True, # Сохраняем только веса   \n",
        "                            save_best_only=True,      # Сохраняем только при уменьшении ошибки\n",
        "                            mode='min',\n",
        "                            )    \n",
        "callbacks_list = [checkpoint]   \n",
        "\n",
        "model_LSTM_1.fit(network_input, network_output, epochs=20, \n",
        "          batch_size=128, callbacks=callbacks_list)"
      ],
      "execution_count": null,
      "outputs": [
        {
          "output_type": "stream",
          "name": "stdout",
          "text": [
            "Epoch 1/20\n",
            "1088/1088 [==============================] - 23s 19ms/step - loss: 4.6153 - accuracy: 0.0262\n",
            "Epoch 2/20\n",
            "1088/1088 [==============================] - 21s 20ms/step - loss: 4.5227 - accuracy: 0.0350\n",
            "Epoch 3/20\n",
            "1088/1088 [==============================] - 20s 18ms/step - loss: 4.4907 - accuracy: 0.0360\n",
            "Epoch 4/20\n",
            "1088/1088 [==============================] - 23s 21ms/step - loss: 4.4738 - accuracy: 0.0373\n",
            "Epoch 5/20\n",
            "1088/1088 [==============================] - 20s 18ms/step - loss: 4.4594 - accuracy: 0.0382\n",
            "Epoch 6/20\n",
            "1088/1088 [==============================] - 20s 19ms/step - loss: 4.4461 - accuracy: 0.0403\n",
            "Epoch 7/20\n",
            "1088/1088 [==============================] - 20s 18ms/step - loss: 4.4295 - accuracy: 0.0417\n",
            "Epoch 8/20\n",
            "1088/1088 [==============================] - 20s 18ms/step - loss: 4.4044 - accuracy: 0.0444\n",
            "Epoch 9/20\n",
            "1088/1088 [==============================] - 20s 18ms/step - loss: 4.3811 - accuracy: 0.0473\n",
            "Epoch 10/20\n",
            "1088/1088 [==============================] - 20s 18ms/step - loss: 4.3570 - accuracy: 0.0506\n",
            "Epoch 11/20\n",
            "1088/1088 [==============================] - 21s 19ms/step - loss: 4.3301 - accuracy: 0.0547\n",
            "Epoch 12/20\n",
            "1088/1088 [==============================] - 20s 18ms/step - loss: 4.3027 - accuracy: 0.0583\n",
            "Epoch 13/20\n",
            "1088/1088 [==============================] - 20s 18ms/step - loss: 4.2702 - accuracy: 0.0638\n",
            "Epoch 14/20\n",
            "1088/1088 [==============================] - 20s 18ms/step - loss: 4.2357 - accuracy: 0.0704\n",
            "Epoch 15/20\n",
            "1088/1088 [==============================] - 20s 18ms/step - loss: 4.2000 - accuracy: 0.0757\n",
            "Epoch 16/20\n",
            "1088/1088 [==============================] - 20s 18ms/step - loss: 4.1575 - accuracy: 0.0825\n",
            "Epoch 17/20\n",
            "1088/1088 [==============================] - 20s 18ms/step - loss: 4.1130 - accuracy: 0.0890\n",
            "Epoch 18/20\n",
            "1088/1088 [==============================] - 20s 18ms/step - loss: 4.0670 - accuracy: 0.0975\n",
            "Epoch 19/20\n",
            "1088/1088 [==============================] - 20s 19ms/step - loss: 4.0175 - accuracy: 0.1068\n",
            "Epoch 20/20\n",
            "1088/1088 [==============================] - 20s 18ms/step - loss: 3.9694 - accuracy: 0.1136\n"
          ]
        },
        {
          "output_type": "execute_result",
          "data": {
            "text/plain": [
              "<keras.callbacks.History at 0x7f2bcd4a9ee0>"
            ]
          },
          "metadata": {},
          "execution_count": 31
        }
      ]
    },
    {
      "cell_type": "markdown",
      "source": [
        "# Иссл.№2. Сеть с двумя LSTM слоями"
      ],
      "metadata": {
        "id": "8F_Mk426fthq"
      }
    },
    {
      "cell_type": "code",
      "metadata": {
        "id": "NkMVgOQPgNfG"
      },
      "source": [
        "def create_network_LSTM_2(network_input, n_list, dropout=0.3):\n",
        "\n",
        "    model = Sequential()\n",
        "    model.add(LSTM(\n",
        "                        256,\n",
        "                        input_shape=(network_input.shape[1], network_input.shape[2]),\n",
        "                        return_sequences=True \n",
        "                        ))\n",
        "    model.add(Dropout(dropout))\n",
        "    model.add(LSTM(256, return_sequences=True))\n",
        "    model.add(Dropout(dropout))\n",
        "    model.add(Flatten())    \n",
        "    model.add(Dense(128))\n",
        "    model.add(Dropout(dropout))\n",
        "    model.add(Dense(len(n_list)))\n",
        "    model.add(Activation('softmax'))\n",
        "    model.compile(loss='sparse_categorical_crossentropy', optimizer='rmsprop', metrics=['accuracy'])\n",
        "\n",
        "    return model"
      ],
      "execution_count": null,
      "outputs": []
    },
    {
      "cell_type": "code",
      "metadata": {
        "colab": {
          "base_uri": "https://localhost:8080/"
        },
        "outputId": "ed22c825-f658-4c83-8246-0c644fecb60b",
        "id": "nR7s3ImDgNfH"
      },
      "source": [
        "model_LSTM_2 = create_network_LSTM_2(network_input, n_list)\n",
        "model_LSTM_2.summary()"
      ],
      "execution_count": null,
      "outputs": [
        {
          "output_type": "stream",
          "name": "stdout",
          "text": [
            "Model: \"sequential_4\"\n",
            "_________________________________________________________________\n",
            " Layer (type)                Output Shape              Param #   \n",
            "=================================================================\n",
            " lstm_8 (LSTM)               (None, 100, 256)          264192    \n",
            "                                                                 \n",
            " dropout_10 (Dropout)        (None, 100, 256)          0         \n",
            "                                                                 \n",
            " lstm_9 (LSTM)               (None, 100, 256)          525312    \n",
            "                                                                 \n",
            " dropout_11 (Dropout)        (None, 100, 256)          0         \n",
            "                                                                 \n",
            " flatten_1 (Flatten)         (None, 25600)             0         \n",
            "                                                                 \n",
            " dense_8 (Dense)             (None, 128)               3276928   \n",
            "                                                                 \n",
            " dropout_12 (Dropout)        (None, 128)               0         \n",
            "                                                                 \n",
            " dense_9 (Dense)             (None, 351)               45279     \n",
            "                                                                 \n",
            " activation_4 (Activation)   (None, 351)               0         \n",
            "                                                                 \n",
            "=================================================================\n",
            "Total params: 4,111,711\n",
            "Trainable params: 4,111,711\n",
            "Non-trainable params: 0\n",
            "_________________________________________________________________\n"
          ]
        }
      ]
    },
    {
      "cell_type": "markdown",
      "metadata": {
        "id": "1S5efIoegNfI"
      },
      "source": [
        "Для обучения сети использовался ModelCheckpoint, позволяющий сохранять веса в процессе обучения"
      ]
    },
    {
      "cell_type": "code",
      "metadata": {
        "colab": {
          "base_uri": "https://localhost:8080/"
        },
        "outputId": "33af90cd-0bc2-40db-8965-c1f93e343573",
        "id": "DpzEYXnwgNfI"
      },
      "source": [
        "filepath = \"/content/drive/MyDrive/Базы/Генерация_музыки/weights-improvement-LSTM_2-{epoch:02d}-{loss:.4f}.hdf5\"    # Где и с каким именем сохраняются веса\n",
        "checkpoint = ModelCheckpoint(filepath,\n",
        "                            monitor='loss',\n",
        "                            verbose=0,\n",
        "                            save_weights_only = True, # Сохраняем только веса   \n",
        "                            save_best_only=True,      # Сохраняем только при уменьшении ошибки\n",
        "                            mode='min',\n",
        "                            )    \n",
        "callbacks_list = [checkpoint]   \n",
        "\n",
        "model_LSTM_2.fit(network_input, network_output, epochs=20, \n",
        "          batch_size=128, callbacks=callbacks_list)"
      ],
      "execution_count": null,
      "outputs": [
        {
          "output_type": "stream",
          "name": "stdout",
          "text": [
            "Epoch 1/20\n",
            "1088/1088 [==============================] - 41s 34ms/step - loss: 4.6418 - accuracy: 0.0251\n",
            "Epoch 2/20\n",
            "1088/1088 [==============================] - 36s 33ms/step - loss: 4.5592 - accuracy: 0.0300\n",
            "Epoch 3/20\n",
            "1088/1088 [==============================] - 37s 34ms/step - loss: 4.5410 - accuracy: 0.0328\n",
            "Epoch 4/20\n",
            "1088/1088 [==============================] - 37s 34ms/step - loss: 4.5282 - accuracy: 0.0351\n",
            "Epoch 5/20\n",
            "1088/1088 [==============================] - 37s 34ms/step - loss: 4.5150 - accuracy: 0.0363\n",
            "Epoch 6/20\n",
            "1088/1088 [==============================] - 37s 34ms/step - loss: 4.5075 - accuracy: 0.0372\n",
            "Epoch 7/20\n",
            "1088/1088 [==============================] - 37s 34ms/step - loss: 4.4965 - accuracy: 0.0383\n",
            "Epoch 8/20\n",
            "1088/1088 [==============================] - 37s 34ms/step - loss: 4.4772 - accuracy: 0.0415\n",
            "Epoch 9/20\n",
            "1088/1088 [==============================] - 37s 34ms/step - loss: 4.4651 - accuracy: 0.0415\n",
            "Epoch 10/20\n",
            "1088/1088 [==============================] - 37s 34ms/step - loss: 4.4587 - accuracy: 0.0423\n",
            "Epoch 11/20\n",
            "1088/1088 [==============================] - 37s 34ms/step - loss: 4.4513 - accuracy: 0.0435\n",
            "Epoch 12/20\n",
            "1088/1088 [==============================] - 37s 34ms/step - loss: 4.4428 - accuracy: 0.0452\n",
            "Epoch 13/20\n",
            "1088/1088 [==============================] - 36s 33ms/step - loss: 4.4365 - accuracy: 0.0453\n",
            "Epoch 14/20\n",
            "1088/1088 [==============================] - 37s 34ms/step - loss: 4.4299 - accuracy: 0.0456\n",
            "Epoch 15/20\n",
            "1088/1088 [==============================] - 37s 34ms/step - loss: 4.4258 - accuracy: 0.0466\n",
            "Epoch 16/20\n",
            "1088/1088 [==============================] - 37s 34ms/step - loss: 4.4132 - accuracy: 0.0482\n",
            "Epoch 17/20\n",
            "1088/1088 [==============================] - 37s 34ms/step - loss: 4.4069 - accuracy: 0.0489\n",
            "Epoch 18/20\n",
            "1088/1088 [==============================] - 37s 34ms/step - loss: 4.3961 - accuracy: 0.0506\n",
            "Epoch 19/20\n",
            "1088/1088 [==============================] - 37s 34ms/step - loss: 4.3850 - accuracy: 0.0527\n",
            "Epoch 20/20\n",
            "1088/1088 [==============================] - 37s 34ms/step - loss: 4.3717 - accuracy: 0.0548\n"
          ]
        },
        {
          "output_type": "execute_result",
          "data": {
            "text/plain": [
              "<keras.callbacks.History at 0x7f2bcd95bdc0>"
            ]
          },
          "metadata": {},
          "execution_count": 34
        }
      ]
    },
    {
      "cell_type": "markdown",
      "source": [
        "# Иссл.№3. Сеть с bi-directional LSTM вместо обычных LSTM"
      ],
      "metadata": {
        "id": "RnrjT7UTgakJ"
      }
    },
    {
      "cell_type": "code",
      "source": [
        "from keras.layers import Bidirectional"
      ],
      "metadata": {
        "id": "bSmDp9mbhPY7"
      },
      "execution_count": null,
      "outputs": []
    },
    {
      "cell_type": "code",
      "metadata": {
        "id": "oWCdQ28pgtvk"
      },
      "source": [
        "def create_network_Bidirectional_LSTM(network_input, n_list, dropout=0.3):\n",
        "\n",
        "    model = Sequential()\n",
        "    model.add(Bidirectional(LSTM(256, input_shape=(network_input.shape[1], network_input.shape[2]), return_sequences=True)))\n",
        "    model.add(Dropout(dropout))\n",
        "    model.add(Bidirectional(LSTM(256, return_sequences=True)))\n",
        "    model.add(Dropout(dropout))\n",
        "    model.add(Bidirectional(LSTM(256)))\n",
        "    model.add(Flatten())\n",
        "    model.add(Dense(128))\n",
        "    model.add(Dropout(dropout))\n",
        "    model.add(Dense(len(n_list)))\n",
        "    model.add(Activation('softmax'))\n",
        "    model.compile(loss='sparse_categorical_crossentropy', optimizer='rmsprop', metrics=['accuracy'])\n",
        "\n",
        "    return model"
      ],
      "execution_count": null,
      "outputs": []
    },
    {
      "cell_type": "code",
      "metadata": {
        "id": "FhPap7yzgtvl"
      },
      "source": [
        "model_Bidirectional_LSTM = create_network_Bidirectional_LSTM(network_input, n_list)\n",
        "# model_Bidirectional_LSTM.summary()"
      ],
      "execution_count": null,
      "outputs": []
    },
    {
      "cell_type": "markdown",
      "metadata": {
        "id": "L8dxM5x1gtvl"
      },
      "source": [
        "Для обучения сети использовался ModelCheckpoint, позволяющий сохранять веса в процессе обучения"
      ]
    },
    {
      "cell_type": "code",
      "metadata": {
        "colab": {
          "base_uri": "https://localhost:8080/"
        },
        "outputId": "be360acc-4da9-4378-a68b-8b7b13384380",
        "id": "C_7ePGyHgtvl"
      },
      "source": [
        "filepath = \"/content/drive/MyDrive/Базы/Генерация_музыки/weights-improvement-Bidirectional_LSTM-{epoch:02d}-{loss:.4f}.hdf5\"    # Где и с каким именем сохраняются веса\n",
        "checkpoint = ModelCheckpoint(filepath,\n",
        "                            monitor='loss',\n",
        "                            verbose=0,\n",
        "                            save_weights_only = True, # Сохраняем только веса   \n",
        "                            save_best_only=True,      # Сохраняем только при уменьшении ошибки\n",
        "                            mode='min',\n",
        "                            )    \n",
        "callbacks_list = [checkpoint]   \n",
        "\n",
        "model_Bidirectional_LSTM.fit(network_input, network_output, epochs=20, \n",
        "          batch_size=128, callbacks=callbacks_list)"
      ],
      "execution_count": null,
      "outputs": [
        {
          "output_type": "stream",
          "name": "stdout",
          "text": [
            "Epoch 1/20\n",
            "1088/1088 [==============================] - 237s 124ms/step - loss: 4.6323 - accuracy: 0.0242\n",
            "Epoch 2/20\n",
            "1088/1088 [==============================] - 136s 125ms/step - loss: 4.5648 - accuracy: 0.0277\n",
            "Epoch 3/20\n",
            "1088/1088 [==============================] - 136s 125ms/step - loss: 4.5400 - accuracy: 0.0302\n",
            "Epoch 4/20\n",
            "1088/1088 [==============================] - 136s 125ms/step - loss: 4.5193 - accuracy: 0.0330\n",
            "Epoch 5/20\n",
            "1088/1088 [==============================] - 136s 125ms/step - loss: 4.4978 - accuracy: 0.0356\n",
            "Epoch 6/20\n",
            "1088/1088 [==============================] - 136s 125ms/step - loss: 4.4711 - accuracy: 0.0385\n",
            "Epoch 7/20\n",
            "1088/1088 [==============================] - 136s 125ms/step - loss: 4.4388 - accuracy: 0.0431\n",
            "Epoch 8/20\n",
            "1088/1088 [==============================] - 136s 125ms/step - loss: 4.3965 - accuracy: 0.0486\n",
            "Epoch 9/20\n",
            "1088/1088 [==============================] - 136s 125ms/step - loss: 4.3379 - accuracy: 0.0575\n",
            "Epoch 10/20\n",
            "1088/1088 [==============================] - 136s 125ms/step - loss: 4.2418 - accuracy: 0.0712\n",
            "Epoch 11/20\n",
            "1088/1088 [==============================] - 135s 125ms/step - loss: 4.1311 - accuracy: 0.0841\n",
            "Epoch 12/20\n",
            "1088/1088 [==============================] - 136s 125ms/step - loss: 4.0253 - accuracy: 0.0973\n",
            "Epoch 13/20\n",
            "1088/1088 [==============================] - 136s 125ms/step - loss: 3.9178 - accuracy: 0.1106\n",
            "Epoch 14/20\n",
            "1088/1088 [==============================] - 136s 125ms/step - loss: 3.8217 - accuracy: 0.1240\n",
            "Epoch 15/20\n",
            "1088/1088 [==============================] - 136s 125ms/step - loss: 3.7323 - accuracy: 0.1350\n",
            "Epoch 16/20\n",
            "1088/1088 [==============================] - 136s 125ms/step - loss: 3.6556 - accuracy: 0.1441\n",
            "Epoch 17/20\n",
            "1088/1088 [==============================] - 137s 126ms/step - loss: 3.5900 - accuracy: 0.1551\n",
            "Epoch 18/20\n",
            "1088/1088 [==============================] - 139s 128ms/step - loss: 3.5250 - accuracy: 0.1643\n",
            "Epoch 19/20\n",
            "1088/1088 [==============================] - 138s 127ms/step - loss: 3.4655 - accuracy: 0.1743\n",
            "Epoch 20/20\n",
            "1088/1088 [==============================] - 136s 125ms/step - loss: 3.4134 - accuracy: 0.1833\n"
          ]
        },
        {
          "output_type": "execute_result",
          "data": {
            "text/plain": [
              "<keras.callbacks.History at 0x7f2bcdb56580>"
            ]
          },
          "metadata": {},
          "execution_count": 45
        }
      ]
    },
    {
      "cell_type": "markdown",
      "source": [
        "# Выводы"
      ],
      "metadata": {
        "id": "3lJ4DGywIsyc"
      }
    },
    {
      "cell_type": "markdown",
      "source": [
        "Лучший результат точности и ошибки показала созданная в ходе занятия нейронная сеть: loss = 3.4240 , accuracy = 0.1807, время на эпоху = 52с. \n",
        "\n",
        "В 2 раза быстрее обучилась сеть с одним LSTM слоем и результат точности оказался немного хуже, а ошибка меньше:  loss = 3.9694 , accuracy = 0.1136, время на эпоху = 20с.\n",
        "\n",
        "Немного получше результат точности и ошибки у сети с Bidirectional_LSTM слоями , но врмя, затраченное на одну эпоху = 136с, что в разы больше данного показателя у других сетей, loss = 3.4134 , accuracy = 0.1833.\n",
        "\n",
        "Хуже всех оказался результат у сети с 2-мя LSTM слоями. Возможно на большом количестве эпох она дала бы лучший результат. \n",
        "\n",
        "Обобщая выше изложенные результаты можно сделать вывод, что использование Bidirectional_LSTM слоев требует очень больших ресурсов, а лучший результат может дать однослойная LSTM сеть. И может быть следует брать окно поменьше для обработки признаков, так будет побыстрее, но это не точноПоэтому нужно начинать исследования от простого к сложному. \n",
        "\n"
      ],
      "metadata": {
        "id": "VmeLhdU5IqGn"
      }
    }
  ]
}