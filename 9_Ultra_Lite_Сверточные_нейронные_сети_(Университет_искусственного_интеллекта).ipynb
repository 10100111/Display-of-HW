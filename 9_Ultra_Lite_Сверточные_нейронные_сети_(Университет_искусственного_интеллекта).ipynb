{
  "nbformat": 4,
  "nbformat_minor": 0,
  "metadata": {
    "colab": {
      "name": "9.Ultra Lite. Сверточные нейронные сети (Университет искусственного интеллекта)",
      "provenance": [],
      "collapsed_sections": [],
      "machine_shape": "hm",
      "include_colab_link": true
    },
    "kernelspec": {
      "name": "python3",
      "display_name": "Python 3"
    },
    "accelerator": "GPU"
  },
  "cells": [
    {
      "cell_type": "markdown",
      "metadata": {
        "id": "view-in-github",
        "colab_type": "text"
      },
      "source": [
        "<a href=\"https://colab.research.google.com/github/10100111/Display-of-HW1/blob/main/9_Ultra_Lite_%D0%A1%D0%B2%D0%B5%D1%80%D1%82%D0%BE%D1%87%D0%BD%D1%8B%D0%B5_%D0%BD%D0%B5%D0%B9%D1%80%D0%BE%D0%BD%D0%BD%D1%8B%D0%B5_%D1%81%D0%B5%D1%82%D0%B8_(%D0%A3%D0%BD%D0%B8%D0%B2%D0%B5%D1%80%D1%81%D0%B8%D1%82%D0%B5%D1%82_%D0%B8%D1%81%D0%BA%D1%83%D1%81%D1%81%D1%82%D0%B2%D0%B5%D0%BD%D0%BD%D0%BE%D0%B3%D0%BE_%D0%B8%D0%BD%D1%82%D0%B5%D0%BB%D0%BB%D0%B5%D0%BA%D1%82%D0%B0).ipynb\" target=\"_parent\"><img src=\"https://colab.research.google.com/assets/colab-badge.svg\" alt=\"Open In Colab\"/></a>"
      ]
    },
    {
      "cell_type": "markdown",
      "metadata": {
        "id": "CbzPAqX_4syp"
      },
      "source": [
        "Задание Ultra Lite\n",
        "\n",
        "Макс 10 баллов\n",
        "\n",
        "Переписать ноутбук по распознаванию рукописных цифр своими руками, восстановив следующие операции:\n",
        "\n",
        "1. Импорт библиотек.\n",
        "\n",
        "2. Загрузка базы mnist.\n",
        "\n",
        "3. Нормирование и преобразование x_train и y_train.\n",
        "\n",
        "4. Создание сверточной нейронной сети.\n",
        "\n",
        "5. Обучение сверточной нейронной сети.\n",
        "\n",
        "Можно смотреть в ноутбук с занятия, но код писать самостоятельно."
      ]
    },
    {
      "cell_type": "code",
      "metadata": {
        "id": "Pxi7uZiX4qX_"
      },
      "source": [
        "from tensorflow.keras.datasets import mnist\n",
        "from tensorflow.keras.datasets import cifar10\n",
        "from tensorflow.keras.datasets import cifar100\n",
        "from tensorflow.keras.models import Sequential\n",
        "from tensorflow.keras.layers import Dense, Conv2D, MaxPooling2D, Flatten, Dropout, BatchNormalization\n",
        "from tensorflow.python.keras.preprocessing.image import ImageDataGenerator\n",
        "from tensorflow.keras.optimizers import Adam, Adadelta\n",
        "from tensorflow.keras import utils\n",
        "from tensorflow.keras.preprocessing import image\n",
        "from google.colab import files\n",
        "import numpy as np\n",
        "import matplotlib.pyplot as plt\n",
        "from PIL import Image\n",
        "import random\n",
        "import math\n",
        "import os\n",
        "from google.colab import drive\n",
        "\n",
        "%matplotlib inline\n",
        "\n"
      ],
      "execution_count": null,
      "outputs": []
    },
    {
      "cell_type": "code",
      "metadata": {
        "id": "92GfFwVWXB7z",
        "colab": {
          "base_uri": "https://localhost:8080/"
        },
        "outputId": "da96d314-bfef-4bd4-97c4-e22bffe8a07f"
      },
      "source": [
        "from google.colab import drive\n",
        "drive.mount('/content/drive')"
      ],
      "execution_count": null,
      "outputs": [
        {
          "output_type": "stream",
          "name": "stdout",
          "text": [
            "Mounted at /content/drive\n"
          ]
        }
      ]
    },
    {
      "cell_type": "markdown",
      "metadata": {
        "id": "7A0tdANyLCPs"
      },
      "source": [
        "# Распознавание изображений из набора данных MNIST \n"
      ]
    },
    {
      "cell_type": "code",
      "metadata": {
        "colab": {
          "base_uri": "https://localhost:8080/"
        },
        "id": "1xuMgF7D8DuR",
        "outputId": "b61bbfa0-9528-4113-9ea3-c3fe5770c7e1"
      },
      "source": [
        "# mnist загрузка базы\n",
        "(x_train, y_train), (x_test, y_test) = mnist.load_data()"
      ],
      "execution_count": null,
      "outputs": [
        {
          "output_type": "stream",
          "name": "stdout",
          "text": [
            "Downloading data from https://storage.googleapis.com/tensorflow/tf-keras-datasets/mnist.npz\n",
            "11493376/11490434 [==============================] - 0s 0us/step\n",
            "11501568/11490434 [==============================] - 0s 0us/step\n"
          ]
        }
      ]
    },
    {
      "cell_type": "code",
      "metadata": {
        "colab": {
          "base_uri": "https://localhost:8080/"
        },
        "id": "yToLXuIF8Dra",
        "outputId": "4fc648f7-c7ba-48f6-e29c-9f257b5ffd58"
      },
      "source": [
        "x_train.shape"
      ],
      "execution_count": null,
      "outputs": [
        {
          "output_type": "execute_result",
          "data": {
            "text/plain": [
              "(60000, 28, 28)"
            ]
          },
          "metadata": {},
          "execution_count": 7
        }
      ]
    },
    {
      "cell_type": "code",
      "metadata": {
        "colab": {
          "base_uri": "https://localhost:8080/",
          "height": 84
        },
        "id": "KLYcrEvC8Dnu",
        "outputId": "c85a7321-9ca3-40d9-d40d-230480ffcced"
      },
      "source": [
        "# Выводим картинки для каждого класса (примеры)\n",
        "fig,axs = plt.subplots(1, 10, figsize=(25, 3))    #создаем полотно из 10 графиков\n",
        "for i in range(10):\n",
        "  label_indexes = np.where(y_train==i)[0]         #получаем список из индексов положений класса i в y_train \n",
        "  index = random.choice(label_indexes)            # выбираем рандомно индекс\n",
        "  img = x_train[index]                            # выбираем картинку из x_train\n",
        "  axs[i].imshow(Image.fromarray(img), cmap='gray') #отображаем картинку i-тым\n",
        "\n",
        "plt.show()                                        #показать картинку"
      ],
      "execution_count": null,
      "outputs": [
        {
          "output_type": "display_data",
          "data": {
            "image/png": "[encoded data removed]",
            "text/plain": [
              "<Figure size 1800x216 with 10 Axes>"
            ]
          },
          "metadata": {
            "needs_background": "light"
          }
        }
      ]
    },
    {
      "cell_type": "code",
      "metadata": {
        "id": "Mjm-SeX78Dk6"
      },
      "source": [
        "# преобразуем y_train, y_test в ohe\n",
        "y_train = utils.to_categorical(y_train,10)\n",
        "y_test = utils.to_categorical(y_test, 10)\n"
      ],
      "execution_count": null,
      "outputs": []
    },
    {
      "cell_type": "code",
      "metadata": {
        "colab": {
          "base_uri": "https://localhost:8080/"
        },
        "id": "9wP_UFua8DhP",
        "outputId": "cc989ca5-2db7-4bcc-b7b5-9f3792842e20"
      },
      "source": [
        "#меняем размерность, добавляем в конце 1, чтобы сверточная сеть понимала, что это черно-белые\n",
        "x_train = x_train.reshape(x_train.shape[0], 28, 28, 1)\n",
        "x_test = x_test.reshape(x_test.shape[0], 28, 28, 1)\n",
        "# проверим размерность и глянем на правильных ответах\n",
        "print(x_train.shape)\n",
        "print(x_test.shape)\n",
        "print(y_train.shape)\n",
        "print(y_test.shape)\n"
      ],
      "execution_count": null,
      "outputs": [
        {
          "output_type": "stream",
          "name": "stdout",
          "text": [
            "(60000, 28, 28, 1)\n",
            "(10000, 28, 28, 1)\n",
            "(60000, 10)\n",
            "(10000, 10)\n"
          ]
        }
      ]
    },
    {
      "cell_type": "code",
      "metadata": {
        "colab": {
          "base_uri": "https://localhost:8080/"
        },
        "id": "qXJ8eXc88DeF",
        "outputId": "0b747dff-09c2-49f9-acf7-16d9d3fc3f7e"
      },
      "source": [
        "# Создаем модель и указываем batch_size отдельно (не поняла зачем?)\n",
        "batch_size = 128\n",
        "\n",
        "model = Sequential()\n",
        "\n",
        "# слой пакетной нормализации\n",
        "model.add(BatchNormalization(input_shape = ( 28, 28, 1)))\n",
        "\n",
        "#первый сверточный слой\n",
        "model.add(Conv2D(32, (3, 3), padding = 'same', activation = 'relu'))\n",
        "\n",
        "#второй сверточный слой\n",
        "model.add(Conv2D(32, (3, 3), padding = 'same', activation = 'relu'))\n",
        "\n",
        "#первый слой подвыборки\n",
        "model.add(MaxPooling2D(pool_size = (2, 2)))\n",
        "#слой регуляризации Dropout\n",
        "model.add(Dropout(0.25))\n",
        "\n",
        "#разворачиваем данные в один единый вектор\n",
        "model.add(Flatten())\n",
        "\n",
        "#полносвязный слой для классификации\n",
        "model.add(Dense(256, activation='relu'))\n",
        "#слой регуляризации Dropout\n",
        "model.add(Dropout(0.25))\n",
        "\n",
        "#выходной полносвязный слой\n",
        "model.add(Dense(10, activation='softmax'))\n",
        "\n",
        "#компилирвем сеть\n",
        "model.compile(loss = 'categorical_crossentropy', optimizer = 'adam', metrics = ['accuracy']) \n",
        "# можете своими словами сказать в каких случаях ставить метрику mse, mae, accuracy? \n",
        "# из определения - это функция, которая используется для оценки работы вашей модели.\n",
        "# хочу понять как применяется :) не сочтите за труд , буду рада информации))\n",
        "\n",
        "model.summary()\n",
        "\n",
        "\n"
      ],
      "execution_count": null,
      "outputs": [
        {
          "output_type": "stream",
          "name": "stdout",
          "text": [
            "Model: \"sequential\"\n",
            "_________________________________________________________________\n",
            "Layer (type)                 Output Shape              Param #   \n",
            "=================================================================\n",
            "batch_normalization (BatchNo (None, 28, 28, 1)         4         \n",
            "_________________________________________________________________\n",
            "conv2d (Conv2D)              (None, 28, 28, 32)        320       \n",
            "_________________________________________________________________\n",
            "conv2d_1 (Conv2D)            (None, 28, 28, 32)        9248      \n",
            "_________________________________________________________________\n",
            "max_pooling2d (MaxPooling2D) (None, 14, 14, 32)        0         \n",
            "_________________________________________________________________\n",
            "dropout (Dropout)            (None, 14, 14, 32)        0         \n",
            "_________________________________________________________________\n",
            "flatten (Flatten)            (None, 6272)              0         \n",
            "_________________________________________________________________\n",
            "dense (Dense)                (None, 256)               1605888   \n",
            "_________________________________________________________________\n",
            "dropout_1 (Dropout)          (None, 256)               0         \n",
            "_________________________________________________________________\n",
            "dense_1 (Dense)              (None, 10)                2570      \n",
            "=================================================================\n",
            "Total params: 1,618,030\n",
            "Trainable params: 1,618,028\n",
            "Non-trainable params: 2\n",
            "_________________________________________________________________\n"
          ]
        }
      ]
    },
    {
      "cell_type": "code",
      "metadata": {
        "colab": {
          "base_uri": "https://localhost:8080/"
        },
        "id": "KjIoyQA78DaQ",
        "outputId": "fb06137a-295e-49d1-82e2-6a001bcb915b"
      },
      "source": [
        "# Обучение сети\n",
        "history = model.fit(x_train, \n",
        "                    y_train,\n",
        "                    batch_size = batch_size,\n",
        "                    epochs = 15,\n",
        "                    validation_data = (x_test, y_test),\n",
        "                    verbose = 1)"
      ],
      "execution_count": null,
      "outputs": [
        {
          "output_type": "stream",
          "name": "stdout",
          "text": [
            "Epoch 1/15\n",
            "469/469 [==============================] - 36s 15ms/step - loss: 0.1689 - accuracy: 0.9476 - val_loss: 0.0507 - val_accuracy: 0.9835\n",
            "Epoch 2/15\n",
            "469/469 [==============================] - 7s 14ms/step - loss: 0.0519 - accuracy: 0.9837 - val_loss: 0.0496 - val_accuracy: 0.9855\n",
            "Epoch 3/15\n",
            "469/469 [==============================] - 7s 14ms/step - loss: 0.0353 - accuracy: 0.9887 - val_loss: 0.0353 - val_accuracy: 0.9884\n",
            "Epoch 4/15\n",
            "469/469 [==============================] - 7s 14ms/step - loss: 0.0267 - accuracy: 0.9912 - val_loss: 0.0282 - val_accuracy: 0.9912\n",
            "Epoch 5/15\n",
            "469/469 [==============================] - 7s 15ms/step - loss: 0.0220 - accuracy: 0.9926 - val_loss: 0.0339 - val_accuracy: 0.9894\n",
            "Epoch 6/15\n",
            "469/469 [==============================] - 7s 14ms/step - loss: 0.0190 - accuracy: 0.9937 - val_loss: 0.0340 - val_accuracy: 0.9913\n",
            "Epoch 7/15\n",
            "469/469 [==============================] - 7s 14ms/step - loss: 0.0159 - accuracy: 0.9948 - val_loss: 0.0288 - val_accuracy: 0.9917\n",
            "Epoch 8/15\n",
            "469/469 [==============================] - 7s 14ms/step - loss: 0.0129 - accuracy: 0.9957 - val_loss: 0.0288 - val_accuracy: 0.9924\n",
            "Epoch 9/15\n",
            "469/469 [==============================] - 7s 14ms/step - loss: 0.0131 - accuracy: 0.9956 - val_loss: 0.0333 - val_accuracy: 0.9917\n",
            "Epoch 10/15\n",
            "469/469 [==============================] - 7s 14ms/step - loss: 0.0119 - accuracy: 0.9959 - val_loss: 0.0348 - val_accuracy: 0.9907\n",
            "Epoch 11/15\n",
            "469/469 [==============================] - 7s 14ms/step - loss: 0.0108 - accuracy: 0.9961 - val_loss: 0.0339 - val_accuracy: 0.9909\n",
            "Epoch 12/15\n",
            "469/469 [==============================] - 7s 14ms/step - loss: 0.0098 - accuracy: 0.9966 - val_loss: 0.0327 - val_accuracy: 0.9915\n",
            "Epoch 13/15\n",
            "469/469 [==============================] - 7s 14ms/step - loss: 0.0079 - accuracy: 0.9974 - val_loss: 0.0335 - val_accuracy: 0.9915\n",
            "Epoch 14/15\n",
            "469/469 [==============================] - 7s 14ms/step - loss: 0.0079 - accuracy: 0.9973 - val_loss: 0.0347 - val_accuracy: 0.9916\n",
            "Epoch 15/15\n",
            "469/469 [==============================] - 7s 14ms/step - loss: 0.0072 - accuracy: 0.9973 - val_loss: 0.0309 - val_accuracy: 0.9930\n"
          ]
        }
      ]
    }
  ]
}