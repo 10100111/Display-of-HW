{
  "nbformat": 4,
  "nbformat_minor": 0,
  "metadata": {
    "colab": {
      "name": "28. Ultra Pro. Траффик. Временные ряды.ipynb",
      "provenance": [],
      "mount_file_id": "1McU7URFFIlKN-VCJ6gtzS-y35xwl6xvP",
      "authorship_tag": "ABX9TyO88u/hVTmg7KnkKKaOVZ6/",
      "include_colab_link": true
    },
    "kernelspec": {
      "name": "python3",
      "display_name": "Python 3"
    },
    "language_info": {
      "name": "python"
    }
  },
  "cells": [
    {
      "cell_type": "markdown",
      "metadata": {
        "id": "view-in-github",
        "colab_type": "text"
      },
      "source": [
        "<a href=\"https://colab.research.google.com/github/10100111/Display-of-HW1/blob/main/28_Ultra_Pro_%D0%A2%D1%80%D0%B0%D1%84%D1%84%D0%B8%D0%BA_%D0%92%D1%80%D0%B5%D0%BC%D0%B5%D0%BD%D0%BD%D1%8B%D0%B5_%D1%80%D1%8F%D0%B4%D1%8B.ipynb\" target=\"_parent\"><img src=\"https://colab.research.google.com/assets/colab-badge.svg\" alt=\"Open In Colab\"/></a>"
      ]
    },
    {
      "cell_type": "markdown",
      "source": [
        "Задание Ultra pro\n",
        "\n",
        "Макс 10 баллов\n",
        "\n",
        "Возьмите базу трафика с сайта компании. Напишите модель для прогнозирования трафика. База трафик сайта https://drive.google.com/open?id=1hU_-9dJ2qPDDGThIdwRkOKxmWgox92V3\n",
        "\n",
        "Возьмите xLen = 60. Добейтесь максимально точного соответствия между графиками корреляции исходного сигнала и прогноза."
      ],
      "metadata": {
        "id": "3xDJzWvxbNQd"
      }
    },
    {
      "cell_type": "code",
      "source": [
        "#Загружаем библиотеки\n",
        "import pandas as pd #Пандас\n",
        "import matplotlib.pyplot as plt #Отрисовка графиков\n",
        "import numpy as np #Numpy\n",
        "from tensorflow.keras.optimizers import Adam #Оптимизатор\n",
        "from tensorflow.keras.models import Sequential, Model #Два варианта моделей\n",
        "from tensorflow.keras.layers import concatenate, Input, Dense, Dropout, BatchNormalization, Flatten, Conv1D, Conv2D, LSTM, GlobalMaxPooling1D, MaxPooling1D #Стандартные слои\n",
        "from sklearn.preprocessing import StandardScaler, MinMaxScaler #Нормировщики\n",
        "from tensorflow.keras.preprocessing.sequence import TimeseriesGenerator # для генерации выборки временных рядов\n",
        "\n",
        "# Рисовать графики сразу же\n",
        "%matplotlib inline"
      ],
      "metadata": {
        "id": "xWAP1Gyybq6g"
      },
      "execution_count": null,
      "outputs": []
    },
    {
      "cell_type": "code",
      "source": [
        "data = pd.read_csv('/content/drive/MyDrive/Colab Notebooks/Базы/traff.csv', sep=',')\n",
        "data"
      ],
      "metadata": {
        "colab": {
          "base_uri": "https://localhost:8080/",
          "height": 423
        },
        "id": "fxmYFxHegWo_",
        "outputId": "713922b8-559a-42fc-bbbd-ae137d2e292f"
      },
      "execution_count": null,
      "outputs": [
        {
          "output_type": "execute_result",
          "data": {
            "text/html": [
              "\n",
              "  <div id=\"df-26f3a8ff-3b6e-4951-8727-b922b569a62e\">\n",
              "    <div class=\"colab-df-container\">\n",
              "      <div>\n",
              "<style scoped>\n",
              "    .dataframe tbody tr th:only-of-type {\n",
              "        vertical-align: middle;\n",
              "    }\n",
              "\n",
              "    .dataframe tbody tr th {\n",
              "        vertical-align: top;\n",
              "    }\n",
              "\n",
              "    .dataframe thead th {\n",
              "        text-align: right;\n",
              "    }\n",
              "</style>\n",
              "<table border=\"1\" class=\"dataframe\">\n",
              "  <thead>\n",
              "    <tr style=\"text-align: right;\">\n",
              "      <th></th>\n",
              "      <th>1/1/2017</th>\n",
              "      <th>22,226.00</th>\n",
              "    </tr>\n",
              "  </thead>\n",
              "  <tbody>\n",
              "    <tr>\n",
              "      <th>0</th>\n",
              "      <td>1/2/2017</td>\n",
              "      <td>29,593.00</td>\n",
              "    </tr>\n",
              "    <tr>\n",
              "      <th>1</th>\n",
              "      <td>1/3/2017</td>\n",
              "      <td>31,726.00</td>\n",
              "    </tr>\n",
              "    <tr>\n",
              "      <th>2</th>\n",
              "      <td>1/4/2017</td>\n",
              "      <td>32,684.00</td>\n",
              "    </tr>\n",
              "    <tr>\n",
              "      <th>3</th>\n",
              "      <td>1/5/2017</td>\n",
              "      <td>31,820.00</td>\n",
              "    </tr>\n",
              "    <tr>\n",
              "      <th>4</th>\n",
              "      <td>1/6/2017</td>\n",
              "      <td>29,354.00</td>\n",
              "    </tr>\n",
              "    <tr>\n",
              "      <th>...</th>\n",
              "      <td>...</td>\n",
              "      <td>...</td>\n",
              "    </tr>\n",
              "    <tr>\n",
              "      <th>1089</th>\n",
              "      <td>12/27/2019</td>\n",
              "      <td>29,801.00</td>\n",
              "    </tr>\n",
              "    <tr>\n",
              "      <th>1090</th>\n",
              "      <td>12/28/2019</td>\n",
              "      <td>34,913.00</td>\n",
              "    </tr>\n",
              "    <tr>\n",
              "      <th>1091</th>\n",
              "      <td>12/29/2019</td>\n",
              "      <td>37,665.00</td>\n",
              "    </tr>\n",
              "    <tr>\n",
              "      <th>1092</th>\n",
              "      <td>12/30/2019</td>\n",
              "      <td>32,643.00</td>\n",
              "    </tr>\n",
              "    <tr>\n",
              "      <th>1093</th>\n",
              "      <td>12/31/2019</td>\n",
              "      <td>28,212.00</td>\n",
              "    </tr>\n",
              "  </tbody>\n",
              "</table>\n",
              "<p>1094 rows × 2 columns</p>\n",
              "</div>\n",
              "      <button class=\"colab-df-convert\" onclick=\"convertToInteractive('df-26f3a8ff-3b6e-4951-8727-b922b569a62e')\"\n",
              "              title=\"Convert this dataframe to an interactive table.\"\n",
              "              style=\"display:none;\">\n",
              "        \n",
              "  <svg xmlns=\"http://www.w3.org/2000/svg\" height=\"24px\"viewBox=\"0 0 24 24\"\n",
              "       width=\"24px\">\n",
              "    <path d=\"M0 0h24v24H0V0z\" fill=\"none\"/>\n",
              "    <path d=\"M18.56 5.44l.94 2.06.94-2.06 2.06-.94-2.06-.94-.94-2.06-.94 2.06-2.06.94zm-11 1L8.5 8.5l.94-2.06 2.06-.94-2.06-.94L8.5 2.5l-.94 2.06-2.06.94zm10 10l.94 2.06.94-2.06 2.06-.94-2.06-.94-.94-2.06-.94 2.06-2.06.94z\"/><path d=\"M17.41 7.96l-1.37-1.37c-.4-.4-.92-.59-1.43-.59-.52 0-1.04.2-1.43.59L10.3 9.45l-7.72 7.72c-.78.78-.78 2.05 0 2.83L4 21.41c.39.39.9.59 1.41.59.51 0 1.02-.2 1.41-.59l7.78-7.78 2.81-2.81c.8-.78.8-2.07 0-2.86zM5.41 20L4 18.59l7.72-7.72 1.47 1.35L5.41 20z\"/>\n",
              "  </svg>\n",
              "      </button>\n",
              "      \n",
              "  <style>\n",
              "    .colab-df-container {\n",
              "      display:flex;\n",
              "      flex-wrap:wrap;\n",
              "      gap: 12px;\n",
              "    }\n",
              "\n",
              "    .colab-df-convert {\n",
              "      background-color: #E8F0FE;\n",
              "      border: none;\n",
              "      border-radius: 50%;\n",
              "      cursor: pointer;\n",
              "      display: none;\n",
              "      fill: #1967D2;\n",
              "      height: 32px;\n",
              "      padding: 0 0 0 0;\n",
              "      width: 32px;\n",
              "    }\n",
              "\n",
              "    .colab-df-convert:hover {\n",
              "      background-color: #E2EBFA;\n",
              "      box-shadow: 0px 1px 2px rgba(60, 64, 67, 0.3), 0px 1px 3px 1px rgba(60, 64, 67, 0.15);\n",
              "      fill: #174EA6;\n",
              "    }\n",
              "\n",
              "    [theme=dark] .colab-df-convert {\n",
              "      background-color: #3B4455;\n",
              "      fill: #D2E3FC;\n",
              "    }\n",
              "\n",
              "    [theme=dark] .colab-df-convert:hover {\n",
              "      background-color: #434B5C;\n",
              "      box-shadow: 0px 1px 3px 1px rgba(0, 0, 0, 0.15);\n",
              "      filter: drop-shadow(0px 1px 2px rgba(0, 0, 0, 0.3));\n",
              "      fill: #FFFFFF;\n",
              "    }\n",
              "  </style>\n",
              "\n",
              "      <script>\n",
              "        const buttonEl =\n",
              "          document.querySelector('#df-26f3a8ff-3b6e-4951-8727-b922b569a62e button.colab-df-convert');\n",
              "        buttonEl.style.display =\n",
              "          google.colab.kernel.accessAllowed ? 'block' : 'none';\n",
              "\n",
              "        async function convertToInteractive(key) {\n",
              "          const element = document.querySelector('#df-26f3a8ff-3b6e-4951-8727-b922b569a62e');\n",
              "          const dataTable =\n",
              "            await google.colab.kernel.invokeFunction('convertToInteractive',\n",
              "                                                     [key], {});\n",
              "          if (!dataTable) return;\n",
              "\n",
              "          const docLinkHtml = 'Like what you see? Visit the ' +\n",
              "            '<a target=\"_blank\" href=https://colab.research.google.com/notebooks/data_table.ipynb>data table notebook</a>'\n",
              "            + ' to learn more about interactive tables.';\n",
              "          element.innerHTML = '';\n",
              "          dataTable['output_type'] = 'display_data';\n",
              "          await google.colab.output.renderOutput(dataTable, element);\n",
              "          const docLink = document.createElement('div');\n",
              "          docLink.innerHTML = docLinkHtml;\n",
              "          element.appendChild(docLink);\n",
              "        }\n",
              "      </script>\n",
              "    </div>\n",
              "  </div>\n",
              "  "
            ],
            "text/plain": [
              "        1/1/2017  22,226.00\n",
              "0       1/2/2017  29,593.00\n",
              "1       1/3/2017  31,726.00\n",
              "2       1/4/2017  32,684.00\n",
              "3       1/5/2017  31,820.00\n",
              "4       1/6/2017  29,354.00\n",
              "...          ...        ...\n",
              "1089  12/27/2019  29,801.00\n",
              "1090  12/28/2019  34,913.00\n",
              "1091  12/29/2019  37,665.00\n",
              "1092  12/30/2019  32,643.00\n",
              "1093  12/31/2019  28,212.00\n",
              "\n",
              "[1094 rows x 2 columns]"
            ]
          },
          "metadata": {},
          "execution_count": 2
        }
      ]
    },
    {
      "cell_type": "code",
      "source": [
        "print(data.dtypes)\n",
        "data.iloc[:,[0]]\n"
      ],
      "metadata": {
        "colab": {
          "base_uri": "https://localhost:8080/",
          "height": 476
        },
        "id": "d8rdjKa4qOy7",
        "outputId": "24974262-67ec-495b-a8f0-94bf4852aeff"
      },
      "execution_count": null,
      "outputs": [
        {
          "output_type": "stream",
          "name": "stdout",
          "text": [
            "1/1/2017     object\n",
            "22,226.00    object\n",
            "dtype: object\n"
          ]
        },
        {
          "output_type": "execute_result",
          "data": {
            "text/html": [
              "\n",
              "  <div id=\"df-0f3ee57d-de15-40f1-8fd6-339af1532773\">\n",
              "    <div class=\"colab-df-container\">\n",
              "      <div>\n",
              "<style scoped>\n",
              "    .dataframe tbody tr th:only-of-type {\n",
              "        vertical-align: middle;\n",
              "    }\n",
              "\n",
              "    .dataframe tbody tr th {\n",
              "        vertical-align: top;\n",
              "    }\n",
              "\n",
              "    .dataframe thead th {\n",
              "        text-align: right;\n",
              "    }\n",
              "</style>\n",
              "<table border=\"1\" class=\"dataframe\">\n",
              "  <thead>\n",
              "    <tr style=\"text-align: right;\">\n",
              "      <th></th>\n",
              "      <th>1/1/2017</th>\n",
              "    </tr>\n",
              "  </thead>\n",
              "  <tbody>\n",
              "    <tr>\n",
              "      <th>0</th>\n",
              "      <td>1/2/2017</td>\n",
              "    </tr>\n",
              "    <tr>\n",
              "      <th>1</th>\n",
              "      <td>1/3/2017</td>\n",
              "    </tr>\n",
              "    <tr>\n",
              "      <th>2</th>\n",
              "      <td>1/4/2017</td>\n",
              "    </tr>\n",
              "    <tr>\n",
              "      <th>3</th>\n",
              "      <td>1/5/2017</td>\n",
              "    </tr>\n",
              "    <tr>\n",
              "      <th>4</th>\n",
              "      <td>1/6/2017</td>\n",
              "    </tr>\n",
              "    <tr>\n",
              "      <th>...</th>\n",
              "      <td>...</td>\n",
              "    </tr>\n",
              "    <tr>\n",
              "      <th>1089</th>\n",
              "      <td>12/27/2019</td>\n",
              "    </tr>\n",
              "    <tr>\n",
              "      <th>1090</th>\n",
              "      <td>12/28/2019</td>\n",
              "    </tr>\n",
              "    <tr>\n",
              "      <th>1091</th>\n",
              "      <td>12/29/2019</td>\n",
              "    </tr>\n",
              "    <tr>\n",
              "      <th>1092</th>\n",
              "      <td>12/30/2019</td>\n",
              "    </tr>\n",
              "    <tr>\n",
              "      <th>1093</th>\n",
              "      <td>12/31/2019</td>\n",
              "    </tr>\n",
              "  </tbody>\n",
              "</table>\n",
              "<p>1094 rows × 1 columns</p>\n",
              "</div>\n",
              "      <button class=\"colab-df-convert\" onclick=\"convertToInteractive('df-0f3ee57d-de15-40f1-8fd6-339af1532773')\"\n",
              "              title=\"Convert this dataframe to an interactive table.\"\n",
              "              style=\"display:none;\">\n",
              "        \n",
              "  <svg xmlns=\"http://www.w3.org/2000/svg\" height=\"24px\"viewBox=\"0 0 24 24\"\n",
              "       width=\"24px\">\n",
              "    <path d=\"M0 0h24v24H0V0z\" fill=\"none\"/>\n",
              "    <path d=\"M18.56 5.44l.94 2.06.94-2.06 2.06-.94-2.06-.94-.94-2.06-.94 2.06-2.06.94zm-11 1L8.5 8.5l.94-2.06 2.06-.94-2.06-.94L8.5 2.5l-.94 2.06-2.06.94zm10 10l.94 2.06.94-2.06 2.06-.94-2.06-.94-.94-2.06-.94 2.06-2.06.94z\"/><path d=\"M17.41 7.96l-1.37-1.37c-.4-.4-.92-.59-1.43-.59-.52 0-1.04.2-1.43.59L10.3 9.45l-7.72 7.72c-.78.78-.78 2.05 0 2.83L4 21.41c.39.39.9.59 1.41.59.51 0 1.02-.2 1.41-.59l7.78-7.78 2.81-2.81c.8-.78.8-2.07 0-2.86zM5.41 20L4 18.59l7.72-7.72 1.47 1.35L5.41 20z\"/>\n",
              "  </svg>\n",
              "      </button>\n",
              "      \n",
              "  <style>\n",
              "    .colab-df-container {\n",
              "      display:flex;\n",
              "      flex-wrap:wrap;\n",
              "      gap: 12px;\n",
              "    }\n",
              "\n",
              "    .colab-df-convert {\n",
              "      background-color: #E8F0FE;\n",
              "      border: none;\n",
              "      border-radius: 50%;\n",
              "      cursor: pointer;\n",
              "      display: none;\n",
              "      fill: #1967D2;\n",
              "      height: 32px;\n",
              "      padding: 0 0 0 0;\n",
              "      width: 32px;\n",
              "    }\n",
              "\n",
              "    .colab-df-convert:hover {\n",
              "      background-color: #E2EBFA;\n",
              "      box-shadow: 0px 1px 2px rgba(60, 64, 67, 0.3), 0px 1px 3px 1px rgba(60, 64, 67, 0.15);\n",
              "      fill: #174EA6;\n",
              "    }\n",
              "\n",
              "    [theme=dark] .colab-df-convert {\n",
              "      background-color: #3B4455;\n",
              "      fill: #D2E3FC;\n",
              "    }\n",
              "\n",
              "    [theme=dark] .colab-df-convert:hover {\n",
              "      background-color: #434B5C;\n",
              "      box-shadow: 0px 1px 3px 1px rgba(0, 0, 0, 0.15);\n",
              "      filter: drop-shadow(0px 1px 2px rgba(0, 0, 0, 0.3));\n",
              "      fill: #FFFFFF;\n",
              "    }\n",
              "  </style>\n",
              "\n",
              "      <script>\n",
              "        const buttonEl =\n",
              "          document.querySelector('#df-0f3ee57d-de15-40f1-8fd6-339af1532773 button.colab-df-convert');\n",
              "        buttonEl.style.display =\n",
              "          google.colab.kernel.accessAllowed ? 'block' : 'none';\n",
              "\n",
              "        async function convertToInteractive(key) {\n",
              "          const element = document.querySelector('#df-0f3ee57d-de15-40f1-8fd6-339af1532773');\n",
              "          const dataTable =\n",
              "            await google.colab.kernel.invokeFunction('convertToInteractive',\n",
              "                                                     [key], {});\n",
              "          if (!dataTable) return;\n",
              "\n",
              "          const docLinkHtml = 'Like what you see? Visit the ' +\n",
              "            '<a target=\"_blank\" href=https://colab.research.google.com/notebooks/data_table.ipynb>data table notebook</a>'\n",
              "            + ' to learn more about interactive tables.';\n",
              "          element.innerHTML = '';\n",
              "          dataTable['output_type'] = 'display_data';\n",
              "          await google.colab.output.renderOutput(dataTable, element);\n",
              "          const docLink = document.createElement('div');\n",
              "          docLink.innerHTML = docLinkHtml;\n",
              "          element.appendChild(docLink);\n",
              "        }\n",
              "      </script>\n",
              "    </div>\n",
              "  </div>\n",
              "  "
            ],
            "text/plain": [
              "        1/1/2017\n",
              "0       1/2/2017\n",
              "1       1/3/2017\n",
              "2       1/4/2017\n",
              "3       1/5/2017\n",
              "4       1/6/2017\n",
              "...          ...\n",
              "1089  12/27/2019\n",
              "1090  12/28/2019\n",
              "1091  12/29/2019\n",
              "1092  12/30/2019\n",
              "1093  12/31/2019\n",
              "\n",
              "[1094 rows x 1 columns]"
            ]
          },
          "metadata": {},
          "execution_count": 3
        }
      ]
    },
    {
      "cell_type": "code",
      "source": [
        "\n",
        "data.iloc[:0,[0]].dtypes\n"
      ],
      "metadata": {
        "colab": {
          "base_uri": "https://localhost:8080/"
        },
        "id": "hF3PJFp0iaIn",
        "outputId": "2acfe15a-e45c-44c0-e7b8-f00f93e55153"
      },
      "execution_count": null,
      "outputs": [
        {
          "output_type": "execute_result",
          "data": {
            "text/plain": [
              "1/1/2017    object\n",
              "dtype: object"
            ]
          },
          "metadata": {},
          "execution_count": 4
        }
      ]
    },
    {
      "cell_type": "code",
      "source": [
        "df = data.iloc[:,[1]]\n",
        "df"
      ],
      "metadata": {
        "colab": {
          "base_uri": "https://localhost:8080/",
          "height": 423
        },
        "id": "FaqvFPrqOENr",
        "outputId": "ddd38e16-accc-474e-dbf8-85b39e4c368b"
      },
      "execution_count": null,
      "outputs": [
        {
          "output_type": "execute_result",
          "data": {
            "text/html": [
              "\n",
              "  <div id=\"df-4bdbd25f-d319-454a-bcbe-cd78ee857074\">\n",
              "    <div class=\"colab-df-container\">\n",
              "      <div>\n",
              "<style scoped>\n",
              "    .dataframe tbody tr th:only-of-type {\n",
              "        vertical-align: middle;\n",
              "    }\n",
              "\n",
              "    .dataframe tbody tr th {\n",
              "        vertical-align: top;\n",
              "    }\n",
              "\n",
              "    .dataframe thead th {\n",
              "        text-align: right;\n",
              "    }\n",
              "</style>\n",
              "<table border=\"1\" class=\"dataframe\">\n",
              "  <thead>\n",
              "    <tr style=\"text-align: right;\">\n",
              "      <th></th>\n",
              "      <th>22,226.00</th>\n",
              "    </tr>\n",
              "  </thead>\n",
              "  <tbody>\n",
              "    <tr>\n",
              "      <th>0</th>\n",
              "      <td>29,593.00</td>\n",
              "    </tr>\n",
              "    <tr>\n",
              "      <th>1</th>\n",
              "      <td>31,726.00</td>\n",
              "    </tr>\n",
              "    <tr>\n",
              "      <th>2</th>\n",
              "      <td>32,684.00</td>\n",
              "    </tr>\n",
              "    <tr>\n",
              "      <th>3</th>\n",
              "      <td>31,820.00</td>\n",
              "    </tr>\n",
              "    <tr>\n",
              "      <th>4</th>\n",
              "      <td>29,354.00</td>\n",
              "    </tr>\n",
              "    <tr>\n",
              "      <th>...</th>\n",
              "      <td>...</td>\n",
              "    </tr>\n",
              "    <tr>\n",
              "      <th>1089</th>\n",
              "      <td>29,801.00</td>\n",
              "    </tr>\n",
              "    <tr>\n",
              "      <th>1090</th>\n",
              "      <td>34,913.00</td>\n",
              "    </tr>\n",
              "    <tr>\n",
              "      <th>1091</th>\n",
              "      <td>37,665.00</td>\n",
              "    </tr>\n",
              "    <tr>\n",
              "      <th>1092</th>\n",
              "      <td>32,643.00</td>\n",
              "    </tr>\n",
              "    <tr>\n",
              "      <th>1093</th>\n",
              "      <td>28,212.00</td>\n",
              "    </tr>\n",
              "  </tbody>\n",
              "</table>\n",
              "<p>1094 rows × 1 columns</p>\n",
              "</div>\n",
              "      <button class=\"colab-df-convert\" onclick=\"convertToInteractive('df-4bdbd25f-d319-454a-bcbe-cd78ee857074')\"\n",
              "              title=\"Convert this dataframe to an interactive table.\"\n",
              "              style=\"display:none;\">\n",
              "        \n",
              "  <svg xmlns=\"http://www.w3.org/2000/svg\" height=\"24px\"viewBox=\"0 0 24 24\"\n",
              "       width=\"24px\">\n",
              "    <path d=\"M0 0h24v24H0V0z\" fill=\"none\"/>\n",
              "    <path d=\"M18.56 5.44l.94 2.06.94-2.06 2.06-.94-2.06-.94-.94-2.06-.94 2.06-2.06.94zm-11 1L8.5 8.5l.94-2.06 2.06-.94-2.06-.94L8.5 2.5l-.94 2.06-2.06.94zm10 10l.94 2.06.94-2.06 2.06-.94-2.06-.94-.94-2.06-.94 2.06-2.06.94z\"/><path d=\"M17.41 7.96l-1.37-1.37c-.4-.4-.92-.59-1.43-.59-.52 0-1.04.2-1.43.59L10.3 9.45l-7.72 7.72c-.78.78-.78 2.05 0 2.83L4 21.41c.39.39.9.59 1.41.59.51 0 1.02-.2 1.41-.59l7.78-7.78 2.81-2.81c.8-.78.8-2.07 0-2.86zM5.41 20L4 18.59l7.72-7.72 1.47 1.35L5.41 20z\"/>\n",
              "  </svg>\n",
              "      </button>\n",
              "      \n",
              "  <style>\n",
              "    .colab-df-container {\n",
              "      display:flex;\n",
              "      flex-wrap:wrap;\n",
              "      gap: 12px;\n",
              "    }\n",
              "\n",
              "    .colab-df-convert {\n",
              "      background-color: #E8F0FE;\n",
              "      border: none;\n",
              "      border-radius: 50%;\n",
              "      cursor: pointer;\n",
              "      display: none;\n",
              "      fill: #1967D2;\n",
              "      height: 32px;\n",
              "      padding: 0 0 0 0;\n",
              "      width: 32px;\n",
              "    }\n",
              "\n",
              "    .colab-df-convert:hover {\n",
              "      background-color: #E2EBFA;\n",
              "      box-shadow: 0px 1px 2px rgba(60, 64, 67, 0.3), 0px 1px 3px 1px rgba(60, 64, 67, 0.15);\n",
              "      fill: #174EA6;\n",
              "    }\n",
              "\n",
              "    [theme=dark] .colab-df-convert {\n",
              "      background-color: #3B4455;\n",
              "      fill: #D2E3FC;\n",
              "    }\n",
              "\n",
              "    [theme=dark] .colab-df-convert:hover {\n",
              "      background-color: #434B5C;\n",
              "      box-shadow: 0px 1px 3px 1px rgba(0, 0, 0, 0.15);\n",
              "      filter: drop-shadow(0px 1px 2px rgba(0, 0, 0, 0.3));\n",
              "      fill: #FFFFFF;\n",
              "    }\n",
              "  </style>\n",
              "\n",
              "      <script>\n",
              "        const buttonEl =\n",
              "          document.querySelector('#df-4bdbd25f-d319-454a-bcbe-cd78ee857074 button.colab-df-convert');\n",
              "        buttonEl.style.display =\n",
              "          google.colab.kernel.accessAllowed ? 'block' : 'none';\n",
              "\n",
              "        async function convertToInteractive(key) {\n",
              "          const element = document.querySelector('#df-4bdbd25f-d319-454a-bcbe-cd78ee857074');\n",
              "          const dataTable =\n",
              "            await google.colab.kernel.invokeFunction('convertToInteractive',\n",
              "                                                     [key], {});\n",
              "          if (!dataTable) return;\n",
              "\n",
              "          const docLinkHtml = 'Like what you see? Visit the ' +\n",
              "            '<a target=\"_blank\" href=https://colab.research.google.com/notebooks/data_table.ipynb>data table notebook</a>'\n",
              "            + ' to learn more about interactive tables.';\n",
              "          element.innerHTML = '';\n",
              "          dataTable['output_type'] = 'display_data';\n",
              "          await google.colab.output.renderOutput(dataTable, element);\n",
              "          const docLink = document.createElement('div');\n",
              "          docLink.innerHTML = docLinkHtml;\n",
              "          element.appendChild(docLink);\n",
              "        }\n",
              "      </script>\n",
              "    </div>\n",
              "  </div>\n",
              "  "
            ],
            "text/plain": [
              "      22,226.00\n",
              "0     29,593.00\n",
              "1     31,726.00\n",
              "2     32,684.00\n",
              "3     31,820.00\n",
              "4     29,354.00\n",
              "...         ...\n",
              "1089  29,801.00\n",
              "1090  34,913.00\n",
              "1091  37,665.00\n",
              "1092  32,643.00\n",
              "1093  28,212.00\n",
              "\n",
              "[1094 rows x 1 columns]"
            ]
          },
          "metadata": {},
          "execution_count": 5
        }
      ]
    },
    {
      "cell_type": "code",
      "source": [
        "np_df = np.array(df.values)  # numpy массив \n"
      ],
      "metadata": {
        "id": "WCz_WbAO86eT"
      },
      "execution_count": null,
      "outputs": []
    },
    {
      "cell_type": "code",
      "source": [
        "np_df[0]"
      ],
      "metadata": {
        "colab": {
          "base_uri": "https://localhost:8080/"
        },
        "id": "mY1T6i0E-5Ca",
        "outputId": "251c5242-5438-45e9-f800-73deb9fc8d4d"
      },
      "execution_count": null,
      "outputs": [
        {
          "output_type": "execute_result",
          "data": {
            "text/plain": [
              "array(['29,593.00'], dtype=object)"
            ]
          },
          "metadata": {},
          "execution_count": 15
        }
      ]
    },
    {
      "cell_type": "code",
      "source": [
        "np_df.shape"
      ],
      "metadata": {
        "colab": {
          "base_uri": "https://localhost:8080/"
        },
        "id": "kEMej4wa_GeH",
        "outputId": "813398f5-4d31-4059-8d1d-a3561afb4d0f"
      },
      "execution_count": null,
      "outputs": [
        {
          "output_type": "execute_result",
          "data": {
            "text/plain": [
              "(1094, 1)"
            ]
          },
          "metadata": {},
          "execution_count": 16
        }
      ]
    },
    {
      "cell_type": "code",
      "source": [
        "np_df"
      ],
      "metadata": {
        "colab": {
          "base_uri": "https://localhost:8080/"
        },
        "id": "V2RPGo_mArN6",
        "outputId": "81a00b31-2052-4ccf-9d0d-a032706e60af"
      },
      "execution_count": null,
      "outputs": [
        {
          "output_type": "execute_result",
          "data": {
            "text/plain": [
              "array([['29,593.00'],\n",
              "       ['31,726.00'],\n",
              "       ['32,684.00'],\n",
              "       ...,\n",
              "       ['37,665.00'],\n",
              "       ['32,643.00'],\n",
              "       ['28,212.00']], dtype=object)"
            ]
          },
          "metadata": {},
          "execution_count": 19
        }
      ]
    },
    {
      "cell_type": "code",
      "source": [
        "np_df[1][0]\n"
      ],
      "metadata": {
        "colab": {
          "base_uri": "https://localhost:8080/",
          "height": 36
        },
        "id": "0N608LHfLLPZ",
        "outputId": "32938f45-a437-4118-f317-c18eecdc6bf6"
      },
      "execution_count": null,
      "outputs": [
        {
          "output_type": "execute_result",
          "data": {
            "application/vnd.google.colaboratory.intrinsic+json": {
              "type": "string"
            },
            "text/plain": [
              "'31,726.00'"
            ]
          },
          "metadata": {},
          "execution_count": 29
        }
      ]
    },
    {
      "cell_type": "code",
      "source": [
        "#в цикле обходим массив с данными о стоимости и преобразуем данные из типа object в float для подачи в нейронку\n",
        "new_df = []\n",
        "for i in range(np_df.shape[0]):\n",
        "  element_float = float(str(np_df[i][0]).partition(\".\")[0].replace(',', ''))\n",
        "  new_df.append(element_float)\n"
      ],
      "metadata": {
        "id": "UGcDflpvfuCd"
      },
      "execution_count": null,
      "outputs": []
    },
    {
      "cell_type": "code",
      "source": [
        "print(new_df)\n",
        "print(len(new_df))\n",
        "print(max(new_df), min(new_df))\n",
        "# буду использовать Standardscaler() разница между крайними значениями небольшая"
      ],
      "metadata": {
        "colab": {
          "base_uri": "https://localhost:8080/"
        },
        "id": "uqfg4bMcLvcz",
        "outputId": "aacbd517-113a-465c-9d1c-1f6e0dc0f470"
      },
      "execution_count": null,
      "outputs": [
        {
          "output_type": "stream",
          "name": "stdout",
          "text": [
            "[29593.0, 31726.0, 32684.0, 31820.0, 29354.0, 29139.0, 31244.0, 32690.0, 31299.0, 29738.0, 29400.0, 27039.0, 28251.0, 30270.0, 30152.0, 28751.0, 27668.0, 27375.0, 26558.0, 28214.0, 30137.0, 29739.0, 28169.0, 27699.0, 28201.0, 27708.0, 28763.0, 31847.0, 31738.0, 29196.0, 27772.0, 27152.0, 27154.0, 28379.0, 30248.0, 28936.0, 27963.0, 27730.0, 27356.0, 26631.0, 28464.0, 30550.0, 29127.0, 27426.0, 29624.0, 28945.0, 28368.0, 29646.0, 30928.0, 29773.0, 28921.0, 27241.0, 26094.0, 27678.0, 28519.0, 30420.0, 30337.0, 27452.0, 26650.0, 25656.0, 24999.0, 26051.0, 27694.0, 26008.0, 23420.0, 23335.0, 25800.0, 25410.0, 25773.0, 27315.0, 26002.0, 24594.0, 23758.0, 23854.0, 22655.0, 23855.0, 26421.0, 25306.0, 24080.0, 23588.0, 22519.0, 22126.0, 22794.0, 25495.0, 25005.0, 24529.0, 23607.0, 23676.0, 22647.0, 22888.0, 25176.0, 23375.0, 23299.0, 23215.0, 23533.0, 22561.0, 22536.0, 24567.0, 23778.0, 22773.0, 22080.0, 21890.0, 21924.0, 21656.0, 22285.0, 24203.0, 23897.0, 23285.0, 22639.0, 22441.0, 22997.0, 24460.0, 24013.0, 22148.0, 21747.0, 20857.0, 20101.0, 18968.0, 19824.0, 19523.0, 21368.0, 21592.0, 21374.0, 19994.0, 19610.0, 20627.0, 22185.0, 20879.0, 24071.0, 23942.0, 22716.0, 22075.0, 23266.0, 24090.0, 23252.0, 23006.0, 22229.0, 20704.0, 19279.0, 22551.0, 23631.0, 23577.0, 22087.0, 22339.0, 21150.0, 20652.0, 23189.0, 24123.0, 23683.0, 23069.0, 22480.0, 22345.0, 21734.0, 24032.0, 24557.0, 23650.0, 23354.0, 23461.0, 21890.0, 20380.0, 20845.0, 22643.0, 24029.0, 23209.0, 22554.0, 21553.0, 20153.0, 21623.0, 23640.0, 23266.0, 22179.0, 22048.0, 21070.0, 20157.0, 22110.0, 23191.0, 22557.0, 21175.0, 20773.0, 19738.0, 20364.0, 22534.0, 24050.0, 24124.0, 23621.0, 23242.0, 21984.0, 21402.0, 23244.0, 24258.0, 23365.0, 22889.0, 22693.0, 21780.0, 19824.0, 21296.0, 24144.0, 24034.0, 24106.0, 23351.0, 22123.0, 20454.0, 22472.0, 25215.0, 25141.0, 24414.0, 23322.0, 22344.0, 21095.0, 23091.0, 25678.0, 24630.0, 24958.0, 24357.0, 24116.0, 22257.0, 24326.0, 27671.0, 26906.0, 25904.0, 25336.0, 23650.0, 22788.0, 24437.0, 26742.0, 26280.0, 25361.0, 25054.0, 24545.0, 22393.0, 24227.0, 27240.0, 27167.0, 26826.0, 25640.0, 24317.0, 23194.0, 23379.0, 25755.0, 24942.0, 24740.0, 23825.0, 21427.0, 21897.0, 23850.0, 24613.0, 24024.0, 23728.0, 23018.0, 21910.0, 21698.0, 23008.0, 24384.0, 24045.0, 24219.0, 23355.0, 22593.0, 21247.0, 23064.0, 25506.0, 24796.0, 24302.0, 23584.0, 22830.0, 22764.0, 24786.0, 25180.0, 25421.0, 24753.0, 24378.0, 23432.0, 23900.0, 25627.0, 25907.0, 25214.0, 25429.0, 25212.0, 24287.0, 24640.0, 26768.0, 26025.0, 26672.0, 27276.0, 25042.0, 24394.0, 25449.0, 27786.0, 27740.0, 25664.0, 25250.0, 25186.0, 23832.0, 24963.0, 26738.0, 26393.0, 25232.0, 24463.0, 24107.0, 23887.0, 27991.0, 28416.0, 28484.0, 26442.0, 25347.0, 26389.0, 25594.0, 25794.0, 27358.0, 28376.0, 27833.0, 26618.0, 25702.0, 24029.0, 25842.0, 27854.0, 27921.0, 26382.0, 25338.0, 25258.0, 25045.0, 26340.0, 29113.0, 28071.0, 28313.0, 27950.0, 29530.0, 31465.0, 29861.0, 31223.0, 29680.0, 27785.0, 26338.0, 25384.0, 25267.0, 27435.0, 30108.0, 29376.0, 27712.0, 26889.0, 26837.0, 26326.0, 27817.0, 30799.0, 30354.0, 29097.0, 27781.0, 27758.0, 27468.0, 28956.0, 32018.0, 31329.0, 29849.0, 29350.0, 29325.0, 27648.0, 29851.0, 33173.0, 32221.0, 30136.0, 29135.0, 28406.0, 27500.0, 28316.0, 22576.0, 22014.0, 29036.0, 30020.0, 30461.0, 29320.0, 27853.0, 28156.0, 29752.0, 30970.0, 29475.0, 28360.0, 26877.0, 25820.0, 27904.0, 27659.0, 26176.0, 26225.0, 24630.0, 23620.0, 25671.0, 27193.0, 26518.0, 25457.0, 25781.0, 25071.0, 24424.0, 25874.0, 27510.0, 27185.0, 25715.0, 24712.0, 24660.0, 23949.0, 24835.0, 26252.0, 25430.0, 24146.0, 23353.0, 23493.0, 23176.0, 24961.0, 26712.0, 25840.0, 23785.0, 22425.0, 23294.0, 22312.0, 23955.0, 25151.0, 24841.0, 23913.0, 22966.0, 21902.0, 21084.0, 24449.0, 26252.0, 25868.0, 24021.0, 23101.0, 22683.0, 22441.0, 24743.0, 26674.0, 24468.0, 23235.0, 20978.0, 20578.0, 23781.0, 24789.0, 25853.0, 24638.0, 23060.0, 22291.0, 21397.0, 20633.0, 22449.0, 22989.0, 22967.0, 21890.0, 21579.0, 21609.0, 21549.0, 22106.0, 23939.0, 22914.0, 21104.0, 20569.0, 20971.0, 20885.0, 21428.0, 22458.0, 21919.0, 20941.0, 19724.0, 18684.0, 18781.0, 18984.0, 18506.0, 19795.0, 19911.0, 21309.0, 20685.0, 19305.0, 18542.0, 19257.0, 19815.0, 19182.0, 19222.0, 19235.0, 18372.0, 18357.0, 20265.0, 20056.0, 18925.0, 18814.0, 18578.0, 17492.0, 16710.0, 16934.0, 17298.0, 16680.0, 18343.0, 18503.0, 17408.0, 17258.0, 18379.0, 18501.0, 17079.0, 14711.0, 17563.0, 16989.0, 16393.0, 17408.0, 18412.0, 17406.0, 17269.0, 17948.0, 17000.0, 16827.0, 18352.0, 19178.0, 18520.0, 18469.0, 18082.0, 17322.0, 17299.0, 18271.0, 19740.0, 19153.0, 18680.0, 18826.0, 17666.0, 17593.0, 18792.0, 20095.0, 19986.0, 19449.0, 18518.0, 18063.0, 17422.0, 17799.0, 18229.0, 19074.0, 20080.0, 18425.0, 17747.0, 16973.0, 18134.0, 19432.0, 18614.0, 17365.0, 17139.0, 15988.0, 15688.0, 17267.0, 17981.0, 17221.0, 17185.0, 17104.0, 15339.0, 15688.0, 16269.0, 17065.0, 16961.0, 17104.0, 16444.0, 15362.0, 15296.0, 16124.0, 17507.0, 17029.0, 17089.0, 16589.0, 15763.0, 14963.0, 15534.0, 16954.0, 16874.0, 16648.0, 16303.0, 15452.0, 14798.0, 16236.0, 17232.0, 16430.0, 15938.0, 15194.0, 13971.0, 13797.0, 14755.0, 16251.0, 15644.0, 15202.0, 15197.0, 14828.0, 13744.0, 15169.0, 16389.0, 16174.0, 15439.0, 15317.0, 14597.0, 13906.0, 15110.0, 16293.0, 16190.0, 16101.0, 15534.0, 14925.0, 14301.0, 15479.0, 16455.0, 16280.0, 15749.0, 15670.0, 14515.0, 14290.0, 15646.0, 17075.0, 16470.0, 15603.0, 15285.0, 14335.0, 13848.0, 15253.0, 15749.0, 14947.0, 14524.0, 14496.0, 13829.0, 13871.0, 15380.0, 16011.0, 15752.0, 15408.0, 15094.0, 14629.0, 14639.0, 16400.0, 16240.0, 15845.0, 15425.0, 14811.0, 14412.0, 14287.0, 16366.0, 16054.0, 15828.0, 15664.0, 15276.0, 14464.0, 14922.0, 16181.0, 15559.0, 15658.0, 15471.0, 15514.0, 15132.0, 15214.0, 15636.0, 16195.0, 15687.0, 15753.0, 15375.0, 14738.0, 15118.0, 16510.0, 16753.0, 15971.0, 15533.0, 14818.0, 14627.0, 15195.0, 17002.0, 16652.0, 16187.0, 15801.0, 15762.0, 15247.0, 16320.0, 18026.0, 17469.0, 17742.0, 17646.0, 17607.0, 17390.0, 18250.0, 19980.0, 20063.0, 18339.0, 17699.0, 17017.0, 16805.0, 18482.0, 20418.0, 18764.0, 18264.0, 17317.0, 17359.0, 17354.0, 18659.0, 20889.0, 19519.0, 20903.0, 20519.0, 21811.0, 23988.0, 24126.0, 24188.0, 20830.0, 19493.0, 18816.0, 18309.0, 17091.0, 19479.0, 21471.0, 19705.0, 19835.0, 19222.0, 18581.0, 18214.0, 20073.0, 22632.0, 21042.0, 20390.0, 20262.0, 19523.0, 19102.0, 21292.0, 23109.0, 21642.0, 20735.0, 20332.0, 19914.0, 19118.0, 21158.0, 23599.0, 22236.0, 21741.0, 20666.0, 20531.0, 20506.0, 20409.0, 21996.0, 17135.0, 16667.0, 21325.0, 21953.0, 22598.0, 21769.0, 20882.0, 21404.0, 22697.0, 22633.0, 22814.0, 20741.0, 21368.0, 21902.0, 20421.0, 19653.0, 19307.0, 18829.0, 17811.0, 18787.0, 20890.0, 19421.0, 18935.0, 18302.0, 17430.0, 17155.0, 19534.0, 21124.0, 19563.0, 18162.0, 17548.0, 17393.0, 16721.0, 18851.0, 19975.0, 18448.0, 17840.0, 17341.0, 18837.0, 23100.0, 25940.0, 27649.0, 26735.0, 24245.0, 23191.0, 21797.0, 22256.0, 23765.0, 25927.0, 24491.0, 22481.0, 22065.0, 22169.0, 20470.0, 20941.0, 24275.0, 24367.0, 23021.0, 21924.0, 21442.0, 21285.0, 23061.0, 25471.0, 22981.0, 22085.0, 20592.0, 18473.0, 18923.0, 22221.0, 23556.0, 23276.0, 21779.0, 21237.0, 20693.0, 20038.0, 22347.0, 23909.0, 22202.0, 20669.0, 20136.0, 20092.0, 20141.0, 22035.0, 24173.0, 22647.0, 21645.0, 21726.0, 21032.0, 20280.0, 21468.0, 22169.0, 21075.0, 20839.0, 20254.0, 19408.0, 19223.0, 19675.0, 20974.0, 20757.0, 19761.0, 19461.0, 19379.0, 18946.0, 20907.0, 23317.0, 24266.0, 22540.0, 20979.0, 19671.0, 18439.0, 18970.0, 20270.0, 19821.0, 19204.0, 18048.0, 17417.0, 17084.0, 17046.0, 18083.0, 19109.0, 18155.0, 18136.0, 19311.0, 18818.0, 18264.0, 18785.0, 18848.0, 17910.0, 17141.0, 15126.0, 16697.0, 17480.0, 17839.0, 19311.0, 19076.0, 18389.0, 18173.0, 17299.0, 16906.0, 18485.0, 19368.0, 18797.0, 18082.0, 18136.0, 18095.0, 17703.0, 19450.0, 20132.0, 19196.0, 18563.0, 18237.0, 17900.0, 17261.0, 19399.0, 21226.0, 21699.0, 20547.0, 19919.0, 18441.0, 18177.0, 20278.0, 21341.0, 20275.0, 20240.0, 20358.0, 19142.0, 19187.0, 20042.0, 20780.0, 20340.0, 19429.0, 18622.0, 17556.0, 17850.0, 19481.0, 20854.0, 20280.0, 20231.0, 20084.0, 19389.0, 19613.0, 20748.0, 20587.0, 21058.0, 20797.0, 20517.0, 19692.0, 19283.0, 21057.0, 21884.0, 21862.0, 21043.0, 20337.0, 19395.0, 19040.0, 20226.0, 22203.0, 22373.0, 22297.0, 21447.0, 20397.0, 19456.0, 21503.0, 22793.0, 22973.0, 22553.0, 22235.0, 20546.0, 19088.0, 20840.0, 23549.0, 23321.0, 23670.0, 22842.0, 21493.0, 21112.0, 22659.0, 23928.0, 23590.0, 22400.0, 21813.0, 21466.0, 20848.0, 22646.0, 23515.0, 23187.0, 22771.0, 21664.0, 21560.0, 21779.0, 22843.0, 24033.0, 22840.0, 22147.0, 21689.0, 20930.0, 19956.0, 21830.0, 23318.0, 22532.0, 22336.0, 21346.0, 20755.0, 21333.0, 22562.0, 22212.0, 22130.0, 21793.0, 21571.0, 20458.0, 20435.0, 21376.0, 22521.0, 21555.0, 21653.0, 20931.0, 20180.0, 20993.0, 23581.0, 22784.0, 22368.0, 22354.0, 22526.0, 22227.0, 24073.0, 25833.0, 25449.0, 24070.0, 23157.0, 23238.0, 22539.0, 24388.0, 26687.0, 25816.0, 24291.0, 23476.0, 22522.0, 21963.0, 23504.0, 26962.0, 24551.0, 23132.0, 23097.0, 22256.0, 22077.0, 24042.0, 25854.0, 25794.0, 25676.0, 24923.0, 23936.0, 23632.0, 24989.0, 27274.0, 26631.0, 25371.0, 24206.0, 23912.0, 23454.0, 25130.0, 27298.0, 26644.0, 26341.0, 25357.0, 25210.0, 25253.0, 28448.0, 33633.0, 32301.0, 28869.0, 26921.0, 26763.0, 25882.0, 29348.0, 31603.0, 30849.0, 28207.0, 26569.0, 26218.0, 25590.0, 28262.0, 30953.0, 28684.0, 26792.0, 25986.0, 25426.0, 25479.0, 28899.0, 31337.0, 29258.0, 30380.0, 30007.0, 31268.0, 33545.0, 34967.0, 36738.0, 31844.0, 29184.0, 27830.0, 27729.0, 27311.0, 30769.0, 33658.0, 30662.0, 29587.0, 28773.0, 28359.0, 27805.0, 32291.0, 35374.0, 32547.0, 30666.0, 30203.0, 29093.0, 28159.0, 31730.0, 35956.0, 33715.0, 31081.0, 31444.0, 29864.0, 29801.0, 34913.0, 37665.0, 32643.0, 28212.0]\n",
            "1094\n",
            "37665.0 13744.0\n"
          ]
        }
      ]
    },
    {
      "cell_type": "code",
      "source": [
        "#Формируем параметры загрузки данных\n",
        "\n",
        "xLen = 60                      #Анализируем по 60 прошедшим точкам \n",
        "valLen = 200                  #Используем 200 записей для проверки\n",
        "\n",
        "trainLen = len(new_df)-valLen # Размер тренировочной выборки\n",
        "\n"
      ],
      "metadata": {
        "id": "Omhdssx_PIHn"
      },
      "execution_count": null,
      "outputs": []
    },
    {
      "cell_type": "code",
      "source": [
        "#Делаем reshape,т.к. у нас только один столбец по одному значению\n",
        "new_df = np.reshape(new_df,(-1,1))\n",
        "print(new_df.shape)\n",
        "\n",
        "#Делим данные на тренировочную и тестовую выборки \n",
        "xTrain, xTest = new_df[:trainLen], new_df[trainLen+xLen+2:]"
      ],
      "metadata": {
        "colab": {
          "base_uri": "https://localhost:8080/"
        },
        "id": "hUHGAnvoPpDH",
        "outputId": "63668009-27d3-48ad-d7db-b7c1139627d2"
      },
      "execution_count": null,
      "outputs": [
        {
          "output_type": "stream",
          "name": "stdout",
          "text": [
            "(1094, 1)\n"
          ]
        }
      ]
    },
    {
      "cell_type": "code",
      "source": [
        "#Масштабируем данные (отдельно для X и Y), чтобы их легче было скормить сетке\n",
        "xScaler = StandardScaler()\n",
        "xScaler.fit(xTrain)\n",
        "xTrain = xScaler.transform(xTrain)\n",
        "xTest = xScaler.transform(xTest)"
      ],
      "metadata": {
        "id": "7Det_cEbPs5e"
      },
      "execution_count": null,
      "outputs": []
    },
    {
      "cell_type": "code",
      "source": [
        "yTrain, yTest = new_df[:trainLen], new_df[trainLen+xLen+2:] \n",
        "yScaler = StandardScaler()\n",
        "yScaler.fit(yTrain)\n",
        "yTrain = yScaler.transform(yTrain)\n",
        "yTest = yScaler.transform(yTest)\n",
        "\n"
      ],
      "metadata": {
        "id": "uZ1oXsNhM2nC"
      },
      "execution_count": null,
      "outputs": []
    },
    {
      "cell_type": "code",
      "source": [
        "print(xTrain.shape)"
      ],
      "metadata": {
        "colab": {
          "base_uri": "https://localhost:8080/"
        },
        "id": "CmX4fHpAR4fS",
        "outputId": "695d8671-4015-461c-b5f8-383173a776d1"
      },
      "execution_count": null,
      "outputs": [
        {
          "output_type": "stream",
          "name": "stdout",
          "text": [
            "(894, 1)\n"
          ]
        }
      ]
    },
    {
      "cell_type": "code",
      "source": [
        "#Создаем генератор для обучения\n",
        "trainDataGen = TimeseriesGenerator(xTrain, yTrain,           #В качестве параметров наши выборки\n",
        "                               length=xLen, stride=1, sampling_rate=1, #Для каждой точки (из промежутка длины xLen)\n",
        "                               batch_size=8)                #Размер batch, который будем скармливать модели\n",
        "\n",
        "#Создаем аналогичный генератор для валидации при обучении\n",
        "testDataGen = TimeseriesGenerator(xTest, yTest,\n",
        "                               length=xLen, stride=1,\n",
        "                               batch_size=8)"
      ],
      "metadata": {
        "id": "r9HvDF7qQwXS"
      },
      "execution_count": null,
      "outputs": []
    },
    {
      "cell_type": "code",
      "source": [
        "print(trainDataGen[0][0].shape,\n",
        "      trainDataGen[0][1].shape)"
      ],
      "metadata": {
        "colab": {
          "base_uri": "https://localhost:8080/"
        },
        "id": "tSTa_wASRCAr",
        "outputId": "eaba6ecc-6084-408b-fc8c-a0c587c1d53c"
      },
      "execution_count": null,
      "outputs": [
        {
          "output_type": "stream",
          "name": "stdout",
          "text": [
            "(8, 60, 1) (8, 1)\n"
          ]
        }
      ]
    },
    {
      "cell_type": "code",
      "source": [
        "# Функция рассчитываем результаты прогнозирования сети\n",
        "# В аргументы принимает сеть (currModel) и проверочную выборку\n",
        "# Выдаёт результаты предсказания predVal\n",
        "# И правильные ответы в исходной размерности yValUnscaled (какими они были до нормирования)\n",
        "def getPred(currModel, xVal, yVal, yScaler):\n",
        "  # Предсказываем ответ сети по проверочной выборке\n",
        "  # И возвращаем исходны масштаб данных, до нормализации\n",
        "  predVal = yScaler.inverse_transform(currModel.predict(xVal))\n",
        "  yValUnscaled = yScaler.inverse_transform(yVal)\n",
        "  \n",
        "  return (predVal, yValUnscaled)\n",
        "\n",
        "# Функция визуализирует графики, что предсказала сеть и какие были правильные ответы\n",
        "# start - точка с которой начинаем отрисовку графика\n",
        "# step - длина графика, которую отрисовываем\n",
        "# channel - какой канал отрисовываем\n",
        "def showPredict(start, step, channel, predVal, yValUnscaled):\n",
        "  plt.figure(figsize=(22,6))\n",
        "  plt.plot(predVal[start:start+step, 0],\n",
        "           label='Прогноз')\n",
        "  plt.plot(yValUnscaled[start:start+step, channel], \n",
        "           label='Базовый ряд')\n",
        "  plt.xlabel('Время')\n",
        "  plt.ylabel('Значение')\n",
        "  plt.legend()\n",
        "  plt.show()\n",
        "  \n",
        "# Функция расёта корреляции дух одномерных векторов\n",
        "def correlate(a, b):\n",
        "  # Рассчитываем основные показатели\n",
        "  ma = a.mean() # Среднее значение первого вектора\n",
        "  mb = b.mean() # Среднее значение второго вектора\n",
        "  mab = (a*b).mean() # Среднее значение произведения векторов\n",
        "  sa = a.std() # Среднеквадратичное отклонение первого вектора\n",
        "  sb = b.std() # Среднеквадратичное отклонение второго вектора\n",
        "  \n",
        "  #Рассчитываем корреляцию\n",
        "  val = 1\n",
        "  if ((sa>0) & (sb>0)):\n",
        "    val = (mab-ma*mb)/(sa*sb)\n",
        "  return val\n",
        "\n",
        "# Функция рисуем корреляцию прогнозированного сигнала с правильным\n",
        "# Смещая на различное количество шагов назад\n",
        "# Для проверки появления эффекта автокорреляции\n",
        "# channels - по каким каналам отображать корреляцию\n",
        "# corrSteps - на какое количество шагов смещать сигнал назад для рассчёта корреляции\n",
        "def showCorr(channels, corrSteps, predVal, yValUnscaled):\n",
        "  # Проходим по всем каналам\n",
        "  for ch in channels:\n",
        "    corr = [] # Создаём пустой лист, в нём будут корреляции при смезении на i рагов обратно\n",
        "    yLen = yValUnscaled.shape[0] # Запоминаем размер проверочной выборки\n",
        "\n",
        "      # Постепенно увеличикаем шаг, насколько смещаем сигнал для проверки автокорреляции\n",
        "    for i in range(corrSteps):\n",
        "      # Получаем сигнал, смещённый на i шагов назад\n",
        "      # predVal[i:, ch]\n",
        "      # Сравниваем его с верными ответами, без смещения назад\n",
        "      # yValUnscaled[:yLen-i,ch]\n",
        "      # Рассчитываем их корреляцию и добавляем в лист\n",
        "      corr.append(correlate(yValUnscaled[:yLen-i,ch], predVal[i:, 0]))\n",
        "\n",
        "    own_corr = [] # Создаём пустой лист, в нём будут корреляции при смезении на i рагов обратно\n",
        "\n",
        "      # Постепенно увеличикаем шаг, насколько смещаем сигнал для проверки автокорреляции\n",
        "    for i in range(corrSteps):\n",
        "      # Получаем сигнал, смещённый на i шагов назад\n",
        "      # predVal[i:, ch]\n",
        "      # Сравниваем его с верными ответами, без смещения назад\n",
        "      # yValUnscaled[:yLen-i,ch]\n",
        "      # Рассчитываем их корреляцию и добавляем в лист\n",
        "      own_corr.append(correlate(yValUnscaled[:yLen-i,ch], yValUnscaled[i:, ch]))\n",
        "\n",
        "    # Отображаем график коррелций для данного шага\n",
        "    plt.figure(figsize=(14,7))\n",
        "    plt.plot(corr, label='Предсказание на ' + str(ch+1) + ' шаг')\n",
        "    plt.plot(own_corr, label='Эталон')\n",
        "\n",
        "  plt.xlabel('Время')\n",
        "  plt.ylabel('Значение')\n",
        "  plt.legend()\n",
        "  plt.show()"
      ],
      "metadata": {
        "id": "mAvpOhJTRPFD"
      },
      "execution_count": null,
      "outputs": []
    },
    {
      "cell_type": "code",
      "source": [
        "#Создадим генератор проверочной выборки, из которой потом вытащим xVal, yVal для проверки\n",
        "DataGen = TimeseriesGenerator(xTest, yTest,\n",
        "                               length=60, sampling_rate=1,\n",
        "                               batch_size=len(xTest)) #размер batch будет равен длине нашей выборки\n",
        "xVal = []\n",
        "yVal = []\n",
        "for i in DataGen:\n",
        "  xVal.append(i[0])\n",
        "  yVal.append(i[1])\n",
        "\n",
        "xVal = np.array(xVal)\n",
        "yVal = np.array(yVal)"
      ],
      "metadata": {
        "id": "UpfRQdXJRTEa"
      },
      "execution_count": null,
      "outputs": []
    },
    {
      "cell_type": "code",
      "source": [
        "#Создаём нейронку\n",
        "modelD = Sequential()\n",
        "modelD.add(Dense(128,input_shape = (xLen,1), activation=\"linear\" )) # 1 - количество каналов\n",
        "modelD.add(Flatten())\n",
        "modelD.add(Dense(1, activation=\"sigmoid\"))\n",
        "\n",
        "#Компилируем\n",
        "modelD.compile(loss=\"mse\", optimizer=Adam(lr=1e-4))\n",
        "\n",
        "modelD.summary()"
      ],
      "metadata": {
        "colab": {
          "base_uri": "https://localhost:8080/"
        },
        "id": "Mz_z5MHTRZYm",
        "outputId": "0905a606-1535-44de-f850-67133c9f49a4"
      },
      "execution_count": null,
      "outputs": [
        {
          "output_type": "stream",
          "name": "stdout",
          "text": [
            "Model: \"sequential_5\"\n",
            "_________________________________________________________________\n",
            " Layer (type)                Output Shape              Param #   \n",
            "=================================================================\n",
            " dense_10 (Dense)            (None, 60, 128)           256       \n",
            "                                                                 \n",
            " flatten_5 (Flatten)         (None, 7680)              0         \n",
            "                                                                 \n",
            " dense_11 (Dense)            (None, 1)                 7681      \n",
            "                                                                 \n",
            "=================================================================\n",
            "Total params: 7,937\n",
            "Trainable params: 7,937\n",
            "Non-trainable params: 0\n",
            "_________________________________________________________________\n"
          ]
        },
        {
          "output_type": "stream",
          "name": "stderr",
          "text": [
            "/usr/local/lib/python3.7/dist-packages/keras/optimizer_v2/adam.py:105: UserWarning: The `lr` argument is deprecated, use `learning_rate` instead.\n",
            "  super(Adam, self).__init__(name, **kwargs)\n"
          ]
        }
      ]
    },
    {
      "cell_type": "code",
      "source": [
        "#Запускаем обучение\n",
        "history = modelD.fit(\n",
        "                    trainDataGen, \n",
        "                    epochs=50, \n",
        "                    verbose=1, \n",
        "                    validation_data = testDataGen \n",
        "                    )"
      ],
      "metadata": {
        "colab": {
          "base_uri": "https://localhost:8080/"
        },
        "id": "uu3LGmloRgND",
        "outputId": "025ec4eb-bde1-4dc3-fb23-72b35c2a2f75"
      },
      "execution_count": null,
      "outputs": [
        {
          "output_type": "stream",
          "name": "stdout",
          "text": [
            "Epoch 1/50\n",
            "105/105 [==============================] - 1s 5ms/step - loss: 0.9043 - val_loss: 1.1276\n",
            "Epoch 2/50\n",
            "105/105 [==============================] - 0s 3ms/step - loss: 0.7485 - val_loss: 1.0868\n",
            "Epoch 3/50\n",
            "105/105 [==============================] - 0s 3ms/step - loss: 0.6962 - val_loss: 1.0811\n",
            "Epoch 4/50\n",
            "105/105 [==============================] - 0s 3ms/step - loss: 0.6565 - val_loss: 1.0918\n",
            "Epoch 5/50\n",
            "105/105 [==============================] - 0s 3ms/step - loss: 0.6306 - val_loss: 1.1020\n",
            "Epoch 6/50\n",
            "105/105 [==============================] - 0s 3ms/step - loss: 0.6160 - val_loss: 1.0996\n",
            "Epoch 7/50\n",
            "105/105 [==============================] - 0s 3ms/step - loss: 0.6085 - val_loss: 1.0869\n",
            "Epoch 8/50\n",
            "105/105 [==============================] - 0s 3ms/step - loss: 0.6038 - val_loss: 1.0787\n",
            "Epoch 9/50\n",
            "105/105 [==============================] - 0s 3ms/step - loss: 0.6000 - val_loss: 1.0686\n",
            "Epoch 10/50\n",
            "105/105 [==============================] - 0s 3ms/step - loss: 0.5974 - val_loss: 1.0591\n",
            "Epoch 11/50\n",
            "105/105 [==============================] - 0s 3ms/step - loss: 0.5950 - val_loss: 1.0529\n",
            "Epoch 12/50\n",
            "105/105 [==============================] - 0s 2ms/step - loss: 0.5922 - val_loss: 1.0532\n",
            "Epoch 13/50\n",
            "105/105 [==============================] - 0s 3ms/step - loss: 0.5905 - val_loss: 1.0471\n",
            "Epoch 14/50\n",
            "105/105 [==============================] - 0s 3ms/step - loss: 0.5887 - val_loss: 1.0435\n",
            "Epoch 15/50\n",
            "105/105 [==============================] - 0s 2ms/step - loss: 0.5874 - val_loss: 1.0413\n",
            "Epoch 16/50\n",
            "105/105 [==============================] - 0s 3ms/step - loss: 0.5860 - val_loss: 1.0408\n",
            "Epoch 17/50\n",
            "105/105 [==============================] - 0s 3ms/step - loss: 0.5849 - val_loss: 1.0375\n",
            "Epoch 18/50\n",
            "105/105 [==============================] - 0s 3ms/step - loss: 0.5838 - val_loss: 1.0362\n",
            "Epoch 19/50\n",
            "105/105 [==============================] - 0s 3ms/step - loss: 0.5827 - val_loss: 1.0349\n",
            "Epoch 20/50\n",
            "105/105 [==============================] - 0s 3ms/step - loss: 0.5818 - val_loss: 1.0343\n",
            "Epoch 21/50\n",
            "105/105 [==============================] - 0s 3ms/step - loss: 0.5808 - val_loss: 1.0349\n",
            "Epoch 22/50\n",
            "105/105 [==============================] - 0s 3ms/step - loss: 0.5804 - val_loss: 1.0347\n",
            "Epoch 23/50\n",
            "105/105 [==============================] - 0s 3ms/step - loss: 0.5796 - val_loss: 1.0338\n",
            "Epoch 24/50\n",
            "105/105 [==============================] - 0s 2ms/step - loss: 0.5788 - val_loss: 1.0323\n",
            "Epoch 25/50\n",
            "105/105 [==============================] - 0s 3ms/step - loss: 0.5782 - val_loss: 1.0332\n",
            "Epoch 26/50\n",
            "105/105 [==============================] - 0s 3ms/step - loss: 0.5780 - val_loss: 1.0324\n",
            "Epoch 27/50\n",
            "105/105 [==============================] - 0s 3ms/step - loss: 0.5776 - val_loss: 1.0327\n",
            "Epoch 28/50\n",
            "105/105 [==============================] - 0s 3ms/step - loss: 0.5769 - val_loss: 1.0318\n",
            "Epoch 29/50\n",
            "105/105 [==============================] - 0s 2ms/step - loss: 0.5764 - val_loss: 1.0309\n",
            "Epoch 30/50\n",
            "105/105 [==============================] - 0s 3ms/step - loss: 0.5761 - val_loss: 1.0312\n",
            "Epoch 31/50\n",
            "105/105 [==============================] - 0s 3ms/step - loss: 0.5757 - val_loss: 1.0316\n",
            "Epoch 32/50\n",
            "105/105 [==============================] - 0s 3ms/step - loss: 0.5754 - val_loss: 1.0304\n",
            "Epoch 33/50\n",
            "105/105 [==============================] - 0s 3ms/step - loss: 0.5751 - val_loss: 1.0316\n",
            "Epoch 34/50\n",
            "105/105 [==============================] - 0s 3ms/step - loss: 0.5748 - val_loss: 1.0314\n",
            "Epoch 35/50\n",
            "105/105 [==============================] - 0s 3ms/step - loss: 0.5746 - val_loss: 1.0318\n",
            "Epoch 36/50\n",
            "105/105 [==============================] - 0s 3ms/step - loss: 0.5742 - val_loss: 1.0304\n",
            "Epoch 37/50\n",
            "105/105 [==============================] - 0s 3ms/step - loss: 0.5739 - val_loss: 1.0305\n",
            "Epoch 38/50\n",
            "105/105 [==============================] - 0s 3ms/step - loss: 0.5736 - val_loss: 1.0308\n",
            "Epoch 39/50\n",
            "105/105 [==============================] - 0s 2ms/step - loss: 0.5733 - val_loss: 1.0299\n",
            "Epoch 40/50\n",
            "105/105 [==============================] - 0s 3ms/step - loss: 0.5731 - val_loss: 1.0294\n",
            "Epoch 41/50\n",
            "105/105 [==============================] - 0s 3ms/step - loss: 0.5731 - val_loss: 1.0296\n",
            "Epoch 42/50\n",
            "105/105 [==============================] - 0s 3ms/step - loss: 0.5730 - val_loss: 1.0290\n",
            "Epoch 43/50\n",
            "105/105 [==============================] - 0s 3ms/step - loss: 0.5729 - val_loss: 1.0298\n",
            "Epoch 44/50\n",
            "105/105 [==============================] - 0s 3ms/step - loss: 0.5722 - val_loss: 1.0283\n",
            "Epoch 45/50\n",
            "105/105 [==============================] - 0s 3ms/step - loss: 0.5719 - val_loss: 1.0303\n",
            "Epoch 46/50\n",
            "105/105 [==============================] - 0s 3ms/step - loss: 0.5721 - val_loss: 1.0285\n",
            "Epoch 47/50\n",
            "105/105 [==============================] - 0s 3ms/step - loss: 0.5718 - val_loss: 1.0289\n",
            "Epoch 48/50\n",
            "105/105 [==============================] - 0s 3ms/step - loss: 0.5716 - val_loss: 1.0288\n",
            "Epoch 49/50\n",
            "105/105 [==============================] - 0s 2ms/step - loss: 0.5715 - val_loss: 1.0286\n",
            "Epoch 50/50\n",
            "105/105 [==============================] - 0s 3ms/step - loss: 0.5709 - val_loss: 1.0294\n"
          ]
        }
      ]
    },
    {
      "cell_type": "markdown",
      "source": [
        "Результат Dense модели дает низкую точность, попробуем свертку"
      ],
      "metadata": {
        "id": "8p1GOpzXb2Yl"
      }
    },
    {
      "cell_type": "code",
      "source": [
        "modelC = Sequential()\n",
        "\n",
        "modelC.add(Conv1D(64, 3, input_shape = (xLen,1), activation=\"relu\"))\n",
        "modelC.add(Conv1D(64, 3, activation=\"relu\"))\n",
        "modelC.add(MaxPooling1D())\n",
        "modelC.add(Flatten())\n",
        "modelC.add(Dense(100, activation=\"relu\"))\n",
        "modelC.add(Dense(1, activation=\"linear\"))\n",
        "\n",
        "modelC.compile(loss=\"mse\", optimizer=Adam(lr=1e-4))\n",
        "\n",
        "modelC.summary()"
      ],
      "metadata": {
        "colab": {
          "base_uri": "https://localhost:8080/"
        },
        "id": "3nC1DHDeTfFj",
        "outputId": "201a15a6-7dd2-4d59-c8d5-0be68e1532fa"
      },
      "execution_count": null,
      "outputs": [
        {
          "output_type": "stream",
          "name": "stdout",
          "text": [
            "Model: \"sequential_10\"\n",
            "_________________________________________________________________\n",
            " Layer (type)                Output Shape              Param #   \n",
            "=================================================================\n",
            " conv1d_8 (Conv1D)           (None, 58, 64)            256       \n",
            "                                                                 \n",
            " conv1d_9 (Conv1D)           (None, 56, 64)            12352     \n",
            "                                                                 \n",
            " max_pooling1d_4 (MaxPooling  (None, 28, 64)           0         \n",
            " 1D)                                                             \n",
            "                                                                 \n",
            " flatten_10 (Flatten)        (None, 1792)              0         \n",
            "                                                                 \n",
            " dense_20 (Dense)            (None, 100)               179300    \n",
            "                                                                 \n",
            " dense_21 (Dense)            (None, 1)                 101       \n",
            "                                                                 \n",
            "=================================================================\n",
            "Total params: 192,009\n",
            "Trainable params: 192,009\n",
            "Non-trainable params: 0\n",
            "_________________________________________________________________\n"
          ]
        },
        {
          "output_type": "stream",
          "name": "stderr",
          "text": [
            "/usr/local/lib/python3.7/dist-packages/keras/optimizer_v2/adam.py:105: UserWarning: The `lr` argument is deprecated, use `learning_rate` instead.\n",
            "  super(Adam, self).__init__(name, **kwargs)\n"
          ]
        }
      ]
    },
    {
      "cell_type": "code",
      "source": [
        "history = modelC.fit(trainDataGen,\n",
        "                    epochs=50, \n",
        "                    verbose=1,\n",
        "                    validation_data=testDataGen)"
      ],
      "metadata": {
        "colab": {
          "base_uri": "https://localhost:8080/"
        },
        "id": "nFfFYQ2uTqmO",
        "outputId": "e73002a6-c70b-48ba-acd2-f770f32f0148"
      },
      "execution_count": null,
      "outputs": [
        {
          "output_type": "stream",
          "name": "stdout",
          "text": [
            "Epoch 1/50\n",
            "105/105 [==============================] - 1s 8ms/step - loss: 0.3542 - val_loss: 0.7509\n",
            "Epoch 2/50\n",
            "105/105 [==============================] - 1s 7ms/step - loss: 0.1674 - val_loss: 0.2774\n",
            "Epoch 3/50\n",
            "105/105 [==============================] - 1s 7ms/step - loss: 0.1408 - val_loss: 0.4319\n",
            "Epoch 4/50\n",
            "105/105 [==============================] - 1s 7ms/step - loss: 0.1187 - val_loss: 0.3830\n",
            "Epoch 5/50\n",
            "105/105 [==============================] - 1s 7ms/step - loss: 0.1162 - val_loss: 0.2892\n",
            "Epoch 6/50\n",
            "105/105 [==============================] - 1s 7ms/step - loss: 0.1075 - val_loss: 0.2131\n",
            "Epoch 7/50\n",
            "105/105 [==============================] - 1s 7ms/step - loss: 0.0998 - val_loss: 0.2444\n",
            "Epoch 8/50\n",
            "105/105 [==============================] - 1s 7ms/step - loss: 0.0893 - val_loss: 0.2496\n",
            "Epoch 9/50\n",
            "105/105 [==============================] - 1s 7ms/step - loss: 0.0826 - val_loss: 0.2375\n",
            "Epoch 10/50\n",
            "105/105 [==============================] - 1s 7ms/step - loss: 0.0763 - val_loss: 0.2185\n",
            "Epoch 11/50\n",
            "105/105 [==============================] - 1s 7ms/step - loss: 0.0698 - val_loss: 0.2162\n",
            "Epoch 12/50\n",
            "105/105 [==============================] - 1s 7ms/step - loss: 0.0685 - val_loss: 0.2732\n",
            "Epoch 13/50\n",
            "105/105 [==============================] - 1s 7ms/step - loss: 0.0667 - val_loss: 0.1754\n",
            "Epoch 14/50\n",
            "105/105 [==============================] - 1s 7ms/step - loss: 0.0643 - val_loss: 0.1768\n",
            "Epoch 15/50\n",
            "105/105 [==============================] - 1s 7ms/step - loss: 0.0642 - val_loss: 0.2195\n",
            "Epoch 16/50\n",
            "105/105 [==============================] - 1s 7ms/step - loss: 0.0607 - val_loss: 0.1925\n",
            "Epoch 17/50\n",
            "105/105 [==============================] - 1s 7ms/step - loss: 0.0534 - val_loss: 0.1968\n",
            "Epoch 18/50\n",
            "105/105 [==============================] - 1s 7ms/step - loss: 0.0563 - val_loss: 0.1863\n",
            "Epoch 19/50\n",
            "105/105 [==============================] - 1s 7ms/step - loss: 0.0529 - val_loss: 0.2091\n",
            "Epoch 20/50\n",
            "105/105 [==============================] - 1s 7ms/step - loss: 0.0485 - val_loss: 0.1955\n",
            "Epoch 21/50\n",
            "105/105 [==============================] - 1s 7ms/step - loss: 0.0484 - val_loss: 0.1561\n",
            "Epoch 22/50\n",
            "105/105 [==============================] - 1s 7ms/step - loss: 0.0440 - val_loss: 0.1564\n",
            "Epoch 23/50\n",
            "105/105 [==============================] - 1s 7ms/step - loss: 0.0446 - val_loss: 0.1621\n",
            "Epoch 24/50\n",
            "105/105 [==============================] - 1s 7ms/step - loss: 0.0424 - val_loss: 0.1657\n",
            "Epoch 25/50\n",
            "105/105 [==============================] - 1s 7ms/step - loss: 0.0393 - val_loss: 0.1802\n",
            "Epoch 26/50\n",
            "105/105 [==============================] - 1s 7ms/step - loss: 0.0407 - val_loss: 0.2029\n",
            "Epoch 27/50\n",
            "105/105 [==============================] - 1s 7ms/step - loss: 0.0414 - val_loss: 0.1671\n",
            "Epoch 28/50\n",
            "105/105 [==============================] - 1s 7ms/step - loss: 0.0364 - val_loss: 0.1877\n",
            "Epoch 29/50\n",
            "105/105 [==============================] - 1s 7ms/step - loss: 0.0363 - val_loss: 0.1547\n",
            "Epoch 30/50\n",
            "105/105 [==============================] - 1s 7ms/step - loss: 0.0344 - val_loss: 0.1399\n",
            "Epoch 31/50\n",
            "105/105 [==============================] - 1s 7ms/step - loss: 0.0324 - val_loss: 0.1478\n",
            "Epoch 32/50\n",
            "105/105 [==============================] - 1s 7ms/step - loss: 0.0305 - val_loss: 0.1408\n",
            "Epoch 33/50\n",
            "105/105 [==============================] - 1s 7ms/step - loss: 0.0309 - val_loss: 0.1509\n",
            "Epoch 34/50\n",
            "105/105 [==============================] - 1s 7ms/step - loss: 0.0329 - val_loss: 0.1866\n",
            "Epoch 35/50\n",
            "105/105 [==============================] - 1s 7ms/step - loss: 0.0345 - val_loss: 0.1457\n",
            "Epoch 36/50\n",
            "105/105 [==============================] - 1s 7ms/step - loss: 0.0313 - val_loss: 0.1323\n",
            "Epoch 37/50\n",
            "105/105 [==============================] - 1s 7ms/step - loss: 0.0278 - val_loss: 0.1451\n",
            "Epoch 38/50\n",
            "105/105 [==============================] - 1s 7ms/step - loss: 0.0294 - val_loss: 0.1273\n",
            "Epoch 39/50\n",
            "105/105 [==============================] - 1s 7ms/step - loss: 0.0267 - val_loss: 0.1437\n",
            "Epoch 40/50\n",
            "105/105 [==============================] - 1s 7ms/step - loss: 0.0267 - val_loss: 0.1440\n",
            "Epoch 41/50\n",
            "105/105 [==============================] - 1s 7ms/step - loss: 0.0249 - val_loss: 0.1252\n",
            "Epoch 42/50\n",
            "105/105 [==============================] - 1s 7ms/step - loss: 0.0245 - val_loss: 0.1334\n",
            "Epoch 43/50\n",
            "105/105 [==============================] - 1s 7ms/step - loss: 0.0259 - val_loss: 0.1680\n",
            "Epoch 44/50\n",
            "105/105 [==============================] - 1s 7ms/step - loss: 0.0235 - val_loss: 0.1271\n",
            "Epoch 45/50\n",
            "105/105 [==============================] - 1s 7ms/step - loss: 0.0226 - val_loss: 0.1571\n",
            "Epoch 46/50\n",
            "105/105 [==============================] - 1s 7ms/step - loss: 0.0213 - val_loss: 0.1264\n",
            "Epoch 47/50\n",
            "105/105 [==============================] - 1s 7ms/step - loss: 0.0224 - val_loss: 0.1293\n",
            "Epoch 48/50\n",
            "105/105 [==============================] - 1s 7ms/step - loss: 0.0209 - val_loss: 0.1233\n",
            "Epoch 49/50\n",
            "105/105 [==============================] - 1s 7ms/step - loss: 0.0220 - val_loss: 0.1249\n",
            "Epoch 50/50\n",
            "105/105 [==============================] - 1s 7ms/step - loss: 0.0209 - val_loss: 0.1281\n"
          ]
        }
      ]
    },
    {
      "cell_type": "code",
      "source": [
        "#Выводим графики\n",
        "plt.figure(figsize=(14,7))\n",
        "plt.plot(history.history['loss'], \n",
        "         label='Средняя абсолютная ошибка на обучающем наборе')\n",
        "plt.plot(history.history['val_loss'], \n",
        "         label='Средняя абсолютная ошибка на проверочном наборе')\n",
        "plt.ylabel('Средняя ошибка')\n",
        "plt.legend()\n",
        "plt.show()"
      ],
      "metadata": {
        "colab": {
          "base_uri": "https://localhost:8080/",
          "height": 427
        },
        "id": "tX-OZaKHT50I",
        "outputId": "f6eca76b-50bb-4616-d4af-30bd8856eabb"
      },
      "execution_count": null,
      "outputs": [
        {
          "output_type": "display_data",
          "data": {
            "image/png": "[encoded data removed]",
            "text/plain": [
              "<Figure size 1008x504 with 1 Axes>"
            ]
          },
          "metadata": {
            "needs_background": "light"
          }
        }
      ]
    },
    {
      "cell_type": "code",
      "source": [
        "#Прогнозируем данные текущей сетью\n",
        "(predVal, yValUnscaled) = getPred(modelC, xVal[0], yVal[0], yScaler) #Прогнозируем данные\n",
        "\n",
        "#Отображаем графики\n",
        "showPredict(0, 160, 0, predVal, yValUnscaled)"
      ],
      "metadata": {
        "colab": {
          "base_uri": "https://localhost:8080/",
          "height": 387
        },
        "id": "jQ2l43fKUGca",
        "outputId": "09b777f0-a6aa-4f06-ef66-0595d0f1be39"
      },
      "execution_count": null,
      "outputs": [
        {
          "output_type": "display_data",
          "data": {
            "image/png": "[encoded data removed]",
            "text/plain": [
              "<Figure size 1584x432 with 1 Axes>"
            ]
          },
          "metadata": {
            "needs_background": "light"
          }
        }
      ]
    },
    {
      "cell_type": "code",
      "source": [
        "#Отображаем корреляцию\n",
        "#Используем выходной канал \n",
        "#Проверяем корреляцию на глубину 60 шагов\n",
        "showCorr([0], 60, predVal, yValUnscaled)"
      ],
      "metadata": {
        "colab": {
          "base_uri": "https://localhost:8080/",
          "height": 442
        },
        "id": "ajjZ7C5JUUVr",
        "outputId": "91f38a5d-8511-4961-af09-cfbc024cfdf3"
      },
      "execution_count": null,
      "outputs": [
        {
          "output_type": "display_data",
          "data": {
            "image/png": "[encoded data removed]",
            "text/plain": [
              "<Figure size 1008x504 with 1 Axes>"
            ]
          },
          "metadata": {
            "needs_background": "light"
          }
        }
      ]
    }
  ]
}