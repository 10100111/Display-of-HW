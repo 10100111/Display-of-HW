{
  "nbformat": 4,
  "nbformat_minor": 0,
  "metadata": {
    "colab": {
      "name": "37.Ultra Lite.VAE.ipynb",
      "provenance": [],
      "collapsed_sections": [],
      "authorship_tag": "ABX9TyOxfv4lUSJf8myP0P4v7P3y",
      "include_colab_link": true
    },
    "kernelspec": {
      "name": "python3",
      "display_name": "Python 3"
    },
    "language_info": {
      "name": "python"
    }
  },
  "cells": [
    {
      "cell_type": "markdown",
      "metadata": {
        "id": "view-in-github",
        "colab_type": "text"
      },
      "source": [
        "<a href=\"https://colab.research.google.com/github/10100111/Display-of-HW1/blob/main/37_Ultra_Lite_VAE.ipynb\" target=\"_parent\"><img src=\"https://colab.research.google.com/assets/colab-badge.svg\" alt=\"Open In Colab\"/></a>"
      ]
    },
    {
      "cell_type": "markdown",
      "source": [
        "Задание Ultra Lite\n",
        "\n",
        "Макс 10 баллов\n",
        "\n",
        "Перепишите вариационный автокодировщик на базе Mnist с нуля в новом ноутбуке. Можно подсматривать в ноутбук занятия, но лучше писать код своими руками, а не копировать"
      ],
      "metadata": {
        "id": "UmJbiMlduNK4"
      }
    },
    {
      "cell_type": "code",
      "source": [
        "!pip install keras==2.0 -q #загружаем 2ю версию кераса для корректной работы скрипта\n",
        "!pip install tensorflow==1.13.2 -q # загружаем эту версию тензорфлоу для корректной работы скрипта"
      ],
      "metadata": {
        "colab": {
          "base_uri": "https://localhost:8080/"
        },
        "id": "YCEW6WmEuV1T",
        "outputId": "4c7a842a-3a64-4f90-f710-e5d9b098adab"
      },
      "execution_count": 1,
      "outputs": [
        {
          "output_type": "stream",
          "name": "stdout",
          "text": [
            "\u001b[K     |████████████████████████████████| 191 kB 9.8 MB/s \n",
            "\u001b[K     |████████████████████████████████| 458.3 MB 15 kB/s \n",
            "\u001b[K     |████████████████████████████████| 458.3 MB 15 kB/s \n",
            "\u001b[K     |████████████████████████████████| 132 kB 70.4 MB/s \n",
            "\u001b[K     |████████████████████████████████| 458.3 MB 13 kB/s \n",
            "\u001b[K     |████████████████████████████████| 454.4 MB 29 kB/s \n",
            "\u001b[K     |████████████████████████████████| 4.0 MB 54.1 MB/s \n",
            "\u001b[K     |████████████████████████████████| 1.2 MB 67.4 MB/s \n",
            "\u001b[K     |████████████████████████████████| 462 kB 87.7 MB/s \n",
            "\u001b[?25h  Building wheel for keras (setup.py) ... \u001b[?25l\u001b[?25hdone\n",
            "  Building wheel for wrapt (setup.py) ... \u001b[?25l\u001b[?25hdone\n",
            "\u001b[K     |████████████████████████████████| 92.7 MB 1.1 MB/s \n",
            "\u001b[K     |████████████████████████████████| 3.2 MB 50.3 MB/s \n",
            "\u001b[K     |████████████████████████████████| 50 kB 4.7 MB/s \n",
            "\u001b[K     |████████████████████████████████| 367 kB 8.5 MB/s \n",
            "\u001b[31mERROR: pip's dependency resolver does not currently take into account all the packages that are installed. This behaviour is the source of the following dependency conflicts.\n",
            "kapre 0.3.7 requires tensorflow>=2.0.0, but you have tensorflow 1.13.2 which is incompatible.\u001b[0m\n",
            "\u001b[?25h"
          ]
        }
      ]
    },
    {
      "cell_type": "code",
      "source": [
        "import sys # модуль содержит параметры и функции среды Python\n",
        "import numpy as np\n",
        "import matplotlib.pyplot as plt\n",
        "import seaborn as sns #более высокоуровневое API на базе библиотеки matplotlib\n",
        "from scipy.stats import norm # модуль с нормальными непрерывными случайными величинами\n",
        "from scipy.stats import multivariate_normal\n",
        "\n",
        "# from keras.datasets import mnist - сработало без tensorflow\n",
        "from tensorflow.keras.datasets import mnist\n",
        "from tensorflow.keras.optimizers import Adam, RMSprop \n",
        "from tensorflow.keras.layers import Input, Dense, LeakyReLU # LeakyReLU - слой активацтт в последнее время хорошо работает в АЕ\n",
        "from tensorflow.keras.layers import Dense, BatchNormalization, Dropout, Flatten, Reshape, Lambda  \n",
        "from tensorflow.keras.models import Model # загружаем абстрактный класс базовой модели сети\n",
        "from tensorflow.keras.losses import binary_crossentropy #импортируем функцию потерь\n",
        "from tensorflow.keras.callbacks import LambdaCallback, ReduceLROnPlateau, TensorBoard\n",
        "\n",
        "from tensorflow.keras import backend as K # устанавливаем переменную для окружения Кераса (мы не можем пользоваться np или math библ-ми , только керасовскими модулями в которых также есть эти функции)\n",
        "from IPython.display import clear_output #импортируем модуль очистки output'a\n"
      ],
      "metadata": {
        "id": "z7Ebcr41vdmC"
      },
      "execution_count": 28,
      "outputs": []
    },
    {
      "cell_type": "code",
      "source": [
        "(x_train, y_train), (x_test, y_test) = mnist.load_data() # загружаем данные из базы mnist\n",
        "\n",
        "x_train = x_train.astype('float32')/255. # представляем x_train в виде значений от 0 до 1\n",
        "x_test = x_test.astype('float32')/255. # представляем x_test в виде значений от 0 до 1\n",
        "x_train = np.reshape(x_train, (len(x_train), 28,28,1)) # меняем размер на нужный нам\n",
        "x_test = np.reshape(x_test, (len(x_test), 28,28,1)) # меняем размер на нужный нам\n"
      ],
      "metadata": {
        "id": "RMNK4cGI1Xms"
      },
      "execution_count": 29,
      "outputs": []
    },
    {
      "cell_type": "code",
      "source": [
        "# создаем переменные с гиперпараметрами\n",
        "batch_size = 100 # размер батча\n",
        "latent_dim = 10 # размер скрытого (латентного , embedding) слоя\n",
        "dropout_rate = 0.3 # размер слоя регуляризации, \"включим\" указанное количество нейронов\n",
        "start_lr = 0.0001 # шаг обучения"
      ],
      "metadata": {
        "id": "c4oY3nOW375V"
      },
      "execution_count": 30,
      "outputs": []
    },
    {
      "cell_type": "code",
      "source": [
        "def create_vae():  # создаем функцию автокодировщика\n",
        "  models = {}      # задаем словарь моделей\n",
        "\n",
        "  #Добавим Dropout и BatchNormalization\n",
        "  def apply_bn_and_dropout(x):    #функция будет принимать на вход слой х\n",
        "    return Dropout(dropout_rate)(BatchNormalization()(x)) # и применять к нему регуляризацию/нормализацию\n",
        "\n",
        "  #Энкодер\n",
        "  input_img = Input(batch_shape = (batch_size, 28,28,1)) # размерности батч, строк, строк, столбцов, фильтров одной картинки \n",
        "  \n",
        "  x = Flatten()(input_img)\n",
        "  x = Dense(256, activation='relu')(x) # сплющиваем данные\n",
        "  x = apply_bn_and_dropout(x) # применяем функцию регуляризации  нормализации \n",
        "  x = Dense(128, activation='relu')(x)\n",
        "  x = apply_bn_and_dropout(x)\n",
        "\n",
        "  # Предсказываем параметры распределений\n",
        "  # Вместо того, чтобы предсказывать стандартное отклонеие, предсказываем логарифм вариции \n",
        "\n",
        "  z_mean = Dense(latent_dim)(x) # скртое пространство мат ожидание (мю) размером 10\n",
        "\n",
        "  z_log_var = Dense(latent_dim)(x) # cкртое пространство (логарифм вариации) размером 10 (сигма)\n",
        "\n",
        "  # Сэмплирование из Q c трюком репараметризации\n",
        "  def sampling(args): # объявляем функцию сэмплирования\n",
        "    z_mean, z_log_var = args # принимаем в аргументах z_mean, z_log_var, раскусываем их\n",
        "    \n",
        "    # Керасовским методом делаем нормальное распределение (500 10тимерных), мат.ожидание 0, станд. откл 1\n",
        "    epsilon = K.random_normal(shape=(batch_size, latent_dim), mean=0., stddev=1.0)\n",
        "\n",
        "    return z_mean + K.exp(z_log_var / 2) * epsilon\n",
        "  \n",
        "  # Задаем самописный слой, который принимает лист [z_mean, z_log_var], семплирует и на выходе дает размерность (10,)\n",
        "  l = Lambda(sampling, output_shape=(latent_dim,))([z_mean, z_log_var])\n",
        "\n",
        "  models['encoder'] = Model(input_img, l) # модель энкодера от входа до лямбда слоя\n",
        "  models['z_meaner'] = Model(input_img, z_mean) # отдельная модель с путем от входа до z_mean\n",
        "  models['z_lvarer'] = Model(input_img, z_log_var) # отдельная модель с путем от входа до z_log_var\n",
        "\n",
        "  # Декодер\n",
        "  z = Input(shape=(latent_dim,)) # задаем входную размерность (10,)\n",
        "  x = Dense(128)(z) # полносвязный слой на 128 нейронов\n",
        "  x = LeakyReLU()(x) # применяем функцию активации отдельным слоем\n",
        "  x = apply_bn_and_dropout(x) # применяем функцию добавления регуляризации/нормализации \n",
        "  x = Dense(256)(x)  \n",
        "  x = LeakyReLU()(x) \n",
        "  x = apply_bn_and_dropout(x)\n",
        "  x = Dense(28*28, activation='sigmoid')(x) #полносвязный слой на 784 нейрона\n",
        "  decoded = Reshape((28,28,1))(x) #меняем форму и приводим к нужным нам размерам\n",
        "  \n",
        "  models['decoder'] = Model(z, decoded, name = 'Decoder') # собираем модель декодера\n",
        "  \n",
        "  # Собираем вариационный автокодировщик\n",
        "  models['vae'] = Model(input_img, models['decoder'](models['encoder'](input_img)), name = 'vae')  \n",
        "\n",
        "  def vae_loss(x, decoded): # объявляем самописную функцию потерь\n",
        "    x = K.reshape(x, shape=(batch_size, 28*28)) # меняем размеры 'x' в одномерный через керасовскую функцию\n",
        "    decoded = K.reshape(decoded, shape=(batch_size, 28*28)) # меняем размеры 'decoded' в одномерный через керасовскую функцию\n",
        "    xent_loss = 28*28*binary_crossentropy(x, decoded) # берем бинарную кроссэнтропию между 'x' и 'decoded' с учетом пикселей\n",
        "    kl_loss = -0.5*K.sum(1 + z_log_var - K.square(z_mean) - K.exp(z_log_var), axis=-1) # по формуле устанавливаем ошибку kl_loss\n",
        "\n",
        "    return (xent_loss + kl_loss)/2/28/28 # функция вернет суммарную ошибку с учетом распределения и размеров пикселей\n",
        "  return models, vae_loss\n",
        "\n",
        "models, vae_loss = create_vae() # получаем модели и свою функцию потерь\n",
        "vae = models['vae'] # задаем модель вариационного автокодировщика\n",
        "\n",
        "   \n"
      ],
      "metadata": {
        "id": "w-xmrM_r449r"
      },
      "execution_count": 31,
      "outputs": []
    },
    {
      "cell_type": "code",
      "source": [
        "vae.compile(optimizer=Adam(start_lr), loss=vae_loss) # компилируем модель с выбранным оптимайзером и своей функцией потерь "
      ],
      "metadata": {
        "id": "eIQPrNe90QNH"
      },
      "execution_count": 32,
      "outputs": []
    },
    {
      "cell_type": "code",
      "source": [
        "digit_size = 28 # задаем размеры цифр\n",
        "\n",
        "def plot_digits(*args, invert_colors = False): # функция отрисует две линии картинок - оригинальные и выходные из автокодировщика\n",
        "  args = [x.squeeze() for x in args] # удаляем оси с одним элементом из аргументов\n",
        "  n = min([x.shape[0] for x in args]) # берем минимальное от нулевой оси в аргументах\n",
        "  figure = np.zeros((digit_size * len(args), digit_size * n)) # создаем фигуру с использованием массива нулей по заданным размерам\n",
        "\n",
        "  for i in range(n):\n",
        "    for j in range(len(args)): # заполняем фигуру значениями\n",
        "      figure[j * digit_size: (j + 1) * digit_size,\n",
        "             i * digit_size: (i + 1) * digit_size] = args[j][i].squeeze()\n",
        "\n",
        "  if invert_colors: # если значение invert_colors = True\n",
        "    figure = 1-figure #  то фигуру делаем обратной\n",
        "\n",
        "  plt.figure(figsize=(2*n, 2*len(args))) # отображаем фигуру с заданными значениями\n",
        "  plt.imshow(figure, cmap='Greys_r') # выведем на экран в указанных цветах\n",
        "  plt.grid(False) # указываем, что сетка не нужна\n",
        "  ax = plt.gca() # получаем текущий объект Axes\n",
        "  ax.get_xaxis().set_visible(False) # ось координат х делаем невидимой\n",
        "  ax.get_yaxis().set_visible(False) # ось координат у делаем невидимой\n",
        "  plt.show()\n",
        "\n",
        "n = 15 # картинка 15х15 цифр\n",
        "digit_size = 28\n"
      ],
      "metadata": {
        "id": "9hyNmBS80o7c"
      },
      "execution_count": 41,
      "outputs": []
    },
    {
      "cell_type": "code",
      "source": [
        "# Массивы в которые будем сохранять результаты для последующей визуализации\n",
        "latent_distrs = []\n",
        "epochs = []\n",
        "\n",
        "# эпохи в которые будем сохранять\n",
        "save_epochs = set([i*5 for i in range(0, 25)])\n",
        "\n",
        "# отслеживать будем вот на этих цифрах\n",
        "imgs = x_test[:batch_size]\n",
        "n_compare = 10\n",
        "\n",
        "# Модели\n",
        "generator = models['decoder']\n",
        "encoder_mean = models['z_meaner']\n",
        "\n",
        "# Функция, которую будем запускать после каждой эпохи\n",
        "def on_epoch_end(epoch, logs):\n",
        "  if epoch in save_epochs:\n",
        "    clear_output() # не захламляем аутпут\n",
        "\n",
        "    # Сравниваем реальные и декодированные цифры\n",
        "    decoded = vae.predict(imgs, batch_size = batch_size)\n",
        "    plot_digits(imgs[:n_compare], decoded[:n_compare])\n",
        "\n",
        "    # Cохранение многообразия и распределения z для создания анимации после\n",
        "    epochs.append(epoch)\n",
        "    latent_distrs.append(encoder_mean.predict(x_test, batch_size))\n",
        "\n",
        "# Коллбеки\n",
        "pltfig = LambdaCallback(on_epoch_end=on_epoch_end)"
      ],
      "metadata": {
        "id": "785azW0Y-6PX"
      },
      "execution_count": 42,
      "outputs": []
    },
    {
      "cell_type": "code",
      "source": [
        "\n",
        "# Запуск обучения\n",
        "vae.fit(x_train, x_train, shuffle=True, epochs=5,\n",
        "        batch_size=batch_size,\n",
        "        validation_data=(x_test, x_test),\n",
        "        callbacks=[pltfig],\n",
        "        verbose=1) # грузим данные в модель и задаем апраметры обучение"
      ],
      "metadata": {
        "colab": {
          "base_uri": "https://localhost:8080/",
          "height": 435
        },
        "id": "njuAdyTBNghc",
        "outputId": "b1becaa3-bfff-4155-9e61-e0d47b554315"
      },
      "execution_count": 43,
      "outputs": [
        {
          "output_type": "display_data",
          "data": {
            "image/png": "[encoded data removed]",
            "text/plain": [
              "<Figure size 1440x288 with 1 Axes>"
            ]
          },
          "metadata": {
            "needs_background": "light"
          }
        },
        {
          "output_type": "stream",
          "name": "stdout",
          "text": [
            "60000/60000 [==============================] - 12s 205us/sample - loss: 0.0991 - val_loss: 0.0881\n",
            "Epoch 2/5\n",
            "60000/60000 [==============================] - 12s 196us/sample - loss: 0.0974 - val_loss: 0.0867\n",
            "Epoch 3/5\n",
            "60000/60000 [==============================] - 12s 200us/sample - loss: 0.0961 - val_loss: 0.0856\n",
            "Epoch 4/5\n",
            "60000/60000 [==============================] - 12s 201us/sample - loss: 0.0952 - val_loss: 0.0848\n",
            "Epoch 5/5\n",
            "60000/60000 [==============================] - 12s 201us/sample - loss: 0.0944 - val_loss: 0.0841\n"
          ]
        },
        {
          "output_type": "execute_result",
          "data": {
            "text/plain": [
              "<tensorflow.python.keras.callbacks.History at 0x7f51a2350590>"
            ]
          },
          "metadata": {},
          "execution_count": 43
        }
      ]
    }
  ]
}