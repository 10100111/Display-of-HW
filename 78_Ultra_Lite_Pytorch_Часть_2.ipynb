{
  "nbformat": 4,
  "nbformat_minor": 0,
  "metadata": {
    "colab": {
      "provenance": [],
      "include_colab_link": true
    },
    "kernelspec": {
      "name": "python3",
      "display_name": "Python 3"
    },
    "accelerator": "GPU"
  },
  "cells": [
    {
      "cell_type": "markdown",
      "metadata": {
        "id": "view-in-github",
        "colab_type": "text"
      },
      "source": [
        "<a href=\"https://colab.research.google.com/github/10100111/Display-of-HW1/blob/main/78_Ultra_Lite_Pytorch_%D0%A7%D0%B0%D1%81%D1%82%D1%8C_2.ipynb\" target=\"_parent\"><img src=\"https://colab.research.google.com/assets/colab-badge.svg\" alt=\"Open In Colab\"/></a>"
      ]
    },
    {
      "cell_type": "markdown",
      "source": [
        "Задание Ultra Lite\n",
        "\n",
        "Макс 10 баллов\n",
        "\n",
        "Возьмите шаблон ноутбука и напишите по памяти сеть, построенную на предобученной сети для классификации изображений, используя альтернативный датасет из библиотеки torchvision."
      ],
      "metadata": {
        "id": "XlNLWXOe5AIJ"
      }
    },
    {
      "cell_type": "code",
      "metadata": {
        "id": "4D2Vsc8Dp_Rg"
      },
      "source": [
        "from torchvision import models # здесь лежат предобученные сетки\n",
        "\n",
        "#import argparse\n",
        "from types import SimpleNamespace # простой класс, где можно прописать параметры\n",
        "import json\n",
        "\n",
        "# Для визуализации\n",
        "import numpy as np\n",
        "import matplotlib.pyplot as plt\n",
        "%matplotlib inline\n",
        "from PIL import Image\n",
        "import time\n",
        "import scipy\n",
        "from google.colab import files\n",
        "\n",
        "# Библиотеки Pytorch\n",
        "import torch \n",
        "import torchvision # здесь лежит mnist, cifar и много других датасетов и трансформаций для картинок\n",
        "import torch.nn as nn # здесь лежат все слои\n",
        "import torch.utils.data as data # работа с загрузчиком данных\n",
        "import torchvision.transforms as transforms\n",
        "import torchvision.datasets as dsets #работа с классом Датасет\n",
        "\n",
        "# Вывод информации о модели\n",
        "from torchsummary import summary"
      ],
      "execution_count": null,
      "outputs": []
    },
    {
      "cell_type": "code",
      "metadata": {
        "id": "G-Tiq7TXVeBj",
        "colab": {
          "base_uri": "https://localhost:8080/"
        },
        "outputId": "baaa12fb-0c92-4c29-c7e7-b9829e9aac2f"
      },
      "source": [
        "from google.colab import drive\n",
        "drive.mount('/content/drive')"
      ],
      "execution_count": null,
      "outputs": [
        {
          "output_type": "stream",
          "name": "stdout",
          "text": [
            "Drive already mounted at /content/drive; to attempt to forcibly remount, call drive.mount(\"/content/drive\", force_remount=True).\n"
          ]
        }
      ]
    },
    {
      "cell_type": "code",
      "metadata": {
        "id": "24y6AHjzp_Rt",
        "colab": {
          "base_uri": "https://localhost:8080/"
        },
        "outputId": "0f7d07c1-894f-49ee-8b50-45d22b1ae19b"
      },
      "source": [
        "# Проверяем доступен ли GPU и выбираем устройство\n",
        "device = torch.device('cuda' if torch.cuda.is_available() else 'cpu')\n",
        "device"
      ],
      "execution_count": null,
      "outputs": [
        {
          "output_type": "execute_result",
          "data": {
            "text/plain": [
              "device(type='cuda')"
            ]
          },
          "metadata": {},
          "execution_count": 62
        }
      ]
    },
    {
      "cell_type": "markdown",
      "metadata": {
        "id": "Ghyc5xCgbV2M"
      },
      "source": [
        "## Пример использования предобученной модели\n",
        "\n",
        "\n"
      ]
    },
    {
      "cell_type": "code",
      "metadata": {
        "id": "Nvav-H9dbV2H",
        "colab": {
          "base_uri": "https://localhost:8080/"
        },
        "outputId": "ef3ed6db-81cf-455d-a16f-9c33310c0151"
      },
      "source": [
        "# загружаем готовую vgg16 с предобученными весами, переключаем в режим проверки (evaluate)\n",
        "vgg16 = torchvision.models.vgg16(pretrained=True).eval().to(device)"
      ],
      "execution_count": null,
      "outputs": [
        {
          "output_type": "stream",
          "name": "stderr",
          "text": [
            "/usr/local/lib/python3.8/dist-packages/torchvision/models/_utils.py:208: UserWarning: The parameter 'pretrained' is deprecated since 0.13 and may be removed in the future, please use 'weights' instead.\n",
            "  warnings.warn(\n",
            "/usr/local/lib/python3.8/dist-packages/torchvision/models/_utils.py:223: UserWarning: Arguments other than a weight enum or `None` for 'weights' are deprecated since 0.13 and may be removed in the future. The current behavior is equivalent to passing `weights=VGG16_Weights.IMAGENET1K_V1`. You can also use `weights=VGG16_Weights.DEFAULT` to get the most up-to-date weights.\n",
            "  warnings.warn(msg)\n"
          ]
        }
      ]
    },
    {
      "cell_type": "code",
      "metadata": {
        "colab": {
          "base_uri": "https://localhost:8080/"
        },
        "id": "0UOO9sfSb4hn",
        "outputId": "8efe9e52-4834-46f5-94e3-db121eac98ee"
      },
      "source": [
        "vgg16"
      ],
      "execution_count": null,
      "outputs": [
        {
          "output_type": "execute_result",
          "data": {
            "text/plain": [
              "VGG(\n",
              "  (features): Sequential(\n",
              "    (0): Conv2d(3, 64, kernel_size=(3, 3), stride=(1, 1), padding=(1, 1))\n",
              "    (1): ReLU(inplace=True)\n",
              "    (2): Conv2d(64, 64, kernel_size=(3, 3), stride=(1, 1), padding=(1, 1))\n",
              "    (3): ReLU(inplace=True)\n",
              "    (4): MaxPool2d(kernel_size=2, stride=2, padding=0, dilation=1, ceil_mode=False)\n",
              "    (5): Conv2d(64, 128, kernel_size=(3, 3), stride=(1, 1), padding=(1, 1))\n",
              "    (6): ReLU(inplace=True)\n",
              "    (7): Conv2d(128, 128, kernel_size=(3, 3), stride=(1, 1), padding=(1, 1))\n",
              "    (8): ReLU(inplace=True)\n",
              "    (9): MaxPool2d(kernel_size=2, stride=2, padding=0, dilation=1, ceil_mode=False)\n",
              "    (10): Conv2d(128, 256, kernel_size=(3, 3), stride=(1, 1), padding=(1, 1))\n",
              "    (11): ReLU(inplace=True)\n",
              "    (12): Conv2d(256, 256, kernel_size=(3, 3), stride=(1, 1), padding=(1, 1))\n",
              "    (13): ReLU(inplace=True)\n",
              "    (14): Conv2d(256, 256, kernel_size=(3, 3), stride=(1, 1), padding=(1, 1))\n",
              "    (15): ReLU(inplace=True)\n",
              "    (16): MaxPool2d(kernel_size=2, stride=2, padding=0, dilation=1, ceil_mode=False)\n",
              "    (17): Conv2d(256, 512, kernel_size=(3, 3), stride=(1, 1), padding=(1, 1))\n",
              "    (18): ReLU(inplace=True)\n",
              "    (19): Conv2d(512, 512, kernel_size=(3, 3), stride=(1, 1), padding=(1, 1))\n",
              "    (20): ReLU(inplace=True)\n",
              "    (21): Conv2d(512, 512, kernel_size=(3, 3), stride=(1, 1), padding=(1, 1))\n",
              "    (22): ReLU(inplace=True)\n",
              "    (23): MaxPool2d(kernel_size=2, stride=2, padding=0, dilation=1, ceil_mode=False)\n",
              "    (24): Conv2d(512, 512, kernel_size=(3, 3), stride=(1, 1), padding=(1, 1))\n",
              "    (25): ReLU(inplace=True)\n",
              "    (26): Conv2d(512, 512, kernel_size=(3, 3), stride=(1, 1), padding=(1, 1))\n",
              "    (27): ReLU(inplace=True)\n",
              "    (28): Conv2d(512, 512, kernel_size=(3, 3), stride=(1, 1), padding=(1, 1))\n",
              "    (29): ReLU(inplace=True)\n",
              "    (30): MaxPool2d(kernel_size=2, stride=2, padding=0, dilation=1, ceil_mode=False)\n",
              "  )\n",
              "  (avgpool): AdaptiveAvgPool2d(output_size=(7, 7))\n",
              "  (classifier): Sequential(\n",
              "    (0): Linear(in_features=25088, out_features=4096, bias=True)\n",
              "    (1): ReLU(inplace=True)\n",
              "    (2): Dropout(p=0.5, inplace=False)\n",
              "    (3): Linear(in_features=4096, out_features=4096, bias=True)\n",
              "    (4): ReLU(inplace=True)\n",
              "    (5): Dropout(p=0.5, inplace=False)\n",
              "    (6): Linear(in_features=4096, out_features=1000, bias=True)\n",
              "  )\n",
              ")"
            ]
          },
          "metadata": {},
          "execution_count": 64
        }
      ]
    },
    {
      "cell_type": "code",
      "metadata": {
        "id": "mIX1ijPsNh_a",
        "colab": {
          "base_uri": "https://localhost:8080/"
        },
        "outputId": "c6f760f9-d1be-4f5b-d248-4209fbe28c0a"
      },
      "source": [
        "summary(vgg16, (3,64,64)) # посмотрим архитектуру VGG16 и размерности в слоях"
      ],
      "execution_count": null,
      "outputs": [
        {
          "output_type": "stream",
          "name": "stdout",
          "text": [
            "----------------------------------------------------------------\n",
            "        Layer (type)               Output Shape         Param #\n",
            "================================================================\n",
            "            Conv2d-1           [-1, 64, 64, 64]           1,792\n",
            "              ReLU-2           [-1, 64, 64, 64]               0\n",
            "            Conv2d-3           [-1, 64, 64, 64]          36,928\n",
            "              ReLU-4           [-1, 64, 64, 64]               0\n",
            "         MaxPool2d-5           [-1, 64, 32, 32]               0\n",
            "            Conv2d-6          [-1, 128, 32, 32]          73,856\n",
            "              ReLU-7          [-1, 128, 32, 32]               0\n",
            "            Conv2d-8          [-1, 128, 32, 32]         147,584\n",
            "              ReLU-9          [-1, 128, 32, 32]               0\n",
            "        MaxPool2d-10          [-1, 128, 16, 16]               0\n",
            "           Conv2d-11          [-1, 256, 16, 16]         295,168\n",
            "             ReLU-12          [-1, 256, 16, 16]               0\n",
            "           Conv2d-13          [-1, 256, 16, 16]         590,080\n",
            "             ReLU-14          [-1, 256, 16, 16]               0\n",
            "           Conv2d-15          [-1, 256, 16, 16]         590,080\n",
            "             ReLU-16          [-1, 256, 16, 16]               0\n",
            "        MaxPool2d-17            [-1, 256, 8, 8]               0\n",
            "           Conv2d-18            [-1, 512, 8, 8]       1,180,160\n",
            "             ReLU-19            [-1, 512, 8, 8]               0\n",
            "           Conv2d-20            [-1, 512, 8, 8]       2,359,808\n",
            "             ReLU-21            [-1, 512, 8, 8]               0\n",
            "           Conv2d-22            [-1, 512, 8, 8]       2,359,808\n",
            "             ReLU-23            [-1, 512, 8, 8]               0\n",
            "        MaxPool2d-24            [-1, 512, 4, 4]               0\n",
            "           Conv2d-25            [-1, 512, 4, 4]       2,359,808\n",
            "             ReLU-26            [-1, 512, 4, 4]               0\n",
            "           Conv2d-27            [-1, 512, 4, 4]       2,359,808\n",
            "             ReLU-28            [-1, 512, 4, 4]               0\n",
            "           Conv2d-29            [-1, 512, 4, 4]       2,359,808\n",
            "             ReLU-30            [-1, 512, 4, 4]               0\n",
            "        MaxPool2d-31            [-1, 512, 2, 2]               0\n",
            "AdaptiveAvgPool2d-32            [-1, 512, 7, 7]               0\n",
            "           Linear-33                 [-1, 4096]     102,764,544\n",
            "             ReLU-34                 [-1, 4096]               0\n",
            "          Dropout-35                 [-1, 4096]               0\n",
            "           Linear-36                 [-1, 4096]      16,781,312\n",
            "             ReLU-37                 [-1, 4096]               0\n",
            "          Dropout-38                 [-1, 4096]               0\n",
            "           Linear-39                 [-1, 1000]       4,097,000\n",
            "================================================================\n",
            "Total params: 138,357,544\n",
            "Trainable params: 138,357,544\n",
            "Non-trainable params: 0\n",
            "----------------------------------------------------------------\n",
            "Input size (MB): 0.05\n",
            "Forward/backward pass size (MB): 18.21\n",
            "Params size (MB): 527.79\n",
            "Estimated Total Size (MB): 546.05\n",
            "----------------------------------------------------------------\n"
          ]
        }
      ]
    },
    {
      "cell_type": "code",
      "metadata": {
        "id": "3kmXav0eSEjR",
        "colab": {
          "base_uri": "https://localhost:8080/"
        },
        "outputId": "a2a60f5a-7aef-4219-bd54-e5a88f6560bb"
      },
      "source": [
        "vgg16.avgpool # выводим слой, отвечающий за классификацию"
      ],
      "execution_count": null,
      "outputs": [
        {
          "output_type": "execute_result",
          "data": {
            "text/plain": [
              "AdaptiveAvgPool2d(output_size=(7, 7))"
            ]
          },
          "metadata": {},
          "execution_count": 66
        }
      ]
    },
    {
      "cell_type": "markdown",
      "metadata": {
        "id": "FiJrHjnXbV2e"
      },
      "source": [
        "## Настройка (Fine-tuning) предобученной модели\n",
        "\n"
      ]
    },
    {
      "cell_type": "markdown",
      "metadata": {
        "id": "h3JN7Yo_bV26"
      },
      "source": [
        "Загрузим CIFAR100"
      ]
    },
    {
      "cell_type": "code",
      "metadata": {
        "id": "MWnd7f51bV28",
        "colab": {
          "base_uri": "https://localhost:8080/"
        },
        "outputId": "4a6f41b8-5c40-4ae0-9f34-893ed3e056e6"
      },
      "source": [
        "batchSize = 100 # Зададим размер батча\n",
        "numClasses = 100 # Зададим количество классов\n",
        "numEpochs = 10 # Зададим количество эпох для обучения\n",
        "learningRate = 0.00001 # Зададим параметр learningRate для оптимайзера\n",
        "\n",
        "trainDataset = dsets.CIFAR100(root='./data', \n",
        "                            train=True, \n",
        "                            transform=transforms.ToTensor(),\n",
        "                            download=True) # Загружаем обучающую выборку CIFAR100\n",
        "\n",
        "testDataset = dsets.CIFAR100(root='./data', \n",
        "                           train=False, \n",
        "                           transform=transforms.ToTensor()) # Загружаем тестовую выборку CIFAR100\n",
        "\n",
        "trainLoader = torch.utils.data.DataLoader(dataset=trainDataset, \n",
        "                                           batch_size=batchSize, \n",
        "                                           shuffle=True) # Создаем загрузчик для обучающей выборки\n",
        "\n",
        "testLoader = torch.utils.data.DataLoader(dataset=testDataset, \n",
        "                                          batch_size=batchSize, \n",
        "                                          shuffle=False) # Создаем загрузчик для тестовой выборки"
      ],
      "execution_count": null,
      "outputs": [
        {
          "output_type": "stream",
          "name": "stdout",
          "text": [
            "Files already downloaded and verified\n"
          ]
        }
      ]
    },
    {
      "cell_type": "code",
      "metadata": {
        "colab": {
          "base_uri": "https://localhost:8080/"
        },
        "id": "EQG3S25b182N",
        "outputId": "7d034d4e-1ae3-4d57-a52b-798e9cc483d6"
      },
      "source": [
        "summary(vgg16, (3,32,32)) # посмотрим архитектуру VGG16 и размерности в слоях"
      ],
      "execution_count": null,
      "outputs": [
        {
          "output_type": "stream",
          "name": "stdout",
          "text": [
            "----------------------------------------------------------------\n",
            "        Layer (type)               Output Shape         Param #\n",
            "================================================================\n",
            "            Conv2d-1           [-1, 64, 32, 32]           1,792\n",
            "              ReLU-2           [-1, 64, 32, 32]               0\n",
            "            Conv2d-3           [-1, 64, 32, 32]          36,928\n",
            "              ReLU-4           [-1, 64, 32, 32]               0\n",
            "         MaxPool2d-5           [-1, 64, 16, 16]               0\n",
            "            Conv2d-6          [-1, 128, 16, 16]          73,856\n",
            "              ReLU-7          [-1, 128, 16, 16]               0\n",
            "            Conv2d-8          [-1, 128, 16, 16]         147,584\n",
            "              ReLU-9          [-1, 128, 16, 16]               0\n",
            "        MaxPool2d-10            [-1, 128, 8, 8]               0\n",
            "           Conv2d-11            [-1, 256, 8, 8]         295,168\n",
            "             ReLU-12            [-1, 256, 8, 8]               0\n",
            "           Conv2d-13            [-1, 256, 8, 8]         590,080\n",
            "             ReLU-14            [-1, 256, 8, 8]               0\n",
            "           Conv2d-15            [-1, 256, 8, 8]         590,080\n",
            "             ReLU-16            [-1, 256, 8, 8]               0\n",
            "        MaxPool2d-17            [-1, 256, 4, 4]               0\n",
            "           Conv2d-18            [-1, 512, 4, 4]       1,180,160\n",
            "             ReLU-19            [-1, 512, 4, 4]               0\n",
            "           Conv2d-20            [-1, 512, 4, 4]       2,359,808\n",
            "             ReLU-21            [-1, 512, 4, 4]               0\n",
            "           Conv2d-22            [-1, 512, 4, 4]       2,359,808\n",
            "             ReLU-23            [-1, 512, 4, 4]               0\n",
            "        MaxPool2d-24            [-1, 512, 2, 2]               0\n",
            "           Conv2d-25            [-1, 512, 2, 2]       2,359,808\n",
            "             ReLU-26            [-1, 512, 2, 2]               0\n",
            "           Conv2d-27            [-1, 512, 2, 2]       2,359,808\n",
            "             ReLU-28            [-1, 512, 2, 2]               0\n",
            "           Conv2d-29            [-1, 512, 2, 2]       2,359,808\n",
            "             ReLU-30            [-1, 512, 2, 2]               0\n",
            "        MaxPool2d-31            [-1, 512, 1, 1]               0\n",
            "AdaptiveAvgPool2d-32            [-1, 512, 7, 7]               0\n",
            "           Linear-33                 [-1, 4096]     102,764,544\n",
            "             ReLU-34                 [-1, 4096]               0\n",
            "          Dropout-35                 [-1, 4096]               0\n",
            "           Linear-36                 [-1, 4096]      16,781,312\n",
            "             ReLU-37                 [-1, 4096]               0\n",
            "          Dropout-38                 [-1, 4096]               0\n",
            "           Linear-39                 [-1, 1000]       4,097,000\n",
            "================================================================\n",
            "Total params: 138,357,544\n",
            "Trainable params: 138,357,544\n",
            "Non-trainable params: 0\n",
            "----------------------------------------------------------------\n",
            "Input size (MB): 0.01\n",
            "Forward/backward pass size (MB): 4.84\n",
            "Params size (MB): 527.79\n",
            "Estimated Total Size (MB): 532.65\n",
            "----------------------------------------------------------------\n"
          ]
        }
      ]
    },
    {
      "cell_type": "code",
      "metadata": {
        "id": "oziSlIq_7Cdk"
      },
      "source": [
        "iterator = iter(trainLoader)  # Создаем итератор для обучающей выборки\n",
        "samples, labels = next(iterator) # Получим первую партию изображений и меток"
      ],
      "execution_count": null,
      "outputs": []
    },
    {
      "cell_type": "code",
      "metadata": {
        "id": "9ScVtTTMjID_"
      },
      "source": [
        "samples = samples.to(device) # отправляем картинки на выбранное устройство\n",
        "labels = labels.to(device) # отправляем метки классов на выбранное устройство"
      ],
      "execution_count": null,
      "outputs": []
    },
    {
      "cell_type": "code",
      "metadata": {
        "id": "VZ8CORbFlulf",
        "colab": {
          "base_uri": "https://localhost:8080/"
        },
        "outputId": "e7f795f9-d515-4177-9efd-98997674b533"
      },
      "source": [
        "samples.shape # это наша конечная форма"
      ],
      "execution_count": null,
      "outputs": [
        {
          "output_type": "execute_result",
          "data": {
            "text/plain": [
              "torch.Size([100, 3, 32, 32])"
            ]
          },
          "metadata": {},
          "execution_count": 71
        }
      ]
    },
    {
      "cell_type": "code",
      "metadata": {
        "id": "WsQUah5V7FD7",
        "colab": {
          "base_uri": "https://localhost:8080/"
        },
        "outputId": "edbc07c4-52fc-4b85-b5d8-a57df14c7b13"
      },
      "source": [
        "# Узнаем, с каким размером мы работаем, чтоб ввести правильные параметры слоя\n",
        "print(vgg16.avgpool(vgg16.features(samples)).shape) # мы пропустили через features, передали на avgpool и посмотрели во что он слепил выборку"
      ],
      "execution_count": null,
      "outputs": [
        {
          "output_type": "stream",
          "name": "stdout",
          "text": [
            "torch.Size([100, 512, 7, 7])\n"
          ]
        }
      ]
    },
    {
      "cell_type": "code",
      "metadata": {
        "id": "llunO94FbV3D"
      },
      "source": [
        "for param in vgg16.parameters(): # поскольку мы будем тренировать под наш сет только последний слой\n",
        "    param.requires_grad = False # не будем обновлять веса всей сети. Заморозим их\n",
        "\n",
        "# Заменим последний слой для настройки под наш датасет\n",
        "vgg16.classifier = nn.Linear(25088, 100).to(device) # 25088 = 7*7*512 - в качестве входных нейронов подаем результат вытягивания того, что на AveragePooling2D(avgpool)\n",
        "                                                   # на выходе 100 нейронов, т.к. 10 классов"
      ],
      "execution_count": null,
      "outputs": []
    },
    {
      "cell_type": "code",
      "metadata": {
        "colab": {
          "base_uri": "https://localhost:8080/"
        },
        "id": "nKx6IUrM263B",
        "outputId": "85448d0a-558a-4c46-9fe2-cb922395b37d"
      },
      "source": [
        "vgg16"
      ],
      "execution_count": null,
      "outputs": [
        {
          "output_type": "execute_result",
          "data": {
            "text/plain": [
              "VGG(\n",
              "  (features): Sequential(\n",
              "    (0): Conv2d(3, 64, kernel_size=(3, 3), stride=(1, 1), padding=(1, 1))\n",
              "    (1): ReLU(inplace=True)\n",
              "    (2): Conv2d(64, 64, kernel_size=(3, 3), stride=(1, 1), padding=(1, 1))\n",
              "    (3): ReLU(inplace=True)\n",
              "    (4): MaxPool2d(kernel_size=2, stride=2, padding=0, dilation=1, ceil_mode=False)\n",
              "    (5): Conv2d(64, 128, kernel_size=(3, 3), stride=(1, 1), padding=(1, 1))\n",
              "    (6): ReLU(inplace=True)\n",
              "    (7): Conv2d(128, 128, kernel_size=(3, 3), stride=(1, 1), padding=(1, 1))\n",
              "    (8): ReLU(inplace=True)\n",
              "    (9): MaxPool2d(kernel_size=2, stride=2, padding=0, dilation=1, ceil_mode=False)\n",
              "    (10): Conv2d(128, 256, kernel_size=(3, 3), stride=(1, 1), padding=(1, 1))\n",
              "    (11): ReLU(inplace=True)\n",
              "    (12): Conv2d(256, 256, kernel_size=(3, 3), stride=(1, 1), padding=(1, 1))\n",
              "    (13): ReLU(inplace=True)\n",
              "    (14): Conv2d(256, 256, kernel_size=(3, 3), stride=(1, 1), padding=(1, 1))\n",
              "    (15): ReLU(inplace=True)\n",
              "    (16): MaxPool2d(kernel_size=2, stride=2, padding=0, dilation=1, ceil_mode=False)\n",
              "    (17): Conv2d(256, 512, kernel_size=(3, 3), stride=(1, 1), padding=(1, 1))\n",
              "    (18): ReLU(inplace=True)\n",
              "    (19): Conv2d(512, 512, kernel_size=(3, 3), stride=(1, 1), padding=(1, 1))\n",
              "    (20): ReLU(inplace=True)\n",
              "    (21): Conv2d(512, 512, kernel_size=(3, 3), stride=(1, 1), padding=(1, 1))\n",
              "    (22): ReLU(inplace=True)\n",
              "    (23): MaxPool2d(kernel_size=2, stride=2, padding=0, dilation=1, ceil_mode=False)\n",
              "    (24): Conv2d(512, 512, kernel_size=(3, 3), stride=(1, 1), padding=(1, 1))\n",
              "    (25): ReLU(inplace=True)\n",
              "    (26): Conv2d(512, 512, kernel_size=(3, 3), stride=(1, 1), padding=(1, 1))\n",
              "    (27): ReLU(inplace=True)\n",
              "    (28): Conv2d(512, 512, kernel_size=(3, 3), stride=(1, 1), padding=(1, 1))\n",
              "    (29): ReLU(inplace=True)\n",
              "    (30): MaxPool2d(kernel_size=2, stride=2, padding=0, dilation=1, ceil_mode=False)\n",
              "  )\n",
              "  (avgpool): AdaptiveAvgPool2d(output_size=(7, 7))\n",
              "  (classifier): Linear(in_features=25088, out_features=100, bias=True)\n",
              ")"
            ]
          },
          "metadata": {},
          "execution_count": 74
        }
      ]
    },
    {
      "cell_type": "code",
      "metadata": {
        "colab": {
          "base_uri": "https://localhost:8080/"
        },
        "id": "eErqFl5p3ASq",
        "outputId": "e1095c6f-3f72-4aaa-dcba-7b4713bcfcc4"
      },
      "source": [
        "summary(vgg16, (3,32,32)) # посмотрим архитектуру VGG16 и размерности в слоях"
      ],
      "execution_count": null,
      "outputs": [
        {
          "output_type": "stream",
          "name": "stdout",
          "text": [
            "----------------------------------------------------------------\n",
            "        Layer (type)               Output Shape         Param #\n",
            "================================================================\n",
            "            Conv2d-1           [-1, 64, 32, 32]           1,792\n",
            "              ReLU-2           [-1, 64, 32, 32]               0\n",
            "            Conv2d-3           [-1, 64, 32, 32]          36,928\n",
            "              ReLU-4           [-1, 64, 32, 32]               0\n",
            "         MaxPool2d-5           [-1, 64, 16, 16]               0\n",
            "            Conv2d-6          [-1, 128, 16, 16]          73,856\n",
            "              ReLU-7          [-1, 128, 16, 16]               0\n",
            "            Conv2d-8          [-1, 128, 16, 16]         147,584\n",
            "              ReLU-9          [-1, 128, 16, 16]               0\n",
            "        MaxPool2d-10            [-1, 128, 8, 8]               0\n",
            "           Conv2d-11            [-1, 256, 8, 8]         295,168\n",
            "             ReLU-12            [-1, 256, 8, 8]               0\n",
            "           Conv2d-13            [-1, 256, 8, 8]         590,080\n",
            "             ReLU-14            [-1, 256, 8, 8]               0\n",
            "           Conv2d-15            [-1, 256, 8, 8]         590,080\n",
            "             ReLU-16            [-1, 256, 8, 8]               0\n",
            "        MaxPool2d-17            [-1, 256, 4, 4]               0\n",
            "           Conv2d-18            [-1, 512, 4, 4]       1,180,160\n",
            "             ReLU-19            [-1, 512, 4, 4]               0\n",
            "           Conv2d-20            [-1, 512, 4, 4]       2,359,808\n",
            "             ReLU-21            [-1, 512, 4, 4]               0\n",
            "           Conv2d-22            [-1, 512, 4, 4]       2,359,808\n",
            "             ReLU-23            [-1, 512, 4, 4]               0\n",
            "        MaxPool2d-24            [-1, 512, 2, 2]               0\n",
            "           Conv2d-25            [-1, 512, 2, 2]       2,359,808\n",
            "             ReLU-26            [-1, 512, 2, 2]               0\n",
            "           Conv2d-27            [-1, 512, 2, 2]       2,359,808\n",
            "             ReLU-28            [-1, 512, 2, 2]               0\n",
            "           Conv2d-29            [-1, 512, 2, 2]       2,359,808\n",
            "             ReLU-30            [-1, 512, 2, 2]               0\n",
            "        MaxPool2d-31            [-1, 512, 1, 1]               0\n",
            "AdaptiveAvgPool2d-32            [-1, 512, 7, 7]               0\n",
            "           Linear-33                  [-1, 100]       2,508,900\n",
            "================================================================\n",
            "Total params: 17,223,588\n",
            "Trainable params: 2,508,900\n",
            "Non-trainable params: 14,714,688\n",
            "----------------------------------------------------------------\n",
            "Input size (MB): 0.01\n",
            "Forward/backward pass size (MB): 4.65\n",
            "Params size (MB): 65.70\n",
            "Estimated Total Size (MB): 70.36\n",
            "----------------------------------------------------------------\n"
          ]
        }
      ]
    },
    {
      "cell_type": "code",
      "metadata": {
        "id": "Zpxe_w9WbV3J",
        "colab": {
          "base_uri": "https://localhost:8080/"
        },
        "outputId": "a33c6452-cfa2-4e16-de92-7b5059b7cf27"
      },
      "source": [
        "# Функция ошибки\n",
        "criterion = nn.CrossEntropyLoss() \n",
        "# Оптимизатор. Поскольку тренируем только слой классификатор, то его параметры и подаем на вход\n",
        "optimizer = torch.optim.Adam(vgg16.classifier.parameters(), lr=learningRate)\n",
        "\n",
        "# Обучим наш последний слой\n",
        "for epoch in range(numEpochs):\n",
        "    for i, (images, labels) in enumerate(trainLoader): \n",
        "        images = images.to(device)\n",
        "        labels = labels.to(device)       \n",
        "        optimizer.zero_grad() # обнуляем градиенты\n",
        "        outputs = vgg16(images) # подаем изображения на вход\n",
        "        loss = criterion(outputs, labels) # считаем ошибку\n",
        "        loss.backward() # берем производную\n",
        "        optimizer.step() # делаем шаг оптимизатором\n",
        "        \n",
        "        if (i+1) % 10 == 0:\n",
        "            print('Эпоха: [%d/%d], Шаг: [%d/%d], Потеря: %.4f' \n",
        "                  % (epoch+1, numEpochs, i+1, len(trainDataset)//batchSize, loss))"
      ],
      "execution_count": null,
      "outputs": [
        {
          "output_type": "stream",
          "name": "stdout",
          "text": [
            "Эпоха: [1/10], Шаг: [10/500], Потеря: 4.5954\n",
            "Эпоха: [1/10], Шаг: [20/500], Потеря: 4.4023\n",
            "Эпоха: [1/10], Шаг: [30/500], Потеря: 4.2727\n",
            "Эпоха: [1/10], Шаг: [40/500], Потеря: 4.2515\n",
            "Эпоха: [1/10], Шаг: [50/500], Потеря: 4.1217\n",
            "Эпоха: [1/10], Шаг: [60/500], Потеря: 3.8864\n",
            "Эпоха: [1/10], Шаг: [70/500], Потеря: 3.8210\n",
            "Эпоха: [1/10], Шаг: [80/500], Потеря: 3.8818\n",
            "Эпоха: [1/10], Шаг: [90/500], Потеря: 3.8070\n",
            "Эпоха: [1/10], Шаг: [100/500], Потеря: 3.6507\n",
            "Эпоха: [1/10], Шаг: [110/500], Потеря: 3.7403\n",
            "Эпоха: [1/10], Шаг: [120/500], Потеря: 3.5520\n",
            "Эпоха: [1/10], Шаг: [130/500], Потеря: 3.5880\n",
            "Эпоха: [1/10], Шаг: [140/500], Потеря: 3.3931\n",
            "Эпоха: [1/10], Шаг: [150/500], Потеря: 3.7291\n",
            "Эпоха: [1/10], Шаг: [160/500], Потеря: 3.4440\n",
            "Эпоха: [1/10], Шаг: [170/500], Потеря: 3.4328\n",
            "Эпоха: [1/10], Шаг: [180/500], Потеря: 3.3799\n",
            "Эпоха: [1/10], Шаг: [190/500], Потеря: 3.2257\n",
            "Эпоха: [1/10], Шаг: [200/500], Потеря: 3.3114\n",
            "Эпоха: [1/10], Шаг: [210/500], Потеря: 3.3187\n",
            "Эпоха: [1/10], Шаг: [220/500], Потеря: 3.1791\n",
            "Эпоха: [1/10], Шаг: [230/500], Потеря: 3.2362\n",
            "Эпоха: [1/10], Шаг: [240/500], Потеря: 3.2187\n",
            "Эпоха: [1/10], Шаг: [250/500], Потеря: 3.1286\n",
            "Эпоха: [1/10], Шаг: [260/500], Потеря: 3.2696\n",
            "Эпоха: [1/10], Шаг: [270/500], Потеря: 3.1082\n",
            "Эпоха: [1/10], Шаг: [280/500], Потеря: 3.0307\n",
            "Эпоха: [1/10], Шаг: [290/500], Потеря: 3.0940\n",
            "Эпоха: [1/10], Шаг: [300/500], Потеря: 3.2183\n",
            "Эпоха: [1/10], Шаг: [310/500], Потеря: 3.1202\n",
            "Эпоха: [1/10], Шаг: [320/500], Потеря: 2.8785\n",
            "Эпоха: [1/10], Шаг: [330/500], Потеря: 3.0423\n",
            "Эпоха: [1/10], Шаг: [340/500], Потеря: 2.9744\n",
            "Эпоха: [1/10], Шаг: [350/500], Потеря: 3.0768\n",
            "Эпоха: [1/10], Шаг: [360/500], Потеря: 3.0614\n",
            "Эпоха: [1/10], Шаг: [370/500], Потеря: 2.8405\n",
            "Эпоха: [1/10], Шаг: [380/500], Потеря: 2.8545\n",
            "Эпоха: [1/10], Шаг: [390/500], Потеря: 3.1225\n",
            "Эпоха: [1/10], Шаг: [400/500], Потеря: 2.8421\n",
            "Эпоха: [1/10], Шаг: [410/500], Потеря: 3.1512\n",
            "Эпоха: [1/10], Шаг: [420/500], Потеря: 3.0019\n",
            "Эпоха: [1/10], Шаг: [430/500], Потеря: 2.6714\n",
            "Эпоха: [1/10], Шаг: [440/500], Потеря: 2.8239\n",
            "Эпоха: [1/10], Шаг: [450/500], Потеря: 2.9043\n",
            "Эпоха: [1/10], Шаг: [460/500], Потеря: 3.2046\n",
            "Эпоха: [1/10], Шаг: [470/500], Потеря: 3.0251\n",
            "Эпоха: [1/10], Шаг: [480/500], Потеря: 3.0353\n",
            "Эпоха: [1/10], Шаг: [490/500], Потеря: 2.5212\n",
            "Эпоха: [1/10], Шаг: [500/500], Потеря: 2.9092\n",
            "Эпоха: [2/10], Шаг: [10/500], Потеря: 2.9140\n",
            "Эпоха: [2/10], Шаг: [20/500], Потеря: 2.8191\n",
            "Эпоха: [2/10], Шаг: [30/500], Потеря: 2.9288\n",
            "Эпоха: [2/10], Шаг: [40/500], Потеря: 2.7264\n",
            "Эпоха: [2/10], Шаг: [50/500], Потеря: 2.5945\n",
            "Эпоха: [2/10], Шаг: [60/500], Потеря: 2.8839\n",
            "Эпоха: [2/10], Шаг: [70/500], Потеря: 2.4992\n",
            "Эпоха: [2/10], Шаг: [80/500], Потеря: 3.0202\n",
            "Эпоха: [2/10], Шаг: [90/500], Потеря: 2.6132\n",
            "Эпоха: [2/10], Шаг: [100/500], Потеря: 2.9114\n",
            "Эпоха: [2/10], Шаг: [110/500], Потеря: 2.9341\n",
            "Эпоха: [2/10], Шаг: [120/500], Потеря: 2.5968\n",
            "Эпоха: [2/10], Шаг: [130/500], Потеря: 2.5957\n",
            "Эпоха: [2/10], Шаг: [140/500], Потеря: 2.9564\n",
            "Эпоха: [2/10], Шаг: [150/500], Потеря: 2.6801\n",
            "Эпоха: [2/10], Шаг: [160/500], Потеря: 2.4380\n",
            "Эпоха: [2/10], Шаг: [170/500], Потеря: 2.7062\n",
            "Эпоха: [2/10], Шаг: [180/500], Потеря: 2.5662\n",
            "Эпоха: [2/10], Шаг: [190/500], Потеря: 2.8462\n",
            "Эпоха: [2/10], Шаг: [200/500], Потеря: 2.6609\n",
            "Эпоха: [2/10], Шаг: [210/500], Потеря: 2.7136\n",
            "Эпоха: [2/10], Шаг: [220/500], Потеря: 3.0989\n",
            "Эпоха: [2/10], Шаг: [230/500], Потеря: 2.5377\n",
            "Эпоха: [2/10], Шаг: [240/500], Потеря: 2.6982\n",
            "Эпоха: [2/10], Шаг: [250/500], Потеря: 2.4633\n",
            "Эпоха: [2/10], Шаг: [260/500], Потеря: 2.6909\n",
            "Эпоха: [2/10], Шаг: [270/500], Потеря: 2.4654\n",
            "Эпоха: [2/10], Шаг: [280/500], Потеря: 2.6403\n",
            "Эпоха: [2/10], Шаг: [290/500], Потеря: 2.5100\n",
            "Эпоха: [2/10], Шаг: [300/500], Потеря: 2.7916\n",
            "Эпоха: [2/10], Шаг: [310/500], Потеря: 2.5582\n",
            "Эпоха: [2/10], Шаг: [320/500], Потеря: 2.6214\n",
            "Эпоха: [2/10], Шаг: [330/500], Потеря: 2.6877\n",
            "Эпоха: [2/10], Шаг: [340/500], Потеря: 2.6246\n",
            "Эпоха: [2/10], Шаг: [350/500], Потеря: 2.7138\n",
            "Эпоха: [2/10], Шаг: [360/500], Потеря: 2.6621\n",
            "Эпоха: [2/10], Шаг: [370/500], Потеря: 2.8627\n",
            "Эпоха: [2/10], Шаг: [380/500], Потеря: 2.5525\n",
            "Эпоха: [2/10], Шаг: [390/500], Потеря: 2.3169\n",
            "Эпоха: [2/10], Шаг: [400/500], Потеря: 2.5485\n",
            "Эпоха: [2/10], Шаг: [410/500], Потеря: 2.7730\n",
            "Эпоха: [2/10], Шаг: [420/500], Потеря: 2.6558\n",
            "Эпоха: [2/10], Шаг: [430/500], Потеря: 2.7279\n",
            "Эпоха: [2/10], Шаг: [440/500], Потеря: 2.6470\n",
            "Эпоха: [2/10], Шаг: [450/500], Потеря: 2.8650\n",
            "Эпоха: [2/10], Шаг: [460/500], Потеря: 2.6292\n",
            "Эпоха: [2/10], Шаг: [470/500], Потеря: 2.6568\n",
            "Эпоха: [2/10], Шаг: [480/500], Потеря: 2.6862\n",
            "Эпоха: [2/10], Шаг: [490/500], Потеря: 2.8870\n",
            "Эпоха: [2/10], Шаг: [500/500], Потеря: 2.6702\n",
            "Эпоха: [3/10], Шаг: [10/500], Потеря: 2.5909\n",
            "Эпоха: [3/10], Шаг: [20/500], Потеря: 2.6560\n",
            "Эпоха: [3/10], Шаг: [30/500], Потеря: 2.6142\n",
            "Эпоха: [3/10], Шаг: [40/500], Потеря: 2.5512\n",
            "Эпоха: [3/10], Шаг: [50/500], Потеря: 2.8509\n",
            "Эпоха: [3/10], Шаг: [60/500], Потеря: 2.8961\n",
            "Эпоха: [3/10], Шаг: [70/500], Потеря: 2.7825\n",
            "Эпоха: [3/10], Шаг: [80/500], Потеря: 2.5399\n",
            "Эпоха: [3/10], Шаг: [90/500], Потеря: 2.3228\n",
            "Эпоха: [3/10], Шаг: [100/500], Потеря: 2.2503\n",
            "Эпоха: [3/10], Шаг: [110/500], Потеря: 2.5863\n",
            "Эпоха: [3/10], Шаг: [120/500], Потеря: 2.5071\n",
            "Эпоха: [3/10], Шаг: [130/500], Потеря: 2.5318\n",
            "Эпоха: [3/10], Шаг: [140/500], Потеря: 2.5055\n",
            "Эпоха: [3/10], Шаг: [150/500], Потеря: 2.6204\n",
            "Эпоха: [3/10], Шаг: [160/500], Потеря: 2.7794\n",
            "Эпоха: [3/10], Шаг: [170/500], Потеря: 2.4065\n",
            "Эпоха: [3/10], Шаг: [180/500], Потеря: 2.7467\n",
            "Эпоха: [3/10], Шаг: [190/500], Потеря: 2.5723\n",
            "Эпоха: [3/10], Шаг: [200/500], Потеря: 2.3370\n",
            "Эпоха: [3/10], Шаг: [210/500], Потеря: 2.5521\n",
            "Эпоха: [3/10], Шаг: [220/500], Потеря: 2.3860\n",
            "Эпоха: [3/10], Шаг: [230/500], Потеря: 2.2163\n",
            "Эпоха: [3/10], Шаг: [240/500], Потеря: 2.5231\n",
            "Эпоха: [3/10], Шаг: [250/500], Потеря: 2.3520\n",
            "Эпоха: [3/10], Шаг: [260/500], Потеря: 2.5434\n",
            "Эпоха: [3/10], Шаг: [270/500], Потеря: 2.5402\n",
            "Эпоха: [3/10], Шаг: [280/500], Потеря: 2.8448\n",
            "Эпоха: [3/10], Шаг: [290/500], Потеря: 2.4305\n",
            "Эпоха: [3/10], Шаг: [300/500], Потеря: 2.6992\n",
            "Эпоха: [3/10], Шаг: [310/500], Потеря: 2.6185\n",
            "Эпоха: [3/10], Шаг: [320/500], Потеря: 2.5863\n",
            "Эпоха: [3/10], Шаг: [330/500], Потеря: 2.5871\n",
            "Эпоха: [3/10], Шаг: [340/500], Потеря: 2.3034\n",
            "Эпоха: [3/10], Шаг: [350/500], Потеря: 2.5729\n",
            "Эпоха: [3/10], Шаг: [360/500], Потеря: 2.7840\n",
            "Эпоха: [3/10], Шаг: [370/500], Потеря: 2.5593\n",
            "Эпоха: [3/10], Шаг: [380/500], Потеря: 2.3965\n",
            "Эпоха: [3/10], Шаг: [390/500], Потеря: 2.3751\n",
            "Эпоха: [3/10], Шаг: [400/500], Потеря: 2.4731\n",
            "Эпоха: [3/10], Шаг: [410/500], Потеря: 2.4818\n",
            "Эпоха: [3/10], Шаг: [420/500], Потеря: 2.6451\n",
            "Эпоха: [3/10], Шаг: [430/500], Потеря: 2.5588\n",
            "Эпоха: [3/10], Шаг: [440/500], Потеря: 2.4462\n",
            "Эпоха: [3/10], Шаг: [450/500], Потеря: 2.4993\n",
            "Эпоха: [3/10], Шаг: [460/500], Потеря: 2.4022\n",
            "Эпоха: [3/10], Шаг: [470/500], Потеря: 2.5458\n",
            "Эпоха: [3/10], Шаг: [480/500], Потеря: 2.4701\n",
            "Эпоха: [3/10], Шаг: [490/500], Потеря: 2.5817\n",
            "Эпоха: [3/10], Шаг: [500/500], Потеря: 2.6691\n",
            "Эпоха: [4/10], Шаг: [10/500], Потеря: 2.0868\n",
            "Эпоха: [4/10], Шаг: [20/500], Потеря: 2.1707\n",
            "Эпоха: [4/10], Шаг: [30/500], Потеря: 2.4251\n",
            "Эпоха: [4/10], Шаг: [40/500], Потеря: 2.5521\n",
            "Эпоха: [4/10], Шаг: [50/500], Потеря: 2.4001\n",
            "Эпоха: [4/10], Шаг: [60/500], Потеря: 2.3619\n",
            "Эпоха: [4/10], Шаг: [70/500], Потеря: 2.6287\n",
            "Эпоха: [4/10], Шаг: [80/500], Потеря: 2.5097\n",
            "Эпоха: [4/10], Шаг: [90/500], Потеря: 2.2535\n",
            "Эпоха: [4/10], Шаг: [100/500], Потеря: 2.4081\n",
            "Эпоха: [4/10], Шаг: [110/500], Потеря: 2.5495\n",
            "Эпоха: [4/10], Шаг: [120/500], Потеря: 2.4195\n",
            "Эпоха: [4/10], Шаг: [130/500], Потеря: 2.5322\n",
            "Эпоха: [4/10], Шаг: [140/500], Потеря: 2.4117\n",
            "Эпоха: [4/10], Шаг: [150/500], Потеря: 2.4986\n",
            "Эпоха: [4/10], Шаг: [160/500], Потеря: 2.3308\n",
            "Эпоха: [4/10], Шаг: [170/500], Потеря: 2.2220\n",
            "Эпоха: [4/10], Шаг: [180/500], Потеря: 2.6604\n",
            "Эпоха: [4/10], Шаг: [190/500], Потеря: 2.2993\n",
            "Эпоха: [4/10], Шаг: [200/500], Потеря: 2.4016\n",
            "Эпоха: [4/10], Шаг: [210/500], Потеря: 2.3312\n",
            "Эпоха: [4/10], Шаг: [220/500], Потеря: 2.3593\n",
            "Эпоха: [4/10], Шаг: [230/500], Потеря: 2.4718\n",
            "Эпоха: [4/10], Шаг: [240/500], Потеря: 2.4026\n",
            "Эпоха: [4/10], Шаг: [250/500], Потеря: 2.3283\n",
            "Эпоха: [4/10], Шаг: [260/500], Потеря: 2.3060\n",
            "Эпоха: [4/10], Шаг: [270/500], Потеря: 2.2194\n",
            "Эпоха: [4/10], Шаг: [280/500], Потеря: 2.1178\n",
            "Эпоха: [4/10], Шаг: [290/500], Потеря: 2.5383\n",
            "Эпоха: [4/10], Шаг: [300/500], Потеря: 2.5885\n",
            "Эпоха: [4/10], Шаг: [310/500], Потеря: 2.2822\n",
            "Эпоха: [4/10], Шаг: [320/500], Потеря: 2.3010\n",
            "Эпоха: [4/10], Шаг: [330/500], Потеря: 2.5534\n",
            "Эпоха: [4/10], Шаг: [340/500], Потеря: 2.0437\n",
            "Эпоха: [4/10], Шаг: [350/500], Потеря: 2.3658\n",
            "Эпоха: [4/10], Шаг: [360/500], Потеря: 2.2887\n",
            "Эпоха: [4/10], Шаг: [370/500], Потеря: 2.4815\n",
            "Эпоха: [4/10], Шаг: [380/500], Потеря: 2.6469\n",
            "Эпоха: [4/10], Шаг: [390/500], Потеря: 2.5237\n",
            "Эпоха: [4/10], Шаг: [400/500], Потеря: 2.5024\n",
            "Эпоха: [4/10], Шаг: [410/500], Потеря: 2.3033\n",
            "Эпоха: [4/10], Шаг: [420/500], Потеря: 2.4004\n",
            "Эпоха: [4/10], Шаг: [430/500], Потеря: 2.5567\n",
            "Эпоха: [4/10], Шаг: [440/500], Потеря: 2.5346\n",
            "Эпоха: [4/10], Шаг: [450/500], Потеря: 2.6802\n",
            "Эпоха: [4/10], Шаг: [460/500], Потеря: 2.2738\n",
            "Эпоха: [4/10], Шаг: [470/500], Потеря: 2.2378\n",
            "Эпоха: [4/10], Шаг: [480/500], Потеря: 2.3936\n",
            "Эпоха: [4/10], Шаг: [490/500], Потеря: 2.3884\n",
            "Эпоха: [4/10], Шаг: [500/500], Потеря: 2.6198\n",
            "Эпоха: [5/10], Шаг: [10/500], Потеря: 2.1145\n",
            "Эпоха: [5/10], Шаг: [20/500], Потеря: 2.2763\n",
            "Эпоха: [5/10], Шаг: [30/500], Потеря: 2.5971\n",
            "Эпоха: [5/10], Шаг: [40/500], Потеря: 2.4977\n",
            "Эпоха: [5/10], Шаг: [50/500], Потеря: 2.4026\n",
            "Эпоха: [5/10], Шаг: [60/500], Потеря: 2.3794\n",
            "Эпоха: [5/10], Шаг: [70/500], Потеря: 2.2114\n",
            "Эпоха: [5/10], Шаг: [80/500], Потеря: 2.2599\n",
            "Эпоха: [5/10], Шаг: [90/500], Потеря: 2.3331\n",
            "Эпоха: [5/10], Шаг: [100/500], Потеря: 2.2100\n",
            "Эпоха: [5/10], Шаг: [110/500], Потеря: 2.2956\n",
            "Эпоха: [5/10], Шаг: [120/500], Потеря: 2.2810\n",
            "Эпоха: [5/10], Шаг: [130/500], Потеря: 2.5041\n",
            "Эпоха: [5/10], Шаг: [140/500], Потеря: 2.3640\n",
            "Эпоха: [5/10], Шаг: [150/500], Потеря: 2.4181\n",
            "Эпоха: [5/10], Шаг: [160/500], Потеря: 2.2205\n",
            "Эпоха: [5/10], Шаг: [170/500], Потеря: 2.3446\n",
            "Эпоха: [5/10], Шаг: [180/500], Потеря: 2.0791\n",
            "Эпоха: [5/10], Шаг: [190/500], Потеря: 2.1749\n",
            "Эпоха: [5/10], Шаг: [200/500], Потеря: 2.4403\n",
            "Эпоха: [5/10], Шаг: [210/500], Потеря: 2.4489\n",
            "Эпоха: [5/10], Шаг: [220/500], Потеря: 2.1869\n",
            "Эпоха: [5/10], Шаг: [230/500], Потеря: 2.3467\n",
            "Эпоха: [5/10], Шаг: [240/500], Потеря: 2.1431\n",
            "Эпоха: [5/10], Шаг: [250/500], Потеря: 2.4178\n",
            "Эпоха: [5/10], Шаг: [260/500], Потеря: 2.2806\n",
            "Эпоха: [5/10], Шаг: [270/500], Потеря: 2.4602\n",
            "Эпоха: [5/10], Шаг: [280/500], Потеря: 2.3541\n",
            "Эпоха: [5/10], Шаг: [290/500], Потеря: 2.1936\n",
            "Эпоха: [5/10], Шаг: [300/500], Потеря: 2.2983\n",
            "Эпоха: [5/10], Шаг: [310/500], Потеря: 2.1979\n",
            "Эпоха: [5/10], Шаг: [320/500], Потеря: 2.2028\n",
            "Эпоха: [5/10], Шаг: [330/500], Потеря: 2.3258\n",
            "Эпоха: [5/10], Шаг: [340/500], Потеря: 2.2553\n",
            "Эпоха: [5/10], Шаг: [350/500], Потеря: 2.6735\n",
            "Эпоха: [5/10], Шаг: [360/500], Потеря: 2.4100\n",
            "Эпоха: [5/10], Шаг: [370/500], Потеря: 2.1662\n",
            "Эпоха: [5/10], Шаг: [380/500], Потеря: 2.2906\n",
            "Эпоха: [5/10], Шаг: [390/500], Потеря: 2.3968\n",
            "Эпоха: [5/10], Шаг: [400/500], Потеря: 2.1679\n",
            "Эпоха: [5/10], Шаг: [410/500], Потеря: 2.2459\n",
            "Эпоха: [5/10], Шаг: [420/500], Потеря: 2.2593\n",
            "Эпоха: [5/10], Шаг: [430/500], Потеря: 2.6704\n",
            "Эпоха: [5/10], Шаг: [440/500], Потеря: 2.0820\n",
            "Эпоха: [5/10], Шаг: [450/500], Потеря: 2.0685\n",
            "Эпоха: [5/10], Шаг: [460/500], Потеря: 2.3645\n",
            "Эпоха: [5/10], Шаг: [470/500], Потеря: 2.4473\n",
            "Эпоха: [5/10], Шаг: [480/500], Потеря: 2.5006\n",
            "Эпоха: [5/10], Шаг: [490/500], Потеря: 2.4078\n",
            "Эпоха: [5/10], Шаг: [500/500], Потеря: 2.1159\n",
            "Эпоха: [6/10], Шаг: [10/500], Потеря: 2.1919\n",
            "Эпоха: [6/10], Шаг: [20/500], Потеря: 2.2201\n",
            "Эпоха: [6/10], Шаг: [30/500], Потеря: 2.2807\n",
            "Эпоха: [6/10], Шаг: [40/500], Потеря: 2.3371\n",
            "Эпоха: [6/10], Шаг: [50/500], Потеря: 1.9493\n",
            "Эпоха: [6/10], Шаг: [60/500], Потеря: 2.4356\n",
            "Эпоха: [6/10], Шаг: [70/500], Потеря: 2.2752\n",
            "Эпоха: [6/10], Шаг: [80/500], Потеря: 2.2183\n",
            "Эпоха: [6/10], Шаг: [90/500], Потеря: 2.2124\n",
            "Эпоха: [6/10], Шаг: [100/500], Потеря: 2.2473\n",
            "Эпоха: [6/10], Шаг: [110/500], Потеря: 2.3525\n",
            "Эпоха: [6/10], Шаг: [120/500], Потеря: 2.4226\n",
            "Эпоха: [6/10], Шаг: [130/500], Потеря: 2.3552\n",
            "Эпоха: [6/10], Шаг: [140/500], Потеря: 2.4338\n",
            "Эпоха: [6/10], Шаг: [150/500], Потеря: 2.4380\n",
            "Эпоха: [6/10], Шаг: [160/500], Потеря: 2.2782\n",
            "Эпоха: [6/10], Шаг: [170/500], Потеря: 2.4485\n",
            "Эпоха: [6/10], Шаг: [180/500], Потеря: 2.0013\n",
            "Эпоха: [6/10], Шаг: [190/500], Потеря: 2.0803\n",
            "Эпоха: [6/10], Шаг: [200/500], Потеря: 2.1951\n",
            "Эпоха: [6/10], Шаг: [210/500], Потеря: 2.3408\n",
            "Эпоха: [6/10], Шаг: [220/500], Потеря: 2.1307\n",
            "Эпоха: [6/10], Шаг: [230/500], Потеря: 2.5435\n",
            "Эпоха: [6/10], Шаг: [240/500], Потеря: 2.2863\n",
            "Эпоха: [6/10], Шаг: [250/500], Потеря: 2.2473\n",
            "Эпоха: [6/10], Шаг: [260/500], Потеря: 2.3847\n",
            "Эпоха: [6/10], Шаг: [270/500], Потеря: 1.9713\n",
            "Эпоха: [6/10], Шаг: [280/500], Потеря: 2.4992\n",
            "Эпоха: [6/10], Шаг: [290/500], Потеря: 2.2630\n",
            "Эпоха: [6/10], Шаг: [300/500], Потеря: 2.2641\n",
            "Эпоха: [6/10], Шаг: [310/500], Потеря: 2.4664\n",
            "Эпоха: [6/10], Шаг: [320/500], Потеря: 2.0482\n",
            "Эпоха: [6/10], Шаг: [330/500], Потеря: 2.4952\n",
            "Эпоха: [6/10], Шаг: [340/500], Потеря: 2.1463\n",
            "Эпоха: [6/10], Шаг: [350/500], Потеря: 2.1104\n",
            "Эпоха: [6/10], Шаг: [360/500], Потеря: 2.0892\n",
            "Эпоха: [6/10], Шаг: [370/500], Потеря: 2.1813\n",
            "Эпоха: [6/10], Шаг: [380/500], Потеря: 2.2894\n",
            "Эпоха: [6/10], Шаг: [390/500], Потеря: 2.3329\n",
            "Эпоха: [6/10], Шаг: [400/500], Потеря: 2.1470\n",
            "Эпоха: [6/10], Шаг: [410/500], Потеря: 2.1979\n",
            "Эпоха: [6/10], Шаг: [420/500], Потеря: 2.1309\n",
            "Эпоха: [6/10], Шаг: [430/500], Потеря: 2.2725\n",
            "Эпоха: [6/10], Шаг: [440/500], Потеря: 2.1384\n",
            "Эпоха: [6/10], Шаг: [450/500], Потеря: 2.2421\n",
            "Эпоха: [6/10], Шаг: [460/500], Потеря: 2.4066\n",
            "Эпоха: [6/10], Шаг: [470/500], Потеря: 2.1218\n",
            "Эпоха: [6/10], Шаг: [480/500], Потеря: 2.2911\n",
            "Эпоха: [6/10], Шаг: [490/500], Потеря: 1.9504\n",
            "Эпоха: [6/10], Шаг: [500/500], Потеря: 2.2630\n",
            "Эпоха: [7/10], Шаг: [10/500], Потеря: 2.3546\n",
            "Эпоха: [7/10], Шаг: [20/500], Потеря: 2.4832\n",
            "Эпоха: [7/10], Шаг: [30/500], Потеря: 2.3359\n",
            "Эпоха: [7/10], Шаг: [40/500], Потеря: 2.1327\n",
            "Эпоха: [7/10], Шаг: [50/500], Потеря: 2.1804\n",
            "Эпоха: [7/10], Шаг: [60/500], Потеря: 2.1398\n",
            "Эпоха: [7/10], Шаг: [70/500], Потеря: 2.0077\n",
            "Эпоха: [7/10], Шаг: [80/500], Потеря: 2.1188\n",
            "Эпоха: [7/10], Шаг: [90/500], Потеря: 2.2227\n",
            "Эпоха: [7/10], Шаг: [100/500], Потеря: 2.1830\n",
            "Эпоха: [7/10], Шаг: [110/500], Потеря: 2.1437\n",
            "Эпоха: [7/10], Шаг: [120/500], Потеря: 2.0536\n",
            "Эпоха: [7/10], Шаг: [130/500], Потеря: 2.2959\n",
            "Эпоха: [7/10], Шаг: [140/500], Потеря: 2.2764\n",
            "Эпоха: [7/10], Шаг: [150/500], Потеря: 2.3616\n",
            "Эпоха: [7/10], Шаг: [160/500], Потеря: 2.0505\n",
            "Эпоха: [7/10], Шаг: [170/500], Потеря: 2.0113\n",
            "Эпоха: [7/10], Шаг: [180/500], Потеря: 2.1655\n",
            "Эпоха: [7/10], Шаг: [190/500], Потеря: 2.2353\n",
            "Эпоха: [7/10], Шаг: [200/500], Потеря: 2.4534\n",
            "Эпоха: [7/10], Шаг: [210/500], Потеря: 2.1316\n",
            "Эпоха: [7/10], Шаг: [220/500], Потеря: 2.3423\n",
            "Эпоха: [7/10], Шаг: [230/500], Потеря: 2.2766\n",
            "Эпоха: [7/10], Шаг: [240/500], Потеря: 2.1596\n",
            "Эпоха: [7/10], Шаг: [250/500], Потеря: 1.9708\n",
            "Эпоха: [7/10], Шаг: [260/500], Потеря: 2.2011\n",
            "Эпоха: [7/10], Шаг: [270/500], Потеря: 2.2317\n",
            "Эпоха: [7/10], Шаг: [280/500], Потеря: 2.2831\n",
            "Эпоха: [7/10], Шаг: [290/500], Потеря: 2.2202\n",
            "Эпоха: [7/10], Шаг: [300/500], Потеря: 2.5374\n",
            "Эпоха: [7/10], Шаг: [310/500], Потеря: 2.4851\n",
            "Эпоха: [7/10], Шаг: [320/500], Потеря: 2.3787\n",
            "Эпоха: [7/10], Шаг: [330/500], Потеря: 2.0551\n",
            "Эпоха: [7/10], Шаг: [340/500], Потеря: 2.5340\n",
            "Эпоха: [7/10], Шаг: [350/500], Потеря: 2.0462\n",
            "Эпоха: [7/10], Шаг: [360/500], Потеря: 2.0196\n",
            "Эпоха: [7/10], Шаг: [370/500], Потеря: 2.3223\n",
            "Эпоха: [7/10], Шаг: [380/500], Потеря: 2.3107\n",
            "Эпоха: [7/10], Шаг: [390/500], Потеря: 2.4107\n",
            "Эпоха: [7/10], Шаг: [400/500], Потеря: 2.2366\n",
            "Эпоха: [7/10], Шаг: [410/500], Потеря: 2.1475\n",
            "Эпоха: [7/10], Шаг: [420/500], Потеря: 2.1403\n",
            "Эпоха: [7/10], Шаг: [430/500], Потеря: 2.2927\n",
            "Эпоха: [7/10], Шаг: [440/500], Потеря: 2.2858\n",
            "Эпоха: [7/10], Шаг: [450/500], Потеря: 2.2722\n",
            "Эпоха: [7/10], Шаг: [460/500], Потеря: 2.2644\n",
            "Эпоха: [7/10], Шаг: [470/500], Потеря: 1.9433\n",
            "Эпоха: [7/10], Шаг: [480/500], Потеря: 2.2470\n",
            "Эпоха: [7/10], Шаг: [490/500], Потеря: 2.2831\n",
            "Эпоха: [7/10], Шаг: [500/500], Потеря: 2.4587\n",
            "Эпоха: [8/10], Шаг: [10/500], Потеря: 2.0879\n",
            "Эпоха: [8/10], Шаг: [20/500], Потеря: 2.1665\n",
            "Эпоха: [8/10], Шаг: [30/500], Потеря: 2.3757\n",
            "Эпоха: [8/10], Шаг: [40/500], Потеря: 2.4312\n",
            "Эпоха: [8/10], Шаг: [50/500], Потеря: 2.2844\n",
            "Эпоха: [8/10], Шаг: [60/500], Потеря: 2.2085\n",
            "Эпоха: [8/10], Шаг: [70/500], Потеря: 2.2707\n",
            "Эпоха: [8/10], Шаг: [80/500], Потеря: 2.1726\n",
            "Эпоха: [8/10], Шаг: [90/500], Потеря: 2.2783\n",
            "Эпоха: [8/10], Шаг: [100/500], Потеря: 2.1301\n",
            "Эпоха: [8/10], Шаг: [110/500], Потеря: 2.4607\n",
            "Эпоха: [8/10], Шаг: [120/500], Потеря: 2.2824\n",
            "Эпоха: [8/10], Шаг: [130/500], Потеря: 2.2890\n",
            "Эпоха: [8/10], Шаг: [140/500], Потеря: 2.1934\n",
            "Эпоха: [8/10], Шаг: [150/500], Потеря: 2.3555\n",
            "Эпоха: [8/10], Шаг: [160/500], Потеря: 2.3616\n",
            "Эпоха: [8/10], Шаг: [170/500], Потеря: 2.2911\n",
            "Эпоха: [8/10], Шаг: [180/500], Потеря: 2.3402\n",
            "Эпоха: [8/10], Шаг: [190/500], Потеря: 2.2081\n",
            "Эпоха: [8/10], Шаг: [200/500], Потеря: 2.2602\n",
            "Эпоха: [8/10], Шаг: [210/500], Потеря: 2.5249\n",
            "Эпоха: [8/10], Шаг: [220/500], Потеря: 2.2623\n",
            "Эпоха: [8/10], Шаг: [230/500], Потеря: 1.9098\n",
            "Эпоха: [8/10], Шаг: [240/500], Потеря: 2.1594\n",
            "Эпоха: [8/10], Шаг: [250/500], Потеря: 2.2194\n",
            "Эпоха: [8/10], Шаг: [260/500], Потеря: 2.2369\n",
            "Эпоха: [8/10], Шаг: [270/500], Потеря: 2.2610\n",
            "Эпоха: [8/10], Шаг: [280/500], Потеря: 2.3444\n",
            "Эпоха: [8/10], Шаг: [290/500], Потеря: 2.0149\n",
            "Эпоха: [8/10], Шаг: [300/500], Потеря: 2.1534\n",
            "Эпоха: [8/10], Шаг: [310/500], Потеря: 2.3353\n",
            "Эпоха: [8/10], Шаг: [320/500], Потеря: 2.2875\n",
            "Эпоха: [8/10], Шаг: [330/500], Потеря: 2.2081\n",
            "Эпоха: [8/10], Шаг: [340/500], Потеря: 2.3885\n",
            "Эпоха: [8/10], Шаг: [350/500], Потеря: 2.4089\n",
            "Эпоха: [8/10], Шаг: [360/500], Потеря: 2.0373\n",
            "Эпоха: [8/10], Шаг: [370/500], Потеря: 1.7701\n",
            "Эпоха: [8/10], Шаг: [380/500], Потеря: 2.2008\n",
            "Эпоха: [8/10], Шаг: [390/500], Потеря: 2.0410\n",
            "Эпоха: [8/10], Шаг: [400/500], Потеря: 2.3449\n",
            "Эпоха: [8/10], Шаг: [410/500], Потеря: 2.0606\n",
            "Эпоха: [8/10], Шаг: [420/500], Потеря: 2.4024\n",
            "Эпоха: [8/10], Шаг: [430/500], Потеря: 2.1691\n",
            "Эпоха: [8/10], Шаг: [440/500], Потеря: 2.0394\n",
            "Эпоха: [8/10], Шаг: [450/500], Потеря: 2.3868\n",
            "Эпоха: [8/10], Шаг: [460/500], Потеря: 2.3471\n",
            "Эпоха: [8/10], Шаг: [470/500], Потеря: 2.4358\n",
            "Эпоха: [8/10], Шаг: [480/500], Потеря: 2.1007\n",
            "Эпоха: [8/10], Шаг: [490/500], Потеря: 2.3538\n",
            "Эпоха: [8/10], Шаг: [500/500], Потеря: 2.2833\n",
            "Эпоха: [9/10], Шаг: [10/500], Потеря: 2.0824\n",
            "Эпоха: [9/10], Шаг: [20/500], Потеря: 2.1690\n",
            "Эпоха: [9/10], Шаг: [30/500], Потеря: 2.2299\n",
            "Эпоха: [9/10], Шаг: [40/500], Потеря: 1.9165\n",
            "Эпоха: [9/10], Шаг: [50/500], Потеря: 1.9135\n",
            "Эпоха: [9/10], Шаг: [60/500], Потеря: 2.2800\n",
            "Эпоха: [9/10], Шаг: [70/500], Потеря: 2.1007\n",
            "Эпоха: [9/10], Шаг: [80/500], Потеря: 1.9626\n",
            "Эпоха: [9/10], Шаг: [90/500], Потеря: 2.1377\n",
            "Эпоха: [9/10], Шаг: [100/500], Потеря: 2.1588\n",
            "Эпоха: [9/10], Шаг: [110/500], Потеря: 2.1436\n",
            "Эпоха: [9/10], Шаг: [120/500], Потеря: 2.0545\n",
            "Эпоха: [9/10], Шаг: [130/500], Потеря: 1.9214\n",
            "Эпоха: [9/10], Шаг: [140/500], Потеря: 2.1072\n",
            "Эпоха: [9/10], Шаг: [150/500], Потеря: 2.2749\n",
            "Эпоха: [9/10], Шаг: [160/500], Потеря: 1.9152\n",
            "Эпоха: [9/10], Шаг: [170/500], Потеря: 2.1621\n",
            "Эпоха: [9/10], Шаг: [180/500], Потеря: 2.4945\n",
            "Эпоха: [9/10], Шаг: [190/500], Потеря: 2.0727\n",
            "Эпоха: [9/10], Шаг: [200/500], Потеря: 2.2774\n",
            "Эпоха: [9/10], Шаг: [210/500], Потеря: 2.1085\n",
            "Эпоха: [9/10], Шаг: [220/500], Потеря: 2.3987\n",
            "Эпоха: [9/10], Шаг: [230/500], Потеря: 2.0905\n",
            "Эпоха: [9/10], Шаг: [240/500], Потеря: 2.1618\n",
            "Эпоха: [9/10], Шаг: [250/500], Потеря: 2.0785\n",
            "Эпоха: [9/10], Шаг: [260/500], Потеря: 2.0733\n",
            "Эпоха: [9/10], Шаг: [270/500], Потеря: 2.1129\n",
            "Эпоха: [9/10], Шаг: [280/500], Потеря: 2.1998\n",
            "Эпоха: [9/10], Шаг: [290/500], Потеря: 2.2051\n",
            "Эпоха: [9/10], Шаг: [300/500], Потеря: 2.1232\n",
            "Эпоха: [9/10], Шаг: [310/500], Потеря: 2.1412\n",
            "Эпоха: [9/10], Шаг: [320/500], Потеря: 1.9849\n",
            "Эпоха: [9/10], Шаг: [330/500], Потеря: 2.1464\n",
            "Эпоха: [9/10], Шаг: [340/500], Потеря: 2.1069\n",
            "Эпоха: [9/10], Шаг: [350/500], Потеря: 2.1941\n",
            "Эпоха: [9/10], Шаг: [360/500], Потеря: 2.2917\n",
            "Эпоха: [9/10], Шаг: [370/500], Потеря: 2.2677\n",
            "Эпоха: [9/10], Шаг: [380/500], Потеря: 2.0274\n",
            "Эпоха: [9/10], Шаг: [390/500], Потеря: 2.0641\n",
            "Эпоха: [9/10], Шаг: [400/500], Потеря: 2.1932\n",
            "Эпоха: [9/10], Шаг: [410/500], Потеря: 2.1661\n",
            "Эпоха: [9/10], Шаг: [420/500], Потеря: 2.2178\n",
            "Эпоха: [9/10], Шаг: [430/500], Потеря: 2.3776\n",
            "Эпоха: [9/10], Шаг: [440/500], Потеря: 2.1588\n",
            "Эпоха: [9/10], Шаг: [450/500], Потеря: 2.3432\n",
            "Эпоха: [9/10], Шаг: [460/500], Потеря: 2.2749\n",
            "Эпоха: [9/10], Шаг: [470/500], Потеря: 2.2893\n",
            "Эпоха: [9/10], Шаг: [480/500], Потеря: 2.2888\n",
            "Эпоха: [9/10], Шаг: [490/500], Потеря: 2.3464\n",
            "Эпоха: [9/10], Шаг: [500/500], Потеря: 2.3107\n",
            "Эпоха: [10/10], Шаг: [10/500], Потеря: 2.2554\n",
            "Эпоха: [10/10], Шаг: [20/500], Потеря: 2.3174\n",
            "Эпоха: [10/10], Шаг: [30/500], Потеря: 2.1002\n",
            "Эпоха: [10/10], Шаг: [40/500], Потеря: 2.1452\n",
            "Эпоха: [10/10], Шаг: [50/500], Потеря: 2.5240\n",
            "Эпоха: [10/10], Шаг: [60/500], Потеря: 1.9647\n",
            "Эпоха: [10/10], Шаг: [70/500], Потеря: 2.2617\n",
            "Эпоха: [10/10], Шаг: [80/500], Потеря: 2.0256\n",
            "Эпоха: [10/10], Шаг: [90/500], Потеря: 2.2233\n",
            "Эпоха: [10/10], Шаг: [100/500], Потеря: 2.2995\n",
            "Эпоха: [10/10], Шаг: [110/500], Потеря: 2.2731\n",
            "Эпоха: [10/10], Шаг: [120/500], Потеря: 2.1525\n",
            "Эпоха: [10/10], Шаг: [130/500], Потеря: 2.2520\n",
            "Эпоха: [10/10], Шаг: [140/500], Потеря: 2.2749\n",
            "Эпоха: [10/10], Шаг: [150/500], Потеря: 2.1519\n",
            "Эпоха: [10/10], Шаг: [160/500], Потеря: 2.1161\n",
            "Эпоха: [10/10], Шаг: [170/500], Потеря: 2.2669\n",
            "Эпоха: [10/10], Шаг: [180/500], Потеря: 2.1254\n",
            "Эпоха: [10/10], Шаг: [190/500], Потеря: 1.9714\n",
            "Эпоха: [10/10], Шаг: [200/500], Потеря: 2.1194\n",
            "Эпоха: [10/10], Шаг: [210/500], Потеря: 2.0050\n",
            "Эпоха: [10/10], Шаг: [220/500], Потеря: 2.0817\n",
            "Эпоха: [10/10], Шаг: [230/500], Потеря: 1.9771\n",
            "Эпоха: [10/10], Шаг: [240/500], Потеря: 1.9432\n",
            "Эпоха: [10/10], Шаг: [250/500], Потеря: 2.2438\n",
            "Эпоха: [10/10], Шаг: [260/500], Потеря: 2.1334\n",
            "Эпоха: [10/10], Шаг: [270/500], Потеря: 2.2750\n",
            "Эпоха: [10/10], Шаг: [280/500], Потеря: 2.1293\n",
            "Эпоха: [10/10], Шаг: [290/500], Потеря: 2.0140\n",
            "Эпоха: [10/10], Шаг: [300/500], Потеря: 1.9542\n",
            "Эпоха: [10/10], Шаг: [310/500], Потеря: 2.3415\n",
            "Эпоха: [10/10], Шаг: [320/500], Потеря: 2.3403\n",
            "Эпоха: [10/10], Шаг: [330/500], Потеря: 2.0455\n",
            "Эпоха: [10/10], Шаг: [340/500], Потеря: 2.0378\n",
            "Эпоха: [10/10], Шаг: [350/500], Потеря: 1.7944\n",
            "Эпоха: [10/10], Шаг: [360/500], Потеря: 2.2170\n",
            "Эпоха: [10/10], Шаг: [370/500], Потеря: 2.3177\n",
            "Эпоха: [10/10], Шаг: [380/500], Потеря: 2.0542\n",
            "Эпоха: [10/10], Шаг: [390/500], Потеря: 2.3295\n",
            "Эпоха: [10/10], Шаг: [400/500], Потеря: 2.1354\n",
            "Эпоха: [10/10], Шаг: [410/500], Потеря: 2.2222\n",
            "Эпоха: [10/10], Шаг: [420/500], Потеря: 2.2559\n",
            "Эпоха: [10/10], Шаг: [430/500], Потеря: 2.0730\n",
            "Эпоха: [10/10], Шаг: [440/500], Потеря: 1.9612\n",
            "Эпоха: [10/10], Шаг: [450/500], Потеря: 2.0224\n",
            "Эпоха: [10/10], Шаг: [460/500], Потеря: 2.1399\n",
            "Эпоха: [10/10], Шаг: [470/500], Потеря: 2.1431\n",
            "Эпоха: [10/10], Шаг: [480/500], Потеря: 2.1957\n",
            "Эпоха: [10/10], Шаг: [490/500], Потеря: 2.1104\n",
            "Эпоха: [10/10], Шаг: [500/500], Потеря: 2.0100\n"
          ]
        }
      ]
    },
    {
      "cell_type": "code",
      "metadata": {
        "id": "dkt0Sbgj_jR0"
      },
      "source": [
        "torch.save(vgg16, '/content/drive/MyDrive/Предобученные сети/vgg16_pytorch.pkl')\n",
        "#vgg16 = torch.load('/content/drive/MyDrive/Предобученные сети/vgg16_pytorch.pkl')"
      ],
      "execution_count": null,
      "outputs": []
    },
    {
      "cell_type": "code",
      "metadata": {
        "id": "UV1zXpZIw7ck",
        "colab": {
          "base_uri": "https://localhost:8080/"
        },
        "outputId": "69c4d156-709e-4b09-bf2b-6c68092b0d19"
      },
      "source": [
        "curTime = time.time()\n",
        "vgg16.eval()  # включаем режим проверки\n",
        "correct = 0\n",
        "total = 0\n",
        "\n",
        "for images, labels in testLoader: # проходимся по всему тестовому загрузчику\n",
        "    images = images.to(device)\n",
        "    labels = labels.to(device) \n",
        "    outputs = vgg16(images) # классифицируем\n",
        "    _, predicted = torch.max(outputs.data, 1) # вытаскиваем индексы лейблов\n",
        "    total += labels.size(0) # здесь лежит количество всего\n",
        "    correct += (predicted == labels).sum() # считаем количество совпадений\n",
        "    \n",
        "print('Точность для 10000 картинок: %d %%' % (100 * correct // total))\n",
        "print('time: ', round(time.time()-curTime,2),' с',sep='')"
      ],
      "execution_count": null,
      "outputs": [
        {
          "output_type": "stream",
          "name": "stdout",
          "text": [
            "Точность для 10000 картинок: 37 %\n",
            "time: 1.61 с\n"
          ]
        }
      ]
    },
    {
      "cell_type": "code",
      "metadata": {
        "id": "a8RiBEbY0LpX",
        "colab": {
          "base_uri": "https://localhost:8080/"
        },
        "outputId": "cd2ac740-9e3f-4dd0-9591-dbaef4e9f1f3"
      },
      "source": [
        "predicted.shape # размер предикта "
      ],
      "execution_count": null,
      "outputs": [
        {
          "output_type": "execute_result",
          "data": {
            "text/plain": [
              "torch.Size([100])"
            ]
          },
          "metadata": {},
          "execution_count": 79
        }
      ]
    },
    {
      "cell_type": "code",
      "metadata": {
        "id": "kbUO_JuAmhMF",
        "colab": {
          "base_uri": "https://localhost:8080/"
        },
        "outputId": "582516a5-067e-4389-85c6-ddcbb6a4a3b3"
      },
      "source": [
        "images[0].shape # размер одной картинки"
      ],
      "execution_count": null,
      "outputs": [
        {
          "output_type": "execute_result",
          "data": {
            "text/plain": [
              "torch.Size([3, 32, 32])"
            ]
          },
          "metadata": {},
          "execution_count": 80
        }
      ]
    },
    {
      "cell_type": "code",
      "metadata": {
        "id": "x5eWQWaSlDKq",
        "colab": {
          "base_uri": "https://localhost:8080/",
          "height": 266
        },
        "outputId": "fb24934c-cca9-4c57-cc1e-a6e171f29f1f"
      },
      "source": [
        "n = 6\n",
        "im = images[n,1].cpu().numpy() # Превращаем шестую картинку в numpy\n",
        "im = 255*np.reshape(im,(32,32)) # Приводим к формату RGB\n",
        "x = Image.fromarray(im.astype(np.uint8)).convert('RGBA') #Данные массива должны быть универсальной кодировки и приводим к формату изображения\n",
        "\n",
        "plt.imshow(x)\n",
        "plt.axis('off')\n",
        "plt.show()\n",
        "\n",
        "# Предсказание\n",
        "\n",
        "print(\"Предсказание:\", labels[predicted[n].item()])\n"
      ],
      "execution_count": null,
      "outputs": [
        {
          "output_type": "display_data",
          "data": {
            "text/plain": [
              "<Figure size 432x288 with 1 Axes>"
            ],
            "image/png": "[encoded data removed]"
          },
          "metadata": {
            "needs_background": "light"
          }
        },
        {
          "output_type": "stream",
          "name": "stdout",
          "text": [
            "Предсказание: tensor(51, device='cuda:0')\n"
          ]
        }
      ]
    },
    {
      "cell_type": "markdown",
      "source": [
        "Не нашла как получить название 51-го класса. В PyTorch документации не увидела. Подскажите, пожалуйста?????"
      ],
      "metadata": {
        "id": "6J-mwk8vclxy"
      }
    },
    {
      "cell_type": "code",
      "source": [],
      "metadata": {
        "id": "GSfRMbRucyRF"
      },
      "execution_count": null,
      "outputs": []
    }
  ]
}