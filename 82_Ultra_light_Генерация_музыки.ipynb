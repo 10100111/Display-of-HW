{
  "nbformat": 4,
  "nbformat_minor": 0,
  "metadata": {
    "colab": {
      "provenance": [],
      "machine_shape": "hm",
      "include_colab_link": true
    },
    "kernelspec": {
      "name": "python3",
      "display_name": "Python 3"
    },
    "language_info": {
      "name": "python"
    },
    "accelerator": "TPU",
    "gpuClass": "standard"
  },
  "cells": [
    {
      "cell_type": "markdown",
      "metadata": {
        "id": "view-in-github",
        "colab_type": "text"
      },
      "source": [
        "<a href=\"https://colab.research.google.com/github/10100111/Display-of-HW1/blob/main/82_Ultra_light_%D0%93%D0%B5%D0%BD%D0%B5%D1%80%D0%B0%D1%86%D0%B8%D1%8F_%D0%BC%D1%83%D0%B7%D1%8B%D0%BA%D0%B8.ipynb\" target=\"_parent\"><img src=\"https://colab.research.google.com/assets/colab-badge.svg\" alt=\"Open In Colab\"/></a>"
      ]
    },
    {
      "cell_type": "markdown",
      "source": [
        "Задание Ultra Lite\n",
        "\n",
        "Макс 10 баллов\n",
        "\n",
        "Перепишите этапы подготовки данных и обучения модели с нуля. Для лучшего усвоения материала постарайтесь самостоятельно печатать код, даже если Вы будете его подсматривать в блокноте с занятия."
      ],
      "metadata": {
        "id": "8Wi-_Gi8eBUF"
      }
    },
    {
      "cell_type": "markdown",
      "source": [
        "# Загрузка библиотек"
      ],
      "metadata": {
        "id": "MtACZ3RaeZHz"
      }
    },
    {
      "cell_type": "code",
      "execution_count": null,
      "metadata": {
        "id": "0yJQC6mYd1Pt"
      },
      "outputs": [],
      "source": [
        "import pandas as pd\n",
        "import numpy as np\n",
        "import keras\n",
        "from keras import Sequential\n",
        "from keras.layers import LSTM, Dropout, Dense, Activation\n",
        "from keras.callbacks import ModelCheckpoint\n",
        "from google.colab import files, drive\n",
        "from matplotlib import pyplot as plt\n",
        "from music21 import *\n",
        "import glob\n",
        "import pickle\n",
        "from IPython.display import clear_output\n",
        "from IPython.display import Audio"
      ]
    },
    {
      "cell_type": "code",
      "source": [
        "from google.colab import drive\n",
        "drive.mount('/content/drive')"
      ],
      "metadata": {
        "colab": {
          "base_uri": "https://localhost:8080/"
        },
        "id": "ToIzp5R7fyTo",
        "outputId": "e2a0fbbf-1afd-4971-8c6a-8aad5cfc027a"
      },
      "execution_count": null,
      "outputs": [
        {
          "output_type": "stream",
          "name": "stdout",
          "text": [
            "Drive already mounted at /content/drive; to attempt to forcibly remount, call drive.mount(\"/content/drive\", force_remount=True).\n"
          ]
        }
      ]
    },
    {
      "cell_type": "markdown",
      "source": [
        "# Загрузка данных"
      ],
      "metadata": {
        "id": "u0alh3q4f895"
      }
    },
    {
      "cell_type": "code",
      "source": [
        "# Загрузка и unzip \n",
        "!unzip '/content/drive/MyDrive/Базы/class.zip' -d './data/'\n",
        "clear_output()"
      ],
      "metadata": {
        "id": "q-6UV0Q1f75e"
      },
      "execution_count": null,
      "outputs": []
    },
    {
      "cell_type": "code",
      "source": [
        "# Функция парсит midi файл в удобный для работы формат\n",
        "midi = converter.parse('/content/data/alb_esp1.mid')\n",
        "midi"
      ],
      "metadata": {
        "colab": {
          "base_uri": "https://localhost:8080/"
        },
        "id": "Uo59euEjh5X9",
        "outputId": "cd83ea73-26be-4f25-f078-0cb9026873b3"
      },
      "execution_count": null,
      "outputs": [
        {
          "output_type": "execute_result",
          "data": {
            "text/plain": [
              "<music21.stream.Score 0x7fac04b603a0>"
            ]
          },
          "metadata": {},
          "execution_count": 6
        }
      ]
    },
    {
      "cell_type": "code",
      "source": [
        "# Функция получения списка нот и аккордов в файле\n",
        "notes_to_parse = midi.flat.notes\n",
        "for element in notes_to_parse[:40]:\n",
        "  print(element, element.offset) # offset - это смещение, которое позволяет проигрывать ноту в разное время\n",
        "  "
      ],
      "metadata": {
        "colab": {
          "base_uri": "https://localhost:8080/"
        },
        "id": "8yL0tIKtiU2F",
        "outputId": "4a666edf-ce45-4c49-cbaf-c6ed07f06c25"
      },
      "execution_count": null,
      "outputs": [
        {
          "output_type": "stream",
          "name": "stdout",
          "text": [
            "<music21.note.Note A> 0.5\n",
            "<music21.note.Note A> 0.5\n",
            "<music21.note.Note E> 1.0\n",
            "<music21.note.Note E> 1.0\n",
            "<music21.note.Note D> 4.25\n",
            "<music21.note.Note D> 4.25\n",
            "<music21.note.Note E> 13/3\n",
            "<music21.note.Note E> 13/3\n",
            "<music21.note.Note D> 4.5\n",
            "<music21.note.Note D> 4.5\n",
            "<music21.note.Note C> 5.0\n",
            "<music21.note.Note C> 5.0\n",
            "<music21.note.Note D> 5.5\n",
            "<music21.note.Note D> 5.5\n",
            "<music21.note.Note E> 6.0\n",
            "<music21.note.Note E> 6.0\n",
            "<music21.note.Note F> 6.5\n",
            "<music21.note.Note F> 6.5\n",
            "<music21.note.Note G> 7.0\n",
            "<music21.note.Note G> 7.0\n",
            "<music21.note.Note E> 7.5\n",
            "<music21.note.Note E> 7.5\n",
            "<music21.note.Note F> 8.0\n",
            "<music21.note.Note F> 8.0\n",
            "<music21.note.Note E> 8.5\n",
            "<music21.note.Note E> 8.5\n",
            "<music21.note.Note D> 8.75\n",
            "<music21.note.Note E> 8.75\n",
            "<music21.note.Note D> 8.75\n",
            "<music21.note.Note E> 8.75\n",
            "<music21.note.Note D> 9.0\n",
            "<music21.note.Note D> 9.0\n",
            "<music21.note.Note C> 10.0\n",
            "<music21.note.Note C> 10.0\n",
            "<music21.note.Note B-> 11.0\n",
            "<music21.note.Note B-> 11.0\n",
            "<music21.note.Note A> 12.0\n",
            "<music21.note.Note A> 12.5\n",
            "<music21.note.Note E> 12.5\n",
            "<music21.note.Note C#> 13.0\n"
          ]
        }
      ]
    },
    {
      "cell_type": "code",
      "source": [
        "# Выбираем пианино, если в файле есть несколько инструментов\n",
        "s2 = instrument.partitionByInstrument(midi)\n",
        "s2.parts[0] # берем часть с пианино"
      ],
      "metadata": {
        "colab": {
          "base_uri": "https://localhost:8080/"
        },
        "id": "DSWN1d1OjPzT",
        "outputId": "c319fcff-17a4-476e-f6e7-1889c2bf758b"
      },
      "execution_count": null,
      "outputs": [
        {
          "output_type": "execute_result",
          "data": {
            "text/plain": [
              "<music21.stream.Part Piano>"
            ]
          },
          "metadata": {},
          "execution_count": 8
        }
      ]
    },
    {
      "cell_type": "markdown",
      "source": [
        "# Собираем список нот"
      ],
      "metadata": {
        "id": "b09FaLABkAsw"
      }
    },
    {
      "cell_type": "code",
      "source": [
        "notes = [] # здесь будут храниться все ноты из всех файлов\n",
        "for i, file in enumerate(glob.glob('/content/data/*.mid')):\n",
        "  midi = converter.parse(file)       # парсит midi файл в удобный для работы формат\n",
        "  print('\\r', 'Обрабатывается файл', i, ' ', file, end='')\n",
        "  notes_to_parse = None\n",
        "  try:                               # если в файле нет разных инструментов\n",
        "    notes_to_parse = midi.flat.notes # получаем списки нот и аккордов\n",
        "  except:                            # если есть разные инструменты\n",
        "    s2 = instrument.partitionByInstrument(midi)\n",
        "    notes_to_parse = s2.parts[0].recurse() # итератор\n",
        "\n",
        "\n",
        "  for element in notes_to_parse:          # добавляем в список ноту или аккорд\n",
        "    if isinstance(element, note.Note): # если нота, то росто добавляем ее\n",
        "      notes.append(str(element.pitch))\n",
        "    elif isinstance(element, chord.Chord): # если аккорд, то записываем числовой вариант всех нот через точку\n",
        "      notes.append('.'.join(str(n) for n in element.normalOrder))\n",
        "\n"
      ],
      "metadata": {
        "colab": {
          "base_uri": "https://localhost:8080/"
        },
        "id": "ZKrfX5Xij0hD",
        "outputId": "0e7ab057-fac7-48ca-d3c7-904ea6b7d190"
      },
      "execution_count": null,
      "outputs": [
        {
          "output_type": "stream",
          "name": "stdout",
          "text": [
            " Обрабатывается файл 80   /content/data/chpn-p3.mid"
          ]
        }
      ]
    },
    {
      "cell_type": "code",
      "source": [
        "notes_ = []\n",
        "midi = converter.parse('/content/data/alb_esp1.mid')\n",
        "s2 = instrument.partitionByInstrument(midi)\n",
        "notes_to_parse = s2.parts[0].recurse() # итератор\n",
        "for element in notes_to_parse: # добавляем в список ноту или аккорд \n",
        "  # if isinstance(element, note.Note): # если нота, просто добавляем ее\n",
        "  #   notes_.append(str(element.pitch))\n",
        "  if isinstance(element, chord.Chord): # если аккорд, то записываем числовой вариант всех нот через точку\n",
        "    notes_.append('.'.join(str(n) for n in element.normalOrder))"
      ],
      "metadata": {
        "id": "nKq-tqQIvh2G"
      },
      "execution_count": null,
      "outputs": []
    },
    {
      "cell_type": "code",
      "source": [
        "notes_[:10]"
      ],
      "metadata": {
        "colab": {
          "base_uri": "https://localhost:8080/"
        },
        "id": "QZeJ-VxJxRxb",
        "outputId": "1adf64ee-8dd3-464b-fb11-fb4ca0291a1f"
      },
      "execution_count": null,
      "outputs": [
        {
          "output_type": "execute_result",
          "data": {
            "text/plain": [
              "['1.4', '10.2.4', '1.4', '10.2.4', '4.10', '2.8', '4.9', '9.1.4']"
            ]
          },
          "metadata": {},
          "execution_count": 11
        }
      ]
    },
    {
      "cell_type": "markdown",
      "source": [
        "# Сохраняем полученный список на диск и загружаем"
      ],
      "metadata": {
        "id": "PPBLS7j19-Wf"
      }
    },
    {
      "cell_type": "code",
      "source": [
        "# Сохранение\n",
        "with open('notes', 'wb') as filepath:\n",
        "  pickle.dump(notes, filepath)"
      ],
      "metadata": {
        "id": "4JKuFsGj-FCI"
      },
      "execution_count": null,
      "outputs": []
    },
    {
      "cell_type": "code",
      "source": [
        "# Загрузка\n",
        "with open('/content/notes', 'rb') as file:\n",
        "  notes = pickle.load(file)"
      ],
      "metadata": {
        "id": "aiAcmJ5R-gsQ"
      },
      "execution_count": null,
      "outputs": []
    },
    {
      "cell_type": "markdown",
      "source": [
        "# Подготовка данных"
      ],
      "metadata": {
        "id": "KwhrCnR5rJHZ"
      }
    },
    {
      "cell_type": "code",
      "source": [
        "notes[510:520]"
      ],
      "metadata": {
        "colab": {
          "base_uri": "https://localhost:8080/"
        },
        "id": "wgK6sjQIrHW8",
        "outputId": "bc089eac-4ec5-4719-c7cc-7277b7a066d3"
      },
      "execution_count": null,
      "outputs": [
        {
          "output_type": "execute_result",
          "data": {
            "text/plain": [
              "['G3', 'E-4', 'C#4', 'B-4', 'G3', 'C#5', 'E-3', 'G5', 'G#2', 'B-4']"
            ]
          },
          "metadata": {},
          "execution_count": 14
        }
      ]
    },
    {
      "cell_type": "markdown",
      "source": [],
      "metadata": {
        "id": "WlfQOxU2yyHy"
      }
    },
    {
      "cell_type": "code",
      "source": [
        "len(notes)"
      ],
      "metadata": {
        "id": "aFfMTOKwrW9D",
        "colab": {
          "base_uri": "https://localhost:8080/"
        },
        "outputId": "78ea9e92-b375-4370-ff3a-e378515b6390"
      },
      "execution_count": null,
      "outputs": [
        {
          "output_type": "execute_result",
          "data": {
            "text/plain": [
              "139269"
            ]
          },
          "metadata": {},
          "execution_count": 15
        }
      ]
    },
    {
      "cell_type": "code",
      "source": [
        "# Применим метод set чтобы собрать уникальные ноты и аккорды\n",
        "n_list = set(notes)\n",
        "# Выведем их количество \n",
        "len(n_list)"
      ],
      "metadata": {
        "id": "cNSauDsxrZbV",
        "colab": {
          "base_uri": "https://localhost:8080/"
        },
        "outputId": "89e898b8-8bb9-432d-e5dc-818957562987"
      },
      "execution_count": null,
      "outputs": [
        {
          "output_type": "execute_result",
          "data": {
            "text/plain": [
              "351"
            ]
          },
          "metadata": {},
          "execution_count": 16
        }
      ]
    },
    {
      "cell_type": "code",
      "source": [
        "# Зададим длину последовательности нот/аккордов по которой сеть будет делать предсказания\n",
        "sequence_length = 100\n",
        "\n",
        "# Получаем отсортированный список всех уникальных нот и аккордов\n",
        "pitchnames = sorted(n_list)\n",
        "\n",
        "# Создаем словарь, сопоставляющий ноту/аккорд числу (int)\n",
        "note_to_int = dict((note, number) for number, note in enumerate(pitchnames)) \n",
        "\n",
        "network_input = [] # список со всеми последовательностями\n",
        "network_output = [] # список со всеми элементами, идущими после последовательности\n",
        "\n",
        "# Создаем обучающую выборку\n",
        "for i in range(0, len(notes) - sequence_length, 1): # проходимся окном по всем элементам за минусом \"хвоста\" = окну\n",
        "  sequence_in = notes[i:i + sequence_length] # выбираем (окно) последовательность длины sequence_length\n",
        "  sequence_out = notes[i + sequence_length] # следующий за последовательностью элемент\n",
        "  network_input.append([note_to_int[char] for char in sequence_in]) # добавляем в список последовательность, предварительно, переведя все ноты/аккорды в числа\n",
        "  network_output.append(note_to_int[sequence_out]) # добавляем в список следующий за последовательностью элемент, переведя его в число\n",
        "\n",
        "n_patterns = len(network_input) # количество полученных последовательностей\n",
        "\n",
        "# Делаем решейп, чтобы сеть могла обучаться\n",
        "network_input = np.reshape(network_input, (n_patterns, sequence_length, 1))\n",
        "# Нормализуем входные данные\n",
        "network_input = network_input / float(len(n_list))\n",
        "# Выходные данные преобразыем в OHE\n",
        "network_output = np.array(network_output)\n",
        "# network_output = keras.utils.to_categorical(network_output)"
      ],
      "metadata": {
        "id": "5hMzG45wryjC"
      },
      "execution_count": null,
      "outputs": []
    },
    {
      "cell_type": "code",
      "source": [
        "network_input.shape"
      ],
      "metadata": {
        "id": "LxuojqKMsMlS",
        "colab": {
          "base_uri": "https://localhost:8080/"
        },
        "outputId": "633cae4e-7be1-4bcf-b42a-37cc5a8e70bd"
      },
      "execution_count": null,
      "outputs": [
        {
          "output_type": "execute_result",
          "data": {
            "text/plain": [
              "(139169, 100, 1)"
            ]
          },
          "metadata": {},
          "execution_count": 18
        }
      ]
    },
    {
      "cell_type": "markdown",
      "source": [
        "# Архитектура сети"
      ],
      "metadata": {
        "id": "39UwE750n1xK"
      }
    },
    {
      "cell_type": "code",
      "source": [
        "def create_network(network_input, n_list, dropout=0.3):\n",
        "  model = Sequential()\n",
        "  model.add(LSTM(256, input_shape=(network_input.shape[1], network_input.shape[2]),return_sequences=True))\n",
        "  model.add(Dropout(dropout))\n",
        "  model.add(LSTM(256, return_sequences=True))\n",
        "  model.add(Dropout(dropout))\n",
        "  model.add(LSTM(256))\n",
        "  model.add(Dense(128))\n",
        "  model.add(Dropout(dropout))\n",
        "  model.add(Dense(len(n_list)))\n",
        "  model.add(Activation('softmax'))\n",
        "  model.compile(loss='sparse_categorical_crossentropy', optimizer='rmsprop', metrics=['accuracy'])\n",
        "\n",
        "  return model"
      ],
      "metadata": {
        "id": "AQAjmbZQn4Mj"
      },
      "execution_count": null,
      "outputs": []
    },
    {
      "cell_type": "code",
      "source": [
        "model = create_network(network_input, n_list)"
      ],
      "metadata": {
        "id": "tYKUDvCXqpI9"
      },
      "execution_count": null,
      "outputs": []
    },
    {
      "cell_type": "code",
      "source": [
        "model.summary()"
      ],
      "metadata": {
        "colab": {
          "base_uri": "https://localhost:8080/"
        },
        "id": "OT913EhnpUfo",
        "outputId": "933358a6-b0fd-403e-b4b0-10095a5dde16"
      },
      "execution_count": null,
      "outputs": [
        {
          "output_type": "stream",
          "name": "stdout",
          "text": [
            "Model: \"sequential\"\n",
            "_________________________________________________________________\n",
            " Layer (type)                Output Shape              Param #   \n",
            "=================================================================\n",
            " lstm (LSTM)                 (None, 100, 256)          264192    \n",
            "                                                                 \n",
            " dropout (Dropout)           (None, 100, 256)          0         \n",
            "                                                                 \n",
            " lstm_1 (LSTM)               (None, 100, 256)          525312    \n",
            "                                                                 \n",
            " dropout_1 (Dropout)         (None, 100, 256)          0         \n",
            "                                                                 \n",
            " lstm_2 (LSTM)               (None, 256)               525312    \n",
            "                                                                 \n",
            " dense (Dense)               (None, 128)               32896     \n",
            "                                                                 \n",
            " dropout_2 (Dropout)         (None, 128)               0         \n",
            "                                                                 \n",
            " dense_1 (Dense)             (None, 351)               45279     \n",
            "                                                                 \n",
            " activation (Activation)     (None, 351)               0         \n",
            "                                                                 \n",
            "=================================================================\n",
            "Total params: 1,392,991\n",
            "Trainable params: 1,392,991\n",
            "Non-trainable params: 0\n",
            "_________________________________________________________________\n"
          ]
        }
      ]
    },
    {
      "cell_type": "code",
      "source": [
        "'''\n",
        "Для обучения сети используем ModelCheckpoint, \n",
        "позволяющий сохранять веса в процессе обучения\n",
        "'''\n",
        "# Пропишем путь к сохранению весов\n",
        "filepath = '/content/drive/MyDrive/Базы/Генерация_музыки/weights-improvement-{epoch:02d}-{loss:.4f}.hdf5'\n",
        "checkpoint = ModelCheckpoint(filepath,\n",
        "                             monitor='loss',\n",
        "                             verbose=0,\n",
        "                             save_weights_only=True, # сохраняем только веса\n",
        "                             save_best_only=True, # сохраняем только при уменьшении ошибки\n",
        "                             mode='min',     \n",
        "                             )\n",
        "callbacks_list = [checkpoint]\n",
        "\n",
        "model.fit(network_input, \n",
        "          network_output, \n",
        "          epochs=1, \n",
        "          batch_size=128, \n",
        "          callbacks=callbacks_list\n",
        "          )"
      ],
      "metadata": {
        "colab": {
          "base_uri": "https://localhost:8080/"
        },
        "id": "gK9wZoK5tKZB",
        "outputId": "1762f6ab-773b-47b8-922f-0cd8e10e71aa"
      },
      "execution_count": null,
      "outputs": [
        {
          "output_type": "stream",
          "name": "stdout",
          "text": [
            "1088/1088 [==============================] - 755s 689ms/step - loss: 4.6390 - accuracy: 0.0237\n"
          ]
        },
        {
          "output_type": "execute_result",
          "data": {
            "text/plain": [
              "<keras.callbacks.History at 0x7fab0fcd4880>"
            ]
          },
          "metadata": {},
          "execution_count": 20
        },
        {
          "output_type": "stream",
          "name": "stdout",
          "text": [
            "1088/1088 [==============================] - 775s 712ms/step - loss: 4.5732 - accuracy: 0.0258\n"
          ]
        },
        {
          "output_type": "execute_result",
          "data": {
            "text/plain": [
              "<keras.callbacks.History at 0x7fab1423c040>"
            ]
          },
          "metadata": {},
          "execution_count": 21
        }
      ]
    },
    {
      "cell_type": "code",
      "source": [
        "# Загружаем веса из сохраненного файла на гугл диске\n",
        "weights = '/content/drive/MyDrive/Базы/Генерация_музыки/weights-improvement-01-4.3511.hdf5'\n",
        "if (len(weights)>0):\n",
        "  model.load_weights(weights)\n"
      ],
      "metadata": {
        "id": "1qG0brEU5G0d"
      },
      "execution_count": null,
      "outputs": []
    },
    {
      "cell_type": "code",
      "source": [
        "# Дообучим сеть и назначим новую ссылку для сохранения весов improvement_1\n",
        "filepath = '/content/drive/MyDrive/Базы/Генерация_музыки/weights-improvement_1-{epoch:02d}-{loss:.4f}.hdf5'\n",
        "checkpoint = ModelCheckpoint(filepath,\n",
        "                             monitor='loss',\n",
        "                             verbose=0,\n",
        "                             save_weights_only=True,\n",
        "                             save_best_only=True,\n",
        "                             mode='min',\n",
        "                             )\n",
        "callback_list = [checkpoint]\n",
        "\n",
        "model.fit(network_input,\n",
        "          network_output,\n",
        "          epochs=1,\n",
        "          batch_size=128,\n",
        "          callbacks=callback_list)"
      ],
      "metadata": {
        "colab": {
          "base_uri": "https://localhost:8080/"
        },
        "id": "9gbySMdy-2NQ",
        "outputId": "19186c28-f9ed-41bc-a8e4-bc4d3e5c19d4"
      },
      "execution_count": null,
      "outputs": [
        {
          "output_type": "stream",
          "name": "stdout",
          "text": [
            "1088/1088 [==============================] - 772s 710ms/step - loss: 4.3023 - accuracy: 0.0613\n"
          ]
        },
        {
          "output_type": "execute_result",
          "data": {
            "text/plain": [
              "<keras.callbacks.History at 0x7fab0ee3eee0>"
            ]
          },
          "metadata": {},
          "execution_count": 24
        }
      ]
    },
    {
      "cell_type": "code",
      "source": [
        "weights = '/content/drive/MyDrive/Базы/Генерация_музыки/weights-improvement_1-01-4.3023.hdf5'\n",
        "if (len(weights)>0):\n",
        "  model.load_weights(weights)"
      ],
      "metadata": {
        "id": "a5jvIpbSAC9R"
      },
      "execution_count": null,
      "outputs": []
    },
    {
      "cell_type": "code",
      "source": [
        "model.fit(network_input,\n",
        "          network_output,\n",
        "          epochs=1,\n",
        "          batch_size=128)"
      ],
      "metadata": {
        "colab": {
          "base_uri": "https://localhost:8080/"
        },
        "id": "6o-NQtEfAfdG",
        "outputId": "c7cca74d-f416-4ee6-a788-5af7e5d501b4"
      },
      "execution_count": null,
      "outputs": [
        {
          "output_type": "stream",
          "name": "stdout",
          "text": [
            "1088/1088 [==============================] - 773s 711ms/step - loss: 4.2263 - accuracy: 0.0720\n"
          ]
        },
        {
          "output_type": "execute_result",
          "data": {
            "text/plain": [
              "<keras.callbacks.History at 0x7fab0ea46a00>"
            ]
          },
          "metadata": {},
          "execution_count": 27
        }
      ]
    },
    {
      "cell_type": "markdown",
      "source": [
        "# Генерация музыки"
      ],
      "metadata": {
        "id": "_qL_2EtSBJWy"
      }
    },
    {
      "cell_type": "markdown",
      "source": [
        "Для генерации музыки будем использовать следующий подход:\n",
        "\n",
        "1. Выбираем случайную последовательность из обучающей выборки (далее паттерн)\n",
        "\n",
        "2. Передаем паттерн модели для генерации нового элемента\n",
        "\n",
        "3. Добавляем полученный элемент в финальный список и в конец паттерна\n",
        "\n",
        "4. Удаляем первый элемент в паттерне\n",
        "\n",
        "5. Возвращаемся к шагу 2"
      ],
      "metadata": {
        "id": "lopek53oBQm1"
      }
    }
  ]
}