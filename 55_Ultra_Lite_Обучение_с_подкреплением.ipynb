{
  "nbformat": 4,
  "nbformat_minor": 0,
  "metadata": {
    "colab": {
      "provenance": [],
      "collapsed_sections": [],
      "include_colab_link": true
    },
    "kernelspec": {
      "name": "python3",
      "display_name": "Python 3"
    },
    "language_info": {
      "name": "python"
    }
  },
  "cells": [
    {
      "cell_type": "markdown",
      "metadata": {
        "id": "view-in-github",
        "colab_type": "text"
      },
      "source": [
        "<a href=\"https://colab.research.google.com/github/10100111/Display-of-HW1/blob/main/55_Ultra_Lite_%D0%9E%D0%B1%D1%83%D1%87%D0%B5%D0%BD%D0%B8%D0%B5_%D1%81_%D0%BF%D0%BE%D0%B4%D0%BA%D1%80%D0%B5%D0%BF%D0%BB%D0%B5%D0%BD%D0%B8%D0%B5%D0%BC.ipynb\" target=\"_parent\"><img src=\"https://colab.research.google.com/assets/colab-badge.svg\" alt=\"Open In Colab\"/></a>"
      ]
    },
    {
      "cell_type": "markdown",
      "source": [
        "Задание Ultra Lite\n",
        "\n",
        "Макс 10 баллов\n",
        "\n",
        "Перепишите блоки занятия.\n",
        "\n",
        "1. Моделируем нейросеть.\n",
        "\n",
        "2. Задаем функцию потерь в соответствии с вознаграждением.\n",
        "\n",
        "3. Генерация игрового эпизода с участием нейросети.\n",
        "\n",
        "4. Обучаем сеть на серии игровых эпизодов.\n",
        "\n",
        "Важно переписать эти блоки самостоятельно, не копируя. Копирование оставшихся блоков допускается."
      ],
      "metadata": {
        "id": "dLId8pawUnVM"
      }
    },
    {
      "cell_type": "markdown",
      "source": [
        "# Загрузка библиотек"
      ],
      "metadata": {
        "id": "iiTy2V40W5u_"
      }
    },
    {
      "cell_type": "markdown",
      "source": [
        "В связи с недавним обновлением библиотеки gym, попытки создать игровую среду pong-v0 (или любую другую) теперь вызывают ошибку.\n",
        "\n",
        "Следующий код является временной мерой для избежания этой ошибки.\n",
        "\n",
        "Здесь меняется версия библиотек. Этот код был добавлен 28 мая. Когда обновят gym и уберут критичный баг, этот код будет удален.\n"
      ],
      "metadata": {
        "id": "ZLnmxcXNW-hn"
      }
    },
    {
      "cell_type": "code",
      "execution_count": null,
      "metadata": {
        "id": "O4s3419kUNZ5",
        "colab": {
          "base_uri": "https://localhost:8080/"
        },
        "outputId": "26ad3769-0822-44c6-8631-cc4529aeac4b"
      },
      "outputs": [
        {
          "output_type": "stream",
          "name": "stdout",
          "text": [
            "Looking in indexes: https://pypi.org/simple, https://us-python.pkg.dev/colab-wheels/public/simple/\n",
            "Requirement already satisfied: gym==0.18.3 in /usr/local/lib/python3.7/dist-packages (0.18.3)\n",
            "Requirement already satisfied: pyglet<=1.5.15,>=1.4.0 in /usr/local/lib/python3.7/dist-packages (from gym==0.18.3) (1.5.15)\n",
            "Requirement already satisfied: Pillow<=8.2.0 in /usr/local/lib/python3.7/dist-packages (from gym==0.18.3) (7.1.2)\n",
            "Requirement already satisfied: numpy>=1.10.4 in /usr/local/lib/python3.7/dist-packages (from gym==0.18.3) (1.21.6)\n",
            "Requirement already satisfied: scipy in /usr/local/lib/python3.7/dist-packages (from gym==0.18.3) (1.7.3)\n",
            "Requirement already satisfied: cloudpickle<1.7.0,>=1.2.0 in /usr/local/lib/python3.7/dist-packages (from gym==0.18.3) (1.5.0)\n",
            "Looking in indexes: https://pypi.org/simple, https://us-python.pkg.dev/colab-wheels/public/simple/\n",
            "Requirement already satisfied: atari-py==0.2.5 in /usr/local/lib/python3.7/dist-packages (0.2.5)\n",
            "Requirement already satisfied: numpy in /usr/local/lib/python3.7/dist-packages (from atari-py==0.2.5) (1.21.6)\n",
            "Requirement already satisfied: six in /usr/local/lib/python3.7/dist-packages (from atari-py==0.2.5) (1.15.0)\n"
          ]
        }
      ],
      "source": [
        "!pip install gym==0.18.3\n",
        "!pip install atari-py==0.2.5"
      ]
    },
    {
      "cell_type": "code",
      "source": [
        "from google.colab import drive\n",
        "drive.mount('/content/drive')"
      ],
      "metadata": {
        "colab": {
          "base_uri": "https://localhost:8080/"
        },
        "id": "woQBLFUuXhH4",
        "outputId": "9cf0c722-979e-4ab6-935b-f6e5bda51067"
      },
      "execution_count": null,
      "outputs": [
        {
          "output_type": "stream",
          "name": "stdout",
          "text": [
            "Drive already mounted at /content/drive; to attempt to forcibly remount, call drive.mount(\"/content/drive\", force_remount=True).\n"
          ]
        }
      ]
    },
    {
      "cell_type": "code",
      "source": [
        "import gym # загружаем \"тренажер\" Gym из библиотеки OpenAI, предоставляющий среду для работы над обучением с подкреплением\n",
        "\n",
        "import numpy as np \n",
        "import tensorflow.keras as keras # импортируем нейросетевую библиотеку\n",
        "\n",
        "from tensorflow.keras.models import Model, load_model # из Кераса подгружаем абстрактный класс базовой модели, метод загрузки предобученной модели\n",
        "from tensorflow.keras.layers import Dense, Flatten, Input, Lambda, Conv2D, MaxPooling2D, Reshape, Multiply # слои\n",
        "from tensorflow.keras.utils import plot_model # функция визуализации модели\n",
        "from tensorflow.keras.optimizers import RMSprop, Adam, SGD\n",
        "\n",
        "import time\n",
        "import matplotlib.pyplot as plt\n",
        "import tensorflow as tf\n",
        "# для запуска библиотеки в ноутбуке\n",
        "%matplotlib inline "
      ],
      "metadata": {
        "id": "C09IdacFXpb9"
      },
      "execution_count": null,
      "outputs": []
    },
    {
      "cell_type": "code",
      "source": [
        "# Отключаем функционал tf2.0, чтобы код был совместим с современным tensorflow\n",
        "tf.compat.v1.disable_eager_execution()"
      ],
      "metadata": {
        "id": "MIZrtgYeacs0"
      },
      "execution_count": null,
      "outputs": []
    },
    {
      "cell_type": "markdown",
      "source": [
        "# Взгляд на игру"
      ],
      "metadata": {
        "id": "4GwPSZORaWxR"
      }
    },
    {
      "cell_type": "code",
      "source": [
        "env = gym.make('Pong-v0') # создаем среду игры Pong средствами  OpenAI Gym ('env' = enviroment)\n",
        "observation = env.reset() # задаем начальное состояние среды, которое наблюдает агент\n",
        "observation.shape # взглянем на формусостояния среды\n",
        "# увидим, что это изображение размером 210*160 с тремя RGB"
      ],
      "metadata": {
        "colab": {
          "base_uri": "https://localhost:8080/"
        },
        "id": "UC78NzLeaKFl",
        "outputId": "b2faccc3-a97e-4d55-b509-74aeb091cb0f"
      },
      "execution_count": null,
      "outputs": [
        {
          "output_type": "execute_result",
          "data": {
            "text/plain": [
              "(210, 160, 3)"
            ]
          },
          "metadata": {},
          "execution_count": 83
        }
      ]
    },
    {
      "cell_type": "code",
      "source": [
        "plt.imshow(observation) # вызовем визуализацию состояния среды с помощью метода imshow()\n",
        "plt.show()"
      ],
      "metadata": {
        "colab": {
          "base_uri": "https://localhost:8080/",
          "height": 269
        },
        "id": "hSGKWhp9cJgy",
        "outputId": "ea88c912-bbbd-4089-dc96-de7a1054940f"
      },
      "execution_count": null,
      "outputs": [
        {
          "output_type": "display_data",
          "data": {
            "text/plain": [
              "<Figure size 432x288 with 1 Axes>"
            ],
            "image/png": "[encoded data removed]"
          },
          "metadata": {
            "needs_background": "light"
          }
        }
      ]
    },
    {
      "cell_type": "code",
      "source": [
        "# Обозначения:\n",
        "# 0 - ракетка остается на месте\n",
        "# 1 - сдвинуться вверх\n",
        "# 2 - сдвинуться вниз\n",
        "\n",
        "# Проиграем игру на 30 кадров, чтобы увидеть полную сцену игры\n",
        "for i in range(60):\n",
        "  #env.render()\n",
        "  observation, reward, done, info = env.step(0) # 0 обозначает, что ничего не делаем, остаемся на месте\n",
        "  plt.imshow(observation) # взглянем на текущее состояние среды: наш агент владеет зеленой ракеткой, появился мяч и соперник\n",
        "  plt.show()\n",
        "  \n",
        "'''\n",
        "step - такт, шаг в игре: принимает (action, действие агента), возвращает кортеж (observation, reward, done, info)\n",
        "observation (object) - текущее состояние среды, которое наблюдает агент (пиксели)\n",
        "reward (float) - награда за совершенное действие\n",
        "done (True or False) - обозначает завершился ли игровой эпизод (в понге до победы 21 очко)\n",
        "info (dict) - вспомогательная диагностическая информация\n",
        "'''"
      ],
      "metadata": {
        "colab": {
          "base_uri": "https://localhost:8080/",
          "height": 1000
        },
        "id": "hWtdjLp2ceZd",
        "outputId": "0c326e10-07c2-47ed-edfa-2f7df776ead2"
      },
      "execution_count": null,
      "outputs": [
        {
          "output_type": "display_data",
          "data": {
            "text/plain": [
              "<Figure size 432x288 with 1 Axes>"
            ],
            "image/png": "[encoded data removed]"
          },
          "metadata": {
            "needs_background": "light"
          }
        },
        {
          "output_type": "display_data",
          "data": {
            "text/plain": [
              "<Figure size 432x288 with 1 Axes>"
            ],
            "image/png": "[encoded data removed]"
          },
          "metadata": {
            "needs_background": "light"
          }
        },
        {
          "output_type": "display_data",
          "data": {
            "text/plain": [
              "<Figure size 432x288 with 1 Axes>"
            ],
            "image/png": "[encoded data removed]"
          },
          "metadata": {
            "needs_background": "light"
          }
        },
        {
          "output_type": "display_data",
          "data": {
            "text/plain": [
              "<Figure size 432x288 with 1 Axes>"
            ],
            "image/png": "[encoded data removed]"
          },
          "metadata": {
            "needs_background": "light"
          }
        },
        {
          "output_type": "display_data",
          "data": {
            "text/plain": [
              "<Figure size 432x288 with 1 Axes>"
            ],
            "image/png": "[encoded data removed]"
          },
          "metadata": {
            "needs_background": "light"
          }
        },
        {
          "output_type": "display_data",
          "data": {
            "text/plain": [
              "<Figure size 432x288 with 1 Axes>"
            ],
            "image/png": "[encoded data removed]"
          },
          "metadata": {
            "needs_background": "light"
          }
        },
        {
          "output_type": "display_data",
          "data": {
            "text/plain": [
              "<Figure size 432x288 with 1 Axes>"
            ],
            "image/png": "[encoded data removed]"
          },
          "metadata": {
            "needs_background": "light"
          }
        },
        {
          "output_type": "display_data",
          "data": {
            "text/plain": [
              "<Figure size 432x288 with 1 Axes>"
            ],
            "image/png": "[encoded data removed]"
          },
          "metadata": {
            "needs_background": "light"
          }
        },
        {
          "output_type": "display_data",
          "data": {
            "text/plain": [
              "<Figure size 432x288 with 1 Axes>"
            ],
            "image/png": "[encoded data removed]"
          },
          "metadata": {
            "needs_background": "light"
          }
        },
        {
          "output_type": "display_data",
          "data": {
            "text/plain": [
              "<Figure size 432x288 with 1 Axes>"
            ],
            "image/png": "[encoded data removed]"
          },
          "metadata": {
            "needs_background": "light"
          }
        },
        {
          "output_type": "display_data",
          "data": {
            "text/plain": [
              "<Figure size 432x288 with 1 Axes>"
            ],
            "image/png": "[encoded data removed]"
          },
          "metadata": {
            "needs_background": "light"
          }
        },
        {
          "output_type": "display_data",
          "data": {
            "text/plain": [
              "<Figure size 432x288 with 1 Axes>"
            ],
            "image/png": "[encoded data removed]"
          },
          "metadata": {
            "needs_background": "light"
          }
        },
        {
          "output_type": "display_data",
          "data": {
            "text/plain": [
              "<Figure size 432x288 with 1 Axes>"
            ],
            "image/png": "[encoded data removed]"
          },
          "metadata": {
            "needs_background": "light"
          }
        },
        {
          "output_type": "display_data",
          "data": {
            "text/plain": [
              "<Figure size 432x288 with 1 Axes>"
            ],
            "image/png": "[encoded data removed]"
          },
          "metadata": {
            "needs_background": "light"
          }
        },
        {
          "output_type": "display_data",
          "data": {
            "text/plain": [
              "<Figure size 432x288 with 1 Axes>"
            ],
            "image/png": "[encoded data removed]"
          },
          "metadata": {
            "needs_background": "light"
          }
        },
        {
          "output_type": "display_data",
          "data": {
            "text/plain": [
              "<Figure size 432x288 with 1 Axes>"
            ],
            "image/png": "[encoded data removed]"
          },
          "metadata": {
            "needs_background": "light"
          }
        },
        {
          "output_type": "display_data",
          "data": {
            "text/plain": [
              "<Figure size 432x288 with 1 Axes>"
            ],
            "image/png": "[encoded data removed]"
          },
          "metadata": {
            "needs_background": "light"
          }
        },
        {
          "output_type": "display_data",
          "data": {
            "text/plain": [
              "<Figure size 432x288 with 1 Axes>"
            ],
            "image/png": "[encoded data removed]"
          },
          "metadata": {
            "needs_background": "light"
          }
        },
        {
          "output_type": "display_data",
          "data": {
            "text/plain": [
              "<Figure size 432x288 with 1 Axes>"
            ],
            "image/png": "[encoded data removed]"
          },
          "metadata": {
            "needs_background": "light"
          }
        },
        {
          "output_type": "display_data",
          "data": {
            "text/plain": [
              "<Figure size 432x288 with 1 Axes>"
            ],
            "image/png": "[encoded data removed]"
          },
          "metadata": {
            "needs_background": "light"
          }
        },
        {
          "output_type": "display_data",
          "data": {
            "text/plain": [
              "<Figure size 432x288 with 1 Axes>"
            ],
            "image/png": "[encoded data removed]"
          },
          "metadata": {
            "needs_background": "light"
          }
        },
        {
          "output_type": "display_data",
          "data": {
            "text/plain": [
              "<Figure size 432x288 with 1 Axes>"
            ],
            "image/png": "[encoded data removed]"
          },
          "metadata": {
            "needs_background": "light"
          }
        },
        {
          "output_type": "display_data",
          "data": {
            "text/plain": [
              "<Figure size 432x288 with 1 Axes>"
            ],
            "image/png": "[encoded data removed]"
          },
          "metadata": {
            "needs_background": "light"
          }
        },
        {
          "output_type": "display_data",
          "data": {
            "text/plain": [
              "<Figure size 432x288 with 1 Axes>"
            ],
            "image/png": "[encoded data removed]"
          },
          "metadata": {
            "needs_background": "light"
          }
        },
        {
          "output_type": "display_data",
          "data": {
            "text/plain": [
              "<Figure size 432x288 with 1 Axes>"
            ],
            "image/png": "[encoded data removed]"
          },
          "metadata": {
            "needs_background": "light"
          }
        },
        {
          "output_type": "display_data",
          "data": {
            "text/plain": [
              "<Figure size 432x288 with 1 Axes>"
            ],
            "image/png": "[encoded data removed]"
          },
          "metadata": {
            "needs_background": "light"
          }
        },
        {
          "output_type": "display_data",
          "data": {
            "text/plain": [
              "<Figure size 432x288 with 1 Axes>"
            ],
            "image/png": "[encoded data removed]"
          },
          "metadata": {
            "needs_background": "light"
          }
        },
        {
          "output_type": "display_data",
          "data": {
            "text/plain": [
              "<Figure size 432x288 with 1 Axes>"
            ],
            "image/png": "[encoded data removed]"
          },
          "metadata": {
            "needs_background": "light"
          }
        },
        {
          "output_type": "display_data",
          "data": {
            "text/plain": [
              "<Figure size 432x288 with 1 Axes>"
            ],
            "image/png": "[encoded data removed]"
          },
          "metadata": {
            "needs_background": "light"
          }
        },
        {
          "output_type": "display_data",
          "data": {
            "text/plain": [
              "<Figure size 432x288 with 1 Axes>"
            ],
            "image/png": "[encoded data removed]"
          },
          "metadata": {
            "needs_background": "light"
          }
        },
        {
          "output_type": "display_data",
          "data": {
            "text/plain": [
              "<Figure size 432x288 with 1 Axes>"
            ],
            "image/png": "[encoded data removed]"
          },
          "metadata": {
            "needs_background": "light"
          }
        },
        {
          "output_type": "display_data",
          "data": {
            "text/plain": [
              "<Figure size 432x288 with 1 Axes>"
            ],
            "image/png": "[encoded data removed]"
          },
          "metadata": {
            "needs_background": "light"
          }
        },
        {
          "output_type": "display_data",
          "data": {
            "text/plain": [
              "<Figure size 432x288 with 1 Axes>"
            ],
            "image/png": "[encoded data removed]"
          },
          "metadata": {
            "needs_background": "light"
          }
        },
        {
          "output_type": "display_data",
          "data": {
            "text/plain": [
              "<Figure size 432x288 with 1 Axes>"
            ],
            "image/png": "[encoded data removed]"
          },
          "metadata": {
            "needs_background": "light"
          }
        },
        {
          "output_type": "display_data",
          "data": {
            "text/plain": [
              "<Figure size 432x288 with 1 Axes>"
            ],
            "image/png": "[encoded data removed]"
          },
          "metadata": {
            "needs_background": "light"
          }
        },
        {
          "output_type": "display_data",
          "data": {
            "text/plain": [
              "<Figure size 432x288 with 1 Axes>"
            ],
            "image/png": "[encoded data removed]"
          },
          "metadata": {
            "needs_background": "light"
          }
        },
        {
          "output_type": "display_data",
          "data": {
            "text/plain": [
              "<Figure size 432x288 with 1 Axes>"
            ],
            "image/png": "[encoded data removed]"
          },
          "metadata": {
            "needs_background": "light"
          }
        },
        {
          "output_type": "display_data",
          "data": {
            "text/plain": [
              "<Figure size 432x288 with 1 Axes>"
            ],
            "image/png": "[encoded data removed]"
          },
          "metadata": {
            "needs_background": "light"
          }
        },
        {
          "output_type": "display_data",
          "data": {
            "text/plain": [
              "<Figure size 432x288 with 1 Axes>"
            ],
            "image/png": "[encoded data removed]"
          },
          "metadata": {
            "needs_background": "light"
          }
        },
        {
          "output_type": "display_data",
          "data": {
            "text/plain": [
              "<Figure size 432x288 with 1 Axes>"
            ],
            "image/png": "[encoded data removed]"
          },
          "metadata": {
            "needs_background": "light"
          }
        },
        {
          "output_type": "display_data",
          "data": {
            "text/plain": [
              "<Figure size 432x288 with 1 Axes>"
            ],
            "image/png": "[encoded data removed]"
          },
          "metadata": {
            "needs_background": "light"
          }
        },
        {
          "output_type": "display_data",
          "data": {
            "text/plain": [
              "<Figure size 432x288 with 1 Axes>"
            ],
            "image/png": "[encoded data removed]"
          },
          "metadata": {
            "needs_background": "light"
          }
        },
        {
          "output_type": "display_data",
          "data": {
            "text/plain": [
              "<Figure size 432x288 with 1 Axes>"
            ],
            "image/png": "[encoded data removed]"
          },
          "metadata": {
            "needs_background": "light"
          }
        },
        {
          "output_type": "display_data",
          "data": {
            "text/plain": [
              "<Figure size 432x288 with 1 Axes>"
            ],
            "image/png": "[encoded data removed]"
          },
          "metadata": {
            "needs_background": "light"
          }
        },
        {
          "output_type": "display_data",
          "data": {
            "text/plain": [
              "<Figure size 432x288 with 1 Axes>"
            ],
            "image/png": "[encoded data removed]"
          },
          "metadata": {
            "needs_background": "light"
          }
        },
        {
          "output_type": "display_data",
          "data": {
            "text/plain": [
              "<Figure size 432x288 with 1 Axes>"
            ],
            "image/png": "[encoded data removed]"
          },
          "metadata": {
            "needs_background": "light"
          }
        },
        {
          "output_type": "display_data",
          "data": {
            "text/plain": [
              "<Figure size 432x288 with 1 Axes>"
            ],
            "image/png": "[encoded data removed]"
          },
          "metadata": {
            "needs_background": "light"
          }
        },
        {
          "output_type": "display_data",
          "data": {
            "text/plain": [
              "<Figure size 432x288 with 1 Axes>"
            ],
            "image/png": "[encoded data removed]"
          },
          "metadata": {
            "needs_background": "light"
          }
        },
        {
          "output_type": "display_data",
          "data": {
            "text/plain": [
              "<Figure size 432x288 with 1 Axes>"
            ],
            "image/png": "[encoded data removed]"
          },
          "metadata": {
            "needs_background": "light"
          }
        },
        {
          "output_type": "display_data",
          "data": {
            "text/plain": [
              "<Figure size 432x288 with 1 Axes>"
            ],
            "image/png": "[encoded data removed]"
          },
          "metadata": {
            "needs_background": "light"
          }
        },
        {
          "output_type": "display_data",
          "data": {
            "text/plain": [
              "<Figure size 432x288 with 1 Axes>"
            ],
            "image/png": "[encoded data removed]"
          },
          "metadata": {
            "needs_background": "light"
          }
        },
        {
          "output_type": "display_data",
          "data": {
            "text/plain": [
              "<Figure size 432x288 with 1 Axes>"
            ],
            "image/png": "[encoded data removed]"
          },
          "metadata": {
            "needs_background": "light"
          }
        },
        {
          "output_type": "display_data",
          "data": {
            "text/plain": [
              "<Figure size 432x288 with 1 Axes>"
            ],
            "image/png": "[encoded data removed]"
          },
          "metadata": {
            "needs_background": "light"
          }
        },
        {
          "output_type": "display_data",
          "data": {
            "text/plain": [
              "<Figure size 432x288 with 1 Axes>"
            ],
            "image/png": "[encoded data removed]"
          },
          "metadata": {
            "needs_background": "light"
          }
        },
        {
          "output_type": "display_data",
          "data": {
            "text/plain": [
              "<Figure size 432x288 with 1 Axes>"
            ],
            "image/png": "[encoded data removed]"
          },
          "metadata": {
            "needs_background": "light"
          }
        },
        {
          "output_type": "display_data",
          "data": {
            "text/plain": [
              "<Figure size 432x288 with 1 Axes>"
            ],
            "image/png": "[encoded data removed]"
          },
          "metadata": {
            "needs_background": "light"
          }
        },
        {
          "output_type": "display_data",
          "data": {
            "text/plain": [
              "<Figure size 432x288 with 1 Axes>"
            ],
            "image/png": "[encoded data removed]"
          },
          "metadata": {
            "needs_background": "light"
          }
        },
        {
          "output_type": "display_data",
          "data": {
            "text/plain": [
              "<Figure size 432x288 with 1 Axes>"
            ],
            "image/png": "[encoded data removed]"
          },
          "metadata": {
            "needs_background": "light"
          }
        },
        {
          "output_type": "display_data",
          "data": {
            "text/plain": [
              "<Figure size 432x288 with 1 Axes>"
            ],
            "image/png": "[encoded data removed]"
          },
          "metadata": {
            "needs_background": "light"
          }
        },
        {
          "output_type": "display_data",
          "data": {
            "text/plain": [
              "<Figure size 432x288 with 1 Axes>"
            ],
            "image/png": "[encoded data removed]"
          },
          "metadata": {
            "needs_background": "light"
          }
        },
        {
          "output_type": "execute_result",
          "data": {
            "text/plain": [
              "'\\nstep - такт, шаг в игре: принимает (action, действие агента), возвращает кортеж (observation, reward, done, info)\\nobservation (object) - текущее состояние среды, которое наблюдает агент (пиксели)\\nreward (float) - награда за совершенное действие\\ndone (True or False) - обозначает завершился ли игровой эпизод (в понге до победы 21 очко)\\ninfo (dict) - вспомогательная диагностическая информация\\n'"
            ],
            "application/vnd.google.colaboratory.intrinsic+json": {
              "type": "string"
            }
          },
          "metadata": {},
          "execution_count": 85
        }
      ]
    },
    {
      "cell_type": "code",
      "source": [
        "# Policy (политику, стратегию агента) будет позже задавать нейросеть.\n",
        "# Мы подадим ей разницу между новым и предыдущим кадром, \n",
        "# чтобы отслеживалось смещение мяча/ракеток и данные были понятными\n",
        "newObservation, reward, done, info = env.step(2) # задаем очередным шагом следующий кадр, при этом смещая ракетку вверх\n",
        "plt.imshow(newObservation) # взглянем на следующий кадр (нам смещение едва видно или не видно)\n"
      ],
      "metadata": {
        "colab": {
          "base_uri": "https://localhost:8080/",
          "height": 287
        },
        "id": "QdCDbqAFfIQJ",
        "outputId": "4594841b-a2c0-417b-dd36-3b99decfa305"
      },
      "execution_count": null,
      "outputs": [
        {
          "output_type": "execute_result",
          "data": {
            "text/plain": [
              "<matplotlib.image.AxesImage at 0x7f212c946850>"
            ]
          },
          "metadata": {},
          "execution_count": 86
        },
        {
          "output_type": "display_data",
          "data": {
            "text/plain": [
              "<Figure size 432x288 with 1 Axes>"
            ],
            "image/png": "[encoded data removed]"
          },
          "metadata": {
            "needs_background": "light"
          }
        }
      ]
    },
    {
      "cell_type": "markdown",
      "source": [
        "# Предобработка данных"
      ],
      "metadata": {
        "id": "VkmHp6bLla3e"
      }
    },
    {
      "cell_type": "code",
      "source": [
        "# Зададим функцию предобработки данных для подачи в нейросеть\n",
        "# избавимся от всего лишнего (фон, размер и т.п.), оставив на эеране лишь мяч и ракетки\n",
        "def preprocessFrames(newFrame, lastFrame): # подаем в функцию новый и предыдущий кадр\n",
        "  nFrame = newFrame.astype(np.int32)      # переводим новый кадр в целочисленный тип\n",
        "  nFrame[nFrame==144] == 0                 # удаляем цвета заднего фона в новом кадре (144 и 72 - значения каналов, дающих оранжевый цвет, зануляем )\n",
        "  nFrame[nFrame==72] == 0\n",
        "  lFrame = lastFrame.astype(np.int32)      # тоже самое делаем с предыдущим кадром\n",
        "  lFrame[lFrame==144] == 0\n",
        "  lFrame[lFrame==72]  == 0\n",
        "  deltaFrame = nFrame - lFrame             # задаем разницу между новым и предыдущим кадром\n",
        "  # Отрезаем верхнюю и нижнюю неинформитивные части экрана\n",
        "  deltaFrame = deltaFrame[35:195]          # срезали края по высоте, осталась картинка 160*160\n",
        "  # Делаем сжатие кадро в 2 раза по обеим сторонам изображения и оставляем монотонный канал\n",
        "  deltaFrame = deltaFrame[::2, ::2, 0]  \n",
        "  # Масштабирование чисел от 0 до 1\n",
        "  maxValue = deltaFrame.max() if deltaFrame.max() > abs(deltaFrame.min()) else  abs(deltaFrame.min())\n",
        "  if maxValue != 0:\n",
        "    deltaFrame = deltaFrame/maxValue\n",
        "  return deltaFrame"
      ],
      "metadata": {
        "id": "a298hDdClYpv"
      },
      "execution_count": null,
      "outputs": []
    },
    {
      "cell_type": "code",
      "source": [
        "plt.imshow(preprocessFrames(newObservation, observation), plt.cm.gray) # выведем результат предобработки наших кадров\n",
        "# смещение здесь - это шаг от черного к светлому"
      ],
      "metadata": {
        "colab": {
          "base_uri": "https://localhost:8080/",
          "height": 286
        },
        "id": "9gOtRGs0pRJ-",
        "outputId": "f6f1a8ab-b89c-4a94-9b83-2b13cb078da8"
      },
      "execution_count": null,
      "outputs": [
        {
          "output_type": "execute_result",
          "data": {
            "text/plain": [
              "<matplotlib.image.AxesImage at 0x7f212cc160d0>"
            ]
          },
          "metadata": {},
          "execution_count": 88
        },
        {
          "output_type": "display_data",
          "data": {
            "text/plain": [
              "<Figure size 432x288 with 1 Axes>"
            ],
            "image/png": "[encoded data removed]"
          },
          "metadata": {
            "needs_background": "light"
          }
        }
      ]
    },
    {
      "cell_type": "code",
      "source": [
        "# Выведем массив для этого состояния среды кадра\n",
        "preprocessFrames(newObservation, observation)"
      ],
      "metadata": {
        "colab": {
          "base_uri": "https://localhost:8080/"
        },
        "id": "vGQjiLo0qHt6",
        "outputId": "ea071fd9-d87c-4802-c24c-2c4d9d9a0b90"
      },
      "execution_count": null,
      "outputs": [
        {
          "output_type": "execute_result",
          "data": {
            "text/plain": [
              "array([[0., 0., 0., ..., 0., 0., 0.],\n",
              "       [0., 0., 0., ..., 0., 0., 0.],\n",
              "       [0., 0., 0., ..., 0., 0., 0.],\n",
              "       ...,\n",
              "       [0., 0., 0., ..., 0., 0., 0.],\n",
              "       [0., 0., 0., ..., 0., 0., 0.],\n",
              "       [0., 0., 0., ..., 0., 0., 0.]])"
            ]
          },
          "metadata": {},
          "execution_count": 89
        }
      ]
    },
    {
      "cell_type": "code",
      "source": [
        "'''\n",
        "Состоянием среды здесь будет картинка 80*80, полученная вычитанием двух последовательных кадров, где по итогу все будет...\n",
        "заполнено нулями, а в местах смещения мяча либо ракетки - ненулевые значения.\n",
        "Далее keras'ом создадим Policy, которая на основе состояния (картинки) выбирает действия.\n",
        "Output сети - вероятность того, что нужно двигаться вверх.  \n",
        "'''\n",
        "\n",
        "# Выведем форму массива\n",
        "preprocessFrames(newObservation, observation).shape"
      ],
      "metadata": {
        "colab": {
          "base_uri": "https://localhost:8080/"
        },
        "id": "zJdUQk5BqjiO",
        "outputId": "2574b96e-618a-4aee-f798-88089a96ee75"
      },
      "execution_count": null,
      "outputs": [
        {
          "output_type": "execute_result",
          "data": {
            "text/plain": [
              "(80, 80)"
            ]
          },
          "metadata": {},
          "execution_count": 90
        }
      ]
    },
    {
      "cell_type": "markdown",
      "source": [
        "# Моделируем нейросеть"
      ],
      "metadata": {
        "id": "kfCY7RoxtPgq"
      }
    },
    {
      "cell_type": "code",
      "source": [
        "# Простая модель с 2мя слоями на 200 нейронов в скрытом слое и сигмоидой на выходе\n",
        "inputs = Input(shape=(80,80)) # на входном слое сетки изображение 80*80\n",
        "flattenedLayer = Flatten()(inputs)\n",
        "fullconnected = Dense(200, activation='relu', use_bias=False)(flattenedLayer) # задали 200 нейронов + активация релу\n",
        "sigmoidOutput = Dense(1, activation='sigmoid', use_bias=False)(fullconnected) # сигмоида на выходе\n",
        "policyNetworkModel = Model(inputs=inputs, outputs=sigmoidOutput)\n",
        "policyNetworkModel.summary() # посмотрим на модель"
      ],
      "metadata": {
        "colab": {
          "base_uri": "https://localhost:8080/"
        },
        "id": "fsGOUh4Prsiv",
        "outputId": "68665c7f-038b-4014-b207-40f169fdf069"
      },
      "execution_count": null,
      "outputs": [
        {
          "output_type": "stream",
          "name": "stdout",
          "text": [
            "Model: \"model_4\"\n",
            "_________________________________________________________________\n",
            " Layer (type)                Output Shape              Param #   \n",
            "=================================================================\n",
            " input_3 (InputLayer)        [(None, 80, 80)]          0         \n",
            "                                                                 \n",
            " flatten_2 (Flatten)         (None, 6400)              0         \n",
            "                                                                 \n",
            " dense_4 (Dense)             (None, 200)               1280000   \n",
            "                                                                 \n",
            " dense_5 (Dense)             (None, 1)                 200       \n",
            "                                                                 \n",
            "=================================================================\n",
            "Total params: 1,280,200\n",
            "Trainable params: 1,280,200\n",
            "Non-trainable params: 0\n",
            "_________________________________________________________________\n"
          ]
        }
      ]
    },
    {
      "cell_type": "markdown",
      "source": [
        "# Задаем функцию потерь в соответствии с вознаграждением"
      ],
      "metadata": {
        "id": "09oUXuXDu8ou"
      }
    },
    {
      "cell_type": "code",
      "source": [
        "# episode - одна тренировочная игра от начала партии до перезагрузки (розыгрыш эпизода до 21 очка; после победы или поржения вызываем reset )\n",
        "episodeReward = Input(shape=(1,), name='episodeReward') # задаем награду за эпизод"
      ],
      "metadata": {
        "id": "6GqvHKm0vTLO"
      },
      "execution_count": null,
      "outputs": []
    },
    {
      "cell_type": "code",
      "source": [
        "'''\n",
        "Функция потерь в Керасе имеет вид def loss(yTrue, yPred): ... А так как нам нужно включить Reward в loss, создаем \n",
        "функцию поверх нее, чтобы на выходе добавить episodeReward\n",
        "'''\n",
        "def rewardedLoss(episodeReward): # задаем новую функцию потерь, принимающую на вход episodeReward - награду\n",
        "  def loss(yTrue, yPred):\n",
        "    '''\n",
        "    Подаем в качестве yTrue фактически сделанное действие - action.\n",
        "    Если это действие было движением вверх - подаем 1 на yTrue, иначе подаем 0.\n",
        "    yPred - выход сетки - это вероятность выбора движения вверх. \n",
        "    Мы не подаем yPred в нейронку , его вычисляет Керас.\n",
        "    '''\n",
        "    # Сначала log(0) и log(1) неопределены - загоняем yPred между значениями\n",
        "    tmpPred = Lambda(lambda x: keras.backend.clip(x, 0.05, 0.95))(yPred)\n",
        "    # Вычисляем логарифм вероятности. yPred - вероятность выбора движения вверх. \n",
        "    # Помним, что yTrue = 1, когда фактически выбрано движение вверх, и 0 - когда вних. \n",
        "    # Формула похожа на кросс-энтропию в керасе, но здесь мы прописываем ее вручную, чтобы умножить на значение\n",
        "    tmpLoss = Lambda(lambda x: -yTrue*keras.backend.log(x)-(1-yTrue)*(keras.backend.log(1-x)))(tmpPred)\n",
        "    # Обновленная функция потерь = \"Функция политики\"\n",
        "    policyLoss = Multiply()([tmpLoss, episodeReward]) # добавляем в loss умножение на награду за эпизод\n",
        "    return policyLoss # ввели обновленную функцию политики\n",
        "  return loss # возвращаем обновленную функцию политики\n",
        "\n"
      ],
      "metadata": {
        "id": "wcAtDc29u4wM"
      },
      "execution_count": null,
      "outputs": []
    },
    {
      "cell_type": "code",
      "source": [
        "'''\n",
        "Создаем керас-оптимизатор и нейронку для обучения\n",
        "'''\n",
        "episodeReward = Input(shape=(1,), name='episodeReward') # звдвем награду за эпизод\n",
        "policyNetworkTrain = Model(inputs=[inputs, episodeReward], outputs = sigmoidOutput) # задаем сеть с добавлением на вход награды\n",
        "\n",
        "myOptimizer = RMSprop(lr=0.0001)\n",
        "policyNetworkTrain.compile(optimizer=myOptimizer, loss=rewardedLoss(episodeReward)) # задаем сеть с новой функцией потерь policy\n"
      ],
      "metadata": {
        "colab": {
          "base_uri": "https://localhost:8080/"
        },
        "id": "wmr-VLCN0EmW",
        "outputId": "e2b81bca-97a4-45c8-bd2c-8bfadf0916f3"
      },
      "execution_count": null,
      "outputs": [
        {
          "output_type": "stream",
          "name": "stderr",
          "text": [
            "/usr/local/lib/python3.7/dist-packages/keras/optimizers/optimizer_v2/rmsprop.py:135: UserWarning: The `lr` argument is deprecated, use `learning_rate` instead.\n",
            "  super(RMSprop, self).__init__(name, **kwargs)\n"
          ]
        }
      ]
    },
    {
      "cell_type": "markdown",
      "source": [
        "# Генерация игрового эпизода с участием нейросети\n"
      ],
      "metadata": {
        "id": "2jQXCoTKFFwT"
      }
    },
    {
      "cell_type": "code",
      "source": [
        "'''\n",
        "Создадим функцию, которая будет генерировать игровой эпизод с участием нейросети\n",
        "\n",
        "Игра начнется с того, что в новом эпизоде наш агент сделает движение (\"actualAction\") вверх с вероятностью (\"upProbability\")\n",
        "которую предстказала наша сетка PolicyNetwork, принявшая на вход состояние среды reshapedInput с подогнанной под сеть формой.\n",
        "reshapedInput же получили из состояния processedNetworkInput, которое представляет собой разницу в кадрах между новым и предыдущим\n",
        "кадром, полученную функцией preprocessFrames.\n",
        "\n",
        "'''\n",
        "\n",
        "def generateEpisode(policyNetwork): # подаем на вход модель нейросети\n",
        "  statesList = []                    # список состояний в течение эпизода, размер = (х, 80, 80)\n",
        "  upDownActionList = []             # список движеий в течение эпизода\n",
        "  rewardsList = []                  # список наград за каждое действие\n",
        "  networkOutputList=[]              # на выходе нейросети - вероятность, что нужно идти вверх; собираем список из вероятнсти на каждом шаге\n",
        "  env = gym.make('Pong-v0')         # создали среду\n",
        "  observation = env.reset()         # перезагрузили состояние среды\n",
        "  newObservation = observation      # получили новое состояние, которое наблюдает агент\n",
        "  done = False                      # игровой эпизод активен, не завершен\n",
        "\n",
        "  while done == False: # пока игровой эпизод не завершен\n",
        "    # На вход сети будет подаваться очередное состояние - разница между кадрами\n",
        "    processedNetworkInput = preprocessFrames(newFrame=newObservation, lastFrame=observation) # зададим это состояние\n",
        "    statesList.append(processedNetworkInput) # добавим в список состояний (впоследствии станет х-ом для входа в нейронку)\n",
        "    reshapedInput = np.expand_dims(processedNetworkInput, axis=0) # размер х (80, 80), делаем размерность (1, 80, 80)\n",
        "\n",
        "    upProbability = policyNetwork.predict(reshapedInput, batch_size=1)[0][0] # задаем вероятность шага вверх\n",
        "\n",
        "    networkOutputList.append(upProbability) # добавляем вероятность идти вверх к списку вероятностей\n",
        "    actualAction = np.random.choice(a=[2, 3], size=1, p=[upProbability, 1-upProbability])\n",
        "    # сделаем фактически шаг либо вверх (2) с вероятностью upProbability, либо вниз (3) с обратной вероятностью\n",
        "\n",
        "    if actualAction == 2:           # если пошли вверх \n",
        "      upDownActionList.append(1.0)  # добавляем единицу в список движений в течение эпизода\n",
        "    else:                           # если не пошли вверх\n",
        "      upDownActionList.append(0.0)  # то добавляем ноль\n",
        "    \n",
        "    observation = newObservation # текущий newObservation записываем как старый перед тем, как сделать следующий шаг\n",
        "    newObservation, reward, done, info = env.step(actualAction) # сделали новый шаг, получили новую награду, новое состояние\n",
        "\n",
        "    rewardsList.append(reward)   # добавили текущую награду в список\n",
        "\n",
        "    if done:  # если игровой эпизод закончен\n",
        "      break   # завершаем цикл\n",
        "\n",
        "  env.close() # закрываем текущую среду\n",
        "  return statesList, upDownActionList, rewardsList, networkOutputList\n",
        "  # функция возвращает :\n",
        "  # список состояний в течение эпизода\n",
        "  # список движений в течение эпизода\n",
        "  # список наград за каждое действие\n",
        "  # список вероятностей того, что нужно идти вверх"
      ],
      "metadata": {
        "id": "pmzsa6Ze6icM"
      },
      "execution_count": null,
      "outputs": []
    },
    {
      "cell_type": "code",
      "source": [
        "'''\n",
        "Сгенерируем эпизод игры с необученной сетью \n",
        "'''\n",
        "statesList, upDownActionList, rewardsList, networkOutputList = generateEpisode(policyNetworkModel)\n",
        "print('----------------------')\n",
        "print('Количество состояний в эпизоде ='+str(len(statesList))) # количество кадров в эпизоде\n",
        "print('Форма состояния '+str(statesList[0].shape))             # форма каждого состояния\n",
        "print('Количество наград за эпизод '+str(len(rewardsList)))    # количество наград за эпизод, включая нулевые "
      ],
      "metadata": {
        "colab": {
          "base_uri": "https://localhost:8080/"
        },
        "id": "1ZveQRfi-6Jn",
        "outputId": "1853a3bd-c924-41d7-e9cd-db5a3caa3811"
      },
      "execution_count": null,
      "outputs": [
        {
          "output_type": "stream",
          "name": "stderr",
          "text": [
            "/usr/local/lib/python3.7/dist-packages/keras/engine/training_v1.py:2067: UserWarning: `Model.state_updates` will be removed in a future version. This property should not be used in TensorFlow 2.0, as `updates` are applied automatically.\n",
            "  updates=self.state_updates,\n"
          ]
        },
        {
          "output_type": "stream",
          "name": "stdout",
          "text": [
            "----------------------\n",
            "Количество состояний в эпизоде =1338\n",
            "Форма состояния (80, 80)\n",
            "Количество наград за эпизод 1338\n"
          ]
        }
      ]
    },
    {
      "cell_type": "code",
      "source": [
        "# Взглянем на фрагмент списка из вероятности идти вверх на каждом шаге\n",
        "print(networkOutputList[50:70])\n",
        "# увидим, что на каждом шаге вероятность крутится около 50% - сеть пока не понимает куда лучше шагать"
      ],
      "metadata": {
        "colab": {
          "base_uri": "https://localhost:8080/"
        },
        "id": "4KrQLcq1A3Dp",
        "outputId": "a9c12a80-bfa0-496e-c020-41af1020b505"
      },
      "execution_count": null,
      "outputs": [
        {
          "output_type": "stream",
          "name": "stdout",
          "text": [
            "[0.49590114, 0.5060372, 0.4941813, 0.48397037, 0.5073266, 0.4853329, 0.5105633, 0.48915312, 0.4983012, 0.49379572, 0.49297962, 0.49821657, 0.5011123, 0.50508934, 0.48122782, 0.50652874, 0.5179972, 0.4883319, 0.5029525, 0.48100042]\n"
          ]
        }
      ]
    },
    {
      "cell_type": "code",
      "source": [
        "# Взглянем на фактические действия: 1 - вверх, 0 - вниз\n",
        "upDownActionList[50:70]\n",
        "# соответственно шаги также были случайными"
      ],
      "metadata": {
        "colab": {
          "base_uri": "https://localhost:8080/"
        },
        "id": "hAxUJCSTBUO5",
        "outputId": "6a317630-9c65-4961-8f36-3897d5f7765c"
      },
      "execution_count": null,
      "outputs": [
        {
          "output_type": "execute_result",
          "data": {
            "text/plain": [
              "[1.0,\n",
              " 1.0,\n",
              " 0.0,\n",
              " 1.0,\n",
              " 0.0,\n",
              " 0.0,\n",
              " 0.0,\n",
              " 1.0,\n",
              " 0.0,\n",
              " 0.0,\n",
              " 0.0,\n",
              " 0.0,\n",
              " 1.0,\n",
              " 0.0,\n",
              " 0.0,\n",
              " 0.0,\n",
              " 1.0,\n",
              " 1.0,\n",
              " 0.0,\n",
              " 1.0]"
            ]
          },
          "metadata": {},
          "execution_count": 98
        }
      ]
    },
    {
      "cell_type": "code",
      "source": [
        "# Выведем список наград (везде нули, когда выигрываем или проигрываем очко)\n",
        "print(rewardsList[50:70])"
      ],
      "metadata": {
        "colab": {
          "base_uri": "https://localhost:8080/"
        },
        "id": "h5Uvd7HFJSwj",
        "outputId": "bf4b0a7a-7f9a-4388-9fcd-c8ad98183b15"
      },
      "execution_count": null,
      "outputs": [
        {
          "output_type": "stream",
          "name": "stdout",
          "text": [
            "[0.0, 0.0, 0.0, 0.0, 0.0, 0.0, 0.0, 0.0, 0.0, 0.0, 0.0, 0.0, 0.0, 0.0, 0.0, 0.0, 0.0, 0.0, 0.0, 0.0]\n"
          ]
        }
      ]
    },
    {
      "cell_type": "code",
      "source": [
        "# Взглянем на то, сколько раз мы выигрывали внутри эпизода:\n",
        "print('Количество выигранных очков = '+str(len(list(filter(lambda r: r>0, rewardsList))))) # берем как длину списка, отфильтрованного по наградам больше нуля\n",
        "print('Количество проиганных очков = ' +str(len(list(filter(lambda r: r<0, rewardsList)))))# берем как длину списка, отфильтрованного по наградам меньше нуля\n",
        "print('Количество нулевых наград = '+str(len(list(filter(lambda r: r==0, rewardsList)))))  # с фильтром по 0"
      ],
      "metadata": {
        "colab": {
          "base_uri": "https://localhost:8080/"
        },
        "id": "tmmyFf4cJqIp",
        "outputId": "01c62eeb-5de6-4608-9e74-2e1fd679e20b"
      },
      "execution_count": null,
      "outputs": [
        {
          "output_type": "stream",
          "name": "stdout",
          "text": [
            "Количество выигранных очков = 0\n",
            "Количество проиганных очков = 21\n",
            "Количество нулевых наград = 1317\n"
          ]
        }
      ]
    },
    {
      "cell_type": "code",
      "source": [
        "# Выведем на графике полученные награды. Ненулевые награды за каждое очко будут отмечены точками. \n",
        "plt.plot(rewardsList, '.') # точки будут наградами на графике\n",
        "ax=plt.gca()               # получим текущие оси\n",
        "ax.grid(True)              # с фоновой сеткой   \n"
      ],
      "metadata": {
        "colab": {
          "base_uri": "https://localhost:8080/",
          "height": 265
        },
        "id": "A2bbUYrULDMG",
        "outputId": "366c5d8a-4f23-49c9-c19c-40c582cf72aa"
      },
      "execution_count": null,
      "outputs": [
        {
          "output_type": "display_data",
          "data": {
            "text/plain": [
              "<Figure size 432x288 with 1 Axes>"
            ],
            "image/png": "[encoded data removed]"
          },
          "metadata": {
            "needs_background": "light"
          }
        }
      ]
    },
    {
      "cell_type": "markdown",
      "source": [
        "# Эффективно определяем вознаграждение"
      ],
      "metadata": {
        "id": "j0E04suGcpbb"
      }
    },
    {
      "cell_type": "code",
      "source": [
        "# ''' !!! Найти ошибку\n",
        "# Награды пока присуждаются тем, движениям, в момент которых было пропущено илизабито очко. Но так мы научимся нескоро,\n",
        "# нам нужно указать на важность действия чуть ранее, когда мы отбиваем мяч ракеткой. Чтобы сетка поняла, что отбивать мяч - это хорошо, \n",
        "# распределим награду за все шаги, предшествующие забитому/пропущенному мячу, причем чем давнее был шаг, тем меньший коэффициент награды он получит.\n",
        "\n",
        "# Сформулируем функцию, которая распределит ненулевую награду для всех шагов в удачном/неудачном розыгрыше\n",
        "# '''\n",
        "# def processRewards(rewardList):   # подадим в функцию список наград\n",
        "#   rewardDecay = 0.99              # установим верхний коэффициент наград для соседнего/ближайшего действия к победному/проигранному действию (т.е. идем с конца)\n",
        "#   tmpReward = 0                   # создадим временную переменную для награды\n",
        "#   rewardDecayed = np.zeros_like(rewardList, dtype=np.float32) # создадим массив из нулей для нового формата наград\n",
        "#   for i in range(len(rewardsList)-1, -1, -1): #будем идти в обратную сторону от награды с шагом \"-1\"\n",
        "#     if rewardList[i] == 0:\n",
        "#       tmpReward = tmpReward*rewardDecay   # зададим ей коэффициент\n",
        "#       rewardDecayed[i] = tmpReward        # и добавим в массив\n",
        "#     else:\n",
        "#       tmpReward = rewardList[i]           # оставим награду неизменной\n",
        "#       rewardDecayed[i] = tmpReward        # и введем в томже виде в массив\n",
        "#   # Запустим нормализацию значений наград, что позволит сетке лучше понимать , где были хорошие и плохие шаги\n",
        "#   rewardDecayed -=np.mean(rewardDecayed)  # вычтем среднее\n",
        "#   rewardDecayed /=np.std(rewardDecayed)   # разделим на стандартное отклонение\n",
        "#   return rewardDecayed\n",
        "#   # функция возвращает обновленный формат наград"
      ],
      "metadata": {
        "id": "4xXFjv71ccpE"
      },
      "execution_count": null,
      "outputs": []
    },
    {
      "cell_type": "code",
      "source": [
        "'''\n",
        "Награды пока присуждаются тем, движениям, в момент которых было пропущено илизабито очко. Но так мы научимся нескоро,\n",
        "нам нужно указать на важность действия чуть ранее, когда мы отбиваем мяч ракеткой. Чтобы сетка поняла, что отбивать мяч - это хорошо, \n",
        "распределим награду за все шаги, предшествующие забитому/пропущенному мячу, причем чем давнее был шаг, тем меньший коэффициент награды он получит.\n",
        "\n",
        "Сформулируем функцию, которая распределит ненулевую награду для всех шагов в удачном/неудачном розыгрыше\n",
        "'''\n",
        "def processRewards(rewardList): # подадим в функцию список наград\n",
        "  rewardDecay = 0.99            # установим высший коэффициент награды для ближнего действия к победному/проигрышному действию\n",
        "  tmpReward = 0                 # создадим временную переменную для награды\n",
        "  rewardDecayed = np.zeros_like(rewardList,dtype=np.float32) # создадим массив из нулей для нового формата наград\n",
        "  for i in range(len(rewardList)-1, -1, -1): # будем идти в обратную сторону от награды с шагом \"-1\"\n",
        "    if rewardList[i] == 0:                 # если награда нулевая \n",
        "      tmpReward = tmpReward*rewardDecay    # зададим ей коэффициент\n",
        "      rewardDecayed[i] = tmpReward         # и добавим в массив\n",
        "    else:                                  # иначе\n",
        "      tmpReward = rewardList[i]            # оставим награду неизменной\n",
        "      rewardDecayed[i] = tmpReward         # и введём в том же виде в массив\n",
        "  # запустим нормализацию значений наград, что позволит сетке лучше понимать, где были хорошие и плохие шаги\n",
        "  rewardDecayed -= np.mean(rewardDecayed)  # вычтем среднее\n",
        "  rewardDecayed /= np.std(rewardDecayed)   # разделим на стандартное отклонение\n",
        "  return rewardDecayed"
      ],
      "metadata": {
        "id": "Gn94vcUOSm36"
      },
      "execution_count": null,
      "outputs": []
    },
    {
      "cell_type": "code",
      "source": [
        "# Посмотрим на распределение наград по новой функции\n",
        "plt.plot(processRewards(rewardsList), '-') # добавляем в график награды с учетом новой функции\n",
        "ax = plt.gca() # получим текущие оси с новой сеткой\n",
        "ax.grid(True)  # с фоновой сеткой"
      ],
      "metadata": {
        "colab": {
          "base_uri": "https://localhost:8080/",
          "height": 265
        },
        "id": "dsFstCofkRUG",
        "outputId": "e4a8daf7-a67b-4139-eac4-4906e34de5c2"
      },
      "execution_count": null,
      "outputs": [
        {
          "output_type": "display_data",
          "data": {
            "text/plain": [
              "<Figure size 432x288 with 1 Axes>"
            ],
            "image/png": "[encoded data removed]"
          },
          "metadata": {
            "needs_background": "light"
          }
        }
      ]
    },
    {
      "cell_type": "markdown",
      "source": [
        "# Пример игрового эпизода с последующей тренировкой сети"
      ],
      "metadata": {
        "id": "xA1515VJlPWL"
      }
    },
    {
      "cell_type": "code",
      "source": [
        "# Сгенерируем новый игровой эпизод\n",
        "statesList, upDownActionList, rewardsList, networkOutputList = generateEpisode(policyNetworkModel)\n",
        "# Сыграли до 21 очка, проиграли, получили списки всех состояний среды (кадров), шагов агента, вознаграждений и предсказаний\n",
        "\n",
        "print('Количество состояний среды: '+str(len(statesList)))   # выведем количество состояний кадров\n",
        "print('Форма состояний среды '+str(statesList[0].shape))     # выведем форму для каждого состояния\n",
        "print('Список наград ='+str(len(rewardsList)))               # выведем список наград в игровом эпизоде(включая нулевые)\n"
      ],
      "metadata": {
        "colab": {
          "base_uri": "https://localhost:8080/"
        },
        "id": "TsLP_a0UlM6s",
        "outputId": "d2776f4c-60ea-4034-850d-f1bdccbbd5af"
      },
      "execution_count": null,
      "outputs": [
        {
          "output_type": "stream",
          "name": "stdout",
          "text": [
            "Количество состояний среды: 1190\n",
            "Форма состояний среды (80, 80)\n",
            "Список наград =1190\n"
          ]
        }
      ]
    },
    {
      "cell_type": "code",
      "source": [
        "# Подготовим данные для тренировки\n",
        "x = np.array(statesList)  # зададим \"х\" как массив состояний\n",
        "episodeReward = np.expand_dims(processRewards(rewardsList), 1) # подобьем размер для входа в сетку\n",
        "yTmp = np.array(upDownActionList) # зададим \"у\" как список движений вверх (1)/вниз (0)\n",
        "yTrue = np.expand_dims(yTmp, 1)   # скорректируем форму под сетку\n",
        "\n",
        "print('Форма наград за эпизод = ', episodeReward.shape) # выведем форму наград за эпизод\n",
        "print('Форма состояний среды = ', x.shape)              # выведем форму состояний среды (\"х\" для нейросети)\n",
        "print('Форма фактических движений =', yTrue.shape)      # выведем форму фактических движений (\"у\" для нейросети)"
      ],
      "metadata": {
        "colab": {
          "base_uri": "https://localhost:8080/"
        },
        "id": "15y10tkSnHRA",
        "outputId": "0675bd0e-0776-456a-e2e4-cd764706ee97"
      },
      "execution_count": null,
      "outputs": [
        {
          "output_type": "stream",
          "name": "stdout",
          "text": [
            "Форма наград за эпизод =  (1190, 1)\n",
            "Форма состояний среды =  (1190, 80, 80)\n",
            "Форма фактических движений = (1190, 1)\n"
          ]
        }
      ]
    },
    {
      "cell_type": "code",
      "source": [
        "episodeReward[:20]"
      ],
      "metadata": {
        "colab": {
          "base_uri": "https://localhost:8080/"
        },
        "id": "IMCAektSpeW5",
        "outputId": "b97fd1eb-6370-4fd6-9a46-e2a48f94be52"
      },
      "execution_count": null,
      "outputs": [
        {
          "output_type": "execute_result",
          "data": {
            "text/plain": [
              "array([[1.8902034],\n",
              "       [1.865578 ],\n",
              "       [1.8407042],\n",
              "       [1.815579 ],\n",
              "       [1.7902001],\n",
              "       [1.7645649],\n",
              "       [1.7386707],\n",
              "       [1.7125149],\n",
              "       [1.6860949],\n",
              "       [1.659408 ],\n",
              "       [1.6324517],\n",
              "       [1.6052228],\n",
              "       [1.5777192],\n",
              "       [1.5499376],\n",
              "       [1.5218754],\n",
              "       [1.4935297],\n",
              "       [1.4648978],\n",
              "       [1.4359766],\n",
              "       [1.4067632],\n",
              "       [1.3772547]], dtype=float32)"
            ]
          },
          "metadata": {},
          "execution_count": 107
        }
      ]
    },
    {
      "cell_type": "code",
      "source": [
        "# Скормим модели новые \"х\" и \"у\"\n",
        "policyNetworkTrain.fit(x=[x, episodeReward], y=yTrue)"
      ],
      "metadata": {
        "colab": {
          "base_uri": "https://localhost:8080/"
        },
        "id": "0VNlnJyEpozi",
        "outputId": "82c2d8cc-1d84-47a5-ea49-d7be0a8c107f"
      },
      "execution_count": null,
      "outputs": [
        {
          "output_type": "stream",
          "name": "stdout",
          "text": [
            "Train on 1190 samples\n",
            "1190/1190 [==============================] - 1s 690us/sample - loss: -5.1489e-04\n"
          ]
        },
        {
          "output_type": "execute_result",
          "data": {
            "text/plain": [
              "<keras.callbacks.History at 0x7f212c9adf90>"
            ]
          },
          "metadata": {},
          "execution_count": 108
        }
      ]
    },
    {
      "cell_type": "code",
      "source": [
        "'''\n",
        "Теперь создадим серию игровых эпизодов.\n",
        "Затем предобработаем данные и скормим их нейросети.\n",
        "'''\n",
        "def generateEpisodeBatchesTraining(model, nBatches=10):\n",
        "  env = gym.make('Pong-v0')              # создаем игровую среду Pong\n",
        "  batchStateList = []                  # зададим серию списков состояний\n",
        "  batchUpDownActionList = []           # зададим серию списков движений\n",
        "  batchRewardsList = []                # зададим серию списков наград\n",
        "  batchNetworkOutputList = []          # зададим серию списков из вероятности идти вверх\n",
        "  for i in range(nBatches):            # для каждой серии\n",
        "    statesList, upDownActionList, rewardsList, networkOutputList = generateEpisode(model) # сгенерируем игровой эпизод\n",
        "    batchStateList.extend(statesList)                # добавим список состояний в серию списков состояний\n",
        "    batchNetworkOutputList.extend(networkOutputList) # добавим список вероятности в серию списков из вероятностей идти вверх или вниз\n",
        "    batchUpDownActionList.extend(upDownActionList)   # добавим список движений в серию списков движений\n",
        "    batchRewardsList.extend(rewardsList)              # добавим список наград в серию списков наград\n",
        "\n",
        "  episodeReward = np.expand_dims(processRewards(batchRewardsList), 1) # зададим награды и изменим форму массива с добавлением оси\n",
        "  x = np.array(batchStateList)                 # cформируем массив из серии списков состояний в качестве \"х\" для нейросети\n",
        "  yTmp = np.array(batchUpDownActionList)       # зададим \"у\" как серию списков движений вверх(1)/вниз(0)\n",
        "  yTrue = np.expand_dims(yTmp, 1)              # подгоним форму \"у\" массива с добавлением оси\n",
        "\n",
        "  history = policyNetworkTrain.fit(x=[x, episodeReward], y=yTrue, epochs=5, verbose=0) # подаем в нейронку серию \"х\"ов и \"у\"ов\n",
        "  \n",
        "  \n",
        "  batchLoss = history.history['loss'][-1]\n",
        "  return batchStateList, batchUpDownActionList, batchRewardsList, batchNetworkOutputList, batchLoss\n",
        "  # функция вернет серию списков состояний, движений, наград, а также серию списков из вероятностей двигаться вверх\n",
        "\n"
      ],
      "metadata": {
        "id": "piLqREUbqBQn"
      },
      "execution_count": null,
      "outputs": []
    },
    {
      "cell_type": "markdown",
      "source": [
        "# Обучаем сеть на серии игровых эпизодов\n"
      ],
      "metadata": {
        "id": "CujI8yQ0Js5k"
      }
    },
    {
      "cell_type": "code",
      "source": [
        "trainingTimes = 121                   # установим количество тренировок\n",
        "for training in range(trainingTimes): # для каждой тренировки\n",
        "  startTime = time.time()\n",
        "  # сделаем по 10 игровых эпизодов (1 эпоха - 10 игр)\n",
        "  statesList, upDownActionList, rewardsList, networkOutputList, batchLoss = generateEpisodeBatchesTraining(policyNetworkModel, 10)\n",
        "  endTime = time.time()\n",
        "  print('Тренировка =' + str((training)+1))                            # выведем на экран номер очередной тренировки\n",
        "  print('Время тренировки =' + str(round(endTime - startTime)) +'сек') # время тренировки\n",
        "  print('Ошибка на тренировке = ' + str(round(batchLoss, 5)))          # выведем на экран ошибку на тренировке\n",
        "  rr = np.array(rewardsList)                                           # сформируем все награды\n",
        "  print('Выиграли очков = ' + str(len(rr[rr>0])) + 'Проиграли очков =' + str(len(rr[rr<0]))) #  выведем на экран сумму выигранных и проигранных очков\n",
        "  print('')\n",
        "  if training % 10 == 0: # через каждые 10 эпизодов\n",
        "    policyNetworkModel.save('policyNetworkModel.h5')                      # сохраним модель\n",
        "    policyNetworkModel.save('policyNetworkModel' + str(training) + 'h.5') # и для удобства сохраним модельв памяти с количеством тренировок в названии\n",
        "    with open('rewardsModelSimple.txt', 'a') as recordingRewards:         # также в текстовом файле будем вести записи с динамикой выигранных очков\n",
        "      recordingRewards.write('training =' + str(training) + 'выигранных очков = ' + str(len(rr[rr>0])))\n",
        "      recordingRewards.write('\\n')\n",
        "\n"
      ],
      "metadata": {
        "colab": {
          "base_uri": "https://localhost:8080/"
        },
        "id": "YbkiTy1KJe_2",
        "outputId": "bde32827-8432-4600-9ff3-5b1c13445a57"
      },
      "execution_count": null,
      "outputs": [
        {
          "output_type": "stream",
          "name": "stdout",
          "text": [
            "Тренировка =1\n",
            "Время тренировки =116сек\n",
            "Ошибка на тренировке = -0.0434\n",
            "Выиграли очков = 10Проиграли очков =210\n",
            "\n",
            "Тренировка =2\n",
            "Время тренировки =116сек\n",
            "Ошибка на тренировке = -0.0546\n",
            "Выиграли очков = 8Проиграли очков =210\n",
            "\n",
            "Тренировка =3\n",
            "Время тренировки =124сек\n",
            "Ошибка на тренировке = -0.03928\n",
            "Выиграли очков = 11Проиграли очков =210\n",
            "\n",
            "Тренировка =4\n",
            "Время тренировки =134сек\n",
            "Ошибка на тренировке = -0.04158\n",
            "Выиграли очков = 11Проиграли очков =210\n",
            "\n",
            "Тренировка =5\n",
            "Время тренировки =110сек\n",
            "Ошибка на тренировке = -0.04373\n",
            "Выиграли очков = 9Проиграли очков =210\n",
            "\n",
            "Тренировка =6\n",
            "Время тренировки =127сек\n",
            "Ошибка на тренировке = -0.05304\n",
            "Выиграли очков = 10Проиграли очков =210\n",
            "\n",
            "Тренировка =7\n",
            "Время тренировки =130сек\n",
            "Ошибка на тренировке = -0.06963\n",
            "Выиграли очков = 9Проиграли очков =210\n",
            "\n",
            "Тренировка =8\n",
            "Время тренировки =148сек\n",
            "Ошибка на тренировке = -0.04281\n",
            "Выиграли очков = 12Проиграли очков =210\n",
            "\n",
            "Тренировка =9\n",
            "Время тренировки =143сек\n",
            "Ошибка на тренировке = -0.04961\n",
            "Выиграли очков = 10Проиграли очков =210\n",
            "\n",
            "Тренировка =10\n",
            "Время тренировки =149сек\n",
            "Ошибка на тренировке = -0.05278\n",
            "Выиграли очков = 12Проиграли очков =210\n",
            "\n",
            "Тренировка =11\n",
            "Время тренировки =141сек\n",
            "Ошибка на тренировке = -0.05243\n",
            "Выиграли очков = 8Проиграли очков =210\n",
            "\n",
            "Тренировка =12\n",
            "Время тренировки =177сек\n",
            "Ошибка на тренировке = -0.04508\n",
            "Выиграли очков = 11Проиграли очков =210\n",
            "\n",
            "Тренировка =13\n",
            "Время тренировки =164сек\n",
            "Ошибка на тренировке = -0.0644\n",
            "Выиграли очков = 16Проиграли очков =210\n",
            "\n",
            "Тренировка =14\n",
            "Время тренировки =165сек\n",
            "Ошибка на тренировке = -0.06745\n",
            "Выиграли очков = 20Проиграли очков =210\n",
            "\n",
            "Тренировка =15\n",
            "Время тренировки =139сек\n",
            "Ошибка на тренировке = -0.05404\n",
            "Выиграли очков = 12Проиграли очков =210\n",
            "\n",
            "Тренировка =16\n",
            "Время тренировки =173сек\n",
            "Ошибка на тренировке = -0.05014\n",
            "Выиграли очков = 23Проиграли очков =210\n",
            "\n",
            "Тренировка =17\n",
            "Время тренировки =162сек\n",
            "Ошибка на тренировке = -0.04787\n",
            "Выиграли очков = 17Проиграли очков =210\n",
            "\n",
            "Тренировка =18\n",
            "Время тренировки =165сек\n",
            "Ошибка на тренировке = -0.06434\n",
            "Выиграли очков = 16Проиграли очков =210\n",
            "\n",
            "Тренировка =19\n",
            "Время тренировки =179сек\n",
            "Ошибка на тренировке = -0.05717\n",
            "Выиграли очков = 15Проиграли очков =210\n",
            "\n",
            "Тренировка =20\n",
            "Время тренировки =194сек\n",
            "Ошибка на тренировке = -0.05505\n",
            "Выиграли очков = 25Проиграли очков =210\n",
            "\n",
            "Тренировка =21\n",
            "Время тренировки =161сек\n",
            "Ошибка на тренировке = -0.04725\n",
            "Выиграли очков = 23Проиграли очков =210\n",
            "\n",
            "Тренировка =22\n",
            "Время тренировки =186сек\n",
            "Ошибка на тренировке = -0.05646\n",
            "Выиграли очков = 24Проиграли очков =210\n",
            "\n",
            "Тренировка =23\n",
            "Время тренировки =216сек\n",
            "Ошибка на тренировке = -0.06395\n",
            "Выиграли очков = 26Проиграли очков =210\n",
            "\n",
            "Тренировка =24\n",
            "Время тренировки =205сек\n",
            "Ошибка на тренировке = -0.05979\n",
            "Выиграли очков = 35Проиграли очков =210\n",
            "\n",
            "Тренировка =25\n",
            "Время тренировки =236сек\n",
            "Ошибка на тренировке = -0.05973\n",
            "Выиграли очков = 35Проиграли очков =210\n",
            "\n",
            "Тренировка =26\n",
            "Время тренировки =204сек\n",
            "Ошибка на тренировке = -0.06759\n",
            "Выиграли очков = 17Проиграли очков =210\n",
            "\n",
            "Тренировка =27\n",
            "Время тренировки =187сек\n",
            "Ошибка на тренировке = -0.06519\n",
            "Выиграли очков = 27Проиграли очков =210\n",
            "\n",
            "Тренировка =28\n",
            "Время тренировки =189сек\n",
            "Ошибка на тренировке = -0.06727\n",
            "Выиграли очков = 28Проиграли очков =210\n",
            "\n",
            "Тренировка =29\n",
            "Время тренировки =200сек\n",
            "Ошибка на тренировке = -0.06915\n",
            "Выиграли очков = 23Проиграли очков =210\n",
            "\n",
            "Тренировка =30\n",
            "Время тренировки =200сек\n",
            "Ошибка на тренировке = -0.08248\n",
            "Выиграли очков = 26Проиграли очков =210\n",
            "\n",
            "Тренировка =31\n",
            "Время тренировки =213сек\n",
            "Ошибка на тренировке = -0.05838\n",
            "Выиграли очков = 33Проиграли очков =210\n",
            "\n",
            "Тренировка =32\n",
            "Время тренировки =208сек\n",
            "Ошибка на тренировке = -0.06045\n",
            "Выиграли очков = 30Проиграли очков =210\n",
            "\n",
            "Тренировка =33\n",
            "Время тренировки =196сек\n",
            "Ошибка на тренировке = -0.05475\n",
            "Выиграли очков = 31Проиграли очков =210\n",
            "\n",
            "Тренировка =34\n",
            "Время тренировки =177сек\n",
            "Ошибка на тренировке = -0.06372\n",
            "Выиграли очков = 23Проиграли очков =210\n",
            "\n",
            "Тренировка =35\n",
            "Время тренировки =214сек\n",
            "Ошибка на тренировке = -0.06704\n",
            "Выиграли очков = 35Проиграли очков =210\n",
            "\n",
            "Тренировка =36\n",
            "Время тренировки =215сек\n",
            "Ошибка на тренировке = -0.0693\n",
            "Выиграли очков = 34Проиграли очков =210\n",
            "\n",
            "Тренировка =37\n",
            "Время тренировки =210сек\n",
            "Ошибка на тренировке = -0.06666\n",
            "Выиграли очков = 29Проиграли очков =210\n",
            "\n",
            "Тренировка =38\n",
            "Время тренировки =206сек\n",
            "Ошибка на тренировке = -0.06189\n",
            "Выиграли очков = 14Проиграли очков =210\n",
            "\n",
            "Тренировка =39\n",
            "Время тренировки =219сек\n",
            "Ошибка на тренировке = -0.06731\n",
            "Выиграли очков = 28Проиграли очков =210\n",
            "\n",
            "Тренировка =40\n",
            "Время тренировки =227сек\n",
            "Ошибка на тренировке = -0.06472\n",
            "Выиграли очков = 27Проиграли очков =210\n",
            "\n",
            "Тренировка =41\n",
            "Время тренировки =202сек\n",
            "Ошибка на тренировке = -0.05187\n",
            "Выиграли очков = 34Проиграли очков =210\n",
            "\n",
            "Тренировка =42\n",
            "Время тренировки =199сек\n",
            "Ошибка на тренировке = -0.06399\n",
            "Выиграли очков = 30Проиграли очков =210\n",
            "\n",
            "Тренировка =43\n",
            "Время тренировки =212сек\n",
            "Ошибка на тренировке = -0.06753\n",
            "Выиграли очков = 26Проиграли очков =210\n",
            "\n",
            "Тренировка =44\n",
            "Время тренировки =225сек\n",
            "Ошибка на тренировке = -0.0611\n",
            "Выиграли очков = 38Проиграли очков =210\n",
            "\n",
            "Тренировка =45\n",
            "Время тренировки =201сек\n",
            "Ошибка на тренировке = -0.06489\n",
            "Выиграли очков = 23Проиграли очков =210\n",
            "\n",
            "Тренировка =46\n",
            "Время тренировки =242сек\n",
            "Ошибка на тренировке = -0.06236\n",
            "Выиграли очков = 41Проиграли очков =210\n",
            "\n",
            "Тренировка =47\n",
            "Время тренировки =213сек\n",
            "Ошибка на тренировке = -0.06833\n",
            "Выиграли очков = 20Проиграли очков =210\n",
            "\n",
            "Тренировка =48\n",
            "Время тренировки =233сек\n",
            "Ошибка на тренировке = -0.06271\n",
            "Выиграли очков = 36Проиграли очков =210\n",
            "\n",
            "Тренировка =49\n",
            "Время тренировки =261сек\n",
            "Ошибка на тренировке = -0.0686\n",
            "Выиграли очков = 43Проиграли очков =210\n",
            "\n",
            "Тренировка =50\n",
            "Время тренировки =241сек\n",
            "Ошибка на тренировке = -0.07137\n",
            "Выиграли очков = 34Проиграли очков =210\n",
            "\n",
            "Тренировка =51\n",
            "Время тренировки =223сек\n",
            "Ошибка на тренировке = -0.06897\n",
            "Выиграли очков = 38Проиграли очков =210\n",
            "\n",
            "Тренировка =52\n",
            "Время тренировки =274сек\n",
            "Ошибка на тренировке = -0.07352\n",
            "Выиграли очков = 39Проиграли очков =210\n",
            "\n",
            "Тренировка =53\n",
            "Время тренировки =250сек\n",
            "Ошибка на тренировке = -0.07778\n",
            "Выиграли очков = 40Проиграли очков =210\n",
            "\n",
            "Тренировка =54\n",
            "Время тренировки =244сек\n",
            "Ошибка на тренировке = -0.07239\n",
            "Выиграли очков = 39Проиграли очков =210\n",
            "\n",
            "Тренировка =55\n",
            "Время тренировки =227сек\n",
            "Ошибка на тренировке = -0.06826\n",
            "Выиграли очков = 49Проиграли очков =210\n",
            "\n",
            "Тренировка =56\n",
            "Время тренировки =242сек\n",
            "Ошибка на тренировке = -0.05429\n",
            "Выиграли очков = 33Проиграли очков =210\n",
            "\n",
            "Тренировка =57\n",
            "Время тренировки =219сек\n",
            "Ошибка на тренировке = -0.06822\n",
            "Выиграли очков = 22Проиграли очков =210\n",
            "\n",
            "Тренировка =58\n",
            "Время тренировки =242сек\n",
            "Ошибка на тренировке = -0.06778\n",
            "Выиграли очков = 20Проиграли очков =210\n",
            "\n",
            "Тренировка =59\n",
            "Время тренировки =284сек\n",
            "Ошибка на тренировке = -0.06842\n",
            "Выиграли очков = 39Проиграли очков =210\n",
            "\n",
            "Тренировка =60\n",
            "Время тренировки =291сек\n",
            "Ошибка на тренировке = -0.07544\n",
            "Выиграли очков = 55Проиграли очков =210\n",
            "\n",
            "Тренировка =61\n",
            "Время тренировки =246сек\n",
            "Ошибка на тренировке = -0.09426\n",
            "Выиграли очков = 28Проиграли очков =210\n",
            "\n",
            "Тренировка =62\n",
            "Время тренировки =265сек\n",
            "Ошибка на тренировке = -0.07934\n",
            "Выиграли очков = 38Проиграли очков =210\n",
            "\n",
            "Тренировка =63\n",
            "Время тренировки =234сек\n",
            "Ошибка на тренировке = -0.06677\n",
            "Выиграли очков = 28Проиграли очков =210\n",
            "\n",
            "Тренировка =64\n",
            "Время тренировки =241сек\n",
            "Ошибка на тренировке = -0.06488\n",
            "Выиграли очков = 31Проиграли очков =210\n",
            "\n",
            "Тренировка =65\n",
            "Время тренировки =240сек\n",
            "Ошибка на тренировке = -0.06581\n",
            "Выиграли очков = 32Проиграли очков =210\n",
            "\n",
            "Тренировка =66\n",
            "Время тренировки =203сек\n",
            "Ошибка на тренировке = -0.07571\n",
            "Выиграли очков = 29Проиграли очков =210\n",
            "\n",
            "Тренировка =67\n",
            "Время тренировки =206сек\n",
            "Ошибка на тренировке = -0.08403\n",
            "Выиграли очков = 28Проиграли очков =210\n",
            "\n",
            "Тренировка =68\n",
            "Время тренировки =218сек\n",
            "Ошибка на тренировке = -0.06538\n",
            "Выиграли очков = 43Проиграли очков =210\n",
            "\n",
            "Тренировка =69\n",
            "Время тренировки =215сек\n",
            "Ошибка на тренировке = -0.06498\n",
            "Выиграли очков = 42Проиграли очков =210\n",
            "\n",
            "Тренировка =70\n",
            "Время тренировки =220сек\n",
            "Ошибка на тренировке = -0.06876\n",
            "Выиграли очков = 29Проиграли очков =210\n",
            "\n",
            "Тренировка =71\n",
            "Время тренировки =229сек\n",
            "Ошибка на тренировке = -0.06852\n",
            "Выиграли очков = 37Проиграли очков =210\n",
            "\n",
            "Тренировка =72\n",
            "Время тренировки =198сек\n",
            "Ошибка на тренировке = -0.06164\n",
            "Выиграли очков = 24Проиграли очков =210\n",
            "\n",
            "Тренировка =73\n",
            "Время тренировки =195сек\n",
            "Ошибка на тренировке = -0.0671\n",
            "Выиграли очков = 27Проиграли очков =210\n",
            "\n",
            "Тренировка =74\n",
            "Время тренировки =202сек\n",
            "Ошибка на тренировке = -0.07535\n",
            "Выиграли очков = 31Проиграли очков =210\n",
            "\n",
            "Тренировка =75\n",
            "Время тренировки =227сек\n",
            "Ошибка на тренировке = -0.0715\n",
            "Выиграли очков = 48Проиграли очков =210\n",
            "\n",
            "Тренировка =76\n",
            "Время тренировки =210сек\n",
            "Ошибка на тренировке = -0.06887\n",
            "Выиграли очков = 44Проиграли очков =210\n",
            "\n",
            "Тренировка =77\n",
            "Время тренировки =179сек\n",
            "Ошибка на тренировке = -0.07445\n",
            "Выиграли очков = 23Проиграли очков =210\n",
            "\n",
            "Тренировка =78\n",
            "Время тренировки =198сек\n",
            "Ошибка на тренировке = -0.06399\n",
            "Выиграли очков = 33Проиграли очков =210\n",
            "\n",
            "Тренировка =79\n",
            "Время тренировки =242сек\n",
            "Ошибка на тренировке = -0.10081\n",
            "Выиграли очков = 34Проиграли очков =210\n",
            "\n",
            "Тренировка =80\n",
            "Время тренировки =268сек\n",
            "Ошибка на тренировке = -0.08142\n",
            "Выиграли очков = 42Проиграли очков =210\n",
            "\n",
            "Тренировка =81\n",
            "Время тренировки =207сек\n",
            "Ошибка на тренировке = -0.06993\n",
            "Выиграли очков = 33Проиграли очков =210\n",
            "\n",
            "Тренировка =82\n",
            "Время тренировки =276сек\n",
            "Ошибка на тренировке = -0.06921\n",
            "Выиграли очков = 47Проиграли очков =210\n",
            "\n",
            "Тренировка =83\n",
            "Время тренировки =261сек\n",
            "Ошибка на тренировке = -0.06469\n",
            "Выиграли очков = 44Проиграли очков =210\n",
            "\n",
            "Тренировка =84\n",
            "Время тренировки =227сек\n",
            "Ошибка на тренировке = -0.06278\n",
            "Выиграли очков = 36Проиграли очков =210\n",
            "\n",
            "Тренировка =85\n",
            "Время тренировки =241сек\n",
            "Ошибка на тренировке = -0.0723\n",
            "Выиграли очков = 35Проиграли очков =210\n",
            "\n",
            "Тренировка =86\n",
            "Время тренировки =220сек\n",
            "Ошибка на тренировке = -0.07267\n",
            "Выиграли очков = 39Проиграли очков =210\n",
            "\n",
            "Тренировка =87\n",
            "Время тренировки =235сек\n",
            "Ошибка на тренировке = -0.06633\n",
            "Выиграли очков = 36Проиграли очков =210\n",
            "\n",
            "Тренировка =88\n",
            "Время тренировки =220сек\n",
            "Ошибка на тренировке = -0.06728\n",
            "Выиграли очков = 33Проиграли очков =210\n",
            "\n",
            "Тренировка =89\n",
            "Время тренировки =246сек\n",
            "Ошибка на тренировке = -0.06191\n",
            "Выиграли очков = 30Проиграли очков =210\n",
            "\n",
            "Тренировка =90\n",
            "Время тренировки =247сек\n",
            "Ошибка на тренировке = -0.07187\n",
            "Выиграли очков = 32Проиграли очков =210\n",
            "\n",
            "Тренировка =91\n",
            "Время тренировки =174сек\n",
            "Ошибка на тренировке = -0.07999\n",
            "Выиграли очков = 13Проиграли очков =210\n",
            "\n",
            "Тренировка =92\n",
            "Время тренировки =257сек\n",
            "Ошибка на тренировке = -0.0791\n",
            "Выиграли очков = 24Проиграли очков =210\n",
            "\n",
            "Тренировка =93\n",
            "Время тренировки =231сек\n",
            "Ошибка на тренировке = -0.0821\n",
            "Выиграли очков = 43Проиграли очков =210\n",
            "\n",
            "Тренировка =94\n",
            "Время тренировки =246сек\n",
            "Ошибка на тренировке = -0.09621\n",
            "Выиграли очков = 51Проиграли очков =210\n",
            "\n",
            "Тренировка =95\n",
            "Время тренировки =212сек\n",
            "Ошибка на тренировке = -0.09973\n",
            "Выиграли очков = 53Проиграли очков =210\n",
            "\n",
            "Тренировка =96\n",
            "Время тренировки =225сек\n",
            "Ошибка на тренировке = -0.07016\n",
            "Выиграли очков = 41Проиграли очков =210\n",
            "\n",
            "Тренировка =97\n",
            "Время тренировки =240сек\n",
            "Ошибка на тренировке = -0.07131\n",
            "Выиграли очков = 36Проиграли очков =210\n",
            "\n",
            "Тренировка =98\n",
            "Время тренировки =241сек\n",
            "Ошибка на тренировке = -0.07086\n",
            "Выиграли очков = 38Проиграли очков =210\n",
            "\n",
            "Тренировка =99\n",
            "Время тренировки =207сек\n",
            "Ошибка на тренировке = -0.07454\n",
            "Выиграли очков = 30Проиграли очков =210\n",
            "\n",
            "Тренировка =100\n",
            "Время тренировки =227сек\n",
            "Ошибка на тренировке = -0.07134\n",
            "Выиграли очков = 36Проиграли очков =210\n",
            "\n",
            "Тренировка =101\n",
            "Время тренировки =233сек\n",
            "Ошибка на тренировке = -0.07417\n",
            "Выиграли очков = 36Проиграли очков =210\n",
            "\n",
            "Тренировка =102\n",
            "Время тренировки =238сек\n",
            "Ошибка на тренировке = -0.07529\n",
            "Выиграли очков = 33Проиграли очков =210\n",
            "\n",
            "Тренировка =103\n",
            "Время тренировки =236сек\n",
            "Ошибка на тренировке = -0.07833\n",
            "Выиграли очков = 29Проиграли очков =210\n",
            "\n",
            "Тренировка =104\n",
            "Время тренировки =245сек\n",
            "Ошибка на тренировке = -0.08942\n",
            "Выиграли очков = 37Проиграли очков =210\n",
            "\n",
            "Тренировка =105\n",
            "Время тренировки =262сек\n",
            "Ошибка на тренировке = -0.07692\n",
            "Выиграли очков = 30Проиграли очков =210\n",
            "\n",
            "Тренировка =106\n",
            "Время тренировки =266сек\n",
            "Ошибка на тренировке = -0.09629\n",
            "Выиграли очков = 45Проиграли очков =210\n",
            "\n",
            "Тренировка =107\n",
            "Время тренировки =239сек\n",
            "Ошибка на тренировке = -0.10135\n",
            "Выиграли очков = 53Проиграли очков =210\n",
            "\n",
            "Тренировка =108\n",
            "Время тренировки =238сек\n",
            "Ошибка на тренировке = -0.08267\n",
            "Выиграли очков = 33Проиграли очков =210\n",
            "\n",
            "Тренировка =109\n",
            "Время тренировки =229сек\n",
            "Ошибка на тренировке = -0.09007\n",
            "Выиграли очков = 44Проиграли очков =210\n",
            "\n",
            "Тренировка =110\n",
            "Время тренировки =252сек\n",
            "Ошибка на тренировке = -0.06871\n",
            "Выиграли очков = 43Проиграли очков =210\n",
            "\n",
            "Тренировка =111\n",
            "Время тренировки =235сек\n",
            "Ошибка на тренировке = -0.1074\n",
            "Выиграли очков = 35Проиграли очков =210\n",
            "\n",
            "Тренировка =112\n",
            "Время тренировки =259сек\n",
            "Ошибка на тренировке = -0.11537\n",
            "Выиграли очков = 51Проиграли очков =210\n",
            "\n",
            "Тренировка =113\n",
            "Время тренировки =223сек\n",
            "Ошибка на тренировке = -0.08312\n",
            "Выиграли очков = 49Проиграли очков =210\n",
            "\n",
            "Тренировка =114\n",
            "Время тренировки =237сек\n",
            "Ошибка на тренировке = -0.08223\n",
            "Выиграли очков = 46Проиграли очков =210\n",
            "\n",
            "Тренировка =115\n",
            "Время тренировки =285сек\n",
            "Ошибка на тренировке = -0.08734\n",
            "Выиграли очков = 63Проиграли очков =210\n",
            "\n",
            "Тренировка =116\n",
            "Время тренировки =228сек\n",
            "Ошибка на тренировке = -0.09721\n",
            "Выиграли очков = 53Проиграли очков =210\n",
            "\n",
            "Тренировка =117\n",
            "Время тренировки =210сек\n",
            "Ошибка на тренировке = -0.10535\n",
            "Выиграли очков = 39Проиграли очков =210\n",
            "\n",
            "Тренировка =118\n",
            "Время тренировки =253сек\n",
            "Ошибка на тренировке = -0.08071\n",
            "Выиграли очков = 30Проиграли очков =210\n",
            "\n",
            "Тренировка =119\n",
            "Время тренировки =237сек\n",
            "Ошибка на тренировке = -0.08872\n",
            "Выиграли очков = 46Проиграли очков =210\n",
            "\n",
            "Тренировка =120\n",
            "Время тренировки =271сек\n",
            "Ошибка на тренировке = -0.10848\n",
            "Выиграли очков = 67Проиграли очков =210\n",
            "\n",
            "Тренировка =121\n",
            "Время тренировки =230сек\n",
            "Ошибка на тренировке = -0.06558\n",
            "Выиграли очков = 41Проиграли очков =210\n",
            "\n"
          ]
        }
      ]
    }
  ]
}