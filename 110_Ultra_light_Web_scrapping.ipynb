{
  "nbformat": 4,
  "nbformat_minor": 0,
  "metadata": {
    "colab": {
      "provenance": [],
      "include_colab_link": true
    },
    "kernelspec": {
      "name": "python2",
      "display_name": "Python 2"
    }
  },
  "cells": [
    {
      "cell_type": "markdown",
      "metadata": {
        "id": "view-in-github",
        "colab_type": "text"
      },
      "source": [
        "<a href=\"https://colab.research.google.com/github/10100111/Display-of-HW1/blob/main/110_Ultra_light_Web_scrapping.ipynb\" target=\"_parent\"><img src=\"https://colab.research.google.com/assets/colab-badge.svg\" alt=\"Open In Colab\"/></a>"
      ]
    },
    {
      "cell_type": "markdown",
      "source": [
        "Задание Ultra Lite\n",
        "\n",
        "Используя пример с урока и описание API https://en.wikipedia.org/w/api.php\n",
        "\n",
        "    а) добавьте в ответ текущий timestamp\n",
        "\n",
        "    б) измените формат ответа на xml\n",
        "\n",
        "    в) Выведите количество слов в документе (wordcount)\n",
        "\n",
        "\n",
        " Разбор: https://colab.research.google.com/drive/1BtmLbJQ6bO7H4JZJ3N9B7Cd0Sld6TIAR?usp=sharing"
      ],
      "metadata": {
        "id": "mLCT6FLPj5LO"
      }
    },
    {
      "cell_type": "markdown",
      "metadata": {
        "id": "aYzXlLKcpn0k"
      },
      "source": [
        "## Используем API для получения данных из Wikipedia"
      ]
    },
    {
      "cell_type": "code",
      "source": [
        "import requests\n",
        "# format=xml\n",
        "# curtimestamp=1\n",
        "# srprop=wordcount\n",
        "endpoint = \"https://en.wikipedia.org/w/api.php\"\n",
        "action = \"?action=query&format=xml&curtimestamp=1&srprop=wordcount&generator=search&gsrsearch=\"\n",
        "criterion = 'Tramp'\n",
        "\n",
        "res = requests.get(endpoint+action+criterion)\n",
        "res.text # вывод ответа в виде текста"
      ],
      "metadata": {
        "colab": {
          "base_uri": "https://localhost:8080/",
          "height": 122
        },
        "id": "mv6yLXKLkENB",
        "outputId": "36ae0ef3-4c85-41b0-a013-c7c7e068f2a8"
      },
      "execution_count": null,
      "outputs": [
        {
          "output_type": "execute_result",
          "data": {
            "text/plain": [
              "'<?xml version=\"1.0\"?><api batchcomplete=\"\" curtimestamp=\"2023-07-19T10:00:05Z\"><warnings><main xml:space=\"preserve\">Unrecognized parameter: srprop.</main></warnings><continue gsroffset=\"10\" continue=\"gsroffset||\" /><query><pages><page _idx=\"286828\" pageid=\"286828\" ns=\"0\" title=\"Lady and the Tramp\" index=\"4\" /><page _idx=\"58004588\" pageid=\"58004588\" ns=\"0\" title=\"Lady and the Tramp (2019 film)\" index=\"9\" /><page _idx=\"2991246\" pageid=\"2991246\" ns=\"0\" title=\"Mike Tramp\" index=\"10\" /><page _idx=\"338289\" pageid=\"338289\" ns=\"0\" title=\"The Tramp\" index=\"2\" /><page _idx=\"63687\" pageid=\"63687\" ns=\"0\" title=\"Tramp\" index=\"1\" /><page _idx=\"19063555\" pageid=\"19063555\" ns=\"0\" title=\"Tramp! Tramp! Tramp!\" index=\"3\" /><page _idx=\"11407598\" pageid=\"11407598\" ns=\"0\" title=\"Tramp, Tramp, Tramp\" index=\"5\" /><page _idx=\"69700449\" pageid=\"69700449\" ns=\"0\" title=\"Tramp, Tramp, Tramp (1942 film)\" index=\"7\" /><page _idx=\"1132522\" pageid=\"1132522\" ns=\"0\" title=\"Tramp trade\" index=\"8\" /><page _idx=\"41500029\" pageid=\"41500029\" ns=\"0\" title=\"Tramping\" index=\"6\" /></pages></query></api>'"
            ],
            "application/vnd.google.colaboratory.intrinsic+json": {
              "type": "string"
            }
          },
          "metadata": {},
          "execution_count": 5
        }
      ]
    },
    {
      "cell_type": "markdown",
      "source": [
        "Ответы найдены по ссылке https://www.mediawiki.org/wiki/API:Search"
      ],
      "metadata": {
        "id": "3_rhYRr8mdPc"
      }
    },
    {
      "cell_type": "code",
      "source": [],
      "metadata": {
        "id": "QL6wlK_dmgb1"
      },
      "execution_count": null,
      "outputs": []
    }
  ]
}