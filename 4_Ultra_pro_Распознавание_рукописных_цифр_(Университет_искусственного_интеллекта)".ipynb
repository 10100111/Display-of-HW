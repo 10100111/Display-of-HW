{
  "nbformat": 4,
  "nbformat_minor": 0,
  "metadata": {
    "colab": {
      "name": "4.Ultra pro. Распознавание рукописных цифр (Университет искусственного интеллекта)\"",
      "provenance": [],
      "collapsed_sections": [
        "jjqH_JaURnnK",
        "c4pg0HUQCdFk",
        "MMkWv4VhC2ti",
        "iD7hR5hXNLUe",
        "rrWmNM6jKBrc",
        "rstrtRs2O1so",
        "5BUXluCMWpMB",
        "dntk9WK6TbA-",
        "6tP0Iq2NX9qK",
        "c3-PovDMb2TU",
        "n3UgLD14-l72",
        "qLX9aj3eFCPB",
        "Pa2_uq889QCz"
      ],
      "include_colab_link": true
    },
    "kernelspec": {
      "name": "python3",
      "display_name": "Python 3"
    },
    "accelerator": "GPU"
  },
  "cells": [
    {
      "cell_type": "markdown",
      "metadata": {
        "id": "view-in-github",
        "colab_type": "text"
      },
      "source": [
        "<a href=\"https://colab.research.google.com/github/10100111/Display-of-HW1/blob/main/4_Ultra_pro_%D0%A0%D0%B0%D1%81%D0%BF%D0%BE%D0%B7%D0%BD%D0%B0%D0%B2%D0%B0%D0%BD%D0%B8%D0%B5_%D1%80%D1%83%D0%BA%D0%BE%D0%BF%D0%B8%D1%81%D0%BD%D1%8B%D1%85_%D1%86%D0%B8%D1%84%D1%80_(%D0%A3%D0%BD%D0%B8%D0%B2%D0%B5%D1%80%D1%81%D0%B8%D1%82%D0%B5%D1%82_%D0%B8%D1%81%D0%BA%D1%83%D1%81%D1%81%D1%82%D0%B2%D0%B5%D0%BD%D0%BD%D0%BE%D0%B3%D0%BE_%D0%B8%D0%BD%D1%82%D0%B5%D0%BB%D0%BB%D0%B5%D0%BA%D1%82%D0%B0)%22.ipynb\" target=\"_parent\"><img src=\"https://colab.research.google.com/assets/colab-badge.svg\" alt=\"Open In Colab\"/></a>"
      ]
    },
    {
      "cell_type": "markdown",
      "metadata": {
        "id": "Z4M2Jz0wo6sT"
      },
      "source": [
        "Задание Ultra pro\n",
        "Распознайте рукописную цифру, написанную на листе от руки.\n",
        "\n",
        "Последовательность шагов:\n",
        "1. На бумаге рисуем произвольную цифру (желательно нарисовать цифру размером не более 5 * 5 мм и без наклона. В занятии нейронка обучалась на цифрах американских студентов. Эти цифры были написаны на тетрадных листах в клетку и имели схожий размер)\n",
        "2. Фотографируем\n",
        "3. Загружаем фото в Colaboratory.\n",
        "4. С помощью функции image.load_img(path, target_size=(28, 28), color_mode = ‘grayscale’) загружаем картинку в переменную.\n",
        "5. С помощью функции image.img_to_array(img) преобразуем изображение в numpy-массив.\n",
        "6. Выполняем инверсию цветов, нормирование и решейп массива.\n",
        "7. Выполняем распознавание собственной рукописной цифры."
      ]
    },
    {
      "cell_type": "code",
      "metadata": {
        "colab": {
          "base_uri": "https://localhost:8080/"
        },
        "id": "yBWGKtEztnQp",
        "outputId": "54e47382-5623-401c-b2b6-44ccb1209a34"
      },
      "source": [
        "from google.colab import drive\n",
        "drive.mount('/content/drive')"
      ],
      "execution_count": null,
      "outputs": [
        {
          "output_type": "stream",
          "name": "stdout",
          "text": [
            "Mounted at /content/drive\n"
          ]
        }
      ]
    },
    {
      "cell_type": "code",
      "metadata": {
        "id": "hI0_IsdX3691"
      },
      "source": [
        "# Импорт библиотек\n",
        "from tensorflow.keras.datasets import mnist\n",
        "from tensorflow.keras.models import Sequential\n",
        "from tensorflow.keras.layers import Dense\n",
        "from tensorflow.keras.optimizers import Adam\n",
        "from tensorflow.keras import utils\n",
        "from tensorflow.keras.preprocessing import image\n",
        "import numpy as np\n",
        "import pylab\n",
        "from mpl_toolkits.mplot3d import Axes3D\n",
        "import matplotlib.pyplot as plt\n",
        "from PIL import Image\n",
        "%matplotlib inline"
      ],
      "execution_count": null,
      "outputs": []
    },
    {
      "cell_type": "code",
      "metadata": {
        "colab": {
          "base_uri": "https://localhost:8080/"
        },
        "id": "zC0cSArYwUUI",
        "outputId": "a756b4f0-13e8-4a6b-a3cc-fba5881dd953"
      },
      "source": [
        "# С помощью функции image.load_img(path, target_size=(28, 28), color_mode = ‘grayscale’) загружаем картинку в переменную.\n",
        "path = '8.png'\n",
        "img = image.load_img(path, target_size=(28, 28), color_mode = 'grayscale')\n",
        "\n",
        "import PIL.ImageOps    \n",
        "img = PIL.ImageOps.invert(img)\n",
        "img.save('8_new.png')\n",
        "\n",
        "from PIL import  ImageEnhance \n",
        "enhancer = ImageEnhance.Contrast(img) \n",
        "factor = 30 \n",
        "img = enhancer.enhance(factor) \n",
        "img.save('8_sharpened-image.png')\n",
        "\n",
        "# С помощью функции image.img_to_array(img) преобразуем изображение в numpy-массив.\n",
        "img = image.img_to_array(img)\n",
        "# Выполняем инверсию цветов, нормирование и решейп массива.\n",
        "img = img.reshape(1,784)\n",
        "print(img.shape)\n",
        "img = img.astype('float32')\n",
        "img = img/255"
      ],
      "execution_count": null,
      "outputs": [
        {
          "output_type": "stream",
          "name": "stdout",
          "text": [
            "(1, 784)\n"
          ]
        }
      ]
    },
    {
      "cell_type": "code",
      "metadata": {
        "id": "jpfvZWJqgXQq"
      },
      "source": [
        "# Загрузка базы mnist\n",
        "(x_train_org, y_train_org), (x_test_org, y_test_org) = mnist.load_data()"
      ],
      "execution_count": null,
      "outputs": []
    },
    {
      "cell_type": "code",
      "metadata": {
        "id": "Wq2nCNw5gnWi"
      },
      "source": [
        "# 3. Нормирование и преобразование x_train и y_train.\n",
        "x_train = x_train_org.reshape(60000, 784)\n",
        "x_test = x_test_org.reshape(10000, 784)\n",
        "x_train = x_train.astype('float32')\n",
        "x_train = x_train/255\n",
        "x_test = x_test.astype('float32')\n",
        "x_test = x_test/255\n",
        "y_train = utils.to_categorical(y_train_org,10)\n",
        "Y_test = utils.to_categorical(y_test_org,10)\n",
        "# Преобразуем ответы в формат one_hot_encoding\n",
        "y_train = utils.to_categorical(y_train_org, 10)\n",
        "y_test = utils.to_categorical(y_test_org, 10)"
      ],
      "execution_count": null,
      "outputs": []
    },
    {
      "cell_type": "code",
      "metadata": {
        "colab": {
          "base_uri": "https://localhost:8080/"
        },
        "id": "Mh9SmfH_leXp",
        "outputId": "10a5780d-7484-4133-bf82-819ef3445d14"
      },
      "source": [
        "# Создание нейронной сети\n",
        "model = Sequential()\n",
        "model.add(Dense(800, input_dim = 784, activation = 'relu'))\n",
        "model.add(Dense(400, activation = 'relu'))\n",
        "model.add(Dense(10, activation = 'softmax'))\n",
        "\n",
        "model.compile(loss = 'categorical_crossentropy', optimizer = 'adam', metrics = 'accuracy')\n",
        "print(model.summary())"
      ],
      "execution_count": null,
      "outputs": [
        {
          "output_type": "stream",
          "name": "stdout",
          "text": [
            "Model: \"sequential_6\"\n",
            "_________________________________________________________________\n",
            "Layer (type)                 Output Shape              Param #   \n",
            "=================================================================\n",
            "dense_18 (Dense)             (None, 800)               628000    \n",
            "_________________________________________________________________\n",
            "dense_19 (Dense)             (None, 400)               320400    \n",
            "_________________________________________________________________\n",
            "dense_20 (Dense)             (None, 10)                4010      \n",
            "=================================================================\n",
            "Total params: 952,410\n",
            "Trainable params: 952,410\n",
            "Non-trainable params: 0\n",
            "_________________________________________________________________\n",
            "None\n"
          ]
        }
      ]
    },
    {
      "cell_type": "code",
      "metadata": {
        "colab": {
          "base_uri": "https://localhost:8080/"
        },
        "id": "07jnuuLgm7u-",
        "outputId": "3fd1d438-d529-45f5-a935-567852956beb"
      },
      "source": [
        "# Обучение нейронной сети.\n",
        "model.fit(x_train, y_train, batch_size = 128, epochs = 15, verbose = 1)\n"
      ],
      "execution_count": null,
      "outputs": [
        {
          "output_type": "stream",
          "name": "stdout",
          "text": [
            "Epoch 1/15\n",
            "469/469 [==============================] - 8s 16ms/step - loss: 0.2063 - accuracy: 0.9380\n",
            "Epoch 2/15\n",
            "469/469 [==============================] - 7s 15ms/step - loss: 0.0766 - accuracy: 0.9763\n",
            "Epoch 3/15\n",
            "469/469 [==============================] - 7s 15ms/step - loss: 0.0474 - accuracy: 0.9847\n",
            "Epoch 4/15\n",
            "469/469 [==============================] - 7s 15ms/step - loss: 0.0337 - accuracy: 0.9893\n",
            "Epoch 5/15\n",
            "469/469 [==============================] - 7s 16ms/step - loss: 0.0276 - accuracy: 0.9909\n",
            "Epoch 6/15\n",
            "469/469 [==============================] - 7s 16ms/step - loss: 0.0195 - accuracy: 0.9934\n",
            "Epoch 7/15\n",
            "469/469 [==============================] - 8s 16ms/step - loss: 0.0186 - accuracy: 0.9934\n",
            "Epoch 8/15\n",
            "469/469 [==============================] - 7s 16ms/step - loss: 0.0140 - accuracy: 0.9951\n",
            "Epoch 9/15\n",
            "469/469 [==============================] - 7s 16ms/step - loss: 0.0159 - accuracy: 0.9948\n",
            "Epoch 10/15\n",
            "469/469 [==============================] - 7s 16ms/step - loss: 0.0144 - accuracy: 0.9957\n",
            "Epoch 11/15\n",
            "469/469 [==============================] - 7s 16ms/step - loss: 0.0104 - accuracy: 0.9966\n",
            "Epoch 12/15\n",
            "469/469 [==============================] - 7s 16ms/step - loss: 0.0113 - accuracy: 0.9961\n",
            "Epoch 13/15\n",
            "469/469 [==============================] - 7s 16ms/step - loss: 0.0094 - accuracy: 0.9969\n",
            "Epoch 14/15\n",
            "469/469 [==============================] - 7s 16ms/step - loss: 0.0099 - accuracy: 0.9968\n",
            "Epoch 15/15\n",
            "469/469 [==============================] - 7s 15ms/step - loss: 0.0096 - accuracy: 0.9968\n"
          ]
        },
        {
          "output_type": "execute_result",
          "data": {
            "text/plain": [
              "<keras.callbacks.History at 0x7f263e414890>"
            ]
          },
          "metadata": {},
          "execution_count": 206
        }
      ]
    },
    {
      "cell_type": "code",
      "metadata": {
        "colab": {
          "base_uri": "https://localhost:8080/",
          "height": 45
        },
        "id": "Yt0RagQR6Skg",
        "outputId": "d94f56f2-7a70-481a-d00f-72b49ee5372e"
      },
      "source": [
        "from IPython.display import Image\n",
        "Image('8_sharpened-image.png')\n"
      ],
      "execution_count": null,
      "outputs": [
        {
          "output_type": "execute_result",
          "data": {
            "image/png": "[encoded data removed]",
            "text/plain": [
              "<IPython.core.display.Image object>"
            ]
          },
          "metadata": {},
          "execution_count": 274
        }
      ]
    },
    {
      "cell_type": "code",
      "metadata": {
        "id": "i9Dp7P_d5WcO"
      },
      "source": [
        "prediction = model.predict(img) #Распознаём наш пример"
      ],
      "execution_count": null,
      "outputs": []
    },
    {
      "cell_type": "code",
      "metadata": {
        "colab": {
          "base_uri": "https://localhost:8080/"
        },
        "id": "3KA5MqnA5b4E",
        "outputId": "c5940c9f-543b-4ef6-f8e7-9ef26714f66b"
      },
      "source": [
        "print(prediction) #Выводим результат, это 10 цифр"
      ],
      "execution_count": null,
      "outputs": [
        {
          "output_type": "stream",
          "name": "stdout",
          "text": [
            "[[6.0358694e-14 2.4028436e-06 3.1354236e-06 8.0950048e-07 3.2055010e-12\n",
            "  2.2091037e-11 7.1553492e-12 1.6069436e-08 9.9999368e-01 8.0529888e-12]]\n"
          ]
        }
      ]
    },
    {
      "cell_type": "code",
      "metadata": {
        "colab": {
          "base_uri": "https://localhost:8080/"
        },
        "id": "10rHdiRk5nC6",
        "outputId": "872429e7-a0b3-4664-fa92-0be1f72549d7"
      },
      "source": [
        "sum(prediction[0])"
      ],
      "execution_count": null,
      "outputs": [
        {
          "output_type": "execute_result",
          "data": {
            "text/plain": [
              "1.0000000457853917"
            ]
          },
          "metadata": {},
          "execution_count": 277
        }
      ]
    },
    {
      "cell_type": "code",
      "metadata": {
        "colab": {
          "base_uri": "https://localhost:8080/"
        },
        "id": "IYDTo45k5utV",
        "outputId": "1363d20e-e930-4d1b-ba54-ff2a793de8bd"
      },
      "source": [
        "pred=np.argmax(prediction) # Получаем индекс самого большого элемента (это итоговая цифра, которую распознала сеть)\n",
        "print(pred)"
      ],
      "execution_count": null,
      "outputs": [
        {
          "output_type": "stream",
          "name": "stdout",
          "text": [
            "8\n"
          ]
        }
      ]
    }
  ]
}